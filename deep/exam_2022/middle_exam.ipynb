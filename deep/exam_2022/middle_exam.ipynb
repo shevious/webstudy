{
 "cells": [
  {
   "cell_type": "code",
   "execution_count": 37,
   "id": "edfbe1bc",
   "metadata": {},
   "outputs": [
    {
     "name": "stdout",
     "output_type": "stream",
     "text": [
      "8.0\n"
     ]
    }
   ],
   "source": [
    "import numpy as np\n",
    "a = np.array( [\n",
    "   [ 0.0, 2.0 ],\n",
    "   [ 1.0, 3.0 ]\n",
    "] )\n",
    "b = a*2.0\n",
    "b[ : , -1: ] *= 2.0\n",
    "print( b[0,1] ) "
   ]
  },
  {
   "cell_type": "code",
   "execution_count": 31,
   "id": "7a7809cf",
   "metadata": {},
   "outputs": [],
   "source": [
    "import tensorflow as tf\n",
    "from tensorflow.keras.layers import Input, Conv2D, MaxPool2D, Dense, Flatten\n",
    "from tensorflow.keras.models import Model"
   ]
  },
  {
   "cell_type": "code",
   "execution_count": 35,
   "id": "cba6c721",
   "metadata": {},
   "outputs": [
    {
     "name": "stdout",
     "output_type": "stream",
     "text": [
      "(None, 5, 5, 4)\n",
      "(None, 3, 3, 6)\n"
     ]
    }
   ],
   "source": [
    "inputs = Input((12,12,3))\n",
    "x = Conv2D(4, (3,3), padding='valid')(inputs)\n",
    "x = MaxPool2D((2,2))(x)\n",
    "print(x.shape)\n",
    "x = Conv2D(6, (3,3), padding='valid')(x)\n",
    "print(x.shape)\n",
    "x = Flatten()(x)\n",
    "x = Dense(10)(x)\n",
    "outputs = x\n",
    "model = Model(inputs, outputs)"
   ]
  },
  {
   "cell_type": "code",
   "execution_count": 36,
   "id": "0e21c1a4",
   "metadata": {},
   "outputs": [
    {
     "name": "stdout",
     "output_type": "stream",
     "text": [
      "Model: \"model_12\"\n",
      "_________________________________________________________________\n",
      "Layer (type)                 Output Shape              Param #   \n",
      "=================================================================\n",
      "input_20 (InputLayer)        [(None, 12, 12, 3)]       0         \n",
      "_________________________________________________________________\n",
      "conv2d_24 (Conv2D)           (None, 10, 10, 4)         112       \n",
      "_________________________________________________________________\n",
      "max_pooling2d_8 (MaxPooling2 (None, 5, 5, 4)           0         \n",
      "_________________________________________________________________\n",
      "conv2d_25 (Conv2D)           (None, 3, 3, 6)           222       \n",
      "_________________________________________________________________\n",
      "flatten_2 (Flatten)          (None, 54)                0         \n",
      "_________________________________________________________________\n",
      "dense_2 (Dense)              (None, 10)                550       \n",
      "=================================================================\n",
      "Total params: 884\n",
      "Trainable params: 884\n",
      "Non-trainable params: 0\n",
      "_________________________________________________________________\n"
     ]
    }
   ],
   "source": [
    "model.summary()"
   ]
  },
  {
   "cell_type": "code",
   "execution_count": 19,
   "id": "f79ac9a1",
   "metadata": {},
   "outputs": [
    {
     "data": {
      "text/plain": [
       "112"
      ]
     },
     "execution_count": 19,
     "metadata": {},
     "output_type": "execute_result"
    }
   ],
   "source": [
    "3*3*3*4 + 4"
   ]
  },
  {
   "cell_type": "code",
   "execution_count": null,
   "id": "badb50f4",
   "metadata": {},
   "outputs": [],
   "source": []
  }
 ],
 "metadata": {
  "kernelspec": {
   "display_name": "Python 3 (ipykernel)",
   "language": "python",
   "name": "python3"
  },
  "language_info": {
   "codemirror_mode": {
    "name": "ipython",
    "version": 3
   },
   "file_extension": ".py",
   "mimetype": "text/x-python",
   "name": "python",
   "nbconvert_exporter": "python",
   "pygments_lexer": "ipython3",
   "version": "3.8.9"
  }
 },
 "nbformat": 4,
 "nbformat_minor": 5
}
