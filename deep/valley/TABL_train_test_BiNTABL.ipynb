{
 "cells": [
  {
   "cell_type": "markdown",
   "metadata": {},
   "source": [
    "### Original source  \n",
    "https://github.com/LeonardoBerti00/TABL-Temporal-Attention-Augmented-Bilinear-Network-for-Financial-Time-Series-Data-Analysis"
   ]
  },
  {
   "cell_type": "markdown",
   "metadata": {
    "id": "P-PVsZeWjCiw"
   },
   "source": [
    "### **TABL**"
   ]
  },
  {
   "cell_type": "code",
   "execution_count": 14,
   "metadata": {
    "id": "AVPONVeVw0nh"
   },
   "outputs": [],
   "source": [
    "# load packages\n",
    "\n",
    "import numpy as np\n",
    "import matplotlib.pyplot as plt\n",
    "from datetime import datetime\n",
    "from tqdm import tqdm \n",
    "from sklearn.metrics import accuracy_score, classification_report, confusion_matrix, ConfusionMatrixDisplay\n",
    "import torch\n",
    "from torch.utils import data\n",
    "import torch.nn as nn\n",
    "import torch.optim as optim\n",
    "\n",
    "device = torch.device(\"cuda:0\" if torch.cuda.is_available() else \"cpu\")\n"
   ]
  },
  {
   "cell_type": "markdown",
   "metadata": {
    "id": "aNdy1u5zjMaw"
   },
   "source": [
    "### **Data**\n",
    "The dataset in the folder Dataset is the FI-2010 dataset zipped and normalized. \n",
    "\n",
    "As in the original paper I used the firs 7 days to train and to validate, and the rest 3 days to do the the testing. "
   ]
  },
  {
   "cell_type": "code",
   "execution_count": 31,
   "metadata": {
    "id": "ls5u0jngxkjl"
   },
   "outputs": [],
   "source": [
    "# please change the data_path to your local path and download the files you need from the web site of the dataset\n",
    "\n",
    "#dec_data = np.loadtxt('data/FI-2010/BenchmarkDatasets/NoAuction/1.NoAuction_Zscore/NoAuction_Zscore_Training/Train_Dst_NoAuction_ZScore_CF_7.txt')\n",
    "#dec_data = np.loadtxt('data/FI-2010/BenchmarkDatasets/NoAuction/1.NoAuction_Zscore/NoAuction_Zscore_Training/Train_Dst_NoAuction_ZScore_CF_7.txt')\n",
    "dec_data = np.loadtxt('data/FI-2010/BenchmarkDatasets/Auction/1.Auction_Zscore/Auction_Zscore_Training/Train_Dst_Auction_ZScore_CF_7.txt')\n",
    "dec_train = dec_data[:, :int(dec_data.shape[1] * 0.8)]\n",
    "dec_val = dec_data[:, int(dec_data.shape[1] * 0.8):]\n",
    "\n",
    "#dec_test1 = np.loadtxt('data/FI-2010/BenchmarkDatasets/NoAuction/1.NoAuction_Zscore/NoAuction_Zscore_Testing/Test_Dst_NoAuction_ZScore_CF_7.txt')\n",
    "#dec_test2 = np.loadtxt('data/FI-2010/BenchmarkDatasets/NoAuction/1.NoAuction_Zscore/NoAuction_Zscore_Testing/Test_Dst_NoAuction_ZScore_CF_8.txt')\n",
    "#dec_test3 = np.loadtxt('data/FI-2010/BenchmarkDatasets/NoAuction/1.NoAuction_Zscore/NoAuction_Zscore_Testing/Test_Dst_NoAuction_ZScore_CF_9.txt')\n",
    "dec_test1 = np.loadtxt('data/FI-2010/BenchmarkDatasets/Auction/1.Auction_Zscore/Auction_Zscore_Testing/Test_Dst_Auction_ZScore_CF_7.txt')\n",
    "dec_test2 = np.loadtxt('data/FI-2010/BenchmarkDatasets/Auction/1.Auction_Zscore/Auction_Zscore_Testing/Test_Dst_Auction_ZScore_CF_8.txt')\n",
    "dec_test3 = np.loadtxt('data/FI-2010/BenchmarkDatasets/Auction/1.Auction_Zscore/Auction_Zscore_Testing/Test_Dst_Auction_ZScore_CF_9.txt')\n",
    "#dec_test1 = np.loadtxt('data/FI-2010/BenchmarkDatasets/Auction/3.Auction_DecPre/Auction_DecPre_Testing/Test_Dst_Auction_DecPre_CF_7.txt')\n",
    "#dec_test2 = np.loadtxt('data/FI-2010/BenchmarkDatasets/Auction/3.Auction_DecPre/Auction_DecPre_Testing/Test_Dst_Auction_DecPre_CF_8.txt')\n",
    "#dec_test3 = np.loadtxt('data/FI-2010/BenchmarkDatasets/Auction/3.Auction_DecPre/Auction_DecPre_Testing/Test_Dst_Auction_DecPre_CF_9.txt')\n",
    "dec_test = np.hstack((dec_test1, dec_test2, dec_test3))\n",
    "\n",
    "# dec_train.shape = (149, 203800)\n",
    "\n",
    "h = 2        #if h = 2, than horizon = 50\n",
    "T = 50      #horizon \n",
    "dim = 10\n",
    "k = T//10    #horizon\n",
    "\n",
    "#t_offset = 0   # original label\n",
    "t_offset = k-1 # fixed label. temporal shifted\n",
    "\n",
    "y_train = dec_train[-h, :].flatten()\n",
    "# y_train.shape = (203800,)\n",
    "y_val = dec_val[-h, :].flatten()\n",
    "y_test = dec_test[-h, :].flatten()\n",
    "\n",
    "# 10-1: 10 means the length of inputs\n",
    "# second -1 means [1,2,3] to [0,1,2] conversion of class id\n",
    "y_train = y_train[dim-1+t_offset:] - 1\n",
    "#y_train = y_train[dim-1:] - 1\n",
    "# y_train.shape = (203791,) # 203791 = 203800-(10+1)\n",
    "y_val = y_val[dim-1+t_offset:] - 1\n",
    "#y_val = y_val[dim-1:] - 1\n",
    "y_test = y_test[dim-1+t_offset:] - 1 \n",
    "#y_test = y_test[dim-1:] - 1 \n",
    "\n",
    "# First 40 features = 10*4 features\n",
    "dec_train = dec_train[:40, :].T\n",
    "# dec_train.shape = (203800, 40)\n",
    "dec_val = dec_val[:40, :].T\n",
    "dec_test = dec_test[:40, :].T"
   ]
  },
  {
   "cell_type": "code",
   "execution_count": 32,
   "metadata": {},
   "outputs": [],
   "source": [
    "#computing the weights for the weighted cross entropy loss\n",
    "def compute_weights(y):\n",
    "  cont_0 = 0\n",
    "  cont_1 = 0\n",
    "  cont_2 = 0\n",
    "  for i in range(y.shape[0]):\n",
    "    if (y[i] == 0):\n",
    "      cont_0 += 1\n",
    "    elif (y[i] == 1):\n",
    "      cont_1 += 1\n",
    "    elif (y[i] == 2):\n",
    "      cont_2 += 2\n",
    "    else: \n",
    "      raise Exception(\"wrong labels\")\n",
    "  return torch.Tensor([1e6/cont_0, 1e6/cont_1, 1e6/cont_2]).to(device)\n",
    "\n",
    "y_total = np.concatenate((y_train, y_val, y_test))\n",
    "weights = compute_weights(y_total)"
   ]
  },
  {
   "cell_type": "code",
   "execution_count": 33,
   "metadata": {
    "id": "8x7PAu1LySOZ"
   },
   "outputs": [],
   "source": [
    "class Dataset(data.Dataset):\n",
    "    \"\"\"Characterizes a dataset for PyTorch\"\"\"\n",
    "    def __init__(self, x, y, num_classes, dim):\n",
    "        \"\"\"Initialization\"\"\" \n",
    "        self.num_classes = num_classes\n",
    "        self.dim = dim\n",
    "        self.x = x   \n",
    "        self.y = y\n",
    "\n",
    "        #self.length = x.shape[0] - (T/10) -self.dim + 1\n",
    "        self.length = x.shape[0] - ((T//10)-1) -self.dim + 1\n",
    "        print(self.length)\n",
    "\n",
    "        x = torch.from_numpy(x)\n",
    "        self.x = torch.unsqueeze(x, 1)\n",
    "        self.y = torch.from_numpy(y)\n",
    "\n",
    "    def __len__(self):\n",
    "        \"\"\"Denotes the total number of samples\"\"\"\n",
    "        return int(self.length)\n",
    "\n",
    "    def __getitem__(self, i):\n",
    "        input = self.x[i:i+self.dim, :]\n",
    "        input = input.permute(1, 2, 0)\n",
    "        input = torch.squeeze(input)\n",
    "\n",
    "        return input, self.y[i]"
   ]
  },
  {
   "cell_type": "code",
   "execution_count": 34,
   "metadata": {
    "colab": {
     "base_uri": "https://localhost:8080/"
    },
    "id": "7ndByE-Ajmq8",
    "outputId": "9b68ee43-4e8d-4483-c284-512fb31797e8"
   },
   "outputs": [
    {
     "name": "stdout",
     "output_type": "stream",
     "text": [
      "60578\n",
      "155161\n",
      "242347\n"
     ]
    }
   ],
   "source": [
    "#Hyperparameters\n",
    "batch_size = 256\n",
    "epochs = 200\n",
    "   \n",
    "lr = 0.01\n",
    "num_classes = 3\n",
    "#dim = 10\n",
    "\n",
    "dataset_val = Dataset(dec_val, y_val, num_classes, dim)\n",
    "dataset_test = Dataset(dec_test, y_test, num_classes, dim)\n",
    "dataset_train = Dataset(dec_train, y_train, num_classes, dim)\n",
    "\n",
    "train_loader = torch.utils.data.DataLoader(dataset=dataset_train, batch_size=batch_size, shuffle=True)\n",
    "val_loader = torch.utils.data.DataLoader(dataset=dataset_val, batch_size=batch_size, shuffle=False)\n",
    "test_loader = torch.utils.data.DataLoader(dataset=dataset_test, batch_size=batch_size, shuffle=False)"
   ]
  },
  {
   "cell_type": "code",
   "execution_count": 35,
   "metadata": {},
   "outputs": [
    {
     "data": {
      "text/plain": [
       "0.35983073"
      ]
     },
     "execution_count": 35,
     "metadata": {},
     "output_type": "execute_result"
    }
   ],
   "source": [
    "dec_train[0, 0]"
   ]
  },
  {
   "cell_type": "code",
   "execution_count": 36,
   "metadata": {},
   "outputs": [
    {
     "name": "stdout",
     "output_type": "stream",
     "text": [
      "torch.Size([40, 10]) torch.Size([])\n",
      "tensor([0.3543, 0.3688, 0.3688, 0.3688, 0.3688, 0.3708, 0.3673, 0.3673, 0.3688,\n",
      "        0.3673], dtype=torch.float64)\n"
     ]
    }
   ],
   "source": [
    "for i,(x,y) in enumerate(dataset_train):\n",
    "    print(x.shape, y.shape)\n",
    "    n = x.shape[0]\n",
    "    mids = (x[0, :] + x[2, :])/2\n",
    "    print(mids)\n",
    "    break"
   ]
  },
  {
   "cell_type": "markdown",
   "metadata": {
    "id": "DEIIi2NwjtgC"
   },
   "source": [
    "### **Model Architecture**\n"
   ]
  },
  {
   "cell_type": "code",
   "execution_count": 37,
   "metadata": {
    "id": "lhA2p2kcUj2q"
   },
   "outputs": [],
   "source": [
    "class TABL_layer(nn.Module):\n",
    "    def __init__(self, d2, d1, t1, t2):\n",
    "        super().__init__()\n",
    "        self.t1 = t1\n",
    "\n",
    "        weight = torch.Tensor(d2, d1)\n",
    "        self.W1 = nn.Parameter(weight)\n",
    "        nn.init.kaiming_uniform_(self.W1, nonlinearity='relu')\n",
    "        \n",
    "        weight2 = torch.Tensor(t1, t1)\n",
    "        self.W = nn.Parameter(weight2)\n",
    "        nn.init.constant_(self.W, 1/t1)\n",
    " \n",
    "        weight3 = torch.Tensor(t1, t2)\n",
    "        self.W2 = nn.Parameter(weight3)\n",
    "        nn.init.kaiming_uniform_(self.W2, nonlinearity='relu')\n",
    "\n",
    "        bias1 = torch.Tensor(d2, t2)\n",
    "        self.B = nn.Parameter(bias1)\n",
    "        nn.init.constant_(self.B, 0)\n",
    "\n",
    "        l = torch.Tensor(1,)\n",
    "        self.l = nn.Parameter(l)\n",
    "        nn.init.constant_(self.l, 0.5)\n",
    "\n",
    "        self.activation = nn.ReLU()\n",
    "\n",
    "    def forward(self, X):\n",
    "        \n",
    "        #maintaining the weight parameter between 0 and 1.\n",
    "        if (self.l[0] < 0): \n",
    "          l = torch.Tensor(1,)\n",
    "          self.l = nn.Parameter(l)\n",
    "          nn.init.constant_(self.l, 0.0)\n",
    "\n",
    "        if (self.l[0] > 1): \n",
    "          l = torch.Tensor(1,)\n",
    "          self.l = nn.Parameter(l)\n",
    "          nn.init.constant_(self.l, 1.0)\n",
    "     \n",
    "        #modelling the dependence along the first mode of X while keeping the temporal order intact (7)\n",
    "        X = self.W1 @ X\n",
    "\n",
    "        #enforcing constant (1) on the diagonal\n",
    "        W = self.W -self.W *torch.eye(self.t1,dtype=torch.float32).to(device)+torch.eye(self.t1,dtype=torch.float32).to(device)/self.t1\n",
    "\n",
    "        #attention, the aim of the second step is to learn how important the temporal instances are to each other (8)\n",
    "        E = X @ W\n",
    "\n",
    "        #computing the attention mask  (9)\n",
    "        A = torch.softmax(E, dim=-1)\n",
    "\n",
    "        #applying a soft attention mechanism  (10)\n",
    "        #he attention mask A obtained from the third step is used to zero out the effect of unimportant elements\n",
    "        X = self.l[0] * (X) + (1.0 - self.l[0])*X*A\n",
    "\n",
    "        #the final step of the proposed layer estimates the temporal mapping W2, after the bias shift (11)\n",
    "        y = X @ self.W2 + self.B\n",
    "        return y\n",
    "\n",
    "class BL_layer(nn.Module):\n",
    "  def __init__(self, d2, d1, t1, t2):\n",
    "        super().__init__()\n",
    "        weight1 = torch.Tensor(d2, d1)\n",
    "        self.W1 = nn.Parameter(weight1)\n",
    "        nn.init.kaiming_uniform_(self.W1, nonlinearity='relu')\n",
    "\n",
    "        weight2 = torch.Tensor(t1, t2)\n",
    "        self.W2 = nn.Parameter(weight2)\n",
    "        nn.init.kaiming_uniform_(self.W2, nonlinearity='relu')\n",
    "\n",
    "        bias1 = torch.zeros((d2, t2))\n",
    "        self.B = nn.Parameter(bias1)\n",
    "        nn.init.constant_(self.B, 0)\n",
    "\n",
    "        self.activation = nn.ReLU()\n",
    "\n",
    "  def forward(self, x):\n",
    "\n",
    "    x = self.activation(self.W1 @ x @ self.W2 + self.B)\n",
    "\n",
    "    return x\n",
    "\n",
    "\n",
    "class BTABL(nn.Module):\n",
    "  def __init__(self, d2, d1, t1, t2, d3, t3):\n",
    "    super().__init__()\n",
    "\n",
    "    self.BL = BL_layer(d2, d1, t1, t2)\n",
    "    self.TABL = TABL_layer(d3, d2, t2, t3)\n",
    "    self.dropout = nn.Dropout(0.1)\n",
    "\n",
    "  def forward(self, x):\n",
    "\n",
    "    self.max_norm_(self.BL.W1.data)\n",
    "    self.max_norm_(self.BL.W2.data)\n",
    "    x = self.BL(x)\n",
    "    x = self.dropout(x)\n",
    "\n",
    "    self.max_norm_(self.TABL.W1.data)\n",
    "    self.max_norm_(self.TABL.W.data)\n",
    "    self.max_norm_(self.TABL.W2.data)\n",
    "    x = self.TABL(x)\n",
    "    x = torch.squeeze(x)\n",
    "    x = torch.softmax(x, 1)\n",
    "    return x\n",
    "\n",
    "  def max_norm_(self, w):\n",
    "    with torch.no_grad():\n",
    "      if (torch.linalg.matrix_norm(w) > 10.0):\n",
    "        norm = torch.linalg.matrix_norm(w)\n",
    "        desired = torch.clamp(norm, min=0.0, max=10.0)\n",
    "        w *= (desired / (1e-8 + norm))\n",
    "\n",
    "\n",
    "\n",
    "class CTABL(nn.Module):\n",
    "  def __init__(self, d2, d1, t1, t2, d3, t3, d4, t4):\n",
    "    super().__init__()\n",
    "    \n",
    "    self.BL = BL_layer(d2, d1, t1, t2)\n",
    "    self.BL2 = BL_layer(d3, d2, t2, t3)\n",
    "    self.TABL = TABL_layer(d4, d3, t3, t4)\n",
    "    self.dropout = nn.Dropout(0.1)\n",
    "\n",
    "  def forward(self, x):\n",
    " \n",
    "    self.max_norm_(self.BL.W1.data)\n",
    "    self.max_norm_(self.BL.W2.data)\n",
    "    x = self.BL(x)\n",
    "    x = self.dropout(x)\n",
    "\n",
    "    self.max_norm_(self.BL2.W1.data)\n",
    "    self.max_norm_(self.BL2.W2.data)\n",
    "    x = self.BL2(x)\n",
    "    x = self.dropout(x)\n",
    "\n",
    "    self.max_norm_(self.TABL.W1.data)\n",
    "    self.max_norm_(self.TABL.W.data)\n",
    "    self.max_norm_(self.TABL.W2.data)\n",
    "    x = self.TABL(x)\n",
    "    x = torch.squeeze(x)\n",
    "    x = torch.softmax(x, 1)\n",
    "    return x\n",
    "\n",
    "  def max_norm_(self, w):\n",
    "    with torch.no_grad():\n",
    "      if (torch.linalg.matrix_norm(w) > 10.0):\n",
    "        norm = torch.linalg.matrix_norm(w)\n",
    "        desired = torch.clamp(norm, min=0.0, max=10.0)\n",
    "        w *= (desired / (1e-8 + norm))\n",
    "    "
   ]
  },
  {
   "cell_type": "code",
   "execution_count": 38,
   "metadata": {},
   "outputs": [],
   "source": [
    "class BiN(nn.Module):\n",
    "    def __init__(self, d2, d1, t1, t2):\n",
    "        super().__init__()\n",
    "        self.t1 = t1\n",
    "        self.d1 = d1\n",
    "        self.t2 = t2\n",
    "        self.d2 = d2\n",
    "\n",
    "        bias1 = torch.Tensor(t1, 1)\n",
    "        self.B1 = nn.Parameter(bias1)\n",
    "        nn.init.constant_(self.B1, 0)\n",
    "\n",
    "        l1 = torch.Tensor(t1, 1)\n",
    "        self.l1 = nn.Parameter(l1)\n",
    "        nn.init.xavier_normal_(self.l1)\n",
    "\n",
    "        bias2 = torch.Tensor(d1, 1)\n",
    "        self.B2 = nn.Parameter(bias2)\n",
    "        nn.init.constant_(self.B2, 0)\n",
    "\n",
    "        l2 = torch.Tensor(d1, 1)\n",
    "        self.l2 = nn.Parameter(l2)\n",
    "        nn.init.xavier_normal_(self.l2)\n",
    "\n",
    "        y1 = torch.Tensor(1, )\n",
    "        self.y1 = nn.Parameter(y1)\n",
    "        nn.init.constant_(self.y1, 0.5)\n",
    "\n",
    "        y2 = torch.Tensor(1, )\n",
    "        self.y2 = nn.Parameter(y2)\n",
    "        nn.init.constant_(self.y2, 0.5)\n",
    "\n",
    "    def forward(self, x):\n",
    "\n",
    "        # if the two scalars are negative then we setting them to 0\n",
    "        if (self.y1[0] < 0):\n",
    "            y1 = torch.cuda.FloatTensor(1, )\n",
    "            self.y1 = nn.Parameter(y1)\n",
    "            nn.init.constant_(self.y1, 0.01)\n",
    "\n",
    "        if (self.y2[0] < 0):\n",
    "            y2 = torch.cuda.FloatTensor(1, )\n",
    "            self.y2 = nn.Parameter(y2)\n",
    "            nn.init.constant_(self.y2, 0.01)\n",
    "\n",
    "        # normalization along the temporal dimensione\n",
    "        #T2 = torch.ones([self.t1, 1], device=cst.DEVICE_TYPE)\n",
    "        T2 = torch.ones([self.t1, 1], device=device)\n",
    "        x2 = torch.mean(x, dim=2)\n",
    "        x2 = torch.reshape(x2, (x2.shape[0], x2.shape[1], 1))\n",
    "\n",
    "        std = torch.std(x, dim=2)\n",
    "        std = torch.reshape(std, (std.shape[0], std.shape[1], 1))\n",
    "        # it can be possible that the std of some temporal slices is 0, and this produces inf values, so we have to set them to one\n",
    "        std[std < 1e-4] = 1\n",
    "\n",
    "        diff = x - (x2 @ (T2.T))\n",
    "        Z2 = diff / (std @ (T2.T))\n",
    "\n",
    "        X2 = self.l2 @ T2.T\n",
    "        X2 = X2 * Z2\n",
    "        X2 = X2 + (self.B2 @ T2.T)\n",
    "\n",
    "        # normalization along the feature dimension\n",
    "        #T1 = torch.ones([self.d1, 1], device=cst.DEVICE_TYPE)\n",
    "        T1 = torch.ones([self.d1, 1], device=device)\n",
    "        x1 = torch.mean(x, dim=1)\n",
    "        x1 = torch.reshape(x1, (x1.shape[0], x1.shape[1], 1))\n",
    "\n",
    "        std = torch.std(x, dim=1)\n",
    "        std = torch.reshape(std, (std.shape[0], std.shape[1], 1))\n",
    "\n",
    "        op1 = x1 @ T1.T\n",
    "        op1 = torch.permute(op1, (0, 2, 1))\n",
    "\n",
    "        op2 = std @ T1.T\n",
    "        op2 = torch.permute(op2, (0, 2, 1))\n",
    "\n",
    "        z1 = (x - op1) / (op2)\n",
    "        X1 = (T1 @ self.l1.T)\n",
    "        X1 = X1 * z1\n",
    "        X1 = X1 + (T1 @ self.B1.T)\n",
    "\n",
    "        # weighing the imporance of temporal and feature normalization\n",
    "        x = self.y1 * X1 + self.y2 * X2\n",
    "\n",
    "        return x\n",
    "        \n",
    "class BL_layer(nn.Module):\n",
    "  def __init__(self, d2, d1, t1, t2):\n",
    "        super().__init__()\n",
    "        weight1 = torch.Tensor(d2, d1)\n",
    "        self.W1 = nn.Parameter(weight1)\n",
    "        nn.init.kaiming_uniform_(self.W1, nonlinearity='relu')\n",
    "\n",
    "        weight2 = torch.Tensor(t1, t2)\n",
    "        self.W2 = nn.Parameter(weight2)\n",
    "        nn.init.kaiming_uniform_(self.W2, nonlinearity='relu')\n",
    "\n",
    "        bias1 = torch.zeros((d2, t2))\n",
    "        self.B = nn.Parameter(bias1)\n",
    "        nn.init.constant_(self.B, 0)\n",
    "\n",
    "        self.activation = nn.ReLU()\n",
    "\n",
    "  def forward(self, x):\n",
    "\n",
    "    x = self.activation(self.W1 @ x @ self.W2 + self.B)\n",
    "\n",
    "    return x\n",
    "\n",
    "class TABL_layer(nn.Module):\n",
    "    def __init__(self, d2, d1, t1, t2):\n",
    "        super().__init__()\n",
    "        self.t1 = t1\n",
    "\n",
    "        weight = torch.Tensor(d2, d1)\n",
    "        self.W1 = nn.Parameter(weight)\n",
    "        nn.init.kaiming_uniform_(self.W1, nonlinearity='relu')\n",
    "\n",
    "        weight2 = torch.Tensor(t1, t1)\n",
    "        self.W = nn.Parameter(weight2)\n",
    "        nn.init.constant_(self.W, 1 / t1)\n",
    "\n",
    "        weight3 = torch.Tensor(t1, t2)\n",
    "        self.W2 = nn.Parameter(weight3)\n",
    "        nn.init.kaiming_uniform_(self.W2, nonlinearity='relu')\n",
    "\n",
    "        bias1 = torch.Tensor(d2, t2)\n",
    "        self.B = nn.Parameter(bias1)\n",
    "        nn.init.constant_(self.B, 0)\n",
    "\n",
    "        l = torch.Tensor(1, )\n",
    "        self.l = nn.Parameter(l)\n",
    "        nn.init.constant_(self.l, 0.5)\n",
    "\n",
    "        self.activation = nn.ReLU()\n",
    "\n",
    "    def forward(self, X):\n",
    "\n",
    "        # maintaining the weight parameter between 0 and 1.\n",
    "        if (self.l[0] < 0):\n",
    "            l = torch.Tensor(1, )\n",
    "            self.l = nn.Parameter(l)\n",
    "            nn.init.constant_(self.l, 0.0)\n",
    "\n",
    "        if (self.l[0] > 1):\n",
    "            l = torch.Tensor(1, )\n",
    "            self.l = nn.Parameter(l)\n",
    "            nn.init.constant_(self.l, 1.0)\n",
    "\n",
    "        # modelling the dependence along the first mode of X while keeping the temporal order intact (7)\n",
    "        X = self.W1 @ X\n",
    "\n",
    "        # enforcing constant (1) on the diagonal\n",
    "        #W = self.W - self.W * torch.eye(self.t1, dtype=torch.float32, device=cst.DEVICE_TYPE) + torch.eye(self.t1, dtype=torch.float32, device=cst.DEVICE_TYPE) / self.t1\n",
    "        W = self.W - self.W * torch.eye(self.t1, dtype=torch.float32, device=device) + torch.eye(self.t1, dtype=torch.float32, device=device) / self.t1\n",
    "\n",
    "        # attention, the aim of the second step is to learn how important the temporal instances are to each other (8)\n",
    "        E = X @ W\n",
    "\n",
    "        # computing the attention mask  (9)\n",
    "        A = torch.softmax(E, dim=-1)\n",
    "\n",
    "        # applying a soft attention mechanism  (10)\n",
    "        # he attention mask A obtained from the third step is used to zero out the effect of unimportant elements\n",
    "        X = self.l[0] * (X) + (1.0 - self.l[0]) * X * A\n",
    "\n",
    "        # the final step of the proposed layer estimates the temporal mapping W2, after the bias shift (11)\n",
    "        y = X @ self.W2 + self.B\n",
    "        return y\n",
    "\n",
    "\n",
    "class BiN_CTABL(nn.Module):\n",
    "    # d2=60, d1=40, t1=10, t2=10, d3=120, t3=5, d4=3, t4=1\n",
    "    def __init__(self, d2, d1, t1, t2, d3, t3, d4, t4):\n",
    "        super().__init__()\n",
    "\n",
    "        self.BiN = BiN(d2, d1, t1, t2)\n",
    "        self.BL = BL_layer(d2, d1, t1, t2)\n",
    "        self.BL2 = BL_layer(d3, d2, t2, t3)\n",
    "        # d4=3, d3=120, t3=5, t4=1\n",
    "        self.TABL = TABL_layer(d4, d3, t3, t4)\n",
    "        self.dropout = nn.Dropout(0.1)\n",
    "\n",
    "    def forward(self, x):\n",
    "\n",
    "        # x.shape = (32, 40, 10)\n",
    "        # first of all we pass the input to the BiN layer, then we use the C(TABL) architecture\n",
    "        #x = torch.permute(x, (0, 2, 1))\n",
    "\n",
    "        x = self.BiN(x)\n",
    "\n",
    "        self.max_norm_(self.BL.W1.data)\n",
    "        self.max_norm_(self.BL.W2.data)\n",
    "        x = self.BL(x)\n",
    "        x = self.dropout(x)\n",
    "\n",
    "        self.max_norm_(self.BL2.W1.data)\n",
    "        self.max_norm_(self.BL2.W2.data)\n",
    "        x = self.BL2(x)\n",
    "        x = self.dropout(x)\n",
    "\n",
    "        self.max_norm_(self.TABL.W1.data)\n",
    "        self.max_norm_(self.TABL.W.data)\n",
    "        self.max_norm_(self.TABL.W2.data)\n",
    "        x = self.TABL(x)\n",
    "        # x.shape = (32, 3, 1)\n",
    "        x = torch.squeeze(x)\n",
    "        # x.shape = (32, 3)\n",
    "        x = torch.softmax(x, 1)\n",
    "        # x.shape = (32, 3)\n",
    "\n",
    "        return x\n",
    "\n",
    "    def max_norm_(self, w):\n",
    "        with torch.no_grad():\n",
    "            if (torch.linalg.matrix_norm(w) > 10.0):\n",
    "                norm = torch.linalg.matrix_norm(w)\n",
    "                desired = torch.clamp(norm, min=0.0, max=10.0)\n",
    "                w *= (desired / (1e-8 + norm))\n"
   ]
  },
  {
   "cell_type": "markdown",
   "metadata": {
    "id": "bejZgDmCkkHi"
   },
   "source": [
    "### **Model Training**\n",
    "\n",
    "I implemented the second setting of the experiment"
   ]
  },
  {
   "cell_type": "code",
   "execution_count": 41,
   "metadata": {
    "id": "s_u5esKfTT-S"
   },
   "outputs": [],
   "source": [
    "#Choose between B(TABL) and C(TABL)\n",
    "\n",
    "#model = BTABL(120, 40, 10, 5, 3, 1)\n",
    "#model = CTABL(60, 40, 10, 10, 120, 5, 3, 1)\n",
    "#model = BiN_CTABL(60, 40, 10, 10, 120, 5, 3, 1)\n",
    "model = BiN_CTABL(60, 40, dim, 10, 120, 5, 3, 1)\n",
    "\n",
    "model.to(device)\n",
    "\n",
    "criterion = nn.CrossEntropyLoss(weight=weights)\n",
    "#optimizer = torch.optim.SGD(model.parameters(), lr=0.01, momentum=0.9)\n",
    "optimizer = torch.optim.Adam(model.parameters(), lr=0.001)\n",
    "\n",
    "def batch_gd(model, criterion, optimizer, epochs):\n",
    "    \n",
    "    train_losses = np.zeros(epochs)\n",
    "    test_losses = np.zeros(epochs)\n",
    "    best_test_loss = np.inf\n",
    "    best_test_epoch = 0\n",
    "    SC = [0.005, 0.001, 0.0005, 0.0001]\n",
    "    i = 0\n",
    "    for it in tqdm(range(epochs)):\n",
    "        \n",
    "        model.train()\n",
    "        t0 = datetime.now()\n",
    "        train_loss = []\n",
    "        for inputs, targets in train_loader:\n",
    "            # move data to GPU\n",
    "            inputs, targets = inputs.to(device, dtype=torch.float), targets.to(device, dtype=torch.int64)\n",
    "\n",
    "            # zero the parameter gradients\n",
    "            optimizer.zero_grad()\n",
    "\n",
    "            # Forward pass\n",
    "            outputs = model(inputs)\n",
    "            #print('### debug 22')\n",
    "            #print(outputs.shape)\n",
    "            #print(targets.shape)\n",
    "            loss = criterion(outputs, targets)\n",
    "\n",
    "            # Backward and optimize\n",
    "            loss.backward()\n",
    "            optimizer.step()\n",
    "\n",
    "            train_loss.append(loss.item())\n",
    "        # Get train loss and test loss\n",
    "        train_loss = np.mean(train_loss)\n",
    "        \n",
    "        if (train_losses[it-1] <= train_loss and i < 4 and it != 0):\n",
    "              for g in optimizer.param_groups:\n",
    "                g['lr'] = SC[i]\n",
    "              i += 1\n",
    "              \n",
    "\n",
    "        model.eval()\n",
    "        test_loss = []\n",
    "        for inputs, targets in val_loader:\n",
    "            inputs, targets = inputs.to(device, dtype=torch.float), targets.to(device, dtype=torch.int64)      \n",
    "            outputs = model(inputs)\n",
    "            #outputs = torch.squeeze(outputs)\n",
    "            loss = criterion(outputs, targets)\n",
    "            test_loss.append(loss.item())\n",
    "        test_loss = np.mean(test_loss)\n",
    "\n",
    "        # Save losses\n",
    "        train_losses[it] = train_loss\n",
    "        test_losses[it] = test_loss\n",
    "        \n",
    "        #We save the best model\n",
    "        if test_loss < best_test_loss:\n",
    "            torch.save(model, './best_model_CTABL')\n",
    "            best_test_loss = test_loss\n",
    "            best_test_epoch = it\n",
    "            print('model saved')\n",
    "\n",
    "        dt = datetime.now() - t0\n",
    "        print(f'Epoch {it+1}/{epochs}, Train Loss: {train_loss:.4f}, \\\n",
    "          Validation Loss: {test_loss:.4f}, Duration: {dt}, Best Val Epoch: {best_test_epoch}')\n",
    "        \n",
    "    #torch.save(model, '/content/drive/MyDrive/Output/best_model_translob_FI')\n",
    "    return train_losses, test_losses"
   ]
  },
  {
   "cell_type": "code",
   "execution_count": 42,
   "metadata": {
    "colab": {
     "background_save": true
    },
    "id": "x9vq-ZAzTb6K",
    "scrolled": true
   },
   "outputs": [
    {
     "name": "stdout",
     "output_type": "stream",
     "text": [
      "------- List Hyper Parameters -------\n",
      "epochs   ->   200\n",
      "learningRate   ->   0.01\n",
      "horizon    ->     50\n",
      "batch size   ->    256\n",
      "Optimizer   ->    Adam (\n",
      "Parameter Group 0\n",
      "    amsgrad: False\n",
      "    betas: (0.9, 0.999)\n",
      "    capturable: False\n",
      "    differentiable: False\n",
      "    eps: 1e-08\n",
      "    foreach: None\n",
      "    fused: None\n",
      "    lr: 0.001\n",
      "    maximize: False\n",
      "    weight_decay: 0\n",
      ")\n"
     ]
    },
    {
     "name": "stderr",
     "output_type": "stream",
     "text": [
      "  0%|▍                                                                            | 1/200 [00:10<35:09, 10.60s/it]"
     ]
    },
    {
     "name": "stdout",
     "output_type": "stream",
     "text": [
      "model saved\n",
      "Epoch 1/200, Train Loss: 1.0169,           Validation Loss: 0.9720, Duration: 0:00:10.601151, Best Val Epoch: 0\n"
     ]
    },
    {
     "name": "stderr",
     "output_type": "stream",
     "text": [
      "  1%|▊                                                                            | 2/200 [00:20<33:24, 10.12s/it]"
     ]
    },
    {
     "name": "stdout",
     "output_type": "stream",
     "text": [
      "model saved\n",
      "Epoch 2/200, Train Loss: 0.9874,           Validation Loss: 0.9647, Duration: 0:00:09.789578, Best Val Epoch: 1\n"
     ]
    },
    {
     "name": "stderr",
     "output_type": "stream",
     "text": [
      "  2%|█▏                                                                           | 3/200 [00:30<33:39, 10.25s/it]"
     ]
    },
    {
     "name": "stdout",
     "output_type": "stream",
     "text": [
      "model saved\n",
      "Epoch 3/200, Train Loss: 0.9814,           Validation Loss: 0.9604, Duration: 0:00:10.401138, Best Val Epoch: 2\n"
     ]
    },
    {
     "name": "stderr",
     "output_type": "stream",
     "text": [
      "  2%|█▌                                                                           | 4/200 [00:40<33:24, 10.23s/it]"
     ]
    },
    {
     "name": "stdout",
     "output_type": "stream",
     "text": [
      "model saved\n",
      "Epoch 4/200, Train Loss: 0.9777,           Validation Loss: 0.9582, Duration: 0:00:10.184590, Best Val Epoch: 3\n"
     ]
    },
    {
     "name": "stderr",
     "output_type": "stream",
     "text": [
      "  2%|█▉                                                                           | 5/200 [00:51<33:00, 10.16s/it]"
     ]
    },
    {
     "name": "stdout",
     "output_type": "stream",
     "text": [
      "model saved\n",
      "Epoch 5/200, Train Loss: 0.9747,           Validation Loss: 0.9573, Duration: 0:00:10.032187, Best Val Epoch: 4\n"
     ]
    },
    {
     "name": "stderr",
     "output_type": "stream",
     "text": [
      "  3%|██▎                                                                          | 6/200 [01:00<32:29, 10.05s/it]"
     ]
    },
    {
     "name": "stdout",
     "output_type": "stream",
     "text": [
      "Epoch 6/200, Train Loss: 0.9726,           Validation Loss: 0.9592, Duration: 0:00:09.833035, Best Val Epoch: 4\n"
     ]
    },
    {
     "name": "stderr",
     "output_type": "stream",
     "text": [
      "  4%|██▋                                                                          | 7/200 [01:10<31:37,  9.83s/it]"
     ]
    },
    {
     "name": "stdout",
     "output_type": "stream",
     "text": [
      "Epoch 7/200, Train Loss: 0.9703,           Validation Loss: 0.9589, Duration: 0:00:09.383289, Best Val Epoch: 4\n"
     ]
    },
    {
     "name": "stderr",
     "output_type": "stream",
     "text": [
      "  4%|███                                                                          | 8/200 [01:20<31:27,  9.83s/it]"
     ]
    },
    {
     "name": "stdout",
     "output_type": "stream",
     "text": [
      "model saved\n",
      "Epoch 8/200, Train Loss: 0.9684,           Validation Loss: 0.9548, Duration: 0:00:09.837581, Best Val Epoch: 7\n"
     ]
    },
    {
     "name": "stderr",
     "output_type": "stream",
     "text": [
      "  4%|███▍                                                                         | 9/200 [01:30<31:42,  9.96s/it]"
     ]
    },
    {
     "name": "stdout",
     "output_type": "stream",
     "text": [
      "Epoch 9/200, Train Loss: 0.9674,           Validation Loss: 0.9558, Duration: 0:00:10.243160, Best Val Epoch: 7\n"
     ]
    },
    {
     "name": "stderr",
     "output_type": "stream",
     "text": [
      "  5%|███▊                                                                        | 10/200 [01:40<31:23,  9.91s/it]"
     ]
    },
    {
     "name": "stdout",
     "output_type": "stream",
     "text": [
      "Epoch 10/200, Train Loss: 0.9659,           Validation Loss: 0.9566, Duration: 0:00:09.807918, Best Val Epoch: 7\n"
     ]
    },
    {
     "name": "stderr",
     "output_type": "stream",
     "text": [
      "  6%|████▏                                                                       | 11/200 [01:49<31:06,  9.88s/it]"
     ]
    },
    {
     "name": "stdout",
     "output_type": "stream",
     "text": [
      "Epoch 11/200, Train Loss: 0.9641,           Validation Loss: 0.9557, Duration: 0:00:09.789860, Best Val Epoch: 7\n"
     ]
    },
    {
     "name": "stderr",
     "output_type": "stream",
     "text": [
      "  6%|████▌                                                                       | 12/200 [01:59<30:51,  9.85s/it]"
     ]
    },
    {
     "name": "stdout",
     "output_type": "stream",
     "text": [
      "Epoch 12/200, Train Loss: 0.9628,           Validation Loss: 0.9578, Duration: 0:00:09.781703, Best Val Epoch: 7\n"
     ]
    },
    {
     "name": "stderr",
     "output_type": "stream",
     "text": [
      "  6%|████▉                                                                       | 13/200 [02:09<30:57,  9.93s/it]"
     ]
    },
    {
     "name": "stdout",
     "output_type": "stream",
     "text": [
      "Epoch 13/200, Train Loss: 0.9623,           Validation Loss: 0.9560, Duration: 0:00:10.131873, Best Val Epoch: 7\n"
     ]
    },
    {
     "name": "stderr",
     "output_type": "stream",
     "text": [
      "  7%|█████▎                                                                      | 14/200 [02:19<30:08,  9.72s/it]"
     ]
    },
    {
     "name": "stdout",
     "output_type": "stream",
     "text": [
      "Epoch 14/200, Train Loss: 0.9612,           Validation Loss: 0.9561, Duration: 0:00:09.230435, Best Val Epoch: 7\n"
     ]
    },
    {
     "name": "stderr",
     "output_type": "stream",
     "text": [
      "  8%|█████▋                                                                      | 15/200 [02:28<29:47,  9.66s/it]"
     ]
    },
    {
     "name": "stdout",
     "output_type": "stream",
     "text": [
      "model saved\n",
      "Epoch 15/200, Train Loss: 0.9596,           Validation Loss: 0.9545, Duration: 0:00:09.519766, Best Val Epoch: 14\n"
     ]
    },
    {
     "name": "stderr",
     "output_type": "stream",
     "text": [
      "  8%|██████                                                                      | 16/200 [02:38<29:35,  9.65s/it]"
     ]
    },
    {
     "name": "stdout",
     "output_type": "stream",
     "text": [
      "Epoch 16/200, Train Loss: 0.9588,           Validation Loss: 0.9548, Duration: 0:00:09.619350, Best Val Epoch: 14\n"
     ]
    },
    {
     "name": "stderr",
     "output_type": "stream",
     "text": [
      "  8%|██████▍                                                                     | 17/200 [02:48<29:41,  9.74s/it]"
     ]
    },
    {
     "name": "stdout",
     "output_type": "stream",
     "text": [
      "Epoch 17/200, Train Loss: 0.9582,           Validation Loss: 0.9552, Duration: 0:00:09.942463, Best Val Epoch: 14\n"
     ]
    },
    {
     "name": "stderr",
     "output_type": "stream",
     "text": [
      "  9%|██████▊                                                                     | 18/200 [02:57<29:28,  9.72s/it]"
     ]
    },
    {
     "name": "stdout",
     "output_type": "stream",
     "text": [
      "Epoch 18/200, Train Loss: 0.9564,           Validation Loss: 0.9608, Duration: 0:00:09.666208, Best Val Epoch: 14\n"
     ]
    },
    {
     "name": "stderr",
     "output_type": "stream",
     "text": [
      " 10%|███████▏                                                                    | 19/200 [03:07<29:24,  9.75s/it]"
     ]
    },
    {
     "name": "stdout",
     "output_type": "stream",
     "text": [
      "Epoch 19/200, Train Loss: 0.9560,           Validation Loss: 0.9571, Duration: 0:00:09.819899, Best Val Epoch: 14\n"
     ]
    },
    {
     "name": "stderr",
     "output_type": "stream",
     "text": [
      " 10%|███████▌                                                                    | 20/200 [03:17<29:33,  9.85s/it]"
     ]
    },
    {
     "name": "stdout",
     "output_type": "stream",
     "text": [
      "Epoch 20/200, Train Loss: 0.9548,           Validation Loss: 0.9577, Duration: 0:00:10.098001, Best Val Epoch: 14\n"
     ]
    },
    {
     "name": "stderr",
     "output_type": "stream",
     "text": [
      " 10%|███████▉                                                                    | 21/200 [03:27<29:07,  9.76s/it]"
     ]
    },
    {
     "name": "stdout",
     "output_type": "stream",
     "text": [
      "Epoch 21/200, Train Loss: 0.9539,           Validation Loss: 0.9549, Duration: 0:00:09.543338, Best Val Epoch: 14\n"
     ]
    },
    {
     "name": "stderr",
     "output_type": "stream",
     "text": [
      " 11%|████████▎                                                                   | 22/200 [03:37<29:09,  9.83s/it]"
     ]
    },
    {
     "name": "stdout",
     "output_type": "stream",
     "text": [
      "Epoch 22/200, Train Loss: 0.9532,           Validation Loss: 0.9549, Duration: 0:00:09.992382, Best Val Epoch: 14\n"
     ]
    },
    {
     "name": "stderr",
     "output_type": "stream",
     "text": [
      " 12%|████████▋                                                                   | 23/200 [03:47<28:56,  9.81s/it]"
     ]
    },
    {
     "name": "stdout",
     "output_type": "stream",
     "text": [
      "Epoch 23/200, Train Loss: 0.9521,           Validation Loss: 0.9573, Duration: 0:00:09.765869, Best Val Epoch: 14\n"
     ]
    },
    {
     "name": "stderr",
     "output_type": "stream",
     "text": [
      " 12%|█████████                                                                   | 24/200 [03:56<28:30,  9.72s/it]"
     ]
    },
    {
     "name": "stdout",
     "output_type": "stream",
     "text": [
      "Epoch 24/200, Train Loss: 0.9523,           Validation Loss: 0.9594, Duration: 0:00:09.504396, Best Val Epoch: 14\n"
     ]
    },
    {
     "name": "stderr",
     "output_type": "stream",
     "text": [
      " 12%|█████████▌                                                                  | 25/200 [04:06<28:32,  9.78s/it]"
     ]
    },
    {
     "name": "stdout",
     "output_type": "stream",
     "text": [
      "Epoch 25/200, Train Loss: 0.9693,           Validation Loss: 0.9639, Duration: 0:00:09.931176, Best Val Epoch: 14\n"
     ]
    },
    {
     "name": "stderr",
     "output_type": "stream",
     "text": [
      " 13%|█████████▉                                                                  | 26/200 [04:16<28:18,  9.76s/it]"
     ]
    },
    {
     "name": "stdout",
     "output_type": "stream",
     "text": [
      "model saved\n",
      "Epoch 26/200, Train Loss: 0.9579,           Validation Loss: 0.9539, Duration: 0:00:09.717373, Best Val Epoch: 25\n"
     ]
    },
    {
     "name": "stderr",
     "output_type": "stream",
     "text": [
      " 14%|██████████▎                                                                 | 27/200 [04:26<28:34,  9.91s/it]"
     ]
    },
    {
     "name": "stdout",
     "output_type": "stream",
     "text": [
      "model saved\n",
      "Epoch 27/200, Train Loss: 0.9545,           Validation Loss: 0.9539, Duration: 0:00:10.255000, Best Val Epoch: 26\n"
     ]
    },
    {
     "name": "stderr",
     "output_type": "stream",
     "text": [
      " 14%|██████████▋                                                                 | 28/200 [04:36<28:21,  9.89s/it]"
     ]
    },
    {
     "name": "stdout",
     "output_type": "stream",
     "text": [
      "Epoch 28/200, Train Loss: 0.9519,           Validation Loss: 0.9558, Duration: 0:00:09.842824, Best Val Epoch: 26\n"
     ]
    },
    {
     "name": "stderr",
     "output_type": "stream",
     "text": [
      " 14%|███████████                                                                 | 29/200 [04:45<27:48,  9.76s/it]"
     ]
    },
    {
     "name": "stdout",
     "output_type": "stream",
     "text": [
      "Epoch 29/200, Train Loss: 0.9507,           Validation Loss: 0.9558, Duration: 0:00:09.447645, Best Val Epoch: 26\n"
     ]
    },
    {
     "name": "stderr",
     "output_type": "stream",
     "text": [
      " 15%|███████████▍                                                                | 30/200 [04:55<27:20,  9.65s/it]"
     ]
    },
    {
     "name": "stdout",
     "output_type": "stream",
     "text": [
      "Epoch 30/200, Train Loss: 0.9490,           Validation Loss: 0.9582, Duration: 0:00:09.400327, Best Val Epoch: 26\n"
     ]
    },
    {
     "name": "stderr",
     "output_type": "stream",
     "text": [
      " 16%|███████████▊                                                                | 31/200 [05:05<27:36,  9.80s/it]"
     ]
    },
    {
     "name": "stdout",
     "output_type": "stream",
     "text": [
      "Epoch 31/200, Train Loss: 0.9487,           Validation Loss: 0.9556, Duration: 0:00:10.153701, Best Val Epoch: 26\n"
     ]
    },
    {
     "name": "stderr",
     "output_type": "stream",
     "text": [
      " 16%|████████████▏                                                               | 32/200 [05:15<27:36,  9.86s/it]"
     ]
    },
    {
     "name": "stdout",
     "output_type": "stream",
     "text": [
      "Epoch 32/200, Train Loss: 0.9478,           Validation Loss: 0.9560, Duration: 0:00:09.990927, Best Val Epoch: 26\n"
     ]
    },
    {
     "name": "stderr",
     "output_type": "stream",
     "text": [
      " 16%|████████████▌                                                               | 33/200 [05:25<27:44,  9.97s/it]"
     ]
    },
    {
     "name": "stdout",
     "output_type": "stream",
     "text": [
      "Epoch 33/200, Train Loss: 0.9473,           Validation Loss: 0.9564, Duration: 0:00:10.225369, Best Val Epoch: 26\n"
     ]
    },
    {
     "name": "stderr",
     "output_type": "stream",
     "text": [
      " 17%|████████████▉                                                               | 34/200 [05:35<27:21,  9.89s/it]"
     ]
    },
    {
     "name": "stdout",
     "output_type": "stream",
     "text": [
      "Epoch 34/200, Train Loss: 0.9466,           Validation Loss: 0.9578, Duration: 0:00:09.690686, Best Val Epoch: 26\n"
     ]
    },
    {
     "name": "stderr",
     "output_type": "stream",
     "text": [
      " 18%|█████████████▎                                                              | 35/200 [05:45<27:21,  9.95s/it]"
     ]
    },
    {
     "name": "stdout",
     "output_type": "stream",
     "text": [
      "Epoch 35/200, Train Loss: 0.9453,           Validation Loss: 0.9570, Duration: 0:00:10.088783, Best Val Epoch: 26\n"
     ]
    },
    {
     "name": "stderr",
     "output_type": "stream",
     "text": [
      " 18%|█████████████▋                                                              | 36/200 [05:54<26:59,  9.87s/it]"
     ]
    },
    {
     "name": "stdout",
     "output_type": "stream",
     "text": [
      "Epoch 36/200, Train Loss: 0.9448,           Validation Loss: 0.9568, Duration: 0:00:09.697988, Best Val Epoch: 26\n"
     ]
    },
    {
     "name": "stderr",
     "output_type": "stream",
     "text": [
      " 18%|██████████████                                                              | 37/200 [06:04<26:32,  9.77s/it]"
     ]
    },
    {
     "name": "stdout",
     "output_type": "stream",
     "text": [
      "Epoch 37/200, Train Loss: 0.9443,           Validation Loss: 0.9586, Duration: 0:00:09.530799, Best Val Epoch: 26\n"
     ]
    },
    {
     "name": "stderr",
     "output_type": "stream",
     "text": [
      " 19%|██████████████▍                                                             | 38/200 [06:14<26:23,  9.77s/it]"
     ]
    },
    {
     "name": "stdout",
     "output_type": "stream",
     "text": [
      "Epoch 38/200, Train Loss: 0.9437,           Validation Loss: 0.9568, Duration: 0:00:09.782366, Best Val Epoch: 26\n"
     ]
    },
    {
     "name": "stderr",
     "output_type": "stream",
     "text": [
      " 20%|██████████████▊                                                             | 39/200 [06:24<26:17,  9.80s/it]"
     ]
    },
    {
     "name": "stdout",
     "output_type": "stream",
     "text": [
      "Epoch 39/200, Train Loss: 0.9433,           Validation Loss: 0.9582, Duration: 0:00:09.848545, Best Val Epoch: 26\n"
     ]
    },
    {
     "name": "stderr",
     "output_type": "stream",
     "text": [
      " 20%|███████████████▏                                                            | 40/200 [06:33<26:09,  9.81s/it]"
     ]
    },
    {
     "name": "stdout",
     "output_type": "stream",
     "text": [
      "Epoch 40/200, Train Loss: 0.9432,           Validation Loss: 0.9575, Duration: 0:00:09.837070, Best Val Epoch: 26\n"
     ]
    },
    {
     "name": "stderr",
     "output_type": "stream",
     "text": [
      " 20%|███████████████▌                                                            | 41/200 [06:43<26:08,  9.86s/it]"
     ]
    },
    {
     "name": "stdout",
     "output_type": "stream",
     "text": [
      "Epoch 41/200, Train Loss: 0.9433,           Validation Loss: 0.9572, Duration: 0:00:09.989352, Best Val Epoch: 26\n"
     ]
    },
    {
     "name": "stderr",
     "output_type": "stream",
     "text": [
      " 21%|███████████████▉                                                            | 42/200 [06:53<25:49,  9.81s/it]"
     ]
    },
    {
     "name": "stdout",
     "output_type": "stream",
     "text": [
      "Epoch 42/200, Train Loss: 0.9376,           Validation Loss: 0.9576, Duration: 0:00:09.679310, Best Val Epoch: 26\n"
     ]
    },
    {
     "name": "stderr",
     "output_type": "stream",
     "text": [
      " 22%|████████████████▎                                                           | 43/200 [07:02<25:13,  9.64s/it]"
     ]
    },
    {
     "name": "stdout",
     "output_type": "stream",
     "text": [
      "Epoch 43/200, Train Loss: 0.9362,           Validation Loss: 0.9585, Duration: 0:00:09.253988, Best Val Epoch: 26\n"
     ]
    },
    {
     "name": "stderr",
     "output_type": "stream",
     "text": [
      " 22%|████████████████▋                                                           | 44/200 [07:12<25:16,  9.72s/it]"
     ]
    },
    {
     "name": "stdout",
     "output_type": "stream",
     "text": [
      "Epoch 44/200, Train Loss: 0.9360,           Validation Loss: 0.9583, Duration: 0:00:09.894113, Best Val Epoch: 26\n"
     ]
    },
    {
     "name": "stderr",
     "output_type": "stream",
     "text": [
      " 22%|█████████████████                                                           | 45/200 [07:23<25:39,  9.93s/it]"
     ]
    },
    {
     "name": "stdout",
     "output_type": "stream",
     "text": [
      "Epoch 45/200, Train Loss: 0.9358,           Validation Loss: 0.9605, Duration: 0:00:10.424087, Best Val Epoch: 26\n"
     ]
    },
    {
     "name": "stderr",
     "output_type": "stream",
     "text": [
      " 23%|█████████████████▍                                                          | 46/200 [07:33<25:46, 10.04s/it]"
     ]
    },
    {
     "name": "stdout",
     "output_type": "stream",
     "text": [
      "Epoch 46/200, Train Loss: 0.9351,           Validation Loss: 0.9602, Duration: 0:00:10.311267, Best Val Epoch: 26\n"
     ]
    },
    {
     "name": "stderr",
     "output_type": "stream",
     "text": [
      " 24%|█████████████████▊                                                          | 47/200 [07:43<25:29, 10.00s/it]"
     ]
    },
    {
     "name": "stdout",
     "output_type": "stream",
     "text": [
      "Epoch 47/200, Train Loss: 0.9348,           Validation Loss: 0.9591, Duration: 0:00:09.889573, Best Val Epoch: 26\n"
     ]
    },
    {
     "name": "stderr",
     "output_type": "stream",
     "text": [
      " 24%|██████████████████▏                                                         | 48/200 [07:53<25:19, 10.00s/it]"
     ]
    },
    {
     "name": "stdout",
     "output_type": "stream",
     "text": [
      "Epoch 48/200, Train Loss: 0.9348,           Validation Loss: 0.9595, Duration: 0:00:09.993209, Best Val Epoch: 26\n"
     ]
    },
    {
     "name": "stderr",
     "output_type": "stream",
     "text": [
      " 24%|██████████████████▌                                                         | 49/200 [08:02<24:49,  9.86s/it]"
     ]
    },
    {
     "name": "stdout",
     "output_type": "stream",
     "text": [
      "Epoch 49/200, Train Loss: 0.9345,           Validation Loss: 0.9625, Duration: 0:00:09.551355, Best Val Epoch: 26\n"
     ]
    },
    {
     "name": "stderr",
     "output_type": "stream",
     "text": [
      " 25%|███████████████████                                                         | 50/200 [08:13<24:49,  9.93s/it]"
     ]
    },
    {
     "name": "stdout",
     "output_type": "stream",
     "text": [
      "Epoch 50/200, Train Loss: 0.9341,           Validation Loss: 0.9609, Duration: 0:00:10.079981, Best Val Epoch: 26\n"
     ]
    },
    {
     "name": "stderr",
     "output_type": "stream",
     "text": [
      " 26%|███████████████████▍                                                        | 51/200 [08:23<24:39,  9.93s/it]"
     ]
    },
    {
     "name": "stdout",
     "output_type": "stream",
     "text": [
      "Epoch 51/200, Train Loss: 0.9342,           Validation Loss: 0.9626, Duration: 0:00:09.937481, Best Val Epoch: 26\n"
     ]
    },
    {
     "name": "stderr",
     "output_type": "stream",
     "text": [
      " 26%|███████████████████▊                                                        | 52/200 [08:33<24:32,  9.95s/it]"
     ]
    },
    {
     "name": "stdout",
     "output_type": "stream",
     "text": [
      "Epoch 52/200, Train Loss: 0.9297,           Validation Loss: 0.9601, Duration: 0:00:09.992483, Best Val Epoch: 26\n"
     ]
    },
    {
     "name": "stderr",
     "output_type": "stream",
     "text": [
      " 26%|████████████████████▏                                                       | 53/200 [08:43<24:33, 10.02s/it]"
     ]
    },
    {
     "name": "stdout",
     "output_type": "stream",
     "text": [
      "Epoch 53/200, Train Loss: 0.9292,           Validation Loss: 0.9600, Duration: 0:00:10.196695, Best Val Epoch: 26\n"
     ]
    },
    {
     "name": "stderr",
     "output_type": "stream",
     "text": [
      " 27%|████████████████████▌                                                       | 54/200 [08:53<24:17,  9.98s/it]"
     ]
    },
    {
     "name": "stdout",
     "output_type": "stream",
     "text": [
      "Epoch 54/200, Train Loss: 0.9284,           Validation Loss: 0.9601, Duration: 0:00:09.880889, Best Val Epoch: 26\n"
     ]
    },
    {
     "name": "stderr",
     "output_type": "stream",
     "text": [
      " 28%|████████████████████▉                                                       | 55/200 [09:02<23:58,  9.92s/it]"
     ]
    },
    {
     "name": "stdout",
     "output_type": "stream",
     "text": [
      "Epoch 55/200, Train Loss: 0.9279,           Validation Loss: 0.9602, Duration: 0:00:09.768404, Best Val Epoch: 26\n"
     ]
    },
    {
     "name": "stderr",
     "output_type": "stream",
     "text": [
      " 28%|█████████████████████▎                                                      | 56/200 [09:12<23:17,  9.71s/it]"
     ]
    },
    {
     "name": "stdout",
     "output_type": "stream",
     "text": [
      "Epoch 56/200, Train Loss: 0.9278,           Validation Loss: 0.9602, Duration: 0:00:09.211912, Best Val Epoch: 26\n"
     ]
    },
    {
     "name": "stderr",
     "output_type": "stream",
     "text": [
      " 28%|█████████████████████▋                                                      | 57/200 [09:21<23:07,  9.71s/it]"
     ]
    },
    {
     "name": "stdout",
     "output_type": "stream",
     "text": [
      "Epoch 57/200, Train Loss: 0.9278,           Validation Loss: 0.9606, Duration: 0:00:09.703049, Best Val Epoch: 26\n"
     ]
    },
    {
     "name": "stderr",
     "output_type": "stream",
     "text": [
      " 29%|██████████████████████                                                      | 58/200 [09:31<22:56,  9.70s/it]"
     ]
    },
    {
     "name": "stdout",
     "output_type": "stream",
     "text": [
      "Epoch 58/200, Train Loss: 0.9276,           Validation Loss: 0.9604, Duration: 0:00:09.672160, Best Val Epoch: 26\n"
     ]
    },
    {
     "name": "stderr",
     "output_type": "stream",
     "text": [
      " 29%|██████████████████████                                                      | 58/200 [09:36<23:31,  9.94s/it]\n"
     ]
    },
    {
     "ename": "KeyboardInterrupt",
     "evalue": "",
     "output_type": "error",
     "traceback": [
      "\u001b[0;31m---------------------------------------------------------------------------\u001b[0m",
      "\u001b[0;31mKeyboardInterrupt\u001b[0m                         Traceback (most recent call last)",
      "Cell \u001b[0;32mIn[42], line 8\u001b[0m\n\u001b[1;32m      5\u001b[0m \u001b[38;5;28mprint\u001b[39m(\u001b[38;5;124m\"\u001b[39m\u001b[38;5;124mbatch size   ->    \u001b[39m\u001b[38;5;124m\"\u001b[39m \u001b[38;5;241m+\u001b[39m \u001b[38;5;28mstr\u001b[39m(batch_size))\n\u001b[1;32m      6\u001b[0m \u001b[38;5;28mprint\u001b[39m(\u001b[38;5;124m\"\u001b[39m\u001b[38;5;124mOptimizer   ->    \u001b[39m\u001b[38;5;124m\"\u001b[39m \u001b[38;5;241m+\u001b[39m \u001b[38;5;28mstr\u001b[39m(optimizer))\n\u001b[0;32m----> 8\u001b[0m train_losses, val_losses \u001b[38;5;241m=\u001b[39m \u001b[43mbatch_gd\u001b[49m\u001b[43m(\u001b[49m\u001b[43mmodel\u001b[49m\u001b[43m,\u001b[49m\u001b[43m \u001b[49m\u001b[43mcriterion\u001b[49m\u001b[43m,\u001b[49m\u001b[43m \u001b[49m\u001b[43moptimizer\u001b[49m\u001b[43m,\u001b[49m\u001b[43m \u001b[49m\n\u001b[1;32m      9\u001b[0m \u001b[43m                                     \u001b[49m\u001b[43mepochs\u001b[49m\u001b[43m)\u001b[49m\n\u001b[1;32m     11\u001b[0m plt\u001b[38;5;241m.\u001b[39mfigure(figsize\u001b[38;5;241m=\u001b[39m(\u001b[38;5;241m15\u001b[39m,\u001b[38;5;241m6\u001b[39m))\n\u001b[1;32m     12\u001b[0m plt\u001b[38;5;241m.\u001b[39mplot(train_losses, label\u001b[38;5;241m=\u001b[39m\u001b[38;5;124m'\u001b[39m\u001b[38;5;124mtrain loss\u001b[39m\u001b[38;5;124m'\u001b[39m)\n",
      "Cell \u001b[0;32mIn[41], line 27\u001b[0m, in \u001b[0;36mbatch_gd\u001b[0;34m(model, criterion, optimizer, epochs)\u001b[0m\n\u001b[1;32m     25\u001b[0m t0 \u001b[38;5;241m=\u001b[39m datetime\u001b[38;5;241m.\u001b[39mnow()\n\u001b[1;32m     26\u001b[0m train_loss \u001b[38;5;241m=\u001b[39m []\n\u001b[0;32m---> 27\u001b[0m \u001b[38;5;28;01mfor\u001b[39;00m inputs, targets \u001b[38;5;129;01min\u001b[39;00m train_loader:\n\u001b[1;32m     28\u001b[0m     \u001b[38;5;66;03m# move data to GPU\u001b[39;00m\n\u001b[1;32m     29\u001b[0m     inputs, targets \u001b[38;5;241m=\u001b[39m inputs\u001b[38;5;241m.\u001b[39mto(device, dtype\u001b[38;5;241m=\u001b[39mtorch\u001b[38;5;241m.\u001b[39mfloat), targets\u001b[38;5;241m.\u001b[39mto(device, dtype\u001b[38;5;241m=\u001b[39mtorch\u001b[38;5;241m.\u001b[39mint64)\n\u001b[1;32m     31\u001b[0m     \u001b[38;5;66;03m# zero the parameter gradients\u001b[39;00m\n",
      "File \u001b[0;32m~/venv-valley/lib/python3.10/site-packages/torch/utils/data/dataloader.py:630\u001b[0m, in \u001b[0;36m_BaseDataLoaderIter.__next__\u001b[0;34m(self)\u001b[0m\n\u001b[1;32m    627\u001b[0m \u001b[38;5;28;01mif\u001b[39;00m \u001b[38;5;28mself\u001b[39m\u001b[38;5;241m.\u001b[39m_sampler_iter \u001b[38;5;129;01mis\u001b[39;00m \u001b[38;5;28;01mNone\u001b[39;00m:\n\u001b[1;32m    628\u001b[0m     \u001b[38;5;66;03m# TODO(https://github.com/pytorch/pytorch/issues/76750)\u001b[39;00m\n\u001b[1;32m    629\u001b[0m     \u001b[38;5;28mself\u001b[39m\u001b[38;5;241m.\u001b[39m_reset()  \u001b[38;5;66;03m# type: ignore[call-arg]\u001b[39;00m\n\u001b[0;32m--> 630\u001b[0m data \u001b[38;5;241m=\u001b[39m \u001b[38;5;28;43mself\u001b[39;49m\u001b[38;5;241;43m.\u001b[39;49m\u001b[43m_next_data\u001b[49m\u001b[43m(\u001b[49m\u001b[43m)\u001b[49m\n\u001b[1;32m    631\u001b[0m \u001b[38;5;28mself\u001b[39m\u001b[38;5;241m.\u001b[39m_num_yielded \u001b[38;5;241m+\u001b[39m\u001b[38;5;241m=\u001b[39m \u001b[38;5;241m1\u001b[39m\n\u001b[1;32m    632\u001b[0m \u001b[38;5;28;01mif\u001b[39;00m \u001b[38;5;28mself\u001b[39m\u001b[38;5;241m.\u001b[39m_dataset_kind \u001b[38;5;241m==\u001b[39m _DatasetKind\u001b[38;5;241m.\u001b[39mIterable \u001b[38;5;129;01mand\u001b[39;00m \\\n\u001b[1;32m    633\u001b[0m         \u001b[38;5;28mself\u001b[39m\u001b[38;5;241m.\u001b[39m_IterableDataset_len_called \u001b[38;5;129;01mis\u001b[39;00m \u001b[38;5;129;01mnot\u001b[39;00m \u001b[38;5;28;01mNone\u001b[39;00m \u001b[38;5;129;01mand\u001b[39;00m \\\n\u001b[1;32m    634\u001b[0m         \u001b[38;5;28mself\u001b[39m\u001b[38;5;241m.\u001b[39m_num_yielded \u001b[38;5;241m>\u001b[39m \u001b[38;5;28mself\u001b[39m\u001b[38;5;241m.\u001b[39m_IterableDataset_len_called:\n",
      "File \u001b[0;32m~/venv-valley/lib/python3.10/site-packages/torch/utils/data/dataloader.py:674\u001b[0m, in \u001b[0;36m_SingleProcessDataLoaderIter._next_data\u001b[0;34m(self)\u001b[0m\n\u001b[1;32m    672\u001b[0m \u001b[38;5;28;01mdef\u001b[39;00m \u001b[38;5;21m_next_data\u001b[39m(\u001b[38;5;28mself\u001b[39m):\n\u001b[1;32m    673\u001b[0m     index \u001b[38;5;241m=\u001b[39m \u001b[38;5;28mself\u001b[39m\u001b[38;5;241m.\u001b[39m_next_index()  \u001b[38;5;66;03m# may raise StopIteration\u001b[39;00m\n\u001b[0;32m--> 674\u001b[0m     data \u001b[38;5;241m=\u001b[39m \u001b[38;5;28;43mself\u001b[39;49m\u001b[38;5;241;43m.\u001b[39;49m\u001b[43m_dataset_fetcher\u001b[49m\u001b[38;5;241;43m.\u001b[39;49m\u001b[43mfetch\u001b[49m\u001b[43m(\u001b[49m\u001b[43mindex\u001b[49m\u001b[43m)\u001b[49m  \u001b[38;5;66;03m# may raise StopIteration\u001b[39;00m\n\u001b[1;32m    675\u001b[0m     \u001b[38;5;28;01mif\u001b[39;00m \u001b[38;5;28mself\u001b[39m\u001b[38;5;241m.\u001b[39m_pin_memory:\n\u001b[1;32m    676\u001b[0m         data \u001b[38;5;241m=\u001b[39m _utils\u001b[38;5;241m.\u001b[39mpin_memory\u001b[38;5;241m.\u001b[39mpin_memory(data, \u001b[38;5;28mself\u001b[39m\u001b[38;5;241m.\u001b[39m_pin_memory_device)\n",
      "File \u001b[0;32m~/venv-valley/lib/python3.10/site-packages/torch/utils/data/_utils/fetch.py:51\u001b[0m, in \u001b[0;36m_MapDatasetFetcher.fetch\u001b[0;34m(self, possibly_batched_index)\u001b[0m\n\u001b[1;32m     49\u001b[0m         data \u001b[38;5;241m=\u001b[39m \u001b[38;5;28mself\u001b[39m\u001b[38;5;241m.\u001b[39mdataset\u001b[38;5;241m.\u001b[39m__getitems__(possibly_batched_index)\n\u001b[1;32m     50\u001b[0m     \u001b[38;5;28;01melse\u001b[39;00m:\n\u001b[0;32m---> 51\u001b[0m         data \u001b[38;5;241m=\u001b[39m [\u001b[38;5;28mself\u001b[39m\u001b[38;5;241m.\u001b[39mdataset[idx] \u001b[38;5;28;01mfor\u001b[39;00m idx \u001b[38;5;129;01min\u001b[39;00m possibly_batched_index]\n\u001b[1;32m     52\u001b[0m \u001b[38;5;28;01melse\u001b[39;00m:\n\u001b[1;32m     53\u001b[0m     data \u001b[38;5;241m=\u001b[39m \u001b[38;5;28mself\u001b[39m\u001b[38;5;241m.\u001b[39mdataset[possibly_batched_index]\n",
      "File \u001b[0;32m~/venv-valley/lib/python3.10/site-packages/torch/utils/data/_utils/fetch.py:51\u001b[0m, in \u001b[0;36m<listcomp>\u001b[0;34m(.0)\u001b[0m\n\u001b[1;32m     49\u001b[0m         data \u001b[38;5;241m=\u001b[39m \u001b[38;5;28mself\u001b[39m\u001b[38;5;241m.\u001b[39mdataset\u001b[38;5;241m.\u001b[39m__getitems__(possibly_batched_index)\n\u001b[1;32m     50\u001b[0m     \u001b[38;5;28;01melse\u001b[39;00m:\n\u001b[0;32m---> 51\u001b[0m         data \u001b[38;5;241m=\u001b[39m [\u001b[38;5;28mself\u001b[39m\u001b[38;5;241m.\u001b[39mdataset[idx] \u001b[38;5;28;01mfor\u001b[39;00m idx \u001b[38;5;129;01min\u001b[39;00m possibly_batched_index]\n\u001b[1;32m     52\u001b[0m \u001b[38;5;28;01melse\u001b[39;00m:\n\u001b[1;32m     53\u001b[0m     data \u001b[38;5;241m=\u001b[39m \u001b[38;5;28mself\u001b[39m\u001b[38;5;241m.\u001b[39mdataset[possibly_batched_index]\n",
      "\u001b[0;31mKeyboardInterrupt\u001b[0m: "
     ]
    }
   ],
   "source": [
    "print(\"------- List Hyper Parameters -------\")\n",
    "print(\"epochs   ->   \" + str(epochs))\n",
    "print(\"learningRate   ->   \" + str(lr))\n",
    "print(\"horizon    ->     \" + str(T))\n",
    "print(\"batch size   ->    \" + str(batch_size))\n",
    "print(\"Optimizer   ->    \" + str(optimizer))\n",
    "\n",
    "train_losses, val_losses = batch_gd(model, criterion, optimizer, \n",
    "                                     epochs)\n",
    "\n",
    "plt.figure(figsize=(15,6))\n",
    "plt.plot(train_losses, label='train loss')\n",
    "plt.plot(val_losses, label='validation loss')\n",
    "plt.legend()"
   ]
  },
  {
   "cell_type": "markdown",
   "metadata": {
    "id": "F7CF2CwUkn4G"
   },
   "source": [
    "### **Model Testing**"
   ]
  },
  {
   "cell_type": "code",
   "execution_count": 43,
   "metadata": {
    "colab": {
     "background_save": true
    },
    "id": "TFg5d6CzTgWS",
    "outputId": "8d1c2dfd-ecff-4f59-e1dd-45504c121328"
   },
   "outputs": [
    {
     "name": "stdout",
     "output_type": "stream",
     "text": [
      "Test acc: 0.5230\n"
     ]
    }
   ],
   "source": [
    "model = torch.load('./best_model_CTABL')\n",
    "\n",
    "n_correct = 0.\n",
    "n_total = 0.\n",
    "all_targets = []\n",
    "all_predictions = []\n",
    "\n",
    "for i, (inputs, targets) in enumerate(test_loader):\n",
    "    # Move to GPU\n",
    "    inputs, targets = inputs.to(device, dtype=torch.float), targets.to(device, dtype=torch.int64)\n",
    "\n",
    "    # Forward pass\n",
    "    outputs = model(inputs)\n",
    "\n",
    "    # Get prediction\n",
    "    # torch.max returns both max and argmax\n",
    "    _, predictions = torch.max(outputs, 1)\n",
    "    #print(outputs)\n",
    "    #print(predictions)\n",
    "    #print(targets)\n",
    "    #print((predictions == targets).sum().item(), targets.shape[0])\n",
    "\n",
    "    # update counts\n",
    "    n_correct += (predictions == targets).sum().item()\n",
    "    n_total += targets.shape[0]\n",
    "\n",
    "    all_targets.append(targets.cpu().numpy())\n",
    "    all_predictions.append(predictions.cpu().numpy())\n",
    "\n",
    "test_acc = n_correct / n_total\n",
    "print(f\"Test acc: {test_acc:.4f}\")\n",
    "  \n",
    "all_targets = np.concatenate(all_targets)    \n",
    "all_predictions = np.concatenate(all_predictions)    "
   ]
  },
  {
   "cell_type": "code",
   "execution_count": 44,
   "metadata": {
    "colab": {
     "background_save": true
    },
    "id": "0oOu5lwf6zw0",
    "outputId": "a7f1be3e-e874-4733-cead-ca3651a170cc"
   },
   "outputs": [
    {
     "name": "stdout",
     "output_type": "stream",
     "text": [
      "accuracy_score: 0.5230309162740637\n",
      "              precision    recall  f1-score   support\n",
      "\n",
      "           0     0.3972    0.6654    0.4975     42515\n",
      "           1     0.6705    0.5999    0.6332     73156\n",
      "           2     0.4857    0.2275    0.3098     39490\n",
      "\n",
      "    accuracy                         0.5230    155161\n",
      "   macro avg     0.5178    0.4976    0.4802    155161\n",
      "weighted avg     0.5486    0.5230    0.5137    155161\n",
      "\n"
     ]
    },
    {
     "data": {
      "image/png": "[encoded data removed]",
      "text/plain": [
       "<Figure size 640x480 with 2 Axes>"
      ]
     },
     "metadata": {},
     "output_type": "display_data"
    }
   ],
   "source": [
    "print('accuracy_score:', accuracy_score(all_targets, all_predictions))\n",
    "print(classification_report(all_targets, all_predictions, digits=4))\n",
    "\n",
    "c = confusion_matrix(all_targets, all_predictions, normalize=\"true\")\n",
    "disp = ConfusionMatrixDisplay(c)\n",
    "disp.plot()\n",
    "plt.show()"
   ]
  },
  {
   "cell_type": "code",
   "execution_count": 53,
   "metadata": {},
   "outputs": [
    {
     "name": "stdout",
     "output_type": "stream",
     "text": [
      "accuracy_score: 0.5230309162740637\n",
      "f1_score_w: 0.5137096176234173\n",
      "\n",
      "              precision    recall  f1-score   support\n",
      "\n",
      "           0     0.3972    0.6654    0.4975     42515\n",
      "           1     0.6705    0.5999    0.6332     73156\n",
      "           2     0.4857    0.2275    0.3098     39490\n",
      "\n",
      "    accuracy                         0.5230    155161\n",
      "   macro avg     0.5178    0.4976    0.4802    155161\n",
      "weighted avg     0.5486    0.5230    0.5137    155161\n",
      "\n"
     ]
    }
   ],
   "source": [
    "from sklearn.metrics import f1_score\n",
    "\n",
    "print('accuracy_score:', accuracy_score(all_targets, all_predictions))\n",
    "print('f1_score_w:', f1_score(all_targets, all_predictions, average='weighted'))\n",
    "\n",
    "print()\n",
    "print(classification_report(all_targets, all_predictions, digits=4))\n",
    "\n"
   ]
  },
  {
   "cell_type": "code",
   "execution_count": 79,
   "metadata": {},
   "outputs": [
    {
     "data": {
      "text/plain": [
       "array([[0.66536517, 0.24055039, 0.09408444],\n",
       "       [0.32479906, 0.5998551 , 0.07534584],\n",
       "       [0.48538871, 0.28713598, 0.22747531]])"
      ]
     },
     "execution_count": 79,
     "metadata": {},
     "output_type": "execute_result"
    }
   ],
   "source": [
    "import re\n",
    "s = str(c.tolist())\n",
    "np.fromstring(', '.join(re.findall(r'\\[+(.+?)\\]', s)), sep =', ').reshape((-1, 3))"
   ]
  },
  {
   "cell_type": "code",
   "execution_count": null,
   "metadata": {},
   "outputs": [],
   "source": []
  }
 ],
 "metadata": {
  "accelerator": "GPU",
  "colab": {
   "provenance": []
  },
  "gpuClass": "premium",
  "kernelspec": {
   "display_name": "Python 3 (ipykernel)",
   "language": "python",
   "name": "python3"
  },
  "language_info": {
   "codemirror_mode": {
    "name": "ipython",
    "version": 3
   },
   "file_extension": ".py",
   "mimetype": "text/x-python",
   "name": "python",
   "nbconvert_exporter": "python",
   "pygments_lexer": "ipython3",
   "version": "3.10.6"
  }
 },
 "nbformat": 4,
 "nbformat_minor": 4
}
