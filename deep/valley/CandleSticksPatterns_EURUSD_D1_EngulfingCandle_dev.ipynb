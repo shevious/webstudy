{
 "cells": [
  {
   "cell_type": "markdown",
   "metadata": {},
   "source": [
    "# Candlesticks Engulfing patterns and statistical analysis\n",
    "# Loading and preparing data"
   ]
  },
  {
   "cell_type": "markdown",
   "metadata": {},
   "source": [
    "https://drive.google.com/file/d/1qnYyi0F7vi4ROsjPCYdE3UnrOYPqQdiY/view"
   ]
  },
  {
   "cell_type": "code",
   "execution_count": 2,
   "metadata": {
    "scrolled": true
   },
   "outputs": [
    {
     "data": {
      "text/html": [
       "<div>\n",
       "<style scoped>\n",
       "    .dataframe tbody tr th:only-of-type {\n",
       "        vertical-align: middle;\n",
       "    }\n",
       "\n",
       "    .dataframe tbody tr th {\n",
       "        vertical-align: top;\n",
       "    }\n",
       "\n",
       "    .dataframe thead th {\n",
       "        text-align: right;\n",
       "    }\n",
       "</style>\n",
       "<table border=\"1\" class=\"dataframe\">\n",
       "  <thead>\n",
       "    <tr style=\"text-align: right;\">\n",
       "      <th></th>\n",
       "      <th>Local time</th>\n",
       "      <th>open</th>\n",
       "      <th>high</th>\n",
       "      <th>low</th>\n",
       "      <th>close</th>\n",
       "      <th>volume</th>\n",
       "    </tr>\n",
       "  </thead>\n",
       "  <tbody>\n",
       "    <tr>\n",
       "      <th>4322</th>\n",
       "      <td>14.10.2019 00:00:00.000 GMT+0300</td>\n",
       "      <td>1.10399</td>\n",
       "      <td>1.10428</td>\n",
       "      <td>1.10129</td>\n",
       "      <td>1.10281</td>\n",
       "      <td>150329.9600</td>\n",
       "    </tr>\n",
       "    <tr>\n",
       "      <th>4323</th>\n",
       "      <td>15.10.2019 00:00:00.000 GMT+0300</td>\n",
       "      <td>1.10281</td>\n",
       "      <td>1.10463</td>\n",
       "      <td>1.09915</td>\n",
       "      <td>1.10338</td>\n",
       "      <td>225114.4925</td>\n",
       "    </tr>\n",
       "    <tr>\n",
       "      <th>4324</th>\n",
       "      <td>16.10.2019 00:00:00.000 GMT+0300</td>\n",
       "      <td>1.10331</td>\n",
       "      <td>1.10857</td>\n",
       "      <td>1.10226</td>\n",
       "      <td>1.10720</td>\n",
       "      <td>224179.4392</td>\n",
       "    </tr>\n",
       "    <tr>\n",
       "      <th>4325</th>\n",
       "      <td>17.10.2019 00:00:00.000 GMT+0300</td>\n",
       "      <td>1.10724</td>\n",
       "      <td>1.11400</td>\n",
       "      <td>1.10653</td>\n",
       "      <td>1.11254</td>\n",
       "      <td>221922.6500</td>\n",
       "    </tr>\n",
       "    <tr>\n",
       "      <th>4326</th>\n",
       "      <td>18.10.2019 00:00:00.000 GMT+0300</td>\n",
       "      <td>1.11256</td>\n",
       "      <td>1.11727</td>\n",
       "      <td>1.11149</td>\n",
       "      <td>1.11723</td>\n",
       "      <td>143073.7750</td>\n",
       "    </tr>\n",
       "  </tbody>\n",
       "</table>\n",
       "</div>"
      ],
      "text/plain": [
       "                            Local time     open     high      low    close  \\\n",
       "4322  14.10.2019 00:00:00.000 GMT+0300  1.10399  1.10428  1.10129  1.10281   \n",
       "4323  15.10.2019 00:00:00.000 GMT+0300  1.10281  1.10463  1.09915  1.10338   \n",
       "4324  16.10.2019 00:00:00.000 GMT+0300  1.10331  1.10857  1.10226  1.10720   \n",
       "4325  17.10.2019 00:00:00.000 GMT+0300  1.10724  1.11400  1.10653  1.11254   \n",
       "4326  18.10.2019 00:00:00.000 GMT+0300  1.11256  1.11727  1.11149  1.11723   \n",
       "\n",
       "           volume  \n",
       "4322  150329.9600  \n",
       "4323  225114.4925  \n",
       "4324  224179.4392  \n",
       "4325  221922.6500  \n",
       "4326  143073.7750  "
      ]
     },
     "execution_count": 2,
     "metadata": {},
     "output_type": "execute_result"
    }
   ],
   "source": [
    "import pandas as pd\n",
    "df = pd.read_csv(\"data/EURUSD_Candlestick_1_D_ASK_05.05.2003-19.10.2019.csv\")\n",
    "df.tail()"
   ]
  },
  {
   "cell_type": "code",
   "execution_count": 3,
   "metadata": {},
   "outputs": [
    {
     "data": {
      "text/plain": [
       "Local time    0\n",
       "open          0\n",
       "high          0\n",
       "low           0\n",
       "close         0\n",
       "volume        0\n",
       "dtype: int64"
      ]
     },
     "execution_count": 3,
     "metadata": {},
     "output_type": "execute_result"
    }
   ],
   "source": [
    "#Check if NA values are in data\n",
    "df.isna().sum()"
   ]
  },
  {
   "cell_type": "markdown",
   "metadata": {},
   "source": [
    "# Identifying the Engulfing candle patterns"
   ]
  },
  {
   "cell_type": "code",
   "execution_count": 4,
   "metadata": {},
   "outputs": [
    {
     "data": {
      "text/plain": [
       "Local time    131\n",
       "open          131\n",
       "high          131\n",
       "low           131\n",
       "close         131\n",
       "volume        131\n",
       "signal1       131\n",
       "dtype: int64"
      ]
     },
     "execution_count": 4,
     "metadata": {},
     "output_type": "execute_result"
    }
   ],
   "source": [
    "#Engulfing pattern signals\n",
    "import random\n",
    "def Revsignal1(df1):\n",
    "    length = len(df1)\n",
    "    high = list(df1['high'])\n",
    "    low = list(df1['low'])\n",
    "    close = list(df1['close'])\n",
    "    open = list(df1['open'])\n",
    "    signal = [0] * length\n",
    "    bodydiff = [0] * length\n",
    "\n",
    "    for row in range(1, length):\n",
    "        bodydiff[row] = abs(open[row]-close[row])\n",
    "        bodydiffmin = 0.003\n",
    "        if (bodydiff[row]>bodydiffmin and bodydiff[row-1]>bodydiffmin and\n",
    "            open[row-1]<close[row-1] and\n",
    "            open[row]>close[row] and \n",
    "            #open[row]>=close[row-1] and close[row]<open[row-1]):\n",
    "            (open[row]-close[row-1])>=+0e-5 and close[row]<open[row-1]):\n",
    "            signal[row] = 1\n",
    "        elif (bodydiff[row]>bodydiffmin and bodydiff[row-1]>bodydiffmin and\n",
    "            open[row-1]>close[row-1] and\n",
    "            open[row]<close[row] and \n",
    "            #open[row]<=close[row-1] and close[row]>open[row-1]):\n",
    "            (open[row]-close[row-1])<=-0e-5 and close[row]>open[row-1]):\n",
    "            signal[row] = 2\n",
    "        else:\n",
    "            signal[row] = 0\n",
    "        #signal[row]=random.choice([0, 1, 2])\n",
    "        #signal[row]=1\n",
    "    return signal\n",
    "df['signal1'] = Revsignal1(df)\n",
    "df[df['signal1']==1].count()"
   ]
  },
  {
   "cell_type": "code",
   "execution_count": 5,
   "metadata": {},
   "outputs": [],
   "source": [
    "#Target\n",
    "def mytarget(df1, barsfront):\n",
    "    length = len(df1)\n",
    "    high = list(df1['high'])\n",
    "    low = list(df1['low'])\n",
    "    close = list(df1['close'])\n",
    "    open = list(df1['open'])\n",
    "    trendcat = [None] * length\n",
    "    \n",
    "    piplim = 300e-5\n",
    "    for line in range (0, length-1-barsfront):\n",
    "        for i in range(1,barsfront+1):\n",
    "            if ((high[line+i]-max(close[line],open[line]))>piplim) and ((min(close[line],open[line])-low[line+i])>piplim):\n",
    "                trendcat[line] = 3 # no trend\n",
    "            elif (min(close[line],open[line])-low[line+i])>piplim:\n",
    "                trendcat[line] = 1 #-1 downtrend\n",
    "                break\n",
    "            elif (high[line+i]-max(close[line],open[line]))>piplim:\n",
    "                trendcat[line] = 2 # uptrend\n",
    "                break\n",
    "            else:\n",
    "                trendcat[line] = 0 # no clear trend  \n",
    "    return trendcat\n",
    "\n",
    "df['Trend'] = mytarget(df,3)\n",
    "#df.head(30)\n"
   ]
  },
  {
   "cell_type": "code",
   "execution_count": 6,
   "metadata": {},
   "outputs": [
    {
     "name": "stdout",
     "output_type": "stream",
     "text": [
      "0.8205128205128205\n"
     ]
    },
    {
     "data": {
      "text/html": [
       "<div>\n",
       "<style scoped>\n",
       "    .dataframe tbody tr th:only-of-type {\n",
       "        vertical-align: middle;\n",
       "    }\n",
       "\n",
       "    .dataframe tbody tr th {\n",
       "        vertical-align: top;\n",
       "    }\n",
       "\n",
       "    .dataframe thead th {\n",
       "        text-align: right;\n",
       "    }\n",
       "</style>\n",
       "<table border=\"1\" class=\"dataframe\">\n",
       "  <thead>\n",
       "    <tr style=\"text-align: right;\">\n",
       "      <th></th>\n",
       "      <th>Local time</th>\n",
       "      <th>open</th>\n",
       "      <th>high</th>\n",
       "      <th>low</th>\n",
       "      <th>close</th>\n",
       "      <th>volume</th>\n",
       "      <th>signal1</th>\n",
       "      <th>Trend</th>\n",
       "      <th>result</th>\n",
       "    </tr>\n",
       "  </thead>\n",
       "  <tbody>\n",
       "    <tr>\n",
       "      <th>224</th>\n",
       "      <td>11.03.2004 00:00:00.000 GMT+0200</td>\n",
       "      <td>1.22216</td>\n",
       "      <td>1.23841</td>\n",
       "      <td>1.21627</td>\n",
       "      <td>1.23504</td>\n",
       "      <td>1.129471e+06</td>\n",
       "      <td>2</td>\n",
       "      <td>1.0</td>\n",
       "      <td>0</td>\n",
       "    </tr>\n",
       "    <tr>\n",
       "      <th>417</th>\n",
       "      <td>03.12.2004 00:00:00.000 GMT+0200</td>\n",
       "      <td>1.32682</td>\n",
       "      <td>1.34604</td>\n",
       "      <td>1.32513</td>\n",
       "      <td>1.34505</td>\n",
       "      <td>1.100705e+06</td>\n",
       "      <td>2</td>\n",
       "      <td>1.0</td>\n",
       "      <td>0</td>\n",
       "    </tr>\n",
       "    <tr>\n",
       "      <th>675</th>\n",
       "      <td>28.11.2005 00:00:00.000 GMT+0200</td>\n",
       "      <td>1.17096</td>\n",
       "      <td>1.19015</td>\n",
       "      <td>1.16806</td>\n",
       "      <td>1.18475</td>\n",
       "      <td>1.080417e+06</td>\n",
       "      <td>2</td>\n",
       "      <td>0.0</td>\n",
       "      <td>0</td>\n",
       "    </tr>\n",
       "    <tr>\n",
       "      <th>1049</th>\n",
       "      <td>27.04.2007 00:00:00.000 GMT+0300</td>\n",
       "      <td>1.36020</td>\n",
       "      <td>1.36830</td>\n",
       "      <td>1.35860</td>\n",
       "      <td>1.36540</td>\n",
       "      <td>1.024237e+06</td>\n",
       "      <td>2</td>\n",
       "      <td>1.0</td>\n",
       "      <td>0</td>\n",
       "    </tr>\n",
       "    <tr>\n",
       "      <th>1609</th>\n",
       "      <td>11.06.2009 00:00:00.000 GMT+0300</td>\n",
       "      <td>1.39863</td>\n",
       "      <td>1.41730</td>\n",
       "      <td>1.39440</td>\n",
       "      <td>1.41095</td>\n",
       "      <td>5.543684e+05</td>\n",
       "      <td>2</td>\n",
       "      <td>1.0</td>\n",
       "      <td>0</td>\n",
       "    </tr>\n",
       "    <tr>\n",
       "      <th>1689</th>\n",
       "      <td>30.09.2009 00:00:00.000 GMT+0300</td>\n",
       "      <td>1.45867</td>\n",
       "      <td>1.46739</td>\n",
       "      <td>1.45734</td>\n",
       "      <td>1.46376</td>\n",
       "      <td>7.987590e+04</td>\n",
       "      <td>2</td>\n",
       "      <td>1.0</td>\n",
       "      <td>0</td>\n",
       "    </tr>\n",
       "    <tr>\n",
       "      <th>2133</th>\n",
       "      <td>07.06.2011 00:00:00.000 GMT+0300</td>\n",
       "      <td>1.45766</td>\n",
       "      <td>1.46964</td>\n",
       "      <td>1.45646</td>\n",
       "      <td>1.46923</td>\n",
       "      <td>2.083190e+05</td>\n",
       "      <td>2</td>\n",
       "      <td>1.0</td>\n",
       "      <td>0</td>\n",
       "    </tr>\n",
       "    <tr>\n",
       "      <th>2174</th>\n",
       "      <td>03.08.2011 00:00:00.000 GMT+0300</td>\n",
       "      <td>1.42040</td>\n",
       "      <td>1.43448</td>\n",
       "      <td>1.41460</td>\n",
       "      <td>1.43243</td>\n",
       "      <td>3.184016e+05</td>\n",
       "      <td>2</td>\n",
       "      <td>1.0</td>\n",
       "      <td>0</td>\n",
       "    </tr>\n",
       "    <tr>\n",
       "      <th>2215</th>\n",
       "      <td>29.09.2011 00:00:00.000 GMT+0300</td>\n",
       "      <td>1.35433</td>\n",
       "      <td>1.36784</td>\n",
       "      <td>1.35205</td>\n",
       "      <td>1.35985</td>\n",
       "      <td>2.839137e+05</td>\n",
       "      <td>2</td>\n",
       "      <td>1.0</td>\n",
       "      <td>0</td>\n",
       "    </tr>\n",
       "    <tr>\n",
       "      <th>2244</th>\n",
       "      <td>08.11.2011 00:00:00.000 GMT+0200</td>\n",
       "      <td>1.37771</td>\n",
       "      <td>1.38480</td>\n",
       "      <td>1.37252</td>\n",
       "      <td>1.38339</td>\n",
       "      <td>2.502527e+05</td>\n",
       "      <td>2</td>\n",
       "      <td>1.0</td>\n",
       "      <td>0</td>\n",
       "    </tr>\n",
       "    <tr>\n",
       "      <th>2292</th>\n",
       "      <td>12.01.2012 00:00:00.000 GMT+0200</td>\n",
       "      <td>1.27072</td>\n",
       "      <td>1.28452</td>\n",
       "      <td>1.26999</td>\n",
       "      <td>1.28151</td>\n",
       "      <td>3.078163e+05</td>\n",
       "      <td>2</td>\n",
       "      <td>1.0</td>\n",
       "      <td>0</td>\n",
       "    </tr>\n",
       "    <tr>\n",
       "      <th>2607</th>\n",
       "      <td>21.03.2013 23:00:00.000 GMT+0200</td>\n",
       "      <td>1.28992</td>\n",
       "      <td>1.30077</td>\n",
       "      <td>1.28886</td>\n",
       "      <td>1.29886</td>\n",
       "      <td>2.482676e+05</td>\n",
       "      <td>2</td>\n",
       "      <td>1.0</td>\n",
       "      <td>0</td>\n",
       "    </tr>\n",
       "    <tr>\n",
       "      <th>2624</th>\n",
       "      <td>16.04.2013 00:00:00.000 GMT+0300</td>\n",
       "      <td>1.30351</td>\n",
       "      <td>1.32020</td>\n",
       "      <td>1.30298</td>\n",
       "      <td>1.31781</td>\n",
       "      <td>2.836193e+05</td>\n",
       "      <td>2</td>\n",
       "      <td>1.0</td>\n",
       "      <td>0</td>\n",
       "    </tr>\n",
       "    <tr>\n",
       "      <th>3082</th>\n",
       "      <td>09.01.2015 00:00:00.000 GMT+0200</td>\n",
       "      <td>1.17929</td>\n",
       "      <td>1.18464</td>\n",
       "      <td>1.17630</td>\n",
       "      <td>1.18425</td>\n",
       "      <td>1.665926e+05</td>\n",
       "      <td>2</td>\n",
       "      <td>1.0</td>\n",
       "      <td>0</td>\n",
       "    </tr>\n",
       "    <tr>\n",
       "      <th>3204</th>\n",
       "      <td>29.06.2015 00:00:00.000 GMT+0300</td>\n",
       "      <td>1.10073</td>\n",
       "      <td>1.12786</td>\n",
       "      <td>1.09550</td>\n",
       "      <td>1.12362</td>\n",
       "      <td>2.400577e+05</td>\n",
       "      <td>2</td>\n",
       "      <td>0.0</td>\n",
       "      <td>0</td>\n",
       "    </tr>\n",
       "    <tr>\n",
       "      <th>3213</th>\n",
       "      <td>10.07.2015 00:00:00.000 GMT+0300</td>\n",
       "      <td>1.10377</td>\n",
       "      <td>1.12164</td>\n",
       "      <td>1.10322</td>\n",
       "      <td>1.11584</td>\n",
       "      <td>2.122633e+05</td>\n",
       "      <td>2</td>\n",
       "      <td>1.0</td>\n",
       "      <td>0</td>\n",
       "    </tr>\n",
       "    <tr>\n",
       "      <th>3228</th>\n",
       "      <td>31.07.2015 00:00:00.000 GMT+0300</td>\n",
       "      <td>1.09335</td>\n",
       "      <td>1.11144</td>\n",
       "      <td>1.09213</td>\n",
       "      <td>1.09861</td>\n",
       "      <td>1.927528e+05</td>\n",
       "      <td>2</td>\n",
       "      <td>1.0</td>\n",
       "      <td>0</td>\n",
       "    </tr>\n",
       "    <tr>\n",
       "      <th>3707</th>\n",
       "      <td>02.06.2017 00:00:00.000 GMT+0300</td>\n",
       "      <td>1.12130</td>\n",
       "      <td>1.12852</td>\n",
       "      <td>1.12052</td>\n",
       "      <td>1.12851</td>\n",
       "      <td>1.691527e+05</td>\n",
       "      <td>2</td>\n",
       "      <td>0.0</td>\n",
       "      <td>0</td>\n",
       "    </tr>\n",
       "    <tr>\n",
       "      <th>3860</th>\n",
       "      <td>04.01.2018 00:00:00.000 GMT+0200</td>\n",
       "      <td>1.20146</td>\n",
       "      <td>1.20890</td>\n",
       "      <td>1.20046</td>\n",
       "      <td>1.20685</td>\n",
       "      <td>2.100527e+05</td>\n",
       "      <td>2</td>\n",
       "      <td>1.0</td>\n",
       "      <td>0</td>\n",
       "    </tr>\n",
       "    <tr>\n",
       "      <th>4034</th>\n",
       "      <td>05.09.2018 00:00:00.000 GMT+0300</td>\n",
       "      <td>1.15828</td>\n",
       "      <td>1.16401</td>\n",
       "      <td>1.15430</td>\n",
       "      <td>1.16303</td>\n",
       "      <td>2.581394e+05</td>\n",
       "      <td>2</td>\n",
       "      <td>1.0</td>\n",
       "      <td>0</td>\n",
       "    </tr>\n",
       "    <tr>\n",
       "      <th>4148</th>\n",
       "      <td>12.02.2019 00:00:00.000 GMT+0200</td>\n",
       "      <td>1.12763</td>\n",
       "      <td>1.13398</td>\n",
       "      <td>1.12579</td>\n",
       "      <td>1.13259</td>\n",
       "      <td>4.096074e+05</td>\n",
       "      <td>2</td>\n",
       "      <td>1.0</td>\n",
       "      <td>0</td>\n",
       "    </tr>\n",
       "  </tbody>\n",
       "</table>\n",
       "</div>"
      ],
      "text/plain": [
       "                            Local time     open     high      low    close  \\\n",
       "224   11.03.2004 00:00:00.000 GMT+0200  1.22216  1.23841  1.21627  1.23504   \n",
       "417   03.12.2004 00:00:00.000 GMT+0200  1.32682  1.34604  1.32513  1.34505   \n",
       "675   28.11.2005 00:00:00.000 GMT+0200  1.17096  1.19015  1.16806  1.18475   \n",
       "1049  27.04.2007 00:00:00.000 GMT+0300  1.36020  1.36830  1.35860  1.36540   \n",
       "1609  11.06.2009 00:00:00.000 GMT+0300  1.39863  1.41730  1.39440  1.41095   \n",
       "1689  30.09.2009 00:00:00.000 GMT+0300  1.45867  1.46739  1.45734  1.46376   \n",
       "2133  07.06.2011 00:00:00.000 GMT+0300  1.45766  1.46964  1.45646  1.46923   \n",
       "2174  03.08.2011 00:00:00.000 GMT+0300  1.42040  1.43448  1.41460  1.43243   \n",
       "2215  29.09.2011 00:00:00.000 GMT+0300  1.35433  1.36784  1.35205  1.35985   \n",
       "2244  08.11.2011 00:00:00.000 GMT+0200  1.37771  1.38480  1.37252  1.38339   \n",
       "2292  12.01.2012 00:00:00.000 GMT+0200  1.27072  1.28452  1.26999  1.28151   \n",
       "2607  21.03.2013 23:00:00.000 GMT+0200  1.28992  1.30077  1.28886  1.29886   \n",
       "2624  16.04.2013 00:00:00.000 GMT+0300  1.30351  1.32020  1.30298  1.31781   \n",
       "3082  09.01.2015 00:00:00.000 GMT+0200  1.17929  1.18464  1.17630  1.18425   \n",
       "3204  29.06.2015 00:00:00.000 GMT+0300  1.10073  1.12786  1.09550  1.12362   \n",
       "3213  10.07.2015 00:00:00.000 GMT+0300  1.10377  1.12164  1.10322  1.11584   \n",
       "3228  31.07.2015 00:00:00.000 GMT+0300  1.09335  1.11144  1.09213  1.09861   \n",
       "3707  02.06.2017 00:00:00.000 GMT+0300  1.12130  1.12852  1.12052  1.12851   \n",
       "3860  04.01.2018 00:00:00.000 GMT+0200  1.20146  1.20890  1.20046  1.20685   \n",
       "4034  05.09.2018 00:00:00.000 GMT+0300  1.15828  1.16401  1.15430  1.16303   \n",
       "4148  12.02.2019 00:00:00.000 GMT+0200  1.12763  1.13398  1.12579  1.13259   \n",
       "\n",
       "            volume  signal1  Trend  result  \n",
       "224   1.129471e+06        2    1.0       0  \n",
       "417   1.100705e+06        2    1.0       0  \n",
       "675   1.080417e+06        2    0.0       0  \n",
       "1049  1.024237e+06        2    1.0       0  \n",
       "1609  5.543684e+05        2    1.0       0  \n",
       "1689  7.987590e+04        2    1.0       0  \n",
       "2133  2.083190e+05        2    1.0       0  \n",
       "2174  3.184016e+05        2    1.0       0  \n",
       "2215  2.839137e+05        2    1.0       0  \n",
       "2244  2.502527e+05        2    1.0       0  \n",
       "2292  3.078163e+05        2    1.0       0  \n",
       "2607  2.482676e+05        2    1.0       0  \n",
       "2624  2.836193e+05        2    1.0       0  \n",
       "3082  1.665926e+05        2    1.0       0  \n",
       "3204  2.400577e+05        2    0.0       0  \n",
       "3213  2.122633e+05        2    1.0       0  \n",
       "3228  1.927528e+05        2    1.0       0  \n",
       "3707  1.691527e+05        2    0.0       0  \n",
       "3860  2.100527e+05        2    1.0       0  \n",
       "4034  2.581394e+05        2    1.0       0  \n",
       "4148  4.096074e+05        2    1.0       0  "
      ]
     },
     "execution_count": 6,
     "metadata": {},
     "output_type": "execute_result"
    }
   ],
   "source": [
    "import numpy as np\n",
    "conditions = [(df['Trend'] == 1) & (df['signal1'] == 1),(df['Trend'] == 2) & (df['signal1'] == 2)]\n",
    "values = [1, 2]\n",
    "df['result'] = np.select(conditions, values)\n",
    "\n",
    "trendId=2\n",
    "print(df[df['result']==trendId].result.count()/df[df['signal1']==trendId].signal1.count())\n",
    "df[ (df['Trend']!=trendId) & (df['signal1']==trendId) ] # false positives"
   ]
  },
  {
   "cell_type": "code",
   "execution_count": 21,
   "metadata": {},
   "outputs": [
    {
     "data": {
      "application/vnd.plotly.v1+json": {
       "config": {
        "plotlyServerURL": "https://plot.ly"
       },
       "data": [
        {
         "close": [
          1.28879,
          1.29052,
          1.29738,
          1.29456,
          1.29544,
          1.30361,
          1.2959,
          1.30225,
          1.3048,
          1.30873,
          1.31833,
          1.32713,
          1.32952,
          1.32796,
          1.32781,
          1.33427,
          1.3269,
          1.34505,
          1.34057,
          1.34177,
          1.33344,
          1.33093,
          1.3224,
          1.33096,
          1.32959,
          1.33904,
          1.32404,
          1.33075,
          1.33935,
          1.33727,
          1.33898,
          1.35143,
          1.35316,
          1.36157,
          1.36038,
          1.36052,
          1.36345,
          1.35537,
          1.34645,
          1.3278,
          1.32616,
          1.31718,
          1.30515,
          1.30732,
          1.31058,
          1.32541,
          1.32212,
          1.31104,
          1.30674,
          1.30202
         ],
         "high": [
          1.30028,
          1.29196,
          1.29881,
          1.29984,
          1.2993,
          1.30462,
          1.30732,
          1.30672,
          1.30517,
          1.31014,
          1.31888,
          1.32801,
          1.33288,
          1.33038,
          1.33311,
          1.33559,
          1.33816,
          1.34604,
          1.34555,
          1.34691,
          1.34324,
          1.33617,
          1.33182,
          1.33259,
          1.33314,
          1.3443,
          1.3428,
          1.3316,
          1.34083,
          1.34074,
          1.3404,
          1.35159,
          1.35475,
          1.36384,
          1.36429,
          1.36468,
          1.36653,
          1.36593,
          1.35797,
          1.34941,
          1.33016,
          1.32811,
          1.32489,
          1.31209,
          1.3171,
          1.32925,
          1.32653,
          1.32233,
          1.3127,
          1.30731
         ],
         "low": [
          1.28508,
          1.28589,
          1.28761,
          1.29165,
          1.29179,
          1.29497,
          1.29408,
          1.29385,
          1.30133,
          1.29768,
          1.30792,
          1.31618,
          1.31858,
          1.32292,
          1.32312,
          1.32749,
          1.32373,
          1.32513,
          1.33899,
          1.33872,
          1.31944,
          1.32513,
          1.31404,
          1.31883,
          1.32589,
          1.32608,
          1.31931,
          1.3227,
          1.32959,
          1.33379,
          1.33421,
          1.33798,
          1.34834,
          1.3512,
          1.35774,
          1.35567,
          1.3574,
          1.35042,
          1.33871,
          1.32509,
          1.3216,
          1.31551,
          1.30244,
          1.30486,
          1.30669,
          1.30826,
          1.31932,
          1.30566,
          1.30589,
          1.29948
         ],
         "open": [
          1.28988,
          1.28896,
          1.29063,
          1.29719,
          1.29473,
          1.2955,
          1.30331,
          1.29607,
          1.30373,
          1.30482,
          1.3087,
          1.3187,
          1.3262,
          1.32679,
          1.32788,
          1.32796,
          1.33421,
          1.32682,
          1.34422,
          1.34062,
          1.34181,
          1.33373,
          1.3309,
          1.31928,
          1.33112,
          1.32955,
          1.3393,
          1.32423,
          1.33288,
          1.33943,
          1.33707,
          1.33891,
          1.35131,
          1.3529,
          1.3615,
          1.36112,
          1.36065,
          1.36346,
          1.3548,
          1.34648,
          1.32776,
          1.32613,
          1.31708,
          1.30589,
          1.30736,
          1.31053,
          1.32531,
          1.32222,
          1.31015,
          1.30644
         ],
         "type": "candlestick",
         "x": [
          400,
          401,
          402,
          403,
          404,
          405,
          406,
          407,
          408,
          409,
          410,
          411,
          412,
          413,
          414,
          415,
          416,
          417,
          418,
          419,
          420,
          421,
          422,
          423,
          424,
          425,
          426,
          427,
          428,
          429,
          430,
          431,
          432,
          433,
          434,
          435,
          436,
          437,
          438,
          439,
          440,
          441,
          442,
          443,
          444,
          445,
          446,
          447,
          448,
          449
         ]
        }
       ],
       "layout": {
        "autosize": true,
        "template": {
         "data": {
          "bar": [
           {
            "error_x": {
             "color": "#2a3f5f"
            },
            "error_y": {
             "color": "#2a3f5f"
            },
            "marker": {
             "line": {
              "color": "#E5ECF6",
              "width": 0.5
             },
             "pattern": {
              "fillmode": "overlay",
              "size": 10,
              "solidity": 0.2
             }
            },
            "type": "bar"
           }
          ],
          "barpolar": [
           {
            "marker": {
             "line": {
              "color": "#E5ECF6",
              "width": 0.5
             },
             "pattern": {
              "fillmode": "overlay",
              "size": 10,
              "solidity": 0.2
             }
            },
            "type": "barpolar"
           }
          ],
          "carpet": [
           {
            "aaxis": {
             "endlinecolor": "#2a3f5f",
             "gridcolor": "white",
             "linecolor": "white",
             "minorgridcolor": "white",
             "startlinecolor": "#2a3f5f"
            },
            "baxis": {
             "endlinecolor": "#2a3f5f",
             "gridcolor": "white",
             "linecolor": "white",
             "minorgridcolor": "white",
             "startlinecolor": "#2a3f5f"
            },
            "type": "carpet"
           }
          ],
          "choropleth": [
           {
            "colorbar": {
             "outlinewidth": 0,
             "ticks": ""
            },
            "type": "choropleth"
           }
          ],
          "contour": [
           {
            "colorbar": {
             "outlinewidth": 0,
             "ticks": ""
            },
            "colorscale": [
             [
              0,
              "#0d0887"
             ],
             [
              0.1111111111111111,
              "#46039f"
             ],
             [
              0.2222222222222222,
              "#7201a8"
             ],
             [
              0.3333333333333333,
              "#9c179e"
             ],
             [
              0.4444444444444444,
              "#bd3786"
             ],
             [
              0.5555555555555556,
              "#d8576b"
             ],
             [
              0.6666666666666666,
              "#ed7953"
             ],
             [
              0.7777777777777778,
              "#fb9f3a"
             ],
             [
              0.8888888888888888,
              "#fdca26"
             ],
             [
              1,
              "#f0f921"
             ]
            ],
            "type": "contour"
           }
          ],
          "contourcarpet": [
           {
            "colorbar": {
             "outlinewidth": 0,
             "ticks": ""
            },
            "type": "contourcarpet"
           }
          ],
          "heatmap": [
           {
            "colorbar": {
             "outlinewidth": 0,
             "ticks": ""
            },
            "colorscale": [
             [
              0,
              "#0d0887"
             ],
             [
              0.1111111111111111,
              "#46039f"
             ],
             [
              0.2222222222222222,
              "#7201a8"
             ],
             [
              0.3333333333333333,
              "#9c179e"
             ],
             [
              0.4444444444444444,
              "#bd3786"
             ],
             [
              0.5555555555555556,
              "#d8576b"
             ],
             [
              0.6666666666666666,
              "#ed7953"
             ],
             [
              0.7777777777777778,
              "#fb9f3a"
             ],
             [
              0.8888888888888888,
              "#fdca26"
             ],
             [
              1,
              "#f0f921"
             ]
            ],
            "type": "heatmap"
           }
          ],
          "heatmapgl": [
           {
            "colorbar": {
             "outlinewidth": 0,
             "ticks": ""
            },
            "colorscale": [
             [
              0,
              "#0d0887"
             ],
             [
              0.1111111111111111,
              "#46039f"
             ],
             [
              0.2222222222222222,
              "#7201a8"
             ],
             [
              0.3333333333333333,
              "#9c179e"
             ],
             [
              0.4444444444444444,
              "#bd3786"
             ],
             [
              0.5555555555555556,
              "#d8576b"
             ],
             [
              0.6666666666666666,
              "#ed7953"
             ],
             [
              0.7777777777777778,
              "#fb9f3a"
             ],
             [
              0.8888888888888888,
              "#fdca26"
             ],
             [
              1,
              "#f0f921"
             ]
            ],
            "type": "heatmapgl"
           }
          ],
          "histogram": [
           {
            "marker": {
             "pattern": {
              "fillmode": "overlay",
              "size": 10,
              "solidity": 0.2
             }
            },
            "type": "histogram"
           }
          ],
          "histogram2d": [
           {
            "colorbar": {
             "outlinewidth": 0,
             "ticks": ""
            },
            "colorscale": [
             [
              0,
              "#0d0887"
             ],
             [
              0.1111111111111111,
              "#46039f"
             ],
             [
              0.2222222222222222,
              "#7201a8"
             ],
             [
              0.3333333333333333,
              "#9c179e"
             ],
             [
              0.4444444444444444,
              "#bd3786"
             ],
             [
              0.5555555555555556,
              "#d8576b"
             ],
             [
              0.6666666666666666,
              "#ed7953"
             ],
             [
              0.7777777777777778,
              "#fb9f3a"
             ],
             [
              0.8888888888888888,
              "#fdca26"
             ],
             [
              1,
              "#f0f921"
             ]
            ],
            "type": "histogram2d"
           }
          ],
          "histogram2dcontour": [
           {
            "colorbar": {
             "outlinewidth": 0,
             "ticks": ""
            },
            "colorscale": [
             [
              0,
              "#0d0887"
             ],
             [
              0.1111111111111111,
              "#46039f"
             ],
             [
              0.2222222222222222,
              "#7201a8"
             ],
             [
              0.3333333333333333,
              "#9c179e"
             ],
             [
              0.4444444444444444,
              "#bd3786"
             ],
             [
              0.5555555555555556,
              "#d8576b"
             ],
             [
              0.6666666666666666,
              "#ed7953"
             ],
             [
              0.7777777777777778,
              "#fb9f3a"
             ],
             [
              0.8888888888888888,
              "#fdca26"
             ],
             [
              1,
              "#f0f921"
             ]
            ],
            "type": "histogram2dcontour"
           }
          ],
          "mesh3d": [
           {
            "colorbar": {
             "outlinewidth": 0,
             "ticks": ""
            },
            "type": "mesh3d"
           }
          ],
          "parcoords": [
           {
            "line": {
             "colorbar": {
              "outlinewidth": 0,
              "ticks": ""
             }
            },
            "type": "parcoords"
           }
          ],
          "pie": [
           {
            "automargin": true,
            "type": "pie"
           }
          ],
          "scatter": [
           {
            "fillpattern": {
             "fillmode": "overlay",
             "size": 10,
             "solidity": 0.2
            },
            "type": "scatter"
           }
          ],
          "scatter3d": [
           {
            "line": {
             "colorbar": {
              "outlinewidth": 0,
              "ticks": ""
             }
            },
            "marker": {
             "colorbar": {
              "outlinewidth": 0,
              "ticks": ""
             }
            },
            "type": "scatter3d"
           }
          ],
          "scattercarpet": [
           {
            "marker": {
             "colorbar": {
              "outlinewidth": 0,
              "ticks": ""
             }
            },
            "type": "scattercarpet"
           }
          ],
          "scattergeo": [
           {
            "marker": {
             "colorbar": {
              "outlinewidth": 0,
              "ticks": ""
             }
            },
            "type": "scattergeo"
           }
          ],
          "scattergl": [
           {
            "marker": {
             "colorbar": {
              "outlinewidth": 0,
              "ticks": ""
             }
            },
            "type": "scattergl"
           }
          ],
          "scattermapbox": [
           {
            "marker": {
             "colorbar": {
              "outlinewidth": 0,
              "ticks": ""
             }
            },
            "type": "scattermapbox"
           }
          ],
          "scatterpolar": [
           {
            "marker": {
             "colorbar": {
              "outlinewidth": 0,
              "ticks": ""
             }
            },
            "type": "scatterpolar"
           }
          ],
          "scatterpolargl": [
           {
            "marker": {
             "colorbar": {
              "outlinewidth": 0,
              "ticks": ""
             }
            },
            "type": "scatterpolargl"
           }
          ],
          "scatterternary": [
           {
            "marker": {
             "colorbar": {
              "outlinewidth": 0,
              "ticks": ""
             }
            },
            "type": "scatterternary"
           }
          ],
          "surface": [
           {
            "colorbar": {
             "outlinewidth": 0,
             "ticks": ""
            },
            "colorscale": [
             [
              0,
              "#0d0887"
             ],
             [
              0.1111111111111111,
              "#46039f"
             ],
             [
              0.2222222222222222,
              "#7201a8"
             ],
             [
              0.3333333333333333,
              "#9c179e"
             ],
             [
              0.4444444444444444,
              "#bd3786"
             ],
             [
              0.5555555555555556,
              "#d8576b"
             ],
             [
              0.6666666666666666,
              "#ed7953"
             ],
             [
              0.7777777777777778,
              "#fb9f3a"
             ],
             [
              0.8888888888888888,
              "#fdca26"
             ],
             [
              1,
              "#f0f921"
             ]
            ],
            "type": "surface"
           }
          ],
          "table": [
           {
            "cells": {
             "fill": {
              "color": "#EBF0F8"
             },
             "line": {
              "color": "white"
             }
            },
            "header": {
             "fill": {
              "color": "#C8D4E3"
             },
             "line": {
              "color": "white"
             }
            },
            "type": "table"
           }
          ]
         },
         "layout": {
          "annotationdefaults": {
           "arrowcolor": "#2a3f5f",
           "arrowhead": 0,
           "arrowwidth": 1
          },
          "autotypenumbers": "strict",
          "coloraxis": {
           "colorbar": {
            "outlinewidth": 0,
            "ticks": ""
           }
          },
          "colorscale": {
           "diverging": [
            [
             0,
             "#8e0152"
            ],
            [
             0.1,
             "#c51b7d"
            ],
            [
             0.2,
             "#de77ae"
            ],
            [
             0.3,
             "#f1b6da"
            ],
            [
             0.4,
             "#fde0ef"
            ],
            [
             0.5,
             "#f7f7f7"
            ],
            [
             0.6,
             "#e6f5d0"
            ],
            [
             0.7,
             "#b8e186"
            ],
            [
             0.8,
             "#7fbc41"
            ],
            [
             0.9,
             "#4d9221"
            ],
            [
             1,
             "#276419"
            ]
           ],
           "sequential": [
            [
             0,
             "#0d0887"
            ],
            [
             0.1111111111111111,
             "#46039f"
            ],
            [
             0.2222222222222222,
             "#7201a8"
            ],
            [
             0.3333333333333333,
             "#9c179e"
            ],
            [
             0.4444444444444444,
             "#bd3786"
            ],
            [
             0.5555555555555556,
             "#d8576b"
            ],
            [
             0.6666666666666666,
             "#ed7953"
            ],
            [
             0.7777777777777778,
             "#fb9f3a"
            ],
            [
             0.8888888888888888,
             "#fdca26"
            ],
            [
             1,
             "#f0f921"
            ]
           ],
           "sequentialminus": [
            [
             0,
             "#0d0887"
            ],
            [
             0.1111111111111111,
             "#46039f"
            ],
            [
             0.2222222222222222,
             "#7201a8"
            ],
            [
             0.3333333333333333,
             "#9c179e"
            ],
            [
             0.4444444444444444,
             "#bd3786"
            ],
            [
             0.5555555555555556,
             "#d8576b"
            ],
            [
             0.6666666666666666,
             "#ed7953"
            ],
            [
             0.7777777777777778,
             "#fb9f3a"
            ],
            [
             0.8888888888888888,
             "#fdca26"
            ],
            [
             1,
             "#f0f921"
            ]
           ]
          },
          "colorway": [
           "#636efa",
           "#EF553B",
           "#00cc96",
           "#ab63fa",
           "#FFA15A",
           "#19d3f3",
           "#FF6692",
           "#B6E880",
           "#FF97FF",
           "#FECB52"
          ],
          "font": {
           "color": "#2a3f5f"
          },
          "geo": {
           "bgcolor": "white",
           "lakecolor": "white",
           "landcolor": "#E5ECF6",
           "showlakes": true,
           "showland": true,
           "subunitcolor": "white"
          },
          "hoverlabel": {
           "align": "left"
          },
          "hovermode": "closest",
          "mapbox": {
           "style": "light"
          },
          "paper_bgcolor": "white",
          "plot_bgcolor": "#E5ECF6",
          "polar": {
           "angularaxis": {
            "gridcolor": "white",
            "linecolor": "white",
            "ticks": ""
           },
           "bgcolor": "#E5ECF6",
           "radialaxis": {
            "gridcolor": "white",
            "linecolor": "white",
            "ticks": ""
           }
          },
          "scene": {
           "xaxis": {
            "backgroundcolor": "#E5ECF6",
            "gridcolor": "white",
            "gridwidth": 2,
            "linecolor": "white",
            "showbackground": true,
            "ticks": "",
            "zerolinecolor": "white"
           },
           "yaxis": {
            "backgroundcolor": "#E5ECF6",
            "gridcolor": "white",
            "gridwidth": 2,
            "linecolor": "white",
            "showbackground": true,
            "ticks": "",
            "zerolinecolor": "white"
           },
           "zaxis": {
            "backgroundcolor": "#E5ECF6",
            "gridcolor": "white",
            "gridwidth": 2,
            "linecolor": "white",
            "showbackground": true,
            "ticks": "",
            "zerolinecolor": "white"
           }
          },
          "shapedefaults": {
           "line": {
            "color": "#2a3f5f"
           }
          },
          "ternary": {
           "aaxis": {
            "gridcolor": "white",
            "linecolor": "white",
            "ticks": ""
           },
           "baxis": {
            "gridcolor": "white",
            "linecolor": "white",
            "ticks": ""
           },
           "bgcolor": "#E5ECF6",
           "caxis": {
            "gridcolor": "white",
            "linecolor": "white",
            "ticks": ""
           }
          },
          "title": {
           "x": 0.05
          },
          "xaxis": {
           "automargin": true,
           "gridcolor": "white",
           "linecolor": "white",
           "ticks": "",
           "title": {
            "standoff": 15
           },
           "zerolinecolor": "white",
           "zerolinewidth": 2
          },
          "yaxis": {
           "automargin": true,
           "gridcolor": "white",
           "linecolor": "white",
           "ticks": "",
           "title": {
            "standoff": 15
           },
           "zerolinecolor": "white",
           "zerolinewidth": 2
          }
         }
        },
        "xaxis": {
         "autorange": true,
         "range": [
          399.5,
          449.5
         ],
         "rangeslider": {
          "autorange": true,
          "range": [
           399.5,
           449.5
          ],
          "yaxis": {
           "_template": null,
           "rangemode": "match"
          }
         },
         "type": "linear"
        },
        "yaxis": {
         "autorange": true,
         "range": [
          1.280555,
          1.3710550000000001
         ]
        }
       }
      },
      "image/png": "[encoded data removed]",
      "text/html": [
       "<div>                            <div id=\"bd57dbd5-ede4-4cac-9a2f-45ac6f1e6544\" class=\"plotly-graph-div\" style=\"height:525px; width:100%;\"></div>            <script type=\"text/javascript\">                require([\"plotly\"], function(Plotly) {                    window.PLOTLYENV=window.PLOTLYENV || {};                                    if (document.getElementById(\"bd57dbd5-ede4-4cac-9a2f-45ac6f1e6544\")) {                    Plotly.newPlot(                        \"bd57dbd5-ede4-4cac-9a2f-45ac6f1e6544\",                        [{\"close\":[1.28879,1.29052,1.29738,1.29456,1.29544,1.30361,1.2959,1.30225,1.3048,1.30873,1.31833,1.32713,1.32952,1.32796,1.32781,1.33427,1.3269,1.34505,1.34057,1.34177,1.33344,1.33093,1.3224,1.33096,1.32959,1.33904,1.32404,1.33075,1.33935,1.33727,1.33898,1.35143,1.35316,1.36157,1.36038,1.36052,1.36345,1.35537,1.34645,1.3278,1.32616,1.31718,1.30515,1.30732,1.31058,1.32541,1.32212,1.31104,1.30674,1.30202],\"high\":[1.30028,1.29196,1.29881,1.29984,1.2993,1.30462,1.30732,1.30672,1.30517,1.31014,1.31888,1.32801,1.33288,1.33038,1.33311,1.33559,1.33816,1.34604,1.34555,1.34691,1.34324,1.33617,1.33182,1.33259,1.33314,1.3443,1.3428,1.3316,1.34083,1.34074,1.3404,1.35159,1.35475,1.36384,1.36429,1.36468,1.36653,1.36593,1.35797,1.34941,1.33016,1.32811,1.32489,1.31209,1.3171,1.32925,1.32653,1.32233,1.3127,1.30731],\"low\":[1.28508,1.28589,1.28761,1.29165,1.29179,1.29497,1.29408,1.29385,1.30133,1.29768,1.30792,1.31618,1.31858,1.32292,1.32312,1.32749,1.32373,1.32513,1.33899,1.33872,1.31944,1.32513,1.31404,1.31883,1.32589,1.32608,1.31931,1.3227,1.32959,1.33379,1.33421,1.33798,1.34834,1.3512,1.35774,1.35567,1.3574,1.35042,1.33871,1.32509,1.3216,1.31551,1.30244,1.30486,1.30669,1.30826,1.31932,1.30566,1.30589,1.29948],\"open\":[1.28988,1.28896,1.29063,1.29719,1.29473,1.2955,1.30331,1.29607,1.30373,1.30482,1.3087,1.3187,1.3262,1.32679,1.32788,1.32796,1.33421,1.32682,1.34422,1.34062,1.34181,1.33373,1.3309,1.31928,1.33112,1.32955,1.3393,1.32423,1.33288,1.33943,1.33707,1.33891,1.35131,1.3529,1.3615,1.36112,1.36065,1.36346,1.3548,1.34648,1.32776,1.32613,1.31708,1.30589,1.30736,1.31053,1.32531,1.32222,1.31015,1.30644],\"x\":[400,401,402,403,404,405,406,407,408,409,410,411,412,413,414,415,416,417,418,419,420,421,422,423,424,425,426,427,428,429,430,431,432,433,434,435,436,437,438,439,440,441,442,443,444,445,446,447,448,449],\"type\":\"candlestick\"}],                        {\"template\":{\"data\":{\"histogram2dcontour\":[{\"type\":\"histogram2dcontour\",\"colorbar\":{\"outlinewidth\":0,\"ticks\":\"\"},\"colorscale\":[[0.0,\"#0d0887\"],[0.1111111111111111,\"#46039f\"],[0.2222222222222222,\"#7201a8\"],[0.3333333333333333,\"#9c179e\"],[0.4444444444444444,\"#bd3786\"],[0.5555555555555556,\"#d8576b\"],[0.6666666666666666,\"#ed7953\"],[0.7777777777777778,\"#fb9f3a\"],[0.8888888888888888,\"#fdca26\"],[1.0,\"#f0f921\"]]}],\"choropleth\":[{\"type\":\"choropleth\",\"colorbar\":{\"outlinewidth\":0,\"ticks\":\"\"}}],\"histogram2d\":[{\"type\":\"histogram2d\",\"colorbar\":{\"outlinewidth\":0,\"ticks\":\"\"},\"colorscale\":[[0.0,\"#0d0887\"],[0.1111111111111111,\"#46039f\"],[0.2222222222222222,\"#7201a8\"],[0.3333333333333333,\"#9c179e\"],[0.4444444444444444,\"#bd3786\"],[0.5555555555555556,\"#d8576b\"],[0.6666666666666666,\"#ed7953\"],[0.7777777777777778,\"#fb9f3a\"],[0.8888888888888888,\"#fdca26\"],[1.0,\"#f0f921\"]]}],\"heatmap\":[{\"type\":\"heatmap\",\"colorbar\":{\"outlinewidth\":0,\"ticks\":\"\"},\"colorscale\":[[0.0,\"#0d0887\"],[0.1111111111111111,\"#46039f\"],[0.2222222222222222,\"#7201a8\"],[0.3333333333333333,\"#9c179e\"],[0.4444444444444444,\"#bd3786\"],[0.5555555555555556,\"#d8576b\"],[0.6666666666666666,\"#ed7953\"],[0.7777777777777778,\"#fb9f3a\"],[0.8888888888888888,\"#fdca26\"],[1.0,\"#f0f921\"]]}],\"heatmapgl\":[{\"type\":\"heatmapgl\",\"colorbar\":{\"outlinewidth\":0,\"ticks\":\"\"},\"colorscale\":[[0.0,\"#0d0887\"],[0.1111111111111111,\"#46039f\"],[0.2222222222222222,\"#7201a8\"],[0.3333333333333333,\"#9c179e\"],[0.4444444444444444,\"#bd3786\"],[0.5555555555555556,\"#d8576b\"],[0.6666666666666666,\"#ed7953\"],[0.7777777777777778,\"#fb9f3a\"],[0.8888888888888888,\"#fdca26\"],[1.0,\"#f0f921\"]]}],\"contourcarpet\":[{\"type\":\"contourcarpet\",\"colorbar\":{\"outlinewidth\":0,\"ticks\":\"\"}}],\"contour\":[{\"type\":\"contour\",\"colorbar\":{\"outlinewidth\":0,\"ticks\":\"\"},\"colorscale\":[[0.0,\"#0d0887\"],[0.1111111111111111,\"#46039f\"],[0.2222222222222222,\"#7201a8\"],[0.3333333333333333,\"#9c179e\"],[0.4444444444444444,\"#bd3786\"],[0.5555555555555556,\"#d8576b\"],[0.6666666666666666,\"#ed7953\"],[0.7777777777777778,\"#fb9f3a\"],[0.8888888888888888,\"#fdca26\"],[1.0,\"#f0f921\"]]}],\"surface\":[{\"type\":\"surface\",\"colorbar\":{\"outlinewidth\":0,\"ticks\":\"\"},\"colorscale\":[[0.0,\"#0d0887\"],[0.1111111111111111,\"#46039f\"],[0.2222222222222222,\"#7201a8\"],[0.3333333333333333,\"#9c179e\"],[0.4444444444444444,\"#bd3786\"],[0.5555555555555556,\"#d8576b\"],[0.6666666666666666,\"#ed7953\"],[0.7777777777777778,\"#fb9f3a\"],[0.8888888888888888,\"#fdca26\"],[1.0,\"#f0f921\"]]}],\"mesh3d\":[{\"type\":\"mesh3d\",\"colorbar\":{\"outlinewidth\":0,\"ticks\":\"\"}}],\"scatter\":[{\"fillpattern\":{\"fillmode\":\"overlay\",\"size\":10,\"solidity\":0.2},\"type\":\"scatter\"}],\"parcoords\":[{\"type\":\"parcoords\",\"line\":{\"colorbar\":{\"outlinewidth\":0,\"ticks\":\"\"}}}],\"scatterpolargl\":[{\"type\":\"scatterpolargl\",\"marker\":{\"colorbar\":{\"outlinewidth\":0,\"ticks\":\"\"}}}],\"bar\":[{\"error_x\":{\"color\":\"#2a3f5f\"},\"error_y\":{\"color\":\"#2a3f5f\"},\"marker\":{\"line\":{\"color\":\"#E5ECF6\",\"width\":0.5},\"pattern\":{\"fillmode\":\"overlay\",\"size\":10,\"solidity\":0.2}},\"type\":\"bar\"}],\"scattergeo\":[{\"type\":\"scattergeo\",\"marker\":{\"colorbar\":{\"outlinewidth\":0,\"ticks\":\"\"}}}],\"scatterpolar\":[{\"type\":\"scatterpolar\",\"marker\":{\"colorbar\":{\"outlinewidth\":0,\"ticks\":\"\"}}}],\"histogram\":[{\"marker\":{\"pattern\":{\"fillmode\":\"overlay\",\"size\":10,\"solidity\":0.2}},\"type\":\"histogram\"}],\"scattergl\":[{\"type\":\"scattergl\",\"marker\":{\"colorbar\":{\"outlinewidth\":0,\"ticks\":\"\"}}}],\"scatter3d\":[{\"type\":\"scatter3d\",\"line\":{\"colorbar\":{\"outlinewidth\":0,\"ticks\":\"\"}},\"marker\":{\"colorbar\":{\"outlinewidth\":0,\"ticks\":\"\"}}}],\"scattermapbox\":[{\"type\":\"scattermapbox\",\"marker\":{\"colorbar\":{\"outlinewidth\":0,\"ticks\":\"\"}}}],\"scatterternary\":[{\"type\":\"scatterternary\",\"marker\":{\"colorbar\":{\"outlinewidth\":0,\"ticks\":\"\"}}}],\"scattercarpet\":[{\"type\":\"scattercarpet\",\"marker\":{\"colorbar\":{\"outlinewidth\":0,\"ticks\":\"\"}}}],\"carpet\":[{\"aaxis\":{\"endlinecolor\":\"#2a3f5f\",\"gridcolor\":\"white\",\"linecolor\":\"white\",\"minorgridcolor\":\"white\",\"startlinecolor\":\"#2a3f5f\"},\"baxis\":{\"endlinecolor\":\"#2a3f5f\",\"gridcolor\":\"white\",\"linecolor\":\"white\",\"minorgridcolor\":\"white\",\"startlinecolor\":\"#2a3f5f\"},\"type\":\"carpet\"}],\"table\":[{\"cells\":{\"fill\":{\"color\":\"#EBF0F8\"},\"line\":{\"color\":\"white\"}},\"header\":{\"fill\":{\"color\":\"#C8D4E3\"},\"line\":{\"color\":\"white\"}},\"type\":\"table\"}],\"barpolar\":[{\"marker\":{\"line\":{\"color\":\"#E5ECF6\",\"width\":0.5},\"pattern\":{\"fillmode\":\"overlay\",\"size\":10,\"solidity\":0.2}},\"type\":\"barpolar\"}],\"pie\":[{\"automargin\":true,\"type\":\"pie\"}]},\"layout\":{\"autotypenumbers\":\"strict\",\"colorway\":[\"#636efa\",\"#EF553B\",\"#00cc96\",\"#ab63fa\",\"#FFA15A\",\"#19d3f3\",\"#FF6692\",\"#B6E880\",\"#FF97FF\",\"#FECB52\"],\"font\":{\"color\":\"#2a3f5f\"},\"hovermode\":\"closest\",\"hoverlabel\":{\"align\":\"left\"},\"paper_bgcolor\":\"white\",\"plot_bgcolor\":\"#E5ECF6\",\"polar\":{\"bgcolor\":\"#E5ECF6\",\"angularaxis\":{\"gridcolor\":\"white\",\"linecolor\":\"white\",\"ticks\":\"\"},\"radialaxis\":{\"gridcolor\":\"white\",\"linecolor\":\"white\",\"ticks\":\"\"}},\"ternary\":{\"bgcolor\":\"#E5ECF6\",\"aaxis\":{\"gridcolor\":\"white\",\"linecolor\":\"white\",\"ticks\":\"\"},\"baxis\":{\"gridcolor\":\"white\",\"linecolor\":\"white\",\"ticks\":\"\"},\"caxis\":{\"gridcolor\":\"white\",\"linecolor\":\"white\",\"ticks\":\"\"}},\"coloraxis\":{\"colorbar\":{\"outlinewidth\":0,\"ticks\":\"\"}},\"colorscale\":{\"sequential\":[[0.0,\"#0d0887\"],[0.1111111111111111,\"#46039f\"],[0.2222222222222222,\"#7201a8\"],[0.3333333333333333,\"#9c179e\"],[0.4444444444444444,\"#bd3786\"],[0.5555555555555556,\"#d8576b\"],[0.6666666666666666,\"#ed7953\"],[0.7777777777777778,\"#fb9f3a\"],[0.8888888888888888,\"#fdca26\"],[1.0,\"#f0f921\"]],\"sequentialminus\":[[0.0,\"#0d0887\"],[0.1111111111111111,\"#46039f\"],[0.2222222222222222,\"#7201a8\"],[0.3333333333333333,\"#9c179e\"],[0.4444444444444444,\"#bd3786\"],[0.5555555555555556,\"#d8576b\"],[0.6666666666666666,\"#ed7953\"],[0.7777777777777778,\"#fb9f3a\"],[0.8888888888888888,\"#fdca26\"],[1.0,\"#f0f921\"]],\"diverging\":[[0,\"#8e0152\"],[0.1,\"#c51b7d\"],[0.2,\"#de77ae\"],[0.3,\"#f1b6da\"],[0.4,\"#fde0ef\"],[0.5,\"#f7f7f7\"],[0.6,\"#e6f5d0\"],[0.7,\"#b8e186\"],[0.8,\"#7fbc41\"],[0.9,\"#4d9221\"],[1,\"#276419\"]]},\"xaxis\":{\"gridcolor\":\"white\",\"linecolor\":\"white\",\"ticks\":\"\",\"title\":{\"standoff\":15},\"zerolinecolor\":\"white\",\"automargin\":true,\"zerolinewidth\":2},\"yaxis\":{\"gridcolor\":\"white\",\"linecolor\":\"white\",\"ticks\":\"\",\"title\":{\"standoff\":15},\"zerolinecolor\":\"white\",\"automargin\":true,\"zerolinewidth\":2},\"scene\":{\"xaxis\":{\"backgroundcolor\":\"#E5ECF6\",\"gridcolor\":\"white\",\"linecolor\":\"white\",\"showbackground\":true,\"ticks\":\"\",\"zerolinecolor\":\"white\",\"gridwidth\":2},\"yaxis\":{\"backgroundcolor\":\"#E5ECF6\",\"gridcolor\":\"white\",\"linecolor\":\"white\",\"showbackground\":true,\"ticks\":\"\",\"zerolinecolor\":\"white\",\"gridwidth\":2},\"zaxis\":{\"backgroundcolor\":\"#E5ECF6\",\"gridcolor\":\"white\",\"linecolor\":\"white\",\"showbackground\":true,\"ticks\":\"\",\"zerolinecolor\":\"white\",\"gridwidth\":2}},\"shapedefaults\":{\"line\":{\"color\":\"#2a3f5f\"}},\"annotationdefaults\":{\"arrowcolor\":\"#2a3f5f\",\"arrowhead\":0,\"arrowwidth\":1},\"geo\":{\"bgcolor\":\"white\",\"landcolor\":\"#E5ECF6\",\"subunitcolor\":\"white\",\"showland\":true,\"showlakes\":true,\"lakecolor\":\"white\"},\"title\":{\"x\":0.05},\"mapbox\":{\"style\":\"light\"}}}},                        {\"responsive\": true}                    ).then(function(){\n",
       "                            \n",
       "var gd = document.getElementById('bd57dbd5-ede4-4cac-9a2f-45ac6f1e6544');\n",
       "var x = new MutationObserver(function (mutations, observer) {{\n",
       "        var display = window.getComputedStyle(gd).display;\n",
       "        if (!display || display === 'none') {{\n",
       "            console.log([gd, 'removed!']);\n",
       "            Plotly.purge(gd);\n",
       "            observer.disconnect();\n",
       "        }}\n",
       "}});\n",
       "\n",
       "// Listen for the removal of the full notebook cells\n",
       "var notebookContainer = gd.closest('#notebook-container');\n",
       "if (notebookContainer) {{\n",
       "    x.observe(notebookContainer, {childList: true});\n",
       "}}\n",
       "\n",
       "// Listen for the clearing of the current output cell\n",
       "var outputEl = gd.closest('.output');\n",
       "if (outputEl) {{\n",
       "    x.observe(outputEl, {childList: true});\n",
       "}}\n",
       "\n",
       "                        })                };                });            </script>        </div>"
      ]
     },
     "metadata": {},
     "output_type": "display_data"
    }
   ],
   "source": [
    "dfpl = df[400:450]\n",
    "import plotly.graph_objects as go\n",
    "from datetime import datetime\n",
    "\n",
    "fig = go.Figure(data=[go.Candlestick(x=dfpl.index,\n",
    "                open=dfpl['open'],\n",
    "                high=dfpl['high'],\n",
    "                low=dfpl['low'],\n",
    "                close=dfpl['close'])])\n",
    "\n",
    "fig.show()"
   ]
  },
  {
   "cell_type": "code",
   "execution_count": 29,
   "metadata": {},
   "outputs": [
    {
     "data": {
      "application/vnd.plotly.v1+json": {
       "config": {
        "plotlyServerURL": "https://plot.ly"
       },
       "data": [
        {
         "close": [
          1.27026,
          1.26955,
          1.26689,
          1.28321,
          1.28084,
          1.27315,
          1.27697,
          1.28398,
          1.26875,
          1.27128,
          1.25345,
          1.25548,
          1.26841,
          1.24983,
          1.2437,
          1.24913,
          1.24553,
          1.22152,
          1.22024,
          1.22018,
          1.23657,
          1.24033,
          1.23266,
          1.22231,
          1.23504,
          1.22171,
          1.22626,
          1.22719,
          1.2232,
          1.23843,
          1.22855,
          1.23283,
          1.23335,
          1.21323,
          1.21265,
          1.21292,
          1.21564,
          1.21704,
          1.2314,
          1.23627,
          1.21331,
          1.20179,
          1.21166,
          1.21742,
          1.20853,
          1.20888,
          1.2076,
          1.19454,
          1.19624,
          1.19846,
          1.19916,
          1.20234,
          1.18677,
          1.18407,
          1.19032,
          1.18445,
          1.18674,
          1.19253,
          1.18423,
          1.19628,
          1.198,
          1.19853,
          1.19434,
          1.20992,
          1.2174,
          1.20825,
          1.18812,
          1.18478,
          1.18708,
          1.18992,
          1.18227,
          1.18855,
          1.20271,
          1.19523,
          1.20101,
          1.19652,
          1.19831,
          1.2005,
          1.21075,
          1.2102,
          1.22632,
          1.22148,
          1.21884,
          1.22477,
          1.22115,
          1.22272,
          1.22847,
          1.232,
          1.2265,
          1.20469,
          1.21065,
          1.20068,
          1.20561,
          1.21614,
          1.20115,
          1.20538,
          1.21373,
          1.21162,
          1.21097,
          1.2093,
          1.21698,
          1.2175,
          1.21875,
          1.2083,
          1.21958,
          1.21595,
          1.23135,
          1.22909,
          1.22823,
          1.23723,
          1.23836,
          1.24134,
          1.24083,
          1.23274,
          1.23808,
          1.23542,
          1.24548,
          1.24442,
          1.2333,
          1.22614,
          1.22567,
          1.20927,
          1.21432,
          1.2059,
          1.20547,
          1.20464,
          1.20195,
          1.20161,
          1.20247,
          1.20623,
          1.20532,
          1.2054,
          1.22814,
          1.22705,
          1.22368,
          1.22183,
          1.22519,
          1.23734,
          1.23621,
          1.23568,
          1.23362,
          1.23644,
          1.23183,
          1.21429,
          1.20796,
          1.20819,
          1.21024,
          1.20104,
          1.20475,
          1.21834,
          1.21878,
          1.21742,
          1.20588,
          1.20638,
          1.2107,
          1.21835,
          1.22133,
          1.22602,
          1.22595,
          1.22522,
          1.21502,
          1.21817,
          1.21876,
          1.21777,
          1.23355,
          1.22667,
          1.22713,
          1.22753,
          1.22925,
          1.2327,
          1.23304,
          1.2435,
          1.24165,
          1.22871,
          1.23108,
          1.22865,
          1.22864,
          1.24092,
          1.23865,
          1.23254,
          1.2349,
          1.2385,
          1.24685,
          1.24922,
          1.25119,
          1.25902,
          1.26162,
          1.26842,
          1.28062,
          1.27639,
          1.27118,
          1.27425,
          1.27972,
          1.27516,
          1.27439,
          1.28213,
          1.2868,
          1.29617,
          1.29187,
          1.28979,
          1.28879,
          1.29052,
          1.29738,
          1.29456,
          1.29544,
          1.30361,
          1.2959,
          1.30225,
          1.3048,
          1.30873,
          1.31833,
          1.32713,
          1.32952,
          1.32796,
          1.32781,
          1.33427,
          1.3269,
          1.34505,
          1.34057,
          1.34177,
          1.33344,
          1.33093,
          1.3224,
          1.33096,
          1.32959,
          1.33904,
          1.32404,
          1.33075,
          1.33935,
          1.33727,
          1.33898,
          1.35143,
          1.35316,
          1.36157,
          1.36038,
          1.36052,
          1.36345,
          1.35537,
          1.34645,
          1.3278,
          1.32616,
          1.31718,
          1.30515,
          1.30732,
          1.31058,
          1.32541,
          1.32212,
          1.31104,
          1.30674,
          1.30202
         ],
         "high": [
          1.27243,
          1.27599,
          1.27863,
          1.28374,
          1.28445,
          1.28918,
          1.2789,
          1.28766,
          1.29253,
          1.27357,
          1.27658,
          1.25942,
          1.2712,
          1.2705,
          1.25144,
          1.25063,
          1.25413,
          1.24688,
          1.2222,
          1.22393,
          1.24285,
          1.2416,
          1.24588,
          1.23296,
          1.23841,
          1.23719,
          1.23168,
          1.23705,
          1.22882,
          1.24335,
          1.24073,
          1.23998,
          1.23693,
          1.23668,
          1.21997,
          1.22093,
          1.21682,
          1.22273,
          1.23228,
          1.23874,
          1.23726,
          1.21273,
          1.2135,
          1.21976,
          1.22186,
          1.21114,
          1.20966,
          1.20854,
          1.19745,
          1.19936,
          1.20455,
          1.20766,
          1.20245,
          1.19121,
          1.19143,
          1.19416,
          1.1885,
          1.19467,
          1.19506,
          1.19849,
          1.20106,
          1.19853,
          1.2002,
          1.21183,
          1.21796,
          1.21783,
          1.21333,
          1.18953,
          1.18896,
          1.19415,
          1.19313,
          1.19022,
          1.20589,
          1.20388,
          1.20419,
          1.20196,
          1.20694,
          1.20246,
          1.21273,
          1.21438,
          1.22898,
          1.22969,
          1.2254,
          1.22667,
          1.23044,
          1.22506,
          1.23007,
          1.23386,
          1.2351,
          1.22752,
          1.21183,
          1.21152,
          1.2088,
          1.21708,
          1.21697,
          1.20783,
          1.21482,
          1.21466,
          1.21316,
          1.21921,
          1.21889,
          1.21902,
          1.22283,
          1.21931,
          1.22041,
          1.22088,
          1.23281,
          1.2336,
          1.23298,
          1.23893,
          1.24057,
          1.24239,
          1.2436,
          1.24159,
          1.24221,
          1.23892,
          1.2459,
          1.2462,
          1.24551,
          1.23505,
          1.2293,
          1.22677,
          1.21705,
          1.21902,
          1.20795,
          1.20947,
          1.212,
          1.20195,
          1.20934,
          1.20766,
          1.20671,
          1.20741,
          1.22911,
          1.22901,
          1.23191,
          1.22511,
          1.22958,
          1.23764,
          1.23841,
          1.23862,
          1.23658,
          1.23791,
          1.23817,
          1.23241,
          1.21669,
          1.2116,
          1.21167,
          1.21349,
          1.20685,
          1.21946,
          1.22208,
          1.22009,
          1.21931,
          1.20802,
          1.21119,
          1.21929,
          1.2214,
          1.23084,
          1.22875,
          1.22948,
          1.2261,
          1.21981,
          1.22227,
          1.21847,
          1.23465,
          1.23388,
          1.2333,
          1.2361,
          1.23156,
          1.23472,
          1.23391,
          1.24437,
          1.244,
          1.24007,
          1.23298,
          1.23229,
          1.23144,
          1.24331,
          1.24221,
          1.23907,
          1.23562,
          1.24193,
          1.25002,
          1.25338,
          1.25264,
          1.26284,
          1.26496,
          1.26865,
          1.2829,
          1.28416,
          1.28115,
          1.27663,
          1.27972,
          1.28313,
          1.27567,
          1.28291,
          1.28966,
          1.29722,
          1.29857,
          1.2939,
          1.30028,
          1.29196,
          1.29881,
          1.29984,
          1.2993,
          1.30462,
          1.30732,
          1.30672,
          1.30517,
          1.31014,
          1.31888,
          1.32801,
          1.33288,
          1.33038,
          1.33311,
          1.33559,
          1.33816,
          1.34604,
          1.34555,
          1.34691,
          1.34324,
          1.33617,
          1.33182,
          1.33259,
          1.33314,
          1.3443,
          1.3428,
          1.3316,
          1.34083,
          1.34074,
          1.3404,
          1.35159,
          1.35475,
          1.36384,
          1.36429,
          1.36468,
          1.36653,
          1.36593,
          1.35797,
          1.34941,
          1.33016,
          1.32811,
          1.32489,
          1.31209,
          1.3171,
          1.32925,
          1.32653,
          1.32233,
          1.3127,
          1.30731
         ],
         "low": [
          1.25118,
          1.2598,
          1.26664,
          1.26496,
          1.27887,
          1.27145,
          1.2715,
          1.27549,
          1.26587,
          1.26527,
          1.24942,
          1.24509,
          1.25213,
          1.24726,
          1.23841,
          1.23732,
          1.24228,
          1.21944,
          1.20556,
          1.2135,
          1.2175,
          1.23369,
          1.22729,
          1.21962,
          1.21627,
          1.2172,
          1.21829,
          1.22309,
          1.21742,
          1.22196,
          1.2255,
          1.22206,
          1.22643,
          1.21146,
          1.20975,
          1.20743,
          1.20578,
          1.21484,
          1.21682,
          1.2255,
          1.20982,
          1.19818,
          1.19812,
          1.20489,
          1.20584,
          1.2062,
          1.20505,
          1.19031,
          1.18691,
          1.18925,
          1.19225,
          1.19996,
          1.18408,
          1.18154,
          1.17774,
          1.17954,
          1.17583,
          1.18316,
          1.18216,
          1.18042,
          1.19195,
          1.198,
          1.19199,
          1.19243,
          1.20944,
          1.20635,
          1.18765,
          1.18117,
          1.17885,
          1.1834,
          1.17718,
          1.17819,
          1.18768,
          1.19287,
          1.19356,
          1.18955,
          1.1952,
          1.19338,
          1.19834,
          1.20828,
          1.20877,
          1.22013,
          1.21775,
          1.21553,
          1.22045,
          1.217,
          1.21405,
          1.22755,
          1.22444,
          1.20347,
          1.20234,
          1.19644,
          1.19526,
          1.20274,
          1.198,
          1.19912,
          1.1973,
          1.20772,
          1.20662,
          1.20637,
          1.20398,
          1.21074,
          1.21222,
          1.20672,
          1.20647,
          1.21329,
          1.21422,
          1.22672,
          1.2265,
          1.22728,
          1.23393,
          1.23689,
          1.23811,
          1.22991,
          1.23187,
          1.23264,
          1.23283,
          1.23985,
          1.22995,
          1.22105,
          1.22296,
          1.20871,
          1.20871,
          1.20347,
          1.19982,
          1.19923,
          1.20011,
          1.20161,
          1.20197,
          1.19957,
          1.19709,
          1.20207,
          1.20442,
          1.22455,
          1.22252,
          1.21947,
          1.22144,
          1.21763,
          1.23166,
          1.23111,
          1.22865,
          1.23257,
          1.22801,
          1.21316,
          1.20594,
          1.20519,
          1.20465,
          1.20029,
          1.1986,
          1.20393,
          1.21466,
          1.21408,
          1.20414,
          1.20459,
          1.20518,
          1.20256,
          1.21587,
          1.21984,
          1.22225,
          1.22249,
          1.21337,
          1.212,
          1.21573,
          1.21227,
          1.21654,
          1.22287,
          1.22526,
          1.22378,
          1.22465,
          1.22778,
          1.22884,
          1.23141,
          1.23837,
          1.22572,
          1.22622,
          1.22471,
          1.22707,
          1.22786,
          1.23683,
          1.22872,
          1.22267,
          1.23216,
          1.23654,
          1.24602,
          1.24498,
          1.2487,
          1.25694,
          1.25989,
          1.26981,
          1.27254,
          1.26934,
          1.26415,
          1.27092,
          1.27174,
          1.26652,
          1.26585,
          1.27914,
          1.2756,
          1.29056,
          1.28852,
          1.28508,
          1.28589,
          1.28761,
          1.29165,
          1.29179,
          1.29497,
          1.29408,
          1.29385,
          1.30133,
          1.29768,
          1.30792,
          1.31618,
          1.31858,
          1.32292,
          1.32312,
          1.32749,
          1.32373,
          1.32513,
          1.33899,
          1.33872,
          1.31944,
          1.32513,
          1.31404,
          1.31883,
          1.32589,
          1.32608,
          1.31931,
          1.3227,
          1.32959,
          1.33379,
          1.33421,
          1.33798,
          1.34834,
          1.3512,
          1.35774,
          1.35567,
          1.3574,
          1.35042,
          1.33871,
          1.32509,
          1.3216,
          1.31551,
          1.30244,
          1.30486,
          1.30669,
          1.30826,
          1.31932,
          1.30566,
          1.30589,
          1.29948
         ],
         "open": [
          1.25471,
          1.26054,
          1.2697,
          1.26698,
          1.28335,
          1.28077,
          1.27444,
          1.27695,
          1.28411,
          1.26876,
          1.27138,
          1.25263,
          1.25568,
          1.26838,
          1.24998,
          1.24377,
          1.24836,
          1.24555,
          1.22137,
          1.22025,
          1.22001,
          1.23873,
          1.24036,
          1.23242,
          1.22216,
          1.23497,
          1.21903,
          1.22622,
          1.22725,
          1.22325,
          1.23853,
          1.2277,
          1.23305,
          1.2337,
          1.21338,
          1.21276,
          1.21098,
          1.2156,
          1.21722,
          1.23146,
          1.23618,
          1.21146,
          1.20188,
          1.21166,
          1.21754,
          1.20865,
          1.20927,
          1.20804,
          1.1947,
          1.19617,
          1.1985,
          1.20059,
          1.20245,
          1.18691,
          1.18411,
          1.19055,
          1.18247,
          1.18676,
          1.19263,
          1.18392,
          1.19627,
          1.198,
          1.1984,
          1.19498,
          1.2099,
          1.21783,
          1.2087,
          1.18718,
          1.18547,
          1.18731,
          1.19,
          1.18203,
          1.18902,
          1.20288,
          1.1953,
          1.20122,
          1.19647,
          1.19887,
          1.20048,
          1.2112,
          1.2108,
          1.22624,
          1.22374,
          1.21894,
          1.2248,
          1.22141,
          1.22315,
          1.22937,
          1.23204,
          1.22684,
          1.20488,
          1.2109,
          1.2003,
          1.2058,
          1.21648,
          1.2013,
          1.20563,
          1.21378,
          1.21143,
          1.21122,
          1.20937,
          1.2171,
          1.218,
          1.21865,
          1.20845,
          1.22008,
          1.21577,
          1.23275,
          1.22902,
          1.22827,
          1.23729,
          1.23852,
          1.2413,
          1.24109,
          1.23263,
          1.2383,
          1.23575,
          1.24482,
          1.24423,
          1.23294,
          1.22577,
          1.22553,
          1.21002,
          1.21433,
          1.20583,
          1.20578,
          1.20443,
          1.20195,
          1.20239,
          1.20258,
          1.20596,
          1.2054,
          1.2059,
          1.22875,
          1.22722,
          1.22375,
          1.22172,
          1.22548,
          1.23738,
          1.23634,
          1.2359,
          1.23351,
          1.23662,
          1.23158,
          1.2145,
          1.20812,
          1.20837,
          1.21023,
          1.20131,
          1.2049,
          1.21855,
          1.21892,
          1.21772,
          1.20628,
          1.20658,
          1.21132,
          1.21809,
          1.22137,
          1.2264,
          1.22638,
          1.22528,
          1.2153,
          1.21822,
          1.21819,
          1.21778,
          1.23388,
          1.22707,
          1.22713,
          1.22812,
          1.2296,
          1.23258,
          1.23355,
          1.244,
          1.23949,
          1.22917,
          1.23121,
          1.22855,
          1.22867,
          1.24182,
          1.23873,
          1.23273,
          1.23507,
          1.2386,
          1.24783,
          1.2494,
          1.25118,
          1.25891,
          1.26192,
          1.26981,
          1.28081,
          1.27669,
          1.27124,
          1.27465,
          1.28013,
          1.2751,
          1.27423,
          1.28203,
          1.28704,
          1.29697,
          1.29169,
          1.28988,
          1.28896,
          1.29063,
          1.29719,
          1.29473,
          1.2955,
          1.30331,
          1.29607,
          1.30373,
          1.30482,
          1.3087,
          1.3187,
          1.3262,
          1.32679,
          1.32788,
          1.32796,
          1.33421,
          1.32682,
          1.34422,
          1.34062,
          1.34181,
          1.33373,
          1.3309,
          1.31928,
          1.33112,
          1.32955,
          1.3393,
          1.32423,
          1.33288,
          1.33943,
          1.33707,
          1.33891,
          1.35131,
          1.3529,
          1.3615,
          1.36112,
          1.36065,
          1.36346,
          1.3548,
          1.34648,
          1.32776,
          1.32613,
          1.31708,
          1.30589,
          1.30736,
          1.31053,
          1.32531,
          1.32222,
          1.31015,
          1.30644
         ],
         "type": "candlestick",
         "x": [
          200,
          201,
          202,
          203,
          204,
          205,
          206,
          207,
          208,
          209,
          210,
          211,
          212,
          213,
          214,
          215,
          216,
          217,
          218,
          219,
          220,
          221,
          222,
          223,
          224,
          225,
          226,
          227,
          228,
          229,
          230,
          231,
          232,
          233,
          234,
          235,
          236,
          237,
          238,
          239,
          240,
          241,
          242,
          243,
          244,
          245,
          246,
          247,
          248,
          249,
          250,
          251,
          252,
          253,
          254,
          255,
          256,
          257,
          258,
          259,
          260,
          261,
          262,
          263,
          264,
          265,
          266,
          267,
          268,
          269,
          270,
          271,
          272,
          273,
          274,
          275,
          276,
          277,
          278,
          279,
          280,
          281,
          282,
          283,
          284,
          285,
          286,
          287,
          288,
          289,
          290,
          291,
          292,
          293,
          294,
          295,
          296,
          297,
          298,
          299,
          300,
          301,
          302,
          303,
          304,
          305,
          306,
          307,
          308,
          309,
          310,
          311,
          312,
          313,
          314,
          315,
          316,
          317,
          318,
          319,
          320,
          321,
          322,
          323,
          324,
          325,
          326,
          327,
          328,
          329,
          330,
          331,
          332,
          333,
          334,
          335,
          336,
          337,
          338,
          339,
          340,
          341,
          342,
          343,
          344,
          345,
          346,
          347,
          348,
          349,
          350,
          351,
          352,
          353,
          354,
          355,
          356,
          357,
          358,
          359,
          360,
          361,
          362,
          363,
          364,
          365,
          366,
          367,
          368,
          369,
          370,
          371,
          372,
          373,
          374,
          375,
          376,
          377,
          378,
          379,
          380,
          381,
          382,
          383,
          384,
          385,
          386,
          387,
          388,
          389,
          390,
          391,
          392,
          393,
          394,
          395,
          396,
          397,
          398,
          399,
          400,
          401,
          402,
          403,
          404,
          405,
          406,
          407,
          408,
          409,
          410,
          411,
          412,
          413,
          414,
          415,
          416,
          417,
          418,
          419,
          420,
          421,
          422,
          423,
          424,
          425,
          426,
          427,
          428,
          429,
          430,
          431,
          432,
          433,
          434,
          435,
          436,
          437,
          438,
          439,
          440,
          441,
          442,
          443,
          444,
          445,
          446,
          447,
          448,
          449
         ]
        },
        {
         "legendgroup": "signal",
         "marker": {
          "color": "Red",
          "size": 10
         },
         "mode": "markers",
         "name": "signal1",
         "offsetgroup": "signal",
         "type": "scatter",
         "x": [
          208,
          244,
          258,
          265,
          291,
          294,
          323,
          426
         ],
         "y": [
          1.28411,
          1.21754,
          1.19263,
          1.21783,
          1.2109,
          1.21648,
          1.21433,
          1.3393
         ]
        },
        {
         "legendgroup": "signal",
         "marker": {
          "color": "Blue",
          "size": 10
         },
         "mode": "markers",
         "name": "signal2",
         "offsetgroup": "signal",
         "type": "scatter",
         "x": [
          224,
          259,
          306,
          417,
          423
         ],
         "y": [
          1.22216,
          1.18392,
          1.21577,
          1.32682,
          1.31928
         ]
        }
       ],
       "layout": {
        "autosize": true,
        "dragmode": "pan",
        "template": {
         "data": {
          "bar": [
           {
            "error_x": {
             "color": "#2a3f5f"
            },
            "error_y": {
             "color": "#2a3f5f"
            },
            "marker": {
             "line": {
              "color": "#E5ECF6",
              "width": 0.5
             },
             "pattern": {
              "fillmode": "overlay",
              "size": 10,
              "solidity": 0.2
             }
            },
            "type": "bar"
           }
          ],
          "barpolar": [
           {
            "marker": {
             "line": {
              "color": "#E5ECF6",
              "width": 0.5
             },
             "pattern": {
              "fillmode": "overlay",
              "size": 10,
              "solidity": 0.2
             }
            },
            "type": "barpolar"
           }
          ],
          "carpet": [
           {
            "aaxis": {
             "endlinecolor": "#2a3f5f",
             "gridcolor": "white",
             "linecolor": "white",
             "minorgridcolor": "white",
             "startlinecolor": "#2a3f5f"
            },
            "baxis": {
             "endlinecolor": "#2a3f5f",
             "gridcolor": "white",
             "linecolor": "white",
             "minorgridcolor": "white",
             "startlinecolor": "#2a3f5f"
            },
            "type": "carpet"
           }
          ],
          "choropleth": [
           {
            "colorbar": {
             "outlinewidth": 0,
             "ticks": ""
            },
            "type": "choropleth"
           }
          ],
          "contour": [
           {
            "colorbar": {
             "outlinewidth": 0,
             "ticks": ""
            },
            "colorscale": [
             [
              0,
              "#0d0887"
             ],
             [
              0.1111111111111111,
              "#46039f"
             ],
             [
              0.2222222222222222,
              "#7201a8"
             ],
             [
              0.3333333333333333,
              "#9c179e"
             ],
             [
              0.4444444444444444,
              "#bd3786"
             ],
             [
              0.5555555555555556,
              "#d8576b"
             ],
             [
              0.6666666666666666,
              "#ed7953"
             ],
             [
              0.7777777777777778,
              "#fb9f3a"
             ],
             [
              0.8888888888888888,
              "#fdca26"
             ],
             [
              1,
              "#f0f921"
             ]
            ],
            "type": "contour"
           }
          ],
          "contourcarpet": [
           {
            "colorbar": {
             "outlinewidth": 0,
             "ticks": ""
            },
            "type": "contourcarpet"
           }
          ],
          "heatmap": [
           {
            "colorbar": {
             "outlinewidth": 0,
             "ticks": ""
            },
            "colorscale": [
             [
              0,
              "#0d0887"
             ],
             [
              0.1111111111111111,
              "#46039f"
             ],
             [
              0.2222222222222222,
              "#7201a8"
             ],
             [
              0.3333333333333333,
              "#9c179e"
             ],
             [
              0.4444444444444444,
              "#bd3786"
             ],
             [
              0.5555555555555556,
              "#d8576b"
             ],
             [
              0.6666666666666666,
              "#ed7953"
             ],
             [
              0.7777777777777778,
              "#fb9f3a"
             ],
             [
              0.8888888888888888,
              "#fdca26"
             ],
             [
              1,
              "#f0f921"
             ]
            ],
            "type": "heatmap"
           }
          ],
          "heatmapgl": [
           {
            "colorbar": {
             "outlinewidth": 0,
             "ticks": ""
            },
            "colorscale": [
             [
              0,
              "#0d0887"
             ],
             [
              0.1111111111111111,
              "#46039f"
             ],
             [
              0.2222222222222222,
              "#7201a8"
             ],
             [
              0.3333333333333333,
              "#9c179e"
             ],
             [
              0.4444444444444444,
              "#bd3786"
             ],
             [
              0.5555555555555556,
              "#d8576b"
             ],
             [
              0.6666666666666666,
              "#ed7953"
             ],
             [
              0.7777777777777778,
              "#fb9f3a"
             ],
             [
              0.8888888888888888,
              "#fdca26"
             ],
             [
              1,
              "#f0f921"
             ]
            ],
            "type": "heatmapgl"
           }
          ],
          "histogram": [
           {
            "marker": {
             "pattern": {
              "fillmode": "overlay",
              "size": 10,
              "solidity": 0.2
             }
            },
            "type": "histogram"
           }
          ],
          "histogram2d": [
           {
            "colorbar": {
             "outlinewidth": 0,
             "ticks": ""
            },
            "colorscale": [
             [
              0,
              "#0d0887"
             ],
             [
              0.1111111111111111,
              "#46039f"
             ],
             [
              0.2222222222222222,
              "#7201a8"
             ],
             [
              0.3333333333333333,
              "#9c179e"
             ],
             [
              0.4444444444444444,
              "#bd3786"
             ],
             [
              0.5555555555555556,
              "#d8576b"
             ],
             [
              0.6666666666666666,
              "#ed7953"
             ],
             [
              0.7777777777777778,
              "#fb9f3a"
             ],
             [
              0.8888888888888888,
              "#fdca26"
             ],
             [
              1,
              "#f0f921"
             ]
            ],
            "type": "histogram2d"
           }
          ],
          "histogram2dcontour": [
           {
            "colorbar": {
             "outlinewidth": 0,
             "ticks": ""
            },
            "colorscale": [
             [
              0,
              "#0d0887"
             ],
             [
              0.1111111111111111,
              "#46039f"
             ],
             [
              0.2222222222222222,
              "#7201a8"
             ],
             [
              0.3333333333333333,
              "#9c179e"
             ],
             [
              0.4444444444444444,
              "#bd3786"
             ],
             [
              0.5555555555555556,
              "#d8576b"
             ],
             [
              0.6666666666666666,
              "#ed7953"
             ],
             [
              0.7777777777777778,
              "#fb9f3a"
             ],
             [
              0.8888888888888888,
              "#fdca26"
             ],
             [
              1,
              "#f0f921"
             ]
            ],
            "type": "histogram2dcontour"
           }
          ],
          "mesh3d": [
           {
            "colorbar": {
             "outlinewidth": 0,
             "ticks": ""
            },
            "type": "mesh3d"
           }
          ],
          "parcoords": [
           {
            "line": {
             "colorbar": {
              "outlinewidth": 0,
              "ticks": ""
             }
            },
            "type": "parcoords"
           }
          ],
          "pie": [
           {
            "automargin": true,
            "type": "pie"
           }
          ],
          "scatter": [
           {
            "fillpattern": {
             "fillmode": "overlay",
             "size": 10,
             "solidity": 0.2
            },
            "type": "scatter"
           }
          ],
          "scatter3d": [
           {
            "line": {
             "colorbar": {
              "outlinewidth": 0,
              "ticks": ""
             }
            },
            "marker": {
             "colorbar": {
              "outlinewidth": 0,
              "ticks": ""
             }
            },
            "type": "scatter3d"
           }
          ],
          "scattercarpet": [
           {
            "marker": {
             "colorbar": {
              "outlinewidth": 0,
              "ticks": ""
             }
            },
            "type": "scattercarpet"
           }
          ],
          "scattergeo": [
           {
            "marker": {
             "colorbar": {
              "outlinewidth": 0,
              "ticks": ""
             }
            },
            "type": "scattergeo"
           }
          ],
          "scattergl": [
           {
            "marker": {
             "colorbar": {
              "outlinewidth": 0,
              "ticks": ""
             }
            },
            "type": "scattergl"
           }
          ],
          "scattermapbox": [
           {
            "marker": {
             "colorbar": {
              "outlinewidth": 0,
              "ticks": ""
             }
            },
            "type": "scattermapbox"
           }
          ],
          "scatterpolar": [
           {
            "marker": {
             "colorbar": {
              "outlinewidth": 0,
              "ticks": ""
             }
            },
            "type": "scatterpolar"
           }
          ],
          "scatterpolargl": [
           {
            "marker": {
             "colorbar": {
              "outlinewidth": 0,
              "ticks": ""
             }
            },
            "type": "scatterpolargl"
           }
          ],
          "scatterternary": [
           {
            "marker": {
             "colorbar": {
              "outlinewidth": 0,
              "ticks": ""
             }
            },
            "type": "scatterternary"
           }
          ],
          "surface": [
           {
            "colorbar": {
             "outlinewidth": 0,
             "ticks": ""
            },
            "colorscale": [
             [
              0,
              "#0d0887"
             ],
             [
              0.1111111111111111,
              "#46039f"
             ],
             [
              0.2222222222222222,
              "#7201a8"
             ],
             [
              0.3333333333333333,
              "#9c179e"
             ],
             [
              0.4444444444444444,
              "#bd3786"
             ],
             [
              0.5555555555555556,
              "#d8576b"
             ],
             [
              0.6666666666666666,
              "#ed7953"
             ],
             [
              0.7777777777777778,
              "#fb9f3a"
             ],
             [
              0.8888888888888888,
              "#fdca26"
             ],
             [
              1,
              "#f0f921"
             ]
            ],
            "type": "surface"
           }
          ],
          "table": [
           {
            "cells": {
             "fill": {
              "color": "#EBF0F8"
             },
             "line": {
              "color": "white"
             }
            },
            "header": {
             "fill": {
              "color": "#C8D4E3"
             },
             "line": {
              "color": "white"
             }
            },
            "type": "table"
           }
          ]
         },
         "layout": {
          "annotationdefaults": {
           "arrowcolor": "#2a3f5f",
           "arrowhead": 0,
           "arrowwidth": 1
          },
          "autotypenumbers": "strict",
          "coloraxis": {
           "colorbar": {
            "outlinewidth": 0,
            "ticks": ""
           }
          },
          "colorscale": {
           "diverging": [
            [
             0,
             "#8e0152"
            ],
            [
             0.1,
             "#c51b7d"
            ],
            [
             0.2,
             "#de77ae"
            ],
            [
             0.3,
             "#f1b6da"
            ],
            [
             0.4,
             "#fde0ef"
            ],
            [
             0.5,
             "#f7f7f7"
            ],
            [
             0.6,
             "#e6f5d0"
            ],
            [
             0.7,
             "#b8e186"
            ],
            [
             0.8,
             "#7fbc41"
            ],
            [
             0.9,
             "#4d9221"
            ],
            [
             1,
             "#276419"
            ]
           ],
           "sequential": [
            [
             0,
             "#0d0887"
            ],
            [
             0.1111111111111111,
             "#46039f"
            ],
            [
             0.2222222222222222,
             "#7201a8"
            ],
            [
             0.3333333333333333,
             "#9c179e"
            ],
            [
             0.4444444444444444,
             "#bd3786"
            ],
            [
             0.5555555555555556,
             "#d8576b"
            ],
            [
             0.6666666666666666,
             "#ed7953"
            ],
            [
             0.7777777777777778,
             "#fb9f3a"
            ],
            [
             0.8888888888888888,
             "#fdca26"
            ],
            [
             1,
             "#f0f921"
            ]
           ],
           "sequentialminus": [
            [
             0,
             "#0d0887"
            ],
            [
             0.1111111111111111,
             "#46039f"
            ],
            [
             0.2222222222222222,
             "#7201a8"
            ],
            [
             0.3333333333333333,
             "#9c179e"
            ],
            [
             0.4444444444444444,
             "#bd3786"
            ],
            [
             0.5555555555555556,
             "#d8576b"
            ],
            [
             0.6666666666666666,
             "#ed7953"
            ],
            [
             0.7777777777777778,
             "#fb9f3a"
            ],
            [
             0.8888888888888888,
             "#fdca26"
            ],
            [
             1,
             "#f0f921"
            ]
           ]
          },
          "colorway": [
           "#636efa",
           "#EF553B",
           "#00cc96",
           "#ab63fa",
           "#FFA15A",
           "#19d3f3",
           "#FF6692",
           "#B6E880",
           "#FF97FF",
           "#FECB52"
          ],
          "font": {
           "color": "#2a3f5f"
          },
          "geo": {
           "bgcolor": "white",
           "lakecolor": "white",
           "landcolor": "#E5ECF6",
           "showlakes": true,
           "showland": true,
           "subunitcolor": "white"
          },
          "hoverlabel": {
           "align": "left"
          },
          "hovermode": "closest",
          "mapbox": {
           "style": "light"
          },
          "paper_bgcolor": "white",
          "plot_bgcolor": "#E5ECF6",
          "polar": {
           "angularaxis": {
            "gridcolor": "white",
            "linecolor": "white",
            "ticks": ""
           },
           "bgcolor": "#E5ECF6",
           "radialaxis": {
            "gridcolor": "white",
            "linecolor": "white",
            "ticks": ""
           }
          },
          "scene": {
           "xaxis": {
            "backgroundcolor": "#E5ECF6",
            "gridcolor": "white",
            "gridwidth": 2,
            "linecolor": "white",
            "showbackground": true,
            "ticks": "",
            "zerolinecolor": "white"
           },
           "yaxis": {
            "backgroundcolor": "#E5ECF6",
            "gridcolor": "white",
            "gridwidth": 2,
            "linecolor": "white",
            "showbackground": true,
            "ticks": "",
            "zerolinecolor": "white"
           },
           "zaxis": {
            "backgroundcolor": "#E5ECF6",
            "gridcolor": "white",
            "gridwidth": 2,
            "linecolor": "white",
            "showbackground": true,
            "ticks": "",
            "zerolinecolor": "white"
           }
          },
          "shapedefaults": {
           "line": {
            "color": "#2a3f5f"
           }
          },
          "ternary": {
           "aaxis": {
            "gridcolor": "white",
            "linecolor": "white",
            "ticks": ""
           },
           "baxis": {
            "gridcolor": "white",
            "linecolor": "white",
            "ticks": ""
           },
           "bgcolor": "#E5ECF6",
           "caxis": {
            "gridcolor": "white",
            "linecolor": "white",
            "ticks": ""
           }
          },
          "title": {
           "x": 0.05
          },
          "xaxis": {
           "automargin": true,
           "gridcolor": "white",
           "linecolor": "white",
           "ticks": "",
           "title": {
            "standoff": 15
           },
           "zerolinecolor": "white",
           "zerolinewidth": 2
          },
          "yaxis": {
           "automargin": true,
           "gridcolor": "white",
           "linecolor": "white",
           "ticks": "",
           "title": {
            "standoff": 15
           },
           "zerolinecolor": "white",
           "zerolinewidth": 2
          }
         }
        },
        "xaxis": {
         "autorange": false,
         "range": [
          195.69111709286676,
          451.76110363391655
         ],
         "rangeslider": {
          "autorange": true,
          "range": [
           65.39502018842524,
           577.5349932705249
          ],
          "yaxis": {
           "_template": null,
           "rangemode": "match"
          }
         },
         "showspikes": false,
         "type": "linear"
        },
        "yaxis": {
         "autorange": true,
         "range": [
          1.1621408256880734,
          1.3772873249637856
         ],
         "type": "linear"
        }
       }
      },
      "image/png": "[encoded data removed]",
      "text/html": [
       "<div>                            <div id=\"e6d7d45b-c8b1-4f6f-8bae-340805a516ae\" class=\"plotly-graph-div\" style=\"height:525px; width:100%;\"></div>            <script type=\"text/javascript\">                require([\"plotly\"], function(Plotly) {                    window.PLOTLYENV=window.PLOTLYENV || {};                                    if (document.getElementById(\"e6d7d45b-c8b1-4f6f-8bae-340805a516ae\")) {                    Plotly.newPlot(                        \"e6d7d45b-c8b1-4f6f-8bae-340805a516ae\",                        [{\"close\":[1.27026,1.26955,1.26689,1.28321,1.28084,1.27315,1.27697,1.28398,1.26875,1.27128,1.25345,1.25548,1.26841,1.24983,1.2437,1.24913,1.24553,1.22152,1.22024,1.22018,1.23657,1.24033,1.23266,1.22231,1.23504,1.22171,1.22626,1.22719,1.2232,1.23843,1.22855,1.23283,1.23335,1.21323,1.21265,1.21292,1.21564,1.21704,1.2314,1.23627,1.21331,1.20179,1.21166,1.21742,1.20853,1.20888,1.2076,1.19454,1.19624,1.19846,1.19916,1.20234,1.18677,1.18407,1.19032,1.18445,1.18674,1.19253,1.18423,1.19628,1.198,1.19853,1.19434,1.20992,1.2174,1.20825,1.18812,1.18478,1.18708,1.18992,1.18227,1.18855,1.20271,1.19523,1.20101,1.19652,1.19831,1.2005,1.21075,1.2102,1.22632,1.22148,1.21884,1.22477,1.22115,1.22272,1.22847,1.232,1.2265,1.20469,1.21065,1.20068,1.20561,1.21614,1.20115,1.20538,1.21373,1.21162,1.21097,1.2093,1.21698,1.2175,1.21875,1.2083,1.21958,1.21595,1.23135,1.22909,1.22823,1.23723,1.23836,1.24134,1.24083,1.23274,1.23808,1.23542,1.24548,1.24442,1.2333,1.22614,1.22567,1.20927,1.21432,1.2059,1.20547,1.20464,1.20195,1.20161,1.20247,1.20623,1.20532,1.2054,1.22814,1.22705,1.22368,1.22183,1.22519,1.23734,1.23621,1.23568,1.23362,1.23644,1.23183,1.21429,1.20796,1.20819,1.21024,1.20104,1.20475,1.21834,1.21878,1.21742,1.20588,1.20638,1.2107,1.21835,1.22133,1.22602,1.22595,1.22522,1.21502,1.21817,1.21876,1.21777,1.23355,1.22667,1.22713,1.22753,1.22925,1.2327,1.23304,1.2435,1.24165,1.22871,1.23108,1.22865,1.22864,1.24092,1.23865,1.23254,1.2349,1.2385,1.24685,1.24922,1.25119,1.25902,1.26162,1.26842,1.28062,1.27639,1.27118,1.27425,1.27972,1.27516,1.27439,1.28213,1.2868,1.29617,1.29187,1.28979,1.28879,1.29052,1.29738,1.29456,1.29544,1.30361,1.2959,1.30225,1.3048,1.30873,1.31833,1.32713,1.32952,1.32796,1.32781,1.33427,1.3269,1.34505,1.34057,1.34177,1.33344,1.33093,1.3224,1.33096,1.32959,1.33904,1.32404,1.33075,1.33935,1.33727,1.33898,1.35143,1.35316,1.36157,1.36038,1.36052,1.36345,1.35537,1.34645,1.3278,1.32616,1.31718,1.30515,1.30732,1.31058,1.32541,1.32212,1.31104,1.30674,1.30202],\"high\":[1.27243,1.27599,1.27863,1.28374,1.28445,1.28918,1.2789,1.28766,1.29253,1.27357,1.27658,1.25942,1.2712,1.2705,1.25144,1.25063,1.25413,1.24688,1.2222,1.22393,1.24285,1.2416,1.24588,1.23296,1.23841,1.23719,1.23168,1.23705,1.22882,1.24335,1.24073,1.23998,1.23693,1.23668,1.21997,1.22093,1.21682,1.22273,1.23228,1.23874,1.23726,1.21273,1.2135,1.21976,1.22186,1.21114,1.20966,1.20854,1.19745,1.19936,1.20455,1.20766,1.20245,1.19121,1.19143,1.19416,1.1885,1.19467,1.19506,1.19849,1.20106,1.19853,1.2002,1.21183,1.21796,1.21783,1.21333,1.18953,1.18896,1.19415,1.19313,1.19022,1.20589,1.20388,1.20419,1.20196,1.20694,1.20246,1.21273,1.21438,1.22898,1.22969,1.2254,1.22667,1.23044,1.22506,1.23007,1.23386,1.2351,1.22752,1.21183,1.21152,1.2088,1.21708,1.21697,1.20783,1.21482,1.21466,1.21316,1.21921,1.21889,1.21902,1.22283,1.21931,1.22041,1.22088,1.23281,1.2336,1.23298,1.23893,1.24057,1.24239,1.2436,1.24159,1.24221,1.23892,1.2459,1.2462,1.24551,1.23505,1.2293,1.22677,1.21705,1.21902,1.20795,1.20947,1.212,1.20195,1.20934,1.20766,1.20671,1.20741,1.22911,1.22901,1.23191,1.22511,1.22958,1.23764,1.23841,1.23862,1.23658,1.23791,1.23817,1.23241,1.21669,1.2116,1.21167,1.21349,1.20685,1.21946,1.22208,1.22009,1.21931,1.20802,1.21119,1.21929,1.2214,1.23084,1.22875,1.22948,1.2261,1.21981,1.22227,1.21847,1.23465,1.23388,1.2333,1.2361,1.23156,1.23472,1.23391,1.24437,1.244,1.24007,1.23298,1.23229,1.23144,1.24331,1.24221,1.23907,1.23562,1.24193,1.25002,1.25338,1.25264,1.26284,1.26496,1.26865,1.2829,1.28416,1.28115,1.27663,1.27972,1.28313,1.27567,1.28291,1.28966,1.29722,1.29857,1.2939,1.30028,1.29196,1.29881,1.29984,1.2993,1.30462,1.30732,1.30672,1.30517,1.31014,1.31888,1.32801,1.33288,1.33038,1.33311,1.33559,1.33816,1.34604,1.34555,1.34691,1.34324,1.33617,1.33182,1.33259,1.33314,1.3443,1.3428,1.3316,1.34083,1.34074,1.3404,1.35159,1.35475,1.36384,1.36429,1.36468,1.36653,1.36593,1.35797,1.34941,1.33016,1.32811,1.32489,1.31209,1.3171,1.32925,1.32653,1.32233,1.3127,1.30731],\"low\":[1.25118,1.2598,1.26664,1.26496,1.27887,1.27145,1.2715,1.27549,1.26587,1.26527,1.24942,1.24509,1.25213,1.24726,1.23841,1.23732,1.24228,1.21944,1.20556,1.2135,1.2175,1.23369,1.22729,1.21962,1.21627,1.2172,1.21829,1.22309,1.21742,1.22196,1.2255,1.22206,1.22643,1.21146,1.20975,1.20743,1.20578,1.21484,1.21682,1.2255,1.20982,1.19818,1.19812,1.20489,1.20584,1.2062,1.20505,1.19031,1.18691,1.18925,1.19225,1.19996,1.18408,1.18154,1.17774,1.17954,1.17583,1.18316,1.18216,1.18042,1.19195,1.198,1.19199,1.19243,1.20944,1.20635,1.18765,1.18117,1.17885,1.1834,1.17718,1.17819,1.18768,1.19287,1.19356,1.18955,1.1952,1.19338,1.19834,1.20828,1.20877,1.22013,1.21775,1.21553,1.22045,1.217,1.21405,1.22755,1.22444,1.20347,1.20234,1.19644,1.19526,1.20274,1.198,1.19912,1.1973,1.20772,1.20662,1.20637,1.20398,1.21074,1.21222,1.20672,1.20647,1.21329,1.21422,1.22672,1.2265,1.22728,1.23393,1.23689,1.23811,1.22991,1.23187,1.23264,1.23283,1.23985,1.22995,1.22105,1.22296,1.20871,1.20871,1.20347,1.19982,1.19923,1.20011,1.20161,1.20197,1.19957,1.19709,1.20207,1.20442,1.22455,1.22252,1.21947,1.22144,1.21763,1.23166,1.23111,1.22865,1.23257,1.22801,1.21316,1.20594,1.20519,1.20465,1.20029,1.1986,1.20393,1.21466,1.21408,1.20414,1.20459,1.20518,1.20256,1.21587,1.21984,1.22225,1.22249,1.21337,1.212,1.21573,1.21227,1.21654,1.22287,1.22526,1.22378,1.22465,1.22778,1.22884,1.23141,1.23837,1.22572,1.22622,1.22471,1.22707,1.22786,1.23683,1.22872,1.22267,1.23216,1.23654,1.24602,1.24498,1.2487,1.25694,1.25989,1.26981,1.27254,1.26934,1.26415,1.27092,1.27174,1.26652,1.26585,1.27914,1.2756,1.29056,1.28852,1.28508,1.28589,1.28761,1.29165,1.29179,1.29497,1.29408,1.29385,1.30133,1.29768,1.30792,1.31618,1.31858,1.32292,1.32312,1.32749,1.32373,1.32513,1.33899,1.33872,1.31944,1.32513,1.31404,1.31883,1.32589,1.32608,1.31931,1.3227,1.32959,1.33379,1.33421,1.33798,1.34834,1.3512,1.35774,1.35567,1.3574,1.35042,1.33871,1.32509,1.3216,1.31551,1.30244,1.30486,1.30669,1.30826,1.31932,1.30566,1.30589,1.29948],\"open\":[1.25471,1.26054,1.2697,1.26698,1.28335,1.28077,1.27444,1.27695,1.28411,1.26876,1.27138,1.25263,1.25568,1.26838,1.24998,1.24377,1.24836,1.24555,1.22137,1.22025,1.22001,1.23873,1.24036,1.23242,1.22216,1.23497,1.21903,1.22622,1.22725,1.22325,1.23853,1.2277,1.23305,1.2337,1.21338,1.21276,1.21098,1.2156,1.21722,1.23146,1.23618,1.21146,1.20188,1.21166,1.21754,1.20865,1.20927,1.20804,1.1947,1.19617,1.1985,1.20059,1.20245,1.18691,1.18411,1.19055,1.18247,1.18676,1.19263,1.18392,1.19627,1.198,1.1984,1.19498,1.2099,1.21783,1.2087,1.18718,1.18547,1.18731,1.19,1.18203,1.18902,1.20288,1.1953,1.20122,1.19647,1.19887,1.20048,1.2112,1.2108,1.22624,1.22374,1.21894,1.2248,1.22141,1.22315,1.22937,1.23204,1.22684,1.20488,1.2109,1.2003,1.2058,1.21648,1.2013,1.20563,1.21378,1.21143,1.21122,1.20937,1.2171,1.218,1.21865,1.20845,1.22008,1.21577,1.23275,1.22902,1.22827,1.23729,1.23852,1.2413,1.24109,1.23263,1.2383,1.23575,1.24482,1.24423,1.23294,1.22577,1.22553,1.21002,1.21433,1.20583,1.20578,1.20443,1.20195,1.20239,1.20258,1.20596,1.2054,1.2059,1.22875,1.22722,1.22375,1.22172,1.22548,1.23738,1.23634,1.2359,1.23351,1.23662,1.23158,1.2145,1.20812,1.20837,1.21023,1.20131,1.2049,1.21855,1.21892,1.21772,1.20628,1.20658,1.21132,1.21809,1.22137,1.2264,1.22638,1.22528,1.2153,1.21822,1.21819,1.21778,1.23388,1.22707,1.22713,1.22812,1.2296,1.23258,1.23355,1.244,1.23949,1.22917,1.23121,1.22855,1.22867,1.24182,1.23873,1.23273,1.23507,1.2386,1.24783,1.2494,1.25118,1.25891,1.26192,1.26981,1.28081,1.27669,1.27124,1.27465,1.28013,1.2751,1.27423,1.28203,1.28704,1.29697,1.29169,1.28988,1.28896,1.29063,1.29719,1.29473,1.2955,1.30331,1.29607,1.30373,1.30482,1.3087,1.3187,1.3262,1.32679,1.32788,1.32796,1.33421,1.32682,1.34422,1.34062,1.34181,1.33373,1.3309,1.31928,1.33112,1.32955,1.3393,1.32423,1.33288,1.33943,1.33707,1.33891,1.35131,1.3529,1.3615,1.36112,1.36065,1.36346,1.3548,1.34648,1.32776,1.32613,1.31708,1.30589,1.30736,1.31053,1.32531,1.32222,1.31015,1.30644],\"x\":[200,201,202,203,204,205,206,207,208,209,210,211,212,213,214,215,216,217,218,219,220,221,222,223,224,225,226,227,228,229,230,231,232,233,234,235,236,237,238,239,240,241,242,243,244,245,246,247,248,249,250,251,252,253,254,255,256,257,258,259,260,261,262,263,264,265,266,267,268,269,270,271,272,273,274,275,276,277,278,279,280,281,282,283,284,285,286,287,288,289,290,291,292,293,294,295,296,297,298,299,300,301,302,303,304,305,306,307,308,309,310,311,312,313,314,315,316,317,318,319,320,321,322,323,324,325,326,327,328,329,330,331,332,333,334,335,336,337,338,339,340,341,342,343,344,345,346,347,348,349,350,351,352,353,354,355,356,357,358,359,360,361,362,363,364,365,366,367,368,369,370,371,372,373,374,375,376,377,378,379,380,381,382,383,384,385,386,387,388,389,390,391,392,393,394,395,396,397,398,399,400,401,402,403,404,405,406,407,408,409,410,411,412,413,414,415,416,417,418,419,420,421,422,423,424,425,426,427,428,429,430,431,432,433,434,435,436,437,438,439,440,441,442,443,444,445,446,447,448,449],\"type\":\"candlestick\"},{\"legendgroup\":\"signal\",\"marker\":{\"color\":\"Red\",\"size\":10},\"mode\":\"markers\",\"name\":\"signal1\",\"offsetgroup\":\"signal\",\"x\":[208,244,258,265,291,294,323,426],\"y\":[1.28411,1.21754,1.19263,1.21783,1.2109,1.21648,1.21433,1.3393],\"type\":\"scatter\"},{\"legendgroup\":\"signal\",\"marker\":{\"color\":\"Blue\",\"size\":10},\"mode\":\"markers\",\"name\":\"signal2\",\"offsetgroup\":\"signal\",\"x\":[224,259,306,417,423],\"y\":[1.22216,1.18392,1.21577,1.32682,1.31928],\"type\":\"scatter\"}],                        {\"template\":{\"data\":{\"histogram2dcontour\":[{\"type\":\"histogram2dcontour\",\"colorbar\":{\"outlinewidth\":0,\"ticks\":\"\"},\"colorscale\":[[0.0,\"#0d0887\"],[0.1111111111111111,\"#46039f\"],[0.2222222222222222,\"#7201a8\"],[0.3333333333333333,\"#9c179e\"],[0.4444444444444444,\"#bd3786\"],[0.5555555555555556,\"#d8576b\"],[0.6666666666666666,\"#ed7953\"],[0.7777777777777778,\"#fb9f3a\"],[0.8888888888888888,\"#fdca26\"],[1.0,\"#f0f921\"]]}],\"choropleth\":[{\"type\":\"choropleth\",\"colorbar\":{\"outlinewidth\":0,\"ticks\":\"\"}}],\"histogram2d\":[{\"type\":\"histogram2d\",\"colorbar\":{\"outlinewidth\":0,\"ticks\":\"\"},\"colorscale\":[[0.0,\"#0d0887\"],[0.1111111111111111,\"#46039f\"],[0.2222222222222222,\"#7201a8\"],[0.3333333333333333,\"#9c179e\"],[0.4444444444444444,\"#bd3786\"],[0.5555555555555556,\"#d8576b\"],[0.6666666666666666,\"#ed7953\"],[0.7777777777777778,\"#fb9f3a\"],[0.8888888888888888,\"#fdca26\"],[1.0,\"#f0f921\"]]}],\"heatmap\":[{\"type\":\"heatmap\",\"colorbar\":{\"outlinewidth\":0,\"ticks\":\"\"},\"colorscale\":[[0.0,\"#0d0887\"],[0.1111111111111111,\"#46039f\"],[0.2222222222222222,\"#7201a8\"],[0.3333333333333333,\"#9c179e\"],[0.4444444444444444,\"#bd3786\"],[0.5555555555555556,\"#d8576b\"],[0.6666666666666666,\"#ed7953\"],[0.7777777777777778,\"#fb9f3a\"],[0.8888888888888888,\"#fdca26\"],[1.0,\"#f0f921\"]]}],\"heatmapgl\":[{\"type\":\"heatmapgl\",\"colorbar\":{\"outlinewidth\":0,\"ticks\":\"\"},\"colorscale\":[[0.0,\"#0d0887\"],[0.1111111111111111,\"#46039f\"],[0.2222222222222222,\"#7201a8\"],[0.3333333333333333,\"#9c179e\"],[0.4444444444444444,\"#bd3786\"],[0.5555555555555556,\"#d8576b\"],[0.6666666666666666,\"#ed7953\"],[0.7777777777777778,\"#fb9f3a\"],[0.8888888888888888,\"#fdca26\"],[1.0,\"#f0f921\"]]}],\"contourcarpet\":[{\"type\":\"contourcarpet\",\"colorbar\":{\"outlinewidth\":0,\"ticks\":\"\"}}],\"contour\":[{\"type\":\"contour\",\"colorbar\":{\"outlinewidth\":0,\"ticks\":\"\"},\"colorscale\":[[0.0,\"#0d0887\"],[0.1111111111111111,\"#46039f\"],[0.2222222222222222,\"#7201a8\"],[0.3333333333333333,\"#9c179e\"],[0.4444444444444444,\"#bd3786\"],[0.5555555555555556,\"#d8576b\"],[0.6666666666666666,\"#ed7953\"],[0.7777777777777778,\"#fb9f3a\"],[0.8888888888888888,\"#fdca26\"],[1.0,\"#f0f921\"]]}],\"surface\":[{\"type\":\"surface\",\"colorbar\":{\"outlinewidth\":0,\"ticks\":\"\"},\"colorscale\":[[0.0,\"#0d0887\"],[0.1111111111111111,\"#46039f\"],[0.2222222222222222,\"#7201a8\"],[0.3333333333333333,\"#9c179e\"],[0.4444444444444444,\"#bd3786\"],[0.5555555555555556,\"#d8576b\"],[0.6666666666666666,\"#ed7953\"],[0.7777777777777778,\"#fb9f3a\"],[0.8888888888888888,\"#fdca26\"],[1.0,\"#f0f921\"]]}],\"mesh3d\":[{\"type\":\"mesh3d\",\"colorbar\":{\"outlinewidth\":0,\"ticks\":\"\"}}],\"scatter\":[{\"fillpattern\":{\"fillmode\":\"overlay\",\"size\":10,\"solidity\":0.2},\"type\":\"scatter\"}],\"parcoords\":[{\"type\":\"parcoords\",\"line\":{\"colorbar\":{\"outlinewidth\":0,\"ticks\":\"\"}}}],\"scatterpolargl\":[{\"type\":\"scatterpolargl\",\"marker\":{\"colorbar\":{\"outlinewidth\":0,\"ticks\":\"\"}}}],\"bar\":[{\"error_x\":{\"color\":\"#2a3f5f\"},\"error_y\":{\"color\":\"#2a3f5f\"},\"marker\":{\"line\":{\"color\":\"#E5ECF6\",\"width\":0.5},\"pattern\":{\"fillmode\":\"overlay\",\"size\":10,\"solidity\":0.2}},\"type\":\"bar\"}],\"scattergeo\":[{\"type\":\"scattergeo\",\"marker\":{\"colorbar\":{\"outlinewidth\":0,\"ticks\":\"\"}}}],\"scatterpolar\":[{\"type\":\"scatterpolar\",\"marker\":{\"colorbar\":{\"outlinewidth\":0,\"ticks\":\"\"}}}],\"histogram\":[{\"marker\":{\"pattern\":{\"fillmode\":\"overlay\",\"size\":10,\"solidity\":0.2}},\"type\":\"histogram\"}],\"scattergl\":[{\"type\":\"scattergl\",\"marker\":{\"colorbar\":{\"outlinewidth\":0,\"ticks\":\"\"}}}],\"scatter3d\":[{\"type\":\"scatter3d\",\"line\":{\"colorbar\":{\"outlinewidth\":0,\"ticks\":\"\"}},\"marker\":{\"colorbar\":{\"outlinewidth\":0,\"ticks\":\"\"}}}],\"scattermapbox\":[{\"type\":\"scattermapbox\",\"marker\":{\"colorbar\":{\"outlinewidth\":0,\"ticks\":\"\"}}}],\"scatterternary\":[{\"type\":\"scatterternary\",\"marker\":{\"colorbar\":{\"outlinewidth\":0,\"ticks\":\"\"}}}],\"scattercarpet\":[{\"type\":\"scattercarpet\",\"marker\":{\"colorbar\":{\"outlinewidth\":0,\"ticks\":\"\"}}}],\"carpet\":[{\"aaxis\":{\"endlinecolor\":\"#2a3f5f\",\"gridcolor\":\"white\",\"linecolor\":\"white\",\"minorgridcolor\":\"white\",\"startlinecolor\":\"#2a3f5f\"},\"baxis\":{\"endlinecolor\":\"#2a3f5f\",\"gridcolor\":\"white\",\"linecolor\":\"white\",\"minorgridcolor\":\"white\",\"startlinecolor\":\"#2a3f5f\"},\"type\":\"carpet\"}],\"table\":[{\"cells\":{\"fill\":{\"color\":\"#EBF0F8\"},\"line\":{\"color\":\"white\"}},\"header\":{\"fill\":{\"color\":\"#C8D4E3\"},\"line\":{\"color\":\"white\"}},\"type\":\"table\"}],\"barpolar\":[{\"marker\":{\"line\":{\"color\":\"#E5ECF6\",\"width\":0.5},\"pattern\":{\"fillmode\":\"overlay\",\"size\":10,\"solidity\":0.2}},\"type\":\"barpolar\"}],\"pie\":[{\"automargin\":true,\"type\":\"pie\"}]},\"layout\":{\"autotypenumbers\":\"strict\",\"colorway\":[\"#636efa\",\"#EF553B\",\"#00cc96\",\"#ab63fa\",\"#FFA15A\",\"#19d3f3\",\"#FF6692\",\"#B6E880\",\"#FF97FF\",\"#FECB52\"],\"font\":{\"color\":\"#2a3f5f\"},\"hovermode\":\"closest\",\"hoverlabel\":{\"align\":\"left\"},\"paper_bgcolor\":\"white\",\"plot_bgcolor\":\"#E5ECF6\",\"polar\":{\"bgcolor\":\"#E5ECF6\",\"angularaxis\":{\"gridcolor\":\"white\",\"linecolor\":\"white\",\"ticks\":\"\"},\"radialaxis\":{\"gridcolor\":\"white\",\"linecolor\":\"white\",\"ticks\":\"\"}},\"ternary\":{\"bgcolor\":\"#E5ECF6\",\"aaxis\":{\"gridcolor\":\"white\",\"linecolor\":\"white\",\"ticks\":\"\"},\"baxis\":{\"gridcolor\":\"white\",\"linecolor\":\"white\",\"ticks\":\"\"},\"caxis\":{\"gridcolor\":\"white\",\"linecolor\":\"white\",\"ticks\":\"\"}},\"coloraxis\":{\"colorbar\":{\"outlinewidth\":0,\"ticks\":\"\"}},\"colorscale\":{\"sequential\":[[0.0,\"#0d0887\"],[0.1111111111111111,\"#46039f\"],[0.2222222222222222,\"#7201a8\"],[0.3333333333333333,\"#9c179e\"],[0.4444444444444444,\"#bd3786\"],[0.5555555555555556,\"#d8576b\"],[0.6666666666666666,\"#ed7953\"],[0.7777777777777778,\"#fb9f3a\"],[0.8888888888888888,\"#fdca26\"],[1.0,\"#f0f921\"]],\"sequentialminus\":[[0.0,\"#0d0887\"],[0.1111111111111111,\"#46039f\"],[0.2222222222222222,\"#7201a8\"],[0.3333333333333333,\"#9c179e\"],[0.4444444444444444,\"#bd3786\"],[0.5555555555555556,\"#d8576b\"],[0.6666666666666666,\"#ed7953\"],[0.7777777777777778,\"#fb9f3a\"],[0.8888888888888888,\"#fdca26\"],[1.0,\"#f0f921\"]],\"diverging\":[[0,\"#8e0152\"],[0.1,\"#c51b7d\"],[0.2,\"#de77ae\"],[0.3,\"#f1b6da\"],[0.4,\"#fde0ef\"],[0.5,\"#f7f7f7\"],[0.6,\"#e6f5d0\"],[0.7,\"#b8e186\"],[0.8,\"#7fbc41\"],[0.9,\"#4d9221\"],[1,\"#276419\"]]},\"xaxis\":{\"gridcolor\":\"white\",\"linecolor\":\"white\",\"ticks\":\"\",\"title\":{\"standoff\":15},\"zerolinecolor\":\"white\",\"automargin\":true,\"zerolinewidth\":2},\"yaxis\":{\"gridcolor\":\"white\",\"linecolor\":\"white\",\"ticks\":\"\",\"title\":{\"standoff\":15},\"zerolinecolor\":\"white\",\"automargin\":true,\"zerolinewidth\":2},\"scene\":{\"xaxis\":{\"backgroundcolor\":\"#E5ECF6\",\"gridcolor\":\"white\",\"linecolor\":\"white\",\"showbackground\":true,\"ticks\":\"\",\"zerolinecolor\":\"white\",\"gridwidth\":2},\"yaxis\":{\"backgroundcolor\":\"#E5ECF6\",\"gridcolor\":\"white\",\"linecolor\":\"white\",\"showbackground\":true,\"ticks\":\"\",\"zerolinecolor\":\"white\",\"gridwidth\":2},\"zaxis\":{\"backgroundcolor\":\"#E5ECF6\",\"gridcolor\":\"white\",\"linecolor\":\"white\",\"showbackground\":true,\"ticks\":\"\",\"zerolinecolor\":\"white\",\"gridwidth\":2}},\"shapedefaults\":{\"line\":{\"color\":\"#2a3f5f\"}},\"annotationdefaults\":{\"arrowcolor\":\"#2a3f5f\",\"arrowhead\":0,\"arrowwidth\":1},\"geo\":{\"bgcolor\":\"white\",\"landcolor\":\"#E5ECF6\",\"subunitcolor\":\"white\",\"showland\":true,\"showlakes\":true,\"lakecolor\":\"white\"},\"title\":{\"x\":0.05},\"mapbox\":{\"style\":\"light\"}}}},                        {\"responsive\": true}                    ).then(function(){\n",
       "                            \n",
       "var gd = document.getElementById('e6d7d45b-c8b1-4f6f-8bae-340805a516ae');\n",
       "var x = new MutationObserver(function (mutations, observer) {{\n",
       "        var display = window.getComputedStyle(gd).display;\n",
       "        if (!display || display === 'none') {{\n",
       "            console.log([gd, 'removed!']);\n",
       "            Plotly.purge(gd);\n",
       "            observer.disconnect();\n",
       "        }}\n",
       "}});\n",
       "\n",
       "// Listen for the removal of the full notebook cells\n",
       "var notebookContainer = gd.closest('#notebook-container');\n",
       "if (notebookContainer) {{\n",
       "    x.observe(notebookContainer, {childList: true});\n",
       "}}\n",
       "\n",
       "// Listen for the clearing of the current output cell\n",
       "var outputEl = gd.closest('.output');\n",
       "if (outputEl) {{\n",
       "    x.observe(outputEl, {childList: true});\n",
       "}}\n",
       "\n",
       "                        })                };                });            </script>        </div>"
      ]
     },
     "metadata": {},
     "output_type": "display_data"
    }
   ],
   "source": [
    "dfpl = df[200:450]\n",
    "import plotly.graph_objects as go\n",
    "from datetime import datetime\n",
    "\n",
    "fig = go.Figure(data=[go.Candlestick(x=dfpl.index,\n",
    "                open=dfpl['open'],\n",
    "                high=dfpl['high'],\n",
    "                low=dfpl['low'],\n",
    "                close=dfpl['close'])])\n",
    "fig.add_trace(\n",
    "    go.Scatter(\n",
    "        x=dfpl[(dfpl['signal1']==1)].index,\n",
    "        y=dfpl[(dfpl['signal1']==1)]['open'],\n",
    "        mode=\"markers\",\n",
    "        name=\"signal1\",\n",
    "        marker=dict(color=\"Red\", size=10),\n",
    "        offsetgroup=\"signal\",\n",
    "        legendgroup=\"signal\",\n",
    "    )\n",
    ")\n",
    "fig.add_trace(\n",
    "    go.Scatter(\n",
    "        x=dfpl[(dfpl['signal1']==2)].index,\n",
    "        y=dfpl[(dfpl['signal1']==2)]['open'],\n",
    "        mode=\"markers\",\n",
    "        name=\"signal2\",\n",
    "        marker=dict(color=\"Blue\", size=10),\n",
    "        offsetgroup=\"signal\",\n",
    "        legendgroup=\"signal\",\n",
    "    )\n",
    ")\n",
    "fig.show()"
   ]
  },
  {
   "cell_type": "code",
   "execution_count": null,
   "metadata": {},
   "outputs": [],
   "source": []
  }
 ],
 "metadata": {
  "kernelspec": {
   "display_name": "Python 3 (ipykernel)",
   "language": "python",
   "name": "python3"
  },
  "language_info": {
   "codemirror_mode": {
    "name": "ipython",
    "version": 3
   },
   "file_extension": ".py",
   "mimetype": "text/x-python",
   "name": "python",
   "nbconvert_exporter": "python",
   "pygments_lexer": "ipython3",
   "version": "3.10.6"
  }
 },
 "nbformat": 4,
 "nbformat_minor": 4
}
