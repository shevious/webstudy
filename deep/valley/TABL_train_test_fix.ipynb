{
 "cells": [
  {
   "cell_type": "markdown",
   "metadata": {},
   "source": [
    "### Original source  \n",
    "https://github.com/LeonardoBerti00/TABL-Temporal-Attention-Augmented-Bilinear-Network-for-Financial-Time-Series-Data-Analysis"
   ]
  },
  {
   "cell_type": "markdown",
   "metadata": {
    "id": "P-PVsZeWjCiw"
   },
   "source": [
    "### **TABL**"
   ]
  },
  {
   "cell_type": "code",
   "execution_count": 1,
   "metadata": {
    "id": "AVPONVeVw0nh"
   },
   "outputs": [],
   "source": [
    "# load packages\n",
    "\n",
    "import numpy as np\n",
    "import matplotlib.pyplot as plt\n",
    "from datetime import datetime\n",
    "from tqdm import tqdm \n",
    "from sklearn.metrics import accuracy_score, classification_report, confusion_matrix, ConfusionMatrixDisplay\n",
    "import torch\n",
    "from torch.utils import data\n",
    "import torch.nn as nn\n",
    "import torch.optim as optim\n",
    "\n",
    "device = torch.device(\"cuda:0\" if torch.cuda.is_available() else \"cpu\")\n"
   ]
  },
  {
   "cell_type": "markdown",
   "metadata": {
    "id": "aNdy1u5zjMaw"
   },
   "source": [
    "### **Data**\n",
    "The dataset in the folder Dataset is the FI-2010 dataset zipped and normalized. \n",
    "\n",
    "As in the original paper I used the firs 7 days to train and to validate, and the rest 3 days to do the the testing. "
   ]
  },
  {
   "cell_type": "code",
   "execution_count": 26,
   "metadata": {
    "id": "ls5u0jngxkjl"
   },
   "outputs": [],
   "source": [
    "# please change the data_path to your local path and download the files you need from the web site of the dataset\n",
    "\n",
    "#dec_data = np.loadtxt('data/FI-2010/BenchmarkDatasets/NoAuction/1.NoAuction_Zscore/NoAuction_Zscore_Training/Train_Dst_NoAuction_ZScore_CF_7.txt')\n",
    "#dec_data = np.loadtxt('data/FI-2010/BenchmarkDatasets/NoAuction/1.NoAuction_Zscore/NoAuction_Zscore_Training/Train_Dst_NoAuction_ZScore_CF_7.txt')\n",
    "dec_data = np.loadtxt('data/FI-2010/BenchmarkDatasets/Auction/1.Auction_Zscore/Auction_Zscore_Training/Train_Dst_Auction_ZScore_CF_7.txt')\n",
    "dec_train = dec_data[:, :int(dec_data.shape[1] * 0.8)]\n",
    "dec_val = dec_data[:, int(dec_data.shape[1] * 0.8):]\n",
    "\n",
    "#dec_test1 = np.loadtxt('data/FI-2010/BenchmarkDatasets/NoAuction/1.NoAuction_Zscore/NoAuction_Zscore_Testing/Test_Dst_NoAuction_ZScore_CF_7.txt')\n",
    "#dec_test2 = np.loadtxt('data/FI-2010/BenchmarkDatasets/NoAuction/1.NoAuction_Zscore/NoAuction_Zscore_Testing/Test_Dst_NoAuction_ZScore_CF_8.txt')\n",
    "#dec_test3 = np.loadtxt('data/FI-2010/BenchmarkDatasets/NoAuction/1.NoAuction_Zscore/NoAuction_Zscore_Testing/Test_Dst_NoAuction_ZScore_CF_9.txt')\n",
    "dec_test1 = np.loadtxt('data/FI-2010/BenchmarkDatasets/Auction/1.Auction_Zscore/Auction_Zscore_Testing/Test_Dst_Auction_ZScore_CF_7.txt')\n",
    "dec_test2 = np.loadtxt('data/FI-2010/BenchmarkDatasets/Auction/1.Auction_Zscore/Auction_Zscore_Testing/Test_Dst_Auction_ZScore_CF_8.txt')\n",
    "dec_test3 = np.loadtxt('data/FI-2010/BenchmarkDatasets/Auction/1.Auction_Zscore/Auction_Zscore_Testing/Test_Dst_Auction_ZScore_CF_9.txt')\n",
    "#dec_test1 = np.loadtxt('data/FI-2010/BenchmarkDatasets/Auction/3.Auction_DecPre/Auction_DecPre_Testing/Test_Dst_Auction_DecPre_CF_7.txt')\n",
    "#dec_test2 = np.loadtxt('data/FI-2010/BenchmarkDatasets/Auction/3.Auction_DecPre/Auction_DecPre_Testing/Test_Dst_Auction_DecPre_CF_8.txt')\n",
    "#dec_test3 = np.loadtxt('data/FI-2010/BenchmarkDatasets/Auction/3.Auction_DecPre/Auction_DecPre_Testing/Test_Dst_Auction_DecPre_CF_9.txt')\n",
    "dec_test = np.hstack((dec_test1, dec_test2, dec_test3))\n",
    "\n",
    "# dec_train.shape = (149, 203800)\n",
    "\n",
    "h = 2        #if h = 2, than horizon = 50\n",
    "T = 50      #horizon \n",
    "dim = 10\n",
    "k = T//10    #horizon\n",
    "\n",
    "y_train = dec_train[-h, :].flatten()\n",
    "# y_train.shape = (203800,)\n",
    "y_val = dec_val[-h, :].flatten()\n",
    "y_test = dec_test[-h, :].flatten()\n",
    "\n",
    "# 10-1: 10 means the length of inputs\n",
    "# second -1 means [1,2,3] to [0,1,2] conversion of class id\n",
    "#y_train = y_train[dim-1+(k-1):] - 1\n",
    "y_train = y_train[dim-1:] - 1\n",
    "# y_train.shape = (203791,) # 203791 = 203800-(10+1)\n",
    "#y_val = y_val[dim-1+(k-1):] - 1\n",
    "y_val = y_val[dim-1:] - 1\n",
    "#y_test = y_test[dim-1+(k-1):] - 1 \n",
    "y_test = y_test[dim-1:] - 1 \n",
    "\n",
    "# First 40 features = 10*4 features\n",
    "dec_train = dec_train[:40, :].T\n",
    "# dec_train.shape = (203800, 40)\n",
    "dec_val = dec_val[:40, :].T\n",
    "dec_test = dec_test[:40, :].T"
   ]
  },
  {
   "cell_type": "code",
   "execution_count": 3,
   "metadata": {},
   "outputs": [
    {
     "name": "stdout",
     "output_type": "stream",
     "text": [
      "(149, 124139)\n"
     ]
    }
   ],
   "source": [
    "#decpre_data = np.loadtxt('data/FI-2010/BenchmarkDatasets/NoAuction/3.NoAuction_DecPre/NoAuction_DecPre_Training/Train_Dst_NoAuction_DecPre_CF_7.txt')\n",
    "# Auction\n",
    "#decpre_data = np.loadtxt('data/FI-2010/BenchmarkDatasets/Auction/3.Auction_DecPre/Auction_DecPre_Training/Train_Dst_Auction_DecPre_CF_7.txt')\n",
    "#decpre_data = np.loadtxt('data/FI-2010/BenchmarkDatasets/Auction/3.Auction_DecPre/Auction_DecPre_Testing/Test_Dst_Auction_DecPre_CF_7.txt')\n",
    "decpre_test1 = np.loadtxt('data/FI-2010/BenchmarkDatasets/Auction/3.Auction_DecPre/Auction_DecPre_Testing/Test_Dst_Auction_DecPre_CF_7.txt')\n",
    "decpre_test2 = np.loadtxt('data/FI-2010/BenchmarkDatasets/Auction/3.Auction_DecPre/Auction_DecPre_Testing/Test_Dst_Auction_DecPre_CF_8.txt')\n",
    "decpre_test3 = np.loadtxt('data/FI-2010/BenchmarkDatasets/Auction/3.Auction_DecPre/Auction_DecPre_Testing/Test_Dst_Auction_DecPre_CF_9.txt')\n",
    "decpre_data = np.hstack((decpre_test1, decpre_test2, decpre_test3))\n",
    "#decpre_data = np.loadtxt('data/FI-2010/BenchmarkDatasets/NoAuction/1.NoAuction_Zscore/NoAuction_Zscore_Training/Train_Dst_NoAuction_ZScore_CF_7.txt')\n",
    "decpre_train = decpre_data[:, :int(decpre_data.shape[1] * 0.8)]\n",
    "decpre_val = decpre_data[:, int(decpre_data.shape[1] * 0.8):]\n",
    "print(decpre_train.shape)"
   ]
  },
  {
   "cell_type": "code",
   "execution_count": 6,
   "metadata": {},
   "outputs": [],
   "source": [
    "y_decpre_train = decpre_train[-h, :].flatten()\n",
    "# y_train.shape = (203800,)\n",
    "y_decpre_val = decpre_val[-h, :].flatten()\n",
    "y_decpre_train = y_decpre_train - 1\n",
    "\n",
    "decpre_all_train = decpre_train.T\n",
    "# First 40 features = 10*4 features\n",
    "decpre_train = decpre_train[:40, :].T\n",
    "# dec_train.shape = (203800, 40)\n",
    "decpre_val = decpre_val[:40, :].T"
   ]
  },
  {
   "cell_type": "code",
   "execution_count": 7,
   "metadata": {},
   "outputs": [
    {
     "data": {
      "text/plain": [
       "((124139, 149), (124139, 40), (124139,))"
      ]
     },
     "execution_count": 7,
     "metadata": {},
     "output_type": "execute_result"
    }
   ],
   "source": [
    "decpre_all_train.shape, decpre_train.shape, y_decpre_train.shape"
   ]
  },
  {
   "cell_type": "code",
   "execution_count": 10,
   "metadata": {},
   "outputs": [],
   "source": [
    "mid = (decpre_all_train[:, 0]+decpre_all_train[:, 2])/2"
   ]
  },
  {
   "cell_type": "code",
   "execution_count": 16,
   "metadata": {},
   "outputs": [],
   "source": [
    "y_label = decpre_all_train[:, -h] - 1"
   ]
  },
  {
   "cell_type": "code",
   "execution_count": 19,
   "metadata": {},
   "outputs": [
    {
     "name": "stdout",
     "output_type": "stream",
     "text": [
      "horizon = 5, matching ratio = 0.903653\n"
     ]
    }
   ],
   "source": [
    "thres = 0.00002\n",
    "thres1 = thres\n",
    "thres2 = thres\n",
    "\n",
    "#thres1 = 0.00002\n",
    "#thres2 = 0.00002\n",
    "\n",
    "k = 5\n",
    "\n",
    "n = mid.shape[0] - k\n",
    "\n",
    "offset = k-1\n",
    "#for i in range(30):\n",
    "#    y_label[i] = i\n",
    "y_label_shift = y_label[offset:]\n",
    "\n",
    "matching_cnt = 0\n",
    "total_cnt = 0\n",
    "for i in range(n):\n",
    "    total_cnt += 1\n",
    "    #m_i = np.mean(mid0[i-k+1:i+1])\n",
    "    m_i = mid[i]\n",
    "    l_i = (np.mean(mid[i+1:i+1+(k-1)])-m_i)/m_i\n",
    "    if l_i >= thres1:\n",
    "        y = 0\n",
    "    elif l_i <= -thres2:\n",
    "        y = 2\n",
    "    else:\n",
    "        y = 1\n",
    "    #if i < 100:\n",
    "        #print(y, int(y_label_shift[i]), l_i)\n",
    "    if y == int(y_label_shift[i]):\n",
    "        matching_cnt += 1\n",
    "\n",
    "print('horizon = %d, matching ratio = %f'%(k, matching_cnt/total_cnt)) "
   ]
  },
  {
   "cell_type": "code",
   "execution_count": 27,
   "metadata": {},
   "outputs": [],
   "source": [
    "#computing the weights for the weighted cross entropy loss\n",
    "def compute_weights(y):\n",
    "  cont_0 = 0\n",
    "  cont_1 = 0\n",
    "  cont_2 = 0\n",
    "  for i in range(y.shape[0]):\n",
    "    if (y[i] == 0):\n",
    "      cont_0 += 1\n",
    "    elif (y[i] == 1):\n",
    "      cont_1 += 1\n",
    "    elif (y[i] == 2):\n",
    "      cont_2 += 2\n",
    "    else: \n",
    "      raise Exception(\"wrong labels\")\n",
    "  return torch.Tensor([1e6/cont_0, 1e6/cont_1, 1e6/cont_2]).to(device)\n",
    "\n",
    "y_total = np.concatenate((y_train, y_val, y_test))\n",
    "weights = compute_weights(y_total)"
   ]
  },
  {
   "cell_type": "code",
   "execution_count": 28,
   "metadata": {
    "id": "8x7PAu1LySOZ"
   },
   "outputs": [],
   "source": [
    "class Dataset(data.Dataset):\n",
    "    \"\"\"Characterizes a dataset for PyTorch\"\"\"\n",
    "    def __init__(self, x, y, num_classes, dim):\n",
    "        \"\"\"Initialization\"\"\" \n",
    "        self.num_classes = num_classes\n",
    "        self.dim = dim\n",
    "        self.x = x   \n",
    "        self.y = y\n",
    "\n",
    "        self.length = x.shape[0] - (T/10) -self.dim + 1\n",
    "        print(self.length)\n",
    "\n",
    "        x = torch.from_numpy(x)\n",
    "        self.x = torch.unsqueeze(x, 1)\n",
    "        self.y = torch.from_numpy(y)\n",
    "\n",
    "    def __len__(self):\n",
    "        \"\"\"Denotes the total number of samples\"\"\"\n",
    "        return int(self.length)\n",
    "\n",
    "    def __getitem__(self, i):\n",
    "        input = self.x[i:i+self.dim, :]\n",
    "        input = input.permute(1, 2, 0)\n",
    "        input = torch.squeeze(input)\n",
    "\n",
    "        return input, self.y[i]"
   ]
  },
  {
   "cell_type": "code",
   "execution_count": 29,
   "metadata": {
    "colab": {
     "base_uri": "https://localhost:8080/"
    },
    "id": "7ndByE-Ajmq8",
    "outputId": "9b68ee43-4e8d-4483-c284-512fb31797e8"
   },
   "outputs": [
    {
     "name": "stdout",
     "output_type": "stream",
     "text": [
      "60577.0\n",
      "155160.0\n",
      "242346.0\n"
     ]
    }
   ],
   "source": [
    "#Hyperparameters\n",
    "batch_size = 256\n",
    "epochs = 200\n",
    "   \n",
    "lr = 0.01\n",
    "num_classes = 3\n",
    "dim = 10\n",
    "\n",
    "dataset_val = Dataset(dec_val, y_val, num_classes, dim)\n",
    "dataset_test = Dataset(dec_test, y_test, num_classes, dim)\n",
    "dataset_train = Dataset(dec_train, y_train, num_classes, dim)\n",
    "\n",
    "train_loader = torch.utils.data.DataLoader(dataset=dataset_train, batch_size=batch_size, shuffle=True)\n",
    "val_loader = torch.utils.data.DataLoader(dataset=dataset_val, batch_size=batch_size, shuffle=False)\n",
    "test_loader = torch.utils.data.DataLoader(dataset=dataset_test, batch_size=batch_size, shuffle=False)"
   ]
  },
  {
   "cell_type": "code",
   "execution_count": 36,
   "metadata": {},
   "outputs": [
    {
     "data": {
      "text/plain": [
       "0.35983073"
      ]
     },
     "execution_count": 36,
     "metadata": {},
     "output_type": "execute_result"
    }
   ],
   "source": [
    "dec_train[0, 0]"
   ]
  },
  {
   "cell_type": "code",
   "execution_count": 37,
   "metadata": {},
   "outputs": [
    {
     "name": "stdout",
     "output_type": "stream",
     "text": [
      "torch.Size([40, 10]) torch.Size([])\n",
      "tensor([0.3543, 0.3688, 0.3688, 0.3688, 0.3688, 0.3708, 0.3673, 0.3673, 0.3688,\n",
      "        0.3673], dtype=torch.float64)\n"
     ]
    }
   ],
   "source": [
    "for i,(x,y) in enumerate(dataset_train):\n",
    "    print(x.shape, y.shape)\n",
    "    n = x.shape[0]\n",
    "    mids = (x[0, :] + x[2, :])/2\n",
    "    print(mids)\n",
    "    break"
   ]
  },
  {
   "cell_type": "markdown",
   "metadata": {
    "id": "DEIIi2NwjtgC"
   },
   "source": [
    "### **Model Architecture**\n"
   ]
  },
  {
   "cell_type": "code",
   "execution_count": 6,
   "metadata": {
    "id": "lhA2p2kcUj2q"
   },
   "outputs": [],
   "source": [
    "class TABL_layer(nn.Module):\n",
    "    def __init__(self, d2, d1, t1, t2):\n",
    "        super().__init__()\n",
    "        self.t1 = t1\n",
    "\n",
    "        weight = torch.Tensor(d2, d1)\n",
    "        self.W1 = nn.Parameter(weight)\n",
    "        nn.init.kaiming_uniform_(self.W1, nonlinearity='relu')\n",
    "        \n",
    "        weight2 = torch.Tensor(t1, t1)\n",
    "        self.W = nn.Parameter(weight2)\n",
    "        nn.init.constant_(self.W, 1/t1)\n",
    " \n",
    "        weight3 = torch.Tensor(t1, t2)\n",
    "        self.W2 = nn.Parameter(weight3)\n",
    "        nn.init.kaiming_uniform_(self.W2, nonlinearity='relu')\n",
    "\n",
    "        bias1 = torch.Tensor(d2, t2)\n",
    "        self.B = nn.Parameter(bias1)\n",
    "        nn.init.constant_(self.B, 0)\n",
    "\n",
    "        l = torch.Tensor(1,)\n",
    "        self.l = nn.Parameter(l)\n",
    "        nn.init.constant_(self.l, 0.5)\n",
    "\n",
    "        self.activation = nn.ReLU()\n",
    "\n",
    "    def forward(self, X):\n",
    "        \n",
    "        #maintaining the weight parameter between 0 and 1.\n",
    "        if (self.l[0] < 0): \n",
    "          l = torch.Tensor(1,)\n",
    "          self.l = nn.Parameter(l)\n",
    "          nn.init.constant_(self.l, 0.0)\n",
    "\n",
    "        if (self.l[0] > 1): \n",
    "          l = torch.Tensor(1,)\n",
    "          self.l = nn.Parameter(l)\n",
    "          nn.init.constant_(self.l, 1.0)\n",
    "     \n",
    "        #modelling the dependence along the first mode of X while keeping the temporal order intact (7)\n",
    "        X = self.W1 @ X\n",
    "\n",
    "        #enforcing constant (1) on the diagonal\n",
    "        W = self.W -self.W *torch.eye(self.t1,dtype=torch.float32).to(device)+torch.eye(self.t1,dtype=torch.float32).to(device)/self.t1\n",
    "\n",
    "        #attention, the aim of the second step is to learn how important the temporal instances are to each other (8)\n",
    "        E = X @ W\n",
    "\n",
    "        #computing the attention mask  (9)\n",
    "        A = torch.softmax(E, dim=-1)\n",
    "\n",
    "        #applying a soft attention mechanism  (10)\n",
    "        #he attention mask A obtained from the third step is used to zero out the effect of unimportant elements\n",
    "        X = self.l[0] * (X) + (1.0 - self.l[0])*X*A\n",
    "\n",
    "        #the final step of the proposed layer estimates the temporal mapping W2, after the bias shift (11)\n",
    "        y = X @ self.W2 + self.B\n",
    "        return y\n",
    "\n",
    "class BL_layer(nn.Module):\n",
    "  def __init__(self, d2, d1, t1, t2):\n",
    "        super().__init__()\n",
    "        weight1 = torch.Tensor(d2, d1)\n",
    "        self.W1 = nn.Parameter(weight1)\n",
    "        nn.init.kaiming_uniform_(self.W1, nonlinearity='relu')\n",
    "\n",
    "        weight2 = torch.Tensor(t1, t2)\n",
    "        self.W2 = nn.Parameter(weight2)\n",
    "        nn.init.kaiming_uniform_(self.W2, nonlinearity='relu')\n",
    "\n",
    "        bias1 = torch.zeros((d2, t2))\n",
    "        self.B = nn.Parameter(bias1)\n",
    "        nn.init.constant_(self.B, 0)\n",
    "\n",
    "        self.activation = nn.ReLU()\n",
    "\n",
    "  def forward(self, x):\n",
    "\n",
    "    x = self.activation(self.W1 @ x @ self.W2 + self.B)\n",
    "\n",
    "    return x\n",
    "\n",
    "\n",
    "class BTABL(nn.Module):\n",
    "  def __init__(self, d2, d1, t1, t2, d3, t3):\n",
    "    super().__init__()\n",
    "\n",
    "    self.BL = BL_layer(d2, d1, t1, t2)\n",
    "    self.TABL = TABL_layer(d3, d2, t2, t3)\n",
    "    self.dropout = nn.Dropout(0.1)\n",
    "\n",
    "  def forward(self, x):\n",
    "\n",
    "    self.max_norm_(self.BL.W1.data)\n",
    "    self.max_norm_(self.BL.W2.data)\n",
    "    x = self.BL(x)\n",
    "    x = self.dropout(x)\n",
    "\n",
    "    self.max_norm_(self.TABL.W1.data)\n",
    "    self.max_norm_(self.TABL.W.data)\n",
    "    self.max_norm_(self.TABL.W2.data)\n",
    "    x = self.TABL(x)\n",
    "    x = torch.squeeze(x)\n",
    "    x = torch.softmax(x, 1)\n",
    "    return x\n",
    "\n",
    "  def max_norm_(self, w):\n",
    "    with torch.no_grad():\n",
    "      if (torch.linalg.matrix_norm(w) > 10.0):\n",
    "        norm = torch.linalg.matrix_norm(w)\n",
    "        desired = torch.clamp(norm, min=0.0, max=10.0)\n",
    "        w *= (desired / (1e-8 + norm))\n",
    "\n",
    "\n",
    "\n",
    "class CTABL(nn.Module):\n",
    "  def __init__(self, d2, d1, t1, t2, d3, t3, d4, t4):\n",
    "    super().__init__()\n",
    "    \n",
    "    self.BL = BL_layer(d2, d1, t1, t2)\n",
    "    self.BL2 = BL_layer(d3, d2, t2, t3)\n",
    "    self.TABL = TABL_layer(d4, d3, t3, t4)\n",
    "    self.dropout = nn.Dropout(0.1)\n",
    "\n",
    "  def forward(self, x):\n",
    " \n",
    "    self.max_norm_(self.BL.W1.data)\n",
    "    self.max_norm_(self.BL.W2.data)\n",
    "    x = self.BL(x)\n",
    "    x = self.dropout(x)\n",
    "\n",
    "    self.max_norm_(self.BL2.W1.data)\n",
    "    self.max_norm_(self.BL2.W2.data)\n",
    "    x = self.BL2(x)\n",
    "    x = self.dropout(x)\n",
    "\n",
    "    self.max_norm_(self.TABL.W1.data)\n",
    "    self.max_norm_(self.TABL.W.data)\n",
    "    self.max_norm_(self.TABL.W2.data)\n",
    "    x = self.TABL(x)\n",
    "    x = torch.squeeze(x)\n",
    "    x = torch.softmax(x, 1)\n",
    "    return x\n",
    "\n",
    "  def max_norm_(self, w):\n",
    "    with torch.no_grad():\n",
    "      if (torch.linalg.matrix_norm(w) > 10.0):\n",
    "        norm = torch.linalg.matrix_norm(w)\n",
    "        desired = torch.clamp(norm, min=0.0, max=10.0)\n",
    "        w *= (desired / (1e-8 + norm))\n",
    "    "
   ]
  },
  {
   "cell_type": "code",
   "execution_count": 18,
   "metadata": {},
   "outputs": [],
   "source": [
    "class BiN(nn.Module):\n",
    "    def __init__(self, d2, d1, t1, t2):\n",
    "        super().__init__()\n",
    "        self.t1 = t1\n",
    "        self.d1 = d1\n",
    "        self.t2 = t2\n",
    "        self.d2 = d2\n",
    "\n",
    "        bias1 = torch.Tensor(t1, 1)\n",
    "        self.B1 = nn.Parameter(bias1)\n",
    "        nn.init.constant_(self.B1, 0)\n",
    "\n",
    "        l1 = torch.Tensor(t1, 1)\n",
    "        self.l1 = nn.Parameter(l1)\n",
    "        nn.init.xavier_normal_(self.l1)\n",
    "\n",
    "        bias2 = torch.Tensor(d1, 1)\n",
    "        self.B2 = nn.Parameter(bias2)\n",
    "        nn.init.constant_(self.B2, 0)\n",
    "\n",
    "        l2 = torch.Tensor(d1, 1)\n",
    "        self.l2 = nn.Parameter(l2)\n",
    "        nn.init.xavier_normal_(self.l2)\n",
    "\n",
    "        y1 = torch.Tensor(1, )\n",
    "        self.y1 = nn.Parameter(y1)\n",
    "        nn.init.constant_(self.y1, 0.5)\n",
    "\n",
    "        y2 = torch.Tensor(1, )\n",
    "        self.y2 = nn.Parameter(y2)\n",
    "        nn.init.constant_(self.y2, 0.5)\n",
    "\n",
    "    def forward(self, x):\n",
    "\n",
    "        # if the two scalars are negative then we setting them to 0\n",
    "        if (self.y1[0] < 0):\n",
    "            y1 = torch.cuda.FloatTensor(1, )\n",
    "            self.y1 = nn.Parameter(y1)\n",
    "            nn.init.constant_(self.y1, 0.01)\n",
    "\n",
    "        if (self.y2[0] < 0):\n",
    "            y2 = torch.cuda.FloatTensor(1, )\n",
    "            self.y2 = nn.Parameter(y2)\n",
    "            nn.init.constant_(self.y2, 0.01)\n",
    "\n",
    "        # normalization along the temporal dimensione\n",
    "        #T2 = torch.ones([self.t1, 1], device=cst.DEVICE_TYPE)\n",
    "        T2 = torch.ones([self.t1, 1], device=device)\n",
    "        x2 = torch.mean(x, dim=2)\n",
    "        x2 = torch.reshape(x2, (x2.shape[0], x2.shape[1], 1))\n",
    "\n",
    "        std = torch.std(x, dim=2)\n",
    "        std = torch.reshape(std, (std.shape[0], std.shape[1], 1))\n",
    "        # it can be possible that the std of some temporal slices is 0, and this produces inf values, so we have to set them to one\n",
    "        std[std < 1e-4] = 1\n",
    "\n",
    "        diff = x - (x2 @ (T2.T))\n",
    "        Z2 = diff / (std @ (T2.T))\n",
    "\n",
    "        X2 = self.l2 @ T2.T\n",
    "        X2 = X2 * Z2\n",
    "        X2 = X2 + (self.B2 @ T2.T)\n",
    "\n",
    "        # normalization along the feature dimension\n",
    "        #T1 = torch.ones([self.d1, 1], device=cst.DEVICE_TYPE)\n",
    "        T1 = torch.ones([self.d1, 1], device=device)\n",
    "        x1 = torch.mean(x, dim=1)\n",
    "        x1 = torch.reshape(x1, (x1.shape[0], x1.shape[1], 1))\n",
    "\n",
    "        std = torch.std(x, dim=1)\n",
    "        std = torch.reshape(std, (std.shape[0], std.shape[1], 1))\n",
    "\n",
    "        op1 = x1 @ T1.T\n",
    "        op1 = torch.permute(op1, (0, 2, 1))\n",
    "\n",
    "        op2 = std @ T1.T\n",
    "        op2 = torch.permute(op2, (0, 2, 1))\n",
    "\n",
    "        z1 = (x - op1) / (op2)\n",
    "        X1 = (T1 @ self.l1.T)\n",
    "        X1 = X1 * z1\n",
    "        X1 = X1 + (T1 @ self.B1.T)\n",
    "\n",
    "        # weighing the imporance of temporal and feature normalization\n",
    "        x = self.y1 * X1 + self.y2 * X2\n",
    "\n",
    "        return x\n",
    "        \n",
    "class BL_layer(nn.Module):\n",
    "  def __init__(self, d2, d1, t1, t2):\n",
    "        super().__init__()\n",
    "        weight1 = torch.Tensor(d2, d1)\n",
    "        self.W1 = nn.Parameter(weight1)\n",
    "        nn.init.kaiming_uniform_(self.W1, nonlinearity='relu')\n",
    "\n",
    "        weight2 = torch.Tensor(t1, t2)\n",
    "        self.W2 = nn.Parameter(weight2)\n",
    "        nn.init.kaiming_uniform_(self.W2, nonlinearity='relu')\n",
    "\n",
    "        bias1 = torch.zeros((d2, t2))\n",
    "        self.B = nn.Parameter(bias1)\n",
    "        nn.init.constant_(self.B, 0)\n",
    "\n",
    "        self.activation = nn.ReLU()\n",
    "\n",
    "  def forward(self, x):\n",
    "\n",
    "    x = self.activation(self.W1 @ x @ self.W2 + self.B)\n",
    "\n",
    "    return x\n",
    "\n",
    "class TABL_layer(nn.Module):\n",
    "    def __init__(self, d2, d1, t1, t2):\n",
    "        super().__init__()\n",
    "        self.t1 = t1\n",
    "\n",
    "        weight = torch.Tensor(d2, d1)\n",
    "        self.W1 = nn.Parameter(weight)\n",
    "        nn.init.kaiming_uniform_(self.W1, nonlinearity='relu')\n",
    "\n",
    "        weight2 = torch.Tensor(t1, t1)\n",
    "        self.W = nn.Parameter(weight2)\n",
    "        nn.init.constant_(self.W, 1 / t1)\n",
    "\n",
    "        weight3 = torch.Tensor(t1, t2)\n",
    "        self.W2 = nn.Parameter(weight3)\n",
    "        nn.init.kaiming_uniform_(self.W2, nonlinearity='relu')\n",
    "\n",
    "        bias1 = torch.Tensor(d2, t2)\n",
    "        self.B = nn.Parameter(bias1)\n",
    "        nn.init.constant_(self.B, 0)\n",
    "\n",
    "        l = torch.Tensor(1, )\n",
    "        self.l = nn.Parameter(l)\n",
    "        nn.init.constant_(self.l, 0.5)\n",
    "\n",
    "        self.activation = nn.ReLU()\n",
    "\n",
    "    def forward(self, X):\n",
    "\n",
    "        # maintaining the weight parameter between 0 and 1.\n",
    "        if (self.l[0] < 0):\n",
    "            l = torch.Tensor(1, )\n",
    "            self.l = nn.Parameter(l)\n",
    "            nn.init.constant_(self.l, 0.0)\n",
    "\n",
    "        if (self.l[0] > 1):\n",
    "            l = torch.Tensor(1, )\n",
    "            self.l = nn.Parameter(l)\n",
    "            nn.init.constant_(self.l, 1.0)\n",
    "\n",
    "        # modelling the dependence along the first mode of X while keeping the temporal order intact (7)\n",
    "        X = self.W1 @ X\n",
    "\n",
    "        # enforcing constant (1) on the diagonal\n",
    "        #W = self.W - self.W * torch.eye(self.t1, dtype=torch.float32, device=cst.DEVICE_TYPE) + torch.eye(self.t1, dtype=torch.float32, device=cst.DEVICE_TYPE) / self.t1\n",
    "        W = self.W - self.W * torch.eye(self.t1, dtype=torch.float32, device=device) + torch.eye(self.t1, dtype=torch.float32, device=device) / self.t1\n",
    "\n",
    "        # attention, the aim of the second step is to learn how important the temporal instances are to each other (8)\n",
    "        E = X @ W\n",
    "\n",
    "        # computing the attention mask  (9)\n",
    "        A = torch.softmax(E, dim=-1)\n",
    "\n",
    "        # applying a soft attention mechanism  (10)\n",
    "        # he attention mask A obtained from the third step is used to zero out the effect of unimportant elements\n",
    "        X = self.l[0] * (X) + (1.0 - self.l[0]) * X * A\n",
    "\n",
    "        # the final step of the proposed layer estimates the temporal mapping W2, after the bias shift (11)\n",
    "        y = X @ self.W2 + self.B\n",
    "        return y\n",
    "\n",
    "\n",
    "class BiN_CTABL(nn.Module):\n",
    "    # d2=60, d1=40, t1=10, t2=10, d3=120, t3=5, d4=3, t4=1\n",
    "    def __init__(self, d2, d1, t1, t2, d3, t3, d4, t4):\n",
    "        super().__init__()\n",
    "\n",
    "        self.BiN = BiN(d2, d1, t1, t2)\n",
    "        self.BL = BL_layer(d2, d1, t1, t2)\n",
    "        self.BL2 = BL_layer(d3, d2, t2, t3)\n",
    "        # d4=3, d3=120, t3=5, t4=1\n",
    "        self.TABL = TABL_layer(d4, d3, t3, t4)\n",
    "        self.dropout = nn.Dropout(0.1)\n",
    "\n",
    "    def forward(self, x):\n",
    "\n",
    "        # x.shape = (32, 40, 10)\n",
    "        # first of all we pass the input to the BiN layer, then we use the C(TABL) architecture\n",
    "        #x = torch.permute(x, (0, 2, 1))\n",
    "\n",
    "        x = self.BiN(x)\n",
    "\n",
    "        self.max_norm_(self.BL.W1.data)\n",
    "        self.max_norm_(self.BL.W2.data)\n",
    "        x = self.BL(x)\n",
    "        x = self.dropout(x)\n",
    "\n",
    "        self.max_norm_(self.BL2.W1.data)\n",
    "        self.max_norm_(self.BL2.W2.data)\n",
    "        x = self.BL2(x)\n",
    "        x = self.dropout(x)\n",
    "\n",
    "        self.max_norm_(self.TABL.W1.data)\n",
    "        self.max_norm_(self.TABL.W.data)\n",
    "        self.max_norm_(self.TABL.W2.data)\n",
    "        x = self.TABL(x)\n",
    "        # x.shape = (32, 3, 1)\n",
    "        x = torch.squeeze(x)\n",
    "        # x.shape = (32, 3)\n",
    "        x = torch.softmax(x, 1)\n",
    "        # x.shape = (32, 3)\n",
    "\n",
    "        return x\n",
    "\n",
    "    def max_norm_(self, w):\n",
    "        with torch.no_grad():\n",
    "            if (torch.linalg.matrix_norm(w) > 10.0):\n",
    "                norm = torch.linalg.matrix_norm(w)\n",
    "                desired = torch.clamp(norm, min=0.0, max=10.0)\n",
    "                w *= (desired / (1e-8 + norm))\n"
   ]
  },
  {
   "cell_type": "markdown",
   "metadata": {
    "id": "bejZgDmCkkHi"
   },
   "source": [
    "### **Model Training**\n",
    "\n",
    "I implemented the second setting of the experiment"
   ]
  },
  {
   "cell_type": "code",
   "execution_count": 19,
   "metadata": {
    "id": "s_u5esKfTT-S"
   },
   "outputs": [],
   "source": [
    "#Choose between B(TABL) and C(TABL)\n",
    "\n",
    "#model = BTABL(120, 40, 10, 5, 3, 1)\n",
    "#model = CTABL(60, 40, 10, 10, 120, 5, 3, 1)\n",
    "model = BiN_CTABL(60, 40, 10, 10, 120, 5, 3, 1)\n",
    "\n",
    "model.to(device)\n",
    "\n",
    "criterion = nn.CrossEntropyLoss(weight=weights)\n",
    "optimizer = torch.optim.SGD(model.parameters(), lr=0.01, momentum=0.9)\n",
    "\n",
    "def batch_gd(model, criterion, optimizer, epochs):\n",
    "    \n",
    "    train_losses = np.zeros(epochs)\n",
    "    test_losses = np.zeros(epochs)\n",
    "    best_test_loss = np.inf\n",
    "    best_test_epoch = 0\n",
    "    SC = [0.005, 0.001, 0.0005, 0.0001]\n",
    "    i = 0\n",
    "    for it in tqdm(range(epochs)):\n",
    "        \n",
    "        model.train()\n",
    "        t0 = datetime.now()\n",
    "        train_loss = []\n",
    "        for inputs, targets in train_loader:\n",
    "            # move data to GPU\n",
    "            inputs, targets = inputs.to(device, dtype=torch.float), targets.to(device, dtype=torch.int64)\n",
    "\n",
    "            # zero the parameter gradients\n",
    "            optimizer.zero_grad()\n",
    "\n",
    "            # Forward pass\n",
    "            outputs = model(inputs)\n",
    "            #print('### debug 22')\n",
    "            #print(outputs.shape)\n",
    "            #print(targets.shape)\n",
    "            loss = criterion(outputs, targets)\n",
    "\n",
    "            # Backward and optimize\n",
    "            loss.backward()\n",
    "            optimizer.step()\n",
    "\n",
    "            train_loss.append(loss.item())\n",
    "        # Get train loss and test loss\n",
    "        train_loss = np.mean(train_loss)\n",
    "        \n",
    "        if (train_losses[it-1] <= train_loss and i < 4 and it != 0):\n",
    "              for g in optimizer.param_groups:\n",
    "                g['lr'] = SC[i]\n",
    "              i += 1\n",
    "              \n",
    "\n",
    "        model.eval()\n",
    "        test_loss = []\n",
    "        for inputs, targets in val_loader:\n",
    "            inputs, targets = inputs.to(device, dtype=torch.float), targets.to(device, dtype=torch.int64)      \n",
    "            outputs = model(inputs)\n",
    "            #outputs = torch.squeeze(outputs)\n",
    "            loss = criterion(outputs, targets)\n",
    "            test_loss.append(loss.item())\n",
    "        test_loss = np.mean(test_loss)\n",
    "\n",
    "        # Save losses\n",
    "        train_losses[it] = train_loss\n",
    "        test_losses[it] = test_loss\n",
    "        \n",
    "        #We save the best model\n",
    "        if test_loss < best_test_loss:\n",
    "            torch.save(model, './best_model_CTABL')\n",
    "            best_test_loss = test_loss\n",
    "            best_test_epoch = it\n",
    "            print('model saved')\n",
    "\n",
    "        dt = datetime.now() - t0\n",
    "        print(f'Epoch {it+1}/{epochs}, Train Loss: {train_loss:.4f}, \\\n",
    "          Validation Loss: {test_loss:.4f}, Duration: {dt}, Best Val Epoch: {best_test_epoch}')\n",
    "        \n",
    "    #torch.save(model, '/content/drive/MyDrive/Output/best_model_translob_FI')\n",
    "    return train_losses, test_losses"
   ]
  },
  {
   "cell_type": "code",
   "execution_count": 20,
   "metadata": {
    "colab": {
     "background_save": true
    },
    "id": "x9vq-ZAzTb6K",
    "scrolled": true
   },
   "outputs": [
    {
     "name": "stdout",
     "output_type": "stream",
     "text": [
      "------- List Hyper Parameters -------\n",
      "epochs   ->   200\n",
      "learningRate   ->   0.01\n",
      "horizon    ->     50\n",
      "batch size   ->    256\n",
      "Optimizer   ->    SGD (\n",
      "Parameter Group 0\n",
      "    dampening: 0\n",
      "    differentiable: False\n",
      "    foreach: None\n",
      "    lr: 0.01\n",
      "    maximize: False\n",
      "    momentum: 0.9\n",
      "    nesterov: False\n",
      "    weight_decay: 0\n",
      ")\n"
     ]
    },
    {
     "name": "stderr",
     "output_type": "stream",
     "text": [
      "  0%|▍                                                                            | 1/200 [00:09<32:02,  9.66s/it]"
     ]
    },
    {
     "name": "stdout",
     "output_type": "stream",
     "text": [
      "model saved\n",
      "Epoch 1/200, Train Loss: 0.8035,           Validation Loss: 0.6767, Duration: 0:00:09.658602, Best Val Epoch: 0\n"
     ]
    },
    {
     "name": "stderr",
     "output_type": "stream",
     "text": [
      "  1%|▊                                                                            | 2/200 [00:19<31:28,  9.54s/it]"
     ]
    },
    {
     "name": "stdout",
     "output_type": "stream",
     "text": [
      "model saved\n",
      "Epoch 2/200, Train Loss: 0.6732,           Validation Loss: 0.6630, Duration: 0:00:09.452402, Best Val Epoch: 1\n"
     ]
    },
    {
     "name": "stderr",
     "output_type": "stream",
     "text": [
      "  2%|█▏                                                                           | 3/200 [00:29<32:04,  9.77s/it]"
     ]
    },
    {
     "name": "stdout",
     "output_type": "stream",
     "text": [
      "model saved\n",
      "Epoch 3/200, Train Loss: 0.6701,           Validation Loss: 0.6614, Duration: 0:00:10.046377, Best Val Epoch: 2\n"
     ]
    },
    {
     "name": "stderr",
     "output_type": "stream",
     "text": [
      "  2%|█▌                                                                           | 4/200 [00:39<32:30,  9.95s/it]"
     ]
    },
    {
     "name": "stdout",
     "output_type": "stream",
     "text": [
      "model saved\n",
      "Epoch 4/200, Train Loss: 0.6696,           Validation Loss: 0.6612, Duration: 0:00:10.233973, Best Val Epoch: 3\n"
     ]
    },
    {
     "name": "stderr",
     "output_type": "stream",
     "text": [
      "  2%|█▉                                                                           | 5/200 [00:48<31:40,  9.75s/it]"
     ]
    },
    {
     "name": "stdout",
     "output_type": "stream",
     "text": [
      "Epoch 5/200, Train Loss: 0.6693,           Validation Loss: 0.6621, Duration: 0:00:09.376620, Best Val Epoch: 3\n"
     ]
    },
    {
     "name": "stderr",
     "output_type": "stream",
     "text": [
      "  3%|██▎                                                                          | 6/200 [00:58<31:21,  9.70s/it]"
     ]
    },
    {
     "name": "stdout",
     "output_type": "stream",
     "text": [
      "model saved\n",
      "Epoch 6/200, Train Loss: 0.6690,           Validation Loss: 0.6611, Duration: 0:00:09.611008, Best Val Epoch: 5\n"
     ]
    },
    {
     "name": "stderr",
     "output_type": "stream",
     "text": [
      "  4%|██▋                                                                          | 7/200 [01:07<31:01,  9.65s/it]"
     ]
    },
    {
     "name": "stdout",
     "output_type": "stream",
     "text": [
      "model saved\n",
      "Epoch 7/200, Train Loss: 0.6686,           Validation Loss: 0.6610, Duration: 0:00:09.536598, Best Val Epoch: 6\n"
     ]
    },
    {
     "name": "stderr",
     "output_type": "stream",
     "text": [
      "  4%|███                                                                          | 8/200 [01:18<31:34,  9.87s/it]"
     ]
    },
    {
     "name": "stdout",
     "output_type": "stream",
     "text": [
      "model saved\n",
      "Epoch 8/200, Train Loss: 0.6686,           Validation Loss: 0.6607, Duration: 0:00:10.331105, Best Val Epoch: 7\n"
     ]
    },
    {
     "name": "stderr",
     "output_type": "stream",
     "text": [
      "  4%|███▍                                                                         | 9/200 [01:28<31:18,  9.83s/it]"
     ]
    },
    {
     "name": "stdout",
     "output_type": "stream",
     "text": [
      "Epoch 9/200, Train Loss: 0.6684,           Validation Loss: 0.6607, Duration: 0:00:09.759938, Best Val Epoch: 7\n"
     ]
    },
    {
     "name": "stderr",
     "output_type": "stream",
     "text": [
      "  5%|███▊                                                                        | 10/200 [01:38<31:23,  9.91s/it]"
     ]
    },
    {
     "name": "stdout",
     "output_type": "stream",
     "text": [
      "model saved\n",
      "Epoch 10/200, Train Loss: 0.6681,           Validation Loss: 0.6605, Duration: 0:00:10.090426, Best Val Epoch: 9\n"
     ]
    },
    {
     "name": "stderr",
     "output_type": "stream",
     "text": [
      "  6%|████▏                                                                       | 11/200 [01:48<31:25,  9.98s/it]"
     ]
    },
    {
     "name": "stdout",
     "output_type": "stream",
     "text": [
      "model saved\n",
      "Epoch 11/200, Train Loss: 0.6683,           Validation Loss: 0.6604, Duration: 0:00:10.126583, Best Val Epoch: 10\n"
     ]
    },
    {
     "name": "stderr",
     "output_type": "stream",
     "text": [
      "  6%|████▌                                                                       | 12/200 [01:58<31:09,  9.94s/it]"
     ]
    },
    {
     "name": "stdout",
     "output_type": "stream",
     "text": [
      "model saved\n",
      "Epoch 12/200, Train Loss: 0.6679,           Validation Loss: 0.6602, Duration: 0:00:09.857413, Best Val Epoch: 11\n"
     ]
    },
    {
     "name": "stderr",
     "output_type": "stream",
     "text": [
      "  6%|████▉                                                                       | 13/200 [02:07<30:33,  9.81s/it]"
     ]
    },
    {
     "name": "stdout",
     "output_type": "stream",
     "text": [
      "Epoch 13/200, Train Loss: 0.6680,           Validation Loss: 0.6603, Duration: 0:00:09.490254, Best Val Epoch: 11\n"
     ]
    },
    {
     "name": "stderr",
     "output_type": "stream",
     "text": [
      "  7%|█████▎                                                                      | 14/200 [02:17<30:20,  9.79s/it]"
     ]
    },
    {
     "name": "stdout",
     "output_type": "stream",
     "text": [
      "Epoch 14/200, Train Loss: 0.6679,           Validation Loss: 0.6603, Duration: 0:00:09.753200, Best Val Epoch: 11\n"
     ]
    },
    {
     "name": "stderr",
     "output_type": "stream",
     "text": [
      "  8%|█████▋                                                                      | 15/200 [02:27<30:36,  9.93s/it]"
     ]
    },
    {
     "name": "stdout",
     "output_type": "stream",
     "text": [
      "Epoch 15/200, Train Loss: 0.6678,           Validation Loss: 0.6603, Duration: 0:00:10.250190, Best Val Epoch: 11\n"
     ]
    },
    {
     "name": "stderr",
     "output_type": "stream",
     "text": [
      "  8%|██████                                                                      | 16/200 [02:37<30:23,  9.91s/it]"
     ]
    },
    {
     "name": "stdout",
     "output_type": "stream",
     "text": [
      "Epoch 16/200, Train Loss: 0.6679,           Validation Loss: 0.6604, Duration: 0:00:09.862834, Best Val Epoch: 11\n"
     ]
    },
    {
     "name": "stderr",
     "output_type": "stream",
     "text": [
      "  8%|██████▍                                                                     | 17/200 [02:47<30:02,  9.85s/it]"
     ]
    },
    {
     "name": "stdout",
     "output_type": "stream",
     "text": [
      "Epoch 17/200, Train Loss: 0.6678,           Validation Loss: 0.6604, Duration: 0:00:09.710092, Best Val Epoch: 11\n"
     ]
    },
    {
     "name": "stderr",
     "output_type": "stream",
     "text": [
      "  9%|██████▊                                                                     | 18/200 [02:56<29:33,  9.74s/it]"
     ]
    },
    {
     "name": "stdout",
     "output_type": "stream",
     "text": [
      "Epoch 18/200, Train Loss: 0.6678,           Validation Loss: 0.6604, Duration: 0:00:09.497874, Best Val Epoch: 11\n"
     ]
    },
    {
     "name": "stderr",
     "output_type": "stream",
     "text": [
      " 10%|███████▏                                                                    | 19/200 [03:06<29:27,  9.76s/it]"
     ]
    },
    {
     "name": "stdout",
     "output_type": "stream",
     "text": [
      "Epoch 19/200, Train Loss: 0.6680,           Validation Loss: 0.6604, Duration: 0:00:09.807485, Best Val Epoch: 11\n"
     ]
    },
    {
     "name": "stderr",
     "output_type": "stream",
     "text": [
      " 10%|███████▌                                                                    | 20/200 [03:16<29:25,  9.81s/it]"
     ]
    },
    {
     "name": "stdout",
     "output_type": "stream",
     "text": [
      "Epoch 20/200, Train Loss: 0.6678,           Validation Loss: 0.6604, Duration: 0:00:09.919963, Best Val Epoch: 11\n"
     ]
    },
    {
     "name": "stderr",
     "output_type": "stream",
     "text": [
      " 10%|███████▉                                                                    | 21/200 [03:26<29:07,  9.76s/it]"
     ]
    },
    {
     "name": "stdout",
     "output_type": "stream",
     "text": [
      "Epoch 21/200, Train Loss: 0.6678,           Validation Loss: 0.6604, Duration: 0:00:09.652712, Best Val Epoch: 11\n"
     ]
    },
    {
     "name": "stderr",
     "output_type": "stream",
     "text": [
      " 11%|████████▎                                                                   | 22/200 [03:36<29:17,  9.87s/it]"
     ]
    },
    {
     "name": "stdout",
     "output_type": "stream",
     "text": [
      "Epoch 22/200, Train Loss: 0.6678,           Validation Loss: 0.6604, Duration: 0:00:10.129957, Best Val Epoch: 11\n"
     ]
    },
    {
     "name": "stderr",
     "output_type": "stream",
     "text": [
      " 12%|████████▋                                                                   | 23/200 [03:46<29:29, 10.00s/it]"
     ]
    },
    {
     "name": "stdout",
     "output_type": "stream",
     "text": [
      "Epoch 23/200, Train Loss: 0.6678,           Validation Loss: 0.6603, Duration: 0:00:10.277495, Best Val Epoch: 11\n"
     ]
    },
    {
     "name": "stderr",
     "output_type": "stream",
     "text": [
      " 12%|█████████                                                                   | 24/200 [03:56<29:15,  9.97s/it]"
     ]
    },
    {
     "name": "stdout",
     "output_type": "stream",
     "text": [
      "Epoch 24/200, Train Loss: 0.6677,           Validation Loss: 0.6603, Duration: 0:00:09.921588, Best Val Epoch: 11\n"
     ]
    },
    {
     "name": "stderr",
     "output_type": "stream",
     "text": [
      " 12%|█████████▌                                                                  | 25/200 [04:05<28:42,  9.84s/it]"
     ]
    },
    {
     "name": "stdout",
     "output_type": "stream",
     "text": [
      "Epoch 25/200, Train Loss: 0.6677,           Validation Loss: 0.6603, Duration: 0:00:09.537372, Best Val Epoch: 11\n"
     ]
    },
    {
     "name": "stderr",
     "output_type": "stream",
     "text": [
      " 13%|█████████▉                                                                  | 26/200 [04:16<28:53,  9.96s/it]"
     ]
    },
    {
     "name": "stdout",
     "output_type": "stream",
     "text": [
      "Epoch 26/200, Train Loss: 0.6678,           Validation Loss: 0.6603, Duration: 0:00:10.235527, Best Val Epoch: 11\n"
     ]
    },
    {
     "name": "stderr",
     "output_type": "stream",
     "text": [
      " 14%|██████████▎                                                                 | 27/200 [04:26<28:43,  9.96s/it]"
     ]
    },
    {
     "name": "stdout",
     "output_type": "stream",
     "text": [
      "Epoch 27/200, Train Loss: 0.6676,           Validation Loss: 0.6603, Duration: 0:00:09.967810, Best Val Epoch: 11\n"
     ]
    },
    {
     "name": "stderr",
     "output_type": "stream",
     "text": [
      " 14%|██████████▋                                                                 | 28/200 [04:36<28:57, 10.10s/it]"
     ]
    },
    {
     "name": "stdout",
     "output_type": "stream",
     "text": [
      "Epoch 28/200, Train Loss: 0.6677,           Validation Loss: 0.6603, Duration: 0:00:10.422366, Best Val Epoch: 11\n"
     ]
    },
    {
     "name": "stderr",
     "output_type": "stream",
     "text": [
      " 14%|███████████                                                                 | 29/200 [04:46<28:21,  9.95s/it]"
     ]
    },
    {
     "name": "stdout",
     "output_type": "stream",
     "text": [
      "Epoch 29/200, Train Loss: 0.6677,           Validation Loss: 0.6603, Duration: 0:00:09.605258, Best Val Epoch: 11\n"
     ]
    },
    {
     "name": "stderr",
     "output_type": "stream",
     "text": [
      " 15%|███████████▍                                                                | 30/200 [04:55<27:41,  9.78s/it]"
     ]
    },
    {
     "name": "stdout",
     "output_type": "stream",
     "text": [
      "Epoch 30/200, Train Loss: 0.6676,           Validation Loss: 0.6603, Duration: 0:00:09.360035, Best Val Epoch: 11\n"
     ]
    },
    {
     "name": "stderr",
     "output_type": "stream",
     "text": [
      " 16%|███████████▊                                                                | 31/200 [05:05<27:32,  9.78s/it]"
     ]
    },
    {
     "name": "stdout",
     "output_type": "stream",
     "text": [
      "Epoch 31/200, Train Loss: 0.6678,           Validation Loss: 0.6603, Duration: 0:00:09.780915, Best Val Epoch: 11\n"
     ]
    },
    {
     "name": "stderr",
     "output_type": "stream",
     "text": [
      " 16%|████████████▏                                                               | 32/200 [05:14<27:14,  9.73s/it]"
     ]
    },
    {
     "name": "stdout",
     "output_type": "stream",
     "text": [
      "model saved\n",
      "Epoch 32/200, Train Loss: 0.6679,           Validation Loss: 0.6602, Duration: 0:00:09.617865, Best Val Epoch: 31\n"
     ]
    },
    {
     "name": "stderr",
     "output_type": "stream",
     "text": [
      " 16%|████████████▌                                                               | 33/200 [05:24<27:01,  9.71s/it]"
     ]
    },
    {
     "name": "stdout",
     "output_type": "stream",
     "text": [
      "Epoch 33/200, Train Loss: 0.6679,           Validation Loss: 0.6602, Duration: 0:00:09.660829, Best Val Epoch: 31\n"
     ]
    },
    {
     "name": "stderr",
     "output_type": "stream",
     "text": [
      " 17%|████████████▉                                                               | 34/200 [05:34<27:03,  9.78s/it]"
     ]
    },
    {
     "name": "stdout",
     "output_type": "stream",
     "text": [
      "Epoch 34/200, Train Loss: 0.6679,           Validation Loss: 0.6602, Duration: 0:00:09.954136, Best Val Epoch: 31\n"
     ]
    },
    {
     "name": "stderr",
     "output_type": "stream",
     "text": [
      " 18%|█████████████▎                                                              | 35/200 [05:44<27:03,  9.84s/it]"
     ]
    },
    {
     "name": "stdout",
     "output_type": "stream",
     "text": [
      "model saved\n",
      "Epoch 35/200, Train Loss: 0.6676,           Validation Loss: 0.6602, Duration: 0:00:09.962377, Best Val Epoch: 34\n"
     ]
    },
    {
     "name": "stderr",
     "output_type": "stream",
     "text": [
      " 18%|█████████████▋                                                              | 36/200 [05:54<26:57,  9.86s/it]"
     ]
    },
    {
     "name": "stdout",
     "output_type": "stream",
     "text": [
      "Epoch 36/200, Train Loss: 0.6678,           Validation Loss: 0.6602, Duration: 0:00:09.917785, Best Val Epoch: 34\n"
     ]
    },
    {
     "name": "stderr",
     "output_type": "stream",
     "text": [
      " 18%|██████████████                                                              | 37/200 [06:04<27:01,  9.95s/it]"
     ]
    },
    {
     "name": "stdout",
     "output_type": "stream",
     "text": [
      "model saved\n",
      "Epoch 37/200, Train Loss: 0.6678,           Validation Loss: 0.6602, Duration: 0:00:10.148382, Best Val Epoch: 36\n"
     ]
    },
    {
     "name": "stderr",
     "output_type": "stream",
     "text": [
      " 19%|██████████████▍                                                             | 38/200 [06:14<26:38,  9.87s/it]"
     ]
    },
    {
     "name": "stdout",
     "output_type": "stream",
     "text": [
      "Epoch 38/200, Train Loss: 0.6676,           Validation Loss: 0.6602, Duration: 0:00:09.673088, Best Val Epoch: 36\n"
     ]
    },
    {
     "name": "stderr",
     "output_type": "stream",
     "text": [
      " 20%|██████████████▊                                                             | 39/200 [06:23<26:23,  9.83s/it]"
     ]
    },
    {
     "name": "stdout",
     "output_type": "stream",
     "text": [
      "Epoch 39/200, Train Loss: 0.6678,           Validation Loss: 0.6602, Duration: 0:00:09.756825, Best Val Epoch: 36\n"
     ]
    },
    {
     "name": "stderr",
     "output_type": "stream",
     "text": [
      " 20%|███████████████▏                                                            | 40/200 [06:33<26:15,  9.85s/it]"
     ]
    },
    {
     "name": "stdout",
     "output_type": "stream",
     "text": [
      "Epoch 40/200, Train Loss: 0.6679,           Validation Loss: 0.6602, Duration: 0:00:09.874987, Best Val Epoch: 36\n"
     ]
    },
    {
     "name": "stderr",
     "output_type": "stream",
     "text": [
      " 20%|███████████████▌                                                            | 41/200 [06:43<25:49,  9.75s/it]"
     ]
    },
    {
     "name": "stdout",
     "output_type": "stream",
     "text": [
      "Epoch 41/200, Train Loss: 0.6677,           Validation Loss: 0.6602, Duration: 0:00:09.512350, Best Val Epoch: 36\n"
     ]
    },
    {
     "name": "stderr",
     "output_type": "stream",
     "text": [
      " 21%|███████████████▉                                                            | 42/200 [06:53<25:41,  9.76s/it]"
     ]
    },
    {
     "name": "stdout",
     "output_type": "stream",
     "text": [
      "Epoch 42/200, Train Loss: 0.6677,           Validation Loss: 0.6602, Duration: 0:00:09.784099, Best Val Epoch: 36\n"
     ]
    },
    {
     "name": "stderr",
     "output_type": "stream",
     "text": [
      " 22%|████████████████▎                                                           | 43/200 [07:03<25:38,  9.80s/it]"
     ]
    },
    {
     "name": "stdout",
     "output_type": "stream",
     "text": [
      "Epoch 43/200, Train Loss: 0.6678,           Validation Loss: 0.6602, Duration: 0:00:09.899899, Best Val Epoch: 36\n"
     ]
    },
    {
     "name": "stderr",
     "output_type": "stream",
     "text": [
      " 22%|████████████████▋                                                           | 44/200 [07:13<25:44,  9.90s/it]"
     ]
    },
    {
     "name": "stdout",
     "output_type": "stream",
     "text": [
      "Epoch 44/200, Train Loss: 0.6678,           Validation Loss: 0.6602, Duration: 0:00:10.124200, Best Val Epoch: 36\n"
     ]
    },
    {
     "name": "stderr",
     "output_type": "stream",
     "text": [
      " 22%|█████████████████                                                           | 45/200 [07:22<25:24,  9.84s/it]"
     ]
    },
    {
     "name": "stdout",
     "output_type": "stream",
     "text": [
      "Epoch 45/200, Train Loss: 0.6678,           Validation Loss: 0.6603, Duration: 0:00:09.690530, Best Val Epoch: 36\n"
     ]
    },
    {
     "name": "stderr",
     "output_type": "stream",
     "text": [
      " 23%|█████████████████▍                                                          | 46/200 [07:32<25:13,  9.83s/it]"
     ]
    },
    {
     "name": "stdout",
     "output_type": "stream",
     "text": [
      "Epoch 46/200, Train Loss: 0.6676,           Validation Loss: 0.6602, Duration: 0:00:09.804867, Best Val Epoch: 36\n"
     ]
    },
    {
     "name": "stderr",
     "output_type": "stream",
     "text": [
      " 24%|█████████████████▊                                                          | 47/200 [07:42<25:20,  9.94s/it]"
     ]
    },
    {
     "name": "stdout",
     "output_type": "stream",
     "text": [
      "Epoch 47/200, Train Loss: 0.6677,           Validation Loss: 0.6602, Duration: 0:00:10.190451, Best Val Epoch: 36\n"
     ]
    },
    {
     "name": "stderr",
     "output_type": "stream",
     "text": [
      " 24%|██████████████████▏                                                         | 48/200 [07:52<24:55,  9.84s/it]"
     ]
    },
    {
     "name": "stdout",
     "output_type": "stream",
     "text": [
      "Epoch 48/200, Train Loss: 0.6677,           Validation Loss: 0.6602, Duration: 0:00:09.610494, Best Val Epoch: 36\n"
     ]
    },
    {
     "name": "stderr",
     "output_type": "stream",
     "text": [
      " 24%|██████████████████▌                                                         | 49/200 [08:02<24:52,  9.89s/it]"
     ]
    },
    {
     "name": "stdout",
     "output_type": "stream",
     "text": [
      "model saved\n",
      "Epoch 49/200, Train Loss: 0.6679,           Validation Loss: 0.6602, Duration: 0:00:10.000171, Best Val Epoch: 48\n"
     ]
    },
    {
     "name": "stderr",
     "output_type": "stream",
     "text": [
      " 25%|███████████████████                                                         | 50/200 [08:12<24:33,  9.83s/it]"
     ]
    },
    {
     "name": "stdout",
     "output_type": "stream",
     "text": [
      "model saved\n",
      "Epoch 50/200, Train Loss: 0.6677,           Validation Loss: 0.6602, Duration: 0:00:09.679458, Best Val Epoch: 49\n"
     ]
    },
    {
     "name": "stderr",
     "output_type": "stream",
     "text": [
      " 26%|███████████████████▍                                                        | 51/200 [08:22<24:41,  9.94s/it]"
     ]
    },
    {
     "name": "stdout",
     "output_type": "stream",
     "text": [
      "Epoch 51/200, Train Loss: 0.6676,           Validation Loss: 0.6602, Duration: 0:00:10.220737, Best Val Epoch: 49\n"
     ]
    },
    {
     "name": "stderr",
     "output_type": "stream",
     "text": [
      " 26%|███████████████████▊                                                        | 52/200 [08:32<24:20,  9.87s/it]"
     ]
    },
    {
     "name": "stdout",
     "output_type": "stream",
     "text": [
      "Epoch 52/200, Train Loss: 0.6676,           Validation Loss: 0.6602, Duration: 0:00:09.689682, Best Val Epoch: 49\n"
     ]
    },
    {
     "name": "stderr",
     "output_type": "stream",
     "text": [
      " 26%|████████████████████▏                                                       | 53/200 [08:42<24:36, 10.05s/it]"
     ]
    },
    {
     "name": "stdout",
     "output_type": "stream",
     "text": [
      "Epoch 53/200, Train Loss: 0.6677,           Validation Loss: 0.6602, Duration: 0:00:10.461092, Best Val Epoch: 49\n"
     ]
    },
    {
     "name": "stderr",
     "output_type": "stream",
     "text": [
      " 27%|████████████████████▌                                                       | 54/200 [08:52<24:28, 10.06s/it]"
     ]
    },
    {
     "name": "stdout",
     "output_type": "stream",
     "text": [
      "model saved\n",
      "Epoch 54/200, Train Loss: 0.6677,           Validation Loss: 0.6602, Duration: 0:00:10.092141, Best Val Epoch: 53\n"
     ]
    },
    {
     "name": "stderr",
     "output_type": "stream",
     "text": [
      " 28%|████████████████████▉                                                       | 55/200 [09:02<24:24, 10.10s/it]"
     ]
    },
    {
     "name": "stdout",
     "output_type": "stream",
     "text": [
      "model saved\n",
      "Epoch 55/200, Train Loss: 0.6678,           Validation Loss: 0.6602, Duration: 0:00:10.189955, Best Val Epoch: 54\n"
     ]
    },
    {
     "name": "stderr",
     "output_type": "stream",
     "text": [
      " 28%|█████████████████████▎                                                      | 56/200 [09:12<24:08, 10.06s/it]"
     ]
    },
    {
     "name": "stdout",
     "output_type": "stream",
     "text": [
      "Epoch 56/200, Train Loss: 0.6676,           Validation Loss: 0.6602, Duration: 0:00:09.970875, Best Val Epoch: 54\n"
     ]
    },
    {
     "name": "stderr",
     "output_type": "stream",
     "text": [
      " 28%|█████████████████████▋                                                      | 57/200 [09:22<23:55, 10.04s/it]"
     ]
    },
    {
     "name": "stdout",
     "output_type": "stream",
     "text": [
      "Epoch 57/200, Train Loss: 0.6676,           Validation Loss: 0.6602, Duration: 0:00:09.978725, Best Val Epoch: 54\n"
     ]
    },
    {
     "name": "stderr",
     "output_type": "stream",
     "text": [
      " 29%|██████████████████████                                                      | 58/200 [09:32<23:38,  9.99s/it]"
     ]
    },
    {
     "name": "stdout",
     "output_type": "stream",
     "text": [
      "Epoch 58/200, Train Loss: 0.6677,           Validation Loss: 0.6602, Duration: 0:00:09.875678, Best Val Epoch: 54\n"
     ]
    },
    {
     "name": "stderr",
     "output_type": "stream",
     "text": [
      " 30%|██████████████████████▍                                                     | 59/200 [09:42<23:24,  9.96s/it]"
     ]
    },
    {
     "name": "stdout",
     "output_type": "stream",
     "text": [
      "Epoch 59/200, Train Loss: 0.6677,           Validation Loss: 0.6602, Duration: 0:00:09.897563, Best Val Epoch: 54\n"
     ]
    },
    {
     "name": "stderr",
     "output_type": "stream",
     "text": [
      " 30%|██████████████████████▊                                                     | 60/200 [09:53<23:40, 10.15s/it]"
     ]
    },
    {
     "name": "stdout",
     "output_type": "stream",
     "text": [
      "model saved\n",
      "Epoch 60/200, Train Loss: 0.6677,           Validation Loss: 0.6602, Duration: 0:00:10.576604, Best Val Epoch: 59\n"
     ]
    },
    {
     "name": "stderr",
     "output_type": "stream",
     "text": [
      " 30%|███████████████████████▏                                                    | 61/200 [10:03<23:18, 10.06s/it]"
     ]
    },
    {
     "name": "stdout",
     "output_type": "stream",
     "text": [
      "model saved\n",
      "Epoch 61/200, Train Loss: 0.6676,           Validation Loss: 0.6602, Duration: 0:00:09.867863, Best Val Epoch: 60\n"
     ]
    },
    {
     "name": "stderr",
     "output_type": "stream",
     "text": [
      " 31%|███████████████████████▌                                                    | 62/200 [10:13<23:30, 10.22s/it]"
     ]
    },
    {
     "name": "stdout",
     "output_type": "stream",
     "text": [
      "model saved\n",
      "Epoch 62/200, Train Loss: 0.6676,           Validation Loss: 0.6602, Duration: 0:00:10.576944, Best Val Epoch: 61\n"
     ]
    },
    {
     "name": "stderr",
     "output_type": "stream",
     "text": [
      " 32%|███████████████████████▉                                                    | 63/200 [10:23<22:58, 10.06s/it]"
     ]
    },
    {
     "name": "stdout",
     "output_type": "stream",
     "text": [
      "Epoch 63/200, Train Loss: 0.6677,           Validation Loss: 0.6602, Duration: 0:00:09.701700, Best Val Epoch: 61\n"
     ]
    },
    {
     "name": "stderr",
     "output_type": "stream",
     "text": [
      " 32%|████████████████████████▎                                                   | 64/200 [10:33<22:44, 10.04s/it]"
     ]
    },
    {
     "name": "stdout",
     "output_type": "stream",
     "text": [
      "model saved\n",
      "Epoch 64/200, Train Loss: 0.6679,           Validation Loss: 0.6602, Duration: 0:00:09.971622, Best Val Epoch: 63\n"
     ]
    },
    {
     "name": "stderr",
     "output_type": "stream",
     "text": [
      " 32%|████████████████████████▋                                                   | 65/200 [10:43<22:23,  9.96s/it]"
     ]
    },
    {
     "name": "stdout",
     "output_type": "stream",
     "text": [
      "model saved\n",
      "Epoch 65/200, Train Loss: 0.6677,           Validation Loss: 0.6602, Duration: 0:00:09.766478, Best Val Epoch: 64\n"
     ]
    },
    {
     "name": "stderr",
     "output_type": "stream",
     "text": [
      " 33%|█████████████████████████                                                   | 66/200 [10:52<22:07,  9.91s/it]"
     ]
    },
    {
     "name": "stdout",
     "output_type": "stream",
     "text": [
      "Epoch 66/200, Train Loss: 0.6676,           Validation Loss: 0.6602, Duration: 0:00:09.791375, Best Val Epoch: 64\n"
     ]
    },
    {
     "name": "stderr",
     "output_type": "stream",
     "text": [
      " 34%|█████████████████████████▍                                                  | 67/200 [11:02<21:59,  9.92s/it]"
     ]
    },
    {
     "name": "stdout",
     "output_type": "stream",
     "text": [
      "model saved\n",
      "Epoch 67/200, Train Loss: 0.6676,           Validation Loss: 0.6602, Duration: 0:00:09.952847, Best Val Epoch: 66\n"
     ]
    },
    {
     "name": "stderr",
     "output_type": "stream",
     "text": [
      " 34%|█████████████████████████▊                                                  | 68/200 [11:13<22:16, 10.13s/it]"
     ]
    },
    {
     "name": "stdout",
     "output_type": "stream",
     "text": [
      "model saved\n",
      "Epoch 68/200, Train Loss: 0.6677,           Validation Loss: 0.6602, Duration: 0:00:10.603559, Best Val Epoch: 67\n"
     ]
    },
    {
     "name": "stderr",
     "output_type": "stream",
     "text": [
      " 34%|██████████████████████████▏                                                 | 69/200 [11:23<22:06, 10.13s/it]"
     ]
    },
    {
     "name": "stdout",
     "output_type": "stream",
     "text": [
      "Epoch 69/200, Train Loss: 0.6677,           Validation Loss: 0.6602, Duration: 0:00:10.136829, Best Val Epoch: 67\n"
     ]
    },
    {
     "name": "stderr",
     "output_type": "stream",
     "text": [
      " 35%|██████████████████████████▌                                                 | 70/200 [11:33<21:52, 10.09s/it]"
     ]
    },
    {
     "name": "stdout",
     "output_type": "stream",
     "text": [
      "model saved\n",
      "Epoch 70/200, Train Loss: 0.6678,           Validation Loss: 0.6602, Duration: 0:00:10.006713, Best Val Epoch: 69\n"
     ]
    },
    {
     "name": "stderr",
     "output_type": "stream",
     "text": [
      " 36%|██████████████████████████▉                                                 | 71/200 [11:43<21:35, 10.05s/it]"
     ]
    },
    {
     "name": "stdout",
     "output_type": "stream",
     "text": [
      "model saved\n",
      "Epoch 71/200, Train Loss: 0.6677,           Validation Loss: 0.6602, Duration: 0:00:09.934278, Best Val Epoch: 70\n"
     ]
    },
    {
     "name": "stderr",
     "output_type": "stream",
     "text": [
      " 36%|███████████████████████████▎                                                | 72/200 [11:53<21:10,  9.92s/it]"
     ]
    },
    {
     "name": "stdout",
     "output_type": "stream",
     "text": [
      "Epoch 72/200, Train Loss: 0.6677,           Validation Loss: 0.6602, Duration: 0:00:09.633259, Best Val Epoch: 70\n"
     ]
    },
    {
     "name": "stderr",
     "output_type": "stream",
     "text": [
      " 36%|███████████████████████████▋                                                | 73/200 [12:03<21:13, 10.03s/it]"
     ]
    },
    {
     "name": "stdout",
     "output_type": "stream",
     "text": [
      "Epoch 73/200, Train Loss: 0.6677,           Validation Loss: 0.6602, Duration: 0:00:10.269072, Best Val Epoch: 70\n"
     ]
    },
    {
     "name": "stderr",
     "output_type": "stream",
     "text": [
      " 37%|████████████████████████████                                                | 74/200 [12:13<21:14, 10.11s/it]"
     ]
    },
    {
     "name": "stdout",
     "output_type": "stream",
     "text": [
      "Epoch 74/200, Train Loss: 0.6678,           Validation Loss: 0.6602, Duration: 0:00:10.314415, Best Val Epoch: 70\n"
     ]
    },
    {
     "name": "stderr",
     "output_type": "stream",
     "text": [
      " 38%|████████████████████████████▌                                               | 75/200 [12:23<20:50, 10.01s/it]"
     ]
    },
    {
     "name": "stdout",
     "output_type": "stream",
     "text": [
      "Epoch 75/200, Train Loss: 0.6677,           Validation Loss: 0.6602, Duration: 0:00:09.759523, Best Val Epoch: 70\n"
     ]
    },
    {
     "name": "stderr",
     "output_type": "stream",
     "text": [
      " 38%|████████████████████████████▉                                               | 76/200 [12:33<20:40, 10.00s/it]"
     ]
    },
    {
     "name": "stdout",
     "output_type": "stream",
     "text": [
      "Epoch 76/200, Train Loss: 0.6677,           Validation Loss: 0.6602, Duration: 0:00:09.989075, Best Val Epoch: 70\n"
     ]
    },
    {
     "name": "stderr",
     "output_type": "stream",
     "text": [
      " 38%|█████████████████████████████▎                                              | 77/200 [12:43<20:34, 10.04s/it]"
     ]
    },
    {
     "name": "stdout",
     "output_type": "stream",
     "text": [
      "Epoch 77/200, Train Loss: 0.6677,           Validation Loss: 0.6602, Duration: 0:00:10.129780, Best Val Epoch: 70\n"
     ]
    },
    {
     "name": "stderr",
     "output_type": "stream",
     "text": [
      " 39%|█████████████████████████████▋                                              | 78/200 [12:53<20:15,  9.96s/it]"
     ]
    },
    {
     "name": "stdout",
     "output_type": "stream",
     "text": [
      "Epoch 78/200, Train Loss: 0.6677,           Validation Loss: 0.6602, Duration: 0:00:09.771297, Best Val Epoch: 70\n"
     ]
    },
    {
     "name": "stderr",
     "output_type": "stream",
     "text": [
      " 40%|██████████████████████████████                                              | 79/200 [13:03<19:58,  9.91s/it]"
     ]
    },
    {
     "name": "stdout",
     "output_type": "stream",
     "text": [
      "Epoch 79/200, Train Loss: 0.6679,           Validation Loss: 0.6602, Duration: 0:00:09.781260, Best Val Epoch: 70\n"
     ]
    },
    {
     "name": "stderr",
     "output_type": "stream",
     "text": [
      " 40%|██████████████████████████████▍                                             | 80/200 [13:13<19:50,  9.92s/it]"
     ]
    },
    {
     "name": "stdout",
     "output_type": "stream",
     "text": [
      "Epoch 80/200, Train Loss: 0.6677,           Validation Loss: 0.6602, Duration: 0:00:09.946300, Best Val Epoch: 70\n"
     ]
    },
    {
     "name": "stderr",
     "output_type": "stream",
     "text": [
      " 40%|██████████████████████████████▊                                             | 81/200 [13:22<19:40,  9.92s/it]"
     ]
    },
    {
     "name": "stdout",
     "output_type": "stream",
     "text": [
      "Epoch 81/200, Train Loss: 0.6678,           Validation Loss: 0.6602, Duration: 0:00:09.916940, Best Val Epoch: 70\n"
     ]
    },
    {
     "name": "stderr",
     "output_type": "stream",
     "text": [
      " 41%|███████████████████████████████▏                                            | 82/200 [13:32<19:12,  9.77s/it]"
     ]
    },
    {
     "name": "stdout",
     "output_type": "stream",
     "text": [
      "Epoch 82/200, Train Loss: 0.6677,           Validation Loss: 0.6602, Duration: 0:00:09.421191, Best Val Epoch: 70\n"
     ]
    },
    {
     "name": "stderr",
     "output_type": "stream",
     "text": [
      " 42%|███████████████████████████████▌                                            | 83/200 [13:41<18:54,  9.70s/it]"
     ]
    },
    {
     "name": "stdout",
     "output_type": "stream",
     "text": [
      "Epoch 83/200, Train Loss: 0.6676,           Validation Loss: 0.6602, Duration: 0:00:09.531368, Best Val Epoch: 70\n"
     ]
    },
    {
     "name": "stderr",
     "output_type": "stream",
     "text": [
      " 42%|███████████████████████████████▉                                            | 84/200 [13:52<19:05,  9.88s/it]"
     ]
    },
    {
     "name": "stdout",
     "output_type": "stream",
     "text": [
      "Epoch 84/200, Train Loss: 0.6677,           Validation Loss: 0.6602, Duration: 0:00:10.287825, Best Val Epoch: 70\n"
     ]
    },
    {
     "name": "stderr",
     "output_type": "stream",
     "text": [
      " 42%|████████████████████████████████▎                                           | 85/200 [14:02<18:56,  9.88s/it]"
     ]
    },
    {
     "name": "stdout",
     "output_type": "stream",
     "text": [
      "Epoch 85/200, Train Loss: 0.6678,           Validation Loss: 0.6602, Duration: 0:00:09.902643, Best Val Epoch: 70\n"
     ]
    },
    {
     "name": "stderr",
     "output_type": "stream",
     "text": [
      " 43%|████████████████████████████████▋                                           | 86/200 [14:12<18:55,  9.96s/it]"
     ]
    },
    {
     "name": "stdout",
     "output_type": "stream",
     "text": [
      "Epoch 86/200, Train Loss: 0.6675,           Validation Loss: 0.6602, Duration: 0:00:10.140013, Best Val Epoch: 70\n"
     ]
    },
    {
     "name": "stderr",
     "output_type": "stream",
     "text": [
      " 44%|█████████████████████████████████                                           | 87/200 [14:21<18:29,  9.82s/it]"
     ]
    },
    {
     "name": "stdout",
     "output_type": "stream",
     "text": [
      "Epoch 87/200, Train Loss: 0.6676,           Validation Loss: 0.6602, Duration: 0:00:09.491847, Best Val Epoch: 70\n"
     ]
    },
    {
     "name": "stderr",
     "output_type": "stream",
     "text": [
      " 44%|█████████████████████████████████▍                                          | 88/200 [14:32<18:43, 10.03s/it]"
     ]
    },
    {
     "name": "stdout",
     "output_type": "stream",
     "text": [
      "Epoch 88/200, Train Loss: 0.6677,           Validation Loss: 0.6602, Duration: 0:00:10.513780, Best Val Epoch: 70\n"
     ]
    },
    {
     "name": "stderr",
     "output_type": "stream",
     "text": [
      " 44%|█████████████████████████████████▊                                          | 89/200 [14:42<18:50, 10.18s/it]"
     ]
    },
    {
     "name": "stdout",
     "output_type": "stream",
     "text": [
      "Epoch 89/200, Train Loss: 0.6677,           Validation Loss: 0.6602, Duration: 0:00:10.533755, Best Val Epoch: 70\n"
     ]
    },
    {
     "name": "stderr",
     "output_type": "stream",
     "text": [
      " 45%|██████████████████████████████████▏                                         | 90/200 [14:52<18:24, 10.04s/it]"
     ]
    },
    {
     "name": "stdout",
     "output_type": "stream",
     "text": [
      "Epoch 90/200, Train Loss: 0.6677,           Validation Loss: 0.6602, Duration: 0:00:09.700352, Best Val Epoch: 70\n"
     ]
    },
    {
     "name": "stderr",
     "output_type": "stream",
     "text": [
      " 46%|██████████████████████████████████▌                                         | 91/200 [15:02<18:07,  9.97s/it]"
     ]
    },
    {
     "name": "stdout",
     "output_type": "stream",
     "text": [
      "Epoch 91/200, Train Loss: 0.6676,           Validation Loss: 0.6602, Duration: 0:00:09.825037, Best Val Epoch: 70\n"
     ]
    },
    {
     "name": "stderr",
     "output_type": "stream",
     "text": [
      " 46%|██████████████████████████████████▉                                         | 92/200 [15:11<17:46,  9.88s/it]"
     ]
    },
    {
     "name": "stdout",
     "output_type": "stream",
     "text": [
      "Epoch 92/200, Train Loss: 0.6676,           Validation Loss: 0.6602, Duration: 0:00:09.656302, Best Val Epoch: 70\n"
     ]
    },
    {
     "name": "stderr",
     "output_type": "stream",
     "text": [
      " 46%|███████████████████████████████████▎                                        | 93/200 [15:22<17:56, 10.06s/it]"
     ]
    },
    {
     "name": "stdout",
     "output_type": "stream",
     "text": [
      "Epoch 93/200, Train Loss: 0.6677,           Validation Loss: 0.6602, Duration: 0:00:10.491303, Best Val Epoch: 70\n"
     ]
    },
    {
     "name": "stderr",
     "output_type": "stream",
     "text": [
      " 47%|███████████████████████████████████▋                                        | 94/200 [15:32<17:39,  9.99s/it]"
     ]
    },
    {
     "name": "stdout",
     "output_type": "stream",
     "text": [
      "Epoch 94/200, Train Loss: 0.6676,           Validation Loss: 0.6602, Duration: 0:00:09.831689, Best Val Epoch: 70\n"
     ]
    },
    {
     "name": "stderr",
     "output_type": "stream",
     "text": [
      " 52%|██████████████████████████████████████▋                                    | 103/200 [17:01<16:00,  9.90s/it]"
     ]
    },
    {
     "name": "stdout",
     "output_type": "stream",
     "text": [
      "Epoch 103/200, Train Loss: 0.6676,           Validation Loss: 0.6602, Duration: 0:00:09.845784, Best Val Epoch: 70\n"
     ]
    },
    {
     "name": "stderr",
     "output_type": "stream",
     "text": [
      " 52%|███████████████████████████████████████                                    | 104/200 [17:11<15:49,  9.89s/it]"
     ]
    },
    {
     "name": "stdout",
     "output_type": "stream",
     "text": [
      "Epoch 104/200, Train Loss: 0.6676,           Validation Loss: 0.6602, Duration: 0:00:09.869674, Best Val Epoch: 70\n"
     ]
    },
    {
     "name": "stderr",
     "output_type": "stream",
     "text": [
      " 52%|███████████████████████████████████████▍                                   | 105/200 [17:21<15:53, 10.04s/it]"
     ]
    },
    {
     "name": "stdout",
     "output_type": "stream",
     "text": [
      "Epoch 105/200, Train Loss: 0.6677,           Validation Loss: 0.6602, Duration: 0:00:10.385646, Best Val Epoch: 70\n"
     ]
    },
    {
     "name": "stderr",
     "output_type": "stream",
     "text": [
      " 53%|███████████████████████████████████████▊                                   | 106/200 [17:31<15:50, 10.11s/it]"
     ]
    },
    {
     "name": "stdout",
     "output_type": "stream",
     "text": [
      "Epoch 106/200, Train Loss: 0.6677,           Validation Loss: 0.6602, Duration: 0:00:10.278405, Best Val Epoch: 70\n"
     ]
    },
    {
     "name": "stderr",
     "output_type": "stream",
     "text": [
      " 54%|████████████████████████████████████████▏                                  | 107/200 [17:41<15:38, 10.09s/it]"
     ]
    },
    {
     "name": "stdout",
     "output_type": "stream",
     "text": [
      "Epoch 107/200, Train Loss: 0.6676,           Validation Loss: 0.6602, Duration: 0:00:10.042400, Best Val Epoch: 70\n"
     ]
    },
    {
     "name": "stderr",
     "output_type": "stream",
     "text": [
      " 54%|████████████████████████████████████████▌                                  | 108/200 [17:52<15:31, 10.12s/it]"
     ]
    },
    {
     "name": "stdout",
     "output_type": "stream",
     "text": [
      "Epoch 108/200, Train Loss: 0.6676,           Validation Loss: 0.6602, Duration: 0:00:10.199768, Best Val Epoch: 70\n"
     ]
    },
    {
     "name": "stderr",
     "output_type": "stream",
     "text": [
      " 55%|████████████████████████████████████████▉                                  | 109/200 [18:02<15:15, 10.06s/it]"
     ]
    },
    {
     "name": "stdout",
     "output_type": "stream",
     "text": [
      "Epoch 109/200, Train Loss: 0.6676,           Validation Loss: 0.6602, Duration: 0:00:09.906489, Best Val Epoch: 70\n"
     ]
    },
    {
     "name": "stderr",
     "output_type": "stream",
     "text": [
      " 55%|█████████████████████████████████████████▎                                 | 110/200 [18:11<14:53,  9.93s/it]"
     ]
    },
    {
     "name": "stdout",
     "output_type": "stream",
     "text": [
      "Epoch 110/200, Train Loss: 0.6676,           Validation Loss: 0.6602, Duration: 0:00:09.638047, Best Val Epoch: 70\n"
     ]
    },
    {
     "name": "stderr",
     "output_type": "stream",
     "text": [
      " 56%|█████████████████████████████████████████▋                                 | 111/200 [18:21<14:34,  9.83s/it]"
     ]
    },
    {
     "name": "stdout",
     "output_type": "stream",
     "text": [
      "Epoch 111/200, Train Loss: 0.6676,           Validation Loss: 0.6602, Duration: 0:00:09.589076, Best Val Epoch: 70\n"
     ]
    },
    {
     "name": "stderr",
     "output_type": "stream",
     "text": [
      " 56%|██████████████████████████████████████████                                 | 112/200 [18:31<14:27,  9.86s/it]"
     ]
    },
    {
     "name": "stdout",
     "output_type": "stream",
     "text": [
      "Epoch 112/200, Train Loss: 0.6677,           Validation Loss: 0.6602, Duration: 0:00:09.914171, Best Val Epoch: 70\n"
     ]
    },
    {
     "name": "stderr",
     "output_type": "stream",
     "text": [
      " 56%|██████████████████████████████████████████▎                                | 113/200 [18:40<14:11,  9.79s/it]"
     ]
    },
    {
     "name": "stdout",
     "output_type": "stream",
     "text": [
      "Epoch 113/200, Train Loss: 0.6676,           Validation Loss: 0.6602, Duration: 0:00:09.625009, Best Val Epoch: 70\n"
     ]
    },
    {
     "name": "stderr",
     "output_type": "stream",
     "text": [
      " 57%|██████████████████████████████████████████▋                                | 114/200 [18:50<13:55,  9.71s/it]"
     ]
    },
    {
     "name": "stdout",
     "output_type": "stream",
     "text": [
      "Epoch 114/200, Train Loss: 0.6678,           Validation Loss: 0.6602, Duration: 0:00:09.539057, Best Val Epoch: 70\n"
     ]
    },
    {
     "name": "stderr",
     "output_type": "stream",
     "text": [
      " 57%|███████████████████████████████████████████▏                               | 115/200 [19:00<13:44,  9.71s/it]"
     ]
    },
    {
     "name": "stdout",
     "output_type": "stream",
     "text": [
      "Epoch 115/200, Train Loss: 0.6677,           Validation Loss: 0.6602, Duration: 0:00:09.686400, Best Val Epoch: 70\n"
     ]
    },
    {
     "name": "stderr",
     "output_type": "stream",
     "text": [
      " 58%|███████████████████████████████████████████▌                               | 116/200 [19:09<13:40,  9.76s/it]"
     ]
    },
    {
     "name": "stdout",
     "output_type": "stream",
     "text": [
      "Epoch 116/200, Train Loss: 0.6676,           Validation Loss: 0.6602, Duration: 0:00:09.897091, Best Val Epoch: 70\n"
     ]
    },
    {
     "name": "stderr",
     "output_type": "stream",
     "text": [
      " 58%|███████████████████████████████████████████▉                               | 117/200 [19:19<13:35,  9.82s/it]"
     ]
    },
    {
     "name": "stdout",
     "output_type": "stream",
     "text": [
      "Epoch 117/200, Train Loss: 0.6676,           Validation Loss: 0.6602, Duration: 0:00:09.954938, Best Val Epoch: 70\n"
     ]
    },
    {
     "name": "stderr",
     "output_type": "stream",
     "text": [
      " 59%|████████████████████████████████████████████▎                              | 118/200 [19:29<13:25,  9.82s/it]"
     ]
    },
    {
     "name": "stdout",
     "output_type": "stream",
     "text": [
      "Epoch 118/200, Train Loss: 0.6676,           Validation Loss: 0.6602, Duration: 0:00:09.807809, Best Val Epoch: 70\n"
     ]
    },
    {
     "name": "stderr",
     "output_type": "stream",
     "text": [
      " 60%|████████████████████████████████████████████▋                              | 119/200 [19:39<13:08,  9.74s/it]"
     ]
    },
    {
     "name": "stdout",
     "output_type": "stream",
     "text": [
      "Epoch 119/200, Train Loss: 0.6678,           Validation Loss: 0.6602, Duration: 0:00:09.552148, Best Val Epoch: 70\n"
     ]
    },
    {
     "name": "stderr",
     "output_type": "stream",
     "text": [
      " 60%|█████████████████████████████████████████████                              | 120/200 [19:49<13:18,  9.98s/it]"
     ]
    },
    {
     "name": "stdout",
     "output_type": "stream",
     "text": [
      "Epoch 120/200, Train Loss: 0.6676,           Validation Loss: 0.6602, Duration: 0:00:10.548498, Best Val Epoch: 70\n"
     ]
    },
    {
     "name": "stderr",
     "output_type": "stream",
     "text": [
      " 60%|█████████████████████████████████████████████▍                             | 121/200 [19:59<13:08,  9.98s/it]"
     ]
    },
    {
     "name": "stdout",
     "output_type": "stream",
     "text": [
      "Epoch 121/200, Train Loss: 0.6676,           Validation Loss: 0.6602, Duration: 0:00:09.965266, Best Val Epoch: 70\n"
     ]
    },
    {
     "name": "stderr",
     "output_type": "stream",
     "text": [
      " 61%|█████████████████████████████████████████████▊                             | 122/200 [20:10<13:04, 10.06s/it]"
     ]
    },
    {
     "name": "stdout",
     "output_type": "stream",
     "text": [
      "Epoch 122/200, Train Loss: 0.6677,           Validation Loss: 0.6602, Duration: 0:00:10.242693, Best Val Epoch: 70\n"
     ]
    },
    {
     "name": "stderr",
     "output_type": "stream",
     "text": [
      " 62%|██████████████████████████████████████████████▏                            | 123/200 [20:19<12:50, 10.00s/it]"
     ]
    },
    {
     "name": "stdout",
     "output_type": "stream",
     "text": [
      "Epoch 123/200, Train Loss: 0.6677,           Validation Loss: 0.6602, Duration: 0:00:09.876521, Best Val Epoch: 70\n"
     ]
    },
    {
     "name": "stderr",
     "output_type": "stream",
     "text": [
      " 62%|██████████████████████████████████████████████▌                            | 124/200 [20:30<12:46, 10.09s/it]"
     ]
    },
    {
     "name": "stdout",
     "output_type": "stream",
     "text": [
      "Epoch 124/200, Train Loss: 0.6677,           Validation Loss: 0.6602, Duration: 0:00:10.276328, Best Val Epoch: 70\n"
     ]
    },
    {
     "name": "stderr",
     "output_type": "stream",
     "text": [
      " 62%|██████████████████████████████████████████████▉                            | 125/200 [20:39<12:28,  9.98s/it]"
     ]
    },
    {
     "name": "stdout",
     "output_type": "stream",
     "text": [
      "Epoch 125/200, Train Loss: 0.6678,           Validation Loss: 0.6602, Duration: 0:00:09.725223, Best Val Epoch: 70\n"
     ]
    },
    {
     "name": "stderr",
     "output_type": "stream",
     "text": [
      " 63%|███████████████████████████████████████████████▎                           | 126/200 [20:50<12:26, 10.09s/it]"
     ]
    },
    {
     "name": "stdout",
     "output_type": "stream",
     "text": [
      "Epoch 126/200, Train Loss: 0.6678,           Validation Loss: 0.6602, Duration: 0:00:10.363657, Best Val Epoch: 70\n"
     ]
    },
    {
     "name": "stderr",
     "output_type": "stream",
     "text": [
      " 64%|███████████████████████████████████████████████▋                           | 127/200 [21:00<12:12, 10.04s/it]"
     ]
    },
    {
     "name": "stdout",
     "output_type": "stream",
     "text": [
      "Epoch 127/200, Train Loss: 0.6675,           Validation Loss: 0.6602, Duration: 0:00:09.902604, Best Val Epoch: 70\n"
     ]
    },
    {
     "name": "stderr",
     "output_type": "stream",
     "text": [
      " 64%|████████████████████████████████████████████████                           | 128/200 [21:09<11:54,  9.93s/it]"
     ]
    },
    {
     "name": "stdout",
     "output_type": "stream",
     "text": [
      "Epoch 128/200, Train Loss: 0.6678,           Validation Loss: 0.6602, Duration: 0:00:09.672434, Best Val Epoch: 70\n"
     ]
    },
    {
     "name": "stderr",
     "output_type": "stream",
     "text": [
      " 64%|████████████████████████████████████████████████▍                          | 129/200 [21:20<12:03, 10.19s/it]"
     ]
    },
    {
     "name": "stdout",
     "output_type": "stream",
     "text": [
      "Epoch 129/200, Train Loss: 0.6677,           Validation Loss: 0.6602, Duration: 0:00:10.804276, Best Val Epoch: 70\n"
     ]
    },
    {
     "name": "stderr",
     "output_type": "stream",
     "text": [
      " 65%|████████████████████████████████████████████████▊                          | 130/200 [21:30<11:43, 10.06s/it]"
     ]
    },
    {
     "name": "stdout",
     "output_type": "stream",
     "text": [
      "Epoch 130/200, Train Loss: 0.6676,           Validation Loss: 0.6602, Duration: 0:00:09.739362, Best Val Epoch: 70\n"
     ]
    },
    {
     "name": "stderr",
     "output_type": "stream",
     "text": [
      " 66%|█████████████████████████████████████████████████▏                         | 131/200 [21:40<11:23,  9.91s/it]"
     ]
    },
    {
     "name": "stdout",
     "output_type": "stream",
     "text": [
      "Epoch 131/200, Train Loss: 0.6675,           Validation Loss: 0.6602, Duration: 0:00:09.575115, Best Val Epoch: 70\n"
     ]
    },
    {
     "name": "stderr",
     "output_type": "stream",
     "text": [
      " 66%|█████████████████████████████████████████████████▌                         | 132/200 [21:50<11:23, 10.05s/it]"
     ]
    },
    {
     "name": "stdout",
     "output_type": "stream",
     "text": [
      "Epoch 132/200, Train Loss: 0.6676,           Validation Loss: 0.6602, Duration: 0:00:10.366787, Best Val Epoch: 70\n"
     ]
    },
    {
     "name": "stderr",
     "output_type": "stream",
     "text": [
      " 66%|█████████████████████████████████████████████████▉                         | 133/200 [22:00<11:07,  9.96s/it]"
     ]
    },
    {
     "name": "stdout",
     "output_type": "stream",
     "text": [
      "Epoch 133/200, Train Loss: 0.6676,           Validation Loss: 0.6602, Duration: 0:00:09.759207, Best Val Epoch: 70\n"
     ]
    },
    {
     "name": "stderr",
     "output_type": "stream",
     "text": [
      " 67%|██████████████████████████████████████████████████▎                        | 134/200 [22:10<10:57,  9.97s/it]"
     ]
    },
    {
     "name": "stdout",
     "output_type": "stream",
     "text": [
      "Epoch 134/200, Train Loss: 0.6677,           Validation Loss: 0.6602, Duration: 0:00:09.984817, Best Val Epoch: 70\n"
     ]
    },
    {
     "name": "stderr",
     "output_type": "stream",
     "text": [
      " 68%|██████████████████████████████████████████████████▋                        | 135/200 [22:20<10:47,  9.96s/it]"
     ]
    },
    {
     "name": "stdout",
     "output_type": "stream",
     "text": [
      "Epoch 135/200, Train Loss: 0.6677,           Validation Loss: 0.6602, Duration: 0:00:09.926810, Best Val Epoch: 70\n"
     ]
    },
    {
     "name": "stderr",
     "output_type": "stream",
     "text": [
      " 68%|███████████████████████████████████████████████████                        | 136/200 [22:29<10:26,  9.80s/it]"
     ]
    },
    {
     "name": "stdout",
     "output_type": "stream",
     "text": [
      "Epoch 136/200, Train Loss: 0.6675,           Validation Loss: 0.6602, Duration: 0:00:09.416564, Best Val Epoch: 70\n"
     ]
    },
    {
     "name": "stderr",
     "output_type": "stream",
     "text": [
      " 68%|███████████████████████████████████████████████████▍                       | 137/200 [22:39<10:19,  9.84s/it]"
     ]
    },
    {
     "name": "stdout",
     "output_type": "stream",
     "text": [
      "Epoch 137/200, Train Loss: 0.6676,           Validation Loss: 0.6602, Duration: 0:00:09.947131, Best Val Epoch: 70\n"
     ]
    },
    {
     "name": "stderr",
     "output_type": "stream",
     "text": [
      " 69%|███████████████████████████████████████████████████▋                       | 138/200 [22:49<10:18,  9.98s/it]"
     ]
    },
    {
     "name": "stdout",
     "output_type": "stream",
     "text": [
      "Epoch 138/200, Train Loss: 0.6676,           Validation Loss: 0.6602, Duration: 0:00:10.302320, Best Val Epoch: 70\n"
     ]
    },
    {
     "name": "stderr",
     "output_type": "stream",
     "text": [
      " 70%|████████████████████████████████████████████████████                       | 139/200 [22:59<10:10, 10.01s/it]"
     ]
    },
    {
     "name": "stdout",
     "output_type": "stream",
     "text": [
      "Epoch 139/200, Train Loss: 0.6676,           Validation Loss: 0.6602, Duration: 0:00:10.077294, Best Val Epoch: 70\n"
     ]
    },
    {
     "name": "stderr",
     "output_type": "stream",
     "text": [
      " 70%|████████████████████████████████████████████████████▌                      | 140/200 [23:10<10:11, 10.18s/it]"
     ]
    },
    {
     "name": "stdout",
     "output_type": "stream",
     "text": [
      "model saved\n",
      "Epoch 140/200, Train Loss: 0.6677,           Validation Loss: 0.6602, Duration: 0:00:10.593895, Best Val Epoch: 139\n"
     ]
    },
    {
     "name": "stderr",
     "output_type": "stream",
     "text": [
      " 70%|████████████████████████████████████████████████████▉                      | 141/200 [23:20<09:58, 10.15s/it]"
     ]
    },
    {
     "name": "stdout",
     "output_type": "stream",
     "text": [
      "Epoch 141/200, Train Loss: 0.6676,           Validation Loss: 0.6602, Duration: 0:00:10.070416, Best Val Epoch: 139\n"
     ]
    },
    {
     "name": "stderr",
     "output_type": "stream",
     "text": [
      " 71%|█████████████████████████████████████████████████████▎                     | 142/200 [23:30<09:50, 10.19s/it]"
     ]
    },
    {
     "name": "stdout",
     "output_type": "stream",
     "text": [
      "model saved\n",
      "Epoch 142/200, Train Loss: 0.6677,           Validation Loss: 0.6601, Duration: 0:00:10.264300, Best Val Epoch: 141\n"
     ]
    },
    {
     "name": "stderr",
     "output_type": "stream",
     "text": [
      " 72%|█████████████████████████████████████████████████████▋                     | 143/200 [23:41<09:43, 10.23s/it]"
     ]
    },
    {
     "name": "stdout",
     "output_type": "stream",
     "text": [
      "Epoch 143/200, Train Loss: 0.6676,           Validation Loss: 0.6602, Duration: 0:00:10.334079, Best Val Epoch: 141\n"
     ]
    },
    {
     "name": "stderr",
     "output_type": "stream",
     "text": [
      " 72%|██████████████████████████████████████████████████████                     | 144/200 [23:51<09:30, 10.19s/it]"
     ]
    },
    {
     "name": "stdout",
     "output_type": "stream",
     "text": [
      "Epoch 144/200, Train Loss: 0.6677,           Validation Loss: 0.6602, Duration: 0:00:10.092297, Best Val Epoch: 141\n"
     ]
    },
    {
     "name": "stderr",
     "output_type": "stream",
     "text": [
      " 72%|██████████████████████████████████████████████████████▍                    | 145/200 [24:01<09:17, 10.14s/it]"
     ]
    },
    {
     "name": "stdout",
     "output_type": "stream",
     "text": [
      "Epoch 145/200, Train Loss: 0.6676,           Validation Loss: 0.6602, Duration: 0:00:10.040940, Best Val Epoch: 141\n"
     ]
    },
    {
     "name": "stderr",
     "output_type": "stream",
     "text": [
      " 73%|██████████████████████████████████████████████████████▊                    | 146/200 [24:11<09:13, 10.25s/it]"
     ]
    },
    {
     "name": "stdout",
     "output_type": "stream",
     "text": [
      "Epoch 146/200, Train Loss: 0.6675,           Validation Loss: 0.6602, Duration: 0:00:10.505313, Best Val Epoch: 141\n"
     ]
    },
    {
     "name": "stderr",
     "output_type": "stream",
     "text": [
      " 74%|███████████████████████████████████████████████████████▏                   | 147/200 [24:21<08:59, 10.18s/it]"
     ]
    },
    {
     "name": "stdout",
     "output_type": "stream",
     "text": [
      "Epoch 147/200, Train Loss: 0.6676,           Validation Loss: 0.6602, Duration: 0:00:10.008633, Best Val Epoch: 141\n"
     ]
    },
    {
     "name": "stderr",
     "output_type": "stream",
     "text": [
      " 74%|███████████████████████████████████████████████████████▌                   | 148/200 [24:31<08:42, 10.04s/it]"
     ]
    },
    {
     "name": "stdout",
     "output_type": "stream",
     "text": [
      "Epoch 148/200, Train Loss: 0.6674,           Validation Loss: 0.6602, Duration: 0:00:09.723411, Best Val Epoch: 141\n"
     ]
    },
    {
     "name": "stderr",
     "output_type": "stream",
     "text": [
      " 74%|███████████████████████████████████████████████████████▉                   | 149/200 [24:41<08:39, 10.19s/it]"
     ]
    },
    {
     "name": "stdout",
     "output_type": "stream",
     "text": [
      "model saved\n",
      "Epoch 149/200, Train Loss: 0.6676,           Validation Loss: 0.6601, Duration: 0:00:10.542722, Best Val Epoch: 148\n"
     ]
    },
    {
     "name": "stderr",
     "output_type": "stream",
     "text": [
      " 75%|████████████████████████████████████████████████████████▎                  | 150/200 [24:51<08:17,  9.96s/it]"
     ]
    },
    {
     "name": "stdout",
     "output_type": "stream",
     "text": [
      "Epoch 150/200, Train Loss: 0.6677,           Validation Loss: 0.6602, Duration: 0:00:09.411109, Best Val Epoch: 148\n"
     ]
    },
    {
     "name": "stderr",
     "output_type": "stream",
     "text": [
      " 76%|████████████████████████████████████████████████████████▋                  | 151/200 [25:01<08:06,  9.92s/it]"
     ]
    },
    {
     "name": "stdout",
     "output_type": "stream",
     "text": [
      "Epoch 151/200, Train Loss: 0.6676,           Validation Loss: 0.6602, Duration: 0:00:09.835880, Best Val Epoch: 148\n"
     ]
    },
    {
     "name": "stderr",
     "output_type": "stream",
     "text": [
      " 76%|█████████████████████████████████████████████████████████                  | 152/200 [25:11<08:01, 10.04s/it]"
     ]
    },
    {
     "name": "stdout",
     "output_type": "stream",
     "text": [
      "Epoch 152/200, Train Loss: 0.6674,           Validation Loss: 0.6602, Duration: 0:00:10.301985, Best Val Epoch: 148\n"
     ]
    },
    {
     "name": "stderr",
     "output_type": "stream",
     "text": [
      " 76%|█████████████████████████████████████████████████████████▍                 | 153/200 [25:22<07:59, 10.21s/it]"
     ]
    },
    {
     "name": "stdout",
     "output_type": "stream",
     "text": [
      "Epoch 153/200, Train Loss: 0.6677,           Validation Loss: 0.6602, Duration: 0:00:10.614204, Best Val Epoch: 148\n"
     ]
    },
    {
     "name": "stderr",
     "output_type": "stream",
     "text": [
      " 77%|█████████████████████████████████████████████████████████▊                 | 154/200 [25:31<07:40, 10.02s/it]"
     ]
    },
    {
     "name": "stdout",
     "output_type": "stream",
     "text": [
      "Epoch 154/200, Train Loss: 0.6676,           Validation Loss: 0.6602, Duration: 0:00:09.575491, Best Val Epoch: 148\n"
     ]
    },
    {
     "name": "stderr",
     "output_type": "stream",
     "text": [
      " 78%|██████████████████████████████████████████████████████████▏                | 155/200 [25:41<07:32, 10.05s/it]"
     ]
    },
    {
     "name": "stdout",
     "output_type": "stream",
     "text": [
      "Epoch 155/200, Train Loss: 0.6676,           Validation Loss: 0.6602, Duration: 0:00:10.130659, Best Val Epoch: 148\n"
     ]
    },
    {
     "name": "stderr",
     "output_type": "stream",
     "text": [
      " 78%|██████████████████████████████████████████████████████████▌                | 156/200 [25:52<07:23, 10.08s/it]"
     ]
    },
    {
     "name": "stdout",
     "output_type": "stream",
     "text": [
      "Epoch 156/200, Train Loss: 0.6674,           Validation Loss: 0.6602, Duration: 0:00:10.144124, Best Val Epoch: 148\n"
     ]
    },
    {
     "name": "stderr",
     "output_type": "stream",
     "text": [
      " 78%|██████████████████████████████████████████████████████████▉                | 157/200 [26:01<07:07,  9.94s/it]"
     ]
    },
    {
     "name": "stdout",
     "output_type": "stream",
     "text": [
      "Epoch 157/200, Train Loss: 0.6676,           Validation Loss: 0.6602, Duration: 0:00:09.601442, Best Val Epoch: 148\n"
     ]
    },
    {
     "name": "stderr",
     "output_type": "stream",
     "text": [
      " 79%|███████████████████████████████████████████████████████████▎               | 158/200 [26:11<06:53,  9.85s/it]"
     ]
    },
    {
     "name": "stdout",
     "output_type": "stream",
     "text": [
      "Epoch 158/200, Train Loss: 0.6675,           Validation Loss: 0.6602, Duration: 0:00:09.658902, Best Val Epoch: 148\n"
     ]
    },
    {
     "name": "stderr",
     "output_type": "stream",
     "text": [
      " 80%|███████████████████████████████████████████████████████████▋               | 159/200 [26:21<06:44,  9.86s/it]"
     ]
    },
    {
     "name": "stdout",
     "output_type": "stream",
     "text": [
      "Epoch 159/200, Train Loss: 0.6676,           Validation Loss: 0.6602, Duration: 0:00:09.857160, Best Val Epoch: 148\n"
     ]
    },
    {
     "name": "stderr",
     "output_type": "stream",
     "text": [
      " 80%|████████████████████████████████████████████████████████████               | 160/200 [26:30<06:33,  9.83s/it]"
     ]
    },
    {
     "name": "stdout",
     "output_type": "stream",
     "text": [
      "Epoch 160/200, Train Loss: 0.6675,           Validation Loss: 0.6602, Duration: 0:00:09.762076, Best Val Epoch: 148\n"
     ]
    },
    {
     "name": "stderr",
     "output_type": "stream",
     "text": [
      " 80%|████████████████████████████████████████████████████████████▍              | 161/200 [26:40<06:25,  9.89s/it]"
     ]
    },
    {
     "name": "stdout",
     "output_type": "stream",
     "text": [
      "Epoch 161/200, Train Loss: 0.6676,           Validation Loss: 0.6602, Duration: 0:00:10.029664, Best Val Epoch: 148\n"
     ]
    },
    {
     "name": "stderr",
     "output_type": "stream",
     "text": [
      " 81%|████████████████████████████████████████████████████████████▊              | 162/200 [26:50<06:16,  9.92s/it]"
     ]
    },
    {
     "name": "stdout",
     "output_type": "stream",
     "text": [
      "Epoch 162/200, Train Loss: 0.6674,           Validation Loss: 0.6602, Duration: 0:00:09.980377, Best Val Epoch: 148\n"
     ]
    },
    {
     "name": "stderr",
     "output_type": "stream",
     "text": [
      " 82%|█████████████████████████████████████████████████████████████              | 163/200 [27:00<06:08,  9.95s/it]"
     ]
    },
    {
     "name": "stdout",
     "output_type": "stream",
     "text": [
      "Epoch 163/200, Train Loss: 0.6674,           Validation Loss: 0.6602, Duration: 0:00:10.024312, Best Val Epoch: 148\n"
     ]
    },
    {
     "name": "stderr",
     "output_type": "stream",
     "text": [
      " 82%|█████████████████████████████████████████████████████████████▍             | 164/200 [27:10<05:57,  9.93s/it]"
     ]
    },
    {
     "name": "stdout",
     "output_type": "stream",
     "text": [
      "Epoch 164/200, Train Loss: 0.6677,           Validation Loss: 0.6602, Duration: 0:00:09.875097, Best Val Epoch: 148\n"
     ]
    },
    {
     "name": "stderr",
     "output_type": "stream",
     "text": [
      " 82%|█████████████████████████████████████████████████████████████▉             | 165/200 [27:20<05:44,  9.84s/it]"
     ]
    },
    {
     "name": "stdout",
     "output_type": "stream",
     "text": [
      "Epoch 165/200, Train Loss: 0.6677,           Validation Loss: 0.6602, Duration: 0:00:09.620263, Best Val Epoch: 148\n"
     ]
    },
    {
     "name": "stderr",
     "output_type": "stream",
     "text": [
      " 83%|██████████████████████████████████████████████████████████████▎            | 166/200 [27:30<05:35,  9.86s/it]"
     ]
    },
    {
     "name": "stdout",
     "output_type": "stream",
     "text": [
      "Epoch 166/200, Train Loss: 0.6677,           Validation Loss: 0.6602, Duration: 0:00:09.901792, Best Val Epoch: 148\n"
     ]
    },
    {
     "name": "stderr",
     "output_type": "stream",
     "text": [
      " 84%|██████████████████████████████████████████████████████████████▋            | 167/200 [27:39<05:21,  9.73s/it]"
     ]
    },
    {
     "name": "stdout",
     "output_type": "stream",
     "text": [
      "Epoch 167/200, Train Loss: 0.6674,           Validation Loss: 0.6602, Duration: 0:00:09.446222, Best Val Epoch: 148\n"
     ]
    },
    {
     "name": "stderr",
     "output_type": "stream",
     "text": [
      " 84%|███████████████████████████████████████████████████████████████            | 168/200 [27:49<05:12,  9.75s/it]"
     ]
    },
    {
     "name": "stdout",
     "output_type": "stream",
     "text": [
      "Epoch 168/200, Train Loss: 0.6675,           Validation Loss: 0.6602, Duration: 0:00:09.795309, Best Val Epoch: 148\n"
     ]
    },
    {
     "name": "stderr",
     "output_type": "stream",
     "text": [
      " 84%|███████████████████████████████████████████████████████████████▍           | 169/200 [27:59<05:03,  9.80s/it]"
     ]
    },
    {
     "name": "stdout",
     "output_type": "stream",
     "text": [
      "Epoch 169/200, Train Loss: 0.6675,           Validation Loss: 0.6602, Duration: 0:00:09.915325, Best Val Epoch: 148\n"
     ]
    },
    {
     "name": "stderr",
     "output_type": "stream",
     "text": [
      " 85%|███████████████████████████████████████████████████████████████▊           | 170/200 [28:09<04:53,  9.78s/it]"
     ]
    },
    {
     "name": "stdout",
     "output_type": "stream",
     "text": [
      "model saved\n",
      "Epoch 170/200, Train Loss: 0.6676,           Validation Loss: 0.6601, Duration: 0:00:09.735598, Best Val Epoch: 169\n"
     ]
    },
    {
     "name": "stderr",
     "output_type": "stream",
     "text": [
      " 86%|████████████████████████████████████████████████████████████████▏          | 171/200 [28:19<04:46,  9.88s/it]"
     ]
    },
    {
     "name": "stdout",
     "output_type": "stream",
     "text": [
      "model saved\n",
      "Epoch 171/200, Train Loss: 0.6676,           Validation Loss: 0.6601, Duration: 0:00:10.122821, Best Val Epoch: 170\n"
     ]
    },
    {
     "name": "stderr",
     "output_type": "stream",
     "text": [
      " 86%|████████████████████████████████████████████████████████████████▌          | 172/200 [28:29<04:36,  9.87s/it]"
     ]
    },
    {
     "name": "stdout",
     "output_type": "stream",
     "text": [
      "Epoch 172/200, Train Loss: 0.6676,           Validation Loss: 0.6601, Duration: 0:00:09.834416, Best Val Epoch: 170\n"
     ]
    },
    {
     "name": "stderr",
     "output_type": "stream",
     "text": [
      " 86%|████████████████████████████████████████████████████████████████▉          | 173/200 [28:39<04:29,  9.97s/it]"
     ]
    },
    {
     "name": "stdout",
     "output_type": "stream",
     "text": [
      "Epoch 173/200, Train Loss: 0.6677,           Validation Loss: 0.6601, Duration: 0:00:10.205325, Best Val Epoch: 170\n"
     ]
    },
    {
     "name": "stderr",
     "output_type": "stream",
     "text": [
      " 87%|█████████████████████████████████████████████████████████████████▎         | 174/200 [28:49<04:22, 10.09s/it]"
     ]
    },
    {
     "name": "stdout",
     "output_type": "stream",
     "text": [
      "Epoch 174/200, Train Loss: 0.6676,           Validation Loss: 0.6601, Duration: 0:00:10.363912, Best Val Epoch: 170\n"
     ]
    },
    {
     "name": "stderr",
     "output_type": "stream",
     "text": [
      " 88%|█████████████████████████████████████████████████████████████████▋         | 175/200 [28:59<04:11, 10.05s/it]"
     ]
    },
    {
     "name": "stdout",
     "output_type": "stream",
     "text": [
      "Epoch 175/200, Train Loss: 0.6675,           Validation Loss: 0.6601, Duration: 0:00:09.974108, Best Val Epoch: 170\n"
     ]
    },
    {
     "name": "stderr",
     "output_type": "stream",
     "text": [
      " 88%|██████████████████████████████████████████████████████████████████         | 176/200 [29:09<03:58,  9.92s/it]"
     ]
    },
    {
     "name": "stdout",
     "output_type": "stream",
     "text": [
      "Epoch 176/200, Train Loss: 0.6677,           Validation Loss: 0.6602, Duration: 0:00:09.620087, Best Val Epoch: 170\n"
     ]
    },
    {
     "name": "stderr",
     "output_type": "stream",
     "text": [
      " 88%|██████████████████████████████████████████████████████████████████▍        | 177/200 [29:19<03:47,  9.89s/it]"
     ]
    },
    {
     "name": "stdout",
     "output_type": "stream",
     "text": [
      "Epoch 177/200, Train Loss: 0.6678,           Validation Loss: 0.6602, Duration: 0:00:09.820200, Best Val Epoch: 170\n"
     ]
    },
    {
     "name": "stderr",
     "output_type": "stream",
     "text": [
      " 89%|██████████████████████████████████████████████████████████████████▊        | 178/200 [29:29<03:39, 10.00s/it]"
     ]
    },
    {
     "name": "stdout",
     "output_type": "stream",
     "text": [
      "Epoch 178/200, Train Loss: 0.6676,           Validation Loss: 0.6601, Duration: 0:00:10.236029, Best Val Epoch: 170\n"
     ]
    },
    {
     "name": "stderr",
     "output_type": "stream",
     "text": [
      " 90%|███████████████████████████████████████████████████████████████████▏       | 179/200 [29:40<03:34, 10.20s/it]"
     ]
    },
    {
     "name": "stdout",
     "output_type": "stream",
     "text": [
      "Epoch 179/200, Train Loss: 0.6676,           Validation Loss: 0.6602, Duration: 0:00:10.663724, Best Val Epoch: 170\n"
     ]
    },
    {
     "name": "stderr",
     "output_type": "stream",
     "text": [
      " 90%|███████████████████████████████████████████████████████████████████▌       | 180/200 [29:49<03:20, 10.03s/it]"
     ]
    },
    {
     "name": "stdout",
     "output_type": "stream",
     "text": [
      "Epoch 180/200, Train Loss: 0.6677,           Validation Loss: 0.6602, Duration: 0:00:09.653191, Best Val Epoch: 170\n"
     ]
    },
    {
     "name": "stderr",
     "output_type": "stream",
     "text": [
      " 90%|███████████████████████████████████████████████████████████████████▉       | 181/200 [29:59<03:11, 10.07s/it]"
     ]
    },
    {
     "name": "stdout",
     "output_type": "stream",
     "text": [
      "Epoch 181/200, Train Loss: 0.6675,           Validation Loss: 0.6601, Duration: 0:00:10.141863, Best Val Epoch: 170\n"
     ]
    },
    {
     "name": "stderr",
     "output_type": "stream",
     "text": [
      " 91%|████████████████████████████████████████████████████████████████████▎      | 182/200 [30:09<02:59,  9.99s/it]"
     ]
    },
    {
     "name": "stdout",
     "output_type": "stream",
     "text": [
      "Epoch 182/200, Train Loss: 0.6675,           Validation Loss: 0.6601, Duration: 0:00:09.823260, Best Val Epoch: 170\n"
     ]
    },
    {
     "name": "stderr",
     "output_type": "stream",
     "text": [
      " 92%|████████████████████████████████████████████████████████████████████▋      | 183/200 [30:19<02:49, 10.00s/it]"
     ]
    },
    {
     "name": "stdout",
     "output_type": "stream",
     "text": [
      "model saved\n",
      "Epoch 183/200, Train Loss: 0.6676,           Validation Loss: 0.6601, Duration: 0:00:10.004585, Best Val Epoch: 182\n"
     ]
    },
    {
     "name": "stderr",
     "output_type": "stream",
     "text": [
      " 92%|█████████████████████████████████████████████████████████████████████      | 184/200 [30:29<02:39,  9.95s/it]"
     ]
    },
    {
     "name": "stdout",
     "output_type": "stream",
     "text": [
      "Epoch 184/200, Train Loss: 0.6676,           Validation Loss: 0.6601, Duration: 0:00:09.851965, Best Val Epoch: 182\n"
     ]
    },
    {
     "name": "stderr",
     "output_type": "stream",
     "text": [
      " 92%|█████████████████████████████████████████████████████████████████████▍     | 185/200 [30:39<02:31, 10.08s/it]"
     ]
    },
    {
     "name": "stdout",
     "output_type": "stream",
     "text": [
      "Epoch 185/200, Train Loss: 0.6675,           Validation Loss: 0.6601, Duration: 0:00:10.361655, Best Val Epoch: 182\n"
     ]
    },
    {
     "name": "stderr",
     "output_type": "stream",
     "text": [
      " 93%|█████████████████████████████████████████████████████████████████████▊     | 186/200 [30:50<02:22, 10.16s/it]"
     ]
    },
    {
     "name": "stdout",
     "output_type": "stream",
     "text": [
      "Epoch 186/200, Train Loss: 0.6675,           Validation Loss: 0.6601, Duration: 0:00:10.350349, Best Val Epoch: 182\n"
     ]
    },
    {
     "name": "stderr",
     "output_type": "stream",
     "text": [
      " 94%|██████████████████████████████████████████████████████████████████████▏    | 187/200 [31:00<02:13, 10.28s/it]"
     ]
    },
    {
     "name": "stdout",
     "output_type": "stream",
     "text": [
      "Epoch 187/200, Train Loss: 0.6676,           Validation Loss: 0.6601, Duration: 0:00:10.577725, Best Val Epoch: 182\n"
     ]
    },
    {
     "name": "stderr",
     "output_type": "stream",
     "text": [
      " 94%|██████████████████████████████████████████████████████████████████████▌    | 188/200 [31:10<02:01, 10.14s/it]"
     ]
    },
    {
     "name": "stdout",
     "output_type": "stream",
     "text": [
      "model saved\n",
      "Epoch 188/200, Train Loss: 0.6677,           Validation Loss: 0.6601, Duration: 0:00:09.800920, Best Val Epoch: 187\n"
     ]
    },
    {
     "name": "stderr",
     "output_type": "stream",
     "text": [
      " 94%|██████████████████████████████████████████████████████████████████████▉    | 189/200 [31:20<01:49,  9.99s/it]"
     ]
    },
    {
     "name": "stdout",
     "output_type": "stream",
     "text": [
      "model saved\n",
      "Epoch 189/200, Train Loss: 0.6677,           Validation Loss: 0.6601, Duration: 0:00:09.636415, Best Val Epoch: 188\n"
     ]
    },
    {
     "name": "stderr",
     "output_type": "stream",
     "text": [
      " 95%|███████████████████████████████████████████████████████████████████████▎   | 190/200 [31:29<01:38,  9.84s/it]"
     ]
    },
    {
     "name": "stdout",
     "output_type": "stream",
     "text": [
      "model saved\n",
      "Epoch 190/200, Train Loss: 0.6675,           Validation Loss: 0.6601, Duration: 0:00:09.492725, Best Val Epoch: 189\n"
     ]
    },
    {
     "name": "stderr",
     "output_type": "stream",
     "text": [
      " 96%|███████████████████████████████████████████████████████████████████████▋   | 191/200 [31:39<01:27,  9.72s/it]"
     ]
    },
    {
     "name": "stdout",
     "output_type": "stream",
     "text": [
      "Epoch 191/200, Train Loss: 0.6676,           Validation Loss: 0.6601, Duration: 0:00:09.451770, Best Val Epoch: 189\n"
     ]
    },
    {
     "name": "stderr",
     "output_type": "stream",
     "text": [
      " 96%|████████████████████████████████████████████████████████████████████████   | 192/200 [31:48<01:17,  9.66s/it]"
     ]
    },
    {
     "name": "stdout",
     "output_type": "stream",
     "text": [
      "Epoch 192/200, Train Loss: 0.6676,           Validation Loss: 0.6601, Duration: 0:00:09.511537, Best Val Epoch: 189\n"
     ]
    },
    {
     "name": "stderr",
     "output_type": "stream",
     "text": [
      " 96%|████████████████████████████████████████████████████████████████████████▍  | 193/200 [31:58<01:07,  9.68s/it]"
     ]
    },
    {
     "name": "stdout",
     "output_type": "stream",
     "text": [
      "Epoch 193/200, Train Loss: 0.6676,           Validation Loss: 0.6601, Duration: 0:00:09.733455, Best Val Epoch: 189\n"
     ]
    },
    {
     "name": "stderr",
     "output_type": "stream",
     "text": [
      " 97%|████████████████████████████████████████████████████████████████████████▊  | 194/200 [32:08<00:58,  9.73s/it]"
     ]
    },
    {
     "name": "stdout",
     "output_type": "stream",
     "text": [
      "Epoch 194/200, Train Loss: 0.6677,           Validation Loss: 0.6601, Duration: 0:00:09.843877, Best Val Epoch: 189\n"
     ]
    },
    {
     "name": "stderr",
     "output_type": "stream",
     "text": [
      " 98%|█████████████████████████████████████████████████████████████████████████▏ | 195/200 [32:18<00:49,  9.87s/it]"
     ]
    },
    {
     "name": "stdout",
     "output_type": "stream",
     "text": [
      "Epoch 195/200, Train Loss: 0.6676,           Validation Loss: 0.6601, Duration: 0:00:10.191782, Best Val Epoch: 189\n"
     ]
    },
    {
     "name": "stderr",
     "output_type": "stream",
     "text": [
      " 98%|█████████████████████████████████████████████████████████████████████████▌ | 196/200 [32:29<00:40, 10.07s/it]"
     ]
    },
    {
     "name": "stdout",
     "output_type": "stream",
     "text": [
      "Epoch 196/200, Train Loss: 0.6675,           Validation Loss: 0.6601, Duration: 0:00:10.533750, Best Val Epoch: 189\n"
     ]
    },
    {
     "name": "stderr",
     "output_type": "stream",
     "text": [
      " 98%|█████████████████████████████████████████████████████████████████████████▉ | 197/200 [32:38<00:29,  9.97s/it]"
     ]
    },
    {
     "name": "stdout",
     "output_type": "stream",
     "text": [
      "Epoch 197/200, Train Loss: 0.6676,           Validation Loss: 0.6601, Duration: 0:00:09.726714, Best Val Epoch: 189\n"
     ]
    },
    {
     "name": "stderr",
     "output_type": "stream",
     "text": [
      " 99%|██████████████████████████████████████████████████████████████████████████▎| 198/200 [32:49<00:20, 10.12s/it]"
     ]
    },
    {
     "name": "stdout",
     "output_type": "stream",
     "text": [
      "Epoch 198/200, Train Loss: 0.6676,           Validation Loss: 0.6601, Duration: 0:00:10.472145, Best Val Epoch: 189\n"
     ]
    },
    {
     "name": "stderr",
     "output_type": "stream",
     "text": [
      "100%|██████████████████████████████████████████████████████████████████████████▋| 199/200 [32:58<00:09,  9.98s/it]"
     ]
    },
    {
     "name": "stdout",
     "output_type": "stream",
     "text": [
      "Epoch 199/200, Train Loss: 0.6677,           Validation Loss: 0.6601, Duration: 0:00:09.649677, Best Val Epoch: 189\n"
     ]
    },
    {
     "name": "stderr",
     "output_type": "stream",
     "text": [
      "100%|███████████████████████████████████████████████████████████████████████████| 200/200 [33:08<00:00,  9.94s/it]"
     ]
    },
    {
     "name": "stdout",
     "output_type": "stream",
     "text": [
      "Epoch 200/200, Train Loss: 0.6675,           Validation Loss: 0.6601, Duration: 0:00:09.582128, Best Val Epoch: 189\n"
     ]
    },
    {
     "name": "stderr",
     "output_type": "stream",
     "text": [
      "\n"
     ]
    },
    {
     "data": {
      "text/plain": [
       "<matplotlib.legend.Legend at 0x7fea3f1c7430>"
      ]
     },
     "execution_count": 20,
     "metadata": {},
     "output_type": "execute_result"
    },
    {
     "data": {
      "image/png": "[encoded data removed]",
      "text/plain": [
       "<Figure size 1500x600 with 1 Axes>"
      ]
     },
     "metadata": {},
     "output_type": "display_data"
    }
   ],
   "source": [
    "print(\"------- List Hyper Parameters -------\")\n",
    "print(\"epochs   ->   \" + str(epochs))\n",
    "print(\"learningRate   ->   \" + str(lr))\n",
    "print(\"horizon    ->     \" + str(T))\n",
    "print(\"batch size   ->    \" + str(batch_size))\n",
    "print(\"Optimizer   ->    \" + str(optimizer))\n",
    "\n",
    "train_losses, val_losses = batch_gd(model, criterion, optimizer, \n",
    "                                     epochs)\n",
    "\n",
    "plt.figure(figsize=(15,6))\n",
    "plt.plot(train_losses, label='train loss')\n",
    "plt.plot(val_losses, label='validation loss')\n",
    "plt.legend()"
   ]
  },
  {
   "cell_type": "markdown",
   "metadata": {
    "id": "F7CF2CwUkn4G"
   },
   "source": [
    "### **Model Testing**"
   ]
  },
  {
   "cell_type": "code",
   "execution_count": 30,
   "metadata": {
    "colab": {
     "background_save": true
    },
    "id": "TFg5d6CzTgWS",
    "outputId": "8d1c2dfd-ecff-4f59-e1dd-45504c121328"
   },
   "outputs": [
    {
     "name": "stdout",
     "output_type": "stream",
     "text": [
      "Test acc: 0.9004\n"
     ]
    }
   ],
   "source": [
    "model = torch.load('./best_model_CTABL')\n",
    "\n",
    "n_correct = 0.\n",
    "n_total = 0.\n",
    "all_targets = []\n",
    "all_predictions = []\n",
    "\n",
    "for i, (inputs, targets) in enumerate(test_loader):\n",
    "    # Move to GPU\n",
    "    inputs, targets = inputs.to(device, dtype=torch.float), targets.to(device, dtype=torch.int64)\n",
    "\n",
    "    # Forward pass\n",
    "    outputs = model(inputs)\n",
    "\n",
    "    # Get prediction\n",
    "    # torch.max returns both max and argmax\n",
    "    _, predictions = torch.max(outputs, 1)\n",
    "    #print(outputs)\n",
    "    #print(predictions)\n",
    "    #print(targets)\n",
    "    #print((predictions == targets).sum().item(), targets.shape[0])\n",
    "\n",
    "    # update counts\n",
    "    n_correct += (predictions == targets).sum().item()\n",
    "    n_total += targets.shape[0]\n",
    "\n",
    "    all_targets.append(targets.cpu().numpy())\n",
    "    all_predictions.append(predictions.cpu().numpy())\n",
    "\n",
    "test_acc = n_correct / n_total\n",
    "print(f\"Test acc: {test_acc:.4f}\")\n",
    "  \n",
    "all_targets = np.concatenate(all_targets)    \n",
    "all_predictions = np.concatenate(all_predictions)    "
   ]
  },
  {
   "cell_type": "code",
   "execution_count": 31,
   "metadata": {
    "colab": {
     "background_save": true
    },
    "id": "0oOu5lwf6zw0",
    "outputId": "a7f1be3e-e874-4733-cead-ca3651a170cc"
   },
   "outputs": [
    {
     "name": "stdout",
     "output_type": "stream",
     "text": [
      "accuracy_score: 0.9004253673627224\n",
      "              precision    recall  f1-score   support\n",
      "\n",
      "           0     0.9268    0.8516    0.8876     42518\n",
      "           1     0.8656    0.9658    0.9130     73154\n",
      "           2     0.9530    0.8319    0.8883     39488\n",
      "\n",
      "    accuracy                         0.9004    155160\n",
      "   macro avg     0.9151    0.8831    0.8963    155160\n",
      "weighted avg     0.9046    0.9004    0.8997    155160\n",
      "\n"
     ]
    },
    {
     "data": {
      "image/png": "[encoded data removed]",
      "text/plain": [
       "<Figure size 640x480 with 2 Axes>"
      ]
     },
     "metadata": {},
     "output_type": "display_data"
    }
   ],
   "source": [
    "print('accuracy_score:', accuracy_score(all_targets, all_predictions))\n",
    "print(classification_report(all_targets, all_predictions, digits=4))\n",
    "\n",
    "c = confusion_matrix(all_targets, all_predictions, normalize=\"true\")\n",
    "disp = ConfusionMatrixDisplay(c)\n",
    "disp.plot()\n",
    "plt.show()"
   ]
  },
  {
   "cell_type": "code",
   "execution_count": null,
   "metadata": {},
   "outputs": [],
   "source": []
  }
 ],
 "metadata": {
  "accelerator": "GPU",
  "colab": {
   "provenance": []
  },
  "gpuClass": "premium",
  "kernelspec": {
   "display_name": "Python 3 (ipykernel)",
   "language": "python",
   "name": "python3"
  },
  "language_info": {
   "codemirror_mode": {
    "name": "ipython",
    "version": 3
   },
   "file_extension": ".py",
   "mimetype": "text/x-python",
   "name": "python",
   "nbconvert_exporter": "python",
   "pygments_lexer": "ipython3",
   "version": "3.10.6"
  }
 },
 "nbformat": 4,
 "nbformat_minor": 4
}
