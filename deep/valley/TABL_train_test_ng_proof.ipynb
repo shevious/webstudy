{
 "cells": [
  {
   "cell_type": "markdown",
   "metadata": {},
   "source": [
    "# FI-2021 dataset temporal shift error  \n",
    "This code is for demonstration of temporal shift error in FI-2010 dataset.\n",
    "\n",
    "### Original source  \n",
    "https://github.com/LeonardoBerti00/TABL-Temporal-Attention-Augmented-Bilinear-Network-for-Financial-Time-Series-Data-Analysis"
   ]
  },
  {
   "cell_type": "markdown",
   "metadata": {
    "id": "P-PVsZeWjCiw"
   },
   "source": [
    "### **BiN-TABL**"
   ]
  },
  {
   "cell_type": "code",
   "execution_count": 2,
   "metadata": {
    "id": "AVPONVeVw0nh"
   },
   "outputs": [],
   "source": [
    "# load packages\n",
    "\n",
    "import numpy as np\n",
    "import matplotlib.pyplot as plt\n",
    "from datetime import datetime\n",
    "from tqdm import tqdm \n",
    "from sklearn.metrics import accuracy_score, classification_report, confusion_matrix, ConfusionMatrixDisplay\n",
    "import torch\n",
    "from torch.utils import data\n",
    "import torch.nn as nn\n",
    "import torch.optim as optim\n",
    "\n",
    "device = torch.device(\"cuda:0\" if torch.cuda.is_available() else \"cpu\")\n"
   ]
  },
  {
   "cell_type": "markdown",
   "metadata": {
    "id": "aNdy1u5zjMaw"
   },
   "source": [
    "### **Data**\n",
    "The dataset in the folder Dataset is the FI-2010 dataset zipped and normalized. \n",
    "\n",
    "As in the original paper I used the firs 7 days to train and to validate, and the rest 3 days to do the the testing. "
   ]
  },
  {
   "cell_type": "code",
   "execution_count": 3,
   "metadata": {
    "id": "ls5u0jngxkjl"
   },
   "outputs": [],
   "source": [
    "# please change the data_path to your local path and download the files you need from the web site of the dataset\n",
    "\n",
    "#dec_data = np.loadtxt('data/FI-2010/BenchmarkDatasets/NoAuction/1.NoAuction_Zscore/NoAuction_Zscore_Training/Train_Dst_NoAuction_ZScore_CF_7.txt')\n",
    "#dec_data = np.loadtxt('data/FI-2010/BenchmarkDatasets/NoAuction/1.NoAuction_Zscore/NoAuction_Zscore_Training/Train_Dst_NoAuction_ZScore_CF_7.txt')\n",
    "#dec_data = np.loadtxt('data/FI-2010/BenchmarkDatasets/Auction/1.Auction_Zscore/Auction_Zscore_Training/Train_Dst_Auction_ZScore_CF_7.txt')\n",
    "#dec_data = np.loadtxt('data/FI-2010/BenchmarkDatasets/Auction/1.Auction_Zscore/Auction_Zscore_Training/Train_Dst_Auction_ZScore_CF_7.txt')\n",
    "dec_data = np.loadtxt('data/FI-2010/BenchmarkDatasets/Auction/3.Auction_DecPre/Auction_DecPre_Training/Train_Dst_Auction_DecPre_CF_7.txt')\n",
    "dec_train = dec_data[:, :int(dec_data.shape[1] * 0.8)]\n",
    "dec_val = dec_data[:, int(dec_data.shape[1] * 0.8):]\n",
    "\n",
    "#dec_test1 = np.loadtxt('data/FI-2010/BenchmarkDatasets/NoAuction/1.NoAuction_Zscore/NoAuction_Zscore_Testing/Test_Dst_NoAuction_ZScore_CF_7.txt')\n",
    "#dec_test2 = np.loadtxt('data/FI-2010/BenchmarkDatasets/NoAuction/1.NoAuction_Zscore/NoAuction_Zscore_Testing/Test_Dst_NoAuction_ZScore_CF_8.txt')\n",
    "#dec_test3 = np.loadtxt('data/FI-2010/BenchmarkDatasets/NoAuction/1.NoAuction_Zscore/NoAuction_Zscore_Testing/Test_Dst_NoAuction_ZScore_CF_9.txt')\n",
    "#dec_test1 = np.loadtxt('data/FI-2010/BenchmarkDatasets/Auction/1.Auction_Zscore/Auction_Zscore_Testing/Test_Dst_Auction_ZScore_CF_7.txt')\n",
    "#dec_test2 = np.loadtxt('data/FI-2010/BenchmarkDatasets/Auction/1.Auction_Zscore/Auction_Zscore_Testing/Test_Dst_Auction_ZScore_CF_8.txt')\n",
    "#dec_test3 = np.loadtxt('data/FI-2010/BenchmarkDatasets/Auction/1.Auction_Zscore/Auction_Zscore_Testing/Test_Dst_Auction_ZScore_CF_9.txt')\n",
    "dec_test1 = np.loadtxt('data/FI-2010/BenchmarkDatasets/Auction/3.Auction_DecPre/Auction_DecPre_Testing/Test_Dst_Auction_DecPre_CF_7.txt')\n",
    "dec_test2 = np.loadtxt('data/FI-2010/BenchmarkDatasets/Auction/3.Auction_DecPre/Auction_DecPre_Testing/Test_Dst_Auction_DecPre_CF_8.txt')\n",
    "dec_test3 = np.loadtxt('data/FI-2010/BenchmarkDatasets/Auction/3.Auction_DecPre/Auction_DecPre_Testing/Test_Dst_Auction_DecPre_CF_9.txt')\n",
    "dec_test = np.hstack((dec_test1, dec_test2, dec_test3))\n",
    "\n",
    "# dec_train.shape = (149, 203800)\n",
    "\n",
    "h = 2        #if h = 2, than horizon = 50\n",
    "T = 50      #horizon \n",
    "dim = 10\n",
    "k = T//10    #horizon as temporal unit\n",
    "\n",
    "y_train = dec_train[-h, :].flatten()\n",
    "# y_train.shape = (203800,)\n",
    "y_val = dec_val[-h, :].flatten()\n",
    "y_test = dec_test[-h, :].flatten()\n",
    "\n",
    "# 10-1: 10 means the length of inputs\n",
    "# second -1 means [1,2,3] to [0,1,2] conversion of class id\n",
    "#y_train = y_train[dim-1+(k-1):] - 1\n",
    "y_train = y_train[dim-1:] - 1\n",
    "# y_train.shape = (203791,) # 203791 = 203800-(10+1)\n",
    "#y_val = y_val[dim-1+(k-1):] - 1\n",
    "y_val = y_val[dim-1:] - 1\n",
    "#y_test = y_test[dim-1+(k-1):] - 1 \n",
    "y_test = y_test[dim-1:] - 1 \n",
    "\n",
    "# First 40 features = 10*4 features\n",
    "dec_train = dec_train[:40, :].T\n",
    "# dec_train.shape = (203800, 40)\n",
    "dec_val = dec_val[:40, :].T\n",
    "dec_test = dec_test[:40, :].T"
   ]
  },
  {
   "cell_type": "code",
   "execution_count": 4,
   "metadata": {},
   "outputs": [],
   "source": [
    "#computing the weights for the weighted cross entropy loss\n",
    "def compute_weights(y):\n",
    "  cont_0 = 0\n",
    "  cont_1 = 0\n",
    "  cont_2 = 0\n",
    "  for i in range(y.shape[0]):\n",
    "    if (y[i] == 0):\n",
    "      cont_0 += 1\n",
    "    elif (y[i] == 1):\n",
    "      cont_1 += 1\n",
    "    elif (y[i] == 2):\n",
    "      cont_2 += 2\n",
    "    else: \n",
    "      raise Exception(\"wrong labels\")\n",
    "  return torch.Tensor([1e6/cont_0, 1e6/cont_1, 1e6/cont_2]).to(device)\n",
    "\n",
    "y_total = np.concatenate((y_train, y_val, y_test))\n",
    "weights = compute_weights(y_total)"
   ]
  },
  {
   "cell_type": "code",
   "execution_count": 5,
   "metadata": {
    "id": "8x7PAu1LySOZ"
   },
   "outputs": [],
   "source": [
    "class Dataset(data.Dataset):\n",
    "    \"\"\"Characterizes a dataset for PyTorch\"\"\"\n",
    "    def __init__(self, x, y, num_classes, dim):\n",
    "        \"\"\"Initialization\"\"\" \n",
    "        self.num_classes = num_classes\n",
    "        self.dim = dim\n",
    "        self.x = x   \n",
    "        self.y = y\n",
    "\n",
    "        self.length = x.shape[0] - (T/10) -self.dim + 1\n",
    "        print(self.length)\n",
    "\n",
    "        x = torch.from_numpy(x)\n",
    "        self.x = torch.unsqueeze(x, 1)\n",
    "        self.y = torch.from_numpy(y)\n",
    "\n",
    "    def __len__(self):\n",
    "        \"\"\"Denotes the total number of samples\"\"\"\n",
    "        return int(self.length)\n",
    "\n",
    "    def __getitem__(self, i):\n",
    "        input = self.x[i:i+self.dim, :]\n",
    "        input = input.permute(1, 2, 0)\n",
    "        input = torch.squeeze(input)\n",
    "\n",
    "        return input, self.y[i]"
   ]
  },
  {
   "cell_type": "code",
   "execution_count": 6,
   "metadata": {
    "colab": {
     "base_uri": "https://localhost:8080/"
    },
    "id": "7ndByE-Ajmq8",
    "outputId": "9b68ee43-4e8d-4483-c284-512fb31797e8"
   },
   "outputs": [
    {
     "name": "stdout",
     "output_type": "stream",
     "text": [
      "60577.0\n",
      "155160.0\n",
      "242346.0\n"
     ]
    }
   ],
   "source": [
    "#Hyperparameters\n",
    "batch_size = 256\n",
    "epochs = 200\n",
    "   \n",
    "lr = 0.01\n",
    "num_classes = 3\n",
    "dim = 10\n",
    "\n",
    "dataset_val = Dataset(dec_val, y_val, num_classes, dim)\n",
    "dataset_test = Dataset(dec_test, y_test, num_classes, dim)\n",
    "dataset_train = Dataset(dec_train, y_train, num_classes, dim)\n",
    "\n",
    "train_loader = torch.utils.data.DataLoader(dataset=dataset_train, batch_size=batch_size, shuffle=True)\n",
    "val_loader = torch.utils.data.DataLoader(dataset=dataset_val, batch_size=batch_size, shuffle=False)\n",
    "test_loader = torch.utils.data.DataLoader(dataset=dataset_test, batch_size=batch_size, shuffle=False)"
   ]
  },
  {
   "cell_type": "markdown",
   "metadata": {
    "id": "DEIIi2NwjtgC"
   },
   "source": [
    "### **Model Architecture**\n"
   ]
  },
  {
   "cell_type": "code",
   "execution_count": 7,
   "metadata": {},
   "outputs": [],
   "source": [
    "\n",
    "class Self_inference(nn.Module):\n",
    "    # d2=60, d1=40, t1=10, t2=10, d3=120, t3=5, d4=3, t4=1\n",
    "    def __init__(self, d2, d1, t1, t2, d3, t3, d4, t4):\n",
    "        super().__init__()\n",
    "\n",
    "    def forward(self, x):\n",
    "       \n",
    "        # x.shape = (32, 40, 10)\n",
    "\n",
    "        thres = 0.00002\n",
    "        m_i = (x[:, 0, -1-(k-1)]+x[:, 2, -1-(k-1)])/2.\n",
    "        m_j = torch.mean((x[:, 0, -(k-1):]+x[:, 2, -(k-1):])/2., dim=1)\n",
    "        l_j = (m_j - m_i)/m_i\n",
    "\n",
    "        y = torch.zeros((x.shape[0], 3), device=device)\n",
    "        \n",
    "        y[:, 0] = (l_j >= thres)\n",
    "        y[:, 2] = (l_j <= -thres)\n",
    "        y[:, 1] = 1.0 - (y[:, 0] + y[:, 2])\n",
    "\n",
    "        return y\n"
   ]
  },
  {
   "cell_type": "markdown",
   "metadata": {
    "id": "bejZgDmCkkHi"
   },
   "source": [
    "### **Model Training**\n",
    "\n",
    "I implemented the second setting of the experiment"
   ]
  },
  {
   "cell_type": "code",
   "execution_count": 8,
   "metadata": {
    "id": "s_u5esKfTT-S"
   },
   "outputs": [
    {
     "data": {
      "text/plain": [
       "Self_inference()"
      ]
     },
     "execution_count": 8,
     "metadata": {},
     "output_type": "execute_result"
    }
   ],
   "source": [
    "#Choose between B(TABL) and C(TABL)\n",
    "\n",
    "#model = BTABL(120, 40, 10, 5, 3, 1)\n",
    "#model = CTABL(60, 40, 10, 10, 120, 5, 3, 1)\n",
    "#model = BiN_CTABL(60, 40, 10, 10, 120, 5, 3, 1)\n",
    "model = Self_inference(60, 40, 10, 10, 120, 5, 3, 1)\n",
    "\n",
    "model.to(device)"
   ]
  },
  {
   "cell_type": "markdown",
   "metadata": {
    "id": "F7CF2CwUkn4G"
   },
   "source": [
    "### **Model Testing**"
   ]
  },
  {
   "cell_type": "code",
   "execution_count": 11,
   "metadata": {
    "colab": {
     "background_save": true
    },
    "id": "TFg5d6CzTgWS",
    "outputId": "8d1c2dfd-ecff-4f59-e1dd-45504c121328"
   },
   "outputs": [
    {
     "name": "stdout",
     "output_type": "stream",
     "text": [
      "Test acc: 0.9017\n"
     ]
    }
   ],
   "source": [
    "#model = torch.load('./best_model_CTABL')\n",
    "\n",
    "n_correct = 0.\n",
    "n_total = 0.\n",
    "all_targets = []\n",
    "all_predictions = []\n",
    "\n",
    "for i, (inputs, targets) in enumerate(test_loader):\n",
    "    # Move to GPU\n",
    "    inputs, targets = inputs.to(device, dtype=torch.float), targets.to(device, dtype=torch.int64)\n",
    "\n",
    "    # Forward pass\n",
    "    outputs = model(inputs)\n",
    "\n",
    "    # Get prediction\n",
    "    # torch.max returns both max and argmax\n",
    "    _, predictions = torch.max(outputs, 1)\n",
    "\n",
    "    # update counts\n",
    "    n_correct += (predictions == targets).sum().item()\n",
    "    n_total += targets.shape[0]\n",
    "\n",
    "    all_targets.append(targets.cpu().numpy())\n",
    "    all_predictions.append(predictions.cpu().numpy())\n",
    "\n",
    "test_acc = n_correct / n_total\n",
    "print(f\"Test acc: {test_acc:.4f}\")\n",
    "  \n",
    "all_targets = np.concatenate(all_targets)    \n",
    "all_predictions = np.concatenate(all_predictions)    "
   ]
  },
  {
   "cell_type": "code",
   "execution_count": 12,
   "metadata": {
    "colab": {
     "background_save": true
    },
    "id": "0oOu5lwf6zw0",
    "outputId": "a7f1be3e-e874-4733-cead-ca3651a170cc"
   },
   "outputs": [
    {
     "name": "stdout",
     "output_type": "stream",
     "text": [
      "accuracy_score: 0.9016885795308069\n",
      "              precision    recall  f1-score   support\n",
      "\n",
      "           0     0.9556    0.8377    0.8928     42518\n",
      "           1     0.8549    0.9737    0.9105     73154\n",
      "           2     0.9562    0.8372    0.8927     39488\n",
      "\n",
      "    accuracy                         0.9017    155160\n",
      "   macro avg     0.9223    0.8829    0.8987    155160\n",
      "weighted avg     0.9083    0.9017    0.9011    155160\n",
      "\n"
     ]
    },
    {
     "data": {
      "image/png": "[encoded data removed]",
      "text/plain": [
       "<Figure size 640x480 with 2 Axes>"
      ]
     },
     "metadata": {},
     "output_type": "display_data"
    }
   ],
   "source": [
    "print('accuracy_score:', accuracy_score(all_targets, all_predictions))\n",
    "print(classification_report(all_targets, all_predictions, digits=4))\n",
    "\n",
    "c = confusion_matrix(all_targets, all_predictions, normalize=\"true\")\n",
    "disp = ConfusionMatrixDisplay(c)\n",
    "disp.plot()\n",
    "plt.show()"
   ]
  },
  {
   "cell_type": "code",
   "execution_count": null,
   "metadata": {},
   "outputs": [],
   "source": []
  }
 ],
 "metadata": {
  "accelerator": "GPU",
  "colab": {
   "provenance": []
  },
  "gpuClass": "premium",
  "kernelspec": {
   "display_name": "Python 3 (ipykernel)",
   "language": "python",
   "name": "python3"
  },
  "language_info": {
   "codemirror_mode": {
    "name": "ipython",
    "version": 3
   },
   "file_extension": ".py",
   "mimetype": "text/x-python",
   "name": "python",
   "nbconvert_exporter": "python",
   "pygments_lexer": "ipython3",
   "version": "3.10.6"
  }
 },
 "nbformat": 4,
 "nbformat_minor": 4
}
