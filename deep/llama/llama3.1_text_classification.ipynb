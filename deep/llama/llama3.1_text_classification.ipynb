{
 "cells": [
  {
   "cell_type": "markdown",
   "id": "f40352cd-5229-4dd9-a326-10cd0b1ad0a5",
   "metadata": {},
   "source": [
    "https://www.datacamp.com/tutorial/fine-tuning-llama-3-1"
   ]
  },
  {
   "cell_type": "code",
   "execution_count": null,
   "id": "30dce8b5-8bd2-4596-9391-680350cda233",
   "metadata": {},
   "outputs": [],
   "source": []
  },
  {
   "cell_type": "markdown",
   "id": "073e3772-6d15-433d-97e9-f123d0e686a8",
   "metadata": {},
   "source": [
    "source code from  \n",
    "https://huggingface.co/meta-llama/Meta-Llama-3.1-8B-Instruct"
   ]
  },
  {
   "cell_type": "code",
   "execution_count": 1,
   "id": "55120f80-a73d-4443-b460-b62464fde1bb",
   "metadata": {},
   "outputs": [
    {
     "data": {
      "application/vnd.jupyter.widget-view+json": {
       "model_id": "66546e7ba05d479cab2b763baa764c75",
       "version_major": 2,
       "version_minor": 0
      },
      "text/plain": [
       "Loading checkpoint shards:   0%|          | 0/4 [00:00<?, ?it/s]"
      ]
     },
     "metadata": {},
     "output_type": "display_data"
    },
    {
     "name": "stderr",
     "output_type": "stream",
     "text": [
      "Device set to use cuda:0\n",
      "Setting `pad_token_id` to `eos_token_id`:128001 for open-end generation.\n"
     ]
    },
    {
     "name": "stdout",
     "output_type": "stream",
     "text": [
      "{'role': 'assistant', 'content': \"Arrr, ye be wantin' to know who I be?  Well, matey, I be Captain Chat, a swashbucklin' pirate chatbot, sailin' the seven seas o' knowledge and plunderin' the riches o' information fer ye landlubbers! Me treasure be a vast hoard o' wisdom, and me trusty cutlass be me wit, ready to slice through yer questions and serve ye the answers ye seek! So hoist the sails and set course fer adventure, me hearty!\"}\n"
     ]
    }
   ],
   "source": [
    "import transformers\n",
    "import torch\n",
    "\n",
    "model_id = \"meta-llama/Meta-Llama-3.1-8B-Instruct\"\n",
    "\n",
    "pipeline = transformers.pipeline(\n",
    "    \"text-generation\",\n",
    "    model=model_id,\n",
    "    model_kwargs={\"torch_dtype\": torch.bfloat16},\n",
    "    device_map=\"auto\",\n",
    ")\n",
    "\n",
    "messages = [\n",
    "    {\"role\": \"system\", \"content\": \"You are a pirate chatbot who always responds in pirate speak!\"},\n",
    "    {\"role\": \"user\", \"content\": \"Who are you?\"},\n",
    "]\n",
    "\n",
    "outputs = pipeline(\n",
    "    messages,\n",
    "    max_new_tokens=256,\n",
    ")\n",
    "print(outputs[0][\"generated_text\"][-1])"
   ]
  },
  {
   "cell_type": "code",
   "execution_count": 2,
   "id": "163d1783-4794-4873-8dc6-25a4d6189b7f",
   "metadata": {},
   "outputs": [],
   "source": [
    "#!pip install wandb --upgrade"
   ]
  },
  {
   "cell_type": "code",
   "execution_count": 3,
   "id": "1640b00b-f5de-4fd7-a540-d4921ca44707",
   "metadata": {},
   "outputs": [
    {
     "name": "stderr",
     "output_type": "stream",
     "text": [
      "Failed to detect the name of this notebook, you can set it manually with the WANDB_NOTEBOOK_NAME environment variable to enable code saving.\n",
      "\u001b[34m\u001b[1mwandb\u001b[0m: Using wandb-core as the SDK backend.  Please refer to https://wandb.me/wandb-core for more information.\n",
      "\u001b[34m\u001b[1mwandb\u001b[0m: Currently logged in as: \u001b[33msdfsdfrr\u001b[0m to \u001b[32mhttps://api.wandb.ai\u001b[0m. Use \u001b[1m`wandb login --relogin`\u001b[0m to force relogin\n"
     ]
    },
    {
     "data": {
      "text/html": [
       "Tracking run with wandb version 0.19.8"
      ],
      "text/plain": [
       "<IPython.core.display.HTML object>"
      ]
     },
     "metadata": {},
     "output_type": "display_data"
    },
    {
     "data": {
      "text/html": [
       "Run data is saved locally in <code>/home/kotech/workspace/webstudy/deep/llama/wandb/run-20250317_162436-c1657a2f</code>"
      ],
      "text/plain": [
       "<IPython.core.display.HTML object>"
      ]
     },
     "metadata": {},
     "output_type": "display_data"
    },
    {
     "data": {
      "text/html": [
       "Syncing run <strong><a href='https://wandb.ai/sdfsdfrr/Fine-tune%20llama-3.1-8b-it%20on%20Sentiment%20Analysis%20Dataset/runs/c1657a2f?apiKey=94b610266af9d355ab7795d056f1a028fe9e629f' target=\"_blank\">firm-wave-2</a></strong> to <a href='https://wandb.ai/sdfsdfrr/Fine-tune%20llama-3.1-8b-it%20on%20Sentiment%20Analysis%20Dataset?apiKey=94b610266af9d355ab7795d056f1a028fe9e629f' target=\"_blank\">Weights & Biases</a> (<a href='https://wandb.me/developer-guide' target=\"_blank\">docs</a>)<br>"
      ],
      "text/plain": [
       "<IPython.core.display.HTML object>"
      ]
     },
     "metadata": {},
     "output_type": "display_data"
    },
    {
     "data": {
      "text/html": [
       " View project at <a href='https://wandb.ai/sdfsdfrr/Fine-tune%20llama-3.1-8b-it%20on%20Sentiment%20Analysis%20Dataset?apiKey=94b610266af9d355ab7795d056f1a028fe9e629f' target=\"_blank\">https://wandb.ai/sdfsdfrr/Fine-tune%20llama-3.1-8b-it%20on%20Sentiment%20Analysis%20Dataset?apiKey=94b610266af9d355ab7795d056f1a028fe9e629f</a>"
      ],
      "text/plain": [
       "<IPython.core.display.HTML object>"
      ]
     },
     "metadata": {},
     "output_type": "display_data"
    },
    {
     "data": {
      "text/html": [
       " View run at <a href='https://wandb.ai/sdfsdfrr/Fine-tune%20llama-3.1-8b-it%20on%20Sentiment%20Analysis%20Dataset/runs/c1657a2f?apiKey=94b610266af9d355ab7795d056f1a028fe9e629f' target=\"_blank\">https://wandb.ai/sdfsdfrr/Fine-tune%20llama-3.1-8b-it%20on%20Sentiment%20Analysis%20Dataset/runs/c1657a2f?apiKey=94b610266af9d355ab7795d056f1a028fe9e629f</a>"
      ],
      "text/plain": [
       "<IPython.core.display.HTML object>"
      ]
     },
     "metadata": {},
     "output_type": "display_data"
    },
    {
     "data": {
      "text/html": [
       "Do NOT share these links with anyone. They can be used to claim your runs."
      ],
      "text/plain": [
       "<IPython.core.display.HTML object>"
      ]
     },
     "metadata": {},
     "output_type": "display_data"
    }
   ],
   "source": [
    "import wandb\n",
    "\n",
    "#from kaggle_secrets import UserSecretsClient\n",
    "#user_secrets = UserSecretsClient()\n",
    "\n",
    "#wb_token = user_secrets.get_secret(\"wandb\")\n",
    "\n",
    "#wandb.login(key=wb_token)\n",
    "wandb.login()\n",
    "run = wandb.init(\n",
    "    project='Fine-tune llama-3.1-8b-it on Sentiment Analysis Dataset', \n",
    "    job_type=\"training\", \n",
    "    anonymous=\"allow\"\n",
    ")"
   ]
  },
  {
   "cell_type": "code",
   "execution_count": 4,
   "id": "c113490e-3e46-402d-96d4-fb1659fa1293",
   "metadata": {},
   "outputs": [],
   "source": [
    "import numpy as np\n",
    "import pandas as pd\n",
    "import os\n",
    "from tqdm import tqdm\n",
    "import bitsandbytes as bnb\n",
    "import torch\n",
    "import torch.nn as nn\n",
    "import transformers\n",
    "from datasets import Dataset\n",
    "from peft import LoraConfig, PeftConfig\n",
    "from trl import SFTTrainer\n",
    "from trl import setup_chat_format\n",
    "from transformers import (AutoModelForCausalLM, \n",
    "                          AutoTokenizer, \n",
    "                          BitsAndBytesConfig, \n",
    "                          TrainingArguments, \n",
    "                          pipeline, \n",
    "                          logging)\n",
    "from sklearn.metrics import (accuracy_score, \n",
    "                             classification_report, \n",
    "                             confusion_matrix)\n",
    "from sklearn.model_selection import train_test_split"
   ]
  },
  {
   "cell_type": "markdown",
   "id": "e4ae2d22-a794-4ff4-a285-5dbcb448eb0f",
   "metadata": {},
   "source": [
    "\n",
    "download `Combined Data.csv.zip` from  \n",
    "\n",
    "https://www.kaggle.com/datasets/suchintikasarkar/sentiment-analysis-for-mental-health\n"
   ]
  },
  {
   "cell_type": "code",
   "execution_count": 5,
   "id": "d0742b49-3101-4d1d-80a2-ec9cec2220f7",
   "metadata": {},
   "outputs": [
    {
     "data": {
      "text/html": [
       "<div>\n",
       "<style scoped>\n",
       "    .dataframe tbody tr th:only-of-type {\n",
       "        vertical-align: middle;\n",
       "    }\n",
       "\n",
       "    .dataframe tbody tr th {\n",
       "        vertical-align: top;\n",
       "    }\n",
       "\n",
       "    .dataframe thead th {\n",
       "        text-align: right;\n",
       "    }\n",
       "</style>\n",
       "<table border=\"1\" class=\"dataframe\">\n",
       "  <thead>\n",
       "    <tr style=\"text-align: right;\">\n",
       "      <th></th>\n",
       "      <th>statement</th>\n",
       "      <th>status</th>\n",
       "    </tr>\n",
       "  </thead>\n",
       "  <tbody>\n",
       "    <tr>\n",
       "      <th>0</th>\n",
       "      <td>oh my gosh</td>\n",
       "      <td>Anxiety</td>\n",
       "    </tr>\n",
       "    <tr>\n",
       "      <th>1</th>\n",
       "      <td>trouble sleeping, confused mind, restless hear...</td>\n",
       "      <td>Anxiety</td>\n",
       "    </tr>\n",
       "    <tr>\n",
       "      <th>2</th>\n",
       "      <td>All wrong, back off dear, forward doubt. Stay ...</td>\n",
       "      <td>Anxiety</td>\n",
       "    </tr>\n",
       "    <tr>\n",
       "      <th>3</th>\n",
       "      <td>I've shifted my focus to something else but I'...</td>\n",
       "      <td>Anxiety</td>\n",
       "    </tr>\n",
       "    <tr>\n",
       "      <th>4</th>\n",
       "      <td>I'm restless and restless, it's been a month n...</td>\n",
       "      <td>Anxiety</td>\n",
       "    </tr>\n",
       "  </tbody>\n",
       "</table>\n",
       "</div>"
      ],
      "text/plain": [
       "                                           statement   status\n",
       "0                                         oh my gosh  Anxiety\n",
       "1  trouble sleeping, confused mind, restless hear...  Anxiety\n",
       "2  All wrong, back off dear, forward doubt. Stay ...  Anxiety\n",
       "3  I've shifted my focus to something else but I'...  Anxiety\n",
       "4  I'm restless and restless, it's been a month n...  Anxiety"
      ]
     },
     "execution_count": 5,
     "metadata": {},
     "output_type": "execute_result"
    }
   ],
   "source": [
    "import pandas as pd\n",
    "#df = pd.read_csv(\"/kaggle/input/sentiment-analysis-for-mental-health/Combined Data.csv\",index_col = \"Unnamed: 0\")\n",
    "df = pd.read_csv(\"Combined Data.csv\",index_col = \"Unnamed: 0\")\n",
    "df.loc[:,'status'] = df.loc[:,'status'].str.replace('Bi-Polar','Bipolar')\n",
    "df = df[(df.status != \"Personality disorder\") & (df.status != \"Stress\") & (df.status != \"Suicidal\")]\n",
    "df.head()"
   ]
  },
  {
   "cell_type": "code",
   "execution_count": 6,
   "id": "bf5a2ace-01ce-4c04-8703-f0f39501824c",
   "metadata": {},
   "outputs": [
    {
     "name": "stderr",
     "output_type": "stream",
     "text": [
      "/tmp/ipykernel_1594856/550093254.py:31: SettingWithCopyWarning: \n",
      "A value is trying to be set on a copy of a slice from a DataFrame.\n",
      "Try using .loc[row_indexer,col_indexer] = value instead\n",
      "\n",
      "See the caveats in the documentation: https://pandas.pydata.org/pandas-docs/stable/user_guide/indexing.html#returning-a-view-versus-a-copy\n",
      "  X_train.loc[:,'text'] = X_train.apply(generate_prompt, axis=1)\n",
      "/tmp/ipykernel_1594856/550093254.py:32: SettingWithCopyWarning: \n",
      "A value is trying to be set on a copy of a slice from a DataFrame.\n",
      "Try using .loc[row_indexer,col_indexer] = value instead\n",
      "\n",
      "See the caveats in the documentation: https://pandas.pydata.org/pandas-docs/stable/user_guide/indexing.html#returning-a-view-versus-a-copy\n",
      "  X_eval.loc[:,'text'] = X_eval.apply(generate_prompt, axis=1)\n"
     ]
    }
   ],
   "source": [
    "# Shuffle the DataFrame and select only 3000 rows\n",
    "df = df.sample(frac=1, random_state=85).reset_index(drop=True).head(3000)\n",
    "\n",
    "# Split the DataFrame\n",
    "train_size = 0.8\n",
    "eval_size = 0.1\n",
    "\n",
    "# Calculate sizes\n",
    "train_end = int(train_size * len(df))\n",
    "eval_end = train_end + int(eval_size * len(df))\n",
    "\n",
    "# Split the data\n",
    "X_train = df[:train_end]\n",
    "X_eval = df[train_end:eval_end]\n",
    "X_test = df[eval_end:]\n",
    "\n",
    "# Define the prompt generation functions\n",
    "def generate_prompt(data_point):\n",
    "    return f\"\"\"\n",
    "            Classify the text into Normal, Depression, Anxiety, Bipolar, and return the answer as the corresponding mental health disorder label.\n",
    "text: {data_point[\"statement\"]}\n",
    "label: {data_point[\"status\"]}\"\"\".strip()\n",
    "\n",
    "def generate_test_prompt(data_point):\n",
    "    return f\"\"\"\n",
    "            Classify the text into Normal, Depression, Anxiety, Bipolar, and return the answer as the corresponding mental health disorder label.\n",
    "text: {data_point[\"statement\"]}\n",
    "label: \"\"\".strip()\n",
    "\n",
    "# Generate prompts for training and evaluation data\n",
    "X_train.loc[:,'text'] = X_train.apply(generate_prompt, axis=1)\n",
    "X_eval.loc[:,'text'] = X_eval.apply(generate_prompt, axis=1)\n",
    "\n",
    "# Generate test prompts and extract true labels\n",
    "y_true = X_test.loc[:,'status']\n",
    "X_test = pd.DataFrame(X_test.apply(generate_test_prompt, axis=1), columns=[\"text\"])"
   ]
  },
  {
   "cell_type": "code",
   "execution_count": 7,
   "id": "dbba39f9-3368-426a-86b3-e5ddbcfa2582",
   "metadata": {},
   "outputs": [
    {
     "data": {
      "text/plain": [
       "status\n",
       "Normal        1028\n",
       "Depression     938\n",
       "Anxiety        258\n",
       "Bipolar        176\n",
       "Name: count, dtype: int64"
      ]
     },
     "execution_count": 7,
     "metadata": {},
     "output_type": "execute_result"
    }
   ],
   "source": [
    "X_train.status.value_counts()"
   ]
  },
  {
   "cell_type": "code",
   "execution_count": 8,
   "id": "3c827d02-b32c-41f2-9cde-3be7d38c4dc5",
   "metadata": {},
   "outputs": [],
   "source": [
    "train_data = Dataset.from_pandas(X_train[[\"text\"]])\n",
    "eval_data = Dataset.from_pandas(X_eval[[\"text\"]])"
   ]
  },
  {
   "cell_type": "code",
   "execution_count": 9,
   "id": "51e44663-6a37-4a89-8fb9-e9cab46a8317",
   "metadata": {},
   "outputs": [
    {
     "data": {
      "text/plain": [
       "'Classify the text into Normal, Depression, Anxiety, Bipolar, and return the answer as the corresponding mental health disorder label.\\ntext: I am so sad. Everything in my work life is going fine, but my personal life is a wreck. No one ever takes me seriously because I am the funny friend. I do not want to talk to anyone anymore. I just want to die sometimes. Please help me. I have never had this feeling in my entire life. Why am I so sad\\nlabel: Depression'"
      ]
     },
     "execution_count": 9,
     "metadata": {},
     "output_type": "execute_result"
    }
   ],
   "source": [
    "train_data['text'][3]"
   ]
  },
  {
   "cell_type": "code",
   "execution_count": 10,
   "id": "9e366701-9e76-4a12-812f-b52ab63458c2",
   "metadata": {},
   "outputs": [
    {
     "data": {
      "application/vnd.jupyter.widget-view+json": {
       "model_id": "92160e90b8d9401ea468be67a76d8be1",
       "version_major": 2,
       "version_minor": 0
      },
      "text/plain": [
       "Loading checkpoint shards:   0%|          | 0/4 [00:00<?, ?it/s]"
      ]
     },
     "metadata": {},
     "output_type": "display_data"
    }
   ],
   "source": [
    "#base_model_name = \"/kaggle/input/llama-3.1/transformers/8b-instruct/1\"\n",
    "base_model_name = \"meta-llama/Meta-Llama-3.1-8B-Instruct\"\n",
    "\n",
    "bnb_config = BitsAndBytesConfig(\n",
    "    load_in_4bit=True,\n",
    "    bnb_4bit_use_double_quant=False,\n",
    "    bnb_4bit_quant_type=\"nf4\",\n",
    "    bnb_4bit_compute_dtype=\"float16\",\n",
    ")\n",
    "\n",
    "model = AutoModelForCausalLM.from_pretrained(\n",
    "    base_model_name,\n",
    "    device_map=\"auto\",\n",
    "    torch_dtype=\"float16\",\n",
    "    quantization_config=bnb_config, \n",
    ")\n",
    "\n",
    "model.config.use_cache = False\n",
    "model.config.pretraining_tp = 1\n",
    "\n",
    "tokenizer = AutoTokenizer.from_pretrained(base_model_name)\n",
    "\n",
    "tokenizer.pad_token_id = tokenizer.eos_token_id"
   ]
  },
  {
   "cell_type": "code",
   "execution_count": 11,
   "id": "653f3ebf-99c2-43e8-9e87-e50b3a202830",
   "metadata": {},
   "outputs": [
    {
     "name": "stderr",
     "output_type": "stream",
     "text": [
      "Device set to use cuda:1                                                                                                                    | 0/300 [00:00<?, ?it/s]\n",
      "Device set to use cuda:1                                                                                                            | 1/300 [00:00<01:34,  3.17it/s]\n",
      "Device set to use cuda:1                                                                                                            | 2/300 [00:00<00:57,  5.16it/s]\n",
      "Device set to use cuda:1                                                                                                            | 3/300 [00:00<00:47,  6.31it/s]\n",
      "Device set to use cuda:1                                                                                                            | 4/300 [00:00<00:42,  6.95it/s]\n",
      "Device set to use cuda:1                                                                                                            | 5/300 [00:00<00:42,  6.87it/s]\n",
      "Device set to use cuda:1                                                                                                            | 6/300 [00:00<00:39,  7.51it/s]\n",
      "Device set to use cuda:1                                                                                                            | 7/300 [00:01<00:39,  7.39it/s]\n",
      "Device set to use cuda:1                                                                                                            | 8/300 [00:01<00:38,  7.58it/s]\n",
      "Device set to use cuda:1                                                                                                            | 9/300 [00:01<00:37,  7.80it/s]\n",
      "Device set to use cuda:1                                                                                                           | 10/300 [00:01<00:43,  6.74it/s]\n",
      "Device set to use cuda:1                                                                                                           | 11/300 [00:01<00:40,  7.17it/s]\n",
      "Device set to use cuda:1                                                                                                           | 12/300 [00:01<00:37,  7.66it/s]\n",
      "Device set to use cuda:1                                                                                                           | 13/300 [00:01<00:35,  8.05it/s]\n",
      "Device set to use cuda:1                                                                                                           | 14/300 [00:01<00:34,  8.36it/s]\n",
      "Device set to use cuda:1                                                                                                           | 15/300 [00:02<00:33,  8.57it/s]\n",
      "Device set to use cuda:1                                                                                                           | 16/300 [00:02<00:35,  8.02it/s]\n",
      "Device set to use cuda:1                                                                                                           | 17/300 [00:02<00:33,  8.35it/s]\n",
      "Device set to use cuda:1                                                                                                           | 18/300 [00:02<00:52,  5.39it/s]\n",
      "Device set to use cuda:1                                                                                                           | 19/300 [00:02<00:46,  6.05it/s]\n",
      "Device set to use cuda:1                                                                                                           | 20/300 [00:02<00:41,  6.68it/s]\n",
      "Device set to use cuda:1                                                                                                           | 21/300 [00:03<00:46,  5.97it/s]\n",
      "Device set to use cuda:1                                                                                                           | 22/300 [00:03<00:42,  6.60it/s]\n",
      "Device set to use cuda:1                                                                                                           | 23/300 [00:03<00:38,  7.28it/s]\n",
      "Device set to use cuda:1                                                                                                           | 24/300 [00:03<00:35,  7.84it/s]\n",
      "Device set to use cuda:1                                                                                                           | 25/300 [00:03<00:33,  8.29it/s]\n",
      "Device set to use cuda:1                                                                                                           | 26/300 [00:03<00:32,  8.44it/s]\n",
      "Device set to use cuda:1                                                                                                           | 27/300 [00:03<00:33,  8.17it/s]\n",
      "Device set to use cuda:1                                                                                                           | 28/300 [00:03<00:32,  8.27it/s]\n",
      "Device set to use cuda:1                                                                                                           | 29/300 [00:04<00:34,  7.96it/s]\n",
      "Device set to use cuda:1                                                                                                           | 30/300 [00:04<00:33,  8.17it/s]\n",
      "Device set to use cuda:1                                                                                                           | 31/300 [00:04<00:31,  8.51it/s]\n",
      "Device set to use cuda:1                                                                                                           | 32/300 [00:04<00:58,  4.57it/s]\n",
      "Device set to use cuda:1                                                                                                           | 33/300 [00:04<00:50,  5.33it/s]\n",
      "Device set to use cuda:1                                                                                                           | 34/300 [00:04<00:45,  5.80it/s]\n",
      "Device set to use cuda:1                                                                                                           | 35/300 [00:05<00:41,  6.41it/s]\n",
      "Device set to use cuda:1                                                                                                           | 36/300 [00:05<00:40,  6.57it/s]\n",
      "Device set to use cuda:1                                                                                                           | 37/300 [00:05<00:38,  6.79it/s]\n",
      "Device set to use cuda:1                                                                                                           | 38/300 [00:05<00:35,  7.31it/s]\n",
      "Device set to use cuda:1                                                                                                           | 39/300 [00:05<00:34,  7.50it/s]\n",
      "Device set to use cuda:1                                                                                                           | 40/300 [00:05<00:40,  6.46it/s]\n",
      "Device set to use cuda:1                                                                                                           | 41/300 [00:05<00:38,  6.65it/s]\n",
      "Device set to use cuda:1                                                                                                           | 42/300 [00:06<00:37,  6.91it/s]\n",
      "Device set to use cuda:1                                                                                                           | 43/300 [00:06<00:34,  7.50it/s]\n",
      "Device set to use cuda:1                                                                                                           | 44/300 [00:06<00:32,  7.84it/s]\n",
      "Device set to use cuda:1                                                                                                           | 45/300 [00:06<00:31,  8.11it/s]\n",
      "Device set to use cuda:1▎                                                                                                          | 46/300 [00:06<00:30,  8.24it/s]\n",
      "Device set to use cuda:1▋                                                                                                          | 47/300 [00:06<00:33,  7.46it/s]\n",
      "Device set to use cuda:1█▏                                                                                                         | 48/300 [00:06<00:31,  7.90it/s]\n",
      "Device set to use cuda:1█▌                                                                                                         | 49/300 [00:06<00:31,  8.01it/s]\n",
      "Device set to use cuda:1██                                                                                                         | 50/300 [00:07<00:40,  6.17it/s]\n",
      "Device set to use cuda:1██▍                                                                                                        | 51/300 [00:07<00:36,  6.77it/s]\n",
      "Device set to use cuda:1██▊                                                                                                        | 52/300 [00:07<00:41,  5.94it/s]\n",
      "Device set to use cuda:1███▎                                                                                                       | 53/300 [00:07<00:37,  6.62it/s]\n",
      "Device set to use cuda:1███▋                                                                                                       | 54/300 [00:07<00:35,  6.95it/s]\n",
      "Device set to use cuda:1████                                                                                                       | 55/300 [00:07<00:32,  7.45it/s]\n",
      "Device set to use cuda:1████▌                                                                                                      | 56/300 [00:08<00:43,  5.57it/s]\n",
      "Device set to use cuda:1████▉                                                                                                      | 57/300 [00:08<00:38,  6.35it/s]\n",
      "Device set to use cuda:1█████▎                                                                                                     | 58/300 [00:08<00:36,  6.64it/s]\n",
      "Device set to use cuda:1█████▊                                                                                                     | 59/300 [00:08<00:33,  7.26it/s]\n",
      "Device set to use cuda:1██████▏                                                                                                    | 60/300 [00:08<00:30,  7.78it/s]\n",
      "Device set to use cuda:1██████▌                                                                                                    | 61/300 [00:08<00:32,  7.40it/s]\n",
      "Device set to use cuda:1███████                                                                                                    | 62/300 [00:08<00:30,  7.89it/s]\n",
      "Device set to use cuda:1███████▍                                                                                                   | 63/300 [00:09<00:38,  6.24it/s]\n",
      "Device set to use cuda:1███████▉                                                                                                   | 64/300 [00:09<00:36,  6.55it/s]\n",
      "Device set to use cuda:1████████▎                                                                                                  | 65/300 [00:09<00:34,  6.78it/s]\n",
      "Device set to use cuda:1████████▋                                                                                                  | 66/300 [00:09<00:31,  7.37it/s]\n",
      "Device set to use cuda:1█████████▏                                                                                                 | 67/300 [00:09<00:31,  7.46it/s]\n",
      "Device set to use cuda:1█████████▌                                                                                                 | 68/300 [00:09<00:29,  7.95it/s]\n",
      "Device set to use cuda:1█████████▉                                                                                                 | 69/300 [00:09<00:31,  7.31it/s]\n",
      "Device set to use cuda:1██████████▍                                                                                                | 70/300 [00:09<00:29,  7.81it/s]\n",
      "Device set to use cuda:1██████████▊                                                                                                | 71/300 [00:10<00:28,  8.15it/s]\n",
      "Device set to use cuda:1███████████▏                                                                                               | 72/300 [00:10<00:28,  8.05it/s]\n",
      "Device set to use cuda:1███████████▋                                                                                               | 73/300 [00:10<00:27,  8.29it/s]\n",
      "Device set to use cuda:1████████████                                                                                               | 74/300 [00:10<00:30,  7.33it/s]\n",
      "Device set to use cuda:1████████████▌                                                                                              | 75/300 [00:10<00:28,  7.79it/s]\n",
      "Device set to use cuda:1████████████▉                                                                                              | 76/300 [00:10<00:29,  7.60it/s]\n",
      "Device set to use cuda:1█████████████▎                                                                                             | 77/300 [00:10<00:28,  7.80it/s]\n",
      "Device set to use cuda:1█████████████▊                                                                                             | 78/300 [00:10<00:27,  8.15it/s]\n",
      "Device set to use cuda:1██████████████▏                                                                                            | 79/300 [00:11<00:29,  7.55it/s]\n",
      "Device set to use cuda:1██████████████▌                                                                                            | 80/300 [00:11<00:30,  7.18it/s]\n",
      "Device set to use cuda:1███████████████                                                                                            | 81/300 [00:11<00:28,  7.64it/s]\n",
      "Device set to use cuda:1███████████████▍                                                                                           | 82/300 [00:11<00:28,  7.74it/s]\n",
      "Device set to use cuda:1███████████████▊                                                                                           | 83/300 [00:11<00:26,  8.15it/s]\n",
      "Device set to use cuda:1████████████████▎                                                                                          | 84/300 [00:11<00:26,  8.20it/s]\n",
      "Device set to use cuda:1████████████████▋                                                                                          | 85/300 [00:11<00:26,  7.96it/s]\n",
      "Device set to use cuda:1█████████████████                                                                                          | 86/300 [00:11<00:27,  7.73it/s]\n",
      "Device set to use cuda:1█████████████████▌                                                                                         | 87/300 [00:12<00:26,  8.05it/s]\n",
      "Device set to use cuda:1█████████████████▉                                                                                         | 88/300 [00:12<00:26,  7.96it/s]\n",
      "Device set to use cuda:1██████████████████▍                                                                                        | 89/300 [00:12<00:47,  4.42it/s]\n",
      "Device set to use cuda:1██████████████████▊                                                                                        | 90/300 [00:12<00:41,  5.01it/s]\n",
      "Device set to use cuda:1███████████████████▏                                                                                       | 91/300 [00:12<00:35,  5.85it/s]\n",
      "Device set to use cuda:1███████████████████▋                                                                                       | 92/300 [00:13<00:34,  6.11it/s]\n",
      "Device set to use cuda:1████████████████████                                                                                       | 93/300 [00:13<00:32,  6.32it/s]\n",
      "Device set to use cuda:1████████████████████▍                                                                                      | 94/300 [00:13<00:29,  7.04it/s]\n",
      "Device set to use cuda:1████████████████████▉                                                                                      | 95/300 [00:13<00:31,  6.46it/s]\n",
      "Device set to use cuda:1█████████████████████▎                                                                                     | 96/300 [00:13<00:30,  6.78it/s]\n",
      "Device set to use cuda:1█████████████████████▋                                                                                     | 97/300 [00:13<00:27,  7.44it/s]\n",
      "Device set to use cuda:1██████████████████████▏                                                                                    | 98/300 [00:13<00:25,  7.99it/s]\n",
      "Device set to use cuda:1██████████████████████▌                                                                                    | 99/300 [00:13<00:24,  8.16it/s]\n",
      "Device set to use cuda:1██████████████████████▋                                                                                   | 100/300 [00:14<00:23,  8.56it/s]\n",
      "Device set to use cuda:1███████████████████████                                                                                   | 101/300 [00:14<00:32,  6.20it/s]\n",
      "Device set to use cuda:1███████████████████████▌                                                                                  | 102/300 [00:14<00:28,  6.95it/s]\n",
      "Device set to use cuda:1███████████████████████▉                                                                                  | 103/300 [00:14<00:26,  7.54it/s]\n",
      "Device set to use cuda:1████████████████████████▎                                                                                 | 104/300 [00:14<00:30,  6.52it/s]\n",
      "Device set to use cuda:1████████████████████████▊                                                                                 | 105/300 [00:14<00:27,  7.20it/s]\n",
      "Device set to use cuda:1█████████████████████████▏                                                                                | 106/300 [00:14<00:25,  7.71it/s]\n",
      "Device set to use cuda:1█████████████████████████▌                                                                                | 107/300 [00:15<00:26,  7.37it/s]\n",
      "Device set to use cuda:1██████████████████████████                                                                                | 108/300 [00:15<00:24,  7.86it/s]\n",
      "Device set to use cuda:1██████████████████████████▍                                                                               | 109/300 [00:15<00:23,  8.25it/s]\n",
      "Device set to use cuda:1██████████████████████████▊                                                                               | 110/300 [00:15<00:24,  7.71it/s]\n",
      "Device set to use cuda:1███████████████████████████▎                                                                              | 111/300 [00:15<00:29,  6.44it/s]\n",
      "Device set to use cuda:1███████████████████████████▋                                                                              | 112/300 [00:15<00:28,  6.70it/s]\n",
      "Device set to use cuda:1████████████████████████████                                                                              | 113/300 [00:16<00:30,  6.13it/s]\n",
      "Device set to use cuda:1████████████████████████████▌                                                                             | 114/300 [00:16<00:38,  4.78it/s]\n",
      "Device set to use cuda:1████████████████████████████▉                                                                             | 115/300 [00:16<00:35,  5.22it/s]\n",
      "Device set to use cuda:1█████████████████████████████▎                                                                            | 116/300 [00:16<00:36,  5.01it/s]\n",
      "Device set to use cuda:1█████████████████████████████▊                                                                            | 117/300 [00:16<00:33,  5.40it/s]\n",
      "Device set to use cuda:1██████████████████████████████▏                                                                           | 118/300 [00:16<00:30,  5.94it/s]\n",
      "Device set to use cuda:1██████████████████████████████▌                                                                           | 119/300 [00:17<00:27,  6.55it/s]\n",
      "Device set to use cuda:1███████████████████████████████                                                                           | 120/300 [00:17<00:29,  6.03it/s]\n",
      "Device set to use cuda:1███████████████████████████████▍                                                                          | 121/300 [00:17<00:27,  6.57it/s]\n",
      "Device set to use cuda:1███████████████████████████████▊                                                                          | 122/300 [00:17<00:25,  7.07it/s]\n",
      "Device set to use cuda:1████████████████████████████████▎                                                                         | 123/300 [00:17<00:25,  7.05it/s]\n",
      "Device set to use cuda:1████████████████████████████████▋                                                                         | 124/300 [00:17<00:25,  6.92it/s]\n",
      "Device set to use cuda:1█████████████████████████████████                                                                         | 125/300 [00:17<00:25,  6.83it/s]\n",
      "Device set to use cuda:1█████████████████████████████████▌                                                                        | 126/300 [00:18<00:25,  6.89it/s]\n",
      "Device set to use cuda:1█████████████████████████████████▉                                                                        | 127/300 [00:18<00:24,  6.99it/s]\n",
      "Device set to use cuda:1██████████████████████████████████▎                                                                       | 128/300 [00:18<00:22,  7.54it/s]\n",
      "Device set to use cuda:1██████████████████████████████████▊                                                                       | 129/300 [00:18<00:21,  7.95it/s]\n",
      "Device set to use cuda:1███████████████████████████████████▏                                                                      | 130/300 [00:18<00:20,  8.25it/s]\n",
      "Device set to use cuda:1███████████████████████████████████▌                                                                      | 131/300 [00:18<00:19,  8.47it/s]\n",
      "Device set to use cuda:1████████████████████████████████████                                                                      | 132/300 [00:18<00:19,  8.44it/s]\n",
      "Device set to use cuda:1████████████████████████████████████▍                                                                     | 133/300 [00:18<00:20,  7.99it/s]\n",
      "Device set to use cuda:1████████████████████████████████████▊                                                                     | 134/300 [00:19<00:20,  8.27it/s]\n",
      "Device set to use cuda:1█████████████████████████████████████▎                                                                    | 135/300 [00:19<00:20,  8.02it/s]\n",
      "Device set to use cuda:1█████████████████████████████████████▋                                                                    | 136/300 [00:19<00:19,  8.30it/s]\n",
      "Device set to use cuda:1██████████████████████████████████████                                                                    | 137/300 [00:19<00:18,  8.58it/s]\n",
      "Device set to use cuda:1██████████████████████████████████████▌                                                                   | 138/300 [00:19<00:18,  8.71it/s]\n",
      "Device set to use cuda:1██████████████████████████████████████▉                                                                   | 139/300 [00:19<00:32,  4.95it/s]\n",
      "Device set to use cuda:1███████████████████████████████████████▎                                                                  | 140/300 [00:20<00:28,  5.54it/s]\n",
      "Device set to use cuda:1███████████████████████████████████████▊                                                                  | 141/300 [00:20<00:25,  6.30it/s]\n",
      "Device set to use cuda:1████████████████████████████████████████▏                                                                 | 142/300 [00:20<00:23,  6.72it/s]\n",
      "Device set to use cuda:1████████████████████████████████████████▌                                                                 | 143/300 [00:20<00:23,  6.65it/s]\n",
      "Device set to use cuda:1█████████████████████████████████████████                                                                 | 144/300 [00:20<00:25,  6.01it/s]\n",
      "Device set to use cuda:1█████████████████████████████████████████▍                                                                | 145/300 [00:20<00:23,  6.50it/s]\n",
      "Device set to use cuda:1█████████████████████████████████████████▊                                                                | 146/300 [00:20<00:21,  7.12it/s]\n",
      "Device set to use cuda:1██████████████████████████████████████████▎                                                               | 147/300 [00:21<00:20,  7.35it/s]\n",
      "Device set to use cuda:1██████████████████████████████████████████▋                                                               | 148/300 [00:21<00:20,  7.26it/s]\n",
      "Device set to use cuda:1███████████████████████████████████████████                                                               | 149/300 [00:21<00:19,  7.75it/s]\n",
      "Device set to use cuda:1███████████████████████████████████████████▌                                                              | 150/300 [00:21<00:18,  7.99it/s]\n",
      "Device set to use cuda:1███████████████████████████████████████████▉                                                              | 151/300 [00:21<00:19,  7.81it/s]\n",
      "Device set to use cuda:1████████████████████████████████████████████▎                                                             | 152/300 [00:21<00:18,  7.96it/s]\n",
      "Device set to use cuda:1████████████████████████████████████████████▊                                                             | 153/300 [00:21<00:17,  8.32it/s]\n",
      "Device set to use cuda:1█████████████████████████████████████████████▏                                                            | 154/300 [00:21<00:17,  8.32it/s]\n",
      "Device set to use cuda:1█████████████████████████████████████████████▌                                                            | 155/300 [00:22<00:17,  8.11it/s]\n",
      "Device set to use cuda:1██████████████████████████████████████████████                                                            | 156/300 [00:22<00:17,  8.05it/s]\n",
      "Device set to use cuda:1██████████████████████████████████████████████▍                                                           | 157/300 [00:22<00:18,  7.93it/s]\n",
      "Device set to use cuda:1██████████████████████████████████████████████▊                                                           | 158/300 [00:22<00:17,  8.00it/s]\n",
      "Device set to use cuda:1███████████████████████████████████████████████▎                                                          | 159/300 [00:22<00:18,  7.46it/s]\n",
      "Device set to use cuda:1███████████████████████████████████████████████▋                                                          | 160/300 [00:22<00:17,  7.86it/s]\n",
      "Device set to use cuda:1████████████████████████████████████████████████                                                          | 161/300 [00:22<00:18,  7.66it/s]\n",
      "Device set to use cuda:1████████████████████████████████████████████████▌                                                         | 162/300 [00:22<00:17,  8.10it/s]\n",
      "Device set to use cuda:1████████████████████████████████████████████████▉                                                         | 163/300 [00:23<00:18,  7.49it/s]\n",
      "Device set to use cuda:1█████████████████████████████████████████████████▎                                                        | 164/300 [00:23<00:18,  7.37it/s]\n",
      "Device set to use cuda:1█████████████████████████████████████████████████▊                                                        | 165/300 [00:23<00:17,  7.77it/s]\n",
      "Device set to use cuda:1██████████████████████████████████████████████████▏                                                       | 166/300 [00:23<00:17,  7.74it/s]\n",
      "Device set to use cuda:1██████████████████████████████████████████████████▌                                                       | 167/300 [00:23<00:17,  7.55it/s]\n",
      "Device set to use cuda:1███████████████████████████████████████████████████                                                       | 168/300 [00:23<00:16,  7.94it/s]\n",
      "Device set to use cuda:1███████████████████████████████████████████████████▍                                                      | 169/300 [00:23<00:15,  8.27it/s]\n",
      "Device set to use cuda:1███████████████████████████████████████████████████▊                                                      | 170/300 [00:23<00:15,  8.22it/s]\n",
      "Device set to use cuda:1████████████████████████████████████████████████████▎                                                     | 171/300 [00:24<00:15,  8.47it/s]\n",
      "Device set to use cuda:1████████████████████████████████████████████████████▋                                                     | 172/300 [00:24<00:14,  8.65it/s]\n",
      "Device set to use cuda:1█████████████████████████████████████████████████████                                                     | 173/300 [00:24<00:16,  7.85it/s]\n",
      "Device set to use cuda:1█████████████████████████████████████████████████████▌                                                    | 174/300 [00:24<00:15,  8.18it/s]\n",
      "Device set to use cuda:1█████████████████████████████████████████████████████▉                                                    | 175/300 [00:24<00:22,  5.57it/s]\n",
      "Device set to use cuda:1██████████████████████████████████████████████████████▎                                                   | 176/300 [00:24<00:20,  6.17it/s]\n",
      "Device set to use cuda:1██████████████████████████████████████████████████████▊                                                   | 177/300 [00:24<00:17,  6.88it/s]\n",
      "Device set to use cuda:1███████████████████████████████████████████████████████▏                                                  | 178/300 [00:25<00:16,  7.23it/s]\n",
      "Device set to use cuda:1███████████████████████████████████████████████████████▌                                                  | 179/300 [00:25<00:18,  6.44it/s]\n",
      "Device set to use cuda:1████████████████████████████████████████████████████████                                                  | 180/300 [00:25<00:17,  6.67it/s]\n",
      "Device set to use cuda:1████████████████████████████████████████████████████████▍                                                 | 181/300 [00:25<00:20,  5.85it/s]\n",
      "Device set to use cuda:1████████████████████████████████████████████████████████▊                                                 | 182/300 [00:25<00:24,  4.72it/s]\n",
      "Device set to use cuda:1█████████████████████████████████████████████████████████▎                                                | 183/300 [00:26<00:25,  4.63it/s]\n",
      "Device set to use cuda:1█████████████████████████████████████████████████████████▋                                                | 184/300 [00:26<00:22,  5.24it/s]\n",
      "Device set to use cuda:1██████████████████████████████████████████████████████████                                                | 185/300 [00:26<00:20,  5.66it/s]\n",
      "Device set to use cuda:1██████████████████████████████████████████████████████████▌                                               | 186/300 [00:26<00:18,  6.28it/s]\n",
      "Device set to use cuda:1██████████████████████████████████████████████████████████▉                                               | 187/300 [00:26<00:16,  6.94it/s]\n",
      "Device set to use cuda:1███████████████████████████████████████████████████████████▎                                              | 188/300 [00:26<00:15,  7.27it/s]\n",
      "Device set to use cuda:1███████████████████████████████████████████████████████████▊                                              | 189/300 [00:26<00:14,  7.78it/s]\n",
      "Device set to use cuda:1████████████████████████████████████████████████████████████▏                                             | 190/300 [00:27<00:13,  7.96it/s]\n",
      "Device set to use cuda:1████████████████████████████████████████████████████████████▌                                             | 191/300 [00:27<00:13,  8.24it/s]\n",
      "Device set to use cuda:1█████████████████████████████████████████████████████████████                                             | 192/300 [00:27<00:13,  7.86it/s]\n",
      "Device set to use cuda:1█████████████████████████████████████████████████████████████▍                                            | 193/300 [00:27<00:13,  7.69it/s]\n",
      "Device set to use cuda:1█████████████████████████████████████████████████████████████▊                                            | 194/300 [00:27<00:14,  7.41it/s]\n",
      "Device set to use cuda:1██████████████████████████████████████████████████████████████▎                                           | 195/300 [00:27<00:13,  7.78it/s]\n",
      "Device set to use cuda:1██████████████████████████████████████████████████████████████▋                                           | 196/300 [00:27<00:16,  6.39it/s]\n",
      "Device set to use cuda:1███████████████████████████████████████████████████████████████                                           | 197/300 [00:27<00:14,  6.99it/s]\n",
      "Device set to use cuda:1███████████████████████████████████████████████████████████████▌                                          | 198/300 [00:28<00:13,  7.53it/s]\n",
      "Device set to use cuda:1███████████████████████████████████████████████████████████████▉                                          | 199/300 [00:28<00:13,  7.74it/s]\n",
      "Device set to use cuda:1████████████████████████████████████████████████████████████████▎                                         | 200/300 [00:28<00:13,  7.30it/s]\n",
      "Device set to use cuda:1████████████████████████████████████████████████████████████████▊                                         | 201/300 [00:28<00:13,  7.28it/s]\n",
      "Device set to use cuda:1█████████████████████████████████████████████████████████████████▏                                        | 202/300 [00:28<00:12,  7.77it/s]\n",
      "Device set to use cuda:1█████████████████████████████████████████████████████████████████▌                                        | 203/300 [00:28<00:11,  8.12it/s]\n",
      "Device set to use cuda:1██████████████████████████████████████████████████████████████████                                        | 204/300 [00:28<00:11,  8.39it/s]\n",
      "Device set to use cuda:1██████████████████████████████████████████████████████████████████▍                                       | 205/300 [00:28<00:11,  8.38it/s]\n",
      "Device set to use cuda:1██████████████████████████████████████████████████████████████████▊                                       | 206/300 [00:29<00:13,  6.95it/s]\n",
      "Device set to use cuda:1███████████████████████████████████████████████████████████████████▎                                      | 207/300 [00:29<00:12,  7.49it/s]\n",
      "Device set to use cuda:1███████████████████████████████████████████████████████████████████▋                                      | 208/300 [00:29<00:12,  7.29it/s]\n",
      "Device set to use cuda:1████████████████████████████████████████████████████████████████████                                      | 209/300 [00:29<00:11,  7.75it/s]\n",
      "Device set to use cuda:1████████████████████████████████████████████████████████████████████▌                                     | 210/300 [00:29<00:12,  7.31it/s]\n",
      "Device set to use cuda:1████████████████████████████████████████████████████████████████████▉                                     | 211/300 [00:29<00:11,  7.77it/s]\n",
      "Device set to use cuda:1█████████████████████████████████████████████████████████████████████▎                                    | 212/300 [00:29<00:10,  8.14it/s]\n",
      "Device set to use cuda:1█████████████████████████████████████████████████████████████████████▊                                    | 213/300 [00:30<00:10,  8.37it/s]\n",
      "Device set to use cuda:1██████████████████████████████████████████████████████████████████████▏                                   | 214/300 [00:30<00:10,  8.36it/s]\n",
      "Device set to use cuda:1██████████████████████████████████████████████████████████████████████▌                                   | 215/300 [00:30<00:10,  7.98it/s]\n",
      "Device set to use cuda:1███████████████████████████████████████████████████████████████████████                                   | 216/300 [00:30<00:10,  7.76it/s]\n",
      "Device set to use cuda:1███████████████████████████████████████████████████████████████████████▍                                  | 217/300 [00:30<00:10,  8.11it/s]\n",
      "Device set to use cuda:1███████████████████████████████████████████████████████████████████████▊                                  | 218/300 [00:30<00:10,  7.63it/s]\n",
      "Device set to use cuda:1████████████████████████████████████████████████████████████████████████▎                                 | 219/300 [00:30<00:10,  8.02it/s]\n",
      "Device set to use cuda:1████████████████████████████████████████████████████████████████████████▋                                 | 220/300 [00:30<00:09,  8.05it/s]\n",
      "Device set to use cuda:1█████████████████████████████████████████████████████████████████████████                                 | 221/300 [00:31<00:10,  7.89it/s]\n",
      "Device set to use cuda:1█████████████████████████████████████████████████████████████████████████▌                                | 222/300 [00:31<00:10,  7.71it/s]\n",
      "Device set to use cuda:1█████████████████████████████████████████████████████████████████████████▉                                | 223/300 [00:31<00:09,  8.06it/s]\n",
      "Device set to use cuda:1██████████████████████████████████████████████████████████████████████████▎                               | 224/300 [00:31<00:09,  8.11it/s]\n",
      "Device set to use cuda:1██████████████████████████████████████████████████████████████████████████▊                               | 225/300 [00:31<00:11,  6.78it/s]\n",
      "Device set to use cuda:1███████████████████████████████████████████████████████████████████████████▏                              | 226/300 [00:31<00:10,  7.34it/s]\n",
      "Device set to use cuda:1███████████████████████████████████████████████████████████████████████████▌                              | 227/300 [00:31<00:11,  6.49it/s]\n",
      "Device set to use cuda:1████████████████████████████████████████████████████████████████████████████                              | 228/300 [00:32<00:10,  7.16it/s]\n",
      "Device set to use cuda:1████████████████████████████████████████████████████████████████████████████▍                             | 229/300 [00:32<00:09,  7.68it/s]\n",
      "Device set to use cuda:1████████████████████████████████████████████████████████████████████████████▊                             | 230/300 [00:32<00:08,  7.93it/s]\n",
      "Device set to use cuda:1█████████████████████████████████████████████████████████████████████████████▎                            | 231/300 [00:32<00:08,  7.73it/s]\n",
      "Device set to use cuda:1█████████████████████████████████████████████████████████████████████████████▋                            | 232/300 [00:32<00:08,  8.17it/s]\n",
      "Device set to use cuda:1██████████████████████████████████████████████████████████████████████████████                            | 233/300 [00:32<00:07,  8.46it/s]\n",
      "Device set to use cuda:1██████████████████████████████████████████████████████████████████████████████▌                           | 234/300 [00:32<00:08,  7.63it/s]\n",
      "Device set to use cuda:1██████████████████████████████████████████████████████████████████████████████▉                           | 235/300 [00:32<00:08,  8.07it/s]\n",
      "Device set to use cuda:1███████████████████████████████████████████████████████████████████████████████▎                          | 236/300 [00:32<00:07,  8.41it/s]\n",
      "Device set to use cuda:1███████████████████████████████████████████████████████████████████████████████▊                          | 237/300 [00:33<00:08,  7.82it/s]\n",
      "Device set to use cuda:1████████████████████████████████████████████████████████████████████████████████▏                         | 238/300 [00:33<00:07,  8.16it/s]\n",
      "Device set to use cuda:1████████████████████████████████████████████████████████████████████████████████▌                         | 239/300 [00:33<00:08,  6.93it/s]\n",
      "Device set to use cuda:1█████████████████████████████████████████████████████████████████████████████████                         | 240/300 [00:33<00:07,  7.53it/s]\n",
      "Device set to use cuda:1█████████████████████████████████████████████████████████████████████████████████▍                        | 241/300 [00:33<00:08,  7.35it/s]\n",
      "Device set to use cuda:1█████████████████████████████████████████████████████████████████████████████████▊                        | 242/300 [00:33<00:07,  7.84it/s]\n",
      "Device set to use cuda:1██████████████████████████████████████████████████████████████████████████████████▎                       | 243/300 [00:33<00:07,  7.43it/s]\n",
      "Device set to use cuda:1██████████████████████████████████████████████████████████████████████████████████▋                       | 244/300 [00:34<00:07,  7.64it/s]\n",
      "Device set to use cuda:1███████████████████████████████████████████████████████████████████████████████████                       | 245/300 [00:34<00:07,  7.47it/s]\n",
      "Device set to use cuda:1███████████████████████████████████████████████████████████████████████████████████▌                      | 246/300 [00:34<00:07,  7.41it/s]\n",
      "Device set to use cuda:1███████████████████████████████████████████████████████████████████████████████████▉                      | 247/300 [00:34<00:07,  6.66it/s]\n",
      "Device set to use cuda:1████████████████████████████████████████████████████████████████████████████████████▎                     | 248/300 [00:34<00:07,  7.31it/s]\n",
      "Device set to use cuda:1████████████████████████████████████████████████████████████████████████████████████▊                     | 249/300 [00:34<00:06,  7.31it/s]\n",
      "Device set to use cuda:1█████████████████████████████████████████████████████████████████████████████████████▏                    | 250/300 [00:34<00:06,  7.83it/s]\n",
      "Device set to use cuda:1█████████████████████████████████████████████████████████████████████████████████████▌                    | 251/300 [00:34<00:05,  8.27it/s]\n",
      "Device set to use cuda:1██████████████████████████████████████████████████████████████████████████████████████                    | 252/300 [00:35<00:06,  7.87it/s]\n",
      "Device set to use cuda:1██████████████████████████████████████████████████████████████████████████████████████▍                   | 253/300 [00:35<00:06,  7.45it/s]\n",
      "Device set to use cuda:1██████████████████████████████████████████████████████████████████████████████████████▊                   | 254/300 [00:35<00:07,  6.45it/s]\n",
      "Device set to use cuda:1███████████████████████████████████████████████████████████████████████████████████████▎                  | 255/300 [00:35<00:07,  5.91it/s]\n",
      "Device set to use cuda:1███████████████████████████████████████████████████████████████████████████████████████▋                  | 256/300 [00:35<00:06,  6.61it/s]\n",
      "Device set to use cuda:1████████████████████████████████████████████████████████████████████████████████████████                  | 257/300 [00:35<00:07,  6.02it/s]\n",
      "Device set to use cuda:1████████████████████████████████████████████████████████████████████████████████████████▌                 | 258/300 [00:36<00:06,  6.72it/s]\n",
      "Device set to use cuda:1████████████████████████████████████████████████████████████████████████████████████████▉                 | 259/300 [00:36<00:05,  7.33it/s]\n",
      "Device set to use cuda:1█████████████████████████████████████████████████████████████████████████████████████████▎                | 260/300 [00:36<00:06,  6.25it/s]\n",
      "Device set to use cuda:1█████████████████████████████████████████████████████████████████████████████████████████▊                | 261/300 [00:36<00:05,  6.75it/s]\n",
      "Device set to use cuda:1██████████████████████████████████████████████████████████████████████████████████████████▏               | 262/300 [00:36<00:05,  7.29it/s]\n",
      "Device set to use cuda:1██████████████████████████████████████████████████████████████████████████████████████████▌               | 263/300 [00:36<00:06,  5.97it/s]\n",
      "Device set to use cuda:1███████████████████████████████████████████████████████████████████████████████████████████               | 264/300 [00:36<00:05,  6.69it/s]\n",
      "Device set to use cuda:1███████████████████████████████████████████████████████████████████████████████████████████▍              | 265/300 [00:37<00:04,  7.09it/s]\n",
      "Device set to use cuda:1███████████████████████████████████████████████████████████████████████████████████████████▊              | 266/300 [00:37<00:05,  6.31it/s]\n",
      "Device set to use cuda:1████████████████████████████████████████████████████████████████████████████████████████████▎             | 267/300 [00:37<00:05,  5.73it/s]\n",
      "Device set to use cuda:1████████████████████████████████████████████████████████████████████████████████████████████▋             | 268/300 [00:37<00:04,  6.45it/s]\n",
      "Device set to use cuda:1█████████████████████████████████████████████████████████████████████████████████████████████             | 269/300 [00:37<00:04,  6.70it/s]\n",
      "Device set to use cuda:1█████████████████████████████████████████████████████████████████████████████████████████████▌            | 270/300 [00:37<00:04,  6.70it/s]\n",
      "Device set to use cuda:1█████████████████████████████████████████████████████████████████████████████████████████████▉            | 271/300 [00:38<00:04,  7.18it/s]\n",
      "Device set to use cuda:1██████████████████████████████████████████████████████████████████████████████████████████████▎           | 272/300 [00:38<00:03,  7.70it/s]\n",
      "Device set to use cuda:1██████████████████████████████████████████████████████████████████████████████████████████████▊           | 273/300 [00:38<00:03,  7.43it/s]\n",
      "Device set to use cuda:1███████████████████████████████████████████████████████████████████████████████████████████████▏          | 274/300 [00:38<00:03,  7.87it/s]\n",
      "Device set to use cuda:1███████████████████████████████████████████████████████████████████████████████████████████████▌          | 275/300 [00:38<00:03,  8.21it/s]\n",
      "Device set to use cuda:1████████████████████████████████████████████████████████████████████████████████████████████████          | 276/300 [00:38<00:03,  7.85it/s]\n",
      "Device set to use cuda:1████████████████████████████████████████████████████████████████████████████████████████████████▍         | 277/300 [00:38<00:02,  8.20it/s]\n",
      "Device set to use cuda:1████████████████████████████████████████████████████████████████████████████████████████████████▊         | 278/300 [00:38<00:02,  8.22it/s]\n",
      "Device set to use cuda:1█████████████████████████████████████████████████████████████████████████████████████████████████▎        | 279/300 [00:39<00:03,  6.61it/s]\n",
      "Device set to use cuda:1█████████████████████████████████████████████████████████████████████████████████████████████████▋        | 280/300 [00:39<00:02,  7.20it/s]\n",
      "Device set to use cuda:1██████████████████████████████████████████████████████████████████████████████████████████████████        | 281/300 [00:39<00:02,  7.66it/s]\n",
      "Device set to use cuda:1██████████████████████████████████████████████████████████████████████████████████████████████████▌       | 282/300 [00:39<00:02,  8.09it/s]\n",
      "Device set to use cuda:1██████████████████████████████████████████████████████████████████████████████████████████████████▉       | 283/300 [00:39<00:02,  7.70it/s]\n",
      "Device set to use cuda:1███████████████████████████████████████████████████████████████████████████████████████████████████▎      | 284/300 [00:39<00:02,  7.54it/s]\n",
      "Device set to use cuda:1███████████████████████████████████████████████████████████████████████████████████████████████████▊      | 285/300 [00:39<00:01,  7.96it/s]\n",
      "Device set to use cuda:1████████████████████████████████████████████████████████████████████████████████████████████████████▏     | 286/300 [00:39<00:01,  7.69it/s]\n",
      "Device set to use cuda:1████████████████████████████████████████████████████████████████████████████████████████████████████▌     | 287/300 [00:40<00:01,  7.62it/s]\n",
      "Device set to use cuda:1█████████████████████████████████████████████████████████████████████████████████████████████████████     | 288/300 [00:40<00:01,  7.71it/s]\n",
      "Device set to use cuda:1█████████████████████████████████████████████████████████████████████████████████████████████████████▍    | 289/300 [00:40<00:03,  3.61it/s]\n",
      "Device set to use cuda:1█████████████████████████████████████████████████████████████████████████████████████████████████████▊    | 290/300 [00:40<00:02,  4.31it/s]\n",
      "Device set to use cuda:1██████████████████████████████████████████████████████████████████████████████████████████████████████▎   | 291/300 [00:41<00:01,  5.01it/s]\n",
      "Device set to use cuda:1██████████████████████████████████████████████████████████████████████████████████████████████████████▋   | 292/300 [00:41<00:01,  5.59it/s]\n",
      "Device set to use cuda:1███████████████████████████████████████████████████████████████████████████████████████████████████████   | 293/300 [00:41<00:01,  6.38it/s]\n",
      "Device set to use cuda:1███████████████████████████████████████████████████████████████████████████████████████████████████████▌  | 294/300 [00:41<00:00,  6.97it/s]\n",
      "Device set to use cuda:1███████████████████████████████████████████████████████████████████████████████████████████████████████▉  | 295/300 [00:41<00:00,  7.59it/s]\n",
      "Device set to use cuda:1████████████████████████████████████████████████████████████████████████████████████████████████████████▎ | 296/300 [00:41<00:00,  8.11it/s]\n",
      "Device set to use cuda:1████████████████████████████████████████████████████████████████████████████████████████████████████████▊ | 297/300 [00:41<00:00,  8.33it/s]\n",
      "Device set to use cuda:1█████████████████████████████████████████████████████████████████████████████████████████████████████████▏| 298/300 [00:41<00:00,  8.66it/s]\n",
      "Device set to use cuda:1█████████████████████████████████████████████████████████████████████████████████████████████████████████▌| 299/300 [00:42<00:00,  7.28it/s]\n",
      "100%|█████████████████████████████████████████████████████████████████████████████████████████████████████████████████████████████| 300/300 [00:42<00:00,  7.10it/s]\n"
     ]
    }
   ],
   "source": [
    "def predict(test, model, tokenizer):\n",
    "    y_pred = []\n",
    "    categories = [\"Normal\", \"Depression\", \"Anxiety\", \"Bipolar\"]\n",
    "    \n",
    "    for i in tqdm(range(len(test))):\n",
    "        prompt = test.iloc[i][\"text\"]\n",
    "        pipe = pipeline(task=\"text-generation\", \n",
    "                        model=model, \n",
    "                        tokenizer=tokenizer, \n",
    "                        max_new_tokens=2, \n",
    "                        temperature=0.1)\n",
    "        \n",
    "        result = pipe(prompt)\n",
    "        answer = result[0]['generated_text'].split(\"label:\")[-1].strip()\n",
    "        \n",
    "        # Determine the predicted category\n",
    "        for category in categories:\n",
    "            if category.lower() in answer.lower():\n",
    "                y_pred.append(category)\n",
    "                break\n",
    "        else:\n",
    "            y_pred.append(\"none\")\n",
    "    \n",
    "    return y_pred\n",
    "\n",
    "y_pred = predict(X_test, model, tokenizer)"
   ]
  },
  {
   "cell_type": "code",
   "execution_count": 12,
   "id": "32657786-dfc5-456d-9c3c-85ceeeb437c5",
   "metadata": {},
   "outputs": [
    {
     "name": "stdout",
     "output_type": "stream",
     "text": [
      "Accuracy: 0.787\n",
      "Accuracy for label Normal: 0.748\n",
      "Accuracy for label Depression: 0.930\n",
      "Accuracy for label Anxiety: 0.519\n",
      "Accuracy for label Bipolar: 0.533\n",
      "\n",
      "Classification Report:\n",
      "              precision    recall  f1-score   support\n",
      "\n",
      "      Normal       0.91      0.75      0.82       143\n",
      "  Depression       0.70      0.93      0.80       115\n",
      "     Anxiety       0.67      0.52      0.58        27\n",
      "     Bipolar       0.89      0.53      0.67        15\n",
      "\n",
      "    accuracy                           0.79       300\n",
      "   macro avg       0.79      0.68      0.72       300\n",
      "weighted avg       0.81      0.79      0.78       300\n",
      "\n",
      "\n",
      "Confusion Matrix:\n",
      "[[107  32   4   0]\n",
      " [  4 107   3   1]\n",
      " [  4   9  14   0]\n",
      " [  2   5   0   8]]\n"
     ]
    }
   ],
   "source": [
    "def evaluate(y_true, y_pred):\n",
    "    labels = [\"Normal\", \"Depression\", \"Anxiety\", \"Bipolar\"]\n",
    "    mapping = {label: idx for idx, label in enumerate(labels)}\n",
    "    \n",
    "    def map_func(x):\n",
    "        return mapping.get(x, -1)  # Map to -1 if not found, but should not occur with correct data\n",
    "    \n",
    "    y_true_mapped = np.vectorize(map_func)(y_true)\n",
    "    y_pred_mapped = np.vectorize(map_func)(y_pred)\n",
    "    \n",
    "    # Calculate accuracy\n",
    "    accuracy = accuracy_score(y_true=y_true_mapped, y_pred=y_pred_mapped)\n",
    "    print(f'Accuracy: {accuracy:.3f}')\n",
    "    \n",
    "    # Generate accuracy report\n",
    "    unique_labels = set(y_true_mapped)  # Get unique labels\n",
    "    \n",
    "    for label in unique_labels:\n",
    "        label_indices = [i for i in range(len(y_true_mapped)) if y_true_mapped[i] == label]\n",
    "        label_y_true = [y_true_mapped[i] for i in label_indices]\n",
    "        label_y_pred = [y_pred_mapped[i] for i in label_indices]\n",
    "        label_accuracy = accuracy_score(label_y_true, label_y_pred)\n",
    "        print(f'Accuracy for label {labels[label]}: {label_accuracy:.3f}')\n",
    "        \n",
    "    # Generate classification report\n",
    "    class_report = classification_report(y_true=y_true_mapped, y_pred=y_pred_mapped, target_names=labels, labels=list(range(len(labels))))\n",
    "    print('\\nClassification Report:')\n",
    "    print(class_report)\n",
    "    \n",
    "    # Generate confusion matrix\n",
    "    conf_matrix = confusion_matrix(y_true=y_true_mapped, y_pred=y_pred_mapped, labels=list(range(len(labels))))\n",
    "    print('\\nConfusion Matrix:')\n",
    "    print(conf_matrix)\n",
    "\n",
    "evaluate(y_true, y_pred)"
   ]
  },
  {
   "cell_type": "code",
   "execution_count": 13,
   "id": "0df00f34-0c66-4082-bb09-adb097d9d552",
   "metadata": {},
   "outputs": [
    {
     "data": {
      "text/plain": [
       "['k_proj', 'gate_proj', 'v_proj', 'up_proj', 'o_proj', 'down_proj', 'q_proj']"
      ]
     },
     "execution_count": 13,
     "metadata": {},
     "output_type": "execute_result"
    }
   ],
   "source": [
    "import bitsandbytes as bnb\n",
    "\n",
    "def find_all_linear_names(model):\n",
    "    cls = bnb.nn.Linear4bit\n",
    "    lora_module_names = set()\n",
    "    for name, module in model.named_modules():\n",
    "        if isinstance(module, cls):\n",
    "            names = name.split('.')\n",
    "            lora_module_names.add(names[0] if len(names) == 1 else names[-1])\n",
    "    if 'lm_head' in lora_module_names:  # needed for 16 bit\n",
    "        lora_module_names.remove('lm_head')\n",
    "    return list(lora_module_names)\n",
    "modules = find_all_linear_names(model)\n",
    "modules"
   ]
  },
  {
   "cell_type": "code",
   "execution_count": 18,
   "id": "e906925b-959a-444d-8ec3-573c4c85ca38",
   "metadata": {},
   "outputs": [
    {
     "name": "stderr",
     "output_type": "stream",
     "text": [
      "/tmp/ipykernel_1594856/3070610419.py:34: FutureWarning: `tokenizer` is deprecated and removed starting from version 0.16.0 for `SFTTrainer.__init__`. Use `processing_class` instead.\n",
      "  trainer = SFTTrainer(\n"
     ]
    },
    {
     "data": {
      "application/vnd.jupyter.widget-view+json": {
       "model_id": "cbe6edced39144c6ac7a9805e64d240d",
       "version_major": 2,
       "version_minor": 0
      },
      "text/plain": [
       "Converting train dataset to ChatML:   0%|          | 0/2400 [00:00<?, ? examples/s]"
      ]
     },
     "metadata": {},
     "output_type": "display_data"
    },
    {
     "data": {
      "application/vnd.jupyter.widget-view+json": {
       "model_id": "dea2d4f6607c4625bf664bd9c28e417f",
       "version_major": 2,
       "version_minor": 0
      },
      "text/plain": [
       "Applying chat template to train dataset:   0%|          | 0/2400 [00:00<?, ? examples/s]"
      ]
     },
     "metadata": {},
     "output_type": "display_data"
    },
    {
     "data": {
      "application/vnd.jupyter.widget-view+json": {
       "model_id": "6390d39cd70e4d0ba71236f940873d93",
       "version_major": 2,
       "version_minor": 0
      },
      "text/plain": [
       "Tokenizing train dataset:   0%|          | 0/2400 [00:00<?, ? examples/s]"
      ]
     },
     "metadata": {},
     "output_type": "display_data"
    },
    {
     "data": {
      "application/vnd.jupyter.widget-view+json": {
       "model_id": "5e9f73dcc34f4bb4bfebc3f3dbd9b594",
       "version_major": 2,
       "version_minor": 0
      },
      "text/plain": [
       "Truncating train dataset:   0%|          | 0/2400 [00:00<?, ? examples/s]"
      ]
     },
     "metadata": {},
     "output_type": "display_data"
    },
    {
     "data": {
      "application/vnd.jupyter.widget-view+json": {
       "model_id": "a689e069995640bcbed0ad3c3f0c4298",
       "version_major": 2,
       "version_minor": 0
      },
      "text/plain": [
       "Converting eval dataset to ChatML:   0%|          | 0/300 [00:00<?, ? examples/s]"
      ]
     },
     "metadata": {},
     "output_type": "display_data"
    },
    {
     "data": {
      "application/vnd.jupyter.widget-view+json": {
       "model_id": "86ae0dde70854ab8bc60abf4b6cb539a",
       "version_major": 2,
       "version_minor": 0
      },
      "text/plain": [
       "Applying chat template to eval dataset:   0%|          | 0/300 [00:00<?, ? examples/s]"
      ]
     },
     "metadata": {},
     "output_type": "display_data"
    },
    {
     "data": {
      "application/vnd.jupyter.widget-view+json": {
       "model_id": "73e2cfc16ccd4d60b02720c1aa8efcb9",
       "version_major": 2,
       "version_minor": 0
      },
      "text/plain": [
       "Tokenizing eval dataset:   0%|          | 0/300 [00:00<?, ? examples/s]"
      ]
     },
     "metadata": {},
     "output_type": "display_data"
    },
    {
     "data": {
      "application/vnd.jupyter.widget-view+json": {
       "model_id": "929d01d73bbb45158d57d4a6824aefcb",
       "version_major": 2,
       "version_minor": 0
      },
      "text/plain": [
       "Truncating eval dataset:   0%|          | 0/300 [00:00<?, ? examples/s]"
      ]
     },
     "metadata": {},
     "output_type": "display_data"
    },
    {
     "name": "stderr",
     "output_type": "stream",
     "text": [
      "No label_names provided for model class `PeftModelForCausalLM`. Since `PeftModel` hides base models input arguments, if label_names is not given, label_names can't be set automatically within `Trainer`. Note that empty label_names list will be used instead.\n"
     ]
    }
   ],
   "source": [
    "output_dir=\"llama-3.1-fine-tuned-model\"\n",
    "\n",
    "peft_config = LoraConfig(\n",
    "    lora_alpha=16,\n",
    "    lora_dropout=0,\n",
    "    r=64,\n",
    "    bias=\"none\",\n",
    "    task_type=\"CAUSAL_LM\",\n",
    "    target_modules=modules,\n",
    ")\n",
    "\n",
    "training_arguments = TrainingArguments(\n",
    "    output_dir=output_dir,                    # directory to save and repository id\n",
    "    num_train_epochs=1,                       # number of training epochs\n",
    "    per_device_train_batch_size=1,            # batch size per device during training\n",
    "    gradient_accumulation_steps=8,            # number of steps before performing a backward/update pass\n",
    "    gradient_checkpointing=True,              # use gradient checkpointing to save memory\n",
    "    optim=\"paged_adamw_32bit\",\n",
    "    logging_steps=1,                         \n",
    "    learning_rate=2e-4,                       # learning rate, based on QLoRA paper\n",
    "    weight_decay=0.001,\n",
    "    fp16=True,\n",
    "    bf16=False,\n",
    "    max_grad_norm=0.3,                        # max gradient norm based on QLoRA paper\n",
    "    max_steps=-1,\n",
    "    warmup_ratio=0.03,                        # warmup ratio based on QLoRA paper\n",
    "    group_by_length=False,\n",
    "    lr_scheduler_type=\"cosine\",               # use cosine learning rate scheduler\n",
    "    report_to=\"wandb\",                  # report metrics to w&b\n",
    "    eval_strategy=\"steps\",              # save checkpoint every epoch\n",
    "    eval_steps = 0.2\n",
    ")\n",
    "\n",
    "trainer = SFTTrainer(\n",
    "    model=model,\n",
    "    args=training_arguments,\n",
    "    train_dataset=train_data,\n",
    "    eval_dataset=eval_data,\n",
    "    peft_config=peft_config,\n",
    "    #dataset_text_field=\"text\",\n",
    "    tokenizer=tokenizer,\n",
    "    #max_seq_length=512,\n",
    "    #packing=False,\n",
    "    #dataset_kwargs={\n",
    "    #\"add_special_tokens\": False,\n",
    "    #\"append_concat_token\": False,\n",
    "    #}\n",
    ")"
   ]
  },
  {
   "cell_type": "code",
   "execution_count": 19,
   "id": "eb504575-5284-45da-bd0d-35f29b762897",
   "metadata": {},
   "outputs": [
    {
     "name": "stderr",
     "output_type": "stream",
     "text": [
      "\u001b[34m\u001b[1mwandb\u001b[0m: \u001b[33mWARNING\u001b[0m The `run_name` is currently set to the same value as `TrainingArguments.output_dir`. If this was not intended, please specify a different run name by setting the `TrainingArguments.run_name` parameter.\n"
     ]
    },
    {
     "data": {
      "text/html": [
       "\n",
       "    <div>\n",
       "      \n",
       "      <progress value='300' max='300' style='width:300px; height:20px; vertical-align: middle;'></progress>\n",
       "      [300/300 22:41, Epoch 1/1]\n",
       "    </div>\n",
       "    <table border=\"1\" class=\"dataframe\">\n",
       "  <thead>\n",
       " <tr style=\"text-align: left;\">\n",
       "      <th>Step</th>\n",
       "      <th>Training Loss</th>\n",
       "      <th>Validation Loss</th>\n",
       "    </tr>\n",
       "  </thead>\n",
       "  <tbody>\n",
       "    <tr>\n",
       "      <td>60</td>\n",
       "      <td>1.850400</td>\n",
       "      <td>2.154059</td>\n",
       "    </tr>\n",
       "    <tr>\n",
       "      <td>120</td>\n",
       "      <td>2.154800</td>\n",
       "      <td>2.131257</td>\n",
       "    </tr>\n",
       "    <tr>\n",
       "      <td>180</td>\n",
       "      <td>1.735800</td>\n",
       "      <td>2.115781</td>\n",
       "    </tr>\n",
       "    <tr>\n",
       "      <td>240</td>\n",
       "      <td>2.037800</td>\n",
       "      <td>2.107870</td>\n",
       "    </tr>\n",
       "    <tr>\n",
       "      <td>300</td>\n",
       "      <td>2.230100</td>\n",
       "      <td>2.104931</td>\n",
       "    </tr>\n",
       "  </tbody>\n",
       "</table><p>"
      ],
      "text/plain": [
       "<IPython.core.display.HTML object>"
      ]
     },
     "metadata": {},
     "output_type": "display_data"
    },
    {
     "name": "stderr",
     "output_type": "stream",
     "text": [
      "/home/kotech/venv-llama/lib/python3.11/site-packages/peft/utils/other.py:716: UserWarning: Unable to fetch remote file due to the following error 403 Client Error. (Request ID: Root=1-67d7d440-30418a875bfd512d512878bd;d32e6d6e-f9af-498d-93de-21ab32965782)\n",
      "\n",
      "Cannot access gated repo for url https://huggingface.co/meta-llama/Meta-Llama-3.1-8B-Instruct/resolve/main/config.json.\n",
      "Access to model meta-llama/Llama-3.1-8B-Instruct is restricted and you are not in the authorized list. Visit https://huggingface.co/meta-llama/Llama-3.1-8B-Instruct to ask for access. - silently ignoring the lookup for the file config.json in meta-llama/Meta-Llama-3.1-8B-Instruct.\n",
      "  warnings.warn(\n",
      "/home/kotech/venv-llama/lib/python3.11/site-packages/peft/utils/save_and_load.py:246: UserWarning: Could not find a config file in meta-llama/Meta-Llama-3.1-8B-Instruct - will assume that the vocabulary was not modified.\n",
      "  warnings.warn(\n"
     ]
    },
    {
     "data": {
      "text/plain": [
       "TrainOutput(global_step=300, training_loss=2.182258568207423, metrics={'train_runtime': 1365.8223, 'train_samples_per_second': 1.757, 'train_steps_per_second': 0.22, 'total_flos': 1.6079931622514688e+16, 'train_loss': 2.182258568207423})"
      ]
     },
     "execution_count": 19,
     "metadata": {},
     "output_type": "execute_result"
    }
   ],
   "source": [
    "trainer.train()"
   ]
  },
  {
   "cell_type": "code",
   "execution_count": 20,
   "id": "2b99a477-c2dd-49c6-8fb0-112cce1b87cb",
   "metadata": {},
   "outputs": [
    {
     "data": {
      "text/html": [],
      "text/plain": [
       "<IPython.core.display.HTML object>"
      ]
     },
     "metadata": {},
     "output_type": "display_data"
    },
    {
     "data": {
      "text/html": [
       "<br>    <style><br>        .wandb-row {<br>            display: flex;<br>            flex-direction: row;<br>            flex-wrap: wrap;<br>            justify-content: flex-start;<br>            width: 100%;<br>        }<br>        .wandb-col {<br>            display: flex;<br>            flex-direction: column;<br>            flex-basis: 100%;<br>            flex: 1;<br>            padding: 10px;<br>        }<br>    </style><br><div class=\"wandb-row\"><div class=\"wandb-col\"><h3>Run history:</h3><br/><table class=\"wandb\"><tr><td>eval/loss</td><td>█▅▃▁▁</td></tr><tr><td>eval/mean_token_accuracy</td><td>▁▄▇██</td></tr><tr><td>eval/runtime</td><td>▂▃▁▆█</td></tr><tr><td>eval/samples_per_second</td><td>▇▆█▃▁</td></tr><tr><td>eval/steps_per_second</td><td>████▁</td></tr><tr><td>train/epoch</td><td>▁▁▂▂▂▂▂▂▂▂▂▃▃▃▃▃▄▄▄▄▄▅▅▅▅▅▆▆▆▆▆▆▆▇▇█████</td></tr><tr><td>train/global_step</td><td>▁▁▂▂▂▂▂▂▂▂▃▃▃▃▃▃▃▄▄▄▄▄▄▄▄▅▅▅▅▆▆▆▆▆▇▇▇▇██</td></tr><tr><td>train/grad_norm</td><td>▃█▂▄▄▃▄▃▅▅▂▂▃▃▂▃▃▂▃▄▂▄▃▃▃▂▂▂▃▄▁▁▃▁▄▁▂▂▃▃</td></tr><tr><td>train/learning_rate</td><td>▃█████████▇▇▇▇▇▆▆▅▅▅▄▄▄▃▃▃▃▃▂▂▂▂▂▂▂▁▁▁▁▁</td></tr><tr><td>train/loss</td><td>██▆▄▄▃▄▃▄▆▅▄▅▆▁▅▅▃▄▄▄▃▄▃▅▄▄▆▄▄▄▃▃▄▅▅▄▃▂▂</td></tr><tr><td>train/mean_token_accuracy</td><td>▁▁▆▆▇▆▆▇▅▇▇▅▇▆▇▇▅▅▆▆██▆▅▆▆▆▆▇▄▅▇▆▅▆█▇▅▇▇</td></tr></table><br/></div><div class=\"wandb-col\"><h3>Run summary:</h3><br/><table class=\"wandb\"><tr><td>eval/loss</td><td>2.10493</td></tr><tr><td>eval/mean_token_accuracy</td><td>0.55353</td></tr><tr><td>eval/runtime</td><td>50.6463</td></tr><tr><td>eval/samples_per_second</td><td>5.923</td></tr><tr><td>eval/steps_per_second</td><td>0.75</td></tr><tr><td>total_flos</td><td>1.6079931622514688e+16</td></tr><tr><td>train/epoch</td><td>1</td></tr><tr><td>train/global_step</td><td>300</td></tr><tr><td>train/grad_norm</td><td>0.18428</td></tr><tr><td>train/learning_rate</td><td>0</td></tr><tr><td>train/loss</td><td>2.2301</td></tr><tr><td>train/mean_token_accuracy</td><td>0.65435</td></tr><tr><td>train_loss</td><td>2.18226</td></tr><tr><td>train_runtime</td><td>1365.8223</td></tr><tr><td>train_samples_per_second</td><td>1.757</td></tr><tr><td>train_steps_per_second</td><td>0.22</td></tr></table><br/></div></div>"
      ],
      "text/plain": [
       "<IPython.core.display.HTML object>"
      ]
     },
     "metadata": {},
     "output_type": "display_data"
    },
    {
     "data": {
      "text/html": [
       " View run <strong style=\"color:#cdcd00\">firm-wave-2</strong> at: <a href='https://wandb.ai/sdfsdfrr/Fine-tune%20llama-3.1-8b-it%20on%20Sentiment%20Analysis%20Dataset/runs/c1657a2f?apiKey=94b610266af9d355ab7795d056f1a028fe9e629f' target=\"_blank\">https://wandb.ai/sdfsdfrr/Fine-tune%20llama-3.1-8b-it%20on%20Sentiment%20Analysis%20Dataset/runs/c1657a2f?apiKey=94b610266af9d355ab7795d056f1a028fe9e629f</a><br> View project at: <a href='https://wandb.ai/sdfsdfrr/Fine-tune%20llama-3.1-8b-it%20on%20Sentiment%20Analysis%20Dataset?apiKey=94b610266af9d355ab7795d056f1a028fe9e629f' target=\"_blank\">https://wandb.ai/sdfsdfrr/Fine-tune%20llama-3.1-8b-it%20on%20Sentiment%20Analysis%20Dataset?apiKey=94b610266af9d355ab7795d056f1a028fe9e629f</a><br>Synced 5 W&B file(s), 0 media file(s), 0 artifact file(s) and 0 other file(s)"
      ],
      "text/plain": [
       "<IPython.core.display.HTML object>"
      ]
     },
     "metadata": {},
     "output_type": "display_data"
    },
    {
     "data": {
      "text/html": [
       "Find logs at: <code>./wandb/run-20250317_162436-c1657a2f/logs</code>"
      ],
      "text/plain": [
       "<IPython.core.display.HTML object>"
      ]
     },
     "metadata": {},
     "output_type": "display_data"
    }
   ],
   "source": [
    "wandb.finish()\n",
    "model.config.use_cache = True"
   ]
  },
  {
   "cell_type": "code",
   "execution_count": 21,
   "id": "46f2b49e-e7a7-4dc5-bbee-b9fecb99bf96",
   "metadata": {},
   "outputs": [
    {
     "name": "stderr",
     "output_type": "stream",
     "text": [
      "/home/kotech/venv-llama/lib/python3.11/site-packages/peft/utils/other.py:716: UserWarning: Unable to fetch remote file due to the following error 403 Client Error. (Request ID: Root=1-67d7d66c-243edde35eb5cc8858ef015c;630a1f83-6331-4159-9307-14439bb6bfa3)\n",
      "\n",
      "Cannot access gated repo for url https://huggingface.co/meta-llama/Meta-Llama-3.1-8B-Instruct/resolve/main/config.json.\n",
      "Access to model meta-llama/Llama-3.1-8B-Instruct is restricted and you are not in the authorized list. Visit https://huggingface.co/meta-llama/Llama-3.1-8B-Instruct to ask for access. - silently ignoring the lookup for the file config.json in meta-llama/Meta-Llama-3.1-8B-Instruct.\n",
      "  warnings.warn(\n",
      "/home/kotech/venv-llama/lib/python3.11/site-packages/peft/utils/save_and_load.py:246: UserWarning: Could not find a config file in meta-llama/Meta-Llama-3.1-8B-Instruct - will assume that the vocabulary was not modified.\n",
      "  warnings.warn(\n"
     ]
    },
    {
     "data": {
      "text/plain": [
       "('llama-3.1-fine-tuned-model/tokenizer_config.json',\n",
       " 'llama-3.1-fine-tuned-model/special_tokens_map.json',\n",
       " 'llama-3.1-fine-tuned-model/tokenizer.json')"
      ]
     },
     "execution_count": 21,
     "metadata": {},
     "output_type": "execute_result"
    }
   ],
   "source": [
    "# Save trained model and tokenizer\n",
    "trainer.save_model(output_dir)\n",
    "tokenizer.save_pretrained(output_dir)"
   ]
  },
  {
   "cell_type": "code",
   "execution_count": 22,
   "id": "debdb642-b4f8-4f21-9693-f0f9d93ba928",
   "metadata": {},
   "outputs": [
    {
     "name": "stderr",
     "output_type": "stream",
     "text": [
      "Device set to use cuda:1                                                                                                                    | 0/300 [00:00<?, ?it/s]\n",
      "Device set to use cuda:1                                                                                                            | 1/300 [00:00<01:17,  3.88it/s]\n",
      "Device set to use cuda:1                                                                                                            | 2/300 [00:00<01:01,  4.87it/s]\n",
      "Device set to use cuda:1                                                                                                            | 3/300 [00:00<00:56,  5.30it/s]\n",
      "Device set to use cuda:1                                                                                                            | 4/300 [00:00<00:53,  5.57it/s]\n",
      "Device set to use cuda:1                                                                                                            | 5/300 [00:00<00:55,  5.34it/s]\n",
      "Device set to use cuda:1                                                                                                            | 6/300 [00:01<00:53,  5.54it/s]\n",
      "Device set to use cuda:1                                                                                                            | 7/300 [00:01<00:52,  5.62it/s]\n",
      "Device set to use cuda:1                                                                                                            | 8/300 [00:01<00:50,  5.74it/s]\n",
      "Device set to use cuda:1                                                                                                            | 9/300 [00:01<00:52,  5.53it/s]\n",
      "Device set to use cuda:1                                                                                                           | 10/300 [00:01<01:00,  4.80it/s]\n",
      "Device set to use cuda:1                                                                                                           | 11/300 [00:02<00:56,  5.07it/s]\n",
      "Device set to use cuda:1                                                                                                           | 12/300 [00:02<00:54,  5.31it/s]\n",
      "Device set to use cuda:1                                                                                                           | 13/300 [00:02<00:52,  5.50it/s]\n",
      "Device set to use cuda:1                                                                                                           | 14/300 [00:02<00:52,  5.45it/s]\n",
      "Device set to use cuda:1                                                                                                           | 15/300 [00:02<00:50,  5.62it/s]\n",
      "Device set to use cuda:1                                                                                                           | 16/300 [00:02<00:52,  5.43it/s]\n",
      "Device set to use cuda:1                                                                                                           | 17/300 [00:03<00:52,  5.41it/s]\n",
      "Device set to use cuda:1                                                                                                           | 18/300 [00:03<01:19,  3.55it/s]\n",
      "Device set to use cuda:1                                                                                                           | 19/300 [00:03<01:11,  3.91it/s]\n",
      "Device set to use cuda:1                                                                                                           | 20/300 [00:04<01:04,  4.35it/s]\n",
      "Device set to use cuda:1                                                                                                           | 21/300 [00:04<01:10,  3.95it/s]\n",
      "Device set to use cuda:1                                                                                                           | 22/300 [00:04<01:06,  4.15it/s]\n",
      "Device set to use cuda:1                                                                                                           | 23/300 [00:04<01:00,  4.56it/s]\n",
      "Device set to use cuda:1                                                                                                           | 24/300 [00:04<00:56,  4.91it/s]\n",
      "Device set to use cuda:1                                                                                                           | 25/300 [00:05<00:52,  5.19it/s]\n",
      "Device set to use cuda:1                                                                                                           | 26/300 [00:05<00:50,  5.38it/s]\n",
      "Device set to use cuda:1                                                                                                           | 27/300 [00:05<00:49,  5.54it/s]\n",
      "Device set to use cuda:1                                                                                                           | 28/300 [00:05<00:48,  5.64it/s]\n",
      "Device set to use cuda:1                                                                                                           | 29/300 [00:05<00:47,  5.74it/s]\n",
      "Device set to use cuda:1                                                                                                           | 30/300 [00:05<00:46,  5.81it/s]\n",
      "Device set to use cuda:1                                                                                                           | 31/300 [00:06<00:46,  5.85it/s]\n",
      "Device set to use cuda:1                                                                                                           | 32/300 [00:06<01:26,  3.09it/s]\n",
      "Device set to use cuda:1                                                                                                           | 33/300 [00:06<01:14,  3.61it/s]\n",
      "Device set to use cuda:1                                                                                                           | 34/300 [00:07<01:05,  4.08it/s]\n",
      "Device set to use cuda:1                                                                                                           | 35/300 [00:07<01:03,  4.19it/s]\n",
      "Device set to use cuda:1                                                                                                           | 36/300 [00:07<01:00,  4.39it/s]\n",
      "Device set to use cuda:1                                                                                                           | 37/300 [00:07<00:56,  4.62it/s]\n",
      "Device set to use cuda:1                                                                                                           | 38/300 [00:07<00:54,  4.79it/s]\n",
      "Device set to use cuda:1                                                                                                           | 39/300 [00:08<00:52,  4.99it/s]\n",
      "Device set to use cuda:1                                                                                                           | 40/300 [00:08<01:00,  4.33it/s]\n",
      "Device set to use cuda:1                                                                                                           | 41/300 [00:08<00:56,  4.60it/s]\n",
      "Device set to use cuda:1                                                                                                           | 42/300 [00:08<00:52,  4.92it/s]\n",
      "Device set to use cuda:1                                                                                                           | 43/300 [00:08<00:49,  5.19it/s]\n",
      "Device set to use cuda:1                                                                                                           | 44/300 [00:09<00:47,  5.36it/s]\n",
      "Device set to use cuda:1                                                                                                           | 45/300 [00:09<00:46,  5.44it/s]\n",
      "Device set to use cuda:1▎                                                                                                          | 46/300 [00:09<00:46,  5.52it/s]\n",
      "Device set to use cuda:1▋                                                                                                          | 47/300 [00:09<00:49,  5.15it/s]\n",
      "Device set to use cuda:1█▏                                                                                                         | 48/300 [00:09<00:46,  5.37it/s]\n",
      "Device set to use cuda:1█▌                                                                                                         | 49/300 [00:10<00:48,  5.14it/s]\n",
      "Device set to use cuda:1██                                                                                                         | 50/300 [00:10<01:01,  4.05it/s]\n",
      "Device set to use cuda:1██▍                                                                                                        | 51/300 [00:10<00:55,  4.48it/s]\n",
      "Device set to use cuda:1██▊                                                                                                        | 52/300 [00:10<01:01,  4.06it/s]\n",
      "Device set to use cuda:1███▎                                                                                                       | 53/300 [00:11<00:55,  4.48it/s]\n",
      "Device set to use cuda:1███▋                                                                                                       | 54/300 [00:11<00:52,  4.68it/s]\n",
      "Device set to use cuda:1████                                                                                                       | 55/300 [00:11<00:50,  4.83it/s]\n",
      "Device set to use cuda:1████▌                                                                                                      | 56/300 [00:11<01:03,  3.81it/s]\n",
      "Device set to use cuda:1████▉                                                                                                      | 57/300 [00:11<00:56,  4.28it/s]\n",
      "Device set to use cuda:1█████▎                                                                                                     | 58/300 [00:12<00:51,  4.66it/s]\n",
      "Device set to use cuda:1█████▊                                                                                                     | 59/300 [00:12<00:48,  4.98it/s]\n",
      "Device set to use cuda:1██████▏                                                                                                    | 60/300 [00:12<00:45,  5.24it/s]\n",
      "Device set to use cuda:1██████▌                                                                                                    | 61/300 [00:12<00:46,  5.09it/s]\n",
      "Device set to use cuda:1███████                                                                                                    | 62/300 [00:12<00:44,  5.32it/s]\n",
      "Device set to use cuda:1███████▍                                                                                                   | 63/300 [00:13<00:56,  4.22it/s]\n",
      "Device set to use cuda:1███████▉                                                                                                   | 64/300 [00:13<00:52,  4.49it/s]\n",
      "Device set to use cuda:1████████▎                                                                                                  | 65/300 [00:13<00:48,  4.80it/s]\n",
      "Device set to use cuda:1████████▋                                                                                                  | 66/300 [00:13<00:45,  5.10it/s]\n",
      "Device set to use cuda:1█████████▏                                                                                                 | 67/300 [00:13<00:43,  5.34it/s]\n",
      "Device set to use cuda:1█████████▌                                                                                                 | 68/300 [00:14<00:42,  5.50it/s]\n",
      "Device set to use cuda:1█████████▉                                                                                                 | 69/300 [00:14<00:44,  5.21it/s]\n",
      "Device set to use cuda:1██████████▍                                                                                                | 70/300 [00:14<00:42,  5.42it/s]\n",
      "Device set to use cuda:1██████████▊                                                                                                | 71/300 [00:14<00:41,  5.56it/s]\n",
      "Device set to use cuda:1███████████▏                                                                                               | 72/300 [00:14<00:42,  5.41it/s]\n",
      "Device set to use cuda:1███████████▋                                                                                               | 73/300 [00:15<00:40,  5.57it/s]\n",
      "Device set to use cuda:1████████████                                                                                               | 74/300 [00:15<00:43,  5.18it/s]\n",
      "Device set to use cuda:1████████████▌                                                                                              | 75/300 [00:15<00:41,  5.37it/s]\n",
      "Device set to use cuda:1████████████▉                                                                                              | 76/300 [00:15<00:40,  5.48it/s]\n",
      "Device set to use cuda:1█████████████▎                                                                                             | 77/300 [00:15<00:39,  5.60it/s]\n",
      "Device set to use cuda:1█████████████▊                                                                                             | 78/300 [00:15<00:41,  5.39it/s]\n",
      "Device set to use cuda:1██████████████▏                                                                                            | 79/300 [00:16<00:43,  5.07it/s]\n",
      "Device set to use cuda:1██████████████▌                                                                                            | 80/300 [00:16<00:44,  4.90it/s]\n",
      "Device set to use cuda:1███████████████                                                                                            | 81/300 [00:16<00:42,  5.16it/s]\n",
      "Device set to use cuda:1███████████████▍                                                                                           | 82/300 [00:16<00:41,  5.28it/s]\n",
      "Device set to use cuda:1███████████████▊                                                                                           | 83/300 [00:16<00:39,  5.47it/s]\n",
      "Device set to use cuda:1████████████████▎                                                                                          | 84/300 [00:17<00:38,  5.59it/s]\n",
      "Device set to use cuda:1████████████████▋                                                                                          | 85/300 [00:17<00:37,  5.69it/s]\n",
      "Device set to use cuda:1█████████████████                                                                                          | 86/300 [00:17<00:37,  5.75it/s]\n",
      "Device set to use cuda:1█████████████████▌                                                                                         | 87/300 [00:17<00:39,  5.45it/s]\n",
      "Device set to use cuda:1█████████████████▉                                                                                         | 88/300 [00:17<00:38,  5.50it/s]\n",
      "Device set to use cuda:1██████████████████▍                                                                                        | 89/300 [00:18<01:08,  3.06it/s]\n",
      "Device set to use cuda:1██████████████████▊                                                                                        | 90/300 [00:18<01:00,  3.50it/s]\n",
      "Device set to use cuda:1███████████████████▏                                                                                       | 91/300 [00:18<00:52,  4.00it/s]\n",
      "Device set to use cuda:1███████████████████▋                                                                                       | 92/300 [00:19<00:49,  4.18it/s]\n",
      "Device set to use cuda:1████████████████████                                                                                       | 93/300 [00:19<00:48,  4.31it/s]\n",
      "Device set to use cuda:1████████████████████▍                                                                                      | 94/300 [00:19<00:44,  4.66it/s]\n",
      "Device set to use cuda:1████████████████████▉                                                                                      | 95/300 [00:19<00:46,  4.39it/s]\n",
      "Device set to use cuda:1█████████████████████▎                                                                                     | 96/300 [00:19<00:44,  4.60it/s]\n",
      "Device set to use cuda:1█████████████████████▋                                                                                     | 97/300 [00:20<00:43,  4.67it/s]\n",
      "Device set to use cuda:1██████████████████████▏                                                                                    | 98/300 [00:20<00:41,  4.86it/s]\n",
      "Device set to use cuda:1██████████████████████▌                                                                                    | 99/300 [00:20<00:39,  5.06it/s]\n",
      "Device set to use cuda:1██████████████████████▋                                                                                   | 100/300 [00:20<00:37,  5.29it/s]\n",
      "Device set to use cuda:1███████████████████████                                                                                   | 101/300 [00:21<00:51,  3.87it/s]\n",
      "Device set to use cuda:1███████████████████████▌                                                                                  | 102/300 [00:21<00:45,  4.33it/s]\n",
      "Device set to use cuda:1███████████████████████▉                                                                                  | 103/300 [00:21<00:41,  4.73it/s]\n",
      "Device set to use cuda:1████████████████████████▎                                                                                 | 104/300 [00:21<00:44,  4.38it/s]\n",
      "Device set to use cuda:1████████████████████████▊                                                                                 | 105/300 [00:21<00:42,  4.62it/s]\n",
      "Device set to use cuda:1█████████████████████████▏                                                                                | 106/300 [00:21<00:39,  4.95it/s]\n",
      "Device set to use cuda:1█████████████████████████▌                                                                                | 107/300 [00:22<00:39,  4.90it/s]\n",
      "Device set to use cuda:1██████████████████████████                                                                                | 108/300 [00:22<00:37,  5.17it/s]\n",
      "Device set to use cuda:1██████████████████████████▍                                                                               | 109/300 [00:22<00:35,  5.34it/s]\n",
      "Device set to use cuda:1██████████████████████████▊                                                                               | 110/300 [00:22<00:34,  5.50it/s]\n",
      "Device set to use cuda:1███████████████████████████▎                                                                              | 111/300 [00:23<00:41,  4.54it/s]\n",
      "Device set to use cuda:1███████████████████████████▋                                                                              | 112/300 [00:23<00:40,  4.70it/s]\n",
      "Device set to use cuda:1████████████████████████████                                                                              | 113/300 [00:23<00:42,  4.35it/s]\n",
      "Device set to use cuda:1████████████████████████████▌                                                                             | 114/300 [00:23<00:55,  3.37it/s]\n",
      "Device set to use cuda:1████████████████████████████▉                                                                             | 115/300 [00:24<00:49,  3.76it/s]\n",
      "Device set to use cuda:1█████████████████████████████▎                                                                            | 116/300 [00:24<00:51,  3.61it/s]\n",
      "Device set to use cuda:1█████████████████████████████▊                                                                            | 117/300 [00:24<00:47,  3.86it/s]\n",
      "Device set to use cuda:1██████████████████████████████▏                                                                           | 118/300 [00:24<00:42,  4.33it/s]\n",
      "Device set to use cuda:1██████████████████████████████▌                                                                           | 119/300 [00:24<00:38,  4.73it/s]\n",
      "Device set to use cuda:1███████████████████████████████                                                                           | 120/300 [00:25<00:41,  4.38it/s]\n",
      "Device set to use cuda:1███████████████████████████████▍                                                                          | 121/300 [00:25<00:37,  4.77it/s]\n",
      "Device set to use cuda:1███████████████████████████████▊                                                                          | 122/300 [00:25<00:35,  5.08it/s]\n",
      "Device set to use cuda:1████████████████████████████████▎                                                                         | 123/300 [00:25<00:35,  5.04it/s]\n",
      "Device set to use cuda:1████████████████████████████████▋                                                                         | 124/300 [00:26<00:36,  4.89it/s]\n",
      "Device set to use cuda:1█████████████████████████████████                                                                         | 125/300 [00:26<00:36,  4.83it/s]\n",
      "Device set to use cuda:1█████████████████████████████████▌                                                                        | 126/300 [00:26<00:35,  4.85it/s]\n",
      "Device set to use cuda:1█████████████████████████████████▉                                                                        | 127/300 [00:26<00:33,  5.15it/s]\n",
      "Device set to use cuda:1██████████████████████████████████▎                                                                       | 128/300 [00:26<00:31,  5.39it/s]\n",
      "Device set to use cuda:1██████████████████████████████████▊                                                                       | 129/300 [00:26<00:30,  5.55it/s]\n",
      "Device set to use cuda:1███████████████████████████████████▏                                                                      | 130/300 [00:27<00:29,  5.69it/s]\n",
      "Device set to use cuda:1███████████████████████████████████▌                                                                      | 131/300 [00:27<00:29,  5.78it/s]\n",
      "Device set to use cuda:1████████████████████████████████████                                                                      | 132/300 [00:27<00:29,  5.63it/s]\n",
      "Device set to use cuda:1████████████████████████████████████▍                                                                     | 133/300 [00:27<00:29,  5.74it/s]\n",
      "Device set to use cuda:1████████████████████████████████████▊                                                                     | 134/300 [00:27<00:28,  5.83it/s]\n",
      "Device set to use cuda:1█████████████████████████████████████▎                                                                    | 135/300 [00:27<00:28,  5.86it/s]\n",
      "Device set to use cuda:1█████████████████████████████████████▋                                                                    | 136/300 [00:28<00:27,  5.90it/s]\n",
      "Device set to use cuda:1██████████████████████████████████████                                                                    | 137/300 [00:28<00:27,  5.94it/s]\n",
      "Device set to use cuda:1██████████████████████████████████████▌                                                                   | 138/300 [00:28<00:27,  5.98it/s]\n",
      "Device set to use cuda:1██████████████████████████████████████▉                                                                   | 139/300 [00:29<00:48,  3.34it/s]\n",
      "Device set to use cuda:1███████████████████████████████████████▎                                                                  | 140/300 [00:29<00:41,  3.85it/s]\n",
      "Device set to use cuda:1███████████████████████████████████████▊                                                                  | 141/300 [00:29<00:37,  4.30it/s]\n",
      "Device set to use cuda:1████████████████████████████████████████▏                                                                 | 142/300 [00:29<00:35,  4.45it/s]\n",
      "Device set to use cuda:1████████████████████████████████████████▌                                                                 | 143/300 [00:29<00:34,  4.50it/s]\n",
      "Device set to use cuda:1█████████████████████████████████████████                                                                 | 144/300 [00:30<00:37,  4.20it/s]\n",
      "Device set to use cuda:1█████████████████████████████████████████▍                                                                | 145/300 [00:30<00:34,  4.46it/s]\n",
      "Device set to use cuda:1█████████████████████████████████████████▊                                                                | 146/300 [00:30<00:32,  4.73it/s]\n",
      "Device set to use cuda:1██████████████████████████████████████████▎                                                               | 147/300 [00:30<00:30,  5.03it/s]\n",
      "Device set to use cuda:1██████████████████████████████████████████▋                                                               | 148/300 [00:30<00:30,  5.05it/s]\n",
      "Device set to use cuda:1███████████████████████████████████████████                                                               | 149/300 [00:30<00:28,  5.32it/s]\n",
      "Device set to use cuda:1███████████████████████████████████████████▌                                                              | 150/300 [00:31<00:27,  5.49it/s]\n",
      "Device set to use cuda:1███████████████████████████████████████████▉                                                              | 151/300 [00:31<00:27,  5.40it/s]\n",
      "Device set to use cuda:1████████████████████████████████████████████▎                                                             | 152/300 [00:31<00:26,  5.56it/s]\n",
      "Device set to use cuda:1████████████████████████████████████████████▊                                                             | 153/300 [00:31<00:25,  5.69it/s]\n",
      "Device set to use cuda:1█████████████████████████████████████████████▏                                                            | 154/300 [00:31<00:25,  5.77it/s]\n",
      "Device set to use cuda:1█████████████████████████████████████████████▌                                                            | 155/300 [00:32<00:24,  5.86it/s]\n",
      "Device set to use cuda:1██████████████████████████████████████████████                                                            | 156/300 [00:32<00:24,  5.77it/s]\n",
      "Device set to use cuda:1██████████████████████████████████████████████▍                                                           | 157/300 [00:32<00:24,  5.80it/s]\n",
      "Device set to use cuda:1██████████████████████████████████████████████▊                                                           | 158/300 [00:32<00:24,  5.86it/s]\n",
      "Device set to use cuda:1███████████████████████████████████████████████▎                                                          | 159/300 [00:32<00:26,  5.41it/s]\n",
      "Device set to use cuda:1███████████████████████████████████████████████▋                                                          | 160/300 [00:32<00:25,  5.57it/s]\n",
      "Device set to use cuda:1████████████████████████████████████████████████                                                          | 161/300 [00:33<00:24,  5.68it/s]\n",
      "Device set to use cuda:1████████████████████████████████████████████████▌                                                         | 162/300 [00:33<00:25,  5.45it/s]\n",
      "Device set to use cuda:1████████████████████████████████████████████████▉                                                         | 163/300 [00:33<00:26,  5.10it/s]\n",
      "Device set to use cuda:1█████████████████████████████████████████████████▎                                                        | 164/300 [00:33<00:27,  5.01it/s]\n",
      "Device set to use cuda:1█████████████████████████████████████████████████▊                                                        | 165/300 [00:33<00:26,  5.15it/s]\n",
      "Device set to use cuda:1██████████████████████████████████████████████████▏                                                       | 166/300 [00:34<00:25,  5.23it/s]\n",
      "Device set to use cuda:1██████████████████████████████████████████████████▌                                                       | 167/300 [00:34<00:25,  5.28it/s]\n",
      "Device set to use cuda:1███████████████████████████████████████████████████                                                       | 168/300 [00:34<00:24,  5.39it/s]\n",
      "Device set to use cuda:1███████████████████████████████████████████████████▍                                                      | 169/300 [00:34<00:24,  5.43it/s]\n",
      "Device set to use cuda:1███████████████████████████████████████████████████▊                                                      | 170/300 [00:34<00:23,  5.58it/s]\n",
      "Device set to use cuda:1████████████████████████████████████████████████████▎                                                     | 171/300 [00:34<00:22,  5.70it/s]\n",
      "Device set to use cuda:1████████████████████████████████████████████████████▋                                                     | 172/300 [00:35<00:22,  5.77it/s]\n",
      "Device set to use cuda:1█████████████████████████████████████████████████████                                                     | 173/300 [00:35<00:23,  5.34it/s]\n",
      "Device set to use cuda:1█████████████████████████████████████████████████████▌                                                    | 174/300 [00:35<00:22,  5.50it/s]\n",
      "Device set to use cuda:1█████████████████████████████████████████████████████▉                                                    | 175/300 [00:35<00:33,  3.76it/s]\n",
      "Device set to use cuda:1██████████████████████████████████████████████████████▎                                                   | 176/300 [00:36<00:29,  4.20it/s]\n",
      "Device set to use cuda:1██████████████████████████████████████████████████████▊                                                   | 177/300 [00:36<00:26,  4.61it/s]\n",
      "Device set to use cuda:1███████████████████████████████████████████████████████▏                                                  | 178/300 [00:36<00:24,  4.91it/s]\n",
      "Device set to use cuda:1███████████████████████████████████████████████████████▌                                                  | 179/300 [00:36<00:26,  4.51it/s]\n",
      "Device set to use cuda:1████████████████████████████████████████████████████████                                                  | 180/300 [00:36<00:25,  4.68it/s]\n",
      "Device set to use cuda:1████████████████████████████████████████████████████████▍                                                 | 181/300 [00:37<00:28,  4.16it/s]\n",
      "Device set to use cuda:1████████████████████████████████████████████████████████▊                                                 | 182/300 [00:37<00:35,  3.33it/s]\n",
      "Device set to use cuda:1█████████████████████████████████████████████████████████▎                                                | 183/300 [00:38<00:35,  3.29it/s]\n",
      "Device set to use cuda:1█████████████████████████████████████████████████████████▋                                                | 184/300 [00:38<00:31,  3.71it/s]\n",
      "Device set to use cuda:1██████████████████████████████████████████████████████████                                                | 185/300 [00:38<00:28,  4.04it/s]\n",
      "Device set to use cuda:1██████████████████████████████████████████████████████████▌                                               | 186/300 [00:38<00:25,  4.47it/s]\n",
      "Device set to use cuda:1██████████████████████████████████████████████████████████▉                                               | 187/300 [00:38<00:23,  4.83it/s]\n",
      "Device set to use cuda:1███████████████████████████████████████████████████████████▎                                              | 188/300 [00:38<00:21,  5.09it/s]\n",
      "Device set to use cuda:1███████████████████████████████████████████████████████████▊                                              | 189/300 [00:39<00:20,  5.33it/s]\n",
      "Device set to use cuda:1████████████████████████████████████████████████████████████▏                                             | 190/300 [00:39<00:20,  5.49it/s]\n",
      "Device set to use cuda:1████████████████████████████████████████████████████████████▌                                             | 191/300 [00:39<00:19,  5.60it/s]\n",
      "Device set to use cuda:1█████████████████████████████████████████████████████████████                                             | 192/300 [00:39<00:19,  5.54it/s]\n",
      "Device set to use cuda:1█████████████████████████████████████████████████████████████▍                                            | 193/300 [00:39<00:19,  5.50it/s]\n",
      "Device set to use cuda:1█████████████████████████████████████████████████████████████▊                                            | 194/300 [00:39<00:20,  5.22it/s]\n",
      "Device set to use cuda:1██████████████████████████████████████████████████████████████▎                                           | 195/300 [00:40<00:19,  5.34it/s]\n",
      "Device set to use cuda:1██████████████████████████████████████████████████████████████▋                                           | 196/300 [00:40<00:23,  4.46it/s]\n",
      "Device set to use cuda:1███████████████████████████████████████████████████████████████                                           | 197/300 [00:40<00:21,  4.81it/s]\n",
      "Device set to use cuda:1███████████████████████████████████████████████████████████████▌                                          | 198/300 [00:40<00:19,  5.11it/s]\n",
      "Device set to use cuda:1███████████████████████████████████████████████████████████████▉                                          | 199/300 [00:40<00:18,  5.34it/s]\n",
      "Device set to use cuda:1████████████████████████████████████████████████████████████████▎                                         | 200/300 [00:41<00:19,  5.04it/s]\n",
      "Device set to use cuda:1████████████████████████████████████████████████████████████████▊                                         | 201/300 [00:41<00:18,  5.21it/s]\n",
      "Device set to use cuda:1█████████████████████████████████████████████████████████████████▏                                        | 202/300 [00:41<00:18,  5.34it/s]\n",
      "Device set to use cuda:1█████████████████████████████████████████████████████████████████▌                                        | 203/300 [00:41<00:17,  5.45it/s]\n",
      "Device set to use cuda:1██████████████████████████████████████████████████████████████████                                        | 204/300 [00:41<00:17,  5.50it/s]\n",
      "Device set to use cuda:1██████████████████████████████████████████████████████████████████▍                                       | 205/300 [00:42<00:17,  5.52it/s]\n",
      "Device set to use cuda:1██████████████████████████████████████████████████████████████████▊                                       | 206/300 [00:42<00:19,  4.78it/s]\n",
      "Device set to use cuda:1███████████████████████████████████████████████████████████████████▎                                      | 207/300 [00:42<00:18,  5.05it/s]\n",
      "Device set to use cuda:1███████████████████████████████████████████████████████████████████▋                                      | 208/300 [00:42<00:18,  5.01it/s]\n",
      "Device set to use cuda:1████████████████████████████████████████████████████████████████████                                      | 209/300 [00:42<00:17,  5.07it/s]\n",
      "Device set to use cuda:1████████████████████████████████████████████████████████████████████▌                                     | 210/300 [00:43<00:18,  4.87it/s]\n",
      "Device set to use cuda:1████████████████████████████████████████████████████████████████████▉                                     | 211/300 [00:43<00:17,  5.16it/s]\n",
      "Device set to use cuda:1█████████████████████████████████████████████████████████████████████▎                                    | 212/300 [00:43<00:16,  5.39it/s]\n",
      "Device set to use cuda:1█████████████████████████████████████████████████████████████████████▊                                    | 213/300 [00:43<00:15,  5.56it/s]\n",
      "Device set to use cuda:1██████████████████████████████████████████████████████████████████████▏                                   | 214/300 [00:43<00:15,  5.66it/s]\n",
      "Device set to use cuda:1██████████████████████████████████████████████████████████████████████▌                                   | 215/300 [00:43<00:14,  5.78it/s]\n",
      "Device set to use cuda:1███████████████████████████████████████████████████████████████████████                                   | 216/300 [00:44<00:14,  5.74it/s]\n",
      "Device set to use cuda:1███████████████████████████████████████████████████████████████████████▍                                  | 217/300 [00:44<00:15,  5.42it/s]\n",
      "Device set to use cuda:1███████████████████████████████████████████████████████████████████████▊                                  | 218/300 [00:44<00:15,  5.41it/s]\n",
      "Device set to use cuda:1████████████████████████████████████████████████████████████████████████▎                                 | 219/300 [00:44<00:14,  5.58it/s]\n",
      "Device set to use cuda:1████████████████████████████████████████████████████████████████████████▋                                 | 220/300 [00:44<00:14,  5.46it/s]\n",
      "Device set to use cuda:1█████████████████████████████████████████████████████████████████████████                                 | 221/300 [00:45<00:14,  5.27it/s]\n",
      "Device set to use cuda:1█████████████████████████████████████████████████████████████████████████▌                                | 222/300 [00:45<00:14,  5.26it/s]\n",
      "Device set to use cuda:1█████████████████████████████████████████████████████████████████████████▉                                | 223/300 [00:45<00:14,  5.41it/s]\n",
      "Device set to use cuda:1██████████████████████████████████████████████████████████████████████████▎                               | 224/300 [00:45<00:14,  5.40it/s]\n",
      "Device set to use cuda:1██████████████████████████████████████████████████████████████████████████▊                               | 225/300 [00:45<00:16,  4.64it/s]\n",
      "Device set to use cuda:1███████████████████████████████████████████████████████████████████████████▏                              | 226/300 [00:46<00:14,  4.95it/s]\n",
      "Device set to use cuda:1███████████████████████████████████████████████████████████████████████████▌                              | 227/300 [00:46<00:16,  4.41it/s]\n",
      "Device set to use cuda:1████████████████████████████████████████████████████████████████████████████                              | 228/300 [00:46<00:15,  4.78it/s]\n",
      "Device set to use cuda:1████████████████████████████████████████████████████████████████████████████▍                             | 229/300 [00:46<00:13,  5.08it/s]\n",
      "Device set to use cuda:1████████████████████████████████████████████████████████████████████████████▊                             | 230/300 [00:46<00:13,  5.15it/s]\n",
      "Device set to use cuda:1█████████████████████████████████████████████████████████████████████████████▎                            | 231/300 [00:47<00:14,  4.85it/s]\n",
      "Device set to use cuda:1█████████████████████████████████████████████████████████████████████████████▋                            | 232/300 [00:47<00:13,  5.12it/s]\n",
      "Device set to use cuda:1██████████████████████████████████████████████████████████████████████████████                            | 233/300 [00:47<00:12,  5.35it/s]\n",
      "Device set to use cuda:1██████████████████████████████████████████████████████████████████████████████▌                           | 234/300 [00:47<00:12,  5.12it/s]\n",
      "Device set to use cuda:1██████████████████████████████████████████████████████████████████████████████▉                           | 235/300 [00:47<00:12,  5.13it/s]\n",
      "Device set to use cuda:1███████████████████████████████████████████████████████████████████████████████▎                          | 236/300 [00:48<00:12,  5.18it/s]\n",
      "Device set to use cuda:1███████████████████████████████████████████████████████████████████████████████▊                          | 237/300 [00:48<00:11,  5.32it/s]\n",
      "Device set to use cuda:1████████████████████████████████████████████████████████████████████████████████▏                         | 238/300 [00:48<00:11,  5.50it/s]\n",
      "Device set to use cuda:1████████████████████████████████████████████████████████████████████████████████▌                         | 239/300 [00:48<00:12,  4.74it/s]\n",
      "Device set to use cuda:1█████████████████████████████████████████████████████████████████████████████████                         | 240/300 [00:48<00:11,  5.06it/s]\n",
      "Device set to use cuda:1█████████████████████████████████████████████████████████████████████████████████▍                        | 241/300 [00:49<00:11,  5.01it/s]\n",
      "Device set to use cuda:1█████████████████████████████████████████████████████████████████████████████████▊                        | 242/300 [00:49<00:11,  5.26it/s]\n",
      "Device set to use cuda:1██████████████████████████████████████████████████████████████████████████████████▎                       | 243/300 [00:49<00:10,  5.19it/s]\n",
      "Device set to use cuda:1██████████████████████████████████████████████████████████████████████████████████▋                       | 244/300 [00:49<00:10,  5.30it/s]\n",
      "Device set to use cuda:1███████████████████████████████████████████████████████████████████████████████████                       | 245/300 [00:49<00:10,  5.46it/s]\n",
      "Device set to use cuda:1███████████████████████████████████████████████████████████████████████████████████▌                      | 246/300 [00:50<00:10,  5.28it/s]\n",
      "Device set to use cuda:1███████████████████████████████████████████████████████████████████████████████████▉                      | 247/300 [00:50<00:11,  4.61it/s]\n",
      "Device set to use cuda:1████████████████████████████████████████████████████████████████████████████████████▎                     | 248/300 [00:50<00:10,  4.82it/s]\n",
      "Device set to use cuda:1████████████████████████████████████████████████████████████████████████████████████▊                     | 249/300 [00:50<00:10,  4.86it/s]\n",
      "Device set to use cuda:1█████████████████████████████████████████████████████████████████████████████████████▏                    | 250/300 [00:50<00:09,  5.17it/s]\n",
      "Device set to use cuda:1█████████████████████████████████████████████████████████████████████████████████████▌                    | 251/300 [00:51<00:09,  5.23it/s]\n",
      "Device set to use cuda:1██████████████████████████████████████████████████████████████████████████████████████                    | 252/300 [00:51<00:09,  5.13it/s]\n",
      "Device set to use cuda:1██████████████████████████████████████████████████████████████████████████████████████▍                   | 253/300 [00:51<00:09,  4.93it/s]\n",
      "Device set to use cuda:1██████████████████████████████████████████████████████████████████████████████████████▊                   | 254/300 [00:51<00:10,  4.39it/s]\n",
      "Device set to use cuda:1███████████████████████████████████████████████████████████████████████████████████████▎                  | 255/300 [00:52<00:10,  4.12it/s]\n",
      "Device set to use cuda:1███████████████████████████████████████████████████████████████████████████████████████▋                  | 256/300 [00:52<00:09,  4.53it/s]\n",
      "Device set to use cuda:1████████████████████████████████████████████████████████████████████████████████████████                  | 257/300 [00:52<00:10,  4.26it/s]\n",
      "Device set to use cuda:1████████████████████████████████████████████████████████████████████████████████████████▌                 | 258/300 [00:52<00:09,  4.66it/s]\n",
      "Device set to use cuda:1████████████████████████████████████████████████████████████████████████████████████████▉                 | 259/300 [00:52<00:08,  5.00it/s]\n",
      "Device set to use cuda:1█████████████████████████████████████████████████████████████████████████████████████████▎                | 260/300 [00:53<00:09,  4.44it/s]\n",
      "Device set to use cuda:1█████████████████████████████████████████████████████████████████████████████████████████▊                | 261/300 [00:53<00:08,  4.53it/s]\n",
      "Device set to use cuda:1██████████████████████████████████████████████████████████████████████████████████████████▏               | 262/300 [00:53<00:08,  4.67it/s]\n",
      "Device set to use cuda:1██████████████████████████████████████████████████████████████████████████████████████████▌               | 263/300 [00:53<00:09,  3.95it/s]\n",
      "Device set to use cuda:1███████████████████████████████████████████████████████████████████████████████████████████               | 264/300 [00:54<00:08,  4.30it/s]\n",
      "Device set to use cuda:1███████████████████████████████████████████████████████████████████████████████████████████▍              | 265/300 [00:54<00:07,  4.66it/s]\n",
      "Device set to use cuda:1███████████████████████████████████████████████████████████████████████████████████████████▊              | 266/300 [00:54<00:07,  4.37it/s]\n",
      "Device set to use cuda:1████████████████████████████████████████████████████████████████████████████████████████████▎             | 267/300 [00:54<00:08,  4.01it/s]\n",
      "Device set to use cuda:1████████████████████████████████████████████████████████████████████████████████████████████▋             | 268/300 [00:54<00:07,  4.45it/s]\n",
      "Device set to use cuda:1█████████████████████████████████████████████████████████████████████████████████████████████             | 269/300 [00:55<00:06,  4.81it/s]\n",
      "Device set to use cuda:1█████████████████████████████████████████████████████████████████████████████████████████████▌            | 270/300 [00:55<00:06,  4.80it/s]\n",
      "Device set to use cuda:1█████████████████████████████████████████████████████████████████████████████████████████████▉            | 271/300 [00:55<00:05,  5.10it/s]\n",
      "Device set to use cuda:1██████████████████████████████████████████████████████████████████████████████████████████████▎           | 272/300 [00:55<00:05,  5.32it/s]\n",
      "Device set to use cuda:1██████████████████████████████████████████████████████████████████████████████████████████████▊           | 273/300 [00:55<00:05,  5.20it/s]\n",
      "Device set to use cuda:1███████████████████████████████████████████████████████████████████████████████████████████████▏          | 274/300 [00:56<00:04,  5.43it/s]\n",
      "Device set to use cuda:1███████████████████████████████████████████████████████████████████████████████████████████████▌          | 275/300 [00:56<00:04,  5.33it/s]\n",
      "Device set to use cuda:1████████████████████████████████████████████████████████████████████████████████████████████████          | 276/300 [00:56<00:04,  5.20it/s]\n",
      "Device set to use cuda:1████████████████████████████████████████████████████████████████████████████████████████████████▍         | 277/300 [00:56<00:04,  5.14it/s]\n",
      "Device set to use cuda:1████████████████████████████████████████████████████████████████████████████████████████████████▊         | 278/300 [00:56<00:04,  5.22it/s]\n",
      "Device set to use cuda:1█████████████████████████████████████████████████████████████████████████████████████████████████▎        | 279/300 [00:57<00:04,  4.39it/s]\n",
      "Device set to use cuda:1█████████████████████████████████████████████████████████████████████████████████████████████████▋        | 280/300 [00:57<00:04,  4.77it/s]\n",
      "Device set to use cuda:1██████████████████████████████████████████████████████████████████████████████████████████████████        | 281/300 [00:57<00:03,  4.93it/s]\n",
      "Device set to use cuda:1██████████████████████████████████████████████████████████████████████████████████████████████████▌       | 282/300 [00:57<00:03,  5.09it/s]\n",
      "Device set to use cuda:1██████████████████████████████████████████████████████████████████████████████████████████████████▉       | 283/300 [00:57<00:03,  5.07it/s]\n",
      "Device set to use cuda:1███████████████████████████████████████████████████████████████████████████████████████████████████▎      | 284/300 [00:58<00:03,  5.10it/s]\n",
      "Device set to use cuda:1███████████████████████████████████████████████████████████████████████████████████████████████████▊      | 285/300 [00:58<00:02,  5.19it/s]\n",
      "Device set to use cuda:1████████████████████████████████████████████████████████████████████████████████████████████████████▏     | 286/300 [00:58<00:02,  5.15it/s]\n",
      "Device set to use cuda:1████████████████████████████████████████████████████████████████████████████████████████████████████▌     | 287/300 [00:58<00:02,  5.35it/s]\n",
      "Device set to use cuda:1█████████████████████████████████████████████████████████████████████████████████████████████████████     | 288/300 [00:58<00:02,  5.33it/s]\n",
      "Device set to use cuda:1█████████████████████████████████████████████████████████████████████████████████████████████████████▍    | 289/300 [00:59<00:04,  2.39it/s]\n",
      "Device set to use cuda:1█████████████████████████████████████████████████████████████████████████████████████████████████████▊    | 290/300 [00:59<00:03,  2.92it/s]\n",
      "Device set to use cuda:1██████████████████████████████████████████████████████████████████████████████████████████████████████▎   | 291/300 [01:00<00:02,  3.45it/s]\n",
      "Device set to use cuda:1██████████████████████████████████████████████████████████████████████████████████████████████████████▋   | 292/300 [01:00<00:02,  3.93it/s]\n",
      "Device set to use cuda:1███████████████████████████████████████████████████████████████████████████████████████████████████████   | 293/300 [01:00<00:01,  4.19it/s]\n",
      "Device set to use cuda:1███████████████████████████████████████████████████████████████████████████████████████████████████████▌  | 294/300 [01:00<00:01,  4.58it/s]\n",
      "Device set to use cuda:1███████████████████████████████████████████████████████████████████████████████████████████████████████▉  | 295/300 [01:00<00:01,  4.91it/s]\n",
      "Device set to use cuda:1████████████████████████████████████████████████████████████████████████████████████████████████████████▎ | 296/300 [01:00<00:00,  5.19it/s]\n",
      "Device set to use cuda:1████████████████████████████████████████████████████████████████████████████████████████████████████████▊ | 297/300 [01:01<00:00,  4.99it/s]\n",
      "Device set to use cuda:1█████████████████████████████████████████████████████████████████████████████████████████████████████████▏| 298/300 [01:01<00:00,  5.19it/s]\n",
      "Device set to use cuda:1█████████████████████████████████████████████████████████████████████████████████████████████████████████▌| 299/300 [01:01<00:00,  4.48it/s]\n",
      "100%|█████████████████████████████████████████████████████████████████████████████████████████████████████████████████████████████| 300/300 [01:01<00:00,  4.84it/s]"
     ]
    },
    {
     "name": "stdout",
     "output_type": "stream",
     "text": [
      "Accuracy: 0.923\n",
      "Accuracy for label Normal: 0.972\n",
      "Accuracy for label Depression: 0.930\n",
      "Accuracy for label Anxiety: 0.630\n",
      "Accuracy for label Bipolar: 0.933\n",
      "\n",
      "Classification Report:\n",
      "              precision    recall  f1-score   support\n",
      "\n",
      "      Normal       0.91      0.97      0.94       143\n",
      "  Depression       0.95      0.93      0.94       115\n",
      "     Anxiety       0.81      0.63      0.71        27\n",
      "     Bipolar       1.00      0.93      0.97        15\n",
      "\n",
      "    accuracy                           0.92       300\n",
      "   macro avg       0.92      0.87      0.89       300\n",
      "weighted avg       0.92      0.92      0.92       300\n",
      "\n",
      "\n",
      "Confusion Matrix:\n",
      "[[139   3   1   0]\n",
      " [  5 107   3   0]\n",
      " [  7   3  17   0]\n",
      " [  1   0   0  14]]\n"
     ]
    },
    {
     "name": "stderr",
     "output_type": "stream",
     "text": [
      "\n"
     ]
    }
   ],
   "source": [
    "y_pred = predict(X_test, model, tokenizer)\n",
    "evaluate(y_true, y_pred)"
   ]
  },
  {
   "cell_type": "code",
   "execution_count": null,
   "id": "32a98bf8-c04e-4483-8ad4-93526bce9670",
   "metadata": {},
   "outputs": [],
   "source": []
  }
 ],
 "metadata": {
  "kernelspec": {
   "display_name": "Python 3 (ipykernel)",
   "language": "python",
   "name": "python3"
  },
  "language_info": {
   "codemirror_mode": {
    "name": "ipython",
    "version": 3
   },
   "file_extension": ".py",
   "mimetype": "text/x-python",
   "name": "python",
   "nbconvert_exporter": "python",
   "pygments_lexer": "ipython3",
   "version": "3.11.5"
  }
 },
 "nbformat": 4,
 "nbformat_minor": 5
}
