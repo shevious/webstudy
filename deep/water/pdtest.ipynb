{
 "cells": [
  {
   "cell_type": "code",
   "execution_count": 94,
   "metadata": {},
   "outputs": [
    {
     "name": "stdout",
     "output_type": "stream",
     "text": [
      "./자동측정망_팔당상수원보호구역_시간자료2018/경안천2018.xlsx\n",
      "             측정날짜  수계 측정소명      MSR_DATE_R    총유기탄소  염화메틸렌  독성도(발광박테리아)  \\\n",
      "0  20180101000000  한강  경안천  20180101000000  2.38667    0.0          NaN   \n",
      "1  20180101010000  한강  경안천  20180101010000  2.40667    0.0          NaN   \n",
      "2  20180101020000  한강  경안천  20180101020000  2.38000    0.0          NaN   \n",
      "3  20180101030000  한강  경안천  20180101030000  2.38333    0.0          NaN   \n",
      "4  20180101040000  한강  경안천  20180101040000  2.42167    0.0          NaN   \n",
      "\n",
      "   1.1.1-트리클로로에테인   벤젠  사염화탄소  ...  수소이온농도  전기전도도  용존산소  독성지수(좌)  유영속도(좌)  \\\n",
      "0             0.0  0.0    0.0  ...     NaN    NaN   NaN      1.0  0.55750   \n",
      "1             0.0  0.0    0.0  ...     NaN    NaN   NaN      0.0  0.53583   \n",
      "2             0.0  0.0    0.0  ...     NaN    NaN   NaN      0.0  0.55917   \n",
      "3             0.0  0.0    0.0  ...     NaN    NaN   NaN      0.0  0.57083   \n",
      "4             0.0  0.0    0.0  ...     NaN    NaN   NaN      0.0  0.58000   \n",
      "\n",
      "   개체수(좌)  독성지수(우)  유영속도(우)  개체수(우)  탁도  \n",
      "0    14.0      0.0  0.58917    15.0 NaN  \n",
      "1    14.0      0.0  0.59083    15.0 NaN  \n",
      "2    14.0      0.0  0.57167    15.0 NaN  \n",
      "3    14.0      0.0  0.58583    15.0 NaN  \n",
      "4    14.0      0.0  0.57167    15.0 NaN  \n",
      "\n",
      "[5 rows x 33 columns]\n"
     ]
    }
   ],
   "source": [
    "import pandas as pd\n",
    "import numpy as np\n",
    "from glob import glob\n",
    "import os\n",
    "\n",
    "folder = '.'\n",
    "file_names = glob(os.path.join(folder, '*/*.xlsx'))\n",
    "file_name = file_names[0]\n",
    "\n",
    "print(file_name)\n",
    "data_all = pd.read_excel(file_name)\n",
    "print(data_all.head())"
   ]
  },
  {
   "cell_type": "markdown",
   "metadata": {},
   "source": [
    "# markdown test"
   ]
  },
  {
   "cell_type": "code",
   "execution_count": 95,
   "metadata": {},
   "outputs": [
    {
     "data": {
      "text/plain": [
       "RangeIndex(start=0, stop=8739, step=1)"
      ]
     },
     "execution_count": 95,
     "metadata": {},
     "output_type": "execute_result"
    }
   ],
   "source": [
    "data_all.index"
   ]
  },
  {
   "cell_type": "code",
   "execution_count": 96,
   "metadata": {},
   "outputs": [
    {
     "data": {
      "text/plain": [
       "Index(['측정날짜', '수계', '측정소명', 'MSR_DATE_R', '총유기탄소', '염화메틸렌', '독성도(발광박테리아)',\n",
       "       '1.1.1-트리클로로에테인', '벤젠', '사염화탄소', '트리클로로에틸렌', '톨루엔', '테트라클로로에틸렌', '에틸벤젠',\n",
       "       'm,p-자일렌', 'o-자일렌', '[ECD]염화메틸렌', '[ECD]1.1.1-트리클로로에테인', '[ECD]사염화탄소',\n",
       "       '[ECD]트리클로로에틸렌', '[ECD]테트라클로로에틸렌', '클로로필-a', '수온', '수소이온농도', '전기전도도',\n",
       "       '용존산소', '독성지수(좌)', '유영속도(좌)', '개체수(좌)', '독성지수(우)', '유영속도(우)', '개체수(우)',\n",
       "       '탁도'],\n",
       "      dtype='object')"
      ]
     },
     "execution_count": 96,
     "metadata": {},
     "output_type": "execute_result"
    }
   ],
   "source": [
    "data_all.columns"
   ]
  },
  {
   "cell_type": "code",
   "execution_count": 97,
   "metadata": {},
   "outputs": [
    {
     "data": {
      "text/plain": [
       "array([[20180101000000, '한강', '경안천', ..., 0.58917, 15.0, nan],\n",
       "       [20180101010000, '한강', '경안천', ..., 0.59083, 15.0, nan],\n",
       "       [20180101020000, '한강', '경안천', ..., 0.57167, 15.0, nan],\n",
       "       ...,\n",
       "       [20181231210000, '한강', '경안천', ..., 0.40833, 13.16667, 0.9],\n",
       "       [20181231220000, '한강', '경안천', ..., 0.42167, 12.5, nan],\n",
       "       [20181231230000, '한강', '경안천', ..., 0.41167, 12.75, nan]],\n",
       "      dtype=object)"
      ]
     },
     "execution_count": 97,
     "metadata": {},
     "output_type": "execute_result"
    }
   ],
   "source": [
    "data_all.values"
   ]
  },
  {
   "cell_type": "code",
   "execution_count": 98,
   "metadata": {},
   "outputs": [
    {
     "data": {
      "text/plain": [
       "0       2.38667\n",
       "1       2.40667\n",
       "2       2.38000\n",
       "3       2.38333\n",
       "4       2.42167\n",
       "         ...   \n",
       "8734    2.33000\n",
       "8735    2.38250\n",
       "8736    2.42667\n",
       "8737    2.44333\n",
       "8738    2.51500\n",
       "Name: 총유기탄소, Length: 8739, dtype: float64"
      ]
     },
     "execution_count": 98,
     "metadata": {},
     "output_type": "execute_result"
    }
   ],
   "source": [
    "data_all.iloc[:,4]"
   ]
  },
  {
   "cell_type": "code",
   "execution_count": 8,
   "metadata": {},
   "outputs": [
    {
     "data": {
      "text/plain": [
       "pandas.core.series.Series"
      ]
     },
     "execution_count": 8,
     "metadata": {},
     "output_type": "execute_result"
    }
   ],
   "source": [
    "type(data_all.iloc[:,4])"
   ]
  },
  {
   "cell_type": "code",
   "execution_count": 118,
   "metadata": {},
   "outputs": [
    {
     "data": {
      "text/plain": [
       "0       2.38667\n",
       "1           NaN\n",
       "2       2.38000\n",
       "3       2.38333\n",
       "4       2.42167\n",
       "         ...   \n",
       "8734    2.33000\n",
       "8735    2.38250\n",
       "8736    2.42667\n",
       "8737    2.44333\n",
       "8738    2.51500\n",
       "Name: 총유기탄소, Length: 8739, dtype: float64"
      ]
     },
     "execution_count": 118,
     "metadata": {},
     "output_type": "execute_result"
    }
   ],
   "source": [
    "toc = data_all.iloc[:,4]\n",
    "toc"
   ]
  },
  {
   "cell_type": "code",
   "execution_count": 124,
   "metadata": {},
   "outputs": [
    {
     "data": {
      "text/plain": [
       "0       False\n",
       "1        True\n",
       "2       False\n",
       "3       False\n",
       "4       False\n",
       "        ...  \n",
       "8734    False\n",
       "8735    False\n",
       "8736    False\n",
       "8737    False\n",
       "8738    False\n",
       "Name: 총유기탄소, Length: 8739, dtype: bool"
      ]
     },
     "execution_count": 124,
     "metadata": {},
     "output_type": "execute_result"
    }
   ],
   "source": [
    "is_nan = toc.isna()\n",
    "is_nan"
   ]
  },
  {
   "cell_type": "code",
   "execution_count": 110,
   "metadata": {},
   "outputs": [
    {
     "data": {
      "text/plain": [
       "1      NaN\n",
       "40     NaN\n",
       "62     NaN\n",
       "63     NaN\n",
       "64     NaN\n",
       "        ..\n",
       "8608   NaN\n",
       "8609   NaN\n",
       "8639   NaN\n",
       "8729   NaN\n",
       "1      NaN\n",
       "Name: 총유기탄소, Length: 697, dtype: float64"
      ]
     },
     "execution_count": 110,
     "metadata": {},
     "output_type": "execute_result"
    }
   ],
   "source": [
    "toc[is_nan]"
   ]
  },
  {
   "cell_type": "code",
   "execution_count": 21,
   "metadata": {},
   "outputs": [
    {
     "data": {
      "text/plain": [
       "0       2.40667\n",
       "1       2.38000\n",
       "2       2.38333\n",
       "3       2.42167\n",
       "4       2.41500\n",
       "         ...   \n",
       "8734    2.38250\n",
       "8735    2.42667\n",
       "8736    2.44333\n",
       "8737    2.51500\n",
       "8738        NaN\n",
       "Name: 총유기탄소, Length: 8739, dtype: float64"
      ]
     },
     "execution_count": 21,
     "metadata": {},
     "output_type": "execute_result"
    }
   ],
   "source": [
    "toc.shift(-1)"
   ]
  },
  {
   "cell_type": "code",
   "execution_count": 48,
   "metadata": {},
   "outputs": [
    {
     "data": {
      "text/plain": [
       "0       False\n",
       "1        True\n",
       "2        True\n",
       "3        True\n",
       "4        True\n",
       "        ...  \n",
       "8734     True\n",
       "8735     True\n",
       "8736     True\n",
       "8737     True\n",
       "8738     True\n",
       "Name: 총유기탄소, Length: 8739, dtype: bool"
      ]
     },
     "execution_count": 48,
     "metadata": {},
     "output_type": "execute_result"
    }
   ],
   "source": [
    "is_valid_up = ~toc.shift().isna()\n",
    "is_valid_up"
   ]
  },
  {
   "cell_type": "code",
   "execution_count": 37,
   "metadata": {},
   "outputs": [
    {
     "data": {
      "text/plain": [
       "0        True\n",
       "1        True\n",
       "2        True\n",
       "3        True\n",
       "4        True\n",
       "        ...  \n",
       "8734     True\n",
       "8735     True\n",
       "8736     True\n",
       "8737     True\n",
       "8738    False\n",
       "Name: 총유기탄소, Length: 8739, dtype: bool"
      ]
     },
     "execution_count": 37,
     "metadata": {},
     "output_type": "execute_result"
    }
   ],
   "source": [
    "is_valid_down = ~toc.shift(-1).isna()\n",
    "is_valid_down"
   ]
  },
  {
   "cell_type": "code",
   "execution_count": 61,
   "metadata": {},
   "outputs": [
    {
     "data": {
      "text/plain": [
       "695"
      ]
     },
     "execution_count": 61,
     "metadata": {},
     "output_type": "execute_result"
    }
   ],
   "source": [
    "len(toc[is_nan])"
   ]
  },
  {
   "cell_type": "code",
   "execution_count": 62,
   "metadata": {},
   "outputs": [
    {
     "data": {
      "text/plain": [
       "39"
      ]
     },
     "execution_count": 62,
     "metadata": {},
     "output_type": "execute_result"
    }
   ],
   "source": [
    "len(toc[is_nan & is_valid_up & is_valid_down])"
   ]
  },
  {
   "cell_type": "code",
   "execution_count": 132,
   "metadata": {},
   "outputs": [
    {
     "data": {
      "text/plain": [
       "0          1\n",
       "1          1\n",
       "2          2\n",
       "3          3\n",
       "4          4\n",
       "        ... \n",
       "8734    8039\n",
       "8735    8040\n",
       "8736    8041\n",
       "8737    8042\n",
       "8738    8043\n",
       "Name: 총유기탄소, Length: 8739, dtype: int64"
      ]
     },
     "execution_count": 132,
     "metadata": {},
     "output_type": "execute_result"
    }
   ],
   "source": [
    "cum = toc.notnull().astype(int).cumsum()\n",
    "cum"
   ]
  },
  {
   "cell_type": "code",
   "execution_count": 134,
   "metadata": {},
   "outputs": [
    {
     "data": {
      "text/plain": [
       "0          1\n",
       "1          1\n",
       "2          2\n",
       "3          3\n",
       "4          4\n",
       "        ... \n",
       "8734    8039\n",
       "8735    8040\n",
       "8736    8041\n",
       "8737    8042\n",
       "8738    8043\n",
       "Name: 총유기탄소, Length: 8739, dtype: int64"
      ]
     },
     "execution_count": 134,
     "metadata": {},
     "output_type": "execute_result"
    }
   ],
   "source": [
    "for rows in groupby()"
   ]
  },
  {
   "cell_type": "code",
   "execution_count": null,
   "metadata": {},
   "outputs": [],
   "source": [
    "cum[]"
   ]
  },
  {
   "cell_type": "code",
   "execution_count": 130,
   "metadata": {},
   "outputs": [],
   "source": [
    "cum[is_nan] = np.NaN"
   ]
  },
  {
   "cell_type": "code",
   "execution_count": 131,
   "metadata": {},
   "outputs": [
    {
     "data": {
      "text/plain": [
       "0          1.0\n",
       "1          NaN\n",
       "2          2.0\n",
       "3          3.0\n",
       "4          4.0\n",
       "         ...  \n",
       "8734    8039.0\n",
       "8735    8040.0\n",
       "8736    8041.0\n",
       "8737    8042.0\n",
       "8738    8043.0\n",
       "Name: 총유기탄소, Length: 8739, dtype: float64"
      ]
     },
     "execution_count": 131,
     "metadata": {},
     "output_type": "execute_result"
    }
   ],
   "source": [
    "cum"
   ]
  },
  {
   "cell_type": "code",
   "execution_count": 71,
   "metadata": {},
   "outputs": [],
   "source": [
    "data_all['group']=cum"
   ]
  },
  {
   "cell_type": "code",
   "execution_count": 73,
   "metadata": {},
   "outputs": [
    {
     "data": {
      "text/plain": [
       "0       False\n",
       "1       False\n",
       "2       False\n",
       "3       False\n",
       "4       False\n",
       "        ...  \n",
       "8734    False\n",
       "8735    False\n",
       "8736    False\n",
       "8737    False\n",
       "8738    False\n",
       "Name: 총유기탄소, Length: 8739, dtype: bool"
      ]
     },
     "execution_count": 73,
     "metadata": {},
     "output_type": "execute_result"
    }
   ],
   "source": [
    "is_nan"
   ]
  },
  {
   "cell_type": "code",
   "execution_count": 76,
   "metadata": {},
   "outputs": [],
   "source": [
    "index_nan = is_nan[is_nan].index"
   ]
  },
  {
   "cell_type": "code",
   "execution_count": 77,
   "metadata": {},
   "outputs": [
    {
     "data": {
      "text/plain": [
       "Int64Index([  40,   62,   63,   64,  106,  107,  182,  183,  226,  227,\n",
       "            ...\n",
       "            8441, 8488, 8489, 8557, 8558, 8573, 8608, 8609, 8639, 8729],\n",
       "           dtype='int64', length=695)"
      ]
     },
     "execution_count": 77,
     "metadata": {},
     "output_type": "execute_result"
    }
   ],
   "source": [
    "index_nan"
   ]
  },
  {
   "cell_type": "code",
   "execution_count": 79,
   "metadata": {},
   "outputs": [
    {
     "data": {
      "text/plain": [
       "0                                                  2.38667\n",
       "1                                                  2.40667\n",
       "2                                                     2.38\n",
       "3                                                  2.38333\n",
       "4                                                  2.42167\n",
       "                               ...                        \n",
       "8735                                                2.3825\n",
       "8736                                               2.42667\n",
       "8737                                               2.44333\n",
       "8738                                                 2.515\n",
       "group    0          1\n",
       "1          2\n",
       "2          3\n",
       "3      ...\n",
       "Name: 총유기탄소, Length: 8045, dtype: object"
      ]
     },
     "execution_count": 79,
     "metadata": {},
     "output_type": "execute_result"
    }
   ],
   "source": [
    "toc.drop(index_nan)"
   ]
  },
  {
   "cell_type": "code",
   "execution_count": 82,
   "metadata": {},
   "outputs": [
    {
     "data": {
      "text/plain": [
       "0       2.38667\n",
       "1       2.40667\n",
       "2       2.38000\n",
       "3       2.38333\n",
       "4       2.42167\n",
       "         ...   \n",
       "8734    2.33000\n",
       "8735    2.38250\n",
       "8736    2.42667\n",
       "8737    2.44333\n",
       "8738    2.51500\n",
       "Name: 총유기탄소, Length: 8044, dtype: float64"
      ]
     },
     "execution_count": 82,
     "metadata": {},
     "output_type": "execute_result"
    }
   ],
   "source": [
    "toc.drop(index_nan)"
   ]
  },
  {
   "cell_type": "code",
   "execution_count": 83,
   "metadata": {},
   "outputs": [
    {
     "data": {
      "text/plain": [
       "0       2.38667\n",
       "1       2.40667\n",
       "2       2.38000\n",
       "3       2.38333\n",
       "4       2.42167\n",
       "         ...   \n",
       "8734    2.33000\n",
       "8735    2.38250\n",
       "8736    2.42667\n",
       "8737    2.44333\n",
       "8738    2.51500\n",
       "Name: 총유기탄소, Length: 8739, dtype: float64"
      ]
     },
     "execution_count": 83,
     "metadata": {},
     "output_type": "execute_result"
    }
   ],
   "source": [
    "toc"
   ]
  },
  {
   "cell_type": "code",
   "execution_count": 84,
   "metadata": {},
   "outputs": [
    {
     "data": {
      "text/plain": [
       "Int64Index([  40,   62,   63,   64,  106,  107,  182,  183,  226,  227,\n",
       "            ...\n",
       "            8441, 8488, 8489, 8557, 8558, 8573, 8608, 8609, 8639, 8729],\n",
       "           dtype='int64', length=695)"
      ]
     },
     "execution_count": 84,
     "metadata": {},
     "output_type": "execute_result"
    }
   ],
   "source": [
    "index_nan"
   ]
  },
  {
   "cell_type": "code",
   "execution_count": 87,
   "metadata": {},
   "outputs": [
    {
     "data": {
      "text/plain": [
       "0       2.38667\n",
       "1       2.40667\n",
       "2       2.38000\n",
       "3       2.38333\n",
       "4       2.42167\n",
       "         ...   \n",
       "8734    2.33000\n",
       "8735    2.38250\n",
       "8736    2.42667\n",
       "8737    2.44333\n",
       "8738    2.51500\n",
       "Name: 총유기탄소, Length: 8739, dtype: float64"
      ]
     },
     "execution_count": 87,
     "metadata": {},
     "output_type": "execute_result"
    }
   ],
   "source": [
    "toc"
   ]
  },
  {
   "cell_type": "code",
   "execution_count": 86,
   "metadata": {},
   "outputs": [
    {
     "data": {
      "text/plain": [
       "0       False\n",
       "1       False\n",
       "2       False\n",
       "3       False\n",
       "4       False\n",
       "        ...  \n",
       "8734    False\n",
       "8735    False\n",
       "8736    False\n",
       "8737    False\n",
       "8738    False\n",
       "Name: 총유기탄소, Length: 8739, dtype: bool"
      ]
     },
     "execution_count": 86,
     "metadata": {},
     "output_type": "execute_result"
    }
   ],
   "source": [
    "toc.isna()"
   ]
  },
  {
   "cell_type": "code",
   "execution_count": 90,
   "metadata": {},
   "outputs": [],
   "source": [
    "toc.drop(toc.index[index_nan], inplace=True)"
   ]
  },
  {
   "cell_type": "code",
   "execution_count": 91,
   "metadata": {},
   "outputs": [
    {
     "data": {
      "text/plain": [
       "0       2.38667\n",
       "1       2.40667\n",
       "2       2.38000\n",
       "3       2.38333\n",
       "4       2.42167\n",
       "         ...   \n",
       "8734    2.33000\n",
       "8735    2.38250\n",
       "8736    2.42667\n",
       "8737    2.44333\n",
       "8738    2.51500\n",
       "Name: 총유기탄소, Length: 8044, dtype: float64"
      ]
     },
     "execution_count": 91,
     "metadata": {},
     "output_type": "execute_result"
    }
   ],
   "source": [
    "toc"
   ]
  },
  {
   "cell_type": "code",
   "execution_count": 92,
   "metadata": {},
   "outputs": [
    {
     "data": {
      "text/html": [
       "<div>\n",
       "<style scoped>\n",
       "    .dataframe tbody tr th:only-of-type {\n",
       "        vertical-align: middle;\n",
       "    }\n",
       "\n",
       "    .dataframe tbody tr th {\n",
       "        vertical-align: top;\n",
       "    }\n",
       "\n",
       "    .dataframe thead th {\n",
       "        text-align: right;\n",
       "    }\n",
       "</style>\n",
       "<table border=\"1\" class=\"dataframe\">\n",
       "  <thead>\n",
       "    <tr style=\"text-align: right;\">\n",
       "      <th></th>\n",
       "      <th>측정날짜</th>\n",
       "      <th>수계</th>\n",
       "      <th>측정소명</th>\n",
       "      <th>MSR_DATE_R</th>\n",
       "      <th>총유기탄소</th>\n",
       "      <th>염화메틸렌</th>\n",
       "      <th>독성도(발광박테리아)</th>\n",
       "      <th>1.1.1-트리클로로에테인</th>\n",
       "      <th>벤젠</th>\n",
       "      <th>사염화탄소</th>\n",
       "      <th>...</th>\n",
       "      <th>전기전도도</th>\n",
       "      <th>용존산소</th>\n",
       "      <th>독성지수(좌)</th>\n",
       "      <th>유영속도(좌)</th>\n",
       "      <th>개체수(좌)</th>\n",
       "      <th>독성지수(우)</th>\n",
       "      <th>유영속도(우)</th>\n",
       "      <th>개체수(우)</th>\n",
       "      <th>탁도</th>\n",
       "      <th>group</th>\n",
       "    </tr>\n",
       "  </thead>\n",
       "  <tbody>\n",
       "    <tr>\n",
       "      <th>0</th>\n",
       "      <td>20180101000000</td>\n",
       "      <td>한강</td>\n",
       "      <td>경안천</td>\n",
       "      <td>20180101000000</td>\n",
       "      <td>2.38667</td>\n",
       "      <td>0.0</td>\n",
       "      <td>NaN</td>\n",
       "      <td>0.0</td>\n",
       "      <td>0.0</td>\n",
       "      <td>0.0</td>\n",
       "      <td>...</td>\n",
       "      <td>NaN</td>\n",
       "      <td>NaN</td>\n",
       "      <td>1.0</td>\n",
       "      <td>0.55750</td>\n",
       "      <td>14.00000</td>\n",
       "      <td>0.0</td>\n",
       "      <td>0.58917</td>\n",
       "      <td>15.00000</td>\n",
       "      <td>NaN</td>\n",
       "      <td>1</td>\n",
       "    </tr>\n",
       "    <tr>\n",
       "      <th>1</th>\n",
       "      <td>20180101010000</td>\n",
       "      <td>한강</td>\n",
       "      <td>경안천</td>\n",
       "      <td>20180101010000</td>\n",
       "      <td>2.40667</td>\n",
       "      <td>0.0</td>\n",
       "      <td>NaN</td>\n",
       "      <td>0.0</td>\n",
       "      <td>0.0</td>\n",
       "      <td>0.0</td>\n",
       "      <td>...</td>\n",
       "      <td>NaN</td>\n",
       "      <td>NaN</td>\n",
       "      <td>0.0</td>\n",
       "      <td>0.53583</td>\n",
       "      <td>14.00000</td>\n",
       "      <td>0.0</td>\n",
       "      <td>0.59083</td>\n",
       "      <td>15.00000</td>\n",
       "      <td>NaN</td>\n",
       "      <td>2</td>\n",
       "    </tr>\n",
       "    <tr>\n",
       "      <th>2</th>\n",
       "      <td>20180101020000</td>\n",
       "      <td>한강</td>\n",
       "      <td>경안천</td>\n",
       "      <td>20180101020000</td>\n",
       "      <td>2.38000</td>\n",
       "      <td>0.0</td>\n",
       "      <td>NaN</td>\n",
       "      <td>0.0</td>\n",
       "      <td>0.0</td>\n",
       "      <td>0.0</td>\n",
       "      <td>...</td>\n",
       "      <td>NaN</td>\n",
       "      <td>NaN</td>\n",
       "      <td>0.0</td>\n",
       "      <td>0.55917</td>\n",
       "      <td>14.00000</td>\n",
       "      <td>0.0</td>\n",
       "      <td>0.57167</td>\n",
       "      <td>15.00000</td>\n",
       "      <td>NaN</td>\n",
       "      <td>3</td>\n",
       "    </tr>\n",
       "    <tr>\n",
       "      <th>3</th>\n",
       "      <td>20180101030000</td>\n",
       "      <td>한강</td>\n",
       "      <td>경안천</td>\n",
       "      <td>20180101030000</td>\n",
       "      <td>2.38333</td>\n",
       "      <td>0.0</td>\n",
       "      <td>NaN</td>\n",
       "      <td>0.0</td>\n",
       "      <td>0.0</td>\n",
       "      <td>0.0</td>\n",
       "      <td>...</td>\n",
       "      <td>NaN</td>\n",
       "      <td>NaN</td>\n",
       "      <td>0.0</td>\n",
       "      <td>0.57083</td>\n",
       "      <td>14.00000</td>\n",
       "      <td>0.0</td>\n",
       "      <td>0.58583</td>\n",
       "      <td>15.00000</td>\n",
       "      <td>NaN</td>\n",
       "      <td>4</td>\n",
       "    </tr>\n",
       "    <tr>\n",
       "      <th>4</th>\n",
       "      <td>20180101040000</td>\n",
       "      <td>한강</td>\n",
       "      <td>경안천</td>\n",
       "      <td>20180101040000</td>\n",
       "      <td>2.42167</td>\n",
       "      <td>0.0</td>\n",
       "      <td>NaN</td>\n",
       "      <td>0.0</td>\n",
       "      <td>0.0</td>\n",
       "      <td>0.0</td>\n",
       "      <td>...</td>\n",
       "      <td>NaN</td>\n",
       "      <td>NaN</td>\n",
       "      <td>0.0</td>\n",
       "      <td>0.58000</td>\n",
       "      <td>14.00000</td>\n",
       "      <td>0.0</td>\n",
       "      <td>0.57167</td>\n",
       "      <td>15.00000</td>\n",
       "      <td>NaN</td>\n",
       "      <td>5</td>\n",
       "    </tr>\n",
       "    <tr>\n",
       "      <th>...</th>\n",
       "      <td>...</td>\n",
       "      <td>...</td>\n",
       "      <td>...</td>\n",
       "      <td>...</td>\n",
       "      <td>...</td>\n",
       "      <td>...</td>\n",
       "      <td>...</td>\n",
       "      <td>...</td>\n",
       "      <td>...</td>\n",
       "      <td>...</td>\n",
       "      <td>...</td>\n",
       "      <td>...</td>\n",
       "      <td>...</td>\n",
       "      <td>...</td>\n",
       "      <td>...</td>\n",
       "      <td>...</td>\n",
       "      <td>...</td>\n",
       "      <td>...</td>\n",
       "      <td>...</td>\n",
       "      <td>...</td>\n",
       "      <td>...</td>\n",
       "    </tr>\n",
       "    <tr>\n",
       "      <th>8734</th>\n",
       "      <td>20181231190000</td>\n",
       "      <td>한강</td>\n",
       "      <td>경안천</td>\n",
       "      <td>20181231190000</td>\n",
       "      <td>2.33000</td>\n",
       "      <td>0.0</td>\n",
       "      <td>-5.90000</td>\n",
       "      <td>0.0</td>\n",
       "      <td>0.0</td>\n",
       "      <td>0.0</td>\n",
       "      <td>...</td>\n",
       "      <td>439.50000</td>\n",
       "      <td>14.05000</td>\n",
       "      <td>0.0</td>\n",
       "      <td>0.39917</td>\n",
       "      <td>9.75000</td>\n",
       "      <td>0.0</td>\n",
       "      <td>0.42833</td>\n",
       "      <td>13.50000</td>\n",
       "      <td>NaN</td>\n",
       "      <td>8040</td>\n",
       "    </tr>\n",
       "    <tr>\n",
       "      <th>8735</th>\n",
       "      <td>20181231200000</td>\n",
       "      <td>한강</td>\n",
       "      <td>경안천</td>\n",
       "      <td>20181231200000</td>\n",
       "      <td>2.38250</td>\n",
       "      <td>0.0</td>\n",
       "      <td>-7.61667</td>\n",
       "      <td>0.0</td>\n",
       "      <td>0.0</td>\n",
       "      <td>0.0</td>\n",
       "      <td>...</td>\n",
       "      <td>440.00000</td>\n",
       "      <td>14.15833</td>\n",
       "      <td>0.0</td>\n",
       "      <td>0.40583</td>\n",
       "      <td>10.08333</td>\n",
       "      <td>0.0</td>\n",
       "      <td>0.41250</td>\n",
       "      <td>13.33333</td>\n",
       "      <td>0.9</td>\n",
       "      <td>8041</td>\n",
       "    </tr>\n",
       "    <tr>\n",
       "      <th>8736</th>\n",
       "      <td>20181231210000</td>\n",
       "      <td>한강</td>\n",
       "      <td>경안천</td>\n",
       "      <td>20181231210000</td>\n",
       "      <td>2.42667</td>\n",
       "      <td>0.0</td>\n",
       "      <td>-5.28833</td>\n",
       "      <td>0.0</td>\n",
       "      <td>0.0</td>\n",
       "      <td>0.0</td>\n",
       "      <td>...</td>\n",
       "      <td>440.66667</td>\n",
       "      <td>14.30000</td>\n",
       "      <td>0.0</td>\n",
       "      <td>0.39333</td>\n",
       "      <td>9.66667</td>\n",
       "      <td>0.0</td>\n",
       "      <td>0.40833</td>\n",
       "      <td>13.16667</td>\n",
       "      <td>0.9</td>\n",
       "      <td>8042</td>\n",
       "    </tr>\n",
       "    <tr>\n",
       "      <th>8737</th>\n",
       "      <td>20181231220000</td>\n",
       "      <td>한강</td>\n",
       "      <td>경안천</td>\n",
       "      <td>20181231220000</td>\n",
       "      <td>2.44333</td>\n",
       "      <td>0.0</td>\n",
       "      <td>-2.19667</td>\n",
       "      <td>0.0</td>\n",
       "      <td>0.0</td>\n",
       "      <td>0.0</td>\n",
       "      <td>...</td>\n",
       "      <td>441.25000</td>\n",
       "      <td>14.33333</td>\n",
       "      <td>0.0</td>\n",
       "      <td>0.39333</td>\n",
       "      <td>10.25000</td>\n",
       "      <td>0.0</td>\n",
       "      <td>0.42167</td>\n",
       "      <td>12.50000</td>\n",
       "      <td>NaN</td>\n",
       "      <td>8043</td>\n",
       "    </tr>\n",
       "    <tr>\n",
       "      <th>8738</th>\n",
       "      <td>20181231230000</td>\n",
       "      <td>한강</td>\n",
       "      <td>경안천</td>\n",
       "      <td>20181231230000</td>\n",
       "      <td>2.51500</td>\n",
       "      <td>0.0</td>\n",
       "      <td>-6.40833</td>\n",
       "      <td>0.0</td>\n",
       "      <td>0.0</td>\n",
       "      <td>0.0</td>\n",
       "      <td>...</td>\n",
       "      <td>442.75000</td>\n",
       "      <td>14.40000</td>\n",
       "      <td>0.0</td>\n",
       "      <td>0.38167</td>\n",
       "      <td>9.83333</td>\n",
       "      <td>0.0</td>\n",
       "      <td>0.41167</td>\n",
       "      <td>12.75000</td>\n",
       "      <td>NaN</td>\n",
       "      <td>8044</td>\n",
       "    </tr>\n",
       "  </tbody>\n",
       "</table>\n",
       "<p>8044 rows × 34 columns</p>\n",
       "</div>"
      ],
      "text/plain": [
       "                측정날짜  수계 측정소명      MSR_DATE_R    총유기탄소  염화메틸렌  독성도(발광박테리아)  \\\n",
       "0     20180101000000  한강  경안천  20180101000000  2.38667    0.0          NaN   \n",
       "1     20180101010000  한강  경안천  20180101010000  2.40667    0.0          NaN   \n",
       "2     20180101020000  한강  경안천  20180101020000  2.38000    0.0          NaN   \n",
       "3     20180101030000  한강  경안천  20180101030000  2.38333    0.0          NaN   \n",
       "4     20180101040000  한강  경안천  20180101040000  2.42167    0.0          NaN   \n",
       "...              ...  ..  ...             ...      ...    ...          ...   \n",
       "8734  20181231190000  한강  경안천  20181231190000  2.33000    0.0     -5.90000   \n",
       "8735  20181231200000  한강  경안천  20181231200000  2.38250    0.0     -7.61667   \n",
       "8736  20181231210000  한강  경안천  20181231210000  2.42667    0.0     -5.28833   \n",
       "8737  20181231220000  한강  경안천  20181231220000  2.44333    0.0     -2.19667   \n",
       "8738  20181231230000  한강  경안천  20181231230000  2.51500    0.0     -6.40833   \n",
       "\n",
       "      1.1.1-트리클로로에테인   벤젠  사염화탄소  ...      전기전도도      용존산소  독성지수(좌)  유영속도(좌)  \\\n",
       "0                0.0  0.0    0.0  ...        NaN       NaN      1.0  0.55750   \n",
       "1                0.0  0.0    0.0  ...        NaN       NaN      0.0  0.53583   \n",
       "2                0.0  0.0    0.0  ...        NaN       NaN      0.0  0.55917   \n",
       "3                0.0  0.0    0.0  ...        NaN       NaN      0.0  0.57083   \n",
       "4                0.0  0.0    0.0  ...        NaN       NaN      0.0  0.58000   \n",
       "...              ...  ...    ...  ...        ...       ...      ...      ...   \n",
       "8734             0.0  0.0    0.0  ...  439.50000  14.05000      0.0  0.39917   \n",
       "8735             0.0  0.0    0.0  ...  440.00000  14.15833      0.0  0.40583   \n",
       "8736             0.0  0.0    0.0  ...  440.66667  14.30000      0.0  0.39333   \n",
       "8737             0.0  0.0    0.0  ...  441.25000  14.33333      0.0  0.39333   \n",
       "8738             0.0  0.0    0.0  ...  442.75000  14.40000      0.0  0.38167   \n",
       "\n",
       "        개체수(좌)  독성지수(우)  유영속도(우)    개체수(우)   탁도  group  \n",
       "0     14.00000      0.0  0.58917  15.00000  NaN      1  \n",
       "1     14.00000      0.0  0.59083  15.00000  NaN      2  \n",
       "2     14.00000      0.0  0.57167  15.00000  NaN      3  \n",
       "3     14.00000      0.0  0.58583  15.00000  NaN      4  \n",
       "4     14.00000      0.0  0.57167  15.00000  NaN      5  \n",
       "...        ...      ...      ...       ...  ...    ...  \n",
       "8734   9.75000      0.0  0.42833  13.50000  NaN   8040  \n",
       "8735  10.08333      0.0  0.41250  13.33333  0.9   8041  \n",
       "8736   9.66667      0.0  0.40833  13.16667  0.9   8042  \n",
       "8737  10.25000      0.0  0.42167  12.50000  NaN   8043  \n",
       "8738   9.83333      0.0  0.41167  12.75000  NaN   8044  \n",
       "\n",
       "[8044 rows x 34 columns]"
      ]
     },
     "execution_count": 92,
     "metadata": {},
     "output_type": "execute_result"
    }
   ],
   "source": [
    "data_all.drop(index_nan)"
   ]
  },
  {
   "cell_type": "code",
   "execution_count": 93,
   "metadata": {},
   "outputs": [
    {
     "data": {
      "text/plain": [
       "8044"
      ]
     },
     "execution_count": 93,
     "metadata": {},
     "output_type": "execute_result"
    }
   ],
   "source": [
    "len(toc)"
   ]
  },
  {
   "cell_type": "code",
   "execution_count": 135,
   "metadata": {},
   "outputs": [],
   "source": [
    "a = np.array( [\n",
    "    [2, 3],\n",
    "    [4, 5],\n",
    "    [6, 7]\n",
    "])"
   ]
  },
  {
   "cell_type": "code",
   "execution_count": 136,
   "metadata": {},
   "outputs": [
    {
     "data": {
      "text/plain": [
       "array([[2, 4, 6],\n",
       "       [3, 5, 7]])"
      ]
     },
     "execution_count": 136,
     "metadata": {},
     "output_type": "execute_result"
    }
   ],
   "source": [
    "np.transpose(a, (1,0))"
   ]
  },
  {
   "cell_type": "code",
   "execution_count": 137,
   "metadata": {},
   "outputs": [
    {
     "data": {
      "text/html": [
       "<div>\n",
       "<style scoped>\n",
       "    .dataframe tbody tr th:only-of-type {\n",
       "        vertical-align: middle;\n",
       "    }\n",
       "\n",
       "    .dataframe tbody tr th {\n",
       "        vertical-align: top;\n",
       "    }\n",
       "\n",
       "    .dataframe thead th {\n",
       "        text-align: right;\n",
       "    }\n",
       "</style>\n",
       "<table border=\"1\" class=\"dataframe\">\n",
       "  <thead>\n",
       "    <tr style=\"text-align: right;\">\n",
       "      <th></th>\n",
       "      <th>측정날짜</th>\n",
       "      <th>수계</th>\n",
       "      <th>측정소명</th>\n",
       "      <th>MSR_DATE_R</th>\n",
       "      <th>총유기탄소</th>\n",
       "      <th>염화메틸렌</th>\n",
       "      <th>독성도(발광박테리아)</th>\n",
       "      <th>1.1.1-트리클로로에테인</th>\n",
       "      <th>벤젠</th>\n",
       "      <th>사염화탄소</th>\n",
       "      <th>...</th>\n",
       "      <th>수소이온농도</th>\n",
       "      <th>전기전도도</th>\n",
       "      <th>용존산소</th>\n",
       "      <th>독성지수(좌)</th>\n",
       "      <th>유영속도(좌)</th>\n",
       "      <th>개체수(좌)</th>\n",
       "      <th>독성지수(우)</th>\n",
       "      <th>유영속도(우)</th>\n",
       "      <th>개체수(우)</th>\n",
       "      <th>탁도</th>\n",
       "    </tr>\n",
       "  </thead>\n",
       "  <tbody>\n",
       "    <tr>\n",
       "      <th>0</th>\n",
       "      <td>20180101000000</td>\n",
       "      <td>한강</td>\n",
       "      <td>경안천</td>\n",
       "      <td>20180101000000</td>\n",
       "      <td>2.38667</td>\n",
       "      <td>0.0</td>\n",
       "      <td>NaN</td>\n",
       "      <td>0.0</td>\n",
       "      <td>0.0</td>\n",
       "      <td>0.0</td>\n",
       "      <td>...</td>\n",
       "      <td>NaN</td>\n",
       "      <td>NaN</td>\n",
       "      <td>NaN</td>\n",
       "      <td>1.0</td>\n",
       "      <td>0.55750</td>\n",
       "      <td>14.00000</td>\n",
       "      <td>0.0</td>\n",
       "      <td>0.58917</td>\n",
       "      <td>15.00000</td>\n",
       "      <td>NaN</td>\n",
       "    </tr>\n",
       "    <tr>\n",
       "      <th>1</th>\n",
       "      <td>20180101010000</td>\n",
       "      <td>한강</td>\n",
       "      <td>경안천</td>\n",
       "      <td>20180101010000</td>\n",
       "      <td>NaN</td>\n",
       "      <td>0.0</td>\n",
       "      <td>NaN</td>\n",
       "      <td>0.0</td>\n",
       "      <td>0.0</td>\n",
       "      <td>0.0</td>\n",
       "      <td>...</td>\n",
       "      <td>NaN</td>\n",
       "      <td>NaN</td>\n",
       "      <td>NaN</td>\n",
       "      <td>0.0</td>\n",
       "      <td>0.53583</td>\n",
       "      <td>14.00000</td>\n",
       "      <td>0.0</td>\n",
       "      <td>0.59083</td>\n",
       "      <td>15.00000</td>\n",
       "      <td>NaN</td>\n",
       "    </tr>\n",
       "    <tr>\n",
       "      <th>2</th>\n",
       "      <td>20180101020000</td>\n",
       "      <td>한강</td>\n",
       "      <td>경안천</td>\n",
       "      <td>20180101020000</td>\n",
       "      <td>2.38000</td>\n",
       "      <td>0.0</td>\n",
       "      <td>NaN</td>\n",
       "      <td>0.0</td>\n",
       "      <td>0.0</td>\n",
       "      <td>0.0</td>\n",
       "      <td>...</td>\n",
       "      <td>NaN</td>\n",
       "      <td>NaN</td>\n",
       "      <td>NaN</td>\n",
       "      <td>0.0</td>\n",
       "      <td>0.55917</td>\n",
       "      <td>14.00000</td>\n",
       "      <td>0.0</td>\n",
       "      <td>0.57167</td>\n",
       "      <td>15.00000</td>\n",
       "      <td>NaN</td>\n",
       "    </tr>\n",
       "    <tr>\n",
       "      <th>3</th>\n",
       "      <td>20180101030000</td>\n",
       "      <td>한강</td>\n",
       "      <td>경안천</td>\n",
       "      <td>20180101030000</td>\n",
       "      <td>2.38333</td>\n",
       "      <td>0.0</td>\n",
       "      <td>NaN</td>\n",
       "      <td>0.0</td>\n",
       "      <td>0.0</td>\n",
       "      <td>0.0</td>\n",
       "      <td>...</td>\n",
       "      <td>NaN</td>\n",
       "      <td>NaN</td>\n",
       "      <td>NaN</td>\n",
       "      <td>0.0</td>\n",
       "      <td>0.57083</td>\n",
       "      <td>14.00000</td>\n",
       "      <td>0.0</td>\n",
       "      <td>0.58583</td>\n",
       "      <td>15.00000</td>\n",
       "      <td>NaN</td>\n",
       "    </tr>\n",
       "    <tr>\n",
       "      <th>4</th>\n",
       "      <td>20180101040000</td>\n",
       "      <td>한강</td>\n",
       "      <td>경안천</td>\n",
       "      <td>20180101040000</td>\n",
       "      <td>2.42167</td>\n",
       "      <td>0.0</td>\n",
       "      <td>NaN</td>\n",
       "      <td>0.0</td>\n",
       "      <td>0.0</td>\n",
       "      <td>0.0</td>\n",
       "      <td>...</td>\n",
       "      <td>NaN</td>\n",
       "      <td>NaN</td>\n",
       "      <td>NaN</td>\n",
       "      <td>0.0</td>\n",
       "      <td>0.58000</td>\n",
       "      <td>14.00000</td>\n",
       "      <td>0.0</td>\n",
       "      <td>0.57167</td>\n",
       "      <td>15.00000</td>\n",
       "      <td>NaN</td>\n",
       "    </tr>\n",
       "    <tr>\n",
       "      <th>...</th>\n",
       "      <td>...</td>\n",
       "      <td>...</td>\n",
       "      <td>...</td>\n",
       "      <td>...</td>\n",
       "      <td>...</td>\n",
       "      <td>...</td>\n",
       "      <td>...</td>\n",
       "      <td>...</td>\n",
       "      <td>...</td>\n",
       "      <td>...</td>\n",
       "      <td>...</td>\n",
       "      <td>...</td>\n",
       "      <td>...</td>\n",
       "      <td>...</td>\n",
       "      <td>...</td>\n",
       "      <td>...</td>\n",
       "      <td>...</td>\n",
       "      <td>...</td>\n",
       "      <td>...</td>\n",
       "      <td>...</td>\n",
       "      <td>...</td>\n",
       "    </tr>\n",
       "    <tr>\n",
       "      <th>8734</th>\n",
       "      <td>20181231190000</td>\n",
       "      <td>한강</td>\n",
       "      <td>경안천</td>\n",
       "      <td>20181231190000</td>\n",
       "      <td>2.33000</td>\n",
       "      <td>0.0</td>\n",
       "      <td>-5.90000</td>\n",
       "      <td>0.0</td>\n",
       "      <td>0.0</td>\n",
       "      <td>0.0</td>\n",
       "      <td>...</td>\n",
       "      <td>7.5</td>\n",
       "      <td>439.50000</td>\n",
       "      <td>14.05000</td>\n",
       "      <td>0.0</td>\n",
       "      <td>0.39917</td>\n",
       "      <td>9.75000</td>\n",
       "      <td>0.0</td>\n",
       "      <td>0.42833</td>\n",
       "      <td>13.50000</td>\n",
       "      <td>NaN</td>\n",
       "    </tr>\n",
       "    <tr>\n",
       "      <th>8735</th>\n",
       "      <td>20181231200000</td>\n",
       "      <td>한강</td>\n",
       "      <td>경안천</td>\n",
       "      <td>20181231200000</td>\n",
       "      <td>2.38250</td>\n",
       "      <td>0.0</td>\n",
       "      <td>-7.61667</td>\n",
       "      <td>0.0</td>\n",
       "      <td>0.0</td>\n",
       "      <td>0.0</td>\n",
       "      <td>...</td>\n",
       "      <td>7.5</td>\n",
       "      <td>440.00000</td>\n",
       "      <td>14.15833</td>\n",
       "      <td>0.0</td>\n",
       "      <td>0.40583</td>\n",
       "      <td>10.08333</td>\n",
       "      <td>0.0</td>\n",
       "      <td>0.41250</td>\n",
       "      <td>13.33333</td>\n",
       "      <td>0.9</td>\n",
       "    </tr>\n",
       "    <tr>\n",
       "      <th>8736</th>\n",
       "      <td>20181231210000</td>\n",
       "      <td>한강</td>\n",
       "      <td>경안천</td>\n",
       "      <td>20181231210000</td>\n",
       "      <td>2.42667</td>\n",
       "      <td>0.0</td>\n",
       "      <td>-5.28833</td>\n",
       "      <td>0.0</td>\n",
       "      <td>0.0</td>\n",
       "      <td>0.0</td>\n",
       "      <td>...</td>\n",
       "      <td>7.5</td>\n",
       "      <td>440.66667</td>\n",
       "      <td>14.30000</td>\n",
       "      <td>0.0</td>\n",
       "      <td>0.39333</td>\n",
       "      <td>9.66667</td>\n",
       "      <td>0.0</td>\n",
       "      <td>0.40833</td>\n",
       "      <td>13.16667</td>\n",
       "      <td>0.9</td>\n",
       "    </tr>\n",
       "    <tr>\n",
       "      <th>8737</th>\n",
       "      <td>20181231220000</td>\n",
       "      <td>한강</td>\n",
       "      <td>경안천</td>\n",
       "      <td>20181231220000</td>\n",
       "      <td>2.44333</td>\n",
       "      <td>0.0</td>\n",
       "      <td>-2.19667</td>\n",
       "      <td>0.0</td>\n",
       "      <td>0.0</td>\n",
       "      <td>0.0</td>\n",
       "      <td>...</td>\n",
       "      <td>7.5</td>\n",
       "      <td>441.25000</td>\n",
       "      <td>14.33333</td>\n",
       "      <td>0.0</td>\n",
       "      <td>0.39333</td>\n",
       "      <td>10.25000</td>\n",
       "      <td>0.0</td>\n",
       "      <td>0.42167</td>\n",
       "      <td>12.50000</td>\n",
       "      <td>NaN</td>\n",
       "    </tr>\n",
       "    <tr>\n",
       "      <th>8738</th>\n",
       "      <td>20181231230000</td>\n",
       "      <td>한강</td>\n",
       "      <td>경안천</td>\n",
       "      <td>20181231230000</td>\n",
       "      <td>2.51500</td>\n",
       "      <td>0.0</td>\n",
       "      <td>-6.40833</td>\n",
       "      <td>0.0</td>\n",
       "      <td>0.0</td>\n",
       "      <td>0.0</td>\n",
       "      <td>...</td>\n",
       "      <td>7.5</td>\n",
       "      <td>442.75000</td>\n",
       "      <td>14.40000</td>\n",
       "      <td>0.0</td>\n",
       "      <td>0.38167</td>\n",
       "      <td>9.83333</td>\n",
       "      <td>0.0</td>\n",
       "      <td>0.41167</td>\n",
       "      <td>12.75000</td>\n",
       "      <td>NaN</td>\n",
       "    </tr>\n",
       "  </tbody>\n",
       "</table>\n",
       "<p>8739 rows × 33 columns</p>\n",
       "</div>"
      ],
      "text/plain": [
       "                측정날짜  수계 측정소명      MSR_DATE_R    총유기탄소  염화메틸렌  독성도(발광박테리아)  \\\n",
       "0     20180101000000  한강  경안천  20180101000000  2.38667    0.0          NaN   \n",
       "1     20180101010000  한강  경안천  20180101010000      NaN    0.0          NaN   \n",
       "2     20180101020000  한강  경안천  20180101020000  2.38000    0.0          NaN   \n",
       "3     20180101030000  한강  경안천  20180101030000  2.38333    0.0          NaN   \n",
       "4     20180101040000  한강  경안천  20180101040000  2.42167    0.0          NaN   \n",
       "...              ...  ..  ...             ...      ...    ...          ...   \n",
       "8734  20181231190000  한강  경안천  20181231190000  2.33000    0.0     -5.90000   \n",
       "8735  20181231200000  한강  경안천  20181231200000  2.38250    0.0     -7.61667   \n",
       "8736  20181231210000  한강  경안천  20181231210000  2.42667    0.0     -5.28833   \n",
       "8737  20181231220000  한강  경안천  20181231220000  2.44333    0.0     -2.19667   \n",
       "8738  20181231230000  한강  경안천  20181231230000  2.51500    0.0     -6.40833   \n",
       "\n",
       "      1.1.1-트리클로로에테인   벤젠  사염화탄소  ...  수소이온농도      전기전도도      용존산소  독성지수(좌)  \\\n",
       "0                0.0  0.0    0.0  ...     NaN        NaN       NaN      1.0   \n",
       "1                0.0  0.0    0.0  ...     NaN        NaN       NaN      0.0   \n",
       "2                0.0  0.0    0.0  ...     NaN        NaN       NaN      0.0   \n",
       "3                0.0  0.0    0.0  ...     NaN        NaN       NaN      0.0   \n",
       "4                0.0  0.0    0.0  ...     NaN        NaN       NaN      0.0   \n",
       "...              ...  ...    ...  ...     ...        ...       ...      ...   \n",
       "8734             0.0  0.0    0.0  ...     7.5  439.50000  14.05000      0.0   \n",
       "8735             0.0  0.0    0.0  ...     7.5  440.00000  14.15833      0.0   \n",
       "8736             0.0  0.0    0.0  ...     7.5  440.66667  14.30000      0.0   \n",
       "8737             0.0  0.0    0.0  ...     7.5  441.25000  14.33333      0.0   \n",
       "8738             0.0  0.0    0.0  ...     7.5  442.75000  14.40000      0.0   \n",
       "\n",
       "      유영속도(좌)    개체수(좌)  독성지수(우)  유영속도(우)    개체수(우)   탁도  \n",
       "0     0.55750  14.00000      0.0  0.58917  15.00000  NaN  \n",
       "1     0.53583  14.00000      0.0  0.59083  15.00000  NaN  \n",
       "2     0.55917  14.00000      0.0  0.57167  15.00000  NaN  \n",
       "3     0.57083  14.00000      0.0  0.58583  15.00000  NaN  \n",
       "4     0.58000  14.00000      0.0  0.57167  15.00000  NaN  \n",
       "...       ...       ...      ...      ...       ...  ...  \n",
       "8734  0.39917   9.75000      0.0  0.42833  13.50000  NaN  \n",
       "8735  0.40583  10.08333      0.0  0.41250  13.33333  0.9  \n",
       "8736  0.39333   9.66667      0.0  0.40833  13.16667  0.9  \n",
       "8737  0.39333  10.25000      0.0  0.42167  12.50000  NaN  \n",
       "8738  0.38167   9.83333      0.0  0.41167  12.75000  NaN  \n",
       "\n",
       "[8739 rows x 33 columns]"
      ]
     },
     "execution_count": 137,
     "metadata": {},
     "output_type": "execute_result"
    }
   ],
   "source": [
    "data_all"
   ]
  },
  {
   "cell_type": "code",
   "execution_count": 139,
   "metadata": {},
   "outputs": [
    {
     "data": {
      "text/plain": [
       "측정날짜                      0\n",
       "수계                        0\n",
       "측정소명                      0\n",
       "MSR_DATE_R                0\n",
       "총유기탄소                   696\n",
       "염화메틸렌                  1376\n",
       "독성도(발광박테리아)            3019\n",
       "1.1.1-트리클로로에테인         1392\n",
       "벤젠                     1392\n",
       "사염화탄소                  1392\n",
       "트리클로로에틸렌               1392\n",
       "톨루엔                    1392\n",
       "테트라클로로에틸렌              1392\n",
       "에틸벤젠                   1392\n",
       "m,p-자일렌                1392\n",
       "o-자일렌                  1392\n",
       "[ECD]염화메틸렌             1420\n",
       "[ECD]1.1.1-트리클로로에테인    1396\n",
       "[ECD]사염화탄소             1396\n",
       "[ECD]트리클로로에틸렌          1396\n",
       "[ECD]테트라클로로에틸렌         1396\n",
       "클로로필-a                 1182\n",
       "수온                      754\n",
       "수소이온농도                  754\n",
       "전기전도도                   755\n",
       "용존산소                    759\n",
       "독성지수(좌)                1319\n",
       "유영속도(좌)                1319\n",
       "개체수(좌)                 1319\n",
       "독성지수(우)                1296\n",
       "유영속도(우)                1296\n",
       "개체수(우)                 1296\n",
       "탁도                      761\n",
       "dtype: int64"
      ]
     },
     "execution_count": 139,
     "metadata": {},
     "output_type": "execute_result"
    }
   ],
   "source": [
    "data_all.isna().sum()"
   ]
  },
  {
   "cell_type": "code",
   "execution_count": 144,
   "metadata": {},
   "outputs": [
    {
     "data": {
      "text/plain": [
       "0       0\n",
       "1       1\n",
       "2       0\n",
       "3       0\n",
       "4       0\n",
       "       ..\n",
       "8734    0\n",
       "8735    0\n",
       "8736    0\n",
       "8737    0\n",
       "8738    0\n",
       "Length: 8739, dtype: int64"
      ]
     },
     "execution_count": 144,
     "metadata": {},
     "output_type": "execute_result"
    }
   ],
   "source": [
    "data_all.iloc[:,4:6].isnull().any(axis=1).astype('int')"
   ]
  },
  {
   "cell_type": "code",
   "execution_count": 151,
   "metadata": {},
   "outputs": [],
   "source": [
    "data = data_all.iloc[:, [0,1,4]]"
   ]
  },
  {
   "cell_type": "code",
   "execution_count": 152,
   "metadata": {},
   "outputs": [
    {
     "data": {
      "text/html": [
       "<div>\n",
       "<style scoped>\n",
       "    .dataframe tbody tr th:only-of-type {\n",
       "        vertical-align: middle;\n",
       "    }\n",
       "\n",
       "    .dataframe tbody tr th {\n",
       "        vertical-align: top;\n",
       "    }\n",
       "\n",
       "    .dataframe thead th {\n",
       "        text-align: right;\n",
       "    }\n",
       "</style>\n",
       "<table border=\"1\" class=\"dataframe\">\n",
       "  <thead>\n",
       "    <tr style=\"text-align: right;\">\n",
       "      <th></th>\n",
       "      <th>측정날짜</th>\n",
       "      <th>수계</th>\n",
       "      <th>총유기탄소</th>\n",
       "    </tr>\n",
       "  </thead>\n",
       "  <tbody>\n",
       "    <tr>\n",
       "      <th>0</th>\n",
       "      <td>20180101000000</td>\n",
       "      <td>한강</td>\n",
       "      <td>2.38667</td>\n",
       "    </tr>\n",
       "    <tr>\n",
       "      <th>1</th>\n",
       "      <td>20180101010000</td>\n",
       "      <td>한강</td>\n",
       "      <td>NaN</td>\n",
       "    </tr>\n",
       "    <tr>\n",
       "      <th>2</th>\n",
       "      <td>20180101020000</td>\n",
       "      <td>한강</td>\n",
       "      <td>2.38000</td>\n",
       "    </tr>\n",
       "    <tr>\n",
       "      <th>3</th>\n",
       "      <td>20180101030000</td>\n",
       "      <td>한강</td>\n",
       "      <td>2.38333</td>\n",
       "    </tr>\n",
       "    <tr>\n",
       "      <th>4</th>\n",
       "      <td>20180101040000</td>\n",
       "      <td>한강</td>\n",
       "      <td>2.42167</td>\n",
       "    </tr>\n",
       "    <tr>\n",
       "      <th>...</th>\n",
       "      <td>...</td>\n",
       "      <td>...</td>\n",
       "      <td>...</td>\n",
       "    </tr>\n",
       "    <tr>\n",
       "      <th>8734</th>\n",
       "      <td>20181231190000</td>\n",
       "      <td>한강</td>\n",
       "      <td>2.33000</td>\n",
       "    </tr>\n",
       "    <tr>\n",
       "      <th>8735</th>\n",
       "      <td>20181231200000</td>\n",
       "      <td>한강</td>\n",
       "      <td>2.38250</td>\n",
       "    </tr>\n",
       "    <tr>\n",
       "      <th>8736</th>\n",
       "      <td>20181231210000</td>\n",
       "      <td>한강</td>\n",
       "      <td>2.42667</td>\n",
       "    </tr>\n",
       "    <tr>\n",
       "      <th>8737</th>\n",
       "      <td>20181231220000</td>\n",
       "      <td>한강</td>\n",
       "      <td>2.44333</td>\n",
       "    </tr>\n",
       "    <tr>\n",
       "      <th>8738</th>\n",
       "      <td>20181231230000</td>\n",
       "      <td>한강</td>\n",
       "      <td>2.51500</td>\n",
       "    </tr>\n",
       "  </tbody>\n",
       "</table>\n",
       "<p>8739 rows × 3 columns</p>\n",
       "</div>"
      ],
      "text/plain": [
       "                측정날짜  수계    총유기탄소\n",
       "0     20180101000000  한강  2.38667\n",
       "1     20180101010000  한강      NaN\n",
       "2     20180101020000  한강  2.38000\n",
       "3     20180101030000  한강  2.38333\n",
       "4     20180101040000  한강  2.42167\n",
       "...              ...  ..      ...\n",
       "8734  20181231190000  한강  2.33000\n",
       "8735  20181231200000  한강  2.38250\n",
       "8736  20181231210000  한강  2.42667\n",
       "8737  20181231220000  한강  2.44333\n",
       "8738  20181231230000  한강  2.51500\n",
       "\n",
       "[8739 rows x 3 columns]"
      ]
     },
     "execution_count": 152,
     "metadata": {},
     "output_type": "execute_result"
    }
   ],
   "source": [
    "data"
   ]
  },
  {
   "cell_type": "code",
   "execution_count": 157,
   "metadata": {},
   "outputs": [
    {
     "name": "stdout",
     "output_type": "stream",
     "text": [
      "0\n",
      "1\n",
      "2\n",
      "3\n",
      "4\n",
      "5\n"
     ]
    }
   ],
   "source": [
    "excel_files = []\n",
    "for i in range(len(file_names)):\n",
    "    file_name = file_names[i]\n",
    "    df = pd.read_excel(file_name)\n",
    "    excel_files.append(df)"
   ]
  },
  {
   "cell_type": "code",
   "execution_count": 160,
   "metadata": {},
   "outputs": [
    {
     "data": {
      "text/plain": [
       "Index(['측정날짜', '수계', '측정소명', 'MSR_DATE_R', '총유기탄소', '염화메틸렌', '독성도(발광박테리아)',\n",
       "       '1.1.1-트리클로로에테인', '벤젠', '사염화탄소', '트리클로로에틸렌', '톨루엔', '테트라클로로에틸렌', '에틸벤젠',\n",
       "       'm,p-자일렌', 'o-자일렌', '[ECD]염화메틸렌', '[ECD]1.1.1-트리클로로에테인', '[ECD]사염화탄소',\n",
       "       '[ECD]트리클로로에틸렌', '[ECD]테트라클로로에틸렌', '클로로필-a', '수온', '수소이온농도', '전기전도도',\n",
       "       '용존산소', '독성지수(좌)', '유영속도(좌)', '개체수(좌)', '독성지수(우)', '유영속도(우)', '개체수(우)',\n",
       "       '탁도'],\n",
       "      dtype='object')"
      ]
     },
     "execution_count": 160,
     "metadata": {},
     "output_type": "execute_result"
    }
   ],
   "source": [
    "df = excel_files[0]\n",
    "df.columns"
   ]
  },
  {
   "cell_type": "code",
   "execution_count": 161,
   "metadata": {},
   "outputs": [
    {
     "data": {
      "text/plain": [
       "Index(['측정날짜', '수계', '측정소명', 'MSR_DATE_R', '총유기탄소', '총질소', '총인', '클로로필-a',\n",
       "       '수온', '수소이온농도', '전기전도도', '용존산소', '탁도'],\n",
       "      dtype='object')"
      ]
     },
     "execution_count": 161,
     "metadata": {},
     "output_type": "execute_result"
    }
   ],
   "source": [
    "df = excel_files[1]\n",
    "df.columns"
   ]
  },
  {
   "cell_type": "code",
   "execution_count": 162,
   "metadata": {},
   "outputs": [
    {
     "data": {
      "text/plain": [
       "Index(['측정날짜', '수계', '측정소명', 'MSR_DATE_R', '총유기탄소', '총질소', '총인', '클로로필-a',\n",
       "       '수온', '수소이온농도', '전기전도도', '용존산소', '탁도'],\n",
       "      dtype='object')"
      ]
     },
     "execution_count": 162,
     "metadata": {},
     "output_type": "execute_result"
    }
   ],
   "source": [
    "df = excel_files[2]\n",
    "df.columns"
   ]
  },
  {
   "cell_type": "code",
   "execution_count": 163,
   "metadata": {},
   "outputs": [
    {
     "data": {
      "text/plain": [
       "Index(['측정날짜', '수계', '측정소명', 'MSR_DATE_R', '총유기탄소', '총질소', '총인', '클로로필-a',\n",
       "       '수온', '수소이온농도', '전기전도도', '용존산소', '탁도'],\n",
       "      dtype='object')"
      ]
     },
     "execution_count": 163,
     "metadata": {},
     "output_type": "execute_result"
    }
   ],
   "source": [
    "df = excel_files[3]\n",
    "df.columns"
   ]
  },
  {
   "cell_type": "code",
   "execution_count": 164,
   "metadata": {},
   "outputs": [
    {
     "data": {
      "text/plain": [
       "Index(['측정날짜', '수계', '측정소명', 'MSR_DATE_R', '총유기탄소', '총질소', '총인', '수온',\n",
       "       '수소이온농도', '전기전도도', '용존산소', '탁도'],\n",
       "      dtype='object')"
      ]
     },
     "execution_count": 164,
     "metadata": {},
     "output_type": "execute_result"
    }
   ],
   "source": [
    "df = excel_files[4]\n",
    "df.columns"
   ]
  },
  {
   "cell_type": "code",
   "execution_count": 170,
   "metadata": {},
   "outputs": [
    {
     "data": {
      "text/html": [
       "<div>\n",
       "<style scoped>\n",
       "    .dataframe tbody tr th:only-of-type {\n",
       "        vertical-align: middle;\n",
       "    }\n",
       "\n",
       "    .dataframe tbody tr th {\n",
       "        vertical-align: top;\n",
       "    }\n",
       "\n",
       "    .dataframe thead th {\n",
       "        text-align: right;\n",
       "    }\n",
       "</style>\n",
       "<table border=\"1\" class=\"dataframe\">\n",
       "  <thead>\n",
       "    <tr style=\"text-align: right;\">\n",
       "      <th></th>\n",
       "      <th>a</th>\n",
       "      <th>b</th>\n",
       "      <th>c</th>\n",
       "    </tr>\n",
       "  </thead>\n",
       "  <tbody>\n",
       "    <tr>\n",
       "      <th>0</th>\n",
       "      <td>1</td>\n",
       "      <td>1</td>\n",
       "      <td>2</td>\n",
       "    </tr>\n",
       "    <tr>\n",
       "      <th>1</th>\n",
       "      <td>3</td>\n",
       "      <td>2</td>\n",
       "      <td>4</td>\n",
       "    </tr>\n",
       "    <tr>\n",
       "      <th>2</th>\n",
       "      <td>1.1</td>\n",
       "      <td>0.1</td>\n",
       "      <td>3.3</td>\n",
       "    </tr>\n",
       "    <tr>\n",
       "      <th>3</th>\n",
       "      <td>NaN</td>\n",
       "      <td>NaN</td>\n",
       "      <td>NaN</td>\n",
       "    </tr>\n",
       "    <tr>\n",
       "      <th>4</th>\n",
       "      <td>3</td>\n",
       "      <td>5</td>\n",
       "      <td>7</td>\n",
       "    </tr>\n",
       "  </tbody>\n",
       "</table>\n",
       "</div>"
      ],
      "text/plain": [
       "     a    b    c\n",
       "0    1    1    2\n",
       "1    3    2    4\n",
       "2  1.1  0.1  3.3\n",
       "3  NaN  NaN  NaN\n",
       "4    3    5    7"
      ]
     },
     "execution_count": 170,
     "metadata": {},
     "output_type": "execute_result"
    }
   ],
   "source": [
    "# Take a dictionary as input to your DataFrame \n",
    "my_dict = {\"a\": ['1', '3', '1.1', np.nan, '3'], \n",
    "           \"b\": ['1', '2', '0.1', np.nan, '5'],\n",
    "           \"c\": ['2', '4', '3.3', np.nan, '7']}\n",
    "df = pd.DataFrame(my_dict)\n",
    "#display(df)\n",
    "df"
   ]
  },
  {
   "cell_type": "code",
   "execution_count": 210,
   "metadata": {},
   "outputs": [
    {
     "data": {
      "text/plain": [
       "0     True\n",
       "1     True\n",
       "2     True\n",
       "3    False\n",
       "4     True\n",
       "dtype: bool"
      ]
     },
     "execution_count": 210,
     "metadata": {},
     "output_type": "execute_result"
    }
   ],
   "source": [
    "is_valid = df.notna().any(axis=1)\n",
    "is_valid"
   ]
  },
  {
   "cell_type": "code",
   "execution_count": 211,
   "metadata": {},
   "outputs": [
    {
     "data": {
      "text/plain": [
       "0      NaN\n",
       "1     True\n",
       "2     True\n",
       "3     True\n",
       "4    False\n",
       "dtype: object"
      ]
     },
     "execution_count": 211,
     "metadata": {},
     "output_type": "execute_result"
    }
   ],
   "source": [
    "prev = is_valid.shift()\n",
    "#prev[0] = False\n",
    "prev"
   ]
  },
  {
   "cell_type": "code",
   "execution_count": 212,
   "metadata": {},
   "outputs": [
    {
     "data": {
      "text/plain": [
       "0    1\n",
       "1    0\n",
       "2    0\n",
       "3    0\n",
       "4    1\n",
       "dtype: int64"
      ]
     },
     "execution_count": 212,
     "metadata": {},
     "output_type": "execute_result"
    }
   ],
   "source": [
    "start_pos = ((is_valid == True) & (prev != True)).astype('int')\n",
    "start_pos"
   ]
  },
  {
   "cell_type": "code",
   "execution_count": 213,
   "metadata": {},
   "outputs": [
    {
     "data": {
      "text/plain": [
       "0    1\n",
       "1    1\n",
       "2    1\n",
       "3    0\n",
       "4    2\n",
       "dtype: int64"
      ]
     },
     "execution_count": 213,
     "metadata": {},
     "output_type": "execute_result"
    }
   ],
   "source": [
    "group_id = start_pos.cumsum()\n",
    "group_id[~is_valid] = 0\n",
    "group_id"
   ]
  },
  {
   "cell_type": "code",
   "execution_count": 214,
   "metadata": {},
   "outputs": [],
   "source": [
    "g = df.groupby(group_id)"
   ]
  },
  {
   "cell_type": "code",
   "execution_count": 221,
   "metadata": {},
   "outputs": [
    {
     "data": {
      "text/html": [
       "<div>\n",
       "<style scoped>\n",
       "    .dataframe tbody tr th:only-of-type {\n",
       "        vertical-align: middle;\n",
       "    }\n",
       "\n",
       "    .dataframe tbody tr th {\n",
       "        vertical-align: top;\n",
       "    }\n",
       "\n",
       "    .dataframe thead th {\n",
       "        text-align: right;\n",
       "    }\n",
       "</style>\n",
       "<table border=\"1\" class=\"dataframe\">\n",
       "  <thead>\n",
       "    <tr style=\"text-align: right;\">\n",
       "      <th></th>\n",
       "      <th>a</th>\n",
       "      <th>b</th>\n",
       "      <th>c</th>\n",
       "    </tr>\n",
       "  </thead>\n",
       "  <tbody>\n",
       "    <tr>\n",
       "      <th>0</th>\n",
       "      <td>1</td>\n",
       "      <td>1</td>\n",
       "      <td>2</td>\n",
       "    </tr>\n",
       "    <tr>\n",
       "      <th>1</th>\n",
       "      <td>3</td>\n",
       "      <td>2</td>\n",
       "      <td>4</td>\n",
       "    </tr>\n",
       "    <tr>\n",
       "      <th>2</th>\n",
       "      <td>1.1</td>\n",
       "      <td>0.1</td>\n",
       "      <td>3.3</td>\n",
       "    </tr>\n",
       "  </tbody>\n",
       "</table>\n",
       "</div>"
      ],
      "text/plain": [
       "     a    b    c\n",
       "0    1    1    2\n",
       "1    3    2    4\n",
       "2  1.1  0.1  3.3"
      ]
     },
     "metadata": {},
     "output_type": "display_data"
    },
    {
     "data": {
      "text/html": [
       "<div>\n",
       "<style scoped>\n",
       "    .dataframe tbody tr th:only-of-type {\n",
       "        vertical-align: middle;\n",
       "    }\n",
       "\n",
       "    .dataframe tbody tr th {\n",
       "        vertical-align: top;\n",
       "    }\n",
       "\n",
       "    .dataframe thead th {\n",
       "        text-align: right;\n",
       "    }\n",
       "</style>\n",
       "<table border=\"1\" class=\"dataframe\">\n",
       "  <thead>\n",
       "    <tr style=\"text-align: right;\">\n",
       "      <th></th>\n",
       "      <th>a</th>\n",
       "      <th>b</th>\n",
       "      <th>c</th>\n",
       "    </tr>\n",
       "  </thead>\n",
       "  <tbody>\n",
       "    <tr>\n",
       "      <th>4</th>\n",
       "      <td>3</td>\n",
       "      <td>5</td>\n",
       "      <td>7</td>\n",
       "    </tr>\n",
       "  </tbody>\n",
       "</table>\n",
       "</div>"
      ],
      "text/plain": [
       "   a  b  c\n",
       "4  3  5  7"
      ]
     },
     "metadata": {},
     "output_type": "display_data"
    }
   ],
   "source": [
    "for key, rows in g:\n",
    "    if (key == 0):\n",
    "        continue\n",
    "    display(rows)"
   ]
  },
  {
   "cell_type": "code",
   "execution_count": null,
   "metadata": {},
   "outputs": [],
   "source": []
  }
 ],
 "metadata": {
  "kernelspec": {
   "display_name": "Python 3",
   "language": "python",
   "name": "python3"
  },
  "language_info": {
   "codemirror_mode": {
    "name": "ipython",
    "version": 3
   },
   "file_extension": ".py",
   "mimetype": "text/x-python",
   "name": "python",
   "nbconvert_exporter": "python",
   "pygments_lexer": "ipython3",
   "version": "3.7.8"
  }
 },
 "nbformat": 4,
 "nbformat_minor": 4
}
