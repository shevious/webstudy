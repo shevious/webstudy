{
 "cells": [
  {
   "cell_type": "code",
   "execution_count": 1,
   "metadata": {},
   "outputs": [
    {
     "name": "stdout",
     "output_type": "stream",
     "text": [
      "./자동측정망_팔당상수원보호구역_시간자료2018/경안천2018.xlsx\n",
      "             측정날짜  수계 측정소명      MSR_DATE_R    총유기탄소  염화메틸렌  독성도(발광박테리아)  \\\n",
      "0  20180101000000  한강  경안천  20180101000000  2.38667    0.0          NaN   \n",
      "1  20180101010000  한강  경안천  20180101010000  2.40667    0.0          NaN   \n",
      "2  20180101020000  한강  경안천  20180101020000  2.38000    0.0          NaN   \n",
      "3  20180101030000  한강  경안천  20180101030000  2.38333    0.0          NaN   \n",
      "4  20180101040000  한강  경안천  20180101040000  2.42167    0.0          NaN   \n",
      "\n",
      "   1.1.1-트리클로로에테인   벤젠  사염화탄소  ...  수소이온농도  전기전도도  용존산소  독성지수(좌)  유영속도(좌)  \\\n",
      "0             0.0  0.0    0.0  ...     NaN    NaN   NaN      1.0  0.55750   \n",
      "1             0.0  0.0    0.0  ...     NaN    NaN   NaN      0.0  0.53583   \n",
      "2             0.0  0.0    0.0  ...     NaN    NaN   NaN      0.0  0.55917   \n",
      "3             0.0  0.0    0.0  ...     NaN    NaN   NaN      0.0  0.57083   \n",
      "4             0.0  0.0    0.0  ...     NaN    NaN   NaN      0.0  0.58000   \n",
      "\n",
      "   개체수(좌)  독성지수(우)  유영속도(우)  개체수(우)  탁도  \n",
      "0    14.0      0.0  0.58917    15.0 NaN  \n",
      "1    14.0      0.0  0.59083    15.0 NaN  \n",
      "2    14.0      0.0  0.57167    15.0 NaN  \n",
      "3    14.0      0.0  0.58583    15.0 NaN  \n",
      "4    14.0      0.0  0.57167    15.0 NaN  \n",
      "\n",
      "[5 rows x 33 columns]\n"
     ]
    }
   ],
   "source": [
    "import pandas as pd\n",
    "import numpy as np\n",
    "from glob import glob\n",
    "import os\n",
    "\n",
    "folder = '.'\n",
    "file_names = glob(os.path.join(folder, '*/*.xlsx'))\n",
    "file_name = file_names[0]\n",
    "\n",
    "print(file_name)\n",
    "data_all = pd.read_excel(file_name)\n",
    "print(data_all.head())"
   ]
  },
  {
   "cell_type": "markdown",
   "metadata": {},
   "source": [
    "# markdown test"
   ]
  },
  {
   "cell_type": "code",
   "execution_count": 2,
   "metadata": {},
   "outputs": [
    {
     "data": {
      "text/html": [
       "<div>\n",
       "<style scoped>\n",
       "    .dataframe tbody tr th:only-of-type {\n",
       "        vertical-align: middle;\n",
       "    }\n",
       "\n",
       "    .dataframe tbody tr th {\n",
       "        vertical-align: top;\n",
       "    }\n",
       "\n",
       "    .dataframe thead th {\n",
       "        text-align: right;\n",
       "    }\n",
       "</style>\n",
       "<table border=\"1\" class=\"dataframe\">\n",
       "  <thead>\n",
       "    <tr style=\"text-align: right;\">\n",
       "      <th></th>\n",
       "      <th>측정날짜</th>\n",
       "      <th>수계</th>\n",
       "      <th>측정소명</th>\n",
       "      <th>MSR_DATE_R</th>\n",
       "      <th>총유기탄소</th>\n",
       "      <th>염화메틸렌</th>\n",
       "      <th>독성도(발광박테리아)</th>\n",
       "      <th>1.1.1-트리클로로에테인</th>\n",
       "      <th>벤젠</th>\n",
       "      <th>사염화탄소</th>\n",
       "      <th>...</th>\n",
       "      <th>수소이온농도</th>\n",
       "      <th>전기전도도</th>\n",
       "      <th>용존산소</th>\n",
       "      <th>독성지수(좌)</th>\n",
       "      <th>유영속도(좌)</th>\n",
       "      <th>개체수(좌)</th>\n",
       "      <th>독성지수(우)</th>\n",
       "      <th>유영속도(우)</th>\n",
       "      <th>개체수(우)</th>\n",
       "      <th>탁도</th>\n",
       "    </tr>\n",
       "  </thead>\n",
       "  <tbody>\n",
       "    <tr>\n",
       "      <th>0</th>\n",
       "      <td>20180101000000</td>\n",
       "      <td>한강</td>\n",
       "      <td>경안천</td>\n",
       "      <td>20180101000000</td>\n",
       "      <td>2.38667</td>\n",
       "      <td>0.0</td>\n",
       "      <td>NaN</td>\n",
       "      <td>0.0</td>\n",
       "      <td>0.0</td>\n",
       "      <td>0.0</td>\n",
       "      <td>...</td>\n",
       "      <td>NaN</td>\n",
       "      <td>NaN</td>\n",
       "      <td>NaN</td>\n",
       "      <td>1.0</td>\n",
       "      <td>0.55750</td>\n",
       "      <td>14.0</td>\n",
       "      <td>0.0</td>\n",
       "      <td>0.58917</td>\n",
       "      <td>15.0</td>\n",
       "      <td>NaN</td>\n",
       "    </tr>\n",
       "    <tr>\n",
       "      <th>1</th>\n",
       "      <td>20180101010000</td>\n",
       "      <td>한강</td>\n",
       "      <td>경안천</td>\n",
       "      <td>20180101010000</td>\n",
       "      <td>2.40667</td>\n",
       "      <td>0.0</td>\n",
       "      <td>NaN</td>\n",
       "      <td>0.0</td>\n",
       "      <td>0.0</td>\n",
       "      <td>0.0</td>\n",
       "      <td>...</td>\n",
       "      <td>NaN</td>\n",
       "      <td>NaN</td>\n",
       "      <td>NaN</td>\n",
       "      <td>0.0</td>\n",
       "      <td>0.53583</td>\n",
       "      <td>14.0</td>\n",
       "      <td>0.0</td>\n",
       "      <td>0.59083</td>\n",
       "      <td>15.0</td>\n",
       "      <td>NaN</td>\n",
       "    </tr>\n",
       "    <tr>\n",
       "      <th>2</th>\n",
       "      <td>20180101020000</td>\n",
       "      <td>한강</td>\n",
       "      <td>경안천</td>\n",
       "      <td>20180101020000</td>\n",
       "      <td>2.38000</td>\n",
       "      <td>0.0</td>\n",
       "      <td>NaN</td>\n",
       "      <td>0.0</td>\n",
       "      <td>0.0</td>\n",
       "      <td>0.0</td>\n",
       "      <td>...</td>\n",
       "      <td>NaN</td>\n",
       "      <td>NaN</td>\n",
       "      <td>NaN</td>\n",
       "      <td>0.0</td>\n",
       "      <td>0.55917</td>\n",
       "      <td>14.0</td>\n",
       "      <td>0.0</td>\n",
       "      <td>0.57167</td>\n",
       "      <td>15.0</td>\n",
       "      <td>NaN</td>\n",
       "    </tr>\n",
       "    <tr>\n",
       "      <th>3</th>\n",
       "      <td>20180101030000</td>\n",
       "      <td>한강</td>\n",
       "      <td>경안천</td>\n",
       "      <td>20180101030000</td>\n",
       "      <td>2.38333</td>\n",
       "      <td>0.0</td>\n",
       "      <td>NaN</td>\n",
       "      <td>0.0</td>\n",
       "      <td>0.0</td>\n",
       "      <td>0.0</td>\n",
       "      <td>...</td>\n",
       "      <td>NaN</td>\n",
       "      <td>NaN</td>\n",
       "      <td>NaN</td>\n",
       "      <td>0.0</td>\n",
       "      <td>0.57083</td>\n",
       "      <td>14.0</td>\n",
       "      <td>0.0</td>\n",
       "      <td>0.58583</td>\n",
       "      <td>15.0</td>\n",
       "      <td>NaN</td>\n",
       "    </tr>\n",
       "    <tr>\n",
       "      <th>4</th>\n",
       "      <td>20180101040000</td>\n",
       "      <td>한강</td>\n",
       "      <td>경안천</td>\n",
       "      <td>20180101040000</td>\n",
       "      <td>2.42167</td>\n",
       "      <td>0.0</td>\n",
       "      <td>NaN</td>\n",
       "      <td>0.0</td>\n",
       "      <td>0.0</td>\n",
       "      <td>0.0</td>\n",
       "      <td>...</td>\n",
       "      <td>NaN</td>\n",
       "      <td>NaN</td>\n",
       "      <td>NaN</td>\n",
       "      <td>0.0</td>\n",
       "      <td>0.58000</td>\n",
       "      <td>14.0</td>\n",
       "      <td>0.0</td>\n",
       "      <td>0.57167</td>\n",
       "      <td>15.0</td>\n",
       "      <td>NaN</td>\n",
       "    </tr>\n",
       "  </tbody>\n",
       "</table>\n",
       "<p>5 rows × 33 columns</p>\n",
       "</div>"
      ],
      "text/plain": [
       "             측정날짜  수계 측정소명      MSR_DATE_R    총유기탄소  염화메틸렌  독성도(발광박테리아)  \\\n",
       "0  20180101000000  한강  경안천  20180101000000  2.38667    0.0          NaN   \n",
       "1  20180101010000  한강  경안천  20180101010000  2.40667    0.0          NaN   \n",
       "2  20180101020000  한강  경안천  20180101020000  2.38000    0.0          NaN   \n",
       "3  20180101030000  한강  경안천  20180101030000  2.38333    0.0          NaN   \n",
       "4  20180101040000  한강  경안천  20180101040000  2.42167    0.0          NaN   \n",
       "\n",
       "   1.1.1-트리클로로에테인   벤젠  사염화탄소  ...  수소이온농도  전기전도도  용존산소  독성지수(좌)  유영속도(좌)  \\\n",
       "0             0.0  0.0    0.0  ...     NaN    NaN   NaN      1.0  0.55750   \n",
       "1             0.0  0.0    0.0  ...     NaN    NaN   NaN      0.0  0.53583   \n",
       "2             0.0  0.0    0.0  ...     NaN    NaN   NaN      0.0  0.55917   \n",
       "3             0.0  0.0    0.0  ...     NaN    NaN   NaN      0.0  0.57083   \n",
       "4             0.0  0.0    0.0  ...     NaN    NaN   NaN      0.0  0.58000   \n",
       "\n",
       "   개체수(좌)  독성지수(우)  유영속도(우)  개체수(우)  탁도  \n",
       "0    14.0      0.0  0.58917    15.0 NaN  \n",
       "1    14.0      0.0  0.59083    15.0 NaN  \n",
       "2    14.0      0.0  0.57167    15.0 NaN  \n",
       "3    14.0      0.0  0.58583    15.0 NaN  \n",
       "4    14.0      0.0  0.57167    15.0 NaN  \n",
       "\n",
       "[5 rows x 33 columns]"
      ]
     },
     "execution_count": 2,
     "metadata": {},
     "output_type": "execute_result"
    }
   ],
   "source": [
    "data_all.head()"
   ]
  },
  {
   "cell_type": "code",
   "execution_count": 95,
   "metadata": {},
   "outputs": [
    {
     "data": {
      "text/plain": [
       "RangeIndex(start=0, stop=8739, step=1)"
      ]
     },
     "execution_count": 95,
     "metadata": {},
     "output_type": "execute_result"
    }
   ],
   "source": [
    "data_all.index"
   ]
  },
  {
   "cell_type": "code",
   "execution_count": 96,
   "metadata": {},
   "outputs": [
    {
     "data": {
      "text/plain": [
       "Index(['측정날짜', '수계', '측정소명', 'MSR_DATE_R', '총유기탄소', '염화메틸렌', '독성도(발광박테리아)',\n",
       "       '1.1.1-트리클로로에테인', '벤젠', '사염화탄소', '트리클로로에틸렌', '톨루엔', '테트라클로로에틸렌', '에틸벤젠',\n",
       "       'm,p-자일렌', 'o-자일렌', '[ECD]염화메틸렌', '[ECD]1.1.1-트리클로로에테인', '[ECD]사염화탄소',\n",
       "       '[ECD]트리클로로에틸렌', '[ECD]테트라클로로에틸렌', '클로로필-a', '수온', '수소이온농도', '전기전도도',\n",
       "       '용존산소', '독성지수(좌)', '유영속도(좌)', '개체수(좌)', '독성지수(우)', '유영속도(우)', '개체수(우)',\n",
       "       '탁도'],\n",
       "      dtype='object')"
      ]
     },
     "execution_count": 96,
     "metadata": {},
     "output_type": "execute_result"
    }
   ],
   "source": [
    "data_all.columns"
   ]
  },
  {
   "cell_type": "code",
   "execution_count": 97,
   "metadata": {},
   "outputs": [
    {
     "data": {
      "text/plain": [
       "array([[20180101000000, '한강', '경안천', ..., 0.58917, 15.0, nan],\n",
       "       [20180101010000, '한강', '경안천', ..., 0.59083, 15.0, nan],\n",
       "       [20180101020000, '한강', '경안천', ..., 0.57167, 15.0, nan],\n",
       "       ...,\n",
       "       [20181231210000, '한강', '경안천', ..., 0.40833, 13.16667, 0.9],\n",
       "       [20181231220000, '한강', '경안천', ..., 0.42167, 12.5, nan],\n",
       "       [20181231230000, '한강', '경안천', ..., 0.41167, 12.75, nan]],\n",
       "      dtype=object)"
      ]
     },
     "execution_count": 97,
     "metadata": {},
     "output_type": "execute_result"
    }
   ],
   "source": [
    "data_all.values"
   ]
  },
  {
   "cell_type": "code",
   "execution_count": 98,
   "metadata": {},
   "outputs": [
    {
     "data": {
      "text/plain": [
       "0       2.38667\n",
       "1       2.40667\n",
       "2       2.38000\n",
       "3       2.38333\n",
       "4       2.42167\n",
       "         ...   \n",
       "8734    2.33000\n",
       "8735    2.38250\n",
       "8736    2.42667\n",
       "8737    2.44333\n",
       "8738    2.51500\n",
       "Name: 총유기탄소, Length: 8739, dtype: float64"
      ]
     },
     "execution_count": 98,
     "metadata": {},
     "output_type": "execute_result"
    }
   ],
   "source": [
    "data_all.iloc[:,4]"
   ]
  },
  {
   "cell_type": "code",
   "execution_count": 8,
   "metadata": {},
   "outputs": [
    {
     "data": {
      "text/plain": [
       "pandas.core.series.Series"
      ]
     },
     "execution_count": 8,
     "metadata": {},
     "output_type": "execute_result"
    }
   ],
   "source": [
    "type(data_all.iloc[:,4])"
   ]
  },
  {
   "cell_type": "code",
   "execution_count": 118,
   "metadata": {},
   "outputs": [
    {
     "data": {
      "text/plain": [
       "0       2.38667\n",
       "1           NaN\n",
       "2       2.38000\n",
       "3       2.38333\n",
       "4       2.42167\n",
       "         ...   \n",
       "8734    2.33000\n",
       "8735    2.38250\n",
       "8736    2.42667\n",
       "8737    2.44333\n",
       "8738    2.51500\n",
       "Name: 총유기탄소, Length: 8739, dtype: float64"
      ]
     },
     "execution_count": 118,
     "metadata": {},
     "output_type": "execute_result"
    }
   ],
   "source": [
    "toc = data_all.iloc[:,4]\n",
    "toc"
   ]
  },
  {
   "cell_type": "code",
   "execution_count": 124,
   "metadata": {},
   "outputs": [
    {
     "data": {
      "text/plain": [
       "0       False\n",
       "1        True\n",
       "2       False\n",
       "3       False\n",
       "4       False\n",
       "        ...  \n",
       "8734    False\n",
       "8735    False\n",
       "8736    False\n",
       "8737    False\n",
       "8738    False\n",
       "Name: 총유기탄소, Length: 8739, dtype: bool"
      ]
     },
     "execution_count": 124,
     "metadata": {},
     "output_type": "execute_result"
    }
   ],
   "source": [
    "is_nan = toc.isna()\n",
    "is_nan"
   ]
  },
  {
   "cell_type": "code",
   "execution_count": 110,
   "metadata": {},
   "outputs": [
    {
     "data": {
      "text/plain": [
       "1      NaN\n",
       "40     NaN\n",
       "62     NaN\n",
       "63     NaN\n",
       "64     NaN\n",
       "        ..\n",
       "8608   NaN\n",
       "8609   NaN\n",
       "8639   NaN\n",
       "8729   NaN\n",
       "1      NaN\n",
       "Name: 총유기탄소, Length: 697, dtype: float64"
      ]
     },
     "execution_count": 110,
     "metadata": {},
     "output_type": "execute_result"
    }
   ],
   "source": [
    "toc[is_nan]"
   ]
  },
  {
   "cell_type": "code",
   "execution_count": 21,
   "metadata": {},
   "outputs": [
    {
     "data": {
      "text/plain": [
       "0       2.40667\n",
       "1       2.38000\n",
       "2       2.38333\n",
       "3       2.42167\n",
       "4       2.41500\n",
       "         ...   \n",
       "8734    2.38250\n",
       "8735    2.42667\n",
       "8736    2.44333\n",
       "8737    2.51500\n",
       "8738        NaN\n",
       "Name: 총유기탄소, Length: 8739, dtype: float64"
      ]
     },
     "execution_count": 21,
     "metadata": {},
     "output_type": "execute_result"
    }
   ],
   "source": [
    "toc.shift(-1)"
   ]
  },
  {
   "cell_type": "code",
   "execution_count": 48,
   "metadata": {},
   "outputs": [
    {
     "data": {
      "text/plain": [
       "0       False\n",
       "1        True\n",
       "2        True\n",
       "3        True\n",
       "4        True\n",
       "        ...  \n",
       "8734     True\n",
       "8735     True\n",
       "8736     True\n",
       "8737     True\n",
       "8738     True\n",
       "Name: 총유기탄소, Length: 8739, dtype: bool"
      ]
     },
     "execution_count": 48,
     "metadata": {},
     "output_type": "execute_result"
    }
   ],
   "source": [
    "is_valid_up = ~toc.shift().isna()\n",
    "is_valid_up"
   ]
  },
  {
   "cell_type": "code",
   "execution_count": 37,
   "metadata": {},
   "outputs": [
    {
     "data": {
      "text/plain": [
       "0        True\n",
       "1        True\n",
       "2        True\n",
       "3        True\n",
       "4        True\n",
       "        ...  \n",
       "8734     True\n",
       "8735     True\n",
       "8736     True\n",
       "8737     True\n",
       "8738    False\n",
       "Name: 총유기탄소, Length: 8739, dtype: bool"
      ]
     },
     "execution_count": 37,
     "metadata": {},
     "output_type": "execute_result"
    }
   ],
   "source": [
    "is_valid_down = ~toc.shift(-1).isna()\n",
    "is_valid_down"
   ]
  },
  {
   "cell_type": "code",
   "execution_count": 61,
   "metadata": {},
   "outputs": [
    {
     "data": {
      "text/plain": [
       "695"
      ]
     },
     "execution_count": 61,
     "metadata": {},
     "output_type": "execute_result"
    }
   ],
   "source": [
    "len(toc[is_nan])"
   ]
  },
  {
   "cell_type": "code",
   "execution_count": 62,
   "metadata": {},
   "outputs": [
    {
     "data": {
      "text/plain": [
       "39"
      ]
     },
     "execution_count": 62,
     "metadata": {},
     "output_type": "execute_result"
    }
   ],
   "source": [
    "len(toc[is_nan & is_valid_up & is_valid_down])"
   ]
  },
  {
   "cell_type": "code",
   "execution_count": 132,
   "metadata": {},
   "outputs": [
    {
     "data": {
      "text/plain": [
       "0          1\n",
       "1          1\n",
       "2          2\n",
       "3          3\n",
       "4          4\n",
       "        ... \n",
       "8734    8039\n",
       "8735    8040\n",
       "8736    8041\n",
       "8737    8042\n",
       "8738    8043\n",
       "Name: 총유기탄소, Length: 8739, dtype: int64"
      ]
     },
     "execution_count": 132,
     "metadata": {},
     "output_type": "execute_result"
    }
   ],
   "source": [
    "cum = toc.notnull().astype(int).cumsum()\n",
    "cum"
   ]
  },
  {
   "cell_type": "code",
   "execution_count": 134,
   "metadata": {},
   "outputs": [
    {
     "data": {
      "text/plain": [
       "0          1\n",
       "1          1\n",
       "2          2\n",
       "3          3\n",
       "4          4\n",
       "        ... \n",
       "8734    8039\n",
       "8735    8040\n",
       "8736    8041\n",
       "8737    8042\n",
       "8738    8043\n",
       "Name: 총유기탄소, Length: 8739, dtype: int64"
      ]
     },
     "execution_count": 134,
     "metadata": {},
     "output_type": "execute_result"
    }
   ],
   "source": [
    "for rows in groupby()"
   ]
  },
  {
   "cell_type": "code",
   "execution_count": null,
   "metadata": {},
   "outputs": [],
   "source": [
    "cum[]"
   ]
  },
  {
   "cell_type": "code",
   "execution_count": 130,
   "metadata": {},
   "outputs": [],
   "source": [
    "cum[is_nan] = np.NaN"
   ]
  },
  {
   "cell_type": "code",
   "execution_count": 131,
   "metadata": {},
   "outputs": [
    {
     "data": {
      "text/plain": [
       "0          1.0\n",
       "1          NaN\n",
       "2          2.0\n",
       "3          3.0\n",
       "4          4.0\n",
       "         ...  \n",
       "8734    8039.0\n",
       "8735    8040.0\n",
       "8736    8041.0\n",
       "8737    8042.0\n",
       "8738    8043.0\n",
       "Name: 총유기탄소, Length: 8739, dtype: float64"
      ]
     },
     "execution_count": 131,
     "metadata": {},
     "output_type": "execute_result"
    }
   ],
   "source": [
    "cum"
   ]
  },
  {
   "cell_type": "code",
   "execution_count": 71,
   "metadata": {},
   "outputs": [],
   "source": [
    "data_all['group']=cum"
   ]
  },
  {
   "cell_type": "code",
   "execution_count": 73,
   "metadata": {},
   "outputs": [
    {
     "data": {
      "text/plain": [
       "0       False\n",
       "1       False\n",
       "2       False\n",
       "3       False\n",
       "4       False\n",
       "        ...  \n",
       "8734    False\n",
       "8735    False\n",
       "8736    False\n",
       "8737    False\n",
       "8738    False\n",
       "Name: 총유기탄소, Length: 8739, dtype: bool"
      ]
     },
     "execution_count": 73,
     "metadata": {},
     "output_type": "execute_result"
    }
   ],
   "source": [
    "is_nan"
   ]
  },
  {
   "cell_type": "code",
   "execution_count": 76,
   "metadata": {},
   "outputs": [],
   "source": [
    "index_nan = is_nan[is_nan].index"
   ]
  },
  {
   "cell_type": "code",
   "execution_count": 77,
   "metadata": {},
   "outputs": [
    {
     "data": {
      "text/plain": [
       "Int64Index([  40,   62,   63,   64,  106,  107,  182,  183,  226,  227,\n",
       "            ...\n",
       "            8441, 8488, 8489, 8557, 8558, 8573, 8608, 8609, 8639, 8729],\n",
       "           dtype='int64', length=695)"
      ]
     },
     "execution_count": 77,
     "metadata": {},
     "output_type": "execute_result"
    }
   ],
   "source": [
    "index_nan"
   ]
  },
  {
   "cell_type": "code",
   "execution_count": 79,
   "metadata": {},
   "outputs": [
    {
     "data": {
      "text/plain": [
       "0                                                  2.38667\n",
       "1                                                  2.40667\n",
       "2                                                     2.38\n",
       "3                                                  2.38333\n",
       "4                                                  2.42167\n",
       "                               ...                        \n",
       "8735                                                2.3825\n",
       "8736                                               2.42667\n",
       "8737                                               2.44333\n",
       "8738                                                 2.515\n",
       "group    0          1\n",
       "1          2\n",
       "2          3\n",
       "3      ...\n",
       "Name: 총유기탄소, Length: 8045, dtype: object"
      ]
     },
     "execution_count": 79,
     "metadata": {},
     "output_type": "execute_result"
    }
   ],
   "source": [
    "toc.drop(index_nan)"
   ]
  },
  {
   "cell_type": "code",
   "execution_count": 82,
   "metadata": {},
   "outputs": [
    {
     "data": {
      "text/plain": [
       "0       2.38667\n",
       "1       2.40667\n",
       "2       2.38000\n",
       "3       2.38333\n",
       "4       2.42167\n",
       "         ...   \n",
       "8734    2.33000\n",
       "8735    2.38250\n",
       "8736    2.42667\n",
       "8737    2.44333\n",
       "8738    2.51500\n",
       "Name: 총유기탄소, Length: 8044, dtype: float64"
      ]
     },
     "execution_count": 82,
     "metadata": {},
     "output_type": "execute_result"
    }
   ],
   "source": [
    "toc.drop(index_nan)"
   ]
  },
  {
   "cell_type": "code",
   "execution_count": 83,
   "metadata": {},
   "outputs": [
    {
     "data": {
      "text/plain": [
       "0       2.38667\n",
       "1       2.40667\n",
       "2       2.38000\n",
       "3       2.38333\n",
       "4       2.42167\n",
       "         ...   \n",
       "8734    2.33000\n",
       "8735    2.38250\n",
       "8736    2.42667\n",
       "8737    2.44333\n",
       "8738    2.51500\n",
       "Name: 총유기탄소, Length: 8739, dtype: float64"
      ]
     },
     "execution_count": 83,
     "metadata": {},
     "output_type": "execute_result"
    }
   ],
   "source": [
    "toc"
   ]
  },
  {
   "cell_type": "code",
   "execution_count": 84,
   "metadata": {},
   "outputs": [
    {
     "data": {
      "text/plain": [
       "Int64Index([  40,   62,   63,   64,  106,  107,  182,  183,  226,  227,\n",
       "            ...\n",
       "            8441, 8488, 8489, 8557, 8558, 8573, 8608, 8609, 8639, 8729],\n",
       "           dtype='int64', length=695)"
      ]
     },
     "execution_count": 84,
     "metadata": {},
     "output_type": "execute_result"
    }
   ],
   "source": [
    "index_nan"
   ]
  },
  {
   "cell_type": "code",
   "execution_count": 87,
   "metadata": {},
   "outputs": [
    {
     "data": {
      "text/plain": [
       "0       2.38667\n",
       "1       2.40667\n",
       "2       2.38000\n",
       "3       2.38333\n",
       "4       2.42167\n",
       "         ...   \n",
       "8734    2.33000\n",
       "8735    2.38250\n",
       "8736    2.42667\n",
       "8737    2.44333\n",
       "8738    2.51500\n",
       "Name: 총유기탄소, Length: 8739, dtype: float64"
      ]
     },
     "execution_count": 87,
     "metadata": {},
     "output_type": "execute_result"
    }
   ],
   "source": [
    "toc"
   ]
  },
  {
   "cell_type": "code",
   "execution_count": 86,
   "metadata": {},
   "outputs": [
    {
     "data": {
      "text/plain": [
       "0       False\n",
       "1       False\n",
       "2       False\n",
       "3       False\n",
       "4       False\n",
       "        ...  \n",
       "8734    False\n",
       "8735    False\n",
       "8736    False\n",
       "8737    False\n",
       "8738    False\n",
       "Name: 총유기탄소, Length: 8739, dtype: bool"
      ]
     },
     "execution_count": 86,
     "metadata": {},
     "output_type": "execute_result"
    }
   ],
   "source": [
    "toc.isna()"
   ]
  },
  {
   "cell_type": "code",
   "execution_count": 90,
   "metadata": {},
   "outputs": [],
   "source": [
    "toc.drop(toc.index[index_nan], inplace=True)"
   ]
  },
  {
   "cell_type": "code",
   "execution_count": 91,
   "metadata": {},
   "outputs": [
    {
     "data": {
      "text/plain": [
       "0       2.38667\n",
       "1       2.40667\n",
       "2       2.38000\n",
       "3       2.38333\n",
       "4       2.42167\n",
       "         ...   \n",
       "8734    2.33000\n",
       "8735    2.38250\n",
       "8736    2.42667\n",
       "8737    2.44333\n",
       "8738    2.51500\n",
       "Name: 총유기탄소, Length: 8044, dtype: float64"
      ]
     },
     "execution_count": 91,
     "metadata": {},
     "output_type": "execute_result"
    }
   ],
   "source": [
    "toc"
   ]
  },
  {
   "cell_type": "code",
   "execution_count": 92,
   "metadata": {},
   "outputs": [
    {
     "data": {
      "text/html": [
       "<div>\n",
       "<style scoped>\n",
       "    .dataframe tbody tr th:only-of-type {\n",
       "        vertical-align: middle;\n",
       "    }\n",
       "\n",
       "    .dataframe tbody tr th {\n",
       "        vertical-align: top;\n",
       "    }\n",
       "\n",
       "    .dataframe thead th {\n",
       "        text-align: right;\n",
       "    }\n",
       "</style>\n",
       "<table border=\"1\" class=\"dataframe\">\n",
       "  <thead>\n",
       "    <tr style=\"text-align: right;\">\n",
       "      <th></th>\n",
       "      <th>측정날짜</th>\n",
       "      <th>수계</th>\n",
       "      <th>측정소명</th>\n",
       "      <th>MSR_DATE_R</th>\n",
       "      <th>총유기탄소</th>\n",
       "      <th>염화메틸렌</th>\n",
       "      <th>독성도(발광박테리아)</th>\n",
       "      <th>1.1.1-트리클로로에테인</th>\n",
       "      <th>벤젠</th>\n",
       "      <th>사염화탄소</th>\n",
       "      <th>...</th>\n",
       "      <th>전기전도도</th>\n",
       "      <th>용존산소</th>\n",
       "      <th>독성지수(좌)</th>\n",
       "      <th>유영속도(좌)</th>\n",
       "      <th>개체수(좌)</th>\n",
       "      <th>독성지수(우)</th>\n",
       "      <th>유영속도(우)</th>\n",
       "      <th>개체수(우)</th>\n",
       "      <th>탁도</th>\n",
       "      <th>group</th>\n",
       "    </tr>\n",
       "  </thead>\n",
       "  <tbody>\n",
       "    <tr>\n",
       "      <th>0</th>\n",
       "      <td>20180101000000</td>\n",
       "      <td>한강</td>\n",
       "      <td>경안천</td>\n",
       "      <td>20180101000000</td>\n",
       "      <td>2.38667</td>\n",
       "      <td>0.0</td>\n",
       "      <td>NaN</td>\n",
       "      <td>0.0</td>\n",
       "      <td>0.0</td>\n",
       "      <td>0.0</td>\n",
       "      <td>...</td>\n",
       "      <td>NaN</td>\n",
       "      <td>NaN</td>\n",
       "      <td>1.0</td>\n",
       "      <td>0.55750</td>\n",
       "      <td>14.00000</td>\n",
       "      <td>0.0</td>\n",
       "      <td>0.58917</td>\n",
       "      <td>15.00000</td>\n",
       "      <td>NaN</td>\n",
       "      <td>1</td>\n",
       "    </tr>\n",
       "    <tr>\n",
       "      <th>1</th>\n",
       "      <td>20180101010000</td>\n",
       "      <td>한강</td>\n",
       "      <td>경안천</td>\n",
       "      <td>20180101010000</td>\n",
       "      <td>2.40667</td>\n",
       "      <td>0.0</td>\n",
       "      <td>NaN</td>\n",
       "      <td>0.0</td>\n",
       "      <td>0.0</td>\n",
       "      <td>0.0</td>\n",
       "      <td>...</td>\n",
       "      <td>NaN</td>\n",
       "      <td>NaN</td>\n",
       "      <td>0.0</td>\n",
       "      <td>0.53583</td>\n",
       "      <td>14.00000</td>\n",
       "      <td>0.0</td>\n",
       "      <td>0.59083</td>\n",
       "      <td>15.00000</td>\n",
       "      <td>NaN</td>\n",
       "      <td>2</td>\n",
       "    </tr>\n",
       "    <tr>\n",
       "      <th>2</th>\n",
       "      <td>20180101020000</td>\n",
       "      <td>한강</td>\n",
       "      <td>경안천</td>\n",
       "      <td>20180101020000</td>\n",
       "      <td>2.38000</td>\n",
       "      <td>0.0</td>\n",
       "      <td>NaN</td>\n",
       "      <td>0.0</td>\n",
       "      <td>0.0</td>\n",
       "      <td>0.0</td>\n",
       "      <td>...</td>\n",
       "      <td>NaN</td>\n",
       "      <td>NaN</td>\n",
       "      <td>0.0</td>\n",
       "      <td>0.55917</td>\n",
       "      <td>14.00000</td>\n",
       "      <td>0.0</td>\n",
       "      <td>0.57167</td>\n",
       "      <td>15.00000</td>\n",
       "      <td>NaN</td>\n",
       "      <td>3</td>\n",
       "    </tr>\n",
       "    <tr>\n",
       "      <th>3</th>\n",
       "      <td>20180101030000</td>\n",
       "      <td>한강</td>\n",
       "      <td>경안천</td>\n",
       "      <td>20180101030000</td>\n",
       "      <td>2.38333</td>\n",
       "      <td>0.0</td>\n",
       "      <td>NaN</td>\n",
       "      <td>0.0</td>\n",
       "      <td>0.0</td>\n",
       "      <td>0.0</td>\n",
       "      <td>...</td>\n",
       "      <td>NaN</td>\n",
       "      <td>NaN</td>\n",
       "      <td>0.0</td>\n",
       "      <td>0.57083</td>\n",
       "      <td>14.00000</td>\n",
       "      <td>0.0</td>\n",
       "      <td>0.58583</td>\n",
       "      <td>15.00000</td>\n",
       "      <td>NaN</td>\n",
       "      <td>4</td>\n",
       "    </tr>\n",
       "    <tr>\n",
       "      <th>4</th>\n",
       "      <td>20180101040000</td>\n",
       "      <td>한강</td>\n",
       "      <td>경안천</td>\n",
       "      <td>20180101040000</td>\n",
       "      <td>2.42167</td>\n",
       "      <td>0.0</td>\n",
       "      <td>NaN</td>\n",
       "      <td>0.0</td>\n",
       "      <td>0.0</td>\n",
       "      <td>0.0</td>\n",
       "      <td>...</td>\n",
       "      <td>NaN</td>\n",
       "      <td>NaN</td>\n",
       "      <td>0.0</td>\n",
       "      <td>0.58000</td>\n",
       "      <td>14.00000</td>\n",
       "      <td>0.0</td>\n",
       "      <td>0.57167</td>\n",
       "      <td>15.00000</td>\n",
       "      <td>NaN</td>\n",
       "      <td>5</td>\n",
       "    </tr>\n",
       "    <tr>\n",
       "      <th>...</th>\n",
       "      <td>...</td>\n",
       "      <td>...</td>\n",
       "      <td>...</td>\n",
       "      <td>...</td>\n",
       "      <td>...</td>\n",
       "      <td>...</td>\n",
       "      <td>...</td>\n",
       "      <td>...</td>\n",
       "      <td>...</td>\n",
       "      <td>...</td>\n",
       "      <td>...</td>\n",
       "      <td>...</td>\n",
       "      <td>...</td>\n",
       "      <td>...</td>\n",
       "      <td>...</td>\n",
       "      <td>...</td>\n",
       "      <td>...</td>\n",
       "      <td>...</td>\n",
       "      <td>...</td>\n",
       "      <td>...</td>\n",
       "      <td>...</td>\n",
       "    </tr>\n",
       "    <tr>\n",
       "      <th>8734</th>\n",
       "      <td>20181231190000</td>\n",
       "      <td>한강</td>\n",
       "      <td>경안천</td>\n",
       "      <td>20181231190000</td>\n",
       "      <td>2.33000</td>\n",
       "      <td>0.0</td>\n",
       "      <td>-5.90000</td>\n",
       "      <td>0.0</td>\n",
       "      <td>0.0</td>\n",
       "      <td>0.0</td>\n",
       "      <td>...</td>\n",
       "      <td>439.50000</td>\n",
       "      <td>14.05000</td>\n",
       "      <td>0.0</td>\n",
       "      <td>0.39917</td>\n",
       "      <td>9.75000</td>\n",
       "      <td>0.0</td>\n",
       "      <td>0.42833</td>\n",
       "      <td>13.50000</td>\n",
       "      <td>NaN</td>\n",
       "      <td>8040</td>\n",
       "    </tr>\n",
       "    <tr>\n",
       "      <th>8735</th>\n",
       "      <td>20181231200000</td>\n",
       "      <td>한강</td>\n",
       "      <td>경안천</td>\n",
       "      <td>20181231200000</td>\n",
       "      <td>2.38250</td>\n",
       "      <td>0.0</td>\n",
       "      <td>-7.61667</td>\n",
       "      <td>0.0</td>\n",
       "      <td>0.0</td>\n",
       "      <td>0.0</td>\n",
       "      <td>...</td>\n",
       "      <td>440.00000</td>\n",
       "      <td>14.15833</td>\n",
       "      <td>0.0</td>\n",
       "      <td>0.40583</td>\n",
       "      <td>10.08333</td>\n",
       "      <td>0.0</td>\n",
       "      <td>0.41250</td>\n",
       "      <td>13.33333</td>\n",
       "      <td>0.9</td>\n",
       "      <td>8041</td>\n",
       "    </tr>\n",
       "    <tr>\n",
       "      <th>8736</th>\n",
       "      <td>20181231210000</td>\n",
       "      <td>한강</td>\n",
       "      <td>경안천</td>\n",
       "      <td>20181231210000</td>\n",
       "      <td>2.42667</td>\n",
       "      <td>0.0</td>\n",
       "      <td>-5.28833</td>\n",
       "      <td>0.0</td>\n",
       "      <td>0.0</td>\n",
       "      <td>0.0</td>\n",
       "      <td>...</td>\n",
       "      <td>440.66667</td>\n",
       "      <td>14.30000</td>\n",
       "      <td>0.0</td>\n",
       "      <td>0.39333</td>\n",
       "      <td>9.66667</td>\n",
       "      <td>0.0</td>\n",
       "      <td>0.40833</td>\n",
       "      <td>13.16667</td>\n",
       "      <td>0.9</td>\n",
       "      <td>8042</td>\n",
       "    </tr>\n",
       "    <tr>\n",
       "      <th>8737</th>\n",
       "      <td>20181231220000</td>\n",
       "      <td>한강</td>\n",
       "      <td>경안천</td>\n",
       "      <td>20181231220000</td>\n",
       "      <td>2.44333</td>\n",
       "      <td>0.0</td>\n",
       "      <td>-2.19667</td>\n",
       "      <td>0.0</td>\n",
       "      <td>0.0</td>\n",
       "      <td>0.0</td>\n",
       "      <td>...</td>\n",
       "      <td>441.25000</td>\n",
       "      <td>14.33333</td>\n",
       "      <td>0.0</td>\n",
       "      <td>0.39333</td>\n",
       "      <td>10.25000</td>\n",
       "      <td>0.0</td>\n",
       "      <td>0.42167</td>\n",
       "      <td>12.50000</td>\n",
       "      <td>NaN</td>\n",
       "      <td>8043</td>\n",
       "    </tr>\n",
       "    <tr>\n",
       "      <th>8738</th>\n",
       "      <td>20181231230000</td>\n",
       "      <td>한강</td>\n",
       "      <td>경안천</td>\n",
       "      <td>20181231230000</td>\n",
       "      <td>2.51500</td>\n",
       "      <td>0.0</td>\n",
       "      <td>-6.40833</td>\n",
       "      <td>0.0</td>\n",
       "      <td>0.0</td>\n",
       "      <td>0.0</td>\n",
       "      <td>...</td>\n",
       "      <td>442.75000</td>\n",
       "      <td>14.40000</td>\n",
       "      <td>0.0</td>\n",
       "      <td>0.38167</td>\n",
       "      <td>9.83333</td>\n",
       "      <td>0.0</td>\n",
       "      <td>0.41167</td>\n",
       "      <td>12.75000</td>\n",
       "      <td>NaN</td>\n",
       "      <td>8044</td>\n",
       "    </tr>\n",
       "  </tbody>\n",
       "</table>\n",
       "<p>8044 rows × 34 columns</p>\n",
       "</div>"
      ],
      "text/plain": [
       "                측정날짜  수계 측정소명      MSR_DATE_R    총유기탄소  염화메틸렌  독성도(발광박테리아)  \\\n",
       "0     20180101000000  한강  경안천  20180101000000  2.38667    0.0          NaN   \n",
       "1     20180101010000  한강  경안천  20180101010000  2.40667    0.0          NaN   \n",
       "2     20180101020000  한강  경안천  20180101020000  2.38000    0.0          NaN   \n",
       "3     20180101030000  한강  경안천  20180101030000  2.38333    0.0          NaN   \n",
       "4     20180101040000  한강  경안천  20180101040000  2.42167    0.0          NaN   \n",
       "...              ...  ..  ...             ...      ...    ...          ...   \n",
       "8734  20181231190000  한강  경안천  20181231190000  2.33000    0.0     -5.90000   \n",
       "8735  20181231200000  한강  경안천  20181231200000  2.38250    0.0     -7.61667   \n",
       "8736  20181231210000  한강  경안천  20181231210000  2.42667    0.0     -5.28833   \n",
       "8737  20181231220000  한강  경안천  20181231220000  2.44333    0.0     -2.19667   \n",
       "8738  20181231230000  한강  경안천  20181231230000  2.51500    0.0     -6.40833   \n",
       "\n",
       "      1.1.1-트리클로로에테인   벤젠  사염화탄소  ...      전기전도도      용존산소  독성지수(좌)  유영속도(좌)  \\\n",
       "0                0.0  0.0    0.0  ...        NaN       NaN      1.0  0.55750   \n",
       "1                0.0  0.0    0.0  ...        NaN       NaN      0.0  0.53583   \n",
       "2                0.0  0.0    0.0  ...        NaN       NaN      0.0  0.55917   \n",
       "3                0.0  0.0    0.0  ...        NaN       NaN      0.0  0.57083   \n",
       "4                0.0  0.0    0.0  ...        NaN       NaN      0.0  0.58000   \n",
       "...              ...  ...    ...  ...        ...       ...      ...      ...   \n",
       "8734             0.0  0.0    0.0  ...  439.50000  14.05000      0.0  0.39917   \n",
       "8735             0.0  0.0    0.0  ...  440.00000  14.15833      0.0  0.40583   \n",
       "8736             0.0  0.0    0.0  ...  440.66667  14.30000      0.0  0.39333   \n",
       "8737             0.0  0.0    0.0  ...  441.25000  14.33333      0.0  0.39333   \n",
       "8738             0.0  0.0    0.0  ...  442.75000  14.40000      0.0  0.38167   \n",
       "\n",
       "        개체수(좌)  독성지수(우)  유영속도(우)    개체수(우)   탁도  group  \n",
       "0     14.00000      0.0  0.58917  15.00000  NaN      1  \n",
       "1     14.00000      0.0  0.59083  15.00000  NaN      2  \n",
       "2     14.00000      0.0  0.57167  15.00000  NaN      3  \n",
       "3     14.00000      0.0  0.58583  15.00000  NaN      4  \n",
       "4     14.00000      0.0  0.57167  15.00000  NaN      5  \n",
       "...        ...      ...      ...       ...  ...    ...  \n",
       "8734   9.75000      0.0  0.42833  13.50000  NaN   8040  \n",
       "8735  10.08333      0.0  0.41250  13.33333  0.9   8041  \n",
       "8736   9.66667      0.0  0.40833  13.16667  0.9   8042  \n",
       "8737  10.25000      0.0  0.42167  12.50000  NaN   8043  \n",
       "8738   9.83333      0.0  0.41167  12.75000  NaN   8044  \n",
       "\n",
       "[8044 rows x 34 columns]"
      ]
     },
     "execution_count": 92,
     "metadata": {},
     "output_type": "execute_result"
    }
   ],
   "source": [
    "data_all.drop(index_nan)"
   ]
  },
  {
   "cell_type": "code",
   "execution_count": 93,
   "metadata": {},
   "outputs": [
    {
     "data": {
      "text/plain": [
       "8044"
      ]
     },
     "execution_count": 93,
     "metadata": {},
     "output_type": "execute_result"
    }
   ],
   "source": [
    "len(toc)"
   ]
  },
  {
   "cell_type": "code",
   "execution_count": 135,
   "metadata": {},
   "outputs": [],
   "source": [
    "a = np.array( [\n",
    "    [2, 3],\n",
    "    [4, 5],\n",
    "    [6, 7]\n",
    "])"
   ]
  },
  {
   "cell_type": "code",
   "execution_count": 136,
   "metadata": {},
   "outputs": [
    {
     "data": {
      "text/plain": [
       "array([[2, 4, 6],\n",
       "       [3, 5, 7]])"
      ]
     },
     "execution_count": 136,
     "metadata": {},
     "output_type": "execute_result"
    }
   ],
   "source": [
    "np.transpose(a, (1,0))"
   ]
  },
  {
   "cell_type": "code",
   "execution_count": 137,
   "metadata": {},
   "outputs": [
    {
     "data": {
      "text/html": [
       "<div>\n",
       "<style scoped>\n",
       "    .dataframe tbody tr th:only-of-type {\n",
       "        vertical-align: middle;\n",
       "    }\n",
       "\n",
       "    .dataframe tbody tr th {\n",
       "        vertical-align: top;\n",
       "    }\n",
       "\n",
       "    .dataframe thead th {\n",
       "        text-align: right;\n",
       "    }\n",
       "</style>\n",
       "<table border=\"1\" class=\"dataframe\">\n",
       "  <thead>\n",
       "    <tr style=\"text-align: right;\">\n",
       "      <th></th>\n",
       "      <th>측정날짜</th>\n",
       "      <th>수계</th>\n",
       "      <th>측정소명</th>\n",
       "      <th>MSR_DATE_R</th>\n",
       "      <th>총유기탄소</th>\n",
       "      <th>염화메틸렌</th>\n",
       "      <th>독성도(발광박테리아)</th>\n",
       "      <th>1.1.1-트리클로로에테인</th>\n",
       "      <th>벤젠</th>\n",
       "      <th>사염화탄소</th>\n",
       "      <th>...</th>\n",
       "      <th>수소이온농도</th>\n",
       "      <th>전기전도도</th>\n",
       "      <th>용존산소</th>\n",
       "      <th>독성지수(좌)</th>\n",
       "      <th>유영속도(좌)</th>\n",
       "      <th>개체수(좌)</th>\n",
       "      <th>독성지수(우)</th>\n",
       "      <th>유영속도(우)</th>\n",
       "      <th>개체수(우)</th>\n",
       "      <th>탁도</th>\n",
       "    </tr>\n",
       "  </thead>\n",
       "  <tbody>\n",
       "    <tr>\n",
       "      <th>0</th>\n",
       "      <td>20180101000000</td>\n",
       "      <td>한강</td>\n",
       "      <td>경안천</td>\n",
       "      <td>20180101000000</td>\n",
       "      <td>2.38667</td>\n",
       "      <td>0.0</td>\n",
       "      <td>NaN</td>\n",
       "      <td>0.0</td>\n",
       "      <td>0.0</td>\n",
       "      <td>0.0</td>\n",
       "      <td>...</td>\n",
       "      <td>NaN</td>\n",
       "      <td>NaN</td>\n",
       "      <td>NaN</td>\n",
       "      <td>1.0</td>\n",
       "      <td>0.55750</td>\n",
       "      <td>14.00000</td>\n",
       "      <td>0.0</td>\n",
       "      <td>0.58917</td>\n",
       "      <td>15.00000</td>\n",
       "      <td>NaN</td>\n",
       "    </tr>\n",
       "    <tr>\n",
       "      <th>1</th>\n",
       "      <td>20180101010000</td>\n",
       "      <td>한강</td>\n",
       "      <td>경안천</td>\n",
       "      <td>20180101010000</td>\n",
       "      <td>NaN</td>\n",
       "      <td>0.0</td>\n",
       "      <td>NaN</td>\n",
       "      <td>0.0</td>\n",
       "      <td>0.0</td>\n",
       "      <td>0.0</td>\n",
       "      <td>...</td>\n",
       "      <td>NaN</td>\n",
       "      <td>NaN</td>\n",
       "      <td>NaN</td>\n",
       "      <td>0.0</td>\n",
       "      <td>0.53583</td>\n",
       "      <td>14.00000</td>\n",
       "      <td>0.0</td>\n",
       "      <td>0.59083</td>\n",
       "      <td>15.00000</td>\n",
       "      <td>NaN</td>\n",
       "    </tr>\n",
       "    <tr>\n",
       "      <th>2</th>\n",
       "      <td>20180101020000</td>\n",
       "      <td>한강</td>\n",
       "      <td>경안천</td>\n",
       "      <td>20180101020000</td>\n",
       "      <td>2.38000</td>\n",
       "      <td>0.0</td>\n",
       "      <td>NaN</td>\n",
       "      <td>0.0</td>\n",
       "      <td>0.0</td>\n",
       "      <td>0.0</td>\n",
       "      <td>...</td>\n",
       "      <td>NaN</td>\n",
       "      <td>NaN</td>\n",
       "      <td>NaN</td>\n",
       "      <td>0.0</td>\n",
       "      <td>0.55917</td>\n",
       "      <td>14.00000</td>\n",
       "      <td>0.0</td>\n",
       "      <td>0.57167</td>\n",
       "      <td>15.00000</td>\n",
       "      <td>NaN</td>\n",
       "    </tr>\n",
       "    <tr>\n",
       "      <th>3</th>\n",
       "      <td>20180101030000</td>\n",
       "      <td>한강</td>\n",
       "      <td>경안천</td>\n",
       "      <td>20180101030000</td>\n",
       "      <td>2.38333</td>\n",
       "      <td>0.0</td>\n",
       "      <td>NaN</td>\n",
       "      <td>0.0</td>\n",
       "      <td>0.0</td>\n",
       "      <td>0.0</td>\n",
       "      <td>...</td>\n",
       "      <td>NaN</td>\n",
       "      <td>NaN</td>\n",
       "      <td>NaN</td>\n",
       "      <td>0.0</td>\n",
       "      <td>0.57083</td>\n",
       "      <td>14.00000</td>\n",
       "      <td>0.0</td>\n",
       "      <td>0.58583</td>\n",
       "      <td>15.00000</td>\n",
       "      <td>NaN</td>\n",
       "    </tr>\n",
       "    <tr>\n",
       "      <th>4</th>\n",
       "      <td>20180101040000</td>\n",
       "      <td>한강</td>\n",
       "      <td>경안천</td>\n",
       "      <td>20180101040000</td>\n",
       "      <td>2.42167</td>\n",
       "      <td>0.0</td>\n",
       "      <td>NaN</td>\n",
       "      <td>0.0</td>\n",
       "      <td>0.0</td>\n",
       "      <td>0.0</td>\n",
       "      <td>...</td>\n",
       "      <td>NaN</td>\n",
       "      <td>NaN</td>\n",
       "      <td>NaN</td>\n",
       "      <td>0.0</td>\n",
       "      <td>0.58000</td>\n",
       "      <td>14.00000</td>\n",
       "      <td>0.0</td>\n",
       "      <td>0.57167</td>\n",
       "      <td>15.00000</td>\n",
       "      <td>NaN</td>\n",
       "    </tr>\n",
       "    <tr>\n",
       "      <th>...</th>\n",
       "      <td>...</td>\n",
       "      <td>...</td>\n",
       "      <td>...</td>\n",
       "      <td>...</td>\n",
       "      <td>...</td>\n",
       "      <td>...</td>\n",
       "      <td>...</td>\n",
       "      <td>...</td>\n",
       "      <td>...</td>\n",
       "      <td>...</td>\n",
       "      <td>...</td>\n",
       "      <td>...</td>\n",
       "      <td>...</td>\n",
       "      <td>...</td>\n",
       "      <td>...</td>\n",
       "      <td>...</td>\n",
       "      <td>...</td>\n",
       "      <td>...</td>\n",
       "      <td>...</td>\n",
       "      <td>...</td>\n",
       "      <td>...</td>\n",
       "    </tr>\n",
       "    <tr>\n",
       "      <th>8734</th>\n",
       "      <td>20181231190000</td>\n",
       "      <td>한강</td>\n",
       "      <td>경안천</td>\n",
       "      <td>20181231190000</td>\n",
       "      <td>2.33000</td>\n",
       "      <td>0.0</td>\n",
       "      <td>-5.90000</td>\n",
       "      <td>0.0</td>\n",
       "      <td>0.0</td>\n",
       "      <td>0.0</td>\n",
       "      <td>...</td>\n",
       "      <td>7.5</td>\n",
       "      <td>439.50000</td>\n",
       "      <td>14.05000</td>\n",
       "      <td>0.0</td>\n",
       "      <td>0.39917</td>\n",
       "      <td>9.75000</td>\n",
       "      <td>0.0</td>\n",
       "      <td>0.42833</td>\n",
       "      <td>13.50000</td>\n",
       "      <td>NaN</td>\n",
       "    </tr>\n",
       "    <tr>\n",
       "      <th>8735</th>\n",
       "      <td>20181231200000</td>\n",
       "      <td>한강</td>\n",
       "      <td>경안천</td>\n",
       "      <td>20181231200000</td>\n",
       "      <td>2.38250</td>\n",
       "      <td>0.0</td>\n",
       "      <td>-7.61667</td>\n",
       "      <td>0.0</td>\n",
       "      <td>0.0</td>\n",
       "      <td>0.0</td>\n",
       "      <td>...</td>\n",
       "      <td>7.5</td>\n",
       "      <td>440.00000</td>\n",
       "      <td>14.15833</td>\n",
       "      <td>0.0</td>\n",
       "      <td>0.40583</td>\n",
       "      <td>10.08333</td>\n",
       "      <td>0.0</td>\n",
       "      <td>0.41250</td>\n",
       "      <td>13.33333</td>\n",
       "      <td>0.9</td>\n",
       "    </tr>\n",
       "    <tr>\n",
       "      <th>8736</th>\n",
       "      <td>20181231210000</td>\n",
       "      <td>한강</td>\n",
       "      <td>경안천</td>\n",
       "      <td>20181231210000</td>\n",
       "      <td>2.42667</td>\n",
       "      <td>0.0</td>\n",
       "      <td>-5.28833</td>\n",
       "      <td>0.0</td>\n",
       "      <td>0.0</td>\n",
       "      <td>0.0</td>\n",
       "      <td>...</td>\n",
       "      <td>7.5</td>\n",
       "      <td>440.66667</td>\n",
       "      <td>14.30000</td>\n",
       "      <td>0.0</td>\n",
       "      <td>0.39333</td>\n",
       "      <td>9.66667</td>\n",
       "      <td>0.0</td>\n",
       "      <td>0.40833</td>\n",
       "      <td>13.16667</td>\n",
       "      <td>0.9</td>\n",
       "    </tr>\n",
       "    <tr>\n",
       "      <th>8737</th>\n",
       "      <td>20181231220000</td>\n",
       "      <td>한강</td>\n",
       "      <td>경안천</td>\n",
       "      <td>20181231220000</td>\n",
       "      <td>2.44333</td>\n",
       "      <td>0.0</td>\n",
       "      <td>-2.19667</td>\n",
       "      <td>0.0</td>\n",
       "      <td>0.0</td>\n",
       "      <td>0.0</td>\n",
       "      <td>...</td>\n",
       "      <td>7.5</td>\n",
       "      <td>441.25000</td>\n",
       "      <td>14.33333</td>\n",
       "      <td>0.0</td>\n",
       "      <td>0.39333</td>\n",
       "      <td>10.25000</td>\n",
       "      <td>0.0</td>\n",
       "      <td>0.42167</td>\n",
       "      <td>12.50000</td>\n",
       "      <td>NaN</td>\n",
       "    </tr>\n",
       "    <tr>\n",
       "      <th>8738</th>\n",
       "      <td>20181231230000</td>\n",
       "      <td>한강</td>\n",
       "      <td>경안천</td>\n",
       "      <td>20181231230000</td>\n",
       "      <td>2.51500</td>\n",
       "      <td>0.0</td>\n",
       "      <td>-6.40833</td>\n",
       "      <td>0.0</td>\n",
       "      <td>0.0</td>\n",
       "      <td>0.0</td>\n",
       "      <td>...</td>\n",
       "      <td>7.5</td>\n",
       "      <td>442.75000</td>\n",
       "      <td>14.40000</td>\n",
       "      <td>0.0</td>\n",
       "      <td>0.38167</td>\n",
       "      <td>9.83333</td>\n",
       "      <td>0.0</td>\n",
       "      <td>0.41167</td>\n",
       "      <td>12.75000</td>\n",
       "      <td>NaN</td>\n",
       "    </tr>\n",
       "  </tbody>\n",
       "</table>\n",
       "<p>8739 rows × 33 columns</p>\n",
       "</div>"
      ],
      "text/plain": [
       "                측정날짜  수계 측정소명      MSR_DATE_R    총유기탄소  염화메틸렌  독성도(발광박테리아)  \\\n",
       "0     20180101000000  한강  경안천  20180101000000  2.38667    0.0          NaN   \n",
       "1     20180101010000  한강  경안천  20180101010000      NaN    0.0          NaN   \n",
       "2     20180101020000  한강  경안천  20180101020000  2.38000    0.0          NaN   \n",
       "3     20180101030000  한강  경안천  20180101030000  2.38333    0.0          NaN   \n",
       "4     20180101040000  한강  경안천  20180101040000  2.42167    0.0          NaN   \n",
       "...              ...  ..  ...             ...      ...    ...          ...   \n",
       "8734  20181231190000  한강  경안천  20181231190000  2.33000    0.0     -5.90000   \n",
       "8735  20181231200000  한강  경안천  20181231200000  2.38250    0.0     -7.61667   \n",
       "8736  20181231210000  한강  경안천  20181231210000  2.42667    0.0     -5.28833   \n",
       "8737  20181231220000  한강  경안천  20181231220000  2.44333    0.0     -2.19667   \n",
       "8738  20181231230000  한강  경안천  20181231230000  2.51500    0.0     -6.40833   \n",
       "\n",
       "      1.1.1-트리클로로에테인   벤젠  사염화탄소  ...  수소이온농도      전기전도도      용존산소  독성지수(좌)  \\\n",
       "0                0.0  0.0    0.0  ...     NaN        NaN       NaN      1.0   \n",
       "1                0.0  0.0    0.0  ...     NaN        NaN       NaN      0.0   \n",
       "2                0.0  0.0    0.0  ...     NaN        NaN       NaN      0.0   \n",
       "3                0.0  0.0    0.0  ...     NaN        NaN       NaN      0.0   \n",
       "4                0.0  0.0    0.0  ...     NaN        NaN       NaN      0.0   \n",
       "...              ...  ...    ...  ...     ...        ...       ...      ...   \n",
       "8734             0.0  0.0    0.0  ...     7.5  439.50000  14.05000      0.0   \n",
       "8735             0.0  0.0    0.0  ...     7.5  440.00000  14.15833      0.0   \n",
       "8736             0.0  0.0    0.0  ...     7.5  440.66667  14.30000      0.0   \n",
       "8737             0.0  0.0    0.0  ...     7.5  441.25000  14.33333      0.0   \n",
       "8738             0.0  0.0    0.0  ...     7.5  442.75000  14.40000      0.0   \n",
       "\n",
       "      유영속도(좌)    개체수(좌)  독성지수(우)  유영속도(우)    개체수(우)   탁도  \n",
       "0     0.55750  14.00000      0.0  0.58917  15.00000  NaN  \n",
       "1     0.53583  14.00000      0.0  0.59083  15.00000  NaN  \n",
       "2     0.55917  14.00000      0.0  0.57167  15.00000  NaN  \n",
       "3     0.57083  14.00000      0.0  0.58583  15.00000  NaN  \n",
       "4     0.58000  14.00000      0.0  0.57167  15.00000  NaN  \n",
       "...       ...       ...      ...      ...       ...  ...  \n",
       "8734  0.39917   9.75000      0.0  0.42833  13.50000  NaN  \n",
       "8735  0.40583  10.08333      0.0  0.41250  13.33333  0.9  \n",
       "8736  0.39333   9.66667      0.0  0.40833  13.16667  0.9  \n",
       "8737  0.39333  10.25000      0.0  0.42167  12.50000  NaN  \n",
       "8738  0.38167   9.83333      0.0  0.41167  12.75000  NaN  \n",
       "\n",
       "[8739 rows x 33 columns]"
      ]
     },
     "execution_count": 137,
     "metadata": {},
     "output_type": "execute_result"
    }
   ],
   "source": [
    "data_all"
   ]
  },
  {
   "cell_type": "code",
   "execution_count": 139,
   "metadata": {},
   "outputs": [
    {
     "data": {
      "text/plain": [
       "측정날짜                      0\n",
       "수계                        0\n",
       "측정소명                      0\n",
       "MSR_DATE_R                0\n",
       "총유기탄소                   696\n",
       "염화메틸렌                  1376\n",
       "독성도(발광박테리아)            3019\n",
       "1.1.1-트리클로로에테인         1392\n",
       "벤젠                     1392\n",
       "사염화탄소                  1392\n",
       "트리클로로에틸렌               1392\n",
       "톨루엔                    1392\n",
       "테트라클로로에틸렌              1392\n",
       "에틸벤젠                   1392\n",
       "m,p-자일렌                1392\n",
       "o-자일렌                  1392\n",
       "[ECD]염화메틸렌             1420\n",
       "[ECD]1.1.1-트리클로로에테인    1396\n",
       "[ECD]사염화탄소             1396\n",
       "[ECD]트리클로로에틸렌          1396\n",
       "[ECD]테트라클로로에틸렌         1396\n",
       "클로로필-a                 1182\n",
       "수온                      754\n",
       "수소이온농도                  754\n",
       "전기전도도                   755\n",
       "용존산소                    759\n",
       "독성지수(좌)                1319\n",
       "유영속도(좌)                1319\n",
       "개체수(좌)                 1319\n",
       "독성지수(우)                1296\n",
       "유영속도(우)                1296\n",
       "개체수(우)                 1296\n",
       "탁도                      761\n",
       "dtype: int64"
      ]
     },
     "execution_count": 139,
     "metadata": {},
     "output_type": "execute_result"
    }
   ],
   "source": [
    "data_all.isna().sum()"
   ]
  },
  {
   "cell_type": "code",
   "execution_count": 144,
   "metadata": {},
   "outputs": [
    {
     "data": {
      "text/plain": [
       "0       0\n",
       "1       1\n",
       "2       0\n",
       "3       0\n",
       "4       0\n",
       "       ..\n",
       "8734    0\n",
       "8735    0\n",
       "8736    0\n",
       "8737    0\n",
       "8738    0\n",
       "Length: 8739, dtype: int64"
      ]
     },
     "execution_count": 144,
     "metadata": {},
     "output_type": "execute_result"
    }
   ],
   "source": [
    "data_all.iloc[:,4:6].isnull().any(axis=1).astype('int')"
   ]
  },
  {
   "cell_type": "code",
   "execution_count": 151,
   "metadata": {},
   "outputs": [],
   "source": [
    "data = data_all.iloc[:, [0,1,4]]"
   ]
  },
  {
   "cell_type": "code",
   "execution_count": 152,
   "metadata": {},
   "outputs": [
    {
     "data": {
      "text/html": [
       "<div>\n",
       "<style scoped>\n",
       "    .dataframe tbody tr th:only-of-type {\n",
       "        vertical-align: middle;\n",
       "    }\n",
       "\n",
       "    .dataframe tbody tr th {\n",
       "        vertical-align: top;\n",
       "    }\n",
       "\n",
       "    .dataframe thead th {\n",
       "        text-align: right;\n",
       "    }\n",
       "</style>\n",
       "<table border=\"1\" class=\"dataframe\">\n",
       "  <thead>\n",
       "    <tr style=\"text-align: right;\">\n",
       "      <th></th>\n",
       "      <th>측정날짜</th>\n",
       "      <th>수계</th>\n",
       "      <th>총유기탄소</th>\n",
       "    </tr>\n",
       "  </thead>\n",
       "  <tbody>\n",
       "    <tr>\n",
       "      <th>0</th>\n",
       "      <td>20180101000000</td>\n",
       "      <td>한강</td>\n",
       "      <td>2.38667</td>\n",
       "    </tr>\n",
       "    <tr>\n",
       "      <th>1</th>\n",
       "      <td>20180101010000</td>\n",
       "      <td>한강</td>\n",
       "      <td>NaN</td>\n",
       "    </tr>\n",
       "    <tr>\n",
       "      <th>2</th>\n",
       "      <td>20180101020000</td>\n",
       "      <td>한강</td>\n",
       "      <td>2.38000</td>\n",
       "    </tr>\n",
       "    <tr>\n",
       "      <th>3</th>\n",
       "      <td>20180101030000</td>\n",
       "      <td>한강</td>\n",
       "      <td>2.38333</td>\n",
       "    </tr>\n",
       "    <tr>\n",
       "      <th>4</th>\n",
       "      <td>20180101040000</td>\n",
       "      <td>한강</td>\n",
       "      <td>2.42167</td>\n",
       "    </tr>\n",
       "    <tr>\n",
       "      <th>...</th>\n",
       "      <td>...</td>\n",
       "      <td>...</td>\n",
       "      <td>...</td>\n",
       "    </tr>\n",
       "    <tr>\n",
       "      <th>8734</th>\n",
       "      <td>20181231190000</td>\n",
       "      <td>한강</td>\n",
       "      <td>2.33000</td>\n",
       "    </tr>\n",
       "    <tr>\n",
       "      <th>8735</th>\n",
       "      <td>20181231200000</td>\n",
       "      <td>한강</td>\n",
       "      <td>2.38250</td>\n",
       "    </tr>\n",
       "    <tr>\n",
       "      <th>8736</th>\n",
       "      <td>20181231210000</td>\n",
       "      <td>한강</td>\n",
       "      <td>2.42667</td>\n",
       "    </tr>\n",
       "    <tr>\n",
       "      <th>8737</th>\n",
       "      <td>20181231220000</td>\n",
       "      <td>한강</td>\n",
       "      <td>2.44333</td>\n",
       "    </tr>\n",
       "    <tr>\n",
       "      <th>8738</th>\n",
       "      <td>20181231230000</td>\n",
       "      <td>한강</td>\n",
       "      <td>2.51500</td>\n",
       "    </tr>\n",
       "  </tbody>\n",
       "</table>\n",
       "<p>8739 rows × 3 columns</p>\n",
       "</div>"
      ],
      "text/plain": [
       "                측정날짜  수계    총유기탄소\n",
       "0     20180101000000  한강  2.38667\n",
       "1     20180101010000  한강      NaN\n",
       "2     20180101020000  한강  2.38000\n",
       "3     20180101030000  한강  2.38333\n",
       "4     20180101040000  한강  2.42167\n",
       "...              ...  ..      ...\n",
       "8734  20181231190000  한강  2.33000\n",
       "8735  20181231200000  한강  2.38250\n",
       "8736  20181231210000  한강  2.42667\n",
       "8737  20181231220000  한강  2.44333\n",
       "8738  20181231230000  한강  2.51500\n",
       "\n",
       "[8739 rows x 3 columns]"
      ]
     },
     "execution_count": 152,
     "metadata": {},
     "output_type": "execute_result"
    }
   ],
   "source": [
    "data"
   ]
  },
  {
   "cell_type": "code",
   "execution_count": 157,
   "metadata": {},
   "outputs": [
    {
     "name": "stdout",
     "output_type": "stream",
     "text": [
      "0\n",
      "1\n",
      "2\n",
      "3\n",
      "4\n",
      "5\n"
     ]
    }
   ],
   "source": [
    "excel_files = []\n",
    "for i in range(len(file_names)):\n",
    "    file_name = file_names[i]\n",
    "    df = pd.read_excel(file_name)\n",
    "    excel_files.append(df)"
   ]
  },
  {
   "cell_type": "code",
   "execution_count": 160,
   "metadata": {},
   "outputs": [
    {
     "data": {
      "text/plain": [
       "Index(['측정날짜', '수계', '측정소명', 'MSR_DATE_R', '총유기탄소', '염화메틸렌', '독성도(발광박테리아)',\n",
       "       '1.1.1-트리클로로에테인', '벤젠', '사염화탄소', '트리클로로에틸렌', '톨루엔', '테트라클로로에틸렌', '에틸벤젠',\n",
       "       'm,p-자일렌', 'o-자일렌', '[ECD]염화메틸렌', '[ECD]1.1.1-트리클로로에테인', '[ECD]사염화탄소',\n",
       "       '[ECD]트리클로로에틸렌', '[ECD]테트라클로로에틸렌', '클로로필-a', '수온', '수소이온농도', '전기전도도',\n",
       "       '용존산소', '독성지수(좌)', '유영속도(좌)', '개체수(좌)', '독성지수(우)', '유영속도(우)', '개체수(우)',\n",
       "       '탁도'],\n",
       "      dtype='object')"
      ]
     },
     "execution_count": 160,
     "metadata": {},
     "output_type": "execute_result"
    }
   ],
   "source": [
    "df = excel_files[0]\n",
    "df.columns"
   ]
  },
  {
   "cell_type": "code",
   "execution_count": 161,
   "metadata": {},
   "outputs": [
    {
     "data": {
      "text/plain": [
       "Index(['측정날짜', '수계', '측정소명', 'MSR_DATE_R', '총유기탄소', '총질소', '총인', '클로로필-a',\n",
       "       '수온', '수소이온농도', '전기전도도', '용존산소', '탁도'],\n",
       "      dtype='object')"
      ]
     },
     "execution_count": 161,
     "metadata": {},
     "output_type": "execute_result"
    }
   ],
   "source": [
    "df = excel_files[1]\n",
    "df.columns"
   ]
  },
  {
   "cell_type": "code",
   "execution_count": 162,
   "metadata": {},
   "outputs": [
    {
     "data": {
      "text/plain": [
       "Index(['측정날짜', '수계', '측정소명', 'MSR_DATE_R', '총유기탄소', '총질소', '총인', '클로로필-a',\n",
       "       '수온', '수소이온농도', '전기전도도', '용존산소', '탁도'],\n",
       "      dtype='object')"
      ]
     },
     "execution_count": 162,
     "metadata": {},
     "output_type": "execute_result"
    }
   ],
   "source": [
    "df = excel_files[2]\n",
    "df.columns"
   ]
  },
  {
   "cell_type": "code",
   "execution_count": 163,
   "metadata": {},
   "outputs": [
    {
     "data": {
      "text/plain": [
       "Index(['측정날짜', '수계', '측정소명', 'MSR_DATE_R', '총유기탄소', '총질소', '총인', '클로로필-a',\n",
       "       '수온', '수소이온농도', '전기전도도', '용존산소', '탁도'],\n",
       "      dtype='object')"
      ]
     },
     "execution_count": 163,
     "metadata": {},
     "output_type": "execute_result"
    }
   ],
   "source": [
    "df = excel_files[3]\n",
    "df.columns"
   ]
  },
  {
   "cell_type": "code",
   "execution_count": 164,
   "metadata": {},
   "outputs": [
    {
     "data": {
      "text/plain": [
       "Index(['측정날짜', '수계', '측정소명', 'MSR_DATE_R', '총유기탄소', '총질소', '총인', '수온',\n",
       "       '수소이온농도', '전기전도도', '용존산소', '탁도'],\n",
       "      dtype='object')"
      ]
     },
     "execution_count": 164,
     "metadata": {},
     "output_type": "execute_result"
    }
   ],
   "source": [
    "df = excel_files[4]\n",
    "df.columns"
   ]
  },
  {
   "cell_type": "code",
   "execution_count": 6,
   "metadata": {},
   "outputs": [
    {
     "data": {
      "text/html": [
       "<div>\n",
       "<style scoped>\n",
       "    .dataframe tbody tr th:only-of-type {\n",
       "        vertical-align: middle;\n",
       "    }\n",
       "\n",
       "    .dataframe tbody tr th {\n",
       "        vertical-align: top;\n",
       "    }\n",
       "\n",
       "    .dataframe thead th {\n",
       "        text-align: right;\n",
       "    }\n",
       "</style>\n",
       "<table border=\"1\" class=\"dataframe\">\n",
       "  <thead>\n",
       "    <tr style=\"text-align: right;\">\n",
       "      <th></th>\n",
       "      <th>a</th>\n",
       "      <th>b</th>\n",
       "      <th>c</th>\n",
       "    </tr>\n",
       "  </thead>\n",
       "  <tbody>\n",
       "    <tr>\n",
       "      <th>0</th>\n",
       "      <td>1.</td>\n",
       "      <td>1.</td>\n",
       "      <td>2.</td>\n",
       "    </tr>\n",
       "    <tr>\n",
       "      <th>1</th>\n",
       "      <td>3</td>\n",
       "      <td>2</td>\n",
       "      <td>4</td>\n",
       "    </tr>\n",
       "    <tr>\n",
       "      <th>2</th>\n",
       "      <td>1.1</td>\n",
       "      <td>0.1</td>\n",
       "      <td>3.3</td>\n",
       "    </tr>\n",
       "    <tr>\n",
       "      <th>3</th>\n",
       "      <td>NaN</td>\n",
       "      <td>NaN</td>\n",
       "      <td>NaN</td>\n",
       "    </tr>\n",
       "    <tr>\n",
       "      <th>4</th>\n",
       "      <td>3</td>\n",
       "      <td>5</td>\n",
       "      <td>7</td>\n",
       "    </tr>\n",
       "    <tr>\n",
       "      <th>5</th>\n",
       "      <td>0</td>\n",
       "      <td>0</td>\n",
       "      <td>0</td>\n",
       "    </tr>\n",
       "  </tbody>\n",
       "</table>\n",
       "</div>"
      ],
      "text/plain": [
       "     a    b    c\n",
       "0   1.   1.   2.\n",
       "1    3    2    4\n",
       "2  1.1  0.1  3.3\n",
       "3  NaN  NaN  NaN\n",
       "4    3    5    7\n",
       "5    0    0    0"
      ]
     },
     "execution_count": 6,
     "metadata": {},
     "output_type": "execute_result"
    }
   ],
   "source": [
    "import pandas as pd\n",
    "import numpy as np\n",
    "# Take a dictionary as input to your DataFrame \n",
    "my_dict = {\"a\": ['1.', '3', '1.1', np.nan, '3', '0'], \n",
    "           \"b\": ['1.', '2', '0.1', np.nan, '5', '0'],\n",
    "           \"c\": ['2.', '4', '3.3', np.nan, '7', '0']}\n",
    "df = pd.DataFrame(my_dict)\n",
    "#display(df)\n",
    "df"
   ]
  },
  {
   "cell_type": "code",
   "execution_count": 22,
   "metadata": {},
   "outputs": [
    {
     "ename": "AttributeError",
     "evalue": "'DataFrame' object has no attribute 'dtype'",
     "output_type": "error",
     "traceback": [
      "\u001b[0;31m---------------------------------------------------------------------------\u001b[0m",
      "\u001b[0;31mAttributeError\u001b[0m                            Traceback (most recent call last)",
      "\u001b[0;32m<ipython-input-22-119a1962a12c>\u001b[0m in \u001b[0;36m<module>\u001b[0;34m\u001b[0m\n\u001b[0;32m----> 1\u001b[0;31m \u001b[0mdf\u001b[0m\u001b[0;34m.\u001b[0m\u001b[0miloc\u001b[0m\u001b[0;34m[\u001b[0m\u001b[0;34m:\u001b[0m\u001b[0;34m,\u001b[0m \u001b[0;36m0\u001b[0m\u001b[0;34m:\u001b[0m\u001b[0;36m1\u001b[0m\u001b[0;34m]\u001b[0m\u001b[0;34m.\u001b[0m\u001b[0mdtype\u001b[0m\u001b[0;34m\u001b[0m\u001b[0;34m\u001b[0m\u001b[0m\n\u001b[0m",
      "\u001b[0;32m~/workspace/venv-automl/lib/python3.7/site-packages/pandas/core/generic.py\u001b[0m in \u001b[0;36m__getattr__\u001b[0;34m(self, name)\u001b[0m\n\u001b[1;32m   5137\u001b[0m             \u001b[0;32mif\u001b[0m \u001b[0mself\u001b[0m\u001b[0;34m.\u001b[0m\u001b[0m_info_axis\u001b[0m\u001b[0;34m.\u001b[0m\u001b[0m_can_hold_identifiers_and_holds_name\u001b[0m\u001b[0;34m(\u001b[0m\u001b[0mname\u001b[0m\u001b[0;34m)\u001b[0m\u001b[0;34m:\u001b[0m\u001b[0;34m\u001b[0m\u001b[0;34m\u001b[0m\u001b[0m\n\u001b[1;32m   5138\u001b[0m                 \u001b[0;32mreturn\u001b[0m \u001b[0mself\u001b[0m\u001b[0;34m[\u001b[0m\u001b[0mname\u001b[0m\u001b[0;34m]\u001b[0m\u001b[0;34m\u001b[0m\u001b[0;34m\u001b[0m\u001b[0m\n\u001b[0;32m-> 5139\u001b[0;31m             \u001b[0;32mreturn\u001b[0m \u001b[0mobject\u001b[0m\u001b[0;34m.\u001b[0m\u001b[0m__getattribute__\u001b[0m\u001b[0;34m(\u001b[0m\u001b[0mself\u001b[0m\u001b[0;34m,\u001b[0m \u001b[0mname\u001b[0m\u001b[0;34m)\u001b[0m\u001b[0;34m\u001b[0m\u001b[0;34m\u001b[0m\u001b[0m\n\u001b[0m\u001b[1;32m   5140\u001b[0m \u001b[0;34m\u001b[0m\u001b[0m\n\u001b[1;32m   5141\u001b[0m     \u001b[0;32mdef\u001b[0m \u001b[0m__setattr__\u001b[0m\u001b[0;34m(\u001b[0m\u001b[0mself\u001b[0m\u001b[0;34m,\u001b[0m \u001b[0mname\u001b[0m\u001b[0;34m:\u001b[0m \u001b[0mstr\u001b[0m\u001b[0;34m,\u001b[0m \u001b[0mvalue\u001b[0m\u001b[0;34m)\u001b[0m \u001b[0;34m->\u001b[0m \u001b[0;32mNone\u001b[0m\u001b[0;34m:\u001b[0m\u001b[0;34m\u001b[0m\u001b[0;34m\u001b[0m\u001b[0m\n",
      "\u001b[0;31mAttributeError\u001b[0m: 'DataFrame' object has no attribute 'dtype'"
     ]
    }
   ],
   "source": [
    "df.iloc[:, 0:1].dtype"
   ]
  },
  {
   "cell_type": "code",
   "execution_count": 26,
   "metadata": {},
   "outputs": [],
   "source": [
    "df = pd.DataFrame([(0.0, np.nan, -1.0, 1.0),\n",
    "                   (np.nan, 2.0, np.nan, np.nan),\n",
    "                   (2.0, 3.0, np.nan, 9.0),\n",
    "                   (np.nan, 4.0, -4.0, 16.0)],\n",
    "                  columns=list('abcd'))"
   ]
  },
  {
   "cell_type": "code",
   "execution_count": 27,
   "metadata": {},
   "outputs": [
    {
     "data": {
      "text/html": [
       "<div>\n",
       "<style scoped>\n",
       "    .dataframe tbody tr th:only-of-type {\n",
       "        vertical-align: middle;\n",
       "    }\n",
       "\n",
       "    .dataframe tbody tr th {\n",
       "        vertical-align: top;\n",
       "    }\n",
       "\n",
       "    .dataframe thead th {\n",
       "        text-align: right;\n",
       "    }\n",
       "</style>\n",
       "<table border=\"1\" class=\"dataframe\">\n",
       "  <thead>\n",
       "    <tr style=\"text-align: right;\">\n",
       "      <th></th>\n",
       "      <th>a</th>\n",
       "      <th>b</th>\n",
       "      <th>c</th>\n",
       "      <th>d</th>\n",
       "    </tr>\n",
       "  </thead>\n",
       "  <tbody>\n",
       "    <tr>\n",
       "      <th>0</th>\n",
       "      <td>0.0</td>\n",
       "      <td>NaN</td>\n",
       "      <td>-1.0</td>\n",
       "      <td>1.0</td>\n",
       "    </tr>\n",
       "    <tr>\n",
       "      <th>1</th>\n",
       "      <td>NaN</td>\n",
       "      <td>2.0</td>\n",
       "      <td>NaN</td>\n",
       "      <td>NaN</td>\n",
       "    </tr>\n",
       "    <tr>\n",
       "      <th>2</th>\n",
       "      <td>2.0</td>\n",
       "      <td>3.0</td>\n",
       "      <td>NaN</td>\n",
       "      <td>9.0</td>\n",
       "    </tr>\n",
       "    <tr>\n",
       "      <th>3</th>\n",
       "      <td>NaN</td>\n",
       "      <td>4.0</td>\n",
       "      <td>-4.0</td>\n",
       "      <td>16.0</td>\n",
       "    </tr>\n",
       "  </tbody>\n",
       "</table>\n",
       "</div>"
      ],
      "text/plain": [
       "     a    b    c     d\n",
       "0  0.0  NaN -1.0   1.0\n",
       "1  NaN  2.0  NaN   NaN\n",
       "2  2.0  3.0  NaN   9.0\n",
       "3  NaN  4.0 -4.0  16.0"
      ]
     },
     "execution_count": 27,
     "metadata": {},
     "output_type": "execute_result"
    }
   ],
   "source": [
    "df"
   ]
  },
  {
   "cell_type": "code",
   "execution_count": 30,
   "metadata": {},
   "outputs": [
    {
     "data": {
      "text/html": [
       "<div>\n",
       "<style scoped>\n",
       "    .dataframe tbody tr th:only-of-type {\n",
       "        vertical-align: middle;\n",
       "    }\n",
       "\n",
       "    .dataframe tbody tr th {\n",
       "        vertical-align: top;\n",
       "    }\n",
       "\n",
       "    .dataframe thead th {\n",
       "        text-align: right;\n",
       "    }\n",
       "</style>\n",
       "<table border=\"1\" class=\"dataframe\">\n",
       "  <thead>\n",
       "    <tr style=\"text-align: right;\">\n",
       "      <th></th>\n",
       "      <th>a</th>\n",
       "      <th>b</th>\n",
       "      <th>c</th>\n",
       "      <th>d</th>\n",
       "    </tr>\n",
       "  </thead>\n",
       "  <tbody>\n",
       "    <tr>\n",
       "      <th>0</th>\n",
       "      <td>0.0</td>\n",
       "      <td>2.0</td>\n",
       "      <td>-1.0</td>\n",
       "      <td>1.0</td>\n",
       "    </tr>\n",
       "    <tr>\n",
       "      <th>1</th>\n",
       "      <td>NaN</td>\n",
       "      <td>2.0</td>\n",
       "      <td>NaN</td>\n",
       "      <td>NaN</td>\n",
       "    </tr>\n",
       "    <tr>\n",
       "      <th>2</th>\n",
       "      <td>2.0</td>\n",
       "      <td>3.0</td>\n",
       "      <td>NaN</td>\n",
       "      <td>9.0</td>\n",
       "    </tr>\n",
       "    <tr>\n",
       "      <th>3</th>\n",
       "      <td>2.0</td>\n",
       "      <td>4.0</td>\n",
       "      <td>-4.0</td>\n",
       "      <td>16.0</td>\n",
       "    </tr>\n",
       "  </tbody>\n",
       "</table>\n",
       "</div>"
      ],
      "text/plain": [
       "     a    b    c     d\n",
       "0  0.0  2.0 -1.0   1.0\n",
       "1  NaN  2.0  NaN   NaN\n",
       "2  2.0  3.0  NaN   9.0\n",
       "3  2.0  4.0 -4.0  16.0"
      ]
     },
     "execution_count": 30,
     "metadata": {},
     "output_type": "execute_result"
    }
   ],
   "source": [
    "df.interpolate(method='linear', limit_area='outside', limit_direction='both', axis=0, limit=1)"
   ]
  },
  {
   "cell_type": "code",
   "execution_count": 62,
   "metadata": {},
   "outputs": [
    {
     "data": {
      "text/plain": [
       "2.0"
      ]
     },
     "execution_count": 62,
     "metadata": {},
     "output_type": "execute_result"
    }
   ],
   "source": [
    "n = len(df) / 3\n",
    "n"
   ]
  },
  {
   "cell_type": "code",
   "execution_count": 64,
   "metadata": {},
   "outputs": [
    {
     "data": {
      "text/plain": [
       "(6, 3)"
      ]
     },
     "execution_count": 64,
     "metadata": {},
     "output_type": "execute_result"
    }
   ],
   "source": [
    "x = df.to_numpy()\n",
    "x.shape"
   ]
  },
  {
   "cell_type": "code",
   "execution_count": 68,
   "metadata": {},
   "outputs": [
    {
     "data": {
      "text/plain": [
       "(3, 6)"
      ]
     },
     "execution_count": 68,
     "metadata": {},
     "output_type": "execute_result"
    }
   ],
   "source": [
    "x = x.reshape(-1,6)\n",
    "x.shape"
   ]
  },
  {
   "cell_type": "code",
   "execution_count": 69,
   "metadata": {},
   "outputs": [
    {
     "data": {
      "text/plain": [
       "array([['1', '1', '2', '3', '2', '4'],\n",
       "       ['1.1', '0.1', '3.3', nan, nan, nan],\n",
       "       ['3', '5', '7', '0', '0', '0']], dtype=object)"
      ]
     },
     "execution_count": 69,
     "metadata": {},
     "output_type": "execute_result"
    }
   ],
   "source": [
    "x"
   ]
  },
  {
   "cell_type": "code",
   "execution_count": 17,
   "metadata": {},
   "outputs": [
    {
     "data": {
      "text/plain": [
       "0    False\n",
       "1    False\n",
       "2    False\n",
       "3     True\n",
       "4    False\n",
       "dtype: bool"
      ]
     },
     "execution_count": 17,
     "metadata": {},
     "output_type": "execute_result"
    }
   ],
   "source": [
    "is_nan = df.isna().any(axis=1)\n",
    "is_nan"
   ]
  },
  {
   "cell_type": "code",
   "execution_count": 18,
   "metadata": {},
   "outputs": [
    {
     "data": {
      "text/plain": [
       "0     True\n",
       "1    False\n",
       "2    False\n",
       "3    False\n",
       "4     True\n",
       "dtype: bool"
      ]
     },
     "execution_count": 18,
     "metadata": {},
     "output_type": "execute_result"
    }
   ],
   "source": [
    "is_nan_prev = is_nan.shift(fill_value=True)\n",
    "is_nan_prev"
   ]
  },
  {
   "cell_type": "code",
   "execution_count": 19,
   "metadata": {},
   "outputs": [
    {
     "data": {
      "text/plain": [
       "0    1\n",
       "1    0\n",
       "2    0\n",
       "3    0\n",
       "4    1\n",
       "dtype: int64"
      ]
     },
     "execution_count": 19,
     "metadata": {},
     "output_type": "execute_result"
    }
   ],
   "source": [
    "start_pos = ((is_nan == False) & (is_nan_prev == True)).astype('int')\n",
    "start_pos"
   ]
  },
  {
   "cell_type": "code",
   "execution_count": 53,
   "metadata": {},
   "outputs": [
    {
     "data": {
      "text/plain": [
       "0    1\n",
       "1    1\n",
       "2    1\n",
       "3    1\n",
       "4    2\n",
       "dtype: int64"
      ]
     },
     "execution_count": 53,
     "metadata": {},
     "output_type": "execute_result"
    }
   ],
   "source": [
    "group_id = start_pos.cumsum()\n",
    "group_id"
   ]
  },
  {
   "cell_type": "code",
   "execution_count": 54,
   "metadata": {},
   "outputs": [
    {
     "data": {
      "text/plain": [
       "0    1.0\n",
       "1    1.0\n",
       "2    1.0\n",
       "3    NaN\n",
       "4    2.0\n",
       "dtype: float64"
      ]
     },
     "execution_count": 54,
     "metadata": {},
     "output_type": "execute_result"
    }
   ],
   "source": [
    "group_id[is_nan] = None\n",
    "group_id"
   ]
  },
  {
   "cell_type": "code",
   "execution_count": 44,
   "metadata": {},
   "outputs": [
    {
     "data": {
      "text/plain": [
       "<NA>"
      ]
     },
     "execution_count": 44,
     "metadata": {},
     "output_type": "execute_result"
    }
   ],
   "source": [
    "a = pd.array([np.nan], dtype=pd.Int64Dtype())\n",
    "nan_int = a[0]\n",
    "type(nan_int)\n",
    "\n",
    "pd.NA"
   ]
  },
  {
   "cell_type": "code",
   "execution_count": 13,
   "metadata": {},
   "outputs": [],
   "source": [
    "g = df.groupby(group_id)"
   ]
  },
  {
   "cell_type": "code",
   "execution_count": 14,
   "metadata": {},
   "outputs": [
    {
     "data": {
      "text/html": [
       "<div>\n",
       "<style scoped>\n",
       "    .dataframe tbody tr th:only-of-type {\n",
       "        vertical-align: middle;\n",
       "    }\n",
       "\n",
       "    .dataframe tbody tr th {\n",
       "        vertical-align: top;\n",
       "    }\n",
       "\n",
       "    .dataframe thead th {\n",
       "        text-align: right;\n",
       "    }\n",
       "</style>\n",
       "<table border=\"1\" class=\"dataframe\">\n",
       "  <thead>\n",
       "    <tr style=\"text-align: right;\">\n",
       "      <th></th>\n",
       "      <th>a</th>\n",
       "      <th>b</th>\n",
       "      <th>c</th>\n",
       "    </tr>\n",
       "  </thead>\n",
       "  <tbody>\n",
       "    <tr>\n",
       "      <th>0</th>\n",
       "      <td>1</td>\n",
       "      <td>1</td>\n",
       "      <td>2</td>\n",
       "    </tr>\n",
       "    <tr>\n",
       "      <th>1</th>\n",
       "      <td>3</td>\n",
       "      <td>2</td>\n",
       "      <td>4</td>\n",
       "    </tr>\n",
       "    <tr>\n",
       "      <th>2</th>\n",
       "      <td>1.1</td>\n",
       "      <td>0.1</td>\n",
       "      <td>3.3</td>\n",
       "    </tr>\n",
       "  </tbody>\n",
       "</table>\n",
       "</div>"
      ],
      "text/plain": [
       "     a    b    c\n",
       "0    1    1    2\n",
       "1    3    2    4\n",
       "2  1.1  0.1  3.3"
      ]
     },
     "metadata": {},
     "output_type": "display_data"
    },
    {
     "data": {
      "text/html": [
       "<div>\n",
       "<style scoped>\n",
       "    .dataframe tbody tr th:only-of-type {\n",
       "        vertical-align: middle;\n",
       "    }\n",
       "\n",
       "    .dataframe tbody tr th {\n",
       "        vertical-align: top;\n",
       "    }\n",
       "\n",
       "    .dataframe thead th {\n",
       "        text-align: right;\n",
       "    }\n",
       "</style>\n",
       "<table border=\"1\" class=\"dataframe\">\n",
       "  <thead>\n",
       "    <tr style=\"text-align: right;\">\n",
       "      <th></th>\n",
       "      <th>a</th>\n",
       "      <th>b</th>\n",
       "      <th>c</th>\n",
       "    </tr>\n",
       "  </thead>\n",
       "  <tbody>\n",
       "    <tr>\n",
       "      <th>4</th>\n",
       "      <td>3</td>\n",
       "      <td>5</td>\n",
       "      <td>7</td>\n",
       "    </tr>\n",
       "  </tbody>\n",
       "</table>\n",
       "</div>"
      ],
      "text/plain": [
       "   a  b  c\n",
       "4  3  5  7"
      ]
     },
     "metadata": {},
     "output_type": "display_data"
    }
   ],
   "source": [
    "for _, rows in g:\n",
    "    display(rows)"
   ]
  },
  {
   "cell_type": "code",
   "execution_count": 57,
   "metadata": {},
   "outputs": [
    {
     "data": {
      "text/html": [
       "<div>\n",
       "<style scoped>\n",
       "    .dataframe tbody tr th:only-of-type {\n",
       "        vertical-align: middle;\n",
       "    }\n",
       "\n",
       "    .dataframe tbody tr th {\n",
       "        vertical-align: top;\n",
       "    }\n",
       "\n",
       "    .dataframe thead th {\n",
       "        text-align: right;\n",
       "    }\n",
       "</style>\n",
       "<table border=\"1\" class=\"dataframe\">\n",
       "  <thead>\n",
       "    <tr style=\"text-align: right;\">\n",
       "      <th></th>\n",
       "      <th>a</th>\n",
       "      <th>b</th>\n",
       "      <th>c</th>\n",
       "      <th>a</th>\n",
       "      <th>b</th>\n",
       "      <th>d</th>\n",
       "    </tr>\n",
       "  </thead>\n",
       "  <tbody>\n",
       "    <tr>\n",
       "      <th>0</th>\n",
       "      <td>1</td>\n",
       "      <td>1</td>\n",
       "      <td>2</td>\n",
       "      <td>1</td>\n",
       "      <td>1</td>\n",
       "      <td>2</td>\n",
       "    </tr>\n",
       "    <tr>\n",
       "      <th>1</th>\n",
       "      <td>3</td>\n",
       "      <td>2</td>\n",
       "      <td>4</td>\n",
       "      <td>3</td>\n",
       "      <td>2</td>\n",
       "      <td>4</td>\n",
       "    </tr>\n",
       "    <tr>\n",
       "      <th>2</th>\n",
       "      <td>1.1</td>\n",
       "      <td>0.1</td>\n",
       "      <td>3.3</td>\n",
       "      <td>1.1</td>\n",
       "      <td>0.1</td>\n",
       "      <td>3.3</td>\n",
       "    </tr>\n",
       "    <tr>\n",
       "      <th>3</th>\n",
       "      <td>NaN</td>\n",
       "      <td>NaN</td>\n",
       "      <td>NaN</td>\n",
       "      <td>NaN</td>\n",
       "      <td>NaN</td>\n",
       "      <td>NaN</td>\n",
       "    </tr>\n",
       "    <tr>\n",
       "      <th>4</th>\n",
       "      <td>3</td>\n",
       "      <td>5</td>\n",
       "      <td>7</td>\n",
       "      <td>3</td>\n",
       "      <td>5</td>\n",
       "      <td>7</td>\n",
       "    </tr>\n",
       "  </tbody>\n",
       "</table>\n",
       "</div>"
      ],
      "text/plain": [
       "     a    b    c    a    b    d\n",
       "0    1    1    2    1    1    2\n",
       "1    3    2    4    3    2    4\n",
       "2  1.1  0.1  3.3  1.1  0.1  3.3\n",
       "3  NaN  NaN  NaN  NaN  NaN  NaN\n",
       "4    3    5    7    3    5    7"
      ]
     },
     "execution_count": 57,
     "metadata": {},
     "output_type": "execute_result"
    }
   ],
   "source": [
    "import pandas as pd\n",
    "import numpy as np\n",
    "\n",
    "dict1 = {\"a\": ['1', '3', '1.1', np.nan, '3'], \n",
    "         \"b\": ['1', '2', '0.1', np.nan, '5'],\n",
    "         \"c\": ['2', '4', '3.3', np.nan, '7']}\n",
    "df1 = pd.DataFrame(dict1)\n",
    "dict2 = {\"a\": ['1', '3', '1.1', np.nan, '3'], \n",
    "         \"b\": ['1', '2', '0.1', np.nan, '5'],\n",
    "         \"d\": ['2', '4', '3.3', np.nan, '7']}\n",
    "df2 = pd.DataFrame(dict2)\n",
    "\n",
    "df = pd.concat([df1, df2], join='inner', axis=1)\n",
    "df"
   ]
  },
  {
   "cell_type": "code",
   "execution_count": 8,
   "metadata": {},
   "outputs": [],
   "source": [
    "import pandas as pd\n",
    "import numpy as np\n",
    "\n",
    "dict1 = {\"a\": ['1', '3', '1.1', np.nan, '3'], \n",
    "        }\n",
    "df = pd.DataFrame(dict1)"
   ]
  },
  {
   "cell_type": "code",
   "execution_count": 4,
   "metadata": {},
   "outputs": [
    {
     "data": {
      "text/html": [
       "<div>\n",
       "<style scoped>\n",
       "    .dataframe tbody tr th:only-of-type {\n",
       "        vertical-align: middle;\n",
       "    }\n",
       "\n",
       "    .dataframe tbody tr th {\n",
       "        vertical-align: top;\n",
       "    }\n",
       "\n",
       "    .dataframe thead th {\n",
       "        text-align: right;\n",
       "    }\n",
       "</style>\n",
       "<table border=\"1\" class=\"dataframe\">\n",
       "  <thead>\n",
       "    <tr style=\"text-align: right;\">\n",
       "      <th></th>\n",
       "      <th>a</th>\n",
       "    </tr>\n",
       "  </thead>\n",
       "  <tbody>\n",
       "    <tr>\n",
       "      <th>0</th>\n",
       "      <td>1</td>\n",
       "    </tr>\n",
       "    <tr>\n",
       "      <th>1</th>\n",
       "      <td>3</td>\n",
       "    </tr>\n",
       "    <tr>\n",
       "      <th>2</th>\n",
       "      <td>1.1</td>\n",
       "    </tr>\n",
       "    <tr>\n",
       "      <th>3</th>\n",
       "      <td>NaN</td>\n",
       "    </tr>\n",
       "    <tr>\n",
       "      <th>4</th>\n",
       "      <td>3</td>\n",
       "    </tr>\n",
       "  </tbody>\n",
       "</table>\n",
       "</div>"
      ],
      "text/plain": [
       "     a\n",
       "0    1\n",
       "1    3\n",
       "2  1.1\n",
       "3  NaN\n",
       "4    3"
      ]
     },
     "execution_count": 4,
     "metadata": {},
     "output_type": "execute_result"
    }
   ],
   "source": [
    "df\n",
    "\n"
   ]
  },
  {
   "cell_type": "code",
   "execution_count": 10,
   "metadata": {},
   "outputs": [],
   "source": [
    "a = np.array([0.1, 0.2])\n",
    "df = pd.DataFrame(a)"
   ]
  },
  {
   "cell_type": "code",
   "execution_count": 11,
   "metadata": {},
   "outputs": [
    {
     "data": {
      "text/html": [
       "<div>\n",
       "<style scoped>\n",
       "    .dataframe tbody tr th:only-of-type {\n",
       "        vertical-align: middle;\n",
       "    }\n",
       "\n",
       "    .dataframe tbody tr th {\n",
       "        vertical-align: top;\n",
       "    }\n",
       "\n",
       "    .dataframe thead th {\n",
       "        text-align: right;\n",
       "    }\n",
       "</style>\n",
       "<table border=\"1\" class=\"dataframe\">\n",
       "  <thead>\n",
       "    <tr style=\"text-align: right;\">\n",
       "      <th></th>\n",
       "      <th>0</th>\n",
       "    </tr>\n",
       "  </thead>\n",
       "  <tbody>\n",
       "    <tr>\n",
       "      <th>0</th>\n",
       "      <td>0.1</td>\n",
       "    </tr>\n",
       "    <tr>\n",
       "      <th>1</th>\n",
       "      <td>0.2</td>\n",
       "    </tr>\n",
       "  </tbody>\n",
       "</table>\n",
       "</div>"
      ],
      "text/plain": [
       "     0\n",
       "0  0.1\n",
       "1  0.2"
      ]
     },
     "execution_count": 11,
     "metadata": {},
     "output_type": "execute_result"
    }
   ],
   "source": [
    "df\n"
   ]
  },
  {
   "cell_type": "code",
   "execution_count": 50,
   "metadata": {},
   "outputs": [],
   "source": [
    "x = np.linspace(-1, 1, 100)\n",
    "y = x**2"
   ]
  },
  {
   "cell_type": "code",
   "execution_count": 96,
   "metadata": {},
   "outputs": [
    {
     "data": {
      "image/png": "[encoded data removed]",
      "text/plain": [
       "<Figure size 432x288 with 1 Axes>"
      ]
     },
     "metadata": {
      "needs_background": "light"
     },
     "output_type": "display_data"
    }
   ],
   "source": [
    "import matplotlib.pyplot as plt\n",
    "fig, ax = plt.subplots()\n",
    "ax.plot(x, y)\n",
    "ax.set_aspect('equal')\n",
    "ax.grid(True, which='both')\n",
    "# set the x-spine (see below for more info on `set_position`)\n",
    "ax.spines['left'].set_position('zero')\n",
    "\n",
    "# turn off the right spine/ticks\n",
    "ax.spines['right'].set_color('none')\n",
    "ax.yaxis.tick_left()\n",
    "\n",
    "# set the y-spine\n",
    "ax.spines['bottom'].set_position('zero')\n",
    "# turn off the top spine/ticks\n",
    "ax.spines['top'].set_color('none')\n",
    "ax.xaxis.tick_bottom()\n",
    "plt.title('sdf')\n",
    "plt.show()"
   ]
  },
  {
   "cell_type": "code",
   "execution_count": 98,
   "metadata": {},
   "outputs": [
    {
     "data": {
      "text/plain": [
       "array([ 0.54402111,  0.36459873,  0.17034683, -0.03083368, -0.23076008,\n",
       "       -0.42130064, -0.59470541, -0.74392141, -0.86287948, -0.94674118,\n",
       "       -0.99209556, -0.99709789, -0.96154471, -0.8868821 , -0.77614685,\n",
       "       -0.63384295, -0.46575841, -0.27872982, -0.0803643 ,  0.12126992,\n",
       "        0.31797166,  0.50174037,  0.66510151,  0.80141062,  0.90512352,\n",
       "        0.97202182,  0.99938456,  0.98609877,  0.93270486,  0.84137452,\n",
       "        0.84172719,  0.84207985,  0.84243251,  0.84278518,  0.84313784,\n",
       "        0.84349051,  0.84384317,  0.84419584,  0.8445485 ,  0.84490117,\n",
       "        0.84525383,  0.84560649,  0.84595916,  0.84631182,  0.84666449,\n",
       "        0.84701715,  0.84736982,  0.84772248,  0.84807514,  0.84842781,\n",
       "        0.84878047,  0.84913314,  0.8494858 ,  0.84983847,  0.85019113,\n",
       "        0.8505438 ,  0.85089646,  0.85124912,  0.85160179,  0.85195445,\n",
       "        0.85230712,  0.73002623,  0.57805259,  0.40256749,  0.21070855,\n",
       "        0.01027934, -0.19056796, -0.38366419, -0.56115544, -0.7158225 ,\n",
       "       -0.84137452, -0.93270486, -0.98609877, -0.99938456, -0.97202182,\n",
       "       -0.90512352, -0.80141062, -0.66510151, -0.50174037, -0.31797166,\n",
       "       -0.12126992,  0.0803643 ,  0.27872982,  0.46575841,  0.63384295,\n",
       "        0.77614685,  0.8868821 ,  0.96154471,  0.99709789,  0.99209556,\n",
       "        0.94674118,  0.86287948,  0.74392141,  0.59470541,  0.42130064,\n",
       "        0.23076008,  0.03083368, -0.17034683, -0.36459873, -0.54402111])"
      ]
     },
     "execution_count": 98,
     "metadata": {},
     "output_type": "execute_result"
    }
   ],
   "source": [
    "df = pd.DataFrame(y)\n",
    "df[0][30:60] = np.nan\n",
    "\n",
    "dfnew = df.interpolate()\n",
    "\n",
    "z = dfnew[0].to_numpy()\n",
    "z "
   ]
  },
  {
   "cell_type": "code",
   "execution_count": 71,
   "metadata": {},
   "outputs": [
    {
     "data": {
      "text/plain": [
       "array([1.00000000e+00, 9.60004081e-01, 9.20824406e-01, 8.93480257e-01,\n",
       "       8.66136109e-01, 8.38791960e-01, 8.11447811e-01, 7.84103663e-01,\n",
       "       7.56759514e-01, 7.29415366e-01, 7.02071217e-01, 6.74727069e-01,\n",
       "       6.47382920e-01, 6.20038772e-01, 5.92694623e-01, 5.65350474e-01,\n",
       "       5.38006326e-01, 5.10662177e-01, 4.83318029e-01, 4.55973880e-01,\n",
       "       4.28629732e-01, 4.01285583e-01, 3.73941435e-01, 3.46597286e-01,\n",
       "       3.19253137e-01, 2.91908989e-01, 2.64564840e-01, 2.37220692e-01,\n",
       "       2.09876543e-01, 1.82532395e-01, 1.55188246e-01, 1.39679625e-01,\n",
       "       1.24987246e-01, 1.11111111e-01, 9.80512193e-02, 8.58075707e-02,\n",
       "       7.43801653e-02, 6.37690032e-02, 5.39740843e-02, 4.49954086e-02,\n",
       "       3.68329762e-02, 2.94867871e-02, 2.29568411e-02, 1.72431385e-02,\n",
       "       1.23456790e-02, 8.26446281e-03, 4.99948985e-03, 2.55076013e-03,\n",
       "       9.18273646e-04, 1.02030405e-04, 1.02030405e-04, 9.18273646e-04,\n",
       "       2.55076013e-03, 4.99948985e-03, 8.26446281e-03, 1.23456790e-02,\n",
       "       1.72431385e-02, 2.29568411e-02, 2.94867871e-02, 3.68329762e-02,\n",
       "       4.49954086e-02, 5.39740843e-02, 6.37690032e-02, 7.43801653e-02,\n",
       "       8.58075707e-02, 9.80512193e-02, 1.11111111e-01, 1.24987246e-01,\n",
       "       1.39679625e-01, 1.55188246e-01, 1.71513111e-01, 1.88654219e-01,\n",
       "       2.06611570e-01, 2.25385165e-01, 2.44975003e-01, 2.65381084e-01,\n",
       "       2.86603408e-01, 3.08641975e-01, 3.31496786e-01, 3.55167840e-01,\n",
       "       3.79655137e-01, 4.04958678e-01, 4.31078461e-01, 4.58014488e-01,\n",
       "       4.85766758e-01, 5.14335272e-01, 5.43720029e-01, 5.73921028e-01,\n",
       "       6.04938272e-01, 6.36771758e-01, 6.69421488e-01, 7.02887460e-01,\n",
       "       7.37169677e-01, 7.72268136e-01, 8.08182838e-01, 8.44913784e-01,\n",
       "       8.82460973e-01, 9.20824406e-01, 9.60004081e-01, 1.00000000e+00])"
      ]
     },
     "execution_count": 71,
     "metadata": {},
     "output_type": "execute_result"
    }
   ],
   "source": [
    "z = dfnew[0].to_numpy()\n",
    "z "
   ]
  },
  {
   "cell_type": "code",
   "execution_count": 108,
   "metadata": {},
   "outputs": [
    {
     "data": {
      "image/png": "[encoded data removed]",
      "text/plain": [
       "<Figure size 432x288 with 1 Axes>"
      ]
     },
     "metadata": {
      "needs_background": "light"
     },
     "output_type": "display_data"
    }
   ],
   "source": [
    "fig, ax = plt.subplots()\n",
    "ax.plot(x, z)\n",
    "ax.set_aspect('equal')\n",
    "ax.grid(True, which='both')\n",
    "# set the x-spine (see below for more info on `set_position`)\n",
    "ax.spines['left'].set_position('zero')\n",
    "\n",
    "# turn off the right spine/ticks\n",
    "ax.spines['right'].set_color('none')\n",
    "ax.yaxis.tick_left()\n",
    "\n",
    "# set the y-spine\n",
    "ax.spines['bottom'].set_position('zero')\n",
    "# turn off the top spine/ticks\n",
    "ax.spines['top'].set_color('none')\n",
    "ax.xaxis.tick_bottom()\n",
    "plt.title('sdf')\n",
    "plt.show()"
   ]
  },
  {
   "cell_type": "code",
   "execution_count": 107,
   "metadata": {},
   "outputs": [
    {
     "data": {
      "text/plain": [
       "array([ 0.54402111,  0.36459873,  0.17034683, -0.03083368, -0.23076008,\n",
       "       -0.42130064, -0.59470541, -0.74392141, -0.86287948, -0.94674118,\n",
       "       -0.99209556, -0.99709789, -0.96154471, -0.8868821 , -0.77614685,\n",
       "       -0.63384295, -0.46575841, -0.27872982, -0.0803643 ,  0.12126992,\n",
       "        0.31797166,  0.50174037,  0.66510151,  0.80141062,  0.90512352,\n",
       "        0.97202182,  0.99938456,  0.98609877,  0.93270486,  0.84137452,\n",
       "        0.71585293,  0.56133598,  0.38425589,  0.19199424, -0.0074511 ,\n",
       "       -0.2058214 , -0.39495478, -0.56712906, -0.71537577, -0.83375388,\n",
       "       -0.91757489, -0.9635729 , -0.97001599, -0.93675707, -0.8652245 ,\n",
       "       -0.75835454, -0.62046916, -0.45710436, -0.27479529, -0.08082567,\n",
       "        0.11705025,  0.31090394,  0.49293751,  0.65578712,  0.79281458,\n",
       "        0.89837677,  0.96806259,  0.99888749,  0.98943593,  0.93994302,\n",
       "        0.85230712,  0.73002623,  0.57805259,  0.40256749,  0.21070855,\n",
       "        0.01027934, -0.19056796, -0.38366419, -0.56115544, -0.7158225 ,\n",
       "       -0.84137452, -0.93270486, -0.98609877, -0.99938456, -0.97202182,\n",
       "       -0.90512352, -0.80141062, -0.66510151, -0.50174037, -0.31797166,\n",
       "       -0.12126992,  0.0803643 ,  0.27872982,  0.46575841,  0.63384295,\n",
       "        0.77614685,  0.8868821 ,  0.96154471,  0.99709789,  0.99209556,\n",
       "        0.94674118,  0.86287948,  0.74392141,  0.59470541,  0.42130064,\n",
       "        0.23076008,  0.03083368, -0.17034683, -0.36459873, -0.54402111])"
      ]
     },
     "execution_count": 107,
     "metadata": {},
     "output_type": "execute_result"
    }
   ],
   "source": [
    "#dfnew = df.interpolate(method='cubic')\n",
    "#dfnew = df.interpolate(method='quadratic')\n",
    "dfnew = df.interpolate(method='polynomial', order=9)\n",
    "\n",
    "z = dfnew[0].to_numpy()\n",
    "z "
   ]
  },
  {
   "cell_type": "code",
   "execution_count": 97,
   "metadata": {},
   "outputs": [],
   "source": [
    "x = np.linspace(-10, 10, 100)\n",
    "y = np.sin(x)\n",
    "z = y"
   ]
  },
  {
   "cell_type": "code",
   "execution_count": null,
   "metadata": {},
   "outputs": [],
   "source": []
  },
  {
   "cell_type": "markdown",
   "metadata": {},
   "source": [
    "## fill demo\n",
    "\n",
    "https://stackoverflow.com/questions/30533021/interpolate-or-extrapolate-only-small-gaps-in-pandas-dataframe"
   ]
  },
  {
   "cell_type": "code",
   "execution_count": 46,
   "metadata": {},
   "outputs": [
    {
     "data": {
      "text/plain": [
       "array([[-0.62398768,  0.56693047, -0.27090163,  1.61645051, -0.63549526],\n",
       "       [-0.24216098, -0.50697813, -0.09618979,         nan, -1.29713434],\n",
       "       [        nan,  0.99620312,         nan,  0.35587795, -0.08181704],\n",
       "       [        nan,         nan, -0.95259695,  0.00495302,         nan],\n",
       "       [-0.89926671,         nan,  0.56682653, -0.49263696,  1.23505293],\n",
       "       [ 0.92983695,  1.2322332 ,         nan,         nan, -1.64018048],\n",
       "       [        nan, -0.55489046,         nan, -0.9129814 , -0.77827533],\n",
       "       [-0.16729293,         nan,         nan,  0.15204916, -1.09290465],\n",
       "       [        nan,  0.39105357, -0.14873924, -0.16152275, -0.77414844],\n",
       "       [-0.80795982, -2.14130289,  0.77302778,  0.9317743 ,         nan]])"
      ]
     },
     "execution_count": 46,
     "metadata": {},
     "output_type": "execute_result"
    }
   ],
   "source": [
    "M = 10;\n",
    "N = 5;\n",
    "c = 15;\n",
    "A = np.random.randn(M,N)\n",
    "\n",
    "mask=np.zeros(M*N,dtype=bool)\n",
    "mask[:c] = True\n",
    "np.random.shuffle(mask)\n",
    "mask=mask.reshape(M,N)\n",
    "\n",
    "A[mask] = np.nan\n",
    "A"
   ]
  },
  {
   "cell_type": "code",
   "execution_count": 47,
   "metadata": {},
   "outputs": [
    {
     "data": {
      "text/html": [
       "<div>\n",
       "<style scoped>\n",
       "    .dataframe tbody tr th:only-of-type {\n",
       "        vertical-align: middle;\n",
       "    }\n",
       "\n",
       "    .dataframe tbody tr th {\n",
       "        vertical-align: top;\n",
       "    }\n",
       "\n",
       "    .dataframe thead th {\n",
       "        text-align: right;\n",
       "    }\n",
       "</style>\n",
       "<table border=\"1\" class=\"dataframe\">\n",
       "  <thead>\n",
       "    <tr style=\"text-align: right;\">\n",
       "      <th></th>\n",
       "      <th>a</th>\n",
       "      <th>b</th>\n",
       "      <th>c</th>\n",
       "      <th>d</th>\n",
       "      <th>e</th>\n",
       "    </tr>\n",
       "  </thead>\n",
       "  <tbody>\n",
       "    <tr>\n",
       "      <th>0</th>\n",
       "      <td>-0.623988</td>\n",
       "      <td>0.566930</td>\n",
       "      <td>-0.270902</td>\n",
       "      <td>1.616451</td>\n",
       "      <td>-0.635495</td>\n",
       "    </tr>\n",
       "    <tr>\n",
       "      <th>1</th>\n",
       "      <td>-0.242161</td>\n",
       "      <td>-0.506978</td>\n",
       "      <td>-0.096190</td>\n",
       "      <td>NaN</td>\n",
       "      <td>-1.297134</td>\n",
       "    </tr>\n",
       "    <tr>\n",
       "      <th>2</th>\n",
       "      <td>NaN</td>\n",
       "      <td>0.996203</td>\n",
       "      <td>NaN</td>\n",
       "      <td>0.355878</td>\n",
       "      <td>-0.081817</td>\n",
       "    </tr>\n",
       "    <tr>\n",
       "      <th>3</th>\n",
       "      <td>NaN</td>\n",
       "      <td>NaN</td>\n",
       "      <td>-0.952597</td>\n",
       "      <td>0.004953</td>\n",
       "      <td>NaN</td>\n",
       "    </tr>\n",
       "    <tr>\n",
       "      <th>4</th>\n",
       "      <td>-0.899267</td>\n",
       "      <td>NaN</td>\n",
       "      <td>0.566827</td>\n",
       "      <td>-0.492637</td>\n",
       "      <td>1.235053</td>\n",
       "    </tr>\n",
       "    <tr>\n",
       "      <th>5</th>\n",
       "      <td>0.929837</td>\n",
       "      <td>1.232233</td>\n",
       "      <td>NaN</td>\n",
       "      <td>NaN</td>\n",
       "      <td>-1.640180</td>\n",
       "    </tr>\n",
       "    <tr>\n",
       "      <th>6</th>\n",
       "      <td>NaN</td>\n",
       "      <td>-0.554890</td>\n",
       "      <td>NaN</td>\n",
       "      <td>-0.912981</td>\n",
       "      <td>-0.778275</td>\n",
       "    </tr>\n",
       "    <tr>\n",
       "      <th>7</th>\n",
       "      <td>-0.167293</td>\n",
       "      <td>NaN</td>\n",
       "      <td>NaN</td>\n",
       "      <td>0.152049</td>\n",
       "      <td>-1.092905</td>\n",
       "    </tr>\n",
       "    <tr>\n",
       "      <th>8</th>\n",
       "      <td>NaN</td>\n",
       "      <td>0.391054</td>\n",
       "      <td>-0.148739</td>\n",
       "      <td>-0.161523</td>\n",
       "      <td>-0.774148</td>\n",
       "    </tr>\n",
       "    <tr>\n",
       "      <th>9</th>\n",
       "      <td>-0.807960</td>\n",
       "      <td>-2.141303</td>\n",
       "      <td>0.773028</td>\n",
       "      <td>0.931774</td>\n",
       "      <td>NaN</td>\n",
       "    </tr>\n",
       "  </tbody>\n",
       "</table>\n",
       "</div>"
      ],
      "text/plain": [
       "          a         b         c         d         e\n",
       "0 -0.623988  0.566930 -0.270902  1.616451 -0.635495\n",
       "1 -0.242161 -0.506978 -0.096190       NaN -1.297134\n",
       "2       NaN  0.996203       NaN  0.355878 -0.081817\n",
       "3       NaN       NaN -0.952597  0.004953       NaN\n",
       "4 -0.899267       NaN  0.566827 -0.492637  1.235053\n",
       "5  0.929837  1.232233       NaN       NaN -1.640180\n",
       "6       NaN -0.554890       NaN -0.912981 -0.778275\n",
       "7 -0.167293       NaN       NaN  0.152049 -1.092905\n",
       "8       NaN  0.391054 -0.148739 -0.161523 -0.774148\n",
       "9 -0.807960 -2.141303  0.773028  0.931774       NaN"
      ]
     },
     "execution_count": 47,
     "metadata": {},
     "output_type": "execute_result"
    }
   ],
   "source": [
    "data = pd.DataFrame(A)\n",
    "data.columns = ['a', 'b', 'c', 'd', 'e']\n",
    "data"
   ]
  },
  {
   "cell_type": "code",
   "execution_count": 30,
   "metadata": {
    "scrolled": true
   },
   "outputs": [
    {
     "data": {
      "text/plain": [
       "array([[        nan, -1.0685737 ,         nan, -2.49872757, -0.24574044],\n",
       "       [-0.22060129, -0.17299655,         nan,         nan,  1.34058229],\n",
       "       [ 0.09195907,  0.86104794,         nan,  0.68329715, -0.99344318],\n",
       "       [ 0.85255667,         nan,         nan, -0.11331177,         nan],\n",
       "       [ 0.78784238,         nan, -0.78184525, -0.71978336, -0.59823051],\n",
       "       [        nan,  1.19982139,  1.12630498,  0.2524887 ,  0.22878223],\n",
       "       [-1.19903326,  0.53151275, -1.2209766 ,  0.52197887,         nan],\n",
       "       [ 0.43398179,  1.3013297 ,  0.04080883,         nan, -0.86060827],\n",
       "       [ 2.3932758 ,  0.62501071,         nan,         nan,         nan],\n",
       "       [-2.78209963, -0.58638129, -0.18880738, -1.76443683,  1.12607407]])"
      ]
     },
     "execution_count": 30,
     "metadata": {},
     "output_type": "execute_result"
    }
   ],
   "source": [
    "A"
   ]
  },
  {
   "cell_type": "code",
   "execution_count": 48,
   "metadata": {},
   "outputs": [
    {
     "data": {
      "text/html": [
       "<div>\n",
       "<style scoped>\n",
       "    .dataframe tbody tr th:only-of-type {\n",
       "        vertical-align: middle;\n",
       "    }\n",
       "\n",
       "    .dataframe tbody tr th {\n",
       "        vertical-align: top;\n",
       "    }\n",
       "\n",
       "    .dataframe thead th {\n",
       "        text-align: right;\n",
       "    }\n",
       "</style>\n",
       "<table border=\"1\" class=\"dataframe\">\n",
       "  <thead>\n",
       "    <tr style=\"text-align: right;\">\n",
       "      <th></th>\n",
       "      <th>a</th>\n",
       "      <th>b</th>\n",
       "      <th>c</th>\n",
       "      <th>d</th>\n",
       "      <th>e</th>\n",
       "    </tr>\n",
       "  </thead>\n",
       "  <tbody>\n",
       "    <tr>\n",
       "      <th>0</th>\n",
       "      <td>True</td>\n",
       "      <td>True</td>\n",
       "      <td>True</td>\n",
       "      <td>True</td>\n",
       "      <td>True</td>\n",
       "    </tr>\n",
       "    <tr>\n",
       "      <th>1</th>\n",
       "      <td>True</td>\n",
       "      <td>True</td>\n",
       "      <td>True</td>\n",
       "      <td>True</td>\n",
       "      <td>True</td>\n",
       "    </tr>\n",
       "    <tr>\n",
       "      <th>2</th>\n",
       "      <td>True</td>\n",
       "      <td>True</td>\n",
       "      <td>True</td>\n",
       "      <td>True</td>\n",
       "      <td>True</td>\n",
       "    </tr>\n",
       "    <tr>\n",
       "      <th>3</th>\n",
       "      <td>True</td>\n",
       "      <td>True</td>\n",
       "      <td>True</td>\n",
       "      <td>True</td>\n",
       "      <td>True</td>\n",
       "    </tr>\n",
       "    <tr>\n",
       "      <th>4</th>\n",
       "      <td>True</td>\n",
       "      <td>True</td>\n",
       "      <td>True</td>\n",
       "      <td>True</td>\n",
       "      <td>True</td>\n",
       "    </tr>\n",
       "    <tr>\n",
       "      <th>5</th>\n",
       "      <td>True</td>\n",
       "      <td>True</td>\n",
       "      <td>False</td>\n",
       "      <td>True</td>\n",
       "      <td>True</td>\n",
       "    </tr>\n",
       "    <tr>\n",
       "      <th>6</th>\n",
       "      <td>True</td>\n",
       "      <td>True</td>\n",
       "      <td>False</td>\n",
       "      <td>True</td>\n",
       "      <td>True</td>\n",
       "    </tr>\n",
       "    <tr>\n",
       "      <th>7</th>\n",
       "      <td>True</td>\n",
       "      <td>True</td>\n",
       "      <td>False</td>\n",
       "      <td>True</td>\n",
       "      <td>True</td>\n",
       "    </tr>\n",
       "    <tr>\n",
       "      <th>8</th>\n",
       "      <td>True</td>\n",
       "      <td>True</td>\n",
       "      <td>True</td>\n",
       "      <td>True</td>\n",
       "      <td>True</td>\n",
       "    </tr>\n",
       "    <tr>\n",
       "      <th>9</th>\n",
       "      <td>True</td>\n",
       "      <td>True</td>\n",
       "      <td>True</td>\n",
       "      <td>True</td>\n",
       "      <td>True</td>\n",
       "    </tr>\n",
       "  </tbody>\n",
       "</table>\n",
       "</div>"
      ],
      "text/plain": [
       "      a     b      c     d     e\n",
       "0  True  True   True  True  True\n",
       "1  True  True   True  True  True\n",
       "2  True  True   True  True  True\n",
       "3  True  True   True  True  True\n",
       "4  True  True   True  True  True\n",
       "5  True  True  False  True  True\n",
       "6  True  True  False  True  True\n",
       "7  True  True  False  True  True\n",
       "8  True  True   True  True  True\n",
       "9  True  True   True  True  True"
      ]
     },
     "execution_count": 48,
     "metadata": {},
     "output_type": "execute_result"
    }
   ],
   "source": [
    "mask = data.copy()\n",
    "for i in list('abcde'):\n",
    "    df = pd.DataFrame( data[i] )\n",
    "    df['new'] = ((df.notnull() != df.shift().notnull()).cumsum())\n",
    "    df['ones'] = 1\n",
    "    mask[i] = (df.groupby('new')['ones'].transform('count') < 3) | data[i].notnull()\n",
    "mask"
   ]
  },
  {
   "cell_type": "code",
   "execution_count": 49,
   "metadata": {},
   "outputs": [
    {
     "data": {
      "text/html": [
       "<div>\n",
       "<style scoped>\n",
       "    .dataframe tbody tr th:only-of-type {\n",
       "        vertical-align: middle;\n",
       "    }\n",
       "\n",
       "    .dataframe tbody tr th {\n",
       "        vertical-align: top;\n",
       "    }\n",
       "\n",
       "    .dataframe thead th {\n",
       "        text-align: right;\n",
       "    }\n",
       "</style>\n",
       "<table border=\"1\" class=\"dataframe\">\n",
       "  <thead>\n",
       "    <tr style=\"text-align: right;\">\n",
       "      <th></th>\n",
       "      <th>a</th>\n",
       "      <th>b</th>\n",
       "      <th>c</th>\n",
       "      <th>d</th>\n",
       "      <th>e</th>\n",
       "    </tr>\n",
       "  </thead>\n",
       "  <tbody>\n",
       "    <tr>\n",
       "      <th>0</th>\n",
       "      <td>-0.623988</td>\n",
       "      <td>0.566930</td>\n",
       "      <td>-0.270902</td>\n",
       "      <td>1.616451</td>\n",
       "      <td>-0.635495</td>\n",
       "    </tr>\n",
       "    <tr>\n",
       "      <th>1</th>\n",
       "      <td>-0.242161</td>\n",
       "      <td>-0.506978</td>\n",
       "      <td>-0.096190</td>\n",
       "      <td>0.986164</td>\n",
       "      <td>-1.297134</td>\n",
       "    </tr>\n",
       "    <tr>\n",
       "      <th>2</th>\n",
       "      <td>-0.461196</td>\n",
       "      <td>0.996203</td>\n",
       "      <td>-0.524393</td>\n",
       "      <td>0.355878</td>\n",
       "      <td>-0.081817</td>\n",
       "    </tr>\n",
       "    <tr>\n",
       "      <th>3</th>\n",
       "      <td>-0.680231</td>\n",
       "      <td>1.074880</td>\n",
       "      <td>-0.952597</td>\n",
       "      <td>0.004953</td>\n",
       "      <td>0.576618</td>\n",
       "    </tr>\n",
       "    <tr>\n",
       "      <th>4</th>\n",
       "      <td>-0.899267</td>\n",
       "      <td>1.153557</td>\n",
       "      <td>0.566827</td>\n",
       "      <td>-0.492637</td>\n",
       "      <td>1.235053</td>\n",
       "    </tr>\n",
       "    <tr>\n",
       "      <th>5</th>\n",
       "      <td>0.929837</td>\n",
       "      <td>1.232233</td>\n",
       "      <td>NaN</td>\n",
       "      <td>-0.702809</td>\n",
       "      <td>-1.640180</td>\n",
       "    </tr>\n",
       "    <tr>\n",
       "      <th>6</th>\n",
       "      <td>0.381272</td>\n",
       "      <td>-0.554890</td>\n",
       "      <td>NaN</td>\n",
       "      <td>-0.912981</td>\n",
       "      <td>-0.778275</td>\n",
       "    </tr>\n",
       "    <tr>\n",
       "      <th>7</th>\n",
       "      <td>-0.167293</td>\n",
       "      <td>-0.081918</td>\n",
       "      <td>NaN</td>\n",
       "      <td>0.152049</td>\n",
       "      <td>-1.092905</td>\n",
       "    </tr>\n",
       "    <tr>\n",
       "      <th>8</th>\n",
       "      <td>-0.487626</td>\n",
       "      <td>0.391054</td>\n",
       "      <td>-0.148739</td>\n",
       "      <td>-0.161523</td>\n",
       "      <td>-0.774148</td>\n",
       "    </tr>\n",
       "    <tr>\n",
       "      <th>9</th>\n",
       "      <td>-0.807960</td>\n",
       "      <td>-2.141303</td>\n",
       "      <td>0.773028</td>\n",
       "      <td>0.931774</td>\n",
       "      <td>-0.774148</td>\n",
       "    </tr>\n",
       "  </tbody>\n",
       "</table>\n",
       "</div>"
      ],
      "text/plain": [
       "          a         b         c         d         e\n",
       "0 -0.623988  0.566930 -0.270902  1.616451 -0.635495\n",
       "1 -0.242161 -0.506978 -0.096190  0.986164 -1.297134\n",
       "2 -0.461196  0.996203 -0.524393  0.355878 -0.081817\n",
       "3 -0.680231  1.074880 -0.952597  0.004953  0.576618\n",
       "4 -0.899267  1.153557  0.566827 -0.492637  1.235053\n",
       "5  0.929837  1.232233       NaN -0.702809 -1.640180\n",
       "6  0.381272 -0.554890       NaN -0.912981 -0.778275\n",
       "7 -0.167293 -0.081918       NaN  0.152049 -1.092905\n",
       "8 -0.487626  0.391054 -0.148739 -0.161523 -0.774148\n",
       "9 -0.807960 -2.141303  0.773028  0.931774 -0.774148"
      ]
     },
     "execution_count": 49,
     "metadata": {},
     "output_type": "execute_result"
    }
   ],
   "source": [
    "data.interpolate().bfill()[mask]"
   ]
  },
  {
   "cell_type": "code",
   "execution_count": 110,
   "metadata": {},
   "outputs": [
    {
     "data": {
      "text/html": [
       "<div>\n",
       "<style scoped>\n",
       "    .dataframe tbody tr th:only-of-type {\n",
       "        vertical-align: middle;\n",
       "    }\n",
       "\n",
       "    .dataframe tbody tr th {\n",
       "        vertical-align: top;\n",
       "    }\n",
       "\n",
       "    .dataframe thead th {\n",
       "        text-align: right;\n",
       "    }\n",
       "</style>\n",
       "<table border=\"1\" class=\"dataframe\">\n",
       "  <thead>\n",
       "    <tr style=\"text-align: right;\">\n",
       "      <th></th>\n",
       "      <th>측정날짜</th>\n",
       "      <th>측정소명</th>\n",
       "      <th>수온</th>\n",
       "      <th>수소이온농도</th>\n",
       "      <th>전기전도도</th>\n",
       "      <th>용존산소</th>\n",
       "      <th>탁도</th>\n",
       "      <th>총유기탄소</th>\n",
       "      <th>총질소</th>\n",
       "      <th>총인</th>\n",
       "      <th>클로로필-a</th>\n",
       "      <th>미생물_독성지수</th>\n",
       "    </tr>\n",
       "  </thead>\n",
       "  <tbody>\n",
       "    <tr>\n",
       "      <th>0</th>\n",
       "      <td>2019.01.01 00:00</td>\n",
       "      <td>가평</td>\n",
       "      <td>2.8</td>\n",
       "      <td>6.8</td>\n",
       "      <td>97.0</td>\n",
       "      <td>12.6</td>\n",
       "      <td>0.5</td>\n",
       "      <td>1.4</td>\n",
       "      <td>1.771</td>\n",
       "      <td>0.004</td>\n",
       "      <td>3.8</td>\n",
       "      <td>4.5</td>\n",
       "    </tr>\n",
       "    <tr>\n",
       "      <th>1</th>\n",
       "      <td>2019.01.01 01:00</td>\n",
       "      <td>가평</td>\n",
       "      <td>2.8</td>\n",
       "      <td>6.8</td>\n",
       "      <td>97.0</td>\n",
       "      <td>12.6</td>\n",
       "      <td>0.6</td>\n",
       "      <td>1.4</td>\n",
       "      <td>1.812</td>\n",
       "      <td>0.005</td>\n",
       "      <td>4.1</td>\n",
       "      <td>2.5</td>\n",
       "    </tr>\n",
       "    <tr>\n",
       "      <th>2</th>\n",
       "      <td>2019.01.01 02:00</td>\n",
       "      <td>가평</td>\n",
       "      <td>2.8</td>\n",
       "      <td>6.8</td>\n",
       "      <td>97.0</td>\n",
       "      <td>12.6</td>\n",
       "      <td>0.4</td>\n",
       "      <td>1.4</td>\n",
       "      <td>1.765</td>\n",
       "      <td>0.003</td>\n",
       "      <td>3.8</td>\n",
       "      <td>1.0</td>\n",
       "    </tr>\n",
       "    <tr>\n",
       "      <th>3</th>\n",
       "      <td>2019.01.01 03:00</td>\n",
       "      <td>가평</td>\n",
       "      <td>2.7</td>\n",
       "      <td>6.8</td>\n",
       "      <td>97.0</td>\n",
       "      <td>12.6</td>\n",
       "      <td>0.5</td>\n",
       "      <td>1.4</td>\n",
       "      <td>1.775</td>\n",
       "      <td>0.005</td>\n",
       "      <td>3.9</td>\n",
       "      <td>1.0</td>\n",
       "    </tr>\n",
       "    <tr>\n",
       "      <th>4</th>\n",
       "      <td>2019.01.01 04:00</td>\n",
       "      <td>가평</td>\n",
       "      <td>2.8</td>\n",
       "      <td>6.8</td>\n",
       "      <td>97.0</td>\n",
       "      <td>12.5</td>\n",
       "      <td>0.5</td>\n",
       "      <td>1.4</td>\n",
       "      <td>1.774</td>\n",
       "      <td>0.004</td>\n",
       "      <td>3.9</td>\n",
       "      <td>-0.4</td>\n",
       "    </tr>\n",
       "    <tr>\n",
       "      <th>...</th>\n",
       "      <td>...</td>\n",
       "      <td>...</td>\n",
       "      <td>...</td>\n",
       "      <td>...</td>\n",
       "      <td>...</td>\n",
       "      <td>...</td>\n",
       "      <td>...</td>\n",
       "      <td>...</td>\n",
       "      <td>...</td>\n",
       "      <td>...</td>\n",
       "      <td>...</td>\n",
       "      <td>...</td>\n",
       "    </tr>\n",
       "    <tr>\n",
       "      <th>8755</th>\n",
       "      <td>2019.12.31 19:00</td>\n",
       "      <td>가평</td>\n",
       "      <td>3.6</td>\n",
       "      <td>7.1</td>\n",
       "      <td>115.0</td>\n",
       "      <td>12.6</td>\n",
       "      <td>1.1</td>\n",
       "      <td>1.8</td>\n",
       "      <td>1.718</td>\n",
       "      <td>0.002</td>\n",
       "      <td>22.7</td>\n",
       "      <td>0.1</td>\n",
       "    </tr>\n",
       "    <tr>\n",
       "      <th>8756</th>\n",
       "      <td>2019.12.31 20:00</td>\n",
       "      <td>가평</td>\n",
       "      <td>3.5</td>\n",
       "      <td>7.1</td>\n",
       "      <td>115.0</td>\n",
       "      <td>12.6</td>\n",
       "      <td>1.1</td>\n",
       "      <td>1.7</td>\n",
       "      <td>1.726</td>\n",
       "      <td>0.001</td>\n",
       "      <td>21.9</td>\n",
       "      <td>0.5</td>\n",
       "    </tr>\n",
       "    <tr>\n",
       "      <th>8757</th>\n",
       "      <td>2019.12.31 21:00</td>\n",
       "      <td>가평</td>\n",
       "      <td>3.4</td>\n",
       "      <td>7.1</td>\n",
       "      <td>115.0</td>\n",
       "      <td>12.6</td>\n",
       "      <td>1.1</td>\n",
       "      <td>1.7</td>\n",
       "      <td>1.738</td>\n",
       "      <td>0.002</td>\n",
       "      <td>21.3</td>\n",
       "      <td>0.9</td>\n",
       "    </tr>\n",
       "    <tr>\n",
       "      <th>8758</th>\n",
       "      <td>2019.12.31 22:00</td>\n",
       "      <td>가평</td>\n",
       "      <td>3.4</td>\n",
       "      <td>7.1</td>\n",
       "      <td>115.0</td>\n",
       "      <td>12.6</td>\n",
       "      <td>1.1</td>\n",
       "      <td>1.7</td>\n",
       "      <td>1.723</td>\n",
       "      <td>0.002</td>\n",
       "      <td>21.5</td>\n",
       "      <td>0.7</td>\n",
       "    </tr>\n",
       "    <tr>\n",
       "      <th>8759</th>\n",
       "      <td>2019.12.31 23:00</td>\n",
       "      <td>가평</td>\n",
       "      <td>3.3</td>\n",
       "      <td>7.1</td>\n",
       "      <td>115.0</td>\n",
       "      <td>12.6</td>\n",
       "      <td>1.0</td>\n",
       "      <td>1.7</td>\n",
       "      <td>1.705</td>\n",
       "      <td>0.002</td>\n",
       "      <td>20.9</td>\n",
       "      <td>0.8</td>\n",
       "    </tr>\n",
       "  </tbody>\n",
       "</table>\n",
       "<p>8760 rows × 12 columns</p>\n",
       "</div>"
      ],
      "text/plain": [
       "                  측정날짜 측정소명   수온  수소이온농도  전기전도도  용존산소   탁도  총유기탄소    총질소  \\\n",
       "0     2019.01.01 00:00   가평  2.8     6.8   97.0  12.6  0.5    1.4  1.771   \n",
       "1     2019.01.01 01:00   가평  2.8     6.8   97.0  12.6  0.6    1.4  1.812   \n",
       "2     2019.01.01 02:00   가평  2.8     6.8   97.0  12.6  0.4    1.4  1.765   \n",
       "3     2019.01.01 03:00   가평  2.7     6.8   97.0  12.6  0.5    1.4  1.775   \n",
       "4     2019.01.01 04:00   가평  2.8     6.8   97.0  12.5  0.5    1.4  1.774   \n",
       "...                ...  ...  ...     ...    ...   ...  ...    ...    ...   \n",
       "8755  2019.12.31 19:00   가평  3.6     7.1  115.0  12.6  1.1    1.8  1.718   \n",
       "8756  2019.12.31 20:00   가평  3.5     7.1  115.0  12.6  1.1    1.7  1.726   \n",
       "8757  2019.12.31 21:00   가평  3.4     7.1  115.0  12.6  1.1    1.7  1.738   \n",
       "8758  2019.12.31 22:00   가평  3.4     7.1  115.0  12.6  1.1    1.7  1.723   \n",
       "8759  2019.12.31 23:00   가평  3.3     7.1  115.0  12.6  1.0    1.7  1.705   \n",
       "\n",
       "         총인  클로로필-a  미생물_독성지수  \n",
       "0     0.004     3.8       4.5  \n",
       "1     0.005     4.1       2.5  \n",
       "2     0.003     3.8       1.0  \n",
       "3     0.005     3.9       1.0  \n",
       "4     0.004     3.9      -0.4  \n",
       "...     ...     ...       ...  \n",
       "8755  0.002    22.7       0.1  \n",
       "8756  0.001    21.9       0.5  \n",
       "8757  0.002    21.3       0.9  \n",
       "8758  0.002    21.5       0.7  \n",
       "8759  0.002    20.9       0.8  \n",
       "\n",
       "[8760 rows x 12 columns]"
      ]
     },
     "execution_count": 110,
     "metadata": {},
     "output_type": "execute_result"
    }
   ],
   "source": [
    "import pandas as pd\n",
    "import numpy as np\n",
    "from glob import glob\n",
    "import os\n",
    "\n",
    "folder = '.'\n",
    "file_name = '가평_2019.xlsx'\n",
    "\n",
    "df = pd.read_excel(file_name)\n",
    "df"
   ]
  },
  {
   "cell_type": "code",
   "execution_count": 253,
   "metadata": {},
   "outputs": [
    {
     "data": {
      "text/html": [
       "<div>\n",
       "<style scoped>\n",
       "    .dataframe tbody tr th:only-of-type {\n",
       "        vertical-align: middle;\n",
       "    }\n",
       "\n",
       "    .dataframe tbody tr th {\n",
       "        vertical-align: top;\n",
       "    }\n",
       "\n",
       "    .dataframe thead th {\n",
       "        text-align: right;\n",
       "    }\n",
       "</style>\n",
       "<table border=\"1\" class=\"dataframe\">\n",
       "  <thead>\n",
       "    <tr style=\"text-align: right;\">\n",
       "      <th></th>\n",
       "      <th>수온</th>\n",
       "      <th>수소이온농도</th>\n",
       "      <th>전기전도도</th>\n",
       "      <th>용존산소</th>\n",
       "      <th>탁도</th>\n",
       "      <th>총유기탄소</th>\n",
       "      <th>총질소</th>\n",
       "      <th>총인</th>\n",
       "    </tr>\n",
       "  </thead>\n",
       "  <tbody>\n",
       "    <tr>\n",
       "      <th>0</th>\n",
       "      <td>2.8</td>\n",
       "      <td>6.8</td>\n",
       "      <td>97.0</td>\n",
       "      <td>12.6</td>\n",
       "      <td>0.5</td>\n",
       "      <td>1.4</td>\n",
       "      <td>1.771</td>\n",
       "      <td>0.004</td>\n",
       "    </tr>\n",
       "    <tr>\n",
       "      <th>1</th>\n",
       "      <td>2.8</td>\n",
       "      <td>6.8</td>\n",
       "      <td>97.0</td>\n",
       "      <td>12.6</td>\n",
       "      <td>0.6</td>\n",
       "      <td>1.4</td>\n",
       "      <td>1.812</td>\n",
       "      <td>0.005</td>\n",
       "    </tr>\n",
       "    <tr>\n",
       "      <th>2</th>\n",
       "      <td>2.8</td>\n",
       "      <td>6.8</td>\n",
       "      <td>97.0</td>\n",
       "      <td>12.6</td>\n",
       "      <td>0.4</td>\n",
       "      <td>1.4</td>\n",
       "      <td>1.765</td>\n",
       "      <td>0.003</td>\n",
       "    </tr>\n",
       "    <tr>\n",
       "      <th>3</th>\n",
       "      <td>2.7</td>\n",
       "      <td>6.8</td>\n",
       "      <td>97.0</td>\n",
       "      <td>12.6</td>\n",
       "      <td>0.5</td>\n",
       "      <td>1.4</td>\n",
       "      <td>1.775</td>\n",
       "      <td>0.005</td>\n",
       "    </tr>\n",
       "    <tr>\n",
       "      <th>4</th>\n",
       "      <td>2.8</td>\n",
       "      <td>6.8</td>\n",
       "      <td>97.0</td>\n",
       "      <td>12.5</td>\n",
       "      <td>0.5</td>\n",
       "      <td>1.4</td>\n",
       "      <td>1.774</td>\n",
       "      <td>0.004</td>\n",
       "    </tr>\n",
       "    <tr>\n",
       "      <th>...</th>\n",
       "      <td>...</td>\n",
       "      <td>...</td>\n",
       "      <td>...</td>\n",
       "      <td>...</td>\n",
       "      <td>...</td>\n",
       "      <td>...</td>\n",
       "      <td>...</td>\n",
       "      <td>...</td>\n",
       "    </tr>\n",
       "    <tr>\n",
       "      <th>8755</th>\n",
       "      <td>3.6</td>\n",
       "      <td>7.1</td>\n",
       "      <td>115.0</td>\n",
       "      <td>12.6</td>\n",
       "      <td>1.1</td>\n",
       "      <td>1.8</td>\n",
       "      <td>1.718</td>\n",
       "      <td>0.002</td>\n",
       "    </tr>\n",
       "    <tr>\n",
       "      <th>8756</th>\n",
       "      <td>3.5</td>\n",
       "      <td>7.1</td>\n",
       "      <td>115.0</td>\n",
       "      <td>12.6</td>\n",
       "      <td>1.1</td>\n",
       "      <td>1.7</td>\n",
       "      <td>1.726</td>\n",
       "      <td>0.001</td>\n",
       "    </tr>\n",
       "    <tr>\n",
       "      <th>8757</th>\n",
       "      <td>3.4</td>\n",
       "      <td>7.1</td>\n",
       "      <td>115.0</td>\n",
       "      <td>12.6</td>\n",
       "      <td>1.1</td>\n",
       "      <td>1.7</td>\n",
       "      <td>1.738</td>\n",
       "      <td>0.002</td>\n",
       "    </tr>\n",
       "    <tr>\n",
       "      <th>8758</th>\n",
       "      <td>3.4</td>\n",
       "      <td>7.1</td>\n",
       "      <td>115.0</td>\n",
       "      <td>12.6</td>\n",
       "      <td>1.1</td>\n",
       "      <td>1.7</td>\n",
       "      <td>1.723</td>\n",
       "      <td>0.002</td>\n",
       "    </tr>\n",
       "    <tr>\n",
       "      <th>8759</th>\n",
       "      <td>3.3</td>\n",
       "      <td>7.1</td>\n",
       "      <td>115.0</td>\n",
       "      <td>12.6</td>\n",
       "      <td>1.0</td>\n",
       "      <td>1.7</td>\n",
       "      <td>1.705</td>\n",
       "      <td>0.002</td>\n",
       "    </tr>\n",
       "  </tbody>\n",
       "</table>\n",
       "<p>8760 rows × 8 columns</p>\n",
       "</div>"
      ],
      "text/plain": [
       "       수온  수소이온농도  전기전도도  용존산소   탁도  총유기탄소    총질소     총인\n",
       "0     2.8     6.8   97.0  12.6  0.5    1.4  1.771  0.004\n",
       "1     2.8     6.8   97.0  12.6  0.6    1.4  1.812  0.005\n",
       "2     2.8     6.8   97.0  12.6  0.4    1.4  1.765  0.003\n",
       "3     2.7     6.8   97.0  12.6  0.5    1.4  1.775  0.005\n",
       "4     2.8     6.8   97.0  12.5  0.5    1.4  1.774  0.004\n",
       "...   ...     ...    ...   ...  ...    ...    ...    ...\n",
       "8755  3.6     7.1  115.0  12.6  1.1    1.8  1.718  0.002\n",
       "8756  3.5     7.1  115.0  12.6  1.1    1.7  1.726  0.001\n",
       "8757  3.4     7.1  115.0  12.6  1.1    1.7  1.738  0.002\n",
       "8758  3.4     7.1  115.0  12.6  1.1    1.7  1.723  0.002\n",
       "8759  3.3     7.1  115.0  12.6  1.0    1.7  1.705  0.002\n",
       "\n",
       "[8760 rows x 8 columns]"
      ]
     },
     "execution_count": 253,
     "metadata": {},
     "output_type": "execute_result"
    }
   ],
   "source": [
    "df6 = df.iloc[:, 2:10]\n",
    "df6"
   ]
  },
  {
   "cell_type": "code",
   "execution_count": 254,
   "metadata": {},
   "outputs": [],
   "source": [
    "is_nan = df6.isna().any(axis=1)"
   ]
  },
  {
   "cell_type": "code",
   "execution_count": 255,
   "metadata": {},
   "outputs": [
    {
     "data": {
      "text/plain": [
       "0       False\n",
       "1       False\n",
       "2       False\n",
       "3       False\n",
       "4       False\n",
       "        ...  \n",
       "8755    False\n",
       "8756    False\n",
       "8757    False\n",
       "8758    False\n",
       "8759    False\n",
       "Length: 8760, dtype: bool"
      ]
     },
     "execution_count": 255,
     "metadata": {},
     "output_type": "execute_result"
    }
   ],
   "source": [
    "is_nan"
   ]
  },
  {
   "cell_type": "code",
   "execution_count": 256,
   "metadata": {},
   "outputs": [
    {
     "data": {
      "text/plain": [
       "1048    True\n",
       "dtype: bool"
      ]
     },
     "execution_count": 256,
     "metadata": {},
     "output_type": "execute_result"
    }
   ],
   "source": [
    "is_nan[1048:1049]"
   ]
  },
  {
   "cell_type": "code",
   "execution_count": 257,
   "metadata": {},
   "outputs": [],
   "source": [
    "is_nan_prev = is_nan.shift(fill_value=True)"
   ]
  },
  {
   "cell_type": "code",
   "execution_count": 258,
   "metadata": {},
   "outputs": [],
   "source": [
    "is_new = (is_nan == False) & (is_nan_prev == True)"
   ]
  },
  {
   "cell_type": "code",
   "execution_count": 259,
   "metadata": {},
   "outputs": [
    {
     "data": {
      "text/plain": [
       "1048    False\n",
       "dtype: bool"
      ]
     },
     "execution_count": 259,
     "metadata": {},
     "output_type": "execute_result"
    }
   ],
   "source": [
    "is_new[1048:1049]"
   ]
  },
  {
   "cell_type": "code",
   "execution_count": 260,
   "metadata": {},
   "outputs": [],
   "source": [
    "cum = is_new.astype(int).cumsum()"
   ]
  },
  {
   "cell_type": "code",
   "execution_count": 261,
   "metadata": {},
   "outputs": [],
   "source": [
    "cum[is_nan] = np.nan"
   ]
  },
  {
   "cell_type": "code",
   "execution_count": 262,
   "metadata": {},
   "outputs": [
    {
     "data": {
      "text/plain": [
       "59     NaN\n",
       "60     NaN\n",
       "61     NaN\n",
       "62     NaN\n",
       "63     NaN\n",
       "        ..\n",
       "8605   NaN\n",
       "8606   NaN\n",
       "8607   NaN\n",
       "8725   NaN\n",
       "8726   NaN\n",
       "Length: 2387, dtype: float64"
      ]
     },
     "execution_count": 262,
     "metadata": {},
     "output_type": "execute_result"
    }
   ],
   "source": [
    "cum[is_nan]"
   ]
  },
  {
   "cell_type": "code",
   "execution_count": 263,
   "metadata": {},
   "outputs": [
    {
     "data": {
      "text/plain": [
       "65     2.0\n",
       "66     2.0\n",
       "67     2.0\n",
       "68     2.0\n",
       "69     2.0\n",
       "      ... \n",
       "174    2.0\n",
       "175    2.0\n",
       "176    2.0\n",
       "177    2.0\n",
       "178    2.0\n",
       "Length: 114, dtype: float64"
      ]
     },
     "execution_count": 263,
     "metadata": {},
     "output_type": "execute_result"
    }
   ],
   "source": [
    "cum[65:179]"
   ]
  },
  {
   "cell_type": "code",
   "execution_count": 264,
   "metadata": {},
   "outputs": [],
   "source": [
    "group = df6.groupby(cum)"
   ]
  },
  {
   "cell_type": "code",
   "execution_count": 265,
   "metadata": {},
   "outputs": [
    {
     "name": "stdout",
     "output_type": "stream",
     "text": [
      "120\n",
      "cnt =  120 data_n = 1\n",
      "(25.0,        수온  수소이온농도  전기전도도  용존산소   탁도  총유기탄소    총질소     총인\n",
      "1572  5.4     7.1  121.0  13.0  0.4    1.3  1.813  0.007\n",
      "1573  5.7     7.2  121.0  13.0  0.4    1.3  1.800  0.008\n",
      "1574  5.9     7.2  121.0  13.0  0.4    1.2  1.810  0.009\n",
      "1575  5.9     7.2  121.0  13.0  0.4    1.2  1.791  0.009\n",
      "1576  5.8     7.2  122.0  13.0  0.4    1.2  1.780  0.007\n",
      "...   ...     ...    ...   ...  ...    ...    ...    ...\n",
      "1687  5.6     7.2  124.0  12.4  0.7    1.2  1.885  0.008\n",
      "1688  5.6     7.2  124.0  12.4  0.8    1.2  1.885  0.007\n",
      "1689  5.6     7.2  124.0  12.4  0.8    1.3  1.894  0.009\n",
      "1690  5.6     7.2  124.0  12.4  0.8    1.2  1.875  0.007\n",
      "1691  5.6     7.2  124.0  12.4  0.8    1.2  1.889  0.008\n",
      "\n",
      "[120 rows x 8 columns])\n",
      "cnt =  122 data_n = 3\n",
      "(68.0,         수온  수소이온농도  전기전도도  용존산소   탁도  총유기탄소    총질소     총인\n",
      "4429  21.0     6.8   98.0   9.0  1.2    1.8  1.269  0.002\n",
      "4430  21.7     6.9   99.0   8.9  1.1    1.8  1.252  0.002\n",
      "4431  22.1     6.8   99.0   8.7  0.9    1.8  1.256  0.003\n",
      "4432  22.2     6.8   99.0   8.6  0.7    1.7  1.262  0.003\n",
      "4433  22.1     6.8   99.0   8.6  0.8    1.8  1.268  0.003\n",
      "...    ...     ...    ...   ...  ...    ...    ...    ...\n",
      "4546  22.7     6.8  108.0   8.2  1.0    1.8  1.257  0.003\n",
      "4547  22.7     6.9  108.0   8.3  1.1    1.8  1.287  0.002\n",
      "4548  22.8     6.9  108.0   8.3  1.3    1.8  1.249  0.004\n",
      "4549  23.0     6.9  108.0   8.3  1.3    1.9  1.218  0.002\n",
      "4550  23.1     6.9  108.0   8.3  1.3    1.8  1.212  0.002\n",
      "\n",
      "[122 rows x 8 columns])\n",
      "cnt =  138 data_n = 19\n",
      "(103.0,         수온  수소이온농도  전기전도도  용존산소   탁도  총유기탄소    총질소     총인\n",
      "6929  18.9     6.8  118.0   8.7  1.3    1.6  1.732  0.007\n",
      "6930  18.8     6.8  118.0   8.8  1.4    1.7  1.728  0.007\n",
      "6931  18.7     6.7  117.0   8.6  1.5    1.7  1.756  0.006\n",
      "6932  18.6     6.7  118.0   8.3  1.6    1.6  1.740  0.005\n",
      "6933  18.6     6.7  118.0   8.3  1.5    1.6  1.765  0.007\n",
      "...    ...     ...    ...   ...  ...    ...    ...    ...\n",
      "7062  18.2     6.6  118.0   7.9  1.4    1.6  1.960  0.006\n",
      "7063  18.1     6.6  118.0   7.9  1.3    1.7  1.987  0.007\n",
      "7064  18.1     6.6  118.0   7.9  1.2    1.7  1.963  0.006\n",
      "7065  18.1     6.6  118.0   8.0  1.2    1.6  1.959  0.006\n",
      "7066  18.3     6.6  118.0   8.1  1.2    1.6  1.921  0.005\n",
      "\n",
      "[138 rows x 8 columns])\n",
      "total-cnt =  23\n"
     ]
    }
   ],
   "source": [
    "n = 0\n",
    "minlen = 24*5\n",
    "print(minlen)\n",
    "for member in group:\n",
    "    #print(member)\n",
    "    #print(len(member[1]))\n",
    "    cnt = len(member[1])\n",
    "    if (cnt < minlen):\n",
    "        continue\n",
    "    print('cnt = ', cnt, 'data_n =', cnt-minlen+1)\n",
    "    print(member)\n",
    "    n += cnt - minlen+1\n",
    "print('total-cnt = ',n)"
   ]
  },
  {
   "cell_type": "code",
   "execution_count": 225,
   "metadata": {},
   "outputs": [
    {
     "name": "stdout",
     "output_type": "stream",
     "text": [
      "i = 0 False\n",
      "i = 59 True False\n",
      "i = 64 False\n",
      "i = 179 True False\n",
      "i = 182 False\n",
      "i = 230 True False\n",
      "i = 235 False\n",
      "i = 325 True False\n",
      "i = 329 False\n",
      "i = 422 True False\n",
      "i = 427 False\n",
      "i = 441 True False\n",
      "i = 442 False\n",
      "i = 443 True False\n",
      "i = 444 False\n",
      "i = 447 True False\n",
      "i = 450 False\n",
      "i = 493 True False\n",
      "i = 520 False\n",
      "i = 535 True False\n",
      "i = 536 False\n",
      "i = 539 True False\n",
      "i = 540 False\n",
      "i = 541 True False\n",
      "i = 544 False\n",
      "i = 545 True False\n",
      "i = 547 False\n",
      "i = 548 True False\n",
      "i = 551 False\n",
      "i = 553 True False\n",
      "i = 554 False\n",
      "i = 558 True False\n",
      "i = 567 False\n",
      "i = 586 True False\n",
      "i = 1053 False\n",
      "i = 1066 True False\n",
      "i = 1100 False\n",
      "i = 1164 True False\n",
      "i = 1169 False\n",
      "i = 1215 True False\n",
      "i = 1218 False\n",
      "i = 1331 True False\n",
      "i = 1332 False\n",
      "i = 1395 True False\n",
      "i = 1405 False\n",
      "i = 1498 True False\n",
      "i = 1500 False\n",
      "i = 1570 True False\n",
      "i = 1572 False\n",
      "i = 1692 True False\n",
      "i = 1697 False\n",
      "i = 1765 True False\n",
      "i = 1767 False\n",
      "i = 1838 True False\n",
      "i = 1844 False\n",
      "i = 1931 True False\n",
      "i = 1934 False\n",
      "i = 2005 True False\n",
      "i = 2009 False\n",
      "i = 2102 True False\n",
      "i = 2106 False\n",
      "i = 2125 True False\n",
      "i = 2126 False\n",
      "i = 2127 True False\n",
      "i = 2129 False\n",
      "i = 2131 True False\n",
      "i = 2134 False\n",
      "i = 2174 True False\n",
      "i = 2178 False\n",
      "i = 2241 True False\n",
      "i = 2242 False\n",
      "i = 2271 True False\n",
      "i = 2273 False\n",
      "i = 2292 True False\n",
      "i = 2295 False\n",
      "i = 2302 True False\n",
      "i = 2303 False\n",
      "i = 2313 True False\n",
      "i = 2315 False\n",
      "i = 2342 True False\n",
      "i = 2347 False\n",
      "i = 2364 True False\n",
      "i = 2369 False\n",
      "i = 2438 True False\n",
      "i = 2441 False\n",
      "i = 2445 True False\n",
      "i = 2446 False\n",
      "i = 2532 True False\n",
      "i = 2539 False\n",
      "i = 2568 True False\n",
      "i = 2584 False\n",
      "i = 2609 True False\n",
      "i = 2754 False\n",
      "i = 2846 True False\n",
      "i = 2868 False\n",
      "i = 2941 True False\n",
      "i = 2945 False\n",
      "i = 3039 True False\n",
      "i = 3231 False\n",
      "i = 3274 True False\n",
      "i = 3276 False\n",
      "i = 3371 True False\n",
      "i = 3376 False\n",
      "i = 3442 True False\n",
      "i = 3448 False\n",
      "i = 3517 True False\n",
      "i = 3519 False\n",
      "i = 3587 True False\n",
      "i = 3590 False\n",
      "i = 3651 True False\n",
      "i = 3652 False\n",
      "i = 3729 True False\n",
      "i = 3732 False\n",
      "i = 3765 True False\n",
      "i = 3766 False\n",
      "i = 3856 True False\n",
      "i = 3861 False\n",
      "i = 3874 True False\n",
      "i = 3876 False\n",
      "i = 3930 True False\n",
      "i = 3953 False\n",
      "i = 4002 True False\n",
      "i = 4017 False\n",
      "i = 4030 True False\n",
      "i = 4034 False\n",
      "i = 4043 True False\n",
      "i = 4048 False\n",
      "i = 4116 True False\n",
      "i = 4263 False\n",
      "i = 4306 True False\n",
      "i = 4308 False\n",
      "i = 4352 True False\n",
      "i = 4362 False\n",
      "i = 4427 True False\n",
      "i = 4429 False\n",
      "i = 4551 True False\n",
      "i = 4554 False\n",
      "i = 4617 True False\n",
      "i = 4623 False\n",
      "i = 4693 True False\n",
      "i = 4697 False\n",
      "i = 4786 True False\n",
      "i = 4793 False\n",
      "i = 4858 True False\n",
      "i = 4861 False\n",
      "i = 4886 True False\n",
      "i = 4887 False\n",
      "i = 4906 True False\n",
      "i = 4909 False\n",
      "i = 4956 True False\n",
      "i = 4964 False\n",
      "i = 4993 True False\n",
      "i = 5032 False\n",
      "i = 5055 True False\n",
      "i = 5062 False\n",
      "i = 5076 True False\n",
      "i = 5078 False\n",
      "i = 5084 True False\n",
      "i = 5086 False\n",
      "i = 5103 True False\n",
      "i = 5124 False\n",
      "i = 5145 True False\n",
      "i = 5169 False\n",
      "i = 5194 True False\n",
      "i = 5197 False\n",
      "i = 5228 True False\n",
      "i = 5233 False\n",
      "i = 5242 True False\n",
      "i = 5271 False\n",
      "i = 5362 True False\n",
      "i = 5550 False\n",
      "i = 5554 True False\n",
      "i = 5579 False\n",
      "i = 5607 True False\n",
      "i = 5609 False\n",
      "i = 5698 True False\n",
      "i = 6019 False\n",
      "i = 6063 True False\n",
      "i = 6065 False\n",
      "i = 6081 True False\n",
      "i = 6082 False\n",
      "i = 6090 True False\n",
      "i = 6093 False\n",
      "i = 6206 True False\n",
      "i = 6211 False\n",
      "i = 6251 True False\n",
      "i = 6284 False\n",
      "i = 6361 True False\n",
      "i = 6365 False\n",
      "i = 6366 True False\n",
      "i = 6368 False\n",
      "i = 6400 True False\n",
      "i = 6425 False\n",
      "i = 6537 True False\n",
      "i = 6542 False\n",
      "i = 6590 True False\n",
      "i = 6593 False\n",
      "i = 6661 True False\n",
      "i = 6716 False\n",
      "i = 6761 True False\n",
      "i = 6859 False\n",
      "i = 6878 True False\n",
      "i = 6882 False\n",
      "i = 6923 True False\n",
      "i = 6929 False\n",
      "i = 7067 True False\n",
      "i = 7070 False\n",
      "i = 7140 True False\n",
      "i = 7141 False\n",
      "i = 7195 True False\n",
      "i = 7217 False\n",
      "i = 7282 True False\n",
      "i = 7289 False\n",
      "i = 7377 True False\n",
      "i = 7452 False\n",
      "i = 7550 True False\n",
      "i = 7553 False\n",
      "i = 7624 True False\n",
      "i = 7625 False\n",
      "i = 7718 True False\n",
      "i = 7722 False\n",
      "i = 7791 True False\n",
      "i = 7792 False\n",
      "i = 7906 True False\n",
      "i = 7910 False\n",
      "i = 7936 True False\n",
      "i = 7937 False\n",
      "i = 8046 True False\n",
      "i = 8054 False\n",
      "i = 8079 True False\n",
      "i = 8080 False\n",
      "i = 8195 True False\n",
      "i = 8196 False\n",
      "i = 8223 True False\n",
      "i = 8227 False\n",
      "i = 8310 True False\n",
      "i = 8311 False\n",
      "i = 8389 True False\n",
      "i = 8393 False\n",
      "i = 8410 True False\n",
      "i = 8411 False\n",
      "i = 8462 True False\n",
      "i = 8465 False\n",
      "i = 8482 True False\n",
      "i = 8487 False\n",
      "i = 8558 True False\n",
      "i = 8560 False\n",
      "i = 8603 True False\n",
      "i = 8608 False\n",
      "i = 8725 True False\n",
      "i = 8727 False\n"
     ]
    }
   ],
   "source": [
    "nan = True\n",
    "\n",
    "last_i = -1\n",
    "for i in range(8760):\n",
    "    if nan and (not is_nan[i]):\n",
    "        print('i =', i, is_nan[i])\n",
    "        nan = False\n",
    "    elif (not nan) and is_nan[i]:\n",
    "        print('i =', i, is_nan[i], nan)\n",
    "        nan = True"
   ]
  },
  {
   "cell_type": "code",
   "execution_count": 266,
   "metadata": {},
   "outputs": [
    {
     "data": {
      "text/plain": [
       "0.01990000000000003"
      ]
     },
     "execution_count": 266,
     "metadata": {},
     "output_type": "execute_result"
    }
   ],
   "source": [
    "1-(0.99*0.99)"
   ]
  },
  {
   "cell_type": "code",
   "execution_count": 267,
   "metadata": {},
   "outputs": [
    {
     "data": {
      "text/plain": [
       "0.001998999999999973"
      ]
     },
     "execution_count": 267,
     "metadata": {},
     "output_type": "execute_result"
    }
   ],
   "source": [
    "1-(0.999*0.999)"
   ]
  },
  {
   "cell_type": "code",
   "execution_count": 268,
   "metadata": {},
   "outputs": [],
   "source": [
    "a = np.array( [\n",
    "    0.1, 0.5, 0.7\n",
    "])"
   ]
  },
  {
   "cell_type": "code",
   "execution_count": 275,
   "metadata": {},
   "outputs": [],
   "source": [
    "a[a != 0 ] = 3"
   ]
  },
  {
   "cell_type": "code",
   "execution_count": 276,
   "metadata": {},
   "outputs": [
    {
     "data": {
      "text/plain": [
       "array([3., 3., 3.])"
      ]
     },
     "execution_count": 276,
     "metadata": {},
     "output_type": "execute_result"
    }
   ],
   "source": [
    "a\n"
   ]
  },
  {
   "cell_type": "code",
   "execution_count": 271,
   "metadata": {},
   "outputs": [],
   "source": [
    "c = a**2"
   ]
  },
  {
   "cell_type": "code",
   "execution_count": null,
   "metadata": {},
   "outputs": [],
   "source": [
    " jupyter notebook --ip=0.0.0.0 --no-browser"
   ]
  },
  {
   "cell_type": "code",
   "execution_count": 44,
   "metadata": {},
   "outputs": [
    {
     "data": {
      "text/plain": [
       "a    0.9296\n",
       "b    2.0000\n",
       "dtype: float64"
      ]
     },
     "execution_count": 44,
     "metadata": {},
     "output_type": "execute_result"
    }
   ],
   "source": [
    "import pandas as pd\n",
    "import numpy as np\n",
    "\n",
    "#dict = {\"a\": ['1', '3', '1.1', 1, '3'], \n",
    "#         \"b\": ['1', '2', '3.0', 4, '5'],\n",
    "#         \"c\": ['2', '4', '3.3', np.nan, '7']}\n",
    "dict = {\"a\": [1, 3, 1.1, 1, 3], \n",
    "        \"b\": [1, 2, 3, 4, 5],\n",
    "       }\n",
    "df = pd.DataFrame(dict)\n",
    "df.var(ddof=0)\n"
   ]
  },
  {
   "cell_type": "code",
   "execution_count": 42,
   "metadata": {},
   "outputs": [
    {
     "data": {
      "text/plain": [
       "a    1.162\n",
       "b    0.502\n",
       "dtype: float64"
      ]
     },
     "execution_count": 42,
     "metadata": {},
     "output_type": "execute_result"
    }
   ],
   "source": [
    "df.var()"
   ]
  },
  {
   "cell_type": "code",
   "execution_count": 35,
   "metadata": {},
   "outputs": [],
   "source": [
    "ds = df.mean()"
   ]
  },
  {
   "cell_type": "code",
   "execution_count": 36,
   "metadata": {},
   "outputs": [
    {
     "data": {
      "text/plain": [
       "a    1.82\n",
       "b    2.80\n",
       "dtype: float64"
      ]
     },
     "execution_count": 36,
     "metadata": {},
     "output_type": "execute_result"
    }
   ],
   "source": [
    "ds"
   ]
  },
  {
   "cell_type": "code",
   "execution_count": 39,
   "metadata": {},
   "outputs": [
    {
     "data": {
      "text/plain": [
       "a    1.162\n",
       "b    0.000\n",
       "dtype: float64"
      ]
     },
     "execution_count": 39,
     "metadata": {},
     "output_type": "execute_result"
    }
   ],
   "source": [
    "df.var()"
   ]
  },
  {
   "cell_type": "code",
   "execution_count": 25,
   "metadata": {},
   "outputs": [],
   "source": [
    "a = np.array([1,2,3,4,5])"
   ]
  },
  {
   "cell_type": "code",
   "execution_count": 26,
   "metadata": {},
   "outputs": [],
   "source": [
    "mean = np.mean(a)"
   ]
  },
  {
   "cell_type": "code",
   "execution_count": 27,
   "metadata": {},
   "outputs": [
    {
     "data": {
      "text/plain": [
       "3.0"
      ]
     },
     "execution_count": 27,
     "metadata": {},
     "output_type": "execute_result"
    }
   ],
   "source": [
    "mean"
   ]
  },
  {
   "cell_type": "code",
   "execution_count": 28,
   "metadata": {},
   "outputs": [],
   "source": [
    "var = np.var(a)"
   ]
  },
  {
   "cell_type": "code",
   "execution_count": 29,
   "metadata": {},
   "outputs": [
    {
     "data": {
      "text/plain": [
       "2.0"
      ]
     },
     "execution_count": 29,
     "metadata": {},
     "output_type": "execute_result"
    }
   ],
   "source": [
    "var"
   ]
  },
  {
   "cell_type": "code",
   "execution_count": 383,
   "metadata": {},
   "outputs": [
    {
     "data": {
      "text/html": [
       "<div>\n",
       "<style scoped>\n",
       "    .dataframe tbody tr th:only-of-type {\n",
       "        vertical-align: middle;\n",
       "    }\n",
       "\n",
       "    .dataframe tbody tr th {\n",
       "        vertical-align: top;\n",
       "    }\n",
       "\n",
       "    .dataframe thead th {\n",
       "        text-align: right;\n",
       "    }\n",
       "</style>\n",
       "<table border=\"1\" class=\"dataframe\">\n",
       "  <thead>\n",
       "    <tr style=\"text-align: right;\">\n",
       "      <th></th>\n",
       "      <th>측정날짜</th>\n",
       "      <th>측정소명</th>\n",
       "      <th>수온</th>\n",
       "      <th>수소이온농도</th>\n",
       "      <th>전기전도도</th>\n",
       "      <th>용존산소</th>\n",
       "      <th>탁도</th>\n",
       "      <th>총유기탄소</th>\n",
       "      <th>총질소</th>\n",
       "      <th>총인</th>\n",
       "      <th>클로로필-a</th>\n",
       "      <th>미생물_독성지수</th>\n",
       "    </tr>\n",
       "  </thead>\n",
       "  <tbody>\n",
       "    <tr>\n",
       "      <th>0</th>\n",
       "      <td>2019.01.01 00:00</td>\n",
       "      <td>가평</td>\n",
       "      <td>2.8</td>\n",
       "      <td>6.8</td>\n",
       "      <td>97.0</td>\n",
       "      <td>12.6</td>\n",
       "      <td>0.5</td>\n",
       "      <td>1.4</td>\n",
       "      <td>1.771</td>\n",
       "      <td>0.004</td>\n",
       "      <td>3.8</td>\n",
       "      <td>4.5</td>\n",
       "    </tr>\n",
       "    <tr>\n",
       "      <th>1</th>\n",
       "      <td>2019.01.01 01:00</td>\n",
       "      <td>가평</td>\n",
       "      <td>2.8</td>\n",
       "      <td>6.8</td>\n",
       "      <td>97.0</td>\n",
       "      <td>12.6</td>\n",
       "      <td>0.6</td>\n",
       "      <td>1.4</td>\n",
       "      <td>1.812</td>\n",
       "      <td>0.005</td>\n",
       "      <td>4.1</td>\n",
       "      <td>2.5</td>\n",
       "    </tr>\n",
       "    <tr>\n",
       "      <th>2</th>\n",
       "      <td>2019.01.01 02:00</td>\n",
       "      <td>가평</td>\n",
       "      <td>2.8</td>\n",
       "      <td>6.8</td>\n",
       "      <td>97.0</td>\n",
       "      <td>12.6</td>\n",
       "      <td>0.4</td>\n",
       "      <td>1.4</td>\n",
       "      <td>1.765</td>\n",
       "      <td>0.003</td>\n",
       "      <td>3.8</td>\n",
       "      <td>1.0</td>\n",
       "    </tr>\n",
       "    <tr>\n",
       "      <th>3</th>\n",
       "      <td>2019.01.01 03:00</td>\n",
       "      <td>가평</td>\n",
       "      <td>2.7</td>\n",
       "      <td>6.8</td>\n",
       "      <td>97.0</td>\n",
       "      <td>12.6</td>\n",
       "      <td>0.5</td>\n",
       "      <td>1.4</td>\n",
       "      <td>1.775</td>\n",
       "      <td>0.005</td>\n",
       "      <td>3.9</td>\n",
       "      <td>1.0</td>\n",
       "    </tr>\n",
       "    <tr>\n",
       "      <th>4</th>\n",
       "      <td>2019.01.01 04:00</td>\n",
       "      <td>가평</td>\n",
       "      <td>2.8</td>\n",
       "      <td>6.8</td>\n",
       "      <td>97.0</td>\n",
       "      <td>12.5</td>\n",
       "      <td>0.5</td>\n",
       "      <td>1.4</td>\n",
       "      <td>1.774</td>\n",
       "      <td>0.004</td>\n",
       "      <td>3.9</td>\n",
       "      <td>-0.4</td>\n",
       "    </tr>\n",
       "    <tr>\n",
       "      <th>...</th>\n",
       "      <td>...</td>\n",
       "      <td>...</td>\n",
       "      <td>...</td>\n",
       "      <td>...</td>\n",
       "      <td>...</td>\n",
       "      <td>...</td>\n",
       "      <td>...</td>\n",
       "      <td>...</td>\n",
       "      <td>...</td>\n",
       "      <td>...</td>\n",
       "      <td>...</td>\n",
       "      <td>...</td>\n",
       "    </tr>\n",
       "    <tr>\n",
       "      <th>8755</th>\n",
       "      <td>2019.12.31 19:00</td>\n",
       "      <td>가평</td>\n",
       "      <td>3.6</td>\n",
       "      <td>7.1</td>\n",
       "      <td>115.0</td>\n",
       "      <td>12.6</td>\n",
       "      <td>1.1</td>\n",
       "      <td>1.8</td>\n",
       "      <td>1.718</td>\n",
       "      <td>0.002</td>\n",
       "      <td>22.7</td>\n",
       "      <td>0.1</td>\n",
       "    </tr>\n",
       "    <tr>\n",
       "      <th>8756</th>\n",
       "      <td>2019.12.31 20:00</td>\n",
       "      <td>가평</td>\n",
       "      <td>3.5</td>\n",
       "      <td>7.1</td>\n",
       "      <td>115.0</td>\n",
       "      <td>12.6</td>\n",
       "      <td>1.1</td>\n",
       "      <td>1.7</td>\n",
       "      <td>1.726</td>\n",
       "      <td>0.001</td>\n",
       "      <td>21.9</td>\n",
       "      <td>0.5</td>\n",
       "    </tr>\n",
       "    <tr>\n",
       "      <th>8757</th>\n",
       "      <td>2019.12.31 21:00</td>\n",
       "      <td>가평</td>\n",
       "      <td>3.4</td>\n",
       "      <td>7.1</td>\n",
       "      <td>115.0</td>\n",
       "      <td>12.6</td>\n",
       "      <td>1.1</td>\n",
       "      <td>1.7</td>\n",
       "      <td>1.738</td>\n",
       "      <td>0.002</td>\n",
       "      <td>21.3</td>\n",
       "      <td>0.9</td>\n",
       "    </tr>\n",
       "    <tr>\n",
       "      <th>8758</th>\n",
       "      <td>2019.12.31 22:00</td>\n",
       "      <td>가평</td>\n",
       "      <td>3.4</td>\n",
       "      <td>7.1</td>\n",
       "      <td>115.0</td>\n",
       "      <td>12.6</td>\n",
       "      <td>1.1</td>\n",
       "      <td>1.7</td>\n",
       "      <td>1.723</td>\n",
       "      <td>0.002</td>\n",
       "      <td>21.5</td>\n",
       "      <td>0.7</td>\n",
       "    </tr>\n",
       "    <tr>\n",
       "      <th>8759</th>\n",
       "      <td>2019.12.31 23:00</td>\n",
       "      <td>가평</td>\n",
       "      <td>3.3</td>\n",
       "      <td>7.1</td>\n",
       "      <td>115.0</td>\n",
       "      <td>12.6</td>\n",
       "      <td>1.0</td>\n",
       "      <td>1.7</td>\n",
       "      <td>1.705</td>\n",
       "      <td>0.002</td>\n",
       "      <td>20.9</td>\n",
       "      <td>0.8</td>\n",
       "    </tr>\n",
       "  </tbody>\n",
       "</table>\n",
       "<p>8760 rows × 12 columns</p>\n",
       "</div>"
      ],
      "text/plain": [
       "                  측정날짜 측정소명   수온  수소이온농도  전기전도도  용존산소   탁도  총유기탄소    총질소  \\\n",
       "0     2019.01.01 00:00   가평  2.8     6.8   97.0  12.6  0.5    1.4  1.771   \n",
       "1     2019.01.01 01:00   가평  2.8     6.8   97.0  12.6  0.6    1.4  1.812   \n",
       "2     2019.01.01 02:00   가평  2.8     6.8   97.0  12.6  0.4    1.4  1.765   \n",
       "3     2019.01.01 03:00   가평  2.7     6.8   97.0  12.6  0.5    1.4  1.775   \n",
       "4     2019.01.01 04:00   가평  2.8     6.8   97.0  12.5  0.5    1.4  1.774   \n",
       "...                ...  ...  ...     ...    ...   ...  ...    ...    ...   \n",
       "8755  2019.12.31 19:00   가평  3.6     7.1  115.0  12.6  1.1    1.8  1.718   \n",
       "8756  2019.12.31 20:00   가평  3.5     7.1  115.0  12.6  1.1    1.7  1.726   \n",
       "8757  2019.12.31 21:00   가평  3.4     7.1  115.0  12.6  1.1    1.7  1.738   \n",
       "8758  2019.12.31 22:00   가평  3.4     7.1  115.0  12.6  1.1    1.7  1.723   \n",
       "8759  2019.12.31 23:00   가평  3.3     7.1  115.0  12.6  1.0    1.7  1.705   \n",
       "\n",
       "         총인  클로로필-a  미생물_독성지수  \n",
       "0     0.004     3.8       4.5  \n",
       "1     0.005     4.1       2.5  \n",
       "2     0.003     3.8       1.0  \n",
       "3     0.005     3.9       1.0  \n",
       "4     0.004     3.9      -0.4  \n",
       "...     ...     ...       ...  \n",
       "8755  0.002    22.7       0.1  \n",
       "8756  0.001    21.9       0.5  \n",
       "8757  0.002    21.3       0.9  \n",
       "8758  0.002    21.5       0.7  \n",
       "8759  0.002    20.9       0.8  \n",
       "\n",
       "[8760 rows x 12 columns]"
      ]
     },
     "execution_count": 383,
     "metadata": {},
     "output_type": "execute_result"
    }
   ],
   "source": [
    "import pandas as pd\n",
    "import numpy as np\n",
    "from glob import glob\n",
    "import os\n",
    "\n",
    "folder = '.'\n",
    "file_name = '가평_2019.xlsx'\n",
    "\n",
    "df_full = pd.read_excel(file_name)\n",
    "df_full"
   ]
  },
  {
   "cell_type": "code",
   "execution_count": 384,
   "metadata": {},
   "outputs": [
    {
     "data": {
      "text/html": [
       "<div>\n",
       "<style scoped>\n",
       "    .dataframe tbody tr th:only-of-type {\n",
       "        vertical-align: middle;\n",
       "    }\n",
       "\n",
       "    .dataframe tbody tr th {\n",
       "        vertical-align: top;\n",
       "    }\n",
       "\n",
       "    .dataframe thead th {\n",
       "        text-align: right;\n",
       "    }\n",
       "</style>\n",
       "<table border=\"1\" class=\"dataframe\">\n",
       "  <thead>\n",
       "    <tr style=\"text-align: right;\">\n",
       "      <th></th>\n",
       "      <th>수소이온농도</th>\n",
       "      <th>전기전도도</th>\n",
       "      <th>용존산소</th>\n",
       "      <th>탁도</th>\n",
       "      <th>총유기탄소</th>\n",
       "    </tr>\n",
       "  </thead>\n",
       "  <tbody>\n",
       "    <tr>\n",
       "      <th>0</th>\n",
       "      <td>6.8</td>\n",
       "      <td>97.0</td>\n",
       "      <td>12.6</td>\n",
       "      <td>0.5</td>\n",
       "      <td>1.4</td>\n",
       "    </tr>\n",
       "    <tr>\n",
       "      <th>1</th>\n",
       "      <td>6.8</td>\n",
       "      <td>97.0</td>\n",
       "      <td>12.6</td>\n",
       "      <td>0.6</td>\n",
       "      <td>1.4</td>\n",
       "    </tr>\n",
       "    <tr>\n",
       "      <th>2</th>\n",
       "      <td>6.8</td>\n",
       "      <td>97.0</td>\n",
       "      <td>12.6</td>\n",
       "      <td>0.4</td>\n",
       "      <td>1.4</td>\n",
       "    </tr>\n",
       "    <tr>\n",
       "      <th>3</th>\n",
       "      <td>6.8</td>\n",
       "      <td>97.0</td>\n",
       "      <td>12.6</td>\n",
       "      <td>0.5</td>\n",
       "      <td>1.4</td>\n",
       "    </tr>\n",
       "    <tr>\n",
       "      <th>4</th>\n",
       "      <td>6.8</td>\n",
       "      <td>97.0</td>\n",
       "      <td>12.5</td>\n",
       "      <td>0.5</td>\n",
       "      <td>1.4</td>\n",
       "    </tr>\n",
       "    <tr>\n",
       "      <th>...</th>\n",
       "      <td>...</td>\n",
       "      <td>...</td>\n",
       "      <td>...</td>\n",
       "      <td>...</td>\n",
       "      <td>...</td>\n",
       "    </tr>\n",
       "    <tr>\n",
       "      <th>8755</th>\n",
       "      <td>7.1</td>\n",
       "      <td>115.0</td>\n",
       "      <td>12.6</td>\n",
       "      <td>1.1</td>\n",
       "      <td>1.8</td>\n",
       "    </tr>\n",
       "    <tr>\n",
       "      <th>8756</th>\n",
       "      <td>7.1</td>\n",
       "      <td>115.0</td>\n",
       "      <td>12.6</td>\n",
       "      <td>1.1</td>\n",
       "      <td>1.7</td>\n",
       "    </tr>\n",
       "    <tr>\n",
       "      <th>8757</th>\n",
       "      <td>7.1</td>\n",
       "      <td>115.0</td>\n",
       "      <td>12.6</td>\n",
       "      <td>1.1</td>\n",
       "      <td>1.7</td>\n",
       "    </tr>\n",
       "    <tr>\n",
       "      <th>8758</th>\n",
       "      <td>7.1</td>\n",
       "      <td>115.0</td>\n",
       "      <td>12.6</td>\n",
       "      <td>1.1</td>\n",
       "      <td>1.7</td>\n",
       "    </tr>\n",
       "    <tr>\n",
       "      <th>8759</th>\n",
       "      <td>7.1</td>\n",
       "      <td>115.0</td>\n",
       "      <td>12.6</td>\n",
       "      <td>1.0</td>\n",
       "      <td>1.7</td>\n",
       "    </tr>\n",
       "  </tbody>\n",
       "</table>\n",
       "<p>8760 rows × 5 columns</p>\n",
       "</div>"
      ],
      "text/plain": [
       "      수소이온농도  전기전도도  용존산소   탁도  총유기탄소\n",
       "0        6.8   97.0  12.6  0.5    1.4\n",
       "1        6.8   97.0  12.6  0.6    1.4\n",
       "2        6.8   97.0  12.6  0.4    1.4\n",
       "3        6.8   97.0  12.6  0.5    1.4\n",
       "4        6.8   97.0  12.5  0.5    1.4\n",
       "...      ...    ...   ...  ...    ...\n",
       "8755     7.1  115.0  12.6  1.1    1.8\n",
       "8756     7.1  115.0  12.6  1.1    1.7\n",
       "8757     7.1  115.0  12.6  1.1    1.7\n",
       "8758     7.1  115.0  12.6  1.1    1.7\n",
       "8759     7.1  115.0  12.6  1.0    1.7\n",
       "\n",
       "[8760 rows x 5 columns]"
      ]
     },
     "execution_count": 384,
     "metadata": {},
     "output_type": "execute_result"
    }
   ],
   "source": [
    "df = df_full.iloc[:, 3:8]\n",
    "df"
   ]
  },
  {
   "cell_type": "code",
   "execution_count": 380,
   "metadata": {},
   "outputs": [],
   "source": [
    "import numpy as np\n",
    "block = np.array([\n",
    "    [0, 0, 0, 0, 0],\n",
    "    [1, 1, 1, 1, 1],\n",
    "    [2, 2, 2, 2, 2],\n",
    "    [3, 3, 3, 3, 3],\n",
    "    [np.nan, np.nan, 4, 4, 4],\n",
    "    [np.nan, np.nan, 5, 5, 5],\n",
    "    [6, 6, 6, 6, 6],\n",
    "    [7, 7, 7, 7, 7],\n",
    "    [8, 8, 8, 8, 8],\n",
    "    [9, 9, np.nan, np.nan, np.nan],\n",
    "    [0, 0, 0, 0, 0],\n",
    "    [1, 1, 1, 1, 1],\n",
    "    [2, 2, 2, 2, 2],\n",
    "    [3, 3, 3, 3, 3],\n",
    "    [4, 4, 4, 4, 4],\n",
    "    [5, 5, 5, 5, 5],\n",
    "    [6, 6, 6, 6, 6],\n",
    "    [7, 7, 7, 7, 7],\n",
    "    [8, 8, 8, 8, 8],\n",
    "    [np.nan, np.nan, np.nan, 9, np.nan],\n",
    "])"
   ]
  },
  {
   "cell_type": "code",
   "execution_count": 381,
   "metadata": {},
   "outputs": [
    {
     "name": "stdout",
     "output_type": "stream",
     "text": [
      "[[ 0.  0.  0.  0.  0.]\n",
      " [ 1.  1.  1.  1.  1.]\n",
      " [ 2.  2.  2.  2.  2.]\n",
      " [ 3.  3.  3.  3.  3.]\n",
      " [nan nan  4.  4.  4.]\n",
      " [nan nan  5.  5.  5.]\n",
      " [ 6.  6.  6.  6.  6.]\n",
      " [ 7.  7.  7.  7.  7.]\n",
      " [ 8.  8.  8.  8.  8.]\n",
      " [ 9.  9. nan nan nan]\n",
      " [ 0.  0.  0.  0.  0.]\n",
      " [ 1.  1.  1.  1.  1.]\n",
      " [ 2.  2.  2.  2.  2.]\n",
      " [ 3.  3.  3.  3.  3.]\n",
      " [ 4.  4.  4.  4.  4.]\n",
      " [ 5.  5.  5.  5.  5.]\n",
      " [ 6.  6.  6.  6.  6.]\n",
      " [ 7.  7.  7.  7.  7.]\n",
      " [ 8.  8.  8.  8.  8.]\n",
      " [nan nan nan  9. nan]\n",
      " [ 0.  0.  0.  0.  0.]\n",
      " [ 1.  1.  1.  1.  1.]\n",
      " [ 2.  2.  2.  2.  2.]\n",
      " [ 3.  3.  3.  3.  3.]\n",
      " [nan nan  4.  4.  4.]\n",
      " [nan nan  5.  5.  5.]\n",
      " [ 6.  6.  6.  6.  6.]\n",
      " [ 7.  7.  7.  7.  7.]\n",
      " [ 8.  8.  8.  8.  8.]\n",
      " [ 9.  9. nan nan nan]\n",
      " [ 0.  0.  0.  0.  0.]\n",
      " [ 1.  1.  1.  1.  1.]\n",
      " [ 2.  2.  2.  2.  2.]\n",
      " [ 3.  3.  3.  3.  3.]\n",
      " [ 4.  4.  4.  4.  4.]\n",
      " [ 5.  5.  5.  5.  5.]\n",
      " [ 6.  6.  6.  6.  6.]\n",
      " [ 7.  7.  7.  7.  7.]\n",
      " [ 8.  8.  8.  8.  8.]\n",
      " [nan nan nan  9. nan]\n",
      " [ 0.  0.  0.  0.  0.]\n",
      " [ 1.  1.  1.  1.  1.]\n",
      " [ 2.  2.  2.  2.  2.]\n",
      " [ 3.  3.  3.  3.  3.]\n",
      " [nan nan  4.  4.  4.]\n",
      " [nan nan  5.  5.  5.]\n",
      " [ 6.  6.  6.  6.  6.]\n",
      " [ 7.  7.  7.  7.  7.]\n",
      " [ 8.  8.  8.  8.  8.]\n",
      " [ 9.  9. nan nan nan]\n",
      " [ 0.  0.  0.  0.  0.]\n",
      " [ 1.  1.  1.  1.  1.]\n",
      " [ 2.  2.  2.  2.  2.]\n",
      " [ 3.  3.  3.  3.  3.]\n",
      " [ 4.  4.  4.  4.  4.]\n",
      " [ 5.  5.  5.  5.  5.]\n",
      " [ 6.  6.  6.  6.  6.]\n",
      " [ 7.  7.  7.  7.  7.]\n",
      " [ 8.  8.  8.  8.  8.]\n",
      " [nan nan nan  9. nan]\n",
      " [ 0.  0.  0.  0.  0.]\n",
      " [ 1.  1.  1.  1.  1.]\n",
      " [ 2.  2.  2.  2.  2.]\n",
      " [ 3.  3.  3.  3.  3.]\n",
      " [nan nan  4.  4.  4.]\n",
      " [nan nan  5.  5.  5.]\n",
      " [ 6.  6.  6.  6.  6.]\n",
      " [ 7.  7.  7.  7.  7.]\n",
      " [ 8.  8.  8.  8.  8.]\n",
      " [ 9.  9. nan nan nan]\n",
      " [ 0.  0.  0.  0.  0.]\n",
      " [ 1.  1.  1.  1.  1.]\n",
      " [ 2.  2.  2.  2.  2.]\n",
      " [ 3.  3.  3.  3.  3.]\n",
      " [ 4.  4.  4.  4.  4.]\n",
      " [ 5.  5.  5.  5.  5.]\n",
      " [ 6.  6.  6.  6.  6.]\n",
      " [ 7.  7.  7.  7.  7.]\n",
      " [ 8.  8.  8.  8.  8.]\n",
      " [nan nan nan  9. nan]\n",
      " [ 0.  0.  0.  0.  0.]\n",
      " [ 1.  1.  1.  1.  1.]\n",
      " [ 2.  2.  2.  2.  2.]\n",
      " [ 3.  3.  3.  3.  3.]\n",
      " [nan nan  4.  4.  4.]\n",
      " [nan nan  5.  5.  5.]\n",
      " [ 6.  6.  6.  6.  6.]\n",
      " [ 7.  7.  7.  7.  7.]\n",
      " [ 8.  8.  8.  8.  8.]\n",
      " [ 9.  9. nan nan nan]\n",
      " [ 0.  0.  0.  0.  0.]\n",
      " [ 1.  1.  1.  1.  1.]\n",
      " [ 2.  2.  2.  2.  2.]\n",
      " [ 3.  3.  3.  3.  3.]\n",
      " [ 4.  4.  4.  4.  4.]\n",
      " [ 5.  5.  5.  5.  5.]\n",
      " [ 6.  6.  6.  6.  6.]\n",
      " [ 7.  7.  7.  7.  7.]\n",
      " [ 8.  8.  8.  8.  8.]\n",
      " [nan nan nan  9. nan]\n",
      " [ 0.  0.  0.  0.  0.]\n",
      " [ 1.  1.  1.  1.  1.]\n",
      " [ 2.  2.  2.  2.  2.]\n",
      " [ 3.  3.  3.  3.  3.]\n",
      " [nan nan  4.  4.  4.]\n",
      " [nan nan  5.  5.  5.]\n",
      " [ 6.  6.  6.  6.  6.]\n",
      " [ 7.  7.  7.  7.  7.]\n",
      " [ 8.  8.  8.  8.  8.]\n",
      " [ 9.  9. nan nan nan]\n",
      " [ 0.  0.  0.  0.  0.]\n",
      " [ 1.  1.  1.  1.  1.]\n",
      " [ 2.  2.  2.  2.  2.]\n",
      " [ 3.  3.  3.  3.  3.]\n",
      " [ 4.  4.  4.  4.  4.]\n",
      " [ 5.  5.  5.  5.  5.]\n",
      " [ 6.  6.  6.  6.  6.]\n",
      " [ 7.  7.  7.  7.  7.]\n",
      " [ 8.  8.  8.  8.  8.]\n",
      " [nan nan nan  9. nan]\n",
      " [ 0.  0.  0.  0.  0.]\n",
      " [ 1.  1.  1.  1.  1.]\n",
      " [ 2.  2.  2.  2.  2.]\n",
      " [ 3.  3.  3.  3.  3.]\n",
      " [nan nan  4.  4.  4.]\n",
      " [nan nan  5.  5.  5.]\n",
      " [ 6.  6.  6.  6.  6.]\n",
      " [ 7.  7.  7.  7.  7.]\n",
      " [ 8.  8.  8.  8.  8.]\n",
      " [ 9.  9. nan nan nan]\n",
      " [ 0.  0.  0.  0.  0.]\n",
      " [ 1.  1.  1.  1.  1.]\n",
      " [ 2.  2.  2.  2.  2.]\n",
      " [ 3.  3.  3.  3.  3.]\n",
      " [ 4.  4.  4.  4.  4.]\n",
      " [ 5.  5.  5.  5.  5.]\n",
      " [ 6.  6.  6.  6.  6.]\n",
      " [ 7.  7.  7.  7.  7.]\n",
      " [ 8.  8.  8.  8.  8.]\n",
      " [nan nan nan  9. nan]\n",
      " [ 0.  0.  0.  0.  0.]\n",
      " [ 1.  1.  1.  1.  1.]\n",
      " [ 2.  2.  2.  2.  2.]\n",
      " [ 3.  3.  3.  3.  3.]\n",
      " [nan nan  4.  4.  4.]\n",
      " [nan nan  5.  5.  5.]\n",
      " [ 6.  6.  6.  6.  6.]\n",
      " [ 7.  7.  7.  7.  7.]\n",
      " [ 8.  8.  8.  8.  8.]\n",
      " [ 9.  9. nan nan nan]\n",
      " [ 0.  0.  0.  0.  0.]\n",
      " [ 1.  1.  1.  1.  1.]\n",
      " [ 2.  2.  2.  2.  2.]\n",
      " [ 3.  3.  3.  3.  3.]\n",
      " [ 4.  4.  4.  4.  4.]\n",
      " [ 5.  5.  5.  5.  5.]\n",
      " [ 6.  6.  6.  6.  6.]\n",
      " [ 7.  7.  7.  7.  7.]\n",
      " [ 8.  8.  8.  8.  8.]\n",
      " [nan nan nan  9. nan]\n",
      " [ 0.  0.  0.  0.  0.]\n",
      " [ 1.  1.  1.  1.  1.]\n",
      " [ 2.  2.  2.  2.  2.]\n",
      " [ 3.  3.  3.  3.  3.]\n",
      " [nan nan  4.  4.  4.]\n",
      " [nan nan  5.  5.  5.]\n",
      " [ 6.  6.  6.  6.  6.]\n",
      " [ 7.  7.  7.  7.  7.]\n",
      " [ 8.  8.  8.  8.  8.]\n",
      " [ 9.  9. nan nan nan]\n",
      " [ 0.  0.  0.  0.  0.]\n",
      " [ 1.  1.  1.  1.  1.]\n",
      " [ 2.  2.  2.  2.  2.]\n",
      " [ 3.  3.  3.  3.  3.]\n",
      " [ 4.  4.  4.  4.  4.]\n",
      " [ 5.  5.  5.  5.  5.]\n",
      " [ 6.  6.  6.  6.  6.]\n",
      " [ 7.  7.  7.  7.  7.]\n",
      " [ 8.  8.  8.  8.  8.]\n",
      " [nan nan nan  9. nan]\n",
      " [ 0.  0.  0.  0.  0.]\n",
      " [ 1.  1.  1.  1.  1.]\n",
      " [ 2.  2.  2.  2.  2.]\n",
      " [ 3.  3.  3.  3.  3.]\n",
      " [nan nan  4.  4.  4.]\n",
      " [nan nan  5.  5.  5.]\n",
      " [ 6.  6.  6.  6.  6.]\n",
      " [ 7.  7.  7.  7.  7.]\n",
      " [ 8.  8.  8.  8.  8.]\n",
      " [ 9.  9. nan nan nan]\n",
      " [ 0.  0.  0.  0.  0.]\n",
      " [ 1.  1.  1.  1.  1.]\n",
      " [ 2.  2.  2.  2.  2.]\n",
      " [ 3.  3.  3.  3.  3.]\n",
      " [ 4.  4.  4.  4.  4.]\n",
      " [ 5.  5.  5.  5.  5.]\n",
      " [ 6.  6.  6.  6.  6.]\n",
      " [ 7.  7.  7.  7.  7.]\n",
      " [ 8.  8.  8.  8.  8.]\n",
      " [nan nan nan  9. nan]]\n"
     ]
    }
   ],
   "source": [
    "n_block = 10\n",
    "data = block\n",
    "for i in range(1, n_block):\n",
    "    data = np.concatenate((data, block))\n",
    "    #data.append(block)\n",
    "    #data = np.append(data, block, axis=1)\n",
    "print(data)"
   ]
  },
  {
   "cell_type": "code",
   "execution_count": 378,
   "metadata": {},
   "outputs": [],
   "source": [
    "class MissData(object):\n",
    "    def __init__(self, load_dir=None):\n",
    "        if load_dir:\n",
    "            self.missarr = np.load(os.path.join(load_dir, 'miss.npy'))\n",
    "            self.idxarr = np.load(os.path.join(load_dir, 'idx.npy'))\n",
    "    def make_missdata(self, data_x, missrate=0.2):\n",
    "        data = data_x.copy()\n",
    "        rows, cols = data_x.shape\n",
    "        total_no = rows*cols\n",
    "        total_miss_no = np.round(total_no*missrate).astype(int)\n",
    "        total_idx = self.idxarr.shape[0]\n",
    "        idxarr = self.idxarr\n",
    "        missarr = self.missarr\n",
    "        #print(total_miss_no)\n",
    "        miss_no = 0\n",
    "        cum_no = self.idxarr[:,3:4]\n",
    "        cum_no = cum_no.reshape((total_idx))\n",
    "        cum_sum = np.sum(cum_no)\n",
    "        #print(cum_no)\n",
    "        #print(total_idx)\n",
    "        while True:\n",
    "            loc_count = np.around(np.random.random()*cum_sum)\n",
    "            #print('loc_count =', loc_count)\n",
    "            idx = len(cum_no[cum_no <= loc_count])-1\n",
    "            #print(cum_no[cum_no <= loc_count])\n",
    "            startnan = idxarr[idx][0]\n",
    "            nanlen = idxarr[idx][2]\n",
    "            loc = np.around(np.random.random()*(rows-nanlen)).astype(int)\n",
    "            #print(loc_count, idx)\n",
    "            #print(idxarr[idx])\n",
    "            #data_copy = data[loc:loc+nanlen].copy()\n",
    "            data_copy = data[loc:loc+nanlen]\n",
    "            #print('startnan=', startnan)\n",
    "            #isnan = missarr[startnan:startnan+nanlen].copy()\n",
    "            isnan = missarr[startnan:startnan+nanlen]\n",
    "            #print('isnan =',isnan)\n",
    "            miss_no += idxarr[idx][1]\n",
    "            if (miss_no > total_miss_no):\n",
    "                break\n",
    "            data_copy[isnan==1] = np.nan\n",
    "            data[loc:loc+nanlen] = data_copy\n",
    "        #print('miss_data =', data)\n",
    "        return data\n",
    "        \n",
    "    def save(data, max_tseq, save_dir='save'):\n",
    "        no, dim = data.shape\n",
    "        #print((no, dim))\n",
    "        isnan = np.isnan(data).astype(int)\n",
    "        isany = np.any(isnan, axis=1).astype(int)\n",
    "        shifted = np.roll(isany, 1)\n",
    "        shifted[0] = 1\n",
    "        #print(isnan)\n",
    "        #print(isany.astype(int))\n",
    "        #print(shifted)\n",
    "        startnan = ((isany == 1) & (shifted ==0)).astype(int)\n",
    "        #print(startnan)\n",
    "        group = startnan.cumsum()\n",
    "        group = group*isany\n",
    "        #print(group)\n",
    "        n = np.max(group)\n",
    "        #print(n)\n",
    "        missarr = None\n",
    "        cum_no = 0\n",
    "        rowidx = 0\n",
    "        for i in range(1, n+1):\n",
    "            g = (group == i).astype(int)\n",
    "            i = np.argmax(g)\n",
    "            rows = g.sum()\n",
    "            #print(len)\n",
    "            #print(i)\n",
    "            #print(type(missarr))\n",
    "            if rows <= max_tseq:\n",
    "                nanseq = isnan[i:i+rows, :]\n",
    "                no = np.sum(nanseq)\n",
    "                #print(no)\n",
    "                if missarr is None:\n",
    "                    missarr = nanseq\n",
    "                    idxarr = np.array([[rowidx, no, rows, cum_no]])\n",
    "                else:\n",
    "                    missarr = np.concatenate((missarr, nanseq))\n",
    "                    idxarr = np.concatenate((idxarr, [[rowidx, no, rows, cum_no]]), axis=0)\n",
    "                cum_no += no\n",
    "                rowidx += rows\n",
    "\n",
    "        #print(idxarr)\n",
    "        miss_npy_file = os.path.join(save_dir, 'miss.npy')\n",
    "        idx_npy_file = os.path.join(save_dir, 'idx.npy')\n",
    "        if not os.path.exists(save_dir):\n",
    "            os.makedirs(save_dir)\n",
    "        np.save(miss_npy_file, missarr)\n",
    "        np.save(idx_npy_file, idxarr)\n",
    "        print('miss_data file saved')\n"
   ]
  },
  {
   "cell_type": "code",
   "execution_count": 386,
   "metadata": {},
   "outputs": [
    {
     "name": "stdout",
     "output_type": "stream",
     "text": [
      "miss_data file saved\n",
      "(8760, 5)\n"
     ]
    },
    {
     "data": {
      "text/plain": [
       "array([[ 0.,  0.,  0.,  0.,  0.],\n",
       "       [ 0.,  0.,  0.,  0.,  0.],\n",
       "       [ 0.,  0.,  0.,  0.,  0.],\n",
       "       [ 0.,  0.,  0.,  0.,  0.],\n",
       "       [nan, nan, nan, nan, nan],\n",
       "       [nan, nan, nan, nan, nan],\n",
       "       [nan, nan, nan, nan,  0.],\n",
       "       [nan, nan, nan, nan,  0.],\n",
       "       [ 0.,  0.,  0.,  0.,  0.],\n",
       "       [ 0.,  0.,  0.,  0.,  0.],\n",
       "       [ 0.,  0.,  0.,  0.,  0.],\n",
       "       [ 0.,  0.,  0.,  0.,  0.],\n",
       "       [ 0.,  0.,  0.,  0.,  0.],\n",
       "       [ 0.,  0.,  0.,  0.,  0.],\n",
       "       [ 0.,  0.,  0.,  0.,  0.],\n",
       "       [ 0.,  0.,  0.,  0.,  0.],\n",
       "       [ 0.,  0.,  0.,  0.,  0.],\n",
       "       [ 0.,  0.,  0.,  0.,  0.],\n",
       "       [ 0.,  0.,  0.,  0.,  0.],\n",
       "       [ 0.,  0.,  0.,  0.,  0.],\n",
       "       [ 0.,  0.,  0.,  0.,  0.],\n",
       "       [ 0.,  0.,  0.,  0.,  0.],\n",
       "       [ 0.,  0.,  0.,  0.,  0.],\n",
       "       [ 0.,  0.,  0.,  0.,  0.],\n",
       "       [nan, nan, nan, nan,  0.],\n",
       "       [nan, nan, nan, nan,  0.],\n",
       "       [nan, nan, nan, nan,  0.],\n",
       "       [ 0.,  0.,  0.,  0.,  0.],\n",
       "       [ 0.,  0.,  0.,  0.,  0.],\n",
       "       [ 0.,  0.,  0.,  0.,  0.],\n",
       "       [ 0.,  0.,  0.,  0.,  0.],\n",
       "       [ 0.,  0.,  0.,  0.,  0.],\n",
       "       [ 0.,  0.,  0.,  0.,  0.],\n",
       "       [ 0.,  0.,  0.,  0.,  0.],\n",
       "       [ 0.,  0.,  0.,  0.,  0.],\n",
       "       [ 0.,  0.,  0.,  0.,  0.],\n",
       "       [ 0.,  0.,  0.,  0.,  0.],\n",
       "       [ 0.,  0.,  0.,  0.,  0.],\n",
       "       [nan, nan, nan, nan, nan],\n",
       "       [ 0.,  0.,  0.,  0.,  0.],\n",
       "       [ 0.,  0.,  0.,  0.,  0.],\n",
       "       [ 0.,  0.,  0.,  0.,  0.],\n",
       "       [ 0.,  0.,  0.,  0.,  0.],\n",
       "       [ 0.,  0.,  0.,  0.,  0.],\n",
       "       [ 0.,  0.,  0.,  0.,  0.],\n",
       "       [ 0.,  0.,  0.,  0.,  0.],\n",
       "       [ 0.,  0.,  0.,  0.,  0.],\n",
       "       [ 0.,  0.,  0.,  0.,  0.],\n",
       "       [ 0.,  0.,  0.,  0.,  0.],\n",
       "       [ 0.,  0.,  0.,  0.,  0.],\n",
       "       [ 0.,  0.,  0.,  0.,  0.],\n",
       "       [ 0.,  0.,  0.,  0.,  0.],\n",
       "       [ 0.,  0.,  0.,  0.,  0.],\n",
       "       [ 0.,  0.,  0.,  0.,  0.],\n",
       "       [ 0.,  0.,  0.,  0.,  0.],\n",
       "       [ 0.,  0.,  0.,  0.,  0.],\n",
       "       [ 0.,  0.,  0.,  0.,  0.],\n",
       "       [ 0.,  0.,  0.,  0.,  0.],\n",
       "       [ 0.,  0.,  0.,  0.,  0.],\n",
       "       [ 0.,  0.,  0.,  0.,  0.],\n",
       "       [nan, nan, nan, nan, nan],\n",
       "       [nan, nan, nan, nan, nan],\n",
       "       [nan, nan, nan, nan, nan],\n",
       "       [nan, nan, nan, nan, nan],\n",
       "       [nan, nan, nan, nan, nan],\n",
       "       [nan, nan, nan, nan, nan],\n",
       "       [nan, nan, nan, nan, nan],\n",
       "       [nan, nan, nan, nan, nan],\n",
       "       [nan, nan, nan, nan, nan],\n",
       "       [nan, nan, nan, nan, nan],\n",
       "       [nan, nan, nan, nan, nan],\n",
       "       [ 0.,  0.,  0.,  0.,  0.],\n",
       "       [ 0.,  0.,  0.,  0.,  0.],\n",
       "       [ 0.,  0.,  0.,  0.,  0.],\n",
       "       [ 0.,  0.,  0.,  0.,  0.],\n",
       "       [ 0.,  0.,  0.,  0.,  0.],\n",
       "       [nan, nan, nan, nan, nan],\n",
       "       [ 0.,  0.,  0.,  0.,  0.],\n",
       "       [ 0.,  0.,  0.,  0.,  0.],\n",
       "       [ 0.,  0.,  0.,  0.,  0.],\n",
       "       [ 0.,  0.,  0.,  0.,  0.],\n",
       "       [ 0.,  0.,  0.,  0.,  0.],\n",
       "       [ 0.,  0.,  0.,  0.,  0.],\n",
       "       [ 0.,  0.,  0.,  0.,  0.],\n",
       "       [ 0.,  0.,  0.,  0.,  0.],\n",
       "       [ 0.,  0.,  0.,  0.,  0.],\n",
       "       [ 0.,  0.,  0.,  0.,  0.],\n",
       "       [ 0.,  0.,  0.,  0.,  0.],\n",
       "       [ 0.,  0.,  0.,  0.,  0.],\n",
       "       [ 0.,  0.,  0.,  0.,  0.],\n",
       "       [ 0.,  0.,  0.,  0.,  0.],\n",
       "       [ 0.,  0.,  0.,  0.,  0.],\n",
       "       [ 0.,  0.,  0.,  0.,  0.],\n",
       "       [ 0.,  0.,  0.,  0.,  0.],\n",
       "       [ 0.,  0.,  0.,  0.,  0.],\n",
       "       [ 0.,  0.,  0.,  0.,  0.],\n",
       "       [ 0.,  0.,  0.,  0.,  0.],\n",
       "       [ 0.,  0.,  0.,  0.,  0.],\n",
       "       [ 0.,  0.,  0.,  0.,  0.],\n",
       "       [ 0.,  0.,  0.,  0.,  0.]])"
      ]
     },
     "execution_count": 386,
     "metadata": {},
     "output_type": "execute_result"
    }
   ],
   "source": [
    "# miss data pattern creation\n",
    "data = df.to_numpy()\n",
    "\n",
    "MissData.save(data, max_tseq=100)\n",
    "print(data.shape)\n",
    "\n",
    "# create miss data\n",
    "miss_data = MissData(load_dir='save')\n",
    "org_data = np.zeros(shape=(100,5))\n",
    "data_x = miss_data.make_missdata(org_data, missrate=0.2)\n",
    "data_x"
   ]
  },
  {
   "cell_type": "code",
   "execution_count": 387,
   "metadata": {},
   "outputs": [
    {
     "data": {
      "text/plain": [
       "<matplotlib.image.AxesImage at 0x7fe4a430c4d0>"
      ]
     },
     "execution_count": 387,
     "metadata": {},
     "output_type": "execute_result"
    },
    {
     "data": {
      "image/png": "[encoded data removed]",
      "text/plain": [
       "<Figure size 720x1440 with 1 Axes>"
      ]
     },
     "metadata": {
      "needs_background": "light"
     },
     "output_type": "display_data"
    }
   ],
   "source": [
    "import matplotlib\n",
    "import matplotlib.pyplot as plt\n",
    "import copy\n",
    "current_cmap = copy.copy(matplotlib.cm.get_cmap())\n",
    "current_cmap.set_bad(color='red')\n",
    "plt.figure(figsize=(10,20))\n",
    "plt.imshow(data_x)"
   ]
  },
  {
   "cell_type": "code",
   "execution_count": 3,
   "metadata": {},
   "outputs": [
    {
     "name": "stdout",
     "output_type": "stream",
     "text": [
      "Collecting ipympl\n",
      "  Downloading ipympl-0.5.8-py2.py3-none-any.whl (2.0 MB)\n",
      "\u001b[K     |████████████████████████████████| 2.0 MB 1.7 MB/s eta 0:00:01\n",
      "\u001b[?25hRequirement already satisfied: ipykernel>=4.7 in /home/kotech/workspace/venv-tensor2n-gpu/lib/python3.7/site-packages (from ipympl) (5.3.4)\n",
      "Requirement already satisfied: matplotlib>=2.0.0 in /home/kotech/workspace/venv-tensor2n-gpu/lib/python3.7/site-packages (from ipympl) (3.3.2)\n",
      "Requirement already satisfied: ipywidgets>=7.5.0 in /home/kotech/workspace/venv-tensor2n-gpu/lib/python3.7/site-packages (from ipympl) (7.5.1)\n",
      "Requirement already satisfied: jupyter-client in /home/kotech/workspace/venv-tensor2n-gpu/lib/python3.7/site-packages (from ipykernel>=4.7->ipympl) (6.1.7)\n",
      "Requirement already satisfied: traitlets>=4.1.0 in /home/kotech/workspace/venv-tensor2n-gpu/lib/python3.7/site-packages (from ipykernel>=4.7->ipympl) (5.0.5)\n",
      "Requirement already satisfied: tornado>=4.2 in /home/kotech/workspace/venv-tensor2n-gpu/lib/python3.7/site-packages (from ipykernel>=4.7->ipympl) (6.1)\n",
      "Requirement already satisfied: ipython>=5.0.0 in /home/kotech/workspace/venv-tensor2n-gpu/lib/python3.7/site-packages (from ipykernel>=4.7->ipympl) (7.19.0)\n",
      "Requirement already satisfied: pyparsing!=2.0.4,!=2.1.2,!=2.1.6,>=2.0.3 in /home/kotech/workspace/venv-tensor2n-gpu/lib/python3.7/site-packages (from matplotlib>=2.0.0->ipympl) (2.4.7)\n",
      "Requirement already satisfied: pillow>=6.2.0 in /home/kotech/workspace/venv-tensor2n-gpu/lib/python3.7/site-packages (from matplotlib>=2.0.0->ipympl) (8.0.1)\n",
      "Requirement already satisfied: numpy>=1.15 in /home/kotech/workspace/venv-tensor2n-gpu/lib/python3.7/site-packages (from matplotlib>=2.0.0->ipympl) (1.19.4)\n",
      "Requirement already satisfied: python-dateutil>=2.1 in /home/kotech/workspace/venv-tensor2n-gpu/lib/python3.7/site-packages (from matplotlib>=2.0.0->ipympl) (2.8.1)\n",
      "Requirement already satisfied: cycler>=0.10 in /home/kotech/workspace/venv-tensor2n-gpu/lib/python3.7/site-packages (from matplotlib>=2.0.0->ipympl) (0.10.0)\n",
      "Requirement already satisfied: kiwisolver>=1.0.1 in /home/kotech/workspace/venv-tensor2n-gpu/lib/python3.7/site-packages (from matplotlib>=2.0.0->ipympl) (1.3.1)\n",
      "Requirement already satisfied: certifi>=2020.06.20 in /home/kotech/workspace/venv-tensor2n-gpu/lib/python3.7/site-packages (from matplotlib>=2.0.0->ipympl) (2020.11.8)\n",
      "Requirement already satisfied: widgetsnbextension~=3.5.0 in /home/kotech/workspace/venv-tensor2n-gpu/lib/python3.7/site-packages (from ipywidgets>=7.5.0->ipympl) (3.5.1)\n",
      "Requirement already satisfied: nbformat>=4.2.0 in /home/kotech/workspace/venv-tensor2n-gpu/lib/python3.7/site-packages (from ipywidgets>=7.5.0->ipympl) (5.0.8)\n",
      "Requirement already satisfied: pyzmq>=13 in /home/kotech/workspace/venv-tensor2n-gpu/lib/python3.7/site-packages (from jupyter-client->ipykernel>=4.7->ipympl) (19.0.2)\n",
      "Requirement already satisfied: jupyter-core>=4.6.0 in /home/kotech/workspace/venv-tensor2n-gpu/lib/python3.7/site-packages (from jupyter-client->ipykernel>=4.7->ipympl) (4.6.3)\n",
      "Requirement already satisfied: ipython-genutils in /home/kotech/workspace/venv-tensor2n-gpu/lib/python3.7/site-packages (from traitlets>=4.1.0->ipykernel>=4.7->ipympl) (0.2.0)\n",
      "Requirement already satisfied: pexpect>4.3; sys_platform != \"win32\" in /home/kotech/workspace/venv-tensor2n-gpu/lib/python3.7/site-packages (from ipython>=5.0.0->ipykernel>=4.7->ipympl) (4.8.0)\n",
      "Requirement already satisfied: pickleshare in /home/kotech/workspace/venv-tensor2n-gpu/lib/python3.7/site-packages (from ipython>=5.0.0->ipykernel>=4.7->ipympl) (0.7.5)\n",
      "Requirement already satisfied: pygments in /home/kotech/workspace/venv-tensor2n-gpu/lib/python3.7/site-packages (from ipython>=5.0.0->ipykernel>=4.7->ipympl) (2.7.2)\n",
      "Requirement already satisfied: prompt-toolkit!=3.0.0,!=3.0.1,<3.1.0,>=2.0.0 in /home/kotech/workspace/venv-tensor2n-gpu/lib/python3.7/site-packages (from ipython>=5.0.0->ipykernel>=4.7->ipympl) (3.0.8)\n",
      "Requirement already satisfied: jedi>=0.10 in /home/kotech/workspace/venv-tensor2n-gpu/lib/python3.7/site-packages (from ipython>=5.0.0->ipykernel>=4.7->ipympl) (0.17.2)\n",
      "Requirement already satisfied: setuptools>=18.5 in /home/kotech/workspace/venv-tensor2n-gpu/lib/python3.7/site-packages (from ipython>=5.0.0->ipykernel>=4.7->ipympl) (47.1.0)\n",
      "Requirement already satisfied: decorator in /home/kotech/workspace/venv-tensor2n-gpu/lib/python3.7/site-packages (from ipython>=5.0.0->ipykernel>=4.7->ipympl) (4.4.2)\n",
      "Requirement already satisfied: backcall in /home/kotech/workspace/venv-tensor2n-gpu/lib/python3.7/site-packages (from ipython>=5.0.0->ipykernel>=4.7->ipympl) (0.2.0)\n",
      "Requirement already satisfied: six>=1.5 in /home/kotech/workspace/venv-tensor2n-gpu/lib/python3.7/site-packages (from python-dateutil>=2.1->matplotlib>=2.0.0->ipympl) (1.15.0)\n",
      "Requirement already satisfied: notebook>=4.4.1 in /home/kotech/workspace/venv-tensor2n-gpu/lib/python3.7/site-packages (from widgetsnbextension~=3.5.0->ipywidgets>=7.5.0->ipympl) (6.1.5)\n",
      "Requirement already satisfied: jsonschema!=2.5.0,>=2.4 in /home/kotech/workspace/venv-tensor2n-gpu/lib/python3.7/site-packages (from nbformat>=4.2.0->ipywidgets>=7.5.0->ipympl) (3.2.0)\n",
      "Requirement already satisfied: ptyprocess>=0.5 in /home/kotech/workspace/venv-tensor2n-gpu/lib/python3.7/site-packages (from pexpect>4.3; sys_platform != \"win32\"->ipython>=5.0.0->ipykernel>=4.7->ipympl) (0.6.0)\n",
      "Requirement already satisfied: wcwidth in /home/kotech/workspace/venv-tensor2n-gpu/lib/python3.7/site-packages (from prompt-toolkit!=3.0.0,!=3.0.1,<3.1.0,>=2.0.0->ipython>=5.0.0->ipykernel>=4.7->ipympl) (0.2.5)\n",
      "Requirement already satisfied: parso<0.8.0,>=0.7.0 in /home/kotech/workspace/venv-tensor2n-gpu/lib/python3.7/site-packages (from jedi>=0.10->ipython>=5.0.0->ipykernel>=4.7->ipympl) (0.7.1)\n",
      "Requirement already satisfied: argon2-cffi in /home/kotech/workspace/venv-tensor2n-gpu/lib/python3.7/site-packages (from notebook>=4.4.1->widgetsnbextension~=3.5.0->ipywidgets>=7.5.0->ipympl) (20.1.0)\n",
      "Requirement already satisfied: terminado>=0.8.3 in /home/kotech/workspace/venv-tensor2n-gpu/lib/python3.7/site-packages (from notebook>=4.4.1->widgetsnbextension~=3.5.0->ipywidgets>=7.5.0->ipympl) (0.9.1)\n",
      "Requirement already satisfied: nbconvert in /home/kotech/workspace/venv-tensor2n-gpu/lib/python3.7/site-packages (from notebook>=4.4.1->widgetsnbextension~=3.5.0->ipywidgets>=7.5.0->ipympl) (6.0.7)\n",
      "Requirement already satisfied: Send2Trash in /home/kotech/workspace/venv-tensor2n-gpu/lib/python3.7/site-packages (from notebook>=4.4.1->widgetsnbextension~=3.5.0->ipywidgets>=7.5.0->ipympl) (1.5.0)\n",
      "Requirement already satisfied: jinja2 in /home/kotech/workspace/venv-tensor2n-gpu/lib/python3.7/site-packages (from notebook>=4.4.1->widgetsnbextension~=3.5.0->ipywidgets>=7.5.0->ipympl) (2.11.2)\n",
      "Requirement already satisfied: prometheus-client in /home/kotech/workspace/venv-tensor2n-gpu/lib/python3.7/site-packages (from notebook>=4.4.1->widgetsnbextension~=3.5.0->ipywidgets>=7.5.0->ipympl) (0.8.0)\n",
      "Requirement already satisfied: attrs>=17.4.0 in /home/kotech/workspace/venv-tensor2n-gpu/lib/python3.7/site-packages (from jsonschema!=2.5.0,>=2.4->nbformat>=4.2.0->ipywidgets>=7.5.0->ipympl) (20.3.0)\n",
      "Requirement already satisfied: importlib-metadata; python_version < \"3.8\" in /home/kotech/workspace/venv-tensor2n-gpu/lib/python3.7/site-packages (from jsonschema!=2.5.0,>=2.4->nbformat>=4.2.0->ipywidgets>=7.5.0->ipympl) (2.0.0)\n",
      "Requirement already satisfied: pyrsistent>=0.14.0 in /home/kotech/workspace/venv-tensor2n-gpu/lib/python3.7/site-packages (from jsonschema!=2.5.0,>=2.4->nbformat>=4.2.0->ipywidgets>=7.5.0->ipympl) (0.17.3)\n",
      "Requirement already satisfied: cffi>=1.0.0 in /home/kotech/workspace/venv-tensor2n-gpu/lib/python3.7/site-packages (from argon2-cffi->notebook>=4.4.1->widgetsnbextension~=3.5.0->ipywidgets>=7.5.0->ipympl) (1.14.3)\n",
      "Requirement already satisfied: entrypoints>=0.2.2 in /home/kotech/workspace/venv-tensor2n-gpu/lib/python3.7/site-packages (from nbconvert->notebook>=4.4.1->widgetsnbextension~=3.5.0->ipywidgets>=7.5.0->ipympl) (0.3)\n",
      "Requirement already satisfied: mistune<2,>=0.8.1 in /home/kotech/workspace/venv-tensor2n-gpu/lib/python3.7/site-packages (from nbconvert->notebook>=4.4.1->widgetsnbextension~=3.5.0->ipywidgets>=7.5.0->ipympl) (0.8.4)\n",
      "Requirement already satisfied: nbclient<0.6.0,>=0.5.0 in /home/kotech/workspace/venv-tensor2n-gpu/lib/python3.7/site-packages (from nbconvert->notebook>=4.4.1->widgetsnbextension~=3.5.0->ipywidgets>=7.5.0->ipympl) (0.5.1)\n",
      "Requirement already satisfied: bleach in /home/kotech/workspace/venv-tensor2n-gpu/lib/python3.7/site-packages (from nbconvert->notebook>=4.4.1->widgetsnbextension~=3.5.0->ipywidgets>=7.5.0->ipympl) (3.2.1)\n",
      "Requirement already satisfied: defusedxml in /home/kotech/workspace/venv-tensor2n-gpu/lib/python3.7/site-packages (from nbconvert->notebook>=4.4.1->widgetsnbextension~=3.5.0->ipywidgets>=7.5.0->ipympl) (0.6.0)\n",
      "Requirement already satisfied: pandocfilters>=1.4.1 in /home/kotech/workspace/venv-tensor2n-gpu/lib/python3.7/site-packages (from nbconvert->notebook>=4.4.1->widgetsnbextension~=3.5.0->ipywidgets>=7.5.0->ipympl) (1.4.3)\n",
      "Requirement already satisfied: jupyterlab-pygments in /home/kotech/workspace/venv-tensor2n-gpu/lib/python3.7/site-packages (from nbconvert->notebook>=4.4.1->widgetsnbextension~=3.5.0->ipywidgets>=7.5.0->ipympl) (0.1.2)\n",
      "Requirement already satisfied: testpath in /home/kotech/workspace/venv-tensor2n-gpu/lib/python3.7/site-packages (from nbconvert->notebook>=4.4.1->widgetsnbextension~=3.5.0->ipywidgets>=7.5.0->ipympl) (0.4.4)\n",
      "Requirement already satisfied: MarkupSafe>=0.23 in /home/kotech/workspace/venv-tensor2n-gpu/lib/python3.7/site-packages (from jinja2->notebook>=4.4.1->widgetsnbextension~=3.5.0->ipywidgets>=7.5.0->ipympl) (1.1.1)\n",
      "Requirement already satisfied: zipp>=0.5 in /home/kotech/workspace/venv-tensor2n-gpu/lib/python3.7/site-packages (from importlib-metadata; python_version < \"3.8\"->jsonschema!=2.5.0,>=2.4->nbformat>=4.2.0->ipywidgets>=7.5.0->ipympl) (3.4.0)\n",
      "Requirement already satisfied: pycparser in /home/kotech/workspace/venv-tensor2n-gpu/lib/python3.7/site-packages (from cffi>=1.0.0->argon2-cffi->notebook>=4.4.1->widgetsnbextension~=3.5.0->ipywidgets>=7.5.0->ipympl) (2.20)\n",
      "Requirement already satisfied: nest-asyncio in /home/kotech/workspace/venv-tensor2n-gpu/lib/python3.7/site-packages (from nbclient<0.6.0,>=0.5.0->nbconvert->notebook>=4.4.1->widgetsnbextension~=3.5.0->ipywidgets>=7.5.0->ipympl) (1.4.3)\n",
      "Requirement already satisfied: async-generator in /home/kotech/workspace/venv-tensor2n-gpu/lib/python3.7/site-packages (from nbclient<0.6.0,>=0.5.0->nbconvert->notebook>=4.4.1->widgetsnbextension~=3.5.0->ipywidgets>=7.5.0->ipympl) (1.10)\n",
      "Requirement already satisfied: packaging in /home/kotech/workspace/venv-tensor2n-gpu/lib/python3.7/site-packages (from bleach->nbconvert->notebook>=4.4.1->widgetsnbextension~=3.5.0->ipywidgets>=7.5.0->ipympl) (20.4)\n",
      "Requirement already satisfied: webencodings in /home/kotech/workspace/venv-tensor2n-gpu/lib/python3.7/site-packages (from bleach->nbconvert->notebook>=4.4.1->widgetsnbextension~=3.5.0->ipywidgets>=7.5.0->ipympl) (0.5.1)\n"
     ]
    },
    {
     "name": "stdout",
     "output_type": "stream",
     "text": [
      "Installing collected packages: ipympl\n",
      "Successfully installed ipympl-0.5.8\n",
      "\u001b[33mWARNING: You are using pip version 20.2.4; however, version 20.3 is available.\n",
      "You should consider upgrading via the '/home/kotech/workspace/venv-tensor2n-gpu/bin/python -m pip install --upgrade pip' command.\u001b[0m\n"
     ]
    }
   ],
   "source": [
    "#!pip install ipympl"
   ]
  },
  {
   "cell_type": "code",
   "execution_count": 4,
   "metadata": {},
   "outputs": [],
   "source": [
    "%matplotlib widget"
   ]
  },
  {
   "cell_type": "code",
   "execution_count": 6,
   "metadata": {},
   "outputs": [],
   "source": [
    "import pandas as pd\n",
    "import matplotlib.pyplot as plt\n",
    "df = pd.read_csv(\n",
    " \"https://raw.githubusercontent.com/plotly/datasets/master/tips.csv\"\n",
    ")# Matplotlib Scatter Plot\n",
    "plt.scatter('total_bill', 'tip',data=df)\n",
    "plt.xlabel('Total Bill')\n",
    "plt.ylabel('Tip')\n",
    "plt.show()"
   ]
  },
  {
   "cell_type": "markdown",
   "metadata": {},
   "source": [
    "```\n",
    "A[i][j] = (B[i][k]*C[k][j] for k in range (n))\n",
    "```\n",
    "$$\n",
    "A = B*C   \\\\\n",
    "A_{ij} = \\sum_k B_{ik}C_{kj} \\\\\n",
    "A_{ij} = \\sum_k B_{ik}C_{jk} \\\\\n",
    "A_{ij} = \\sum_k B_{ik}C^T_{kj} \\\\\n",
    "A = B*C^T \\\\\n",
    "\\sum_k B_{ijk}C_{klm} \\equiv A_{ijlm}\n",
    "$$\n"
   ]
  },
  {
   "cell_type": "markdown",
   "metadata": {},
   "source": [
    "$\n",
    "X_{ijkl}\n",
    "$"
   ]
  },
  {
   "cell_type": "code",
   "execution_count": null,
   "metadata": {},
   "outputs": [],
   "source": []
  },
  {
   "cell_type": "code",
   "execution_count": 30,
   "metadata": {},
   "outputs": [
    {
     "data": {
      "text/plain": [
       "(2, 6, 5, 4)"
      ]
     },
     "execution_count": 30,
     "metadata": {},
     "output_type": "execute_result"
    }
   ],
   "source": [
    "import numpy as np\n",
    "x = np.array(\n",
    "    [\n",
    "        [1,2,3],\n",
    "        [4,5,6]\n",
    "    ]\n",
    ")\n",
    "y = np.array(\n",
    "    [\n",
    "        [1,2,3],\n",
    "        [4,5,6]\n",
    "    ]\n",
    ")\n",
    "x*y\n",
    "np.transpose(y)\n",
    "np.dot(x,np.transpose(y))\n",
    "\n",
    "y = np.array(\n",
    "    [\n",
    "        [1,2,3],\n",
    "    ]\n",
    ")\n",
    "x*y\n",
    "y = np.array(\n",
    "    [\n",
    "        [1],\n",
    "        [4]\n",
    "    ]\n",
    ")\n",
    "y = np.array(\n",
    "    [\n",
    "        [1],\n",
    "    ]\n",
    ")\n",
    "x*y\n",
    "y = np.array(\n",
    "    [\n",
    "        [1,2],\n",
    "    ]\n",
    ")\n",
    "x.shape, y.shape\n",
    "x = np.random.random((2,3,6))\n",
    "y = np.random.random((5,3,4))\n",
    "z = np.tensordot(x,y,axes=[1,1])\n",
    "z.shape\n",
    "# (i, j, k)dot(l, k, m) axes=[2,2] = (i, j, l, m)"
   ]
  },
  {
   "cell_type": "code",
   "execution_count": null,
   "metadata": {},
   "outputs": [],
   "source": [
    "\n",
    "y = np.array(\n",
    "    [\n",
    "        [1,2,3],\n",
    "        [4,5,6]\n",
    "    ]\n",
    ")"
   ]
  }
 ],
 "metadata": {
  "kernelspec": {
   "display_name": "Python 3",
   "language": "python",
   "name": "python3"
  },
  "language_info": {
   "codemirror_mode": {
    "name": "ipython",
    "version": 3
   },
   "file_extension": ".py",
   "mimetype": "text/x-python",
   "name": "python",
   "nbconvert_exporter": "python",
   "pygments_lexer": "ipython3",
   "version": "3.7.9"
  }
 },
 "nbformat": 4,
 "nbformat_minor": 4
}
