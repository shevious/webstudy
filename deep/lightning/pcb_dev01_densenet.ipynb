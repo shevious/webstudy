{
 "cells": [
  {
   "cell_type": "markdown",
   "id": "87886db9-d02f-4835-abad-13d16df23191",
   "metadata": {},
   "source": [
    "**Multi-GPU working**  \n",
    "https://www.kaggle.com/code/rasmus01610/notebook-multi-gpu-training-with-pytorch-lightning/notebook"
   ]
  },
  {
   "cell_type": "code",
   "execution_count": 1,
   "id": "50b674d5-25c3-481e-a44f-244e45b1f392",
   "metadata": {},
   "outputs": [],
   "source": [
    "#!pip install monai\n",
    "#!pip install scikit-learn"
   ]
  },
  {
   "cell_type": "code",
   "execution_count": 2,
   "id": "6fb15f2c-a15d-4d12-9ada-80d5fdbee525",
   "metadata": {},
   "outputs": [],
   "source": [
    "import os\n",
    "import PIL\n",
    "import torch\n",
    "import numpy as np\n",
    "\n",
    "from monai.data import DataLoader, ArrayDataset\n",
    "from torch.optim.lr_scheduler import CosineAnnealingLR\n",
    "from monai.networks.nets import DenseNet121\n",
    "from monai.transforms import (\n",
    "    EnsureChannelFirst,\n",
    "    AsDiscrete,\n",
    "    Compose,\n",
    "    LoadImage,\n",
    "    ScaleIntensity,\n",
    ")\n",
    "import glob\n",
    "import os\n",
    "\n",
    "from torch.utils.data import random_split\n",
    "import pytorch_lightning as pl\n",
    "from torch import optim\n",
    "from sklearn.metrics import accuracy_score"
   ]
  },
  {
   "cell_type": "code",
   "execution_count": 3,
   "id": "608855c3-7578-42f7-b744-117b653d4b33",
   "metadata": {},
   "outputs": [],
   "source": [
    "#!wget https://github.com/Project-MONAI/MONAI-extra-test-data/releases/download/0.8.1/MedNIST.tar.gz\n",
    "#!tar -zxf MedNIST.tar.gz"
   ]
  },
  {
   "cell_type": "code",
   "execution_count": 4,
   "id": "cb5ef039-cc27-4c06-b0bc-9dfa4cdb80bc",
   "metadata": {},
   "outputs": [],
   "source": [
    "path = \"./PCBData\"\n",
    "images = glob.glob(path + '/*/*.jpg')\n",
    "labels = [image.split('/')[-2] for image in images]\n",
    "unique_labels = list(set(labels))\n",
    "labels = [unique_labels.index(i) for i in labels]"
   ]
  },
  {
   "cell_type": "code",
   "execution_count": 5,
   "id": "19dcbcaa-a8f9-4cf4-beae-960d977fd532",
   "metadata": {},
   "outputs": [],
   "source": [
    "num_classes = len(unique_labels)\n",
    "\n",
    "train_transforms = Compose(\n",
    "    [\n",
    "        LoadImage(image_only=True),\n",
    "        EnsureChannelFirst(),\n",
    "        ScaleIntensity(),\n",
    "    ]\n",
    ")\n",
    "\n",
    "y_trans = Compose([AsDiscrete(to_onehot=num_classes)])"
   ]
  },
  {
   "cell_type": "code",
   "execution_count": 6,
   "id": "9961df0f-e3fc-469d-9e2c-26364b078b3d",
   "metadata": {},
   "outputs": [],
   "source": [
    "ds = ArrayDataset(images, labels=labels, img_transform=train_transforms, label_transform=y_trans)\n",
    "n_data = len(ds)\n",
    "n_train = int(n_data*0.9)\n",
    "train_ds, val_ds = random_split(ds, [n_train, n_data-n_train], generator=torch.Generator().manual_seed(42))"
   ]
  },
  {
   "cell_type": "code",
   "execution_count": 7,
   "id": "b60bc3f8-e687-4d24-b53c-dbc76e94ce6b",
   "metadata": {},
   "outputs": [
    {
     "data": {
      "text/plain": [
       "12758"
      ]
     },
     "execution_count": 7,
     "metadata": {},
     "output_type": "execute_result"
    }
   ],
   "source": [
    "len(ds)"
   ]
  },
  {
   "cell_type": "code",
   "execution_count": 8,
   "id": "12ad233f-593f-42b0-9901-513d999b9022",
   "metadata": {},
   "outputs": [],
   "source": [
    "#train_dl = DataLoader(train_ds, shuffle=True, pin_memory=True, num_workers=2, batch_size=256)\n",
    "#val_dl = DataLoader(val_ds, shuffle=False, pin_memory=True, num_workers=2, batch_size=256)"
   ]
  },
  {
   "cell_type": "code",
   "execution_count": 9,
   "id": "362aa95d-4706-44ac-bc42-ea18ab7d2adc",
   "metadata": {},
   "outputs": [],
   "source": [
    "class MedNISTModel(pl.LightningModule):\n",
    "    def __init__(self, net, lr, loss):\n",
    "        super().__init__()\n",
    "        self.net = net\n",
    "        self.lr = lr\n",
    "        self.loss = loss \n",
    "        \n",
    "    def forward(self, x):\n",
    "        return torch.nn.functional.softmax(self.net(x), dim=1)\n",
    "\n",
    "    def training_step(self, batch, batch_idx):\n",
    "        x, y = batch\n",
    "        y_hat = self(x)\n",
    "        loss = self.loss(y_hat, y.float())\n",
    "        self.log(\"train_loss\", loss)\n",
    "        return loss\n",
    "    \n",
    "    def validation_step(self, batch, batch_idx):\n",
    "        x, y = batch\n",
    "        y_hat = self(x)\n",
    "        loss = self.loss(y_hat, y.float())\n",
    "        val_acc = (y.argmax(dim=1) == y_hat.argmax(dim=1)).float().sum() / y.shape[0]\n",
    "        self.log(\"val_acc\", val_acc, prog_bar=True, sync_dist=True)\n",
    "        self.log(\"val_loss\", loss, prog_bar=True, sync_dist=True)\n",
    "        return loss\n",
    "\n",
    "    def configure_optimizers(self):\n",
    "        optimizer = optim.Adam(self.parameters(), lr=self.lr)\n",
    "        scheduler = CosineAnnealingLR(optimizer, self.trainer.max_epochs * 200, 0)\n",
    "        return [optimizer], [scheduler]\n",
    "\n",
    "    def setup(self, stage=None):\n",
    "        path = \"./PCBData\"\n",
    "        images = glob.glob(path + '/*/*.jpg')\n",
    "        labels = [image.split('/')[-2] for image in images]\n",
    "        unique_labels = list(set(labels))\n",
    "        labels = [unique_labels.index(i) for i in labels]\n",
    "\n",
    "        num_classes = len(unique_labels)\n",
    "\n",
    "        train_transforms = Compose(\n",
    "            [\n",
    "                LoadImage(image_only=True),\n",
    "                EnsureChannelFirst(),\n",
    "                ScaleIntensity(),\n",
    "            ]\n",
    "        )\n",
    "        \n",
    "        y_trans = Compose([AsDiscrete(to_onehot=num_classes)])\n",
    "        \n",
    "        ds = ArrayDataset(images, labels=labels, img_transform=train_transforms, label_transform=y_trans)\n",
    "        n_data = len(ds)\n",
    "        n_train = int(n_data*0.9)\n",
    "        self.train_ds, self.val_ds = random_split(ds, [n_train, n_data-n_train], generator=torch.Generator().manual_seed(42))\n",
    "\n",
    "    def train_dataloader(self):\n",
    "        return DataLoader(self.train_ds, shuffle=True, pin_memory=True, num_workers=2, batch_size=32)\n",
    "        \n",
    "    def val_dataloader(self):\n",
    "        return DataLoader(self.val_ds, shuffle=False, pin_memory=True, num_workers=2, batch_size=32)\n",
    "        "
   ]
  },
  {
   "cell_type": "code",
   "execution_count": 10,
   "id": "07a94fa3-4d7d-48ee-9a5e-826ed8d2f85e",
   "metadata": {},
   "outputs": [],
   "source": [
    "net = DenseNet121(spatial_dims=2, in_channels=3, out_channels=num_classes)\n",
    "lr = 1e-3\n",
    "loss = torch.nn.CrossEntropyLoss()\n",
    "model = MedNISTModel(net, lr, loss)"
   ]
  },
  {
   "cell_type": "code",
   "execution_count": 11,
   "id": "493a61e4-de2d-43c5-a71d-5307f5102160",
   "metadata": {},
   "outputs": [
    {
     "name": "stderr",
     "output_type": "stream",
     "text": [
      "GPU available: True (cuda), used: True\n",
      "TPU available: False, using: 0 TPU cores\n",
      "IPU available: False, using: 0 IPUs\n",
      "HPU available: False, using: 0 HPUs\n",
      "/home/kotech/venv-lightning/lib/python3.8/site-packages/pytorch_lightning/trainer/connectors/logger_connector/logger_connector.py:67: Starting from v1.9.0, `tensorboardX` has been removed as a dependency of the `pytorch_lightning` package, due to potential conflicts with other packages in the ML ecosystem. For this reason, `logger=True` will use `CSVLogger` as the default logger, unless the `tensorboard` or `tensorboardX` packages are found. Please `pip install lightning[extra]` or one of them to enable TensorBoard support by default\n"
     ]
    }
   ],
   "source": [
    "trainer = pl.Trainer(accelerator=\"gpu\",devices=4,strategy=\"ddp_notebook\", max_epochs=5)"
   ]
  },
  {
   "cell_type": "code",
   "execution_count": 12,
   "id": "dda83e45-bbe5-411f-9dd5-7f97fc31ff72",
   "metadata": {},
   "outputs": [
    {
     "name": "stderr",
     "output_type": "stream",
     "text": [
      "Initializing distributed: GLOBAL_RANK: 0, MEMBER: 1/4\n",
      "Initializing distributed: GLOBAL_RANK: 1, MEMBER: 2/4\n",
      "Initializing distributed: GLOBAL_RANK: 2, MEMBER: 3/4\n",
      "Initializing distributed: GLOBAL_RANK: 3, MEMBER: 4/4\n",
      "----------------------------------------------------------------------------------------------------\n",
      "distributed_backend=nccl\n",
      "All distributed processes registered. Starting with 4 processes\n",
      "----------------------------------------------------------------------------------------------------\n",
      "\n",
      "You are using a CUDA device ('NVIDIA GeForce RTX 3090') that has Tensor Cores. To properly utilize them, you should set `torch.set_float32_matmul_precision('medium' | 'high')` which will trade-off precision for performance. For more details, read https://pytorch.org/docs/stable/generated/torch.set_float32_matmul_precision.html#torch.set_float32_matmul_precision\n",
      "LOCAL_RANK: 3 - CUDA_VISIBLE_DEVICES: [0,1,2,3]\n",
      "LOCAL_RANK: 2 - CUDA_VISIBLE_DEVICES: [0,1,2,3]\n",
      "LOCAL_RANK: 1 - CUDA_VISIBLE_DEVICES: [0,1,2,3]\n",
      "LOCAL_RANK: 0 - CUDA_VISIBLE_DEVICES: [0,1,2,3]\n",
      "\n",
      "  | Name | Type             | Params\n",
      "------------------------------------------\n",
      "0 | net  | DenseNet121      | 7.0 M \n",
      "1 | loss | CrossEntropyLoss | 0     \n",
      "------------------------------------------\n",
      "7.0 M     Trainable params\n",
      "0         Non-trainable params\n",
      "7.0 M     Total params\n",
      "27.824    Total estimated model params size (MB)\n"
     ]
    },
    {
     "data": {
      "application/vnd.jupyter.widget-view+json": {
       "model_id": "",
       "version_major": 2,
       "version_minor": 0
      },
      "text/plain": [
       "Sanity Checking: |                                                                          | 0/? [00:00<?, ?i…"
      ]
     },
     "metadata": {},
     "output_type": "display_data"
    },
    {
     "data": {
      "application/vnd.jupyter.widget-view+json": {
       "model_id": "7eaa3b6b605b4a0588d53dc5d39aef9c",
       "version_major": 2,
       "version_minor": 0
      },
      "text/plain": [
       "Training: |                                                                                 | 0/? [00:00<?, ?i…"
      ]
     },
     "metadata": {},
     "output_type": "display_data"
    },
    {
     "data": {
      "application/vnd.jupyter.widget-view+json": {
       "model_id": "",
       "version_major": 2,
       "version_minor": 0
      },
      "text/plain": [
       "Validation: |                                                                               | 0/? [00:00<?, ?i…"
      ]
     },
     "metadata": {},
     "output_type": "display_data"
    },
    {
     "data": {
      "application/vnd.jupyter.widget-view+json": {
       "model_id": "",
       "version_major": 2,
       "version_minor": 0
      },
      "text/plain": [
       "Validation: |                                                                               | 0/? [00:00<?, ?i…"
      ]
     },
     "metadata": {},
     "output_type": "display_data"
    },
    {
     "data": {
      "application/vnd.jupyter.widget-view+json": {
       "model_id": "",
       "version_major": 2,
       "version_minor": 0
      },
      "text/plain": [
       "Validation: |                                                                               | 0/? [00:00<?, ?i…"
      ]
     },
     "metadata": {},
     "output_type": "display_data"
    },
    {
     "data": {
      "application/vnd.jupyter.widget-view+json": {
       "model_id": "",
       "version_major": 2,
       "version_minor": 0
      },
      "text/plain": [
       "Validation: |                                                                               | 0/? [00:00<?, ?i…"
      ]
     },
     "metadata": {},
     "output_type": "display_data"
    },
    {
     "data": {
      "application/vnd.jupyter.widget-view+json": {
       "model_id": "",
       "version_major": 2,
       "version_minor": 0
      },
      "text/plain": [
       "Validation: |                                                                               | 0/? [00:00<?, ?i…"
      ]
     },
     "metadata": {},
     "output_type": "display_data"
    },
    {
     "name": "stderr",
     "output_type": "stream",
     "text": [
      "`Trainer.fit` stopped: `max_epochs=5` reached.\n"
     ]
    }
   ],
   "source": [
    "#trainer.fit(model, train_dl, val_dl)\n",
    "trainer.fit(model)"
   ]
  },
  {
   "cell_type": "code",
   "execution_count": null,
   "id": "3d0d6a5b-fe99-4b7b-bcec-b185b23a6e81",
   "metadata": {},
   "outputs": [],
   "source": []
  }
 ],
 "metadata": {
  "kernelspec": {
   "display_name": "Python 3 (ipykernel)",
   "language": "python",
   "name": "python3"
  },
  "language_info": {
   "codemirror_mode": {
    "name": "ipython",
    "version": 3
   },
   "file_extension": ".py",
   "mimetype": "text/x-python",
   "name": "python",
   "nbconvert_exporter": "python",
   "pygments_lexer": "ipython3",
   "version": "3.8.13"
  }
 },
 "nbformat": 4,
 "nbformat_minor": 5
}
