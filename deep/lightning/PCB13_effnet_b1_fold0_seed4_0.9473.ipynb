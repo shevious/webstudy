{
 "cells": [
  {
   "cell_type": "markdown",
   "id": "e431cfa5-6733-497d-8326-2fcd0bdb48ba",
   "metadata": {},
   "source": [
    "## ResNet50"
   ]
  },
  {
   "cell_type": "code",
   "execution_count": 1,
   "id": "1decb007-b695-4889-a046-d75321f1e100",
   "metadata": {},
   "outputs": [],
   "source": [
    "import os\n",
    "import torch\n",
    "import torchvision\n",
    "from torch import nn\n",
    "from torch.nn import functional as F\n",
    "from torch.utils.data import DataLoader, Dataset\n",
    "from torchvision import transforms\n",
    "from pytorch_lightning import LightningModule, Trainer\n",
    "from pytorch_lightning.loggers import CSVLogger\n",
    "from pytorch_lightning.callbacks import LearningRateMonitor, ModelCheckpoint\n",
    "from pytorch_lightning import seed_everything\n",
    "from PIL import Image\n",
    "from torchmetrics.functional import accuracy\n",
    "from pytorch_lightning.callbacks.progress import TQDMProgressBar\n",
    "import pandas as pd\n",
    "import seaborn as sn\n",
    "from torch.optim.lr_scheduler import OneCycleLR, CosineAnnealingLR\n",
    "import glob\n",
    "import timm\n",
    "import timm.optim\n",
    "import numpy as np\n",
    "from timm.scheduler import CosineLRScheduler"
   ]
  },
  {
   "cell_type": "code",
   "execution_count": 2,
   "id": "3517f348-1025-4205-aa65-95a2783254ec",
   "metadata": {
    "scrolled": true
   },
   "outputs": [
    {
     "name": "stderr",
     "output_type": "stream",
     "text": [
      "Seed set to 7\n",
      "GPU available: True (cuda), used: True\n",
      "TPU available: False, using: 0 TPU cores\n",
      "IPU available: False, using: 0 IPUs\n",
      "HPU available: False, using: 0 HPUs\n",
      "[rank: 0] Seed set to 7\n",
      "[rank: 1] Seed set to 7\n",
      "Initializing distributed: GLOBAL_RANK: 0, MEMBER: 1/4\n",
      "Initializing distributed: GLOBAL_RANK: 1, MEMBER: 2/4\n",
      "[rank: 2] Seed set to 7\n",
      "[rank: 3] Seed set to 7\n",
      "Initializing distributed: GLOBAL_RANK: 2, MEMBER: 3/4\n",
      "Initializing distributed: GLOBAL_RANK: 3, MEMBER: 4/4\n",
      "----------------------------------------------------------------------------------------------------\n",
      "distributed_backend=nccl\n",
      "All distributed processes registered. Starting with 4 processes\n",
      "----------------------------------------------------------------------------------------------------\n",
      "\n",
      "You are using a CUDA device ('NVIDIA GeForce RTX 3090') that has Tensor Cores. To properly utilize them, you should set `torch.set_float32_matmul_precision('medium' | 'high')` which will trade-off precision for performance. For more details, read https://pytorch.org/docs/stable/generated/torch.set_float32_matmul_precision.html#torch.set_float32_matmul_precision\n",
      "/home/kotech/venv-lightning/lib/python3.8/site-packages/pytorch_lightning/callbacks/model_checkpoint.py:639: Checkpoint directory ./ckpt exists and is not empty.\n",
      "LOCAL_RANK: 0 - CUDA_VISIBLE_DEVICES: [0,1,2,3]\n",
      "LOCAL_RANK: 1 - CUDA_VISIBLE_DEVICES: [0,1,2,3]\n",
      "LOCAL_RANK: 2 - CUDA_VISIBLE_DEVICES: [0,1,2,3]\n",
      "LOCAL_RANK: 3 - CUDA_VISIBLE_DEVICES: [0,1,2,3]\n",
      "\n",
      "  | Name  | Type         | Params\n",
      "---------------------------------------\n",
      "0 | model | EfficientNet | 6.5 M \n",
      "---------------------------------------\n",
      "6.5 M     Trainable params\n",
      "0         Non-trainable params\n",
      "6.5 M     Total params\n",
      "26.063    Total estimated model params size (MB)\n"
     ]
    },
    {
     "data": {
      "application/vnd.jupyter.widget-view+json": {
       "model_id": "",
       "version_major": 2,
       "version_minor": 0
      },
      "text/plain": [
       "Sanity Checking: |                                                                                            …"
      ]
     },
     "metadata": {},
     "output_type": "display_data"
    },
    {
     "data": {
      "application/vnd.jupyter.widget-view+json": {
       "model_id": "bb428bb731934be0861f930a27906bc6",
       "version_major": 2,
       "version_minor": 0
      },
      "text/plain": [
       "Training: |                                                                                                   …"
      ]
     },
     "metadata": {},
     "output_type": "display_data"
    },
    {
     "data": {
      "application/vnd.jupyter.widget-view+json": {
       "model_id": "",
       "version_major": 2,
       "version_minor": 0
      },
      "text/plain": [
       "Validation: |                                                                                                 …"
      ]
     },
     "metadata": {},
     "output_type": "display_data"
    },
    {
     "name": "stderr",
     "output_type": "stream",
     "text": [
      "Epoch 0, global step 59: 'val_acc' reached 0.74034 (best 0.74034), saving model to './ckpt/epoch=0-step=59-v1.ckpt' as top 1\n"
     ]
    },
    {
     "data": {
      "application/vnd.jupyter.widget-view+json": {
       "model_id": "",
       "version_major": 2,
       "version_minor": 0
      },
      "text/plain": [
       "Validation: |                                                                                                 …"
      ]
     },
     "metadata": {},
     "output_type": "display_data"
    },
    {
     "name": "stderr",
     "output_type": "stream",
     "text": [
      "Epoch 1, global step 118: 'val_acc' reached 0.88197 (best 0.88197), saving model to './ckpt/epoch=1-step=118-v3.ckpt' as top 1\n"
     ]
    },
    {
     "data": {
      "application/vnd.jupyter.widget-view+json": {
       "model_id": "",
       "version_major": 2,
       "version_minor": 0
      },
      "text/plain": [
       "Validation: |                                                                                                 …"
      ]
     },
     "metadata": {},
     "output_type": "display_data"
    },
    {
     "name": "stderr",
     "output_type": "stream",
     "text": [
      "Epoch 2, global step 177: 'val_acc' reached 0.92918 (best 0.92918), saving model to './ckpt/epoch=2-step=177-v2.ckpt' as top 1\n"
     ]
    },
    {
     "data": {
      "application/vnd.jupyter.widget-view+json": {
       "model_id": "",
       "version_major": 2,
       "version_minor": 0
      },
      "text/plain": [
       "Validation: |                                                                                                 …"
      ]
     },
     "metadata": {},
     "output_type": "display_data"
    },
    {
     "name": "stderr",
     "output_type": "stream",
     "text": [
      "Epoch 3, global step 236: 'val_acc' was not in top 1\n"
     ]
    },
    {
     "data": {
      "application/vnd.jupyter.widget-view+json": {
       "model_id": "",
       "version_major": 2,
       "version_minor": 0
      },
      "text/plain": [
       "Validation: |                                                                                                 …"
      ]
     },
     "metadata": {},
     "output_type": "display_data"
    },
    {
     "name": "stderr",
     "output_type": "stream",
     "text": [
      "Epoch 4, global step 295: 'val_acc' reached 0.93133 (best 0.93133), saving model to './ckpt/epoch=4-step=295-v3.ckpt' as top 1\n"
     ]
    },
    {
     "data": {
      "application/vnd.jupyter.widget-view+json": {
       "model_id": "",
       "version_major": 2,
       "version_minor": 0
      },
      "text/plain": [
       "Validation: |                                                                                                 …"
      ]
     },
     "metadata": {},
     "output_type": "display_data"
    },
    {
     "name": "stderr",
     "output_type": "stream",
     "text": [
      "Epoch 5, global step 354: 'val_acc' was not in top 1\n"
     ]
    },
    {
     "data": {
      "application/vnd.jupyter.widget-view+json": {
       "model_id": "",
       "version_major": 2,
       "version_minor": 0
      },
      "text/plain": [
       "Validation: |                                                                                                 …"
      ]
     },
     "metadata": {},
     "output_type": "display_data"
    },
    {
     "name": "stderr",
     "output_type": "stream",
     "text": [
      "Epoch 6, global step 413: 'val_acc' was not in top 1\n"
     ]
    },
    {
     "data": {
      "application/vnd.jupyter.widget-view+json": {
       "model_id": "",
       "version_major": 2,
       "version_minor": 0
      },
      "text/plain": [
       "Validation: |                                                                                                 …"
      ]
     },
     "metadata": {},
     "output_type": "display_data"
    },
    {
     "name": "stderr",
     "output_type": "stream",
     "text": [
      "Epoch 7, global step 472: 'val_acc' was not in top 1\n"
     ]
    },
    {
     "data": {
      "application/vnd.jupyter.widget-view+json": {
       "model_id": "",
       "version_major": 2,
       "version_minor": 0
      },
      "text/plain": [
       "Validation: |                                                                                                 …"
      ]
     },
     "metadata": {},
     "output_type": "display_data"
    },
    {
     "name": "stderr",
     "output_type": "stream",
     "text": [
      "Epoch 8, global step 531: 'val_acc' reached 0.93240 (best 0.93240), saving model to './ckpt/epoch=8-step=531.ckpt' as top 1\n"
     ]
    },
    {
     "data": {
      "application/vnd.jupyter.widget-view+json": {
       "model_id": "",
       "version_major": 2,
       "version_minor": 0
      },
      "text/plain": [
       "Validation: |                                                                                                 …"
      ]
     },
     "metadata": {},
     "output_type": "display_data"
    },
    {
     "name": "stderr",
     "output_type": "stream",
     "text": [
      "Epoch 9, global step 590: 'val_acc' reached 0.93670 (best 0.93670), saving model to './ckpt/epoch=9-step=590-v2.ckpt' as top 1\n"
     ]
    },
    {
     "data": {
      "application/vnd.jupyter.widget-view+json": {
       "model_id": "",
       "version_major": 2,
       "version_minor": 0
      },
      "text/plain": [
       "Validation: |                                                                                                 …"
      ]
     },
     "metadata": {},
     "output_type": "display_data"
    },
    {
     "name": "stderr",
     "output_type": "stream",
     "text": [
      "Epoch 10, global step 649: 'val_acc' was not in top 1\n"
     ]
    },
    {
     "data": {
      "application/vnd.jupyter.widget-view+json": {
       "model_id": "",
       "version_major": 2,
       "version_minor": 0
      },
      "text/plain": [
       "Validation: |                                                                                                 …"
      ]
     },
     "metadata": {},
     "output_type": "display_data"
    },
    {
     "name": "stderr",
     "output_type": "stream",
     "text": [
      "Epoch 11, global step 708: 'val_acc' was not in top 1\n"
     ]
    },
    {
     "data": {
      "application/vnd.jupyter.widget-view+json": {
       "model_id": "",
       "version_major": 2,
       "version_minor": 0
      },
      "text/plain": [
       "Validation: |                                                                                                 …"
      ]
     },
     "metadata": {},
     "output_type": "display_data"
    },
    {
     "name": "stderr",
     "output_type": "stream",
     "text": [
      "Epoch 12, global step 767: 'val_acc' was not in top 1\n"
     ]
    },
    {
     "data": {
      "application/vnd.jupyter.widget-view+json": {
       "model_id": "",
       "version_major": 2,
       "version_minor": 0
      },
      "text/plain": [
       "Validation: |                                                                                                 …"
      ]
     },
     "metadata": {},
     "output_type": "display_data"
    },
    {
     "name": "stderr",
     "output_type": "stream",
     "text": [
      "Epoch 13, global step 826: 'val_acc' was not in top 1\n"
     ]
    },
    {
     "data": {
      "application/vnd.jupyter.widget-view+json": {
       "model_id": "",
       "version_major": 2,
       "version_minor": 0
      },
      "text/plain": [
       "Validation: |                                                                                                 …"
      ]
     },
     "metadata": {},
     "output_type": "display_data"
    },
    {
     "name": "stderr",
     "output_type": "stream",
     "text": [
      "Epoch 14, global step 885: 'val_acc' was not in top 1\n"
     ]
    },
    {
     "data": {
      "application/vnd.jupyter.widget-view+json": {
       "model_id": "",
       "version_major": 2,
       "version_minor": 0
      },
      "text/plain": [
       "Validation: |                                                                                                 …"
      ]
     },
     "metadata": {},
     "output_type": "display_data"
    },
    {
     "name": "stderr",
     "output_type": "stream",
     "text": [
      "Epoch 15, global step 944: 'val_acc' reached 0.94099 (best 0.94099), saving model to './ckpt/epoch=15-step=944-v2.ckpt' as top 1\n"
     ]
    },
    {
     "data": {
      "application/vnd.jupyter.widget-view+json": {
       "model_id": "",
       "version_major": 2,
       "version_minor": 0
      },
      "text/plain": [
       "Validation: |                                                                                                 …"
      ]
     },
     "metadata": {},
     "output_type": "display_data"
    },
    {
     "name": "stderr",
     "output_type": "stream",
     "text": [
      "Epoch 16, global step 1003: 'val_acc' was not in top 1\n"
     ]
    },
    {
     "data": {
      "application/vnd.jupyter.widget-view+json": {
       "model_id": "",
       "version_major": 2,
       "version_minor": 0
      },
      "text/plain": [
       "Validation: |                                                                                                 …"
      ]
     },
     "metadata": {},
     "output_type": "display_data"
    },
    {
     "name": "stderr",
     "output_type": "stream",
     "text": [
      "Epoch 17, global step 1062: 'val_acc' was not in top 1\n"
     ]
    },
    {
     "data": {
      "application/vnd.jupyter.widget-view+json": {
       "model_id": "",
       "version_major": 2,
       "version_minor": 0
      },
      "text/plain": [
       "Validation: |                                                                                                 …"
      ]
     },
     "metadata": {},
     "output_type": "display_data"
    },
    {
     "name": "stderr",
     "output_type": "stream",
     "text": [
      "Epoch 18, global step 1121: 'val_acc' was not in top 1\n"
     ]
    },
    {
     "data": {
      "application/vnd.jupyter.widget-view+json": {
       "model_id": "",
       "version_major": 2,
       "version_minor": 0
      },
      "text/plain": [
       "Validation: |                                                                                                 …"
      ]
     },
     "metadata": {},
     "output_type": "display_data"
    },
    {
     "name": "stderr",
     "output_type": "stream",
     "text": [
      "Epoch 19, global step 1180: 'val_acc' was not in top 1\n",
      "`Trainer.fit` stopped: `max_epochs=20` reached.\n"
     ]
    }
   ],
   "source": [
    "# PCBData 데이터셋 클래스를 정의합니다.\n",
    "class PCBData(Dataset):\n",
    "    def __init__(self, root_dir, transform=None, stage='train', fold=0):\n",
    "        self.root_dir = root_dir\n",
    "        self.transform = transform\n",
    "        ng_files = sorted(glob.glob(os.path.join(root_dir, 'TRUE/**/*.bmp'), recursive=True))\n",
    "        ok_files = sorted(glob.glob(os.path.join(root_dir, 'FALSE/**/*.bmp'), recursive=True))\n",
    "        # NG와 OK 파일들에 대해 라벨 할당\n",
    "        ng_files = [(file, 0) for file in ng_files]\n",
    "        ok_files = [(file, 1) for file in ok_files]\n",
    "        \n",
    "        np.random.seed(43)\n",
    "        ng_files = np.random.permutation(ng_files)\n",
    "        ok_files = np.random.permutation(ok_files)\n",
    "        ng_files = [(s, int(i)) for s,i in ng_files]\n",
    "        ok_files = [(s, int(i)) for s,i in ok_files]\n",
    "\n",
    "        def fold_list(files, fold=0):\n",
    "            fold_no = 5\n",
    "            fold_split = len(files)//fold_no*fold\n",
    "            return files[fold_split:]+files[:fold_split]\n",
    "\n",
    "        ng_files, ok_files = fold_list(ng_files, fold), fold_list(ok_files, fold)\n",
    "        \n",
    "        # NG와 OK 각각을 8:1:1로 나누기 위한 인덱스 계산\n",
    "        def split_indices(files):\n",
    "            n = len(files)\n",
    "            return int(n*0.8), int(n*0.9)\n",
    "\n",
    "        ng_split, ok_split = split_indices(ng_files), split_indices(ok_files)\n",
    "        \n",
    "        # 데이터셋 나누기\n",
    "        train_files = ng_files[:ng_split[0]] + ok_files[:ok_split[0]]\n",
    "        val_files = ng_files[ng_split[0]:ng_split[1]] + ok_files[ok_split[0]:ok_split[1]]\n",
    "        test_files = ng_files[ng_split[1]:] + ok_files[ok_split[1]:]\n",
    "\n",
    "        if stage == 'train':\n",
    "            self.files = train_files\n",
    "        elif stage == 'val':\n",
    "            self.files = val_files\n",
    "        else:\n",
    "            self.files = test_files\n",
    "\n",
    "    def __len__(self):\n",
    "        return len(self.files)\n",
    "\n",
    "    def __getitem__(self, idx):\n",
    "        img_path, label = self.files[idx]\n",
    "        image = Image.open(img_path).convert(\"RGB\")\n",
    "        if self.transform:\n",
    "            image = self.transform(image)\n",
    "        return image, label\n",
    "\n",
    "    def image_file(self, idx):\n",
    "        return self.files[idx]\n",
    "\n",
    "# LitResnet 클래스를 정의\n",
    "class LitResnet(LightningModule):\n",
    "    def __init__(self, lr=0.05):\n",
    "        super().__init__()\n",
    "        self.save_hyperparameters()\n",
    "        # ResNet18 대신 ResNet50 사용\n",
    "        #self.model = torchvision.models.resnet50(pretrained=False, num_classes=2)\n",
    "        #self.lr = lr\n",
    "        #self.model = timm.create_model('resnet50d', pretrained=True, num_classes=2)\n",
    "        #self.model = timm.create_model('eva02_small_patch14_336', pretrained=True, num_classes=2)\n",
    "        #self.model = timm.create_model('efficientnet_b0', pretrained=True, num_classes=2, drop_path_rate=0.1)\n",
    "        #self.model = torchvision.models.resnet50(weights=torchvision.models.ResNet50_Weights.DEFAULT)\n",
    "        #self.model.fc = torch.nn.Linear(in_features=2048, out_features=2)\n",
    "        #self.model = torchvision.models.efficientnet_b4(weights=torchvision.models.EfficientNet_B4_Weights.DEFAULT)\n",
    "        #num_ftrs = self.model.classifier[1].in_features\n",
    "        #self.model.classifier[1] = torch.nn.Linear(num_ftrs, 2)\n",
    "        #self.model = timm.create_model('efficientnet_b4', pretrained=True, num_classes=2, drop_path_rate=0.3)\n",
    "        #self.model = timm.create_model('vit_large_patch14_clip_336.openai_ft_in12k_in1k', pretrained=True, num_classes=2, drop_path_rate=0.05)\n",
    "        #self.model = timm.create_model('vit_base_patch16_clip_384.laion2b_ft_in12k_in1k', pretrained=True, num_classes=2, drop_path_rate=0.05)\n",
    "        self.model = torchvision.models.efficientnet_b1(weights=torchvision.models.EfficientNet_B1_Weights.DEFAULT)\n",
    "        num_ftrs = self.model.classifier[1].in_features\n",
    "        self.model.classifier[1] = torch.nn.Linear(num_ftrs, 2)\n",
    "\n",
    "    def forward(self, x):\n",
    "        return F.log_softmax(self.model(x), dim=1)\n",
    "\n",
    "    def training_step(self, batch, batch_idx):\n",
    "        x, y = batch\n",
    "        logits = self(x)\n",
    "        loss = F.nll_loss(logits, y)\n",
    "        self.log(\"train_loss\", loss, prog_bar=True)\n",
    "        self.log(\"lr\", self.myoptimizer.param_groups[0]['lr'], prog_bar=True)\n",
    "        return loss\n",
    "\n",
    "    def configure_optimizers(self):\n",
    "        #print('lr =', self.hparams.lr)\n",
    "        #optimizer = torch.optim.SGD(\n",
    "        #optimizer = torch.optim.Adam(\n",
    "        #    self.parameters(),\n",
    "        #    lr=self.hparams.lr,\n",
    "        #    #momentum=0.9,\n",
    "        #    #weight_decay=5e-4,\n",
    "        #)\n",
    "        optimizer = timm.optim.create_optimizer_v2(\n",
    "            self, opt=\"lookahead_AdamW\", lr=self.hparams.lr, weight_decay=0.01\n",
    "        )\n",
    "        self.myoptimizer = optimizer\n",
    "        \n",
    "        #steps_per_epoch = 45000 // BATCH_SIZE\n",
    "        #steps_per_epoch = 10206 // BATCH_SIZE + 1\n",
    "        #steps_per_epoch = 3000 // BATCH_SIZE\n",
    "\n",
    "        scheduler_dict = {\n",
    "            #\"scheduler\": OneCycleLR(\n",
    "            #    optimizer,\n",
    "            #    0.002,\n",
    "            #    epochs=self.trainer.max_epochs,\n",
    "            #    steps_per_epoch=steps_per_epoch,\n",
    "            #    #steps_per_epoch=1, ## LR\n",
    "            #),\n",
    "            \"scheduler\": CosineAnnealingLR(\n",
    "                optimizer,\n",
    "                T_max=self.trainer.max_epochs,\n",
    "                eta_min=1e-6\n",
    "            ),\n",
    "            \"interval\": \"epoch\",\n",
    "        }\n",
    "        return {\"optimizer\": optimizer, \"lr_scheduler\": scheduler_dict}\n",
    "        #return {\"optimizer\": optimizer}\n",
    "\n",
    "    # Learning rate warm-up\n",
    "    def optimizer_step(self, epoch, batch_idx, optimizer, optimizer_closure):\n",
    "        # update params\n",
    "        optimizer.step(closure=optimizer_closure)\n",
    "    \n",
    "        # manually warm up lr without a scheduler\n",
    "        warm_up_t = 3\n",
    "        lr_warmup_min = 1e-5\n",
    "        step = self.trainer.current_epoch\n",
    "        if step < warm_up_t:\n",
    "            lr_scale = min(1.0, float(step + 1) / float(warm_up_t))\n",
    "            for pg in optimizer.param_groups:\n",
    "                pg[\"lr\"] = max(lr_warmup_min, lr_scale * self.hparams.lr)\n",
    "\n",
    "    def evaluate(self, batch, stage=None):\n",
    "        x, y = batch\n",
    "        logits = self(x)\n",
    "        loss = F.nll_loss(logits, y)\n",
    "        preds = torch.argmax(logits, dim=1)\n",
    "        acc = accuracy(preds, y, task=\"multiclass\", num_classes=2)\n",
    "        if stage:\n",
    "            self.log(f\"{stage}_loss\", loss, prog_bar=True, sync_dist=True)\n",
    "            self.log(f\"{stage}_acc\", acc, prog_bar=True, sync_dist=True)\n",
    "    \n",
    "    def evaluate_debug(self, batch, stage=None):\n",
    "        x, y = batch\n",
    "        logits = self(x)\n",
    "        loss = F.nll_loss(logits, y)\n",
    "        preds = torch.argmax(logits, dim=1)\n",
    "        acc = accuracy(preds, y, task=\"multiclass\", num_classes=2)\n",
    "        #print('loss =', loss)\n",
    "        if stage:\n",
    "            self.log(f\"{stage}_loss\", loss, prog_bar=True, sync_dist=True)\n",
    "            self.log(f\"{stage}_acc\", acc, prog_bar=True, sync_dist=True)\n",
    "        #print(f\"{stage}_loss\", loss.cpu().numpy(), f\"{stage}_acc\", acc.cpu().numpy())\n",
    "\n",
    "    def test_step(self, batch, batch_idx):\n",
    "        self.evaluate(batch, \"test\")\n",
    "        \n",
    "    def validation_step(self, batch, batch_idx):\n",
    "        self.evaluate_debug(batch, \"val\")\n",
    "        \n",
    "    def setup(self, stage=None):\n",
    "        # 데이터 변환 정의\n",
    "        '''\n",
    "        transform = transforms.Compose([\n",
    "            #transforms.Resize((32, 32)),\n",
    "            transforms.ToTensor(),\n",
    "            #pcb_normalization(),\n",
    "            transforms.Normalize(mean=[0.485, 0.456, 0.406], std=[0.229, 0.224, 0.225]),] )\n",
    "        '''\n",
    "        train_transforms = torchvision.transforms.Compose(\n",
    "            [\n",
    "                #torchvision.transforms.Resize((384,384)),\n",
    "                torchvision.transforms.RandomCrop((384,384)), #Augmentation 포함\n",
    "                #torchvision.transforms.Resize((336,336)),\n",
    "                #torchvision.transforms.Resize((224,224)),\n",
    "                #torchvision.transforms.RandomCrop(32, padding=4), #Augmentation 포함\n",
    "                torchvision.transforms.RandomHorizontalFlip(),\n",
    "                torchvision.transforms.RandomVerticalFlip(),\n",
    "                torchvision.transforms.RandomApply([transforms.RandomRotation(90)], p=0.5),\n",
    "                torchvision.transforms.ToTensor(),\n",
    "                transforms.Normalize(mean=[0.485, 0.456, 0.406], std=[0.229, 0.224, 0.225]),\n",
    "            ]\n",
    "        )\n",
    "        val_transforms = torchvision.transforms.Compose(\n",
    "            [\n",
    "                #torchvision.transforms.Resize((384,384)),\n",
    "                torchvision.transforms.CenterCrop((384,384)), #Augmentation 포함\n",
    "                #torchvision.transforms.Resize((336,336)),\n",
    "                #torchvision.transforms.Resize((224,224)),\n",
    "                torchvision.transforms.ToTensor(),\n",
    "                transforms.Normalize(mean=[0.485, 0.456, 0.406], std=[0.229, 0.224, 0.225]),\n",
    "            ]\n",
    "        )\n",
    "    \n",
    "        # 데이터셋 로드\n",
    "        self.train_dataset = PCBData(root_dir='pcb_test', transform=train_transforms, stage='train', fold=FOLD)\n",
    "        self.val_dataset = PCBData(root_dir='pcb_test', transform=val_transforms, stage='val', fold=FOLD)\n",
    "        self.test_dataset = PCBData(root_dir='pcb_test', transform=val_transforms, stage='test', fold=FOLD)\n",
    "        \n",
    "        ##self.train_dataset, self.val_dataset, self.test_dataset = torch.utils.data.random_split(full_dataset, [train_size, val_size, test_size])\n",
    "        #print(train_size, val_size, test_size)\n",
    "\n",
    "    def train_dataloader(self):\n",
    "        return DataLoader(self.train_dataset, batch_size=BATCH_SIZE, shuffle=True, num_workers=NUM_WORKERS)\n",
    "\n",
    "    def val_dataloader(self):\n",
    "        return DataLoader(self.val_dataset, batch_size=BATCH_SIZE, shuffle=False, num_workers=NUM_WORKERS)\n",
    "\n",
    "    def test_dataloader(self):\n",
    "        return DataLoader(self.test_dataset, batch_size=BATCH_SIZE, shuffle=False, num_workers=NUM_WORKERS)\n",
    "\n",
    "# 설정\n",
    "seed_everything(7)\n",
    "#BATCH_SIZE = 256 if torch.cuda.is_available() else 64\n",
    "BATCH_SIZE = 32 if torch.cuda.is_available() else 64\n",
    "#BATCH_SIZE = 32 if torch.cuda.is_available() else 64\n",
    "\n",
    "#NUM_WORKERS = int(os.cpu_count() / 2)\n",
    "NUM_WORKERS = 4\n",
    "FOLD = 0\n",
    "\n",
    "model = LitResnet(lr=0.00050)\n",
    "\n",
    "checkpoint_callback = ModelCheckpoint(monitor='val_acc', dirpath='./ckpt', mode='max', verbose=True)\n",
    "\n",
    "# ResNet 모델에 대한 Trainer 설정\n",
    "trainer = Trainer(\n",
    "    max_epochs=20,\n",
    "    accelerator=\"auto\",\n",
    "    devices=4 if torch.cuda.is_available() else None,\n",
    "    logger=CSVLogger(save_dir=\"./\"),  # ResNet 모델 로그를 저장할 폴더 지정\n",
    "    callbacks=[LearningRateMonitor(logging_interval=\"step\"), TQDMProgressBar(refresh_rate=1), checkpoint_callback],\n",
    "    log_every_n_steps=10,\n",
    ")\n",
    "# 데이터셋 준비\n",
    "#model.setup()\n",
    "# 훈련을 시작합니다.\n",
    "log_dir = trainer.logger.log_dir\n",
    "trainer.fit(model)\n",
    "# 테스트를 진행합니다.\n",
    "#trainer.test(model)"
   ]
  },
  {
   "cell_type": "code",
   "execution_count": 3,
   "id": "7c8fc4f0-f639-4cda-bfd4-f10f69e13e16",
   "metadata": {},
   "outputs": [
    {
     "data": {
      "text/plain": [
       "('./lightning_logs/version_111', './lightning_logs/version_111')"
      ]
     },
     "execution_count": 3,
     "metadata": {},
     "output_type": "execute_result"
    }
   ],
   "source": [
    "trainer.logger.log_dir, log_dir"
   ]
  },
  {
   "cell_type": "code",
   "execution_count": 4,
   "id": "08ccf090-0290-4a5b-9f36-d9a6648d213c",
   "metadata": {},
   "outputs": [
    {
     "data": {
      "text/plain": [
       "'./ckpt/epoch=15-step=944-v2.ckpt'"
      ]
     },
     "execution_count": 4,
     "metadata": {},
     "output_type": "execute_result"
    }
   ],
   "source": [
    "ckpt_path =checkpoint_callback.best_model_path \n",
    "ckpt_path"
   ]
  },
  {
   "cell_type": "code",
   "execution_count": 5,
   "id": "512a02be-d63f-4356-a625-b0985f12f2b2",
   "metadata": {},
   "outputs": [
    {
     "data": {
      "text/html": [
       "<div>\n",
       "<style scoped>\n",
       "    .dataframe tbody tr th:only-of-type {\n",
       "        vertical-align: middle;\n",
       "    }\n",
       "\n",
       "    .dataframe tbody tr th {\n",
       "        vertical-align: top;\n",
       "    }\n",
       "\n",
       "    .dataframe thead th {\n",
       "        text-align: right;\n",
       "    }\n",
       "</style>\n",
       "<table border=\"1\" class=\"dataframe\">\n",
       "  <thead>\n",
       "    <tr style=\"text-align: right;\">\n",
       "      <th></th>\n",
       "      <th>lr-Lookahead/pg1</th>\n",
       "      <th>lr</th>\n",
       "      <th>lr-Lookahead/pg2</th>\n",
       "      <th>train_loss</th>\n",
       "      <th>val_loss</th>\n",
       "      <th>val_acc</th>\n",
       "    </tr>\n",
       "    <tr>\n",
       "      <th>epoch</th>\n",
       "      <th></th>\n",
       "      <th></th>\n",
       "      <th></th>\n",
       "      <th></th>\n",
       "      <th></th>\n",
       "      <th></th>\n",
       "    </tr>\n",
       "  </thead>\n",
       "  <tbody>\n",
       "    <tr>\n",
       "      <th>NaN</th>\n",
       "      <td>0.000167</td>\n",
       "      <td>NaN</td>\n",
       "      <td>0.000167</td>\n",
       "      <td>NaN</td>\n",
       "      <td>NaN</td>\n",
       "      <td>NaN</td>\n",
       "    </tr>\n",
       "    <tr>\n",
       "      <th>0.0</th>\n",
       "      <td>NaN</td>\n",
       "      <td>0.000167</td>\n",
       "      <td>NaN</td>\n",
       "      <td>0.673106</td>\n",
       "      <td>NaN</td>\n",
       "      <td>NaN</td>\n",
       "    </tr>\n",
       "    <tr>\n",
       "      <th>NaN</th>\n",
       "      <td>0.000167</td>\n",
       "      <td>NaN</td>\n",
       "      <td>0.000167</td>\n",
       "      <td>NaN</td>\n",
       "      <td>NaN</td>\n",
       "      <td>NaN</td>\n",
       "    </tr>\n",
       "    <tr>\n",
       "      <th>0.0</th>\n",
       "      <td>NaN</td>\n",
       "      <td>0.000167</td>\n",
       "      <td>NaN</td>\n",
       "      <td>0.647369</td>\n",
       "      <td>NaN</td>\n",
       "      <td>NaN</td>\n",
       "    </tr>\n",
       "    <tr>\n",
       "      <th>NaN</th>\n",
       "      <td>0.000167</td>\n",
       "      <td>NaN</td>\n",
       "      <td>0.000167</td>\n",
       "      <td>NaN</td>\n",
       "      <td>NaN</td>\n",
       "      <td>NaN</td>\n",
       "    </tr>\n",
       "  </tbody>\n",
       "</table>\n",
       "</div>"
      ],
      "text/plain": [
       "       lr-Lookahead/pg1        lr  lr-Lookahead/pg2  train_loss  val_loss  \\\n",
       "epoch                                                                       \n",
       "NaN            0.000167       NaN          0.000167         NaN       NaN   \n",
       "0.0                 NaN  0.000167               NaN    0.673106       NaN   \n",
       "NaN            0.000167       NaN          0.000167         NaN       NaN   \n",
       "0.0                 NaN  0.000167               NaN    0.647369       NaN   \n",
       "NaN            0.000167       NaN          0.000167         NaN       NaN   \n",
       "\n",
       "       val_acc  \n",
       "epoch           \n",
       "NaN        NaN  \n",
       "0.0        NaN  \n",
       "NaN        NaN  \n",
       "0.0        NaN  \n",
       "NaN        NaN  "
      ]
     },
     "metadata": {},
     "output_type": "display_data"
    },
    {
     "data": {
      "text/plain": [
       "<seaborn.axisgrid.FacetGrid at 0x7f9da52bc190>"
      ]
     },
     "execution_count": 5,
     "metadata": {},
     "output_type": "execute_result"
    },
    {
     "data": {
      "image/png": "[encoded data removed]",
      "text/plain": [
       "<Figure size 670.625x500 with 1 Axes>"
      ]
     },
     "metadata": {},
     "output_type": "display_data"
    }
   ],
   "source": [
    "metrics = pd.read_csv(f\"{trainer.logger.log_dir}/metrics.csv\")\n",
    "del metrics[\"step\"]\n",
    "metrics.set_index(\"epoch\", inplace=True)\n",
    "display(metrics.dropna(axis=1, how=\"all\").head())\n",
    "sn.relplot(data=metrics, kind=\"line\")"
   ]
  },
  {
   "cell_type": "code",
   "execution_count": 6,
   "id": "de34600d-a53a-4453-9faa-bb99892df82f",
   "metadata": {},
   "outputs": [
    {
     "data": {
      "text/html": [
       "<div>\n",
       "<style scoped>\n",
       "    .dataframe tbody tr th:only-of-type {\n",
       "        vertical-align: middle;\n",
       "    }\n",
       "\n",
       "    .dataframe tbody tr th {\n",
       "        vertical-align: top;\n",
       "    }\n",
       "\n",
       "    .dataframe thead th {\n",
       "        text-align: right;\n",
       "    }\n",
       "</style>\n",
       "<table border=\"1\" class=\"dataframe\">\n",
       "  <thead>\n",
       "    <tr style=\"text-align: right;\">\n",
       "      <th></th>\n",
       "      <th>lr-Lookahead/pg1</th>\n",
       "      <th>lr</th>\n",
       "      <th>lr-Lookahead/pg2</th>\n",
       "      <th>train_loss</th>\n",
       "      <th>val_loss</th>\n",
       "      <th>val_acc</th>\n",
       "    </tr>\n",
       "    <tr>\n",
       "      <th>epoch</th>\n",
       "      <th></th>\n",
       "      <th></th>\n",
       "      <th></th>\n",
       "      <th></th>\n",
       "      <th></th>\n",
       "      <th></th>\n",
       "    </tr>\n",
       "  </thead>\n",
       "  <tbody>\n",
       "    <tr>\n",
       "      <th>NaN</th>\n",
       "      <td>0.000167</td>\n",
       "      <td>NaN</td>\n",
       "      <td>0.000167</td>\n",
       "      <td>NaN</td>\n",
       "      <td>NaN</td>\n",
       "      <td>NaN</td>\n",
       "    </tr>\n",
       "    <tr>\n",
       "      <th>0.0</th>\n",
       "      <td>NaN</td>\n",
       "      <td>0.000167</td>\n",
       "      <td>NaN</td>\n",
       "      <td>0.673106</td>\n",
       "      <td>NaN</td>\n",
       "      <td>NaN</td>\n",
       "    </tr>\n",
       "    <tr>\n",
       "      <th>NaN</th>\n",
       "      <td>0.000167</td>\n",
       "      <td>NaN</td>\n",
       "      <td>0.000167</td>\n",
       "      <td>NaN</td>\n",
       "      <td>NaN</td>\n",
       "      <td>NaN</td>\n",
       "    </tr>\n",
       "    <tr>\n",
       "      <th>0.0</th>\n",
       "      <td>NaN</td>\n",
       "      <td>0.000167</td>\n",
       "      <td>NaN</td>\n",
       "      <td>0.647369</td>\n",
       "      <td>NaN</td>\n",
       "      <td>NaN</td>\n",
       "    </tr>\n",
       "    <tr>\n",
       "      <th>NaN</th>\n",
       "      <td>0.000167</td>\n",
       "      <td>NaN</td>\n",
       "      <td>0.000167</td>\n",
       "      <td>NaN</td>\n",
       "      <td>NaN</td>\n",
       "      <td>NaN</td>\n",
       "    </tr>\n",
       "  </tbody>\n",
       "</table>\n",
       "</div>"
      ],
      "text/plain": [
       "       lr-Lookahead/pg1        lr  lr-Lookahead/pg2  train_loss  val_loss  \\\n",
       "epoch                                                                       \n",
       "NaN            0.000167       NaN          0.000167         NaN       NaN   \n",
       "0.0                 NaN  0.000167               NaN    0.673106       NaN   \n",
       "NaN            0.000167       NaN          0.000167         NaN       NaN   \n",
       "0.0                 NaN  0.000167               NaN    0.647369       NaN   \n",
       "NaN            0.000167       NaN          0.000167         NaN       NaN   \n",
       "\n",
       "       val_acc  \n",
       "epoch           \n",
       "NaN        NaN  \n",
       "0.0        NaN  \n",
       "NaN        NaN  \n",
       "0.0        NaN  \n",
       "NaN        NaN  "
      ]
     },
     "metadata": {},
     "output_type": "display_data"
    },
    {
     "data": {
      "text/plain": [
       "<seaborn.axisgrid.FacetGrid at 0x7f9da5626df0>"
      ]
     },
     "execution_count": 6,
     "metadata": {},
     "output_type": "execute_result"
    },
    {
     "data": {
      "image/png": "[encoded data removed]",
      "text/plain": [
       "<Figure size 616.125x500 with 1 Axes>"
      ]
     },
     "metadata": {},
     "output_type": "display_data"
    }
   ],
   "source": [
    "metrics = pd.read_csv(f\"{trainer.logger.log_dir}/metrics.csv\")\n",
    "del metrics[\"step\"]\n",
    "metrics.set_index(\"epoch\", inplace=True)\n",
    "display(metrics.dropna(axis=1, how=\"all\").head())\n",
    "sn.relplot(data=metrics[['val_loss', 'train_loss']], kind=\"line\")"
   ]
  },
  {
   "cell_type": "code",
   "execution_count": 7,
   "id": "93a56d6f-d1b6-4e5e-9b38-4d5cf7f3d6d3",
   "metadata": {},
   "outputs": [
    {
     "data": {
      "text/plain": [
       "<seaborn.axisgrid.FacetGrid at 0x7f9da553dee0>"
      ]
     },
     "execution_count": 7,
     "metadata": {},
     "output_type": "execute_result"
    },
    {
     "data": {
      "image/png": "[encoded data removed]",
      "text/plain": [
       "<Figure size 559.625x500 with 1 Axes>"
      ]
     },
     "metadata": {},
     "output_type": "display_data"
    }
   ],
   "source": [
    "import pandas as pd\n",
    "metrics = pd.read_csv(f\"{trainer.logger.log_dir}/metrics.csv\")\n",
    "del metrics[\"step\"]\n",
    "metrics.set_index(\"epoch\", inplace=True)\n",
    "metrics = metrics[::-1]\n",
    "#metrics['lr-Adam'] = metrics['lr-Adam'].fillna(method='ffill')\n",
    "metrics['lr'] = metrics['lr'].fillna(method='ffill')\n",
    "metrics = metrics[::-1]\n",
    "#print(metrics[['lr-Adam']].head(10))\n",
    "#sn.relplot(data=metrics[['lr-Adam']], kind=\"line\") ## Learning Rate Matrix\n",
    "sn.relplot(data=metrics[['lr']], kind=\"line\") ## Learning Rate Matrix"
   ]
  },
  {
   "cell_type": "code",
   "execution_count": 8,
   "id": "af908480-3c3e-4de7-9d24-c8a3cba7a0c2",
   "metadata": {},
   "outputs": [
    {
     "name": "stderr",
     "output_type": "stream",
     "text": [
      "GPU available: True (cuda), used: True\n",
      "TPU available: False, using: 0 TPU cores\n",
      "IPU available: False, using: 0 IPUs\n",
      "HPU available: False, using: 0 HPUs\n",
      "/home/kotech/venv-lightning/lib/python3.8/site-packages/pytorch_lightning/trainer/connectors/logger_connector/logger_connector.py:67: Starting from v1.9.0, `tensorboardX` has been removed as a dependency of the `pytorch_lightning` package, due to potential conflicts with other packages in the ML ecosystem. For this reason, `logger=True` will use `CSVLogger` as the default logger, unless the `tensorboard` or `tensorboardX` packages are found. Please `pip install lightning[extra]` or one of them to enable TensorBoard support by default\n"
     ]
    }
   ],
   "source": [
    "trainer = Trainer(\n",
    "    accelerator=\"auto\",\n",
    "    devices=1 if torch.cuda.is_available() else None,\n",
    ")"
   ]
  },
  {
   "cell_type": "code",
   "execution_count": 9,
   "id": "2e20974c-ea4f-401b-ba9d-212959728eb6",
   "metadata": {},
   "outputs": [
    {
     "name": "stderr",
     "output_type": "stream",
     "text": [
      "You are using a CUDA device ('NVIDIA GeForce RTX 3090') that has Tensor Cores. To properly utilize them, you should set `torch.set_float32_matmul_precision('medium' | 'high')` which will trade-off precision for performance. For more details, read https://pytorch.org/docs/stable/generated/torch.set_float32_matmul_precision.html#torch.set_float32_matmul_precision\n",
      "Restoring states from the checkpoint path at ./ckpt/epoch=15-step=944-v2.ckpt\n",
      "LOCAL_RANK: 0 - CUDA_VISIBLE_DEVICES: [0,1,2,3]\n",
      "Loaded model weights from the checkpoint at ./ckpt/epoch=15-step=944-v2.ckpt\n"
     ]
    },
    {
     "data": {
      "application/vnd.jupyter.widget-view+json": {
       "model_id": "695d96a80f5f43959bb1786a074f2496",
       "version_major": 2,
       "version_minor": 0
      },
      "text/plain": [
       "Testing: |                                                                                                    …"
      ]
     },
     "metadata": {},
     "output_type": "display_data"
    },
    {
     "name": "stdout",
     "output_type": "stream",
     "text": [
      "────────────────────────────────────────────────────────────────────────────────────────────────────────────────────────\n",
      "       Test metric             DataLoader 0\n",
      "────────────────────────────────────────────────────────────────────────────────────────────────────────────────────────\n",
      "        test_acc            0.9472551345825195\n",
      "        test_loss            0.133336141705513\n",
      "────────────────────────────────────────────────────────────────────────────────────────────────────────────────────────\n"
     ]
    },
    {
     "data": {
      "text/plain": [
       "[{'test_loss': 0.133336141705513, 'test_acc': 0.9472551345825195}]"
      ]
     },
     "execution_count": 9,
     "metadata": {},
     "output_type": "execute_result"
    }
   ],
   "source": [
    "trainer.test(model, ckpt_path=ckpt_path)"
   ]
  },
  {
   "cell_type": "code",
   "execution_count": 10,
   "id": "e4e17262-10bf-475a-a559-7c1fca017f73",
   "metadata": {},
   "outputs": [
    {
     "name": "stderr",
     "output_type": "stream",
     "text": [
      "LOCAL_RANK: 0 - CUDA_VISIBLE_DEVICES: [0,1,2,3]\n"
     ]
    },
    {
     "data": {
      "application/vnd.jupyter.widget-view+json": {
       "model_id": "eab042e982494dd29454bf8691483507",
       "version_major": 2,
       "version_minor": 0
      },
      "text/plain": [
       "Validation: |                                                                                                 …"
      ]
     },
     "metadata": {},
     "output_type": "display_data"
    },
    {
     "name": "stdout",
     "output_type": "stream",
     "text": [
      "────────────────────────────────────────────────────────────────────────────────────────────────────────────────────────\n",
      "     Validate metric           DataLoader 0\n",
      "────────────────────────────────────────────────────────────────────────────────────────────────────────────────────────\n",
      "         val_acc            0.9418729543685913\n",
      "        val_loss            0.1710945963859558\n",
      "────────────────────────────────────────────────────────────────────────────────────────────────────────────────────────\n"
     ]
    },
    {
     "data": {
      "text/plain": [
       "[{'val_loss': 0.1710945963859558, 'val_acc': 0.9418729543685913}]"
      ]
     },
     "execution_count": 10,
     "metadata": {},
     "output_type": "execute_result"
    }
   ],
   "source": [
    "trainer.validate(model)"
   ]
  },
  {
   "cell_type": "code",
   "execution_count": 19,
   "id": "d7fc609a-8862-41ad-8608-bfe24c200e76",
   "metadata": {},
   "outputs": [],
   "source": [
    "def eval_dataset():\n",
    "\n",
    "    val_transforms = torchvision.transforms.Compose(\n",
    "        [\n",
    "            torchvision.transforms.Resize((384,384)),\n",
    "            #torchvision.transforms.Resize((224,224)),\n",
    "            #torchvision.transforms.Resize((336,336)),\n",
    "            torchvision.transforms.ToTensor(),\n",
    "            #transforms.Normalize(mean=[0.485, 0.456, 0.406], std=[0.229, 0.224, 0.225]),\n",
    "        ]\n",
    "    )\n",
    "    #full_eval_dataset = PCBData(root_dir='PCB_data', transform=val_transforms)\n",
    "    train_dataset = PCBData(root_dir='pcb_test', transform=val_transforms, stage='train')\n",
    "    val_dataset = PCBData(root_dir='pcb_test', transform=val_transforms, stage='val')\n",
    "    test_dataset = PCBData(root_dir='pcb_test', transform=val_transforms, stage='test')\n",
    "\n",
    "    \n",
    "    train_dataloader = DataLoader(train_dataset, batch_size=BATCH_SIZE, shuffle=False, num_workers=NUM_WORKERS)\n",
    "\n",
    "    val_dataloader = DataLoader(val_dataset, batch_size=BATCH_SIZE//4, shuffle=False, num_workers=NUM_WORKERS)\n",
    "\n",
    "    test_dataloader = DataLoader(test_dataset, batch_size=BATCH_SIZE//4, shuffle=False, num_workers=NUM_WORKERS)\n",
    "    \n",
    "\n",
    "    return train_dataloader, val_dataloader, test_dataloader\n",
    "     \n"
   ]
  },
  {
   "cell_type": "code",
   "execution_count": 20,
   "id": "acab1ce6-8513-4a85-b2a6-8ba8c7fc0997",
   "metadata": {},
   "outputs": [
    {
     "name": "stdout",
     "output_type": "stream",
     "text": [
      "###\n",
      "('pcb_test/TRUE/Pollution/discoloration/2024-04-23-15-15/S069_20240423151544_228.bmp', 0)\n",
      "###\n",
      "('pcb_test/TRUE/Pollution/discoloration/2024-04-23-15-15/S069_20240423151544_228.bmp', 0)\n",
      "###\n",
      "('pcb_test/TRUE/Pollution/discoloration/2024-04-23-15-15/S069_20240423151544_228.bmp', 0)\n"
     ]
    }
   ],
   "source": [
    "eval_train_dataloader, eval_val_dataloader, eval_test_dataloader = eval_dataset()"
   ]
  },
  {
   "cell_type": "code",
   "execution_count": 21,
   "id": "abf79699-8125-4875-9bf0-a10437a1b89f",
   "metadata": {},
   "outputs": [
    {
     "name": "stderr",
     "output_type": "stream",
     "text": [
      "LOCAL_RANK: 0 - CUDA_VISIBLE_DEVICES: [0,1,2,3]\n"
     ]
    },
    {
     "name": "stdout",
     "output_type": "stream",
     "text": [
      "###\n",
      "('pcb_test/TRUE/Pollution/discoloration/2024-04-23-15-15/S069_20240423151544_228.bmp', 0)\n",
      "###\n",
      "('pcb_test/TRUE/Pollution/discoloration/2024-04-23-15-15/S069_20240423151544_228.bmp', 0)\n",
      "###\n",
      "('pcb_test/TRUE/Pollution/discoloration/2024-04-23-15-15/S069_20240423151544_228.bmp', 0)\n"
     ]
    },
    {
     "data": {
      "application/vnd.jupyter.widget-view+json": {
       "model_id": "f9aa3ff0aa054767a5a90d7d218a2ae3",
       "version_major": 2,
       "version_minor": 0
      },
      "text/plain": [
       "Testing: |                                                                                                    …"
      ]
     },
     "metadata": {},
     "output_type": "display_data"
    },
    {
     "name": "stdout",
     "output_type": "stream",
     "text": [
      "────────────────────────────────────────────────────────────────────────────────────────────────────────────────────────\n",
      "       Test metric             DataLoader 0\n",
      "────────────────────────────────────────────────────────────────────────────────────────────────────────────────────────\n",
      "        test_acc            0.9668954610824585\n",
      "        test_loss           0.10232805460691452\n",
      "────────────────────────────────────────────────────────────────────────────────────────────────────────────────────────\n"
     ]
    },
    {
     "data": {
      "text/plain": [
       "[{'test_loss': 0.10232805460691452, 'test_acc': 0.9668954610824585}]"
      ]
     },
     "execution_count": 21,
     "metadata": {},
     "output_type": "execute_result"
    }
   ],
   "source": [
    "trainer.test(model, dataloaders=eval_train_dataloader)"
   ]
  },
  {
   "cell_type": "code",
   "execution_count": 22,
   "id": "d5d57a9a-3eb1-4b8d-a147-87a1d478c4bd",
   "metadata": {},
   "outputs": [
    {
     "name": "stderr",
     "output_type": "stream",
     "text": [
      "LOCAL_RANK: 0 - CUDA_VISIBLE_DEVICES: [0,1,2,3]\n"
     ]
    },
    {
     "name": "stdout",
     "output_type": "stream",
     "text": [
      "###\n",
      "('pcb_test/TRUE/Pollution/discoloration/2024-04-23-15-15/S069_20240423151544_228.bmp', 0)\n",
      "###\n",
      "('pcb_test/TRUE/Pollution/discoloration/2024-04-23-15-15/S069_20240423151544_228.bmp', 0)\n",
      "###\n",
      "('pcb_test/TRUE/Pollution/discoloration/2024-04-23-15-15/S069_20240423151544_228.bmp', 0)\n"
     ]
    },
    {
     "data": {
      "application/vnd.jupyter.widget-view+json": {
       "model_id": "09be9cf227d749dba4a1085db6d53baf",
       "version_major": 2,
       "version_minor": 0
      },
      "text/plain": [
       "Testing: |                                                                                                    …"
      ]
     },
     "metadata": {},
     "output_type": "display_data"
    },
    {
     "name": "stdout",
     "output_type": "stream",
     "text": [
      "────────────────────────────────────────────────────────────────────────────────────────────────────────────────────────\n",
      "       Test metric             DataLoader 0\n",
      "────────────────────────────────────────────────────────────────────────────────────────────────────────────────────────\n",
      "        test_acc            0.9472550749778748\n",
      "        test_loss           0.19312015175819397\n",
      "────────────────────────────────────────────────────────────────────────────────────────────────────────────────────────\n"
     ]
    },
    {
     "data": {
      "text/plain": [
       "[{'test_loss': 0.19312015175819397, 'test_acc': 0.9472550749778748}]"
      ]
     },
     "execution_count": 22,
     "metadata": {},
     "output_type": "execute_result"
    }
   ],
   "source": [
    "trainer.test(model, dataloaders=eval_val_dataloader)"
   ]
  },
  {
   "cell_type": "code",
   "execution_count": 23,
   "id": "f0a9f510-1093-486a-a727-601fc9b27b8a",
   "metadata": {},
   "outputs": [
    {
     "name": "stderr",
     "output_type": "stream",
     "text": [
      "LOCAL_RANK: 0 - CUDA_VISIBLE_DEVICES: [0,1,2,3]\n"
     ]
    },
    {
     "name": "stdout",
     "output_type": "stream",
     "text": [
      "###\n",
      "('pcb_test/TRUE/Pollution/discoloration/2024-04-23-15-15/S069_20240423151544_228.bmp', 0)\n",
      "###\n",
      "('pcb_test/TRUE/Pollution/discoloration/2024-04-23-15-15/S069_20240423151544_228.bmp', 0)\n",
      "###\n",
      "('pcb_test/TRUE/Pollution/discoloration/2024-04-23-15-15/S069_20240423151544_228.bmp', 0)\n"
     ]
    },
    {
     "data": {
      "application/vnd.jupyter.widget-view+json": {
       "model_id": "1cd3990d8ce64f80a7bf98bf0604332b",
       "version_major": 2,
       "version_minor": 0
      },
      "text/plain": [
       "Testing: |                                                                                                    …"
      ]
     },
     "metadata": {},
     "output_type": "display_data"
    },
    {
     "name": "stdout",
     "output_type": "stream",
     "text": [
      "────────────────────────────────────────────────────────────────────────────────────────────────────────────────────────\n",
      "       Test metric             DataLoader 0\n",
      "────────────────────────────────────────────────────────────────────────────────────────────────────────────────────────\n",
      "        test_acc            0.9300322532653809\n",
      "        test_loss           0.19424039125442505\n",
      "────────────────────────────────────────────────────────────────────────────────────────────────────────────────────────\n"
     ]
    },
    {
     "data": {
      "text/plain": [
       "[{'test_loss': 0.19424039125442505, 'test_acc': 0.9300322532653809}]"
      ]
     },
     "execution_count": 23,
     "metadata": {},
     "output_type": "execute_result"
    }
   ],
   "source": [
    "trainer.test(model, dataloaders=eval_test_dataloader)"
   ]
  },
  {
   "cell_type": "code",
   "execution_count": null,
   "id": "54305996-7eab-475d-b572-0e95c30e5da7",
   "metadata": {},
   "outputs": [],
   "source": []
  }
 ],
 "metadata": {
  "kernelspec": {
   "display_name": "Python 3 (ipykernel)",
   "language": "python",
   "name": "python3"
  },
  "language_info": {
   "codemirror_mode": {
    "name": "ipython",
    "version": 3
   },
   "file_extension": ".py",
   "mimetype": "text/x-python",
   "name": "python",
   "nbconvert_exporter": "python",
   "pygments_lexer": "ipython3",
   "version": "3.8.13"
  }
 },
 "nbformat": 4,
 "nbformat_minor": 5
}
