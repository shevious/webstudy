{
 "cells": [
  {
   "cell_type": "code",
   "execution_count": 11,
   "id": "032c62cd-ddf3-4674-bc99-9042fd376c69",
   "metadata": {},
   "outputs": [
    {
     "name": "stdout",
     "output_type": "stream",
     "text": [
      "pytorch-accelerated       0.1.47\n",
      "timm                      0.9.16\n"
     ]
    }
   ],
   "source": [
    "#!pip install timm\n",
    "#!pip install pytorch-accelerated\n",
    "!pip list | grep -E 'timm|accelerated'"
   ]
  },
  {
   "cell_type": "code",
   "execution_count": 19,
   "id": "c9ff4932-3f28-49a8-a390-29bf263a365f",
   "metadata": {},
   "outputs": [],
   "source": [
    "#!wget 'https://s3.amazonaws.com/fast-ai-imageclas/imagenette2-320.tgz'\n",
    "#!tar xvzf imagenette2-320.tgz\n",
    "# train 갯수를 짝수로 맞춤\n",
    "#!rm imagenette2-320/train/n03888257/n03888257_9997.JPEG"
   ]
  },
  {
   "cell_type": "code",
   "execution_count": 1,
   "id": "df0181dd-a377-4af7-ae04-bc35276724b1",
   "metadata": {},
   "outputs": [
    {
     "name": "stderr",
     "output_type": "stream",
     "text": [
      "100%|███████████████████████████████████████████████████████████████████████████████████████████████████████████████████| 10/10 [00:10<00:00,  1.00s/it]\n"
     ]
    }
   ],
   "source": [
    "#from tqdm.auto import tqdm\n",
    "from tqdm import tqdm\n",
    "import time\n",
    "for i in tqdm(range(10)):\n",
    "    time.sleep(1)"
   ]
  },
  {
   "cell_type": "code",
   "execution_count": 2,
   "id": "424e08eb-1d40-4cd0-947b-b6459bfc7ead",
   "metadata": {},
   "outputs": [
    {
     "name": "stdout",
     "output_type": "stream",
     "text": [
      "bat_resnext26ts.ch_in1k\n",
      "beit_base_patch16_224.in22k_ft_in22k\n",
      "beit_base_patch16_224.in22k_ft_in22k_in1k\n",
      "beit_base_patch16_384.in22k_ft_in22k_in1k\n",
      "beit_large_patch16_224.in22k_ft_in22k\n",
      "beit_large_patch16_224.in22k_ft_in22k_in1k\n",
      "beit_large_patch16_384.in22k_ft_in22k_in1k\n",
      "beit_large_patch16_512.in22k_ft_in22k_in1k\n",
      "beitv2_base_patch16_224.in1k_ft_in1k\n",
      "beitv2_base_patch16_224.in1k_ft_in22k\n",
      "beitv2_base_patch16_224.in1k_ft_in22k_in1k\n",
      "beitv2_large_patch16_224.in1k_ft_in1k\n",
      "beitv2_large_patch16_224.in1k_ft_in22k\n",
      "beitv2_large_patch16_224.in1k_ft_in22k_in1k\n",
      "botnet26t_256.c1_in1k\n",
      "caformer_b36.sail_in1k\n",
      "caformer_b36.sail_in1k_384\n",
      "caformer_b36.sail_in22k\n",
      "caformer_b36.sail_in22k_ft_in1k\n",
      "caformer_b36.sail_in22k_ft_in1k_384\n",
      "caformer_m36.sail_in1k\n",
      "caformer_m36.sail_in1k_384\n",
      "caformer_m36.sail_in22k\n",
      "caformer_m36.sail_in22k_ft_in1k\n",
      "caformer_m36.sail_in22k_ft_in1k_384\n",
      "caformer_s18.sail_in1k\n",
      "caformer_s18.sail_in1k_384\n",
      "caformer_s18.sail_in22k\n",
      "caformer_s18.sail_in22k_ft_in1k\n",
      "caformer_s18.sail_in22k_ft_in1k_384\n",
      "caformer_s36.sail_in1k\n",
      "caformer_s36.sail_in1k_384\n",
      "caformer_s36.sail_in22k\n",
      "caformer_s36.sail_in22k_ft_in1k\n",
      "caformer_s36.sail_in22k_ft_in1k_384\n",
      "cait_m36_384.fb_dist_in1k\n",
      "cait_m48_448.fb_dist_in1k\n",
      "cait_s24_224.fb_dist_in1k\n",
      "cait_s24_384.fb_dist_in1k\n",
      "cait_s36_384.fb_dist_in1k\n",
      "cait_xs24_384.fb_dist_in1k\n",
      "cait_xxs24_224.fb_dist_in1k\n",
      "cait_xxs24_384.fb_dist_in1k\n",
      "cait_xxs36_224.fb_dist_in1k\n",
      "cait_xxs36_384.fb_dist_in1k\n",
      "coat_lite_medium.in1k\n",
      "coat_lite_medium_384.in1k\n",
      "coat_lite_mini.in1k\n",
      "coat_lite_small.in1k\n",
      "coat_lite_tiny.in1k\n",
      "coat_mini.in1k\n",
      "coat_small.in1k\n",
      "coat_tiny.in1k\n",
      "coatnet_0_rw_224.sw_in1k\n",
      "coatnet_1_rw_224.sw_in1k\n",
      "coatnet_2_rw_224.sw_in12k\n",
      "coatnet_2_rw_224.sw_in12k_ft_in1k\n",
      "coatnet_3_rw_224.sw_in12k\n",
      "coatnet_bn_0_rw_224.sw_in1k\n",
      "coatnet_nano_rw_224.sw_in1k\n",
      "coatnet_rmlp_1_rw2_224.sw_in12k\n",
      "coatnet_rmlp_1_rw2_224.sw_in12k_ft_in1k\n",
      "coatnet_rmlp_1_rw_224.sw_in1k\n",
      "coatnet_rmlp_2_rw_224.sw_in1k\n",
      "coatnet_rmlp_2_rw_224.sw_in12k\n",
      "coatnet_rmlp_2_rw_224.sw_in12k_ft_in1k\n",
      "coatnet_rmlp_2_rw_384.sw_in12k_ft_in1k\n",
      "coatnet_rmlp_nano_rw_224.sw_in1k\n",
      "coatnext_nano_rw_224.sw_in1k\n",
      "convformer_b36.sail_in1k\n",
      "convformer_b36.sail_in1k_384\n",
      "convformer_b36.sail_in22k\n",
      "convformer_b36.sail_in22k_ft_in1k\n",
      "convformer_b36.sail_in22k_ft_in1k_384\n",
      "convformer_m36.sail_in1k\n",
      "convformer_m36.sail_in1k_384\n",
      "convformer_m36.sail_in22k\n",
      "convformer_m36.sail_in22k_ft_in1k\n",
      "convformer_m36.sail_in22k_ft_in1k_384\n",
      "convformer_s18.sail_in1k\n",
      "convformer_s18.sail_in1k_384\n",
      "convformer_s18.sail_in22k\n",
      "convformer_s18.sail_in22k_ft_in1k\n",
      "convformer_s18.sail_in22k_ft_in1k_384\n",
      "convformer_s36.sail_in1k\n",
      "convformer_s36.sail_in1k_384\n",
      "convformer_s36.sail_in22k\n",
      "convformer_s36.sail_in22k_ft_in1k\n",
      "convformer_s36.sail_in22k_ft_in1k_384\n",
      "convit_base.fb_in1k\n",
      "convit_small.fb_in1k\n",
      "convit_tiny.fb_in1k\n",
      "convmixer_768_32.in1k\n",
      "convmixer_1024_20_ks9_p14.in1k\n",
      "convmixer_1536_20.in1k\n",
      "convnext_atto.d2_in1k\n",
      "convnext_atto_ols.a2_in1k\n",
      "convnext_base.clip_laion2b\n",
      "convnext_base.clip_laion2b_augreg\n",
      "convnext_base.clip_laion2b_augreg_ft_in1k\n",
      "convnext_base.clip_laion2b_augreg_ft_in12k\n",
      "convnext_base.clip_laion2b_augreg_ft_in12k_in1k\n",
      "convnext_base.clip_laion2b_augreg_ft_in12k_in1k_384\n",
      "convnext_base.clip_laiona\n",
      "convnext_base.clip_laiona_320\n",
      "convnext_base.clip_laiona_augreg_320\n",
      "convnext_base.clip_laiona_augreg_ft_in1k_384\n",
      "convnext_base.fb_in1k\n",
      "convnext_base.fb_in22k\n",
      "convnext_base.fb_in22k_ft_in1k\n",
      "convnext_base.fb_in22k_ft_in1k_384\n",
      "convnext_femto.d1_in1k\n",
      "convnext_femto_ols.d1_in1k\n",
      "convnext_large.fb_in1k\n",
      "convnext_large.fb_in22k\n",
      "convnext_large.fb_in22k_ft_in1k\n",
      "convnext_large.fb_in22k_ft_in1k_384\n",
      "convnext_large_mlp.clip_laion2b_augreg\n",
      "convnext_large_mlp.clip_laion2b_augreg_ft_in1k\n",
      "convnext_large_mlp.clip_laion2b_augreg_ft_in1k_384\n",
      "convnext_large_mlp.clip_laion2b_augreg_ft_in12k_384\n",
      "convnext_large_mlp.clip_laion2b_ft_320\n",
      "convnext_large_mlp.clip_laion2b_ft_soup_320\n",
      "convnext_large_mlp.clip_laion2b_soup_ft_in12k_320\n",
      "convnext_large_mlp.clip_laion2b_soup_ft_in12k_384\n",
      "convnext_large_mlp.clip_laion2b_soup_ft_in12k_in1k_320\n",
      "convnext_large_mlp.clip_laion2b_soup_ft_in12k_in1k_384\n",
      "convnext_nano.d1h_in1k\n",
      "convnext_nano.in12k\n",
      "convnext_nano.in12k_ft_in1k\n",
      "convnext_nano_ols.d1h_in1k\n",
      "convnext_pico.d1_in1k\n",
      "convnext_pico_ols.d1_in1k\n",
      "convnext_small.fb_in1k\n",
      "convnext_small.fb_in22k\n",
      "convnext_small.fb_in22k_ft_in1k\n",
      "convnext_small.fb_in22k_ft_in1k_384\n",
      "convnext_small.in12k\n",
      "convnext_small.in12k_ft_in1k\n",
      "convnext_small.in12k_ft_in1k_384\n",
      "convnext_tiny.fb_in1k\n",
      "convnext_tiny.fb_in22k\n",
      "convnext_tiny.fb_in22k_ft_in1k\n",
      "convnext_tiny.fb_in22k_ft_in1k_384\n",
      "convnext_tiny.in12k\n",
      "convnext_tiny.in12k_ft_in1k\n",
      "convnext_tiny.in12k_ft_in1k_384\n",
      "convnext_tiny_hnf.a2h_in1k\n",
      "convnext_xlarge.fb_in22k\n",
      "convnext_xlarge.fb_in22k_ft_in1k\n",
      "convnext_xlarge.fb_in22k_ft_in1k_384\n",
      "convnext_xxlarge.clip_laion2b_rewind\n",
      "convnext_xxlarge.clip_laion2b_soup\n",
      "convnext_xxlarge.clip_laion2b_soup_ft_in1k\n",
      "convnext_xxlarge.clip_laion2b_soup_ft_in12k\n",
      "convnextv2_atto.fcmae\n",
      "convnextv2_atto.fcmae_ft_in1k\n",
      "convnextv2_base.fcmae\n",
      "convnextv2_base.fcmae_ft_in1k\n",
      "convnextv2_base.fcmae_ft_in22k_in1k\n",
      "convnextv2_base.fcmae_ft_in22k_in1k_384\n",
      "convnextv2_femto.fcmae\n",
      "convnextv2_femto.fcmae_ft_in1k\n",
      "convnextv2_huge.fcmae\n",
      "convnextv2_huge.fcmae_ft_in1k\n",
      "convnextv2_huge.fcmae_ft_in22k_in1k_384\n",
      "convnextv2_huge.fcmae_ft_in22k_in1k_512\n",
      "convnextv2_large.fcmae\n",
      "convnextv2_large.fcmae_ft_in1k\n",
      "convnextv2_large.fcmae_ft_in22k_in1k\n",
      "convnextv2_large.fcmae_ft_in22k_in1k_384\n",
      "convnextv2_nano.fcmae\n",
      "convnextv2_nano.fcmae_ft_in1k\n",
      "convnextv2_nano.fcmae_ft_in22k_in1k\n",
      "convnextv2_nano.fcmae_ft_in22k_in1k_384\n",
      "convnextv2_pico.fcmae\n",
      "convnextv2_pico.fcmae_ft_in1k\n",
      "convnextv2_tiny.fcmae\n",
      "convnextv2_tiny.fcmae_ft_in1k\n",
      "convnextv2_tiny.fcmae_ft_in22k_in1k\n",
      "convnextv2_tiny.fcmae_ft_in22k_in1k_384\n",
      "crossvit_9_240.in1k\n",
      "crossvit_9_dagger_240.in1k\n",
      "crossvit_15_240.in1k\n",
      "crossvit_15_dagger_240.in1k\n",
      "crossvit_15_dagger_408.in1k\n",
      "crossvit_18_240.in1k\n",
      "crossvit_18_dagger_240.in1k\n",
      "crossvit_18_dagger_408.in1k\n",
      "crossvit_base_240.in1k\n",
      "crossvit_small_240.in1k\n",
      "crossvit_tiny_240.in1k\n",
      "cs3darknet_focus_l.c2ns_in1k\n",
      "cs3darknet_focus_m.c2ns_in1k\n",
      "cs3darknet_l.c2ns_in1k\n",
      "cs3darknet_m.c2ns_in1k\n",
      "cs3darknet_x.c2ns_in1k\n",
      "cs3edgenet_x.c2_in1k\n",
      "cs3se_edgenet_x.c2ns_in1k\n",
      "cs3sedarknet_l.c2ns_in1k\n",
      "cs3sedarknet_x.c2ns_in1k\n",
      "cspdarknet53.ra_in1k\n",
      "cspresnet50.ra_in1k\n",
      "cspresnext50.ra_in1k\n",
      "darknet53.c2ns_in1k\n",
      "darknetaa53.c2ns_in1k\n",
      "davit_base.msft_in1k\n",
      "davit_small.msft_in1k\n",
      "davit_tiny.msft_in1k\n",
      "deit3_base_patch16_224.fb_in1k\n",
      "deit3_base_patch16_224.fb_in22k_ft_in1k\n",
      "deit3_base_patch16_384.fb_in1k\n",
      "deit3_base_patch16_384.fb_in22k_ft_in1k\n",
      "deit3_huge_patch14_224.fb_in1k\n",
      "deit3_huge_patch14_224.fb_in22k_ft_in1k\n",
      "deit3_large_patch16_224.fb_in1k\n",
      "deit3_large_patch16_224.fb_in22k_ft_in1k\n",
      "deit3_large_patch16_384.fb_in1k\n",
      "deit3_large_patch16_384.fb_in22k_ft_in1k\n",
      "deit3_medium_patch16_224.fb_in1k\n",
      "deit3_medium_patch16_224.fb_in22k_ft_in1k\n",
      "deit3_small_patch16_224.fb_in1k\n",
      "deit3_small_patch16_224.fb_in22k_ft_in1k\n",
      "deit3_small_patch16_384.fb_in1k\n",
      "deit3_small_patch16_384.fb_in22k_ft_in1k\n",
      "deit_base_distilled_patch16_224.fb_in1k\n",
      "deit_base_distilled_patch16_384.fb_in1k\n",
      "deit_base_patch16_224.fb_in1k\n",
      "deit_base_patch16_384.fb_in1k\n",
      "deit_small_distilled_patch16_224.fb_in1k\n",
      "deit_small_patch16_224.fb_in1k\n",
      "deit_tiny_distilled_patch16_224.fb_in1k\n",
      "deit_tiny_patch16_224.fb_in1k\n",
      "densenet121.ra_in1k\n",
      "densenet121.tv_in1k\n",
      "densenet161.tv_in1k\n",
      "densenet169.tv_in1k\n",
      "densenet201.tv_in1k\n",
      "densenetblur121d.ra_in1k\n",
      "dla34.in1k\n",
      "dla46_c.in1k\n",
      "dla46x_c.in1k\n",
      "dla60.in1k\n",
      "dla60_res2net.in1k\n",
      "dla60_res2next.in1k\n",
      "dla60x.in1k\n",
      "dla60x_c.in1k\n",
      "dla102.in1k\n",
      "dla102x2.in1k\n",
      "dla102x.in1k\n",
      "dla169.in1k\n",
      "dm_nfnet_f0.dm_in1k\n",
      "dm_nfnet_f1.dm_in1k\n",
      "dm_nfnet_f2.dm_in1k\n",
      "dm_nfnet_f3.dm_in1k\n",
      "dm_nfnet_f4.dm_in1k\n",
      "dm_nfnet_f5.dm_in1k\n",
      "dm_nfnet_f6.dm_in1k\n",
      "dpn68.mx_in1k\n",
      "dpn68b.mx_in1k\n",
      "dpn68b.ra_in1k\n",
      "dpn92.mx_in1k\n",
      "dpn98.mx_in1k\n",
      "dpn107.mx_in1k\n",
      "dpn131.mx_in1k\n",
      "eca_botnext26ts_256.c1_in1k\n",
      "eca_halonext26ts.c1_in1k\n",
      "eca_nfnet_l0.ra2_in1k\n",
      "eca_nfnet_l1.ra2_in1k\n",
      "eca_nfnet_l2.ra3_in1k\n",
      "eca_resnet33ts.ra2_in1k\n",
      "eca_resnext26ts.ch_in1k\n",
      "ecaresnet26t.ra2_in1k\n",
      "ecaresnet50d.miil_in1k\n",
      "ecaresnet50d_pruned.miil_in1k\n",
      "ecaresnet50t.a1_in1k\n",
      "ecaresnet50t.a2_in1k\n",
      "ecaresnet50t.a3_in1k\n",
      "ecaresnet50t.ra2_in1k\n",
      "ecaresnet101d.miil_in1k\n",
      "ecaresnet101d_pruned.miil_in1k\n",
      "ecaresnet269d.ra2_in1k\n",
      "ecaresnetlight.miil_in1k\n",
      "edgenext_base.in21k_ft_in1k\n",
      "edgenext_base.usi_in1k\n",
      "edgenext_small.usi_in1k\n",
      "edgenext_small_rw.sw_in1k\n",
      "edgenext_x_small.in1k\n",
      "edgenext_xx_small.in1k\n",
      "efficientformer_l1.snap_dist_in1k\n",
      "efficientformer_l3.snap_dist_in1k\n",
      "efficientformer_l7.snap_dist_in1k\n",
      "efficientformerv2_l.snap_dist_in1k\n",
      "efficientformerv2_s0.snap_dist_in1k\n",
      "efficientformerv2_s1.snap_dist_in1k\n",
      "efficientformerv2_s2.snap_dist_in1k\n",
      "efficientnet_b0.ra_in1k\n",
      "efficientnet_b1.ft_in1k\n",
      "efficientnet_b1_pruned.in1k\n",
      "efficientnet_b2.ra_in1k\n",
      "efficientnet_b2_pruned.in1k\n",
      "efficientnet_b3.ra2_in1k\n",
      "efficientnet_b3_pruned.in1k\n",
      "efficientnet_b4.ra2_in1k\n",
      "efficientnet_b5.sw_in12k\n",
      "efficientnet_b5.sw_in12k_ft_in1k\n",
      "efficientnet_el.ra_in1k\n",
      "efficientnet_el_pruned.in1k\n",
      "efficientnet_em.ra2_in1k\n",
      "efficientnet_es.ra_in1k\n",
      "efficientnet_es_pruned.in1k\n",
      "efficientnet_lite0.ra_in1k\n",
      "efficientnetv2_rw_m.agc_in1k\n",
      "efficientnetv2_rw_s.ra2_in1k\n",
      "efficientnetv2_rw_t.ra2_in1k\n",
      "efficientvit_b0.r224_in1k\n",
      "efficientvit_b1.r224_in1k\n",
      "efficientvit_b1.r256_in1k\n",
      "efficientvit_b1.r288_in1k\n",
      "efficientvit_b2.r224_in1k\n",
      "efficientvit_b2.r256_in1k\n",
      "efficientvit_b2.r288_in1k\n",
      "efficientvit_b3.r224_in1k\n",
      "efficientvit_b3.r256_in1k\n",
      "efficientvit_b3.r288_in1k\n",
      "efficientvit_l1.r224_in1k\n",
      "efficientvit_l2.r224_in1k\n",
      "efficientvit_l2.r256_in1k\n",
      "efficientvit_l2.r288_in1k\n",
      "efficientvit_l2.r384_in1k\n",
      "efficientvit_l3.r224_in1k\n",
      "efficientvit_l3.r256_in1k\n",
      "efficientvit_l3.r320_in1k\n",
      "efficientvit_l3.r384_in1k\n",
      "efficientvit_m0.r224_in1k\n",
      "efficientvit_m1.r224_in1k\n",
      "efficientvit_m2.r224_in1k\n",
      "efficientvit_m3.r224_in1k\n",
      "efficientvit_m4.r224_in1k\n",
      "efficientvit_m5.r224_in1k\n",
      "ese_vovnet19b_dw.ra_in1k\n",
      "ese_vovnet39b.ra_in1k\n",
      "eva02_base_patch14_224.mim_in22k\n",
      "eva02_base_patch14_448.mim_in22k_ft_in1k\n",
      "eva02_base_patch14_448.mim_in22k_ft_in22k\n",
      "eva02_base_patch14_448.mim_in22k_ft_in22k_in1k\n",
      "eva02_base_patch16_clip_224.merged2b\n",
      "eva02_enormous_patch14_clip_224.laion2b\n",
      "eva02_enormous_patch14_clip_224.laion2b_plus\n",
      "eva02_large_patch14_224.mim_in22k\n",
      "eva02_large_patch14_224.mim_m38m\n",
      "eva02_large_patch14_448.mim_in22k_ft_in1k\n",
      "eva02_large_patch14_448.mim_in22k_ft_in22k\n",
      "eva02_large_patch14_448.mim_in22k_ft_in22k_in1k\n",
      "eva02_large_patch14_448.mim_m38m_ft_in1k\n",
      "eva02_large_patch14_448.mim_m38m_ft_in22k\n",
      "eva02_large_patch14_448.mim_m38m_ft_in22k_in1k\n",
      "eva02_large_patch14_clip_224.merged2b\n",
      "eva02_large_patch14_clip_336.merged2b\n",
      "eva02_small_patch14_224.mim_in22k\n",
      "eva02_small_patch14_336.mim_in22k_ft_in1k\n",
      "eva02_tiny_patch14_224.mim_in22k\n",
      "eva02_tiny_patch14_336.mim_in22k_ft_in1k\n",
      "eva_giant_patch14_224.clip_ft_in1k\n",
      "eva_giant_patch14_336.clip_ft_in1k\n",
      "eva_giant_patch14_336.m30m_ft_in22k_in1k\n",
      "eva_giant_patch14_560.m30m_ft_in22k_in1k\n",
      "eva_giant_patch14_clip_224.laion400m\n",
      "eva_giant_patch14_clip_224.merged2b\n",
      "eva_large_patch14_196.in22k_ft_in1k\n",
      "eva_large_patch14_196.in22k_ft_in22k_in1k\n",
      "eva_large_patch14_336.in22k_ft_in1k\n",
      "eva_large_patch14_336.in22k_ft_in22k_in1k\n",
      "fastvit_ma36.apple_dist_in1k\n",
      "fastvit_ma36.apple_in1k\n",
      "fastvit_s12.apple_dist_in1k\n",
      "fastvit_s12.apple_in1k\n",
      "fastvit_sa12.apple_dist_in1k\n",
      "fastvit_sa12.apple_in1k\n",
      "fastvit_sa24.apple_dist_in1k\n",
      "fastvit_sa24.apple_in1k\n",
      "fastvit_sa36.apple_dist_in1k\n",
      "fastvit_sa36.apple_in1k\n",
      "fastvit_t8.apple_dist_in1k\n",
      "fastvit_t8.apple_in1k\n",
      "fastvit_t12.apple_dist_in1k\n",
      "fastvit_t12.apple_in1k\n",
      "fbnetc_100.rmsp_in1k\n",
      "fbnetv3_b.ra2_in1k\n",
      "fbnetv3_d.ra2_in1k\n",
      "fbnetv3_g.ra2_in1k\n",
      "flexivit_base.300ep_in1k\n",
      "flexivit_base.300ep_in21k\n",
      "flexivit_base.600ep_in1k\n",
      "flexivit_base.1000ep_in21k\n",
      "flexivit_base.1200ep_in1k\n",
      "flexivit_base.patch16_in21k\n",
      "flexivit_base.patch30_in21k\n",
      "flexivit_large.300ep_in1k\n",
      "flexivit_large.600ep_in1k\n",
      "flexivit_large.1200ep_in1k\n",
      "flexivit_small.300ep_in1k\n",
      "flexivit_small.600ep_in1k\n",
      "flexivit_small.1200ep_in1k\n",
      "focalnet_base_lrf.ms_in1k\n",
      "focalnet_base_srf.ms_in1k\n",
      "focalnet_huge_fl3.ms_in22k\n",
      "focalnet_huge_fl4.ms_in22k\n",
      "focalnet_large_fl3.ms_in22k\n",
      "focalnet_large_fl4.ms_in22k\n",
      "focalnet_small_lrf.ms_in1k\n",
      "focalnet_small_srf.ms_in1k\n",
      "focalnet_tiny_lrf.ms_in1k\n",
      "focalnet_tiny_srf.ms_in1k\n",
      "focalnet_xlarge_fl3.ms_in22k\n",
      "focalnet_xlarge_fl4.ms_in22k\n",
      "gc_efficientnetv2_rw_t.agc_in1k\n",
      "gcresnet33ts.ra2_in1k\n",
      "gcresnet50t.ra2_in1k\n",
      "gcresnext26ts.ch_in1k\n",
      "gcresnext50ts.ch_in1k\n",
      "gcvit_base.in1k\n",
      "gcvit_small.in1k\n",
      "gcvit_tiny.in1k\n",
      "gcvit_xtiny.in1k\n",
      "gcvit_xxtiny.in1k\n",
      "gernet_l.idstcv_in1k\n",
      "gernet_m.idstcv_in1k\n",
      "gernet_s.idstcv_in1k\n",
      "ghostnet_100.in1k\n",
      "ghostnetv2_100.in1k\n",
      "ghostnetv2_130.in1k\n",
      "ghostnetv2_160.in1k\n",
      "gmixer_24_224.ra3_in1k\n",
      "gmlp_s16_224.ra3_in1k\n",
      "halo2botnet50ts_256.a1h_in1k\n",
      "halonet26t.a1h_in1k\n",
      "halonet50ts.a1h_in1k\n",
      "haloregnetz_b.ra3_in1k\n",
      "hardcorenas_a.miil_green_in1k\n",
      "hardcorenas_b.miil_green_in1k\n",
      "hardcorenas_c.miil_green_in1k\n",
      "hardcorenas_d.miil_green_in1k\n",
      "hardcorenas_e.miil_green_in1k\n",
      "hardcorenas_f.miil_green_in1k\n",
      "hgnet_base.ssld_in1k\n",
      "hgnet_small.paddle_in1k\n",
      "hgnet_small.ssld_in1k\n",
      "hgnet_tiny.paddle_in1k\n",
      "hgnet_tiny.ssld_in1k\n",
      "hgnetv2_b0.ssld_stage1_in22k_in1k\n",
      "hgnetv2_b0.ssld_stage2_ft_in1k\n",
      "hgnetv2_b1.ssld_stage1_in22k_in1k\n",
      "hgnetv2_b1.ssld_stage2_ft_in1k\n",
      "hgnetv2_b2.ssld_stage1_in22k_in1k\n",
      "hgnetv2_b2.ssld_stage2_ft_in1k\n",
      "hgnetv2_b3.ssld_stage1_in22k_in1k\n",
      "hgnetv2_b3.ssld_stage2_ft_in1k\n",
      "hgnetv2_b4.ssld_stage1_in22k_in1k\n",
      "hgnetv2_b4.ssld_stage2_ft_in1k\n",
      "hgnetv2_b5.ssld_stage1_in22k_in1k\n",
      "hgnetv2_b5.ssld_stage2_ft_in1k\n",
      "hgnetv2_b6.ssld_stage1_in22k_in1k\n",
      "hgnetv2_b6.ssld_stage2_ft_in1k\n",
      "hrnet_w18.ms_aug_in1k\n",
      "hrnet_w18.ms_in1k\n",
      "hrnet_w18_small.gluon_in1k\n",
      "hrnet_w18_small.ms_in1k\n",
      "hrnet_w18_small_v2.gluon_in1k\n",
      "hrnet_w18_small_v2.ms_in1k\n",
      "hrnet_w18_ssld.paddle_in1k\n",
      "hrnet_w30.ms_in1k\n",
      "hrnet_w32.ms_in1k\n",
      "hrnet_w40.ms_in1k\n",
      "hrnet_w44.ms_in1k\n",
      "hrnet_w48.ms_in1k\n",
      "hrnet_w48_ssld.paddle_in1k\n",
      "hrnet_w64.ms_in1k\n",
      "inception_next_base.sail_in1k\n",
      "inception_next_base.sail_in1k_384\n",
      "inception_next_small.sail_in1k\n",
      "inception_next_tiny.sail_in1k\n",
      "inception_resnet_v2.tf_ens_adv_in1k\n",
      "inception_resnet_v2.tf_in1k\n",
      "inception_v3.gluon_in1k\n",
      "inception_v3.tf_adv_in1k\n",
      "inception_v3.tf_in1k\n",
      "inception_v3.tv_in1k\n",
      "inception_v4.tf_in1k\n",
      "lambda_resnet26rpt_256.c1_in1k\n",
      "lambda_resnet26t.c1_in1k\n",
      "lambda_resnet50ts.a1h_in1k\n",
      "lamhalobotnet50ts_256.a1h_in1k\n",
      "lcnet_050.ra2_in1k\n",
      "lcnet_075.ra2_in1k\n",
      "lcnet_100.ra2_in1k\n",
      "legacy_senet154.in1k\n",
      "legacy_seresnet18.in1k\n",
      "legacy_seresnet34.in1k\n",
      "legacy_seresnet50.in1k\n",
      "legacy_seresnet101.in1k\n",
      "legacy_seresnet152.in1k\n",
      "legacy_seresnext26_32x4d.in1k\n",
      "legacy_seresnext50_32x4d.in1k\n",
      "legacy_seresnext101_32x4d.in1k\n",
      "legacy_xception.tf_in1k\n",
      "levit_128.fb_dist_in1k\n",
      "levit_128s.fb_dist_in1k\n",
      "levit_192.fb_dist_in1k\n",
      "levit_256.fb_dist_in1k\n",
      "levit_384.fb_dist_in1k\n",
      "levit_conv_128.fb_dist_in1k\n",
      "levit_conv_128s.fb_dist_in1k\n",
      "levit_conv_192.fb_dist_in1k\n",
      "levit_conv_256.fb_dist_in1k\n",
      "levit_conv_384.fb_dist_in1k\n",
      "maxvit_base_tf_224.in1k\n",
      "maxvit_base_tf_224.in21k\n",
      "maxvit_base_tf_384.in1k\n",
      "maxvit_base_tf_384.in21k_ft_in1k\n",
      "maxvit_base_tf_512.in1k\n",
      "maxvit_base_tf_512.in21k_ft_in1k\n",
      "maxvit_large_tf_224.in1k\n",
      "maxvit_large_tf_224.in21k\n",
      "maxvit_large_tf_384.in1k\n",
      "maxvit_large_tf_384.in21k_ft_in1k\n",
      "maxvit_large_tf_512.in1k\n",
      "maxvit_large_tf_512.in21k_ft_in1k\n",
      "maxvit_nano_rw_256.sw_in1k\n",
      "maxvit_rmlp_base_rw_224.sw_in12k\n",
      "maxvit_rmlp_base_rw_224.sw_in12k_ft_in1k\n",
      "maxvit_rmlp_base_rw_384.sw_in12k_ft_in1k\n",
      "maxvit_rmlp_nano_rw_256.sw_in1k\n",
      "maxvit_rmlp_pico_rw_256.sw_in1k\n",
      "maxvit_rmlp_small_rw_224.sw_in1k\n",
      "maxvit_rmlp_tiny_rw_256.sw_in1k\n",
      "maxvit_small_tf_224.in1k\n",
      "maxvit_small_tf_384.in1k\n",
      "maxvit_small_tf_512.in1k\n",
      "maxvit_tiny_rw_224.sw_in1k\n",
      "maxvit_tiny_tf_224.in1k\n",
      "maxvit_tiny_tf_384.in1k\n",
      "maxvit_tiny_tf_512.in1k\n",
      "maxvit_xlarge_tf_224.in21k\n",
      "maxvit_xlarge_tf_384.in21k_ft_in1k\n",
      "maxvit_xlarge_tf_512.in21k_ft_in1k\n",
      "maxxvit_rmlp_nano_rw_256.sw_in1k\n",
      "maxxvit_rmlp_small_rw_256.sw_in1k\n",
      "maxxvitv2_nano_rw_256.sw_in1k\n",
      "maxxvitv2_rmlp_base_rw_224.sw_in12k\n",
      "maxxvitv2_rmlp_base_rw_224.sw_in12k_ft_in1k\n",
      "maxxvitv2_rmlp_base_rw_384.sw_in12k_ft_in1k\n",
      "mixer_b16_224.goog_in21k\n",
      "mixer_b16_224.goog_in21k_ft_in1k\n",
      "mixer_b16_224.miil_in21k\n",
      "mixer_b16_224.miil_in21k_ft_in1k\n",
      "mixer_l16_224.goog_in21k\n",
      "mixer_l16_224.goog_in21k_ft_in1k\n",
      "mixnet_l.ft_in1k\n",
      "mixnet_m.ft_in1k\n",
      "mixnet_s.ft_in1k\n",
      "mixnet_xl.ra_in1k\n",
      "mnasnet_100.rmsp_in1k\n",
      "mnasnet_small.lamb_in1k\n",
      "mobilenetv2_050.lamb_in1k\n",
      "mobilenetv2_100.ra_in1k\n",
      "mobilenetv2_110d.ra_in1k\n",
      "mobilenetv2_120d.ra_in1k\n",
      "mobilenetv2_140.ra_in1k\n",
      "mobilenetv3_large_100.miil_in21k\n",
      "mobilenetv3_large_100.miil_in21k_ft_in1k\n",
      "mobilenetv3_large_100.ra_in1k\n",
      "mobilenetv3_rw.rmsp_in1k\n",
      "mobilenetv3_small_050.lamb_in1k\n",
      "mobilenetv3_small_075.lamb_in1k\n",
      "mobilenetv3_small_100.lamb_in1k\n",
      "mobileone_s0.apple_in1k\n",
      "mobileone_s1.apple_in1k\n",
      "mobileone_s2.apple_in1k\n",
      "mobileone_s3.apple_in1k\n",
      "mobileone_s4.apple_in1k\n",
      "mobilevit_s.cvnets_in1k\n",
      "mobilevit_xs.cvnets_in1k\n",
      "mobilevit_xxs.cvnets_in1k\n",
      "mobilevitv2_050.cvnets_in1k\n",
      "mobilevitv2_075.cvnets_in1k\n",
      "mobilevitv2_100.cvnets_in1k\n",
      "mobilevitv2_125.cvnets_in1k\n",
      "mobilevitv2_150.cvnets_in1k\n",
      "mobilevitv2_150.cvnets_in22k_ft_in1k\n",
      "mobilevitv2_150.cvnets_in22k_ft_in1k_384\n",
      "mobilevitv2_175.cvnets_in1k\n",
      "mobilevitv2_175.cvnets_in22k_ft_in1k\n",
      "mobilevitv2_175.cvnets_in22k_ft_in1k_384\n",
      "mobilevitv2_200.cvnets_in1k\n",
      "mobilevitv2_200.cvnets_in22k_ft_in1k\n",
      "mobilevitv2_200.cvnets_in22k_ft_in1k_384\n",
      "mvitv2_base.fb_in1k\n",
      "mvitv2_base_cls.fb_inw21k\n",
      "mvitv2_huge_cls.fb_inw21k\n",
      "mvitv2_large.fb_in1k\n",
      "mvitv2_large_cls.fb_inw21k\n",
      "mvitv2_small.fb_in1k\n",
      "mvitv2_tiny.fb_in1k\n",
      "nasnetalarge.tf_in1k\n",
      "nest_base_jx.goog_in1k\n",
      "nest_small_jx.goog_in1k\n",
      "nest_tiny_jx.goog_in1k\n",
      "nextvit_base.bd_in1k\n",
      "nextvit_base.bd_in1k_384\n",
      "nextvit_base.bd_ssld_6m_in1k\n",
      "nextvit_base.bd_ssld_6m_in1k_384\n",
      "nextvit_large.bd_in1k\n",
      "nextvit_large.bd_in1k_384\n",
      "nextvit_large.bd_ssld_6m_in1k\n",
      "nextvit_large.bd_ssld_6m_in1k_384\n",
      "nextvit_small.bd_in1k\n",
      "nextvit_small.bd_in1k_384\n",
      "nextvit_small.bd_ssld_6m_in1k\n",
      "nextvit_small.bd_ssld_6m_in1k_384\n",
      "nf_regnet_b1.ra2_in1k\n",
      "nf_resnet50.ra2_in1k\n",
      "nfnet_l0.ra2_in1k\n",
      "pit_b_224.in1k\n",
      "pit_b_distilled_224.in1k\n",
      "pit_s_224.in1k\n",
      "pit_s_distilled_224.in1k\n",
      "pit_ti_224.in1k\n",
      "pit_ti_distilled_224.in1k\n",
      "pit_xs_224.in1k\n",
      "pit_xs_distilled_224.in1k\n",
      "pnasnet5large.tf_in1k\n",
      "poolformer_m36.sail_in1k\n",
      "poolformer_m48.sail_in1k\n",
      "poolformer_s12.sail_in1k\n",
      "poolformer_s24.sail_in1k\n",
      "poolformer_s36.sail_in1k\n",
      "poolformerv2_m36.sail_in1k\n",
      "poolformerv2_m48.sail_in1k\n",
      "poolformerv2_s12.sail_in1k\n",
      "poolformerv2_s24.sail_in1k\n",
      "poolformerv2_s36.sail_in1k\n",
      "pvt_v2_b0.in1k\n",
      "pvt_v2_b1.in1k\n",
      "pvt_v2_b2.in1k\n",
      "pvt_v2_b2_li.in1k\n",
      "pvt_v2_b3.in1k\n",
      "pvt_v2_b4.in1k\n",
      "pvt_v2_b5.in1k\n",
      "regnetv_040.ra3_in1k\n",
      "regnetv_064.ra3_in1k\n",
      "regnetx_002.pycls_in1k\n",
      "regnetx_004.pycls_in1k\n",
      "regnetx_004_tv.tv2_in1k\n",
      "regnetx_006.pycls_in1k\n",
      "regnetx_008.pycls_in1k\n",
      "regnetx_008.tv2_in1k\n",
      "regnetx_016.pycls_in1k\n",
      "regnetx_016.tv2_in1k\n",
      "regnetx_032.pycls_in1k\n",
      "regnetx_032.tv2_in1k\n",
      "regnetx_040.pycls_in1k\n",
      "regnetx_064.pycls_in1k\n",
      "regnetx_080.pycls_in1k\n",
      "regnetx_080.tv2_in1k\n",
      "regnetx_120.pycls_in1k\n",
      "regnetx_160.pycls_in1k\n",
      "regnetx_160.tv2_in1k\n",
      "regnetx_320.pycls_in1k\n",
      "regnetx_320.tv2_in1k\n",
      "regnety_002.pycls_in1k\n",
      "regnety_004.pycls_in1k\n",
      "regnety_004.tv2_in1k\n",
      "regnety_006.pycls_in1k\n",
      "regnety_008.pycls_in1k\n",
      "regnety_008_tv.tv2_in1k\n",
      "regnety_016.pycls_in1k\n",
      "regnety_016.tv2_in1k\n",
      "regnety_032.pycls_in1k\n",
      "regnety_032.ra_in1k\n",
      "regnety_032.tv2_in1k\n",
      "regnety_040.pycls_in1k\n",
      "regnety_040.ra3_in1k\n",
      "regnety_064.pycls_in1k\n",
      "regnety_064.ra3_in1k\n",
      "regnety_080.pycls_in1k\n",
      "regnety_080.ra3_in1k\n",
      "regnety_080_tv.tv2_in1k\n",
      "regnety_120.pycls_in1k\n",
      "regnety_120.sw_in12k\n",
      "regnety_120.sw_in12k_ft_in1k\n",
      "regnety_160.deit_in1k\n",
      "regnety_160.lion_in12k_ft_in1k\n",
      "regnety_160.pycls_in1k\n",
      "regnety_160.sw_in12k\n",
      "regnety_160.sw_in12k_ft_in1k\n",
      "regnety_160.swag_ft_in1k\n",
      "regnety_160.swag_lc_in1k\n",
      "regnety_160.tv2_in1k\n",
      "regnety_320.pycls_in1k\n",
      "regnety_320.seer\n",
      "regnety_320.seer_ft_in1k\n",
      "regnety_320.swag_ft_in1k\n",
      "regnety_320.swag_lc_in1k\n",
      "regnety_320.tv2_in1k\n",
      "regnety_640.seer\n",
      "regnety_640.seer_ft_in1k\n",
      "regnety_1280.seer\n",
      "regnety_1280.seer_ft_in1k\n",
      "regnety_1280.swag_ft_in1k\n",
      "regnety_1280.swag_lc_in1k\n",
      "regnety_2560.seer_ft_in1k\n",
      "regnetz_040.ra3_in1k\n",
      "regnetz_040_h.ra3_in1k\n",
      "regnetz_b16.ra3_in1k\n",
      "regnetz_c16.ra3_in1k\n",
      "regnetz_c16_evos.ch_in1k\n",
      "regnetz_d8.ra3_in1k\n",
      "regnetz_d8_evos.ch_in1k\n",
      "regnetz_d32.ra3_in1k\n",
      "regnetz_e8.ra3_in1k\n",
      "repghostnet_050.in1k\n",
      "repghostnet_058.in1k\n",
      "repghostnet_080.in1k\n",
      "repghostnet_100.in1k\n",
      "repghostnet_111.in1k\n",
      "repghostnet_130.in1k\n",
      "repghostnet_150.in1k\n",
      "repghostnet_200.in1k\n",
      "repvgg_a0.rvgg_in1k\n",
      "repvgg_a1.rvgg_in1k\n",
      "repvgg_a2.rvgg_in1k\n",
      "repvgg_b0.rvgg_in1k\n",
      "repvgg_b1.rvgg_in1k\n",
      "repvgg_b1g4.rvgg_in1k\n",
      "repvgg_b2.rvgg_in1k\n",
      "repvgg_b2g4.rvgg_in1k\n",
      "repvgg_b3.rvgg_in1k\n",
      "repvgg_b3g4.rvgg_in1k\n",
      "repvgg_d2se.rvgg_in1k\n",
      "repvit_m0_9.dist_300e_in1k\n",
      "repvit_m0_9.dist_450e_in1k\n",
      "repvit_m1.dist_in1k\n",
      "repvit_m1_0.dist_300e_in1k\n",
      "repvit_m1_0.dist_450e_in1k\n",
      "repvit_m1_1.dist_300e_in1k\n",
      "repvit_m1_1.dist_450e_in1k\n",
      "repvit_m1_5.dist_300e_in1k\n",
      "repvit_m1_5.dist_450e_in1k\n",
      "repvit_m2.dist_in1k\n",
      "repvit_m2_3.dist_300e_in1k\n",
      "repvit_m2_3.dist_450e_in1k\n",
      "repvit_m3.dist_in1k\n",
      "res2net50_14w_8s.in1k\n",
      "res2net50_26w_4s.in1k\n",
      "res2net50_26w_6s.in1k\n",
      "res2net50_26w_8s.in1k\n",
      "res2net50_48w_2s.in1k\n",
      "res2net50d.in1k\n",
      "res2net101_26w_4s.in1k\n",
      "res2net101d.in1k\n",
      "res2next50.in1k\n",
      "resmlp_12_224.fb_dino\n",
      "resmlp_12_224.fb_distilled_in1k\n",
      "resmlp_12_224.fb_in1k\n",
      "resmlp_24_224.fb_dino\n",
      "resmlp_24_224.fb_distilled_in1k\n",
      "resmlp_24_224.fb_in1k\n",
      "resmlp_36_224.fb_distilled_in1k\n",
      "resmlp_36_224.fb_in1k\n",
      "resmlp_big_24_224.fb_distilled_in1k\n",
      "resmlp_big_24_224.fb_in1k\n",
      "resmlp_big_24_224.fb_in22k_ft_in1k\n",
      "resnest14d.gluon_in1k\n",
      "resnest26d.gluon_in1k\n",
      "resnest50d.in1k\n",
      "resnest50d_1s4x24d.in1k\n",
      "resnest50d_4s2x40d.in1k\n",
      "resnest101e.in1k\n",
      "resnest200e.in1k\n",
      "resnest269e.in1k\n",
      "resnet10t.c3_in1k\n",
      "resnet14t.c3_in1k\n",
      "resnet18.a1_in1k\n",
      "resnet18.a2_in1k\n",
      "resnet18.a3_in1k\n",
      "resnet18.fb_ssl_yfcc100m_ft_in1k\n",
      "resnet18.fb_swsl_ig1b_ft_in1k\n",
      "resnet18.gluon_in1k\n",
      "resnet18.tv_in1k\n",
      "resnet18d.ra2_in1k\n",
      "resnet26.bt_in1k\n",
      "resnet26d.bt_in1k\n",
      "resnet26t.ra2_in1k\n",
      "resnet32ts.ra2_in1k\n",
      "resnet33ts.ra2_in1k\n",
      "resnet34.a1_in1k\n",
      "resnet34.a2_in1k\n",
      "resnet34.a3_in1k\n",
      "resnet34.bt_in1k\n",
      "resnet34.gluon_in1k\n",
      "resnet34.tv_in1k\n",
      "resnet34d.ra2_in1k\n",
      "resnet50.a1_in1k\n",
      "resnet50.a1h_in1k\n",
      "resnet50.a2_in1k\n",
      "resnet50.a3_in1k\n",
      "resnet50.am_in1k\n",
      "resnet50.b1k_in1k\n",
      "resnet50.b2k_in1k\n",
      "resnet50.bt_in1k\n",
      "resnet50.c1_in1k\n",
      "resnet50.c2_in1k\n",
      "resnet50.d_in1k\n",
      "resnet50.fb_ssl_yfcc100m_ft_in1k\n",
      "resnet50.fb_swsl_ig1b_ft_in1k\n",
      "resnet50.gluon_in1k\n",
      "resnet50.ra_in1k\n",
      "resnet50.ram_in1k\n",
      "resnet50.tv2_in1k\n",
      "resnet50.tv_in1k\n",
      "resnet50_gn.a1h_in1k\n",
      "resnet50c.gluon_in1k\n",
      "resnet50d.a1_in1k\n",
      "resnet50d.a2_in1k\n",
      "resnet50d.a3_in1k\n",
      "resnet50d.gluon_in1k\n",
      "resnet50d.ra2_in1k\n",
      "resnet50s.gluon_in1k\n",
      "resnet51q.ra2_in1k\n",
      "resnet61q.ra2_in1k\n",
      "resnet101.a1_in1k\n",
      "resnet101.a1h_in1k\n",
      "resnet101.a2_in1k\n",
      "resnet101.a3_in1k\n",
      "resnet101.gluon_in1k\n",
      "resnet101.tv2_in1k\n",
      "resnet101.tv_in1k\n",
      "resnet101c.gluon_in1k\n",
      "resnet101d.gluon_in1k\n",
      "resnet101d.ra2_in1k\n",
      "resnet101s.gluon_in1k\n",
      "resnet152.a1_in1k\n",
      "resnet152.a1h_in1k\n",
      "resnet152.a2_in1k\n",
      "resnet152.a3_in1k\n",
      "resnet152.gluon_in1k\n",
      "resnet152.tv2_in1k\n",
      "resnet152.tv_in1k\n",
      "resnet152c.gluon_in1k\n",
      "resnet152d.gluon_in1k\n",
      "resnet152d.ra2_in1k\n",
      "resnet152s.gluon_in1k\n",
      "resnet200d.ra2_in1k\n",
      "resnetaa50.a1h_in1k\n",
      "resnetaa50d.d_in12k\n",
      "resnetaa50d.sw_in12k\n",
      "resnetaa50d.sw_in12k_ft_in1k\n",
      "resnetaa101d.sw_in12k\n",
      "resnetaa101d.sw_in12k_ft_in1k\n",
      "resnetblur50.bt_in1k\n",
      "resnetrs50.tf_in1k\n",
      "resnetrs101.tf_in1k\n",
      "resnetrs152.tf_in1k\n",
      "resnetrs200.tf_in1k\n",
      "resnetrs270.tf_in1k\n",
      "resnetrs350.tf_in1k\n",
      "resnetrs420.tf_in1k\n",
      "resnetv2_50.a1h_in1k\n",
      "resnetv2_50d_evos.ah_in1k\n",
      "resnetv2_50d_gn.ah_in1k\n",
      "resnetv2_50x1_bit.goog_distilled_in1k\n",
      "resnetv2_50x1_bit.goog_in21k\n",
      "resnetv2_50x1_bit.goog_in21k_ft_in1k\n",
      "resnetv2_50x3_bit.goog_in21k\n",
      "resnetv2_50x3_bit.goog_in21k_ft_in1k\n",
      "resnetv2_101.a1h_in1k\n",
      "resnetv2_101x1_bit.goog_in21k\n",
      "resnetv2_101x1_bit.goog_in21k_ft_in1k\n",
      "resnetv2_101x3_bit.goog_in21k\n",
      "resnetv2_101x3_bit.goog_in21k_ft_in1k\n",
      "resnetv2_152x2_bit.goog_in21k\n",
      "resnetv2_152x2_bit.goog_in21k_ft_in1k\n",
      "resnetv2_152x2_bit.goog_teacher_in21k_ft_in1k\n",
      "resnetv2_152x2_bit.goog_teacher_in21k_ft_in1k_384\n",
      "resnetv2_152x4_bit.goog_in21k\n",
      "resnetv2_152x4_bit.goog_in21k_ft_in1k\n",
      "resnext26ts.ra2_in1k\n",
      "resnext50_32x4d.a1_in1k\n",
      "resnext50_32x4d.a1h_in1k\n",
      "resnext50_32x4d.a2_in1k\n",
      "resnext50_32x4d.a3_in1k\n",
      "resnext50_32x4d.fb_ssl_yfcc100m_ft_in1k\n",
      "resnext50_32x4d.fb_swsl_ig1b_ft_in1k\n",
      "resnext50_32x4d.gluon_in1k\n",
      "resnext50_32x4d.ra_in1k\n",
      "resnext50_32x4d.tv2_in1k\n",
      "resnext50_32x4d.tv_in1k\n",
      "resnext50d_32x4d.bt_in1k\n",
      "resnext101_32x4d.fb_ssl_yfcc100m_ft_in1k\n",
      "resnext101_32x4d.fb_swsl_ig1b_ft_in1k\n",
      "resnext101_32x4d.gluon_in1k\n",
      "resnext101_32x8d.fb_ssl_yfcc100m_ft_in1k\n",
      "resnext101_32x8d.fb_swsl_ig1b_ft_in1k\n",
      "resnext101_32x8d.fb_wsl_ig1b_ft_in1k\n",
      "resnext101_32x8d.tv2_in1k\n",
      "resnext101_32x8d.tv_in1k\n",
      "resnext101_32x16d.fb_ssl_yfcc100m_ft_in1k\n",
      "resnext101_32x16d.fb_swsl_ig1b_ft_in1k\n",
      "resnext101_32x16d.fb_wsl_ig1b_ft_in1k\n",
      "resnext101_32x32d.fb_wsl_ig1b_ft_in1k\n",
      "resnext101_64x4d.c1_in1k\n",
      "resnext101_64x4d.gluon_in1k\n",
      "resnext101_64x4d.tv_in1k\n",
      "rexnet_100.nav_in1k\n",
      "rexnet_130.nav_in1k\n",
      "rexnet_150.nav_in1k\n",
      "rexnet_200.nav_in1k\n",
      "rexnet_300.nav_in1k\n",
      "rexnetr_200.sw_in12k\n",
      "rexnetr_200.sw_in12k_ft_in1k\n",
      "rexnetr_300.sw_in12k\n",
      "rexnetr_300.sw_in12k_ft_in1k\n",
      "samvit_base_patch16.sa1b\n",
      "samvit_huge_patch16.sa1b\n",
      "samvit_large_patch16.sa1b\n",
      "sebotnet33ts_256.a1h_in1k\n",
      "sehalonet33ts.ra2_in1k\n",
      "selecsls42b.in1k\n",
      "selecsls60.in1k\n",
      "selecsls60b.in1k\n",
      "semnasnet_075.rmsp_in1k\n",
      "semnasnet_100.rmsp_in1k\n",
      "senet154.gluon_in1k\n",
      "sequencer2d_l.in1k\n",
      "sequencer2d_m.in1k\n",
      "sequencer2d_s.in1k\n",
      "seresnet33ts.ra2_in1k\n",
      "seresnet50.a1_in1k\n",
      "seresnet50.a2_in1k\n",
      "seresnet50.a3_in1k\n",
      "seresnet50.ra2_in1k\n",
      "seresnet152d.ra2_in1k\n",
      "seresnext26d_32x4d.bt_in1k\n",
      "seresnext26t_32x4d.bt_in1k\n",
      "seresnext26ts.ch_in1k\n",
      "seresnext50_32x4d.gluon_in1k\n",
      "seresnext50_32x4d.racm_in1k\n",
      "seresnext101_32x4d.gluon_in1k\n",
      "seresnext101_32x8d.ah_in1k\n",
      "seresnext101_64x4d.gluon_in1k\n",
      "seresnext101d_32x8d.ah_in1k\n",
      "seresnextaa101d_32x8d.ah_in1k\n",
      "seresnextaa101d_32x8d.sw_in12k\n",
      "seresnextaa101d_32x8d.sw_in12k_ft_in1k\n",
      "seresnextaa101d_32x8d.sw_in12k_ft_in1k_288\n",
      "seresnextaa201d_32x8d.sw_in12k\n",
      "seresnextaa201d_32x8d.sw_in12k_ft_in1k_384\n",
      "skresnet18.ra_in1k\n",
      "skresnet34.ra_in1k\n",
      "skresnext50_32x4d.ra_in1k\n",
      "spnasnet_100.rmsp_in1k\n",
      "swin_base_patch4_window7_224.ms_in1k\n",
      "swin_base_patch4_window7_224.ms_in22k\n",
      "swin_base_patch4_window7_224.ms_in22k_ft_in1k\n",
      "swin_base_patch4_window12_384.ms_in1k\n",
      "swin_base_patch4_window12_384.ms_in22k\n",
      "swin_base_patch4_window12_384.ms_in22k_ft_in1k\n",
      "swin_large_patch4_window7_224.ms_in22k\n",
      "swin_large_patch4_window7_224.ms_in22k_ft_in1k\n",
      "swin_large_patch4_window12_384.ms_in22k\n",
      "swin_large_patch4_window12_384.ms_in22k_ft_in1k\n",
      "swin_s3_base_224.ms_in1k\n",
      "swin_s3_small_224.ms_in1k\n",
      "swin_s3_tiny_224.ms_in1k\n",
      "swin_small_patch4_window7_224.ms_in1k\n",
      "swin_small_patch4_window7_224.ms_in22k\n",
      "swin_small_patch4_window7_224.ms_in22k_ft_in1k\n",
      "swin_tiny_patch4_window7_224.ms_in1k\n",
      "swin_tiny_patch4_window7_224.ms_in22k\n",
      "swin_tiny_patch4_window7_224.ms_in22k_ft_in1k\n",
      "swinv2_base_window8_256.ms_in1k\n",
      "swinv2_base_window12_192.ms_in22k\n",
      "swinv2_base_window12to16_192to256.ms_in22k_ft_in1k\n",
      "swinv2_base_window12to24_192to384.ms_in22k_ft_in1k\n",
      "swinv2_base_window16_256.ms_in1k\n",
      "swinv2_cr_small_224.sw_in1k\n",
      "swinv2_cr_small_ns_224.sw_in1k\n",
      "swinv2_cr_tiny_ns_224.sw_in1k\n",
      "swinv2_large_window12_192.ms_in22k\n",
      "swinv2_large_window12to16_192to256.ms_in22k_ft_in1k\n",
      "swinv2_large_window12to24_192to384.ms_in22k_ft_in1k\n",
      "swinv2_small_window8_256.ms_in1k\n",
      "swinv2_small_window16_256.ms_in1k\n",
      "swinv2_tiny_window8_256.ms_in1k\n",
      "swinv2_tiny_window16_256.ms_in1k\n",
      "tf_efficientnet_b0.aa_in1k\n",
      "tf_efficientnet_b0.ap_in1k\n",
      "tf_efficientnet_b0.in1k\n",
      "tf_efficientnet_b0.ns_jft_in1k\n",
      "tf_efficientnet_b1.aa_in1k\n",
      "tf_efficientnet_b1.ap_in1k\n",
      "tf_efficientnet_b1.in1k\n",
      "tf_efficientnet_b1.ns_jft_in1k\n",
      "tf_efficientnet_b2.aa_in1k\n",
      "tf_efficientnet_b2.ap_in1k\n",
      "tf_efficientnet_b2.in1k\n",
      "tf_efficientnet_b2.ns_jft_in1k\n",
      "tf_efficientnet_b3.aa_in1k\n",
      "tf_efficientnet_b3.ap_in1k\n",
      "tf_efficientnet_b3.in1k\n",
      "tf_efficientnet_b3.ns_jft_in1k\n",
      "tf_efficientnet_b4.aa_in1k\n",
      "tf_efficientnet_b4.ap_in1k\n",
      "tf_efficientnet_b4.in1k\n",
      "tf_efficientnet_b4.ns_jft_in1k\n",
      "tf_efficientnet_b5.aa_in1k\n",
      "tf_efficientnet_b5.ap_in1k\n",
      "tf_efficientnet_b5.in1k\n",
      "tf_efficientnet_b5.ns_jft_in1k\n",
      "tf_efficientnet_b5.ra_in1k\n",
      "tf_efficientnet_b6.aa_in1k\n",
      "tf_efficientnet_b6.ap_in1k\n",
      "tf_efficientnet_b6.ns_jft_in1k\n",
      "tf_efficientnet_b7.aa_in1k\n",
      "tf_efficientnet_b7.ap_in1k\n",
      "tf_efficientnet_b7.ns_jft_in1k\n",
      "tf_efficientnet_b7.ra_in1k\n",
      "tf_efficientnet_b8.ap_in1k\n",
      "tf_efficientnet_b8.ra_in1k\n",
      "tf_efficientnet_cc_b0_4e.in1k\n",
      "tf_efficientnet_cc_b0_8e.in1k\n",
      "tf_efficientnet_cc_b1_8e.in1k\n",
      "tf_efficientnet_el.in1k\n",
      "tf_efficientnet_em.in1k\n",
      "tf_efficientnet_es.in1k\n",
      "tf_efficientnet_l2.ns_jft_in1k\n",
      "tf_efficientnet_l2.ns_jft_in1k_475\n",
      "tf_efficientnet_lite0.in1k\n",
      "tf_efficientnet_lite1.in1k\n",
      "tf_efficientnet_lite2.in1k\n",
      "tf_efficientnet_lite3.in1k\n",
      "tf_efficientnet_lite4.in1k\n",
      "tf_efficientnetv2_b0.in1k\n",
      "tf_efficientnetv2_b1.in1k\n",
      "tf_efficientnetv2_b2.in1k\n",
      "tf_efficientnetv2_b3.in1k\n",
      "tf_efficientnetv2_b3.in21k\n",
      "tf_efficientnetv2_b3.in21k_ft_in1k\n",
      "tf_efficientnetv2_l.in1k\n",
      "tf_efficientnetv2_l.in21k\n",
      "tf_efficientnetv2_l.in21k_ft_in1k\n",
      "tf_efficientnetv2_m.in1k\n",
      "tf_efficientnetv2_m.in21k\n",
      "tf_efficientnetv2_m.in21k_ft_in1k\n",
      "tf_efficientnetv2_s.in1k\n",
      "tf_efficientnetv2_s.in21k\n",
      "tf_efficientnetv2_s.in21k_ft_in1k\n",
      "tf_efficientnetv2_xl.in21k\n",
      "tf_efficientnetv2_xl.in21k_ft_in1k\n",
      "tf_mixnet_l.in1k\n",
      "tf_mixnet_m.in1k\n",
      "tf_mixnet_s.in1k\n",
      "tf_mobilenetv3_large_075.in1k\n",
      "tf_mobilenetv3_large_100.in1k\n",
      "tf_mobilenetv3_large_minimal_100.in1k\n",
      "tf_mobilenetv3_small_075.in1k\n",
      "tf_mobilenetv3_small_100.in1k\n",
      "tf_mobilenetv3_small_minimal_100.in1k\n",
      "tiny_vit_5m_224.dist_in22k\n",
      "tiny_vit_5m_224.dist_in22k_ft_in1k\n",
      "tiny_vit_5m_224.in1k\n",
      "tiny_vit_11m_224.dist_in22k\n",
      "tiny_vit_11m_224.dist_in22k_ft_in1k\n",
      "tiny_vit_11m_224.in1k\n",
      "tiny_vit_21m_224.dist_in22k\n",
      "tiny_vit_21m_224.dist_in22k_ft_in1k\n",
      "tiny_vit_21m_224.in1k\n",
      "tiny_vit_21m_384.dist_in22k_ft_in1k\n",
      "tiny_vit_21m_512.dist_in22k_ft_in1k\n",
      "tinynet_a.in1k\n",
      "tinynet_b.in1k\n",
      "tinynet_c.in1k\n",
      "tinynet_d.in1k\n",
      "tinynet_e.in1k\n",
      "tnt_s_patch16_224\n",
      "tresnet_l.miil_in1k\n",
      "tresnet_l.miil_in1k_448\n",
      "tresnet_m.miil_in1k\n",
      "tresnet_m.miil_in1k_448\n",
      "tresnet_m.miil_in21k\n",
      "tresnet_m.miil_in21k_ft_in1k\n",
      "tresnet_v2_l.miil_in21k\n",
      "tresnet_v2_l.miil_in21k_ft_in1k\n",
      "tresnet_xl.miil_in1k\n",
      "tresnet_xl.miil_in1k_448\n",
      "twins_pcpvt_base.in1k\n",
      "twins_pcpvt_large.in1k\n",
      "twins_pcpvt_small.in1k\n",
      "twins_svt_base.in1k\n",
      "twins_svt_large.in1k\n",
      "twins_svt_small.in1k\n",
      "vgg11.tv_in1k\n",
      "vgg11_bn.tv_in1k\n",
      "vgg13.tv_in1k\n",
      "vgg13_bn.tv_in1k\n",
      "vgg16.tv_in1k\n",
      "vgg16_bn.tv_in1k\n",
      "vgg19.tv_in1k\n",
      "vgg19_bn.tv_in1k\n",
      "visformer_small.in1k\n",
      "visformer_tiny.in1k\n",
      "vit_base_patch8_224.augreg2_in21k_ft_in1k\n",
      "vit_base_patch8_224.augreg_in21k\n",
      "vit_base_patch8_224.augreg_in21k_ft_in1k\n",
      "vit_base_patch8_224.dino\n",
      "vit_base_patch14_dinov2.lvd142m\n",
      "vit_base_patch14_reg4_dinov2.lvd142m\n",
      "vit_base_patch16_224.augreg2_in21k_ft_in1k\n",
      "vit_base_patch16_224.augreg_in1k\n",
      "vit_base_patch16_224.augreg_in21k\n",
      "vit_base_patch16_224.augreg_in21k_ft_in1k\n",
      "vit_base_patch16_224.dino\n",
      "vit_base_patch16_224.mae\n",
      "vit_base_patch16_224.orig_in21k\n",
      "vit_base_patch16_224.orig_in21k_ft_in1k\n",
      "vit_base_patch16_224.sam_in1k\n",
      "vit_base_patch16_224_miil.in21k\n",
      "vit_base_patch16_224_miil.in21k_ft_in1k\n",
      "vit_base_patch16_384.augreg_in1k\n",
      "vit_base_patch16_384.augreg_in21k_ft_in1k\n",
      "vit_base_patch16_384.orig_in21k_ft_in1k\n",
      "vit_base_patch16_clip_224.datacompxl\n",
      "vit_base_patch16_clip_224.dfn2b\n",
      "vit_base_patch16_clip_224.laion2b\n",
      "vit_base_patch16_clip_224.laion2b_ft_in1k\n",
      "vit_base_patch16_clip_224.laion2b_ft_in12k\n",
      "vit_base_patch16_clip_224.laion2b_ft_in12k_in1k\n",
      "vit_base_patch16_clip_224.metaclip_2pt5b\n",
      "vit_base_patch16_clip_224.openai\n",
      "vit_base_patch16_clip_224.openai_ft_in1k\n",
      "vit_base_patch16_clip_224.openai_ft_in12k\n",
      "vit_base_patch16_clip_224.openai_ft_in12k_in1k\n",
      "vit_base_patch16_clip_384.laion2b_ft_in1k\n",
      "vit_base_patch16_clip_384.laion2b_ft_in12k_in1k\n",
      "vit_base_patch16_clip_384.openai_ft_in1k\n",
      "vit_base_patch16_clip_384.openai_ft_in12k_in1k\n",
      "vit_base_patch16_clip_quickgelu_224.metaclip_2pt5b\n",
      "vit_base_patch16_clip_quickgelu_224.openai\n",
      "vit_base_patch16_rpn_224.sw_in1k\n",
      "vit_base_patch16_siglip_224.webli\n",
      "vit_base_patch16_siglip_256.webli\n",
      "vit_base_patch16_siglip_384.webli\n",
      "vit_base_patch16_siglip_512.webli\n",
      "vit_base_patch32_224.augreg_in1k\n",
      "vit_base_patch32_224.augreg_in21k\n",
      "vit_base_patch32_224.augreg_in21k_ft_in1k\n",
      "vit_base_patch32_224.orig_in21k\n",
      "vit_base_patch32_224.sam_in1k\n",
      "vit_base_patch32_384.augreg_in1k\n",
      "vit_base_patch32_384.augreg_in21k_ft_in1k\n",
      "vit_base_patch32_clip_224.datacompxl\n",
      "vit_base_patch32_clip_224.laion2b\n",
      "vit_base_patch32_clip_224.laion2b_ft_in1k\n",
      "vit_base_patch32_clip_224.laion2b_ft_in12k_in1k\n",
      "vit_base_patch32_clip_224.metaclip_2pt5b\n",
      "vit_base_patch32_clip_224.openai\n",
      "vit_base_patch32_clip_224.openai_ft_in1k\n",
      "vit_base_patch32_clip_256.datacompxl\n",
      "vit_base_patch32_clip_384.laion2b_ft_in12k_in1k\n",
      "vit_base_patch32_clip_384.openai_ft_in12k_in1k\n",
      "vit_base_patch32_clip_448.laion2b_ft_in12k_in1k\n",
      "vit_base_patch32_clip_quickgelu_224.metaclip_2pt5b\n",
      "vit_base_patch32_clip_quickgelu_224.openai\n",
      "vit_base_r50_s16_224.orig_in21k\n",
      "vit_base_r50_s16_384.orig_in21k_ft_in1k\n",
      "vit_giant_patch14_clip_224.laion2b\n",
      "vit_giant_patch14_dinov2.lvd142m\n",
      "vit_giant_patch14_reg4_dinov2.lvd142m\n",
      "vit_giant_patch16_gap_224.in22k_ijepa\n",
      "vit_gigantic_patch14_clip_224.laion2b\n",
      "vit_huge_patch14_224.mae\n",
      "vit_huge_patch14_224.orig_in21k\n",
      "vit_huge_patch14_clip_224.dfn5b\n",
      "vit_huge_patch14_clip_224.laion2b\n",
      "vit_huge_patch14_clip_224.laion2b_ft_in1k\n",
      "vit_huge_patch14_clip_224.laion2b_ft_in12k\n",
      "vit_huge_patch14_clip_224.laion2b_ft_in12k_in1k\n",
      "vit_huge_patch14_clip_224.metaclip_2pt5b\n",
      "vit_huge_patch14_clip_336.laion2b_ft_in12k_in1k\n",
      "vit_huge_patch14_clip_378.dfn5b\n",
      "vit_huge_patch14_clip_quickgelu_224.dfn5b\n",
      "vit_huge_patch14_clip_quickgelu_224.metaclip_2pt5b\n",
      "vit_huge_patch14_clip_quickgelu_378.dfn5b\n",
      "vit_huge_patch14_gap_224.in1k_ijepa\n",
      "vit_huge_patch14_gap_224.in22k_ijepa\n",
      "vit_huge_patch16_gap_448.in1k_ijepa\n",
      "vit_large_patch14_clip_224.datacompxl\n",
      "vit_large_patch14_clip_224.dfn2b\n",
      "vit_large_patch14_clip_224.laion2b\n",
      "vit_large_patch14_clip_224.laion2b_ft_in1k\n",
      "vit_large_patch14_clip_224.laion2b_ft_in12k\n",
      "vit_large_patch14_clip_224.laion2b_ft_in12k_in1k\n",
      "vit_large_patch14_clip_224.metaclip_2pt5b\n",
      "vit_large_patch14_clip_224.openai\n",
      "vit_large_patch14_clip_224.openai_ft_in1k\n",
      "vit_large_patch14_clip_224.openai_ft_in12k\n",
      "vit_large_patch14_clip_224.openai_ft_in12k_in1k\n",
      "vit_large_patch14_clip_336.laion2b_ft_in1k\n",
      "vit_large_patch14_clip_336.laion2b_ft_in12k_in1k\n",
      "vit_large_patch14_clip_336.openai\n",
      "vit_large_patch14_clip_336.openai_ft_in12k_in1k\n",
      "vit_large_patch14_clip_quickgelu_224.dfn2b\n",
      "vit_large_patch14_clip_quickgelu_224.metaclip_2pt5b\n",
      "vit_large_patch14_clip_quickgelu_224.openai\n",
      "vit_large_patch14_clip_quickgelu_336.openai\n",
      "vit_large_patch14_dinov2.lvd142m\n",
      "vit_large_patch14_reg4_dinov2.lvd142m\n",
      "vit_large_patch16_224.augreg_in21k\n",
      "vit_large_patch16_224.augreg_in21k_ft_in1k\n",
      "vit_large_patch16_224.mae\n",
      "vit_large_patch16_224.orig_in21k\n",
      "vit_large_patch16_384.augreg_in21k_ft_in1k\n",
      "vit_large_patch16_siglip_256.webli\n",
      "vit_large_patch16_siglip_384.webli\n",
      "vit_large_patch32_224.orig_in21k\n",
      "vit_large_patch32_384.orig_in21k_ft_in1k\n",
      "vit_large_r50_s32_224.augreg_in21k\n",
      "vit_large_r50_s32_224.augreg_in21k_ft_in1k\n",
      "vit_large_r50_s32_384.augreg_in21k_ft_in1k\n",
      "vit_medium_patch16_gap_240.sw_in12k\n",
      "vit_medium_patch16_gap_256.sw_in12k_ft_in1k\n",
      "vit_medium_patch16_gap_384.sw_in12k_ft_in1k\n",
      "vit_relpos_base_patch16_224.sw_in1k\n",
      "vit_relpos_base_patch16_clsgap_224.sw_in1k\n",
      "vit_relpos_base_patch32_plus_rpn_256.sw_in1k\n",
      "vit_relpos_medium_patch16_224.sw_in1k\n",
      "vit_relpos_medium_patch16_cls_224.sw_in1k\n",
      "vit_relpos_medium_patch16_rpn_224.sw_in1k\n",
      "vit_relpos_small_patch16_224.sw_in1k\n",
      "vit_small_patch8_224.dino\n",
      "vit_small_patch14_dinov2.lvd142m\n",
      "vit_small_patch14_reg4_dinov2.lvd142m\n",
      "vit_small_patch16_224.augreg_in1k\n",
      "vit_small_patch16_224.augreg_in21k\n",
      "vit_small_patch16_224.augreg_in21k_ft_in1k\n",
      "vit_small_patch16_224.dino\n",
      "vit_small_patch16_384.augreg_in1k\n",
      "vit_small_patch16_384.augreg_in21k_ft_in1k\n",
      "vit_small_patch32_224.augreg_in21k\n",
      "vit_small_patch32_224.augreg_in21k_ft_in1k\n",
      "vit_small_patch32_384.augreg_in21k_ft_in1k\n",
      "vit_small_r26_s32_224.augreg_in21k\n",
      "vit_small_r26_s32_224.augreg_in21k_ft_in1k\n",
      "vit_small_r26_s32_384.augreg_in21k_ft_in1k\n",
      "vit_so400m_patch14_siglip_224.webli\n",
      "vit_so400m_patch14_siglip_384.webli\n",
      "vit_srelpos_medium_patch16_224.sw_in1k\n",
      "vit_srelpos_small_patch16_224.sw_in1k\n",
      "vit_tiny_patch16_224.augreg_in21k\n",
      "vit_tiny_patch16_224.augreg_in21k_ft_in1k\n",
      "vit_tiny_patch16_384.augreg_in21k_ft_in1k\n",
      "vit_tiny_r_s16_p8_224.augreg_in21k\n",
      "vit_tiny_r_s16_p8_224.augreg_in21k_ft_in1k\n",
      "vit_tiny_r_s16_p8_384.augreg_in21k_ft_in1k\n",
      "volo_d1_224.sail_in1k\n",
      "volo_d1_384.sail_in1k\n",
      "volo_d2_224.sail_in1k\n",
      "volo_d2_384.sail_in1k\n",
      "volo_d3_224.sail_in1k\n",
      "volo_d3_448.sail_in1k\n",
      "volo_d4_224.sail_in1k\n",
      "volo_d4_448.sail_in1k\n",
      "volo_d5_224.sail_in1k\n",
      "volo_d5_448.sail_in1k\n",
      "volo_d5_512.sail_in1k\n",
      "wide_resnet50_2.racm_in1k\n",
      "wide_resnet50_2.tv2_in1k\n",
      "wide_resnet50_2.tv_in1k\n",
      "wide_resnet101_2.tv2_in1k\n",
      "wide_resnet101_2.tv_in1k\n",
      "xception41.tf_in1k\n",
      "xception41p.ra3_in1k\n",
      "xception65.ra3_in1k\n",
      "xception65.tf_in1k\n",
      "xception65p.ra3_in1k\n",
      "xception71.tf_in1k\n",
      "xcit_large_24_p8_224.fb_dist_in1k\n",
      "xcit_large_24_p8_224.fb_in1k\n",
      "xcit_large_24_p8_384.fb_dist_in1k\n",
      "xcit_large_24_p16_224.fb_dist_in1k\n",
      "xcit_large_24_p16_224.fb_in1k\n",
      "xcit_large_24_p16_384.fb_dist_in1k\n",
      "xcit_medium_24_p8_224.fb_dist_in1k\n",
      "xcit_medium_24_p8_224.fb_in1k\n",
      "xcit_medium_24_p8_384.fb_dist_in1k\n",
      "xcit_medium_24_p16_224.fb_dist_in1k\n",
      "xcit_medium_24_p16_224.fb_in1k\n",
      "xcit_medium_24_p16_384.fb_dist_in1k\n",
      "xcit_nano_12_p8_224.fb_dist_in1k\n",
      "xcit_nano_12_p8_224.fb_in1k\n",
      "xcit_nano_12_p8_384.fb_dist_in1k\n",
      "xcit_nano_12_p16_224.fb_dist_in1k\n",
      "xcit_nano_12_p16_224.fb_in1k\n",
      "xcit_nano_12_p16_384.fb_dist_in1k\n",
      "xcit_small_12_p8_224.fb_dist_in1k\n",
      "xcit_small_12_p8_224.fb_in1k\n",
      "xcit_small_12_p8_384.fb_dist_in1k\n",
      "xcit_small_12_p16_224.fb_dist_in1k\n",
      "xcit_small_12_p16_224.fb_in1k\n",
      "xcit_small_12_p16_384.fb_dist_in1k\n",
      "xcit_small_24_p8_224.fb_dist_in1k\n",
      "xcit_small_24_p8_224.fb_in1k\n",
      "xcit_small_24_p8_384.fb_dist_in1k\n",
      "xcit_small_24_p16_224.fb_dist_in1k\n",
      "xcit_small_24_p16_224.fb_in1k\n",
      "xcit_small_24_p16_384.fb_dist_in1k\n",
      "xcit_tiny_12_p8_224.fb_dist_in1k\n",
      "xcit_tiny_12_p8_224.fb_in1k\n",
      "xcit_tiny_12_p8_384.fb_dist_in1k\n",
      "xcit_tiny_12_p16_224.fb_dist_in1k\n",
      "xcit_tiny_12_p16_224.fb_in1k\n",
      "xcit_tiny_12_p16_384.fb_dist_in1k\n",
      "xcit_tiny_24_p8_224.fb_dist_in1k\n",
      "xcit_tiny_24_p8_224.fb_in1k\n",
      "xcit_tiny_24_p8_384.fb_dist_in1k\n",
      "xcit_tiny_24_p16_224.fb_dist_in1k\n",
      "xcit_tiny_24_p16_224.fb_in1k\n",
      "xcit_tiny_24_p16_384.fb_dist_in1k\n"
     ]
    }
   ],
   "source": [
    "import timm\n",
    "for m in timm.list_models(pretrained=True):\n",
    "    print(m)"
   ]
  },
  {
   "cell_type": "code",
   "execution_count": null,
   "id": "942b670a-f719-460f-abdd-c971feb2b770",
   "metadata": {},
   "outputs": [],
   "source": []
  },
  {
   "cell_type": "code",
   "execution_count": 2,
   "id": "d3eaf88b-46a3-4a5e-80dc-6b999ecbe13c",
   "metadata": {},
   "outputs": [],
   "source": [
    "import glob\n",
    "import numpy as np\n",
    "from pathlib import Path\n",
    "import shutil\n",
    "\n",
    "def create_pcb_train_val_test(data_dir='PCBData',\n",
    "                              train_dir='PCBData/train',\n",
    "                              val_dir='PCBData/val',\n",
    "                              test_dir='PCBData/test'\n",
    "                             ):\n",
    "    #all_files = glob.glob(data_dir+'/@(NG|OK)/*.jpg', flags=pathlib.GLOBSTAR | pathlib.EXTGLOB)\n",
    "    ng_files = sorted(glob.glob(data_dir+\"/NG/*.jpg\"))\n",
    "    n_ng = len(ng_files)\n",
    "    ok_files = sorted(glob.glob(data_dir+\"/OK/*.jpg\"))\n",
    "    n_ok = len(ok_files)\n",
    "    #creating a new directory called pythondirectory\n",
    "    Path(train_dir+'/OK').mkdir(parents=True, exist_ok=True)\n",
    "    Path(train_dir+'/NG').mkdir(parents=True, exist_ok=True)\n",
    "    Path(val_dir+'/OK').mkdir(parents=True, exist_ok=True)\n",
    "    Path(val_dir+'/NG').mkdir(parents=True, exist_ok=True)\n",
    "    np.random.seed(42)\n",
    "    perm = np.random.permutation(n_ng)\n",
    "    n_train = int(n_ng*0.9)\n",
    "    if n_train%2 == 1:\n",
    "        n_train -= 1\n",
    "    src_files = ng_files\n",
    "    \n",
    "    train_idx = perm[:n_train]\n",
    "    val_idx = perm[n_train:]\n",
    "    for i in train_idx:\n",
    "        src = src_files[i]\n",
    "        dst = train_dir+src.replace(data_dir, '')\n",
    "        shutil.copyfile(src, dst)\n",
    "    for i in val_idx:\n",
    "        src = src_files[i]\n",
    "        dst = val_dir+src.replace(data_dir, '')\n",
    "        shutil.copyfile(src, dst)\n",
    "        \n",
    "    perm = np.random.permutation(n_ok)\n",
    "    n_train = int(n_ok*0.9)\n",
    "    if n_train%2 == 1:\n",
    "        n_train -= 1\n",
    "    src_files = ok_files\n",
    "    \n",
    "    train_idx = perm[:n_train]\n",
    "    val_idx = perm[n_train:]\n",
    "    for i in train_idx:\n",
    "        src = src_files[i]\n",
    "        dst = train_dir+src.replace(data_dir, '')\n",
    "        shutil.copyfile(src, dst)\n",
    "    for i in val_idx:\n",
    "        src = src_files[i]\n",
    "        dst = val_dir+src.replace(data_dir, '')\n",
    "        shutil.copyfile(src, dst)\n",
    "        \n",
    "#create_pcb_train_val_test()"
   ]
  },
  {
   "cell_type": "code",
   "execution_count": 2,
   "id": "1c47d262-31f7-42c2-afcf-0319ec268b7d",
   "metadata": {},
   "outputs": [],
   "source": [
    "from pytorch_accelerated.trainer import Trainer, DEFAULT_CALLBACKS"
   ]
  },
  {
   "cell_type": "code",
   "execution_count": 10,
   "id": "eedfa32d-4f66-4078-a335-c0696f045c40",
   "metadata": {},
   "outputs": [
    {
     "data": {
      "text/plain": [
       "[pytorch_accelerated.callbacks.MoveModulesToDeviceCallback,\n",
       " pytorch_accelerated.callbacks.TerminateOnNaNCallback,\n",
       " pytorch_accelerated.callbacks.PrintProgressCallback,\n",
       " pytorch_accelerated.callbacks.LogMetricsCallback,\n",
       " 0]"
      ]
     },
     "execution_count": 10,
     "metadata": {},
     "output_type": "execute_result"
    }
   ],
   "source": [
    "callbacks = list(DEFAULT_CALLBACKS)\n",
    "callbacks.pop(3)\n",
    "[*callbacks, 0]"
   ]
  },
  {
   "cell_type": "code",
   "execution_count": 1,
   "id": "fcf90cbc-5401-4a51-b7e6-fd73b2559f4b",
   "metadata": {
    "scrolled": true
   },
   "outputs": [
    {
     "name": "stdout",
     "output_type": "stream",
     "text": [
      "Launching training on 4 GPUs.\n"
     ]
    },
    {
     "name": "stderr",
     "output_type": "stream",
     "text": [
      "/home/kotech/venv-lightning/lib/python3.8/site-packages/pytorch_accelerated/trainer.py:708: UserWarning: The per device batch size 32 with the eval dataset size 1278 and the number of processes 4 will cause one process to have a smaller number of samples on the last batch than the rest, which would lead to a `Trainer.gather` to freeze indefinitely. This can be resolved by passing a `padding_value` to the `Trainer.gather`.\n",
      "  warnings.warn(\n",
      "/home/kotech/venv-lightning/lib/python3.8/site-packages/pytorch_accelerated/trainer.py:708: UserWarning: The per device batch size 32 with the eval dataset size 1278 and the number of processes 4 will cause one process to have a smaller number of samples on the last batch than the rest, which would lead to a `Trainer.gather` to freeze indefinitely. This can be resolved by passing a `padding_value` to the `Trainer.gather`.\n",
      "  warnings.warn(\n",
      "/home/kotech/venv-lightning/lib/python3.8/site-packages/pytorch_accelerated/trainer.py:708: UserWarning: The per device batch size 32 with the eval dataset size 1278 and the number of processes 4 will cause one process to have a smaller number of samples on the last batch than the rest, which would lead to a `Trainer.gather` to freeze indefinitely. This can be resolved by passing a `padding_value` to the `Trainer.gather`.\n",
      "  warnings.warn(\n",
      "/home/kotech/venv-lightning/lib/python3.8/site-packages/pytorch_accelerated/trainer.py:708: UserWarning: The per device batch size 32 with the eval dataset size 1278 and the number of processes 4 will cause one process to have a smaller number of samples on the last batch than the rest, which would lead to a `Trainer.gather` to freeze indefinitely. This can be resolved by passing a `padding_value` to the `Trainer.gather`.\n",
      "  warnings.warn(\n"
     ]
    },
    {
     "name": "stdout",
     "output_type": "stream",
     "text": [
      "\n",
      "Starting training run\n",
      "\n",
      "Starting epoch 1\n"
     ]
    },
    {
     "data": {
      "application/vnd.jupyter.widget-view+json": {
       "model_id": "b566f5d222a0443da954b19292032f7b",
       "version_major": 2,
       "version_minor": 0
      },
      "text/plain": [
       "  0%|          | 0/90 [00:00<?, ?it/s]"
      ]
     },
     "metadata": {},
     "output_type": "display_data"
    },
    {
     "name": "stdout",
     "output_type": "stream",
     "text": [
      "\n",
      "train_loss_epoch: 0.4893524944782257\n"
     ]
    },
    {
     "data": {
      "application/vnd.jupyter.widget-view+json": {
       "model_id": "cf24c1d4c9a44a79983c0a060fa172bf",
       "version_major": 2,
       "version_minor": 0
      },
      "text/plain": [
       "  0%|          | 0/10 [00:00<?, ?it/s]"
      ]
     },
     "metadata": {},
     "output_type": "display_data"
    },
    {
     "name": "stdout",
     "output_type": "stream",
     "text": [
      "\n",
      "accuracy: 0.8028169274330139\n",
      "\n",
      "eval_loss_epoch: 0.4925697445869446\n",
      "\n",
      "lr: 0.0001\n",
      "\n",
      "ema_model_accuracy: 0.8020344376564026\n",
      "\n",
      "Starting epoch 2\n"
     ]
    },
    {
     "data": {
      "application/vnd.jupyter.widget-view+json": {
       "model_id": "9e47699df99a4398a6067e021d580b8f",
       "version_major": 2,
       "version_minor": 0
      },
      "text/plain": [
       "  0%|          | 0/90 [00:00<?, ?it/s]"
      ]
     },
     "metadata": {},
     "output_type": "display_data"
    },
    {
     "name": "stdout",
     "output_type": "stream",
     "text": [
      "\n",
      "train_loss_epoch: 0.39099419116973877\n"
     ]
    },
    {
     "data": {
      "application/vnd.jupyter.widget-view+json": {
       "model_id": "732c8f67f1644ab7b873d4fff2321e37",
       "version_major": 2,
       "version_minor": 0
      },
      "text/plain": [
       "  0%|          | 0/10 [00:00<?, ?it/s]"
      ]
     },
     "metadata": {},
     "output_type": "display_data"
    },
    {
     "name": "stdout",
     "output_type": "stream",
     "text": [
      "\n",
      "accuracy: 0.9139280319213867\n",
      "\n",
      "eval_loss_epoch: 0.21178974211215973\n",
      "\n",
      "lr: 0.0001\n",
      "\n",
      "ema_model_accuracy: 0.7949921488761902\n",
      "\n",
      "Starting epoch 3\n"
     ]
    },
    {
     "data": {
      "application/vnd.jupyter.widget-view+json": {
       "model_id": "25ffa6bdacb142699236cb7577092b02",
       "version_major": 2,
       "version_minor": 0
      },
      "text/plain": [
       "  0%|          | 0/90 [00:00<?, ?it/s]"
      ]
     },
     "metadata": {},
     "output_type": "display_data"
    },
    {
     "name": "stdout",
     "output_type": "stream",
     "text": [
      "\n",
      "train_loss_epoch: 0.3101988136768341\n"
     ]
    },
    {
     "data": {
      "application/vnd.jupyter.widget-view+json": {
       "model_id": "0875b7f858fa4f048771f74a1ff5123a",
       "version_major": 2,
       "version_minor": 0
      },
      "text/plain": [
       "  0%|          | 0/10 [00:00<?, ?it/s]"
      ]
     },
     "metadata": {},
     "output_type": "display_data"
    },
    {
     "name": "stdout",
     "output_type": "stream",
     "text": [
      "\n",
      "accuracy: 0.930359959602356\n",
      "\n",
      "eval_loss_epoch: 0.2177560031414032\n",
      "\n",
      "lr: 9.8632311059685e-05\n",
      "\n",
      "ema_model_accuracy: 0.7949921488761902\n",
      "\n",
      "Starting epoch 4\n"
     ]
    },
    {
     "data": {
      "application/vnd.jupyter.widget-view+json": {
       "model_id": "dfa4774054064088bc2cb7adcb658ced",
       "version_major": 2,
       "version_minor": 0
      },
      "text/plain": [
       "  0%|          | 0/90 [00:00<?, ?it/s]"
      ]
     },
     "metadata": {},
     "output_type": "display_data"
    },
    {
     "name": "stdout",
     "output_type": "stream",
     "text": [
      "\n",
      "train_loss_epoch: 0.2862790822982788\n"
     ]
    },
    {
     "data": {
      "application/vnd.jupyter.widget-view+json": {
       "model_id": "c43e710a7f924783a94b2760e5524fca",
       "version_major": 2,
       "version_minor": 0
      },
      "text/plain": [
       "  0%|          | 0/10 [00:00<?, ?it/s]"
      ]
     },
     "metadata": {},
     "output_type": "display_data"
    },
    {
     "name": "stdout",
     "output_type": "stream",
     "text": [
      "\n",
      "accuracy: 0.922535240650177\n",
      "\n",
      "eval_loss_epoch: 0.25533074140548706\n",
      "\n",
      "lr: 9.757729755661011e-05\n",
      "\n",
      "ema_model_accuracy: 0.7957746386528015\n",
      "\n",
      "Starting epoch 5\n"
     ]
    },
    {
     "data": {
      "application/vnd.jupyter.widget-view+json": {
       "model_id": "5668a54617d94b42be5ea1f6cf3f4c7a",
       "version_major": 2,
       "version_minor": 0
      },
      "text/plain": [
       "  0%|          | 0/90 [00:00<?, ?it/s]"
      ]
     },
     "metadata": {},
     "output_type": "display_data"
    },
    {
     "name": "stdout",
     "output_type": "stream",
     "text": [
      "\n",
      "train_loss_epoch: 0.29349538683891296\n"
     ]
    },
    {
     "data": {
      "application/vnd.jupyter.widget-view+json": {
       "model_id": "c222d7e15e7348648bf85f2e5aa5f4c7",
       "version_major": 2,
       "version_minor": 0
      },
      "text/plain": [
       "  0%|          | 0/10 [00:00<?, ?it/s]"
      ]
     },
     "metadata": {},
     "output_type": "display_data"
    },
    {
     "name": "stdout",
     "output_type": "stream",
     "text": [
      "\n",
      "accuracy: 0.9413145780563354\n",
      "\n",
      "eval_loss_epoch: 0.1722954362630844\n",
      "\n",
      "lr: 9.623203685930869e-05\n",
      "\n",
      "ema_model_accuracy: 0.8239436745643616\n",
      "\n",
      "Starting epoch 6\n"
     ]
    },
    {
     "data": {
      "application/vnd.jupyter.widget-view+json": {
       "model_id": "2e6c3effb0684a9cbd522e4e2eaee7cf",
       "version_major": 2,
       "version_minor": 0
      },
      "text/plain": [
       "  0%|          | 0/90 [00:00<?, ?it/s]"
      ]
     },
     "metadata": {},
     "output_type": "display_data"
    },
    {
     "name": "stdout",
     "output_type": "stream",
     "text": [
      "\n",
      "train_loss_epoch: 0.2767511010169983\n"
     ]
    },
    {
     "data": {
      "application/vnd.jupyter.widget-view+json": {
       "model_id": "ebb5af250bcc4b2d9816c02b60e715ad",
       "version_major": 2,
       "version_minor": 0
      },
      "text/plain": [
       "  0%|          | 0/10 [00:00<?, ?it/s]"
      ]
     },
     "metadata": {},
     "output_type": "display_data"
    },
    {
     "name": "stdout",
     "output_type": "stream",
     "text": [
      "\n",
      "accuracy: 0.9397495985031128\n",
      "\n",
      "eval_loss_epoch: 0.18875186145305634\n",
      "\n",
      "lr: 9.460482294732421e-05\n",
      "\n",
      "ema_model_accuracy: 0.8661971688270569\n",
      "\n",
      "Starting epoch 7\n"
     ]
    },
    {
     "data": {
      "application/vnd.jupyter.widget-view+json": {
       "model_id": "00398c8ad3be40dcbf7d33c00c3b6ed6",
       "version_major": 2,
       "version_minor": 0
      },
      "text/plain": [
       "  0%|          | 0/90 [00:00<?, ?it/s]"
      ]
     },
     "metadata": {},
     "output_type": "display_data"
    },
    {
     "name": "stdout",
     "output_type": "stream",
     "text": [
      "\n",
      "train_loss_epoch: 0.27367129921913147\n"
     ]
    },
    {
     "data": {
      "application/vnd.jupyter.widget-view+json": {
       "model_id": "6db18bbf5843430cbf37e7da7a7fb0f9",
       "version_major": 2,
       "version_minor": 0
      },
      "text/plain": [
       "  0%|          | 0/10 [00:00<?, ?it/s]"
      ]
     },
     "metadata": {},
     "output_type": "display_data"
    },
    {
     "name": "stdout",
     "output_type": "stream",
     "text": [
      "\n",
      "accuracy: 0.9436619877815247\n",
      "\n",
      "eval_loss_epoch: 0.1687394231557846\n",
      "\n",
      "lr: 9.270568813552756e-05\n",
      "\n",
      "ema_model_accuracy: 0.9029734134674072\n",
      "\n",
      "Starting epoch 8\n"
     ]
    },
    {
     "data": {
      "application/vnd.jupyter.widget-view+json": {
       "model_id": "6e6874b0a7854dcf8d460e21c49cea05",
       "version_major": 2,
       "version_minor": 0
      },
      "text/plain": [
       "  0%|          | 0/90 [00:00<?, ?it/s]"
      ]
     },
     "metadata": {},
     "output_type": "display_data"
    },
    {
     "name": "stdout",
     "output_type": "stream",
     "text": [
      "\n",
      "train_loss_epoch: 0.2639244794845581\n"
     ]
    },
    {
     "data": {
      "application/vnd.jupyter.widget-view+json": {
       "model_id": "aa87042c48d642c3bde3c6b6e5b20314",
       "version_major": 2,
       "version_minor": 0
      },
      "text/plain": [
       "  0%|          | 0/10 [00:00<?, ?it/s]"
      ]
     },
     "metadata": {},
     "output_type": "display_data"
    },
    {
     "name": "stdout",
     "output_type": "stream",
     "text": [
      "\n",
      "accuracy: 0.9460093975067139\n",
      "\n",
      "eval_loss_epoch: 0.18124279379844666\n",
      "\n",
      "lr: 9.05463412215599e-05\n",
      "\n",
      "ema_model_accuracy: 0.9217527508735657\n",
      "\n",
      "Starting epoch 9\n"
     ]
    },
    {
     "data": {
      "application/vnd.jupyter.widget-view+json": {
       "model_id": "21b33e3affee4032beb534f1d0862416",
       "version_major": 2,
       "version_minor": 0
      },
      "text/plain": [
       "  0%|          | 0/90 [00:00<?, ?it/s]"
      ]
     },
     "metadata": {},
     "output_type": "display_data"
    },
    {
     "name": "stdout",
     "output_type": "stream",
     "text": [
      "\n",
      "train_loss_epoch: 0.2510518729686737\n"
     ]
    },
    {
     "data": {
      "application/vnd.jupyter.widget-view+json": {
       "model_id": "a9541601fb9146a2854472f3788d2860",
       "version_major": 2,
       "version_minor": 0
      },
      "text/plain": [
       "  0%|          | 0/10 [00:00<?, ?it/s]"
      ]
     },
     "metadata": {},
     "output_type": "display_data"
    },
    {
     "name": "stdout",
     "output_type": "stream",
     "text": [
      "\n",
      "accuracy: 0.9491392970085144\n",
      "\n",
      "eval_loss_epoch: 0.17939329147338867\n",
      "\n",
      "lr: 8.814009529720155e-05\n",
      "\n",
      "ema_model_accuracy: 0.9358372688293457\n",
      "\n",
      "Starting epoch 10\n"
     ]
    },
    {
     "data": {
      "application/vnd.jupyter.widget-view+json": {
       "model_id": "ec5f9c46193f4772a2240b5ac53e468e",
       "version_major": 2,
       "version_minor": 0
      },
      "text/plain": [
       "  0%|          | 0/90 [00:00<?, ?it/s]"
      ]
     },
     "metadata": {},
     "output_type": "display_data"
    },
    {
     "name": "stdout",
     "output_type": "stream",
     "text": [
      "\n",
      "train_loss_epoch: 0.24989114701747894\n"
     ]
    },
    {
     "data": {
      "application/vnd.jupyter.widget-view+json": {
       "model_id": "e34aceee102b463cb1a9209c7dc8129d",
       "version_major": 2,
       "version_minor": 0
      },
      "text/plain": [
       "  0%|          | 0/10 [00:00<?, ?it/s]"
      ]
     },
     "metadata": {},
     "output_type": "display_data"
    },
    {
     "name": "stdout",
     "output_type": "stream",
     "text": [
      "\n",
      "accuracy: 0.9444444179534912\n",
      "\n",
      "eval_loss_epoch: 0.15865139663219452\n",
      "\n",
      "lr: 8.55017856687341e-05\n",
      "\n",
      "ema_model_accuracy: 0.9436619877815247\n",
      "\n",
      "Starting epoch 11\n"
     ]
    },
    {
     "data": {
      "application/vnd.jupyter.widget-view+json": {
       "model_id": "d577894e3f824cb9a76c09d6e79944a5",
       "version_major": 2,
       "version_minor": 0
      },
      "text/plain": [
       "  0%|          | 0/90 [00:00<?, ?it/s]"
      ]
     },
     "metadata": {},
     "output_type": "display_data"
    },
    {
     "name": "stdout",
     "output_type": "stream",
     "text": [
      "\n",
      "train_loss_epoch: 0.2495373785495758\n"
     ]
    },
    {
     "data": {
      "application/vnd.jupyter.widget-view+json": {
       "model_id": "d9f5f06c6baa439c835fcd0b65baab9c",
       "version_major": 2,
       "version_minor": 0
      },
      "text/plain": [
       "  0%|          | 0/10 [00:00<?, ?it/s]"
      ]
     },
     "metadata": {},
     "output_type": "display_data"
    },
    {
     "name": "stdout",
     "output_type": "stream",
     "text": [
      "\n",
      "accuracy: 0.9475743174552917\n",
      "\n",
      "eval_loss_epoch: 0.15384262800216675\n",
      "\n",
      "lr: 8.26476783923441e-05\n",
      "\n",
      "ema_model_accuracy: 0.949921727180481\n",
      "\n",
      "Starting epoch 12\n"
     ]
    },
    {
     "data": {
      "application/vnd.jupyter.widget-view+json": {
       "model_id": "7010338a86524906b5799cd37cac07c2",
       "version_major": 2,
       "version_minor": 0
      },
      "text/plain": [
       "  0%|          | 0/90 [00:00<?, ?it/s]"
      ]
     },
     "metadata": {},
     "output_type": "display_data"
    },
    {
     "name": "stdout",
     "output_type": "stream",
     "text": [
      "\n",
      "train_loss_epoch: 0.24881193041801453\n"
     ]
    },
    {
     "data": {
      "application/vnd.jupyter.widget-view+json": {
       "model_id": "5bacd55628b94735991da06f7e0b691a",
       "version_major": 2,
       "version_minor": 0
      },
      "text/plain": [
       "  0%|          | 0/10 [00:00<?, ?it/s]"
      ]
     },
     "metadata": {},
     "output_type": "display_data"
    },
    {
     "name": "stdout",
     "output_type": "stream",
     "text": [
      "\n",
      "accuracy: 0.9467918872833252\n",
      "\n",
      "eval_loss_epoch: 0.1772536188364029\n",
      "\n",
      "lr: 7.959536998847742e-05\n",
      "\n",
      "ema_model_accuracy: 0.9507042169570923\n",
      "\n",
      "Starting epoch 13\n"
     ]
    },
    {
     "data": {
      "application/vnd.jupyter.widget-view+json": {
       "model_id": "08b92d02185f4ab0be6afad881cfeb38",
       "version_major": 2,
       "version_minor": 0
      },
      "text/plain": [
       "  0%|          | 0/90 [00:00<?, ?it/s]"
      ]
     },
     "metadata": {},
     "output_type": "display_data"
    },
    {
     "name": "stdout",
     "output_type": "stream",
     "text": [
      "\n",
      "train_loss_epoch: 0.2532653510570526\n"
     ]
    },
    {
     "data": {
      "application/vnd.jupyter.widget-view+json": {
       "model_id": "715eb6416571455c87358948c9f26f48",
       "version_major": 2,
       "version_minor": 0
      },
      "text/plain": [
       "  0%|          | 0/10 [00:00<?, ?it/s]"
      ]
     },
     "metadata": {},
     "output_type": "display_data"
    },
    {
     "name": "stdout",
     "output_type": "stream",
     "text": [
      "\n",
      "accuracy: 0.9491392970085144\n",
      "\n",
      "eval_loss_epoch: 0.15598450601100922\n",
      "\n",
      "lr: 7.636367895343946e-05\n",
      "\n",
      "ema_model_accuracy: 0.9483568072319031\n",
      "\n",
      "Starting epoch 14\n"
     ]
    },
    {
     "data": {
      "application/vnd.jupyter.widget-view+json": {
       "model_id": "f691ba2279e04d8d9f4140a389f8274b",
       "version_major": 2,
       "version_minor": 0
      },
      "text/plain": [
       "  0%|          | 0/90 [00:00<?, ?it/s]"
      ]
     },
     "metadata": {},
     "output_type": "display_data"
    },
    {
     "name": "stdout",
     "output_type": "stream",
     "text": [
      "\n",
      "train_loss_epoch: 0.24775610864162445\n"
     ]
    },
    {
     "data": {
      "application/vnd.jupyter.widget-view+json": {
       "model_id": "216622727e2b4d53b4dd661648809aa9",
       "version_major": 2,
       "version_minor": 0
      },
      "text/plain": [
       "  0%|          | 0/10 [00:00<?, ?it/s]"
      ]
     },
     "metadata": {},
     "output_type": "display_data"
    },
    {
     "name": "stdout",
     "output_type": "stream",
     "text": [
      "\n",
      "accuracy: 0.9475743174552917\n",
      "\n",
      "eval_loss_epoch: 0.15664292871952057\n",
      "\n",
      "lr: 7.297252973710757e-05\n",
      "\n",
      "ema_model_accuracy: 0.9491392970085144\n",
      "\n",
      "Starting epoch 15\n"
     ]
    },
    {
     "data": {
      "application/vnd.jupyter.widget-view+json": {
       "model_id": "fa3f4d09787849f88f23df95ae7dfbe9",
       "version_major": 2,
       "version_minor": 0
      },
      "text/plain": [
       "  0%|          | 0/90 [00:00<?, ?it/s]"
      ]
     },
     "metadata": {},
     "output_type": "display_data"
    },
    {
     "name": "stdout",
     "output_type": "stream",
     "text": [
      "\n",
      "train_loss_epoch: 0.23487015068531036\n"
     ]
    },
    {
     "data": {
      "application/vnd.jupyter.widget-view+json": {
       "model_id": "64a260b12eef4431a4722ec01a8d0c54",
       "version_major": 2,
       "version_minor": 0
      },
      "text/plain": [
       "  0%|          | 0/10 [00:00<?, ?it/s]"
      ]
     },
     "metadata": {},
     "output_type": "display_data"
    },
    {
     "name": "stdout",
     "output_type": "stream",
     "text": [
      "\n",
      "accuracy: 0.9428794980049133\n",
      "\n",
      "eval_loss_epoch: 0.1684042513370514\n",
      "\n",
      "lr: 6.944282990207195e-05\n",
      "\n",
      "ema_model_accuracy: 0.9491392970085144\n",
      "\n",
      "Starting epoch 16\n"
     ]
    },
    {
     "data": {
      "application/vnd.jupyter.widget-view+json": {
       "model_id": "f800c080b7424456b580ba01b86d4d84",
       "version_major": 2,
       "version_minor": 0
      },
      "text/plain": [
       "  0%|          | 0/90 [00:00<?, ?it/s]"
      ]
     },
     "metadata": {},
     "output_type": "display_data"
    },
    {
     "name": "stdout",
     "output_type": "stream",
     "text": [
      "\n",
      "train_loss_epoch: 0.23694851994514465\n"
     ]
    },
    {
     "data": {
      "application/vnd.jupyter.widget-view+json": {
       "model_id": "9878e6f46bb640aba76317959992cb6c",
       "version_major": 2,
       "version_minor": 0
      },
      "text/plain": [
       "  0%|          | 0/10 [00:00<?, ?it/s]"
      ]
     },
     "metadata": {},
     "output_type": "display_data"
    },
    {
     "name": "stdout",
     "output_type": "stream",
     "text": [
      "\n",
      "accuracy: 0.9491392970085144\n",
      "\n",
      "eval_loss_epoch: 0.17599111795425415\n",
      "\n",
      "lr: 6.57963412215599e-05\n",
      "\n",
      "ema_model_accuracy: 0.949921727180481\n",
      "\n",
      "Starting epoch 17\n"
     ]
    },
    {
     "data": {
      "application/vnd.jupyter.widget-view+json": {
       "model_id": "22716cba0ae74ac78d782a0aff877db0",
       "version_major": 2,
       "version_minor": 0
      },
      "text/plain": [
       "  0%|          | 0/90 [00:00<?, ?it/s]"
      ]
     },
     "metadata": {},
     "output_type": "display_data"
    },
    {
     "name": "stdout",
     "output_type": "stream",
     "text": [
      "\n",
      "train_loss_epoch: 0.23784705996513367\n"
     ]
    },
    {
     "data": {
      "application/vnd.jupyter.widget-view+json": {
       "model_id": "ee4d21ca16f24222a87e9ec0cb52911a",
       "version_major": 2,
       "version_minor": 0
      },
      "text/plain": [
       "  0%|          | 0/10 [00:00<?, ?it/s]"
      ]
     },
     "metadata": {},
     "output_type": "display_data"
    },
    {
     "name": "stdout",
     "output_type": "stream",
     "text": [
      "\n",
      "accuracy: 0.9522691965103149\n",
      "\n",
      "eval_loss_epoch: 0.1721988469362259\n",
      "\n",
      "lr: 6.205554551086733e-05\n",
      "\n",
      "ema_model_accuracy: 0.9514867067337036\n",
      "\n",
      "Starting epoch 18\n"
     ]
    },
    {
     "data": {
      "application/vnd.jupyter.widget-view+json": {
       "model_id": "b7ed0bbd635c4d70b415c3e0d9161a57",
       "version_major": 2,
       "version_minor": 0
      },
      "text/plain": [
       "  0%|          | 0/90 [00:00<?, ?it/s]"
      ]
     },
     "metadata": {},
     "output_type": "display_data"
    },
    {
     "name": "stdout",
     "output_type": "stream",
     "text": [
      "\n",
      "train_loss_epoch: 0.24269035458564758\n"
     ]
    },
    {
     "data": {
      "application/vnd.jupyter.widget-view+json": {
       "model_id": "48b423fd4260426db5ce2a6ea026512b",
       "version_major": 2,
       "version_minor": 0
      },
      "text/plain": [
       "  0%|          | 0/10 [00:00<?, ?it/s]"
      ]
     },
     "metadata": {},
     "output_type": "display_data"
    },
    {
     "name": "stdout",
     "output_type": "stream",
     "text": [
      "\n",
      "accuracy: 0.9483568072319031\n",
      "\n",
      "eval_loss_epoch: 0.1531362235546112\n",
      "\n",
      "lr: 5.8243506019491436e-05\n",
      "\n",
      "ema_model_accuracy: 0.9507042169570923\n",
      "\n",
      "Starting epoch 19\n"
     ]
    },
    {
     "data": {
      "application/vnd.jupyter.widget-view+json": {
       "model_id": "fc4c77d1f99a4054a162419b99d214ab",
       "version_major": 2,
       "version_minor": 0
      },
      "text/plain": [
       "  0%|          | 0/90 [00:00<?, ?it/s]"
      ]
     },
     "metadata": {},
     "output_type": "display_data"
    },
    {
     "name": "stdout",
     "output_type": "stream",
     "text": [
      "\n",
      "train_loss_epoch: 0.23118956387043\n"
     ]
    },
    {
     "data": {
      "application/vnd.jupyter.widget-view+json": {
       "model_id": "105271e75c4d4dc6a9328b6146ce4012",
       "version_major": 2,
       "version_minor": 0
      },
      "text/plain": [
       "  0%|          | 0/10 [00:00<?, ?it/s]"
      ]
     },
     "metadata": {},
     "output_type": "display_data"
    },
    {
     "name": "stdout",
     "output_type": "stream",
     "text": [
      "\n",
      "accuracy: 0.9514867067337036\n",
      "\n",
      "eval_loss_epoch: 0.1675873100757599\n",
      "\n",
      "lr: 5.438372523852833e-05\n",
      "\n",
      "ema_model_accuracy: 0.9491392970085144\n",
      "\n",
      "Starting epoch 20\n"
     ]
    },
    {
     "data": {
      "application/vnd.jupyter.widget-view+json": {
       "model_id": "f953188846764b109b5838894a1ec8f9",
       "version_major": 2,
       "version_minor": 0
      },
      "text/plain": [
       "  0%|          | 0/90 [00:00<?, ?it/s]"
      ]
     },
     "metadata": {},
     "output_type": "display_data"
    },
    {
     "name": "stdout",
     "output_type": "stream",
     "text": [
      "\n",
      "train_loss_epoch: 0.22193004190921783\n"
     ]
    },
    {
     "data": {
      "application/vnd.jupyter.widget-view+json": {
       "model_id": "ae3eab5988264518b481fb18d324b9f5",
       "version_major": 2,
       "version_minor": 0
      },
      "text/plain": [
       "  0%|          | 0/10 [00:00<?, ?it/s]"
      ]
     },
     "metadata": {},
     "output_type": "display_data"
    },
    {
     "name": "stdout",
     "output_type": "stream",
     "text": [
      "\n",
      "accuracy: 0.9507042169570923\n",
      "\n",
      "eval_loss_epoch: 0.16272132098674774\n",
      "\n",
      "lr: 5.05e-05\n",
      "\n",
      "ema_model_accuracy: 0.9507042169570923\n",
      "\n",
      "Starting epoch 21\n"
     ]
    },
    {
     "data": {
      "application/vnd.jupyter.widget-view+json": {
       "model_id": "554b532e99ed4f1a8914dc6ca95e485f",
       "version_major": 2,
       "version_minor": 0
      },
      "text/plain": [
       "  0%|          | 0/90 [00:00<?, ?it/s]"
      ]
     },
     "metadata": {},
     "output_type": "display_data"
    },
    {
     "name": "stdout",
     "output_type": "stream",
     "text": [
      "\n",
      "train_loss_epoch: 0.22126761078834534\n"
     ]
    },
    {
     "data": {
      "application/vnd.jupyter.widget-view+json": {
       "model_id": "92f852f10eea4ec39fb8b3136dae5fdc",
       "version_major": 2,
       "version_minor": 0
      },
      "text/plain": [
       "  0%|          | 0/10 [00:00<?, ?it/s]"
      ]
     },
     "metadata": {},
     "output_type": "display_data"
    },
    {
     "name": "stdout",
     "output_type": "stream",
     "text": [
      "\n",
      "accuracy: 0.9507042169570923\n",
      "\n",
      "eval_loss_epoch: 0.15444828569889069\n",
      "\n",
      "lr: 4.661627476147168e-05\n",
      "\n",
      "ema_model_accuracy: 0.949921727180481\n",
      "\n",
      "Starting epoch 22\n"
     ]
    },
    {
     "data": {
      "application/vnd.jupyter.widget-view+json": {
       "model_id": "77d80727fab6456db6ed68b8a57b7428",
       "version_major": 2,
       "version_minor": 0
      },
      "text/plain": [
       "  0%|          | 0/90 [00:00<?, ?it/s]"
      ]
     },
     "metadata": {},
     "output_type": "display_data"
    },
    {
     "name": "stdout",
     "output_type": "stream",
     "text": [
      "\n",
      "train_loss_epoch: 0.2209760844707489\n"
     ]
    },
    {
     "data": {
      "application/vnd.jupyter.widget-view+json": {
       "model_id": "81d64c2cd5614339b19e426d5c334020",
       "version_major": 2,
       "version_minor": 0
      },
      "text/plain": [
       "  0%|          | 0/10 [00:00<?, ?it/s]"
      ]
     },
     "metadata": {},
     "output_type": "display_data"
    },
    {
     "name": "stdout",
     "output_type": "stream",
     "text": [
      "\n",
      "accuracy: 0.9467918872833252\n",
      "\n",
      "eval_loss_epoch: 0.17869295179843903\n",
      "\n",
      "lr: 4.2756493980508586e-05\n",
      "\n",
      "ema_model_accuracy: 0.949921727180481\n",
      "\n",
      "Starting epoch 23\n"
     ]
    },
    {
     "data": {
      "application/vnd.jupyter.widget-view+json": {
       "model_id": "69cdefd63a4347dca07661b3cf0e9403",
       "version_major": 2,
       "version_minor": 0
      },
      "text/plain": [
       "  0%|          | 0/90 [00:00<?, ?it/s]"
      ]
     },
     "metadata": {},
     "output_type": "display_data"
    },
    {
     "name": "stdout",
     "output_type": "stream",
     "text": [
      "\n",
      "train_loss_epoch: 0.21916182339191437\n"
     ]
    },
    {
     "data": {
      "application/vnd.jupyter.widget-view+json": {
       "model_id": "5446e9e5c856425cb5450192b4e9a423",
       "version_major": 2,
       "version_minor": 0
      },
      "text/plain": [
       "  0%|          | 0/10 [00:00<?, ?it/s]"
      ]
     },
     "metadata": {},
     "output_type": "display_data"
    },
    {
     "name": "stdout",
     "output_type": "stream",
     "text": [
      "\n",
      "accuracy: 0.9483568072319031\n",
      "\n",
      "eval_loss_epoch: 0.17194324731826782\n",
      "\n",
      "lr: 3.894445448913269e-05\n",
      "\n",
      "ema_model_accuracy: 0.949921727180481\n",
      "\n",
      "Starting epoch 24\n"
     ]
    },
    {
     "data": {
      "application/vnd.jupyter.widget-view+json": {
       "model_id": "5707aa860d2342c7adda87901136064e",
       "version_major": 2,
       "version_minor": 0
      },
      "text/plain": [
       "  0%|          | 0/90 [00:00<?, ?it/s]"
      ]
     },
     "metadata": {},
     "output_type": "display_data"
    },
    {
     "name": "stdout",
     "output_type": "stream",
     "text": [
      "\n",
      "train_loss_epoch: 0.21273623406887054\n"
     ]
    },
    {
     "data": {
      "application/vnd.jupyter.widget-view+json": {
       "model_id": "c5a6d374cb9a4fbebebd255095351636",
       "version_major": 2,
       "version_minor": 0
      },
      "text/plain": [
       "  0%|          | 0/10 [00:00<?, ?it/s]"
      ]
     },
     "metadata": {},
     "output_type": "display_data"
    },
    {
     "name": "stdout",
     "output_type": "stream",
     "text": [
      "\n",
      "accuracy: 0.9522691965103149\n",
      "\n",
      "eval_loss_epoch: 0.15713368356227875\n",
      "\n",
      "lr: 3.5203658778440106e-05\n",
      "\n",
      "ema_model_accuracy: 0.9514867067337036\n",
      "\n",
      "Starting epoch 25\n"
     ]
    },
    {
     "data": {
      "application/vnd.jupyter.widget-view+json": {
       "model_id": "61e350b1b9534015a657bfef79f83f0e",
       "version_major": 2,
       "version_minor": 0
      },
      "text/plain": [
       "  0%|          | 0/90 [00:00<?, ?it/s]"
      ]
     },
     "metadata": {},
     "output_type": "display_data"
    },
    {
     "name": "stdout",
     "output_type": "stream",
     "text": [
      "\n",
      "train_loss_epoch: 0.21440492570400238\n"
     ]
    },
    {
     "data": {
      "application/vnd.jupyter.widget-view+json": {
       "model_id": "0fefffc7613f453a82a1d5e611456e41",
       "version_major": 2,
       "version_minor": 0
      },
      "text/plain": [
       "  0%|          | 0/10 [00:00<?, ?it/s]"
      ]
     },
     "metadata": {},
     "output_type": "display_data"
    },
    {
     "name": "stdout",
     "output_type": "stream",
     "text": [
      "\n",
      "accuracy: 0.9507042169570923\n",
      "\n",
      "eval_loss_epoch: 0.16688521206378937\n",
      "\n",
      "lr: 3.1557170097928055e-05\n",
      "\n",
      "ema_model_accuracy: 0.9522691965103149\n",
      "\n",
      "Starting epoch 26\n"
     ]
    },
    {
     "data": {
      "application/vnd.jupyter.widget-view+json": {
       "model_id": "3886180c0f864fbc92dbbb74339c45d7",
       "version_major": 2,
       "version_minor": 0
      },
      "text/plain": [
       "  0%|          | 0/90 [00:00<?, ?it/s]"
      ]
     },
     "metadata": {},
     "output_type": "display_data"
    },
    {
     "name": "stdout",
     "output_type": "stream",
     "text": [
      "\n",
      "train_loss_epoch: 0.202168270945549\n"
     ]
    },
    {
     "data": {
      "application/vnd.jupyter.widget-view+json": {
       "model_id": "30c7d71c81764c179a2ce110fb746493",
       "version_major": 2,
       "version_minor": 0
      },
      "text/plain": [
       "  0%|          | 0/10 [00:00<?, ?it/s]"
      ]
     },
     "metadata": {},
     "output_type": "display_data"
    },
    {
     "name": "stdout",
     "output_type": "stream",
     "text": [
      "\n",
      "accuracy: 0.9530516266822815\n",
      "\n",
      "eval_loss_epoch: 0.1691959649324417\n",
      "\n",
      "lr: 2.8027470262892437e-05\n",
      "\n",
      "ema_model_accuracy: 0.9507042169570923\n",
      "\n",
      "Starting epoch 27\n"
     ]
    },
    {
     "data": {
      "application/vnd.jupyter.widget-view+json": {
       "model_id": "5671fdb3d60841628c135a24e8e25a09",
       "version_major": 2,
       "version_minor": 0
      },
      "text/plain": [
       "  0%|          | 0/90 [00:00<?, ?it/s]"
      ]
     },
     "metadata": {},
     "output_type": "display_data"
    },
    {
     "name": "stdout",
     "output_type": "stream",
     "text": [
      "\n",
      "train_loss_epoch: 0.20578643679618835\n"
     ]
    },
    {
     "data": {
      "application/vnd.jupyter.widget-view+json": {
       "model_id": "47c537b403e849bc984cc041bad2ef28",
       "version_major": 2,
       "version_minor": 0
      },
      "text/plain": [
       "  0%|          | 0/10 [00:00<?, ?it/s]"
      ]
     },
     "metadata": {},
     "output_type": "display_data"
    },
    {
     "name": "stdout",
     "output_type": "stream",
     "text": [
      "\n",
      "accuracy: 0.9483568072319031\n",
      "\n",
      "eval_loss_epoch: 0.16737885773181915\n",
      "\n",
      "lr: 2.4636321046560538e-05\n",
      "\n",
      "ema_model_accuracy: 0.9507042169570923\n",
      "\n",
      "Starting epoch 28\n"
     ]
    },
    {
     "data": {
      "application/vnd.jupyter.widget-view+json": {
       "model_id": "b3330df0762c479db203c21263bad313",
       "version_major": 2,
       "version_minor": 0
      },
      "text/plain": [
       "  0%|          | 0/90 [00:00<?, ?it/s]"
      ]
     },
     "metadata": {},
     "output_type": "display_data"
    },
    {
     "name": "stdout",
     "output_type": "stream",
     "text": [
      "\n",
      "train_loss_epoch: 0.198292076587677\n"
     ]
    },
    {
     "data": {
      "application/vnd.jupyter.widget-view+json": {
       "model_id": "a9704c1d50f648fd88180598c0af0cc9",
       "version_major": 2,
       "version_minor": 0
      },
      "text/plain": [
       "  0%|          | 0/10 [00:00<?, ?it/s]"
      ]
     },
     "metadata": {},
     "output_type": "display_data"
    },
    {
     "name": "stdout",
     "output_type": "stream",
     "text": [
      "\n",
      "accuracy: 0.9522691965103149\n",
      "\n",
      "eval_loss_epoch: 0.18693190813064575\n",
      "\n",
      "lr: 2.1404630011522586e-05\n",
      "\n",
      "ema_model_accuracy: 0.9522691965103149\n",
      "\n",
      "Starting epoch 29\n"
     ]
    },
    {
     "data": {
      "application/vnd.jupyter.widget-view+json": {
       "model_id": "85d3f4c2d28e4bd3bfc4dd35b220c7b9",
       "version_major": 2,
       "version_minor": 0
      },
      "text/plain": [
       "  0%|          | 0/90 [00:00<?, ?it/s]"
      ]
     },
     "metadata": {},
     "output_type": "display_data"
    },
    {
     "name": "stdout",
     "output_type": "stream",
     "text": [
      "\n",
      "train_loss_epoch: 0.19890746474266052\n"
     ]
    },
    {
     "data": {
      "application/vnd.jupyter.widget-view+json": {
       "model_id": "5c582bc7fe90473a8e122bba08b8845b",
       "version_major": 2,
       "version_minor": 0
      },
      "text/plain": [
       "  0%|          | 0/10 [00:00<?, ?it/s]"
      ]
     },
     "metadata": {},
     "output_type": "display_data"
    },
    {
     "name": "stdout",
     "output_type": "stream",
     "text": [
      "\n",
      "accuracy: 0.9569640159606934\n",
      "\n",
      "eval_loss_epoch: 0.18155108392238617\n",
      "\n",
      "lr: 1.8352321607655915e-05\n",
      "\n",
      "ema_model_accuracy: 0.9530516266822815\n",
      "\n",
      "Starting epoch 30\n"
     ]
    },
    {
     "data": {
      "application/vnd.jupyter.widget-view+json": {
       "model_id": "5aed915e8e87446a888d17fab42afa9b",
       "version_major": 2,
       "version_minor": 0
      },
      "text/plain": [
       "  0%|          | 0/90 [00:00<?, ?it/s]"
      ]
     },
     "metadata": {},
     "output_type": "display_data"
    },
    {
     "name": "stdout",
     "output_type": "stream",
     "text": [
      "\n",
      "train_loss_epoch: 0.18857213854789734\n"
     ]
    },
    {
     "data": {
      "application/vnd.jupyter.widget-view+json": {
       "model_id": "55c760cb41f841d7b0d7404ba6d3d915",
       "version_major": 2,
       "version_minor": 0
      },
      "text/plain": [
       "  0%|          | 0/10 [00:00<?, ?it/s]"
      ]
     },
     "metadata": {},
     "output_type": "display_data"
    },
    {
     "name": "stdout",
     "output_type": "stream",
     "text": [
      "\n",
      "accuracy: 0.9553990364074707\n",
      "\n",
      "eval_loss_epoch: 0.1853252500295639\n",
      "\n",
      "lr: 1.54982143312659e-05\n",
      "\n",
      "ema_model_accuracy: 0.9538341164588928\n",
      "\n",
      "Starting epoch 31\n"
     ]
    },
    {
     "data": {
      "application/vnd.jupyter.widget-view+json": {
       "model_id": "94bc93173f1c4810aba803cb2654cac5",
       "version_major": 2,
       "version_minor": 0
      },
      "text/plain": [
       "  0%|          | 0/90 [00:00<?, ?it/s]"
      ]
     },
     "metadata": {},
     "output_type": "display_data"
    },
    {
     "name": "stdout",
     "output_type": "stream",
     "text": [
      "\n",
      "train_loss_epoch: 0.19555076956748962\n"
     ]
    },
    {
     "data": {
      "application/vnd.jupyter.widget-view+json": {
       "model_id": "d5c69114bf7e4ce58a3234f99b8a5ade",
       "version_major": 2,
       "version_minor": 0
      },
      "text/plain": [
       "  0%|          | 0/10 [00:00<?, ?it/s]"
      ]
     },
     "metadata": {},
     "output_type": "display_data"
    },
    {
     "name": "stdout",
     "output_type": "stream",
     "text": [
      "\n",
      "accuracy: 0.9538341164588928\n",
      "\n",
      "eval_loss_epoch: 0.18252265453338623\n",
      "\n",
      "lr: 1.285990470279847e-05\n",
      "\n",
      "ema_model_accuracy: 0.9538341164588928\n",
      "\n",
      "Starting epoch 32\n"
     ]
    },
    {
     "data": {
      "application/vnd.jupyter.widget-view+json": {
       "model_id": "307e27ce09a14a6f8e34a5bc9d5816a1",
       "version_major": 2,
       "version_minor": 0
      },
      "text/plain": [
       "  0%|          | 0/90 [00:00<?, ?it/s]"
      ]
     },
     "metadata": {},
     "output_type": "display_data"
    },
    {
     "name": "stdout",
     "output_type": "stream",
     "text": [
      "\n",
      "train_loss_epoch: 0.19871355593204498\n"
     ]
    },
    {
     "data": {
      "application/vnd.jupyter.widget-view+json": {
       "model_id": "e9d47e8877954763bbaa5c2dccbe9ba6",
       "version_major": 2,
       "version_minor": 0
      },
      "text/plain": [
       "  0%|          | 0/10 [00:00<?, ?it/s]"
      ]
     },
     "metadata": {},
     "output_type": "display_data"
    },
    {
     "name": "stdout",
     "output_type": "stream",
     "text": [
      "\n",
      "accuracy: 0.9538341164588928\n",
      "\n",
      "eval_loss_epoch: 0.18406565487384796\n",
      "\n",
      "lr: 1.0453658778440109e-05\n",
      "\n",
      "ema_model_accuracy: 0.9546166062355042\n",
      "\n",
      "Starting epoch 33\n"
     ]
    },
    {
     "data": {
      "application/vnd.jupyter.widget-view+json": {
       "model_id": "1d33669fb29b4886bb7c728eb48dacc3",
       "version_major": 2,
       "version_minor": 0
      },
      "text/plain": [
       "  0%|          | 0/90 [00:00<?, ?it/s]"
      ]
     },
     "metadata": {},
     "output_type": "display_data"
    },
    {
     "name": "stdout",
     "output_type": "stream",
     "text": [
      "\n",
      "train_loss_epoch: 0.18855294585227966\n"
     ]
    },
    {
     "data": {
      "application/vnd.jupyter.widget-view+json": {
       "model_id": "e348144ad54243f99d133e1dd4a3c60a",
       "version_major": 2,
       "version_minor": 0
      },
      "text/plain": [
       "  0%|          | 0/10 [00:00<?, ?it/s]"
      ]
     },
     "metadata": {},
     "output_type": "display_data"
    },
    {
     "name": "stdout",
     "output_type": "stream",
     "text": [
      "\n",
      "accuracy: 0.9522691965103149\n",
      "\n",
      "eval_loss_epoch: 0.19184967875480652\n",
      "\n",
      "lr: 8.294311864472437e-06\n",
      "\n",
      "ema_model_accuracy: 0.956181526184082\n",
      "\n",
      "Starting epoch 34\n"
     ]
    },
    {
     "data": {
      "application/vnd.jupyter.widget-view+json": {
       "model_id": "bb454db65f2e44ca94279c07a3ddc763",
       "version_major": 2,
       "version_minor": 0
      },
      "text/plain": [
       "  0%|          | 0/90 [00:00<?, ?it/s]"
      ]
     },
     "metadata": {},
     "output_type": "display_data"
    },
    {
     "name": "stdout",
     "output_type": "stream",
     "text": [
      "\n",
      "train_loss_epoch: 0.1819048523902893\n"
     ]
    },
    {
     "data": {
      "application/vnd.jupyter.widget-view+json": {
       "model_id": "18deb43f8969408c9f725186651b028e",
       "version_major": 2,
       "version_minor": 0
      },
      "text/plain": [
       "  0%|          | 0/10 [00:00<?, ?it/s]"
      ]
     },
     "metadata": {},
     "output_type": "display_data"
    },
    {
     "name": "stdout",
     "output_type": "stream",
     "text": [
      "\n",
      "accuracy: 0.9530516266822815\n",
      "\n",
      "eval_loss_epoch: 0.19436053931713104\n",
      "\n",
      "lr: 6.395177052675795e-06\n",
      "\n",
      "ema_model_accuracy: 0.9553990364074707\n",
      "\n",
      "Starting epoch 35\n"
     ]
    },
    {
     "data": {
      "application/vnd.jupyter.widget-view+json": {
       "model_id": "3e9b4269d17f4dd096ec8d3aa297f3d7",
       "version_major": 2,
       "version_minor": 0
      },
      "text/plain": [
       "  0%|          | 0/90 [00:00<?, ?it/s]"
      ]
     },
     "metadata": {},
     "output_type": "display_data"
    },
    {
     "name": "stdout",
     "output_type": "stream",
     "text": [
      "\n",
      "train_loss_epoch: 0.18453256785869598\n"
     ]
    },
    {
     "data": {
      "application/vnd.jupyter.widget-view+json": {
       "model_id": "302af6beba464f95b20cca510cfbe2dc",
       "version_major": 2,
       "version_minor": 0
      },
      "text/plain": [
       "  0%|          | 0/10 [00:00<?, ?it/s]"
      ]
     },
     "metadata": {},
     "output_type": "display_data"
    },
    {
     "name": "stdout",
     "output_type": "stream",
     "text": [
      "\n",
      "accuracy: 0.9546166062355042\n",
      "\n",
      "eval_loss_epoch: 0.18910588324069977\n",
      "\n",
      "lr: 4.767963140691306e-06\n",
      "\n",
      "ema_model_accuracy: 0.9546166062355042\n",
      "\n",
      "Starting epoch 36\n"
     ]
    },
    {
     "data": {
      "application/vnd.jupyter.widget-view+json": {
       "model_id": "701278f61242411990edbca779dfb9a2",
       "version_major": 2,
       "version_minor": 0
      },
      "text/plain": [
       "  0%|          | 0/90 [00:00<?, ?it/s]"
      ]
     },
     "metadata": {},
     "output_type": "display_data"
    },
    {
     "name": "stdout",
     "output_type": "stream",
     "text": [
      "\n",
      "train_loss_epoch: 0.1849263310432434\n"
     ]
    },
    {
     "data": {
      "application/vnd.jupyter.widget-view+json": {
       "model_id": "f1364ae8214545918a00f17e4636fab3",
       "version_major": 2,
       "version_minor": 0
      },
      "text/plain": [
       "  0%|          | 0/10 [00:00<?, ?it/s]"
      ]
     },
     "metadata": {},
     "output_type": "display_data"
    },
    {
     "name": "stdout",
     "output_type": "stream",
     "text": [
      "\n",
      "accuracy: 0.9538341164588928\n",
      "\n",
      "eval_loss_epoch: 0.19154872000217438\n",
      "\n",
      "lr: 3.4227024433899e-06\n",
      "\n",
      "ema_model_accuracy: 0.9538341164588928\n",
      "\n",
      "Starting epoch 37\n"
     ]
    },
    {
     "data": {
      "application/vnd.jupyter.widget-view+json": {
       "model_id": "5f456080bc0c4a53813dc078d37b6337",
       "version_major": 2,
       "version_minor": 0
      },
      "text/plain": [
       "  0%|          | 0/90 [00:00<?, ?it/s]"
      ]
     },
     "metadata": {},
     "output_type": "display_data"
    },
    {
     "name": "stdout",
     "output_type": "stream",
     "text": [
      "\n",
      "train_loss_epoch: 0.1834753304719925\n"
     ]
    },
    {
     "data": {
      "application/vnd.jupyter.widget-view+json": {
       "model_id": "805c944b69224f15baba2ca83e2c2f30",
       "version_major": 2,
       "version_minor": 0
      },
      "text/plain": [
       "  0%|          | 0/10 [00:00<?, ?it/s]"
      ]
     },
     "metadata": {},
     "output_type": "display_data"
    },
    {
     "name": "stdout",
     "output_type": "stream",
     "text": [
      "\n",
      "accuracy: 0.9522691965103149\n",
      "\n",
      "eval_loss_epoch: 0.19186413288116455\n",
      "\n",
      "lr: 2.36768894031501e-06\n",
      "\n",
      "ema_model_accuracy: 0.9546166062355042\n",
      "\n",
      "Starting epoch 38\n"
     ]
    },
    {
     "data": {
      "application/vnd.jupyter.widget-view+json": {
       "model_id": "66ddeb607955465d926da473c8c139c2",
       "version_major": 2,
       "version_minor": 0
      },
      "text/plain": [
       "  0%|          | 0/90 [00:00<?, ?it/s]"
      ]
     },
     "metadata": {},
     "output_type": "display_data"
    },
    {
     "name": "stdout",
     "output_type": "stream",
     "text": [
      "\n",
      "train_loss_epoch: 0.18235225975513458\n"
     ]
    },
    {
     "data": {
      "application/vnd.jupyter.widget-view+json": {
       "model_id": "24f21f2d2c63462089cbdbd9f6b4e081",
       "version_major": 2,
       "version_minor": 0
      },
      "text/plain": [
       "  0%|          | 0/10 [00:00<?, ?it/s]"
      ]
     },
     "metadata": {},
     "output_type": "display_data"
    },
    {
     "name": "stdout",
     "output_type": "stream",
     "text": [
      "\n",
      "accuracy: 0.9530516266822815\n",
      "\n",
      "eval_loss_epoch: 0.1900116205215454\n",
      "\n",
      "lr: 1.6094271405406859e-06\n",
      "\n",
      "ema_model_accuracy: 0.9553990364074707\n",
      "\n",
      "Starting epoch 39\n"
     ]
    },
    {
     "data": {
      "application/vnd.jupyter.widget-view+json": {
       "model_id": "d943da2079b043d5b62105c2eee4d435",
       "version_major": 2,
       "version_minor": 0
      },
      "text/plain": [
       "  0%|          | 0/90 [00:00<?, ?it/s]"
      ]
     },
     "metadata": {},
     "output_type": "display_data"
    },
    {
     "name": "stdout",
     "output_type": "stream",
     "text": [
      "\n",
      "train_loss_epoch: 0.18437615036964417\n"
     ]
    },
    {
     "data": {
      "application/vnd.jupyter.widget-view+json": {
       "model_id": "5ade37d5c35d40c7ad8e4cdce0b832e9",
       "version_major": 2,
       "version_minor": 0
      },
      "text/plain": [
       "  0%|          | 0/10 [00:00<?, ?it/s]"
      ]
     },
     "metadata": {},
     "output_type": "display_data"
    },
    {
     "name": "stdout",
     "output_type": "stream",
     "text": [
      "\n",
      "accuracy: 0.9522691965103149\n",
      "\n",
      "eval_loss_epoch: 0.1907707005739212\n",
      "\n",
      "lr: 1.1525919802101657e-06\n",
      "\n",
      "ema_model_accuracy: 0.9553990364074707\n",
      "\n",
      "Starting epoch 40\n"
     ]
    },
    {
     "data": {
      "application/vnd.jupyter.widget-view+json": {
       "model_id": "4f048f26ad1c452e932deb71b53e8d69",
       "version_major": 2,
       "version_minor": 0
      },
      "text/plain": [
       "  0%|          | 0/90 [00:00<?, ?it/s]"
      ]
     },
     "metadata": {},
     "output_type": "display_data"
    },
    {
     "name": "stdout",
     "output_type": "stream",
     "text": [
      "\n",
      "train_loss_epoch: 0.17609935998916626\n"
     ]
    },
    {
     "data": {
      "application/vnd.jupyter.widget-view+json": {
       "model_id": "5fdba22133dd4b6b8954901c19072d1e",
       "version_major": 2,
       "version_minor": 0
      },
      "text/plain": [
       "  0%|          | 0/10 [00:00<?, ?it/s]"
      ]
     },
     "metadata": {},
     "output_type": "display_data"
    },
    {
     "name": "stdout",
     "output_type": "stream",
     "text": [
      "\n",
      "accuracy: 0.9530516266822815\n",
      "\n",
      "eval_loss_epoch: 0.1941930204629898\n",
      "\n",
      "lr: 1e-06\n",
      "\n",
      "ema_model_accuracy: 0.9553990364074707\n",
      "Finishing training run\n",
      "Loading checkpoint with accuracy: 0.9569640159606934 from epoch 29\n"
     ]
    }
   ],
   "source": [
    "import argparse\n",
    "from pathlib import Path\n",
    "\n",
    "import timm\n",
    "import timm.data\n",
    "import timm.loss\n",
    "import timm.optim\n",
    "import timm.utils\n",
    "import torch\n",
    "import torchmetrics\n",
    "from timm.scheduler import CosineLRScheduler\n",
    "\n",
    "from pytorch_accelerated.callbacks import SaveBestModelCallback, ProgressBarCallback\n",
    "from pytorch_accelerated.trainer import Trainer, DEFAULT_CALLBACKS\n",
    "from pytorch_accelerated.run_config import TrainerRunConfig\n",
    "from pytorch_accelerated.utils import local_process_zero_only\n",
    "\n",
    "from PIL import Image\n",
    "\n",
    "from tqdm.auto import tqdm\n",
    "import time\n",
    "import pandas as pd\n",
    "\n",
    "from accelerate import notebook_launcher\n",
    "import accelerate\n",
    "\n",
    "class TQDM_progressbar(ProgressBarCallback):\n",
    "    \"\"\"\n",
    "    A callback which visualises the state of each training and evaluation epoch using a progress bar\n",
    "    \"\"\"\n",
    "\n",
    "    def __init__(self):\n",
    "        self.pbar = None\n",
    "\n",
    "    def on_train_epoch_start(self, trainer, **kwargs):\n",
    "        self.pbar = tqdm(\n",
    "            total=len(trainer._train_dataloader),\n",
    "            disable=not trainer._accelerator.is_local_main_process,\n",
    "        )\n",
    "\n",
    "    def on_train_step_end(self, trainer, **kwargs):\n",
    "        self.pbar.update(1)\n",
    "\n",
    "    def on_train_epoch_end(self, trainer, **kwargs):\n",
    "        self.pbar.close()\n",
    "        time.sleep(0.01)\n",
    "\n",
    "    def on_eval_epoch_start(self, trainer, **kwargs):\n",
    "        self.pbar = tqdm(\n",
    "            total=len(trainer._eval_dataloader),\n",
    "            disable=not trainer._accelerator.is_local_main_process,\n",
    "        )\n",
    "\n",
    "    def on_eval_step_end(self, trainer, **kwargs):\n",
    "        self.pbar.update(1)\n",
    "\n",
    "    def on_eval_epoch_end(self, trainer, **kwargs):\n",
    "        self.pbar.close()\n",
    "        time.sleep(0.01)\n",
    "\n",
    "class ImageDataset_new(timm.data.dataset.ImageDataset):\n",
    "    def __init__(\n",
    "            self,\n",
    "            root,\n",
    "            reader=None,\n",
    "            split='train',\n",
    "            class_map=None,\n",
    "            load_bytes=False,\n",
    "            input_img_mode='RGB',\n",
    "            transform=None,\n",
    "            target_transform=None,\n",
    "    ):\n",
    "        super().__init__(root, reader, split, class_map, load_bytes, input_img_mode, transform, target_transform)\n",
    "        \n",
    "    def __getitem__(self, index):\n",
    "        img, target = self.reader[index]\n",
    "\n",
    "        '''\n",
    "        try:\n",
    "            img = img.read() if self.load_bytes else Image.open(img)\n",
    "        except Exception as e:\n",
    "            _logger.warning(f'Skipped sample (index {index}, file {self.reader.filename(index)}). {str(e)}')\n",
    "            self._consecutive_errors += 1\n",
    "            if self._consecutive_errors < _ERROR_RETRY:\n",
    "                return self.__getitem__((index + 1) % len(self.reader))\n",
    "            else:\n",
    "                raise e\n",
    "        '''\n",
    "        self._consecutive_errors = 0\n",
    "\n",
    "        with Image.open(img) as im:\n",
    "            if self.input_img_mode and not self.load_bytes:\n",
    "                img = im.convert(self.input_img_mode)\n",
    "            \n",
    "        if self.transform is not None:\n",
    "            img = self.transform(img)\n",
    "\n",
    "        if target is None:\n",
    "            target = -1\n",
    "        elif self.target_transform is not None:\n",
    "            target = self.target_transform(target)\n",
    "\n",
    "        return img, target\n",
    "\n",
    "def create_datasets(image_size, data_mean, data_std, train_path, val_path):\n",
    "    train_transforms = timm.data.create_transform(\n",
    "        input_size=image_size,\n",
    "        is_training=True,\n",
    "        mean=data_mean,\n",
    "        std=data_std,\n",
    "        #auto_augment=\"rand-m7-mstd0.5-inc1\",\n",
    "    )\n",
    "\n",
    "    eval_transforms = timm.data.create_transform(\n",
    "        input_size=image_size, mean=data_mean, std=data_std\n",
    "    )\n",
    "\n",
    "    #train_dataset = timm.data.dataset.ImageDataset_new(\n",
    "    #train_dataset = ImageDataset_new(\n",
    "        #train_path, transform=train_transforms, load_bytes=False\n",
    "    #)\n",
    "    #eval_dataset = timm.data.dataset.ImageDataset_new(val_path, transform=eval_transforms, load_bytes=False)\n",
    "    #eval_dataset = ImageDataset_new(val_path, transform=eval_transforms, load_bytes=False)\n",
    "    from torchvision import datasets\n",
    "    train_dataset = datasets.ImageFolder(train_path, train_transforms)\n",
    "    eval_dataset = datasets.ImageFolder(val_path, eval_transforms)\n",
    "\n",
    "    return train_dataset, eval_dataset\n",
    "\n",
    "\n",
    "class TimmMixupTrainer(Trainer):\n",
    "    def __init__(self, eval_loss_fn, mixup_args, num_classes, *args, **kwargs):\n",
    "        super().__init__(*args, **kwargs)\n",
    "        self.eval_loss_fn = eval_loss_fn\n",
    "        self.num_updates = None\n",
    "        self.mixup_fn = timm.data.Mixup(**mixup_args)\n",
    "\n",
    "        self.accuracy = torchmetrics.Accuracy(num_classes=num_classes, task=\"multiclass\")\n",
    "        self.ema_accuracy = torchmetrics.Accuracy(num_classes=num_classes, task=\"multiclass\")\n",
    "        self.ema_model = None\n",
    "\n",
    "    def create_scheduler(self):\n",
    "        return timm.scheduler.CosineLRScheduler(\n",
    "            self.optimizer,\n",
    "            t_initial=self.run_config.num_epochs,\n",
    "            cycle_decay=0.5,\n",
    "            lr_min=1e-6,\n",
    "            t_in_epochs=True,\n",
    "            warmup_t=3,\n",
    "            warmup_lr_init=1e-4,\n",
    "            cycle_limit=1,\n",
    "        )\n",
    "\n",
    "    def training_run_start(self):\n",
    "        # Model EMA requires the model without a DDP wrapper and before sync batchnorm conversion\n",
    "        self.ema_model = timm.utils.ModelEmaV2(\n",
    "            self._accelerator.unwrap_model(self.model), decay=0.9\n",
    "        )\n",
    "        if self.run_config.is_distributed:\n",
    "            self.model = torch.nn.SyncBatchNorm.convert_sync_batchnorm(self.model)\n",
    "\n",
    "    def train_epoch_start(self):\n",
    "        super().train_epoch_start()\n",
    "        self.num_updates = self.run_history.current_epoch * len(self._train_dataloader)\n",
    "\n",
    "    def calculate_train_batch_loss(self, batch):\n",
    "        xb, yb = batch\n",
    "        mixup_xb, mixup_yb = self.mixup_fn(xb, yb)\n",
    "        return super().calculate_train_batch_loss((mixup_xb, mixup_yb))\n",
    "\n",
    "    def train_epoch_end(\n",
    "        self,\n",
    "    ):\n",
    "        self.ema_model.update(self.model)\n",
    "        self.ema_model.eval()\n",
    "\n",
    "        if hasattr(self.optimizer, \"sync_lookahead\"):\n",
    "            self.optimizer.sync_lookahead()\n",
    "\n",
    "        # learning rate log\n",
    "        self.run_history.update_metric(\"lr\", self.optimizer.param_groups[0]['lr'])\n",
    "\n",
    "    def scheduler_step(self):\n",
    "        self.num_updates += 1\n",
    "        if self.scheduler is not None:\n",
    "            self.scheduler.step_update(num_updates=self.num_updates)\n",
    "\n",
    "    def calculate_eval_batch_loss(self, batch):\n",
    "        with torch.no_grad():\n",
    "            xb, yb = batch\n",
    "            outputs = self.model(xb)\n",
    "            val_loss = self.eval_loss_fn(outputs, yb)\n",
    "            self.accuracy.update(outputs.argmax(-1), yb)\n",
    "\n",
    "            if self.ema_model is not None:\n",
    "                ema_model_preds = self.ema_model.module(xb).argmax(-1)\n",
    "                self.ema_accuracy.update(ema_model_preds, yb)\n",
    "\n",
    "        return {\"loss\": val_loss, \"model_outputs\": outputs, \"batch_size\": xb.size(0)}\n",
    "\n",
    "    def eval_epoch_end(self):\n",
    "        super().eval_epoch_end()\n",
    "\n",
    "        if self.scheduler is not None:\n",
    "            self.scheduler.step(self.run_history.current_epoch + 1)\n",
    "\n",
    "        self.run_history.update_metric(\"accuracy\", self.accuracy.compute().cpu())\n",
    "        self.run_history.update_metric(\n",
    "            \"ema_model_accuracy\", self.ema_accuracy.compute().cpu()\n",
    "        )\n",
    "        self.accuracy.reset()\n",
    "        self.ema_accuracy.reset()\n",
    "\n",
    "data_path='PCBData'\n",
    "# Set training arguments, hardcoded here for clarity\n",
    "image_size = (224, 224)\n",
    "#lr = 5e-3\n",
    "lr = 0.0001\n",
    "smoothing = 0.1\n",
    "mixup = 0.2\n",
    "cutmix = 1.0\n",
    "batch_size = 32\n",
    "bce_target_thresh = 0.2\n",
    "num_epochs = 40\n",
    "\n",
    "data_path = Path(data_path)\n",
    "train_path = data_path / \"train\"\n",
    "val_path = data_path / \"val\"\n",
    "\n",
    "num_classes = len(list(train_path.iterdir()))\n",
    "\n",
    "mixup_args = dict(\n",
    "    mixup_alpha=mixup,\n",
    "    cutmix_alpha=cutmix,\n",
    "    label_smoothing=smoothing,\n",
    "    num_classes=num_classes,\n",
    ")\n",
    "\n",
    "# Create model using timm\n",
    "model = timm.create_model(\n",
    "    #\"resnet50d\", pretrained=True, num_classes=num_classes, drop_path_rate=0.05\n",
    "    #\"efficientnet_b4.ra2_in1k\", pretrained=True, num_classes=num_classes, drop_path_rate=0.05\n",
    "    #\"efficientvit_b3.r224_in1k\", pretrained=True, num_classes=num_classes\n",
    "    #\"vit_base_patch16_clip_224.openai\", pretrained=True, num_classes=num_classes\n",
    "    \"vit_base_patch16_224\", pretrained=True, num_classes=num_classes\n",
    ")\n",
    "\n",
    "# Load data config associated with the model to use in data augmentation pipeline\n",
    "data_config = timm.data.resolve_data_config({}, model=model, verbose=True)\n",
    "data_mean = data_config[\"mean\"]\n",
    "data_std = data_config[\"std\"]\n",
    "\n",
    "# Create training and validation datasets\n",
    "train_dataset, eval_dataset = create_datasets(\n",
    "    train_path=train_path,\n",
    "    val_path=val_path,\n",
    "    image_size=image_size,\n",
    "    data_mean=data_mean,\n",
    "    data_std=data_std,\n",
    ")\n",
    "\n",
    "def my_train():\n",
    "    # Create optimizer\n",
    "    optimizer = timm.optim.create_optimizer_v2(\n",
    "        model, opt=\"lookahead_AdamW\", lr=lr, weight_decay=0.01\n",
    "    )\n",
    "\n",
    "    # As we are using Mixup, we can use BCE during training and CE for evaluation\n",
    "    train_loss_fn = timm.loss.BinaryCrossEntropy(\n",
    "        target_threshold=bce_target_thresh, smoothing=smoothing\n",
    "    )\n",
    "    validate_loss_fn = torch.nn.CrossEntropyLoss()\n",
    "\n",
    "    default_callbacks = list(DEFAULT_CALLBACKS)\n",
    "    default_callbacks.pop(3)\n",
    "\n",
    "    # Create trainer and start training\n",
    "    trainer = TimmMixupTrainer(\n",
    "        model=model,\n",
    "        optimizer=optimizer,\n",
    "        loss_func=train_loss_fn,\n",
    "        eval_loss_fn=validate_loss_fn,\n",
    "        mixup_args=mixup_args,\n",
    "        num_classes=num_classes,\n",
    "        callbacks=[\n",
    "            #*DEFAULT_CALLBACKS,\n",
    "            *default_callbacks,\n",
    "            SaveBestModelCallback(watch_metric=\"accuracy\", greater_is_better=True),\n",
    "            TQDM_progressbar,\n",
    "        ],\n",
    "    )\n",
    "\n",
    "    trainer.train(\n",
    "        per_device_batch_size=batch_size,\n",
    "        train_dataset=train_dataset,\n",
    "        eval_dataset=eval_dataset,\n",
    "        num_epochs=num_epochs,\n",
    "        create_scheduler_fn=trainer.create_scheduler,\n",
    "    )\n",
    "    \n",
    "    print(trainer.scheduler._get_lr())\n",
    "    \n",
    "    @local_process_zero_only\n",
    "    def save_history():\n",
    "        print(trainer.run_history.get_metric_names())\n",
    "        train_loss_epoch = trainer.run_history.get_metric_values('train_loss_epoch')\n",
    "        eval_loss_epoch = trainer.run_history.get_metric_values('eval_loss_epoch')\n",
    "        accuracy = trainer.run_history.get_metric_values('accuracy')\n",
    "        lr = trainer.run_history.get_metric_values('lr')\n",
    "        df = pd.DataFrame(data={'train_loss': train_loss_epoch,\n",
    "                                'val_loss': eval_loss_epoch,\n",
    "                                'val_acc': accuracy, \n",
    "                                'lr': lr,\n",
    "                               })\n",
    "        df.to_csv('train_history.csv')\n",
    "        #print(trainer.scheduler._get_lr())\n",
    "\n",
    "    save_history()\n",
    "    \n",
    "    #trainer.evaluate(\n",
    "    #    per_device_batch_size=batch_size,\n",
    "    #    dataset=eval_dataset,\n",
    "    #)\n",
    "\n",
    "'''\n",
    "if __name__ == \"__main__\":\n",
    "    parser = argparse.ArgumentParser(description=\"Simple example of training script using timm.\")\n",
    "    parser.add_argument(\"--data_dir\", required=True, help=\"The data folder on disk.\")\n",
    "    #args = parser.parse_args(args=['--data_dir=imagenette2-320'])\n",
    "    args = parser.parse_args(args=['--data_dir=PCBData'])\n",
    "    main(args.data_dir)\n",
    "'''\n",
    "\n",
    "notebook_launcher(my_train, num_processes=4)\n",
    "#my_train()"
   ]
  },
  {
   "cell_type": "code",
   "execution_count": 2,
   "id": "3b2c0935-3a5e-4167-838d-0492b896b34e",
   "metadata": {},
   "outputs": [],
   "source": [
    "!cp train_history.csv train_history_vit.csv\n",
    "!cp best_model.pt best_model_vit.pt"
   ]
  },
  {
   "cell_type": "code",
   "execution_count": 5,
   "id": "eeca27a0-3ff2-4ac4-a36b-7fa8470013be",
   "metadata": {},
   "outputs": [
    {
     "data": {
      "text/html": [
       "<div>\n",
       "<style scoped>\n",
       "    .dataframe tbody tr th:only-of-type {\n",
       "        vertical-align: middle;\n",
       "    }\n",
       "\n",
       "    .dataframe tbody tr th {\n",
       "        vertical-align: top;\n",
       "    }\n",
       "\n",
       "    .dataframe thead th {\n",
       "        text-align: right;\n",
       "    }\n",
       "</style>\n",
       "<table border=\"1\" class=\"dataframe\">\n",
       "  <thead>\n",
       "    <tr style=\"text-align: right;\">\n",
       "      <th></th>\n",
       "      <th>Unnamed: 0</th>\n",
       "      <th>train_loss</th>\n",
       "    </tr>\n",
       "  </thead>\n",
       "  <tbody>\n",
       "    <tr>\n",
       "      <th>0</th>\n",
       "      <td>0</td>\n",
       "      <td>0.455106</td>\n",
       "    </tr>\n",
       "    <tr>\n",
       "      <th>1</th>\n",
       "      <td>1</td>\n",
       "      <td>0.355934</td>\n",
       "    </tr>\n",
       "    <tr>\n",
       "      <th>2</th>\n",
       "      <td>2</td>\n",
       "      <td>0.296347</td>\n",
       "    </tr>\n",
       "    <tr>\n",
       "      <th>3</th>\n",
       "      <td>3</td>\n",
       "      <td>0.281948</td>\n",
       "    </tr>\n",
       "  </tbody>\n",
       "</table>\n",
       "</div>"
      ],
      "text/plain": [
       "   Unnamed: 0  train_loss\n",
       "0           0    0.455106\n",
       "1           1    0.355934\n",
       "2           2    0.296347\n",
       "3           3    0.281948"
      ]
     },
     "execution_count": 5,
     "metadata": {},
     "output_type": "execute_result"
    }
   ],
   "source": [
    "df = pd.read_csv('train_history_vit.csv')\n",
    "df"
   ]
  },
  {
   "cell_type": "code",
   "execution_count": 5,
   "id": "54ec1608-6924-46ae-8b1b-e282bbf0be76",
   "metadata": {},
   "outputs": [
    {
     "ename": "TypeError",
     "evalue": "__init__() missing 16 required positional arguments: 'num_epochs', 'train_per_device_batch_size', 'train_dl_kwargs', 'eval_per_device_batch_size', 'eval_dl_kwargs', 'gradient_accumulation_steps', 'gradient_clip_value', 'train_total_batch_size', 'eval_total_batch_size', 'num_update_steps_per_epoch', 'max_num_train_steps', 'is_local_process_zero', 'is_world_process_zero', 'is_distributed', 'mixed_precision', and 'num_processes'",
     "output_type": "error",
     "traceback": [
      "\u001b[0;31m---------------------------------------------------------------------------\u001b[0m",
      "\u001b[0;31mTypeError\u001b[0m                                 Traceback (most recent call last)",
      "Cell \u001b[0;32mIn[5], line 1\u001b[0m\n\u001b[0;32m----> 1\u001b[0m \u001b[43mTrainerRunConfig\u001b[49m\u001b[43m(\u001b[49m\u001b[43m)\u001b[49m\n",
      "\u001b[0;31mTypeError\u001b[0m: __init__() missing 16 required positional arguments: 'num_epochs', 'train_per_device_batch_size', 'train_dl_kwargs', 'eval_per_device_batch_size', 'eval_dl_kwargs', 'gradient_accumulation_steps', 'gradient_clip_value', 'train_total_batch_size', 'eval_total_batch_size', 'num_update_steps_per_epoch', 'max_num_train_steps', 'is_local_process_zero', 'is_world_process_zero', 'is_distributed', 'mixed_precision', and 'num_processes'"
     ]
    }
   ],
   "source": [
    "TrainerRunConfig()"
   ]
  },
  {
   "cell_type": "code",
   "execution_count": 3,
   "id": "67c1c964-3c48-4b4a-bc4a-7d4cfb9353ad",
   "metadata": {},
   "outputs": [
    {
     "data": {
      "text/plain": [
       "[tensor(0.9085), tensor(0.9116), tensor(0.9382), tensor(0.9366)]"
      ]
     },
     "execution_count": 3,
     "metadata": {},
     "output_type": "execute_result"
    }
   ],
   "source": [
    "trainer_bak.run_history.get_metric_values('accuracy')"
   ]
  },
  {
   "cell_type": "code",
   "execution_count": 2,
   "id": "cf608911-345b-46be-bf4e-c5c7590a3829",
   "metadata": {},
   "outputs": [
    {
     "name": "stdout",
     "output_type": "stream",
     "text": [
      "\n",
      "Starting evaluation run\n"
     ]
    },
    {
     "name": "stderr",
     "output_type": "stream",
     "text": [
      " 92%|██████████████████████████████████████████████████████████████████████████████████████████████████████████▍        | 37/40 [00:01<00:00, 35.36it/s]/home/kotech/venv-lightning/lib/python3.8/site-packages/torchmetrics/utilities/prints.py:43: UserWarning: The ``compute`` method of metric MulticlassAccuracy was called before the ``update`` method which may lead to errors, as metric states have not yet been updated.\n",
      "  warnings.warn(*args, **kwargs)  # noqa: B028\n",
      "100%|███████████████████████████████████████████████████████████████████████████████████████████████████████████████████| 40/40 [00:01<00:00, 21.40it/s]"
     ]
    },
    {
     "name": "stdout",
     "output_type": "stream",
     "text": [
      "\n",
      "evaluation_loss: 0.1907775104045868\n",
      "\n",
      "ema_model_accuracy: 0.0\n",
      "\n",
      "accuracy: 0.942097008228302\n",
      "Finishing evaluation run\n"
     ]
    },
    {
     "name": "stderr",
     "output_type": "stream",
     "text": [
      "\n"
     ]
    }
   ],
   "source": [
    "\n",
    "# Create optimizer\n",
    "optimizer = timm.optim.create_optimizer_v2(\n",
    "    model, opt=\"lookahead_AdamW\", lr=lr, weight_decay=0.01\n",
    ")\n",
    "\n",
    "# As we are using Mixup, we can use BCE during training and CE for evaluation\n",
    "train_loss_fn = timm.loss.BinaryCrossEntropy(\n",
    "    target_threshold=bce_target_thresh, smoothing=smoothing\n",
    ")\n",
    "validate_loss_fn = torch.nn.CrossEntropyLoss()\n",
    "eval_trainer = TimmMixupTrainer(\n",
    "    model=model,\n",
    "    optimizer=optimizer,\n",
    "    loss_func=train_loss_fn,\n",
    "    eval_loss_fn=validate_loss_fn,\n",
    "    mixup_args=mixup_args,\n",
    "    num_classes=num_classes,\n",
    "    callbacks=[\n",
    "        *DEFAULT_CALLBACKS,\n",
    "        #TQDM_progressbar,\n",
    "    ],\n",
    ")\n",
    "eval_trainer.load_checkpoint('best_model.pt', load_optimizer=False)\n",
    "eval_trainer.evaluate(\n",
    "        per_device_batch_size=batch_size,\n",
    "        dataset=eval_dataset,\n",
    "      )"
   ]
  },
  {
   "cell_type": "code",
   "execution_count": 5,
   "id": "3878b99d-0634-46ed-afea-b40ef4956310",
   "metadata": {},
   "outputs": [
    {
     "ename": "AttributeError",
     "evalue": "'NoneType' object has no attribute '_get_lr'",
     "output_type": "error",
     "traceback": [
      "\u001b[0;31m---------------------------------------------------------------------------\u001b[0m",
      "\u001b[0;31mAttributeError\u001b[0m                            Traceback (most recent call last)",
      "Cell \u001b[0;32mIn[5], line 1\u001b[0m\n\u001b[0;32m----> 1\u001b[0m \u001b[43meval_trainer\u001b[49m\u001b[38;5;241;43m.\u001b[39;49m\u001b[43mscheduler\u001b[49m\u001b[38;5;241;43m.\u001b[39;49m\u001b[43m_get_lr\u001b[49m()\n",
      "\u001b[0;31mAttributeError\u001b[0m: 'NoneType' object has no attribute '_get_lr'"
     ]
    }
   ],
   "source": [
    "eval_trainer.scheduler._get_lr()"
   ]
  },
  {
   "cell_type": "markdown",
   "id": "e72b845c-67ef-4685-9c49-14065700c4f4",
   "metadata": {},
   "source": [
    "https://github.com/huggingface/accelerate/blob/main/examples/cv_example.py"
   ]
  },
  {
   "cell_type": "code",
   "execution_count": 26,
   "id": "3e0a780f-0ffe-43d5-810f-517c484da966",
   "metadata": {},
   "outputs": [
    {
     "name": "stdout",
     "output_type": "stream",
     "text": [
      "tensor([1, 1, 1, 0, 1, 1, 0, 0, 0, 0, 0, 0, 0, 0, 0, 0, 0, 0, 0, 0, 0, 0, 0, 0,\n",
      "        0, 0, 1, 0, 0, 0, 0, 0, 0, 0, 0, 1, 0, 0, 1, 1, 0, 0, 0, 0, 0, 0, 0, 0,\n",
      "        0, 0, 0, 0, 0, 0, 0, 0, 0, 0, 0, 0, 0, 0, 0, 0])\n",
      "tensor([0, 0, 0, 0, 0, 0, 0, 0, 0, 0, 0, 0, 0, 0, 0, 0, 0, 0, 0, 0, 0, 0, 0, 0,\n",
      "        0, 0, 0, 0, 0, 0, 0, 0, 0, 0, 0, 0, 0, 0, 0, 0, 0, 0, 0, 0, 0, 0, 0, 0,\n",
      "        0, 0, 0, 0, 0, 0, 0, 0, 0, 0, 0, 0, 0, 0, 0, 0])\n",
      "tensor([0, 0, 0, 0, 0, 0, 0, 0, 0, 0, 0, 0, 1, 0, 0, 0, 0, 0, 0, 0, 0, 0, 0, 0,\n",
      "        0, 0, 0, 0, 0, 0, 0, 0, 0, 0, 0, 0, 0, 0, 0, 0, 0, 0, 0, 0, 0, 0, 0, 0,\n",
      "        0, 0, 0, 0, 0, 0, 0, 0, 0, 0, 0, 0, 0, 0, 0, 0])\n",
      "tensor([0, 0, 0, 0, 0, 0, 0, 0, 0, 0, 0, 0, 0, 0, 0, 0, 0, 0, 0, 0, 0, 0, 0, 0,\n",
      "        0, 0, 0, 0, 0, 0, 0, 0, 0, 0, 0, 0, 0, 0, 0, 0, 0, 0, 0, 0, 0, 0, 0, 0,\n",
      "        0, 0, 0, 0, 0, 0, 0, 0, 0, 0, 0, 0, 0, 0, 0, 0])\n",
      "tensor([0, 0, 0, 0, 0, 0, 0, 0, 0, 0, 0, 0, 0, 0, 0, 0, 0, 0, 0, 0, 0, 0, 0, 0,\n",
      "        0, 0, 0, 0, 0, 0, 1, 0, 0, 0, 0, 0, 0, 0, 0, 0, 0, 0, 0, 0, 0, 0, 0, 0,\n",
      "        0, 0, 0, 0, 0, 0, 0, 0, 0, 0, 0, 0, 0, 0, 0, 0])\n",
      "tensor([0, 0, 0, 0, 0, 0, 0, 0, 0, 0, 0, 0, 0, 0, 0, 0, 0, 0, 0, 0, 0, 0, 0, 0,\n",
      "        0, 0, 0, 0, 0, 0, 0, 0, 0, 0, 0, 0, 0, 0, 0, 0, 0, 0, 0, 0, 0, 0, 0, 0,\n",
      "        0, 0, 0, 0, 0, 0, 0, 0, 0, 0, 0, 0, 0, 0, 0, 0])\n",
      "tensor([0, 0, 0, 0, 0, 0, 0, 0, 0, 0, 0, 0, 0, 0, 0, 0, 0, 0, 0, 0, 0, 0, 0, 0,\n",
      "        0, 0, 0, 0, 0, 0, 0, 0, 0, 0, 0, 0, 0, 0, 0, 0, 0, 0, 0, 0, 0, 0, 0, 0,\n",
      "        0, 0, 0, 0, 0, 0, 0, 0, 0, 0, 0, 0, 0, 0, 1, 1])\n",
      "tensor([0, 0, 0, 0, 0, 0, 0, 0, 0, 0, 0, 0, 0, 0, 0, 0, 0, 0, 0, 0, 0, 0, 0, 0,\n",
      "        0, 0, 0, 0, 0, 0, 0, 0, 0, 0, 0, 0, 0, 0, 0, 0, 0, 0, 0, 0, 0, 0, 0, 0,\n",
      "        0, 0, 0, 0, 0, 0, 0, 0, 0, 0, 0, 0, 0, 0, 0, 0])\n",
      "tensor([0, 0, 0, 0, 0, 0, 0, 0, 0, 0, 0, 0, 0, 0, 0, 0, 0, 0, 0, 0, 0, 0, 1, 0,\n",
      "        0, 0, 0, 0, 0, 0, 0, 0, 0, 0, 0, 0, 0, 0, 0, 0, 0, 0, 0, 0, 0, 0, 0, 0,\n",
      "        0, 0, 0, 0, 0, 0, 0, 0, 0, 0, 0, 1, 0, 0, 0, 0])\n",
      "tensor([0, 0, 0, 0, 0, 0, 0, 0, 0, 0, 0, 0, 0, 0, 0, 0, 0, 0, 0, 0, 0, 0, 0, 0,\n",
      "        0, 0, 0, 0, 0, 0, 0, 0, 0, 0, 0, 0, 0, 0, 0, 0, 0, 0, 0, 0, 0, 0, 0, 0,\n",
      "        0, 0, 0, 0, 0, 0, 0, 0, 0, 0, 0, 0, 0, 0, 0, 0])\n",
      "tensor([0, 0, 0, 0, 0, 0, 0, 0, 0, 0, 0, 0, 0, 0, 0, 0, 0, 0, 0, 0, 0, 0, 0, 0,\n",
      "        0, 0, 0, 0, 0, 0, 0, 0, 0, 0, 0, 0, 0, 0, 0, 1, 0, 0, 0, 0, 0, 0, 0, 0,\n",
      "        0, 0, 0, 0, 0, 0, 0, 0, 0, 0, 0, 0, 0, 0, 0, 0])\n",
      "tensor([0, 0, 0, 0, 0, 0, 0, 0, 0, 0, 0, 0, 0, 0, 0, 0, 0, 0, 0, 0, 0, 0, 0, 0,\n",
      "        0, 0, 0, 0, 0, 0, 0, 0, 0, 0, 0, 0, 0, 0, 0, 0, 0, 0, 0, 0, 0, 0, 0, 0,\n",
      "        0, 0, 0, 0, 0, 0, 0, 0, 0, 0, 0, 0, 0, 0, 0, 0])\n",
      "tensor([0, 0, 0, 0, 0, 0, 0, 0, 0, 0, 0, 0, 0, 0, 0, 0, 0, 0, 0, 0, 0, 0, 0, 0,\n",
      "        0, 0, 0, 0, 0, 0, 0, 0, 0, 0, 0, 0, 0, 0, 0, 0, 0, 0, 0, 0, 0, 0, 0, 0,\n",
      "        0, 0, 0, 0, 0, 0, 0, 0, 0, 0, 0, 0, 0, 0, 0, 1])\n",
      "tensor([0, 0, 0, 0, 0, 0, 0, 0, 0, 0, 0, 0, 0, 0, 0, 0, 0, 0, 0, 0, 0, 0, 0, 0,\n",
      "        0, 0, 0, 0, 0, 0, 0, 0, 0, 0, 0, 0, 0, 0, 0, 0, 0, 0, 0, 0, 0, 0, 0, 0,\n",
      "        0, 0, 0, 0, 0, 0, 0, 0, 0, 0, 0, 0, 0, 0, 0, 0])\n",
      "tensor([0, 0, 0, 0, 0, 0, 0, 0, 0, 0, 0, 0, 0, 1, 0, 1, 0, 0, 0, 0, 0, 0, 0, 1,\n",
      "        0, 0, 0, 0, 0, 0, 0, 0, 0, 0, 0, 0, 0, 0, 0, 0, 0, 0, 0, 0, 0, 0, 0, 0,\n",
      "        0, 0, 0, 0, 0, 0, 1, 0, 0, 0, 0, 0, 1, 0, 0, 0])\n",
      "tensor([0, 0, 0, 0, 0, 0, 0, 0, 0, 0, 0, 0, 0, 0, 0, 0, 0, 0, 0, 0, 0, 0, 0, 0,\n",
      "        0, 0, 0, 0, 0, 0, 0, 0, 0, 0, 0, 0, 0, 0, 0, 0, 0, 0, 0, 0, 0, 0, 0, 0,\n",
      "        0, 0, 0, 0, 0, 0, 0, 0, 0, 0, 0, 0, 0, 0, 0, 0])\n",
      "tensor([0, 0, 0, 0, 0, 0, 0, 0, 1, 0, 0, 0, 0, 0, 0, 0, 0, 0, 0, 0, 0, 0, 0, 1,\n",
      "        0, 0, 0, 0, 0, 0, 0, 0, 0, 0, 0, 0, 0, 0, 0, 0, 0, 0, 0, 0, 0, 0, 0, 0,\n",
      "        0, 0, 0, 0, 0, 0, 0, 0, 0, 0, 0, 0, 0, 0, 0, 0])\n",
      "tensor([0, 0, 0, 0, 0, 0, 0, 0, 0, 0, 0, 0, 0, 0, 0, 0, 0, 0, 0, 0, 0, 0, 0, 0,\n",
      "        0, 0, 0, 0, 0, 0, 0, 0, 0, 0, 0, 0, 0, 0, 0, 0, 0, 0, 0, 0, 0, 0, 0, 0,\n",
      "        0, 0, 0, 0, 0, 0, 0, 0, 0, 0, 0, 0, 0, 0, 0, 0])\n",
      "tensor([0, 0, 0, 0, 0, 0, 0, 0, 0, 0, 0, 0, 0, 0, 0, 0, 0, 0, 0, 1, 0, 0, 0, 0,\n",
      "        0, 0, 0, 0, 0, 0, 0, 0, 0, 0, 0, 0, 0, 0, 0, 0, 0, 0, 0, 0, 0, 0, 0, 0,\n",
      "        0, 0, 0, 0, 0, 0, 0, 0, 0, 0, 0, 0, 0, 0, 0, 0])\n",
      "tensor([0, 0, 0, 0, 0, 0, 0, 0, 0, 0, 0, 0, 0, 0, 0, 0, 0, 0, 0, 0, 0, 0, 0, 0,\n",
      "        0, 0, 0, 0, 0, 0, 0, 0, 0, 0, 0, 0, 0, 0, 0, 0, 0, 0, 0, 0, 0, 0, 0, 0,\n",
      "        0, 0, 0, 0, 0, 0, 0, 0, 0, 0, 0, 0, 0, 0, 0, 0])\n",
      "tensor([0, 0, 0, 0, 0, 0, 0, 0, 0, 0, 0, 1, 0, 0, 0, 0, 0, 0, 0, 0, 0, 0, 0, 0,\n",
      "        0, 0, 0, 0, 0, 0, 0, 0, 0, 0, 0, 0, 1, 0, 0, 0, 0, 0, 0, 0, 0, 0, 0, 0,\n",
      "        0, 0, 0, 0, 0, 0, 0, 0, 0, 0, 0, 0, 0, 0, 0, 0])\n",
      "tensor([0, 0, 0, 0, 0, 0, 0, 0, 0, 0, 0, 0, 0, 0, 0, 0, 0, 0, 0, 0, 0, 0, 0, 0,\n",
      "        0, 0, 0, 0, 0, 0, 0, 0, 0, 0, 0, 0, 0, 0, 0, 0, 0, 0, 0, 0, 0, 0, 0, 0,\n",
      "        0, 0, 0, 0, 0, 0, 0, 0, 0, 0, 0, 0, 0, 0, 0, 0])\n",
      "tensor([0, 0, 0, 0, 0, 0, 0, 0, 0, 0, 0, 0, 0, 0, 0, 0, 0, 0, 0, 0, 0, 0, 0, 0,\n",
      "        0, 0, 0, 0, 0, 0, 0, 0, 0, 0, 0, 0, 0, 0, 0, 0, 0, 0, 0, 0, 0, 0, 0, 0,\n",
      "        0, 0, 0, 0, 0, 0, 0, 0, 0, 0, 0, 0, 0, 0, 0, 0])\n",
      "tensor([0, 0, 0, 0, 0, 0, 0, 0, 0, 0, 0, 0, 0, 0, 0, 0, 0, 0, 0, 0, 0, 0, 0, 0,\n",
      "        0, 0, 0, 0, 0, 0, 0, 0, 0, 0, 0, 0, 0, 0, 0, 0, 0, 0, 0, 0, 0, 0, 0, 0,\n",
      "        0, 0, 0, 0, 0, 0, 0, 0, 0, 0, 0, 0, 0, 0, 0, 0])\n",
      "tensor([0, 0, 0, 0, 0, 0, 0, 1, 0, 1, 1, 0, 0, 0, 0, 0, 0, 0, 0, 0, 0, 0, 0, 0,\n",
      "        0, 0, 0, 0, 0, 0, 0, 0, 0, 0, 0, 0, 0, 0, 0, 0, 0, 0, 0, 0, 0, 0, 1, 0,\n",
      "        0, 0, 0, 1, 0, 0, 0, 0, 0, 0, 0, 0, 0, 0, 0, 0])\n",
      "tensor([0, 0, 0, 0, 0, 0, 0, 0, 0, 0, 0, 0, 0, 0, 0, 0, 0, 0, 0, 0, 0, 0, 0, 0,\n",
      "        0, 0, 0, 0, 0, 0, 0, 0, 0, 0, 0, 0, 0, 0, 0, 0, 0, 0, 0, 0, 0, 0, 0, 0,\n",
      "        0, 0, 0, 0, 0, 0, 0, 0, 0, 0, 0, 0, 0, 0, 0, 0])\n",
      "tensor([0, 0, 0, 0, 0, 0, 0, 0, 0, 0, 0, 0, 0, 0, 0, 0, 0, 0, 0, 0, 0, 0, 0, 0,\n",
      "        0, 0, 0, 0, 0, 0, 0, 0, 0, 0, 0, 0, 0, 0, 0, 0, 0, 0, 0, 0, 0, 0, 0, 0,\n",
      "        0, 0, 0, 0, 0, 0, 0, 0, 0, 0, 0, 0, 0, 0, 0, 0])\n",
      "tensor([0, 0, 0, 0, 0, 0, 0, 0, 0, 0, 0, 0, 0, 0, 0, 0, 0, 0, 0, 0, 0, 0, 0, 0,\n",
      "        0, 0, 0, 0, 0, 0, 0, 0, 0, 0, 0, 0, 0, 0, 0, 0, 0, 0, 0, 0, 0, 0, 0, 0,\n",
      "        0, 0, 0, 0, 0, 0, 0, 0, 0, 0, 0, 0, 0, 0, 0, 0])\n",
      "tensor([0, 0, 0, 0, 0, 0, 0, 0, 0, 0, 0, 0, 0, 0, 0, 1, 0, 0, 0, 0, 0, 0, 0, 0,\n",
      "        0, 0, 0, 0, 0, 0, 0, 0, 0, 0, 0, 0, 0, 0, 0, 1, 0, 0, 0, 1, 0, 0, 0, 0,\n",
      "        0, 0, 0, 0, 0, 0, 0, 0, 0, 0, 0, 0, 0, 0, 1, 0])\n",
      "tensor([0, 0, 0, 0, 0, 0, 0, 0, 0, 0, 0, 0, 0, 0, 0, 0, 0, 0, 0, 0, 0, 0, 0, 0,\n",
      "        0, 0, 0, 0, 0, 0, 0, 0, 0, 0, 0, 0, 0, 0, 0, 0, 0, 0, 0, 0, 0, 0, 0, 0,\n",
      "        0, 0, 0, 0, 0, 0, 0, 0, 0, 0, 0, 0, 0, 0, 0, 0])\n",
      "tensor([1, 0, 0, 1, 0, 0, 0, 0, 0, 0, 0, 0, 1, 0, 1, 0, 0, 0, 0, 0, 1, 0, 1, 0,\n",
      "        0, 0, 1, 1, 0, 0, 0, 0, 0, 1, 0, 0, 0, 0, 0, 0, 0, 0, 0, 0, 0, 0, 0, 0,\n",
      "        0, 0, 0, 0, 0, 0, 0, 0, 1, 1, 1, 1, 1, 1, 1, 1])\n",
      "tensor([0, 0, 0, 0, 0, 0, 0, 0, 0, 0, 0, 0, 0, 0, 0, 0, 0, 0, 0, 0, 0, 0, 0, 0,\n",
      "        0, 0, 0, 0, 0, 0, 0, 0, 0, 0, 0, 0, 0, 0, 0, 0, 0, 0, 0, 0, 0, 0, 0, 0,\n",
      "        0, 0, 0, 0, 0, 0, 0, 0, 1, 1, 1, 1, 1, 1, 1, 1])\n",
      "tensor([1, 1, 1, 1, 1, 1, 1, 1, 1, 1, 1, 1, 1, 1, 1, 1, 1, 1, 0, 1, 1, 1, 1, 0,\n",
      "        1, 1, 1, 1, 1, 1, 1, 1, 0, 1, 1, 1, 1, 1, 1, 1, 1, 0, 1, 1, 1, 1, 1, 1,\n",
      "        1, 1, 1, 0, 0, 0, 1, 1, 1, 1, 1, 1, 1, 1, 1, 0])\n",
      "tensor([1, 1, 1, 1, 1, 1, 1, 1, 1, 1, 1, 1, 1, 1, 1, 1, 1, 1, 1, 1, 1, 1, 1, 1,\n",
      "        1, 1, 1, 1, 1, 1, 1, 1, 1, 1, 1, 1, 1, 1, 1, 1, 1, 1, 1, 1, 1, 1, 1, 1,\n",
      "        1, 1, 1, 1, 1, 1, 1, 1, 1, 1, 1, 1, 1, 1, 1, 1])\n",
      "tensor([0, 0, 1, 1, 1, 1, 1, 1, 1, 1, 1, 1, 0, 1, 1, 1, 1, 1, 1, 1, 1, 1, 1, 1,\n",
      "        0, 1, 1, 1, 1, 1, 1, 1, 1, 1, 1, 1, 1, 1, 1, 1, 1, 1, 1, 0, 1, 1, 1, 1,\n",
      "        0, 0, 1, 1, 1, 1, 1, 1, 1, 1, 1, 1, 1, 1, 1, 0])\n",
      "tensor([1, 1, 1, 1, 1, 1, 1, 1, 1, 1, 1, 1, 1, 1, 1, 1, 1, 1, 1, 1, 1, 1, 1, 1,\n",
      "        1, 1, 1, 1, 1, 1, 1, 1, 1, 1, 1, 1, 1, 1, 1, 1, 1, 1, 1, 1, 1, 1, 1, 1,\n",
      "        1, 1, 1, 1, 1, 1, 1, 1, 1, 1, 1, 1, 1, 1, 1, 1])\n",
      "tensor([1, 1, 0, 1, 1, 1, 1, 1, 1, 0, 1, 1, 1, 1, 1, 1, 1, 1, 1, 0, 1, 1, 1, 1,\n",
      "        1, 1, 1, 1, 1, 1, 1, 1, 1, 1, 1, 1, 0, 0, 1, 1, 0, 1, 1, 1, 1, 1, 0, 1,\n",
      "        1, 0, 1, 1, 1, 1, 1, 1, 1, 1, 1, 1, 0, 1, 1, 1])\n",
      "tensor([1, 1, 1, 1, 1, 1, 1, 1, 1, 1, 1, 1, 1, 1, 1, 1, 1, 1, 1, 1, 1, 1, 1, 1,\n",
      "        1, 1, 1, 1, 1, 1, 1, 1, 1, 1, 1, 1, 1, 1, 1, 1, 1, 1, 1, 1, 1, 1, 1, 1,\n",
      "        1, 1, 1, 1, 1, 1, 1, 1, 1, 1, 1, 1, 1, 1, 1, 1])\n",
      "tensor([1, 1, 0, 1, 1, 1, 1, 1, 1, 1, 1, 1, 1, 1, 1, 1, 1, 1, 1, 1, 1, 0, 1, 1,\n",
      "        1, 1, 1, 0, 1, 1, 1, 1, 1, 1, 1, 1, 1, 1, 1, 1, 1, 1, 1, 0, 1, 1, 1, 1,\n",
      "        1, 1, 0, 0, 1, 1, 1, 1, 1, 1, 1, 1, 1, 1])\n",
      "tensor([1, 1, 1, 1, 1, 1, 1, 1, 1, 1, 1, 1, 1, 1, 1, 1, 1, 1, 1, 1, 1, 1, 1, 1,\n",
      "        1, 1, 1, 1, 1, 1, 1, 1, 1, 1, 1, 1, 1, 1, 1, 1, 1, 1, 1, 1, 1, 1, 1, 1,\n",
      "        1, 1, 1, 1, 1, 1, 1, 1, 1, 1, 1, 1, 1, 1])\n"
     ]
    }
   ],
   "source": [
    "device = torch.device('cuda')\n",
    "eval_dataloader = torch.utils.data.DataLoader(eval_dataset, batch_size=64)\n",
    "for i, batch in enumerate(eval_dataloader):\n",
    "    # We could avoid this line since we set the accelerator with `device_placement=True`.\n",
    "    x, y = batch\n",
    "    x = x.to(device)\n",
    "    with torch.no_grad():\n",
    "        outputs = model(x)\n",
    "    predictions = outputs.argmax(dim=-1).to('cpu')\n",
    "    #print(predictions)\n",
    "    #print(y)\n",
    "    #predictions, references = accelerator.gather_for_metrics((predictions, batch[\"label\"]))\n",
    "    #accurate_preds = predictions == references\n",
    "    #num_elems += accurate_preds.shape[0]\n",
    "    #accurate += accurate_preds.long().sum()"
   ]
  },
  {
   "cell_type": "code",
   "execution_count": 10,
   "id": "29cb3f3c-a0f7-4a29-a0a1-8640b1adab8e",
   "metadata": {},
   "outputs": [
    {
     "data": {
      "text/plain": [
       "{'accuracy', 'ema_model_accuracy', 'evaluation_loss'}"
      ]
     },
     "execution_count": 10,
     "metadata": {},
     "output_type": "execute_result"
    }
   ],
   "source": [
    "eval_trainer.run_history.get_metric_names()"
   ]
  },
  {
   "cell_type": "code",
   "execution_count": 12,
   "id": "4bac8bc3-2550-4a3b-9120-209d74b39022",
   "metadata": {},
   "outputs": [
    {
     "data": {
      "text/plain": [
       "[tensor(0.3466)]"
      ]
     },
     "execution_count": 12,
     "metadata": {},
     "output_type": "execute_result"
    }
   ],
   "source": [
    "eval_trainer.run_history.get_metric_values('accuracy')"
   ]
  },
  {
   "cell_type": "code",
   "execution_count": null,
   "id": "fab71bf5-163e-4f0f-a4f3-65c84433e55c",
   "metadata": {},
   "outputs": [],
   "source": []
  }
 ],
 "metadata": {
  "kernelspec": {
   "display_name": "Python 3 (ipykernel)",
   "language": "python",
   "name": "python3"
  },
  "language_info": {
   "codemirror_mode": {
    "name": "ipython",
    "version": 3
   },
   "file_extension": ".py",
   "mimetype": "text/x-python",
   "name": "python",
   "nbconvert_exporter": "python",
   "pygments_lexer": "ipython3",
   "version": "3.8.13"
  }
 },
 "nbformat": 4,
 "nbformat_minor": 5
}
