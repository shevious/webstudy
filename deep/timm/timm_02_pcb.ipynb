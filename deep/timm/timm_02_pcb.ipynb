{
 "cells": [
  {
   "cell_type": "code",
   "execution_count": 11,
   "id": "032c62cd-ddf3-4674-bc99-9042fd376c69",
   "metadata": {},
   "outputs": [
    {
     "name": "stdout",
     "output_type": "stream",
     "text": [
      "pytorch-accelerated       0.1.47\n",
      "timm                      0.9.16\n"
     ]
    }
   ],
   "source": [
    "#!pip install timm\n",
    "#!pip install pytorch-accelerated\n",
    "!pip list | grep -E 'timm|accelerated'"
   ]
  },
  {
   "cell_type": "code",
   "execution_count": 19,
   "id": "c9ff4932-3f28-49a8-a390-29bf263a365f",
   "metadata": {},
   "outputs": [],
   "source": [
    "#!wget 'https://s3.amazonaws.com/fast-ai-imageclas/imagenette2-320.tgz'\n",
    "#!tar xvzf imagenette2-320.tgz\n",
    "# train 갯수를 짝수로 맞춤\n",
    "#!rm imagenette2-320/train/n03888257/n03888257_9997.JPEG"
   ]
  },
  {
   "cell_type": "code",
   "execution_count": 1,
   "id": "d3eaf88b-46a3-4a5e-80dc-6b999ecbe13c",
   "metadata": {},
   "outputs": [],
   "source": [
    "import glob\n",
    "import numpy as np\n",
    "from pathlib import Path\n",
    "import shutil\n",
    "\n",
    "def create_pcb_train_val_test(data_dir='PCBData',\n",
    "                              train_dir='PCBData/train',\n",
    "                              val_dir='PCBData/val',\n",
    "                              test_dir='PCBData/test'\n",
    "                             ):\n",
    "    #all_files = glob.glob(data_dir+'/@(NG|OK)/*.jpg', flags=pathlib.GLOBSTAR | pathlib.EXTGLOB)\n",
    "    ng_files = sorted(glob.glob(data_dir+\"/NG/*.jpg\"))\n",
    "    n_ng = len(ng_files)\n",
    "    ok_files = sorted(glob.glob(data_dir+\"/OK/*.jpg\"))\n",
    "    n_ok = len(ok_files)\n",
    "    #creating a new directory called pythondirectory\n",
    "    Path(train_dir+'/OK').mkdir(parents=True, exist_ok=True)\n",
    "    Path(train_dir+'/NG').mkdir(parents=True, exist_ok=True)\n",
    "    Path(val_dir+'/OK').mkdir(parents=True, exist_ok=True)\n",
    "    Path(val_dir+'/NG').mkdir(parents=True, exist_ok=True)\n",
    "    np.random.seed(42)\n",
    "    perm = np.random.permutation(n_ng)\n",
    "    n_train = int(n_ng*0.9)\n",
    "    if n_train%2 == 1:\n",
    "        n_train -= 1\n",
    "    src_files = ng_files\n",
    "    \n",
    "    train_idx = perm[:n_train]\n",
    "    val_idx = perm[n_train:]\n",
    "    for i in train_idx:\n",
    "        src = src_files[i]\n",
    "        dst = train_dir+src.replace(data_dir, '')\n",
    "        shutil.copyfile(src, dst)\n",
    "    for i in val_idx:\n",
    "        src = src_files[i]\n",
    "        dst = val_dir+src.replace(data_dir, '')\n",
    "        shutil.copyfile(src, dst)\n",
    "        \n",
    "    perm = np.random.permutation(n_ok)\n",
    "    n_train = int(n_ok*0.9)\n",
    "    if n_train%2 == 1:\n",
    "        n_train -= 1\n",
    "    src_files = ok_files\n",
    "    \n",
    "    train_idx = perm[:n_train]\n",
    "    val_idx = perm[n_train:]\n",
    "    for i in train_idx:\n",
    "        src = src_files[i]\n",
    "        dst = train_dir+src.replace(data_dir, '')\n",
    "        shutil.copyfile(src, dst)\n",
    "    for i in val_idx:\n",
    "        src = src_files[i]\n",
    "        dst = val_dir+src.replace(data_dir, '')\n",
    "        shutil.copyfile(src, dst)\n",
    "        \n",
    "#create_pcb_train_val_test()"
   ]
  },
  {
   "cell_type": "code",
   "execution_count": 1,
   "id": "fcf90cbc-5401-4a51-b7e6-fd73b2559f4b",
   "metadata": {},
   "outputs": [
    {
     "name": "stdout",
     "output_type": "stream",
     "text": [
      "\n",
      "Starting training run\n",
      "\n",
      "Starting epoch 1\n"
     ]
    },
    {
     "name": "stderr",
     "output_type": "stream",
     "text": [
      "100%|███████████████████████████████████████████████████████████████████████████| 359/359 [00:30<00:00, 11.73it/s]\n"
     ]
    },
    {
     "name": "stdout",
     "output_type": "stream",
     "text": [
      "\n",
      "train_loss_epoch: 0.4047023057937622\n"
     ]
    },
    {
     "name": "stderr",
     "output_type": "stream",
     "text": [
      "100%|█████████████████████████████████████████████████████████████████████████████| 40/40 [00:02<00:00, 17.07it/s]\n"
     ]
    },
    {
     "name": "stdout",
     "output_type": "stream",
     "text": [
      "\n",
      "eval_loss_epoch: 0.19410289824008942\n",
      "\n",
      "accuracy: 0.9139280319213867\n",
      "\n",
      "ema_model_accuracy: 0.693270742893219\n",
      "\n",
      "Starting epoch 2\n"
     ]
    },
    {
     "name": "stderr",
     "output_type": "stream",
     "text": [
      "100%|███████████████████████████████████████████████████████████████████████████| 359/359 [00:29<00:00, 12.02it/s]\n"
     ]
    },
    {
     "name": "stdout",
     "output_type": "stream",
     "text": [
      "\n",
      "train_loss_epoch: 0.38452500104904175\n"
     ]
    },
    {
     "name": "stderr",
     "output_type": "stream",
     "text": [
      "100%|█████████████████████████████████████████████████████████████████████████████| 40/40 [00:02<00:00, 17.68it/s]\n"
     ]
    },
    {
     "name": "stdout",
     "output_type": "stream",
     "text": [
      "\n",
      "eval_loss_epoch: 0.2393694967031479\n",
      "\n",
      "accuracy: 0.9123630523681641\n",
      "\n",
      "ema_model_accuracy: 0.7942097187042236\n",
      "\n",
      "Starting epoch 3\n"
     ]
    },
    {
     "name": "stderr",
     "output_type": "stream",
     "text": [
      "100%|███████████████████████████████████████████████████████████████████████████| 359/359 [00:29<00:00, 11.98it/s]\n"
     ]
    },
    {
     "name": "stdout",
     "output_type": "stream",
     "text": [
      "\n",
      "train_loss_epoch: 0.3550090491771698\n"
     ]
    },
    {
     "name": "stderr",
     "output_type": "stream",
     "text": [
      "100%|█████████████████████████████████████████████████████████████████████████████| 40/40 [00:02<00:00, 17.61it/s]\n"
     ]
    },
    {
     "name": "stdout",
     "output_type": "stream",
     "text": [
      "\n",
      "eval_loss_epoch: 0.2217443287372589\n",
      "\n",
      "accuracy: 0.9162754416465759\n",
      "\n",
      "ema_model_accuracy: 0.7949921488761902\n",
      "\n",
      "Starting epoch 4\n"
     ]
    },
    {
     "name": "stderr",
     "output_type": "stream",
     "text": [
      "100%|███████████████████████████████████████████████████████████████████████████| 359/359 [00:29<00:00, 12.01it/s]\n"
     ]
    },
    {
     "name": "stdout",
     "output_type": "stream",
     "text": [
      "\n",
      "train_loss_epoch: 0.33537983894348145\n"
     ]
    },
    {
     "name": "stderr",
     "output_type": "stream",
     "text": [
      "100%|█████████████████████████████████████████████████████████████████████████████| 40/40 [00:02<00:00, 17.49it/s]\n"
     ]
    },
    {
     "name": "stdout",
     "output_type": "stream",
     "text": [
      "\n",
      "eval_loss_epoch: 0.2271302342414856\n",
      "\n",
      "accuracy: 0.922535240650177\n",
      "\n",
      "ema_model_accuracy: 0.8262910842895508\n",
      "\n",
      "Starting epoch 5\n"
     ]
    },
    {
     "name": "stderr",
     "output_type": "stream",
     "text": [
      "100%|███████████████████████████████████████████████████████████████████████████| 359/359 [00:30<00:00, 11.96it/s]\n"
     ]
    },
    {
     "name": "stdout",
     "output_type": "stream",
     "text": [
      "\n",
      "train_loss_epoch: 0.3241303563117981\n"
     ]
    },
    {
     "name": "stderr",
     "output_type": "stream",
     "text": [
      "100%|█████████████████████████████████████████████████████████████████████████████| 40/40 [00:02<00:00, 17.67it/s]\n"
     ]
    },
    {
     "name": "stdout",
     "output_type": "stream",
     "text": [
      "\n",
      "eval_loss_epoch: 0.20236581563949585\n",
      "\n",
      "accuracy: 0.9366196990013123\n",
      "\n",
      "ema_model_accuracy: 0.8685445785522461\n",
      "\n",
      "Starting epoch 6\n"
     ]
    },
    {
     "name": "stderr",
     "output_type": "stream",
     "text": [
      "100%|███████████████████████████████████████████████████████████████████████████| 359/359 [00:29<00:00, 11.97it/s]\n"
     ]
    },
    {
     "name": "stdout",
     "output_type": "stream",
     "text": [
      "\n",
      "train_loss_epoch: 0.3078845143318176\n"
     ]
    },
    {
     "name": "stderr",
     "output_type": "stream",
     "text": [
      "100%|█████████████████████████████████████████████████████████████████████████████| 40/40 [00:02<00:00, 17.81it/s]\n"
     ]
    },
    {
     "name": "stdout",
     "output_type": "stream",
     "text": [
      "\n",
      "eval_loss_epoch: 0.18436121940612793\n",
      "\n",
      "accuracy: 0.9413145780563354\n",
      "\n",
      "ema_model_accuracy: 0.876369297504425\n",
      "\n",
      "Starting epoch 7\n"
     ]
    },
    {
     "name": "stderr",
     "output_type": "stream",
     "text": [
      "100%|███████████████████████████████████████████████████████████████████████████| 359/359 [00:29<00:00, 11.98it/s]\n"
     ]
    },
    {
     "name": "stdout",
     "output_type": "stream",
     "text": [
      "\n",
      "train_loss_epoch: 0.3021332621574402\n"
     ]
    },
    {
     "name": "stderr",
     "output_type": "stream",
     "text": [
      "100%|█████████████████████████████████████████████████████████████████████████████| 40/40 [00:02<00:00, 17.69it/s]\n"
     ]
    },
    {
     "name": "stdout",
     "output_type": "stream",
     "text": [
      "\n",
      "eval_loss_epoch: 0.2691986560821533\n",
      "\n",
      "accuracy: 0.9154929518699646\n",
      "\n",
      "ema_model_accuracy: 0.8661971688270569\n",
      "\n",
      "Starting epoch 8\n"
     ]
    },
    {
     "name": "stderr",
     "output_type": "stream",
     "text": [
      "100%|███████████████████████████████████████████████████████████████████████████| 359/359 [00:29<00:00, 11.98it/s]\n"
     ]
    },
    {
     "name": "stdout",
     "output_type": "stream",
     "text": [
      "\n",
      "train_loss_epoch: 0.3116254210472107\n"
     ]
    },
    {
     "name": "stderr",
     "output_type": "stream",
     "text": [
      "100%|█████████████████████████████████████████████████████████████████████████████| 40/40 [00:02<00:00, 17.58it/s]\n"
     ]
    },
    {
     "name": "stdout",
     "output_type": "stream",
     "text": [
      "\n",
      "eval_loss_epoch: 0.16765761375427246\n",
      "\n",
      "accuracy: 0.9311423897743225\n",
      "\n",
      "ema_model_accuracy: 0.8755868673324585\n",
      "\n",
      "Starting epoch 9\n"
     ]
    },
    {
     "name": "stderr",
     "output_type": "stream",
     "text": [
      "100%|███████████████████████████████████████████████████████████████████████████| 359/359 [00:30<00:00, 11.96it/s]\n"
     ]
    },
    {
     "name": "stdout",
     "output_type": "stream",
     "text": [
      "\n",
      "train_loss_epoch: 0.301202654838562\n"
     ]
    },
    {
     "name": "stderr",
     "output_type": "stream",
     "text": [
      "100%|█████████████████████████████████████████████████████████████████████████████| 40/40 [00:02<00:00, 17.62it/s]\n"
     ]
    },
    {
     "name": "stdout",
     "output_type": "stream",
     "text": [
      "\n",
      "eval_loss_epoch: 0.17072969675064087\n",
      "\n",
      "accuracy: 0.9389671087265015\n",
      "\n",
      "ema_model_accuracy: 0.8826290965080261\n",
      "\n",
      "Starting epoch 10\n"
     ]
    },
    {
     "name": "stderr",
     "output_type": "stream",
     "text": [
      "100%|███████████████████████████████████████████████████████████████████████████| 359/359 [00:29<00:00, 11.98it/s]\n"
     ]
    },
    {
     "name": "stdout",
     "output_type": "stream",
     "text": [
      "\n",
      "train_loss_epoch: 0.29900750517845154\n"
     ]
    },
    {
     "name": "stderr",
     "output_type": "stream",
     "text": [
      "100%|█████████████████████████████████████████████████████████████████████████████| 40/40 [00:02<00:00, 17.71it/s]\n"
     ]
    },
    {
     "name": "stdout",
     "output_type": "stream",
     "text": [
      "\n",
      "eval_loss_epoch: 0.17649336159229279\n",
      "\n",
      "accuracy: 0.9413145780563354\n",
      "\n",
      "ema_model_accuracy: 0.8826290965080261\n",
      "\n",
      "Starting epoch 11\n"
     ]
    },
    {
     "name": "stderr",
     "output_type": "stream",
     "text": [
      "100%|███████████████████████████████████████████████████████████████████████████| 359/359 [00:29<00:00, 11.98it/s]\n"
     ]
    },
    {
     "name": "stdout",
     "output_type": "stream",
     "text": [
      "\n",
      "train_loss_epoch: 0.2920399606227875\n"
     ]
    },
    {
     "name": "stderr",
     "output_type": "stream",
     "text": [
      "100%|█████████████████████████████████████████████████████████████████████████████| 40/40 [00:02<00:00, 17.68it/s]\n"
     ]
    },
    {
     "name": "stdout",
     "output_type": "stream",
     "text": [
      "\n",
      "eval_loss_epoch: 0.18892902135849\n",
      "\n",
      "accuracy: 0.9389671087265015\n",
      "\n",
      "ema_model_accuracy: 0.886541485786438\n",
      "\n",
      "Starting epoch 12\n"
     ]
    },
    {
     "name": "stderr",
     "output_type": "stream",
     "text": [
      "100%|███████████████████████████████████████████████████████████████████████████| 359/359 [00:30<00:00, 11.96it/s]\n"
     ]
    },
    {
     "name": "stdout",
     "output_type": "stream",
     "text": [
      "\n",
      "train_loss_epoch: 0.29068976640701294\n"
     ]
    },
    {
     "name": "stderr",
     "output_type": "stream",
     "text": [
      "100%|█████████████████████████████████████████████████████████████████████████████| 40/40 [00:02<00:00, 17.57it/s]\n"
     ]
    },
    {
     "name": "stdout",
     "output_type": "stream",
     "text": [
      "\n",
      "eval_loss_epoch: 0.16215580701828003\n",
      "\n",
      "accuracy: 0.9444444179534912\n",
      "\n",
      "ema_model_accuracy: 0.8904538154602051\n",
      "\n",
      "Starting epoch 13\n"
     ]
    },
    {
     "name": "stderr",
     "output_type": "stream",
     "text": [
      "100%|███████████████████████████████████████████████████████████████████████████| 359/359 [00:30<00:00, 11.96it/s]\n"
     ]
    },
    {
     "name": "stdout",
     "output_type": "stream",
     "text": [
      "\n",
      "train_loss_epoch: 0.29067692160606384\n"
     ]
    },
    {
     "name": "stderr",
     "output_type": "stream",
     "text": [
      "100%|█████████████████████████████████████████████████████████████████████████████| 40/40 [00:02<00:00, 17.64it/s]\n"
     ]
    },
    {
     "name": "stdout",
     "output_type": "stream",
     "text": [
      "\n",
      "eval_loss_epoch: 0.18504874408245087\n",
      "\n",
      "accuracy: 0.9389671087265015\n",
      "\n",
      "ema_model_accuracy: 0.8935837149620056\n",
      "\n",
      "Starting epoch 14\n"
     ]
    },
    {
     "name": "stderr",
     "output_type": "stream",
     "text": [
      "100%|███████████████████████████████████████████████████████████████████████████| 359/359 [00:29<00:00, 11.98it/s]\n"
     ]
    },
    {
     "name": "stdout",
     "output_type": "stream",
     "text": [
      "\n",
      "train_loss_epoch: 0.2737693786621094\n"
     ]
    },
    {
     "name": "stderr",
     "output_type": "stream",
     "text": [
      "100%|█████████████████████████████████████████████████████████████████████████████| 40/40 [00:02<00:00, 17.86it/s]\n"
     ]
    },
    {
     "name": "stdout",
     "output_type": "stream",
     "text": [
      "\n",
      "eval_loss_epoch: 0.19205333292484283\n",
      "\n",
      "accuracy: 0.9436619877815247\n",
      "\n",
      "ema_model_accuracy: 0.8974961042404175\n",
      "\n",
      "Starting epoch 15\n"
     ]
    },
    {
     "name": "stderr",
     "output_type": "stream",
     "text": [
      "100%|███████████████████████████████████████████████████████████████████████████| 359/359 [00:29<00:00, 11.97it/s]\n"
     ]
    },
    {
     "name": "stdout",
     "output_type": "stream",
     "text": [
      "\n",
      "train_loss_epoch: 0.28746795654296875\n"
     ]
    },
    {
     "name": "stderr",
     "output_type": "stream",
     "text": [
      "100%|█████████████████████████████████████████████████████████████████████████████| 40/40 [00:02<00:00, 17.01it/s]\n"
     ]
    },
    {
     "name": "stdout",
     "output_type": "stream",
     "text": [
      "\n",
      "eval_loss_epoch: 0.15886752307415009\n",
      "\n",
      "accuracy: 0.9405320882797241\n",
      "\n",
      "ema_model_accuracy: 0.900626003742218\n",
      "\n",
      "Starting epoch 16\n"
     ]
    },
    {
     "name": "stderr",
     "output_type": "stream",
     "text": [
      "100%|███████████████████████████████████████████████████████████████████████████| 359/359 [00:29<00:00, 11.98it/s]\n"
     ]
    },
    {
     "name": "stdout",
     "output_type": "stream",
     "text": [
      "\n",
      "train_loss_epoch: 0.2812126874923706\n"
     ]
    },
    {
     "name": "stderr",
     "output_type": "stream",
     "text": [
      "100%|█████████████████████████████████████████████████████████████████████████████| 40/40 [00:02<00:00, 17.72it/s]\n"
     ]
    },
    {
     "name": "stdout",
     "output_type": "stream",
     "text": [
      "\n",
      "eval_loss_epoch: 0.1689070612192154\n",
      "\n",
      "accuracy: 0.9381846785545349\n",
      "\n",
      "ema_model_accuracy: 0.9053208231925964\n",
      "\n",
      "Starting epoch 17\n"
     ]
    },
    {
     "name": "stderr",
     "output_type": "stream",
     "text": [
      "100%|███████████████████████████████████████████████████████████████████████████| 359/359 [00:29<00:00, 11.97it/s]\n"
     ]
    },
    {
     "name": "stdout",
     "output_type": "stream",
     "text": [
      "\n",
      "train_loss_epoch: 0.2817866802215576\n"
     ]
    },
    {
     "name": "stderr",
     "output_type": "stream",
     "text": [
      "100%|█████████████████████████████████████████████████████████████████████████████| 40/40 [00:02<00:00, 17.39it/s]\n"
     ]
    },
    {
     "name": "stdout",
     "output_type": "stream",
     "text": [
      "\n",
      "eval_loss_epoch: 0.1785554736852646\n",
      "\n",
      "accuracy: 0.9381846785545349\n",
      "\n",
      "ema_model_accuracy: 0.9139280319213867\n",
      "\n",
      "Starting epoch 18\n"
     ]
    },
    {
     "name": "stderr",
     "output_type": "stream",
     "text": [
      "100%|███████████████████████████████████████████████████████████████████████████| 359/359 [00:29<00:00, 11.98it/s]\n"
     ]
    },
    {
     "name": "stdout",
     "output_type": "stream",
     "text": [
      "\n",
      "train_loss_epoch: 0.2699515223503113\n"
     ]
    },
    {
     "name": "stderr",
     "output_type": "stream",
     "text": [
      "100%|█████████████████████████████████████████████████████████████████████████████| 40/40 [00:02<00:00, 17.58it/s]\n"
     ]
    },
    {
     "name": "stdout",
     "output_type": "stream",
     "text": [
      "\n",
      "eval_loss_epoch: 0.1888512372970581\n",
      "\n",
      "accuracy: 0.9460093975067139\n",
      "\n",
      "ema_model_accuracy: 0.9186228513717651\n",
      "\n",
      "Starting epoch 19\n"
     ]
    },
    {
     "name": "stderr",
     "output_type": "stream",
     "text": [
      "100%|███████████████████████████████████████████████████████████████████████████| 359/359 [00:30<00:00, 11.96it/s]\n"
     ]
    },
    {
     "name": "stdout",
     "output_type": "stream",
     "text": [
      "\n",
      "train_loss_epoch: 0.27045127749443054\n"
     ]
    },
    {
     "name": "stderr",
     "output_type": "stream",
     "text": [
      "100%|█████████████████████████████████████████████████████████████████████████████| 40/40 [00:02<00:00, 17.64it/s]\n"
     ]
    },
    {
     "name": "stdout",
     "output_type": "stream",
     "text": [
      "\n",
      "eval_loss_epoch: 0.18046145141124725\n",
      "\n",
      "accuracy: 0.9428794980049133\n",
      "\n",
      "ema_model_accuracy: 0.9233176708221436\n",
      "\n",
      "Starting epoch 20\n"
     ]
    },
    {
     "name": "stderr",
     "output_type": "stream",
     "text": [
      "100%|███████████████████████████████████████████████████████████████████████████| 359/359 [00:29<00:00, 11.97it/s]\n"
     ]
    },
    {
     "name": "stdout",
     "output_type": "stream",
     "text": [
      "\n",
      "train_loss_epoch: 0.26251474022865295\n"
     ]
    },
    {
     "name": "stderr",
     "output_type": "stream",
     "text": [
      "100%|█████████████████████████████████████████████████████████████████████████████| 40/40 [00:02<00:00, 17.63it/s]\n"
     ]
    },
    {
     "name": "stdout",
     "output_type": "stream",
     "text": [
      "\n",
      "eval_loss_epoch: 0.1704493910074234\n",
      "\n",
      "accuracy: 0.942097008228302\n",
      "\n",
      "ema_model_accuracy: 0.9264475703239441\n",
      "\n",
      "Starting epoch 21\n"
     ]
    },
    {
     "name": "stderr",
     "output_type": "stream",
     "text": [
      "100%|███████████████████████████████████████████████████████████████████████████| 359/359 [00:29<00:00, 11.98it/s]\n"
     ]
    },
    {
     "name": "stdout",
     "output_type": "stream",
     "text": [
      "\n",
      "train_loss_epoch: 0.2595018446445465\n"
     ]
    },
    {
     "name": "stderr",
     "output_type": "stream",
     "text": [
      "100%|█████████████████████████████████████████████████████████████████████████████| 40/40 [00:02<00:00, 17.49it/s]\n"
     ]
    },
    {
     "name": "stdout",
     "output_type": "stream",
     "text": [
      "\n",
      "eval_loss_epoch: 0.16557317972183228\n",
      "\n",
      "accuracy: 0.9428794980049133\n",
      "\n",
      "ema_model_accuracy: 0.9327073693275452\n",
      "\n",
      "Starting epoch 22\n"
     ]
    },
    {
     "name": "stderr",
     "output_type": "stream",
     "text": [
      "100%|███████████████████████████████████████████████████████████████████████████| 359/359 [00:29<00:00, 11.98it/s]\n"
     ]
    },
    {
     "name": "stdout",
     "output_type": "stream",
     "text": [
      "\n",
      "train_loss_epoch: 0.25192028284072876\n"
     ]
    },
    {
     "name": "stderr",
     "output_type": "stream",
     "text": [
      "100%|█████████████████████████████████████████████████████████████████████████████| 40/40 [00:02<00:00, 17.81it/s]\n"
     ]
    },
    {
     "name": "stdout",
     "output_type": "stream",
     "text": [
      "\n",
      "eval_loss_epoch: 0.16151872277259827\n",
      "\n",
      "accuracy: 0.9428794980049133\n",
      "\n",
      "ema_model_accuracy: 0.934272289276123\n",
      "\n",
      "Starting epoch 23\n"
     ]
    },
    {
     "name": "stderr",
     "output_type": "stream",
     "text": [
      "100%|███████████████████████████████████████████████████████████████████████████| 359/359 [00:29<00:00, 11.97it/s]\n"
     ]
    },
    {
     "name": "stdout",
     "output_type": "stream",
     "text": [
      "\n",
      "train_loss_epoch: 0.25100815296173096\n"
     ]
    },
    {
     "name": "stderr",
     "output_type": "stream",
     "text": [
      "100%|█████████████████████████████████████████████████████████████████████████████| 40/40 [00:02<00:00, 17.60it/s]\n"
     ]
    },
    {
     "name": "stdout",
     "output_type": "stream",
     "text": [
      "\n",
      "eval_loss_epoch: 0.14843043684959412\n",
      "\n",
      "accuracy: 0.9467918872833252\n",
      "\n",
      "ema_model_accuracy: 0.9350547790527344\n",
      "\n",
      "Starting epoch 24\n"
     ]
    },
    {
     "name": "stderr",
     "output_type": "stream",
     "text": [
      "100%|███████████████████████████████████████████████████████████████████████████| 359/359 [00:29<00:00, 11.97it/s]\n"
     ]
    },
    {
     "name": "stdout",
     "output_type": "stream",
     "text": [
      "\n",
      "train_loss_epoch: 0.24904514849185944\n"
     ]
    },
    {
     "name": "stderr",
     "output_type": "stream",
     "text": [
      "100%|█████████████████████████████████████████████████████████████████████████████| 40/40 [00:02<00:00, 17.65it/s]\n"
     ]
    },
    {
     "name": "stdout",
     "output_type": "stream",
     "text": [
      "\n",
      "eval_loss_epoch: 0.15574301779270172\n",
      "\n",
      "accuracy: 0.9491392970085144\n",
      "\n",
      "ema_model_accuracy: 0.9389671087265015\n",
      "\n",
      "Starting epoch 25\n"
     ]
    },
    {
     "name": "stderr",
     "output_type": "stream",
     "text": [
      "100%|███████████████████████████████████████████████████████████████████████████| 359/359 [00:30<00:00, 11.96it/s]\n"
     ]
    },
    {
     "name": "stdout",
     "output_type": "stream",
     "text": [
      "\n",
      "train_loss_epoch: 0.25276535749435425\n"
     ]
    },
    {
     "name": "stderr",
     "output_type": "stream",
     "text": [
      "100%|█████████████████████████████████████████████████████████████████████████████| 40/40 [00:02<00:00, 17.58it/s]\n"
     ]
    },
    {
     "name": "stdout",
     "output_type": "stream",
     "text": [
      "\n",
      "eval_loss_epoch: 0.15061870217323303\n",
      "\n",
      "accuracy: 0.9546166062355042\n",
      "\n",
      "ema_model_accuracy: 0.9405320882797241\n",
      "\n",
      "Starting epoch 26\n"
     ]
    },
    {
     "name": "stderr",
     "output_type": "stream",
     "text": [
      "100%|███████████████████████████████████████████████████████████████████████████| 359/359 [00:29<00:00, 11.97it/s]\n"
     ]
    },
    {
     "name": "stdout",
     "output_type": "stream",
     "text": [
      "\n",
      "train_loss_epoch: 0.24387751519680023\n"
     ]
    },
    {
     "name": "stderr",
     "output_type": "stream",
     "text": [
      "100%|█████████████████████████████████████████████████████████████████████████████| 40/40 [00:02<00:00, 17.66it/s]\n"
     ]
    },
    {
     "name": "stdout",
     "output_type": "stream",
     "text": [
      "\n",
      "eval_loss_epoch: 0.15695635974407196\n",
      "\n",
      "accuracy: 0.9444444179534912\n",
      "\n",
      "ema_model_accuracy: 0.942097008228302\n",
      "\n",
      "Starting epoch 27\n"
     ]
    },
    {
     "name": "stderr",
     "output_type": "stream",
     "text": [
      "100%|███████████████████████████████████████████████████████████████████████████| 359/359 [00:29<00:00, 11.97it/s]\n"
     ]
    },
    {
     "name": "stdout",
     "output_type": "stream",
     "text": [
      "\n",
      "train_loss_epoch: 0.24345102906227112\n"
     ]
    },
    {
     "name": "stderr",
     "output_type": "stream",
     "text": [
      "100%|█████████████████████████████████████████████████████████████████████████████| 40/40 [00:02<00:00, 17.56it/s]\n"
     ]
    },
    {
     "name": "stdout",
     "output_type": "stream",
     "text": [
      "\n",
      "eval_loss_epoch: 0.1435985416173935\n",
      "\n",
      "accuracy: 0.9514867067337036\n",
      "\n",
      "ema_model_accuracy: 0.9428794980049133\n",
      "\n",
      "Starting epoch 28\n"
     ]
    },
    {
     "name": "stderr",
     "output_type": "stream",
     "text": [
      "100%|███████████████████████████████████████████████████████████████████████████| 359/359 [00:30<00:00, 11.95it/s]\n"
     ]
    },
    {
     "name": "stdout",
     "output_type": "stream",
     "text": [
      "\n",
      "train_loss_epoch: 0.24127651751041412\n"
     ]
    },
    {
     "name": "stderr",
     "output_type": "stream",
     "text": [
      "100%|█████████████████████████████████████████████████████████████████████████████| 40/40 [00:02<00:00, 17.46it/s]\n"
     ]
    },
    {
     "name": "stdout",
     "output_type": "stream",
     "text": [
      "\n",
      "eval_loss_epoch: 0.15644381940364838\n",
      "\n",
      "accuracy: 0.949921727180481\n",
      "\n",
      "ema_model_accuracy: 0.9436619877815247\n",
      "\n",
      "Starting epoch 29\n"
     ]
    },
    {
     "name": "stderr",
     "output_type": "stream",
     "text": [
      "100%|███████████████████████████████████████████████████████████████████████████| 359/359 [00:30<00:00, 11.97it/s]\n"
     ]
    },
    {
     "name": "stdout",
     "output_type": "stream",
     "text": [
      "\n",
      "train_loss_epoch: 0.2374706119298935\n"
     ]
    },
    {
     "name": "stderr",
     "output_type": "stream",
     "text": [
      "100%|█████████████████████████████████████████████████████████████████████████████| 40/40 [00:02<00:00, 17.71it/s]\n"
     ]
    },
    {
     "name": "stdout",
     "output_type": "stream",
     "text": [
      "\n",
      "eval_loss_epoch: 0.15002906322479248\n",
      "\n",
      "accuracy: 0.9514867067337036\n",
      "\n",
      "ema_model_accuracy: 0.9452269077301025\n",
      "\n",
      "Starting epoch 30\n"
     ]
    },
    {
     "name": "stderr",
     "output_type": "stream",
     "text": [
      "100%|███████████████████████████████████████████████████████████████████████████| 359/359 [00:29<00:00, 11.98it/s]\n"
     ]
    },
    {
     "name": "stdout",
     "output_type": "stream",
     "text": [
      "\n",
      "train_loss_epoch: 0.2334495186805725\n"
     ]
    },
    {
     "name": "stderr",
     "output_type": "stream",
     "text": [
      "100%|█████████████████████████████████████████████████████████████████████████████| 40/40 [00:02<00:00, 17.62it/s]\n"
     ]
    },
    {
     "name": "stdout",
     "output_type": "stream",
     "text": [
      "\n",
      "eval_loss_epoch: 0.15314719080924988\n",
      "\n",
      "accuracy: 0.9530516266822815\n",
      "\n",
      "ema_model_accuracy: 0.9467918872833252\n",
      "\n",
      "Starting epoch 31\n"
     ]
    },
    {
     "name": "stderr",
     "output_type": "stream",
     "text": [
      "100%|███████████████████████████████████████████████████████████████████████████| 359/359 [00:29<00:00, 11.98it/s]\n"
     ]
    },
    {
     "name": "stdout",
     "output_type": "stream",
     "text": [
      "\n",
      "train_loss_epoch: 0.23645073175430298\n"
     ]
    },
    {
     "name": "stderr",
     "output_type": "stream",
     "text": [
      "100%|█████████████████████████████████████████████████████████████████████████████| 40/40 [00:02<00:00, 17.40it/s]\n"
     ]
    },
    {
     "name": "stdout",
     "output_type": "stream",
     "text": [
      "\n",
      "eval_loss_epoch: 0.14968925714492798\n",
      "\n",
      "accuracy: 0.9538341164588928\n",
      "\n",
      "ema_model_accuracy: 0.9460093975067139\n",
      "\n",
      "Starting epoch 32\n"
     ]
    },
    {
     "name": "stderr",
     "output_type": "stream",
     "text": [
      "100%|███████████████████████████████████████████████████████████████████████████| 359/359 [00:30<00:00, 11.96it/s]\n"
     ]
    },
    {
     "name": "stdout",
     "output_type": "stream",
     "text": [
      "\n",
      "train_loss_epoch: 0.23066464066505432\n"
     ]
    },
    {
     "name": "stderr",
     "output_type": "stream",
     "text": [
      "100%|█████████████████████████████████████████████████████████████████████████████| 40/40 [00:02<00:00, 17.72it/s]\n"
     ]
    },
    {
     "name": "stdout",
     "output_type": "stream",
     "text": [
      "\n",
      "eval_loss_epoch: 0.13815557956695557\n",
      "\n",
      "accuracy: 0.9569640159606934\n",
      "\n",
      "ema_model_accuracy: 0.9467918872833252\n",
      "\n",
      "Starting epoch 33\n"
     ]
    },
    {
     "name": "stderr",
     "output_type": "stream",
     "text": [
      "100%|███████████████████████████████████████████████████████████████████████████| 359/359 [00:29<00:00, 11.97it/s]\n"
     ]
    },
    {
     "name": "stdout",
     "output_type": "stream",
     "text": [
      "\n",
      "train_loss_epoch: 0.23686285316944122\n"
     ]
    },
    {
     "name": "stderr",
     "output_type": "stream",
     "text": [
      "100%|█████████████████████████████████████████████████████████████████████████████| 40/40 [00:02<00:00, 17.58it/s]\n"
     ]
    },
    {
     "name": "stdout",
     "output_type": "stream",
     "text": [
      "\n",
      "eval_loss_epoch: 0.13745954632759094\n",
      "\n",
      "accuracy: 0.9553990364074707\n",
      "\n",
      "ema_model_accuracy: 0.9491392970085144\n",
      "\n",
      "Starting epoch 34\n"
     ]
    },
    {
     "name": "stderr",
     "output_type": "stream",
     "text": [
      "100%|███████████████████████████████████████████████████████████████████████████| 359/359 [00:30<00:00, 11.96it/s]\n"
     ]
    },
    {
     "name": "stdout",
     "output_type": "stream",
     "text": [
      "\n",
      "train_loss_epoch: 0.23006770014762878\n"
     ]
    },
    {
     "name": "stderr",
     "output_type": "stream",
     "text": [
      "100%|█████████████████████████████████████████████████████████████████████████████| 40/40 [00:02<00:00, 17.65it/s]\n"
     ]
    },
    {
     "name": "stdout",
     "output_type": "stream",
     "text": [
      "\n",
      "eval_loss_epoch: 0.13319893181324005\n",
      "\n",
      "accuracy: 0.956181526184082\n",
      "\n",
      "ema_model_accuracy: 0.9507042169570923\n",
      "\n",
      "Starting epoch 35\n"
     ]
    },
    {
     "name": "stderr",
     "output_type": "stream",
     "text": [
      "100%|███████████████████████████████████████████████████████████████████████████| 359/359 [00:29<00:00, 11.98it/s]\n"
     ]
    },
    {
     "name": "stdout",
     "output_type": "stream",
     "text": [
      "\n",
      "train_loss_epoch: 0.21969768404960632\n"
     ]
    },
    {
     "name": "stderr",
     "output_type": "stream",
     "text": [
      "100%|█████████████████████████████████████████████████████████████████████████████| 40/40 [00:02<00:00, 17.75it/s]\n"
     ]
    },
    {
     "name": "stdout",
     "output_type": "stream",
     "text": [
      "\n",
      "eval_loss_epoch: 0.13475796580314636\n",
      "\n",
      "accuracy: 0.956181526184082\n",
      "\n",
      "ema_model_accuracy: 0.9522691965103149\n",
      "\n",
      "Starting epoch 36\n"
     ]
    },
    {
     "name": "stderr",
     "output_type": "stream",
     "text": [
      "100%|███████████████████████████████████████████████████████████████████████████| 359/359 [00:29<00:00, 11.98it/s]\n"
     ]
    },
    {
     "name": "stdout",
     "output_type": "stream",
     "text": [
      "\n",
      "train_loss_epoch: 0.2281387448310852\n"
     ]
    },
    {
     "name": "stderr",
     "output_type": "stream",
     "text": [
      "100%|█████████████████████████████████████████████████████████████████████████████| 40/40 [00:02<00:00, 17.73it/s]\n"
     ]
    },
    {
     "name": "stdout",
     "output_type": "stream",
     "text": [
      "\n",
      "eval_loss_epoch: 0.133697047829628\n",
      "\n",
      "accuracy: 0.956181526184082\n",
      "\n",
      "ema_model_accuracy: 0.9530516266822815\n",
      "\n",
      "Starting epoch 37\n"
     ]
    },
    {
     "name": "stderr",
     "output_type": "stream",
     "text": [
      "100%|███████████████████████████████████████████████████████████████████████████| 359/359 [00:30<00:00, 11.96it/s]\n"
     ]
    },
    {
     "name": "stdout",
     "output_type": "stream",
     "text": [
      "\n",
      "train_loss_epoch: 0.22596308588981628\n"
     ]
    },
    {
     "name": "stderr",
     "output_type": "stream",
     "text": [
      "100%|█████████████████████████████████████████████████████████████████████████████| 40/40 [00:02<00:00, 17.52it/s]\n"
     ]
    },
    {
     "name": "stdout",
     "output_type": "stream",
     "text": [
      "\n",
      "eval_loss_epoch: 0.13507629930973053\n",
      "\n",
      "accuracy: 0.9553990364074707\n",
      "\n",
      "ema_model_accuracy: 0.9538341164588928\n",
      "\n",
      "Starting epoch 38\n"
     ]
    },
    {
     "name": "stderr",
     "output_type": "stream",
     "text": [
      "100%|███████████████████████████████████████████████████████████████████████████| 359/359 [00:30<00:00, 11.96it/s]\n"
     ]
    },
    {
     "name": "stdout",
     "output_type": "stream",
     "text": [
      "\n",
      "train_loss_epoch: 0.22371047735214233\n"
     ]
    },
    {
     "name": "stderr",
     "output_type": "stream",
     "text": [
      "100%|█████████████████████████████████████████████████████████████████████████████| 40/40 [00:02<00:00, 17.61it/s]\n"
     ]
    },
    {
     "name": "stdout",
     "output_type": "stream",
     "text": [
      "\n",
      "eval_loss_epoch: 0.1352347731590271\n",
      "\n",
      "accuracy: 0.956181526184082\n",
      "\n",
      "ema_model_accuracy: 0.9553990364074707\n",
      "\n",
      "Starting epoch 39\n"
     ]
    },
    {
     "name": "stderr",
     "output_type": "stream",
     "text": [
      "100%|███████████████████████████████████████████████████████████████████████████| 359/359 [00:30<00:00, 11.96it/s]\n"
     ]
    },
    {
     "name": "stdout",
     "output_type": "stream",
     "text": [
      "\n",
      "train_loss_epoch: 0.2189575433731079\n"
     ]
    },
    {
     "name": "stderr",
     "output_type": "stream",
     "text": [
      "100%|█████████████████████████████████████████████████████████████████████████████| 40/40 [00:02<00:00, 17.37it/s]\n"
     ]
    },
    {
     "name": "stdout",
     "output_type": "stream",
     "text": [
      "\n",
      "eval_loss_epoch: 0.13211044669151306\n",
      "\n",
      "accuracy: 0.956181526184082\n",
      "\n",
      "ema_model_accuracy: 0.956181526184082\n",
      "\n",
      "Starting epoch 40\n"
     ]
    },
    {
     "name": "stderr",
     "output_type": "stream",
     "text": [
      "100%|███████████████████████████████████████████████████████████████████████████| 359/359 [00:29<00:00, 11.97it/s]\n"
     ]
    },
    {
     "name": "stdout",
     "output_type": "stream",
     "text": [
      "\n",
      "train_loss_epoch: 0.22398482263088226\n"
     ]
    },
    {
     "name": "stderr",
     "output_type": "stream",
     "text": [
      "100%|█████████████████████████████████████████████████████████████████████████████| 40/40 [00:02<00:00, 17.51it/s]\n"
     ]
    },
    {
     "name": "stdout",
     "output_type": "stream",
     "text": [
      "\n",
      "eval_loss_epoch: 0.13113710284233093\n",
      "\n",
      "accuracy: 0.9546166062355042\n",
      "\n",
      "ema_model_accuracy: 0.9553990364074707\n",
      "Finishing training run\n",
      "Loading checkpoint with accuracy: 0.9569640159606934 from epoch 32\n"
     ]
    }
   ],
   "source": [
    "import argparse\n",
    "from pathlib import Path\n",
    "\n",
    "import timm\n",
    "import timm.data\n",
    "import timm.loss\n",
    "import timm.optim\n",
    "import timm.utils\n",
    "import torch\n",
    "import torchmetrics\n",
    "from timm.scheduler import CosineLRScheduler\n",
    "\n",
    "from pytorch_accelerated.callbacks import SaveBestModelCallback\n",
    "from pytorch_accelerated.trainer import Trainer, DEFAULT_CALLBACKS\n",
    "\n",
    "\n",
    "def create_datasets(image_size, data_mean, data_std, train_path, val_path):\n",
    "    train_transforms = timm.data.create_transform(\n",
    "        input_size=image_size,\n",
    "        is_training=True,\n",
    "        mean=data_mean,\n",
    "        std=data_std,\n",
    "        #auto_augment=\"rand-m7-mstd0.5-inc1\",\n",
    "    )\n",
    "\n",
    "    eval_transforms = timm.data.create_transform(\n",
    "        input_size=image_size, mean=data_mean, std=data_std\n",
    "    )\n",
    "\n",
    "    train_dataset = timm.data.dataset.ImageDataset(\n",
    "        train_path, transform=train_transforms\n",
    "    )\n",
    "    eval_dataset = timm.data.dataset.ImageDataset(val_path, transform=eval_transforms)\n",
    "\n",
    "    return train_dataset, eval_dataset\n",
    "\n",
    "\n",
    "class TimmMixupTrainer(Trainer):\n",
    "    def __init__(self, eval_loss_fn, mixup_args, num_classes, *args, **kwargs):\n",
    "        super().__init__(*args, **kwargs)\n",
    "        self.eval_loss_fn = eval_loss_fn\n",
    "        self.num_updates = None\n",
    "        self.mixup_fn = timm.data.Mixup(**mixup_args)\n",
    "\n",
    "        self.accuracy = torchmetrics.Accuracy(num_classes=num_classes, task=\"multiclass\")\n",
    "        self.ema_accuracy = torchmetrics.Accuracy(num_classes=num_classes, task=\"multiclass\")\n",
    "        self.ema_model = None\n",
    "\n",
    "    def create_scheduler(self):\n",
    "        return timm.scheduler.CosineLRScheduler(\n",
    "            self.optimizer,\n",
    "            t_initial=self.run_config.num_epochs,\n",
    "            cycle_decay=0.5,\n",
    "            lr_min=1e-6,\n",
    "            t_in_epochs=True,\n",
    "            warmup_t=3,\n",
    "            warmup_lr_init=1e-4,\n",
    "            cycle_limit=1,\n",
    "        )\n",
    "\n",
    "    def training_run_start(self):\n",
    "        # Model EMA requires the model without a DDP wrapper and before sync batchnorm conversion\n",
    "        self.ema_model = timm.utils.ModelEmaV2(\n",
    "            self._accelerator.unwrap_model(self.model), decay=0.9\n",
    "        )\n",
    "        if self.run_config.is_distributed:\n",
    "            self.model = torch.nn.SyncBatchNorm.convert_sync_batchnorm(self.model)\n",
    "\n",
    "    def train_epoch_start(self):\n",
    "        super().train_epoch_start()\n",
    "        self.num_updates = self.run_history.current_epoch * len(self._train_dataloader)\n",
    "\n",
    "    def calculate_train_batch_loss(self, batch):\n",
    "        xb, yb = batch\n",
    "        #print('### batch_size =', len(batch), len(xb), len(yb))\n",
    "        mixup_xb, mixup_yb = self.mixup_fn(xb, yb)\n",
    "        return super().calculate_train_batch_loss((mixup_xb, mixup_yb))\n",
    "\n",
    "    def train_epoch_end(\n",
    "        self,\n",
    "    ):\n",
    "        self.ema_model.update(self.model)\n",
    "        self.ema_model.eval()\n",
    "\n",
    "        if hasattr(self.optimizer, \"sync_lookahead\"):\n",
    "            self.optimizer.sync_lookahead()\n",
    "\n",
    "    def scheduler_step(self):\n",
    "        self.num_updates += 1\n",
    "        if self.scheduler is not None:\n",
    "            self.scheduler.step_update(num_updates=self.num_updates)\n",
    "\n",
    "    def calculate_eval_batch_loss(self, batch):\n",
    "        with torch.no_grad():\n",
    "            xb, yb = batch\n",
    "            outputs = self.model(xb)\n",
    "            val_loss = self.eval_loss_fn(outputs, yb)\n",
    "            self.accuracy.update(outputs.argmax(-1), yb)\n",
    "\n",
    "            ema_model_preds = self.ema_model.module(xb).argmax(-1)\n",
    "            self.ema_accuracy.update(ema_model_preds, yb)\n",
    "\n",
    "        return {\"loss\": val_loss, \"model_outputs\": outputs, \"batch_size\": xb.size(0)}\n",
    "\n",
    "    def eval_epoch_end(self):\n",
    "        super().eval_epoch_end()\n",
    "\n",
    "        if self.scheduler is not None:\n",
    "            self.scheduler.step(self.run_history.current_epoch + 1)\n",
    "\n",
    "        self.run_history.update_metric(\"accuracy\", self.accuracy.compute().cpu())\n",
    "        self.run_history.update_metric(\n",
    "            \"ema_model_accuracy\", self.ema_accuracy.compute().cpu()\n",
    "        )\n",
    "        self.accuracy.reset()\n",
    "        self.ema_accuracy.reset()\n",
    "\n",
    "\n",
    "def main(data_path):\n",
    "\n",
    "    # Set training arguments, hardcoded here for clarity\n",
    "    image_size = (224, 224)\n",
    "    lr = 5e-3\n",
    "    smoothing = 0.1\n",
    "    mixup = 0.2\n",
    "    cutmix = 1.0\n",
    "    batch_size = 32\n",
    "    bce_target_thresh = 0.2\n",
    "    num_epochs = 40\n",
    "\n",
    "    data_path = Path(data_path)\n",
    "    train_path = data_path / \"train\"\n",
    "    val_path = data_path / \"val\"\n",
    "\n",
    "    num_classes = len(list(train_path.iterdir()))\n",
    "\n",
    "    mixup_args = dict(\n",
    "        mixup_alpha=mixup,\n",
    "        cutmix_alpha=cutmix,\n",
    "        label_smoothing=smoothing,\n",
    "        num_classes=num_classes,\n",
    "    )\n",
    "\n",
    "    # Create model using timm\n",
    "    model = timm.create_model(\n",
    "        \"resnet50d\", pretrained=True, num_classes=num_classes, drop_path_rate=0.05\n",
    "    )\n",
    "\n",
    "    # Load data config associated with the model to use in data augmentation pipeline\n",
    "    data_config = timm.data.resolve_data_config({}, model=model, verbose=True)\n",
    "    data_mean = data_config[\"mean\"]\n",
    "    data_std = data_config[\"std\"]\n",
    "\n",
    "    # Create training and validation datasets\n",
    "    train_dataset, eval_dataset = create_datasets(\n",
    "        train_path=train_path,\n",
    "        val_path=val_path,\n",
    "        image_size=image_size,\n",
    "        data_mean=data_mean,\n",
    "        data_std=data_std,\n",
    "    )\n",
    "\n",
    "    # Create optimizer\n",
    "    optimizer = timm.optim.create_optimizer_v2(\n",
    "        model, opt=\"lookahead_AdamW\", lr=lr, weight_decay=0.01\n",
    "    )\n",
    "\n",
    "    # As we are using Mixup, we can use BCE during training and CE for evaluation\n",
    "    train_loss_fn = timm.loss.BinaryCrossEntropy(\n",
    "        target_threshold=bce_target_thresh, smoothing=smoothing\n",
    "    )\n",
    "    validate_loss_fn = torch.nn.CrossEntropyLoss()\n",
    "\n",
    "    # Create trainer and start training\n",
    "    trainer = TimmMixupTrainer(\n",
    "        model=model,\n",
    "        optimizer=optimizer,\n",
    "        loss_func=train_loss_fn,\n",
    "        eval_loss_fn=validate_loss_fn,\n",
    "        mixup_args=mixup_args,\n",
    "        num_classes=num_classes,\n",
    "        callbacks=[\n",
    "            *DEFAULT_CALLBACKS,\n",
    "            SaveBestModelCallback(watch_metric=\"accuracy\", greater_is_better=True),\n",
    "        ],\n",
    "    )\n",
    "\n",
    "    trainer.train(\n",
    "        per_device_batch_size=batch_size,\n",
    "        train_dataset=train_dataset,\n",
    "        eval_dataset=eval_dataset,\n",
    "        num_epochs=num_epochs,\n",
    "        create_scheduler_fn=trainer.create_scheduler,\n",
    "    )\n",
    "\n",
    "\n",
    "if __name__ == \"__main__\":\n",
    "    parser = argparse.ArgumentParser(description=\"Simple example of training script using timm.\")\n",
    "    parser.add_argument(\"--data_dir\", required=True, help=\"The data folder on disk.\")\n",
    "    #args = parser.parse_args(args=['--data_dir=imagenette2-320'])\n",
    "    args = parser.parse_args(args=['--data_dir=PCBData'])\n",
    "    main(args.data_dir)"
   ]
  },
  {
   "cell_type": "code",
   "execution_count": 50,
   "id": "235f103a-ce63-40be-adc5-4c10d28687fd",
   "metadata": {},
   "outputs": [
    {
     "data": {
      "text/plain": [
       "11481"
      ]
     },
     "execution_count": 50,
     "metadata": {},
     "output_type": "execute_result"
    }
   ],
   "source": [
    "len(train_ds)"
   ]
  },
  {
   "cell_type": "code",
   "execution_count": 51,
   "id": "87100ebb-bada-4ad8-9f2b-145a1704f88f",
   "metadata": {},
   "outputs": [
    {
     "data": {
      "text/plain": [
       "(tensor([[[-0.9534, -0.9534, -0.9363,  ..., -0.8507, -0.8507, -0.8507],\n",
       "          [-0.9534, -0.9363, -0.9363,  ..., -0.8507, -0.8507, -0.8507],\n",
       "          [-0.9363, -0.9192, -0.9534,  ..., -0.8678, -0.8507, -0.8507],\n",
       "          ...,\n",
       "          [-0.7993, -0.8507, -0.8507,  ..., -0.9020, -0.9020, -0.8849],\n",
       "          [-0.7993, -0.8507, -0.8507,  ..., -0.9192, -0.9192, -0.8849],\n",
       "          [-0.7993, -0.8507, -0.8507,  ..., -0.9363, -0.9192, -0.8849]],\n",
       " \n",
       "         [[-0.7227, -0.7052, -0.7052,  ..., -0.7227, -0.7227, -0.7227],\n",
       "          [-0.7227, -0.7052, -0.7052,  ..., -0.7227, -0.7227, -0.7227],\n",
       "          [-0.7052, -0.6877, -0.7052,  ..., -0.7227, -0.7227, -0.7227],\n",
       "          ...,\n",
       "          [-0.6877, -0.6877, -0.6877,  ..., -0.7052, -0.7227, -0.7227],\n",
       "          [-0.6877, -0.6877, -0.7052,  ..., -0.7052, -0.7052, -0.7052],\n",
       "          [-0.6877, -0.6877, -0.7227,  ..., -0.7052, -0.7052, -0.7052]],\n",
       " \n",
       "         [[-0.4624, -0.4624, -0.4798,  ..., -0.4973, -0.4973, -0.4973],\n",
       "          [-0.4450, -0.4450, -0.4798,  ..., -0.4973, -0.4973, -0.4973],\n",
       "          [-0.4101, -0.4275, -0.4798,  ..., -0.5147, -0.4973, -0.4973],\n",
       "          ...,\n",
       "          [-0.5321, -0.5321, -0.5321,  ..., -0.5321, -0.5321, -0.5321],\n",
       "          [-0.5321, -0.5321, -0.5321,  ..., -0.5321, -0.5321, -0.5147],\n",
       "          [-0.5321, -0.5321, -0.5321,  ..., -0.5321, -0.5321, -0.5147]]]),\n",
       " 1)"
      ]
     },
     "execution_count": 51,
     "metadata": {},
     "output_type": "execute_result"
    }
   ],
   "source": [
    "train_ds[10000]"
   ]
  },
  {
   "cell_type": "code",
   "execution_count": null,
   "id": "3070d497-5f26-4fbf-b6f5-7a7535398480",
   "metadata": {},
   "outputs": [],
   "source": []
  }
 ],
 "metadata": {
  "kernelspec": {
   "display_name": "Python 3 (ipykernel)",
   "language": "python",
   "name": "python3"
  },
  "language_info": {
   "codemirror_mode": {
    "name": "ipython",
    "version": 3
   },
   "file_extension": ".py",
   "mimetype": "text/x-python",
   "name": "python",
   "nbconvert_exporter": "python",
   "pygments_lexer": "ipython3",
   "version": "3.8.13"
  }
 },
 "nbformat": 4,
 "nbformat_minor": 5
}
