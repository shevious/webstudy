{
 "cells": [
  {
   "cell_type": "code",
   "execution_count": 11,
   "id": "032c62cd-ddf3-4674-bc99-9042fd376c69",
   "metadata": {},
   "outputs": [
    {
     "name": "stdout",
     "output_type": "stream",
     "text": [
      "pytorch-accelerated       0.1.47\n",
      "timm                      0.9.16\n"
     ]
    }
   ],
   "source": [
    "#!pip install timm\n",
    "#!pip install pytorch-accelerated\n",
    "!pip list | grep -E 'timm|accelerated'"
   ]
  },
  {
   "cell_type": "code",
   "execution_count": 2,
   "id": "4f29dfde-b57a-43cf-80c1-a089a2ee5e78",
   "metadata": {},
   "outputs": [],
   "source": [
    "import timm"
   ]
  },
  {
   "cell_type": "code",
   "execution_count": 3,
   "id": "b112258d-c0fb-42e9-8068-9ff73dbaebda",
   "metadata": {},
   "outputs": [
    {
     "data": {
      "text/plain": [
       "['bat_resnext26ts.ch_in1k',\n",
       " 'beit_base_patch16_224.in22k_ft_in22k',\n",
       " 'beit_base_patch16_224.in22k_ft_in22k_in1k',\n",
       " 'beit_base_patch16_384.in22k_ft_in22k_in1k',\n",
       " 'beit_large_patch16_224.in22k_ft_in22k',\n",
       " 'beit_large_patch16_224.in22k_ft_in22k_in1k',\n",
       " 'beit_large_patch16_384.in22k_ft_in22k_in1k',\n",
       " 'beit_large_patch16_512.in22k_ft_in22k_in1k',\n",
       " 'beitv2_base_patch16_224.in1k_ft_in1k',\n",
       " 'beitv2_base_patch16_224.in1k_ft_in22k',\n",
       " 'beitv2_base_patch16_224.in1k_ft_in22k_in1k',\n",
       " 'beitv2_large_patch16_224.in1k_ft_in1k',\n",
       " 'beitv2_large_patch16_224.in1k_ft_in22k',\n",
       " 'beitv2_large_patch16_224.in1k_ft_in22k_in1k',\n",
       " 'botnet26t_256.c1_in1k',\n",
       " 'caformer_b36.sail_in1k',\n",
       " 'caformer_b36.sail_in1k_384',\n",
       " 'caformer_b36.sail_in22k',\n",
       " 'caformer_b36.sail_in22k_ft_in1k',\n",
       " 'caformer_b36.sail_in22k_ft_in1k_384',\n",
       " 'caformer_m36.sail_in1k',\n",
       " 'caformer_m36.sail_in1k_384',\n",
       " 'caformer_m36.sail_in22k',\n",
       " 'caformer_m36.sail_in22k_ft_in1k',\n",
       " 'caformer_m36.sail_in22k_ft_in1k_384',\n",
       " 'caformer_s18.sail_in1k',\n",
       " 'caformer_s18.sail_in1k_384',\n",
       " 'caformer_s18.sail_in22k',\n",
       " 'caformer_s18.sail_in22k_ft_in1k',\n",
       " 'caformer_s18.sail_in22k_ft_in1k_384',\n",
       " 'caformer_s36.sail_in1k',\n",
       " 'caformer_s36.sail_in1k_384',\n",
       " 'caformer_s36.sail_in22k',\n",
       " 'caformer_s36.sail_in22k_ft_in1k',\n",
       " 'caformer_s36.sail_in22k_ft_in1k_384',\n",
       " 'cait_m36_384.fb_dist_in1k',\n",
       " 'cait_m48_448.fb_dist_in1k',\n",
       " 'cait_s24_224.fb_dist_in1k',\n",
       " 'cait_s24_384.fb_dist_in1k',\n",
       " 'cait_s36_384.fb_dist_in1k',\n",
       " 'cait_xs24_384.fb_dist_in1k',\n",
       " 'cait_xxs24_224.fb_dist_in1k',\n",
       " 'cait_xxs24_384.fb_dist_in1k',\n",
       " 'cait_xxs36_224.fb_dist_in1k',\n",
       " 'cait_xxs36_384.fb_dist_in1k',\n",
       " 'coat_lite_medium.in1k',\n",
       " 'coat_lite_medium_384.in1k',\n",
       " 'coat_lite_mini.in1k',\n",
       " 'coat_lite_small.in1k',\n",
       " 'coat_lite_tiny.in1k',\n",
       " 'coat_mini.in1k',\n",
       " 'coat_small.in1k',\n",
       " 'coat_tiny.in1k',\n",
       " 'coatnet_0_rw_224.sw_in1k',\n",
       " 'coatnet_1_rw_224.sw_in1k',\n",
       " 'coatnet_2_rw_224.sw_in12k',\n",
       " 'coatnet_2_rw_224.sw_in12k_ft_in1k',\n",
       " 'coatnet_3_rw_224.sw_in12k',\n",
       " 'coatnet_bn_0_rw_224.sw_in1k',\n",
       " 'coatnet_nano_rw_224.sw_in1k',\n",
       " 'coatnet_rmlp_1_rw2_224.sw_in12k',\n",
       " 'coatnet_rmlp_1_rw2_224.sw_in12k_ft_in1k',\n",
       " 'coatnet_rmlp_1_rw_224.sw_in1k',\n",
       " 'coatnet_rmlp_2_rw_224.sw_in1k',\n",
       " 'coatnet_rmlp_2_rw_224.sw_in12k',\n",
       " 'coatnet_rmlp_2_rw_224.sw_in12k_ft_in1k',\n",
       " 'coatnet_rmlp_2_rw_384.sw_in12k_ft_in1k',\n",
       " 'coatnet_rmlp_nano_rw_224.sw_in1k',\n",
       " 'coatnext_nano_rw_224.sw_in1k',\n",
       " 'convformer_b36.sail_in1k',\n",
       " 'convformer_b36.sail_in1k_384',\n",
       " 'convformer_b36.sail_in22k',\n",
       " 'convformer_b36.sail_in22k_ft_in1k',\n",
       " 'convformer_b36.sail_in22k_ft_in1k_384',\n",
       " 'convformer_m36.sail_in1k',\n",
       " 'convformer_m36.sail_in1k_384',\n",
       " 'convformer_m36.sail_in22k',\n",
       " 'convformer_m36.sail_in22k_ft_in1k',\n",
       " 'convformer_m36.sail_in22k_ft_in1k_384',\n",
       " 'convformer_s18.sail_in1k',\n",
       " 'convformer_s18.sail_in1k_384',\n",
       " 'convformer_s18.sail_in22k',\n",
       " 'convformer_s18.sail_in22k_ft_in1k',\n",
       " 'convformer_s18.sail_in22k_ft_in1k_384',\n",
       " 'convformer_s36.sail_in1k',\n",
       " 'convformer_s36.sail_in1k_384',\n",
       " 'convformer_s36.sail_in22k',\n",
       " 'convformer_s36.sail_in22k_ft_in1k',\n",
       " 'convformer_s36.sail_in22k_ft_in1k_384',\n",
       " 'convit_base.fb_in1k',\n",
       " 'convit_small.fb_in1k',\n",
       " 'convit_tiny.fb_in1k',\n",
       " 'convmixer_768_32.in1k',\n",
       " 'convmixer_1024_20_ks9_p14.in1k',\n",
       " 'convmixer_1536_20.in1k',\n",
       " 'convnext_atto.d2_in1k',\n",
       " 'convnext_atto_ols.a2_in1k',\n",
       " 'convnext_base.clip_laion2b',\n",
       " 'convnext_base.clip_laion2b_augreg',\n",
       " 'convnext_base.clip_laion2b_augreg_ft_in1k',\n",
       " 'convnext_base.clip_laion2b_augreg_ft_in12k',\n",
       " 'convnext_base.clip_laion2b_augreg_ft_in12k_in1k',\n",
       " 'convnext_base.clip_laion2b_augreg_ft_in12k_in1k_384',\n",
       " 'convnext_base.clip_laiona',\n",
       " 'convnext_base.clip_laiona_320',\n",
       " 'convnext_base.clip_laiona_augreg_320',\n",
       " 'convnext_base.clip_laiona_augreg_ft_in1k_384',\n",
       " 'convnext_base.fb_in1k',\n",
       " 'convnext_base.fb_in22k',\n",
       " 'convnext_base.fb_in22k_ft_in1k',\n",
       " 'convnext_base.fb_in22k_ft_in1k_384',\n",
       " 'convnext_femto.d1_in1k',\n",
       " 'convnext_femto_ols.d1_in1k',\n",
       " 'convnext_large.fb_in1k',\n",
       " 'convnext_large.fb_in22k',\n",
       " 'convnext_large.fb_in22k_ft_in1k',\n",
       " 'convnext_large.fb_in22k_ft_in1k_384',\n",
       " 'convnext_large_mlp.clip_laion2b_augreg',\n",
       " 'convnext_large_mlp.clip_laion2b_augreg_ft_in1k',\n",
       " 'convnext_large_mlp.clip_laion2b_augreg_ft_in1k_384',\n",
       " 'convnext_large_mlp.clip_laion2b_augreg_ft_in12k_384',\n",
       " 'convnext_large_mlp.clip_laion2b_ft_320',\n",
       " 'convnext_large_mlp.clip_laion2b_ft_soup_320',\n",
       " 'convnext_large_mlp.clip_laion2b_soup_ft_in12k_320',\n",
       " 'convnext_large_mlp.clip_laion2b_soup_ft_in12k_384',\n",
       " 'convnext_large_mlp.clip_laion2b_soup_ft_in12k_in1k_320',\n",
       " 'convnext_large_mlp.clip_laion2b_soup_ft_in12k_in1k_384',\n",
       " 'convnext_nano.d1h_in1k',\n",
       " 'convnext_nano.in12k',\n",
       " 'convnext_nano.in12k_ft_in1k',\n",
       " 'convnext_nano_ols.d1h_in1k',\n",
       " 'convnext_pico.d1_in1k',\n",
       " 'convnext_pico_ols.d1_in1k',\n",
       " 'convnext_small.fb_in1k',\n",
       " 'convnext_small.fb_in22k',\n",
       " 'convnext_small.fb_in22k_ft_in1k',\n",
       " 'convnext_small.fb_in22k_ft_in1k_384',\n",
       " 'convnext_small.in12k',\n",
       " 'convnext_small.in12k_ft_in1k',\n",
       " 'convnext_small.in12k_ft_in1k_384',\n",
       " 'convnext_tiny.fb_in1k',\n",
       " 'convnext_tiny.fb_in22k',\n",
       " 'convnext_tiny.fb_in22k_ft_in1k',\n",
       " 'convnext_tiny.fb_in22k_ft_in1k_384',\n",
       " 'convnext_tiny.in12k',\n",
       " 'convnext_tiny.in12k_ft_in1k',\n",
       " 'convnext_tiny.in12k_ft_in1k_384',\n",
       " 'convnext_tiny_hnf.a2h_in1k',\n",
       " 'convnext_xlarge.fb_in22k',\n",
       " 'convnext_xlarge.fb_in22k_ft_in1k',\n",
       " 'convnext_xlarge.fb_in22k_ft_in1k_384',\n",
       " 'convnext_xxlarge.clip_laion2b_rewind',\n",
       " 'convnext_xxlarge.clip_laion2b_soup',\n",
       " 'convnext_xxlarge.clip_laion2b_soup_ft_in1k',\n",
       " 'convnext_xxlarge.clip_laion2b_soup_ft_in12k',\n",
       " 'convnextv2_atto.fcmae',\n",
       " 'convnextv2_atto.fcmae_ft_in1k',\n",
       " 'convnextv2_base.fcmae',\n",
       " 'convnextv2_base.fcmae_ft_in1k',\n",
       " 'convnextv2_base.fcmae_ft_in22k_in1k',\n",
       " 'convnextv2_base.fcmae_ft_in22k_in1k_384',\n",
       " 'convnextv2_femto.fcmae',\n",
       " 'convnextv2_femto.fcmae_ft_in1k',\n",
       " 'convnextv2_huge.fcmae',\n",
       " 'convnextv2_huge.fcmae_ft_in1k',\n",
       " 'convnextv2_huge.fcmae_ft_in22k_in1k_384',\n",
       " 'convnextv2_huge.fcmae_ft_in22k_in1k_512',\n",
       " 'convnextv2_large.fcmae',\n",
       " 'convnextv2_large.fcmae_ft_in1k',\n",
       " 'convnextv2_large.fcmae_ft_in22k_in1k',\n",
       " 'convnextv2_large.fcmae_ft_in22k_in1k_384',\n",
       " 'convnextv2_nano.fcmae',\n",
       " 'convnextv2_nano.fcmae_ft_in1k',\n",
       " 'convnextv2_nano.fcmae_ft_in22k_in1k',\n",
       " 'convnextv2_nano.fcmae_ft_in22k_in1k_384',\n",
       " 'convnextv2_pico.fcmae',\n",
       " 'convnextv2_pico.fcmae_ft_in1k',\n",
       " 'convnextv2_tiny.fcmae',\n",
       " 'convnextv2_tiny.fcmae_ft_in1k',\n",
       " 'convnextv2_tiny.fcmae_ft_in22k_in1k',\n",
       " 'convnextv2_tiny.fcmae_ft_in22k_in1k_384',\n",
       " 'crossvit_9_240.in1k',\n",
       " 'crossvit_9_dagger_240.in1k',\n",
       " 'crossvit_15_240.in1k',\n",
       " 'crossvit_15_dagger_240.in1k',\n",
       " 'crossvit_15_dagger_408.in1k',\n",
       " 'crossvit_18_240.in1k',\n",
       " 'crossvit_18_dagger_240.in1k',\n",
       " 'crossvit_18_dagger_408.in1k',\n",
       " 'crossvit_base_240.in1k',\n",
       " 'crossvit_small_240.in1k',\n",
       " 'crossvit_tiny_240.in1k',\n",
       " 'cs3darknet_focus_l.c2ns_in1k',\n",
       " 'cs3darknet_focus_m.c2ns_in1k',\n",
       " 'cs3darknet_l.c2ns_in1k',\n",
       " 'cs3darknet_m.c2ns_in1k',\n",
       " 'cs3darknet_x.c2ns_in1k',\n",
       " 'cs3edgenet_x.c2_in1k',\n",
       " 'cs3se_edgenet_x.c2ns_in1k',\n",
       " 'cs3sedarknet_l.c2ns_in1k',\n",
       " 'cs3sedarknet_x.c2ns_in1k',\n",
       " 'cspdarknet53.ra_in1k',\n",
       " 'cspresnet50.ra_in1k',\n",
       " 'cspresnext50.ra_in1k',\n",
       " 'darknet53.c2ns_in1k',\n",
       " 'darknetaa53.c2ns_in1k',\n",
       " 'davit_base.msft_in1k',\n",
       " 'davit_small.msft_in1k',\n",
       " 'davit_tiny.msft_in1k',\n",
       " 'deit3_base_patch16_224.fb_in1k',\n",
       " 'deit3_base_patch16_224.fb_in22k_ft_in1k',\n",
       " 'deit3_base_patch16_384.fb_in1k',\n",
       " 'deit3_base_patch16_384.fb_in22k_ft_in1k',\n",
       " 'deit3_huge_patch14_224.fb_in1k',\n",
       " 'deit3_huge_patch14_224.fb_in22k_ft_in1k',\n",
       " 'deit3_large_patch16_224.fb_in1k',\n",
       " 'deit3_large_patch16_224.fb_in22k_ft_in1k',\n",
       " 'deit3_large_patch16_384.fb_in1k',\n",
       " 'deit3_large_patch16_384.fb_in22k_ft_in1k',\n",
       " 'deit3_medium_patch16_224.fb_in1k',\n",
       " 'deit3_medium_patch16_224.fb_in22k_ft_in1k',\n",
       " 'deit3_small_patch16_224.fb_in1k',\n",
       " 'deit3_small_patch16_224.fb_in22k_ft_in1k',\n",
       " 'deit3_small_patch16_384.fb_in1k',\n",
       " 'deit3_small_patch16_384.fb_in22k_ft_in1k',\n",
       " 'deit_base_distilled_patch16_224.fb_in1k',\n",
       " 'deit_base_distilled_patch16_384.fb_in1k',\n",
       " 'deit_base_patch16_224.fb_in1k',\n",
       " 'deit_base_patch16_384.fb_in1k',\n",
       " 'deit_small_distilled_patch16_224.fb_in1k',\n",
       " 'deit_small_patch16_224.fb_in1k',\n",
       " 'deit_tiny_distilled_patch16_224.fb_in1k',\n",
       " 'deit_tiny_patch16_224.fb_in1k',\n",
       " 'densenet121.ra_in1k',\n",
       " 'densenet121.tv_in1k',\n",
       " 'densenet161.tv_in1k',\n",
       " 'densenet169.tv_in1k',\n",
       " 'densenet201.tv_in1k',\n",
       " 'densenetblur121d.ra_in1k',\n",
       " 'dla34.in1k',\n",
       " 'dla46_c.in1k',\n",
       " 'dla46x_c.in1k',\n",
       " 'dla60.in1k',\n",
       " 'dla60_res2net.in1k',\n",
       " 'dla60_res2next.in1k',\n",
       " 'dla60x.in1k',\n",
       " 'dla60x_c.in1k',\n",
       " 'dla102.in1k',\n",
       " 'dla102x2.in1k',\n",
       " 'dla102x.in1k',\n",
       " 'dla169.in1k',\n",
       " 'dm_nfnet_f0.dm_in1k',\n",
       " 'dm_nfnet_f1.dm_in1k',\n",
       " 'dm_nfnet_f2.dm_in1k',\n",
       " 'dm_nfnet_f3.dm_in1k',\n",
       " 'dm_nfnet_f4.dm_in1k',\n",
       " 'dm_nfnet_f5.dm_in1k',\n",
       " 'dm_nfnet_f6.dm_in1k',\n",
       " 'dpn68.mx_in1k',\n",
       " 'dpn68b.mx_in1k',\n",
       " 'dpn68b.ra_in1k',\n",
       " 'dpn92.mx_in1k',\n",
       " 'dpn98.mx_in1k',\n",
       " 'dpn107.mx_in1k',\n",
       " 'dpn131.mx_in1k',\n",
       " 'eca_botnext26ts_256.c1_in1k',\n",
       " 'eca_halonext26ts.c1_in1k',\n",
       " 'eca_nfnet_l0.ra2_in1k',\n",
       " 'eca_nfnet_l1.ra2_in1k',\n",
       " 'eca_nfnet_l2.ra3_in1k',\n",
       " 'eca_resnet33ts.ra2_in1k',\n",
       " 'eca_resnext26ts.ch_in1k',\n",
       " 'ecaresnet26t.ra2_in1k',\n",
       " 'ecaresnet50d.miil_in1k',\n",
       " 'ecaresnet50d_pruned.miil_in1k',\n",
       " 'ecaresnet50t.a1_in1k',\n",
       " 'ecaresnet50t.a2_in1k',\n",
       " 'ecaresnet50t.a3_in1k',\n",
       " 'ecaresnet50t.ra2_in1k',\n",
       " 'ecaresnet101d.miil_in1k',\n",
       " 'ecaresnet101d_pruned.miil_in1k',\n",
       " 'ecaresnet269d.ra2_in1k',\n",
       " 'ecaresnetlight.miil_in1k',\n",
       " 'edgenext_base.in21k_ft_in1k',\n",
       " 'edgenext_base.usi_in1k',\n",
       " 'edgenext_small.usi_in1k',\n",
       " 'edgenext_small_rw.sw_in1k',\n",
       " 'edgenext_x_small.in1k',\n",
       " 'edgenext_xx_small.in1k',\n",
       " 'efficientformer_l1.snap_dist_in1k',\n",
       " 'efficientformer_l3.snap_dist_in1k',\n",
       " 'efficientformer_l7.snap_dist_in1k',\n",
       " 'efficientformerv2_l.snap_dist_in1k',\n",
       " 'efficientformerv2_s0.snap_dist_in1k',\n",
       " 'efficientformerv2_s1.snap_dist_in1k',\n",
       " 'efficientformerv2_s2.snap_dist_in1k',\n",
       " 'efficientnet_b0.ra_in1k',\n",
       " 'efficientnet_b1.ft_in1k',\n",
       " 'efficientnet_b1_pruned.in1k',\n",
       " 'efficientnet_b2.ra_in1k',\n",
       " 'efficientnet_b2_pruned.in1k',\n",
       " 'efficientnet_b3.ra2_in1k',\n",
       " 'efficientnet_b3_pruned.in1k',\n",
       " 'efficientnet_b4.ra2_in1k',\n",
       " 'efficientnet_b5.sw_in12k',\n",
       " 'efficientnet_b5.sw_in12k_ft_in1k',\n",
       " 'efficientnet_el.ra_in1k',\n",
       " 'efficientnet_el_pruned.in1k',\n",
       " 'efficientnet_em.ra2_in1k',\n",
       " 'efficientnet_es.ra_in1k',\n",
       " 'efficientnet_es_pruned.in1k',\n",
       " 'efficientnet_lite0.ra_in1k',\n",
       " 'efficientnetv2_rw_m.agc_in1k',\n",
       " 'efficientnetv2_rw_s.ra2_in1k',\n",
       " 'efficientnetv2_rw_t.ra2_in1k',\n",
       " 'efficientvit_b0.r224_in1k',\n",
       " 'efficientvit_b1.r224_in1k',\n",
       " 'efficientvit_b1.r256_in1k',\n",
       " 'efficientvit_b1.r288_in1k',\n",
       " 'efficientvit_b2.r224_in1k',\n",
       " 'efficientvit_b2.r256_in1k',\n",
       " 'efficientvit_b2.r288_in1k',\n",
       " 'efficientvit_b3.r224_in1k',\n",
       " 'efficientvit_b3.r256_in1k',\n",
       " 'efficientvit_b3.r288_in1k',\n",
       " 'efficientvit_l1.r224_in1k',\n",
       " 'efficientvit_l2.r224_in1k',\n",
       " 'efficientvit_l2.r256_in1k',\n",
       " 'efficientvit_l2.r288_in1k',\n",
       " 'efficientvit_l2.r384_in1k',\n",
       " 'efficientvit_l3.r224_in1k',\n",
       " 'efficientvit_l3.r256_in1k',\n",
       " 'efficientvit_l3.r320_in1k',\n",
       " 'efficientvit_l3.r384_in1k',\n",
       " 'efficientvit_m0.r224_in1k',\n",
       " 'efficientvit_m1.r224_in1k',\n",
       " 'efficientvit_m2.r224_in1k',\n",
       " 'efficientvit_m3.r224_in1k',\n",
       " 'efficientvit_m4.r224_in1k',\n",
       " 'efficientvit_m5.r224_in1k',\n",
       " 'ese_vovnet19b_dw.ra_in1k',\n",
       " 'ese_vovnet39b.ra_in1k',\n",
       " 'eva02_base_patch14_224.mim_in22k',\n",
       " 'eva02_base_patch14_448.mim_in22k_ft_in1k',\n",
       " 'eva02_base_patch14_448.mim_in22k_ft_in22k',\n",
       " 'eva02_base_patch14_448.mim_in22k_ft_in22k_in1k',\n",
       " 'eva02_base_patch16_clip_224.merged2b',\n",
       " 'eva02_enormous_patch14_clip_224.laion2b',\n",
       " 'eva02_enormous_patch14_clip_224.laion2b_plus',\n",
       " 'eva02_large_patch14_224.mim_in22k',\n",
       " 'eva02_large_patch14_224.mim_m38m',\n",
       " 'eva02_large_patch14_448.mim_in22k_ft_in1k',\n",
       " 'eva02_large_patch14_448.mim_in22k_ft_in22k',\n",
       " 'eva02_large_patch14_448.mim_in22k_ft_in22k_in1k',\n",
       " 'eva02_large_patch14_448.mim_m38m_ft_in1k',\n",
       " 'eva02_large_patch14_448.mim_m38m_ft_in22k',\n",
       " 'eva02_large_patch14_448.mim_m38m_ft_in22k_in1k',\n",
       " 'eva02_large_patch14_clip_224.merged2b',\n",
       " 'eva02_large_patch14_clip_336.merged2b',\n",
       " 'eva02_small_patch14_224.mim_in22k',\n",
       " 'eva02_small_patch14_336.mim_in22k_ft_in1k',\n",
       " 'eva02_tiny_patch14_224.mim_in22k',\n",
       " 'eva02_tiny_patch14_336.mim_in22k_ft_in1k',\n",
       " 'eva_giant_patch14_224.clip_ft_in1k',\n",
       " 'eva_giant_patch14_336.clip_ft_in1k',\n",
       " 'eva_giant_patch14_336.m30m_ft_in22k_in1k',\n",
       " 'eva_giant_patch14_560.m30m_ft_in22k_in1k',\n",
       " 'eva_giant_patch14_clip_224.laion400m',\n",
       " 'eva_giant_patch14_clip_224.merged2b',\n",
       " 'eva_large_patch14_196.in22k_ft_in1k',\n",
       " 'eva_large_patch14_196.in22k_ft_in22k_in1k',\n",
       " 'eva_large_patch14_336.in22k_ft_in1k',\n",
       " 'eva_large_patch14_336.in22k_ft_in22k_in1k',\n",
       " 'fastvit_ma36.apple_dist_in1k',\n",
       " 'fastvit_ma36.apple_in1k',\n",
       " 'fastvit_s12.apple_dist_in1k',\n",
       " 'fastvit_s12.apple_in1k',\n",
       " 'fastvit_sa12.apple_dist_in1k',\n",
       " 'fastvit_sa12.apple_in1k',\n",
       " 'fastvit_sa24.apple_dist_in1k',\n",
       " 'fastvit_sa24.apple_in1k',\n",
       " 'fastvit_sa36.apple_dist_in1k',\n",
       " 'fastvit_sa36.apple_in1k',\n",
       " 'fastvit_t8.apple_dist_in1k',\n",
       " 'fastvit_t8.apple_in1k',\n",
       " 'fastvit_t12.apple_dist_in1k',\n",
       " 'fastvit_t12.apple_in1k',\n",
       " 'fbnetc_100.rmsp_in1k',\n",
       " 'fbnetv3_b.ra2_in1k',\n",
       " 'fbnetv3_d.ra2_in1k',\n",
       " 'fbnetv3_g.ra2_in1k',\n",
       " 'flexivit_base.300ep_in1k',\n",
       " 'flexivit_base.300ep_in21k',\n",
       " 'flexivit_base.600ep_in1k',\n",
       " 'flexivit_base.1000ep_in21k',\n",
       " 'flexivit_base.1200ep_in1k',\n",
       " 'flexivit_base.patch16_in21k',\n",
       " 'flexivit_base.patch30_in21k',\n",
       " 'flexivit_large.300ep_in1k',\n",
       " 'flexivit_large.600ep_in1k',\n",
       " 'flexivit_large.1200ep_in1k',\n",
       " 'flexivit_small.300ep_in1k',\n",
       " 'flexivit_small.600ep_in1k',\n",
       " 'flexivit_small.1200ep_in1k',\n",
       " 'focalnet_base_lrf.ms_in1k',\n",
       " 'focalnet_base_srf.ms_in1k',\n",
       " 'focalnet_huge_fl3.ms_in22k',\n",
       " 'focalnet_huge_fl4.ms_in22k',\n",
       " 'focalnet_large_fl3.ms_in22k',\n",
       " 'focalnet_large_fl4.ms_in22k',\n",
       " 'focalnet_small_lrf.ms_in1k',\n",
       " 'focalnet_small_srf.ms_in1k',\n",
       " 'focalnet_tiny_lrf.ms_in1k',\n",
       " 'focalnet_tiny_srf.ms_in1k',\n",
       " 'focalnet_xlarge_fl3.ms_in22k',\n",
       " 'focalnet_xlarge_fl4.ms_in22k',\n",
       " 'gc_efficientnetv2_rw_t.agc_in1k',\n",
       " 'gcresnet33ts.ra2_in1k',\n",
       " 'gcresnet50t.ra2_in1k',\n",
       " 'gcresnext26ts.ch_in1k',\n",
       " 'gcresnext50ts.ch_in1k',\n",
       " 'gcvit_base.in1k',\n",
       " 'gcvit_small.in1k',\n",
       " 'gcvit_tiny.in1k',\n",
       " 'gcvit_xtiny.in1k',\n",
       " 'gcvit_xxtiny.in1k',\n",
       " 'gernet_l.idstcv_in1k',\n",
       " 'gernet_m.idstcv_in1k',\n",
       " 'gernet_s.idstcv_in1k',\n",
       " 'ghostnet_100.in1k',\n",
       " 'ghostnetv2_100.in1k',\n",
       " 'ghostnetv2_130.in1k',\n",
       " 'ghostnetv2_160.in1k',\n",
       " 'gmixer_24_224.ra3_in1k',\n",
       " 'gmlp_s16_224.ra3_in1k',\n",
       " 'halo2botnet50ts_256.a1h_in1k',\n",
       " 'halonet26t.a1h_in1k',\n",
       " 'halonet50ts.a1h_in1k',\n",
       " 'haloregnetz_b.ra3_in1k',\n",
       " 'hardcorenas_a.miil_green_in1k',\n",
       " 'hardcorenas_b.miil_green_in1k',\n",
       " 'hardcorenas_c.miil_green_in1k',\n",
       " 'hardcorenas_d.miil_green_in1k',\n",
       " 'hardcorenas_e.miil_green_in1k',\n",
       " 'hardcorenas_f.miil_green_in1k',\n",
       " 'hgnet_base.ssld_in1k',\n",
       " 'hgnet_small.paddle_in1k',\n",
       " 'hgnet_small.ssld_in1k',\n",
       " 'hgnet_tiny.paddle_in1k',\n",
       " 'hgnet_tiny.ssld_in1k',\n",
       " 'hgnetv2_b0.ssld_stage1_in22k_in1k',\n",
       " 'hgnetv2_b0.ssld_stage2_ft_in1k',\n",
       " 'hgnetv2_b1.ssld_stage1_in22k_in1k',\n",
       " 'hgnetv2_b1.ssld_stage2_ft_in1k',\n",
       " 'hgnetv2_b2.ssld_stage1_in22k_in1k',\n",
       " 'hgnetv2_b2.ssld_stage2_ft_in1k',\n",
       " 'hgnetv2_b3.ssld_stage1_in22k_in1k',\n",
       " 'hgnetv2_b3.ssld_stage2_ft_in1k',\n",
       " 'hgnetv2_b4.ssld_stage1_in22k_in1k',\n",
       " 'hgnetv2_b4.ssld_stage2_ft_in1k',\n",
       " 'hgnetv2_b5.ssld_stage1_in22k_in1k',\n",
       " 'hgnetv2_b5.ssld_stage2_ft_in1k',\n",
       " 'hgnetv2_b6.ssld_stage1_in22k_in1k',\n",
       " 'hgnetv2_b6.ssld_stage2_ft_in1k',\n",
       " 'hrnet_w18.ms_aug_in1k',\n",
       " 'hrnet_w18.ms_in1k',\n",
       " 'hrnet_w18_small.gluon_in1k',\n",
       " 'hrnet_w18_small.ms_in1k',\n",
       " 'hrnet_w18_small_v2.gluon_in1k',\n",
       " 'hrnet_w18_small_v2.ms_in1k',\n",
       " 'hrnet_w18_ssld.paddle_in1k',\n",
       " 'hrnet_w30.ms_in1k',\n",
       " 'hrnet_w32.ms_in1k',\n",
       " 'hrnet_w40.ms_in1k',\n",
       " 'hrnet_w44.ms_in1k',\n",
       " 'hrnet_w48.ms_in1k',\n",
       " 'hrnet_w48_ssld.paddle_in1k',\n",
       " 'hrnet_w64.ms_in1k',\n",
       " 'inception_next_base.sail_in1k',\n",
       " 'inception_next_base.sail_in1k_384',\n",
       " 'inception_next_small.sail_in1k',\n",
       " 'inception_next_tiny.sail_in1k',\n",
       " 'inception_resnet_v2.tf_ens_adv_in1k',\n",
       " 'inception_resnet_v2.tf_in1k',\n",
       " 'inception_v3.gluon_in1k',\n",
       " 'inception_v3.tf_adv_in1k',\n",
       " 'inception_v3.tf_in1k',\n",
       " 'inception_v3.tv_in1k',\n",
       " 'inception_v4.tf_in1k',\n",
       " 'lambda_resnet26rpt_256.c1_in1k',\n",
       " 'lambda_resnet26t.c1_in1k',\n",
       " 'lambda_resnet50ts.a1h_in1k',\n",
       " 'lamhalobotnet50ts_256.a1h_in1k',\n",
       " 'lcnet_050.ra2_in1k',\n",
       " 'lcnet_075.ra2_in1k',\n",
       " 'lcnet_100.ra2_in1k',\n",
       " 'legacy_senet154.in1k',\n",
       " 'legacy_seresnet18.in1k',\n",
       " 'legacy_seresnet34.in1k',\n",
       " 'legacy_seresnet50.in1k',\n",
       " 'legacy_seresnet101.in1k',\n",
       " 'legacy_seresnet152.in1k',\n",
       " 'legacy_seresnext26_32x4d.in1k',\n",
       " 'legacy_seresnext50_32x4d.in1k',\n",
       " 'legacy_seresnext101_32x4d.in1k',\n",
       " 'legacy_xception.tf_in1k',\n",
       " 'levit_128.fb_dist_in1k',\n",
       " 'levit_128s.fb_dist_in1k',\n",
       " 'levit_192.fb_dist_in1k',\n",
       " 'levit_256.fb_dist_in1k',\n",
       " 'levit_384.fb_dist_in1k',\n",
       " 'levit_conv_128.fb_dist_in1k',\n",
       " 'levit_conv_128s.fb_dist_in1k',\n",
       " 'levit_conv_192.fb_dist_in1k',\n",
       " 'levit_conv_256.fb_dist_in1k',\n",
       " 'levit_conv_384.fb_dist_in1k',\n",
       " 'maxvit_base_tf_224.in1k',\n",
       " 'maxvit_base_tf_224.in21k',\n",
       " 'maxvit_base_tf_384.in1k',\n",
       " 'maxvit_base_tf_384.in21k_ft_in1k',\n",
       " 'maxvit_base_tf_512.in1k',\n",
       " 'maxvit_base_tf_512.in21k_ft_in1k',\n",
       " 'maxvit_large_tf_224.in1k',\n",
       " 'maxvit_large_tf_224.in21k',\n",
       " 'maxvit_large_tf_384.in1k',\n",
       " 'maxvit_large_tf_384.in21k_ft_in1k',\n",
       " 'maxvit_large_tf_512.in1k',\n",
       " 'maxvit_large_tf_512.in21k_ft_in1k',\n",
       " 'maxvit_nano_rw_256.sw_in1k',\n",
       " 'maxvit_rmlp_base_rw_224.sw_in12k',\n",
       " 'maxvit_rmlp_base_rw_224.sw_in12k_ft_in1k',\n",
       " 'maxvit_rmlp_base_rw_384.sw_in12k_ft_in1k',\n",
       " 'maxvit_rmlp_nano_rw_256.sw_in1k',\n",
       " 'maxvit_rmlp_pico_rw_256.sw_in1k',\n",
       " 'maxvit_rmlp_small_rw_224.sw_in1k',\n",
       " 'maxvit_rmlp_tiny_rw_256.sw_in1k',\n",
       " 'maxvit_small_tf_224.in1k',\n",
       " 'maxvit_small_tf_384.in1k',\n",
       " 'maxvit_small_tf_512.in1k',\n",
       " 'maxvit_tiny_rw_224.sw_in1k',\n",
       " 'maxvit_tiny_tf_224.in1k',\n",
       " 'maxvit_tiny_tf_384.in1k',\n",
       " 'maxvit_tiny_tf_512.in1k',\n",
       " 'maxvit_xlarge_tf_224.in21k',\n",
       " 'maxvit_xlarge_tf_384.in21k_ft_in1k',\n",
       " 'maxvit_xlarge_tf_512.in21k_ft_in1k',\n",
       " 'maxxvit_rmlp_nano_rw_256.sw_in1k',\n",
       " 'maxxvit_rmlp_small_rw_256.sw_in1k',\n",
       " 'maxxvitv2_nano_rw_256.sw_in1k',\n",
       " 'maxxvitv2_rmlp_base_rw_224.sw_in12k',\n",
       " 'maxxvitv2_rmlp_base_rw_224.sw_in12k_ft_in1k',\n",
       " 'maxxvitv2_rmlp_base_rw_384.sw_in12k_ft_in1k',\n",
       " 'mixer_b16_224.goog_in21k',\n",
       " 'mixer_b16_224.goog_in21k_ft_in1k',\n",
       " 'mixer_b16_224.miil_in21k',\n",
       " 'mixer_b16_224.miil_in21k_ft_in1k',\n",
       " 'mixer_l16_224.goog_in21k',\n",
       " 'mixer_l16_224.goog_in21k_ft_in1k',\n",
       " 'mixnet_l.ft_in1k',\n",
       " 'mixnet_m.ft_in1k',\n",
       " 'mixnet_s.ft_in1k',\n",
       " 'mixnet_xl.ra_in1k',\n",
       " 'mnasnet_100.rmsp_in1k',\n",
       " 'mnasnet_small.lamb_in1k',\n",
       " 'mobilenetv2_050.lamb_in1k',\n",
       " 'mobilenetv2_100.ra_in1k',\n",
       " 'mobilenetv2_110d.ra_in1k',\n",
       " 'mobilenetv2_120d.ra_in1k',\n",
       " 'mobilenetv2_140.ra_in1k',\n",
       " 'mobilenetv3_large_100.miil_in21k',\n",
       " 'mobilenetv3_large_100.miil_in21k_ft_in1k',\n",
       " 'mobilenetv3_large_100.ra_in1k',\n",
       " 'mobilenetv3_rw.rmsp_in1k',\n",
       " 'mobilenetv3_small_050.lamb_in1k',\n",
       " 'mobilenetv3_small_075.lamb_in1k',\n",
       " 'mobilenetv3_small_100.lamb_in1k',\n",
       " 'mobileone_s0.apple_in1k',\n",
       " 'mobileone_s1.apple_in1k',\n",
       " 'mobileone_s2.apple_in1k',\n",
       " 'mobileone_s3.apple_in1k',\n",
       " 'mobileone_s4.apple_in1k',\n",
       " 'mobilevit_s.cvnets_in1k',\n",
       " 'mobilevit_xs.cvnets_in1k',\n",
       " 'mobilevit_xxs.cvnets_in1k',\n",
       " 'mobilevitv2_050.cvnets_in1k',\n",
       " 'mobilevitv2_075.cvnets_in1k',\n",
       " 'mobilevitv2_100.cvnets_in1k',\n",
       " 'mobilevitv2_125.cvnets_in1k',\n",
       " 'mobilevitv2_150.cvnets_in1k',\n",
       " 'mobilevitv2_150.cvnets_in22k_ft_in1k',\n",
       " 'mobilevitv2_150.cvnets_in22k_ft_in1k_384',\n",
       " 'mobilevitv2_175.cvnets_in1k',\n",
       " 'mobilevitv2_175.cvnets_in22k_ft_in1k',\n",
       " 'mobilevitv2_175.cvnets_in22k_ft_in1k_384',\n",
       " 'mobilevitv2_200.cvnets_in1k',\n",
       " 'mobilevitv2_200.cvnets_in22k_ft_in1k',\n",
       " 'mobilevitv2_200.cvnets_in22k_ft_in1k_384',\n",
       " 'mvitv2_base.fb_in1k',\n",
       " 'mvitv2_base_cls.fb_inw21k',\n",
       " 'mvitv2_huge_cls.fb_inw21k',\n",
       " 'mvitv2_large.fb_in1k',\n",
       " 'mvitv2_large_cls.fb_inw21k',\n",
       " 'mvitv2_small.fb_in1k',\n",
       " 'mvitv2_tiny.fb_in1k',\n",
       " 'nasnetalarge.tf_in1k',\n",
       " 'nest_base_jx.goog_in1k',\n",
       " 'nest_small_jx.goog_in1k',\n",
       " 'nest_tiny_jx.goog_in1k',\n",
       " 'nextvit_base.bd_in1k',\n",
       " 'nextvit_base.bd_in1k_384',\n",
       " 'nextvit_base.bd_ssld_6m_in1k',\n",
       " 'nextvit_base.bd_ssld_6m_in1k_384',\n",
       " 'nextvit_large.bd_in1k',\n",
       " 'nextvit_large.bd_in1k_384',\n",
       " 'nextvit_large.bd_ssld_6m_in1k',\n",
       " 'nextvit_large.bd_ssld_6m_in1k_384',\n",
       " 'nextvit_small.bd_in1k',\n",
       " 'nextvit_small.bd_in1k_384',\n",
       " 'nextvit_small.bd_ssld_6m_in1k',\n",
       " 'nextvit_small.bd_ssld_6m_in1k_384',\n",
       " 'nf_regnet_b1.ra2_in1k',\n",
       " 'nf_resnet50.ra2_in1k',\n",
       " 'nfnet_l0.ra2_in1k',\n",
       " 'pit_b_224.in1k',\n",
       " 'pit_b_distilled_224.in1k',\n",
       " 'pit_s_224.in1k',\n",
       " 'pit_s_distilled_224.in1k',\n",
       " 'pit_ti_224.in1k',\n",
       " 'pit_ti_distilled_224.in1k',\n",
       " 'pit_xs_224.in1k',\n",
       " 'pit_xs_distilled_224.in1k',\n",
       " 'pnasnet5large.tf_in1k',\n",
       " 'poolformer_m36.sail_in1k',\n",
       " 'poolformer_m48.sail_in1k',\n",
       " 'poolformer_s12.sail_in1k',\n",
       " 'poolformer_s24.sail_in1k',\n",
       " 'poolformer_s36.sail_in1k',\n",
       " 'poolformerv2_m36.sail_in1k',\n",
       " 'poolformerv2_m48.sail_in1k',\n",
       " 'poolformerv2_s12.sail_in1k',\n",
       " 'poolformerv2_s24.sail_in1k',\n",
       " 'poolformerv2_s36.sail_in1k',\n",
       " 'pvt_v2_b0.in1k',\n",
       " 'pvt_v2_b1.in1k',\n",
       " 'pvt_v2_b2.in1k',\n",
       " 'pvt_v2_b2_li.in1k',\n",
       " 'pvt_v2_b3.in1k',\n",
       " 'pvt_v2_b4.in1k',\n",
       " 'pvt_v2_b5.in1k',\n",
       " 'regnetv_040.ra3_in1k',\n",
       " 'regnetv_064.ra3_in1k',\n",
       " 'regnetx_002.pycls_in1k',\n",
       " 'regnetx_004.pycls_in1k',\n",
       " 'regnetx_004_tv.tv2_in1k',\n",
       " 'regnetx_006.pycls_in1k',\n",
       " 'regnetx_008.pycls_in1k',\n",
       " 'regnetx_008.tv2_in1k',\n",
       " 'regnetx_016.pycls_in1k',\n",
       " 'regnetx_016.tv2_in1k',\n",
       " 'regnetx_032.pycls_in1k',\n",
       " 'regnetx_032.tv2_in1k',\n",
       " 'regnetx_040.pycls_in1k',\n",
       " 'regnetx_064.pycls_in1k',\n",
       " 'regnetx_080.pycls_in1k',\n",
       " 'regnetx_080.tv2_in1k',\n",
       " 'regnetx_120.pycls_in1k',\n",
       " 'regnetx_160.pycls_in1k',\n",
       " 'regnetx_160.tv2_in1k',\n",
       " 'regnetx_320.pycls_in1k',\n",
       " 'regnetx_320.tv2_in1k',\n",
       " 'regnety_002.pycls_in1k',\n",
       " 'regnety_004.pycls_in1k',\n",
       " 'regnety_004.tv2_in1k',\n",
       " 'regnety_006.pycls_in1k',\n",
       " 'regnety_008.pycls_in1k',\n",
       " 'regnety_008_tv.tv2_in1k',\n",
       " 'regnety_016.pycls_in1k',\n",
       " 'regnety_016.tv2_in1k',\n",
       " 'regnety_032.pycls_in1k',\n",
       " 'regnety_032.ra_in1k',\n",
       " 'regnety_032.tv2_in1k',\n",
       " 'regnety_040.pycls_in1k',\n",
       " 'regnety_040.ra3_in1k',\n",
       " 'regnety_064.pycls_in1k',\n",
       " 'regnety_064.ra3_in1k',\n",
       " 'regnety_080.pycls_in1k',\n",
       " 'regnety_080.ra3_in1k',\n",
       " 'regnety_080_tv.tv2_in1k',\n",
       " 'regnety_120.pycls_in1k',\n",
       " 'regnety_120.sw_in12k',\n",
       " 'regnety_120.sw_in12k_ft_in1k',\n",
       " 'regnety_160.deit_in1k',\n",
       " 'regnety_160.lion_in12k_ft_in1k',\n",
       " 'regnety_160.pycls_in1k',\n",
       " 'regnety_160.sw_in12k',\n",
       " 'regnety_160.sw_in12k_ft_in1k',\n",
       " 'regnety_160.swag_ft_in1k',\n",
       " 'regnety_160.swag_lc_in1k',\n",
       " 'regnety_160.tv2_in1k',\n",
       " 'regnety_320.pycls_in1k',\n",
       " 'regnety_320.seer',\n",
       " 'regnety_320.seer_ft_in1k',\n",
       " 'regnety_320.swag_ft_in1k',\n",
       " 'regnety_320.swag_lc_in1k',\n",
       " 'regnety_320.tv2_in1k',\n",
       " 'regnety_640.seer',\n",
       " 'regnety_640.seer_ft_in1k',\n",
       " 'regnety_1280.seer',\n",
       " 'regnety_1280.seer_ft_in1k',\n",
       " 'regnety_1280.swag_ft_in1k',\n",
       " 'regnety_1280.swag_lc_in1k',\n",
       " 'regnety_2560.seer_ft_in1k',\n",
       " 'regnetz_040.ra3_in1k',\n",
       " 'regnetz_040_h.ra3_in1k',\n",
       " 'regnetz_b16.ra3_in1k',\n",
       " 'regnetz_c16.ra3_in1k',\n",
       " 'regnetz_c16_evos.ch_in1k',\n",
       " 'regnetz_d8.ra3_in1k',\n",
       " 'regnetz_d8_evos.ch_in1k',\n",
       " 'regnetz_d32.ra3_in1k',\n",
       " 'regnetz_e8.ra3_in1k',\n",
       " 'repghostnet_050.in1k',\n",
       " 'repghostnet_058.in1k',\n",
       " 'repghostnet_080.in1k',\n",
       " 'repghostnet_100.in1k',\n",
       " 'repghostnet_111.in1k',\n",
       " 'repghostnet_130.in1k',\n",
       " 'repghostnet_150.in1k',\n",
       " 'repghostnet_200.in1k',\n",
       " 'repvgg_a0.rvgg_in1k',\n",
       " 'repvgg_a1.rvgg_in1k',\n",
       " 'repvgg_a2.rvgg_in1k',\n",
       " 'repvgg_b0.rvgg_in1k',\n",
       " 'repvgg_b1.rvgg_in1k',\n",
       " 'repvgg_b1g4.rvgg_in1k',\n",
       " 'repvgg_b2.rvgg_in1k',\n",
       " 'repvgg_b2g4.rvgg_in1k',\n",
       " 'repvgg_b3.rvgg_in1k',\n",
       " 'repvgg_b3g4.rvgg_in1k',\n",
       " 'repvgg_d2se.rvgg_in1k',\n",
       " 'repvit_m0_9.dist_300e_in1k',\n",
       " 'repvit_m0_9.dist_450e_in1k',\n",
       " 'repvit_m1.dist_in1k',\n",
       " 'repvit_m1_0.dist_300e_in1k',\n",
       " 'repvit_m1_0.dist_450e_in1k',\n",
       " 'repvit_m1_1.dist_300e_in1k',\n",
       " 'repvit_m1_1.dist_450e_in1k',\n",
       " 'repvit_m1_5.dist_300e_in1k',\n",
       " 'repvit_m1_5.dist_450e_in1k',\n",
       " 'repvit_m2.dist_in1k',\n",
       " 'repvit_m2_3.dist_300e_in1k',\n",
       " 'repvit_m2_3.dist_450e_in1k',\n",
       " 'repvit_m3.dist_in1k',\n",
       " 'res2net50_14w_8s.in1k',\n",
       " 'res2net50_26w_4s.in1k',\n",
       " 'res2net50_26w_6s.in1k',\n",
       " 'res2net50_26w_8s.in1k',\n",
       " 'res2net50_48w_2s.in1k',\n",
       " 'res2net50d.in1k',\n",
       " 'res2net101_26w_4s.in1k',\n",
       " 'res2net101d.in1k',\n",
       " 'res2next50.in1k',\n",
       " 'resmlp_12_224.fb_dino',\n",
       " 'resmlp_12_224.fb_distilled_in1k',\n",
       " 'resmlp_12_224.fb_in1k',\n",
       " 'resmlp_24_224.fb_dino',\n",
       " 'resmlp_24_224.fb_distilled_in1k',\n",
       " 'resmlp_24_224.fb_in1k',\n",
       " 'resmlp_36_224.fb_distilled_in1k',\n",
       " 'resmlp_36_224.fb_in1k',\n",
       " 'resmlp_big_24_224.fb_distilled_in1k',\n",
       " 'resmlp_big_24_224.fb_in1k',\n",
       " 'resmlp_big_24_224.fb_in22k_ft_in1k',\n",
       " 'resnest14d.gluon_in1k',\n",
       " 'resnest26d.gluon_in1k',\n",
       " 'resnest50d.in1k',\n",
       " 'resnest50d_1s4x24d.in1k',\n",
       " 'resnest50d_4s2x40d.in1k',\n",
       " 'resnest101e.in1k',\n",
       " 'resnest200e.in1k',\n",
       " 'resnest269e.in1k',\n",
       " 'resnet10t.c3_in1k',\n",
       " 'resnet14t.c3_in1k',\n",
       " 'resnet18.a1_in1k',\n",
       " 'resnet18.a2_in1k',\n",
       " 'resnet18.a3_in1k',\n",
       " 'resnet18.fb_ssl_yfcc100m_ft_in1k',\n",
       " 'resnet18.fb_swsl_ig1b_ft_in1k',\n",
       " 'resnet18.gluon_in1k',\n",
       " 'resnet18.tv_in1k',\n",
       " 'resnet18d.ra2_in1k',\n",
       " 'resnet26.bt_in1k',\n",
       " 'resnet26d.bt_in1k',\n",
       " 'resnet26t.ra2_in1k',\n",
       " 'resnet32ts.ra2_in1k',\n",
       " 'resnet33ts.ra2_in1k',\n",
       " 'resnet34.a1_in1k',\n",
       " 'resnet34.a2_in1k',\n",
       " 'resnet34.a3_in1k',\n",
       " 'resnet34.bt_in1k',\n",
       " 'resnet34.gluon_in1k',\n",
       " 'resnet34.tv_in1k',\n",
       " 'resnet34d.ra2_in1k',\n",
       " 'resnet50.a1_in1k',\n",
       " 'resnet50.a1h_in1k',\n",
       " 'resnet50.a2_in1k',\n",
       " 'resnet50.a3_in1k',\n",
       " 'resnet50.am_in1k',\n",
       " 'resnet50.b1k_in1k',\n",
       " 'resnet50.b2k_in1k',\n",
       " 'resnet50.bt_in1k',\n",
       " 'resnet50.c1_in1k',\n",
       " 'resnet50.c2_in1k',\n",
       " 'resnet50.d_in1k',\n",
       " 'resnet50.fb_ssl_yfcc100m_ft_in1k',\n",
       " 'resnet50.fb_swsl_ig1b_ft_in1k',\n",
       " 'resnet50.gluon_in1k',\n",
       " 'resnet50.ra_in1k',\n",
       " 'resnet50.ram_in1k',\n",
       " 'resnet50.tv2_in1k',\n",
       " 'resnet50.tv_in1k',\n",
       " 'resnet50_gn.a1h_in1k',\n",
       " 'resnet50c.gluon_in1k',\n",
       " 'resnet50d.a1_in1k',\n",
       " 'resnet50d.a2_in1k',\n",
       " 'resnet50d.a3_in1k',\n",
       " 'resnet50d.gluon_in1k',\n",
       " 'resnet50d.ra2_in1k',\n",
       " 'resnet50s.gluon_in1k',\n",
       " 'resnet51q.ra2_in1k',\n",
       " 'resnet61q.ra2_in1k',\n",
       " 'resnet101.a1_in1k',\n",
       " 'resnet101.a1h_in1k',\n",
       " 'resnet101.a2_in1k',\n",
       " 'resnet101.a3_in1k',\n",
       " 'resnet101.gluon_in1k',\n",
       " 'resnet101.tv2_in1k',\n",
       " 'resnet101.tv_in1k',\n",
       " 'resnet101c.gluon_in1k',\n",
       " 'resnet101d.gluon_in1k',\n",
       " 'resnet101d.ra2_in1k',\n",
       " 'resnet101s.gluon_in1k',\n",
       " 'resnet152.a1_in1k',\n",
       " 'resnet152.a1h_in1k',\n",
       " 'resnet152.a2_in1k',\n",
       " 'resnet152.a3_in1k',\n",
       " 'resnet152.gluon_in1k',\n",
       " 'resnet152.tv2_in1k',\n",
       " 'resnet152.tv_in1k',\n",
       " 'resnet152c.gluon_in1k',\n",
       " 'resnet152d.gluon_in1k',\n",
       " 'resnet152d.ra2_in1k',\n",
       " 'resnet152s.gluon_in1k',\n",
       " 'resnet200d.ra2_in1k',\n",
       " 'resnetaa50.a1h_in1k',\n",
       " 'resnetaa50d.d_in12k',\n",
       " 'resnetaa50d.sw_in12k',\n",
       " 'resnetaa50d.sw_in12k_ft_in1k',\n",
       " 'resnetaa101d.sw_in12k',\n",
       " 'resnetaa101d.sw_in12k_ft_in1k',\n",
       " 'resnetblur50.bt_in1k',\n",
       " 'resnetrs50.tf_in1k',\n",
       " 'resnetrs101.tf_in1k',\n",
       " 'resnetrs152.tf_in1k',\n",
       " 'resnetrs200.tf_in1k',\n",
       " 'resnetrs270.tf_in1k',\n",
       " 'resnetrs350.tf_in1k',\n",
       " 'resnetrs420.tf_in1k',\n",
       " 'resnetv2_50.a1h_in1k',\n",
       " 'resnetv2_50d_evos.ah_in1k',\n",
       " 'resnetv2_50d_gn.ah_in1k',\n",
       " 'resnetv2_50x1_bit.goog_distilled_in1k',\n",
       " 'resnetv2_50x1_bit.goog_in21k',\n",
       " 'resnetv2_50x1_bit.goog_in21k_ft_in1k',\n",
       " 'resnetv2_50x3_bit.goog_in21k',\n",
       " 'resnetv2_50x3_bit.goog_in21k_ft_in1k',\n",
       " 'resnetv2_101.a1h_in1k',\n",
       " 'resnetv2_101x1_bit.goog_in21k',\n",
       " 'resnetv2_101x1_bit.goog_in21k_ft_in1k',\n",
       " 'resnetv2_101x3_bit.goog_in21k',\n",
       " 'resnetv2_101x3_bit.goog_in21k_ft_in1k',\n",
       " 'resnetv2_152x2_bit.goog_in21k',\n",
       " 'resnetv2_152x2_bit.goog_in21k_ft_in1k',\n",
       " 'resnetv2_152x2_bit.goog_teacher_in21k_ft_in1k',\n",
       " 'resnetv2_152x2_bit.goog_teacher_in21k_ft_in1k_384',\n",
       " 'resnetv2_152x4_bit.goog_in21k',\n",
       " 'resnetv2_152x4_bit.goog_in21k_ft_in1k',\n",
       " 'resnext26ts.ra2_in1k',\n",
       " 'resnext50_32x4d.a1_in1k',\n",
       " 'resnext50_32x4d.a1h_in1k',\n",
       " 'resnext50_32x4d.a2_in1k',\n",
       " 'resnext50_32x4d.a3_in1k',\n",
       " 'resnext50_32x4d.fb_ssl_yfcc100m_ft_in1k',\n",
       " 'resnext50_32x4d.fb_swsl_ig1b_ft_in1k',\n",
       " 'resnext50_32x4d.gluon_in1k',\n",
       " 'resnext50_32x4d.ra_in1k',\n",
       " 'resnext50_32x4d.tv2_in1k',\n",
       " 'resnext50_32x4d.tv_in1k',\n",
       " 'resnext50d_32x4d.bt_in1k',\n",
       " 'resnext101_32x4d.fb_ssl_yfcc100m_ft_in1k',\n",
       " 'resnext101_32x4d.fb_swsl_ig1b_ft_in1k',\n",
       " 'resnext101_32x4d.gluon_in1k',\n",
       " 'resnext101_32x8d.fb_ssl_yfcc100m_ft_in1k',\n",
       " 'resnext101_32x8d.fb_swsl_ig1b_ft_in1k',\n",
       " 'resnext101_32x8d.fb_wsl_ig1b_ft_in1k',\n",
       " 'resnext101_32x8d.tv2_in1k',\n",
       " 'resnext101_32x8d.tv_in1k',\n",
       " 'resnext101_32x16d.fb_ssl_yfcc100m_ft_in1k',\n",
       " 'resnext101_32x16d.fb_swsl_ig1b_ft_in1k',\n",
       " 'resnext101_32x16d.fb_wsl_ig1b_ft_in1k',\n",
       " 'resnext101_32x32d.fb_wsl_ig1b_ft_in1k',\n",
       " 'resnext101_64x4d.c1_in1k',\n",
       " 'resnext101_64x4d.gluon_in1k',\n",
       " 'resnext101_64x4d.tv_in1k',\n",
       " 'rexnet_100.nav_in1k',\n",
       " 'rexnet_130.nav_in1k',\n",
       " 'rexnet_150.nav_in1k',\n",
       " 'rexnet_200.nav_in1k',\n",
       " 'rexnet_300.nav_in1k',\n",
       " 'rexnetr_200.sw_in12k',\n",
       " 'rexnetr_200.sw_in12k_ft_in1k',\n",
       " 'rexnetr_300.sw_in12k',\n",
       " 'rexnetr_300.sw_in12k_ft_in1k',\n",
       " 'samvit_base_patch16.sa1b',\n",
       " 'samvit_huge_patch16.sa1b',\n",
       " 'samvit_large_patch16.sa1b',\n",
       " 'sebotnet33ts_256.a1h_in1k',\n",
       " 'sehalonet33ts.ra2_in1k',\n",
       " 'selecsls42b.in1k',\n",
       " 'selecsls60.in1k',\n",
       " 'selecsls60b.in1k',\n",
       " 'semnasnet_075.rmsp_in1k',\n",
       " 'semnasnet_100.rmsp_in1k',\n",
       " 'senet154.gluon_in1k',\n",
       " 'sequencer2d_l.in1k',\n",
       " 'sequencer2d_m.in1k',\n",
       " 'sequencer2d_s.in1k',\n",
       " 'seresnet33ts.ra2_in1k',\n",
       " 'seresnet50.a1_in1k',\n",
       " 'seresnet50.a2_in1k',\n",
       " 'seresnet50.a3_in1k',\n",
       " 'seresnet50.ra2_in1k',\n",
       " 'seresnet152d.ra2_in1k',\n",
       " 'seresnext26d_32x4d.bt_in1k',\n",
       " 'seresnext26t_32x4d.bt_in1k',\n",
       " 'seresnext26ts.ch_in1k',\n",
       " 'seresnext50_32x4d.gluon_in1k',\n",
       " 'seresnext50_32x4d.racm_in1k',\n",
       " 'seresnext101_32x4d.gluon_in1k',\n",
       " 'seresnext101_32x8d.ah_in1k',\n",
       " 'seresnext101_64x4d.gluon_in1k',\n",
       " 'seresnext101d_32x8d.ah_in1k',\n",
       " 'seresnextaa101d_32x8d.ah_in1k',\n",
       " 'seresnextaa101d_32x8d.sw_in12k',\n",
       " 'seresnextaa101d_32x8d.sw_in12k_ft_in1k',\n",
       " 'seresnextaa101d_32x8d.sw_in12k_ft_in1k_288',\n",
       " 'seresnextaa201d_32x8d.sw_in12k',\n",
       " 'seresnextaa201d_32x8d.sw_in12k_ft_in1k_384',\n",
       " 'skresnet18.ra_in1k',\n",
       " 'skresnet34.ra_in1k',\n",
       " 'skresnext50_32x4d.ra_in1k',\n",
       " 'spnasnet_100.rmsp_in1k',\n",
       " 'swin_base_patch4_window7_224.ms_in1k',\n",
       " 'swin_base_patch4_window7_224.ms_in22k',\n",
       " 'swin_base_patch4_window7_224.ms_in22k_ft_in1k',\n",
       " 'swin_base_patch4_window12_384.ms_in1k',\n",
       " 'swin_base_patch4_window12_384.ms_in22k',\n",
       " 'swin_base_patch4_window12_384.ms_in22k_ft_in1k',\n",
       " 'swin_large_patch4_window7_224.ms_in22k',\n",
       " 'swin_large_patch4_window7_224.ms_in22k_ft_in1k',\n",
       " 'swin_large_patch4_window12_384.ms_in22k',\n",
       " 'swin_large_patch4_window12_384.ms_in22k_ft_in1k',\n",
       " 'swin_s3_base_224.ms_in1k',\n",
       " 'swin_s3_small_224.ms_in1k',\n",
       " 'swin_s3_tiny_224.ms_in1k',\n",
       " 'swin_small_patch4_window7_224.ms_in1k',\n",
       " 'swin_small_patch4_window7_224.ms_in22k',\n",
       " 'swin_small_patch4_window7_224.ms_in22k_ft_in1k',\n",
       " 'swin_tiny_patch4_window7_224.ms_in1k',\n",
       " 'swin_tiny_patch4_window7_224.ms_in22k',\n",
       " 'swin_tiny_patch4_window7_224.ms_in22k_ft_in1k',\n",
       " 'swinv2_base_window8_256.ms_in1k',\n",
       " 'swinv2_base_window12_192.ms_in22k',\n",
       " 'swinv2_base_window12to16_192to256.ms_in22k_ft_in1k',\n",
       " 'swinv2_base_window12to24_192to384.ms_in22k_ft_in1k',\n",
       " 'swinv2_base_window16_256.ms_in1k',\n",
       " 'swinv2_cr_small_224.sw_in1k',\n",
       " 'swinv2_cr_small_ns_224.sw_in1k',\n",
       " 'swinv2_cr_tiny_ns_224.sw_in1k',\n",
       " 'swinv2_large_window12_192.ms_in22k',\n",
       " 'swinv2_large_window12to16_192to256.ms_in22k_ft_in1k',\n",
       " 'swinv2_large_window12to24_192to384.ms_in22k_ft_in1k',\n",
       " 'swinv2_small_window8_256.ms_in1k',\n",
       " 'swinv2_small_window16_256.ms_in1k',\n",
       " 'swinv2_tiny_window8_256.ms_in1k',\n",
       " 'swinv2_tiny_window16_256.ms_in1k',\n",
       " 'tf_efficientnet_b0.aa_in1k',\n",
       " 'tf_efficientnet_b0.ap_in1k',\n",
       " 'tf_efficientnet_b0.in1k',\n",
       " 'tf_efficientnet_b0.ns_jft_in1k',\n",
       " ...]"
      ]
     },
     "execution_count": 3,
     "metadata": {},
     "output_type": "execute_result"
    }
   ],
   "source": [
    "timm.list_models(pretrained=True)"
   ]
  },
  {
   "cell_type": "code",
   "execution_count": 19,
   "id": "c9ff4932-3f28-49a8-a390-29bf263a365f",
   "metadata": {},
   "outputs": [],
   "source": [
    "#!wget 'https://s3.amazonaws.com/fast-ai-imageclas/imagenette2-320.tgz'\n",
    "#!tar xvzf imagenette2-320.tgz\n",
    "# train 갯수를 짝수로 맞춤\n",
    "!rm imagenette2-320/train/n03888257/n03888257_9997.JPEG"
   ]
  },
  {
   "cell_type": "code",
   "execution_count": 21,
   "id": "fcf90cbc-5401-4a51-b7e6-fd73b2559f4b",
   "metadata": {},
   "outputs": [
    {
     "name": "stderr",
     "output_type": "stream",
     "text": [
      "100%|██████████████████████████████████████████████████████████████████████████▋| 295/296 [08:47<00:01,  1.79s/it]\n"
     ]
    },
    {
     "name": "stdout",
     "output_type": "stream",
     "text": [
      "\n",
      "Starting training run\n",
      "\n",
      "Starting epoch 1\n"
     ]
    },
    {
     "name": "stderr",
     "output_type": "stream",
     "text": [
      "100%|███████████████████████████████████████████████████████████████████████████| 296/296 [00:24<00:00, 11.85it/s]\n"
     ]
    },
    {
     "name": "stdout",
     "output_type": "stream",
     "text": [
      "\n",
      "train_loss_epoch: 0.39548781514167786\n"
     ]
    },
    {
     "name": "stderr",
     "output_type": "stream",
     "text": [
      "100%|███████████████████████████████████████████████████████████████████████████| 123/123 [00:06<00:00, 18.74it/s]\n"
     ]
    },
    {
     "name": "stdout",
     "output_type": "stream",
     "text": [
      "\n",
      "accuracy: 0.46292993426322937\n",
      "\n",
      "eval_loss_epoch: 1.6810799837112427\n",
      "\n",
      "ema_model_accuracy: 0.09834394603967667\n",
      "\n",
      "Starting epoch 2\n"
     ]
    },
    {
     "name": "stderr",
     "output_type": "stream",
     "text": [
      "100%|███████████████████████████████████████████████████████████████████████████| 296/296 [00:24<00:00, 11.94it/s]\n"
     ]
    },
    {
     "name": "stdout",
     "output_type": "stream",
     "text": [
      "\n",
      "train_loss_epoch: 0.3940792381763458\n"
     ]
    },
    {
     "name": "stderr",
     "output_type": "stream",
     "text": [
      "100%|███████████████████████████████████████████████████████████████████████████| 123/123 [00:06<00:00, 19.07it/s]\n"
     ]
    },
    {
     "name": "stdout",
     "output_type": "stream",
     "text": [
      "\n",
      "accuracy: 0.38751593232154846\n",
      "\n",
      "eval_loss_epoch: 1.7718867063522339\n",
      "\n",
      "ema_model_accuracy: 0.10522293299436569\n",
      "\n",
      "Starting epoch 3\n"
     ]
    },
    {
     "name": "stderr",
     "output_type": "stream",
     "text": [
      "100%|███████████████████████████████████████████████████████████████████████████| 296/296 [00:24<00:00, 11.93it/s]\n"
     ]
    },
    {
     "name": "stdout",
     "output_type": "stream",
     "text": [
      "\n",
      "train_loss_epoch: 0.3719797432422638\n"
     ]
    },
    {
     "name": "stderr",
     "output_type": "stream",
     "text": [
      "100%|███████████████████████████████████████████████████████████████████████████| 123/123 [00:06<00:00, 19.19it/s]\n"
     ]
    },
    {
     "name": "stdout",
     "output_type": "stream",
     "text": [
      "\n",
      "accuracy: 0.5085350275039673\n",
      "\n",
      "eval_loss_epoch: 1.5199953317642212\n",
      "\n",
      "ema_model_accuracy: 0.10063694417476654\n",
      "\n",
      "Starting epoch 4\n"
     ]
    },
    {
     "name": "stderr",
     "output_type": "stream",
     "text": [
      "100%|███████████████████████████████████████████████████████████████████████████| 296/296 [00:24<00:00, 11.94it/s]\n"
     ]
    },
    {
     "name": "stdout",
     "output_type": "stream",
     "text": [
      "\n",
      "train_loss_epoch: 0.3540121912956238\n"
     ]
    },
    {
     "name": "stderr",
     "output_type": "stream",
     "text": [
      "100%|███████████████████████████████████████████████████████████████████████████| 123/123 [00:06<00:00, 19.13it/s]\n"
     ]
    },
    {
     "name": "stdout",
     "output_type": "stream",
     "text": [
      "\n",
      "accuracy: 0.5378344058990479\n",
      "\n",
      "eval_loss_epoch: 1.4788990020751953\n",
      "\n",
      "ema_model_accuracy: 0.10598725825548172\n",
      "\n",
      "Starting epoch 5\n"
     ]
    },
    {
     "name": "stderr",
     "output_type": "stream",
     "text": [
      "100%|███████████████████████████████████████████████████████████████████████████| 296/296 [00:24<00:00, 11.94it/s]\n"
     ]
    },
    {
     "name": "stdout",
     "output_type": "stream",
     "text": [
      "\n",
      "train_loss_epoch: 0.3455859124660492\n"
     ]
    },
    {
     "name": "stderr",
     "output_type": "stream",
     "text": [
      "100%|███████████████████████████████████████████████████████████████████████████| 123/123 [00:06<00:00, 19.09it/s]\n"
     ]
    },
    {
     "name": "stdout",
     "output_type": "stream",
     "text": [
      "\n",
      "accuracy: 0.40203821659088135\n",
      "\n",
      "eval_loss_epoch: 2.5843546390533447\n",
      "\n",
      "ema_model_accuracy: 0.15286624431610107\n",
      "\n",
      "Starting epoch 6\n"
     ]
    },
    {
     "name": "stderr",
     "output_type": "stream",
     "text": [
      "100%|███████████████████████████████████████████████████████████████████████████| 296/296 [00:24<00:00, 11.94it/s]\n"
     ]
    },
    {
     "name": "stdout",
     "output_type": "stream",
     "text": [
      "\n",
      "train_loss_epoch: 0.3354220688343048\n"
     ]
    },
    {
     "name": "stderr",
     "output_type": "stream",
     "text": [
      "100%|███████████████████████████████████████████████████████████████████████████| 123/123 [00:06<00:00, 19.15it/s]\n"
     ]
    },
    {
     "name": "stdout",
     "output_type": "stream",
     "text": [
      "\n",
      "accuracy: 0.6229299306869507\n",
      "\n",
      "eval_loss_epoch: 1.1654940843582153\n",
      "\n",
      "ema_model_accuracy: 0.15159235894680023\n",
      "\n",
      "Starting epoch 7\n"
     ]
    },
    {
     "name": "stderr",
     "output_type": "stream",
     "text": [
      "100%|███████████████████████████████████████████████████████████████████████████| 296/296 [00:24<00:00, 11.95it/s]\n"
     ]
    },
    {
     "name": "stdout",
     "output_type": "stream",
     "text": [
      "\n",
      "train_loss_epoch: 0.3313611149787903\n"
     ]
    },
    {
     "name": "stderr",
     "output_type": "stream",
     "text": [
      "100%|███████████████████████████████████████████████████████████████████████████| 123/123 [00:06<00:00, 19.05it/s]\n"
     ]
    },
    {
     "name": "stdout",
     "output_type": "stream",
     "text": [
      "\n",
      "accuracy: 0.674904465675354\n",
      "\n",
      "eval_loss_epoch: 1.043614387512207\n",
      "\n",
      "ema_model_accuracy: 0.22496815025806427\n",
      "\n",
      "Starting epoch 8\n"
     ]
    },
    {
     "name": "stderr",
     "output_type": "stream",
     "text": [
      "100%|███████████████████████████████████████████████████████████████████████████| 296/296 [00:24<00:00, 11.94it/s]\n"
     ]
    },
    {
     "name": "stdout",
     "output_type": "stream",
     "text": [
      "\n",
      "train_loss_epoch: 0.3200397193431854\n"
     ]
    },
    {
     "name": "stderr",
     "output_type": "stream",
     "text": [
      "100%|███████████████████████████████████████████████████████████████████████████| 123/123 [00:06<00:00, 18.97it/s]\n"
     ]
    },
    {
     "name": "stdout",
     "output_type": "stream",
     "text": [
      "\n",
      "accuracy: 0.6420382261276245\n",
      "\n",
      "eval_loss_epoch: 1.105533242225647\n",
      "\n",
      "ema_model_accuracy: 0.2685350179672241\n",
      "\n",
      "Starting epoch 9\n"
     ]
    },
    {
     "name": "stderr",
     "output_type": "stream",
     "text": [
      "100%|███████████████████████████████████████████████████████████████████████████| 296/296 [00:24<00:00, 11.92it/s]\n"
     ]
    },
    {
     "name": "stdout",
     "output_type": "stream",
     "text": [
      "\n",
      "train_loss_epoch: 0.3250081539154053\n"
     ]
    },
    {
     "name": "stderr",
     "output_type": "stream",
     "text": [
      "100%|███████████████████████████████████████████████████████████████████████████| 123/123 [00:06<00:00, 19.13it/s]\n"
     ]
    },
    {
     "name": "stdout",
     "output_type": "stream",
     "text": [
      "\n",
      "accuracy: 0.6631847023963928\n",
      "\n",
      "eval_loss_epoch: 1.0259928703308105\n",
      "\n",
      "ema_model_accuracy: 0.2917197346687317\n",
      "\n",
      "Starting epoch 10\n"
     ]
    },
    {
     "name": "stderr",
     "output_type": "stream",
     "text": [
      "100%|███████████████████████████████████████████████████████████████████████████| 296/296 [00:24<00:00, 11.93it/s]\n"
     ]
    },
    {
     "name": "stdout",
     "output_type": "stream",
     "text": [
      "\n",
      "train_loss_epoch: 0.3119368255138397\n"
     ]
    },
    {
     "name": "stderr",
     "output_type": "stream",
     "text": [
      "100%|███████████████████████████████████████████████████████████████████████████| 123/123 [00:06<00:00, 19.07it/s]\n"
     ]
    },
    {
     "name": "stdout",
     "output_type": "stream",
     "text": [
      "\n",
      "accuracy: 0.6715923547744751\n",
      "\n",
      "eval_loss_epoch: 1.049636960029602\n",
      "\n",
      "ema_model_accuracy: 0.2807643413543701\n",
      "\n",
      "Starting epoch 11\n"
     ]
    },
    {
     "name": "stderr",
     "output_type": "stream",
     "text": [
      "100%|███████████████████████████████████████████████████████████████████████████| 296/296 [00:24<00:00, 11.92it/s]\n"
     ]
    },
    {
     "name": "stdout",
     "output_type": "stream",
     "text": [
      "\n",
      "train_loss_epoch: 0.30846717953681946\n"
     ]
    },
    {
     "name": "stderr",
     "output_type": "stream",
     "text": [
      "100%|███████████████████████████████████████████████████████████████████████████| 123/123 [00:06<00:00, 18.97it/s]\n"
     ]
    },
    {
     "name": "stdout",
     "output_type": "stream",
     "text": [
      "\n",
      "accuracy: 0.7098089456558228\n",
      "\n",
      "eval_loss_epoch: 0.8872039914131165\n",
      "\n",
      "ema_model_accuracy: 0.301656037569046\n",
      "\n",
      "Starting epoch 12\n"
     ]
    },
    {
     "name": "stderr",
     "output_type": "stream",
     "text": [
      "100%|███████████████████████████████████████████████████████████████████████████| 296/296 [00:24<00:00, 11.92it/s]\n"
     ]
    },
    {
     "name": "stdout",
     "output_type": "stream",
     "text": [
      "\n",
      "train_loss_epoch: 0.29983848333358765\n"
     ]
    },
    {
     "name": "stderr",
     "output_type": "stream",
     "text": [
      "100%|███████████████████████████████████████████████████████████████████████████| 123/123 [00:06<00:00, 19.12it/s]\n"
     ]
    },
    {
     "name": "stdout",
     "output_type": "stream",
     "text": [
      "\n",
      "accuracy: 0.6947770714759827\n",
      "\n",
      "eval_loss_epoch: 0.9555351734161377\n",
      "\n",
      "ema_model_accuracy: 0.342420369386673\n",
      "\n",
      "Starting epoch 13\n"
     ]
    },
    {
     "name": "stderr",
     "output_type": "stream",
     "text": [
      "100%|███████████████████████████████████████████████████████████████████████████| 296/296 [00:24<00:00, 11.93it/s]\n"
     ]
    },
    {
     "name": "stdout",
     "output_type": "stream",
     "text": [
      "\n",
      "train_loss_epoch: 0.30141016840934753\n"
     ]
    },
    {
     "name": "stderr",
     "output_type": "stream",
     "text": [
      "100%|███████████████████████████████████████████████████████████████████████████| 123/123 [00:06<00:00, 19.05it/s]\n"
     ]
    },
    {
     "name": "stdout",
     "output_type": "stream",
     "text": [
      "\n",
      "accuracy: 0.7396178245544434\n",
      "\n",
      "eval_loss_epoch: 0.823412299156189\n",
      "\n",
      "ema_model_accuracy: 0.39923566579818726\n",
      "\n",
      "Starting epoch 14\n"
     ]
    },
    {
     "name": "stderr",
     "output_type": "stream",
     "text": [
      "100%|███████████████████████████████████████████████████████████████████████████| 296/296 [00:24<00:00, 11.92it/s]\n"
     ]
    },
    {
     "name": "stdout",
     "output_type": "stream",
     "text": [
      "\n",
      "train_loss_epoch: 0.29322513937950134\n"
     ]
    },
    {
     "name": "stderr",
     "output_type": "stream",
     "text": [
      "100%|███████████████████████████████████████████████████████████████████████████| 123/123 [00:06<00:00, 19.11it/s]\n"
     ]
    },
    {
     "name": "stdout",
     "output_type": "stream",
     "text": [
      "\n",
      "accuracy: 0.684840738773346\n",
      "\n",
      "eval_loss_epoch: 0.976523756980896\n",
      "\n",
      "ema_model_accuracy: 0.47439491748809814\n",
      "\n",
      "Starting epoch 15\n"
     ]
    },
    {
     "name": "stderr",
     "output_type": "stream",
     "text": [
      "100%|███████████████████████████████████████████████████████████████████████████| 296/296 [00:24<00:00, 11.92it/s]\n"
     ]
    },
    {
     "name": "stdout",
     "output_type": "stream",
     "text": [
      "\n",
      "train_loss_epoch: 0.2835255563259125\n"
     ]
    },
    {
     "name": "stderr",
     "output_type": "stream",
     "text": [
      "100%|███████████████████████████████████████████████████████████████████████████| 123/123 [00:06<00:00, 19.11it/s]\n"
     ]
    },
    {
     "name": "stdout",
     "output_type": "stream",
     "text": [
      "\n",
      "accuracy: 0.7589808702468872\n",
      "\n",
      "eval_loss_epoch: 0.7508158683776855\n",
      "\n",
      "ema_model_accuracy: 0.53121018409729\n",
      "\n",
      "Starting epoch 16\n"
     ]
    },
    {
     "name": "stderr",
     "output_type": "stream",
     "text": [
      "100%|███████████████████████████████████████████████████████████████████████████| 296/296 [00:24<00:00, 11.94it/s]\n"
     ]
    },
    {
     "name": "stdout",
     "output_type": "stream",
     "text": [
      "\n",
      "train_loss_epoch: 0.28609979152679443\n"
     ]
    },
    {
     "name": "stderr",
     "output_type": "stream",
     "text": [
      "100%|███████████████████████████████████████████████████████████████████████████| 123/123 [00:06<00:00, 19.08it/s]\n"
     ]
    },
    {
     "name": "stdout",
     "output_type": "stream",
     "text": [
      "\n",
      "accuracy: 0.7503184676170349\n",
      "\n",
      "eval_loss_epoch: 0.808853805065155\n",
      "\n",
      "ema_model_accuracy: 0.584458589553833\n",
      "\n",
      "Starting epoch 17\n"
     ]
    },
    {
     "name": "stderr",
     "output_type": "stream",
     "text": [
      "100%|███████████████████████████████████████████████████████████████████████████| 296/296 [00:24<00:00, 11.94it/s]\n"
     ]
    },
    {
     "name": "stdout",
     "output_type": "stream",
     "text": [
      "\n",
      "train_loss_epoch: 0.2781609296798706\n"
     ]
    },
    {
     "name": "stderr",
     "output_type": "stream",
     "text": [
      "100%|███████████████████████████████████████████████████████████████████████████| 123/123 [00:06<00:00, 19.04it/s]\n"
     ]
    },
    {
     "name": "stdout",
     "output_type": "stream",
     "text": [
      "\n",
      "accuracy: 0.7564331293106079\n",
      "\n",
      "eval_loss_epoch: 0.7667374610900879\n",
      "\n",
      "ema_model_accuracy: 0.6343948841094971\n",
      "\n",
      "Starting epoch 18\n"
     ]
    },
    {
     "name": "stderr",
     "output_type": "stream",
     "text": [
      "100%|███████████████████████████████████████████████████████████████████████████| 296/296 [00:24<00:00, 11.92it/s]\n"
     ]
    },
    {
     "name": "stdout",
     "output_type": "stream",
     "text": [
      "\n",
      "train_loss_epoch: 0.27662163972854614\n"
     ]
    },
    {
     "name": "stderr",
     "output_type": "stream",
     "text": [
      "100%|███████████████████████████████████████████████████████████████████████████| 123/123 [00:06<00:00, 19.01it/s]\n"
     ]
    },
    {
     "name": "stdout",
     "output_type": "stream",
     "text": [
      "\n",
      "accuracy: 0.8096815347671509\n",
      "\n",
      "eval_loss_epoch: 0.6058191061019897\n",
      "\n",
      "ema_model_accuracy: 0.6723566651344299\n",
      "\n",
      "Starting epoch 19\n"
     ]
    },
    {
     "name": "stderr",
     "output_type": "stream",
     "text": [
      "100%|███████████████████████████████████████████████████████████████████████████| 296/296 [00:24<00:00, 11.92it/s]\n"
     ]
    },
    {
     "name": "stdout",
     "output_type": "stream",
     "text": [
      "\n",
      "train_loss_epoch: 0.2815611958503723\n"
     ]
    },
    {
     "name": "stderr",
     "output_type": "stream",
     "text": [
      "100%|███████████████████████████████████████████████████████████████████████████| 123/123 [00:06<00:00, 19.09it/s]\n"
     ]
    },
    {
     "name": "stdout",
     "output_type": "stream",
     "text": [
      "\n",
      "accuracy: 0.7839490175247192\n",
      "\n",
      "eval_loss_epoch: 0.6804972887039185\n",
      "\n",
      "ema_model_accuracy: 0.699617862701416\n",
      "\n",
      "Starting epoch 20\n"
     ]
    },
    {
     "name": "stderr",
     "output_type": "stream",
     "text": [
      "100%|███████████████████████████████████████████████████████████████████████████| 296/296 [00:24<00:00, 11.92it/s]\n"
     ]
    },
    {
     "name": "stdout",
     "output_type": "stream",
     "text": [
      "\n",
      "train_loss_epoch: 0.26997828483581543\n"
     ]
    },
    {
     "name": "stderr",
     "output_type": "stream",
     "text": [
      "100%|███████████████████████████████████████████████████████████████████████████| 123/123 [00:06<00:00, 19.07it/s]\n"
     ]
    },
    {
     "name": "stdout",
     "output_type": "stream",
     "text": [
      "\n",
      "accuracy: 0.7839490175247192\n",
      "\n",
      "eval_loss_epoch: 0.7105535864830017\n",
      "\n",
      "ema_model_accuracy: 0.7238216400146484\n",
      "\n",
      "Starting epoch 21\n"
     ]
    },
    {
     "name": "stderr",
     "output_type": "stream",
     "text": [
      "100%|███████████████████████████████████████████████████████████████████████████| 296/296 [00:24<00:00, 11.92it/s]\n"
     ]
    },
    {
     "name": "stdout",
     "output_type": "stream",
     "text": [
      "\n",
      "train_loss_epoch: 0.2555110454559326\n"
     ]
    },
    {
     "name": "stderr",
     "output_type": "stream",
     "text": [
      "100%|███████████████████████████████████████████████████████████████████████████| 123/123 [00:06<00:00, 18.95it/s]\n"
     ]
    },
    {
     "name": "stdout",
     "output_type": "stream",
     "text": [
      "\n",
      "accuracy: 0.8112102150917053\n",
      "\n",
      "eval_loss_epoch: 0.5934414863586426\n",
      "\n",
      "ema_model_accuracy: 0.7396178245544434\n",
      "\n",
      "Starting epoch 22\n"
     ]
    },
    {
     "name": "stderr",
     "output_type": "stream",
     "text": [
      "100%|███████████████████████████████████████████████████████████████████████████| 296/296 [00:24<00:00, 11.89it/s]\n"
     ]
    },
    {
     "name": "stdout",
     "output_type": "stream",
     "text": [
      "\n",
      "train_loss_epoch: 0.26697108149528503\n"
     ]
    },
    {
     "name": "stderr",
     "output_type": "stream",
     "text": [
      "100%|███████████████████████████████████████████████████████████████████████████| 123/123 [00:06<00:00, 18.92it/s]\n"
     ]
    },
    {
     "name": "stdout",
     "output_type": "stream",
     "text": [
      "\n",
      "accuracy: 0.8142675161361694\n",
      "\n",
      "eval_loss_epoch: 0.5907924175262451\n",
      "\n",
      "ema_model_accuracy: 0.7508280277252197\n",
      "\n",
      "Starting epoch 23\n"
     ]
    },
    {
     "name": "stderr",
     "output_type": "stream",
     "text": [
      "100%|███████████████████████████████████████████████████████████████████████████| 296/296 [00:24<00:00, 11.91it/s]\n"
     ]
    },
    {
     "name": "stdout",
     "output_type": "stream",
     "text": [
      "\n",
      "train_loss_epoch: 0.26235777139663696\n"
     ]
    },
    {
     "name": "stderr",
     "output_type": "stream",
     "text": [
      "100%|███████████████████████████████████████████████████████████████████████████| 123/123 [00:06<00:00, 19.08it/s]\n"
     ]
    },
    {
     "name": "stdout",
     "output_type": "stream",
     "text": [
      "\n",
      "accuracy: 0.7783439755439758\n",
      "\n",
      "eval_loss_epoch: 0.6978936195373535\n",
      "\n",
      "ema_model_accuracy: 0.7633121013641357\n",
      "\n",
      "Starting epoch 24\n"
     ]
    },
    {
     "name": "stderr",
     "output_type": "stream",
     "text": [
      "100%|███████████████████████████████████████████████████████████████████████████| 296/296 [00:24<00:00, 11.92it/s]\n"
     ]
    },
    {
     "name": "stdout",
     "output_type": "stream",
     "text": [
      "\n",
      "train_loss_epoch: 0.253771036863327\n"
     ]
    },
    {
     "name": "stderr",
     "output_type": "stream",
     "text": [
      "100%|███████████████████████████████████████████████████████████████████████████| 123/123 [00:06<00:00, 19.08it/s]\n"
     ]
    },
    {
     "name": "stdout",
     "output_type": "stream",
     "text": [
      "\n",
      "accuracy: 0.8379617929458618\n",
      "\n",
      "eval_loss_epoch: 0.5230501294136047\n",
      "\n",
      "ema_model_accuracy: 0.7712101936340332\n",
      "\n",
      "Starting epoch 25\n"
     ]
    },
    {
     "name": "stderr",
     "output_type": "stream",
     "text": [
      "100%|███████████████████████████████████████████████████████████████████████████| 296/296 [00:24<00:00, 11.90it/s]\n"
     ]
    },
    {
     "name": "stdout",
     "output_type": "stream",
     "text": [
      "\n",
      "train_loss_epoch: 0.24456116557121277\n"
     ]
    },
    {
     "name": "stderr",
     "output_type": "stream",
     "text": [
      "100%|███████████████████████████████████████████████████████████████████████████| 123/123 [00:06<00:00, 18.97it/s]\n"
     ]
    },
    {
     "name": "stdout",
     "output_type": "stream",
     "text": [
      "\n",
      "accuracy: 0.8399999737739563\n",
      "\n",
      "eval_loss_epoch: 0.5265788435935974\n",
      "\n",
      "ema_model_accuracy: 0.7765604853630066\n",
      "\n",
      "Starting epoch 26\n"
     ]
    },
    {
     "name": "stderr",
     "output_type": "stream",
     "text": [
      "100%|███████████████████████████████████████████████████████████████████████████| 296/296 [00:24<00:00, 11.91it/s]\n"
     ]
    },
    {
     "name": "stdout",
     "output_type": "stream",
     "text": [
      "\n",
      "train_loss_epoch: 0.24637556076049805\n"
     ]
    },
    {
     "name": "stderr",
     "output_type": "stream",
     "text": [
      "100%|███████████████████████████████████████████████████████████████████████████| 123/123 [00:06<00:00, 18.94it/s]\n"
     ]
    },
    {
     "name": "stdout",
     "output_type": "stream",
     "text": [
      "\n",
      "accuracy: 0.8216560482978821\n",
      "\n",
      "eval_loss_epoch: 0.587203323841095\n",
      "\n",
      "ema_model_accuracy: 0.7821655869483948\n",
      "\n",
      "Starting epoch 27\n"
     ]
    },
    {
     "name": "stderr",
     "output_type": "stream",
     "text": [
      "100%|███████████████████████████████████████████████████████████████████████████| 296/296 [00:24<00:00, 11.92it/s]\n"
     ]
    },
    {
     "name": "stdout",
     "output_type": "stream",
     "text": [
      "\n",
      "train_loss_epoch: 0.24217934906482697\n"
     ]
    },
    {
     "name": "stderr",
     "output_type": "stream",
     "text": [
      "100%|███████████████████████████████████████████████████████████████████████████| 123/123 [00:06<00:00, 19.03it/s]\n"
     ]
    },
    {
     "name": "stdout",
     "output_type": "stream",
     "text": [
      "\n",
      "accuracy: 0.8537579774856567\n",
      "\n",
      "eval_loss_epoch: 0.47789162397384644\n",
      "\n",
      "ema_model_accuracy: 0.7943949103355408\n",
      "\n",
      "Starting epoch 28\n"
     ]
    },
    {
     "name": "stderr",
     "output_type": "stream",
     "text": [
      "100%|███████████████████████████████████████████████████████████████████████████| 296/296 [00:24<00:00, 11.89it/s]\n"
     ]
    },
    {
     "name": "stdout",
     "output_type": "stream",
     "text": [
      "\n",
      "train_loss_epoch: 0.24026773869991302\n"
     ]
    },
    {
     "name": "stderr",
     "output_type": "stream",
     "text": [
      "100%|███████████████████████████████████████████████████████████████████████████| 123/123 [00:06<00:00, 19.03it/s]\n"
     ]
    },
    {
     "name": "stdout",
     "output_type": "stream",
     "text": [
      "\n",
      "accuracy: 0.8557961583137512\n",
      "\n",
      "eval_loss_epoch: 0.4542619585990906\n",
      "\n",
      "ema_model_accuracy: 0.8030573129653931\n",
      "\n",
      "Starting epoch 29\n"
     ]
    },
    {
     "name": "stderr",
     "output_type": "stream",
     "text": [
      "100%|███████████████████████████████████████████████████████████████████████████| 296/296 [00:24<00:00, 11.87it/s]\n"
     ]
    },
    {
     "name": "stdout",
     "output_type": "stream",
     "text": [
      "\n",
      "train_loss_epoch: 0.22928811609745026\n"
     ]
    },
    {
     "name": "stderr",
     "output_type": "stream",
     "text": [
      "100%|███████████████████████████████████████████████████████████████████████████| 123/123 [00:06<00:00, 19.03it/s]\n"
     ]
    },
    {
     "name": "stdout",
     "output_type": "stream",
     "text": [
      "\n",
      "accuracy: 0.8644586205482483\n",
      "\n",
      "eval_loss_epoch: 0.4511854946613312\n",
      "\n",
      "ema_model_accuracy: 0.8107006549835205\n",
      "\n",
      "Starting epoch 30\n"
     ]
    },
    {
     "name": "stderr",
     "output_type": "stream",
     "text": [
      "100%|███████████████████████████████████████████████████████████████████████████| 296/296 [00:24<00:00, 11.90it/s]\n"
     ]
    },
    {
     "name": "stdout",
     "output_type": "stream",
     "text": [
      "\n",
      "train_loss_epoch: 0.23595258593559265\n"
     ]
    },
    {
     "name": "stderr",
     "output_type": "stream",
     "text": [
      "100%|███████████████████████████████████████████████████████████████████████████| 123/123 [00:06<00:00, 19.05it/s]\n"
     ]
    },
    {
     "name": "stdout",
     "output_type": "stream",
     "text": [
      "\n",
      "accuracy: 0.8591082692146301\n",
      "\n",
      "eval_loss_epoch: 0.4455135464668274\n",
      "\n",
      "ema_model_accuracy: 0.8180891871452332\n",
      "\n",
      "Starting epoch 31\n"
     ]
    },
    {
     "name": "stderr",
     "output_type": "stream",
     "text": [
      "100%|███████████████████████████████████████████████████████████████████████████| 296/296 [00:24<00:00, 11.91it/s]\n"
     ]
    },
    {
     "name": "stdout",
     "output_type": "stream",
     "text": [
      "\n",
      "train_loss_epoch: 0.2271619439125061\n"
     ]
    },
    {
     "name": "stderr",
     "output_type": "stream",
     "text": [
      "100%|███████████████████████████████████████████████████████████████████████████| 123/123 [00:06<00:00, 18.99it/s]\n"
     ]
    },
    {
     "name": "stdout",
     "output_type": "stream",
     "text": [
      "\n",
      "accuracy: 0.8728662133216858\n",
      "\n",
      "eval_loss_epoch: 0.41346096992492676\n",
      "\n",
      "ema_model_accuracy: 0.8226751685142517\n",
      "\n",
      "Starting epoch 32\n"
     ]
    },
    {
     "name": "stderr",
     "output_type": "stream",
     "text": [
      "100%|███████████████████████████████████████████████████████████████████████████| 296/296 [00:24<00:00, 11.90it/s]\n"
     ]
    },
    {
     "name": "stdout",
     "output_type": "stream",
     "text": [
      "\n",
      "train_loss_epoch: 0.23070237040519714\n"
     ]
    },
    {
     "name": "stderr",
     "output_type": "stream",
     "text": [
      "100%|███████████████████████████████████████████████████████████████████████████| 123/123 [00:06<00:00, 19.03it/s]\n"
     ]
    },
    {
     "name": "stdout",
     "output_type": "stream",
     "text": [
      "\n",
      "accuracy: 0.8675159215927124\n",
      "\n",
      "eval_loss_epoch: 0.4309409558773041\n",
      "\n",
      "ema_model_accuracy: 0.8298088908195496\n",
      "\n",
      "Starting epoch 33\n"
     ]
    },
    {
     "name": "stderr",
     "output_type": "stream",
     "text": [
      "100%|███████████████████████████████████████████████████████████████████████████| 296/296 [00:24<00:00, 11.91it/s]\n"
     ]
    },
    {
     "name": "stdout",
     "output_type": "stream",
     "text": [
      "\n",
      "train_loss_epoch: 0.2201327383518219\n"
     ]
    },
    {
     "name": "stderr",
     "output_type": "stream",
     "text": [
      "100%|███████████████████████████████████████████████████████████████████████████| 123/123 [00:06<00:00, 19.01it/s]\n"
     ]
    },
    {
     "name": "stdout",
     "output_type": "stream",
     "text": [
      "\n",
      "accuracy: 0.8759235739707947\n",
      "\n",
      "eval_loss_epoch: 0.39318275451660156\n",
      "\n",
      "ema_model_accuracy: 0.8331210017204285\n",
      "\n",
      "Starting epoch 34\n"
     ]
    },
    {
     "name": "stderr",
     "output_type": "stream",
     "text": [
      "100%|███████████████████████████████████████████████████████████████████████████| 296/296 [00:24<00:00, 11.90it/s]\n"
     ]
    },
    {
     "name": "stdout",
     "output_type": "stream",
     "text": [
      "\n",
      "train_loss_epoch: 0.22676897048950195\n"
     ]
    },
    {
     "name": "stderr",
     "output_type": "stream",
     "text": [
      "100%|███████████████████████████████████████████████████████████████████████████| 123/123 [00:06<00:00, 19.01it/s]\n"
     ]
    },
    {
     "name": "stdout",
     "output_type": "stream",
     "text": [
      "\n",
      "accuracy: 0.8736305832862854\n",
      "\n",
      "eval_loss_epoch: 0.39814019203186035\n",
      "\n",
      "ema_model_accuracy: 0.8366879224777222\n",
      "\n",
      "Starting epoch 35\n"
     ]
    },
    {
     "name": "stderr",
     "output_type": "stream",
     "text": [
      "100%|███████████████████████████████████████████████████████████████████████████| 296/296 [00:24<00:00, 11.91it/s]\n"
     ]
    },
    {
     "name": "stdout",
     "output_type": "stream",
     "text": [
      "\n",
      "train_loss_epoch: 0.22446221113204956\n"
     ]
    },
    {
     "name": "stderr",
     "output_type": "stream",
     "text": [
      "100%|███████████████████████████████████████████████████████████████████████████| 123/123 [00:06<00:00, 19.08it/s]\n"
     ]
    },
    {
     "name": "stdout",
     "output_type": "stream",
     "text": [
      "\n",
      "accuracy: 0.881019115447998\n",
      "\n",
      "eval_loss_epoch: 0.3903728425502777\n",
      "\n",
      "ema_model_accuracy: 0.8410190939903259\n",
      "\n",
      "Starting epoch 36\n"
     ]
    },
    {
     "name": "stderr",
     "output_type": "stream",
     "text": [
      "100%|███████████████████████████████████████████████████████████████████████████| 296/296 [00:24<00:00, 11.91it/s]\n"
     ]
    },
    {
     "name": "stdout",
     "output_type": "stream",
     "text": [
      "\n",
      "train_loss_epoch: 0.2260984629392624\n"
     ]
    },
    {
     "name": "stderr",
     "output_type": "stream",
     "text": [
      "100%|███████████████████████████████████████████████████████████████████████████| 123/123 [00:06<00:00, 19.06it/s]\n"
     ]
    },
    {
     "name": "stdout",
     "output_type": "stream",
     "text": [
      "\n",
      "accuracy: 0.8728662133216858\n",
      "\n",
      "eval_loss_epoch: 0.4023045599460602\n",
      "\n",
      "ema_model_accuracy: 0.8440764546394348\n",
      "\n",
      "Starting epoch 37\n"
     ]
    },
    {
     "name": "stderr",
     "output_type": "stream",
     "text": [
      " 40%|██████████████████████████████▏                                            | 119/296 [00:10<00:14, 12.10it/s]"
     ]
    },
    {
     "ename": "KeyboardInterrupt",
     "evalue": "",
     "output_type": "error",
     "traceback": [
      "\u001b[0;31m---------------------------------------------------------------------------\u001b[0m",
      "\u001b[0;31mKeyboardInterrupt\u001b[0m                         Traceback (most recent call last)",
      "Cell \u001b[0;32mIn[21], line 200\u001b[0m\n\u001b[1;32m    198\u001b[0m parser\u001b[38;5;241m.\u001b[39madd_argument(\u001b[38;5;124m\"\u001b[39m\u001b[38;5;124m--data_dir\u001b[39m\u001b[38;5;124m\"\u001b[39m, required\u001b[38;5;241m=\u001b[39m\u001b[38;5;28;01mTrue\u001b[39;00m, help\u001b[38;5;241m=\u001b[39m\u001b[38;5;124m\"\u001b[39m\u001b[38;5;124mThe data folder on disk.\u001b[39m\u001b[38;5;124m\"\u001b[39m)\n\u001b[1;32m    199\u001b[0m args \u001b[38;5;241m=\u001b[39m parser\u001b[38;5;241m.\u001b[39mparse_args(args\u001b[38;5;241m=\u001b[39m[\u001b[38;5;124m'\u001b[39m\u001b[38;5;124m--data_dir=imagenette2-320\u001b[39m\u001b[38;5;124m'\u001b[39m])\n\u001b[0;32m--> 200\u001b[0m \u001b[43mmain\u001b[49m\u001b[43m(\u001b[49m\u001b[43margs\u001b[49m\u001b[38;5;241;43m.\u001b[39;49m\u001b[43mdata_dir\u001b[49m\u001b[43m)\u001b[49m\n",
      "Cell \u001b[0;32mIn[21], line 187\u001b[0m, in \u001b[0;36mmain\u001b[0;34m(data_path)\u001b[0m\n\u001b[1;32m    173\u001b[0m \u001b[38;5;66;03m# Create trainer and start training\u001b[39;00m\n\u001b[1;32m    174\u001b[0m trainer \u001b[38;5;241m=\u001b[39m TimmMixupTrainer(\n\u001b[1;32m    175\u001b[0m     model\u001b[38;5;241m=\u001b[39mmodel,\n\u001b[1;32m    176\u001b[0m     optimizer\u001b[38;5;241m=\u001b[39moptimizer,\n\u001b[0;32m   (...)\u001b[0m\n\u001b[1;32m    184\u001b[0m     ],\n\u001b[1;32m    185\u001b[0m )\n\u001b[0;32m--> 187\u001b[0m \u001b[43mtrainer\u001b[49m\u001b[38;5;241;43m.\u001b[39;49m\u001b[43mtrain\u001b[49m\u001b[43m(\u001b[49m\n\u001b[1;32m    188\u001b[0m \u001b[43m    \u001b[49m\u001b[43mper_device_batch_size\u001b[49m\u001b[38;5;241;43m=\u001b[39;49m\u001b[43mbatch_size\u001b[49m\u001b[43m,\u001b[49m\n\u001b[1;32m    189\u001b[0m \u001b[43m    \u001b[49m\u001b[43mtrain_dataset\u001b[49m\u001b[38;5;241;43m=\u001b[39;49m\u001b[43mtrain_dataset\u001b[49m\u001b[43m,\u001b[49m\n\u001b[1;32m    190\u001b[0m \u001b[43m    \u001b[49m\u001b[43meval_dataset\u001b[49m\u001b[38;5;241;43m=\u001b[39;49m\u001b[43meval_dataset\u001b[49m\u001b[43m,\u001b[49m\n\u001b[1;32m    191\u001b[0m \u001b[43m    \u001b[49m\u001b[43mnum_epochs\u001b[49m\u001b[38;5;241;43m=\u001b[39;49m\u001b[43mnum_epochs\u001b[49m\u001b[43m,\u001b[49m\n\u001b[1;32m    192\u001b[0m \u001b[43m    \u001b[49m\u001b[43mcreate_scheduler_fn\u001b[49m\u001b[38;5;241;43m=\u001b[39;49m\u001b[43mtrainer\u001b[49m\u001b[38;5;241;43m.\u001b[39;49m\u001b[43mcreate_scheduler\u001b[49m\u001b[43m,\u001b[49m\n\u001b[1;32m    193\u001b[0m \u001b[43m\u001b[49m\u001b[43m)\u001b[49m\n",
      "File \u001b[0;32m~/venv-lightning/lib/python3.8/site-packages/pytorch_accelerated/trainer.py:469\u001b[0m, in \u001b[0;36mTrainer.train\u001b[0;34m(self, train_dataset, num_epochs, eval_dataset, per_device_batch_size, max_num_train_steps, gradient_accumulation_steps, gradient_clip_value, create_scheduler_fn, train_dataloader_kwargs, eval_dataloader_kwargs, reset_run_history, collate_fn)\u001b[0m\n\u001b[1;32m    466\u001b[0m \u001b[38;5;28;01mif\u001b[39;00m \u001b[38;5;28mself\u001b[39m\u001b[38;5;241m.\u001b[39mcreate_scheduler_fn \u001b[38;5;129;01mis\u001b[39;00m \u001b[38;5;129;01mnot\u001b[39;00m \u001b[38;5;28;01mNone\u001b[39;00m:\n\u001b[1;32m    467\u001b[0m     \u001b[38;5;28mself\u001b[39m\u001b[38;5;241m.\u001b[39mscheduler \u001b[38;5;241m=\u001b[39m \u001b[38;5;28mself\u001b[39m\u001b[38;5;241m.\u001b[39mcreate_scheduler()\n\u001b[0;32m--> 469\u001b[0m \u001b[38;5;28;43mself\u001b[39;49m\u001b[38;5;241;43m.\u001b[39;49m\u001b[43m_run_training\u001b[49m\u001b[43m(\u001b[49m\u001b[43m)\u001b[49m\n",
      "File \u001b[0;32m~/venv-lightning/lib/python3.8/site-packages/pytorch_accelerated/trainer.py:728\u001b[0m, in \u001b[0;36mTrainer._run_training\u001b[0;34m(self)\u001b[0m\n\u001b[1;32m    726\u001b[0m \u001b[38;5;28;01mfor\u001b[39;00m epoch \u001b[38;5;129;01min\u001b[39;00m \u001b[38;5;28mrange\u001b[39m(\u001b[38;5;28mself\u001b[39m\u001b[38;5;241m.\u001b[39mrun_config\u001b[38;5;241m.\u001b[39mnum_epochs):\n\u001b[1;32m    727\u001b[0m     \u001b[38;5;28;01mtry\u001b[39;00m:\n\u001b[0;32m--> 728\u001b[0m         \u001b[38;5;28;43mself\u001b[39;49m\u001b[38;5;241;43m.\u001b[39;49m\u001b[43m_run_train_epoch\u001b[49m\u001b[43m(\u001b[49m\u001b[38;5;28;43mself\u001b[39;49m\u001b[38;5;241;43m.\u001b[39;49m\u001b[43m_train_dataloader\u001b[49m\u001b[43m)\u001b[49m\n\u001b[1;32m    729\u001b[0m         \u001b[38;5;28;01mif\u001b[39;00m \u001b[38;5;28mself\u001b[39m\u001b[38;5;241m.\u001b[39meval_dataset \u001b[38;5;129;01mis\u001b[39;00m \u001b[38;5;129;01mnot\u001b[39;00m \u001b[38;5;28;01mNone\u001b[39;00m:\n\u001b[1;32m    730\u001b[0m             \u001b[38;5;28mself\u001b[39m\u001b[38;5;241m.\u001b[39m_run_eval_epoch(\u001b[38;5;28mself\u001b[39m\u001b[38;5;241m.\u001b[39m_eval_dataloader)\n",
      "File \u001b[0;32m~/venv-lightning/lib/python3.8/site-packages/pytorch_accelerated/trainer.py:786\u001b[0m, in \u001b[0;36mTrainer._run_train_epoch\u001b[0;34m(self, train_dl)\u001b[0m\n\u001b[1;32m    780\u001b[0m \u001b[38;5;28mself\u001b[39m\u001b[38;5;241m.\u001b[39m_loss_tracker\u001b[38;5;241m.\u001b[39mreset()\n\u001b[1;32m    781\u001b[0m \u001b[38;5;28mself\u001b[39m\u001b[38;5;241m.\u001b[39mcallback_handler\u001b[38;5;241m.\u001b[39mcall_event(\n\u001b[1;32m    782\u001b[0m     \u001b[38;5;124m\"\u001b[39m\u001b[38;5;124mon_train_epoch_start\u001b[39m\u001b[38;5;124m\"\u001b[39m,\n\u001b[1;32m    783\u001b[0m     \u001b[38;5;28mself\u001b[39m,\n\u001b[1;32m    784\u001b[0m )\n\u001b[0;32m--> 786\u001b[0m \u001b[38;5;28;01mfor\u001b[39;00m step, batch \u001b[38;5;129;01min\u001b[39;00m \u001b[38;5;28menumerate\u001b[39m(train_dl):\n\u001b[1;32m    787\u001b[0m     \u001b[38;5;28mself\u001b[39m\u001b[38;5;241m.\u001b[39mcallback_handler\u001b[38;5;241m.\u001b[39mcall_event(\n\u001b[1;32m    788\u001b[0m         \u001b[38;5;124m\"\u001b[39m\u001b[38;5;124mon_train_step_start\u001b[39m\u001b[38;5;124m\"\u001b[39m,\n\u001b[1;32m    789\u001b[0m         \u001b[38;5;28mself\u001b[39m,\n\u001b[1;32m    790\u001b[0m     )\n\u001b[1;32m    792\u001b[0m     perform_gradient_update \u001b[38;5;241m=\u001b[39m (\n\u001b[1;32m    793\u001b[0m         (step \u001b[38;5;241m+\u001b[39m \u001b[38;5;241m1\u001b[39m) \u001b[38;5;241m%\u001b[39m \u001b[38;5;28mself\u001b[39m\u001b[38;5;241m.\u001b[39mrun_config\u001b[38;5;241m.\u001b[39mgradient_accumulation_steps \u001b[38;5;241m==\u001b[39m \u001b[38;5;241m0\u001b[39m\n\u001b[1;32m    794\u001b[0m     ) \u001b[38;5;129;01mor\u001b[39;00m (step \u001b[38;5;241m+\u001b[39m \u001b[38;5;241m1\u001b[39m \u001b[38;5;241m==\u001b[39m \u001b[38;5;28mlen\u001b[39m(train_dl))\n",
      "File \u001b[0;32m~/venv-lightning/lib/python3.8/site-packages/accelerate/data_loader.py:386\u001b[0m, in \u001b[0;36mDataLoaderShard.__iter__\u001b[0;34m(self)\u001b[0m\n\u001b[1;32m    383\u001b[0m \u001b[38;5;28;01mtry\u001b[39;00m:\n\u001b[1;32m    384\u001b[0m     \u001b[38;5;66;03m# But we still move it to the device so it is done before `StopIteration` is reached\u001b[39;00m\n\u001b[1;32m    385\u001b[0m     \u001b[38;5;28;01mif\u001b[39;00m \u001b[38;5;28mself\u001b[39m\u001b[38;5;241m.\u001b[39mdevice \u001b[38;5;129;01mis\u001b[39;00m \u001b[38;5;129;01mnot\u001b[39;00m \u001b[38;5;28;01mNone\u001b[39;00m:\n\u001b[0;32m--> 386\u001b[0m         current_batch \u001b[38;5;241m=\u001b[39m \u001b[43msend_to_device\u001b[49m\u001b[43m(\u001b[49m\u001b[43mcurrent_batch\u001b[49m\u001b[43m,\u001b[49m\u001b[43m \u001b[49m\u001b[38;5;28;43mself\u001b[39;49m\u001b[38;5;241;43m.\u001b[39;49m\u001b[43mdevice\u001b[49m\u001b[43m)\u001b[49m\n\u001b[1;32m    387\u001b[0m     next_batch \u001b[38;5;241m=\u001b[39m \u001b[38;5;28mnext\u001b[39m(dataloader_iter)\n\u001b[1;32m    388\u001b[0m     \u001b[38;5;28;01mif\u001b[39;00m batch_index \u001b[38;5;241m>\u001b[39m\u001b[38;5;241m=\u001b[39m \u001b[38;5;28mself\u001b[39m\u001b[38;5;241m.\u001b[39mskip_batches:\n",
      "File \u001b[0;32m~/venv-lightning/lib/python3.8/site-packages/accelerate/utils/operations.py:152\u001b[0m, in \u001b[0;36msend_to_device\u001b[0;34m(tensor, device, non_blocking, skip_keys)\u001b[0m\n\u001b[1;32m    139\u001b[0m \u001b[38;5;250m\u001b[39m\u001b[38;5;124;03m\"\"\"\u001b[39;00m\n\u001b[1;32m    140\u001b[0m \u001b[38;5;124;03mRecursively sends the elements in a nested list/tuple/dictionary of tensors to a given device.\u001b[39;00m\n\u001b[1;32m    141\u001b[0m \n\u001b[0;32m   (...)\u001b[0m\n\u001b[1;32m    149\u001b[0m \u001b[38;5;124;03m    The same data structure as `tensor` with all tensors sent to the proper device.\u001b[39;00m\n\u001b[1;32m    150\u001b[0m \u001b[38;5;124;03m\"\"\"\u001b[39;00m\n\u001b[1;32m    151\u001b[0m \u001b[38;5;28;01mif\u001b[39;00m \u001b[38;5;28misinstance\u001b[39m(tensor, (\u001b[38;5;28mtuple\u001b[39m, \u001b[38;5;28mlist\u001b[39m)):\n\u001b[0;32m--> 152\u001b[0m     \u001b[38;5;28;01mreturn\u001b[39;00m \u001b[43mhonor_type\u001b[49m\u001b[43m(\u001b[49m\n\u001b[1;32m    153\u001b[0m \u001b[43m        \u001b[49m\u001b[43mtensor\u001b[49m\u001b[43m,\u001b[49m\u001b[43m \u001b[49m\u001b[43m(\u001b[49m\u001b[43msend_to_device\u001b[49m\u001b[43m(\u001b[49m\u001b[43mt\u001b[49m\u001b[43m,\u001b[49m\u001b[43m \u001b[49m\u001b[43mdevice\u001b[49m\u001b[43m,\u001b[49m\u001b[43m \u001b[49m\u001b[43mnon_blocking\u001b[49m\u001b[38;5;241;43m=\u001b[39;49m\u001b[43mnon_blocking\u001b[49m\u001b[43m,\u001b[49m\u001b[43m \u001b[49m\u001b[43mskip_keys\u001b[49m\u001b[38;5;241;43m=\u001b[39;49m\u001b[43mskip_keys\u001b[49m\u001b[43m)\u001b[49m\u001b[43m \u001b[49m\u001b[38;5;28;43;01mfor\u001b[39;49;00m\u001b[43m \u001b[49m\u001b[43mt\u001b[49m\u001b[43m \u001b[49m\u001b[38;5;129;43;01min\u001b[39;49;00m\u001b[43m \u001b[49m\u001b[43mtensor\u001b[49m\u001b[43m)\u001b[49m\n\u001b[1;32m    154\u001b[0m \u001b[43m    \u001b[49m\u001b[43m)\u001b[49m\n\u001b[1;32m    155\u001b[0m \u001b[38;5;28;01melif\u001b[39;00m \u001b[38;5;28misinstance\u001b[39m(tensor, Mapping):\n\u001b[1;32m    156\u001b[0m     \u001b[38;5;28;01mif\u001b[39;00m \u001b[38;5;28misinstance\u001b[39m(skip_keys, \u001b[38;5;28mstr\u001b[39m):\n",
      "File \u001b[0;32m~/venv-lightning/lib/python3.8/site-packages/accelerate/utils/operations.py:84\u001b[0m, in \u001b[0;36mhonor_type\u001b[0;34m(obj, generator)\u001b[0m\n\u001b[1;32m     82\u001b[0m     \u001b[38;5;28;01mreturn\u001b[39;00m \u001b[38;5;28mtype\u001b[39m(obj)(\u001b[38;5;241m*\u001b[39m\u001b[38;5;28mlist\u001b[39m(generator))\n\u001b[1;32m     83\u001b[0m \u001b[38;5;28;01melse\u001b[39;00m:\n\u001b[0;32m---> 84\u001b[0m     \u001b[38;5;28;01mreturn\u001b[39;00m \u001b[38;5;28;43mtype\u001b[39;49m\u001b[43m(\u001b[49m\u001b[43mobj\u001b[49m\u001b[43m)\u001b[49m\u001b[43m(\u001b[49m\u001b[43mgenerator\u001b[49m\u001b[43m)\u001b[49m\n",
      "File \u001b[0;32m~/venv-lightning/lib/python3.8/site-packages/accelerate/utils/operations.py:153\u001b[0m, in \u001b[0;36m<genexpr>\u001b[0;34m(.0)\u001b[0m\n\u001b[1;32m    139\u001b[0m \u001b[38;5;250m\u001b[39m\u001b[38;5;124;03m\"\"\"\u001b[39;00m\n\u001b[1;32m    140\u001b[0m \u001b[38;5;124;03mRecursively sends the elements in a nested list/tuple/dictionary of tensors to a given device.\u001b[39;00m\n\u001b[1;32m    141\u001b[0m \n\u001b[0;32m   (...)\u001b[0m\n\u001b[1;32m    149\u001b[0m \u001b[38;5;124;03m    The same data structure as `tensor` with all tensors sent to the proper device.\u001b[39;00m\n\u001b[1;32m    150\u001b[0m \u001b[38;5;124;03m\"\"\"\u001b[39;00m\n\u001b[1;32m    151\u001b[0m \u001b[38;5;28;01mif\u001b[39;00m \u001b[38;5;28misinstance\u001b[39m(tensor, (\u001b[38;5;28mtuple\u001b[39m, \u001b[38;5;28mlist\u001b[39m)):\n\u001b[1;32m    152\u001b[0m     \u001b[38;5;28;01mreturn\u001b[39;00m honor_type(\n\u001b[0;32m--> 153\u001b[0m         tensor, (\u001b[43msend_to_device\u001b[49m\u001b[43m(\u001b[49m\u001b[43mt\u001b[49m\u001b[43m,\u001b[49m\u001b[43m \u001b[49m\u001b[43mdevice\u001b[49m\u001b[43m,\u001b[49m\u001b[43m \u001b[49m\u001b[43mnon_blocking\u001b[49m\u001b[38;5;241;43m=\u001b[39;49m\u001b[43mnon_blocking\u001b[49m\u001b[43m,\u001b[49m\u001b[43m \u001b[49m\u001b[43mskip_keys\u001b[49m\u001b[38;5;241;43m=\u001b[39;49m\u001b[43mskip_keys\u001b[49m\u001b[43m)\u001b[49m \u001b[38;5;28;01mfor\u001b[39;00m t \u001b[38;5;129;01min\u001b[39;00m tensor)\n\u001b[1;32m    154\u001b[0m     )\n\u001b[1;32m    155\u001b[0m \u001b[38;5;28;01melif\u001b[39;00m \u001b[38;5;28misinstance\u001b[39m(tensor, Mapping):\n\u001b[1;32m    156\u001b[0m     \u001b[38;5;28;01mif\u001b[39;00m \u001b[38;5;28misinstance\u001b[39m(skip_keys, \u001b[38;5;28mstr\u001b[39m):\n",
      "File \u001b[0;32m~/venv-lightning/lib/python3.8/site-packages/accelerate/utils/operations.py:168\u001b[0m, in \u001b[0;36msend_to_device\u001b[0;34m(tensor, device, non_blocking, skip_keys)\u001b[0m\n\u001b[1;32m    166\u001b[0m \u001b[38;5;28;01melif\u001b[39;00m \u001b[38;5;28mhasattr\u001b[39m(tensor, \u001b[38;5;124m\"\u001b[39m\u001b[38;5;124mto\u001b[39m\u001b[38;5;124m\"\u001b[39m):\n\u001b[1;32m    167\u001b[0m     \u001b[38;5;28;01mtry\u001b[39;00m:\n\u001b[0;32m--> 168\u001b[0m         \u001b[38;5;28;01mreturn\u001b[39;00m \u001b[43mtensor\u001b[49m\u001b[38;5;241;43m.\u001b[39;49m\u001b[43mto\u001b[49m\u001b[43m(\u001b[49m\u001b[43mdevice\u001b[49m\u001b[43m,\u001b[49m\u001b[43m \u001b[49m\u001b[43mnon_blocking\u001b[49m\u001b[38;5;241;43m=\u001b[39;49m\u001b[43mnon_blocking\u001b[49m\u001b[43m)\u001b[49m\n\u001b[1;32m    169\u001b[0m     \u001b[38;5;28;01mexcept\u001b[39;00m \u001b[38;5;167;01mTypeError\u001b[39;00m:  \u001b[38;5;66;03m# .to() doesn't accept non_blocking as kwarg\u001b[39;00m\n\u001b[1;32m    170\u001b[0m         \u001b[38;5;28;01mreturn\u001b[39;00m tensor\u001b[38;5;241m.\u001b[39mto(device)\n",
      "\u001b[0;31mKeyboardInterrupt\u001b[0m: "
     ]
    }
   ],
   "source": [
    "import argparse\n",
    "from pathlib import Path\n",
    "\n",
    "import timm\n",
    "import timm.data\n",
    "import timm.loss\n",
    "import timm.optim\n",
    "import timm.utils\n",
    "import torch\n",
    "import torchmetrics\n",
    "from timm.scheduler import CosineLRScheduler\n",
    "\n",
    "from pytorch_accelerated.callbacks import SaveBestModelCallback\n",
    "from pytorch_accelerated.trainer import Trainer, DEFAULT_CALLBACKS\n",
    "\n",
    "\n",
    "def create_datasets(image_size, data_mean, data_std, train_path, val_path):\n",
    "    train_transforms = timm.data.create_transform(\n",
    "        input_size=image_size,\n",
    "        is_training=True,\n",
    "        mean=data_mean,\n",
    "        std=data_std,\n",
    "        auto_augment=\"rand-m7-mstd0.5-inc1\",\n",
    "    )\n",
    "\n",
    "    eval_transforms = timm.data.create_transform(\n",
    "        input_size=image_size, mean=data_mean, std=data_std\n",
    "    )\n",
    "\n",
    "    train_dataset = timm.data.dataset.ImageDataset(\n",
    "        train_path, transform=train_transforms\n",
    "    )\n",
    "    eval_dataset = timm.data.dataset.ImageDataset(val_path, transform=eval_transforms)\n",
    "\n",
    "    return train_dataset, eval_dataset\n",
    "\n",
    "\n",
    "class TimmMixupTrainer(Trainer):\n",
    "    def __init__(self, eval_loss_fn, mixup_args, num_classes, *args, **kwargs):\n",
    "        super().__init__(*args, **kwargs)\n",
    "        self.eval_loss_fn = eval_loss_fn\n",
    "        self.num_updates = None\n",
    "        self.mixup_fn = timm.data.Mixup(**mixup_args)\n",
    "\n",
    "        self.accuracy = torchmetrics.Accuracy(num_classes=num_classes, task=\"multiclass\")\n",
    "        self.ema_accuracy = torchmetrics.Accuracy(num_classes=num_classes, task=\"multiclass\")\n",
    "        self.ema_model = None\n",
    "\n",
    "    def create_scheduler(self):\n",
    "        return timm.scheduler.CosineLRScheduler(\n",
    "            self.optimizer,\n",
    "            t_initial=self.run_config.num_epochs,\n",
    "            cycle_decay=0.5,\n",
    "            lr_min=1e-6,\n",
    "            t_in_epochs=True,\n",
    "            warmup_t=3,\n",
    "            warmup_lr_init=1e-4,\n",
    "            cycle_limit=1,\n",
    "        )\n",
    "\n",
    "    def training_run_start(self):\n",
    "        # Model EMA requires the model without a DDP wrapper and before sync batchnorm conversion\n",
    "        self.ema_model = timm.utils.ModelEmaV2(\n",
    "            self._accelerator.unwrap_model(self.model), decay=0.9\n",
    "        )\n",
    "        if self.run_config.is_distributed:\n",
    "            self.model = torch.nn.SyncBatchNorm.convert_sync_batchnorm(self.model)\n",
    "\n",
    "    def train_epoch_start(self):\n",
    "        super().train_epoch_start()\n",
    "        self.num_updates = self.run_history.current_epoch * len(self._train_dataloader)\n",
    "\n",
    "    def calculate_train_batch_loss(self, batch):\n",
    "        xb, yb = batch\n",
    "        #print('### batch_size =', len(batch), len(xb), len(yb))\n",
    "        mixup_xb, mixup_yb = self.mixup_fn(xb, yb)\n",
    "        return super().calculate_train_batch_loss((mixup_xb, mixup_yb))\n",
    "\n",
    "    def train_epoch_end(\n",
    "        self,\n",
    "    ):\n",
    "        self.ema_model.update(self.model)\n",
    "        self.ema_model.eval()\n",
    "\n",
    "        if hasattr(self.optimizer, \"sync_lookahead\"):\n",
    "            self.optimizer.sync_lookahead()\n",
    "\n",
    "    def scheduler_step(self):\n",
    "        self.num_updates += 1\n",
    "        if self.scheduler is not None:\n",
    "            self.scheduler.step_update(num_updates=self.num_updates)\n",
    "\n",
    "    def calculate_eval_batch_loss(self, batch):\n",
    "        with torch.no_grad():\n",
    "            xb, yb = batch\n",
    "            outputs = self.model(xb)\n",
    "            val_loss = self.eval_loss_fn(outputs, yb)\n",
    "            self.accuracy.update(outputs.argmax(-1), yb)\n",
    "\n",
    "            ema_model_preds = self.ema_model.module(xb).argmax(-1)\n",
    "            self.ema_accuracy.update(ema_model_preds, yb)\n",
    "\n",
    "        return {\"loss\": val_loss, \"model_outputs\": outputs, \"batch_size\": xb.size(0)}\n",
    "\n",
    "    def eval_epoch_end(self):\n",
    "        super().eval_epoch_end()\n",
    "\n",
    "        if self.scheduler is not None:\n",
    "            self.scheduler.step(self.run_history.current_epoch + 1)\n",
    "\n",
    "        self.run_history.update_metric(\"accuracy\", self.accuracy.compute().cpu())\n",
    "        self.run_history.update_metric(\n",
    "            \"ema_model_accuracy\", self.ema_accuracy.compute().cpu()\n",
    "        )\n",
    "        self.accuracy.reset()\n",
    "        self.ema_accuracy.reset()\n",
    "\n",
    "\n",
    "def main(data_path):\n",
    "\n",
    "    # Set training arguments, hardcoded here for clarity\n",
    "    image_size = (224, 224)\n",
    "    lr = 5e-3\n",
    "    smoothing = 0.1\n",
    "    mixup = 0.2\n",
    "    cutmix = 1.0\n",
    "    batch_size = 32\n",
    "    bce_target_thresh = 0.2\n",
    "    num_epochs = 40\n",
    "\n",
    "    data_path = Path(data_path)\n",
    "    train_path = data_path / \"train\"\n",
    "    val_path = data_path / \"val\"\n",
    "    num_classes = len(list(train_path.iterdir()))\n",
    "\n",
    "    mixup_args = dict(\n",
    "        mixup_alpha=mixup,\n",
    "        cutmix_alpha=cutmix,\n",
    "        label_smoothing=smoothing,\n",
    "        num_classes=num_classes,\n",
    "    )\n",
    "\n",
    "    # Create model using timm\n",
    "    model = timm.create_model(\n",
    "        \"resnet50d\", pretrained=False, num_classes=num_classes, drop_path_rate=0.05\n",
    "    )\n",
    "\n",
    "    # Load data config associated with the model to use in data augmentation pipeline\n",
    "    data_config = timm.data.resolve_data_config({}, model=model, verbose=True)\n",
    "    data_mean = data_config[\"mean\"]\n",
    "    data_std = data_config[\"std\"]\n",
    "\n",
    "    # Create training and validation datasets\n",
    "    train_dataset, eval_dataset = create_datasets(\n",
    "        train_path=train_path,\n",
    "        val_path=val_path,\n",
    "        image_size=image_size,\n",
    "        data_mean=data_mean,\n",
    "        data_std=data_std,\n",
    "    )\n",
    "\n",
    "    # Create optimizer\n",
    "    optimizer = timm.optim.create_optimizer_v2(\n",
    "        model, opt=\"lookahead_AdamW\", lr=lr, weight_decay=0.01\n",
    "    )\n",
    "\n",
    "    # As we are using Mixup, we can use BCE during training and CE for evaluation\n",
    "    train_loss_fn = timm.loss.BinaryCrossEntropy(\n",
    "        target_threshold=bce_target_thresh, smoothing=smoothing\n",
    "    )\n",
    "    validate_loss_fn = torch.nn.CrossEntropyLoss()\n",
    "\n",
    "    # Create trainer and start training\n",
    "    trainer = TimmMixupTrainer(\n",
    "        model=model,\n",
    "        optimizer=optimizer,\n",
    "        loss_func=train_loss_fn,\n",
    "        eval_loss_fn=validate_loss_fn,\n",
    "        mixup_args=mixup_args,\n",
    "        num_classes=num_classes,\n",
    "        callbacks=[\n",
    "            *DEFAULT_CALLBACKS,\n",
    "            SaveBestModelCallback(watch_metric=\"accuracy\", greater_is_better=True),\n",
    "        ],\n",
    "    )\n",
    "\n",
    "    trainer.train(\n",
    "        per_device_batch_size=batch_size,\n",
    "        train_dataset=train_dataset,\n",
    "        eval_dataset=eval_dataset,\n",
    "        num_epochs=num_epochs,\n",
    "        create_scheduler_fn=trainer.create_scheduler,\n",
    "    )\n",
    "\n",
    "\n",
    "if __name__ == \"__main__\":\n",
    "    parser = argparse.ArgumentParser(description=\"Simple example of training script using timm.\")\n",
    "    parser.add_argument(\"--data_dir\", required=True, help=\"The data folder on disk.\")\n",
    "    args = parser.parse_args(args=['--data_dir=imagenette2-320'])\n",
    "    main(args.data_dir)"
   ]
  },
  {
   "cell_type": "code",
   "execution_count": null,
   "id": "a8f62d26-c3fb-43d1-9155-0af6aeeb6d53",
   "metadata": {},
   "outputs": [],
   "source": []
  }
 ],
 "metadata": {
  "kernelspec": {
   "display_name": "Python 3 (ipykernel)",
   "language": "python",
   "name": "python3"
  },
  "language_info": {
   "codemirror_mode": {
    "name": "ipython",
    "version": 3
   },
   "file_extension": ".py",
   "mimetype": "text/x-python",
   "name": "python",
   "nbconvert_exporter": "python",
   "pygments_lexer": "ipython3",
   "version": "3.8.13"
  }
 },
 "nbformat": 4,
 "nbformat_minor": 5
}
