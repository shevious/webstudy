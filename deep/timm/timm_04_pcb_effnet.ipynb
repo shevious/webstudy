{
 "cells": [
  {
   "cell_type": "code",
   "execution_count": 11,
   "id": "032c62cd-ddf3-4674-bc99-9042fd376c69",
   "metadata": {},
   "outputs": [
    {
     "name": "stdout",
     "output_type": "stream",
     "text": [
      "pytorch-accelerated       0.1.47\n",
      "timm                      0.9.16\n"
     ]
    }
   ],
   "source": [
    "#!pip install timm\n",
    "#!pip install pytorch-accelerated\n",
    "!pip list | grep -E 'timm|accelerated'"
   ]
  },
  {
   "cell_type": "code",
   "execution_count": 19,
   "id": "c9ff4932-3f28-49a8-a390-29bf263a365f",
   "metadata": {},
   "outputs": [],
   "source": [
    "#!wget 'https://s3.amazonaws.com/fast-ai-imageclas/imagenette2-320.tgz'\n",
    "#!tar xvzf imagenette2-320.tgz\n",
    "# train 갯수를 짝수로 맞춤\n",
    "#!rm imagenette2-320/train/n03888257/n03888257_9997.JPEG"
   ]
  },
  {
   "cell_type": "code",
   "execution_count": 1,
   "id": "df0181dd-a377-4af7-ae04-bc35276724b1",
   "metadata": {},
   "outputs": [
    {
     "name": "stderr",
     "output_type": "stream",
     "text": [
      "100%|███████████████████████████████████████████████████████████████████████████████████████████████████████████████████| 10/10 [00:10<00:00,  1.00s/it]\n"
     ]
    }
   ],
   "source": [
    "#from tqdm.auto import tqdm\n",
    "from tqdm import tqdm\n",
    "import time\n",
    "for i in tqdm(range(10)):\n",
    "    time.sleep(1)"
   ]
  },
  {
   "cell_type": "code",
   "execution_count": 1,
   "id": "424e08eb-1d40-4cd0-947b-b6459bfc7ead",
   "metadata": {},
   "outputs": [
    {
     "data": {
      "text/plain": [
       "['bat_resnext26ts.ch_in1k',\n",
       " 'beit_base_patch16_224.in22k_ft_in22k',\n",
       " 'beit_base_patch16_224.in22k_ft_in22k_in1k',\n",
       " 'beit_base_patch16_384.in22k_ft_in22k_in1k',\n",
       " 'beit_large_patch16_224.in22k_ft_in22k',\n",
       " 'beit_large_patch16_224.in22k_ft_in22k_in1k',\n",
       " 'beit_large_patch16_384.in22k_ft_in22k_in1k',\n",
       " 'beit_large_patch16_512.in22k_ft_in22k_in1k',\n",
       " 'beitv2_base_patch16_224.in1k_ft_in1k',\n",
       " 'beitv2_base_patch16_224.in1k_ft_in22k',\n",
       " 'beitv2_base_patch16_224.in1k_ft_in22k_in1k',\n",
       " 'beitv2_large_patch16_224.in1k_ft_in1k',\n",
       " 'beitv2_large_patch16_224.in1k_ft_in22k',\n",
       " 'beitv2_large_patch16_224.in1k_ft_in22k_in1k',\n",
       " 'botnet26t_256.c1_in1k',\n",
       " 'caformer_b36.sail_in1k',\n",
       " 'caformer_b36.sail_in1k_384',\n",
       " 'caformer_b36.sail_in22k',\n",
       " 'caformer_b36.sail_in22k_ft_in1k',\n",
       " 'caformer_b36.sail_in22k_ft_in1k_384',\n",
       " 'caformer_m36.sail_in1k',\n",
       " 'caformer_m36.sail_in1k_384',\n",
       " 'caformer_m36.sail_in22k',\n",
       " 'caformer_m36.sail_in22k_ft_in1k',\n",
       " 'caformer_m36.sail_in22k_ft_in1k_384',\n",
       " 'caformer_s18.sail_in1k',\n",
       " 'caformer_s18.sail_in1k_384',\n",
       " 'caformer_s18.sail_in22k',\n",
       " 'caformer_s18.sail_in22k_ft_in1k',\n",
       " 'caformer_s18.sail_in22k_ft_in1k_384',\n",
       " 'caformer_s36.sail_in1k',\n",
       " 'caformer_s36.sail_in1k_384',\n",
       " 'caformer_s36.sail_in22k',\n",
       " 'caformer_s36.sail_in22k_ft_in1k',\n",
       " 'caformer_s36.sail_in22k_ft_in1k_384',\n",
       " 'cait_m36_384.fb_dist_in1k',\n",
       " 'cait_m48_448.fb_dist_in1k',\n",
       " 'cait_s24_224.fb_dist_in1k',\n",
       " 'cait_s24_384.fb_dist_in1k',\n",
       " 'cait_s36_384.fb_dist_in1k',\n",
       " 'cait_xs24_384.fb_dist_in1k',\n",
       " 'cait_xxs24_224.fb_dist_in1k',\n",
       " 'cait_xxs24_384.fb_dist_in1k',\n",
       " 'cait_xxs36_224.fb_dist_in1k',\n",
       " 'cait_xxs36_384.fb_dist_in1k',\n",
       " 'coat_lite_medium.in1k',\n",
       " 'coat_lite_medium_384.in1k',\n",
       " 'coat_lite_mini.in1k',\n",
       " 'coat_lite_small.in1k',\n",
       " 'coat_lite_tiny.in1k',\n",
       " 'coat_mini.in1k',\n",
       " 'coat_small.in1k',\n",
       " 'coat_tiny.in1k',\n",
       " 'coatnet_0_rw_224.sw_in1k',\n",
       " 'coatnet_1_rw_224.sw_in1k',\n",
       " 'coatnet_2_rw_224.sw_in12k',\n",
       " 'coatnet_2_rw_224.sw_in12k_ft_in1k',\n",
       " 'coatnet_3_rw_224.sw_in12k',\n",
       " 'coatnet_bn_0_rw_224.sw_in1k',\n",
       " 'coatnet_nano_rw_224.sw_in1k',\n",
       " 'coatnet_rmlp_1_rw2_224.sw_in12k',\n",
       " 'coatnet_rmlp_1_rw2_224.sw_in12k_ft_in1k',\n",
       " 'coatnet_rmlp_1_rw_224.sw_in1k',\n",
       " 'coatnet_rmlp_2_rw_224.sw_in1k',\n",
       " 'coatnet_rmlp_2_rw_224.sw_in12k',\n",
       " 'coatnet_rmlp_2_rw_224.sw_in12k_ft_in1k',\n",
       " 'coatnet_rmlp_2_rw_384.sw_in12k_ft_in1k',\n",
       " 'coatnet_rmlp_nano_rw_224.sw_in1k',\n",
       " 'coatnext_nano_rw_224.sw_in1k',\n",
       " 'convformer_b36.sail_in1k',\n",
       " 'convformer_b36.sail_in1k_384',\n",
       " 'convformer_b36.sail_in22k',\n",
       " 'convformer_b36.sail_in22k_ft_in1k',\n",
       " 'convformer_b36.sail_in22k_ft_in1k_384',\n",
       " 'convformer_m36.sail_in1k',\n",
       " 'convformer_m36.sail_in1k_384',\n",
       " 'convformer_m36.sail_in22k',\n",
       " 'convformer_m36.sail_in22k_ft_in1k',\n",
       " 'convformer_m36.sail_in22k_ft_in1k_384',\n",
       " 'convformer_s18.sail_in1k',\n",
       " 'convformer_s18.sail_in1k_384',\n",
       " 'convformer_s18.sail_in22k',\n",
       " 'convformer_s18.sail_in22k_ft_in1k',\n",
       " 'convformer_s18.sail_in22k_ft_in1k_384',\n",
       " 'convformer_s36.sail_in1k',\n",
       " 'convformer_s36.sail_in1k_384',\n",
       " 'convformer_s36.sail_in22k',\n",
       " 'convformer_s36.sail_in22k_ft_in1k',\n",
       " 'convformer_s36.sail_in22k_ft_in1k_384',\n",
       " 'convit_base.fb_in1k',\n",
       " 'convit_small.fb_in1k',\n",
       " 'convit_tiny.fb_in1k',\n",
       " 'convmixer_768_32.in1k',\n",
       " 'convmixer_1024_20_ks9_p14.in1k',\n",
       " 'convmixer_1536_20.in1k',\n",
       " 'convnext_atto.d2_in1k',\n",
       " 'convnext_atto_ols.a2_in1k',\n",
       " 'convnext_base.clip_laion2b',\n",
       " 'convnext_base.clip_laion2b_augreg',\n",
       " 'convnext_base.clip_laion2b_augreg_ft_in1k',\n",
       " 'convnext_base.clip_laion2b_augreg_ft_in12k',\n",
       " 'convnext_base.clip_laion2b_augreg_ft_in12k_in1k',\n",
       " 'convnext_base.clip_laion2b_augreg_ft_in12k_in1k_384',\n",
       " 'convnext_base.clip_laiona',\n",
       " 'convnext_base.clip_laiona_320',\n",
       " 'convnext_base.clip_laiona_augreg_320',\n",
       " 'convnext_base.clip_laiona_augreg_ft_in1k_384',\n",
       " 'convnext_base.fb_in1k',\n",
       " 'convnext_base.fb_in22k',\n",
       " 'convnext_base.fb_in22k_ft_in1k',\n",
       " 'convnext_base.fb_in22k_ft_in1k_384',\n",
       " 'convnext_femto.d1_in1k',\n",
       " 'convnext_femto_ols.d1_in1k',\n",
       " 'convnext_large.fb_in1k',\n",
       " 'convnext_large.fb_in22k',\n",
       " 'convnext_large.fb_in22k_ft_in1k',\n",
       " 'convnext_large.fb_in22k_ft_in1k_384',\n",
       " 'convnext_large_mlp.clip_laion2b_augreg',\n",
       " 'convnext_large_mlp.clip_laion2b_augreg_ft_in1k',\n",
       " 'convnext_large_mlp.clip_laion2b_augreg_ft_in1k_384',\n",
       " 'convnext_large_mlp.clip_laion2b_augreg_ft_in12k_384',\n",
       " 'convnext_large_mlp.clip_laion2b_ft_320',\n",
       " 'convnext_large_mlp.clip_laion2b_ft_soup_320',\n",
       " 'convnext_large_mlp.clip_laion2b_soup_ft_in12k_320',\n",
       " 'convnext_large_mlp.clip_laion2b_soup_ft_in12k_384',\n",
       " 'convnext_large_mlp.clip_laion2b_soup_ft_in12k_in1k_320',\n",
       " 'convnext_large_mlp.clip_laion2b_soup_ft_in12k_in1k_384',\n",
       " 'convnext_nano.d1h_in1k',\n",
       " 'convnext_nano.in12k',\n",
       " 'convnext_nano.in12k_ft_in1k',\n",
       " 'convnext_nano_ols.d1h_in1k',\n",
       " 'convnext_pico.d1_in1k',\n",
       " 'convnext_pico_ols.d1_in1k',\n",
       " 'convnext_small.fb_in1k',\n",
       " 'convnext_small.fb_in22k',\n",
       " 'convnext_small.fb_in22k_ft_in1k',\n",
       " 'convnext_small.fb_in22k_ft_in1k_384',\n",
       " 'convnext_small.in12k',\n",
       " 'convnext_small.in12k_ft_in1k',\n",
       " 'convnext_small.in12k_ft_in1k_384',\n",
       " 'convnext_tiny.fb_in1k',\n",
       " 'convnext_tiny.fb_in22k',\n",
       " 'convnext_tiny.fb_in22k_ft_in1k',\n",
       " 'convnext_tiny.fb_in22k_ft_in1k_384',\n",
       " 'convnext_tiny.in12k',\n",
       " 'convnext_tiny.in12k_ft_in1k',\n",
       " 'convnext_tiny.in12k_ft_in1k_384',\n",
       " 'convnext_tiny_hnf.a2h_in1k',\n",
       " 'convnext_xlarge.fb_in22k',\n",
       " 'convnext_xlarge.fb_in22k_ft_in1k',\n",
       " 'convnext_xlarge.fb_in22k_ft_in1k_384',\n",
       " 'convnext_xxlarge.clip_laion2b_rewind',\n",
       " 'convnext_xxlarge.clip_laion2b_soup',\n",
       " 'convnext_xxlarge.clip_laion2b_soup_ft_in1k',\n",
       " 'convnext_xxlarge.clip_laion2b_soup_ft_in12k',\n",
       " 'convnextv2_atto.fcmae',\n",
       " 'convnextv2_atto.fcmae_ft_in1k',\n",
       " 'convnextv2_base.fcmae',\n",
       " 'convnextv2_base.fcmae_ft_in1k',\n",
       " 'convnextv2_base.fcmae_ft_in22k_in1k',\n",
       " 'convnextv2_base.fcmae_ft_in22k_in1k_384',\n",
       " 'convnextv2_femto.fcmae',\n",
       " 'convnextv2_femto.fcmae_ft_in1k',\n",
       " 'convnextv2_huge.fcmae',\n",
       " 'convnextv2_huge.fcmae_ft_in1k',\n",
       " 'convnextv2_huge.fcmae_ft_in22k_in1k_384',\n",
       " 'convnextv2_huge.fcmae_ft_in22k_in1k_512',\n",
       " 'convnextv2_large.fcmae',\n",
       " 'convnextv2_large.fcmae_ft_in1k',\n",
       " 'convnextv2_large.fcmae_ft_in22k_in1k',\n",
       " 'convnextv2_large.fcmae_ft_in22k_in1k_384',\n",
       " 'convnextv2_nano.fcmae',\n",
       " 'convnextv2_nano.fcmae_ft_in1k',\n",
       " 'convnextv2_nano.fcmae_ft_in22k_in1k',\n",
       " 'convnextv2_nano.fcmae_ft_in22k_in1k_384',\n",
       " 'convnextv2_pico.fcmae',\n",
       " 'convnextv2_pico.fcmae_ft_in1k',\n",
       " 'convnextv2_tiny.fcmae',\n",
       " 'convnextv2_tiny.fcmae_ft_in1k',\n",
       " 'convnextv2_tiny.fcmae_ft_in22k_in1k',\n",
       " 'convnextv2_tiny.fcmae_ft_in22k_in1k_384',\n",
       " 'crossvit_9_240.in1k',\n",
       " 'crossvit_9_dagger_240.in1k',\n",
       " 'crossvit_15_240.in1k',\n",
       " 'crossvit_15_dagger_240.in1k',\n",
       " 'crossvit_15_dagger_408.in1k',\n",
       " 'crossvit_18_240.in1k',\n",
       " 'crossvit_18_dagger_240.in1k',\n",
       " 'crossvit_18_dagger_408.in1k',\n",
       " 'crossvit_base_240.in1k',\n",
       " 'crossvit_small_240.in1k',\n",
       " 'crossvit_tiny_240.in1k',\n",
       " 'cs3darknet_focus_l.c2ns_in1k',\n",
       " 'cs3darknet_focus_m.c2ns_in1k',\n",
       " 'cs3darknet_l.c2ns_in1k',\n",
       " 'cs3darknet_m.c2ns_in1k',\n",
       " 'cs3darknet_x.c2ns_in1k',\n",
       " 'cs3edgenet_x.c2_in1k',\n",
       " 'cs3se_edgenet_x.c2ns_in1k',\n",
       " 'cs3sedarknet_l.c2ns_in1k',\n",
       " 'cs3sedarknet_x.c2ns_in1k',\n",
       " 'cspdarknet53.ra_in1k',\n",
       " 'cspresnet50.ra_in1k',\n",
       " 'cspresnext50.ra_in1k',\n",
       " 'darknet53.c2ns_in1k',\n",
       " 'darknetaa53.c2ns_in1k',\n",
       " 'davit_base.msft_in1k',\n",
       " 'davit_small.msft_in1k',\n",
       " 'davit_tiny.msft_in1k',\n",
       " 'deit3_base_patch16_224.fb_in1k',\n",
       " 'deit3_base_patch16_224.fb_in22k_ft_in1k',\n",
       " 'deit3_base_patch16_384.fb_in1k',\n",
       " 'deit3_base_patch16_384.fb_in22k_ft_in1k',\n",
       " 'deit3_huge_patch14_224.fb_in1k',\n",
       " 'deit3_huge_patch14_224.fb_in22k_ft_in1k',\n",
       " 'deit3_large_patch16_224.fb_in1k',\n",
       " 'deit3_large_patch16_224.fb_in22k_ft_in1k',\n",
       " 'deit3_large_patch16_384.fb_in1k',\n",
       " 'deit3_large_patch16_384.fb_in22k_ft_in1k',\n",
       " 'deit3_medium_patch16_224.fb_in1k',\n",
       " 'deit3_medium_patch16_224.fb_in22k_ft_in1k',\n",
       " 'deit3_small_patch16_224.fb_in1k',\n",
       " 'deit3_small_patch16_224.fb_in22k_ft_in1k',\n",
       " 'deit3_small_patch16_384.fb_in1k',\n",
       " 'deit3_small_patch16_384.fb_in22k_ft_in1k',\n",
       " 'deit_base_distilled_patch16_224.fb_in1k',\n",
       " 'deit_base_distilled_patch16_384.fb_in1k',\n",
       " 'deit_base_patch16_224.fb_in1k',\n",
       " 'deit_base_patch16_384.fb_in1k',\n",
       " 'deit_small_distilled_patch16_224.fb_in1k',\n",
       " 'deit_small_patch16_224.fb_in1k',\n",
       " 'deit_tiny_distilled_patch16_224.fb_in1k',\n",
       " 'deit_tiny_patch16_224.fb_in1k',\n",
       " 'densenet121.ra_in1k',\n",
       " 'densenet121.tv_in1k',\n",
       " 'densenet161.tv_in1k',\n",
       " 'densenet169.tv_in1k',\n",
       " 'densenet201.tv_in1k',\n",
       " 'densenetblur121d.ra_in1k',\n",
       " 'dla34.in1k',\n",
       " 'dla46_c.in1k',\n",
       " 'dla46x_c.in1k',\n",
       " 'dla60.in1k',\n",
       " 'dla60_res2net.in1k',\n",
       " 'dla60_res2next.in1k',\n",
       " 'dla60x.in1k',\n",
       " 'dla60x_c.in1k',\n",
       " 'dla102.in1k',\n",
       " 'dla102x2.in1k',\n",
       " 'dla102x.in1k',\n",
       " 'dla169.in1k',\n",
       " 'dm_nfnet_f0.dm_in1k',\n",
       " 'dm_nfnet_f1.dm_in1k',\n",
       " 'dm_nfnet_f2.dm_in1k',\n",
       " 'dm_nfnet_f3.dm_in1k',\n",
       " 'dm_nfnet_f4.dm_in1k',\n",
       " 'dm_nfnet_f5.dm_in1k',\n",
       " 'dm_nfnet_f6.dm_in1k',\n",
       " 'dpn68.mx_in1k',\n",
       " 'dpn68b.mx_in1k',\n",
       " 'dpn68b.ra_in1k',\n",
       " 'dpn92.mx_in1k',\n",
       " 'dpn98.mx_in1k',\n",
       " 'dpn107.mx_in1k',\n",
       " 'dpn131.mx_in1k',\n",
       " 'eca_botnext26ts_256.c1_in1k',\n",
       " 'eca_halonext26ts.c1_in1k',\n",
       " 'eca_nfnet_l0.ra2_in1k',\n",
       " 'eca_nfnet_l1.ra2_in1k',\n",
       " 'eca_nfnet_l2.ra3_in1k',\n",
       " 'eca_resnet33ts.ra2_in1k',\n",
       " 'eca_resnext26ts.ch_in1k',\n",
       " 'ecaresnet26t.ra2_in1k',\n",
       " 'ecaresnet50d.miil_in1k',\n",
       " 'ecaresnet50d_pruned.miil_in1k',\n",
       " 'ecaresnet50t.a1_in1k',\n",
       " 'ecaresnet50t.a2_in1k',\n",
       " 'ecaresnet50t.a3_in1k',\n",
       " 'ecaresnet50t.ra2_in1k',\n",
       " 'ecaresnet101d.miil_in1k',\n",
       " 'ecaresnet101d_pruned.miil_in1k',\n",
       " 'ecaresnet269d.ra2_in1k',\n",
       " 'ecaresnetlight.miil_in1k',\n",
       " 'edgenext_base.in21k_ft_in1k',\n",
       " 'edgenext_base.usi_in1k',\n",
       " 'edgenext_small.usi_in1k',\n",
       " 'edgenext_small_rw.sw_in1k',\n",
       " 'edgenext_x_small.in1k',\n",
       " 'edgenext_xx_small.in1k',\n",
       " 'efficientformer_l1.snap_dist_in1k',\n",
       " 'efficientformer_l3.snap_dist_in1k',\n",
       " 'efficientformer_l7.snap_dist_in1k',\n",
       " 'efficientformerv2_l.snap_dist_in1k',\n",
       " 'efficientformerv2_s0.snap_dist_in1k',\n",
       " 'efficientformerv2_s1.snap_dist_in1k',\n",
       " 'efficientformerv2_s2.snap_dist_in1k',\n",
       " 'efficientnet_b0.ra_in1k',\n",
       " 'efficientnet_b1.ft_in1k',\n",
       " 'efficientnet_b1_pruned.in1k',\n",
       " 'efficientnet_b2.ra_in1k',\n",
       " 'efficientnet_b2_pruned.in1k',\n",
       " 'efficientnet_b3.ra2_in1k',\n",
       " 'efficientnet_b3_pruned.in1k',\n",
       " 'efficientnet_b4.ra2_in1k',\n",
       " 'efficientnet_b5.sw_in12k',\n",
       " 'efficientnet_b5.sw_in12k_ft_in1k',\n",
       " 'efficientnet_el.ra_in1k',\n",
       " 'efficientnet_el_pruned.in1k',\n",
       " 'efficientnet_em.ra2_in1k',\n",
       " 'efficientnet_es.ra_in1k',\n",
       " 'efficientnet_es_pruned.in1k',\n",
       " 'efficientnet_lite0.ra_in1k',\n",
       " 'efficientnetv2_rw_m.agc_in1k',\n",
       " 'efficientnetv2_rw_s.ra2_in1k',\n",
       " 'efficientnetv2_rw_t.ra2_in1k',\n",
       " 'efficientvit_b0.r224_in1k',\n",
       " 'efficientvit_b1.r224_in1k',\n",
       " 'efficientvit_b1.r256_in1k',\n",
       " 'efficientvit_b1.r288_in1k',\n",
       " 'efficientvit_b2.r224_in1k',\n",
       " 'efficientvit_b2.r256_in1k',\n",
       " 'efficientvit_b2.r288_in1k',\n",
       " 'efficientvit_b3.r224_in1k',\n",
       " 'efficientvit_b3.r256_in1k',\n",
       " 'efficientvit_b3.r288_in1k',\n",
       " 'efficientvit_l1.r224_in1k',\n",
       " 'efficientvit_l2.r224_in1k',\n",
       " 'efficientvit_l2.r256_in1k',\n",
       " 'efficientvit_l2.r288_in1k',\n",
       " 'efficientvit_l2.r384_in1k',\n",
       " 'efficientvit_l3.r224_in1k',\n",
       " 'efficientvit_l3.r256_in1k',\n",
       " 'efficientvit_l3.r320_in1k',\n",
       " 'efficientvit_l3.r384_in1k',\n",
       " 'efficientvit_m0.r224_in1k',\n",
       " 'efficientvit_m1.r224_in1k',\n",
       " 'efficientvit_m2.r224_in1k',\n",
       " 'efficientvit_m3.r224_in1k',\n",
       " 'efficientvit_m4.r224_in1k',\n",
       " 'efficientvit_m5.r224_in1k',\n",
       " 'ese_vovnet19b_dw.ra_in1k',\n",
       " 'ese_vovnet39b.ra_in1k',\n",
       " 'eva02_base_patch14_224.mim_in22k',\n",
       " 'eva02_base_patch14_448.mim_in22k_ft_in1k',\n",
       " 'eva02_base_patch14_448.mim_in22k_ft_in22k',\n",
       " 'eva02_base_patch14_448.mim_in22k_ft_in22k_in1k',\n",
       " 'eva02_base_patch16_clip_224.merged2b',\n",
       " 'eva02_enormous_patch14_clip_224.laion2b',\n",
       " 'eva02_enormous_patch14_clip_224.laion2b_plus',\n",
       " 'eva02_large_patch14_224.mim_in22k',\n",
       " 'eva02_large_patch14_224.mim_m38m',\n",
       " 'eva02_large_patch14_448.mim_in22k_ft_in1k',\n",
       " 'eva02_large_patch14_448.mim_in22k_ft_in22k',\n",
       " 'eva02_large_patch14_448.mim_in22k_ft_in22k_in1k',\n",
       " 'eva02_large_patch14_448.mim_m38m_ft_in1k',\n",
       " 'eva02_large_patch14_448.mim_m38m_ft_in22k',\n",
       " 'eva02_large_patch14_448.mim_m38m_ft_in22k_in1k',\n",
       " 'eva02_large_patch14_clip_224.merged2b',\n",
       " 'eva02_large_patch14_clip_336.merged2b',\n",
       " 'eva02_small_patch14_224.mim_in22k',\n",
       " 'eva02_small_patch14_336.mim_in22k_ft_in1k',\n",
       " 'eva02_tiny_patch14_224.mim_in22k',\n",
       " 'eva02_tiny_patch14_336.mim_in22k_ft_in1k',\n",
       " 'eva_giant_patch14_224.clip_ft_in1k',\n",
       " 'eva_giant_patch14_336.clip_ft_in1k',\n",
       " 'eva_giant_patch14_336.m30m_ft_in22k_in1k',\n",
       " 'eva_giant_patch14_560.m30m_ft_in22k_in1k',\n",
       " 'eva_giant_patch14_clip_224.laion400m',\n",
       " 'eva_giant_patch14_clip_224.merged2b',\n",
       " 'eva_large_patch14_196.in22k_ft_in1k',\n",
       " 'eva_large_patch14_196.in22k_ft_in22k_in1k',\n",
       " 'eva_large_patch14_336.in22k_ft_in1k',\n",
       " 'eva_large_patch14_336.in22k_ft_in22k_in1k',\n",
       " 'fastvit_ma36.apple_dist_in1k',\n",
       " 'fastvit_ma36.apple_in1k',\n",
       " 'fastvit_s12.apple_dist_in1k',\n",
       " 'fastvit_s12.apple_in1k',\n",
       " 'fastvit_sa12.apple_dist_in1k',\n",
       " 'fastvit_sa12.apple_in1k',\n",
       " 'fastvit_sa24.apple_dist_in1k',\n",
       " 'fastvit_sa24.apple_in1k',\n",
       " 'fastvit_sa36.apple_dist_in1k',\n",
       " 'fastvit_sa36.apple_in1k',\n",
       " 'fastvit_t8.apple_dist_in1k',\n",
       " 'fastvit_t8.apple_in1k',\n",
       " 'fastvit_t12.apple_dist_in1k',\n",
       " 'fastvit_t12.apple_in1k',\n",
       " 'fbnetc_100.rmsp_in1k',\n",
       " 'fbnetv3_b.ra2_in1k',\n",
       " 'fbnetv3_d.ra2_in1k',\n",
       " 'fbnetv3_g.ra2_in1k',\n",
       " 'flexivit_base.300ep_in1k',\n",
       " 'flexivit_base.300ep_in21k',\n",
       " 'flexivit_base.600ep_in1k',\n",
       " 'flexivit_base.1000ep_in21k',\n",
       " 'flexivit_base.1200ep_in1k',\n",
       " 'flexivit_base.patch16_in21k',\n",
       " 'flexivit_base.patch30_in21k',\n",
       " 'flexivit_large.300ep_in1k',\n",
       " 'flexivit_large.600ep_in1k',\n",
       " 'flexivit_large.1200ep_in1k',\n",
       " 'flexivit_small.300ep_in1k',\n",
       " 'flexivit_small.600ep_in1k',\n",
       " 'flexivit_small.1200ep_in1k',\n",
       " 'focalnet_base_lrf.ms_in1k',\n",
       " 'focalnet_base_srf.ms_in1k',\n",
       " 'focalnet_huge_fl3.ms_in22k',\n",
       " 'focalnet_huge_fl4.ms_in22k',\n",
       " 'focalnet_large_fl3.ms_in22k',\n",
       " 'focalnet_large_fl4.ms_in22k',\n",
       " 'focalnet_small_lrf.ms_in1k',\n",
       " 'focalnet_small_srf.ms_in1k',\n",
       " 'focalnet_tiny_lrf.ms_in1k',\n",
       " 'focalnet_tiny_srf.ms_in1k',\n",
       " 'focalnet_xlarge_fl3.ms_in22k',\n",
       " 'focalnet_xlarge_fl4.ms_in22k',\n",
       " 'gc_efficientnetv2_rw_t.agc_in1k',\n",
       " 'gcresnet33ts.ra2_in1k',\n",
       " 'gcresnet50t.ra2_in1k',\n",
       " 'gcresnext26ts.ch_in1k',\n",
       " 'gcresnext50ts.ch_in1k',\n",
       " 'gcvit_base.in1k',\n",
       " 'gcvit_small.in1k',\n",
       " 'gcvit_tiny.in1k',\n",
       " 'gcvit_xtiny.in1k',\n",
       " 'gcvit_xxtiny.in1k',\n",
       " 'gernet_l.idstcv_in1k',\n",
       " 'gernet_m.idstcv_in1k',\n",
       " 'gernet_s.idstcv_in1k',\n",
       " 'ghostnet_100.in1k',\n",
       " 'ghostnetv2_100.in1k',\n",
       " 'ghostnetv2_130.in1k',\n",
       " 'ghostnetv2_160.in1k',\n",
       " 'gmixer_24_224.ra3_in1k',\n",
       " 'gmlp_s16_224.ra3_in1k',\n",
       " 'halo2botnet50ts_256.a1h_in1k',\n",
       " 'halonet26t.a1h_in1k',\n",
       " 'halonet50ts.a1h_in1k',\n",
       " 'haloregnetz_b.ra3_in1k',\n",
       " 'hardcorenas_a.miil_green_in1k',\n",
       " 'hardcorenas_b.miil_green_in1k',\n",
       " 'hardcorenas_c.miil_green_in1k',\n",
       " 'hardcorenas_d.miil_green_in1k',\n",
       " 'hardcorenas_e.miil_green_in1k',\n",
       " 'hardcorenas_f.miil_green_in1k',\n",
       " 'hgnet_base.ssld_in1k',\n",
       " 'hgnet_small.paddle_in1k',\n",
       " 'hgnet_small.ssld_in1k',\n",
       " 'hgnet_tiny.paddle_in1k',\n",
       " 'hgnet_tiny.ssld_in1k',\n",
       " 'hgnetv2_b0.ssld_stage1_in22k_in1k',\n",
       " 'hgnetv2_b0.ssld_stage2_ft_in1k',\n",
       " 'hgnetv2_b1.ssld_stage1_in22k_in1k',\n",
       " 'hgnetv2_b1.ssld_stage2_ft_in1k',\n",
       " 'hgnetv2_b2.ssld_stage1_in22k_in1k',\n",
       " 'hgnetv2_b2.ssld_stage2_ft_in1k',\n",
       " 'hgnetv2_b3.ssld_stage1_in22k_in1k',\n",
       " 'hgnetv2_b3.ssld_stage2_ft_in1k',\n",
       " 'hgnetv2_b4.ssld_stage1_in22k_in1k',\n",
       " 'hgnetv2_b4.ssld_stage2_ft_in1k',\n",
       " 'hgnetv2_b5.ssld_stage1_in22k_in1k',\n",
       " 'hgnetv2_b5.ssld_stage2_ft_in1k',\n",
       " 'hgnetv2_b6.ssld_stage1_in22k_in1k',\n",
       " 'hgnetv2_b6.ssld_stage2_ft_in1k',\n",
       " 'hrnet_w18.ms_aug_in1k',\n",
       " 'hrnet_w18.ms_in1k',\n",
       " 'hrnet_w18_small.gluon_in1k',\n",
       " 'hrnet_w18_small.ms_in1k',\n",
       " 'hrnet_w18_small_v2.gluon_in1k',\n",
       " 'hrnet_w18_small_v2.ms_in1k',\n",
       " 'hrnet_w18_ssld.paddle_in1k',\n",
       " 'hrnet_w30.ms_in1k',\n",
       " 'hrnet_w32.ms_in1k',\n",
       " 'hrnet_w40.ms_in1k',\n",
       " 'hrnet_w44.ms_in1k',\n",
       " 'hrnet_w48.ms_in1k',\n",
       " 'hrnet_w48_ssld.paddle_in1k',\n",
       " 'hrnet_w64.ms_in1k',\n",
       " 'inception_next_base.sail_in1k',\n",
       " 'inception_next_base.sail_in1k_384',\n",
       " 'inception_next_small.sail_in1k',\n",
       " 'inception_next_tiny.sail_in1k',\n",
       " 'inception_resnet_v2.tf_ens_adv_in1k',\n",
       " 'inception_resnet_v2.tf_in1k',\n",
       " 'inception_v3.gluon_in1k',\n",
       " 'inception_v3.tf_adv_in1k',\n",
       " 'inception_v3.tf_in1k',\n",
       " 'inception_v3.tv_in1k',\n",
       " 'inception_v4.tf_in1k',\n",
       " 'lambda_resnet26rpt_256.c1_in1k',\n",
       " 'lambda_resnet26t.c1_in1k',\n",
       " 'lambda_resnet50ts.a1h_in1k',\n",
       " 'lamhalobotnet50ts_256.a1h_in1k',\n",
       " 'lcnet_050.ra2_in1k',\n",
       " 'lcnet_075.ra2_in1k',\n",
       " 'lcnet_100.ra2_in1k',\n",
       " 'legacy_senet154.in1k',\n",
       " 'legacy_seresnet18.in1k',\n",
       " 'legacy_seresnet34.in1k',\n",
       " 'legacy_seresnet50.in1k',\n",
       " 'legacy_seresnet101.in1k',\n",
       " 'legacy_seresnet152.in1k',\n",
       " 'legacy_seresnext26_32x4d.in1k',\n",
       " 'legacy_seresnext50_32x4d.in1k',\n",
       " 'legacy_seresnext101_32x4d.in1k',\n",
       " 'legacy_xception.tf_in1k',\n",
       " 'levit_128.fb_dist_in1k',\n",
       " 'levit_128s.fb_dist_in1k',\n",
       " 'levit_192.fb_dist_in1k',\n",
       " 'levit_256.fb_dist_in1k',\n",
       " 'levit_384.fb_dist_in1k',\n",
       " 'levit_conv_128.fb_dist_in1k',\n",
       " 'levit_conv_128s.fb_dist_in1k',\n",
       " 'levit_conv_192.fb_dist_in1k',\n",
       " 'levit_conv_256.fb_dist_in1k',\n",
       " 'levit_conv_384.fb_dist_in1k',\n",
       " 'maxvit_base_tf_224.in1k',\n",
       " 'maxvit_base_tf_224.in21k',\n",
       " 'maxvit_base_tf_384.in1k',\n",
       " 'maxvit_base_tf_384.in21k_ft_in1k',\n",
       " 'maxvit_base_tf_512.in1k',\n",
       " 'maxvit_base_tf_512.in21k_ft_in1k',\n",
       " 'maxvit_large_tf_224.in1k',\n",
       " 'maxvit_large_tf_224.in21k',\n",
       " 'maxvit_large_tf_384.in1k',\n",
       " 'maxvit_large_tf_384.in21k_ft_in1k',\n",
       " 'maxvit_large_tf_512.in1k',\n",
       " 'maxvit_large_tf_512.in21k_ft_in1k',\n",
       " 'maxvit_nano_rw_256.sw_in1k',\n",
       " 'maxvit_rmlp_base_rw_224.sw_in12k',\n",
       " 'maxvit_rmlp_base_rw_224.sw_in12k_ft_in1k',\n",
       " 'maxvit_rmlp_base_rw_384.sw_in12k_ft_in1k',\n",
       " 'maxvit_rmlp_nano_rw_256.sw_in1k',\n",
       " 'maxvit_rmlp_pico_rw_256.sw_in1k',\n",
       " 'maxvit_rmlp_small_rw_224.sw_in1k',\n",
       " 'maxvit_rmlp_tiny_rw_256.sw_in1k',\n",
       " 'maxvit_small_tf_224.in1k',\n",
       " 'maxvit_small_tf_384.in1k',\n",
       " 'maxvit_small_tf_512.in1k',\n",
       " 'maxvit_tiny_rw_224.sw_in1k',\n",
       " 'maxvit_tiny_tf_224.in1k',\n",
       " 'maxvit_tiny_tf_384.in1k',\n",
       " 'maxvit_tiny_tf_512.in1k',\n",
       " 'maxvit_xlarge_tf_224.in21k',\n",
       " 'maxvit_xlarge_tf_384.in21k_ft_in1k',\n",
       " 'maxvit_xlarge_tf_512.in21k_ft_in1k',\n",
       " 'maxxvit_rmlp_nano_rw_256.sw_in1k',\n",
       " 'maxxvit_rmlp_small_rw_256.sw_in1k',\n",
       " 'maxxvitv2_nano_rw_256.sw_in1k',\n",
       " 'maxxvitv2_rmlp_base_rw_224.sw_in12k',\n",
       " 'maxxvitv2_rmlp_base_rw_224.sw_in12k_ft_in1k',\n",
       " 'maxxvitv2_rmlp_base_rw_384.sw_in12k_ft_in1k',\n",
       " 'mixer_b16_224.goog_in21k',\n",
       " 'mixer_b16_224.goog_in21k_ft_in1k',\n",
       " 'mixer_b16_224.miil_in21k',\n",
       " 'mixer_b16_224.miil_in21k_ft_in1k',\n",
       " 'mixer_l16_224.goog_in21k',\n",
       " 'mixer_l16_224.goog_in21k_ft_in1k',\n",
       " 'mixnet_l.ft_in1k',\n",
       " 'mixnet_m.ft_in1k',\n",
       " 'mixnet_s.ft_in1k',\n",
       " 'mixnet_xl.ra_in1k',\n",
       " 'mnasnet_100.rmsp_in1k',\n",
       " 'mnasnet_small.lamb_in1k',\n",
       " 'mobilenetv2_050.lamb_in1k',\n",
       " 'mobilenetv2_100.ra_in1k',\n",
       " 'mobilenetv2_110d.ra_in1k',\n",
       " 'mobilenetv2_120d.ra_in1k',\n",
       " 'mobilenetv2_140.ra_in1k',\n",
       " 'mobilenetv3_large_100.miil_in21k',\n",
       " 'mobilenetv3_large_100.miil_in21k_ft_in1k',\n",
       " 'mobilenetv3_large_100.ra_in1k',\n",
       " 'mobilenetv3_rw.rmsp_in1k',\n",
       " 'mobilenetv3_small_050.lamb_in1k',\n",
       " 'mobilenetv3_small_075.lamb_in1k',\n",
       " 'mobilenetv3_small_100.lamb_in1k',\n",
       " 'mobileone_s0.apple_in1k',\n",
       " 'mobileone_s1.apple_in1k',\n",
       " 'mobileone_s2.apple_in1k',\n",
       " 'mobileone_s3.apple_in1k',\n",
       " 'mobileone_s4.apple_in1k',\n",
       " 'mobilevit_s.cvnets_in1k',\n",
       " 'mobilevit_xs.cvnets_in1k',\n",
       " 'mobilevit_xxs.cvnets_in1k',\n",
       " 'mobilevitv2_050.cvnets_in1k',\n",
       " 'mobilevitv2_075.cvnets_in1k',\n",
       " 'mobilevitv2_100.cvnets_in1k',\n",
       " 'mobilevitv2_125.cvnets_in1k',\n",
       " 'mobilevitv2_150.cvnets_in1k',\n",
       " 'mobilevitv2_150.cvnets_in22k_ft_in1k',\n",
       " 'mobilevitv2_150.cvnets_in22k_ft_in1k_384',\n",
       " 'mobilevitv2_175.cvnets_in1k',\n",
       " 'mobilevitv2_175.cvnets_in22k_ft_in1k',\n",
       " 'mobilevitv2_175.cvnets_in22k_ft_in1k_384',\n",
       " 'mobilevitv2_200.cvnets_in1k',\n",
       " 'mobilevitv2_200.cvnets_in22k_ft_in1k',\n",
       " 'mobilevitv2_200.cvnets_in22k_ft_in1k_384',\n",
       " 'mvitv2_base.fb_in1k',\n",
       " 'mvitv2_base_cls.fb_inw21k',\n",
       " 'mvitv2_huge_cls.fb_inw21k',\n",
       " 'mvitv2_large.fb_in1k',\n",
       " 'mvitv2_large_cls.fb_inw21k',\n",
       " 'mvitv2_small.fb_in1k',\n",
       " 'mvitv2_tiny.fb_in1k',\n",
       " 'nasnetalarge.tf_in1k',\n",
       " 'nest_base_jx.goog_in1k',\n",
       " 'nest_small_jx.goog_in1k',\n",
       " 'nest_tiny_jx.goog_in1k',\n",
       " 'nextvit_base.bd_in1k',\n",
       " 'nextvit_base.bd_in1k_384',\n",
       " 'nextvit_base.bd_ssld_6m_in1k',\n",
       " 'nextvit_base.bd_ssld_6m_in1k_384',\n",
       " 'nextvit_large.bd_in1k',\n",
       " 'nextvit_large.bd_in1k_384',\n",
       " 'nextvit_large.bd_ssld_6m_in1k',\n",
       " 'nextvit_large.bd_ssld_6m_in1k_384',\n",
       " 'nextvit_small.bd_in1k',\n",
       " 'nextvit_small.bd_in1k_384',\n",
       " 'nextvit_small.bd_ssld_6m_in1k',\n",
       " 'nextvit_small.bd_ssld_6m_in1k_384',\n",
       " 'nf_regnet_b1.ra2_in1k',\n",
       " 'nf_resnet50.ra2_in1k',\n",
       " 'nfnet_l0.ra2_in1k',\n",
       " 'pit_b_224.in1k',\n",
       " 'pit_b_distilled_224.in1k',\n",
       " 'pit_s_224.in1k',\n",
       " 'pit_s_distilled_224.in1k',\n",
       " 'pit_ti_224.in1k',\n",
       " 'pit_ti_distilled_224.in1k',\n",
       " 'pit_xs_224.in1k',\n",
       " 'pit_xs_distilled_224.in1k',\n",
       " 'pnasnet5large.tf_in1k',\n",
       " 'poolformer_m36.sail_in1k',\n",
       " 'poolformer_m48.sail_in1k',\n",
       " 'poolformer_s12.sail_in1k',\n",
       " 'poolformer_s24.sail_in1k',\n",
       " 'poolformer_s36.sail_in1k',\n",
       " 'poolformerv2_m36.sail_in1k',\n",
       " 'poolformerv2_m48.sail_in1k',\n",
       " 'poolformerv2_s12.sail_in1k',\n",
       " 'poolformerv2_s24.sail_in1k',\n",
       " 'poolformerv2_s36.sail_in1k',\n",
       " 'pvt_v2_b0.in1k',\n",
       " 'pvt_v2_b1.in1k',\n",
       " 'pvt_v2_b2.in1k',\n",
       " 'pvt_v2_b2_li.in1k',\n",
       " 'pvt_v2_b3.in1k',\n",
       " 'pvt_v2_b4.in1k',\n",
       " 'pvt_v2_b5.in1k',\n",
       " 'regnetv_040.ra3_in1k',\n",
       " 'regnetv_064.ra3_in1k',\n",
       " 'regnetx_002.pycls_in1k',\n",
       " 'regnetx_004.pycls_in1k',\n",
       " 'regnetx_004_tv.tv2_in1k',\n",
       " 'regnetx_006.pycls_in1k',\n",
       " 'regnetx_008.pycls_in1k',\n",
       " 'regnetx_008.tv2_in1k',\n",
       " 'regnetx_016.pycls_in1k',\n",
       " 'regnetx_016.tv2_in1k',\n",
       " 'regnetx_032.pycls_in1k',\n",
       " 'regnetx_032.tv2_in1k',\n",
       " 'regnetx_040.pycls_in1k',\n",
       " 'regnetx_064.pycls_in1k',\n",
       " 'regnetx_080.pycls_in1k',\n",
       " 'regnetx_080.tv2_in1k',\n",
       " 'regnetx_120.pycls_in1k',\n",
       " 'regnetx_160.pycls_in1k',\n",
       " 'regnetx_160.tv2_in1k',\n",
       " 'regnetx_320.pycls_in1k',\n",
       " 'regnetx_320.tv2_in1k',\n",
       " 'regnety_002.pycls_in1k',\n",
       " 'regnety_004.pycls_in1k',\n",
       " 'regnety_004.tv2_in1k',\n",
       " 'regnety_006.pycls_in1k',\n",
       " 'regnety_008.pycls_in1k',\n",
       " 'regnety_008_tv.tv2_in1k',\n",
       " 'regnety_016.pycls_in1k',\n",
       " 'regnety_016.tv2_in1k',\n",
       " 'regnety_032.pycls_in1k',\n",
       " 'regnety_032.ra_in1k',\n",
       " 'regnety_032.tv2_in1k',\n",
       " 'regnety_040.pycls_in1k',\n",
       " 'regnety_040.ra3_in1k',\n",
       " 'regnety_064.pycls_in1k',\n",
       " 'regnety_064.ra3_in1k',\n",
       " 'regnety_080.pycls_in1k',\n",
       " 'regnety_080.ra3_in1k',\n",
       " 'regnety_080_tv.tv2_in1k',\n",
       " 'regnety_120.pycls_in1k',\n",
       " 'regnety_120.sw_in12k',\n",
       " 'regnety_120.sw_in12k_ft_in1k',\n",
       " 'regnety_160.deit_in1k',\n",
       " 'regnety_160.lion_in12k_ft_in1k',\n",
       " 'regnety_160.pycls_in1k',\n",
       " 'regnety_160.sw_in12k',\n",
       " 'regnety_160.sw_in12k_ft_in1k',\n",
       " 'regnety_160.swag_ft_in1k',\n",
       " 'regnety_160.swag_lc_in1k',\n",
       " 'regnety_160.tv2_in1k',\n",
       " 'regnety_320.pycls_in1k',\n",
       " 'regnety_320.seer',\n",
       " 'regnety_320.seer_ft_in1k',\n",
       " 'regnety_320.swag_ft_in1k',\n",
       " 'regnety_320.swag_lc_in1k',\n",
       " 'regnety_320.tv2_in1k',\n",
       " 'regnety_640.seer',\n",
       " 'regnety_640.seer_ft_in1k',\n",
       " 'regnety_1280.seer',\n",
       " 'regnety_1280.seer_ft_in1k',\n",
       " 'regnety_1280.swag_ft_in1k',\n",
       " 'regnety_1280.swag_lc_in1k',\n",
       " 'regnety_2560.seer_ft_in1k',\n",
       " 'regnetz_040.ra3_in1k',\n",
       " 'regnetz_040_h.ra3_in1k',\n",
       " 'regnetz_b16.ra3_in1k',\n",
       " 'regnetz_c16.ra3_in1k',\n",
       " 'regnetz_c16_evos.ch_in1k',\n",
       " 'regnetz_d8.ra3_in1k',\n",
       " 'regnetz_d8_evos.ch_in1k',\n",
       " 'regnetz_d32.ra3_in1k',\n",
       " 'regnetz_e8.ra3_in1k',\n",
       " 'repghostnet_050.in1k',\n",
       " 'repghostnet_058.in1k',\n",
       " 'repghostnet_080.in1k',\n",
       " 'repghostnet_100.in1k',\n",
       " 'repghostnet_111.in1k',\n",
       " 'repghostnet_130.in1k',\n",
       " 'repghostnet_150.in1k',\n",
       " 'repghostnet_200.in1k',\n",
       " 'repvgg_a0.rvgg_in1k',\n",
       " 'repvgg_a1.rvgg_in1k',\n",
       " 'repvgg_a2.rvgg_in1k',\n",
       " 'repvgg_b0.rvgg_in1k',\n",
       " 'repvgg_b1.rvgg_in1k',\n",
       " 'repvgg_b1g4.rvgg_in1k',\n",
       " 'repvgg_b2.rvgg_in1k',\n",
       " 'repvgg_b2g4.rvgg_in1k',\n",
       " 'repvgg_b3.rvgg_in1k',\n",
       " 'repvgg_b3g4.rvgg_in1k',\n",
       " 'repvgg_d2se.rvgg_in1k',\n",
       " 'repvit_m0_9.dist_300e_in1k',\n",
       " 'repvit_m0_9.dist_450e_in1k',\n",
       " 'repvit_m1.dist_in1k',\n",
       " 'repvit_m1_0.dist_300e_in1k',\n",
       " 'repvit_m1_0.dist_450e_in1k',\n",
       " 'repvit_m1_1.dist_300e_in1k',\n",
       " 'repvit_m1_1.dist_450e_in1k',\n",
       " 'repvit_m1_5.dist_300e_in1k',\n",
       " 'repvit_m1_5.dist_450e_in1k',\n",
       " 'repvit_m2.dist_in1k',\n",
       " 'repvit_m2_3.dist_300e_in1k',\n",
       " 'repvit_m2_3.dist_450e_in1k',\n",
       " 'repvit_m3.dist_in1k',\n",
       " 'res2net50_14w_8s.in1k',\n",
       " 'res2net50_26w_4s.in1k',\n",
       " 'res2net50_26w_6s.in1k',\n",
       " 'res2net50_26w_8s.in1k',\n",
       " 'res2net50_48w_2s.in1k',\n",
       " 'res2net50d.in1k',\n",
       " 'res2net101_26w_4s.in1k',\n",
       " 'res2net101d.in1k',\n",
       " 'res2next50.in1k',\n",
       " 'resmlp_12_224.fb_dino',\n",
       " 'resmlp_12_224.fb_distilled_in1k',\n",
       " 'resmlp_12_224.fb_in1k',\n",
       " 'resmlp_24_224.fb_dino',\n",
       " 'resmlp_24_224.fb_distilled_in1k',\n",
       " 'resmlp_24_224.fb_in1k',\n",
       " 'resmlp_36_224.fb_distilled_in1k',\n",
       " 'resmlp_36_224.fb_in1k',\n",
       " 'resmlp_big_24_224.fb_distilled_in1k',\n",
       " 'resmlp_big_24_224.fb_in1k',\n",
       " 'resmlp_big_24_224.fb_in22k_ft_in1k',\n",
       " 'resnest14d.gluon_in1k',\n",
       " 'resnest26d.gluon_in1k',\n",
       " 'resnest50d.in1k',\n",
       " 'resnest50d_1s4x24d.in1k',\n",
       " 'resnest50d_4s2x40d.in1k',\n",
       " 'resnest101e.in1k',\n",
       " 'resnest200e.in1k',\n",
       " 'resnest269e.in1k',\n",
       " 'resnet10t.c3_in1k',\n",
       " 'resnet14t.c3_in1k',\n",
       " 'resnet18.a1_in1k',\n",
       " 'resnet18.a2_in1k',\n",
       " 'resnet18.a3_in1k',\n",
       " 'resnet18.fb_ssl_yfcc100m_ft_in1k',\n",
       " 'resnet18.fb_swsl_ig1b_ft_in1k',\n",
       " 'resnet18.gluon_in1k',\n",
       " 'resnet18.tv_in1k',\n",
       " 'resnet18d.ra2_in1k',\n",
       " 'resnet26.bt_in1k',\n",
       " 'resnet26d.bt_in1k',\n",
       " 'resnet26t.ra2_in1k',\n",
       " 'resnet32ts.ra2_in1k',\n",
       " 'resnet33ts.ra2_in1k',\n",
       " 'resnet34.a1_in1k',\n",
       " 'resnet34.a2_in1k',\n",
       " 'resnet34.a3_in1k',\n",
       " 'resnet34.bt_in1k',\n",
       " 'resnet34.gluon_in1k',\n",
       " 'resnet34.tv_in1k',\n",
       " 'resnet34d.ra2_in1k',\n",
       " 'resnet50.a1_in1k',\n",
       " 'resnet50.a1h_in1k',\n",
       " 'resnet50.a2_in1k',\n",
       " 'resnet50.a3_in1k',\n",
       " 'resnet50.am_in1k',\n",
       " 'resnet50.b1k_in1k',\n",
       " 'resnet50.b2k_in1k',\n",
       " 'resnet50.bt_in1k',\n",
       " 'resnet50.c1_in1k',\n",
       " 'resnet50.c2_in1k',\n",
       " 'resnet50.d_in1k',\n",
       " 'resnet50.fb_ssl_yfcc100m_ft_in1k',\n",
       " 'resnet50.fb_swsl_ig1b_ft_in1k',\n",
       " 'resnet50.gluon_in1k',\n",
       " 'resnet50.ra_in1k',\n",
       " 'resnet50.ram_in1k',\n",
       " 'resnet50.tv2_in1k',\n",
       " 'resnet50.tv_in1k',\n",
       " 'resnet50_gn.a1h_in1k',\n",
       " 'resnet50c.gluon_in1k',\n",
       " 'resnet50d.a1_in1k',\n",
       " 'resnet50d.a2_in1k',\n",
       " 'resnet50d.a3_in1k',\n",
       " 'resnet50d.gluon_in1k',\n",
       " 'resnet50d.ra2_in1k',\n",
       " 'resnet50s.gluon_in1k',\n",
       " 'resnet51q.ra2_in1k',\n",
       " 'resnet61q.ra2_in1k',\n",
       " 'resnet101.a1_in1k',\n",
       " 'resnet101.a1h_in1k',\n",
       " 'resnet101.a2_in1k',\n",
       " 'resnet101.a3_in1k',\n",
       " 'resnet101.gluon_in1k',\n",
       " 'resnet101.tv2_in1k',\n",
       " 'resnet101.tv_in1k',\n",
       " 'resnet101c.gluon_in1k',\n",
       " 'resnet101d.gluon_in1k',\n",
       " 'resnet101d.ra2_in1k',\n",
       " 'resnet101s.gluon_in1k',\n",
       " 'resnet152.a1_in1k',\n",
       " 'resnet152.a1h_in1k',\n",
       " 'resnet152.a2_in1k',\n",
       " 'resnet152.a3_in1k',\n",
       " 'resnet152.gluon_in1k',\n",
       " 'resnet152.tv2_in1k',\n",
       " 'resnet152.tv_in1k',\n",
       " 'resnet152c.gluon_in1k',\n",
       " 'resnet152d.gluon_in1k',\n",
       " 'resnet152d.ra2_in1k',\n",
       " 'resnet152s.gluon_in1k',\n",
       " 'resnet200d.ra2_in1k',\n",
       " 'resnetaa50.a1h_in1k',\n",
       " 'resnetaa50d.d_in12k',\n",
       " 'resnetaa50d.sw_in12k',\n",
       " 'resnetaa50d.sw_in12k_ft_in1k',\n",
       " 'resnetaa101d.sw_in12k',\n",
       " 'resnetaa101d.sw_in12k_ft_in1k',\n",
       " 'resnetblur50.bt_in1k',\n",
       " 'resnetrs50.tf_in1k',\n",
       " 'resnetrs101.tf_in1k',\n",
       " 'resnetrs152.tf_in1k',\n",
       " 'resnetrs200.tf_in1k',\n",
       " 'resnetrs270.tf_in1k',\n",
       " 'resnetrs350.tf_in1k',\n",
       " 'resnetrs420.tf_in1k',\n",
       " 'resnetv2_50.a1h_in1k',\n",
       " 'resnetv2_50d_evos.ah_in1k',\n",
       " 'resnetv2_50d_gn.ah_in1k',\n",
       " 'resnetv2_50x1_bit.goog_distilled_in1k',\n",
       " 'resnetv2_50x1_bit.goog_in21k',\n",
       " 'resnetv2_50x1_bit.goog_in21k_ft_in1k',\n",
       " 'resnetv2_50x3_bit.goog_in21k',\n",
       " 'resnetv2_50x3_bit.goog_in21k_ft_in1k',\n",
       " 'resnetv2_101.a1h_in1k',\n",
       " 'resnetv2_101x1_bit.goog_in21k',\n",
       " 'resnetv2_101x1_bit.goog_in21k_ft_in1k',\n",
       " 'resnetv2_101x3_bit.goog_in21k',\n",
       " 'resnetv2_101x3_bit.goog_in21k_ft_in1k',\n",
       " 'resnetv2_152x2_bit.goog_in21k',\n",
       " 'resnetv2_152x2_bit.goog_in21k_ft_in1k',\n",
       " 'resnetv2_152x2_bit.goog_teacher_in21k_ft_in1k',\n",
       " 'resnetv2_152x2_bit.goog_teacher_in21k_ft_in1k_384',\n",
       " 'resnetv2_152x4_bit.goog_in21k',\n",
       " 'resnetv2_152x4_bit.goog_in21k_ft_in1k',\n",
       " 'resnext26ts.ra2_in1k',\n",
       " 'resnext50_32x4d.a1_in1k',\n",
       " 'resnext50_32x4d.a1h_in1k',\n",
       " 'resnext50_32x4d.a2_in1k',\n",
       " 'resnext50_32x4d.a3_in1k',\n",
       " 'resnext50_32x4d.fb_ssl_yfcc100m_ft_in1k',\n",
       " 'resnext50_32x4d.fb_swsl_ig1b_ft_in1k',\n",
       " 'resnext50_32x4d.gluon_in1k',\n",
       " 'resnext50_32x4d.ra_in1k',\n",
       " 'resnext50_32x4d.tv2_in1k',\n",
       " 'resnext50_32x4d.tv_in1k',\n",
       " 'resnext50d_32x4d.bt_in1k',\n",
       " 'resnext101_32x4d.fb_ssl_yfcc100m_ft_in1k',\n",
       " 'resnext101_32x4d.fb_swsl_ig1b_ft_in1k',\n",
       " 'resnext101_32x4d.gluon_in1k',\n",
       " 'resnext101_32x8d.fb_ssl_yfcc100m_ft_in1k',\n",
       " 'resnext101_32x8d.fb_swsl_ig1b_ft_in1k',\n",
       " 'resnext101_32x8d.fb_wsl_ig1b_ft_in1k',\n",
       " 'resnext101_32x8d.tv2_in1k',\n",
       " 'resnext101_32x8d.tv_in1k',\n",
       " 'resnext101_32x16d.fb_ssl_yfcc100m_ft_in1k',\n",
       " 'resnext101_32x16d.fb_swsl_ig1b_ft_in1k',\n",
       " 'resnext101_32x16d.fb_wsl_ig1b_ft_in1k',\n",
       " 'resnext101_32x32d.fb_wsl_ig1b_ft_in1k',\n",
       " 'resnext101_64x4d.c1_in1k',\n",
       " 'resnext101_64x4d.gluon_in1k',\n",
       " 'resnext101_64x4d.tv_in1k',\n",
       " 'rexnet_100.nav_in1k',\n",
       " 'rexnet_130.nav_in1k',\n",
       " 'rexnet_150.nav_in1k',\n",
       " 'rexnet_200.nav_in1k',\n",
       " 'rexnet_300.nav_in1k',\n",
       " 'rexnetr_200.sw_in12k',\n",
       " 'rexnetr_200.sw_in12k_ft_in1k',\n",
       " 'rexnetr_300.sw_in12k',\n",
       " 'rexnetr_300.sw_in12k_ft_in1k',\n",
       " 'samvit_base_patch16.sa1b',\n",
       " 'samvit_huge_patch16.sa1b',\n",
       " 'samvit_large_patch16.sa1b',\n",
       " 'sebotnet33ts_256.a1h_in1k',\n",
       " 'sehalonet33ts.ra2_in1k',\n",
       " 'selecsls42b.in1k',\n",
       " 'selecsls60.in1k',\n",
       " 'selecsls60b.in1k',\n",
       " 'semnasnet_075.rmsp_in1k',\n",
       " 'semnasnet_100.rmsp_in1k',\n",
       " 'senet154.gluon_in1k',\n",
       " 'sequencer2d_l.in1k',\n",
       " 'sequencer2d_m.in1k',\n",
       " 'sequencer2d_s.in1k',\n",
       " 'seresnet33ts.ra2_in1k',\n",
       " 'seresnet50.a1_in1k',\n",
       " 'seresnet50.a2_in1k',\n",
       " 'seresnet50.a3_in1k',\n",
       " 'seresnet50.ra2_in1k',\n",
       " 'seresnet152d.ra2_in1k',\n",
       " 'seresnext26d_32x4d.bt_in1k',\n",
       " 'seresnext26t_32x4d.bt_in1k',\n",
       " 'seresnext26ts.ch_in1k',\n",
       " 'seresnext50_32x4d.gluon_in1k',\n",
       " 'seresnext50_32x4d.racm_in1k',\n",
       " 'seresnext101_32x4d.gluon_in1k',\n",
       " 'seresnext101_32x8d.ah_in1k',\n",
       " 'seresnext101_64x4d.gluon_in1k',\n",
       " 'seresnext101d_32x8d.ah_in1k',\n",
       " 'seresnextaa101d_32x8d.ah_in1k',\n",
       " 'seresnextaa101d_32x8d.sw_in12k',\n",
       " 'seresnextaa101d_32x8d.sw_in12k_ft_in1k',\n",
       " 'seresnextaa101d_32x8d.sw_in12k_ft_in1k_288',\n",
       " 'seresnextaa201d_32x8d.sw_in12k',\n",
       " 'seresnextaa201d_32x8d.sw_in12k_ft_in1k_384',\n",
       " 'skresnet18.ra_in1k',\n",
       " 'skresnet34.ra_in1k',\n",
       " 'skresnext50_32x4d.ra_in1k',\n",
       " 'spnasnet_100.rmsp_in1k',\n",
       " 'swin_base_patch4_window7_224.ms_in1k',\n",
       " 'swin_base_patch4_window7_224.ms_in22k',\n",
       " 'swin_base_patch4_window7_224.ms_in22k_ft_in1k',\n",
       " 'swin_base_patch4_window12_384.ms_in1k',\n",
       " 'swin_base_patch4_window12_384.ms_in22k',\n",
       " 'swin_base_patch4_window12_384.ms_in22k_ft_in1k',\n",
       " 'swin_large_patch4_window7_224.ms_in22k',\n",
       " 'swin_large_patch4_window7_224.ms_in22k_ft_in1k',\n",
       " 'swin_large_patch4_window12_384.ms_in22k',\n",
       " 'swin_large_patch4_window12_384.ms_in22k_ft_in1k',\n",
       " 'swin_s3_base_224.ms_in1k',\n",
       " 'swin_s3_small_224.ms_in1k',\n",
       " 'swin_s3_tiny_224.ms_in1k',\n",
       " 'swin_small_patch4_window7_224.ms_in1k',\n",
       " 'swin_small_patch4_window7_224.ms_in22k',\n",
       " 'swin_small_patch4_window7_224.ms_in22k_ft_in1k',\n",
       " 'swin_tiny_patch4_window7_224.ms_in1k',\n",
       " 'swin_tiny_patch4_window7_224.ms_in22k',\n",
       " 'swin_tiny_patch4_window7_224.ms_in22k_ft_in1k',\n",
       " 'swinv2_base_window8_256.ms_in1k',\n",
       " 'swinv2_base_window12_192.ms_in22k',\n",
       " 'swinv2_base_window12to16_192to256.ms_in22k_ft_in1k',\n",
       " 'swinv2_base_window12to24_192to384.ms_in22k_ft_in1k',\n",
       " 'swinv2_base_window16_256.ms_in1k',\n",
       " 'swinv2_cr_small_224.sw_in1k',\n",
       " 'swinv2_cr_small_ns_224.sw_in1k',\n",
       " 'swinv2_cr_tiny_ns_224.sw_in1k',\n",
       " 'swinv2_large_window12_192.ms_in22k',\n",
       " 'swinv2_large_window12to16_192to256.ms_in22k_ft_in1k',\n",
       " 'swinv2_large_window12to24_192to384.ms_in22k_ft_in1k',\n",
       " 'swinv2_small_window8_256.ms_in1k',\n",
       " 'swinv2_small_window16_256.ms_in1k',\n",
       " 'swinv2_tiny_window8_256.ms_in1k',\n",
       " 'swinv2_tiny_window16_256.ms_in1k',\n",
       " 'tf_efficientnet_b0.aa_in1k',\n",
       " 'tf_efficientnet_b0.ap_in1k',\n",
       " 'tf_efficientnet_b0.in1k',\n",
       " 'tf_efficientnet_b0.ns_jft_in1k',\n",
       " ...]"
      ]
     },
     "execution_count": 1,
     "metadata": {},
     "output_type": "execute_result"
    }
   ],
   "source": [
    "import timm\n",
    "timm.list_models(pretrained=True)"
   ]
  },
  {
   "cell_type": "code",
   "execution_count": null,
   "id": "942b670a-f719-460f-abdd-c971feb2b770",
   "metadata": {},
   "outputs": [],
   "source": []
  },
  {
   "cell_type": "code",
   "execution_count": 2,
   "id": "d3eaf88b-46a3-4a5e-80dc-6b999ecbe13c",
   "metadata": {},
   "outputs": [],
   "source": [
    "import glob\n",
    "import numpy as np\n",
    "from pathlib import Path\n",
    "import shutil\n",
    "\n",
    "def create_pcb_train_val_test(data_dir='PCBData',\n",
    "                              train_dir='PCBData/train',\n",
    "                              val_dir='PCBData/val',\n",
    "                              test_dir='PCBData/test'\n",
    "                             ):\n",
    "    #all_files = glob.glob(data_dir+'/@(NG|OK)/*.jpg', flags=pathlib.GLOBSTAR | pathlib.EXTGLOB)\n",
    "    ng_files = sorted(glob.glob(data_dir+\"/NG/*.jpg\"))\n",
    "    n_ng = len(ng_files)\n",
    "    ok_files = sorted(glob.glob(data_dir+\"/OK/*.jpg\"))\n",
    "    n_ok = len(ok_files)\n",
    "    #creating a new directory called pythondirectory\n",
    "    Path(train_dir+'/OK').mkdir(parents=True, exist_ok=True)\n",
    "    Path(train_dir+'/NG').mkdir(parents=True, exist_ok=True)\n",
    "    Path(val_dir+'/OK').mkdir(parents=True, exist_ok=True)\n",
    "    Path(val_dir+'/NG').mkdir(parents=True, exist_ok=True)\n",
    "    np.random.seed(42)\n",
    "    perm = np.random.permutation(n_ng)\n",
    "    n_train = int(n_ng*0.9)\n",
    "    if n_train%2 == 1:\n",
    "        n_train -= 1\n",
    "    src_files = ng_files\n",
    "    \n",
    "    train_idx = perm[:n_train]\n",
    "    val_idx = perm[n_train:]\n",
    "    for i in train_idx:\n",
    "        src = src_files[i]\n",
    "        dst = train_dir+src.replace(data_dir, '')\n",
    "        shutil.copyfile(src, dst)\n",
    "    for i in val_idx:\n",
    "        src = src_files[i]\n",
    "        dst = val_dir+src.replace(data_dir, '')\n",
    "        shutil.copyfile(src, dst)\n",
    "        \n",
    "    perm = np.random.permutation(n_ok)\n",
    "    n_train = int(n_ok*0.9)\n",
    "    if n_train%2 == 1:\n",
    "        n_train -= 1\n",
    "    src_files = ok_files\n",
    "    \n",
    "    train_idx = perm[:n_train]\n",
    "    val_idx = perm[n_train:]\n",
    "    for i in train_idx:\n",
    "        src = src_files[i]\n",
    "        dst = train_dir+src.replace(data_dir, '')\n",
    "        shutil.copyfile(src, dst)\n",
    "    for i in val_idx:\n",
    "        src = src_files[i]\n",
    "        dst = val_dir+src.replace(data_dir, '')\n",
    "        shutil.copyfile(src, dst)\n",
    "        \n",
    "#create_pcb_train_val_test()"
   ]
  },
  {
   "cell_type": "code",
   "execution_count": 2,
   "id": "1c47d262-31f7-42c2-afcf-0319ec268b7d",
   "metadata": {},
   "outputs": [],
   "source": [
    "from pytorch_accelerated.trainer import Trainer, DEFAULT_CALLBACKS"
   ]
  },
  {
   "cell_type": "code",
   "execution_count": 10,
   "id": "eedfa32d-4f66-4078-a335-c0696f045c40",
   "metadata": {},
   "outputs": [
    {
     "data": {
      "text/plain": [
       "[pytorch_accelerated.callbacks.MoveModulesToDeviceCallback,\n",
       " pytorch_accelerated.callbacks.TerminateOnNaNCallback,\n",
       " pytorch_accelerated.callbacks.PrintProgressCallback,\n",
       " pytorch_accelerated.callbacks.LogMetricsCallback,\n",
       " 0]"
      ]
     },
     "execution_count": 10,
     "metadata": {},
     "output_type": "execute_result"
    }
   ],
   "source": [
    "callbacks = list(DEFAULT_CALLBACKS)\n",
    "callbacks.pop(3)\n",
    "[*callbacks, 0]"
   ]
  },
  {
   "cell_type": "code",
   "execution_count": 3,
   "id": "fcf90cbc-5401-4a51-b7e6-fd73b2559f4b",
   "metadata": {},
   "outputs": [
    {
     "data": {
      "application/vnd.jupyter.widget-view+json": {
       "model_id": "aeab2bdf46fb42d2b3fdcb67bc04c747",
       "version_major": 2,
       "version_minor": 0
      },
      "text/plain": [
       "model.safetensors:   0%|          | 0.00/195M [00:00<?, ?B/s]"
      ]
     },
     "metadata": {},
     "output_type": "display_data"
    },
    {
     "name": "stdout",
     "output_type": "stream",
     "text": [
      "Launching training on 4 GPUs.\n"
     ]
    },
    {
     "name": "stderr",
     "output_type": "stream",
     "text": [
      "/home/kotech/venv-lightning/lib/python3.8/site-packages/pytorch_accelerated/trainer.py:708: UserWarning: The per device batch size 32 with the eval dataset size 1278 and the number of processes 4 will cause one process to have a smaller number of samples on the last batch than the rest, which would lead to a `Trainer.gather` to freeze indefinitely. This can be resolved by passing a `padding_value` to the `Trainer.gather`.\n",
      "  warnings.warn(\n",
      "/home/kotech/venv-lightning/lib/python3.8/site-packages/pytorch_accelerated/trainer.py:708: UserWarning: The per device batch size 32 with the eval dataset size 1278 and the number of processes 4 will cause one process to have a smaller number of samples on the last batch than the rest, which would lead to a `Trainer.gather` to freeze indefinitely. This can be resolved by passing a `padding_value` to the `Trainer.gather`.\n",
      "  warnings.warn(\n",
      "/home/kotech/venv-lightning/lib/python3.8/site-packages/pytorch_accelerated/trainer.py:708: UserWarning: The per device batch size 32 with the eval dataset size 1278 and the number of processes 4 will cause one process to have a smaller number of samples on the last batch than the rest, which would lead to a `Trainer.gather` to freeze indefinitely. This can be resolved by passing a `padding_value` to the `Trainer.gather`.\n",
      "  warnings.warn(\n",
      "/home/kotech/venv-lightning/lib/python3.8/site-packages/pytorch_accelerated/trainer.py:708: UserWarning: The per device batch size 32 with the eval dataset size 1278 and the number of processes 4 will cause one process to have a smaller number of samples on the last batch than the rest, which would lead to a `Trainer.gather` to freeze indefinitely. This can be resolved by passing a `padding_value` to the `Trainer.gather`.\n",
      "  warnings.warn(\n"
     ]
    },
    {
     "name": "stdout",
     "output_type": "stream",
     "text": [
      "\n",
      "Starting training run\n",
      "\n",
      "Starting epoch 1\n"
     ]
    },
    {
     "data": {
      "application/vnd.jupyter.widget-view+json": {
       "model_id": "d5525aa7dfc24d16938aa71ad1349de4",
       "version_major": 2,
       "version_minor": 0
      },
      "text/plain": [
       "  0%|          | 0/90 [00:00<?, ?it/s]"
      ]
     },
     "metadata": {},
     "output_type": "display_data"
    },
    {
     "name": "stdout",
     "output_type": "stream",
     "text": [
      "\n",
      "train_loss_epoch: 0.372982919216156\n"
     ]
    },
    {
     "data": {
      "application/vnd.jupyter.widget-view+json": {
       "model_id": "bfc5a15018324d37b31146af163dd3df",
       "version_major": 2,
       "version_minor": 0
      },
      "text/plain": [
       "  0%|          | 0/10 [00:00<?, ?it/s]"
      ]
     },
     "metadata": {},
     "output_type": "display_data"
    },
    {
     "name": "stdout",
     "output_type": "stream",
     "text": [
      "\n",
      "accuracy: 0.9217527508735657\n",
      "\n",
      "ema_model_accuracy: 0.25039124488830566\n",
      "\n",
      "lr: 0.0001\n",
      "\n",
      "eval_loss_epoch: 0.20144127309322357\n",
      "\n",
      "Starting epoch 2\n"
     ]
    },
    {
     "data": {
      "application/vnd.jupyter.widget-view+json": {
       "model_id": "332a587659bd4b4088d3c3cba2528c2e",
       "version_major": 2,
       "version_minor": 0
      },
      "text/plain": [
       "  0%|          | 0/90 [00:00<?, ?it/s]"
      ]
     },
     "metadata": {},
     "output_type": "display_data"
    },
    {
     "name": "stdout",
     "output_type": "stream",
     "text": [
      "\n",
      "train_loss_epoch: 0.40377357602119446\n"
     ]
    },
    {
     "data": {
      "application/vnd.jupyter.widget-view+json": {
       "model_id": "8e575c22bbf14d06852b1ca770577312",
       "version_major": 2,
       "version_minor": 0
      },
      "text/plain": [
       "  0%|          | 0/10 [00:00<?, ?it/s]"
      ]
     },
     "metadata": {},
     "output_type": "display_data"
    },
    {
     "name": "stdout",
     "output_type": "stream",
     "text": [
      "\n",
      "accuracy: 0.9217527508735657\n",
      "\n",
      "ema_model_accuracy: 0.7949921488761902\n",
      "\n",
      "lr: 0.0033666666666666662\n",
      "\n",
      "eval_loss_epoch: 0.20371152460575104\n",
      "\n",
      "Starting epoch 3\n"
     ]
    },
    {
     "data": {
      "application/vnd.jupyter.widget-view+json": {
       "model_id": "dc9ac42141fa47799915d4ebb100169c",
       "version_major": 2,
       "version_minor": 0
      },
      "text/plain": [
       "  0%|          | 0/90 [00:00<?, ?it/s]"
      ]
     },
     "metadata": {},
     "output_type": "display_data"
    },
    {
     "name": "stdout",
     "output_type": "stream",
     "text": [
      "\n",
      "train_loss_epoch: 0.3472804129123688\n"
     ]
    },
    {
     "data": {
      "application/vnd.jupyter.widget-view+json": {
       "model_id": "0bc2cea1d6864f84b252b46c2433da72",
       "version_major": 2,
       "version_minor": 0
      },
      "text/plain": [
       "  0%|          | 0/10 [00:00<?, ?it/s]"
      ]
     },
     "metadata": {},
     "output_type": "display_data"
    },
    {
     "name": "stdout",
     "output_type": "stream",
     "text": [
      "\n",
      "accuracy: 0.8928012251853943\n",
      "\n",
      "ema_model_accuracy: 0.7949921488761902\n",
      "\n",
      "lr: 0.004930938616033993\n",
      "\n",
      "eval_loss_epoch: 0.31642866134643555\n",
      "\n",
      "Starting epoch 4\n"
     ]
    },
    {
     "data": {
      "application/vnd.jupyter.widget-view+json": {
       "model_id": "aedf18fc079f4eb88d5e805c0880e617",
       "version_major": 2,
       "version_minor": 0
      },
      "text/plain": [
       "  0%|          | 0/90 [00:00<?, ?it/s]"
      ]
     },
     "metadata": {},
     "output_type": "display_data"
    },
    {
     "name": "stdout",
     "output_type": "stream",
     "text": [
      "\n",
      "train_loss_epoch: 0.3471025824546814\n"
     ]
    },
    {
     "data": {
      "application/vnd.jupyter.widget-view+json": {
       "model_id": "3f72fb86f9414e99b090757577dc16eb",
       "version_major": 2,
       "version_minor": 0
      },
      "text/plain": [
       "  0%|          | 0/10 [00:00<?, ?it/s]"
      ]
     },
     "metadata": {},
     "output_type": "display_data"
    },
    {
     "name": "stdout",
     "output_type": "stream",
     "text": [
      "\n",
      "accuracy: 0.9170579314231873\n",
      "\n",
      "ema_model_accuracy: 0.7949921488761902\n",
      "\n",
      "lr: 0.004877665762479736\n",
      "\n",
      "eval_loss_epoch: 0.26364293694496155\n",
      "\n",
      "Starting epoch 5\n"
     ]
    },
    {
     "data": {
      "application/vnd.jupyter.widget-view+json": {
       "model_id": "4420eb2e6e7c43deb8fd173bf98763f7",
       "version_major": 2,
       "version_minor": 0
      },
      "text/plain": [
       "  0%|          | 0/90 [00:00<?, ?it/s]"
      ]
     },
     "metadata": {},
     "output_type": "display_data"
    },
    {
     "name": "stdout",
     "output_type": "stream",
     "text": [
      "\n",
      "train_loss_epoch: 0.33598387241363525\n"
     ]
    },
    {
     "data": {
      "application/vnd.jupyter.widget-view+json": {
       "model_id": "13edada90da64a88840a4e5f3d836b28",
       "version_major": 2,
       "version_minor": 0
      },
      "text/plain": [
       "  0%|          | 0/10 [00:00<?, ?it/s]"
      ]
     },
     "metadata": {},
     "output_type": "display_data"
    },
    {
     "name": "stdout",
     "output_type": "stream",
     "text": [
      "\n",
      "accuracy: 0.9381846785545349\n",
      "\n",
      "ema_model_accuracy: 0.7949921488761902\n",
      "\n",
      "lr: 0.004809736891511962\n",
      "\n",
      "eval_loss_epoch: 0.19049552083015442\n",
      "\n",
      "Starting epoch 6\n"
     ]
    },
    {
     "data": {
      "application/vnd.jupyter.widget-view+json": {
       "model_id": "ccefa839cce0460d977063e6a696ff6c",
       "version_major": 2,
       "version_minor": 0
      },
      "text/plain": [
       "  0%|          | 0/90 [00:00<?, ?it/s]"
      ]
     },
     "metadata": {},
     "output_type": "display_data"
    },
    {
     "name": "stdout",
     "output_type": "stream",
     "text": [
      "\n",
      "train_loss_epoch: 0.33308830857276917\n"
     ]
    },
    {
     "data": {
      "application/vnd.jupyter.widget-view+json": {
       "model_id": "ee73c5ed0c9f4d4193cf7f3fd253aedc",
       "version_major": 2,
       "version_minor": 0
      },
      "text/plain": [
       "  0%|          | 0/10 [00:00<?, ?it/s]"
      ]
     },
     "metadata": {},
     "output_type": "display_data"
    },
    {
     "name": "stdout",
     "output_type": "stream",
     "text": [
      "\n",
      "accuracy: 0.9327073693275452\n",
      "\n",
      "ema_model_accuracy: 0.7949921488761902\n",
      "\n",
      "lr: 0.004727570807208825\n",
      "\n",
      "eval_loss_epoch: 0.20614786446094513\n",
      "\n",
      "Starting epoch 7\n"
     ]
    },
    {
     "data": {
      "application/vnd.jupyter.widget-view+json": {
       "model_id": "fff0c64c32e949a19861b19aea5e4b35",
       "version_major": 2,
       "version_minor": 0
      },
      "text/plain": [
       "  0%|          | 0/90 [00:00<?, ?it/s]"
      ]
     },
     "metadata": {},
     "output_type": "display_data"
    },
    {
     "name": "stdout",
     "output_type": "stream",
     "text": [
      "\n",
      "train_loss_epoch: 0.32194656133651733\n"
     ]
    },
    {
     "data": {
      "application/vnd.jupyter.widget-view+json": {
       "model_id": "780aa843c01144a893a767bf72d57044",
       "version_major": 2,
       "version_minor": 0
      },
      "text/plain": [
       "  0%|          | 0/10 [00:00<?, ?it/s]"
      ]
     },
     "metadata": {},
     "output_type": "display_data"
    },
    {
     "name": "stdout",
     "output_type": "stream",
     "text": [
      "\n",
      "accuracy: 0.9366196990013123\n",
      "\n",
      "ema_model_accuracy: 0.7949921488761902\n",
      "\n",
      "lr: 0.004631674090803053\n",
      "\n",
      "eval_loss_epoch: 0.17749112844467163\n",
      "\n",
      "Starting epoch 8\n"
     ]
    },
    {
     "data": {
      "application/vnd.jupyter.widget-view+json": {
       "model_id": "92431d31956d4c6c9fddae1f3a91f7c3",
       "version_major": 2,
       "version_minor": 0
      },
      "text/plain": [
       "  0%|          | 0/90 [00:00<?, ?it/s]"
      ]
     },
     "metadata": {},
     "output_type": "display_data"
    },
    {
     "name": "stdout",
     "output_type": "stream",
     "text": [
      "\n",
      "train_loss_epoch: 0.31551167368888855\n"
     ]
    },
    {
     "data": {
      "application/vnd.jupyter.widget-view+json": {
       "model_id": "cce2c5fd1f084609960ad236b6a45047",
       "version_major": 2,
       "version_minor": 0
      },
      "text/plain": [
       "  0%|          | 0/10 [00:00<?, ?it/s]"
      ]
     },
     "metadata": {},
     "output_type": "display_data"
    },
    {
     "name": "stdout",
     "output_type": "stream",
     "text": [
      "\n",
      "accuracy: 0.9397495985031128\n",
      "\n",
      "ema_model_accuracy: 0.7949921488761902\n",
      "\n",
      "lr: 0.004522637977440181\n",
      "\n",
      "eval_loss_epoch: 0.1781815141439438\n",
      "\n",
      "Starting epoch 9\n"
     ]
    },
    {
     "data": {
      "application/vnd.jupyter.widget-view+json": {
       "model_id": "1a2e1afbda6a41a6ba3f6e906c136069",
       "version_major": 2,
       "version_minor": 0
      },
      "text/plain": [
       "  0%|          | 0/90 [00:00<?, ?it/s]"
      ]
     },
     "metadata": {},
     "output_type": "display_data"
    },
    {
     "name": "stdout",
     "output_type": "stream",
     "text": [
      "\n",
      "train_loss_epoch: 0.30659914016723633\n"
     ]
    },
    {
     "data": {
      "application/vnd.jupyter.widget-view+json": {
       "model_id": "9881950f80164db989ee6b4c117155a0",
       "version_major": 2,
       "version_minor": 0
      },
      "text/plain": [
       "  0%|          | 0/10 [00:00<?, ?it/s]"
      ]
     },
     "metadata": {},
     "output_type": "display_data"
    },
    {
     "name": "stdout",
     "output_type": "stream",
     "text": [
      "\n",
      "accuracy: 0.9413145780563354\n",
      "\n",
      "ema_model_accuracy: 0.7949921488761902\n",
      "\n",
      "lr: 0.004401134711017277\n",
      "\n",
      "eval_loss_epoch: 0.20261211693286896\n",
      "\n",
      "Starting epoch 10\n"
     ]
    },
    {
     "data": {
      "application/vnd.jupyter.widget-view+json": {
       "model_id": "fcaedea92b1a4785afe81adb98437a20",
       "version_major": 2,
       "version_minor": 0
      },
      "text/plain": [
       "  0%|          | 0/90 [00:00<?, ?it/s]"
      ]
     },
     "metadata": {},
     "output_type": "display_data"
    },
    {
     "name": "stdout",
     "output_type": "stream",
     "text": [
      "\n",
      "train_loss_epoch: 0.30666983127593994\n"
     ]
    },
    {
     "data": {
      "application/vnd.jupyter.widget-view+json": {
       "model_id": "76e9aed1dbee43439175e27cc4094fca",
       "version_major": 2,
       "version_minor": 0
      },
      "text/plain": [
       "  0%|          | 0/10 [00:00<?, ?it/s]"
      ]
     },
     "metadata": {},
     "output_type": "display_data"
    },
    {
     "name": "stdout",
     "output_type": "stream",
     "text": [
      "\n",
      "accuracy: 0.9436619877815247\n",
      "\n",
      "ema_model_accuracy: 0.7949921488761902\n",
      "\n",
      "lr: 0.004267913399575775\n",
      "\n",
      "eval_loss_epoch: 0.1797783076763153\n",
      "\n",
      "Starting epoch 11\n"
     ]
    },
    {
     "data": {
      "application/vnd.jupyter.widget-view+json": {
       "model_id": "b0ff8c4d800145b0a744652f30b3b772",
       "version_major": 2,
       "version_minor": 0
      },
      "text/plain": [
       "  0%|          | 0/90 [00:00<?, ?it/s]"
      ]
     },
     "metadata": {},
     "output_type": "display_data"
    },
    {
     "name": "stdout",
     "output_type": "stream",
     "text": [
      "\n",
      "train_loss_epoch: 0.30840685963630676\n"
     ]
    },
    {
     "data": {
      "application/vnd.jupyter.widget-view+json": {
       "model_id": "35f6038b0bfb42f8a7edc1c3ca7012a1",
       "version_major": 2,
       "version_minor": 0
      },
      "text/plain": [
       "  0%|          | 0/10 [00:00<?, ?it/s]"
      ]
     },
     "metadata": {},
     "output_type": "display_data"
    },
    {
     "name": "stdout",
     "output_type": "stream",
     "text": [
      "\n",
      "accuracy: 0.9467918872833252\n",
      "\n",
      "ema_model_accuracy: 0.7949921488761902\n",
      "\n",
      "lr: 0.0041237953968012945\n",
      "\n",
      "eval_loss_epoch: 0.15462645888328552\n",
      "\n",
      "Starting epoch 12\n"
     ]
    },
    {
     "data": {
      "application/vnd.jupyter.widget-view+json": {
       "model_id": "3d666584d62a433593cafdfe3931bc10",
       "version_major": 2,
       "version_minor": 0
      },
      "text/plain": [
       "  0%|          | 0/90 [00:00<?, ?it/s]"
      ]
     },
     "metadata": {},
     "output_type": "display_data"
    },
    {
     "name": "stdout",
     "output_type": "stream",
     "text": [
      "\n",
      "train_loss_epoch: 0.29496055841445923\n"
     ]
    },
    {
     "data": {
      "application/vnd.jupyter.widget-view+json": {
       "model_id": "3157398372c04d1daaa4e4d4d1fa96b4",
       "version_major": 2,
       "version_minor": 0
      },
      "text/plain": [
       "  0%|          | 0/10 [00:00<?, ?it/s]"
      ]
     },
     "metadata": {},
     "output_type": "display_data"
    },
    {
     "name": "stdout",
     "output_type": "stream",
     "text": [
      "\n",
      "accuracy: 0.942097008228302\n",
      "\n",
      "ema_model_accuracy: 0.7949921488761902\n",
      "\n",
      "lr: 0.003969669238105037\n",
      "\n",
      "eval_loss_epoch: 0.1866966038942337\n",
      "\n",
      "Starting epoch 13\n"
     ]
    },
    {
     "data": {
      "application/vnd.jupyter.widget-view+json": {
       "model_id": "871cb72896454eed872780c502613ffd",
       "version_major": 2,
       "version_minor": 0
      },
      "text/plain": [
       "  0%|          | 0/90 [00:00<?, ?it/s]"
      ]
     },
     "metadata": {},
     "output_type": "display_data"
    },
    {
     "name": "stdout",
     "output_type": "stream",
     "text": [
      "\n",
      "train_loss_epoch: 0.2972645163536072\n"
     ]
    },
    {
     "data": {
      "application/vnd.jupyter.widget-view+json": {
       "model_id": "da04aa35182b40498c0179ecea1d0b46",
       "version_major": 2,
       "version_minor": 0
      },
      "text/plain": [
       "  0%|          | 0/10 [00:00<?, ?it/s]"
      ]
     },
     "metadata": {},
     "output_type": "display_data"
    },
    {
     "name": "stdout",
     "output_type": "stream",
     "text": [
      "\n",
      "accuracy: 0.9350547790527344\n",
      "\n",
      "ema_model_accuracy: 0.7949921488761902\n",
      "\n",
      "lr: 0.003806485162507514\n",
      "\n",
      "eval_loss_epoch: 0.1872660219669342\n",
      "\n",
      "Starting epoch 14\n"
     ]
    },
    {
     "data": {
      "application/vnd.jupyter.widget-view+json": {
       "model_id": "638ab0eeff5e4b0e979698d32a339faa",
       "version_major": 2,
       "version_minor": 0
      },
      "text/plain": [
       "  0%|          | 0/90 [00:00<?, ?it/s]"
      ]
     },
     "metadata": {},
     "output_type": "display_data"
    },
    {
     "name": "stdout",
     "output_type": "stream",
     "text": [
      "\n",
      "train_loss_epoch: 0.29824480414390564\n"
     ]
    },
    {
     "data": {
      "application/vnd.jupyter.widget-view+json": {
       "model_id": "f800b11c2e91457389a35da384b9bd1a",
       "version_major": 2,
       "version_minor": 0
      },
      "text/plain": [
       "  0%|          | 0/10 [00:00<?, ?it/s]"
      ]
     },
     "metadata": {},
     "output_type": "display_data"
    },
    {
     "name": "stdout",
     "output_type": "stream",
     "text": [
      "\n",
      "accuracy: 0.9460093975067139\n",
      "\n",
      "ema_model_accuracy: 0.7949921488761902\n",
      "\n",
      "lr: 0.003635249254098997\n",
      "\n",
      "eval_loss_epoch: 0.1662958413362503\n",
      "\n",
      "Starting epoch 15\n"
     ]
    },
    {
     "data": {
      "application/vnd.jupyter.widget-view+json": {
       "model_id": "9c6ab88c2d2e4ae2b15b1e074911df36",
       "version_major": 2,
       "version_minor": 0
      },
      "text/plain": [
       "  0%|          | 0/90 [00:00<?, ?it/s]"
      ]
     },
     "metadata": {},
     "output_type": "display_data"
    },
    {
     "name": "stdout",
     "output_type": "stream",
     "text": [
      "\n",
      "train_loss_epoch: 0.28776729106903076\n"
     ]
    },
    {
     "data": {
      "application/vnd.jupyter.widget-view+json": {
       "model_id": "f77bac828758410fb0380b1c986504d3",
       "version_major": 2,
       "version_minor": 0
      },
      "text/plain": [
       "  0%|          | 0/10 [00:00<?, ?it/s]"
      ]
     },
     "metadata": {},
     "output_type": "display_data"
    },
    {
     "name": "stdout",
     "output_type": "stream",
     "text": [
      "\n",
      "accuracy: 0.9452269077301025\n",
      "\n",
      "ema_model_accuracy: 0.8043818473815918\n",
      "\n",
      "lr: 0.003457017239196542\n",
      "\n",
      "eval_loss_epoch: 0.1593703329563141\n",
      "\n",
      "Starting epoch 16\n"
     ]
    },
    {
     "data": {
      "application/vnd.jupyter.widget-view+json": {
       "model_id": "6e1f4f64c70a47528aba8dc0ad591c19",
       "version_major": 2,
       "version_minor": 0
      },
      "text/plain": [
       "  0%|          | 0/90 [00:00<?, ?it/s]"
      ]
     },
     "metadata": {},
     "output_type": "display_data"
    },
    {
     "name": "stdout",
     "output_type": "stream",
     "text": [
      "\n",
      "train_loss_epoch: 0.2933136820793152\n"
     ]
    },
    {
     "data": {
      "application/vnd.jupyter.widget-view+json": {
       "model_id": "c798522743d74c918d4b4092adb06bd9",
       "version_major": 2,
       "version_minor": 0
      },
      "text/plain": [
       "  0%|          | 0/10 [00:00<?, ?it/s]"
      ]
     },
     "metadata": {},
     "output_type": "display_data"
    },
    {
     "name": "stdout",
     "output_type": "stream",
     "text": [
      "\n",
      "accuracy: 0.9444444179534912\n",
      "\n",
      "ema_model_accuracy: 0.8137715458869934\n",
      "\n",
      "lr: 0.0032728879774401812\n",
      "\n",
      "eval_loss_epoch: 0.16949573159217834\n",
      "\n",
      "Starting epoch 17\n"
     ]
    },
    {
     "data": {
      "application/vnd.jupyter.widget-view+json": {
       "model_id": "561de286b1fc4a409ed14932ade258ea",
       "version_major": 2,
       "version_minor": 0
      },
      "text/plain": [
       "  0%|          | 0/90 [00:00<?, ?it/s]"
      ]
     },
     "metadata": {},
     "output_type": "display_data"
    },
    {
     "name": "stdout",
     "output_type": "stream",
     "text": [
      "\n",
      "train_loss_epoch: 0.28313103318214417\n"
     ]
    },
    {
     "data": {
      "application/vnd.jupyter.widget-view+json": {
       "model_id": "d8c95b0ff1e747ddaacd43c92d5b6ecb",
       "version_major": 2,
       "version_minor": 0
      },
      "text/plain": [
       "  0%|          | 0/10 [00:00<?, ?it/s]"
      ]
     },
     "metadata": {},
     "output_type": "display_data"
    },
    {
     "name": "stdout",
     "output_type": "stream",
     "text": [
      "\n",
      "accuracy: 0.9475743174552917\n",
      "\n",
      "ema_model_accuracy: 0.8129890561103821\n",
      "\n",
      "lr: 0.003083996686957836\n",
      "\n",
      "eval_loss_epoch: 0.16620950400829315\n",
      "\n",
      "Starting epoch 18\n"
     ]
    },
    {
     "data": {
      "application/vnd.jupyter.widget-view+json": {
       "model_id": "ef93dadce3a14255b8fc3d925122270d",
       "version_major": 2,
       "version_minor": 0
      },
      "text/plain": [
       "  0%|          | 0/90 [00:00<?, ?it/s]"
      ]
     },
     "metadata": {},
     "output_type": "display_data"
    },
    {
     "name": "stdout",
     "output_type": "stream",
     "text": [
      "\n",
      "train_loss_epoch: 0.2888116240501404\n"
     ]
    },
    {
     "data": {
      "application/vnd.jupyter.widget-view+json": {
       "model_id": "58d38e754d7746488417d6254f7dc40f",
       "version_major": 2,
       "version_minor": 0
      },
      "text/plain": [
       "  0%|          | 0/10 [00:00<?, ?it/s]"
      ]
     },
     "metadata": {},
     "output_type": "display_data"
    },
    {
     "name": "stdout",
     "output_type": "stream",
     "text": [
      "\n",
      "accuracy: 0.9405320882797241\n",
      "\n",
      "ema_model_accuracy: 0.8466353416442871\n",
      "\n",
      "lr: 0.0028915079453680575\n",
      "\n",
      "eval_loss_epoch: 0.17552606761455536\n",
      "\n",
      "Starting epoch 19\n"
     ]
    },
    {
     "data": {
      "application/vnd.jupyter.widget-view+json": {
       "model_id": "f8e9e85b9cee4482b736c25775f98479",
       "version_major": 2,
       "version_minor": 0
      },
      "text/plain": [
       "  0%|          | 0/90 [00:00<?, ?it/s]"
      ]
     },
     "metadata": {},
     "output_type": "display_data"
    },
    {
     "name": "stdout",
     "output_type": "stream",
     "text": [
      "\n",
      "train_loss_epoch: 0.2827579081058502\n"
     ]
    },
    {
     "data": {
      "application/vnd.jupyter.widget-view+json": {
       "model_id": "2991855dda534590bb7fbce31907fefe",
       "version_major": 2,
       "version_minor": 0
      },
      "text/plain": [
       "  0%|          | 0/10 [00:00<?, ?it/s]"
      ]
     },
     "metadata": {},
     "output_type": "display_data"
    },
    {
     "name": "stdout",
     "output_type": "stream",
     "text": [
      "\n",
      "accuracy: 0.942097008228302\n",
      "\n",
      "ema_model_accuracy: 0.8951486945152283\n",
      "\n",
      "lr: 0.0026966085097717488\n",
      "\n",
      "eval_loss_epoch: 0.19578395783901215\n",
      "\n",
      "Starting epoch 20\n"
     ]
    },
    {
     "data": {
      "application/vnd.jupyter.widget-view+json": {
       "model_id": "bc6088304b8046a581f11251a036fbd8",
       "version_major": 2,
       "version_minor": 0
      },
      "text/plain": [
       "  0%|          | 0/90 [00:00<?, ?it/s]"
      ]
     },
     "metadata": {},
     "output_type": "display_data"
    },
    {
     "name": "stdout",
     "output_type": "stream",
     "text": [
      "\n",
      "train_loss_epoch: 0.2752605676651001\n"
     ]
    },
    {
     "data": {
      "application/vnd.jupyter.widget-view+json": {
       "model_id": "6db3673fba494d6a81904496b54fec5f",
       "version_major": 2,
       "version_minor": 0
      },
      "text/plain": [
       "  0%|          | 0/10 [00:00<?, ?it/s]"
      ]
     },
     "metadata": {},
     "output_type": "display_data"
    },
    {
     "name": "stdout",
     "output_type": "stream",
     "text": [
      "\n",
      "accuracy: 0.9428794980049133\n",
      "\n",
      "ema_model_accuracy: 0.920187771320343\n",
      "\n",
      "lr: 0.0025005\n",
      "\n",
      "eval_loss_epoch: 0.14942653477191925\n",
      "\n",
      "Starting epoch 21\n"
     ]
    },
    {
     "data": {
      "application/vnd.jupyter.widget-view+json": {
       "model_id": "55eb9a062d6a42e198c54830732214e0",
       "version_major": 2,
       "version_minor": 0
      },
      "text/plain": [
       "  0%|          | 0/90 [00:00<?, ?it/s]"
      ]
     },
     "metadata": {},
     "output_type": "display_data"
    },
    {
     "name": "stdout",
     "output_type": "stream",
     "text": [
      "\n",
      "train_loss_epoch: 0.27513304352760315\n"
     ]
    },
    {
     "data": {
      "application/vnd.jupyter.widget-view+json": {
       "model_id": "6eee629ed8574096838d0c5b30d47477",
       "version_major": 2,
       "version_minor": 0
      },
      "text/plain": [
       "  0%|          | 0/10 [00:00<?, ?it/s]"
      ]
     },
     "metadata": {},
     "output_type": "display_data"
    },
    {
     "name": "stdout",
     "output_type": "stream",
     "text": [
      "\n",
      "accuracy: 0.9483568072319031\n",
      "\n",
      "ema_model_accuracy: 0.930359959602356\n",
      "\n",
      "lr: 0.002304391490228252\n",
      "\n",
      "eval_loss_epoch: 0.1583375632762909\n",
      "\n",
      "Starting epoch 22\n"
     ]
    },
    {
     "data": {
      "application/vnd.jupyter.widget-view+json": {
       "model_id": "832c9719da394b829175e90beb86a97d",
       "version_major": 2,
       "version_minor": 0
      },
      "text/plain": [
       "  0%|          | 0/90 [00:00<?, ?it/s]"
      ]
     },
     "metadata": {},
     "output_type": "display_data"
    },
    {
     "name": "stdout",
     "output_type": "stream",
     "text": [
      "\n",
      "train_loss_epoch: 0.2767062783241272\n"
     ]
    },
    {
     "data": {
      "application/vnd.jupyter.widget-view+json": {
       "model_id": "231654ed4986411aa5e1614542167d6a",
       "version_major": 2,
       "version_minor": 0
      },
      "text/plain": [
       "  0%|          | 0/10 [00:00<?, ?it/s]"
      ]
     },
     "metadata": {},
     "output_type": "display_data"
    },
    {
     "name": "stdout",
     "output_type": "stream",
     "text": [
      "\n",
      "accuracy: 0.9467918872833252\n",
      "\n",
      "ema_model_accuracy: 0.9350547790527344\n",
      "\n",
      "lr: 0.0021094920546319436\n",
      "\n",
      "eval_loss_epoch: 0.14850161969661713\n",
      "\n",
      "Starting epoch 23\n"
     ]
    },
    {
     "data": {
      "application/vnd.jupyter.widget-view+json": {
       "model_id": "abe2bd9d79ed43a4b95dc3b3fd6863be",
       "version_major": 2,
       "version_minor": 0
      },
      "text/plain": [
       "  0%|          | 0/90 [00:00<?, ?it/s]"
      ]
     },
     "metadata": {},
     "output_type": "display_data"
    },
    {
     "name": "stdout",
     "output_type": "stream",
     "text": [
      "\n",
      "train_loss_epoch: 0.26873916387557983\n"
     ]
    },
    {
     "data": {
      "application/vnd.jupyter.widget-view+json": {
       "model_id": "48839f6a9da5444199e1cf5fb2ae56cb",
       "version_major": 2,
       "version_minor": 0
      },
      "text/plain": [
       "  0%|          | 0/10 [00:00<?, ?it/s]"
      ]
     },
     "metadata": {},
     "output_type": "display_data"
    },
    {
     "name": "stdout",
     "output_type": "stream",
     "text": [
      "\n",
      "accuracy: 0.9366196990013123\n",
      "\n",
      "ema_model_accuracy: 0.9389671087265015\n",
      "\n",
      "lr: 0.0019170033130421647\n",
      "\n",
      "eval_loss_epoch: 0.2024579793214798\n",
      "\n",
      "Starting epoch 24\n"
     ]
    },
    {
     "data": {
      "application/vnd.jupyter.widget-view+json": {
       "model_id": "8b3819b284e14927bd0258c821ef9db0",
       "version_major": 2,
       "version_minor": 0
      },
      "text/plain": [
       "  0%|          | 0/90 [00:00<?, ?it/s]"
      ]
     },
     "metadata": {},
     "output_type": "display_data"
    },
    {
     "name": "stdout",
     "output_type": "stream",
     "text": [
      "\n",
      "train_loss_epoch: 0.26926469802856445\n"
     ]
    },
    {
     "data": {
      "application/vnd.jupyter.widget-view+json": {
       "model_id": "2c8a426329764afd833497500984d0fb",
       "version_major": 2,
       "version_minor": 0
      },
      "text/plain": [
       "  0%|          | 0/10 [00:00<?, ?it/s]"
      ]
     },
     "metadata": {},
     "output_type": "display_data"
    },
    {
     "name": "stdout",
     "output_type": "stream",
     "text": [
      "\n",
      "accuracy: 0.9514867067337036\n",
      "\n",
      "ema_model_accuracy: 0.942097008228302\n",
      "\n",
      "lr: 0.001728112022559819\n",
      "\n",
      "eval_loss_epoch: 0.13713438808918\n",
      "\n",
      "Starting epoch 25\n"
     ]
    },
    {
     "data": {
      "application/vnd.jupyter.widget-view+json": {
       "model_id": "6cab01c0e53b4393ae09e1304075580e",
       "version_major": 2,
       "version_minor": 0
      },
      "text/plain": [
       "  0%|          | 0/90 [00:00<?, ?it/s]"
      ]
     },
     "metadata": {},
     "output_type": "display_data"
    },
    {
     "name": "stdout",
     "output_type": "stream",
     "text": [
      "\n",
      "train_loss_epoch: 0.26606717705726624\n"
     ]
    },
    {
     "data": {
      "application/vnd.jupyter.widget-view+json": {
       "model_id": "e1ba2b2f58ee490f92fc82d3e3f11a4e",
       "version_major": 2,
       "version_minor": 0
      },
      "text/plain": [
       "  0%|          | 0/10 [00:00<?, ?it/s]"
      ]
     },
     "metadata": {},
     "output_type": "display_data"
    },
    {
     "name": "stdout",
     "output_type": "stream",
     "text": [
      "\n",
      "accuracy: 0.949921727180481\n",
      "\n",
      "ema_model_accuracy: 0.9436619877815247\n",
      "\n",
      "lr: 0.0015439827608034582\n",
      "\n",
      "eval_loss_epoch: 0.15428444743156433\n",
      "\n",
      "Starting epoch 26\n"
     ]
    },
    {
     "data": {
      "application/vnd.jupyter.widget-view+json": {
       "model_id": "f79003ea225e4862a43be6bcdb91aa80",
       "version_major": 2,
       "version_minor": 0
      },
      "text/plain": [
       "  0%|          | 0/90 [00:00<?, ?it/s]"
      ]
     },
     "metadata": {},
     "output_type": "display_data"
    },
    {
     "name": "stdout",
     "output_type": "stream",
     "text": [
      "\n",
      "train_loss_epoch: 0.26221325993537903\n"
     ]
    },
    {
     "data": {
      "application/vnd.jupyter.widget-view+json": {
       "model_id": "25d6cac34dc94928badc3a2a94b570c6",
       "version_major": 2,
       "version_minor": 0
      },
      "text/plain": [
       "  0%|          | 0/10 [00:00<?, ?it/s]"
      ]
     },
     "metadata": {},
     "output_type": "display_data"
    },
    {
     "name": "stdout",
     "output_type": "stream",
     "text": [
      "\n",
      "accuracy: 0.9467918872833252\n",
      "\n",
      "ema_model_accuracy: 0.9444444179534912\n",
      "\n",
      "lr: 0.0013657507459010028\n",
      "\n",
      "eval_loss_epoch: 0.15086840093135834\n",
      "\n",
      "Starting epoch 27\n"
     ]
    },
    {
     "data": {
      "application/vnd.jupyter.widget-view+json": {
       "model_id": "4fe33b5c4a354436b085999bcb016acc",
       "version_major": 2,
       "version_minor": 0
      },
      "text/plain": [
       "  0%|          | 0/90 [00:00<?, ?it/s]"
      ]
     },
     "metadata": {},
     "output_type": "display_data"
    },
    {
     "name": "stdout",
     "output_type": "stream",
     "text": [
      "\n",
      "train_loss_epoch: 0.256786048412323\n"
     ]
    },
    {
     "data": {
      "application/vnd.jupyter.widget-view+json": {
       "model_id": "df3dff6a268f499bb356b711e662b5ef",
       "version_major": 2,
       "version_minor": 0
      },
      "text/plain": [
       "  0%|          | 0/10 [00:00<?, ?it/s]"
      ]
     },
     "metadata": {},
     "output_type": "display_data"
    },
    {
     "name": "stdout",
     "output_type": "stream",
     "text": [
      "\n",
      "accuracy: 0.9507042169570923\n",
      "\n",
      "ema_model_accuracy: 0.9452269077301025\n",
      "\n",
      "lr: 0.001194514837492486\n",
      "\n",
      "eval_loss_epoch: 0.1591082215309143\n",
      "\n",
      "Starting epoch 28\n"
     ]
    },
    {
     "data": {
      "application/vnd.jupyter.widget-view+json": {
       "model_id": "cf072ae5e4424384a5a446f08d180a61",
       "version_major": 2,
       "version_minor": 0
      },
      "text/plain": [
       "  0%|          | 0/90 [00:00<?, ?it/s]"
      ]
     },
     "metadata": {},
     "output_type": "display_data"
    },
    {
     "name": "stdout",
     "output_type": "stream",
     "text": [
      "\n",
      "train_loss_epoch: 0.25379955768585205\n"
     ]
    },
    {
     "data": {
      "application/vnd.jupyter.widget-view+json": {
       "model_id": "2481538223254064a361633036be018b",
       "version_major": 2,
       "version_minor": 0
      },
      "text/plain": [
       "  0%|          | 0/10 [00:00<?, ?it/s]"
      ]
     },
     "metadata": {},
     "output_type": "display_data"
    },
    {
     "name": "stdout",
     "output_type": "stream",
     "text": [
      "\n",
      "accuracy: 0.9530516266822815\n",
      "\n",
      "ema_model_accuracy: 0.949921727180481\n",
      "\n",
      "lr: 0.0010313307618949636\n",
      "\n",
      "eval_loss_epoch: 0.13694651424884796\n",
      "\n",
      "Starting epoch 29\n"
     ]
    },
    {
     "data": {
      "application/vnd.jupyter.widget-view+json": {
       "model_id": "a03cadeb592c4371ade99f9a5a195144",
       "version_major": 2,
       "version_minor": 0
      },
      "text/plain": [
       "  0%|          | 0/90 [00:00<?, ?it/s]"
      ]
     },
     "metadata": {},
     "output_type": "display_data"
    },
    {
     "name": "stdout",
     "output_type": "stream",
     "text": [
      "\n",
      "train_loss_epoch: 0.24703413248062134\n"
     ]
    },
    {
     "data": {
      "application/vnd.jupyter.widget-view+json": {
       "model_id": "225b4452b6b449c8ad01919c0f171ffd",
       "version_major": 2,
       "version_minor": 0
      },
      "text/plain": [
       "  0%|          | 0/10 [00:00<?, ?it/s]"
      ]
     },
     "metadata": {},
     "output_type": "display_data"
    },
    {
     "name": "stdout",
     "output_type": "stream",
     "text": [
      "\n",
      "accuracy: 0.9483568072319031\n",
      "\n",
      "ema_model_accuracy: 0.949921727180481\n",
      "\n",
      "lr: 0.0008772046031987063\n",
      "\n",
      "eval_loss_epoch: 0.16828061640262604\n",
      "\n",
      "Starting epoch 30\n"
     ]
    },
    {
     "data": {
      "application/vnd.jupyter.widget-view+json": {
       "model_id": "59a43d76426641d39b7633b6d606bf5b",
       "version_major": 2,
       "version_minor": 0
      },
      "text/plain": [
       "  0%|          | 0/90 [00:00<?, ?it/s]"
      ]
     },
     "metadata": {},
     "output_type": "display_data"
    },
    {
     "name": "stdout",
     "output_type": "stream",
     "text": [
      "\n",
      "train_loss_epoch: 0.2432938516139984\n"
     ]
    },
    {
     "data": {
      "application/vnd.jupyter.widget-view+json": {
       "model_id": "491760a7f0324df4b6d783502f24da30",
       "version_major": 2,
       "version_minor": 0
      },
      "text/plain": [
       "  0%|          | 0/10 [00:00<?, ?it/s]"
      ]
     },
     "metadata": {},
     "output_type": "display_data"
    },
    {
     "name": "stdout",
     "output_type": "stream",
     "text": [
      "\n",
      "accuracy: 0.9491392970085144\n",
      "\n",
      "ema_model_accuracy: 0.949921727180481\n",
      "\n",
      "lr: 0.0007330866004242246\n",
      "\n",
      "eval_loss_epoch: 0.17266026139259338\n",
      "\n",
      "Starting epoch 31\n"
     ]
    },
    {
     "data": {
      "application/vnd.jupyter.widget-view+json": {
       "model_id": "923d7f8c88a74669bf353970d62e61cb",
       "version_major": 2,
       "version_minor": 0
      },
      "text/plain": [
       "  0%|          | 0/90 [00:00<?, ?it/s]"
      ]
     },
     "metadata": {},
     "output_type": "display_data"
    },
    {
     "name": "stdout",
     "output_type": "stream",
     "text": [
      "\n",
      "train_loss_epoch: 0.25064122676849365\n"
     ]
    },
    {
     "data": {
      "application/vnd.jupyter.widget-view+json": {
       "model_id": "a2c29ea3e713434b8e2c596abcc686af",
       "version_major": 2,
       "version_minor": 0
      },
      "text/plain": [
       "  0%|          | 0/10 [00:00<?, ?it/s]"
      ]
     },
     "metadata": {},
     "output_type": "display_data"
    },
    {
     "name": "stdout",
     "output_type": "stream",
     "text": [
      "\n",
      "accuracy: 0.9507042169570923\n",
      "\n",
      "ema_model_accuracy: 0.9507042169570923\n",
      "\n",
      "lr: 0.0005998652889827227\n",
      "\n",
      "eval_loss_epoch: 0.16365817189216614\n",
      "\n",
      "Starting epoch 32\n"
     ]
    },
    {
     "data": {
      "application/vnd.jupyter.widget-view+json": {
       "model_id": "407d0f37b4d34266b9f01ffd94a54478",
       "version_major": 2,
       "version_minor": 0
      },
      "text/plain": [
       "  0%|          | 0/90 [00:00<?, ?it/s]"
      ]
     },
     "metadata": {},
     "output_type": "display_data"
    },
    {
     "name": "stdout",
     "output_type": "stream",
     "text": [
      "\n",
      "train_loss_epoch: 0.2488773763179779\n"
     ]
    },
    {
     "data": {
      "application/vnd.jupyter.widget-view+json": {
       "model_id": "5c967b825dd7460fabe663cf2a1c1763",
       "version_major": 2,
       "version_minor": 0
      },
      "text/plain": [
       "  0%|          | 0/10 [00:00<?, ?it/s]"
      ]
     },
     "metadata": {},
     "output_type": "display_data"
    },
    {
     "name": "stdout",
     "output_type": "stream",
     "text": [
      "\n",
      "accuracy: 0.9467918872833252\n",
      "\n",
      "ema_model_accuracy: 0.9514867067337036\n",
      "\n",
      "lr: 0.00047836202255981916\n",
      "\n",
      "eval_loss_epoch: 0.15913522243499756\n",
      "\n",
      "Starting epoch 33\n"
     ]
    },
    {
     "data": {
      "application/vnd.jupyter.widget-view+json": {
       "model_id": "28bfbf56d1dd435cb4588146c2b76a27",
       "version_major": 2,
       "version_minor": 0
      },
      "text/plain": [
       "  0%|          | 0/90 [00:00<?, ?it/s]"
      ]
     },
     "metadata": {},
     "output_type": "display_data"
    },
    {
     "name": "stdout",
     "output_type": "stream",
     "text": [
      "\n",
      "train_loss_epoch: 0.23808012902736664\n"
     ]
    },
    {
     "data": {
      "application/vnd.jupyter.widget-view+json": {
       "model_id": "aac693ba332b4325ac5cb412e10c6d5c",
       "version_major": 2,
       "version_minor": 0
      },
      "text/plain": [
       "  0%|          | 0/10 [00:00<?, ?it/s]"
      ]
     },
     "metadata": {},
     "output_type": "display_data"
    },
    {
     "name": "stdout",
     "output_type": "stream",
     "text": [
      "\n",
      "accuracy: 0.9553990364074707\n",
      "\n",
      "ema_model_accuracy: 0.9507042169570923\n",
      "\n",
      "lr: 0.0003693259091969466\n",
      "\n",
      "eval_loss_epoch: 0.1518411934375763\n",
      "\n",
      "Starting epoch 34\n"
     ]
    },
    {
     "data": {
      "application/vnd.jupyter.widget-view+json": {
       "model_id": "57e90e35487e490ca73bc4e09ca4c445",
       "version_major": 2,
       "version_minor": 0
      },
      "text/plain": [
       "  0%|          | 0/90 [00:00<?, ?it/s]"
      ]
     },
     "metadata": {},
     "output_type": "display_data"
    },
    {
     "name": "stdout",
     "output_type": "stream",
     "text": [
      "\n",
      "train_loss_epoch: 0.23319175839424133\n"
     ]
    },
    {
     "data": {
      "application/vnd.jupyter.widget-view+json": {
       "model_id": "d934fb7195ce4ea98f1cb8d43c833c4f",
       "version_major": 2,
       "version_minor": 0
      },
      "text/plain": [
       "  0%|          | 0/10 [00:00<?, ?it/s]"
      ]
     },
     "metadata": {},
     "output_type": "display_data"
    },
    {
     "name": "stdout",
     "output_type": "stream",
     "text": [
      "\n",
      "accuracy: 0.9569640159606934\n",
      "\n",
      "ema_model_accuracy: 0.9514867067337036\n",
      "\n",
      "lr: 0.00027342919279117474\n",
      "\n",
      "eval_loss_epoch: 0.1524626612663269\n",
      "\n",
      "Starting epoch 35\n"
     ]
    },
    {
     "data": {
      "application/vnd.jupyter.widget-view+json": {
       "model_id": "d9926b7cf02a4b748eeca28316c6dc5a",
       "version_major": 2,
       "version_minor": 0
      },
      "text/plain": [
       "  0%|          | 0/90 [00:00<?, ?it/s]"
      ]
     },
     "metadata": {},
     "output_type": "display_data"
    },
    {
     "name": "stdout",
     "output_type": "stream",
     "text": [
      "\n",
      "train_loss_epoch: 0.23650436103343964\n"
     ]
    },
    {
     "data": {
      "application/vnd.jupyter.widget-view+json": {
       "model_id": "e8e7d08fc8fe41d98d8db1f19388755d",
       "version_major": 2,
       "version_minor": 0
      },
      "text/plain": [
       "  0%|          | 0/10 [00:00<?, ?it/s]"
      ]
     },
     "metadata": {},
     "output_type": "display_data"
    },
    {
     "name": "stdout",
     "output_type": "stream",
     "text": [
      "\n",
      "accuracy: 0.9577465057373047\n",
      "\n",
      "ema_model_accuracy: 0.9522691965103149\n",
      "\n",
      "lr: 0.00019126310848803879\n",
      "\n",
      "eval_loss_epoch: 0.1442805826663971\n",
      "\n",
      "Starting epoch 36\n"
     ]
    },
    {
     "data": {
      "application/vnd.jupyter.widget-view+json": {
       "model_id": "857d69cfe7ae41f9a3852f1ba659a1ec",
       "version_major": 2,
       "version_minor": 0
      },
      "text/plain": [
       "  0%|          | 0/90 [00:00<?, ?it/s]"
      ]
     },
     "metadata": {},
     "output_type": "display_data"
    },
    {
     "name": "stdout",
     "output_type": "stream",
     "text": [
      "\n",
      "train_loss_epoch: 0.23975612223148346\n"
     ]
    },
    {
     "data": {
      "application/vnd.jupyter.widget-view+json": {
       "model_id": "479e1605098f4003b3300af7c40052cf",
       "version_major": 2,
       "version_minor": 0
      },
      "text/plain": [
       "  0%|          | 0/10 [00:00<?, ?it/s]"
      ]
     },
     "metadata": {},
     "output_type": "display_data"
    },
    {
     "name": "stdout",
     "output_type": "stream",
     "text": [
      "\n",
      "accuracy: 0.956181526184082\n",
      "\n",
      "ema_model_accuracy: 0.9522691965103149\n",
      "\n",
      "lr: 0.00012333423752026375\n",
      "\n",
      "eval_loss_epoch: 0.13991524279117584\n",
      "\n",
      "Starting epoch 37\n"
     ]
    },
    {
     "data": {
      "application/vnd.jupyter.widget-view+json": {
       "model_id": "875cc70b0be84bdebfeca7d90b0bde87",
       "version_major": 2,
       "version_minor": 0
      },
      "text/plain": [
       "  0%|          | 0/90 [00:00<?, ?it/s]"
      ]
     },
     "metadata": {},
     "output_type": "display_data"
    },
    {
     "name": "stdout",
     "output_type": "stream",
     "text": [
      "\n",
      "train_loss_epoch: 0.2369406372308731\n"
     ]
    },
    {
     "data": {
      "application/vnd.jupyter.widget-view+json": {
       "model_id": "245b57ac0a474b4b91beebeb836330ca",
       "version_major": 2,
       "version_minor": 0
      },
      "text/plain": [
       "  0%|          | 0/10 [00:00<?, ?it/s]"
      ]
     },
     "metadata": {},
     "output_type": "display_data"
    },
    {
     "name": "stdout",
     "output_type": "stream",
     "text": [
      "\n",
      "accuracy: 0.9553990364074707\n",
      "\n",
      "ema_model_accuracy: 0.9530516266822815\n",
      "\n",
      "lr: 7.006138396600745e-05\n",
      "\n",
      "eval_loss_epoch: 0.1470264345407486\n",
      "\n",
      "Starting epoch 38\n"
     ]
    },
    {
     "data": {
      "application/vnd.jupyter.widget-view+json": {
       "model_id": "b1ba2c84de144034add67c09a6c10672",
       "version_major": 2,
       "version_minor": 0
      },
      "text/plain": [
       "  0%|          | 0/90 [00:00<?, ?it/s]"
      ]
     },
     "metadata": {},
     "output_type": "display_data"
    },
    {
     "name": "stdout",
     "output_type": "stream",
     "text": [
      "\n",
      "train_loss_epoch: 0.22533352673053741\n"
     ]
    },
    {
     "data": {
      "application/vnd.jupyter.widget-view+json": {
       "model_id": "30f070d83e21479da49695019083577e",
       "version_major": 2,
       "version_minor": 0
      },
      "text/plain": [
       "  0%|          | 0/10 [00:00<?, ?it/s]"
      ]
     },
     "metadata": {},
     "output_type": "display_data"
    },
    {
     "name": "stdout",
     "output_type": "stream",
     "text": [
      "\n",
      "accuracy: 0.9569640159606934\n",
      "\n",
      "ema_model_accuracy: 0.9530516266822815\n",
      "\n",
      "lr: 3.1772992682453416e-05\n",
      "\n",
      "eval_loss_epoch: 0.14766362309455872\n",
      "\n",
      "Starting epoch 39\n"
     ]
    },
    {
     "data": {
      "application/vnd.jupyter.widget-view+json": {
       "model_id": "41e54183c18b4fd0a4e82a83381cce5c",
       "version_major": 2,
       "version_minor": 0
      },
      "text/plain": [
       "  0%|          | 0/90 [00:00<?, ?it/s]"
      ]
     },
     "metadata": {},
     "output_type": "display_data"
    },
    {
     "name": "stdout",
     "output_type": "stream",
     "text": [
      "\n",
      "train_loss_epoch: 0.23050791025161743\n"
     ]
    },
    {
     "data": {
      "application/vnd.jupyter.widget-view+json": {
       "model_id": "b53ed2ee8e504d96830b1124474309e2",
       "version_major": 2,
       "version_minor": 0
      },
      "text/plain": [
       "  0%|          | 0/10 [00:00<?, ?it/s]"
      ]
     },
     "metadata": {},
     "output_type": "display_data"
    },
    {
     "name": "stdout",
     "output_type": "stream",
     "text": [
      "\n",
      "accuracy: 0.9553990364074707\n",
      "\n",
      "ema_model_accuracy: 0.9530516266822815\n",
      "\n",
      "lr: 8.705124334046655e-06\n",
      "\n",
      "eval_loss_epoch: 0.14874760806560516\n",
      "\n",
      "Starting epoch 40\n"
     ]
    },
    {
     "data": {
      "application/vnd.jupyter.widget-view+json": {
       "model_id": "1bcb747472934ed9acb570d564416c83",
       "version_major": 2,
       "version_minor": 0
      },
      "text/plain": [
       "  0%|          | 0/90 [00:00<?, ?it/s]"
      ]
     },
     "metadata": {},
     "output_type": "display_data"
    },
    {
     "name": "stdout",
     "output_type": "stream",
     "text": [
      "\n",
      "train_loss_epoch: 0.22735421359539032\n"
     ]
    },
    {
     "data": {
      "application/vnd.jupyter.widget-view+json": {
       "model_id": "03461e1a725c417d9f4675ae5a88b355",
       "version_major": 2,
       "version_minor": 0
      },
      "text/plain": [
       "  0%|          | 0/10 [00:00<?, ?it/s]"
      ]
     },
     "metadata": {},
     "output_type": "display_data"
    },
    {
     "name": "stdout",
     "output_type": "stream",
     "text": [
      "\n",
      "accuracy: 0.9577465057373047\n",
      "\n",
      "ema_model_accuracy: 0.9522691965103149\n",
      "\n",
      "lr: 1e-06\n",
      "\n",
      "eval_loss_epoch: 0.14957712590694427\n",
      "Finishing training run\n",
      "Loading checkpoint with accuracy: 0.9577465057373047 from epoch 35\n"
     ]
    }
   ],
   "source": [
    "import argparse\n",
    "from pathlib import Path\n",
    "\n",
    "import timm\n",
    "import timm.data\n",
    "import timm.loss\n",
    "import timm.optim\n",
    "import timm.utils\n",
    "import torch\n",
    "import torchmetrics\n",
    "from timm.scheduler import CosineLRScheduler\n",
    "\n",
    "from pytorch_accelerated.callbacks import SaveBestModelCallback, ProgressBarCallback\n",
    "from pytorch_accelerated.trainer import Trainer, DEFAULT_CALLBACKS\n",
    "from pytorch_accelerated.run_config import TrainerRunConfig\n",
    "from pytorch_accelerated.utils import local_process_zero_only\n",
    "\n",
    "from PIL import Image\n",
    "\n",
    "from tqdm.auto import tqdm\n",
    "import time\n",
    "import pandas as pd\n",
    "\n",
    "from accelerate import notebook_launcher\n",
    "import accelerate\n",
    "\n",
    "class TQDM_progressbar(ProgressBarCallback):\n",
    "    \"\"\"\n",
    "    A callback which visualises the state of each training and evaluation epoch using a progress bar\n",
    "    \"\"\"\n",
    "\n",
    "    def __init__(self):\n",
    "        self.pbar = None\n",
    "\n",
    "    def on_train_epoch_start(self, trainer, **kwargs):\n",
    "        self.pbar = tqdm(\n",
    "            total=len(trainer._train_dataloader),\n",
    "            disable=not trainer._accelerator.is_local_main_process,\n",
    "        )\n",
    "\n",
    "    def on_train_step_end(self, trainer, **kwargs):\n",
    "        self.pbar.update(1)\n",
    "\n",
    "    def on_train_epoch_end(self, trainer, **kwargs):\n",
    "        self.pbar.close()\n",
    "        time.sleep(0.01)\n",
    "\n",
    "    def on_eval_epoch_start(self, trainer, **kwargs):\n",
    "        self.pbar = tqdm(\n",
    "            total=len(trainer._eval_dataloader),\n",
    "            disable=not trainer._accelerator.is_local_main_process,\n",
    "        )\n",
    "\n",
    "    def on_eval_step_end(self, trainer, **kwargs):\n",
    "        self.pbar.update(1)\n",
    "\n",
    "    def on_eval_epoch_end(self, trainer, **kwargs):\n",
    "        self.pbar.close()\n",
    "        time.sleep(0.01)\n",
    "\n",
    "class ImageDataset_new(timm.data.dataset.ImageDataset):\n",
    "    def __init__(\n",
    "            self,\n",
    "            root,\n",
    "            reader=None,\n",
    "            split='train',\n",
    "            class_map=None,\n",
    "            load_bytes=False,\n",
    "            input_img_mode='RGB',\n",
    "            transform=None,\n",
    "            target_transform=None,\n",
    "    ):\n",
    "        super().__init__(root, reader, split, class_map, load_bytes, input_img_mode, transform, target_transform)\n",
    "        \n",
    "    def __getitem__(self, index):\n",
    "        img, target = self.reader[index]\n",
    "\n",
    "        '''\n",
    "        try:\n",
    "            img = img.read() if self.load_bytes else Image.open(img)\n",
    "        except Exception as e:\n",
    "            _logger.warning(f'Skipped sample (index {index}, file {self.reader.filename(index)}). {str(e)}')\n",
    "            self._consecutive_errors += 1\n",
    "            if self._consecutive_errors < _ERROR_RETRY:\n",
    "                return self.__getitem__((index + 1) % len(self.reader))\n",
    "            else:\n",
    "                raise e\n",
    "        '''\n",
    "        self._consecutive_errors = 0\n",
    "\n",
    "        with Image.open(img) as im:\n",
    "            if self.input_img_mode and not self.load_bytes:\n",
    "                img = im.convert(self.input_img_mode)\n",
    "            \n",
    "        if self.transform is not None:\n",
    "            img = self.transform(img)\n",
    "\n",
    "        if target is None:\n",
    "            target = -1\n",
    "        elif self.target_transform is not None:\n",
    "            target = self.target_transform(target)\n",
    "\n",
    "        return img, target\n",
    "\n",
    "def create_datasets(image_size, data_mean, data_std, train_path, val_path):\n",
    "    train_transforms = timm.data.create_transform(\n",
    "        input_size=image_size,\n",
    "        is_training=True,\n",
    "        mean=data_mean,\n",
    "        std=data_std,\n",
    "        #auto_augment=\"rand-m7-mstd0.5-inc1\",\n",
    "    )\n",
    "\n",
    "    eval_transforms = timm.data.create_transform(\n",
    "        input_size=image_size, mean=data_mean, std=data_std\n",
    "    )\n",
    "\n",
    "    #train_dataset = timm.data.dataset.ImageDataset_new(\n",
    "    #train_dataset = ImageDataset_new(\n",
    "        #train_path, transform=train_transforms, load_bytes=False\n",
    "    #)\n",
    "    #eval_dataset = timm.data.dataset.ImageDataset_new(val_path, transform=eval_transforms, load_bytes=False)\n",
    "    #eval_dataset = ImageDataset_new(val_path, transform=eval_transforms, load_bytes=False)\n",
    "    from torchvision import datasets\n",
    "    train_dataset = datasets.ImageFolder(train_path, train_transforms)\n",
    "    eval_dataset = datasets.ImageFolder(val_path, eval_transforms)\n",
    "\n",
    "    return train_dataset, eval_dataset\n",
    "\n",
    "\n",
    "class TimmMixupTrainer(Trainer):\n",
    "    def __init__(self, eval_loss_fn, mixup_args, num_classes, *args, **kwargs):\n",
    "        super().__init__(*args, **kwargs)\n",
    "        self.eval_loss_fn = eval_loss_fn\n",
    "        self.num_updates = None\n",
    "        self.mixup_fn = timm.data.Mixup(**mixup_args)\n",
    "\n",
    "        self.accuracy = torchmetrics.Accuracy(num_classes=num_classes, task=\"multiclass\")\n",
    "        self.ema_accuracy = torchmetrics.Accuracy(num_classes=num_classes, task=\"multiclass\")\n",
    "        self.ema_model = None\n",
    "\n",
    "    def create_scheduler(self):\n",
    "        return timm.scheduler.CosineLRScheduler(\n",
    "            self.optimizer,\n",
    "            t_initial=self.run_config.num_epochs,\n",
    "            cycle_decay=0.5,\n",
    "            lr_min=1e-6,\n",
    "            t_in_epochs=True,\n",
    "            warmup_t=3,\n",
    "            warmup_lr_init=1e-4,\n",
    "            cycle_limit=1,\n",
    "        )\n",
    "\n",
    "    def training_run_start(self):\n",
    "        # Model EMA requires the model without a DDP wrapper and before sync batchnorm conversion\n",
    "        self.ema_model = timm.utils.ModelEmaV2(\n",
    "            self._accelerator.unwrap_model(self.model), decay=0.9\n",
    "        )\n",
    "        if self.run_config.is_distributed:\n",
    "            self.model = torch.nn.SyncBatchNorm.convert_sync_batchnorm(self.model)\n",
    "\n",
    "    def train_epoch_start(self):\n",
    "        super().train_epoch_start()\n",
    "        self.num_updates = self.run_history.current_epoch * len(self._train_dataloader)\n",
    "\n",
    "    def calculate_train_batch_loss(self, batch):\n",
    "        xb, yb = batch\n",
    "        mixup_xb, mixup_yb = self.mixup_fn(xb, yb)\n",
    "        return super().calculate_train_batch_loss((mixup_xb, mixup_yb))\n",
    "\n",
    "    def train_epoch_end(\n",
    "        self,\n",
    "    ):\n",
    "        self.ema_model.update(self.model)\n",
    "        self.ema_model.eval()\n",
    "\n",
    "        if hasattr(self.optimizer, \"sync_lookahead\"):\n",
    "            self.optimizer.sync_lookahead()\n",
    "\n",
    "        # learning rate log\n",
    "        self.run_history.update_metric(\"lr\", self.optimizer.param_groups[0]['lr'])\n",
    "\n",
    "    def scheduler_step(self):\n",
    "        self.num_updates += 1\n",
    "        if self.scheduler is not None:\n",
    "            self.scheduler.step_update(num_updates=self.num_updates)\n",
    "\n",
    "    def calculate_eval_batch_loss(self, batch):\n",
    "        with torch.no_grad():\n",
    "            xb, yb = batch\n",
    "            outputs = self.model(xb)\n",
    "            val_loss = self.eval_loss_fn(outputs, yb)\n",
    "            self.accuracy.update(outputs.argmax(-1), yb)\n",
    "\n",
    "            if self.ema_model is not None:\n",
    "                ema_model_preds = self.ema_model.module(xb).argmax(-1)\n",
    "                self.ema_accuracy.update(ema_model_preds, yb)\n",
    "\n",
    "        return {\"loss\": val_loss, \"model_outputs\": outputs, \"batch_size\": xb.size(0)}\n",
    "\n",
    "    def eval_epoch_end(self):\n",
    "        super().eval_epoch_end()\n",
    "\n",
    "        if self.scheduler is not None:\n",
    "            self.scheduler.step(self.run_history.current_epoch + 1)\n",
    "\n",
    "        self.run_history.update_metric(\"accuracy\", self.accuracy.compute().cpu())\n",
    "        self.run_history.update_metric(\n",
    "            \"ema_model_accuracy\", self.ema_accuracy.compute().cpu()\n",
    "        )\n",
    "        self.accuracy.reset()\n",
    "        self.ema_accuracy.reset()\n",
    "\n",
    "data_path='PCBData'\n",
    "# Set training arguments, hardcoded here for clarity\n",
    "image_size = (224, 224)\n",
    "lr = 5e-3\n",
    "smoothing = 0.1\n",
    "mixup = 0.2\n",
    "cutmix = 1.0\n",
    "batch_size = 32\n",
    "bce_target_thresh = 0.2\n",
    "num_epochs = 40\n",
    "\n",
    "data_path = Path(data_path)\n",
    "train_path = data_path / \"train\"\n",
    "val_path = data_path / \"val\"\n",
    "\n",
    "num_classes = len(list(train_path.iterdir()))\n",
    "\n",
    "mixup_args = dict(\n",
    "    mixup_alpha=mixup,\n",
    "    cutmix_alpha=cutmix,\n",
    "    label_smoothing=smoothing,\n",
    "    num_classes=num_classes,\n",
    ")\n",
    "\n",
    "# Create model using timm\n",
    "model = timm.create_model(\n",
    "    #\"resnet50d\", pretrained=True, num_classes=num_classes, drop_path_rate=0.05\n",
    "    #\"efficientnet_b4.ra2_in1k\", pretrained=True, num_classes=num_classes, drop_path_rate=0.05\n",
    "    \"efficientvit_b3.r224_in1k\", pretrained=True, num_classes=num_classes\n",
    ")\n",
    "\n",
    "# Load data config associated with the model to use in data augmentation pipeline\n",
    "data_config = timm.data.resolve_data_config({}, model=model, verbose=True)\n",
    "data_mean = data_config[\"mean\"]\n",
    "data_std = data_config[\"std\"]\n",
    "\n",
    "# Create training and validation datasets\n",
    "train_dataset, eval_dataset = create_datasets(\n",
    "    train_path=train_path,\n",
    "    val_path=val_path,\n",
    "    image_size=image_size,\n",
    "    data_mean=data_mean,\n",
    "    data_std=data_std,\n",
    ")\n",
    "\n",
    "def my_train():\n",
    "    # Create optimizer\n",
    "    optimizer = timm.optim.create_optimizer_v2(\n",
    "        model, opt=\"lookahead_AdamW\", lr=lr, weight_decay=0.01\n",
    "    )\n",
    "\n",
    "    # As we are using Mixup, we can use BCE during training and CE for evaluation\n",
    "    train_loss_fn = timm.loss.BinaryCrossEntropy(\n",
    "        target_threshold=bce_target_thresh, smoothing=smoothing\n",
    "    )\n",
    "    validate_loss_fn = torch.nn.CrossEntropyLoss()\n",
    "\n",
    "    default_callbacks = list(DEFAULT_CALLBACKS)\n",
    "    default_callbacks.pop(3)\n",
    "\n",
    "    # Create trainer and start training\n",
    "    trainer = TimmMixupTrainer(\n",
    "        model=model,\n",
    "        optimizer=optimizer,\n",
    "        loss_func=train_loss_fn,\n",
    "        eval_loss_fn=validate_loss_fn,\n",
    "        mixup_args=mixup_args,\n",
    "        num_classes=num_classes,\n",
    "        callbacks=[\n",
    "            #*DEFAULT_CALLBACKS,\n",
    "            *default_callbacks,\n",
    "            SaveBestModelCallback(watch_metric=\"accuracy\", greater_is_better=True),\n",
    "            TQDM_progressbar,\n",
    "        ],\n",
    "    )\n",
    "\n",
    "    trainer.train(\n",
    "        per_device_batch_size=batch_size,\n",
    "        train_dataset=train_dataset,\n",
    "        eval_dataset=eval_dataset,\n",
    "        num_epochs=num_epochs,\n",
    "        create_scheduler_fn=trainer.create_scheduler,\n",
    "    )\n",
    "    \n",
    "    print(trainer.scheduler._get_lr())\n",
    "    \n",
    "    @local_process_zero_only\n",
    "    def save_history():\n",
    "        #print(trainer.run_history.get_metric_names())\n",
    "        train_loss_epoch = trainer.run_history.get_metric_values('train_loss_epoch')\n",
    "        eval_loss_epoch = trainer.run_history.get_metric_values('eval_loss_epoch')\n",
    "        accuracy = trainer.run_history.get_metric_values('accuracy')\n",
    "        lr = trainer.run_history.get_metric_values('lr')\n",
    "        df = pd.DataFrame(data={'train_loss': train_loss_epoch,\n",
    "                                'val_loss': eval_loss_epoch,\n",
    "                                'val_acc': accuracy, \n",
    "                                'lr': lr,\n",
    "                               })\n",
    "        df.to_csv('train_history.csv')\n",
    "        #print(trainer.scheduler._get_lr())\n",
    "\n",
    "    save_history()\n",
    "    \n",
    "    #trainer.evaluate(\n",
    "    #    per_device_batch_size=batch_size,\n",
    "    #    dataset=eval_dataset,\n",
    "    #)\n",
    "\n",
    "'''\n",
    "if __name__ == \"__main__\":\n",
    "    parser = argparse.ArgumentParser(description=\"Simple example of training script using timm.\")\n",
    "    parser.add_argument(\"--data_dir\", required=True, help=\"The data folder on disk.\")\n",
    "    #args = parser.parse_args(args=['--data_dir=imagenette2-320'])\n",
    "    args = parser.parse_args(args=['--data_dir=PCBData'])\n",
    "    main(args.data_dir)\n",
    "'''\n",
    "\n",
    "notebook_launcher(my_train, num_processes=4)\n",
    "#my_train()"
   ]
  },
  {
   "cell_type": "code",
   "execution_count": 5,
   "id": "54ec1608-6924-46ae-8b1b-e282bbf0be76",
   "metadata": {},
   "outputs": [
    {
     "ename": "TypeError",
     "evalue": "__init__() missing 16 required positional arguments: 'num_epochs', 'train_per_device_batch_size', 'train_dl_kwargs', 'eval_per_device_batch_size', 'eval_dl_kwargs', 'gradient_accumulation_steps', 'gradient_clip_value', 'train_total_batch_size', 'eval_total_batch_size', 'num_update_steps_per_epoch', 'max_num_train_steps', 'is_local_process_zero', 'is_world_process_zero', 'is_distributed', 'mixed_precision', and 'num_processes'",
     "output_type": "error",
     "traceback": [
      "\u001b[0;31m---------------------------------------------------------------------------\u001b[0m",
      "\u001b[0;31mTypeError\u001b[0m                                 Traceback (most recent call last)",
      "Cell \u001b[0;32mIn[5], line 1\u001b[0m\n\u001b[0;32m----> 1\u001b[0m \u001b[43mTrainerRunConfig\u001b[49m\u001b[43m(\u001b[49m\u001b[43m)\u001b[49m\n",
      "\u001b[0;31mTypeError\u001b[0m: __init__() missing 16 required positional arguments: 'num_epochs', 'train_per_device_batch_size', 'train_dl_kwargs', 'eval_per_device_batch_size', 'eval_dl_kwargs', 'gradient_accumulation_steps', 'gradient_clip_value', 'train_total_batch_size', 'eval_total_batch_size', 'num_update_steps_per_epoch', 'max_num_train_steps', 'is_local_process_zero', 'is_world_process_zero', 'is_distributed', 'mixed_precision', and 'num_processes'"
     ]
    }
   ],
   "source": [
    "TrainerRunConfig()"
   ]
  },
  {
   "cell_type": "code",
   "execution_count": 3,
   "id": "67c1c964-3c48-4b4a-bc4a-7d4cfb9353ad",
   "metadata": {},
   "outputs": [
    {
     "data": {
      "text/plain": [
       "[tensor(0.9085), tensor(0.9116), tensor(0.9382), tensor(0.9366)]"
      ]
     },
     "execution_count": 3,
     "metadata": {},
     "output_type": "execute_result"
    }
   ],
   "source": [
    "trainer_bak.run_history.get_metric_values('accuracy')"
   ]
  },
  {
   "cell_type": "code",
   "execution_count": 2,
   "id": "cf608911-345b-46be-bf4e-c5c7590a3829",
   "metadata": {},
   "outputs": [
    {
     "name": "stdout",
     "output_type": "stream",
     "text": [
      "\n",
      "Starting evaluation run\n"
     ]
    },
    {
     "name": "stderr",
     "output_type": "stream",
     "text": [
      " 92%|██████████████████████████████████████████████████████████████████████████████████████████████████████████▍        | 37/40 [00:01<00:00, 35.36it/s]/home/kotech/venv-lightning/lib/python3.8/site-packages/torchmetrics/utilities/prints.py:43: UserWarning: The ``compute`` method of metric MulticlassAccuracy was called before the ``update`` method which may lead to errors, as metric states have not yet been updated.\n",
      "  warnings.warn(*args, **kwargs)  # noqa: B028\n",
      "100%|███████████████████████████████████████████████████████████████████████████████████████████████████████████████████| 40/40 [00:01<00:00, 21.40it/s]"
     ]
    },
    {
     "name": "stdout",
     "output_type": "stream",
     "text": [
      "\n",
      "evaluation_loss: 0.1907775104045868\n",
      "\n",
      "ema_model_accuracy: 0.0\n",
      "\n",
      "accuracy: 0.942097008228302\n",
      "Finishing evaluation run\n"
     ]
    },
    {
     "name": "stderr",
     "output_type": "stream",
     "text": [
      "\n"
     ]
    }
   ],
   "source": [
    "\n",
    "# Create optimizer\n",
    "optimizer = timm.optim.create_optimizer_v2(\n",
    "    model, opt=\"lookahead_AdamW\", lr=lr, weight_decay=0.01\n",
    ")\n",
    "\n",
    "# As we are using Mixup, we can use BCE during training and CE for evaluation\n",
    "train_loss_fn = timm.loss.BinaryCrossEntropy(\n",
    "    target_threshold=bce_target_thresh, smoothing=smoothing\n",
    ")\n",
    "validate_loss_fn = torch.nn.CrossEntropyLoss()\n",
    "eval_trainer = TimmMixupTrainer(\n",
    "    model=model,\n",
    "    optimizer=optimizer,\n",
    "    loss_func=train_loss_fn,\n",
    "    eval_loss_fn=validate_loss_fn,\n",
    "    mixup_args=mixup_args,\n",
    "    num_classes=num_classes,\n",
    "    callbacks=[\n",
    "        *DEFAULT_CALLBACKS,\n",
    "        #TQDM_progressbar,\n",
    "    ],\n",
    ")\n",
    "eval_trainer.load_checkpoint('best_model.pt', load_optimizer=False)\n",
    "eval_trainer.evaluate(\n",
    "        per_device_batch_size=batch_size,\n",
    "        dataset=eval_dataset,\n",
    "      )"
   ]
  },
  {
   "cell_type": "code",
   "execution_count": 5,
   "id": "3878b99d-0634-46ed-afea-b40ef4956310",
   "metadata": {},
   "outputs": [
    {
     "ename": "AttributeError",
     "evalue": "'NoneType' object has no attribute '_get_lr'",
     "output_type": "error",
     "traceback": [
      "\u001b[0;31m---------------------------------------------------------------------------\u001b[0m",
      "\u001b[0;31mAttributeError\u001b[0m                            Traceback (most recent call last)",
      "Cell \u001b[0;32mIn[5], line 1\u001b[0m\n\u001b[0;32m----> 1\u001b[0m \u001b[43meval_trainer\u001b[49m\u001b[38;5;241;43m.\u001b[39;49m\u001b[43mscheduler\u001b[49m\u001b[38;5;241;43m.\u001b[39;49m\u001b[43m_get_lr\u001b[49m()\n",
      "\u001b[0;31mAttributeError\u001b[0m: 'NoneType' object has no attribute '_get_lr'"
     ]
    }
   ],
   "source": [
    "eval_trainer.scheduler._get_lr()"
   ]
  },
  {
   "cell_type": "markdown",
   "id": "e72b845c-67ef-4685-9c49-14065700c4f4",
   "metadata": {},
   "source": [
    "https://github.com/huggingface/accelerate/blob/main/examples/cv_example.py"
   ]
  },
  {
   "cell_type": "code",
   "execution_count": 26,
   "id": "3e0a780f-0ffe-43d5-810f-517c484da966",
   "metadata": {},
   "outputs": [
    {
     "name": "stdout",
     "output_type": "stream",
     "text": [
      "tensor([1, 1, 1, 0, 1, 1, 0, 0, 0, 0, 0, 0, 0, 0, 0, 0, 0, 0, 0, 0, 0, 0, 0, 0,\n",
      "        0, 0, 1, 0, 0, 0, 0, 0, 0, 0, 0, 1, 0, 0, 1, 1, 0, 0, 0, 0, 0, 0, 0, 0,\n",
      "        0, 0, 0, 0, 0, 0, 0, 0, 0, 0, 0, 0, 0, 0, 0, 0])\n",
      "tensor([0, 0, 0, 0, 0, 0, 0, 0, 0, 0, 0, 0, 0, 0, 0, 0, 0, 0, 0, 0, 0, 0, 0, 0,\n",
      "        0, 0, 0, 0, 0, 0, 0, 0, 0, 0, 0, 0, 0, 0, 0, 0, 0, 0, 0, 0, 0, 0, 0, 0,\n",
      "        0, 0, 0, 0, 0, 0, 0, 0, 0, 0, 0, 0, 0, 0, 0, 0])\n",
      "tensor([0, 0, 0, 0, 0, 0, 0, 0, 0, 0, 0, 0, 1, 0, 0, 0, 0, 0, 0, 0, 0, 0, 0, 0,\n",
      "        0, 0, 0, 0, 0, 0, 0, 0, 0, 0, 0, 0, 0, 0, 0, 0, 0, 0, 0, 0, 0, 0, 0, 0,\n",
      "        0, 0, 0, 0, 0, 0, 0, 0, 0, 0, 0, 0, 0, 0, 0, 0])\n",
      "tensor([0, 0, 0, 0, 0, 0, 0, 0, 0, 0, 0, 0, 0, 0, 0, 0, 0, 0, 0, 0, 0, 0, 0, 0,\n",
      "        0, 0, 0, 0, 0, 0, 0, 0, 0, 0, 0, 0, 0, 0, 0, 0, 0, 0, 0, 0, 0, 0, 0, 0,\n",
      "        0, 0, 0, 0, 0, 0, 0, 0, 0, 0, 0, 0, 0, 0, 0, 0])\n",
      "tensor([0, 0, 0, 0, 0, 0, 0, 0, 0, 0, 0, 0, 0, 0, 0, 0, 0, 0, 0, 0, 0, 0, 0, 0,\n",
      "        0, 0, 0, 0, 0, 0, 1, 0, 0, 0, 0, 0, 0, 0, 0, 0, 0, 0, 0, 0, 0, 0, 0, 0,\n",
      "        0, 0, 0, 0, 0, 0, 0, 0, 0, 0, 0, 0, 0, 0, 0, 0])\n",
      "tensor([0, 0, 0, 0, 0, 0, 0, 0, 0, 0, 0, 0, 0, 0, 0, 0, 0, 0, 0, 0, 0, 0, 0, 0,\n",
      "        0, 0, 0, 0, 0, 0, 0, 0, 0, 0, 0, 0, 0, 0, 0, 0, 0, 0, 0, 0, 0, 0, 0, 0,\n",
      "        0, 0, 0, 0, 0, 0, 0, 0, 0, 0, 0, 0, 0, 0, 0, 0])\n",
      "tensor([0, 0, 0, 0, 0, 0, 0, 0, 0, 0, 0, 0, 0, 0, 0, 0, 0, 0, 0, 0, 0, 0, 0, 0,\n",
      "        0, 0, 0, 0, 0, 0, 0, 0, 0, 0, 0, 0, 0, 0, 0, 0, 0, 0, 0, 0, 0, 0, 0, 0,\n",
      "        0, 0, 0, 0, 0, 0, 0, 0, 0, 0, 0, 0, 0, 0, 1, 1])\n",
      "tensor([0, 0, 0, 0, 0, 0, 0, 0, 0, 0, 0, 0, 0, 0, 0, 0, 0, 0, 0, 0, 0, 0, 0, 0,\n",
      "        0, 0, 0, 0, 0, 0, 0, 0, 0, 0, 0, 0, 0, 0, 0, 0, 0, 0, 0, 0, 0, 0, 0, 0,\n",
      "        0, 0, 0, 0, 0, 0, 0, 0, 0, 0, 0, 0, 0, 0, 0, 0])\n",
      "tensor([0, 0, 0, 0, 0, 0, 0, 0, 0, 0, 0, 0, 0, 0, 0, 0, 0, 0, 0, 0, 0, 0, 1, 0,\n",
      "        0, 0, 0, 0, 0, 0, 0, 0, 0, 0, 0, 0, 0, 0, 0, 0, 0, 0, 0, 0, 0, 0, 0, 0,\n",
      "        0, 0, 0, 0, 0, 0, 0, 0, 0, 0, 0, 1, 0, 0, 0, 0])\n",
      "tensor([0, 0, 0, 0, 0, 0, 0, 0, 0, 0, 0, 0, 0, 0, 0, 0, 0, 0, 0, 0, 0, 0, 0, 0,\n",
      "        0, 0, 0, 0, 0, 0, 0, 0, 0, 0, 0, 0, 0, 0, 0, 0, 0, 0, 0, 0, 0, 0, 0, 0,\n",
      "        0, 0, 0, 0, 0, 0, 0, 0, 0, 0, 0, 0, 0, 0, 0, 0])\n",
      "tensor([0, 0, 0, 0, 0, 0, 0, 0, 0, 0, 0, 0, 0, 0, 0, 0, 0, 0, 0, 0, 0, 0, 0, 0,\n",
      "        0, 0, 0, 0, 0, 0, 0, 0, 0, 0, 0, 0, 0, 0, 0, 1, 0, 0, 0, 0, 0, 0, 0, 0,\n",
      "        0, 0, 0, 0, 0, 0, 0, 0, 0, 0, 0, 0, 0, 0, 0, 0])\n",
      "tensor([0, 0, 0, 0, 0, 0, 0, 0, 0, 0, 0, 0, 0, 0, 0, 0, 0, 0, 0, 0, 0, 0, 0, 0,\n",
      "        0, 0, 0, 0, 0, 0, 0, 0, 0, 0, 0, 0, 0, 0, 0, 0, 0, 0, 0, 0, 0, 0, 0, 0,\n",
      "        0, 0, 0, 0, 0, 0, 0, 0, 0, 0, 0, 0, 0, 0, 0, 0])\n",
      "tensor([0, 0, 0, 0, 0, 0, 0, 0, 0, 0, 0, 0, 0, 0, 0, 0, 0, 0, 0, 0, 0, 0, 0, 0,\n",
      "        0, 0, 0, 0, 0, 0, 0, 0, 0, 0, 0, 0, 0, 0, 0, 0, 0, 0, 0, 0, 0, 0, 0, 0,\n",
      "        0, 0, 0, 0, 0, 0, 0, 0, 0, 0, 0, 0, 0, 0, 0, 1])\n",
      "tensor([0, 0, 0, 0, 0, 0, 0, 0, 0, 0, 0, 0, 0, 0, 0, 0, 0, 0, 0, 0, 0, 0, 0, 0,\n",
      "        0, 0, 0, 0, 0, 0, 0, 0, 0, 0, 0, 0, 0, 0, 0, 0, 0, 0, 0, 0, 0, 0, 0, 0,\n",
      "        0, 0, 0, 0, 0, 0, 0, 0, 0, 0, 0, 0, 0, 0, 0, 0])\n",
      "tensor([0, 0, 0, 0, 0, 0, 0, 0, 0, 0, 0, 0, 0, 1, 0, 1, 0, 0, 0, 0, 0, 0, 0, 1,\n",
      "        0, 0, 0, 0, 0, 0, 0, 0, 0, 0, 0, 0, 0, 0, 0, 0, 0, 0, 0, 0, 0, 0, 0, 0,\n",
      "        0, 0, 0, 0, 0, 0, 1, 0, 0, 0, 0, 0, 1, 0, 0, 0])\n",
      "tensor([0, 0, 0, 0, 0, 0, 0, 0, 0, 0, 0, 0, 0, 0, 0, 0, 0, 0, 0, 0, 0, 0, 0, 0,\n",
      "        0, 0, 0, 0, 0, 0, 0, 0, 0, 0, 0, 0, 0, 0, 0, 0, 0, 0, 0, 0, 0, 0, 0, 0,\n",
      "        0, 0, 0, 0, 0, 0, 0, 0, 0, 0, 0, 0, 0, 0, 0, 0])\n",
      "tensor([0, 0, 0, 0, 0, 0, 0, 0, 1, 0, 0, 0, 0, 0, 0, 0, 0, 0, 0, 0, 0, 0, 0, 1,\n",
      "        0, 0, 0, 0, 0, 0, 0, 0, 0, 0, 0, 0, 0, 0, 0, 0, 0, 0, 0, 0, 0, 0, 0, 0,\n",
      "        0, 0, 0, 0, 0, 0, 0, 0, 0, 0, 0, 0, 0, 0, 0, 0])\n",
      "tensor([0, 0, 0, 0, 0, 0, 0, 0, 0, 0, 0, 0, 0, 0, 0, 0, 0, 0, 0, 0, 0, 0, 0, 0,\n",
      "        0, 0, 0, 0, 0, 0, 0, 0, 0, 0, 0, 0, 0, 0, 0, 0, 0, 0, 0, 0, 0, 0, 0, 0,\n",
      "        0, 0, 0, 0, 0, 0, 0, 0, 0, 0, 0, 0, 0, 0, 0, 0])\n",
      "tensor([0, 0, 0, 0, 0, 0, 0, 0, 0, 0, 0, 0, 0, 0, 0, 0, 0, 0, 0, 1, 0, 0, 0, 0,\n",
      "        0, 0, 0, 0, 0, 0, 0, 0, 0, 0, 0, 0, 0, 0, 0, 0, 0, 0, 0, 0, 0, 0, 0, 0,\n",
      "        0, 0, 0, 0, 0, 0, 0, 0, 0, 0, 0, 0, 0, 0, 0, 0])\n",
      "tensor([0, 0, 0, 0, 0, 0, 0, 0, 0, 0, 0, 0, 0, 0, 0, 0, 0, 0, 0, 0, 0, 0, 0, 0,\n",
      "        0, 0, 0, 0, 0, 0, 0, 0, 0, 0, 0, 0, 0, 0, 0, 0, 0, 0, 0, 0, 0, 0, 0, 0,\n",
      "        0, 0, 0, 0, 0, 0, 0, 0, 0, 0, 0, 0, 0, 0, 0, 0])\n",
      "tensor([0, 0, 0, 0, 0, 0, 0, 0, 0, 0, 0, 1, 0, 0, 0, 0, 0, 0, 0, 0, 0, 0, 0, 0,\n",
      "        0, 0, 0, 0, 0, 0, 0, 0, 0, 0, 0, 0, 1, 0, 0, 0, 0, 0, 0, 0, 0, 0, 0, 0,\n",
      "        0, 0, 0, 0, 0, 0, 0, 0, 0, 0, 0, 0, 0, 0, 0, 0])\n",
      "tensor([0, 0, 0, 0, 0, 0, 0, 0, 0, 0, 0, 0, 0, 0, 0, 0, 0, 0, 0, 0, 0, 0, 0, 0,\n",
      "        0, 0, 0, 0, 0, 0, 0, 0, 0, 0, 0, 0, 0, 0, 0, 0, 0, 0, 0, 0, 0, 0, 0, 0,\n",
      "        0, 0, 0, 0, 0, 0, 0, 0, 0, 0, 0, 0, 0, 0, 0, 0])\n",
      "tensor([0, 0, 0, 0, 0, 0, 0, 0, 0, 0, 0, 0, 0, 0, 0, 0, 0, 0, 0, 0, 0, 0, 0, 0,\n",
      "        0, 0, 0, 0, 0, 0, 0, 0, 0, 0, 0, 0, 0, 0, 0, 0, 0, 0, 0, 0, 0, 0, 0, 0,\n",
      "        0, 0, 0, 0, 0, 0, 0, 0, 0, 0, 0, 0, 0, 0, 0, 0])\n",
      "tensor([0, 0, 0, 0, 0, 0, 0, 0, 0, 0, 0, 0, 0, 0, 0, 0, 0, 0, 0, 0, 0, 0, 0, 0,\n",
      "        0, 0, 0, 0, 0, 0, 0, 0, 0, 0, 0, 0, 0, 0, 0, 0, 0, 0, 0, 0, 0, 0, 0, 0,\n",
      "        0, 0, 0, 0, 0, 0, 0, 0, 0, 0, 0, 0, 0, 0, 0, 0])\n",
      "tensor([0, 0, 0, 0, 0, 0, 0, 1, 0, 1, 1, 0, 0, 0, 0, 0, 0, 0, 0, 0, 0, 0, 0, 0,\n",
      "        0, 0, 0, 0, 0, 0, 0, 0, 0, 0, 0, 0, 0, 0, 0, 0, 0, 0, 0, 0, 0, 0, 1, 0,\n",
      "        0, 0, 0, 1, 0, 0, 0, 0, 0, 0, 0, 0, 0, 0, 0, 0])\n",
      "tensor([0, 0, 0, 0, 0, 0, 0, 0, 0, 0, 0, 0, 0, 0, 0, 0, 0, 0, 0, 0, 0, 0, 0, 0,\n",
      "        0, 0, 0, 0, 0, 0, 0, 0, 0, 0, 0, 0, 0, 0, 0, 0, 0, 0, 0, 0, 0, 0, 0, 0,\n",
      "        0, 0, 0, 0, 0, 0, 0, 0, 0, 0, 0, 0, 0, 0, 0, 0])\n",
      "tensor([0, 0, 0, 0, 0, 0, 0, 0, 0, 0, 0, 0, 0, 0, 0, 0, 0, 0, 0, 0, 0, 0, 0, 0,\n",
      "        0, 0, 0, 0, 0, 0, 0, 0, 0, 0, 0, 0, 0, 0, 0, 0, 0, 0, 0, 0, 0, 0, 0, 0,\n",
      "        0, 0, 0, 0, 0, 0, 0, 0, 0, 0, 0, 0, 0, 0, 0, 0])\n",
      "tensor([0, 0, 0, 0, 0, 0, 0, 0, 0, 0, 0, 0, 0, 0, 0, 0, 0, 0, 0, 0, 0, 0, 0, 0,\n",
      "        0, 0, 0, 0, 0, 0, 0, 0, 0, 0, 0, 0, 0, 0, 0, 0, 0, 0, 0, 0, 0, 0, 0, 0,\n",
      "        0, 0, 0, 0, 0, 0, 0, 0, 0, 0, 0, 0, 0, 0, 0, 0])\n",
      "tensor([0, 0, 0, 0, 0, 0, 0, 0, 0, 0, 0, 0, 0, 0, 0, 1, 0, 0, 0, 0, 0, 0, 0, 0,\n",
      "        0, 0, 0, 0, 0, 0, 0, 0, 0, 0, 0, 0, 0, 0, 0, 1, 0, 0, 0, 1, 0, 0, 0, 0,\n",
      "        0, 0, 0, 0, 0, 0, 0, 0, 0, 0, 0, 0, 0, 0, 1, 0])\n",
      "tensor([0, 0, 0, 0, 0, 0, 0, 0, 0, 0, 0, 0, 0, 0, 0, 0, 0, 0, 0, 0, 0, 0, 0, 0,\n",
      "        0, 0, 0, 0, 0, 0, 0, 0, 0, 0, 0, 0, 0, 0, 0, 0, 0, 0, 0, 0, 0, 0, 0, 0,\n",
      "        0, 0, 0, 0, 0, 0, 0, 0, 0, 0, 0, 0, 0, 0, 0, 0])\n",
      "tensor([1, 0, 0, 1, 0, 0, 0, 0, 0, 0, 0, 0, 1, 0, 1, 0, 0, 0, 0, 0, 1, 0, 1, 0,\n",
      "        0, 0, 1, 1, 0, 0, 0, 0, 0, 1, 0, 0, 0, 0, 0, 0, 0, 0, 0, 0, 0, 0, 0, 0,\n",
      "        0, 0, 0, 0, 0, 0, 0, 0, 1, 1, 1, 1, 1, 1, 1, 1])\n",
      "tensor([0, 0, 0, 0, 0, 0, 0, 0, 0, 0, 0, 0, 0, 0, 0, 0, 0, 0, 0, 0, 0, 0, 0, 0,\n",
      "        0, 0, 0, 0, 0, 0, 0, 0, 0, 0, 0, 0, 0, 0, 0, 0, 0, 0, 0, 0, 0, 0, 0, 0,\n",
      "        0, 0, 0, 0, 0, 0, 0, 0, 1, 1, 1, 1, 1, 1, 1, 1])\n",
      "tensor([1, 1, 1, 1, 1, 1, 1, 1, 1, 1, 1, 1, 1, 1, 1, 1, 1, 1, 0, 1, 1, 1, 1, 0,\n",
      "        1, 1, 1, 1, 1, 1, 1, 1, 0, 1, 1, 1, 1, 1, 1, 1, 1, 0, 1, 1, 1, 1, 1, 1,\n",
      "        1, 1, 1, 0, 0, 0, 1, 1, 1, 1, 1, 1, 1, 1, 1, 0])\n",
      "tensor([1, 1, 1, 1, 1, 1, 1, 1, 1, 1, 1, 1, 1, 1, 1, 1, 1, 1, 1, 1, 1, 1, 1, 1,\n",
      "        1, 1, 1, 1, 1, 1, 1, 1, 1, 1, 1, 1, 1, 1, 1, 1, 1, 1, 1, 1, 1, 1, 1, 1,\n",
      "        1, 1, 1, 1, 1, 1, 1, 1, 1, 1, 1, 1, 1, 1, 1, 1])\n",
      "tensor([0, 0, 1, 1, 1, 1, 1, 1, 1, 1, 1, 1, 0, 1, 1, 1, 1, 1, 1, 1, 1, 1, 1, 1,\n",
      "        0, 1, 1, 1, 1, 1, 1, 1, 1, 1, 1, 1, 1, 1, 1, 1, 1, 1, 1, 0, 1, 1, 1, 1,\n",
      "        0, 0, 1, 1, 1, 1, 1, 1, 1, 1, 1, 1, 1, 1, 1, 0])\n",
      "tensor([1, 1, 1, 1, 1, 1, 1, 1, 1, 1, 1, 1, 1, 1, 1, 1, 1, 1, 1, 1, 1, 1, 1, 1,\n",
      "        1, 1, 1, 1, 1, 1, 1, 1, 1, 1, 1, 1, 1, 1, 1, 1, 1, 1, 1, 1, 1, 1, 1, 1,\n",
      "        1, 1, 1, 1, 1, 1, 1, 1, 1, 1, 1, 1, 1, 1, 1, 1])\n",
      "tensor([1, 1, 0, 1, 1, 1, 1, 1, 1, 0, 1, 1, 1, 1, 1, 1, 1, 1, 1, 0, 1, 1, 1, 1,\n",
      "        1, 1, 1, 1, 1, 1, 1, 1, 1, 1, 1, 1, 0, 0, 1, 1, 0, 1, 1, 1, 1, 1, 0, 1,\n",
      "        1, 0, 1, 1, 1, 1, 1, 1, 1, 1, 1, 1, 0, 1, 1, 1])\n",
      "tensor([1, 1, 1, 1, 1, 1, 1, 1, 1, 1, 1, 1, 1, 1, 1, 1, 1, 1, 1, 1, 1, 1, 1, 1,\n",
      "        1, 1, 1, 1, 1, 1, 1, 1, 1, 1, 1, 1, 1, 1, 1, 1, 1, 1, 1, 1, 1, 1, 1, 1,\n",
      "        1, 1, 1, 1, 1, 1, 1, 1, 1, 1, 1, 1, 1, 1, 1, 1])\n",
      "tensor([1, 1, 0, 1, 1, 1, 1, 1, 1, 1, 1, 1, 1, 1, 1, 1, 1, 1, 1, 1, 1, 0, 1, 1,\n",
      "        1, 1, 1, 0, 1, 1, 1, 1, 1, 1, 1, 1, 1, 1, 1, 1, 1, 1, 1, 0, 1, 1, 1, 1,\n",
      "        1, 1, 0, 0, 1, 1, 1, 1, 1, 1, 1, 1, 1, 1])\n",
      "tensor([1, 1, 1, 1, 1, 1, 1, 1, 1, 1, 1, 1, 1, 1, 1, 1, 1, 1, 1, 1, 1, 1, 1, 1,\n",
      "        1, 1, 1, 1, 1, 1, 1, 1, 1, 1, 1, 1, 1, 1, 1, 1, 1, 1, 1, 1, 1, 1, 1, 1,\n",
      "        1, 1, 1, 1, 1, 1, 1, 1, 1, 1, 1, 1, 1, 1])\n"
     ]
    }
   ],
   "source": [
    "device = torch.device('cuda')\n",
    "eval_dataloader = torch.utils.data.DataLoader(eval_dataset, batch_size=64)\n",
    "for i, batch in enumerate(eval_dataloader):\n",
    "    # We could avoid this line since we set the accelerator with `device_placement=True`.\n",
    "    x, y = batch\n",
    "    x = x.to(device)\n",
    "    with torch.no_grad():\n",
    "        outputs = model(x)\n",
    "    predictions = outputs.argmax(dim=-1).to('cpu')\n",
    "    #print(predictions)\n",
    "    #print(y)\n",
    "    #predictions, references = accelerator.gather_for_metrics((predictions, batch[\"label\"]))\n",
    "    #accurate_preds = predictions == references\n",
    "    #num_elems += accurate_preds.shape[0]\n",
    "    #accurate += accurate_preds.long().sum()"
   ]
  },
  {
   "cell_type": "code",
   "execution_count": 10,
   "id": "29cb3f3c-a0f7-4a29-a0a1-8640b1adab8e",
   "metadata": {},
   "outputs": [
    {
     "data": {
      "text/plain": [
       "{'accuracy', 'ema_model_accuracy', 'evaluation_loss'}"
      ]
     },
     "execution_count": 10,
     "metadata": {},
     "output_type": "execute_result"
    }
   ],
   "source": [
    "eval_trainer.run_history.get_metric_names()"
   ]
  },
  {
   "cell_type": "code",
   "execution_count": 12,
   "id": "4bac8bc3-2550-4a3b-9120-209d74b39022",
   "metadata": {},
   "outputs": [
    {
     "data": {
      "text/plain": [
       "[tensor(0.3466)]"
      ]
     },
     "execution_count": 12,
     "metadata": {},
     "output_type": "execute_result"
    }
   ],
   "source": [
    "eval_trainer.run_history.get_metric_values('accuracy')"
   ]
  },
  {
   "cell_type": "code",
   "execution_count": null,
   "id": "fab71bf5-163e-4f0f-a4f3-65c84433e55c",
   "metadata": {},
   "outputs": [],
   "source": []
  }
 ],
 "metadata": {
  "kernelspec": {
   "display_name": "Python 3 (ipykernel)",
   "language": "python",
   "name": "python3"
  },
  "language_info": {
   "codemirror_mode": {
    "name": "ipython",
    "version": 3
   },
   "file_extension": ".py",
   "mimetype": "text/x-python",
   "name": "python",
   "nbconvert_exporter": "python",
   "pygments_lexer": "ipython3",
   "version": "3.8.13"
  }
 },
 "nbformat": 4,
 "nbformat_minor": 5
}
