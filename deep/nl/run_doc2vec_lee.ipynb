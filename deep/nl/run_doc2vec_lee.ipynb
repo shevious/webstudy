{
 "cells": [
  {
   "cell_type": "code",
   "execution_count": 10,
   "metadata": {},
   "outputs": [],
   "source": [
    "%matplotlib inline"
   ]
  },
  {
   "cell_type": "markdown",
   "metadata": {},
   "source": [
    "\n",
    "Doc2Vec Model\n",
    "=============\n",
    "\n",
    "Introduces Gensim's Doc2Vec model and demonstrates its use on the\n",
    "`Lee Corpus <https://hekyll.services.adelaide.edu.au/dspace/bitstream/2440/28910/1/hdl_28910.pdf>`__.\n",
    "\n",
    "\n"
   ]
  },
  {
   "cell_type": "code",
   "execution_count": 11,
   "metadata": {},
   "outputs": [],
   "source": [
    "import logging\n",
    "logging.basicConfig(format='%(asctime)s : %(levelname)s : %(message)s', level=logging.INFO)"
   ]
  },
  {
   "cell_type": "markdown",
   "metadata": {},
   "source": [
    "Doc2Vec is a `core_concepts_model` that represents each\n",
    "`core_concepts_document` as a `core_concepts_vector`.  This\n",
    "tutorial introduces the model and demonstrates how to train and assess it.\n",
    "\n",
    "Here's a list of what we'll be doing:\n",
    "\n",
    "0. Review the relevant models: bag-of-words, Word2Vec, Doc2Vec\n",
    "1. Load and preprocess the training and test corpora (see `core_concepts_corpus`)\n",
    "2. Train a Doc2Vec `core_concepts_model` model using the training corpus\n",
    "3. Demonstrate how the trained model can be used to infer a `core_concepts_vector`\n",
    "4. Assess the model\n",
    "5. Test the model on the test corpus\n",
    "\n",
    "Review: Bag-of-words\n",
    "--------------------\n",
    "\n",
    ".. Note:: Feel free to skip these review sections if you're already familiar with the models.\n",
    "\n",
    "You may be familiar with the `bag-of-words model\n",
    "<https://en.wikipedia.org/wiki/Bag-of-words_model>`_ from the\n",
    "`core_concepts_vector` section.\n",
    "This model transforms each document to a fixed-length vector of integers.\n",
    "For example, given the sentences:\n",
    "\n",
    "- ``John likes to watch movies. Mary likes movies too.``\n",
    "- ``John also likes to watch football games. Mary hates football.``\n",
    "\n",
    "The model outputs the vectors:\n",
    "\n",
    "- ``[1, 2, 1, 1, 2, 1, 1, 0, 0, 0, 0]``\n",
    "- ``[1, 1, 1, 1, 0, 1, 0, 1, 2, 1, 1]``\n",
    "\n",
    "Each vector has 10 elements, where each element counts the number of times a\n",
    "particular word occurred in the document.\n",
    "The order of elements is arbitrary.\n",
    "In the example above, the order of the elements corresponds to the words:\n",
    "``[\"John\", \"likes\", \"to\", \"watch\", \"movies\", \"Mary\", \"too\", \"also\", \"football\", \"games\", \"hates\"]``.\n",
    "\n",
    "Bag-of-words models are surprisingly effective, but have several weaknesses.\n",
    "\n",
    "First, they lose all information about word order: \"John likes Mary\" and\n",
    "\"Mary likes John\" correspond to identical vectors. There is a solution: bag\n",
    "of `n-grams <https://en.wikipedia.org/wiki/N-gram>`__\n",
    "models consider word phrases of length n to represent documents as\n",
    "fixed-length vectors to capture local word order but suffer from data\n",
    "sparsity and high dimensionality.\n",
    "\n",
    "Second, the model does not attempt to learn the meaning of the underlying\n",
    "words, and as a consequence, the distance between vectors doesn't always\n",
    "reflect the difference in meaning.  The ``Word2Vec`` model addresses this\n",
    "second problem.\n",
    "\n",
    "Review: ``Word2Vec`` Model\n",
    "--------------------------\n",
    "\n",
    "``Word2Vec`` is a more recent model that embeds words in a lower-dimensional\n",
    "vector space using a shallow neural network. The result is a set of\n",
    "word-vectors where vectors close together in vector space have similar\n",
    "meanings based on context, and word-vectors distant to each other have\n",
    "differing meanings. For example, ``strong`` and ``powerful`` would be close\n",
    "together and ``strong`` and ``Paris`` would be relatively far.\n",
    "\n",
    "Gensim's :py:class:`~gensim.models.word2vec.Word2Vec` class implements this model.\n",
    "\n",
    "With the ``Word2Vec`` model, we can calculate the vectors for each **word** in a document.\n",
    "But what if we want to calculate a vector for the **entire document**\\ ?\n",
    "We could average the vectors for each word in the document - while this is quick and crude, it can often be useful.\n",
    "However, there is a better way...\n",
    "\n",
    "Introducing: Paragraph Vector\n",
    "-----------------------------\n",
    "\n",
    ".. Important:: In Gensim, we refer to the Paragraph Vector model as ``Doc2Vec``.\n",
    "\n",
    "Le and Mikolov in 2014 introduced the `Doc2Vec algorithm <https://cs.stanford.edu/~quocle/paragraph_vector.pdf>`__,\n",
    "which usually outperforms such simple-averaging of ``Word2Vec`` vectors.\n",
    "\n",
    "The basic idea is: act as if a document has another floating word-like\n",
    "vector, which contributes to all training predictions, and is updated like\n",
    "other word-vectors, but we will call it a doc-vector. Gensim's\n",
    ":py:class:`~gensim.models.doc2vec.Doc2Vec` class implements this algorithm.\n",
    "\n",
    "There are two implementations:\n",
    "\n",
    "1. Paragraph Vector - Distributed Memory (PV-DM)\n",
    "2. Paragraph Vector - Distributed Bag of Words (PV-DBOW)\n",
    "\n",
    ".. Important::\n",
    "  Don't let the implementation details below scare you.\n",
    "  They're advanced material: if it's too much, then move on to the next section.\n",
    "\n",
    "PV-DM is analogous to Word2Vec CBOW. The doc-vectors are obtained by training\n",
    "a neural network on the synthetic task of predicting a center word based an\n",
    "average of both context word-vectors and the full document's doc-vector.\n",
    "\n",
    "PV-DBOW is analogous to Word2Vec SG. The doc-vectors are obtained by training\n",
    "a neural network on the synthetic task of predicting a target word just from\n",
    "the full document's doc-vector. (It is also common to combine this with\n",
    "skip-gram testing, using both the doc-vector and nearby word-vectors to\n",
    "predict a single target word, but only one at a time.)\n",
    "\n",
    "Prepare the Training and Test Data\n",
    "----------------------------------\n",
    "\n",
    "For this tutorial, we'll be training our model using the `Lee Background\n",
    "Corpus\n",
    "<https://hekyll.services.adelaide.edu.au/dspace/bitstream/2440/28910/1/hdl_28910.pdf>`_\n",
    "included in gensim. This corpus contains 314 documents selected from the\n",
    "Australian Broadcasting Corporation’s news mail service, which provides text\n",
    "e-mails of headline stories and covers a number of broad topics.\n",
    "\n",
    "And we'll test our model by eye using the much shorter `Lee Corpus\n",
    "<https://hekyll.services.adelaide.edu.au/dspace/bitstream/2440/28910/1/hdl_28910.pdf>`_\n",
    "which contains 50 documents.\n",
    "\n",
    "\n"
   ]
  },
  {
   "cell_type": "code",
   "execution_count": 12,
   "metadata": {},
   "outputs": [],
   "source": [
    "import os\n",
    "import gensim\n",
    "# Set file names for train and test data\n",
    "test_data_dir = os.path.join(gensim.__path__[0], 'test', 'test_data')\n",
    "lee_train_file = os.path.join(test_data_dir, 'lee_background.cor')\n",
    "lee_test_file = os.path.join(test_data_dir, 'lee.cor')"
   ]
  },
  {
   "cell_type": "markdown",
   "metadata": {},
   "source": [
    "Define a Function to Read and Preprocess Text\n",
    "---------------------------------------------\n",
    "\n",
    "Below, we define a function to:\n",
    "\n",
    "- open the train/test file (with latin encoding)\n",
    "- read the file line-by-line\n",
    "- pre-process each line (tokenize text into individual words, remove punctuation, set to lowercase, etc)\n",
    "\n",
    "The file we're reading is a **corpus**.\n",
    "Each line of the file is a **document**.\n",
    "\n",
    ".. Important::\n",
    "  To train the model, we'll need to associate a tag/number with each document\n",
    "  of the training corpus. In our case, the tag is simply the zero-based line\n",
    "  number.\n",
    "\n",
    "\n"
   ]
  },
  {
   "cell_type": "code",
   "execution_count": 13,
   "metadata": {},
   "outputs": [],
   "source": [
    "import smart_open\n",
    "\n",
    "def read_corpus(fname, tokens_only=False):\n",
    "    with smart_open.open(fname, encoding=\"iso-8859-1\") as f:\n",
    "        for i, line in enumerate(f):\n",
    "            tokens = gensim.utils.simple_preprocess(line)\n",
    "            if tokens_only:\n",
    "                yield tokens\n",
    "            else:\n",
    "                # For training data, add tags\n",
    "                yield gensim.models.doc2vec.TaggedDocument(tokens, [i])\n",
    "\n",
    "train_corpus = list(read_corpus(lee_train_file))\n",
    "test_corpus = list(read_corpus(lee_test_file, tokens_only=True))"
   ]
  },
  {
   "cell_type": "markdown",
   "metadata": {},
   "source": [
    "Let's take a look at the training corpus\n",
    "\n",
    "\n"
   ]
  },
  {
   "cell_type": "code",
   "execution_count": 14,
   "metadata": {},
   "outputs": [
    {
     "name": "stdout",
     "output_type": "stream",
     "text": [
      "[TaggedDocument(words=['hundreds', 'of', 'people', 'have', 'been', 'forced', 'to', 'vacate', 'their', 'homes', 'in', 'the', 'southern', 'highlands', 'of', 'new', 'south', 'wales', 'as', 'strong', 'winds', 'today', 'pushed', 'huge', 'bushfire', 'towards', 'the', 'town', 'of', 'hill', 'top', 'new', 'blaze', 'near', 'goulburn', 'south', 'west', 'of', 'sydney', 'has', 'forced', 'the', 'closure', 'of', 'the', 'hume', 'highway', 'at', 'about', 'pm', 'aedt', 'marked', 'deterioration', 'in', 'the', 'weather', 'as', 'storm', 'cell', 'moved', 'east', 'across', 'the', 'blue', 'mountains', 'forced', 'authorities', 'to', 'make', 'decision', 'to', 'evacuate', 'people', 'from', 'homes', 'in', 'outlying', 'streets', 'at', 'hill', 'top', 'in', 'the', 'new', 'south', 'wales', 'southern', 'highlands', 'an', 'estimated', 'residents', 'have', 'left', 'their', 'homes', 'for', 'nearby', 'mittagong', 'the', 'new', 'south', 'wales', 'rural', 'fire', 'service', 'says', 'the', 'weather', 'conditions', 'which', 'caused', 'the', 'fire', 'to', 'burn', 'in', 'finger', 'formation', 'have', 'now', 'eased', 'and', 'about', 'fire', 'units', 'in', 'and', 'around', 'hill', 'top', 'are', 'optimistic', 'of', 'defending', 'all', 'properties', 'as', 'more', 'than', 'blazes', 'burn', 'on', 'new', 'year', 'eve', 'in', 'new', 'south', 'wales', 'fire', 'crews', 'have', 'been', 'called', 'to', 'new', 'fire', 'at', 'gunning', 'south', 'of', 'goulburn', 'while', 'few', 'details', 'are', 'available', 'at', 'this', 'stage', 'fire', 'authorities', 'says', 'it', 'has', 'closed', 'the', 'hume', 'highway', 'in', 'both', 'directions', 'meanwhile', 'new', 'fire', 'in', 'sydney', 'west', 'is', 'no', 'longer', 'threatening', 'properties', 'in', 'the', 'cranebrook', 'area', 'rain', 'has', 'fallen', 'in', 'some', 'parts', 'of', 'the', 'illawarra', 'sydney', 'the', 'hunter', 'valley', 'and', 'the', 'north', 'coast', 'but', 'the', 'bureau', 'of', 'meteorology', 'claire', 'richards', 'says', 'the', 'rain', 'has', 'done', 'little', 'to', 'ease', 'any', 'of', 'the', 'hundred', 'fires', 'still', 'burning', 'across', 'the', 'state', 'the', 'falls', 'have', 'been', 'quite', 'isolated', 'in', 'those', 'areas', 'and', 'generally', 'the', 'falls', 'have', 'been', 'less', 'than', 'about', 'five', 'millimetres', 'she', 'said', 'in', 'some', 'places', 'really', 'not', 'significant', 'at', 'all', 'less', 'than', 'millimetre', 'so', 'there', 'hasn', 'been', 'much', 'relief', 'as', 'far', 'as', 'rain', 'is', 'concerned', 'in', 'fact', 'they', 've', 'probably', 'hampered', 'the', 'efforts', 'of', 'the', 'firefighters', 'more', 'because', 'of', 'the', 'wind', 'gusts', 'that', 'are', 'associated', 'with', 'those', 'thunderstorms'], tags=[0]), TaggedDocument(words=['indian', 'security', 'forces', 'have', 'shot', 'dead', 'eight', 'suspected', 'militants', 'in', 'night', 'long', 'encounter', 'in', 'southern', 'kashmir', 'the', 'shootout', 'took', 'place', 'at', 'dora', 'village', 'some', 'kilometers', 'south', 'of', 'the', 'kashmiri', 'summer', 'capital', 'srinagar', 'the', 'deaths', 'came', 'as', 'pakistani', 'police', 'arrested', 'more', 'than', 'two', 'dozen', 'militants', 'from', 'extremist', 'groups', 'accused', 'of', 'staging', 'an', 'attack', 'on', 'india', 'parliament', 'india', 'has', 'accused', 'pakistan', 'based', 'lashkar', 'taiba', 'and', 'jaish', 'mohammad', 'of', 'carrying', 'out', 'the', 'attack', 'on', 'december', 'at', 'the', 'behest', 'of', 'pakistani', 'military', 'intelligence', 'military', 'tensions', 'have', 'soared', 'since', 'the', 'raid', 'with', 'both', 'sides', 'massing', 'troops', 'along', 'their', 'border', 'and', 'trading', 'tit', 'for', 'tat', 'diplomatic', 'sanctions', 'yesterday', 'pakistan', 'announced', 'it', 'had', 'arrested', 'lashkar', 'taiba', 'chief', 'hafiz', 'mohammed', 'saeed', 'police', 'in', 'karachi', 'say', 'it', 'is', 'likely', 'more', 'raids', 'will', 'be', 'launched', 'against', 'the', 'two', 'groups', 'as', 'well', 'as', 'other', 'militant', 'organisations', 'accused', 'of', 'targetting', 'india', 'military', 'tensions', 'between', 'india', 'and', 'pakistan', 'have', 'escalated', 'to', 'level', 'not', 'seen', 'since', 'their', 'war'], tags=[1])]\n"
     ]
    }
   ],
   "source": [
    "print(train_corpus[:2])"
   ]
  },
  {
   "cell_type": "markdown",
   "metadata": {},
   "source": [
    "And the testing corpus looks like this:\n",
    "\n",
    "\n"
   ]
  },
  {
   "cell_type": "code",
   "execution_count": 15,
   "metadata": {},
   "outputs": [
    {
     "name": "stdout",
     "output_type": "stream",
     "text": [
      "[['the', 'national', 'executive', 'of', 'the', 'strife', 'torn', 'democrats', 'last', 'night', 'appointed', 'little', 'known', 'west', 'australian', 'senator', 'brian', 'greig', 'as', 'interim', 'leader', 'shock', 'move', 'likely', 'to', 'provoke', 'further', 'conflict', 'between', 'the', 'party', 'senators', 'and', 'its', 'organisation', 'in', 'move', 'to', 'reassert', 'control', 'over', 'the', 'party', 'seven', 'senators', 'the', 'national', 'executive', 'last', 'night', 'rejected', 'aden', 'ridgeway', 'bid', 'to', 'become', 'interim', 'leader', 'in', 'favour', 'of', 'senator', 'greig', 'supporter', 'of', 'deposed', 'leader', 'natasha', 'stott', 'despoja', 'and', 'an', 'outspoken', 'gay', 'rights', 'activist'], ['cash', 'strapped', 'financial', 'services', 'group', 'amp', 'has', 'shelved', 'million', 'plan', 'to', 'buy', 'shares', 'back', 'from', 'investors', 'and', 'will', 'raise', 'million', 'in', 'fresh', 'capital', 'after', 'profits', 'crashed', 'in', 'the', 'six', 'months', 'to', 'june', 'chief', 'executive', 'paul', 'batchelor', 'said', 'the', 'result', 'was', 'solid', 'in', 'what', 'he', 'described', 'as', 'the', 'worst', 'conditions', 'for', 'stock', 'markets', 'in', 'years', 'amp', 'half', 'year', 'profit', 'sank', 'per', 'cent', 'to', 'million', 'or', 'share', 'as', 'australia', 'largest', 'investor', 'and', 'fund', 'manager', 'failed', 'to', 'hit', 'projected', 'per', 'cent', 'earnings', 'growth', 'targets', 'and', 'was', 'battered', 'by', 'falling', 'returns', 'on', 'share', 'markets']]\n"
     ]
    }
   ],
   "source": [
    "print(test_corpus[:2])"
   ]
  },
  {
   "cell_type": "markdown",
   "metadata": {},
   "source": [
    "Notice that the testing corpus is just a list of lists and does not contain\n",
    "any tags.\n",
    "\n",
    "\n"
   ]
  },
  {
   "cell_type": "markdown",
   "metadata": {},
   "source": [
    "Training the Model\n",
    "------------------\n",
    "\n",
    "Now, we'll instantiate a Doc2Vec model with a vector size with 50 dimensions and\n",
    "iterating over the training corpus 40 times. We set the minimum word count to\n",
    "2 in order to discard words with very few occurrences. (Without a variety of\n",
    "representative examples, retaining such infrequent words can often make a\n",
    "model worse!) Typical iteration counts in the published `Paragraph Vector paper <https://cs.stanford.edu/~quocle/paragraph_vector.pdf>`__\n",
    "results, using 10s-of-thousands to millions of docs, are 10-20. More\n",
    "iterations take more time and eventually reach a point of diminishing\n",
    "returns.\n",
    "\n",
    "However, this is a very very small dataset (300 documents) with shortish\n",
    "documents (a few hundred words). Adding training passes can sometimes help\n",
    "with such small datasets.\n",
    "\n",
    "\n"
   ]
  },
  {
   "cell_type": "code",
   "execution_count": 16,
   "metadata": {},
   "outputs": [],
   "source": [
    "model = gensim.models.doc2vec.Doc2Vec(vector_size=50, min_count=2, epochs=40)"
   ]
  },
  {
   "cell_type": "markdown",
   "metadata": {},
   "source": [
    "Build a vocabulary\n",
    "\n"
   ]
  },
  {
   "cell_type": "code",
   "execution_count": 17,
   "metadata": {},
   "outputs": [
    {
     "name": "stderr",
     "output_type": "stream",
     "text": [
      "2021-02-24 13:49:40,842 : INFO : collecting all words and their counts\n",
      "2021-02-24 13:49:40,844 : INFO : PROGRESS: at example #0, processed 0 words (0/s), 0 word types, 0 tags\n",
      "2021-02-24 13:49:40,866 : INFO : collected 6981 word types and 300 unique tags from a corpus of 300 examples and 58152 words\n",
      "2021-02-24 13:49:40,867 : INFO : Loading a fresh vocabulary\n",
      "2021-02-24 13:49:40,902 : INFO : effective_min_count=2 retains 3955 unique words (56% of original 6981, drops 3026)\n",
      "2021-02-24 13:49:40,903 : INFO : effective_min_count=2 leaves 55126 word corpus (94% of original 58152, drops 3026)\n",
      "2021-02-24 13:49:40,926 : INFO : deleting the raw counts dictionary of 6981 items\n",
      "2021-02-24 13:49:40,927 : INFO : sample=0.001 downsamples 46 most-common words\n",
      "2021-02-24 13:49:40,928 : INFO : downsampling leaves estimated 42390 word corpus (76.9% of prior 55126)\n",
      "2021-02-24 13:49:40,957 : INFO : estimated required memory for 3955 words and 50 dimensions: 3679500 bytes\n",
      "2021-02-24 13:49:40,958 : INFO : resetting layer weights\n"
     ]
    }
   ],
   "source": [
    "model.build_vocab(train_corpus)"
   ]
  },
  {
   "cell_type": "markdown",
   "metadata": {},
   "source": [
    "Essentially, the vocabulary is a list (accessible via\n",
    "``model.wv.index_to_key``) of all of the unique words extracted from the training corpus.\n",
    "Additional attributes for each word are available using the ``model.wv.get_vecattr()`` method,\n",
    "For example, to see how many times ``penalty`` appeared in the training corpus:\n",
    "\n",
    "\n"
   ]
  },
  {
   "cell_type": "code",
   "execution_count": 19,
   "metadata": {},
   "outputs": [
    {
     "name": "stdout",
     "output_type": "stream",
     "text": [
      "Word 'penalty' appeared 4 times in the training corpus.\n"
     ]
    }
   ],
   "source": [
    "print(f\"Word 'penalty' appeared {model.wv.get_vecattr('penalty', 'count')} times in the training corpus.\")"
   ]
  },
  {
   "cell_type": "markdown",
   "metadata": {},
   "source": [
    "Next, train the model on the corpus.\n",
    "If optimized Gensim (with BLAS library) is being used, this should take no more than 3 seconds.\n",
    "If the BLAS library is not being used, this should take no more than 2\n",
    "minutes, so use optimized Gensim with BLAS if you value your time.\n",
    "\n",
    "\n"
   ]
  },
  {
   "cell_type": "code",
   "execution_count": 20,
   "metadata": {},
   "outputs": [
    {
     "name": "stderr",
     "output_type": "stream",
     "text": [
      "2021-02-24 13:49:53,524 : INFO : training model with 3 workers on 3955 vocabulary and 50 features, using sg=0 hs=0 sample=0.001 negative=5 window=5\n",
      "2021-02-24 13:49:53,599 : INFO : worker thread finished; awaiting finish of 2 more threads\n",
      "2021-02-24 13:49:53,602 : INFO : worker thread finished; awaiting finish of 1 more threads\n",
      "2021-02-24 13:49:53,606 : INFO : worker thread finished; awaiting finish of 0 more threads\n",
      "2021-02-24 13:49:53,607 : INFO : EPOCH - 1 : training on 58152 raw words (42703 effective words) took 0.1s, 553293 effective words/s\n",
      "2021-02-24 13:49:53,664 : INFO : worker thread finished; awaiting finish of 2 more threads\n",
      "2021-02-24 13:49:53,674 : INFO : worker thread finished; awaiting finish of 1 more threads\n",
      "2021-02-24 13:49:53,680 : INFO : worker thread finished; awaiting finish of 0 more threads\n",
      "2021-02-24 13:49:53,681 : INFO : EPOCH - 2 : training on 58152 raw words (42601 effective words) took 0.1s, 598736 effective words/s\n",
      "2021-02-24 13:49:53,744 : INFO : worker thread finished; awaiting finish of 2 more threads\n",
      "2021-02-24 13:49:53,754 : INFO : worker thread finished; awaiting finish of 1 more threads\n",
      "2021-02-24 13:49:53,756 : INFO : worker thread finished; awaiting finish of 0 more threads\n",
      "2021-02-24 13:49:53,757 : INFO : EPOCH - 3 : training on 58152 raw words (42684 effective words) took 0.1s, 580421 effective words/s\n",
      "2021-02-24 13:49:53,807 : INFO : worker thread finished; awaiting finish of 2 more threads\n",
      "2021-02-24 13:49:53,811 : INFO : worker thread finished; awaiting finish of 1 more threads\n",
      "2021-02-24 13:49:53,812 : INFO : worker thread finished; awaiting finish of 0 more threads\n",
      "2021-02-24 13:49:53,813 : INFO : EPOCH - 4 : training on 58152 raw words (42648 effective words) took 0.1s, 806294 effective words/s\n",
      "2021-02-24 13:49:53,864 : INFO : worker thread finished; awaiting finish of 2 more threads\n",
      "2021-02-24 13:49:53,871 : INFO : worker thread finished; awaiting finish of 1 more threads\n",
      "2021-02-24 13:49:53,872 : INFO : worker thread finished; awaiting finish of 0 more threads\n",
      "2021-02-24 13:49:53,872 : INFO : EPOCH - 5 : training on 58152 raw words (42736 effective words) took 0.1s, 760293 effective words/s\n",
      "2021-02-24 13:49:53,918 : INFO : worker thread finished; awaiting finish of 2 more threads\n",
      "2021-02-24 13:49:53,928 : INFO : worker thread finished; awaiting finish of 1 more threads\n",
      "2021-02-24 13:49:53,933 : INFO : worker thread finished; awaiting finish of 0 more threads\n",
      "2021-02-24 13:49:53,934 : INFO : EPOCH - 6 : training on 58152 raw words (42649 effective words) took 0.1s, 724218 effective words/s\n",
      "2021-02-24 13:49:53,992 : INFO : worker thread finished; awaiting finish of 2 more threads\n",
      "2021-02-24 13:49:53,994 : INFO : worker thread finished; awaiting finish of 1 more threads\n",
      "2021-02-24 13:49:54,004 : INFO : worker thread finished; awaiting finish of 0 more threads\n",
      "2021-02-24 13:49:54,004 : INFO : EPOCH - 7 : training on 58152 raw words (42746 effective words) took 0.1s, 631084 effective words/s\n",
      "2021-02-24 13:49:54,057 : INFO : worker thread finished; awaiting finish of 2 more threads\n",
      "2021-02-24 13:49:54,063 : INFO : worker thread finished; awaiting finish of 1 more threads\n",
      "2021-02-24 13:49:54,069 : INFO : worker thread finished; awaiting finish of 0 more threads\n",
      "2021-02-24 13:49:54,069 : INFO : EPOCH - 8 : training on 58152 raw words (42770 effective words) took 0.1s, 679551 effective words/s\n",
      "2021-02-24 13:49:54,126 : INFO : worker thread finished; awaiting finish of 2 more threads\n",
      "2021-02-24 13:49:54,133 : INFO : worker thread finished; awaiting finish of 1 more threads\n",
      "2021-02-24 13:49:54,141 : INFO : worker thread finished; awaiting finish of 0 more threads\n",
      "2021-02-24 13:49:54,142 : INFO : EPOCH - 9 : training on 58152 raw words (42672 effective words) took 0.1s, 612725 effective words/s\n",
      "2021-02-24 13:49:54,196 : INFO : worker thread finished; awaiting finish of 2 more threads\n",
      "2021-02-24 13:49:54,204 : INFO : worker thread finished; awaiting finish of 1 more threads\n",
      "2021-02-24 13:49:54,206 : INFO : worker thread finished; awaiting finish of 0 more threads\n",
      "2021-02-24 13:49:54,206 : INFO : EPOCH - 10 : training on 58152 raw words (42673 effective words) took 0.1s, 695788 effective words/s\n",
      "2021-02-24 13:49:54,256 : INFO : worker thread finished; awaiting finish of 2 more threads\n",
      "2021-02-24 13:49:54,264 : INFO : worker thread finished; awaiting finish of 1 more threads\n",
      "2021-02-24 13:49:54,279 : INFO : worker thread finished; awaiting finish of 0 more threads\n",
      "2021-02-24 13:49:54,280 : INFO : EPOCH - 11 : training on 58152 raw words (42699 effective words) took 0.1s, 598535 effective words/s\n",
      "2021-02-24 13:49:54,350 : INFO : worker thread finished; awaiting finish of 2 more threads\n",
      "2021-02-24 13:49:54,353 : INFO : worker thread finished; awaiting finish of 1 more threads\n",
      "2021-02-24 13:49:54,355 : INFO : worker thread finished; awaiting finish of 0 more threads\n",
      "2021-02-24 13:49:54,356 : INFO : EPOCH - 12 : training on 58152 raw words (42636 effective words) took 0.1s, 584788 effective words/s\n",
      "2021-02-24 13:49:54,412 : INFO : worker thread finished; awaiting finish of 2 more threads\n",
      "2021-02-24 13:49:54,415 : INFO : worker thread finished; awaiting finish of 1 more threads\n",
      "2021-02-24 13:49:54,419 : INFO : worker thread finished; awaiting finish of 0 more threads\n",
      "2021-02-24 13:49:54,420 : INFO : EPOCH - 13 : training on 58152 raw words (42612 effective words) took 0.1s, 697738 effective words/s\n",
      "2021-02-24 13:49:54,479 : INFO : worker thread finished; awaiting finish of 2 more threads\n",
      "2021-02-24 13:49:54,497 : INFO : worker thread finished; awaiting finish of 1 more threads\n",
      "2021-02-24 13:49:54,498 : INFO : worker thread finished; awaiting finish of 0 more threads\n",
      "2021-02-24 13:49:54,499 : INFO : EPOCH - 14 : training on 58152 raw words (42733 effective words) took 0.1s, 564184 effective words/s\n",
      "2021-02-24 13:49:54,558 : INFO : worker thread finished; awaiting finish of 2 more threads\n",
      "2021-02-24 13:49:54,562 : INFO : worker thread finished; awaiting finish of 1 more threads\n",
      "2021-02-24 13:49:54,565 : INFO : worker thread finished; awaiting finish of 0 more threads\n",
      "2021-02-24 13:49:54,566 : INFO : EPOCH - 15 : training on 58152 raw words (42751 effective words) took 0.1s, 674178 effective words/s\n",
      "2021-02-24 13:49:54,622 : INFO : worker thread finished; awaiting finish of 2 more threads\n",
      "2021-02-24 13:49:54,627 : INFO : worker thread finished; awaiting finish of 1 more threads\n",
      "2021-02-24 13:49:54,638 : INFO : worker thread finished; awaiting finish of 0 more threads\n",
      "2021-02-24 13:49:54,639 : INFO : EPOCH - 16 : training on 58152 raw words (42630 effective words) took 0.1s, 615541 effective words/s\n",
      "2021-02-24 13:49:54,688 : INFO : worker thread finished; awaiting finish of 2 more threads\n",
      "2021-02-24 13:49:54,691 : INFO : worker thread finished; awaiting finish of 1 more threads\n",
      "2021-02-24 13:49:54,692 : INFO : worker thread finished; awaiting finish of 0 more threads\n",
      "2021-02-24 13:49:54,693 : INFO : EPOCH - 17 : training on 58152 raw words (42695 effective words) took 0.1s, 846289 effective words/s\n",
      "2021-02-24 13:49:54,742 : INFO : worker thread finished; awaiting finish of 2 more threads\n",
      "2021-02-24 13:49:54,744 : INFO : worker thread finished; awaiting finish of 1 more threads\n",
      "2021-02-24 13:49:54,745 : INFO : worker thread finished; awaiting finish of 0 more threads\n",
      "2021-02-24 13:49:54,746 : INFO : EPOCH - 18 : training on 58152 raw words (42665 effective words) took 0.1s, 843813 effective words/s\n",
      "2021-02-24 13:49:54,792 : INFO : worker thread finished; awaiting finish of 2 more threads\n",
      "2021-02-24 13:49:54,818 : INFO : worker thread finished; awaiting finish of 1 more threads\n",
      "2021-02-24 13:49:54,819 : INFO : worker thread finished; awaiting finish of 0 more threads\n",
      "2021-02-24 13:49:54,820 : INFO : EPOCH - 19 : training on 58152 raw words (42724 effective words) took 0.1s, 592973 effective words/s\n",
      "2021-02-24 13:49:54,869 : INFO : worker thread finished; awaiting finish of 2 more threads\n",
      "2021-02-24 13:49:54,881 : INFO : worker thread finished; awaiting finish of 1 more threads\n",
      "2021-02-24 13:49:54,884 : INFO : worker thread finished; awaiting finish of 0 more threads\n",
      "2021-02-24 13:49:54,884 : INFO : EPOCH - 20 : training on 58152 raw words (42621 effective words) took 0.1s, 685001 effective words/s\n"
     ]
    },
    {
     "name": "stderr",
     "output_type": "stream",
     "text": [
      "2021-02-24 13:49:54,949 : INFO : worker thread finished; awaiting finish of 2 more threads\n",
      "2021-02-24 13:49:54,951 : INFO : worker thread finished; awaiting finish of 1 more threads\n",
      "2021-02-24 13:49:54,957 : INFO : worker thread finished; awaiting finish of 0 more threads\n",
      "2021-02-24 13:49:54,958 : INFO : EPOCH - 21 : training on 58152 raw words (42599 effective words) took 0.1s, 603219 effective words/s\n",
      "2021-02-24 13:49:55,012 : INFO : worker thread finished; awaiting finish of 2 more threads\n",
      "2021-02-24 13:49:55,018 : INFO : worker thread finished; awaiting finish of 1 more threads\n",
      "2021-02-24 13:49:55,025 : INFO : worker thread finished; awaiting finish of 0 more threads\n",
      "2021-02-24 13:49:55,025 : INFO : EPOCH - 22 : training on 58152 raw words (42654 effective words) took 0.1s, 662949 effective words/s\n",
      "2021-02-24 13:49:55,088 : INFO : worker thread finished; awaiting finish of 2 more threads\n",
      "2021-02-24 13:49:55,091 : INFO : worker thread finished; awaiting finish of 1 more threads\n",
      "2021-02-24 13:49:55,093 : INFO : worker thread finished; awaiting finish of 0 more threads\n",
      "2021-02-24 13:49:55,093 : INFO : EPOCH - 23 : training on 58152 raw words (42635 effective words) took 0.1s, 657000 effective words/s\n",
      "2021-02-24 13:49:55,140 : INFO : worker thread finished; awaiting finish of 2 more threads\n",
      "2021-02-24 13:49:55,152 : INFO : worker thread finished; awaiting finish of 1 more threads\n",
      "2021-02-24 13:49:55,155 : INFO : worker thread finished; awaiting finish of 0 more threads\n",
      "2021-02-24 13:49:55,155 : INFO : EPOCH - 24 : training on 58152 raw words (42660 effective words) took 0.1s, 713720 effective words/s\n",
      "2021-02-24 13:49:55,212 : INFO : worker thread finished; awaiting finish of 2 more threads\n",
      "2021-02-24 13:49:55,215 : INFO : worker thread finished; awaiting finish of 1 more threads\n",
      "2021-02-24 13:49:55,227 : INFO : worker thread finished; awaiting finish of 0 more threads\n",
      "2021-02-24 13:49:55,228 : INFO : EPOCH - 25 : training on 58152 raw words (42759 effective words) took 0.1s, 616158 effective words/s\n",
      "2021-02-24 13:49:55,276 : INFO : worker thread finished; awaiting finish of 2 more threads\n",
      "2021-02-24 13:49:55,282 : INFO : worker thread finished; awaiting finish of 1 more threads\n",
      "2021-02-24 13:49:55,286 : INFO : worker thread finished; awaiting finish of 0 more threads\n",
      "2021-02-24 13:49:55,286 : INFO : EPOCH - 26 : training on 58152 raw words (42629 effective words) took 0.1s, 773363 effective words/s\n",
      "2021-02-24 13:49:55,338 : INFO : worker thread finished; awaiting finish of 2 more threads\n",
      "2021-02-24 13:49:55,339 : INFO : worker thread finished; awaiting finish of 1 more threads\n",
      "2021-02-24 13:49:55,352 : INFO : worker thread finished; awaiting finish of 0 more threads\n",
      "2021-02-24 13:49:55,354 : INFO : EPOCH - 27 : training on 58152 raw words (42645 effective words) took 0.1s, 658695 effective words/s\n",
      "2021-02-24 13:49:55,409 : INFO : worker thread finished; awaiting finish of 2 more threads\n",
      "2021-02-24 13:49:55,419 : INFO : worker thread finished; awaiting finish of 1 more threads\n",
      "2021-02-24 13:49:55,424 : INFO : worker thread finished; awaiting finish of 0 more threads\n",
      "2021-02-24 13:49:55,424 : INFO : EPOCH - 28 : training on 58152 raw words (42693 effective words) took 0.1s, 632474 effective words/s\n",
      "2021-02-24 13:49:55,483 : INFO : worker thread finished; awaiting finish of 2 more threads\n",
      "2021-02-24 13:49:55,486 : INFO : worker thread finished; awaiting finish of 1 more threads\n",
      "2021-02-24 13:49:55,492 : INFO : worker thread finished; awaiting finish of 0 more threads\n",
      "2021-02-24 13:49:55,493 : INFO : EPOCH - 29 : training on 58152 raw words (42698 effective words) took 0.1s, 655257 effective words/s\n",
      "2021-02-24 13:49:55,555 : INFO : worker thread finished; awaiting finish of 2 more threads\n",
      "2021-02-24 13:49:55,565 : INFO : worker thread finished; awaiting finish of 1 more threads\n",
      "2021-02-24 13:49:55,567 : INFO : worker thread finished; awaiting finish of 0 more threads\n",
      "2021-02-24 13:49:55,567 : INFO : EPOCH - 30 : training on 58152 raw words (42728 effective words) took 0.1s, 594271 effective words/s\n",
      "2021-02-24 13:49:55,627 : INFO : worker thread finished; awaiting finish of 2 more threads\n",
      "2021-02-24 13:49:55,630 : INFO : worker thread finished; awaiting finish of 1 more threads\n",
      "2021-02-24 13:49:55,631 : INFO : worker thread finished; awaiting finish of 0 more threads\n",
      "2021-02-24 13:49:55,632 : INFO : EPOCH - 31 : training on 58152 raw words (42798 effective words) took 0.1s, 694884 effective words/s\n",
      "2021-02-24 13:49:55,682 : INFO : worker thread finished; awaiting finish of 2 more threads\n",
      "2021-02-24 13:49:55,687 : INFO : worker thread finished; awaiting finish of 1 more threads\n",
      "2021-02-24 13:49:55,703 : INFO : worker thread finished; awaiting finish of 0 more threads\n",
      "2021-02-24 13:49:55,704 : INFO : EPOCH - 32 : training on 58152 raw words (42635 effective words) took 0.1s, 616588 effective words/s\n",
      "2021-02-24 13:49:55,757 : INFO : worker thread finished; awaiting finish of 2 more threads\n",
      "2021-02-24 13:49:55,770 : INFO : worker thread finished; awaiting finish of 1 more threads\n",
      "2021-02-24 13:49:55,778 : INFO : worker thread finished; awaiting finish of 0 more threads\n",
      "2021-02-24 13:49:55,779 : INFO : EPOCH - 33 : training on 58152 raw words (42555 effective words) took 0.1s, 591298 effective words/s\n",
      "2021-02-24 13:49:55,838 : INFO : worker thread finished; awaiting finish of 2 more threads\n",
      "2021-02-24 13:49:55,846 : INFO : worker thread finished; awaiting finish of 1 more threads\n",
      "2021-02-24 13:49:55,847 : INFO : worker thread finished; awaiting finish of 0 more threads\n",
      "2021-02-24 13:49:55,848 : INFO : EPOCH - 34 : training on 58152 raw words (42718 effective words) took 0.1s, 652228 effective words/s\n",
      "2021-02-24 13:49:55,897 : INFO : worker thread finished; awaiting finish of 2 more threads\n",
      "2021-02-24 13:49:55,908 : INFO : worker thread finished; awaiting finish of 1 more threads\n",
      "2021-02-24 13:49:55,918 : INFO : worker thread finished; awaiting finish of 0 more threads\n",
      "2021-02-24 13:49:55,919 : INFO : EPOCH - 35 : training on 58152 raw words (42739 effective words) took 0.1s, 623458 effective words/s\n",
      "2021-02-24 13:49:55,986 : INFO : worker thread finished; awaiting finish of 2 more threads\n",
      "2021-02-24 13:49:55,994 : INFO : worker thread finished; awaiting finish of 1 more threads\n",
      "2021-02-24 13:49:56,002 : INFO : worker thread finished; awaiting finish of 0 more threads\n",
      "2021-02-24 13:49:56,002 : INFO : EPOCH - 36 : training on 58152 raw words (42708 effective words) took 0.1s, 534036 effective words/s\n",
      "2021-02-24 13:49:56,071 : INFO : worker thread finished; awaiting finish of 2 more threads\n",
      "2021-02-24 13:49:56,079 : INFO : worker thread finished; awaiting finish of 1 more threads\n",
      "2021-02-24 13:49:56,080 : INFO : worker thread finished; awaiting finish of 0 more threads\n",
      "2021-02-24 13:49:56,081 : INFO : EPOCH - 37 : training on 58152 raw words (42693 effective words) took 0.1s, 570146 effective words/s\n",
      "2021-02-24 13:49:56,149 : INFO : worker thread finished; awaiting finish of 2 more threads\n",
      "2021-02-24 13:49:56,157 : INFO : worker thread finished; awaiting finish of 1 more threads\n",
      "2021-02-24 13:49:56,161 : INFO : worker thread finished; awaiting finish of 0 more threads\n",
      "2021-02-24 13:49:56,162 : INFO : EPOCH - 38 : training on 58152 raw words (42528 effective words) took 0.1s, 544938 effective words/s\n",
      "2021-02-24 13:49:56,218 : INFO : worker thread finished; awaiting finish of 2 more threads\n",
      "2021-02-24 13:49:56,225 : INFO : worker thread finished; awaiting finish of 1 more threads\n",
      "2021-02-24 13:49:56,227 : INFO : worker thread finished; awaiting finish of 0 more threads\n",
      "2021-02-24 13:49:56,227 : INFO : EPOCH - 39 : training on 58152 raw words (42654 effective words) took 0.1s, 678793 effective words/s\n",
      "2021-02-24 13:49:56,291 : INFO : worker thread finished; awaiting finish of 2 more threads\n",
      "2021-02-24 13:49:56,300 : INFO : worker thread finished; awaiting finish of 1 more threads\n",
      "2021-02-24 13:49:56,305 : INFO : worker thread finished; awaiting finish of 0 more threads\n",
      "2021-02-24 13:49:56,305 : INFO : EPOCH - 40 : training on 58152 raw words (42689 effective words) took 0.1s, 571638 effective words/s\n",
      "2021-02-24 13:49:56,306 : INFO : training on 2326080 raw words (1707065 effective words) took 2.8s, 614040 effective words/s\n"
     ]
    }
   ],
   "source": [
    "model.train(train_corpus, total_examples=model.corpus_count, epochs=model.epochs)"
   ]
  },
  {
   "cell_type": "markdown",
   "metadata": {},
   "source": [
    "Now, we can use the trained model to infer a vector for any piece of text\n",
    "by passing a list of words to the ``model.infer_vector`` function. This\n",
    "vector can then be compared with other vectors via cosine similarity.\n",
    "\n",
    "\n"
   ]
  },
  {
   "cell_type": "code",
   "execution_count": 21,
   "metadata": {},
   "outputs": [
    {
     "name": "stdout",
     "output_type": "stream",
     "text": [
      "[-0.15732452 -0.3350982  -0.16470772  0.1493614  -0.17916672 -0.00160977\n",
      "  0.08272742  0.12287853 -0.1269983  -0.06051844  0.19356926 -0.03627831\n",
      "  0.00737192  0.00897617 -0.18695925 -0.00194127  0.10952383  0.27592304\n",
      "  0.15205619 -0.1803095  -0.04443948 -0.11079332  0.23974185 -0.00092326\n",
      " -0.03882676  0.01958957 -0.3314296   0.0332863  -0.22274521 -0.13513243\n",
      "  0.38708857  0.09251985  0.17258184  0.2024478   0.12568699  0.10339356\n",
      " -0.13712505 -0.24214509  0.0516454  -0.05555668  0.01427861  0.00428698\n",
      "  0.04077704 -0.15908547  0.16321778  0.07293977  0.04917713 -0.12640812\n",
      "  0.16811536  0.00744712]\n"
     ]
    }
   ],
   "source": [
    "vector = model.infer_vector(['only', 'you', 'can', 'prevent', 'forest', 'fires'])\n",
    "print(vector)"
   ]
  },
  {
   "cell_type": "markdown",
   "metadata": {},
   "source": [
    "Note that ``infer_vector()`` does *not* take a string, but rather a list of\n",
    "string tokens, which should have already been tokenized the same way as the\n",
    "``words`` property of original training document objects.\n",
    "\n",
    "Also note that because the underlying training/inference algorithms are an\n",
    "iterative approximation problem that makes use of internal randomization,\n",
    "repeated inferences of the same text will return slightly different vectors.\n",
    "\n",
    "\n"
   ]
  },
  {
   "cell_type": "markdown",
   "metadata": {},
   "source": [
    "Assessing the Model\n",
    "-------------------\n",
    "\n",
    "To assess our new model, we'll first infer new vectors for each document of\n",
    "the training corpus, compare the inferred vectors with the training corpus,\n",
    "and then returning the rank of the document based on self-similarity.\n",
    "Basically, we're pretending as if the training corpus is some new unseen data\n",
    "and then seeing how they compare with the trained model. The expectation is\n",
    "that we've likely overfit our model (i.e., all of the ranks will be less than\n",
    "2) and so we should be able to find similar documents very easily.\n",
    "Additionally, we'll keep track of the second ranks for a comparison of less\n",
    "similar documents.\n",
    "\n",
    "\n"
   ]
  },
  {
   "cell_type": "code",
   "execution_count": 22,
   "metadata": {},
   "outputs": [],
   "source": [
    "ranks = []\n",
    "second_ranks = []\n",
    "for doc_id in range(len(train_corpus)):\n",
    "    inferred_vector = model.infer_vector(train_corpus[doc_id].words)\n",
    "    sims = model.dv.most_similar([inferred_vector], topn=len(model.dv))\n",
    "    rank = [docid for docid, sim in sims].index(doc_id)\n",
    "    ranks.append(rank)\n",
    "\n",
    "    second_ranks.append(sims[1])"
   ]
  },
  {
   "cell_type": "markdown",
   "metadata": {},
   "source": [
    "Let's count how each document ranks with respect to the training corpus\n",
    "\n",
    "NB. Results vary between runs due to random seeding and very small corpus\n",
    "\n"
   ]
  },
  {
   "cell_type": "code",
   "execution_count": 23,
   "metadata": {},
   "outputs": [
    {
     "name": "stdout",
     "output_type": "stream",
     "text": [
      "Counter({0: 290, 1: 10})\n"
     ]
    }
   ],
   "source": [
    "import collections\n",
    "\n",
    "counter = collections.Counter(ranks)\n",
    "print(counter)"
   ]
  },
  {
   "cell_type": "markdown",
   "metadata": {},
   "source": [
    "Basically, greater than 95% of the inferred documents are found to be most\n",
    "similar to itself and about 5% of the time it is mistakenly most similar to\n",
    "another document. Checking the inferred-vector against a\n",
    "training-vector is a sort of 'sanity check' as to whether the model is\n",
    "behaving in a usefully consistent manner, though not a real 'accuracy' value.\n",
    "\n",
    "This is great and not entirely surprising. We can take a look at an example:\n",
    "\n",
    "\n"
   ]
  },
  {
   "cell_type": "code",
   "execution_count": 24,
   "metadata": {},
   "outputs": [
    {
     "name": "stdout",
     "output_type": "stream",
     "text": [
      "Document (299): «australia will take on france in the doubles rubber of the davis cup tennis final today with the tie levelled at wayne arthurs and todd woodbridge are scheduled to lead australia in the doubles against cedric pioline and fabrice santoro however changes can be made to the line up up to an hour before the match and australian team captain john fitzgerald suggested he might do just that we ll make team appraisal of the whole situation go over the pros and cons and make decision french team captain guy forget says he will not make changes but does not know what to expect from australia todd is the best doubles player in the world right now so expect him to play he said would probably use wayne arthurs but don know what to expect really pat rafter salvaged australia davis cup campaign yesterday with win in the second singles match rafter overcame an arm injury to defeat french number one sebastien grosjean in three sets the australian says he is happy with his form it not very pretty tennis there isn too many consistent bounces you are playing like said bit of classic old grass court rafter said rafter levelled the score after lleyton hewitt shock five set loss to nicholas escude in the first singles rubber but rafter says he felt no added pressure after hewitt defeat knew had good team to back me up even if we were down he said knew could win on the last day know the boys can win doubles so even if we were down still feel we are good enough team to win and vice versa they are good enough team to beat us as well»\n",
      "\n",
      "SIMILAR/DISSIMILAR DOCS PER MODEL Doc2Vec(dm/m,d50,n5,w5,mc2,s0.001,t3):\n",
      "\n",
      "MOST (299, 0.9475972056388855): «australia will take on france in the doubles rubber of the davis cup tennis final today with the tie levelled at wayne arthurs and todd woodbridge are scheduled to lead australia in the doubles against cedric pioline and fabrice santoro however changes can be made to the line up up to an hour before the match and australian team captain john fitzgerald suggested he might do just that we ll make team appraisal of the whole situation go over the pros and cons and make decision french team captain guy forget says he will not make changes but does not know what to expect from australia todd is the best doubles player in the world right now so expect him to play he said would probably use wayne arthurs but don know what to expect really pat rafter salvaged australia davis cup campaign yesterday with win in the second singles match rafter overcame an arm injury to defeat french number one sebastien grosjean in three sets the australian says he is happy with his form it not very pretty tennis there isn too many consistent bounces you are playing like said bit of classic old grass court rafter said rafter levelled the score after lleyton hewitt shock five set loss to nicholas escude in the first singles rubber but rafter says he felt no added pressure after hewitt defeat knew had good team to back me up even if we were down he said knew could win on the last day know the boys can win doubles so even if we were down still feel we are good enough team to win and vice versa they are good enough team to beat us as well»\n",
      "\n",
      "SECOND-MOST (104, 0.7987892031669617): «australian cricket captain steve waugh has supported fast bowler brett lee after criticism of his intimidatory bowling to the south african tailenders in the first test in adelaide earlier this month lee was fined for giving new zealand tailender shane bond an unsportsmanlike send off during the third test in perth waugh says tailenders should not be protected from short pitched bowling these days you re earning big money you ve got responsibility to learn how to bat he said mean there no times like years ago when it was not professional and sort of bowlers code these days you re professional our batsmen work very hard at their batting and expect other tailenders to do likewise meanwhile waugh says his side will need to guard against complacency after convincingly winning the first test by runs waugh says despite the dominance of his side in the first test south africa can never be taken lightly it only one test match out of three or six whichever way you want to look at it so there lot of work to go he said but it nice to win the first battle definitely it gives us lot of confidence going into melbourne you know the big crowd there we love playing in front of the boxing day crowd so that will be to our advantage as well south africa begins four day match against new south wales in sydney on thursday in the lead up to the boxing day test veteran fast bowler allan donald will play in the warm up match and is likely to take his place in the team for the second test south african captain shaun pollock expects much better performance from his side in the melbourne test we still believe that we didn play to our full potential so if we can improve on our aspects the output we put out on the field will be lot better and we still believe we have side that is good enough to beat australia on our day he said»\n",
      "\n",
      "MEDIAN (148, 0.24178214371204376): «the israeli government has declared palestinian leader yasser arafat irrelevant and has decided to break off all contacts with him the dramatic move followed palestinian ambush on bus carrying israeli settlers in the west bank that killed people and double suicide attack in the gaza strip that injured four israelis in response israeli jets and helicopters have attacked palestinian targets across the gaza strip and the west bank the israelis say they hold mr arafat directly responsible for the latest incidents and will have nothing to do with him the government position was spelt out by spokesman raanan gissin in no way does it imply or was there any directive to hurt to harm or to expel arafat personally he said we are not attacking arafat personally we don have quarrel with arafat the person we have real quarrel and real fight and struggle against terrorism against arafat when he represents terrorism when he support terrorism»\n",
      "\n",
      "LEAST (216, -0.1352231800556183): «senior taliban official confirmed the islamic militia would begin handing over its last bastion of kandahar to pashtun tribal leaders on friday this agreement was that taliban should surrender kandahar peacefully to the elders of these areas and we should guarantee the lives and the safety of taliban authorities and all the taliban from tomorrow should start this program former taliban ambassador to pakistan abdul salam zaeef told cnn in telephone interview he insisted that the taliban would not surrender to hamid karzai the new afghan interim leader and pashtun elder who has been cooperating with the united states to calm unrest among the southern tribes the taliban will surrender to elders not to karzai karzai and other persons which they want to enter kandahar by the support of america they don allow to enter kandahar city he said the taliban will surrender the weapons the ammunition to elders»\n",
      "\n"
     ]
    }
   ],
   "source": [
    "print('Document ({}): «{}»\\n'.format(doc_id, ' '.join(train_corpus[doc_id].words)))\n",
    "print(u'SIMILAR/DISSIMILAR DOCS PER MODEL %s:\\n' % model)\n",
    "for label, index in [('MOST', 0), ('SECOND-MOST', 1), ('MEDIAN', len(sims)//2), ('LEAST', len(sims) - 1)]:\n",
    "    print(u'%s %s: «%s»\\n' % (label, sims[index], ' '.join(train_corpus[sims[index][0]].words)))"
   ]
  },
  {
   "cell_type": "markdown",
   "metadata": {},
   "source": [
    "Notice above that the most similar document (usually the same text) is has a\n",
    "similarity score approaching 1.0. However, the similarity score for the\n",
    "second-ranked documents should be significantly lower (assuming the documents\n",
    "are in fact different) and the reasoning becomes obvious when we examine the\n",
    "text itself.\n",
    "\n",
    "We can run the next cell repeatedly to see a sampling other target-document\n",
    "comparisons.\n",
    "\n",
    "\n"
   ]
  },
  {
   "cell_type": "code",
   "execution_count": 25,
   "metadata": {},
   "outputs": [
    {
     "name": "stdout",
     "output_type": "stream",
     "text": [
      "Train Document (34): «pakistan foreign ministry has announced retaliatory sanctions against india saying it would also downgrade embassy representation and ban indian planes from its airspace pakistan regrets the indian decision to downgrade embassy representation by per cent and confine staff to the municipal limits of new delhi and ban access to airspace ministry spokesman aziz ahmed khan said such efforts will only increase tension and we are forced to take retaliatory actions we will downgrade their embassy staff here confine them to islamabad limits and will also ban their access to pakistan airspace as tension mounted between the two rivals after the december attack on the parliament complex in new delhi indian foreign minister jaswant singh earlier announced set of new sanctions pakistani aircraft would not be allowed to fly over indian airspace from january and the indian embassy in islamabad and the pakistan mission in new delhi will have to reduce their staff by per cent he said pakistani embassy staff would be confined to movement within new delhi he added mr singh said the measures were being taken as result of pakistan attempts to dupe the international community with cosmetic measures and non measures against militant groups operating in its territory india has accused pakistani military intelligence of sponsoring the parliament attack and has threatened retaliation including possible military action»\n",
      "\n",
      "Similar Document (12, 0.6609803438186646): «president general pervez musharraf says pakistan wants to defuse the brewing crisis with india but was prepared to respond vigorously to any attack pakistan stands for peace pakistan wants peace pakistan wants to reduce tension he said let the two countries move towards peace and harmony however pakistan has taken all counter measures if any war is thrust on pakistan the pakistan armed forces and the million people of pakistan are fully prepared to face all consequences with all their might the president said he had received the support of all political parties president musharraf also said he welcomed the intervention of the international community in trying to defuse the potentially explosive crisis we would like anybody to play useful and positive role in defusing the tension the united states the european union and the group of eight industrialised nations among others have all called on india and pakistan to exercise restraint and resolve the stand off through dialogue president musharraf repeated his offer of holding talks with indian prime minister atal behari vajpayee am for dialogue and keep on saying this and india keeps on rejecting which gives me feeling that am begging to india if they accept it we do not reject it at all he said on friday he said he was willing to meet prime minister vajpayee on the sidelines of the january south asian association for regional cooperation saarc summit in nepal india ruled out any face to face talks military tensions erupted between india and pakistan after the bloody december raid on the indian parliament india accuses pakistan military intelligence of masterminding the assault but pakistan denies the allegation with both countries massing troops along the border pakistan foreign minister abdul sattar warned saturday that the dispute was growing dangerously tense and any small act of provocation could snowball into conflict president musharraf said one of the goals of sunday meeting was to take stock of the internal situation the domestic environment want to eradicate militancy extremism intolerance from pakistani society and also said would like to eradicate any form of terrorism from the soil of pakistan however he warned the tension that has mounted on our eastern border in fact is creating obstacles and hurdles»\n",
      "\n"
     ]
    }
   ],
   "source": [
    "# Pick a random document from the corpus and infer a vector from the model\n",
    "import random\n",
    "doc_id = random.randint(0, len(train_corpus) - 1)\n",
    "\n",
    "# Compare and print the second-most-similar document\n",
    "print('Train Document ({}): «{}»\\n'.format(doc_id, ' '.join(train_corpus[doc_id].words)))\n",
    "sim_id = second_ranks[doc_id]\n",
    "print('Similar Document {}: «{}»\\n'.format(sim_id, ' '.join(train_corpus[sim_id[0]].words)))"
   ]
  },
  {
   "cell_type": "markdown",
   "metadata": {},
   "source": [
    "Testing the Model\n",
    "-----------------\n",
    "\n",
    "Using the same approach above, we'll infer the vector for a randomly chosen\n",
    "test document, and compare the document to our model by eye.\n",
    "\n",
    "\n"
   ]
  },
  {
   "cell_type": "code",
   "execution_count": 26,
   "metadata": {},
   "outputs": [
    {
     "name": "stdout",
     "output_type": "stream",
     "text": [
      "Test Document (47): «the european parliament is spoiling for fight with israel it has voted to review the eu diplomatic links with the jewish state to impose an arms embargo and to threaten wider trade sanctions many meps want to go further and dispatch european military force to the region in order to protect the palestinian people»\n",
      "\n",
      "SIMILAR/DISSIMILAR DOCS PER MODEL Doc2Vec(dm/m,d50,n5,w5,mc2,s0.001,t3):\n",
      "\n",
      "MOST (76, 0.709925651550293): «the death toll in argentina food riots has risen to local media reports say four more people died this morning in clashes between police and protesters near the presidential palace in the capital buenos aires president fernando de la rua has called on the opposition to take part in government of national unity and apparently will resign if it does not looting and rioting has generally given way to more peaceful demonstrations against the faltering government blamed for month recession heavily armed police using powers under day state of siege decree are attempting to prevent large public gatherings but union leaders say workers and the unemployed will not stop until the government is removed and living standards restored with argentina discredited economy minister now gone the government hopes to approve new budget acceptable to the international monetary fund imf to avoid default on the billion foreign debt the presidents of neighbouring brazil and chile say they fear the social unrest could infect their own nations unless argentina and its leaders can resolve the crisis quickly»\n",
      "\n",
      "MEDIAN (128, 0.20439015328884125): «qantas has moved to assure travellers there will be no disruption to flights over the christmas period despite threats of industrial action qantas maintenance workers have rejected the airline proposals for wage freeze as negotiations over the dispute continue in the industrial relations commission qantas chief executive geoff dixon has expressed his disappointment at the maintenance workers actions mr dixon points out per cent of the airline workforce have already agreed in principle to accept wages freeze together with an incentives scheme mr dixon claims maintenance workers earn on average per cent above average weekly earnings and also receive generous staff travel benefits mr dixon has assured nervous travellers that even if the workers do go out on strike qantas flights will not be disrupted maintenance unions are refusing to soften their stance against qantas wage freeze proposal qantas and two maintenance unions are continuing negotiations in the industrial relations commission where unions produced leaked airline briefing paper which says qantas is prepared to escalate the strike to force resolution»\n",
      "\n",
      "LEAST (96, -0.32220882177352905): «england batsman michael vaughan has become just the seventh player in the history of test cricket to be given out handling the ball vaughan was on when he flicked the ball with his hand towards fielder on the first day of the third and final test against india at bangalore the englishmen says he was disappointed in the appeal by the indians which he believes was not in the spirit of the game in the laws shouldn have done it but thought was just helping out the fielders he said feel bit disappointed on their behalf one of their players appealed not too sure who it was but bit disappointed really england finished the opening day at for mark ramprakash was out for he and vaughan adding for the fourth wicket after england was struggling at for staff at the woomera detention centre are still on red alert as result of continuing disturbances involving detainees further eight buildings were set on fire overnight and spokesman for immigration minister philip ruddock says damage from fires at the facility over the past month is now estimated at million he says six detention officers were injured during last night disturbance out of which four have returned to work he says damage to the buildings ranged from minor to extensive it is understood some detainees had helped staff extinguish fires last night the spokesman says up to detainees had tried to break through the main fence during last night disturbance and tear gas was used to prevent any escape»\n",
      "\n"
     ]
    }
   ],
   "source": [
    "# Pick a random document from the test corpus and infer a vector from the model\n",
    "doc_id = random.randint(0, len(test_corpus) - 1)\n",
    "inferred_vector = model.infer_vector(test_corpus[doc_id])\n",
    "sims = model.dv.most_similar([inferred_vector], topn=len(model.dv))\n",
    "\n",
    "# Compare and print the most/median/least similar documents from the train corpus\n",
    "print('Test Document ({}): «{}»\\n'.format(doc_id, ' '.join(test_corpus[doc_id])))\n",
    "print(u'SIMILAR/DISSIMILAR DOCS PER MODEL %s:\\n' % model)\n",
    "for label, index in [('MOST', 0), ('MEDIAN', len(sims)//2), ('LEAST', len(sims) - 1)]:\n",
    "    print(u'%s %s: «%s»\\n' % (label, sims[index], ' '.join(train_corpus[sims[index][0]].words)))"
   ]
  },
  {
   "cell_type": "markdown",
   "metadata": {},
   "source": [
    "Conclusion\n",
    "----------\n",
    "\n",
    "Let's review what we've seen in this tutorial:\n",
    "\n",
    "0. Review the relevant models: bag-of-words, Word2Vec, Doc2Vec\n",
    "1. Load and preprocess the training and test corpora (see `core_concepts_corpus`)\n",
    "2. Train a Doc2Vec `core_concepts_model` model using the training corpus\n",
    "3. Demonstrate how the trained model can be used to infer a `core_concepts_vector`\n",
    "4. Assess the model\n",
    "5. Test the model on the test corpus\n",
    "\n",
    "That's it! Doc2Vec is a great way to explore relationships between documents.\n",
    "\n",
    "Additional Resources\n",
    "--------------------\n",
    "\n",
    "If you'd like to know more about the subject matter of this tutorial, check out the links below.\n",
    "\n",
    "* `Word2Vec Paper <https://papers.nips.cc/paper/5021-distributed-representations-of-words-and-phrases-and-their-compositionality.pdf>`_\n",
    "* `Doc2Vec Paper <https://cs.stanford.edu/~quocle/paragraph_vector.pdf>`_\n",
    "* `Dr. Michael D. Lee's Website <http://faculty.sites.uci.edu/mdlee>`_\n",
    "* `Lee Corpus <http://faculty.sites.uci.edu/mdlee/similarity-data/>`__\n",
    "* `IMDB Doc2Vec Tutorial <doc2vec-IMDB.ipynb>`_\n",
    "\n",
    "\n"
   ]
  },
  {
   "cell_type": "code",
   "execution_count": null,
   "metadata": {},
   "outputs": [],
   "source": []
  }
 ],
 "metadata": {
  "kernelspec": {
   "display_name": "Python 3",
   "language": "python",
   "name": "python3"
  },
  "language_info": {
   "codemirror_mode": {
    "name": "ipython",
    "version": 3
   },
   "file_extension": ".py",
   "mimetype": "text/x-python",
   "name": "python",
   "nbconvert_exporter": "python",
   "pygments_lexer": "ipython3",
   "version": "3.7.9"
  }
 },
 "nbformat": 4,
 "nbformat_minor": 1
}
