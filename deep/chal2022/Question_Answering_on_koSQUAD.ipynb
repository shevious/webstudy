{
 "cells": [
  {
   "cell_type": "markdown",
   "metadata": {
    "id": "X4cRE8IbIrIV"
   },
   "source": [
    "If you're opening this Notebook on colab, you will probably need to install 🤗 Transformers and 🤗 Datasets. Uncomment the following cell and run it."
   ]
  },
  {
   "cell_type": "code",
   "execution_count": 4,
   "metadata": {
    "id": "MOsHUjgdIrIW"
   },
   "outputs": [
    {
     "name": "stdout",
     "output_type": "stream",
     "text": [
      "Collecting datasets\n",
      "  Downloading datasets-2.2.2-py3-none-any.whl (346 kB)\n",
      "\u001b[2K     \u001b[90m━━━━━━━━━━━━━━━━━━━━━━━━━━━━━━━━━━━━━━\u001b[0m \u001b[32m346.8/346.8 kB\u001b[0m \u001b[31m10.9 MB/s\u001b[0m eta \u001b[36m0:00:00\u001b[0m\n",
      "\u001b[?25hRequirement already satisfied: transformers in /home/kotech/venv-trans/lib/python3.8/site-packages (4.19.2)\n",
      "Requirement already satisfied: numpy>=1.17 in /home/kotech/venv-trans/lib/python3.8/site-packages (from datasets) (1.22.4)\n",
      "Collecting pyarrow>=6.0.0\n",
      "  Downloading pyarrow-8.0.0-cp38-cp38-manylinux_2_17_x86_64.manylinux2014_x86_64.whl (29.4 MB)\n",
      "\u001b[2K     \u001b[90m━━━━━━━━━━━━━━━━━━━━━━━━━━━━━━━━━━━━━━━━\u001b[0m \u001b[32m29.4/29.4 MB\u001b[0m \u001b[31m17.7 MB/s\u001b[0m eta \u001b[36m0:00:00\u001b[0m00:01\u001b[0m00:01\u001b[0m\n",
      "\u001b[?25hRequirement already satisfied: huggingface-hub<1.0.0,>=0.1.0 in /home/kotech/venv-trans/lib/python3.8/site-packages (from datasets) (0.7.0)\n",
      "Collecting dill<0.3.5\n",
      "  Using cached dill-0.3.4-py2.py3-none-any.whl (86 kB)\n",
      "Collecting fsspec[http]>=2021.05.0\n",
      "  Downloading fsspec-2022.5.0-py3-none-any.whl (140 kB)\n",
      "\u001b[2K     \u001b[90m━━━━━━━━━━━━━━━━━━━━━━━━━━━━━━━━━━━━━━\u001b[0m \u001b[32m140.6/140.6 kB\u001b[0m \u001b[31m19.2 MB/s\u001b[0m eta \u001b[36m0:00:00\u001b[0m\n",
      "\u001b[?25hCollecting responses<0.19\n",
      "  Downloading responses-0.18.0-py3-none-any.whl (38 kB)\n",
      "Requirement already satisfied: packaging in /home/kotech/venv-trans/lib/python3.8/site-packages (from datasets) (21.3)\n",
      "Collecting xxhash\n",
      "  Downloading xxhash-3.0.0-cp38-cp38-manylinux_2_17_x86_64.manylinux2014_x86_64.whl (212 kB)\n",
      "\u001b[2K     \u001b[90m━━━━━━━━━━━━━━━━━━━━━━━━━━━━━━━━━━━━━━\u001b[0m \u001b[32m212.1/212.1 kB\u001b[0m \u001b[31m19.6 MB/s\u001b[0m eta \u001b[36m0:00:00\u001b[0m\n",
      "\u001b[?25hCollecting multiprocess\n",
      "  Downloading multiprocess-0.70.13-py38-none-any.whl (131 kB)\n",
      "\u001b[2K     \u001b[90m━━━━━━━━━━━━━━━━━━━━━━━━━━━━━━━━━━━━━━\u001b[0m \u001b[32m131.4/131.4 kB\u001b[0m \u001b[31m15.9 MB/s\u001b[0m eta \u001b[36m0:00:00\u001b[0m\n",
      "\u001b[?25hCollecting aiohttp\n",
      "  Downloading aiohttp-3.8.1-cp38-cp38-manylinux_2_5_x86_64.manylinux1_x86_64.manylinux_2_12_x86_64.manylinux2010_x86_64.whl (1.3 MB)\n",
      "\u001b[2K     \u001b[90m━━━━━━━━━━━━━━━━━━━━━━━━━━━━━━━━━━━━━━━━\u001b[0m \u001b[32m1.3/1.3 MB\u001b[0m \u001b[31m16.6 MB/s\u001b[0m eta \u001b[36m0:00:00\u001b[0m00:01\u001b[0m00:01\u001b[0m\n",
      "\u001b[?25hRequirement already satisfied: requests>=2.19.0 in /home/kotech/venv-trans/lib/python3.8/site-packages (from datasets) (2.27.1)\n",
      "Requirement already satisfied: tqdm>=4.62.1 in /home/kotech/venv-trans/lib/python3.8/site-packages (from datasets) (4.64.0)\n",
      "Requirement already satisfied: pandas in /home/kotech/venv-trans/lib/python3.8/site-packages (from datasets) (1.4.2)\n",
      "Requirement already satisfied: filelock in /home/kotech/venv-trans/lib/python3.8/site-packages (from transformers) (3.7.1)\n",
      "Requirement already satisfied: regex!=2019.12.17 in /home/kotech/venv-trans/lib/python3.8/site-packages (from transformers) (2022.6.2)\n",
      "Requirement already satisfied: tokenizers!=0.11.3,<0.13,>=0.11.1 in /home/kotech/venv-trans/lib/python3.8/site-packages (from transformers) (0.12.1)\n",
      "Requirement already satisfied: pyyaml>=5.1 in /home/kotech/venv-trans/lib/python3.8/site-packages (from transformers) (6.0)\n",
      "Requirement already satisfied: typing-extensions>=3.7.4.3 in /home/kotech/venv-trans/lib/python3.8/site-packages (from huggingface-hub<1.0.0,>=0.1.0->datasets) (4.2.0)\n",
      "Requirement already satisfied: pyparsing!=3.0.5,>=2.0.2 in /home/kotech/venv-trans/lib/python3.8/site-packages (from packaging->datasets) (3.0.9)\n",
      "Requirement already satisfied: urllib3<1.27,>=1.21.1 in /home/kotech/venv-trans/lib/python3.8/site-packages (from requests>=2.19.0->datasets) (1.26.9)\n",
      "Requirement already satisfied: charset-normalizer~=2.0.0 in /home/kotech/venv-trans/lib/python3.8/site-packages (from requests>=2.19.0->datasets) (2.0.12)\n",
      "Requirement already satisfied: certifi>=2017.4.17 in /home/kotech/venv-trans/lib/python3.8/site-packages (from requests>=2.19.0->datasets) (2022.5.18.1)\n",
      "Requirement already satisfied: idna<4,>=2.5 in /home/kotech/venv-trans/lib/python3.8/site-packages (from requests>=2.19.0->datasets) (3.3)\n",
      "Requirement already satisfied: attrs>=17.3.0 in /home/kotech/venv-trans/lib/python3.8/site-packages (from aiohttp->datasets) (21.4.0)\n",
      "Collecting frozenlist>=1.1.1\n",
      "  Downloading frozenlist-1.3.0-cp38-cp38-manylinux_2_5_x86_64.manylinux1_x86_64.manylinux_2_17_x86_64.manylinux2014_x86_64.whl (158 kB)\n",
      "\u001b[2K     \u001b[90m━━━━━━━━━━━━━━━━━━━━━━━━━━━━━━━━━━━━━━\u001b[0m \u001b[32m158.7/158.7 kB\u001b[0m \u001b[31m16.2 MB/s\u001b[0m eta \u001b[36m0:00:00\u001b[0m\n",
      "\u001b[?25hCollecting multidict<7.0,>=4.5\n",
      "  Downloading multidict-6.0.2-cp38-cp38-manylinux_2_17_x86_64.manylinux2014_x86_64.whl (121 kB)\n",
      "\u001b[2K     \u001b[90m━━━━━━━━━━━━━━━━━━━━━━━━━━━━━━━━━━━━━━━\u001b[0m \u001b[32m121.3/121.3 kB\u001b[0m \u001b[31m9.4 MB/s\u001b[0m eta \u001b[36m0:00:00\u001b[0m\n",
      "\u001b[?25hCollecting yarl<2.0,>=1.0\n",
      "  Downloading yarl-1.7.2-cp38-cp38-manylinux_2_5_x86_64.manylinux1_x86_64.manylinux_2_12_x86_64.manylinux2010_x86_64.whl (308 kB)\n",
      "\u001b[2K     \u001b[90m━━━━━━━━━━━━━━━━━━━━━━━━━━━━━━━━━━━━━━\u001b[0m \u001b[32m308.6/308.6 kB\u001b[0m \u001b[31m15.2 MB/s\u001b[0m eta \u001b[36m0:00:00\u001b[0m\n",
      "\u001b[?25hCollecting async-timeout<5.0,>=4.0.0a3\n",
      "  Downloading async_timeout-4.0.2-py3-none-any.whl (5.8 kB)\n",
      "Collecting aiosignal>=1.1.2\n",
      "  Downloading aiosignal-1.2.0-py3-none-any.whl (8.2 kB)\n",
      "Collecting multiprocess\n",
      "  Downloading multiprocess-0.70.12.2-py38-none-any.whl (128 kB)\n",
      "\u001b[2K     \u001b[90m━━━━━━━━━━━━━━━━━━━━━━━━━━━━━━━━━━━━━━\u001b[0m \u001b[32m128.3/128.3 kB\u001b[0m \u001b[31m16.4 MB/s\u001b[0m eta \u001b[36m0:00:00\u001b[0m\n",
      "\u001b[?25hRequirement already satisfied: python-dateutil>=2.8.1 in /home/kotech/venv-trans/lib/python3.8/site-packages (from pandas->datasets) (2.8.2)\n",
      "Requirement already satisfied: pytz>=2020.1 in /home/kotech/venv-trans/lib/python3.8/site-packages (from pandas->datasets) (2022.1)\n",
      "Requirement already satisfied: six>=1.5 in /home/kotech/venv-trans/lib/python3.8/site-packages (from python-dateutil>=2.8.1->pandas->datasets) (1.16.0)\n",
      "Installing collected packages: xxhash, pyarrow, multidict, fsspec, frozenlist, dill, async-timeout, yarl, responses, multiprocess, aiosignal, aiohttp, datasets\n",
      "Successfully installed aiohttp-3.8.1 aiosignal-1.2.0 async-timeout-4.0.2 datasets-2.2.2 dill-0.3.4 frozenlist-1.3.0 fsspec-2022.5.0 multidict-6.0.2 multiprocess-0.70.12.2 pyarrow-8.0.0 responses-0.18.0 xxhash-3.0.0 yarl-1.7.2\n"
     ]
    }
   ],
   "source": [
    "! pip install datasets transformers"
   ]
  },
  {
   "cell_type": "markdown",
   "metadata": {
    "id": "kuYLD-E2zLqH"
   },
   "source": [
    "If you're opening this notebook locally, make sure your environment has an install from the last version of those libraries.\n",
    "\n",
    "To be able to share your model with the community and generate results like the one shown in the picture below via the inference API, there are a few more steps to follow.\n",
    "\n",
    "First you have to store your authentication token from the Hugging Face website (sign up [here](https://huggingface.co/join) if you haven't already!) then execute the following cell and input your username and password:"
   ]
  },
  {
   "cell_type": "code",
   "execution_count": null,
   "metadata": {
    "id": "GALVLGfUzLqJ"
   },
   "outputs": [],
   "source": [
    "from huggingface_hub import notebook_login\n",
    "\n",
    "notebook_login()"
   ]
  },
  {
   "cell_type": "markdown",
   "metadata": {
    "id": "czxMbTjyzLqK"
   },
   "source": [
    "Then you need to install Git-LFS. Uncomment the following instructions:"
   ]
  },
  {
   "cell_type": "code",
   "execution_count": null,
   "metadata": {
    "id": "A6r9QxXyzLqK"
   },
   "outputs": [],
   "source": [
    "# !apt install git-lfs"
   ]
  },
  {
   "cell_type": "markdown",
   "metadata": {
    "id": "MibbZrYEzLqL"
   },
   "source": [
    "Make sure your version of Transformers is at least 4.11.0 since the functionality was introduced in that version:"
   ]
  },
  {
   "cell_type": "code",
   "execution_count": 1,
   "metadata": {
    "id": "WS_HhqmZzLqL"
   },
   "outputs": [
    {
     "name": "stdout",
     "output_type": "stream",
     "text": [
      "4.19.2\n"
     ]
    }
   ],
   "source": [
    "import transformers\n",
    "\n",
    "print(transformers.__version__)"
   ]
  },
  {
   "cell_type": "markdown",
   "metadata": {
    "id": "HFASsisvIrIb"
   },
   "source": [
    "You can find a script version of this notebook to fine-tune your model in a distributed fashion using multiple GPUs or TPUs [here](https://github.com/huggingface/transformers/tree/master/examples/question-answering)."
   ]
  },
  {
   "cell_type": "markdown",
   "metadata": {
    "id": "rEJBSTyZIrIb"
   },
   "source": [
    "# Fine-tuning a model on a question-answering task"
   ]
  },
  {
   "cell_type": "markdown",
   "metadata": {
    "id": "1TtPT8GxzLqM"
   },
   "source": [
    "In this notebook, we will see how to fine-tune one of the [🤗 Transformers](https://github.com/huggingface/transformers) model to a question answering task, which is the task of extracting the answer to a question from a given context. We will see how to easily load a dataset for these kinds of tasks and use the `Trainer` API to fine-tune a model on it.\n",
    "\n",
    "![Widget inference representing the QA task](https://github.com/huggingface/notebooks/blob/master/examples/images/question_answering.png?raw=1)\n",
    "\n",
    "**Note:** This notebook finetunes models that answer question by taking a substring of a context, not by generating new text."
   ]
  },
  {
   "cell_type": "markdown",
   "metadata": {
    "id": "4RRkXuteIrIh"
   },
   "source": [
    "This notebook is built to run on any question answering task with the same format as SQUAD (version 1 or 2), with any model checkpoint from the [Model Hub](https://huggingface.co/models) as long as that model has a version with a token classification head and a fast tokenizer (check on [this table](https://huggingface.co/transformers/index.html#bigtable) if this is the case). It might just need some small adjustments if you decide to use a different dataset than the one used here. Depending on you model and the GPU you are using, you might need to adjust the batch size to avoid out-of-memory errors. Set those three parameters, then the rest of the notebook should run smoothly:"
   ]
  },
  {
   "cell_type": "code",
   "execution_count": 2,
   "metadata": {
    "id": "zVvslsfMIrIh"
   },
   "outputs": [],
   "source": [
    "# This flag is the difference between SQUAD v1 or 2 (if you're using another dataset, it indicates if impossible\n",
    "# answers are allowed or not).\n",
    "squad_v2 = False\n",
    "#model_checkpoint = \"monologg/koelectra-small-v3-finetuned-korquad\"\n",
    "#model_checkpoint = \"monologg/koelectra-base-v3-finetuned-korquad\"\n",
    "model_checkpoint = \"monologg/kobigbird-bert-base\"\n",
    "batch_size = 16"
   ]
  },
  {
   "cell_type": "markdown",
   "metadata": {
    "id": "whPRbBNbIrIl"
   },
   "source": [
    "## Loading the dataset"
   ]
  },
  {
   "cell_type": "markdown",
   "metadata": {
    "id": "W7QYTpxXIrIl"
   },
   "source": [
    "We will use the [🤗 Datasets](https://github.com/huggingface/datasets) library to download the data and get the metric we need to use for evaluation (to compare our model to the benchmark). This can be easily done with the functions `load_dataset` and `load_metric`.  "
   ]
  },
  {
   "cell_type": "code",
   "execution_count": 3,
   "metadata": {
    "id": "IreSlFmlIrIm"
   },
   "outputs": [],
   "source": [
    "from datasets import load_dataset, load_metric"
   ]
  },
  {
   "cell_type": "markdown",
   "metadata": {
    "id": "CKx2zKs5IrIq"
   },
   "source": [
    "For our example here, we'll use the [SQUAD dataset](https://rajpurkar.github.io/SQuAD-explorer/). The notebook should work with any question answering dataset provided by the 🤗 Datasets library. If you're using your own dataset defined from a JSON or csv file (see the [Datasets documentation](https://huggingface.co/docs/datasets/loading_datasets.html#from-local-files) on how to load them), it might need some adjustments in the names of the columns used."
   ]
  },
  {
   "cell_type": "code",
   "execution_count": 4,
   "metadata": {},
   "outputs": [],
   "source": [
    "import json\n",
    "def load_json(path):\n",
    "    with open(path, 'r', encoding='utf8') as f:\n",
    "        return json.load(f)\n",
    "data = load_json('dataset/train.json')"
   ]
  },
  {
   "cell_type": "code",
   "execution_count": 5,
   "metadata": {},
   "outputs": [],
   "source": [
    "def read_squad(mode, data, debug=False):\n",
    "    contexts = []\n",
    "    questions = []\n",
    "    question_ids = []\n",
    "    answers = []\n",
    "    data = data.copy()\n",
    "\n",
    "    # train - val split\n",
    "    if mode == 'train':\n",
    "        data['data'] = data['data'][:-1*int(len(data['data'])*0.1)]\n",
    "    elif mode == 'val':\n",
    "        data['data'] = data['data'][-1*int(len(data['data'])*0.1):]\n",
    "\n",
    "\n",
    "    till = 100 if debug else len(data['data'])\n",
    "\n",
    "\n",
    "    for group in data['data'][:till]:\n",
    "        for passage in group['paragraphs']:\n",
    "            context = passage['context']\n",
    "            for qa in passage['qas']:\n",
    "                question = qa['question']\n",
    "                if mode == 'test':\n",
    "                    contexts.append(context)\n",
    "                    questions.append(question)\n",
    "                    question_ids.append(qa['question_id'])\n",
    "                else: # train or val\n",
    "                    for ans in qa['answers']:\n",
    "                        contexts.append(context)\n",
    "                        questions.append(question)\n",
    "\n",
    "                        if qa['is_impossible']:\n",
    "                            answers.append({'text':[''],'answer_start':[-1]})\n",
    "                        else:\n",
    "                            #answers.append([ans])\n",
    "                            answers.append({'text':[ans['text']],'answer_start':[ans['answer_start']]})\n",
    "    # return formatted data lists\n",
    "    return contexts, questions, answers, question_ids"
   ]
  },
  {
   "cell_type": "code",
   "execution_count": 6,
   "metadata": {},
   "outputs": [],
   "source": [
    "from datasets import Dataset\n",
    "#import pandas as pd\n",
    "contexts, questions, answers, question_ids = read_squad('train', data)\n",
    "ids = []\n",
    "for i in range(len(contexts)):\n",
    "    ids.append(i)\n",
    "train_dataset = Dataset.from_dict({'id':ids, 'context': contexts, 'question':questions, 'answers':answers})\n",
    "    \n",
    "#df = pd.DataFrame({'context': contexts, 'question': questions, 'answers': answers})\n",
    "#df.to_csv('train.csv', index=False)\n",
    "contexts, questions, answers, question_ids = read_squad('val', data)\n",
    "ids = []\n",
    "for i in range(len(contexts)):\n",
    "    ids.append(i)\n",
    "val_dataset = Dataset.from_dict({'id':ids, 'context': contexts, 'question':questions, 'answers':answers})\n",
    "#df = pd.DataFrame({'context': contexts, 'question': questions, 'answers': answers})\n",
    "#df.to_csv('val.csv', index=False)"
   ]
  },
  {
   "cell_type": "code",
   "execution_count": 7,
   "metadata": {},
   "outputs": [
    {
     "data": {
      "text/plain": [
       "[]"
      ]
     },
     "execution_count": 7,
     "metadata": {},
     "output_type": "execute_result"
    }
   ],
   "source": [
    "question_ids"
   ]
  },
  {
   "cell_type": "code",
   "execution_count": 8,
   "metadata": {
    "colab": {
     "base_uri": "https://localhost:8080/",
     "height": 270,
     "referenced_widgets": [
      "69caab03d6264fef9fc5649bffff5e20",
      "3f74532faa86412293d90d3952f38c4a",
      "50615aa59c7247c4804ca5cbc7945bd7",
      "fe962391292a413ca55dc932c4279fa7",
      "299f4b4c07654e53a25f8192bd1d7bbd",
      "ad04ed1038154081bbb0c1444784dcc2",
      "7c667ad22b5740d5a6319f1b1e3a8097",
      "46c2b043c0f84806978784a45a4e203b",
      "80e2943be35f46eeb24c8ab13faa6578",
      "de5956b5008d4fdba807bae57509c393",
      "931db1f7a42f4b46b7ff8c2e1262b994",
      "6c1db72efff5476e842c1386fadbbdba",
      "ccd2f37647c547abb4c719b75a26f2de",
      "d30a66df5c0145e79693e09789d96b81",
      "5fa26fc336274073abbd1d550542ee33",
      "2b34de08115d49d285def9269a53f484",
      "d426be871b424affb455aeb7db5e822e",
      "160bf88485f44f5cb6eaeecba5e0901f",
      "745c0d47d672477b9bb0dae77b926364",
      "d22ab78269cd4ccfbcf70c707057c31b",
      "d298eb19eeff453cba51c2804629d3f4",
      "a7204ade36314c86907c562e0a2158b8",
      "e35d42b2d352498ca3fc8530393786b2",
      "75103f83538d44abada79b51a1cec09e",
      "f6253931d90543e9b5fd0bb2d615f73a",
      "051aa783ff9e47e28d1f9584043815f5",
      "0984b2a14115454bbb009df71c1cf36f",
      "8ab9dfce29854049912178941ef1b289",
      "c9de740e007141958545e269372780a4",
      "cbea68b25d6d4ba09b2ce0f27b1726d5",
      "5781fc45cf8d486cb06ed68853b2c644",
      "d2a92143a08a4951b55bab9bc0a6d0d3",
      "a14c3e40e5254d61ba146f6ec88eae25",
      "c4ffe6f624ce4e978a0d9b864544941a",
      "1aca01c1d8c940dfadd3e7144bb35718",
      "9fbbaae50e6743f2aa19342152398186",
      "fea27ca6c9504fc896181bc1ff5730e5",
      "940d00556cb849b3a689d56e274041c2",
      "5cdf9ed939fb42d4bf77301c80b8afca",
      "94b39ccfef0b4b08bf2fb61bb0a657c1",
      "9a55087c85b74ea08b3e952ac1d73cbe",
      "2361ab124daf47cc885ff61f2899b2af",
      "1a65887eb37747ddb75dc4a40f7285f2",
      "3c946e2260704e6c98593136bd32d921",
      "50d325cdb9844f62a9ecc98e768cb5af",
      "aa781f0cfe454e9da5b53b93e9baabd8",
      "6bb68d3887ef43809eb23feb467f9723",
      "7e29a8b952cf4f4ea42833c8bf55342f",
      "dd5997d01d8947e4b1c211433969b89b",
      "2ace4dc78e2f4f1492a181bcd63304e7",
      "bbee008c2791443d8610371d1f16b62b",
      "31b1c8a2e3334b72b45b083688c1a20c",
      "7fb7c36adc624f7dbbcb4a831c1e4f63",
      "0b7c8f1939074794b3d9221244b1344d",
      "a71908883b064e1fbdddb547a8c41743",
      "2f5223f26c8541fc87e91d2205c39995"
     ]
    },
    "id": "s_AY1ATSIrIq",
    "outputId": "fd0578d1-8895-443d-b56f-5908de9f1b6b"
   },
   "outputs": [],
   "source": [
    "#datasets = load_dataset(\"squad_v2\" if squad_v2 else \"squad\")\n",
    "#dataset = load_dataset('json', data_files='dataset/train.json', field='data')\n",
    "#datasets = load_dataset('csv', data_files={'train':'train.csv', 'validation': 'val.csv'})\n",
    "#datasets = load_dataset('csv', data_files={'train':'train.csv', 'validation': 'val.csv'})"
   ]
  },
  {
   "cell_type": "code",
   "execution_count": 9,
   "metadata": {},
   "outputs": [],
   "source": [
    "from datasets import DatasetDict\n",
    "datasets = DatasetDict({'train':train_dataset, 'validation':val_dataset})"
   ]
  },
  {
   "cell_type": "markdown",
   "metadata": {
    "id": "RzfPtOMoIrIu"
   },
   "source": [
    "The `datasets` object itself is [`DatasetDict`](https://huggingface.co/docs/datasets/package_reference/main_classes.html#datasetdict), which contains one key for the training, validation and test set."
   ]
  },
  {
   "cell_type": "code",
   "execution_count": 10,
   "metadata": {
    "id": "GWiVUF0jIrIv",
    "outputId": "35e3ea43-f397-4a54-c90c-f2cf8d36873e"
   },
   "outputs": [
    {
     "data": {
      "text/plain": [
       "DatasetDict({\n",
       "    train: Dataset({\n",
       "        features: ['id', 'context', 'question', 'answers'],\n",
       "        num_rows: 25262\n",
       "    })\n",
       "    validation: Dataset({\n",
       "        features: ['id', 'context', 'question', 'answers'],\n",
       "        num_rows: 2762\n",
       "    })\n",
       "})"
      ]
     },
     "execution_count": 10,
     "metadata": {},
     "output_type": "execute_result"
    }
   ],
   "source": [
    "datasets"
   ]
  },
  {
   "cell_type": "markdown",
   "metadata": {
    "id": "IsSs17iuzLqR"
   },
   "source": [
    "We can see the training, validation and test sets all have a column for the context, the question and the answers to those questions."
   ]
  },
  {
   "cell_type": "markdown",
   "metadata": {
    "id": "u3EtYfeHIrIz"
   },
   "source": [
    "To access an actual element, you need to select a split first, then give an index:"
   ]
  },
  {
   "cell_type": "code",
   "execution_count": 11,
   "metadata": {
    "id": "X6HrpprwIrIz",
    "outputId": "d7670bc0-42e4-4c09-8a6a-5c018ded7d95"
   },
   "outputs": [
    {
     "data": {
      "text/plain": [
       "{'id': 0,\n",
       " 'context': '이 글에서는 제안한 기술경쟁력 평가 방법의 특징은 두 가지로 요약된다. 첫째, 현재의 경쟁력보다는 미래의 경쟁력을 평가하도록 평가의 대상을 확대해야 한다. 지금까지의 경쟁력 평가가 현위치를 중심으로 한 것이었다면, 앞으로의 대안은 과정과 경로를 중시하는 것이 되어야 한다는 것이다. 사실 지식정보화사회에서 가진 것이란 허망한 것이다. 현재의 기술수준이 높더라고, 이를 끊임없이 개량하고 새로운 기술을 발전시킬 수 있는 능력이 없다면 미래의 전망은 어둡다. 기술이나 정보는 실물 자산보다 진부화율이 매우 높다. 둘째, 기술경쟁력 평가를 순위를 매기는 작업이 아니라 이를 통하여 장점과 단점을 파악하는 과정으로 활용하여야 한다. 순위는 대중적인 흥미는 끌 수 있지만, 그것으로부터 교훈이 도출되는 것은 아니다. 기술경쟁력의 평가를 통해서 외국시스템의 장점을 배우고, 한국 시스템의 단점을 교정하는 대안이 발견될 수 있다. 경쟁이란 남과 비교하는 것을 의미한다. 내가 아무리 잘 하더라도 남이 나보다 더 잘 한다면 경쟁에서 진다. 그래서 경쟁은 각박하지만, 과학기술은 경쟁을 피할 수 있는 분야가 아니다. 경쟁 상대국을 연구하고, 경쟁 상대국을 앞설 수 있는 방안을 강구하기 위해서 기술경쟁력에 관한 연구가 더욱 활발해져야 할 것이다.',\n",
       " 'question': '경쟁 상대국을 연구하고 경쟁 상대국을 앞설 수 있는 방법을 연구하기 위해서 더욱 활발해져야 할 연구는 뭐지',\n",
       " 'answers': {'answer_start': [603], 'text': ['기술경쟁력']}}"
      ]
     },
     "execution_count": 11,
     "metadata": {},
     "output_type": "execute_result"
    }
   ],
   "source": [
    "datasets[\"train\"][0]"
   ]
  },
  {
   "cell_type": "markdown",
   "metadata": {
    "id": "W0cGAiJ9zLqS"
   },
   "source": [
    "We can see the answers are indicated by their start position in the text (here at character 515) and their full text, which is a substring of the context as we mentioned above."
   ]
  },
  {
   "cell_type": "markdown",
   "metadata": {
    "id": "WHUmphG3IrI3"
   },
   "source": [
    "To get a sense of what the data looks like, the following function will show some examples picked randomly in the dataset (automatically decoding the labels in passing)."
   ]
  },
  {
   "cell_type": "code",
   "execution_count": 12,
   "metadata": {
    "id": "i3j8APAoIrI3"
   },
   "outputs": [],
   "source": [
    "from datasets import ClassLabel, Sequence\n",
    "import random\n",
    "import pandas as pd\n",
    "from IPython.display import display, HTML\n",
    "\n",
    "def show_random_elements(dataset, num_examples=10):\n",
    "    assert num_examples <= len(dataset), \"Can't pick more elements than there are in the dataset.\"\n",
    "    picks = []\n",
    "    for _ in range(num_examples):\n",
    "        pick = random.randint(0, len(dataset)-1)\n",
    "        while pick in picks:\n",
    "            pick = random.randint(0, len(dataset)-1)\n",
    "        picks.append(pick)\n",
    "    \n",
    "    df = pd.DataFrame(dataset[picks])\n",
    "    for column, typ in dataset.features.items():\n",
    "        if isinstance(typ, ClassLabel):\n",
    "            df[column] = df[column].transform(lambda i: typ.names[i])\n",
    "        elif isinstance(typ, Sequence) and isinstance(typ.feature, ClassLabel):\n",
    "            df[column] = df[column].transform(lambda x: [typ.feature.names[i] for i in x])\n",
    "    display(HTML(df.to_html()))"
   ]
  },
  {
   "cell_type": "code",
   "execution_count": 13,
   "metadata": {
    "id": "SZy5tRB_IrI7",
    "outputId": "ba8f2124-e485-488f-8c0c-254f34f24f13",
    "scrolled": true
   },
   "outputs": [
    {
     "data": {
      "text/html": [
       "<table border=\"1\" class=\"dataframe\">\n",
       "  <thead>\n",
       "    <tr style=\"text-align: right;\">\n",
       "      <th></th>\n",
       "      <th>id</th>\n",
       "      <th>context</th>\n",
       "      <th>question</th>\n",
       "      <th>answers</th>\n",
       "    </tr>\n",
       "  </thead>\n",
       "  <tbody>\n",
       "    <tr>\n",
       "      <th>0</th>\n",
       "      <td>9123</td>\n",
       "      <td>현재 3D 프린팅 기술의 급격한 발전으로 3D 프린팅 기술은 기존 산업과의 융·복합 되어 성장 중이며, 기존 단순 시제품(Prototype)제작에서 수요자의 니즈에 맞는 맞춤형 디자인 형상 및 복합 소재 구현 등 기존의 기술이 융·복합되어 새로운 제조 기술로 발전 중이다. 특히, 3D 프린팅 기술은 다품종 소량생산에 적합하고 환자 맞춤형 제작이 가능하기 때문에 의료분야에서의 활용성이 매우 크다. 3D 프린터의 FDM(Fused Deposition Modeling) 기술로 열가소성 생체적합 고분자를 이용한 의료용 지지체의 직접 제작이 가능하게 되면서 생체·의공학 분야에서 본격적으로 활용되기 시작했다. 3D 프린터를 활용하여 보청기, 틀니, 의족, 의수 등 개인 맞춤형 의료 보형물 제작에 활용되고 있고, 환자의 해부용 가상 신체를 제작하여 수술 시뮬레이션용으로 활용함으로써 수술로 인한 의료사고를 사전에 예방하거나, 수술시간의 단축과 수술의 성공률 향상에 기여할 수 있게 되었으며, 의료분야 종사자의 교육에도 활용하고 있다.</td>\n",
       "      <td>환자의 해부용 가상 신체를 제작하여 수술 시뮬레이션용으로 활용함으로 의료사고를 사전에 예방하고 수술시간의 단축에 영향을 준 기술은 뭐니</td>\n",
       "      <td>{'answer_start': [3], 'text': ['3D 프린팅 기술']}</td>\n",
       "    </tr>\n",
       "    <tr>\n",
       "      <th>1</th>\n",
       "      <td>6941</td>\n",
       "      <td>강원도 지역의 안보관광 자원들은 군 통제지역 깊숙하게 위치하여 군의 통제와 관리가 인천·경기권의 군부대보다 통제와 관리체계가 더욱 삼엄하다. 또한, 경기도와 달리 강원도는 배치되어 있는 군부대의 수가 많은 데 사단마다 요청사항이 상이하여 군과의 협조에 어려움을 안고 있다. 인천권역은 DMZ 접경지역 내에서 이루어지는 각종 시설이나 습지개발, 교량 시설 등의 개발 계획들은 관할 군부대인 해병 2사단으로부터 군사작전 영향평가를 받는데, 평가 후 합의를 보는데 10년까지 걸리기도 한다. 특히 강화도의 경우 각종 개발계획 진행 시 국방부뿐만 아니라 문화 재청에서도 중첩규제를 받아 개발이 어려운 것으로 나타났다. 지자체는 군부대의 입장통제와 개발 제한 문제는 인천권역의 사회기반시설 구축에 따른 접근성 완화와 지역관광 활성화로 자연히 군부대의 접근 통제 문제도 완화될 것으로 기대하고 있는 것으로 나타났다. 이에 따라 교통 인프라의 구축과 관리적 방안에 대한 정부차원의 지원이 필요한 것으로 나타났다.</td>\n",
       "      <td>개발계획을 진행할 때 국방부의 규제와 문화재청의 통제를 함께 받아 개발이 힘든 지역이 어딜까</td>\n",
       "      <td>{'answer_start': [275], 'text': ['강화도']}</td>\n",
       "    </tr>\n",
       "    <tr>\n",
       "      <th>2</th>\n",
       "      <td>18467</td>\n",
       "      <td>바호주(Jose Manuel Barroso) Ⅱ기 집행위원회와 롬푀이(Herman Van Rompuy) 유럽연합(EU: European Union) 정상회의 상임의장, 그리고 애쉬튼(Catherine Ashton) 외교안보 고위대표가 이끈 2009~2014년 EU 지도부는 유럽통합의 제도적·정치적·경제적·안보적 위기 노출에 직면하며 그 임기를 마감하였다. 이 시기에 EU는 경제적으로는 유로존 위기와 각국의 재정위기를 겪으면서 EU 전체의 경쟁력 제고와 유로존의 제도적 오류를 개혁하고 재정 통합에서 진전을 보였다. 제도적으로는 대부분의 EU 회원국이 참여하여 신 재정협약을 수립하였다. EU 대외관계청이 본격적으로 가동되고, 2009년 12월 발효된 리스본 조약에서 이행 기한을 두었던 EU의 의사결정상의 여러 변화들이 실현되었다. 정치적으로 이 시기는 유럽통합에 대한 의문이 대내적으로 제기된 해였다. 각국 선거에서 유럽 회의주의가 팽배하였고, 이러한 경향은 2014년 5월 치러진 유럽의회 선거에서 반 EU 정당이 영국과 프랑스를 중심으로 부상함에 따라, 유럽 회의주의가 득세를 보이는 것으로 이어졌다.</td>\n",
       "      <td>어느 나라들을 중심으로 2014년 5월의 유럽의회 선거에서 반 EU 정당이 떠올랐을까</td>\n",
       "      <td>{'answer_start': [516], 'text': ['영국과 프랑스']}</td>\n",
       "    </tr>\n",
       "    <tr>\n",
       "      <th>3</th>\n",
       "      <td>12135</td>\n",
       "      <td>다른 한편으로, 디지털 전환으로 인해 디지털 상거래의 규모가 큰 폭으로 확대되었으며, 외국 사업자의 국내 시장 진출은 빠르게 이행될 것으로 예상됨. 디지털 상거래의 소득 발생 주요 원천은 전통적인 의미의 ‘사업장’이 아니라 ‘사용자 데이터’이므로 물리적 실체를 기반으로 한 현행 과세기준 아래에서는 소득의 원천국가가 과세권을 갖지 못하는, 이른바 ‘국가 간 과세권 배분의 왜곡’ 현상이 발생함. 그뿐만 아니라, 다국적 기업이 인위적으로 세율이 낮은 국가로 본사를 이전하여 조세를 회피하게 되는 경우, 세원 잠식 및 소득 이전(Base erosion and profit shifting)의 문제가 발생하게 됨. 우리나라는 2014년 부가가치세법 제53조의 2 【전자적 용역을 공급하는 국외 사업자의 용역 공급과 사업자등록 등에 관한 특례】를 제정하여 국외 사업자가 제공하는 디지털 서비스에 대한 조세제도를 일부 정비한 바 있으나, 소득세 등에 대한 보다 포괄적인 법제적 정비는 아직 이루어지고 있지 못함.</td>\n",
       "      <td>국가 간 과세권 배분의 왜곡 현상은 무엇으로 인해 확대되었지</td>\n",
       "      <td>{'answer_start': [9], 'text': ['디지털 전환']}</td>\n",
       "    </tr>\n",
       "    <tr>\n",
       "      <th>4</th>\n",
       "      <td>22142</td>\n",
       "      <td>결국, 원 기록매체를 압수할 것인가, 본 조의 처분을 할 것인지 여부는 압수를 행하는 자의 재량에 맡겨져 있다고 해석된다. 또한, 판사가 영장을 발부함에 있어 집행방법에 관하여 조건(전자적 기록이 저장된 기록매체를 압수하는 경우 본 조의 처분에 따라야 한다는 조건 등)을 부가하는 것이 가능할 수 있을 것이나, 압수의 집행 방법은 압수 현장의 상황에 따라 좌우되는 면이 큰 이상, 압수의 구체적인 방법은 압수를 행하는 자의 판단에 맡기는 것이 적당한 경우가 많을 것이다. 결국 압수 현장에서의 본 조의 처분에 따른 압수를 할 것인지는 물론, 본 조의 처분에 따라 압수를 하는 경우에도, 수사기관이 직접 압수를 할 것인지, 피압수자에게 이를 하게 할 것인지 여부, ‘복사’, ‘인쇄’, ‘이전’ 중 어떤 처분을 할 것인지에 대하여도 압수 현장의 상황에 따라 압수를 행하는 자의 판단에 따라 이를 결정하게 될 것이다.</td>\n",
       "      <td>영장은 누구를 통해 발급되지</td>\n",
       "      <td>{'answer_start': [73], 'text': ['판사']}</td>\n",
       "    </tr>\n",
       "    <tr>\n",
       "      <th>5</th>\n",
       "      <td>9767</td>\n",
       "      <td>비용이나 세금은 심리학적으로 부담을 주는 용어이다. 내 주머니에서 돈이 나가야 하고 내 봉급이 깎인다는 생각을 하게 되어 새로운 세대들의 심리적 구조 및 사유체계와는 잘 맞지 않는 개념이다. 즉, 국가가 지향하는 가치 및 목표와 국민들의 가치관 사이에 괴리감이 생기기 쉽다. 국민들에게 심리적인 측면을 설명할 수 있어야 세금이나 비용이라는 용어가 국민들에게 받아들여지지 않을까 생각한다. 과거의 경우에도 통일비용을 이야기하면 할수록 국민들이 통일을 싫어하는 구조가 잉태되었다. 지금 통일세를 이야기하면 국민들 사이에 통일을 꺼리는 상황이 발생할 수도 있다. 독일에서는 통일 이전에 법학 전공자들의 실업률이 매우 높았는데, 통일 이후에 가장 선호하는 전공으로 바뀌었다. 통일 이후에 법률 전문가에 대한 수요가 급증하는 바람에 법학 전공자들은 모두 일자리를 얻게 되었던 것이다. 이러한 측면에서 북한주민의 심리를 고려하는 것이 필요하다.</td>\n",
       "      <td>통일 이전에 법학 전공자들의 실업률이 매우 높았던 나라가 어디야</td>\n",
       "      <td>{'answer_start': [312], 'text': ['독일']}</td>\n",
       "    </tr>\n",
       "    <tr>\n",
       "      <th>6</th>\n",
       "      <td>18386</td>\n",
       "      <td>발전원가의 발표에 있어서 추가적으로 고려할 사항은 신재생에너지 발전원의 발전단가가 지속 하락하고 있다는 점이다. 산업통상자원부에서 2014년 9월에 발표 한 ｢제4차 신재생에너지보급계획｣에 따르면 신재생에너지의 발전단가는 2013년에 육상풍력이 이미 가스발전보다 저렴해졌다. 2017년에는 해상풍력과 태양광이 가스발전과 유사한 수준이 되며 2022년에는 태양광과 해상풍력도 가스발전보다 낮은 발전단가를 갖게 될 것으로 예상하고 있다. 신재생에너지의 발전단가가 기존 발전원과 경쟁력을 갖추는 그리드패리티(grid parity)가 7차 전력계획의 계획기간 내에 발생하는 것이다. 반면 기존 발전원의 발전단가는 지속 상승하고 있다. 1차 전력계획이 수립된 2002년에는 원자력의 발전단가를 36.3원/kWh였다. 석탄화력은 원자력보다 저렴한 30.7원/kWh이고, 가스화력은 65.9원/kWh였다. 그런데 10년 후 6차 전력계획에서는 1kWh당 원자력은 46.9원, 석탄화력은 64,6원, 가스화력은 125.2원으로 높아졌다.</td>\n",
       "      <td>어떠한 발전원이 발전원가의 발표에서 추가적으로 고려할 사항으로 발전단가가 지속적으로 떨어지고 있을까</td>\n",
       "      <td>{'answer_start': [28], 'text': ['신재생에너지']}</td>\n",
       "    </tr>\n",
       "    <tr>\n",
       "      <th>7</th>\n",
       "      <td>5785</td>\n",
       "      <td>제3장 “범죄피해” 편에서는 범죄피해조사의 결과를 분석한 자료를 제시하였다. 2009년 이전에는 ‘전국 범죄와 안전 조사(National Crime and Safety Survey)’를 통해 정보를 수집했으나, 2010년부터 호주 통계청에서 매년 발간하는 ‘호주 범죄피해(Crime Victimization, Australia)’의 데이터를 활용한다. 따라서 2010년 이전의 자료와 이후의 자료를 비교할 수는 없다. “범죄피해” 편에서는 먼저 가구피해(주거침입, 주거침입미수, 자동차절도, 자동차에서의 절도, 손괴, 기타 절도)와 개인피해(폭행, 강도, 성폭력)를 다양하게 분석하였다. 또한 형사사법시스템이 효과적으로 작동하는지에 대한 신뢰도를 측정하여 형사사법시스템에 대한 인식 정도를 제시하였다. 마지막으로 ‘호주 경쟁 및 소비자위원회(Australian Competition and Consumer Commission; ACCC)’의 사기에 대한 보고서를 이용하여 각종 사기범죄에 대한 분석결과를 제시하였다.</td>\n",
       "      <td>폭행 강도 성폭력은 어떤 범죄 피해 속할까</td>\n",
       "      <td>{'answer_start': [298], 'text': ['개인피해']}</td>\n",
       "    </tr>\n",
       "    <tr>\n",
       "      <th>8</th>\n",
       "      <td>1237</td>\n",
       "      <td>본고에서는 독일의 히든챔피언이 주로 포진하고 있는 기계제조 분야의 정밀기계기사 훈련과정을 소개한다. 정밀기계기사는 1989년 기계제조기사, 정밀기계기사, 공구제조기사, 선반기사가 통합된 직업이다. 통합 이전의 개별 직업은 정밀기계기사직 아래 정밀기계, 기계제조, 공구제조 등의 전공으로 격이 바뀌었다. 2010년 독일은 직업훈련규정을 현대화하는 과정에서 절삭 기술도 정밀기계기사직의 전공으로 추가하여 기술의 변화 및 경제 · 사회적 변화를 훈련과정에 반영하였다. 정밀기계기사는 수공업협회가 관장하는 훈련과정이다. 독일의 정밀기계수공업은 세계 최고를 자랑한다. 금속수공업 분야에서 정밀기계기사, 기계제작기사, 절삭기사, 공구제조기사가 없었다면 세계 최고를 자랑하는 산업기지로서 오늘의 독일은 존재할 수 없었을 것이다. 정밀기계기사는 항공 우주, 자동차, 기계, 의료기 제작에 부품을 제작 · 납품하는 생산 및 공정 기술 전문가로서 금속 수공업 분야의 핵심 직종에 속한다. 또한, 정밀기계기사는 아주 작은 크기의 프로토 타입의 제작 과정에 3D 프린터 기술의 상용화가 예상되는 첨단 기술 직종이다(Metall-Innung Wunsiedel, 2016).</td>\n",
       "      <td>어느 국가에 기계제조 부문의 정밀기계기사 훈련과정이 있을까</td>\n",
       "      <td>{'answer_start': [6], 'text': ['독일']}</td>\n",
       "    </tr>\n",
       "    <tr>\n",
       "      <th>9</th>\n",
       "      <td>14065</td>\n",
       "      <td>중소기업은행법(2003.12.11)을 개정하여 중소기업은행의 자산운용에 대한 규제를 완화하였다. 종전 승인업무였던 유가증권 발행업무를 중소기업은행의 고유업무에 포함시키는 한편 여유자금운용은‘정관에서 정하는 바’에 따르도록 하여 경영의 자율성도 높였다. 또한 외국자본 차입에 대한 재정경제부장관의 승인제도를 폐지하였다. 증권거래법 시행령(2003.2.24)을 개정하여 장기적으로 안정적인 주식투자가 가능하도록 유가증권의 범위를 확대하여 주가나 주가지수와 연계한 주식투자상품을 유가증권에 포함시켰다. 그리고 유가증권 유통시장의 활성화를 위해 채권매매중개전문 증권회사가 장외에서 유가증권매매를 중개할 수 있는 대상을 넓혀 기관투자자들간의 유가증권 매매도 중개대상에 포함시켰다. 또한 증권회사의 투자일임업무를 활성화하기 위해 종전 일정비율(30%) 이상을 투자적격등급미만채권에 투자하도록 되어 있던 투자일임업의 업무대상 제한을 폐지하였다.</td>\n",
       "      <td>본래 중소기업은행의 승인업무였지만 고유업무에 포함시킨 업무는 뭘까</td>\n",
       "      <td>{'answer_start': [64], 'text': ['유가증권 발행업무']}</td>\n",
       "    </tr>\n",
       "  </tbody>\n",
       "</table>"
      ],
      "text/plain": [
       "<IPython.core.display.HTML object>"
      ]
     },
     "metadata": {},
     "output_type": "display_data"
    }
   ],
   "source": [
    "show_random_elements(datasets[\"train\"])"
   ]
  },
  {
   "cell_type": "markdown",
   "metadata": {
    "id": "n9qywopnIrJH"
   },
   "source": [
    "## Preprocessing the training data"
   ]
  },
  {
   "cell_type": "markdown",
   "metadata": {
    "id": "YVx71GdAIrJH"
   },
   "source": [
    "Before we can feed those texts to our model, we need to preprocess them. This is done by a 🤗 Transformers `Tokenizer` which will (as the name indicates) tokenize the inputs (including converting the tokens to their corresponding IDs in the pretrained vocabulary) and put it in a format the model expects, as well as generate the other inputs that model requires.\n",
    "\n",
    "To do all of this, we instantiate our tokenizer with the `AutoTokenizer.from_pretrained` method, which will ensure:\n",
    "\n",
    "- we get a tokenizer that corresponds to the model architecture we want to use,\n",
    "- we download the vocabulary used when pretraining this specific checkpoint.\n",
    "\n",
    "That vocabulary will be cached, so it's not downloaded again the next time we run the cell."
   ]
  },
  {
   "cell_type": "code",
   "execution_count": 14,
   "metadata": {
    "id": "eXNLu_-nIrJI"
   },
   "outputs": [],
   "source": [
    "from transformers import AutoTokenizer\n",
    "    \n",
    "tokenizer = AutoTokenizer.from_pretrained(model_checkpoint)"
   ]
  },
  {
   "cell_type": "markdown",
   "metadata": {
    "id": "Vl6IidfdIrJK"
   },
   "source": [
    "The following assertion ensures that our tokenizer is a fast tokenizers (backed by Rust) from the 🤗 Tokenizers library. Those fast tokenizers are available for almost all models, and we will need some of the special features they have for our preprocessing."
   ]
  },
  {
   "cell_type": "code",
   "execution_count": 15,
   "metadata": {
    "id": "zHrbhaFNzLqU"
   },
   "outputs": [],
   "source": [
    "import transformers\n",
    "assert isinstance(tokenizer, transformers.PreTrainedTokenizerFast)"
   ]
  },
  {
   "cell_type": "markdown",
   "metadata": {
    "id": "hcozbHoZzLqV"
   },
   "source": [
    "You can check which type of models have a fast tokenizer available and which don't on the [big table of models](https://huggingface.co/transformers/index.html#bigtable)."
   ]
  },
  {
   "cell_type": "markdown",
   "metadata": {
    "id": "rowT4iCLIrJK"
   },
   "source": [
    "You can directly call this tokenizer on two sentences (one for the answer, one for the context):"
   ]
  },
  {
   "cell_type": "code",
   "execution_count": 13,
   "metadata": {
    "id": "a5hBlsrHIrJL",
    "outputId": "acdaa98a-a8cd-4a20-89b8-cc26437bbe90"
   },
   "outputs": [
    {
     "data": {
      "text/plain": [
       "{'input_ids': [2, 30376, 14545, 29023, 11281, 535, 3, 19611, 11281, 14545, 555, 24615, 4551, 12371, 518, 3], 'token_type_ids': [0, 0, 0, 0, 0, 0, 0, 1, 1, 1, 1, 1, 1, 1, 1, 1], 'attention_mask': [1, 1, 1, 1, 1, 1, 1, 1, 1, 1, 1, 1, 1, 1, 1, 1]}"
      ]
     },
     "execution_count": 13,
     "metadata": {},
     "output_type": "execute_result"
    }
   ],
   "source": [
    "tokenizer(\"What is your name?\", \"My name is Sylvain.\")"
   ]
  },
  {
   "cell_type": "markdown",
   "metadata": {
    "id": "pqdvSerkzLqW"
   },
   "source": [
    "Depending on the model you selected, you will see different keys in the dictionary returned by the cell above. They don't matter much for what we're doing here (just know they are required by the model we will instantiate later), you can learn more about them in [this tutorial](https://huggingface.co/transformers/preprocessing.html) if you're interested.\n",
    "\n",
    "Now one specific thing for the preprocessing in question answering is how to deal with very long documents. We usually truncate them in other tasks, when they are longer than the model maximum sentence length, but here, removing part of the the context might result in losing the answer we are looking for. To deal with this, we will allow one (long) example in our dataset to give several input features, each of length shorter than the maximum length of the model (or the one we set as a hyper-parameter). Also, just in case the answer lies at the point we split a long context, we allow some overlap between the features we generate controlled by the hyper-parameter `doc_stride`:"
   ]
  },
  {
   "cell_type": "code",
   "execution_count": 16,
   "metadata": {
    "id": "ZqyYroLlzLqW"
   },
   "outputs": [],
   "source": [
    "#max_length = 384 # The maximum length of a feature (question and context)\n",
    "#doc_stride = 128 # The authorized overlap between two part of the context when splitting it is needed.\n",
    "max_length = 512 # The maximum length of a feature (question and context)\n",
    "doc_stride = 128 # The authorized overlap between two part of the context when splitting it is needed.\n",
    "#max_length = 768 # The maximum length of a feature (question and context)\n",
    "#doc_stride = 128 # The authorized overlap between two part of the context when splitting it is needed."
   ]
  },
  {
   "cell_type": "markdown",
   "metadata": {
    "id": "F8HfKAplzLqX"
   },
   "source": [
    "Let's find one long example in our dataset:"
   ]
  },
  {
   "cell_type": "code",
   "execution_count": 25,
   "metadata": {
    "id": "iwUBFiq9zLqX"
   },
   "outputs": [],
   "source": [
    "for i, example in enumerate(datasets[\"train\"]):\n",
    "    if len(tokenizer(example[\"question\"], example[\"context\"])[\"input_ids\"]) > 512:\n",
    "        print('Found!')\n",
    "        break\n",
    "example = datasets[\"train\"][i]"
   ]
  },
  {
   "cell_type": "markdown",
   "metadata": {
    "id": "6O5e2PZbzLqX"
   },
   "source": [
    "Without any truncation, we get the following length for the input IDs:"
   ]
  },
  {
   "cell_type": "code",
   "execution_count": 26,
   "metadata": {
    "id": "69LG9QXbzLqY",
    "outputId": "7e16ab16-cdad-4135-c8ca-c7a31ce289a1"
   },
   "outputs": [
    {
     "data": {
      "text/plain": [
       "312"
      ]
     },
     "execution_count": 26,
     "metadata": {},
     "output_type": "execute_result"
    }
   ],
   "source": [
    "len(tokenizer(example[\"question\"], example[\"context\"])[\"input_ids\"])"
   ]
  },
  {
   "cell_type": "markdown",
   "metadata": {
    "id": "dTQFKKJ9zLqY"
   },
   "source": [
    "Now, if we just truncate, we will lose information (and possibly the answer to our question):"
   ]
  },
  {
   "cell_type": "code",
   "execution_count": 27,
   "metadata": {
    "id": "NAO6szo2zLqY",
    "outputId": "bd9e995a-197f-40a1-8692-eb431c25b77b"
   },
   "outputs": [
    {
     "data": {
      "text/plain": [
       "312"
      ]
     },
     "execution_count": 27,
     "metadata": {},
     "output_type": "execute_result"
    }
   ],
   "source": [
    "len(tokenizer(example[\"question\"], example[\"context\"], max_length=max_length, truncation=\"only_second\")[\"input_ids\"])"
   ]
  },
  {
   "cell_type": "markdown",
   "metadata": {
    "id": "nnEnY5x5zLqY"
   },
   "source": [
    "Note that we never want to truncate the question, only the context, else the `only_second` truncation picked. Now, our tokenizer can automatically return us a list of features capped by a certain maximum length, with the overlap we talked above, we just have to tell it with `return_overflowing_tokens=True` and by passing the stride:"
   ]
  },
  {
   "cell_type": "code",
   "execution_count": 28,
   "metadata": {
    "id": "y88njjrlzLqZ"
   },
   "outputs": [],
   "source": [
    "tokenized_example = tokenizer(\n",
    "    example[\"question\"],\n",
    "    example[\"context\"],\n",
    "    max_length=max_length,\n",
    "    truncation=\"only_second\",\n",
    "    return_overflowing_tokens=True,\n",
    "    stride=doc_stride\n",
    ")"
   ]
  },
  {
   "cell_type": "markdown",
   "metadata": {
    "id": "eVVjLe76zLqZ"
   },
   "source": [
    "Now we don't have one list of `input_ids`, but several: "
   ]
  },
  {
   "cell_type": "code",
   "execution_count": 29,
   "metadata": {
    "id": "wbkKmiBSzLqZ",
    "outputId": "d1448529-b285-4170-e430-485e5e243207"
   },
   "outputs": [
    {
     "data": {
      "text/plain": [
       "[312]"
      ]
     },
     "execution_count": 29,
     "metadata": {},
     "output_type": "execute_result"
    }
   ],
   "source": [
    "[len(x) for x in tokenized_example[\"input_ids\"]]"
   ]
  },
  {
   "cell_type": "code",
   "execution_count": null,
   "metadata": {},
   "outputs": [],
   "source": []
  },
  {
   "cell_type": "markdown",
   "metadata": {
    "id": "udkBXq0vzLqa"
   },
   "source": [
    "And if we decode them, we can see the overlap:"
   ]
  },
  {
   "cell_type": "code",
   "execution_count": 24,
   "metadata": {
    "id": "qMKlpHMyzLqa",
    "outputId": "e9aa9cd7-3121-46a4-d2ba-38e96b43fc36"
   },
   "outputs": [
    {
     "name": "stdout",
     "output_type": "stream",
     "text": [
      "[CLS] 정부미술품과 정부미화물품 등을 제한 이것은 내용연수 및 감가상각 방법에 따라 감가상각하는데 이것은 뭐야 [SEP] 일반유형자산의 취득원가는 당해 자산의 건설원가 또는 매입가액에 취득부대 비용을 가산한 금액을 취득원가로 하고 있습니다. 다만 무주부동산의 취득, 국가외 상대방과의 교환 및 기부채납 등의 방법으로 자산을 취득할 경우 취득 당시의 공정가액을 취득원가로 하고 있으며, 국가회계실체 또는 중앙관서 간 발생하는 관리전환은 무상거래일 경우 자산의 장부가액을 취득원가로 하고, 유상거래일 경우에는 자산의 공정가액을 취득원가로 하고 있습니다. 일반유형자산에 사용수익권이 설정된 경우 이는 해당자산의 차감항목으로 표시하며 사용수익권은 수증자가 무형자산으로 인식하는 금액과 동일하게 평가하고 있습니다. 일반유형자산의 내용연수를 연장시키거나 가치를 실질적으로 증가시키는 지출은 자산의 증가로 처리하고, 원상회복 시키거나 능률유지를 위한 지출은 비용으로 처리하고 있습니다. 토지, 입목, 정부미술품 · 정부미화물품을 제외한 일반유형자산은 아래의 내용연수 및 감가상각 방법에 따라 감가상각하며, 감가상각누계액에 가산하여 자산의 차감 형식으로 표시하고 있습니다. [SEP]\n"
     ]
    }
   ],
   "source": [
    "for x in tokenized_example[\"input_ids\"][:2]:\n",
    "    print(tokenizer.decode(x))"
   ]
  },
  {
   "cell_type": "markdown",
   "metadata": {
    "id": "eL3b4WYtzLqa"
   },
   "source": [
    "Now this will give us some work to properly treat the answers: we need to find in which of those features the answer actually is, and where exactly in that feature. The models we will use require the start and end positions of these answers in the tokens, so we will also need to to map parts of the original context to some tokens. Thankfully, the tokenizer we're using can help us with that by returning an `offset_mapping`:"
   ]
  },
  {
   "cell_type": "code",
   "execution_count": 25,
   "metadata": {
    "id": "ziVHJ8G_zLqb",
    "outputId": "246072fa-0a6f-457e-a7dc-a3798f8a9bbd"
   },
   "outputs": [
    {
     "name": "stdout",
     "output_type": "stream",
     "text": [
      "[(0, 0), (0, 2), (2, 4), (4, 5), (5, 6), (7, 9), (9, 10), (10, 12), (12, 13), (14, 15), (15, 16), (17, 19), (20, 22), (22, 23), (24, 26), (26, 28), (29, 30), (31, 35), (36, 38), (38, 39), (40, 42), (43, 47), (47, 48), (48, 50), (51, 53), (53, 54), (55, 56), (56, 57), (0, 0), (0, 2), (2, 3), (3, 4), (4, 6), (6, 7), (8, 10), (10, 11), (11, 12), (12, 13), (14, 16), (17, 19), (19, 20), (21, 23), (23, 24), (24, 25), (26, 28), (29, 31), (31, 32), (32, 33), (33, 34), (35, 37), (37, 39), (40, 42), (42, 43), (44, 46), (46, 47), (48, 50), (50, 51), (52, 54), (54, 55), (55, 56), (56, 57), (58, 60), (61, 62), (62, 63), (63, 65), (65, 66), (67, 69), (70, 72), (72, 73), (73, 75), (75, 76), (77, 79), (79, 80), (81, 83), (83, 84), (85, 88), (88, 89), (89, 90), (91, 93), (94, 95), (96, 98), (98, 99), (99, 100), (101, 102), (102, 103), (104, 106), (106, 108), (109, 111), (111, 112), (113, 115), (115, 116), (117, 119), (120, 122), (123, 125), (125, 126), (127, 129), (129, 130), (130, 131), (131, 132), (133, 135)]\n"
     ]
    }
   ],
   "source": [
    "tokenized_example = tokenizer(\n",
    "    example[\"question\"],\n",
    "    example[\"context\"],\n",
    "    max_length=max_length,\n",
    "    truncation=\"only_second\",\n",
    "    return_overflowing_tokens=True,\n",
    "    return_offsets_mapping=True,\n",
    "    stride=doc_stride\n",
    ")\n",
    "print(tokenized_example[\"offset_mapping\"][0][:100])"
   ]
  },
  {
   "cell_type": "markdown",
   "metadata": {
    "id": "-u1k1q3gzLqb"
   },
   "source": [
    "This gives, for each index of our input IDS, the corresponding start and end character in the original text that gave our token. The very first token (`[CLS]`) has (0, 0) because it doesn't correspond to any part of the question/answer, then the second token is the same as the characters 0 to 3 of the question:"
   ]
  },
  {
   "cell_type": "code",
   "execution_count": 26,
   "metadata": {
    "id": "Z66C3JS0zLqc",
    "outputId": "82006b51-9082-42ef-f5d1-52f64d0d0cfd"
   },
   "outputs": [
    {
     "name": "stdout",
     "output_type": "stream",
     "text": [
      "정부 정부\n"
     ]
    }
   ],
   "source": [
    "first_token_id = tokenized_example[\"input_ids\"][0][1]\n",
    "offsets = tokenized_example[\"offset_mapping\"][0][1]\n",
    "print(tokenizer.convert_ids_to_tokens([first_token_id])[0], example[\"question\"][offsets[0]:offsets[1]])"
   ]
  },
  {
   "cell_type": "markdown",
   "metadata": {
    "id": "Xvq_7xGCzLqc"
   },
   "source": [
    "So we can use this mapping to find the position of the start and end tokens of our answer in a given feature. We just have to distinguish which parts of the offsets correspond to the question and which part correspond to the context, this is where the `sequence_ids` method of our `tokenized_example` can be useful:"
   ]
  },
  {
   "cell_type": "code",
   "execution_count": 27,
   "metadata": {
    "id": "TGvcZJ9lzLqc",
    "outputId": "9cd69762-8ac6-4857-8f87-cabab427c395"
   },
   "outputs": [
    {
     "name": "stdout",
     "output_type": "stream",
     "text": [
      "[None, 0, 0, 0, 0, 0, 0, 0, 0, 0, 0, 0, 0, 0, 0, 0, 0, 0, 0, 0, 0, 0, 0, 0, 0, 0, 0, 0, None, 1, 1, 1, 1, 1, 1, 1, 1, 1, 1, 1, 1, 1, 1, 1, 1, 1, 1, 1, 1, 1, 1, 1, 1, 1, 1, 1, 1, 1, 1, 1, 1, 1, 1, 1, 1, 1, 1, 1, 1, 1, 1, 1, 1, 1, 1, 1, 1, 1, 1, 1, 1, 1, 1, 1, 1, 1, 1, 1, 1, 1, 1, 1, 1, 1, 1, 1, 1, 1, 1, 1, 1, 1, 1, 1, 1, 1, 1, 1, 1, 1, 1, 1, 1, 1, 1, 1, 1, 1, 1, 1, 1, 1, 1, 1, 1, 1, 1, 1, 1, 1, 1, 1, 1, 1, 1, 1, 1, 1, 1, 1, 1, 1, 1, 1, 1, 1, 1, 1, 1, 1, 1, 1, 1, 1, 1, 1, 1, 1, 1, 1, 1, 1, 1, 1, 1, 1, 1, 1, 1, 1, 1, 1, 1, 1, 1, 1, 1, 1, 1, 1, 1, 1, 1, 1, 1, 1, 1, 1, 1, 1, 1, 1, 1, 1, 1, 1, 1, 1, 1, 1, 1, 1, 1, 1, 1, 1, 1, 1, 1, 1, 1, 1, 1, 1, 1, 1, 1, 1, 1, 1, 1, 1, 1, 1, 1, 1, 1, 1, 1, 1, 1, 1, 1, 1, 1, 1, 1, 1, 1, 1, 1, 1, 1, 1, 1, 1, 1, 1, 1, 1, 1, 1, 1, 1, 1, 1, 1, 1, 1, 1, 1, 1, 1, 1, 1, 1, 1, 1, 1, 1, 1, 1, 1, 1, 1, 1, 1, 1, 1, 1, 1, 1, 1, 1, 1, 1, 1, 1, 1, 1, 1, 1, 1, 1, 1, 1, 1, 1, 1, 1, 1, 1, 1, 1, 1, 1, 1, 1, 1, 1, 1, None]\n"
     ]
    }
   ],
   "source": [
    "sequence_ids = tokenized_example.sequence_ids()\n",
    "print(sequence_ids)"
   ]
  },
  {
   "cell_type": "markdown",
   "metadata": {
    "id": "ZrqUTVc3zLqd"
   },
   "source": [
    "It returns `None` for the special tokens, then 0 or 1 depending on whether the corresponding token comes from the first sentence past (the question) or the second (the context). Now with all of this, we can find the first and last token of the answer in one of our input feature (or if the answer is not in this feature):"
   ]
  },
  {
   "cell_type": "code",
   "execution_count": 28,
   "metadata": {
    "id": "uv4gpxqMzLqd",
    "outputId": "c0dae2d5-8f45-48a8-fbe7-df61b7d568c6"
   },
   "outputs": [
    {
     "name": "stdout",
     "output_type": "stream",
     "text": [
      "275 278\n"
     ]
    }
   ],
   "source": [
    "answers = example[\"answers\"]\n",
    "start_char = answers[\"answer_start\"][0]\n",
    "end_char = start_char + len(answers[\"text\"][0])\n",
    "\n",
    "# Start token index of the current span in the text.\n",
    "token_start_index = 0\n",
    "while sequence_ids[token_start_index] != 1:\n",
    "    token_start_index += 1\n",
    "\n",
    "# End token index of the current span in the text.\n",
    "token_end_index = len(tokenized_example[\"input_ids\"][0]) - 1\n",
    "while sequence_ids[token_end_index] != 1:\n",
    "    token_end_index -= 1\n",
    "\n",
    "# Detect if the answer is out of the span (in which case this feature is labeled with the CLS index).\n",
    "offsets = tokenized_example[\"offset_mapping\"][0]\n",
    "if (offsets[token_start_index][0] <= start_char and offsets[token_end_index][1] >= end_char):\n",
    "    # Move the token_start_index and token_end_index to the two ends of the answer.\n",
    "    # Note: we could go after the last offset if the answer is the last word (edge case).\n",
    "    while token_start_index < len(offsets) and offsets[token_start_index][0] <= start_char:\n",
    "        token_start_index += 1\n",
    "    start_position = token_start_index - 1\n",
    "    while offsets[token_end_index][1] >= end_char:\n",
    "        token_end_index -= 1\n",
    "    end_position = token_end_index + 1\n",
    "    print(start_position, end_position)\n",
    "else:\n",
    "    print(\"The answer is not in this feature.\")"
   ]
  },
  {
   "cell_type": "markdown",
   "metadata": {
    "id": "YOZ5OJyyzLqe"
   },
   "source": [
    "And we can double check that it is indeed the theoretical answer:"
   ]
  },
  {
   "cell_type": "code",
   "execution_count": 29,
   "metadata": {
    "id": "MhzL7FnrzLqe",
    "outputId": "74e087bb-9d96-48e6-d5c7-46c621ccb663"
   },
   "outputs": [
    {
     "name": "stdout",
     "output_type": "stream",
     "text": [
      "일반유형자산\n",
      "일반유형자산\n"
     ]
    }
   ],
   "source": [
    "print(tokenizer.decode(tokenized_example[\"input_ids\"][0][start_position: end_position+1]))\n",
    "print(answers[\"text\"][0])"
   ]
  },
  {
   "cell_type": "markdown",
   "metadata": {
    "id": "aCgHdpT9zLqf"
   },
   "source": [
    "For this notebook to work with any kind of models, we need to account for the special case where the model expects padding on the left (in which case we switch the order of the question and the context):"
   ]
  },
  {
   "cell_type": "code",
   "execution_count": 17,
   "metadata": {
    "id": "ny9J88flzLqf"
   },
   "outputs": [],
   "source": [
    "pad_on_right = tokenizer.padding_side == \"right\""
   ]
  },
  {
   "cell_type": "markdown",
   "metadata": {
    "id": "GN1fzEQazLqf"
   },
   "source": [
    "Now let's put everything together in one function we will apply to our training set. In the case of impossible answers (the answer is in another feature given by an example with a long context), we set the cls index for both the start and end position. We could also simply discard those examples from the training set if the flag `allow_impossible_answers` is `False`. Since the preprocessing is already complex enough as it is, we've kept is simple for this part."
   ]
  },
  {
   "cell_type": "code",
   "execution_count": 18,
   "metadata": {
    "id": "lNAt1JtNzLqg"
   },
   "outputs": [],
   "source": [
    "def prepare_train_features(examples):\n",
    "    # Some of the questions have lots of whitespace on the left, which is not useful and will make the\n",
    "    # truncation of the context fail (the tokenized question will take a lots of space). So we remove that\n",
    "    # left whitespace\n",
    "    examples[\"question\"] = [q.lstrip() for q in examples[\"question\"]]\n",
    "\n",
    "    # Tokenize our examples with truncation and padding, but keep the overflows using a stride. This results\n",
    "    # in one example possible giving several features when a context is long, each of those features having a\n",
    "    # context that overlaps a bit the context of the previous feature.\n",
    "    tokenized_examples = tokenizer(\n",
    "        examples[\"question\" if pad_on_right else \"context\"],\n",
    "        examples[\"context\" if pad_on_right else \"question\"],\n",
    "        truncation=\"only_second\" if pad_on_right else \"only_first\",\n",
    "        max_length=max_length,\n",
    "        stride=doc_stride,\n",
    "        return_overflowing_tokens=True,\n",
    "        return_offsets_mapping=True,\n",
    "        padding=\"max_length\",\n",
    "    )\n",
    "\n",
    "    # Since one example might give us several features if it has a long context, we need a map from a feature to\n",
    "    # its corresponding example. This key gives us just that.\n",
    "    sample_mapping = tokenized_examples.pop(\"overflow_to_sample_mapping\")\n",
    "    # The offset mappings will give us a map from token to character position in the original context. This will\n",
    "    # help us compute the start_positions and end_positions.\n",
    "    offset_mapping = tokenized_examples.pop(\"offset_mapping\")\n",
    "\n",
    "    # Let's label those examples!\n",
    "    tokenized_examples[\"start_positions\"] = []\n",
    "    tokenized_examples[\"end_positions\"] = []\n",
    "\n",
    "    for i, offsets in enumerate(offset_mapping):\n",
    "        # We will label impossible answers with the index of the CLS token.\n",
    "        input_ids = tokenized_examples[\"input_ids\"][i]\n",
    "        cls_index = input_ids.index(tokenizer.cls_token_id)\n",
    "\n",
    "        # Grab the sequence corresponding to that example (to know what is the context and what is the question).\n",
    "        sequence_ids = tokenized_examples.sequence_ids(i)\n",
    "\n",
    "        # One example can give several spans, this is the index of the example containing this span of text.\n",
    "        sample_index = sample_mapping[i]\n",
    "        answers = examples[\"answers\"][sample_index]\n",
    "        # If no answers are given, set the cls_index as answer.\n",
    "        if len(answers[\"answer_start\"]) == 0:\n",
    "            tokenized_examples[\"start_positions\"].append(cls_index)\n",
    "            tokenized_examples[\"end_positions\"].append(cls_index)\n",
    "        else:\n",
    "            # Start/end character index of the answer in the text.\n",
    "            start_char = answers[\"answer_start\"][0]\n",
    "            end_char = start_char + len(answers[\"text\"][0])\n",
    "\n",
    "            # Start token index of the current span in the text.\n",
    "            token_start_index = 0\n",
    "            while sequence_ids[token_start_index] != (1 if pad_on_right else 0):\n",
    "                token_start_index += 1\n",
    "\n",
    "            # End token index of the current span in the text.\n",
    "            token_end_index = len(input_ids) - 1\n",
    "            while sequence_ids[token_end_index] != (1 if pad_on_right else 0):\n",
    "                token_end_index -= 1\n",
    "\n",
    "            # Detect if the answer is out of the span (in which case this feature is labeled with the CLS index).\n",
    "            if not (offsets[token_start_index][0] <= start_char and offsets[token_end_index][1] >= end_char):\n",
    "                tokenized_examples[\"start_positions\"].append(cls_index)\n",
    "                tokenized_examples[\"end_positions\"].append(cls_index)\n",
    "            else:\n",
    "                # Otherwise move the token_start_index and token_end_index to the two ends of the answer.\n",
    "                # Note: we could go after the last offset if the answer is the last word (edge case).\n",
    "                while token_start_index < len(offsets) and offsets[token_start_index][0] <= start_char:\n",
    "                    token_start_index += 1\n",
    "                tokenized_examples[\"start_positions\"].append(token_start_index - 1)\n",
    "                while offsets[token_end_index][1] >= end_char:\n",
    "                    token_end_index -= 1\n",
    "                tokenized_examples[\"end_positions\"].append(token_end_index + 1)\n",
    "\n",
    "    return tokenized_examples"
   ]
  },
  {
   "cell_type": "markdown",
   "metadata": {
    "id": "0lm8ozrJIrJR"
   },
   "source": [
    "This function works with one or several examples. In the case of several examples, the tokenizer will return a list of lists for each key:"
   ]
  },
  {
   "cell_type": "code",
   "execution_count": 19,
   "metadata": {
    "id": "-b70jh26IrJS"
   },
   "outputs": [],
   "source": [
    "features = prepare_train_features(datasets['train'][:5])"
   ]
  },
  {
   "cell_type": "markdown",
   "metadata": {
    "id": "zS-6iXTkIrJT"
   },
   "source": [
    "To apply this function on all the sentences (or pairs of sentences) in our dataset, we just use the `map` method of our `dataset` object we created earlier. This will apply the function on all the elements of all the splits in `dataset`, so our training, validation and testing data will be preprocessed in one single command. Since our preprocessing changes the number of samples, we need to remove the old columns when applying it."
   ]
  },
  {
   "cell_type": "code",
   "execution_count": 19,
   "metadata": {
    "id": "DDtsaJeVIrJT",
    "outputId": "aa4734bf-4ef5-4437-9948-2c16363da719"
   },
   "outputs": [
    {
     "data": {
      "application/vnd.jupyter.widget-view+json": {
       "model_id": "8acf02361bd64e29bbf8c356e054cd9a",
       "version_major": 2,
       "version_minor": 0
      },
      "text/plain": [
       "  0%|          | 0/26 [00:00<?, ?ba/s]"
      ]
     },
     "metadata": {},
     "output_type": "display_data"
    },
    {
     "data": {
      "application/vnd.jupyter.widget-view+json": {
       "model_id": "210f322158ef43fcab751935bf0869e3",
       "version_major": 2,
       "version_minor": 0
      },
      "text/plain": [
       "  0%|          | 0/3 [00:00<?, ?ba/s]"
      ]
     },
     "metadata": {},
     "output_type": "display_data"
    }
   ],
   "source": [
    "tokenized_datasets = datasets.map(prepare_train_features, batched=True, remove_columns=datasets[\"train\"].column_names)"
   ]
  },
  {
   "cell_type": "markdown",
   "metadata": {
    "id": "voWiw8C7IrJV"
   },
   "source": [
    "Even better, the results are automatically cached by the 🤗 Datasets library to avoid spending time on this step the next time you run your notebook. The 🤗 Datasets library is normally smart enough to detect when the function you pass to map has changed (and thus requires to not use the cache data). For instance, it will properly detect if you change the task in the first cell and rerun the notebook. 🤗 Datasets warns you when it uses cached files, you can pass `load_from_cache_file=False` in the call to `map` to not use the cached files and force the preprocessing to be applied again.\n",
    "\n",
    "Note that we passed `batched=True` to encode the texts by batches together. This is to leverage the full benefit of the fast tokenizer we loaded earlier, which will use multi-threading to treat the texts in a batch concurrently."
   ]
  },
  {
   "cell_type": "markdown",
   "metadata": {
    "id": "545PP3o8IrJV"
   },
   "source": [
    "## Fine-tuning the model"
   ]
  },
  {
   "cell_type": "markdown",
   "metadata": {
    "id": "FBiW8UpKIrJW"
   },
   "source": [
    "Now that our data is ready for training, we can download the pretrained model and fine-tune it. Since our task is question answering, we use the `AutoModelForQuestionAnswering` class. Like with the tokenizer, the `from_pretrained` method will download and cache the model for us:"
   ]
  },
  {
   "cell_type": "code",
   "execution_count": 20,
   "metadata": {
    "id": "TlqNaB8jIrJW",
    "outputId": "84916cf3-6e6c-47f3-d081-032ec30a4132"
   },
   "outputs": [
    {
     "name": "stderr",
     "output_type": "stream",
     "text": [
      "Some weights of the model checkpoint at monologg/kobigbird-bert-base were not used when initializing BigBirdForQuestionAnswering: ['cls.predictions.transform.LayerNorm.weight', 'bert.pooler.weight', 'cls.seq_relationship.weight', 'cls.seq_relationship.bias', 'bert.pooler.bias', 'cls.predictions.transform.dense.bias', 'cls.predictions.transform.dense.weight', 'cls.predictions.decoder.bias', 'cls.predictions.bias', 'cls.predictions.decoder.weight', 'cls.predictions.transform.LayerNorm.bias']\n",
      "- This IS expected if you are initializing BigBirdForQuestionAnswering from the checkpoint of a model trained on another task or with another architecture (e.g. initializing a BertForSequenceClassification model from a BertForPreTraining model).\n",
      "- This IS NOT expected if you are initializing BigBirdForQuestionAnswering from the checkpoint of a model that you expect to be exactly identical (initializing a BertForSequenceClassification model from a BertForSequenceClassification model).\n",
      "Some weights of BigBirdForQuestionAnswering were not initialized from the model checkpoint at monologg/kobigbird-bert-base and are newly initialized: ['qa_classifier.output.dense.weight', 'qa_classifier.output.LayerNorm.bias', 'qa_classifier.output.LayerNorm.weight', 'qa_classifier.output.dense.bias', 'qa_classifier.intermediate.dense.weight', 'qa_classifier.qa_outputs.bias', 'qa_classifier.intermediate.dense.bias', 'qa_classifier.qa_outputs.weight']\n",
      "You should probably TRAIN this model on a down-stream task to be able to use it for predictions and inference.\n"
     ]
    }
   ],
   "source": [
    "from transformers import AutoModelForQuestionAnswering, TrainingArguments, Trainer\n",
    "\n",
    "model = AutoModelForQuestionAnswering.from_pretrained(model_checkpoint, attention_type='original_full')"
   ]
  },
  {
   "cell_type": "markdown",
   "metadata": {
    "id": "CczA5lJlIrJX"
   },
   "source": [
    "The warning is telling us we are throwing away some weights (the `vocab_transform` and `vocab_layer_norm` layers) and randomly initializing some other (the `pre_classifier` and `classifier` layers). This is absolutely normal in this case, because we are removing the head used to pretrain the model on a masked language modeling objective and replacing it with a new head for which we don't have pretrained weights, so the library warns us we should fine-tune this model before using it for inference, which is exactly what we are going to do."
   ]
  },
  {
   "cell_type": "markdown",
   "metadata": {
    "id": "_N8urzhyIrJY"
   },
   "source": [
    "To instantiate a `Trainer`, we will need to define three more things. The most important is the [`TrainingArguments`](https://huggingface.co/transformers/main_classes/trainer.html#transformers.TrainingArguments), which is a class that contains all the attributes to customize the training. It requires one folder name, which will be used to save the checkpoints of the model, and all other arguments are optional:"
   ]
  },
  {
   "cell_type": "code",
   "execution_count": 21,
   "metadata": {
    "id": "Bliy8zgjIrJY"
   },
   "outputs": [],
   "source": [
    "model_name = model_checkpoint.split(\"/\")[-1]\n",
    "args = TrainingArguments(\n",
    "    f\"{model_name}-finetuned-squad\",\n",
    "    evaluation_strategy = \"epoch\",\n",
    "    learning_rate=2e-5,\n",
    "    per_device_train_batch_size=batch_size,\n",
    "    per_device_eval_batch_size=batch_size,\n",
    "    num_train_epochs=20,\n",
    "    weight_decay=0.01,\n",
    "#    push_to_hub=True,\n",
    "    push_to_hub=False,\n",
    "    report_to=[],\n",
    ")"
   ]
  },
  {
   "cell_type": "markdown",
   "metadata": {
    "id": "km3pGVdTIrJc"
   },
   "source": [
    "Here we set the evaluation to be done at the end of each epoch, tweak the learning rate, use the `batch_size` defined at the top of the notebook and customize the number of epochs for training, as well as the weight decay.\n",
    "\n",
    "The last argument to setup everything so we can push the model to the [Hub](https://huggingface.co/models) regularly during training. Remove it if you didn't follow the installation steps at the top of the notebook. If you want to save your model locally in a name that is different than the name of the repository it will be pushed, or if you want to push your model under an organization and not your name space, use the `hub_model_id` argument to set the repo name (it needs to be the full name, including your namespace: for instance `\"sgugger/bert-finetuned-squad\"` or `\"huggingface/bert-finetuned-squad\"`)."
   ]
  },
  {
   "cell_type": "markdown",
   "metadata": {
    "id": "Nx_ZLSiczLqq"
   },
   "source": [
    "Then we will need a data collator that will batch our processed examples together, here the default one will work:"
   ]
  },
  {
   "cell_type": "code",
   "execution_count": 22,
   "metadata": {
    "id": "iltvWgWxzLqq"
   },
   "outputs": [],
   "source": [
    "from transformers import default_data_collator\n",
    "\n",
    "data_collator = default_data_collator"
   ]
  },
  {
   "cell_type": "markdown",
   "metadata": {
    "id": "rXuFTAzDIrJe"
   },
   "source": [
    "We will evaluate our model and compute metrics in the next section (this is a very long operation, so we will only compute the evaluation loss during training).\n",
    "\n",
    "Then we just need to pass all of this along with our datasets to the `Trainer`:"
   ]
  },
  {
   "cell_type": "code",
   "execution_count": 23,
   "metadata": {},
   "outputs": [],
   "source": [
    "from datasets import load_metric\n",
    "import numpy as np\n",
    "metric = load_metric('accuracy')\n",
    "def compute_metrics(eval_pred):\n",
    "    predictions, labels = eval_pred\n",
    "    #print('###')\n",
    "    #print(predictions)\n",
    "    #print('###')\n",
    "    #print(labels)\n",
    "    #predictions = np.argmax(predictions, axis=0)\n",
    "    pred_starts = np.argmax(predictions[0], axis=-1)\n",
    "    pred_ends = np.argmax(predictions[1], axis=-1)\n",
    "    pred_comb = pred_starts*10000+pred_ends\n",
    "    label_comb = labels[0]*10000+labels[1]\n",
    "    #return metric.compute(predictions=predictions, references=labels)\n",
    "    #return metric.compute(predictions=pred_starts, references=labels[0])\n",
    "    return metric.compute(predictions=pred_comb, references=label_comb)"
   ]
  },
  {
   "cell_type": "code",
   "execution_count": 24,
   "metadata": {
    "id": "imY1oC3SIrJf"
   },
   "outputs": [],
   "source": [
    "trainer = Trainer(\n",
    "    model,\n",
    "    args,\n",
    "    train_dataset=tokenized_datasets[\"train\"],\n",
    "    eval_dataset=tokenized_datasets[\"validation\"],\n",
    "    data_collator=data_collator,\n",
    "    tokenizer=tokenizer,\n",
    "    compute_metrics=compute_metrics,\n",
    ")"
   ]
  },
  {
   "cell_type": "markdown",
   "metadata": {
    "id": "CdzABDVcIrJg"
   },
   "source": [
    "We can now finetune our model by just calling the `train` method:"
   ]
  },
  {
   "cell_type": "code",
   "execution_count": 25,
   "metadata": {
    "scrolled": false
   },
   "outputs": [
    {
     "name": "stderr",
     "output_type": "stream",
     "text": [
      "/home/kotech/venv-trans/lib/python3.8/site-packages/transformers/optimization.py:306: FutureWarning: This implementation of AdamW is deprecated and will be removed in a future version. Use the PyTorch implementation torch.optim.AdamW instead, or set `no_deprecation_warning=True` to disable this warning\n",
      "  warnings.warn(\n",
      "***** Running training *****\n",
      "  Num examples = 25262\n",
      "  Num Epochs = 20\n",
      "  Instantaneous batch size per device = 16\n",
      "  Total train batch size (w. parallel, distributed & accumulation) = 32\n",
      "  Gradient Accumulation steps = 1\n",
      "  Total optimization steps = 15800\n",
      "/home/kotech/venv-trans/lib/python3.8/site-packages/torch/nn/parallel/_functions.py:65: UserWarning: Was asked to gather along dimension 0, but all input tensors were scalars; will instead unsqueeze and return a vector.\n",
      "  warnings.warn('Was asked to gather along dimension 0, but all '\n"
     ]
    },
    {
     "data": {
      "text/html": [
       "\n",
       "    <div>\n",
       "      \n",
       "      <progress value='15800' max='15800' style='width:300px; height:20px; vertical-align: middle;'></progress>\n",
       "      [15800/15800 2:36:07, Epoch 20/20]\n",
       "    </div>\n",
       "    <table border=\"1\" class=\"dataframe\">\n",
       "  <thead>\n",
       " <tr style=\"text-align: left;\">\n",
       "      <th>Epoch</th>\n",
       "      <th>Training Loss</th>\n",
       "      <th>Validation Loss</th>\n",
       "      <th>Accuracy</th>\n",
       "    </tr>\n",
       "  </thead>\n",
       "  <tbody>\n",
       "    <tr>\n",
       "      <td>1</td>\n",
       "      <td>1.113300</td>\n",
       "      <td>0.495758</td>\n",
       "      <td>0.826575</td>\n",
       "    </tr>\n",
       "    <tr>\n",
       "      <td>2</td>\n",
       "      <td>0.450600</td>\n",
       "      <td>0.507528</td>\n",
       "      <td>0.818610</td>\n",
       "    </tr>\n",
       "    <tr>\n",
       "      <td>3</td>\n",
       "      <td>0.326200</td>\n",
       "      <td>0.558517</td>\n",
       "      <td>0.813903</td>\n",
       "    </tr>\n",
       "    <tr>\n",
       "      <td>4</td>\n",
       "      <td>0.206200</td>\n",
       "      <td>0.646969</td>\n",
       "      <td>0.811007</td>\n",
       "    </tr>\n",
       "    <tr>\n",
       "      <td>5</td>\n",
       "      <td>0.155100</td>\n",
       "      <td>0.779217</td>\n",
       "      <td>0.800869</td>\n",
       "    </tr>\n",
       "    <tr>\n",
       "      <td>6</td>\n",
       "      <td>0.092700</td>\n",
       "      <td>0.936322</td>\n",
       "      <td>0.803765</td>\n",
       "    </tr>\n",
       "    <tr>\n",
       "      <td>7</td>\n",
       "      <td>0.065700</td>\n",
       "      <td>1.139366</td>\n",
       "      <td>0.804127</td>\n",
       "    </tr>\n",
       "    <tr>\n",
       "      <td>8</td>\n",
       "      <td>0.042600</td>\n",
       "      <td>1.207541</td>\n",
       "      <td>0.808834</td>\n",
       "    </tr>\n",
       "    <tr>\n",
       "      <td>9</td>\n",
       "      <td>0.035700</td>\n",
       "      <td>1.388054</td>\n",
       "      <td>0.810282</td>\n",
       "    </tr>\n",
       "    <tr>\n",
       "      <td>10</td>\n",
       "      <td>0.026900</td>\n",
       "      <td>1.511049</td>\n",
       "      <td>0.809196</td>\n",
       "    </tr>\n",
       "    <tr>\n",
       "      <td>11</td>\n",
       "      <td>0.018700</td>\n",
       "      <td>1.683676</td>\n",
       "      <td>0.810282</td>\n",
       "    </tr>\n",
       "    <tr>\n",
       "      <td>12</td>\n",
       "      <td>0.020500</td>\n",
       "      <td>1.650705</td>\n",
       "      <td>0.809558</td>\n",
       "    </tr>\n",
       "    <tr>\n",
       "      <td>13</td>\n",
       "      <td>0.014900</td>\n",
       "      <td>1.639433</td>\n",
       "      <td>0.809920</td>\n",
       "    </tr>\n",
       "    <tr>\n",
       "      <td>14</td>\n",
       "      <td>0.012000</td>\n",
       "      <td>1.745535</td>\n",
       "      <td>0.811731</td>\n",
       "    </tr>\n",
       "    <tr>\n",
       "      <td>15</td>\n",
       "      <td>0.008900</td>\n",
       "      <td>1.728412</td>\n",
       "      <td>0.811369</td>\n",
       "    </tr>\n",
       "    <tr>\n",
       "      <td>16</td>\n",
       "      <td>0.007600</td>\n",
       "      <td>1.842543</td>\n",
       "      <td>0.808472</td>\n",
       "    </tr>\n",
       "    <tr>\n",
       "      <td>17</td>\n",
       "      <td>0.007600</td>\n",
       "      <td>1.818475</td>\n",
       "      <td>0.809920</td>\n",
       "    </tr>\n",
       "    <tr>\n",
       "      <td>18</td>\n",
       "      <td>0.005500</td>\n",
       "      <td>1.809220</td>\n",
       "      <td>0.816075</td>\n",
       "    </tr>\n",
       "    <tr>\n",
       "      <td>19</td>\n",
       "      <td>0.004300</td>\n",
       "      <td>1.783077</td>\n",
       "      <td>0.818248</td>\n",
       "    </tr>\n",
       "    <tr>\n",
       "      <td>20</td>\n",
       "      <td>0.005200</td>\n",
       "      <td>1.816331</td>\n",
       "      <td>0.815713</td>\n",
       "    </tr>\n",
       "  </tbody>\n",
       "</table><p>"
      ],
      "text/plain": [
       "<IPython.core.display.HTML object>"
      ]
     },
     "metadata": {},
     "output_type": "display_data"
    },
    {
     "name": "stderr",
     "output_type": "stream",
     "text": [
      "Saving model checkpoint to kobigbird-bert-base-finetuned-squad/checkpoint-500\n",
      "Configuration saved in kobigbird-bert-base-finetuned-squad/checkpoint-500/config.json\n",
      "Model weights saved in kobigbird-bert-base-finetuned-squad/checkpoint-500/pytorch_model.bin\n",
      "tokenizer config file saved in kobigbird-bert-base-finetuned-squad/checkpoint-500/tokenizer_config.json\n",
      "Special tokens file saved in kobigbird-bert-base-finetuned-squad/checkpoint-500/special_tokens_map.json\n",
      "/home/kotech/venv-trans/lib/python3.8/site-packages/torch/nn/parallel/_functions.py:65: UserWarning: Was asked to gather along dimension 0, but all input tensors were scalars; will instead unsqueeze and return a vector.\n",
      "  warnings.warn('Was asked to gather along dimension 0, but all '\n",
      "***** Running Evaluation *****\n",
      "  Num examples = 2762\n",
      "  Batch size = 32\n",
      "/home/kotech/venv-trans/lib/python3.8/site-packages/torch/nn/parallel/_functions.py:65: UserWarning: Was asked to gather along dimension 0, but all input tensors were scalars; will instead unsqueeze and return a vector.\n",
      "  warnings.warn('Was asked to gather along dimension 0, but all '\n",
      "Saving model checkpoint to kobigbird-bert-base-finetuned-squad/checkpoint-1000\n",
      "Configuration saved in kobigbird-bert-base-finetuned-squad/checkpoint-1000/config.json\n",
      "Model weights saved in kobigbird-bert-base-finetuned-squad/checkpoint-1000/pytorch_model.bin\n",
      "tokenizer config file saved in kobigbird-bert-base-finetuned-squad/checkpoint-1000/tokenizer_config.json\n",
      "Special tokens file saved in kobigbird-bert-base-finetuned-squad/checkpoint-1000/special_tokens_map.json\n",
      "/home/kotech/venv-trans/lib/python3.8/site-packages/torch/nn/parallel/_functions.py:65: UserWarning: Was asked to gather along dimension 0, but all input tensors were scalars; will instead unsqueeze and return a vector.\n",
      "  warnings.warn('Was asked to gather along dimension 0, but all '\n",
      "Saving model checkpoint to kobigbird-bert-base-finetuned-squad/checkpoint-1500\n",
      "Configuration saved in kobigbird-bert-base-finetuned-squad/checkpoint-1500/config.json\n",
      "Model weights saved in kobigbird-bert-base-finetuned-squad/checkpoint-1500/pytorch_model.bin\n",
      "tokenizer config file saved in kobigbird-bert-base-finetuned-squad/checkpoint-1500/tokenizer_config.json\n",
      "Special tokens file saved in kobigbird-bert-base-finetuned-squad/checkpoint-1500/special_tokens_map.json\n",
      "/home/kotech/venv-trans/lib/python3.8/site-packages/torch/nn/parallel/_functions.py:65: UserWarning: Was asked to gather along dimension 0, but all input tensors were scalars; will instead unsqueeze and return a vector.\n",
      "  warnings.warn('Was asked to gather along dimension 0, but all '\n",
      "***** Running Evaluation *****\n",
      "  Num examples = 2762\n",
      "  Batch size = 32\n",
      "/home/kotech/venv-trans/lib/python3.8/site-packages/torch/nn/parallel/_functions.py:65: UserWarning: Was asked to gather along dimension 0, but all input tensors were scalars; will instead unsqueeze and return a vector.\n",
      "  warnings.warn('Was asked to gather along dimension 0, but all '\n",
      "Saving model checkpoint to kobigbird-bert-base-finetuned-squad/checkpoint-2000\n",
      "Configuration saved in kobigbird-bert-base-finetuned-squad/checkpoint-2000/config.json\n",
      "Model weights saved in kobigbird-bert-base-finetuned-squad/checkpoint-2000/pytorch_model.bin\n",
      "tokenizer config file saved in kobigbird-bert-base-finetuned-squad/checkpoint-2000/tokenizer_config.json\n",
      "Special tokens file saved in kobigbird-bert-base-finetuned-squad/checkpoint-2000/special_tokens_map.json\n",
      "/home/kotech/venv-trans/lib/python3.8/site-packages/torch/nn/parallel/_functions.py:65: UserWarning: Was asked to gather along dimension 0, but all input tensors were scalars; will instead unsqueeze and return a vector.\n",
      "  warnings.warn('Was asked to gather along dimension 0, but all '\n",
      "***** Running Evaluation *****\n",
      "  Num examples = 2762\n",
      "  Batch size = 32\n",
      "/home/kotech/venv-trans/lib/python3.8/site-packages/torch/nn/parallel/_functions.py:65: UserWarning: Was asked to gather along dimension 0, but all input tensors were scalars; will instead unsqueeze and return a vector.\n",
      "  warnings.warn('Was asked to gather along dimension 0, but all '\n",
      "Saving model checkpoint to kobigbird-bert-base-finetuned-squad/checkpoint-2500\n",
      "Configuration saved in kobigbird-bert-base-finetuned-squad/checkpoint-2500/config.json\n",
      "Model weights saved in kobigbird-bert-base-finetuned-squad/checkpoint-2500/pytorch_model.bin\n",
      "tokenizer config file saved in kobigbird-bert-base-finetuned-squad/checkpoint-2500/tokenizer_config.json\n",
      "Special tokens file saved in kobigbird-bert-base-finetuned-squad/checkpoint-2500/special_tokens_map.json\n",
      "/home/kotech/venv-trans/lib/python3.8/site-packages/torch/nn/parallel/_functions.py:65: UserWarning: Was asked to gather along dimension 0, but all input tensors were scalars; will instead unsqueeze and return a vector.\n",
      "  warnings.warn('Was asked to gather along dimension 0, but all '\n",
      "Saving model checkpoint to kobigbird-bert-base-finetuned-squad/checkpoint-3000\n",
      "Configuration saved in kobigbird-bert-base-finetuned-squad/checkpoint-3000/config.json\n",
      "Model weights saved in kobigbird-bert-base-finetuned-squad/checkpoint-3000/pytorch_model.bin\n",
      "tokenizer config file saved in kobigbird-bert-base-finetuned-squad/checkpoint-3000/tokenizer_config.json\n",
      "Special tokens file saved in kobigbird-bert-base-finetuned-squad/checkpoint-3000/special_tokens_map.json\n",
      "/home/kotech/venv-trans/lib/python3.8/site-packages/torch/nn/parallel/_functions.py:65: UserWarning: Was asked to gather along dimension 0, but all input tensors were scalars; will instead unsqueeze and return a vector.\n",
      "  warnings.warn('Was asked to gather along dimension 0, but all '\n",
      "***** Running Evaluation *****\n",
      "  Num examples = 2762\n",
      "  Batch size = 32\n",
      "/home/kotech/venv-trans/lib/python3.8/site-packages/torch/nn/parallel/_functions.py:65: UserWarning: Was asked to gather along dimension 0, but all input tensors were scalars; will instead unsqueeze and return a vector.\n",
      "  warnings.warn('Was asked to gather along dimension 0, but all '\n",
      "Saving model checkpoint to kobigbird-bert-base-finetuned-squad/checkpoint-3500\n",
      "Configuration saved in kobigbird-bert-base-finetuned-squad/checkpoint-3500/config.json\n",
      "Model weights saved in kobigbird-bert-base-finetuned-squad/checkpoint-3500/pytorch_model.bin\n",
      "tokenizer config file saved in kobigbird-bert-base-finetuned-squad/checkpoint-3500/tokenizer_config.json\n",
      "Special tokens file saved in kobigbird-bert-base-finetuned-squad/checkpoint-3500/special_tokens_map.json\n",
      "/home/kotech/venv-trans/lib/python3.8/site-packages/torch/nn/parallel/_functions.py:65: UserWarning: Was asked to gather along dimension 0, but all input tensors were scalars; will instead unsqueeze and return a vector.\n",
      "  warnings.warn('Was asked to gather along dimension 0, but all '\n",
      "***** Running Evaluation *****\n",
      "  Num examples = 2762\n",
      "  Batch size = 32\n",
      "/home/kotech/venv-trans/lib/python3.8/site-packages/torch/nn/parallel/_functions.py:65: UserWarning: Was asked to gather along dimension 0, but all input tensors were scalars; will instead unsqueeze and return a vector.\n",
      "  warnings.warn('Was asked to gather along dimension 0, but all '\n",
      "Saving model checkpoint to kobigbird-bert-base-finetuned-squad/checkpoint-4000\n",
      "Configuration saved in kobigbird-bert-base-finetuned-squad/checkpoint-4000/config.json\n",
      "Model weights saved in kobigbird-bert-base-finetuned-squad/checkpoint-4000/pytorch_model.bin\n",
      "tokenizer config file saved in kobigbird-bert-base-finetuned-squad/checkpoint-4000/tokenizer_config.json\n",
      "Special tokens file saved in kobigbird-bert-base-finetuned-squad/checkpoint-4000/special_tokens_map.json\n",
      "/home/kotech/venv-trans/lib/python3.8/site-packages/torch/nn/parallel/_functions.py:65: UserWarning: Was asked to gather along dimension 0, but all input tensors were scalars; will instead unsqueeze and return a vector.\n",
      "  warnings.warn('Was asked to gather along dimension 0, but all '\n",
      "Saving model checkpoint to kobigbird-bert-base-finetuned-squad/checkpoint-4500\n",
      "Configuration saved in kobigbird-bert-base-finetuned-squad/checkpoint-4500/config.json\n",
      "Model weights saved in kobigbird-bert-base-finetuned-squad/checkpoint-4500/pytorch_model.bin\n",
      "tokenizer config file saved in kobigbird-bert-base-finetuned-squad/checkpoint-4500/tokenizer_config.json\n",
      "Special tokens file saved in kobigbird-bert-base-finetuned-squad/checkpoint-4500/special_tokens_map.json\n"
     ]
    },
    {
     "name": "stderr",
     "output_type": "stream",
     "text": [
      "/home/kotech/venv-trans/lib/python3.8/site-packages/torch/nn/parallel/_functions.py:65: UserWarning: Was asked to gather along dimension 0, but all input tensors were scalars; will instead unsqueeze and return a vector.\n",
      "  warnings.warn('Was asked to gather along dimension 0, but all '\n",
      "***** Running Evaluation *****\n",
      "  Num examples = 2762\n",
      "  Batch size = 32\n",
      "/home/kotech/venv-trans/lib/python3.8/site-packages/torch/nn/parallel/_functions.py:65: UserWarning: Was asked to gather along dimension 0, but all input tensors were scalars; will instead unsqueeze and return a vector.\n",
      "  warnings.warn('Was asked to gather along dimension 0, but all '\n",
      "Saving model checkpoint to kobigbird-bert-base-finetuned-squad/checkpoint-5000\n",
      "Configuration saved in kobigbird-bert-base-finetuned-squad/checkpoint-5000/config.json\n",
      "Model weights saved in kobigbird-bert-base-finetuned-squad/checkpoint-5000/pytorch_model.bin\n",
      "tokenizer config file saved in kobigbird-bert-base-finetuned-squad/checkpoint-5000/tokenizer_config.json\n",
      "Special tokens file saved in kobigbird-bert-base-finetuned-squad/checkpoint-5000/special_tokens_map.json\n",
      "/home/kotech/venv-trans/lib/python3.8/site-packages/torch/nn/parallel/_functions.py:65: UserWarning: Was asked to gather along dimension 0, but all input tensors were scalars; will instead unsqueeze and return a vector.\n",
      "  warnings.warn('Was asked to gather along dimension 0, but all '\n",
      "Saving model checkpoint to kobigbird-bert-base-finetuned-squad/checkpoint-5500\n",
      "Configuration saved in kobigbird-bert-base-finetuned-squad/checkpoint-5500/config.json\n",
      "Model weights saved in kobigbird-bert-base-finetuned-squad/checkpoint-5500/pytorch_model.bin\n",
      "tokenizer config file saved in kobigbird-bert-base-finetuned-squad/checkpoint-5500/tokenizer_config.json\n",
      "Special tokens file saved in kobigbird-bert-base-finetuned-squad/checkpoint-5500/special_tokens_map.json\n",
      "/home/kotech/venv-trans/lib/python3.8/site-packages/torch/nn/parallel/_functions.py:65: UserWarning: Was asked to gather along dimension 0, but all input tensors were scalars; will instead unsqueeze and return a vector.\n",
      "  warnings.warn('Was asked to gather along dimension 0, but all '\n",
      "***** Running Evaluation *****\n",
      "  Num examples = 2762\n",
      "  Batch size = 32\n",
      "/home/kotech/venv-trans/lib/python3.8/site-packages/torch/nn/parallel/_functions.py:65: UserWarning: Was asked to gather along dimension 0, but all input tensors were scalars; will instead unsqueeze and return a vector.\n",
      "  warnings.warn('Was asked to gather along dimension 0, but all '\n",
      "Saving model checkpoint to kobigbird-bert-base-finetuned-squad/checkpoint-6000\n",
      "Configuration saved in kobigbird-bert-base-finetuned-squad/checkpoint-6000/config.json\n",
      "Model weights saved in kobigbird-bert-base-finetuned-squad/checkpoint-6000/pytorch_model.bin\n",
      "tokenizer config file saved in kobigbird-bert-base-finetuned-squad/checkpoint-6000/tokenizer_config.json\n",
      "Special tokens file saved in kobigbird-bert-base-finetuned-squad/checkpoint-6000/special_tokens_map.json\n",
      "/home/kotech/venv-trans/lib/python3.8/site-packages/torch/nn/parallel/_functions.py:65: UserWarning: Was asked to gather along dimension 0, but all input tensors were scalars; will instead unsqueeze and return a vector.\n",
      "  warnings.warn('Was asked to gather along dimension 0, but all '\n",
      "***** Running Evaluation *****\n",
      "  Num examples = 2762\n",
      "  Batch size = 32\n",
      "/home/kotech/venv-trans/lib/python3.8/site-packages/torch/nn/parallel/_functions.py:65: UserWarning: Was asked to gather along dimension 0, but all input tensors were scalars; will instead unsqueeze and return a vector.\n",
      "  warnings.warn('Was asked to gather along dimension 0, but all '\n",
      "Saving model checkpoint to kobigbird-bert-base-finetuned-squad/checkpoint-6500\n",
      "Configuration saved in kobigbird-bert-base-finetuned-squad/checkpoint-6500/config.json\n",
      "Model weights saved in kobigbird-bert-base-finetuned-squad/checkpoint-6500/pytorch_model.bin\n",
      "tokenizer config file saved in kobigbird-bert-base-finetuned-squad/checkpoint-6500/tokenizer_config.json\n",
      "Special tokens file saved in kobigbird-bert-base-finetuned-squad/checkpoint-6500/special_tokens_map.json\n",
      "/home/kotech/venv-trans/lib/python3.8/site-packages/torch/nn/parallel/_functions.py:65: UserWarning: Was asked to gather along dimension 0, but all input tensors were scalars; will instead unsqueeze and return a vector.\n",
      "  warnings.warn('Was asked to gather along dimension 0, but all '\n",
      "Saving model checkpoint to kobigbird-bert-base-finetuned-squad/checkpoint-7000\n",
      "Configuration saved in kobigbird-bert-base-finetuned-squad/checkpoint-7000/config.json\n",
      "Model weights saved in kobigbird-bert-base-finetuned-squad/checkpoint-7000/pytorch_model.bin\n",
      "tokenizer config file saved in kobigbird-bert-base-finetuned-squad/checkpoint-7000/tokenizer_config.json\n",
      "Special tokens file saved in kobigbird-bert-base-finetuned-squad/checkpoint-7000/special_tokens_map.json\n",
      "/home/kotech/venv-trans/lib/python3.8/site-packages/torch/nn/parallel/_functions.py:65: UserWarning: Was asked to gather along dimension 0, but all input tensors were scalars; will instead unsqueeze and return a vector.\n",
      "  warnings.warn('Was asked to gather along dimension 0, but all '\n",
      "***** Running Evaluation *****\n",
      "  Num examples = 2762\n",
      "  Batch size = 32\n",
      "/home/kotech/venv-trans/lib/python3.8/site-packages/torch/nn/parallel/_functions.py:65: UserWarning: Was asked to gather along dimension 0, but all input tensors were scalars; will instead unsqueeze and return a vector.\n",
      "  warnings.warn('Was asked to gather along dimension 0, but all '\n",
      "Saving model checkpoint to kobigbird-bert-base-finetuned-squad/checkpoint-7500\n",
      "Configuration saved in kobigbird-bert-base-finetuned-squad/checkpoint-7500/config.json\n",
      "Model weights saved in kobigbird-bert-base-finetuned-squad/checkpoint-7500/pytorch_model.bin\n",
      "tokenizer config file saved in kobigbird-bert-base-finetuned-squad/checkpoint-7500/tokenizer_config.json\n",
      "Special tokens file saved in kobigbird-bert-base-finetuned-squad/checkpoint-7500/special_tokens_map.json\n",
      "/home/kotech/venv-trans/lib/python3.8/site-packages/torch/nn/parallel/_functions.py:65: UserWarning: Was asked to gather along dimension 0, but all input tensors were scalars; will instead unsqueeze and return a vector.\n",
      "  warnings.warn('Was asked to gather along dimension 0, but all '\n",
      "***** Running Evaluation *****\n",
      "  Num examples = 2762\n",
      "  Batch size = 32\n",
      "/home/kotech/venv-trans/lib/python3.8/site-packages/torch/nn/parallel/_functions.py:65: UserWarning: Was asked to gather along dimension 0, but all input tensors were scalars; will instead unsqueeze and return a vector.\n",
      "  warnings.warn('Was asked to gather along dimension 0, but all '\n",
      "Saving model checkpoint to kobigbird-bert-base-finetuned-squad/checkpoint-8000\n",
      "Configuration saved in kobigbird-bert-base-finetuned-squad/checkpoint-8000/config.json\n",
      "Model weights saved in kobigbird-bert-base-finetuned-squad/checkpoint-8000/pytorch_model.bin\n",
      "tokenizer config file saved in kobigbird-bert-base-finetuned-squad/checkpoint-8000/tokenizer_config.json\n",
      "Special tokens file saved in kobigbird-bert-base-finetuned-squad/checkpoint-8000/special_tokens_map.json\n",
      "/home/kotech/venv-trans/lib/python3.8/site-packages/torch/nn/parallel/_functions.py:65: UserWarning: Was asked to gather along dimension 0, but all input tensors were scalars; will instead unsqueeze and return a vector.\n",
      "  warnings.warn('Was asked to gather along dimension 0, but all '\n",
      "Saving model checkpoint to kobigbird-bert-base-finetuned-squad/checkpoint-8500\n",
      "Configuration saved in kobigbird-bert-base-finetuned-squad/checkpoint-8500/config.json\n",
      "Model weights saved in kobigbird-bert-base-finetuned-squad/checkpoint-8500/pytorch_model.bin\n",
      "tokenizer config file saved in kobigbird-bert-base-finetuned-squad/checkpoint-8500/tokenizer_config.json\n",
      "Special tokens file saved in kobigbird-bert-base-finetuned-squad/checkpoint-8500/special_tokens_map.json\n",
      "/home/kotech/venv-trans/lib/python3.8/site-packages/torch/nn/parallel/_functions.py:65: UserWarning: Was asked to gather along dimension 0, but all input tensors were scalars; will instead unsqueeze and return a vector.\n",
      "  warnings.warn('Was asked to gather along dimension 0, but all '\n",
      "***** Running Evaluation *****\n",
      "  Num examples = 2762\n",
      "  Batch size = 32\n",
      "/home/kotech/venv-trans/lib/python3.8/site-packages/torch/nn/parallel/_functions.py:65: UserWarning: Was asked to gather along dimension 0, but all input tensors were scalars; will instead unsqueeze and return a vector.\n",
      "  warnings.warn('Was asked to gather along dimension 0, but all '\n"
     ]
    },
    {
     "name": "stderr",
     "output_type": "stream",
     "text": [
      "Saving model checkpoint to kobigbird-bert-base-finetuned-squad/checkpoint-9000\n",
      "Configuration saved in kobigbird-bert-base-finetuned-squad/checkpoint-9000/config.json\n",
      "Model weights saved in kobigbird-bert-base-finetuned-squad/checkpoint-9000/pytorch_model.bin\n",
      "tokenizer config file saved in kobigbird-bert-base-finetuned-squad/checkpoint-9000/tokenizer_config.json\n",
      "Special tokens file saved in kobigbird-bert-base-finetuned-squad/checkpoint-9000/special_tokens_map.json\n",
      "/home/kotech/venv-trans/lib/python3.8/site-packages/torch/nn/parallel/_functions.py:65: UserWarning: Was asked to gather along dimension 0, but all input tensors were scalars; will instead unsqueeze and return a vector.\n",
      "  warnings.warn('Was asked to gather along dimension 0, but all '\n",
      "***** Running Evaluation *****\n",
      "  Num examples = 2762\n",
      "  Batch size = 32\n",
      "/home/kotech/venv-trans/lib/python3.8/site-packages/torch/nn/parallel/_functions.py:65: UserWarning: Was asked to gather along dimension 0, but all input tensors were scalars; will instead unsqueeze and return a vector.\n",
      "  warnings.warn('Was asked to gather along dimension 0, but all '\n",
      "Saving model checkpoint to kobigbird-bert-base-finetuned-squad/checkpoint-9500\n",
      "Configuration saved in kobigbird-bert-base-finetuned-squad/checkpoint-9500/config.json\n",
      "Model weights saved in kobigbird-bert-base-finetuned-squad/checkpoint-9500/pytorch_model.bin\n",
      "tokenizer config file saved in kobigbird-bert-base-finetuned-squad/checkpoint-9500/tokenizer_config.json\n",
      "Special tokens file saved in kobigbird-bert-base-finetuned-squad/checkpoint-9500/special_tokens_map.json\n",
      "/home/kotech/venv-trans/lib/python3.8/site-packages/torch/nn/parallel/_functions.py:65: UserWarning: Was asked to gather along dimension 0, but all input tensors were scalars; will instead unsqueeze and return a vector.\n",
      "  warnings.warn('Was asked to gather along dimension 0, but all '\n",
      "Saving model checkpoint to kobigbird-bert-base-finetuned-squad/checkpoint-10000\n",
      "Configuration saved in kobigbird-bert-base-finetuned-squad/checkpoint-10000/config.json\n",
      "Model weights saved in kobigbird-bert-base-finetuned-squad/checkpoint-10000/pytorch_model.bin\n",
      "tokenizer config file saved in kobigbird-bert-base-finetuned-squad/checkpoint-10000/tokenizer_config.json\n",
      "Special tokens file saved in kobigbird-bert-base-finetuned-squad/checkpoint-10000/special_tokens_map.json\n",
      "/home/kotech/venv-trans/lib/python3.8/site-packages/torch/nn/parallel/_functions.py:65: UserWarning: Was asked to gather along dimension 0, but all input tensors were scalars; will instead unsqueeze and return a vector.\n",
      "  warnings.warn('Was asked to gather along dimension 0, but all '\n",
      "***** Running Evaluation *****\n",
      "  Num examples = 2762\n",
      "  Batch size = 32\n",
      "/home/kotech/venv-trans/lib/python3.8/site-packages/torch/nn/parallel/_functions.py:65: UserWarning: Was asked to gather along dimension 0, but all input tensors were scalars; will instead unsqueeze and return a vector.\n",
      "  warnings.warn('Was asked to gather along dimension 0, but all '\n",
      "Saving model checkpoint to kobigbird-bert-base-finetuned-squad/checkpoint-10500\n",
      "Configuration saved in kobigbird-bert-base-finetuned-squad/checkpoint-10500/config.json\n",
      "Model weights saved in kobigbird-bert-base-finetuned-squad/checkpoint-10500/pytorch_model.bin\n",
      "tokenizer config file saved in kobigbird-bert-base-finetuned-squad/checkpoint-10500/tokenizer_config.json\n",
      "Special tokens file saved in kobigbird-bert-base-finetuned-squad/checkpoint-10500/special_tokens_map.json\n",
      "/home/kotech/venv-trans/lib/python3.8/site-packages/torch/nn/parallel/_functions.py:65: UserWarning: Was asked to gather along dimension 0, but all input tensors were scalars; will instead unsqueeze and return a vector.\n",
      "  warnings.warn('Was asked to gather along dimension 0, but all '\n",
      "Saving model checkpoint to kobigbird-bert-base-finetuned-squad/checkpoint-11000\n",
      "Configuration saved in kobigbird-bert-base-finetuned-squad/checkpoint-11000/config.json\n",
      "Model weights saved in kobigbird-bert-base-finetuned-squad/checkpoint-11000/pytorch_model.bin\n",
      "tokenizer config file saved in kobigbird-bert-base-finetuned-squad/checkpoint-11000/tokenizer_config.json\n",
      "Special tokens file saved in kobigbird-bert-base-finetuned-squad/checkpoint-11000/special_tokens_map.json\n",
      "/home/kotech/venv-trans/lib/python3.8/site-packages/torch/nn/parallel/_functions.py:65: UserWarning: Was asked to gather along dimension 0, but all input tensors were scalars; will instead unsqueeze and return a vector.\n",
      "  warnings.warn('Was asked to gather along dimension 0, but all '\n",
      "***** Running Evaluation *****\n",
      "  Num examples = 2762\n",
      "  Batch size = 32\n",
      "/home/kotech/venv-trans/lib/python3.8/site-packages/torch/nn/parallel/_functions.py:65: UserWarning: Was asked to gather along dimension 0, but all input tensors were scalars; will instead unsqueeze and return a vector.\n",
      "  warnings.warn('Was asked to gather along dimension 0, but all '\n",
      "Saving model checkpoint to kobigbird-bert-base-finetuned-squad/checkpoint-11500\n",
      "Configuration saved in kobigbird-bert-base-finetuned-squad/checkpoint-11500/config.json\n",
      "Model weights saved in kobigbird-bert-base-finetuned-squad/checkpoint-11500/pytorch_model.bin\n",
      "tokenizer config file saved in kobigbird-bert-base-finetuned-squad/checkpoint-11500/tokenizer_config.json\n",
      "Special tokens file saved in kobigbird-bert-base-finetuned-squad/checkpoint-11500/special_tokens_map.json\n",
      "/home/kotech/venv-trans/lib/python3.8/site-packages/torch/nn/parallel/_functions.py:65: UserWarning: Was asked to gather along dimension 0, but all input tensors were scalars; will instead unsqueeze and return a vector.\n",
      "  warnings.warn('Was asked to gather along dimension 0, but all '\n",
      "***** Running Evaluation *****\n",
      "  Num examples = 2762\n",
      "  Batch size = 32\n",
      "/home/kotech/venv-trans/lib/python3.8/site-packages/torch/nn/parallel/_functions.py:65: UserWarning: Was asked to gather along dimension 0, but all input tensors were scalars; will instead unsqueeze and return a vector.\n",
      "  warnings.warn('Was asked to gather along dimension 0, but all '\n",
      "Saving model checkpoint to kobigbird-bert-base-finetuned-squad/checkpoint-12000\n",
      "Configuration saved in kobigbird-bert-base-finetuned-squad/checkpoint-12000/config.json\n",
      "Model weights saved in kobigbird-bert-base-finetuned-squad/checkpoint-12000/pytorch_model.bin\n",
      "tokenizer config file saved in kobigbird-bert-base-finetuned-squad/checkpoint-12000/tokenizer_config.json\n",
      "Special tokens file saved in kobigbird-bert-base-finetuned-squad/checkpoint-12000/special_tokens_map.json\n",
      "/home/kotech/venv-trans/lib/python3.8/site-packages/torch/nn/parallel/_functions.py:65: UserWarning: Was asked to gather along dimension 0, but all input tensors were scalars; will instead unsqueeze and return a vector.\n",
      "  warnings.warn('Was asked to gather along dimension 0, but all '\n",
      "Saving model checkpoint to kobigbird-bert-base-finetuned-squad/checkpoint-12500\n",
      "Configuration saved in kobigbird-bert-base-finetuned-squad/checkpoint-12500/config.json\n",
      "Model weights saved in kobigbird-bert-base-finetuned-squad/checkpoint-12500/pytorch_model.bin\n",
      "tokenizer config file saved in kobigbird-bert-base-finetuned-squad/checkpoint-12500/tokenizer_config.json\n",
      "Special tokens file saved in kobigbird-bert-base-finetuned-squad/checkpoint-12500/special_tokens_map.json\n",
      "/home/kotech/venv-trans/lib/python3.8/site-packages/torch/nn/parallel/_functions.py:65: UserWarning: Was asked to gather along dimension 0, but all input tensors were scalars; will instead unsqueeze and return a vector.\n",
      "  warnings.warn('Was asked to gather along dimension 0, but all '\n",
      "***** Running Evaluation *****\n",
      "  Num examples = 2762\n",
      "  Batch size = 32\n",
      "/home/kotech/venv-trans/lib/python3.8/site-packages/torch/nn/parallel/_functions.py:65: UserWarning: Was asked to gather along dimension 0, but all input tensors were scalars; will instead unsqueeze and return a vector.\n",
      "  warnings.warn('Was asked to gather along dimension 0, but all '\n",
      "Saving model checkpoint to kobigbird-bert-base-finetuned-squad/checkpoint-13000\n",
      "Configuration saved in kobigbird-bert-base-finetuned-squad/checkpoint-13000/config.json\n",
      "Model weights saved in kobigbird-bert-base-finetuned-squad/checkpoint-13000/pytorch_model.bin\n",
      "tokenizer config file saved in kobigbird-bert-base-finetuned-squad/checkpoint-13000/tokenizer_config.json\n"
     ]
    },
    {
     "name": "stderr",
     "output_type": "stream",
     "text": [
      "Special tokens file saved in kobigbird-bert-base-finetuned-squad/checkpoint-13000/special_tokens_map.json\n",
      "/home/kotech/venv-trans/lib/python3.8/site-packages/torch/nn/parallel/_functions.py:65: UserWarning: Was asked to gather along dimension 0, but all input tensors were scalars; will instead unsqueeze and return a vector.\n",
      "  warnings.warn('Was asked to gather along dimension 0, but all '\n",
      "***** Running Evaluation *****\n",
      "  Num examples = 2762\n",
      "  Batch size = 32\n",
      "/home/kotech/venv-trans/lib/python3.8/site-packages/torch/nn/parallel/_functions.py:65: UserWarning: Was asked to gather along dimension 0, but all input tensors were scalars; will instead unsqueeze and return a vector.\n",
      "  warnings.warn('Was asked to gather along dimension 0, but all '\n",
      "Saving model checkpoint to kobigbird-bert-base-finetuned-squad/checkpoint-13500\n",
      "Configuration saved in kobigbird-bert-base-finetuned-squad/checkpoint-13500/config.json\n",
      "Model weights saved in kobigbird-bert-base-finetuned-squad/checkpoint-13500/pytorch_model.bin\n",
      "tokenizer config file saved in kobigbird-bert-base-finetuned-squad/checkpoint-13500/tokenizer_config.json\n",
      "Special tokens file saved in kobigbird-bert-base-finetuned-squad/checkpoint-13500/special_tokens_map.json\n",
      "/home/kotech/venv-trans/lib/python3.8/site-packages/torch/nn/parallel/_functions.py:65: UserWarning: Was asked to gather along dimension 0, but all input tensors were scalars; will instead unsqueeze and return a vector.\n",
      "  warnings.warn('Was asked to gather along dimension 0, but all '\n",
      "Saving model checkpoint to kobigbird-bert-base-finetuned-squad/checkpoint-14000\n",
      "Configuration saved in kobigbird-bert-base-finetuned-squad/checkpoint-14000/config.json\n",
      "Model weights saved in kobigbird-bert-base-finetuned-squad/checkpoint-14000/pytorch_model.bin\n",
      "tokenizer config file saved in kobigbird-bert-base-finetuned-squad/checkpoint-14000/tokenizer_config.json\n",
      "Special tokens file saved in kobigbird-bert-base-finetuned-squad/checkpoint-14000/special_tokens_map.json\n",
      "/home/kotech/venv-trans/lib/python3.8/site-packages/torch/nn/parallel/_functions.py:65: UserWarning: Was asked to gather along dimension 0, but all input tensors were scalars; will instead unsqueeze and return a vector.\n",
      "  warnings.warn('Was asked to gather along dimension 0, but all '\n",
      "***** Running Evaluation *****\n",
      "  Num examples = 2762\n",
      "  Batch size = 32\n",
      "/home/kotech/venv-trans/lib/python3.8/site-packages/torch/nn/parallel/_functions.py:65: UserWarning: Was asked to gather along dimension 0, but all input tensors were scalars; will instead unsqueeze and return a vector.\n",
      "  warnings.warn('Was asked to gather along dimension 0, but all '\n",
      "Saving model checkpoint to kobigbird-bert-base-finetuned-squad/checkpoint-14500\n",
      "Configuration saved in kobigbird-bert-base-finetuned-squad/checkpoint-14500/config.json\n",
      "Model weights saved in kobigbird-bert-base-finetuned-squad/checkpoint-14500/pytorch_model.bin\n",
      "tokenizer config file saved in kobigbird-bert-base-finetuned-squad/checkpoint-14500/tokenizer_config.json\n",
      "Special tokens file saved in kobigbird-bert-base-finetuned-squad/checkpoint-14500/special_tokens_map.json\n",
      "/home/kotech/venv-trans/lib/python3.8/site-packages/torch/nn/parallel/_functions.py:65: UserWarning: Was asked to gather along dimension 0, but all input tensors were scalars; will instead unsqueeze and return a vector.\n",
      "  warnings.warn('Was asked to gather along dimension 0, but all '\n",
      "Saving model checkpoint to kobigbird-bert-base-finetuned-squad/checkpoint-15000\n",
      "Configuration saved in kobigbird-bert-base-finetuned-squad/checkpoint-15000/config.json\n",
      "Model weights saved in kobigbird-bert-base-finetuned-squad/checkpoint-15000/pytorch_model.bin\n",
      "tokenizer config file saved in kobigbird-bert-base-finetuned-squad/checkpoint-15000/tokenizer_config.json\n",
      "Special tokens file saved in kobigbird-bert-base-finetuned-squad/checkpoint-15000/special_tokens_map.json\n",
      "/home/kotech/venv-trans/lib/python3.8/site-packages/torch/nn/parallel/_functions.py:65: UserWarning: Was asked to gather along dimension 0, but all input tensors were scalars; will instead unsqueeze and return a vector.\n",
      "  warnings.warn('Was asked to gather along dimension 0, but all '\n",
      "***** Running Evaluation *****\n",
      "  Num examples = 2762\n",
      "  Batch size = 32\n",
      "/home/kotech/venv-trans/lib/python3.8/site-packages/torch/nn/parallel/_functions.py:65: UserWarning: Was asked to gather along dimension 0, but all input tensors were scalars; will instead unsqueeze and return a vector.\n",
      "  warnings.warn('Was asked to gather along dimension 0, but all '\n",
      "Saving model checkpoint to kobigbird-bert-base-finetuned-squad/checkpoint-15500\n",
      "Configuration saved in kobigbird-bert-base-finetuned-squad/checkpoint-15500/config.json\n",
      "Model weights saved in kobigbird-bert-base-finetuned-squad/checkpoint-15500/pytorch_model.bin\n",
      "tokenizer config file saved in kobigbird-bert-base-finetuned-squad/checkpoint-15500/tokenizer_config.json\n",
      "Special tokens file saved in kobigbird-bert-base-finetuned-squad/checkpoint-15500/special_tokens_map.json\n",
      "/home/kotech/venv-trans/lib/python3.8/site-packages/torch/nn/parallel/_functions.py:65: UserWarning: Was asked to gather along dimension 0, but all input tensors were scalars; will instead unsqueeze and return a vector.\n",
      "  warnings.warn('Was asked to gather along dimension 0, but all '\n",
      "***** Running Evaluation *****\n",
      "  Num examples = 2762\n",
      "  Batch size = 32\n",
      "\n",
      "\n",
      "Training completed. Do not forget to share your model on huggingface.co/models =)\n",
      "\n",
      "\n"
     ]
    },
    {
     "data": {
      "text/plain": [
       "TrainOutput(global_step=15800, training_loss=0.1196317099091373, metrics={'train_runtime': 9371.1294, 'train_samples_per_second': 53.915, 'train_steps_per_second': 1.686, 'total_flos': 1.3934963125690368e+17, 'train_loss': 0.1196317099091373, 'epoch': 20.0})"
      ]
     },
     "execution_count": 25,
     "metadata": {},
     "output_type": "execute_result"
    }
   ],
   "source": [
    "trainer.train()"
   ]
  },
  {
   "cell_type": "code",
   "execution_count": 251,
   "metadata": {
    "id": "uNx5pyRlIrJh",
    "outputId": "077e661e-d36c-469b-89b8-7ff7f73541ec",
    "scrolled": false
   },
   "outputs": [
    {
     "name": "stderr",
     "output_type": "stream",
     "text": [
      "/home/kotech/venv-trans/lib/python3.8/site-packages/transformers/optimization.py:306: FutureWarning: This implementation of AdamW is deprecated and will be removed in a future version. Use the PyTorch implementation torch.optim.AdamW instead, or set `no_deprecation_warning=True` to disable this warning\n",
      "  warnings.warn(\n",
      "***** Running training *****\n",
      "  Num examples = 25262\n",
      "  Num Epochs = 20\n",
      "  Instantaneous batch size per device = 16\n",
      "  Total train batch size (w. parallel, distributed & accumulation) = 32\n",
      "  Gradient Accumulation steps = 1\n",
      "  Total optimization steps = 15800\n"
     ]
    },
    {
     "data": {
      "text/html": [
       "\n",
       "    <div>\n",
       "      \n",
       "      <progress value='15800' max='15800' style='width:300px; height:20px; vertical-align: middle;'></progress>\n",
       "      [15800/15800 2:13:24, Epoch 20/20]\n",
       "    </div>\n",
       "    <table border=\"1\" class=\"dataframe\">\n",
       "  <thead>\n",
       " <tr style=\"text-align: left;\">\n",
       "      <th>Epoch</th>\n",
       "      <th>Training Loss</th>\n",
       "      <th>Validation Loss</th>\n",
       "    </tr>\n",
       "  </thead>\n",
       "  <tbody>\n",
       "    <tr>\n",
       "      <td>1</td>\n",
       "      <td>0.190700</td>\n",
       "      <td>0.668153</td>\n",
       "    </tr>\n",
       "    <tr>\n",
       "      <td>2</td>\n",
       "      <td>0.138200</td>\n",
       "      <td>0.764964</td>\n",
       "    </tr>\n",
       "    <tr>\n",
       "      <td>3</td>\n",
       "      <td>0.108100</td>\n",
       "      <td>0.822051</td>\n",
       "    </tr>\n",
       "    <tr>\n",
       "      <td>4</td>\n",
       "      <td>0.112700</td>\n",
       "      <td>0.898231</td>\n",
       "    </tr>\n",
       "    <tr>\n",
       "      <td>5</td>\n",
       "      <td>0.090400</td>\n",
       "      <td>1.017879</td>\n",
       "    </tr>\n",
       "    <tr>\n",
       "      <td>6</td>\n",
       "      <td>0.059900</td>\n",
       "      <td>1.140363</td>\n",
       "    </tr>\n",
       "    <tr>\n",
       "      <td>7</td>\n",
       "      <td>0.044800</td>\n",
       "      <td>1.315109</td>\n",
       "    </tr>\n",
       "    <tr>\n",
       "      <td>8</td>\n",
       "      <td>0.036600</td>\n",
       "      <td>1.420347</td>\n",
       "    </tr>\n",
       "    <tr>\n",
       "      <td>9</td>\n",
       "      <td>0.025900</td>\n",
       "      <td>1.471424</td>\n",
       "    </tr>\n",
       "    <tr>\n",
       "      <td>10</td>\n",
       "      <td>0.028800</td>\n",
       "      <td>1.571545</td>\n",
       "    </tr>\n",
       "    <tr>\n",
       "      <td>11</td>\n",
       "      <td>0.020700</td>\n",
       "      <td>1.571995</td>\n",
       "    </tr>\n",
       "    <tr>\n",
       "      <td>12</td>\n",
       "      <td>0.017200</td>\n",
       "      <td>1.669122</td>\n",
       "    </tr>\n",
       "    <tr>\n",
       "      <td>13</td>\n",
       "      <td>0.012800</td>\n",
       "      <td>1.720719</td>\n",
       "    </tr>\n",
       "    <tr>\n",
       "      <td>14</td>\n",
       "      <td>0.013700</td>\n",
       "      <td>1.714646</td>\n",
       "    </tr>\n",
       "    <tr>\n",
       "      <td>15</td>\n",
       "      <td>0.013200</td>\n",
       "      <td>1.762788</td>\n",
       "    </tr>\n",
       "    <tr>\n",
       "      <td>16</td>\n",
       "      <td>0.008800</td>\n",
       "      <td>1.762005</td>\n",
       "    </tr>\n",
       "    <tr>\n",
       "      <td>17</td>\n",
       "      <td>0.009900</td>\n",
       "      <td>1.807851</td>\n",
       "    </tr>\n",
       "    <tr>\n",
       "      <td>18</td>\n",
       "      <td>0.006900</td>\n",
       "      <td>1.798797</td>\n",
       "    </tr>\n",
       "    <tr>\n",
       "      <td>19</td>\n",
       "      <td>0.006800</td>\n",
       "      <td>1.825316</td>\n",
       "    </tr>\n",
       "    <tr>\n",
       "      <td>20</td>\n",
       "      <td>0.005700</td>\n",
       "      <td>1.825660</td>\n",
       "    </tr>\n",
       "  </tbody>\n",
       "</table><p>"
      ],
      "text/plain": [
       "<IPython.core.display.HTML object>"
      ]
     },
     "metadata": {},
     "output_type": "display_data"
    },
    {
     "name": "stderr",
     "output_type": "stream",
     "text": [
      "Saving model checkpoint to koelectra-base-v3-finetuned-korquad-finetuned-squad/checkpoint-500\n",
      "Configuration saved in koelectra-base-v3-finetuned-korquad-finetuned-squad/checkpoint-500/config.json\n",
      "Model weights saved in koelectra-base-v3-finetuned-korquad-finetuned-squad/checkpoint-500/pytorch_model.bin\n",
      "tokenizer config file saved in koelectra-base-v3-finetuned-korquad-finetuned-squad/checkpoint-500/tokenizer_config.json\n",
      "Special tokens file saved in koelectra-base-v3-finetuned-korquad-finetuned-squad/checkpoint-500/special_tokens_map.json\n",
      "/home/kotech/venv-trans/lib/python3.8/site-packages/torch/nn/parallel/_functions.py:65: UserWarning: Was asked to gather along dimension 0, but all input tensors were scalars; will instead unsqueeze and return a vector.\n",
      "  warnings.warn('Was asked to gather along dimension 0, but all '\n",
      "***** Running Evaluation *****\n",
      "  Num examples = 2762\n",
      "  Batch size = 32\n",
      "Saving model checkpoint to koelectra-base-v3-finetuned-korquad-finetuned-squad/checkpoint-1000\n",
      "Configuration saved in koelectra-base-v3-finetuned-korquad-finetuned-squad/checkpoint-1000/config.json\n",
      "Model weights saved in koelectra-base-v3-finetuned-korquad-finetuned-squad/checkpoint-1000/pytorch_model.bin\n",
      "tokenizer config file saved in koelectra-base-v3-finetuned-korquad-finetuned-squad/checkpoint-1000/tokenizer_config.json\n",
      "Special tokens file saved in koelectra-base-v3-finetuned-korquad-finetuned-squad/checkpoint-1000/special_tokens_map.json\n",
      "/home/kotech/venv-trans/lib/python3.8/site-packages/torch/nn/parallel/_functions.py:65: UserWarning: Was asked to gather along dimension 0, but all input tensors were scalars; will instead unsqueeze and return a vector.\n",
      "  warnings.warn('Was asked to gather along dimension 0, but all '\n",
      "Saving model checkpoint to koelectra-base-v3-finetuned-korquad-finetuned-squad/checkpoint-1500\n",
      "Configuration saved in koelectra-base-v3-finetuned-korquad-finetuned-squad/checkpoint-1500/config.json\n",
      "Model weights saved in koelectra-base-v3-finetuned-korquad-finetuned-squad/checkpoint-1500/pytorch_model.bin\n",
      "tokenizer config file saved in koelectra-base-v3-finetuned-korquad-finetuned-squad/checkpoint-1500/tokenizer_config.json\n",
      "Special tokens file saved in koelectra-base-v3-finetuned-korquad-finetuned-squad/checkpoint-1500/special_tokens_map.json\n",
      "/home/kotech/venv-trans/lib/python3.8/site-packages/torch/nn/parallel/_functions.py:65: UserWarning: Was asked to gather along dimension 0, but all input tensors were scalars; will instead unsqueeze and return a vector.\n",
      "  warnings.warn('Was asked to gather along dimension 0, but all '\n",
      "***** Running Evaluation *****\n",
      "  Num examples = 2762\n",
      "  Batch size = 32\n",
      "Saving model checkpoint to koelectra-base-v3-finetuned-korquad-finetuned-squad/checkpoint-2000\n",
      "Configuration saved in koelectra-base-v3-finetuned-korquad-finetuned-squad/checkpoint-2000/config.json\n",
      "Model weights saved in koelectra-base-v3-finetuned-korquad-finetuned-squad/checkpoint-2000/pytorch_model.bin\n",
      "tokenizer config file saved in koelectra-base-v3-finetuned-korquad-finetuned-squad/checkpoint-2000/tokenizer_config.json\n",
      "Special tokens file saved in koelectra-base-v3-finetuned-korquad-finetuned-squad/checkpoint-2000/special_tokens_map.json\n",
      "/home/kotech/venv-trans/lib/python3.8/site-packages/torch/nn/parallel/_functions.py:65: UserWarning: Was asked to gather along dimension 0, but all input tensors were scalars; will instead unsqueeze and return a vector.\n",
      "  warnings.warn('Was asked to gather along dimension 0, but all '\n",
      "***** Running Evaluation *****\n",
      "  Num examples = 2762\n",
      "  Batch size = 32\n",
      "Saving model checkpoint to koelectra-base-v3-finetuned-korquad-finetuned-squad/checkpoint-2500\n",
      "Configuration saved in koelectra-base-v3-finetuned-korquad-finetuned-squad/checkpoint-2500/config.json\n",
      "Model weights saved in koelectra-base-v3-finetuned-korquad-finetuned-squad/checkpoint-2500/pytorch_model.bin\n",
      "tokenizer config file saved in koelectra-base-v3-finetuned-korquad-finetuned-squad/checkpoint-2500/tokenizer_config.json\n",
      "Special tokens file saved in koelectra-base-v3-finetuned-korquad-finetuned-squad/checkpoint-2500/special_tokens_map.json\n",
      "/home/kotech/venv-trans/lib/python3.8/site-packages/torch/nn/parallel/_functions.py:65: UserWarning: Was asked to gather along dimension 0, but all input tensors were scalars; will instead unsqueeze and return a vector.\n",
      "  warnings.warn('Was asked to gather along dimension 0, but all '\n",
      "Saving model checkpoint to koelectra-base-v3-finetuned-korquad-finetuned-squad/checkpoint-3000\n",
      "Configuration saved in koelectra-base-v3-finetuned-korquad-finetuned-squad/checkpoint-3000/config.json\n",
      "Model weights saved in koelectra-base-v3-finetuned-korquad-finetuned-squad/checkpoint-3000/pytorch_model.bin\n",
      "tokenizer config file saved in koelectra-base-v3-finetuned-korquad-finetuned-squad/checkpoint-3000/tokenizer_config.json\n",
      "Special tokens file saved in koelectra-base-v3-finetuned-korquad-finetuned-squad/checkpoint-3000/special_tokens_map.json\n",
      "/home/kotech/venv-trans/lib/python3.8/site-packages/torch/nn/parallel/_functions.py:65: UserWarning: Was asked to gather along dimension 0, but all input tensors were scalars; will instead unsqueeze and return a vector.\n",
      "  warnings.warn('Was asked to gather along dimension 0, but all '\n",
      "***** Running Evaluation *****\n",
      "  Num examples = 2762\n",
      "  Batch size = 32\n",
      "Saving model checkpoint to koelectra-base-v3-finetuned-korquad-finetuned-squad/checkpoint-3500\n",
      "Configuration saved in koelectra-base-v3-finetuned-korquad-finetuned-squad/checkpoint-3500/config.json\n",
      "Model weights saved in koelectra-base-v3-finetuned-korquad-finetuned-squad/checkpoint-3500/pytorch_model.bin\n",
      "tokenizer config file saved in koelectra-base-v3-finetuned-korquad-finetuned-squad/checkpoint-3500/tokenizer_config.json\n",
      "Special tokens file saved in koelectra-base-v3-finetuned-korquad-finetuned-squad/checkpoint-3500/special_tokens_map.json\n",
      "/home/kotech/venv-trans/lib/python3.8/site-packages/torch/nn/parallel/_functions.py:65: UserWarning: Was asked to gather along dimension 0, but all input tensors were scalars; will instead unsqueeze and return a vector.\n",
      "  warnings.warn('Was asked to gather along dimension 0, but all '\n",
      "***** Running Evaluation *****\n",
      "  Num examples = 2762\n",
      "  Batch size = 32\n",
      "Saving model checkpoint to koelectra-base-v3-finetuned-korquad-finetuned-squad/checkpoint-4000\n",
      "Configuration saved in koelectra-base-v3-finetuned-korquad-finetuned-squad/checkpoint-4000/config.json\n",
      "Model weights saved in koelectra-base-v3-finetuned-korquad-finetuned-squad/checkpoint-4000/pytorch_model.bin\n",
      "tokenizer config file saved in koelectra-base-v3-finetuned-korquad-finetuned-squad/checkpoint-4000/tokenizer_config.json\n",
      "Special tokens file saved in koelectra-base-v3-finetuned-korquad-finetuned-squad/checkpoint-4000/special_tokens_map.json\n",
      "/home/kotech/venv-trans/lib/python3.8/site-packages/torch/nn/parallel/_functions.py:65: UserWarning: Was asked to gather along dimension 0, but all input tensors were scalars; will instead unsqueeze and return a vector.\n",
      "  warnings.warn('Was asked to gather along dimension 0, but all '\n",
      "Saving model checkpoint to koelectra-base-v3-finetuned-korquad-finetuned-squad/checkpoint-4500\n",
      "Configuration saved in koelectra-base-v3-finetuned-korquad-finetuned-squad/checkpoint-4500/config.json\n",
      "Model weights saved in koelectra-base-v3-finetuned-korquad-finetuned-squad/checkpoint-4500/pytorch_model.bin\n",
      "tokenizer config file saved in koelectra-base-v3-finetuned-korquad-finetuned-squad/checkpoint-4500/tokenizer_config.json\n",
      "Special tokens file saved in koelectra-base-v3-finetuned-korquad-finetuned-squad/checkpoint-4500/special_tokens_map.json\n",
      "/home/kotech/venv-trans/lib/python3.8/site-packages/torch/nn/parallel/_functions.py:65: UserWarning: Was asked to gather along dimension 0, but all input tensors were scalars; will instead unsqueeze and return a vector.\n",
      "  warnings.warn('Was asked to gather along dimension 0, but all '\n",
      "***** Running Evaluation *****\n",
      "  Num examples = 2762\n",
      "  Batch size = 32\n",
      "Saving model checkpoint to koelectra-base-v3-finetuned-korquad-finetuned-squad/checkpoint-5000\n",
      "Configuration saved in koelectra-base-v3-finetuned-korquad-finetuned-squad/checkpoint-5000/config.json\n",
      "Model weights saved in koelectra-base-v3-finetuned-korquad-finetuned-squad/checkpoint-5000/pytorch_model.bin\n"
     ]
    },
    {
     "name": "stderr",
     "output_type": "stream",
     "text": [
      "tokenizer config file saved in koelectra-base-v3-finetuned-korquad-finetuned-squad/checkpoint-5000/tokenizer_config.json\n",
      "Special tokens file saved in koelectra-base-v3-finetuned-korquad-finetuned-squad/checkpoint-5000/special_tokens_map.json\n",
      "/home/kotech/venv-trans/lib/python3.8/site-packages/torch/nn/parallel/_functions.py:65: UserWarning: Was asked to gather along dimension 0, but all input tensors were scalars; will instead unsqueeze and return a vector.\n",
      "  warnings.warn('Was asked to gather along dimension 0, but all '\n",
      "Saving model checkpoint to koelectra-base-v3-finetuned-korquad-finetuned-squad/checkpoint-5500\n",
      "Configuration saved in koelectra-base-v3-finetuned-korquad-finetuned-squad/checkpoint-5500/config.json\n",
      "Model weights saved in koelectra-base-v3-finetuned-korquad-finetuned-squad/checkpoint-5500/pytorch_model.bin\n",
      "tokenizer config file saved in koelectra-base-v3-finetuned-korquad-finetuned-squad/checkpoint-5500/tokenizer_config.json\n",
      "Special tokens file saved in koelectra-base-v3-finetuned-korquad-finetuned-squad/checkpoint-5500/special_tokens_map.json\n",
      "/home/kotech/venv-trans/lib/python3.8/site-packages/torch/nn/parallel/_functions.py:65: UserWarning: Was asked to gather along dimension 0, but all input tensors were scalars; will instead unsqueeze and return a vector.\n",
      "  warnings.warn('Was asked to gather along dimension 0, but all '\n",
      "***** Running Evaluation *****\n",
      "  Num examples = 2762\n",
      "  Batch size = 32\n",
      "Saving model checkpoint to koelectra-base-v3-finetuned-korquad-finetuned-squad/checkpoint-6000\n",
      "Configuration saved in koelectra-base-v3-finetuned-korquad-finetuned-squad/checkpoint-6000/config.json\n",
      "Model weights saved in koelectra-base-v3-finetuned-korquad-finetuned-squad/checkpoint-6000/pytorch_model.bin\n",
      "tokenizer config file saved in koelectra-base-v3-finetuned-korquad-finetuned-squad/checkpoint-6000/tokenizer_config.json\n",
      "Special tokens file saved in koelectra-base-v3-finetuned-korquad-finetuned-squad/checkpoint-6000/special_tokens_map.json\n",
      "/home/kotech/venv-trans/lib/python3.8/site-packages/torch/nn/parallel/_functions.py:65: UserWarning: Was asked to gather along dimension 0, but all input tensors were scalars; will instead unsqueeze and return a vector.\n",
      "  warnings.warn('Was asked to gather along dimension 0, but all '\n",
      "***** Running Evaluation *****\n",
      "  Num examples = 2762\n",
      "  Batch size = 32\n",
      "Saving model checkpoint to koelectra-base-v3-finetuned-korquad-finetuned-squad/checkpoint-6500\n",
      "Configuration saved in koelectra-base-v3-finetuned-korquad-finetuned-squad/checkpoint-6500/config.json\n",
      "Model weights saved in koelectra-base-v3-finetuned-korquad-finetuned-squad/checkpoint-6500/pytorch_model.bin\n",
      "tokenizer config file saved in koelectra-base-v3-finetuned-korquad-finetuned-squad/checkpoint-6500/tokenizer_config.json\n",
      "Special tokens file saved in koelectra-base-v3-finetuned-korquad-finetuned-squad/checkpoint-6500/special_tokens_map.json\n",
      "/home/kotech/venv-trans/lib/python3.8/site-packages/torch/nn/parallel/_functions.py:65: UserWarning: Was asked to gather along dimension 0, but all input tensors were scalars; will instead unsqueeze and return a vector.\n",
      "  warnings.warn('Was asked to gather along dimension 0, but all '\n",
      "Saving model checkpoint to koelectra-base-v3-finetuned-korquad-finetuned-squad/checkpoint-7000\n",
      "Configuration saved in koelectra-base-v3-finetuned-korquad-finetuned-squad/checkpoint-7000/config.json\n",
      "Model weights saved in koelectra-base-v3-finetuned-korquad-finetuned-squad/checkpoint-7000/pytorch_model.bin\n",
      "tokenizer config file saved in koelectra-base-v3-finetuned-korquad-finetuned-squad/checkpoint-7000/tokenizer_config.json\n",
      "Special tokens file saved in koelectra-base-v3-finetuned-korquad-finetuned-squad/checkpoint-7000/special_tokens_map.json\n",
      "/home/kotech/venv-trans/lib/python3.8/site-packages/torch/nn/parallel/_functions.py:65: UserWarning: Was asked to gather along dimension 0, but all input tensors were scalars; will instead unsqueeze and return a vector.\n",
      "  warnings.warn('Was asked to gather along dimension 0, but all '\n",
      "***** Running Evaluation *****\n",
      "  Num examples = 2762\n",
      "  Batch size = 32\n",
      "Saving model checkpoint to koelectra-base-v3-finetuned-korquad-finetuned-squad/checkpoint-7500\n",
      "Configuration saved in koelectra-base-v3-finetuned-korquad-finetuned-squad/checkpoint-7500/config.json\n",
      "Model weights saved in koelectra-base-v3-finetuned-korquad-finetuned-squad/checkpoint-7500/pytorch_model.bin\n",
      "tokenizer config file saved in koelectra-base-v3-finetuned-korquad-finetuned-squad/checkpoint-7500/tokenizer_config.json\n",
      "Special tokens file saved in koelectra-base-v3-finetuned-korquad-finetuned-squad/checkpoint-7500/special_tokens_map.json\n",
      "/home/kotech/venv-trans/lib/python3.8/site-packages/torch/nn/parallel/_functions.py:65: UserWarning: Was asked to gather along dimension 0, but all input tensors were scalars; will instead unsqueeze and return a vector.\n",
      "  warnings.warn('Was asked to gather along dimension 0, but all '\n",
      "***** Running Evaluation *****\n",
      "  Num examples = 2762\n",
      "  Batch size = 32\n",
      "Saving model checkpoint to koelectra-base-v3-finetuned-korquad-finetuned-squad/checkpoint-8000\n",
      "Configuration saved in koelectra-base-v3-finetuned-korquad-finetuned-squad/checkpoint-8000/config.json\n",
      "Model weights saved in koelectra-base-v3-finetuned-korquad-finetuned-squad/checkpoint-8000/pytorch_model.bin\n",
      "tokenizer config file saved in koelectra-base-v3-finetuned-korquad-finetuned-squad/checkpoint-8000/tokenizer_config.json\n",
      "Special tokens file saved in koelectra-base-v3-finetuned-korquad-finetuned-squad/checkpoint-8000/special_tokens_map.json\n",
      "/home/kotech/venv-trans/lib/python3.8/site-packages/torch/nn/parallel/_functions.py:65: UserWarning: Was asked to gather along dimension 0, but all input tensors were scalars; will instead unsqueeze and return a vector.\n",
      "  warnings.warn('Was asked to gather along dimension 0, but all '\n",
      "Saving model checkpoint to koelectra-base-v3-finetuned-korquad-finetuned-squad/checkpoint-8500\n",
      "Configuration saved in koelectra-base-v3-finetuned-korquad-finetuned-squad/checkpoint-8500/config.json\n",
      "Model weights saved in koelectra-base-v3-finetuned-korquad-finetuned-squad/checkpoint-8500/pytorch_model.bin\n",
      "tokenizer config file saved in koelectra-base-v3-finetuned-korquad-finetuned-squad/checkpoint-8500/tokenizer_config.json\n",
      "Special tokens file saved in koelectra-base-v3-finetuned-korquad-finetuned-squad/checkpoint-8500/special_tokens_map.json\n",
      "/home/kotech/venv-trans/lib/python3.8/site-packages/torch/nn/parallel/_functions.py:65: UserWarning: Was asked to gather along dimension 0, but all input tensors were scalars; will instead unsqueeze and return a vector.\n",
      "  warnings.warn('Was asked to gather along dimension 0, but all '\n",
      "***** Running Evaluation *****\n",
      "  Num examples = 2762\n",
      "  Batch size = 32\n",
      "Saving model checkpoint to koelectra-base-v3-finetuned-korquad-finetuned-squad/checkpoint-9000\n",
      "Configuration saved in koelectra-base-v3-finetuned-korquad-finetuned-squad/checkpoint-9000/config.json\n",
      "Model weights saved in koelectra-base-v3-finetuned-korquad-finetuned-squad/checkpoint-9000/pytorch_model.bin\n",
      "tokenizer config file saved in koelectra-base-v3-finetuned-korquad-finetuned-squad/checkpoint-9000/tokenizer_config.json\n",
      "Special tokens file saved in koelectra-base-v3-finetuned-korquad-finetuned-squad/checkpoint-9000/special_tokens_map.json\n",
      "/home/kotech/venv-trans/lib/python3.8/site-packages/torch/nn/parallel/_functions.py:65: UserWarning: Was asked to gather along dimension 0, but all input tensors were scalars; will instead unsqueeze and return a vector.\n",
      "  warnings.warn('Was asked to gather along dimension 0, but all '\n",
      "***** Running Evaluation *****\n",
      "  Num examples = 2762\n",
      "  Batch size = 32\n",
      "Saving model checkpoint to koelectra-base-v3-finetuned-korquad-finetuned-squad/checkpoint-9500\n",
      "Configuration saved in koelectra-base-v3-finetuned-korquad-finetuned-squad/checkpoint-9500/config.json\n",
      "Model weights saved in koelectra-base-v3-finetuned-korquad-finetuned-squad/checkpoint-9500/pytorch_model.bin\n",
      "tokenizer config file saved in koelectra-base-v3-finetuned-korquad-finetuned-squad/checkpoint-9500/tokenizer_config.json\n",
      "Special tokens file saved in koelectra-base-v3-finetuned-korquad-finetuned-squad/checkpoint-9500/special_tokens_map.json\n",
      "/home/kotech/venv-trans/lib/python3.8/site-packages/torch/nn/parallel/_functions.py:65: UserWarning: Was asked to gather along dimension 0, but all input tensors were scalars; will instead unsqueeze and return a vector.\n",
      "  warnings.warn('Was asked to gather along dimension 0, but all '\n"
     ]
    },
    {
     "name": "stderr",
     "output_type": "stream",
     "text": [
      "Saving model checkpoint to koelectra-base-v3-finetuned-korquad-finetuned-squad/checkpoint-10000\n",
      "Configuration saved in koelectra-base-v3-finetuned-korquad-finetuned-squad/checkpoint-10000/config.json\n",
      "Model weights saved in koelectra-base-v3-finetuned-korquad-finetuned-squad/checkpoint-10000/pytorch_model.bin\n",
      "tokenizer config file saved in koelectra-base-v3-finetuned-korquad-finetuned-squad/checkpoint-10000/tokenizer_config.json\n",
      "Special tokens file saved in koelectra-base-v3-finetuned-korquad-finetuned-squad/checkpoint-10000/special_tokens_map.json\n",
      "/home/kotech/venv-trans/lib/python3.8/site-packages/torch/nn/parallel/_functions.py:65: UserWarning: Was asked to gather along dimension 0, but all input tensors were scalars; will instead unsqueeze and return a vector.\n",
      "  warnings.warn('Was asked to gather along dimension 0, but all '\n",
      "***** Running Evaluation *****\n",
      "  Num examples = 2762\n",
      "  Batch size = 32\n",
      "Saving model checkpoint to koelectra-base-v3-finetuned-korquad-finetuned-squad/checkpoint-10500\n",
      "Configuration saved in koelectra-base-v3-finetuned-korquad-finetuned-squad/checkpoint-10500/config.json\n",
      "Model weights saved in koelectra-base-v3-finetuned-korquad-finetuned-squad/checkpoint-10500/pytorch_model.bin\n",
      "tokenizer config file saved in koelectra-base-v3-finetuned-korquad-finetuned-squad/checkpoint-10500/tokenizer_config.json\n",
      "Special tokens file saved in koelectra-base-v3-finetuned-korquad-finetuned-squad/checkpoint-10500/special_tokens_map.json\n",
      "/home/kotech/venv-trans/lib/python3.8/site-packages/torch/nn/parallel/_functions.py:65: UserWarning: Was asked to gather along dimension 0, but all input tensors were scalars; will instead unsqueeze and return a vector.\n",
      "  warnings.warn('Was asked to gather along dimension 0, but all '\n",
      "Saving model checkpoint to koelectra-base-v3-finetuned-korquad-finetuned-squad/checkpoint-11000\n",
      "Configuration saved in koelectra-base-v3-finetuned-korquad-finetuned-squad/checkpoint-11000/config.json\n",
      "Model weights saved in koelectra-base-v3-finetuned-korquad-finetuned-squad/checkpoint-11000/pytorch_model.bin\n",
      "tokenizer config file saved in koelectra-base-v3-finetuned-korquad-finetuned-squad/checkpoint-11000/tokenizer_config.json\n",
      "Special tokens file saved in koelectra-base-v3-finetuned-korquad-finetuned-squad/checkpoint-11000/special_tokens_map.json\n",
      "/home/kotech/venv-trans/lib/python3.8/site-packages/torch/nn/parallel/_functions.py:65: UserWarning: Was asked to gather along dimension 0, but all input tensors were scalars; will instead unsqueeze and return a vector.\n",
      "  warnings.warn('Was asked to gather along dimension 0, but all '\n",
      "***** Running Evaluation *****\n",
      "  Num examples = 2762\n",
      "  Batch size = 32\n",
      "Saving model checkpoint to koelectra-base-v3-finetuned-korquad-finetuned-squad/checkpoint-11500\n",
      "Configuration saved in koelectra-base-v3-finetuned-korquad-finetuned-squad/checkpoint-11500/config.json\n",
      "Model weights saved in koelectra-base-v3-finetuned-korquad-finetuned-squad/checkpoint-11500/pytorch_model.bin\n",
      "tokenizer config file saved in koelectra-base-v3-finetuned-korquad-finetuned-squad/checkpoint-11500/tokenizer_config.json\n",
      "Special tokens file saved in koelectra-base-v3-finetuned-korquad-finetuned-squad/checkpoint-11500/special_tokens_map.json\n",
      "/home/kotech/venv-trans/lib/python3.8/site-packages/torch/nn/parallel/_functions.py:65: UserWarning: Was asked to gather along dimension 0, but all input tensors were scalars; will instead unsqueeze and return a vector.\n",
      "  warnings.warn('Was asked to gather along dimension 0, but all '\n",
      "***** Running Evaluation *****\n",
      "  Num examples = 2762\n",
      "  Batch size = 32\n",
      "Saving model checkpoint to koelectra-base-v3-finetuned-korquad-finetuned-squad/checkpoint-12000\n",
      "Configuration saved in koelectra-base-v3-finetuned-korquad-finetuned-squad/checkpoint-12000/config.json\n",
      "Model weights saved in koelectra-base-v3-finetuned-korquad-finetuned-squad/checkpoint-12000/pytorch_model.bin\n",
      "tokenizer config file saved in koelectra-base-v3-finetuned-korquad-finetuned-squad/checkpoint-12000/tokenizer_config.json\n",
      "Special tokens file saved in koelectra-base-v3-finetuned-korquad-finetuned-squad/checkpoint-12000/special_tokens_map.json\n",
      "/home/kotech/venv-trans/lib/python3.8/site-packages/torch/nn/parallel/_functions.py:65: UserWarning: Was asked to gather along dimension 0, but all input tensors were scalars; will instead unsqueeze and return a vector.\n",
      "  warnings.warn('Was asked to gather along dimension 0, but all '\n",
      "Saving model checkpoint to koelectra-base-v3-finetuned-korquad-finetuned-squad/checkpoint-12500\n",
      "Configuration saved in koelectra-base-v3-finetuned-korquad-finetuned-squad/checkpoint-12500/config.json\n",
      "Model weights saved in koelectra-base-v3-finetuned-korquad-finetuned-squad/checkpoint-12500/pytorch_model.bin\n",
      "tokenizer config file saved in koelectra-base-v3-finetuned-korquad-finetuned-squad/checkpoint-12500/tokenizer_config.json\n",
      "Special tokens file saved in koelectra-base-v3-finetuned-korquad-finetuned-squad/checkpoint-12500/special_tokens_map.json\n",
      "/home/kotech/venv-trans/lib/python3.8/site-packages/torch/nn/parallel/_functions.py:65: UserWarning: Was asked to gather along dimension 0, but all input tensors were scalars; will instead unsqueeze and return a vector.\n",
      "  warnings.warn('Was asked to gather along dimension 0, but all '\n",
      "***** Running Evaluation *****\n",
      "  Num examples = 2762\n",
      "  Batch size = 32\n",
      "Saving model checkpoint to koelectra-base-v3-finetuned-korquad-finetuned-squad/checkpoint-13000\n",
      "Configuration saved in koelectra-base-v3-finetuned-korquad-finetuned-squad/checkpoint-13000/config.json\n",
      "Model weights saved in koelectra-base-v3-finetuned-korquad-finetuned-squad/checkpoint-13000/pytorch_model.bin\n",
      "tokenizer config file saved in koelectra-base-v3-finetuned-korquad-finetuned-squad/checkpoint-13000/tokenizer_config.json\n",
      "Special tokens file saved in koelectra-base-v3-finetuned-korquad-finetuned-squad/checkpoint-13000/special_tokens_map.json\n",
      "/home/kotech/venv-trans/lib/python3.8/site-packages/torch/nn/parallel/_functions.py:65: UserWarning: Was asked to gather along dimension 0, but all input tensors were scalars; will instead unsqueeze and return a vector.\n",
      "  warnings.warn('Was asked to gather along dimension 0, but all '\n",
      "***** Running Evaluation *****\n",
      "  Num examples = 2762\n",
      "  Batch size = 32\n",
      "Saving model checkpoint to koelectra-base-v3-finetuned-korquad-finetuned-squad/checkpoint-13500\n",
      "Configuration saved in koelectra-base-v3-finetuned-korquad-finetuned-squad/checkpoint-13500/config.json\n",
      "Model weights saved in koelectra-base-v3-finetuned-korquad-finetuned-squad/checkpoint-13500/pytorch_model.bin\n",
      "tokenizer config file saved in koelectra-base-v3-finetuned-korquad-finetuned-squad/checkpoint-13500/tokenizer_config.json\n",
      "Special tokens file saved in koelectra-base-v3-finetuned-korquad-finetuned-squad/checkpoint-13500/special_tokens_map.json\n",
      "/home/kotech/venv-trans/lib/python3.8/site-packages/torch/nn/parallel/_functions.py:65: UserWarning: Was asked to gather along dimension 0, but all input tensors were scalars; will instead unsqueeze and return a vector.\n",
      "  warnings.warn('Was asked to gather along dimension 0, but all '\n",
      "Saving model checkpoint to koelectra-base-v3-finetuned-korquad-finetuned-squad/checkpoint-14000\n",
      "Configuration saved in koelectra-base-v3-finetuned-korquad-finetuned-squad/checkpoint-14000/config.json\n",
      "Model weights saved in koelectra-base-v3-finetuned-korquad-finetuned-squad/checkpoint-14000/pytorch_model.bin\n",
      "tokenizer config file saved in koelectra-base-v3-finetuned-korquad-finetuned-squad/checkpoint-14000/tokenizer_config.json\n",
      "Special tokens file saved in koelectra-base-v3-finetuned-korquad-finetuned-squad/checkpoint-14000/special_tokens_map.json\n",
      "/home/kotech/venv-trans/lib/python3.8/site-packages/torch/nn/parallel/_functions.py:65: UserWarning: Was asked to gather along dimension 0, but all input tensors were scalars; will instead unsqueeze and return a vector.\n",
      "  warnings.warn('Was asked to gather along dimension 0, but all '\n",
      "***** Running Evaluation *****\n",
      "  Num examples = 2762\n",
      "  Batch size = 32\n",
      "Saving model checkpoint to koelectra-base-v3-finetuned-korquad-finetuned-squad/checkpoint-14500\n",
      "Configuration saved in koelectra-base-v3-finetuned-korquad-finetuned-squad/checkpoint-14500/config.json\n",
      "Model weights saved in koelectra-base-v3-finetuned-korquad-finetuned-squad/checkpoint-14500/pytorch_model.bin\n"
     ]
    },
    {
     "name": "stderr",
     "output_type": "stream",
     "text": [
      "tokenizer config file saved in koelectra-base-v3-finetuned-korquad-finetuned-squad/checkpoint-14500/tokenizer_config.json\n",
      "Special tokens file saved in koelectra-base-v3-finetuned-korquad-finetuned-squad/checkpoint-14500/special_tokens_map.json\n",
      "/home/kotech/venv-trans/lib/python3.8/site-packages/torch/nn/parallel/_functions.py:65: UserWarning: Was asked to gather along dimension 0, but all input tensors were scalars; will instead unsqueeze and return a vector.\n",
      "  warnings.warn('Was asked to gather along dimension 0, but all '\n",
      "Saving model checkpoint to koelectra-base-v3-finetuned-korquad-finetuned-squad/checkpoint-15000\n",
      "Configuration saved in koelectra-base-v3-finetuned-korquad-finetuned-squad/checkpoint-15000/config.json\n",
      "Model weights saved in koelectra-base-v3-finetuned-korquad-finetuned-squad/checkpoint-15000/pytorch_model.bin\n",
      "tokenizer config file saved in koelectra-base-v3-finetuned-korquad-finetuned-squad/checkpoint-15000/tokenizer_config.json\n",
      "Special tokens file saved in koelectra-base-v3-finetuned-korquad-finetuned-squad/checkpoint-15000/special_tokens_map.json\n",
      "/home/kotech/venv-trans/lib/python3.8/site-packages/torch/nn/parallel/_functions.py:65: UserWarning: Was asked to gather along dimension 0, but all input tensors were scalars; will instead unsqueeze and return a vector.\n",
      "  warnings.warn('Was asked to gather along dimension 0, but all '\n",
      "***** Running Evaluation *****\n",
      "  Num examples = 2762\n",
      "  Batch size = 32\n",
      "Saving model checkpoint to koelectra-base-v3-finetuned-korquad-finetuned-squad/checkpoint-15500\n",
      "Configuration saved in koelectra-base-v3-finetuned-korquad-finetuned-squad/checkpoint-15500/config.json\n",
      "Model weights saved in koelectra-base-v3-finetuned-korquad-finetuned-squad/checkpoint-15500/pytorch_model.bin\n",
      "tokenizer config file saved in koelectra-base-v3-finetuned-korquad-finetuned-squad/checkpoint-15500/tokenizer_config.json\n",
      "Special tokens file saved in koelectra-base-v3-finetuned-korquad-finetuned-squad/checkpoint-15500/special_tokens_map.json\n",
      "/home/kotech/venv-trans/lib/python3.8/site-packages/torch/nn/parallel/_functions.py:65: UserWarning: Was asked to gather along dimension 0, but all input tensors were scalars; will instead unsqueeze and return a vector.\n",
      "  warnings.warn('Was asked to gather along dimension 0, but all '\n",
      "***** Running Evaluation *****\n",
      "  Num examples = 2762\n",
      "  Batch size = 32\n",
      "\n",
      "\n",
      "Training completed. Do not forget to share your model on huggingface.co/models =)\n",
      "\n",
      "\n"
     ]
    },
    {
     "data": {
      "text/plain": [
       "TrainOutput(global_step=15800, training_loss=0.04760223518444013, metrics={'train_runtime': 8005.2872, 'train_samples_per_second': 63.113, 'train_steps_per_second': 1.974, 'total_flos': 1.3201757337329664e+17, 'train_loss': 0.04760223518444013, 'epoch': 20.0})"
      ]
     },
     "execution_count": 251,
     "metadata": {},
     "output_type": "execute_result"
    }
   ],
   "source": [
    "trainer.train()"
   ]
  },
  {
   "cell_type": "markdown",
   "metadata": {
    "id": "DI42iQhTzLqs"
   },
   "source": [
    "Since this training is particularly long, let's save the model just in case we need to restart."
   ]
  },
  {
   "cell_type": "code",
   "execution_count": 26,
   "metadata": {
    "id": "L-IvPzT2zLqs"
   },
   "outputs": [
    {
     "name": "stderr",
     "output_type": "stream",
     "text": [
      "Saving model checkpoint to test-kobigbird-base-trained\n",
      "Configuration saved in test-kobigbird-base-trained/config.json\n",
      "Model weights saved in test-kobigbird-base-trained/pytorch_model.bin\n",
      "tokenizer config file saved in test-kobigbird-base-trained/tokenizer_config.json\n",
      "Special tokens file saved in test-kobigbird-base-trained/special_tokens_map.json\n"
     ]
    }
   ],
   "source": [
    "trainer.save_model(\"test-kobigbird-base-trained\")"
   ]
  },
  {
   "cell_type": "code",
   "execution_count": 331,
   "metadata": {
    "id": "L-IvPzT2zLqs"
   },
   "outputs": [
    {
     "name": "stderr",
     "output_type": "stream",
     "text": [
      "Saving model checkpoint to test-kosquad-base-trained\n",
      "Configuration saved in test-kosquad-base-trained/config.json\n",
      "Model weights saved in test-kosquad-base-trained/pytorch_model.bin\n",
      "tokenizer config file saved in test-kosquad-base-trained/tokenizer_config.json\n",
      "Special tokens file saved in test-kosquad-base-trained/special_tokens_map.json\n"
     ]
    }
   ],
   "source": [
    "trainer.save_model(\"test-kosquad-base-trained\")"
   ]
  },
  {
   "cell_type": "markdown",
   "metadata": {
    "id": "tzr-PFsQzLqs"
   },
   "source": [
    "## Evaluation"
   ]
  },
  {
   "cell_type": "markdown",
   "metadata": {
    "id": "9HrqiHbdzLqt"
   },
   "source": [
    "Evaluating our model will require a bit more work, as we will need to map the predictions of our model back to parts of the context. The model itself predicts logits for the start and en position of our answers: if we take a batch from our validation datalaoder, here is the output our model gives us:"
   ]
  },
  {
   "cell_type": "code",
   "execution_count": 252,
   "metadata": {
    "id": "KfWxMJ0kzLqt",
    "outputId": "343f5ab4-3893-46f8-b662-62ff99801c4c"
   },
   "outputs": [
    {
     "data": {
      "text/plain": [
       "odict_keys(['loss', 'start_logits', 'end_logits'])"
      ]
     },
     "execution_count": 252,
     "metadata": {},
     "output_type": "execute_result"
    }
   ],
   "source": [
    "import torch\n",
    "\n",
    "for batch in trainer.get_eval_dataloader():\n",
    "    break\n",
    "batch = {k: v.to(trainer.args.device) for k, v in batch.items()}\n",
    "with torch.no_grad():\n",
    "    output = trainer.model(**batch)\n",
    "output.keys()"
   ]
  },
  {
   "cell_type": "markdown",
   "metadata": {
    "id": "heAU7PrfzLqt"
   },
   "source": [
    "The output of the model is a dict-like object that contains the loss (since we provided labels), the start and end logits. We won't need the loss for our predictions, let's have a look a the logits:"
   ]
  },
  {
   "cell_type": "code",
   "execution_count": 253,
   "metadata": {
    "id": "NC4WvnTCzLqt",
    "outputId": "698726b8-93e6-4901-e1ea-051d380a077e"
   },
   "outputs": [
    {
     "data": {
      "text/plain": [
       "(torch.Size([32, 512]), torch.Size([32, 512]))"
      ]
     },
     "execution_count": 253,
     "metadata": {},
     "output_type": "execute_result"
    }
   ],
   "source": [
    "output.start_logits.shape, output.end_logits.shape"
   ]
  },
  {
   "cell_type": "markdown",
   "metadata": {
    "id": "Broy6oYDzLqt"
   },
   "source": [
    "We have one logit for each feature and each token. The most obvious thing to predict an answer for each featyre is to take the index for the maximum of the start logits as a start position and the index of the maximum of the end logits as an end position."
   ]
  },
  {
   "cell_type": "code",
   "execution_count": 254,
   "metadata": {
    "id": "_7A7WBHezLqu",
    "outputId": "86d2671f-fd2d-43f0-d587-d7cc8142a4cc"
   },
   "outputs": [
    {
     "data": {
      "text/plain": [
       "(tensor([170, 134,  85,  73, 262,  97, 156,  65, 218, 185,  33, 190,  75,  32,\n",
       "         218, 196, 142,  92,  99, 295, 272,  96,  58, 197,  94,  40,  36, 139,\n",
       "          19, 134, 169,  47], device='cuda:0'),\n",
       " tensor([172, 137,  87,  73, 262,  99, 160,  65, 222, 187,  35, 193,  77,  37,\n",
       "         219, 203, 144,  94, 103, 296, 275,  97,  59, 201,  97,  40,  38, 140,\n",
       "          81, 135, 170,  50], device='cuda:0'))"
      ]
     },
     "execution_count": 254,
     "metadata": {},
     "output_type": "execute_result"
    }
   ],
   "source": [
    "output.start_logits.argmax(dim=-1), output.end_logits.argmax(dim=-1)"
   ]
  },
  {
   "cell_type": "markdown",
   "metadata": {
    "id": "galnsOllzLqu"
   },
   "source": [
    "This will work great in a lot of cases, but what if this prediction gives us something impossible: the start position could be greater than the end position, or point to a span of text in the question instead of the answer. In that case, we might want to look at the second best prediction to see if it gives a possible answer and select that instead.\n",
    "\n",
    "However, picking the second best answer is not as easy as picking the best one: is it the second best index in the start logits with the best index in the end logits? Or the best index in the start logits with the second best index in the end logits? And if that second best answer is not possible either, it gets even trickier for the third best answer.\n",
    "\n",
    "\n",
    "To classify our answers, we will use the score obtained by adding the start and end logits. We won't try to order all the possible answers and limit ourselves to with a hyper-parameter we call `n_best_size`. We'll pick the best indices in the start and end logits and gather all the answers this predicts. After checking if each one is valid, we will sort them by their score and keep the best one. Here is how we would do this on the first feature in the batch:"
   ]
  },
  {
   "cell_type": "code",
   "execution_count": 255,
   "metadata": {
    "id": "TjhB4_PVzLqu"
   },
   "outputs": [],
   "source": [
    "n_best_size = 20"
   ]
  },
  {
   "cell_type": "code",
   "execution_count": 256,
   "metadata": {
    "id": "AwD2zh6WzLqu"
   },
   "outputs": [],
   "source": [
    "import numpy as np\n",
    "\n",
    "start_logits = output.start_logits[0].cpu().numpy()\n",
    "end_logits = output.end_logits[0].cpu().numpy()\n",
    "# Gather the indices the best start/end logits:\n",
    "start_indexes = np.argsort(start_logits)[-1 : -n_best_size - 1 : -1].tolist()\n",
    "end_indexes = np.argsort(end_logits)[-1 : -n_best_size - 1 : -1].tolist()\n",
    "valid_answers = []\n",
    "for start_index in start_indexes:\n",
    "    for end_index in end_indexes:\n",
    "        if start_index <= end_index: # We need to refine that test to check the answer is inside the context\n",
    "            valid_answers.append(\n",
    "                {\n",
    "                    \"score\": start_logits[start_index] + end_logits[end_index],\n",
    "                    \"text\": \"\" # We need to find a way to get back the original substring corresponding to the answer in the context\n",
    "                }\n",
    "            )"
   ]
  },
  {
   "cell_type": "markdown",
   "metadata": {
    "id": "Fs16zCShzLqv"
   },
   "source": [
    "And then we can sort the `valid_answers` according to their `score` and only keep the best one. The only point left is how to check a given span is inside the context (and not the question) and how to get back the text inside. To do this, we need to add two things to our validation features:\n",
    "- the ID of the example that generated the feature (since each example can generate several features, as seen before);\n",
    "- the offset mapping that will give us a map from token indices to character positions in the context.\n",
    "\n",
    "That's why we will re-process the validation set with the following function, slightly different from `prepare_train_features`:"
   ]
  },
  {
   "cell_type": "code",
   "execution_count": 27,
   "metadata": {
    "id": "JeYUssZPzLqv"
   },
   "outputs": [],
   "source": [
    "def prepare_validation_features(examples):\n",
    "    # Some of the questions have lots of whitespace on the left, which is not useful and will make the\n",
    "    # truncation of the context fail (the tokenized question will take a lots of space). So we remove that\n",
    "    # left whitespace\n",
    "    examples[\"question\"] = [q.lstrip() for q in examples[\"question\"]]\n",
    "\n",
    "    # Tokenize our examples with truncation and maybe padding, but keep the overflows using a stride. This results\n",
    "    # in one example possible giving several features when a context is long, each of those features having a\n",
    "    # context that overlaps a bit the context of the previous feature.\n",
    "    tokenized_examples = tokenizer(\n",
    "        examples[\"question\" if pad_on_right else \"context\"],\n",
    "        examples[\"context\" if pad_on_right else \"question\"],\n",
    "        truncation=\"only_second\" if pad_on_right else \"only_first\",\n",
    "        max_length=max_length,\n",
    "        stride=doc_stride,\n",
    "        return_overflowing_tokens=True,\n",
    "        return_offsets_mapping=True,\n",
    "        padding=\"max_length\",\n",
    "    )\n",
    "\n",
    "    # Since one example might give us several features if it has a long context, we need a map from a feature to\n",
    "    # its corresponding example. This key gives us just that.\n",
    "    sample_mapping = tokenized_examples.pop(\"overflow_to_sample_mapping\")\n",
    "\n",
    "    # We keep the example_id that gave us this feature and we will store the offset mappings.\n",
    "    tokenized_examples[\"example_id\"] = []\n",
    "\n",
    "    for i in range(len(tokenized_examples[\"input_ids\"])):\n",
    "        # Grab the sequence corresponding to that example (to know what is the context and what is the question).\n",
    "        sequence_ids = tokenized_examples.sequence_ids(i)\n",
    "        context_index = 1 if pad_on_right else 0\n",
    "\n",
    "        # One example can give several spans, this is the index of the example containing this span of text.\n",
    "        sample_index = sample_mapping[i]\n",
    "        tokenized_examples[\"example_id\"].append(examples[\"id\"][sample_index])\n",
    "\n",
    "        # Set to None the offset_mapping that are not part of the context so it's easy to determine if a token\n",
    "        # position is part of the context or not.\n",
    "        tokenized_examples[\"offset_mapping\"][i] = [\n",
    "            (o if sequence_ids[k] == context_index else None)\n",
    "            for k, o in enumerate(tokenized_examples[\"offset_mapping\"][i])\n",
    "        ]\n",
    "\n",
    "    return tokenized_examples"
   ]
  },
  {
   "cell_type": "markdown",
   "metadata": {
    "id": "oT4rFEUSzLqv"
   },
   "source": [
    "And like before, we can apply that function to our validation set easily:"
   ]
  },
  {
   "cell_type": "code",
   "execution_count": 28,
   "metadata": {
    "id": "ateCeh_azLqv",
    "outputId": "88ab6c3e-d77e-415c-e424-0d147eaefb66"
   },
   "outputs": [
    {
     "data": {
      "application/vnd.jupyter.widget-view+json": {
       "model_id": "92617c09566d435f97388c1cb351a9cc",
       "version_major": 2,
       "version_minor": 0
      },
      "text/plain": [
       "  0%|          | 0/3 [00:00<?, ?ba/s]"
      ]
     },
     "metadata": {},
     "output_type": "display_data"
    }
   ],
   "source": [
    "validation_features = datasets[\"validation\"].map(\n",
    "    prepare_validation_features,\n",
    "    batched=True,\n",
    "    remove_columns=datasets[\"validation\"].column_names\n",
    ")"
   ]
  },
  {
   "cell_type": "markdown",
   "metadata": {
    "id": "qzw2BmwizLqw"
   },
   "source": [
    "Now we can grab the predictions for all features by using the `Trainer.predict` method:"
   ]
  },
  {
   "cell_type": "code",
   "execution_count": 29,
   "metadata": {
    "id": "oYSINCgtzLqx",
    "outputId": "c8434a45-a79e-4ecd-a349-478a27b4783b"
   },
   "outputs": [
    {
     "name": "stderr",
     "output_type": "stream",
     "text": [
      "The following columns in the test set don't have a corresponding argument in `BigBirdForQuestionAnswering.forward` and have been ignored: example_id, offset_mapping. If example_id, offset_mapping are not expected by `BigBirdForQuestionAnswering.forward`,  you can safely ignore this message.\n",
      "***** Running Prediction *****\n",
      "  Num examples = 2762\n",
      "  Batch size = 32\n"
     ]
    },
    {
     "data": {
      "text/html": [
       "\n",
       "    <div>\n",
       "      \n",
       "      <progress value='87' max='87' style='width:300px; height:20px; vertical-align: middle;'></progress>\n",
       "      [87/87 00:21]\n",
       "    </div>\n",
       "    "
      ],
      "text/plain": [
       "<IPython.core.display.HTML object>"
      ]
     },
     "metadata": {},
     "output_type": "display_data"
    }
   ],
   "source": [
    "raw_predictions = trainer.predict(validation_features)"
   ]
  },
  {
   "cell_type": "markdown",
   "metadata": {
    "id": "Iu3Wo7RtzLqy"
   },
   "source": [
    "The `Trainer` *hides* the columns that are not used by the model (here `example_id` and `offset_mapping` which we will need for our post-processing), so we set them back:"
   ]
  },
  {
   "cell_type": "code",
   "execution_count": 30,
   "metadata": {
    "id": "v4XjZj_-zLqz"
   },
   "outputs": [],
   "source": [
    "validation_features.set_format(type=validation_features.format[\"type\"], columns=list(validation_features.features.keys()))"
   ]
  },
  {
   "cell_type": "markdown",
   "metadata": {
    "id": "8WkPeCmDzLqz"
   },
   "source": [
    "We can now refine the test we had before: since we set `None` in the offset mappings when it corresponds to a part of the question, it's easy to check if an answer is fully inside the context. We also eliminate very long answers from our considerations (with an hyper-parameter we can tune)"
   ]
  },
  {
   "cell_type": "code",
   "execution_count": 31,
   "metadata": {
    "id": "sdp5R8VHzLqz"
   },
   "outputs": [],
   "source": [
    "max_answer_length = 30"
   ]
  },
  {
   "cell_type": "code",
   "execution_count": 32,
   "metadata": {
    "id": "FVujxDkazLqz",
    "outputId": "f733d533-574e-4328-9049-34a7421ccc54"
   },
   "outputs": [
    {
     "ename": "NameError",
     "evalue": "name 'output' is not defined",
     "output_type": "error",
     "traceback": [
      "\u001b[0;31m---------------------------------------------------------------------------\u001b[0m",
      "\u001b[0;31mNameError\u001b[0m                                 Traceback (most recent call last)",
      "Input \u001b[0;32mIn [32]\u001b[0m, in \u001b[0;36m<cell line: 1>\u001b[0;34m()\u001b[0m\n\u001b[0;32m----> 1\u001b[0m start_logits \u001b[38;5;241m=\u001b[39m \u001b[43moutput\u001b[49m\u001b[38;5;241m.\u001b[39mstart_logits[\u001b[38;5;241m0\u001b[39m]\u001b[38;5;241m.\u001b[39mcpu()\u001b[38;5;241m.\u001b[39mnumpy()\n\u001b[1;32m      2\u001b[0m end_logits \u001b[38;5;241m=\u001b[39m output\u001b[38;5;241m.\u001b[39mend_logits[\u001b[38;5;241m0\u001b[39m]\u001b[38;5;241m.\u001b[39mcpu()\u001b[38;5;241m.\u001b[39mnumpy()\n\u001b[1;32m      3\u001b[0m offset_mapping \u001b[38;5;241m=\u001b[39m validation_features[\u001b[38;5;241m0\u001b[39m][\u001b[38;5;124m\"\u001b[39m\u001b[38;5;124moffset_mapping\u001b[39m\u001b[38;5;124m\"\u001b[39m]\n",
      "\u001b[0;31mNameError\u001b[0m: name 'output' is not defined"
     ]
    }
   ],
   "source": [
    "start_logits = output.start_logits[0].cpu().numpy()\n",
    "end_logits = output.end_logits[0].cpu().numpy()\n",
    "offset_mapping = validation_features[0][\"offset_mapping\"]\n",
    "# The first feature comes from the first example. For the more general case, we will need to be match the example_id to\n",
    "# an example index\n",
    "context = datasets[\"validation\"][0][\"context\"]\n",
    "\n",
    "# Gather the indices the best start/end logits:\n",
    "start_indexes = np.argsort(start_logits)[-1 : -n_best_size - 1 : -1].tolist()\n",
    "end_indexes = np.argsort(end_logits)[-1 : -n_best_size - 1 : -1].tolist()\n",
    "valid_answers = []\n",
    "for start_index in start_indexes:\n",
    "    for end_index in end_indexes:\n",
    "        # Don't consider out-of-scope answers, either because the indices are out of bounds or correspond\n",
    "        # to part of the input_ids that are not in the context.\n",
    "        if (\n",
    "            start_index >= len(offset_mapping)\n",
    "            or end_index >= len(offset_mapping)\n",
    "            or offset_mapping[start_index] is None\n",
    "            or offset_mapping[end_index] is None\n",
    "        ):\n",
    "            continue\n",
    "        # Don't consider answers with a length that is either < 0 or > max_answer_length.\n",
    "        if end_index < start_index or end_index - start_index + 1 > max_answer_length:\n",
    "            continue\n",
    "        if start_index <= end_index: # We need to refine that test to check the answer is inside the context\n",
    "            start_char = offset_mapping[start_index][0]\n",
    "            end_char = offset_mapping[end_index][1]\n",
    "            valid_answers.append(\n",
    "                {\n",
    "                    \"score\": start_logits[start_index] + end_logits[end_index],\n",
    "                    \"text\": context[start_char: end_char]\n",
    "                }\n",
    "            )\n",
    "\n",
    "valid_answers = sorted(valid_answers, key=lambda x: x[\"score\"], reverse=True)[:n_best_size]\n",
    "valid_answers"
   ]
  },
  {
   "cell_type": "markdown",
   "metadata": {
    "id": "C58zXfVWzLqz"
   },
   "source": [
    "We can compare to the actual ground-truth answer:"
   ]
  },
  {
   "cell_type": "code",
   "execution_count": 325,
   "metadata": {
    "id": "FunLLbCwzLq0",
    "outputId": "e2fe2846-00c4-4146-a6b9-4baabf21e7b4"
   },
   "outputs": [
    {
     "data": {
      "text/plain": [
       "{'answer_start': [261], 'text': ['관치금융']}"
      ]
     },
     "execution_count": 325,
     "metadata": {},
     "output_type": "execute_result"
    }
   ],
   "source": [
    "datasets[\"validation\"][0][\"answers\"]"
   ]
  },
  {
   "cell_type": "markdown",
   "metadata": {
    "id": "N12lPIpqzLq0"
   },
   "source": [
    "Our model picked the right as the most likely answer!\n",
    "\n",
    "As we mentioned in the code above, this was easy on the first feature because we knew it comes from the first example. For the other features, we will need a map between examples and their corresponding features. Also, since one example can give several features, we will need to gather together all the answers in all the features generated by a given example, then pick the best one. The following code builds a map from example index to its corresponding features indices:"
   ]
  },
  {
   "cell_type": "code",
   "execution_count": 33,
   "metadata": {
    "id": "nA_bFTjPzLq0"
   },
   "outputs": [],
   "source": [
    "import collections\n",
    "\n",
    "examples = datasets[\"validation\"]\n",
    "features = validation_features\n",
    "\n",
    "example_id_to_index = {k: i for i, k in enumerate(examples[\"id\"])}\n",
    "features_per_example = collections.defaultdict(list)\n",
    "for i, feature in enumerate(features):\n",
    "    features_per_example[example_id_to_index[feature[\"example_id\"]]].append(i)"
   ]
  },
  {
   "cell_type": "markdown",
   "metadata": {
    "id": "r9-cwDcCzLq0"
   },
   "source": [
    "We're almost ready for our post-processing function. The last bit to deal with is the impossible answer (when `squad_v2 = True`). The code above only keeps answers that are inside the context, we need to also grab the score for the impossible answer (which has start and end indices corresponding to the index of the CLS token). When one example gives several features, we have to predict the impossible answer when all the features give a high score to the impossible answer (since one feature could predict the impossible answer just because the answer isn't in the part of the context it has access too), which is why the score of the impossible answer for one example is the *minimum* of the scores for the impossible answer in each feature generated by the example.\n",
    "\n",
    "We then predict the impossible answer when that score is greater than the score of the best non-impossible answer. All combined together, this gives us this post-processing function:"
   ]
  },
  {
   "cell_type": "code",
   "execution_count": 34,
   "metadata": {
    "id": "BFtuppkNzLq1"
   },
   "outputs": [],
   "source": [
    "from tqdm.auto import tqdm\n",
    "\n",
    "def postprocess_qa_predictions(examples, features, raw_predictions, n_best_size = 20, max_answer_length = 30):\n",
    "    all_start_logits, all_end_logits = raw_predictions\n",
    "    # Build a map example to its corresponding features.\n",
    "    example_id_to_index = {k: i for i, k in enumerate(examples[\"id\"])}\n",
    "    features_per_example = collections.defaultdict(list)\n",
    "    for i, feature in enumerate(features):\n",
    "        features_per_example[example_id_to_index[feature[\"example_id\"]]].append(i)\n",
    "\n",
    "    # The dictionaries we have to fill.\n",
    "    predictions = collections.OrderedDict()\n",
    "\n",
    "    # Logging.\n",
    "    print(f\"Post-processing {len(examples)} example predictions split into {len(features)} features.\")\n",
    "\n",
    "    # Let's loop over all the examples!\n",
    "    for example_index, example in enumerate(tqdm(examples)):\n",
    "        # Those are the indices of the features associated to the current example.\n",
    "        feature_indices = features_per_example[example_index]\n",
    "\n",
    "        min_null_score = None # Only used if squad_v2 is True.\n",
    "        valid_answers = []\n",
    "        \n",
    "        context = example[\"context\"]\n",
    "        # Looping through all the features associated to the current example.\n",
    "        for feature_index in feature_indices:\n",
    "            # We grab the predictions of the model for this feature.\n",
    "            start_logits = all_start_logits[feature_index]\n",
    "            end_logits = all_end_logits[feature_index]\n",
    "            # This is what will allow us to map some the positions in our logits to span of texts in the original\n",
    "            # context.\n",
    "            offset_mapping = features[feature_index][\"offset_mapping\"]\n",
    "\n",
    "            # Update minimum null prediction.\n",
    "            cls_index = features[feature_index][\"input_ids\"].index(tokenizer.cls_token_id)\n",
    "            feature_null_score = start_logits[cls_index] + end_logits[cls_index]\n",
    "            if min_null_score is None or min_null_score < feature_null_score:\n",
    "                min_null_score = feature_null_score\n",
    "\n",
    "            # Go through all possibilities for the `n_best_size` greater start and end logits.\n",
    "            start_indexes = np.argsort(start_logits)[-1 : -n_best_size - 1 : -1].tolist()\n",
    "            end_indexes = np.argsort(end_logits)[-1 : -n_best_size - 1 : -1].tolist()\n",
    "            for start_index in start_indexes:\n",
    "                for end_index in end_indexes:\n",
    "                    # Don't consider out-of-scope answers, either because the indices are out of bounds or correspond\n",
    "                    # to part of the input_ids that are not in the context.\n",
    "                    if (\n",
    "                        start_index >= len(offset_mapping)\n",
    "                        or end_index >= len(offset_mapping)\n",
    "                        or offset_mapping[start_index] is None\n",
    "                        or offset_mapping[end_index] is None\n",
    "                    ):\n",
    "                        continue\n",
    "                    # Don't consider answers with a length that is either < 0 or > max_answer_length.\n",
    "                    if end_index < start_index or end_index - start_index + 1 > max_answer_length:\n",
    "                        continue\n",
    "\n",
    "                    start_char = offset_mapping[start_index][0]\n",
    "                    end_char = offset_mapping[end_index][1]\n",
    "                    valid_answers.append(\n",
    "                        {\n",
    "                            \"score\": start_logits[start_index] + end_logits[end_index],\n",
    "                            \"text\": context[start_char: end_char]\n",
    "                        }\n",
    "                    )\n",
    "        \n",
    "        if len(valid_answers) > 0:\n",
    "            best_answer = sorted(valid_answers, key=lambda x: x[\"score\"], reverse=True)[0]\n",
    "        else:\n",
    "            # In the very rare edge case we have not a single non-null prediction, we create a fake prediction to avoid\n",
    "            # failure.\n",
    "            best_answer = {\"text\": \"\", \"score\": 0.0}\n",
    "        \n",
    "        # Let's pick our final answer: the best one or the null answer (only for squad_v2)\n",
    "        if not squad_v2:\n",
    "            predictions[example[\"id\"]] = best_answer[\"text\"]\n",
    "        else:\n",
    "            answer = best_answer[\"text\"] if best_answer[\"score\"] > min_null_score else \"\"\n",
    "            predictions[example[\"id\"]] = answer\n",
    "\n",
    "    return predictions"
   ]
  },
  {
   "cell_type": "markdown",
   "metadata": {
    "id": "pkSI_wHwzLq1"
   },
   "source": [
    "And we can apply our post-processing function to our raw predictions:"
   ]
  },
  {
   "cell_type": "code",
   "execution_count": 35,
   "metadata": {
    "id": "vd0RztyBzLq1",
    "outputId": "cf8f5d56-ea3c-4876-acdf-62643f0c0a40"
   },
   "outputs": [
    {
     "name": "stdout",
     "output_type": "stream",
     "text": [
      "Post-processing 2762 example predictions split into 2762 features.\n"
     ]
    },
    {
     "data": {
      "application/vnd.jupyter.widget-view+json": {
       "model_id": "a91abefbd94f42df84621563c6e602ff",
       "version_major": 2,
       "version_minor": 0
      },
      "text/plain": [
       "  0%|          | 0/2762 [00:00<?, ?it/s]"
      ]
     },
     "metadata": {},
     "output_type": "display_data"
    }
   ],
   "source": [
    "final_predictions = postprocess_qa_predictions(datasets[\"validation\"], validation_features, raw_predictions.predictions)"
   ]
  },
  {
   "cell_type": "markdown",
   "metadata": {
    "id": "k1EgoZYNzLq2"
   },
   "source": [
    "Then we can load the metric from the datasets library."
   ]
  },
  {
   "cell_type": "code",
   "execution_count": 36,
   "metadata": {
    "id": "B79o2VGgzLq2"
   },
   "outputs": [],
   "source": [
    "metric = load_metric(\"squad_v2\" if squad_v2 else \"squad\")"
   ]
  },
  {
   "cell_type": "markdown",
   "metadata": {
    "id": "pF0k5qRazLq2"
   },
   "source": [
    "Then we can call compute on it. We just need to format predictions and labels a bit as it expects a list of dictionaries and not one big dictionary. In the case of squad_v2, we also have to set a `no_answer_probability` argument (which we set to 0.0 here as we have already set the answer to empty if we picked it)."
   ]
  },
  {
   "cell_type": "code",
   "execution_count": 346,
   "metadata": {},
   "outputs": [
    {
     "ename": "AttributeError",
     "evalue": "'Trainer' object has no attribute 'from_trained'",
     "output_type": "error",
     "traceback": [
      "\u001b[0;31m---------------------------------------------------------------------------\u001b[0m",
      "\u001b[0;31mAttributeError\u001b[0m                            Traceback (most recent call last)",
      "Input \u001b[0;32mIn [346]\u001b[0m, in \u001b[0;36m<cell line: 1>\u001b[0;34m()\u001b[0m\n\u001b[0;32m----> 1\u001b[0m \u001b[43mtrainer\u001b[49m\u001b[38;5;241;43m.\u001b[39;49m\u001b[43mfrom_trained\u001b[49m(\u001b[38;5;124m\"\u001b[39m\u001b[38;5;124mkoelectra-base-v3-finetuned-korquad-finetuned-squad/checkpoint-10000\u001b[39m\u001b[38;5;124m\"\u001b[39m)\n",
      "\u001b[0;31mAttributeError\u001b[0m: 'Trainer' object has no attribute 'from_trained'"
     ]
    }
   ],
   "source": [
    "trainer.train(\"koelectra-base-v3-finetuned-korquad-finetuned-squad/checkpoint-10000\")"
   ]
  },
  {
   "cell_type": "markdown",
   "metadata": {},
   "source": [
    "epoch 23: em:85.26, f1:90.06"
   ]
  },
  {
   "cell_type": "code",
   "execution_count": 37,
   "metadata": {
    "id": "8Gn3ErO8zLq2",
    "outputId": "b572667d-2c28-4dbf-a0e5-98db2f95a6dd"
   },
   "outputs": [
    {
     "data": {
      "text/plain": [
       "{'exact_match': 85.40912382331643, 'f1': 90.2480374239969}"
      ]
     },
     "execution_count": 37,
     "metadata": {},
     "output_type": "execute_result"
    }
   ],
   "source": [
    "if squad_v2:\n",
    "    formatted_predictions = [{\"id\": k, \"prediction_text\": v, \"no_answer_probability\": 0.0} for k, v in final_predictions.items()]\n",
    "else:\n",
    "    formatted_predictions = [{\"id\": k, \"prediction_text\": v} for k, v in final_predictions.items()]\n",
    "references = [{\"id\": ex[\"id\"], \"answers\": ex[\"answers\"]} for ex in datasets[\"validation\"]]\n",
    "metric.compute(predictions=formatted_predictions, references=references)"
   ]
  },
  {
   "cell_type": "markdown",
   "metadata": {
    "id": "B2XG16cMzLq2"
   },
   "source": [
    "You can now upload the result of the training to the Hub, just execute this instruction:"
   ]
  },
  {
   "cell_type": "code",
   "execution_count": null,
   "metadata": {
    "id": "JnoMi4-VzLq2"
   },
   "outputs": [],
   "source": [
    "trainer.push_to_hub()"
   ]
  },
  {
   "cell_type": "markdown",
   "metadata": {
    "id": "wxKq6fKUzLq3"
   },
   "source": [
    "You can now share this model with all your friends, family, favorite pets: they can all load it with the identifier `\"your-username/the-name-you-picked\"` so for instance:\n",
    "\n",
    "```python\n",
    "from transformers import AutoModelForQuestionAnswering\n",
    "\n",
    "model = AutoModelForQuestionAnswering.from_pretrained(\"sgugger/my-awesome-model\")\n",
    "```"
   ]
  },
  {
   "cell_type": "code",
   "execution_count": null,
   "metadata": {
    "id": "Yj_mYZiCzLq3"
   },
   "outputs": [],
   "source": []
  }
 ],
 "metadata": {
  "colab": {
   "name": "Question Answering on SQUAD",
   "provenance": []
  },
  "kernelspec": {
   "display_name": "Python 3 (ipykernel)",
   "language": "python",
   "name": "python3"
  },
  "language_info": {
   "codemirror_mode": {
    "name": "ipython",
    "version": 3
   },
   "file_extension": ".py",
   "mimetype": "text/x-python",
   "name": "python",
   "nbconvert_exporter": "python",
   "pygments_lexer": "ipython3",
   "version": "3.8.10"
  }
 },
 "nbformat": 4,
 "nbformat_minor": 1
}
