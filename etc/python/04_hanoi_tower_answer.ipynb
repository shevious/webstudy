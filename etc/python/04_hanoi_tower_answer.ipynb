{
 "cells": [
  {
   "cell_type": "markdown",
   "id": "7794f16f-ed38-4eb3-9a30-24cf7fcec49f",
   "metadata": {},
   "source": [
    "https://vidkidz.tistory.com/649"
   ]
  },
  {
   "cell_type": "markdown",
   "id": "200e00d9-e216-40b9-a0dc-3f827afabe30",
   "metadata": {},
   "source": [
    "다음 출력을 하는 solve_hanoi 함수를 만드시오\n",
    "```\n",
    "def solve_hanoi(n, start=1, end=2):\n",
    "    # 여기에 코드 작성\n",
    "\n",
    "solve_hanoi(1, start=1, end=2)\n",
    "move 1 to 2\n",
    "\n",
    "solve_hanoi(2, start=1, end=3)\n",
    "move 1 to 2\n",
    "move 1 to 3\n",
    "move 2 to 3\n",
    "\n",
    "solve_hanoi(3)\n",
    "move 1 to 2\n",
    "move 1 to 3\n",
    "move 2 to 3\n",
    "move 1 to 2\n",
    "move 3 to 1\n",
    "move 3 to 2\n",
    "move 1 to 2\n",
    "```"
   ]
  },
  {
   "cell_type": "code",
   "execution_count": 40,
   "id": "dffa25ed-7b31-4e8c-958e-1c8256ad0a92",
   "metadata": {},
   "outputs": [],
   "source": [
    "cnt = 0\n",
    "def solve_hanoi(n, start=1, end=2):\n",
    "    buffer = 3 - (start-1 + end-1)+1\n",
    "    if n == 0:\n",
    "        return\n",
    "    else:\n",
    "        solve_hanoi(n-1, start, buffer)\n",
    "        print(f'move {start} to {end}')\n",
    "        global cnt\n",
    "        cnt += 1\n",
    "        solve_hanoi(n-1, buffer, end)"
   ]
  },
  {
   "cell_type": "code",
   "execution_count": 44,
   "id": "2d9e7ad9-5084-46e2-b58e-c769c64ec5c8",
   "metadata": {},
   "outputs": [
    {
     "name": "stdout",
     "output_type": "stream",
     "text": [
      "move 1 to 2\n"
     ]
    }
   ],
   "source": [
    "solve_hanoi(1, start=1, end=2)"
   ]
  },
  {
   "cell_type": "code",
   "execution_count": 47,
   "id": "961224b6-0ff8-4a30-a14b-b857a7122afa",
   "metadata": {},
   "outputs": [
    {
     "name": "stdout",
     "output_type": "stream",
     "text": [
      "move 1 to 2\n",
      "move 1 to 3\n",
      "move 2 to 3\n"
     ]
    }
   ],
   "source": [
    "solve_hanoi(2, start=1, end=3)"
   ]
  },
  {
   "cell_type": "code",
   "execution_count": 43,
   "id": "71129b94-2962-4832-b635-c742bf564953",
   "metadata": {},
   "outputs": [
    {
     "name": "stdout",
     "output_type": "stream",
     "text": [
      "move 1 to 2\n",
      "move 1 to 3\n",
      "move 2 to 3\n",
      "move 1 to 2\n",
      "move 3 to 1\n",
      "move 3 to 2\n",
      "move 1 to 2\n"
     ]
    }
   ],
   "source": [
    "solve_hanoi(3)"
   ]
  },
  {
   "cell_type": "code",
   "execution_count": null,
   "id": "75694f30-76e5-4a77-9f49-05271b958bf9",
   "metadata": {},
   "outputs": [],
   "source": []
  }
 ],
 "metadata": {
  "kernelspec": {
   "display_name": "Python 3 (ipykernel)",
   "language": "python",
   "name": "python3"
  },
  "language_info": {
   "codemirror_mode": {
    "name": "ipython",
    "version": 3
   },
   "file_extension": ".py",
   "mimetype": "text/x-python",
   "name": "python",
   "nbconvert_exporter": "python",
   "pygments_lexer": "ipython3",
   "version": "3.11.5"
  }
 },
 "nbformat": 4,
 "nbformat_minor": 5
}
