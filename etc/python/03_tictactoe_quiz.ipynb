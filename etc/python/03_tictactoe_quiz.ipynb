{
 "cells": [
  {
   "cell_type": "markdown",
   "id": "170656b7-e5c0-45f4-a584-83e46a9b747c",
   "metadata": {},
   "source": [
    "1. 첫번째로는 다음의 보드를 출력한다.\n",
    "```\n",
    " | |\n",
    "_____\n",
    " | |\n",
    "_____\n",
    " | | \n",
    "```\n",
    "\n",
    "2. Person 1이 둘 자리를 입력받는다.\n",
    "```\n",
    "Person 1: 1,1\n",
    "```\n",
    "\n",
    "3. 입력이 끝나면 입력된 위치에 표시하고 출력한다.\n",
    "\n",
    "```\n",
    " | |\n",
    "_____\n",
    " |O|\n",
    "_____\n",
    " | | \n",
    "```\n",
    "\n",
    "4. 다음 사람 입력을 받는다.\n",
    "```\n",
    "Person 2: 0,0\n",
    "X| |\n",
    "_____\n",
    " |O|\n",
    "_____\n",
    " | | \n",
    "```\n",
    "5. 이 과정이 끝나고, 어느 단계든지 승자가 끝나면 승자를 출력하고 종료한다.\n",
    "```\n",
    "Person 2 wins!\n",
    "```\n",
    "6. 보드를 다 채우고도 무승부이면 결과를 표기하고 종료한다.\n",
    "```\n",
    "Draw!!\n",
    "```\n"
   ]
  },
  {
   "cell_type": "code",
   "execution_count": null,
   "id": "4c4b8e3d-abae-4ba0-84e6-440b82492749",
   "metadata": {},
   "outputs": [],
   "source": []
  }
 ],
 "metadata": {
  "kernelspec": {
   "display_name": "Python 3 (ipykernel)",
   "language": "python",
   "name": "python3"
  },
  "language_info": {
   "codemirror_mode": {
    "name": "ipython",
    "version": 3
   },
   "file_extension": ".py",
   "mimetype": "text/x-python",
   "name": "python",
   "nbconvert_exporter": "python",
   "pygments_lexer": "ipython3",
   "version": "3.11.5"
  }
 },
 "nbformat": 4,
 "nbformat_minor": 5
}
