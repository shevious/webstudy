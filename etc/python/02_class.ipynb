{
 "cells": [
  {
   "cell_type": "markdown",
   "id": "554b4fa6-2650-4335-8057-d6477b8973bb",
   "metadata": {},
   "source": [
    "https://blog.hexabrain.net/287"
   ]
  },
  {
   "cell_type": "code",
   "execution_count": 2,
   "id": "f202f228-12fc-4675-a72b-ff08108ee98c",
   "metadata": {},
   "outputs": [
    {
     "name": "stdout",
     "output_type": "stream",
     "text": [
      "<__main__.MyNum object at 0x7f47c40fa390>\n",
      "3\n"
     ]
    }
   ],
   "source": [
    "class MyNum:\n",
    "    def __init__(self, n):\n",
    "        self.n = n\n",
    "\n",
    "m = MyNum(3)\n",
    "print(m)\n",
    "print(m.n)"
   ]
  },
  {
   "cell_type": "code",
   "execution_count": 5,
   "id": "35a11b6c-a1e7-459c-ae5a-1660fa64fc88",
   "metadata": {},
   "outputs": [
    {
     "name": "stdout",
     "output_type": "stream",
     "text": [
      "0\n"
     ]
    },
    {
     "ename": "TypeError",
     "evalue": "MyNum.__init__() takes 1 positional argument but 2 were given",
     "output_type": "error",
     "traceback": [
      "\u001b[0;31m---------------------------------------------------------------------------\u001b[0m",
      "\u001b[0;31mTypeError\u001b[0m                                 Traceback (most recent call last)",
      "Cell \u001b[0;32mIn[5], line 7\u001b[0m\n\u001b[1;32m      5\u001b[0m m \u001b[38;5;241m=\u001b[39m MyNum()\n\u001b[1;32m      6\u001b[0m \u001b[38;5;28mprint\u001b[39m(m\u001b[38;5;241m.\u001b[39mn)\n\u001b[0;32m----> 7\u001b[0m m \u001b[38;5;241m=\u001b[39m \u001b[43mMyNum\u001b[49m\u001b[43m(\u001b[49m\u001b[38;5;241;43m3\u001b[39;49m\u001b[43m)\u001b[49m\n\u001b[1;32m      8\u001b[0m \u001b[38;5;28mprint\u001b[39m(m\u001b[38;5;241m.\u001b[39mn)\n",
      "\u001b[0;31mTypeError\u001b[0m: MyNum.__init__() takes 1 positional argument but 2 were given"
     ]
    }
   ],
   "source": [
    "class MyNum:\n",
    "    def __init__(self):\n",
    "        self.n = 0\n",
    "\n",
    "m = MyNum()\n",
    "print(m.n)\n",
    "m = MyNum(3)\n",
    "print(m.n)"
   ]
  },
  {
   "cell_type": "markdown",
   "id": "a9819904-70bc-4b8b-b239-2778bcf87c75",
   "metadata": {},
   "source": [
    "Multiple different arguments  \n",
    "https://www.geeksforgeeks.org/creating-multiple-constructors-python-class/  \n",
    "https://realpython.com/python-multiple-constructors/"
   ]
  },
  {
   "cell_type": "code",
   "execution_count": null,
   "id": "b6b8619c-10ee-4f2e-870c-9e8c5de6dc9d",
   "metadata": {},
   "outputs": [],
   "source": []
  },
  {
   "cell_type": "code",
   "execution_count": 6,
   "id": "346403fc-ed84-44aa-9282-6d5ff9ad3d58",
   "metadata": {},
   "outputs": [
    {
     "name": "stdout",
     "output_type": "stream",
     "text": [
      "()\n",
      "0\n",
      "(3,)\n",
      "3\n"
     ]
    }
   ],
   "source": [
    "class MyNum:\n",
    "    def __init__(self, *args):\n",
    "        print(args)\n",
    "        if len(args)==0:\n",
    "            self.n = 0\n",
    "        else:\n",
    "            self.n = args[0]\n",
    "\n",
    "m = MyNum()\n",
    "print(m.n)\n",
    "m = MyNum(3)\n",
    "print(m.n)"
   ]
  },
  {
   "cell_type": "code",
   "execution_count": null,
   "id": "c32975a2-4cf9-41dd-a367-9637be071d7e",
   "metadata": {},
   "outputs": [],
   "source": []
  }
 ],
 "metadata": {
  "kernelspec": {
   "display_name": "Python 3 (ipykernel)",
   "language": "python",
   "name": "python3"
  },
  "language_info": {
   "codemirror_mode": {
    "name": "ipython",
    "version": 3
   },
   "file_extension": ".py",
   "mimetype": "text/x-python",
   "name": "python",
   "nbconvert_exporter": "python",
   "pygments_lexer": "ipython3",
   "version": "3.11.5"
  }
 },
 "nbformat": 4,
 "nbformat_minor": 5
}
