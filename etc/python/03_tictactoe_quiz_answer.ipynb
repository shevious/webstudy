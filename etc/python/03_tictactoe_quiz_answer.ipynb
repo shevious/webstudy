{
 "cells": [
  {
   "cell_type": "code",
   "execution_count": null,
   "id": "7fcf4cf9-7dd5-40c3-b832-d88b84440a35",
   "metadata": {},
   "outputs": [],
   "source": []
  },
  {
   "cell_type": "code",
   "execution_count": 29,
   "id": "13c131bb-0788-450d-b7e7-78eb247693d1",
   "metadata": {},
   "outputs": [
    {
     "name": "stdout",
     "output_type": "stream",
     "text": [
      " | | \n",
      "-----\n",
      " | | \n",
      "-----\n",
      " | | \n",
      "\n"
     ]
    },
    {
     "name": "stdin",
     "output_type": "stream",
     "text": [
      "Person: 0,0\n"
     ]
    },
    {
     "name": "stdout",
     "output_type": "stream",
     "text": [
      "\n",
      "O| | \n",
      "-----\n",
      " | | \n",
      "-----\n",
      " | | \n",
      "\n"
     ]
    },
    {
     "name": "stdin",
     "output_type": "stream",
     "text": [
      "Person: 0,1\n"
     ]
    },
    {
     "name": "stdout",
     "output_type": "stream",
     "text": [
      "\n",
      "O| | \n",
      "-----\n",
      "X| | \n",
      "-----\n",
      " | | \n",
      "\n"
     ]
    },
    {
     "name": "stdin",
     "output_type": "stream",
     "text": [
      "Person: 1,0\n"
     ]
    },
    {
     "name": "stdout",
     "output_type": "stream",
     "text": [
      "\n",
      "O|O| \n",
      "-----\n",
      "X| | \n",
      "-----\n",
      " | | \n",
      "\n"
     ]
    },
    {
     "name": "stdin",
     "output_type": "stream",
     "text": [
      "Person: 1,1\n"
     ]
    },
    {
     "name": "stdout",
     "output_type": "stream",
     "text": [
      "\n",
      "O|O| \n",
      "-----\n",
      "X|X| \n",
      "-----\n",
      " | | \n",
      "\n"
     ]
    },
    {
     "name": "stdin",
     "output_type": "stream",
     "text": [
      "Person: 2,0\n"
     ]
    },
    {
     "name": "stdout",
     "output_type": "stream",
     "text": [
      "\n",
      "Person 1 wins!\n"
     ]
    }
   ],
   "source": [
    "board = [\n",
    "    [0, 0, 0],\n",
    "    [0, 0, 0],\n",
    "    [0, 0, 0],\n",
    "]\n",
    "\n",
    "def convert_to_char(data):\n",
    "    if data == 1:\n",
    "        return 'O'\n",
    "    elif data == -1:\n",
    "        return 'X'\n",
    "    else:\n",
    "        return ' '\n",
    "        \n",
    "def draw_board(board):\n",
    "    print(convert_to_char(board[0][0]) + '|' + convert_to_char(board[0][1]) + '|' + convert_to_char(board[0][2]))\n",
    "    print('-----')\n",
    "    print(convert_to_char(board[1][0]) + '|' + convert_to_char(board[1][1]) + '|' + convert_to_char(board[1][2]))\n",
    "    print('-----')\n",
    "    print(convert_to_char(board[2][0]) + '|' + convert_to_char(board[2][1]) + '|' + convert_to_char(board[2][2]))\n",
    "    print()\n",
    "\n",
    "check_list = []\n",
    "check_list += [ [ (i, j) for i in range(3) ] for j in range(3) ]\n",
    "check_list += [ [ (i, j) for j in range(3) ] for i in range(3) ]\n",
    "check_list += [ [ (i, i) for i in range(3) ] ]\n",
    "check_list += [ [ (i, 2-i) for i in range(3) ] ]\n",
    "#print(check)\n",
    "\n",
    "def check_board(board):\n",
    "    for check in check_list:\n",
    "        board_vals = [board[j][i] for i, j in check]\n",
    "        s = sum(board_vals)\n",
    "        if s == 3:\n",
    "            return 1\n",
    "        elif s == -3:\n",
    "            return -1\n",
    "    return 0\n",
    "            \n",
    "turn = 1\n",
    "cnt = 0\n",
    "ret = 0\n",
    "while (True):\n",
    "    draw_board(board)\n",
    "    if ret == 1:\n",
    "        print('Person 1 wins!')\n",
    "        break\n",
    "    elif ret == -1:\n",
    "        print('Person 2 wins!')\n",
    "        break\n",
    "    if cnt == 9:\n",
    "        print('Draw!!')\n",
    "        break\n",
    "    s = input('Person:').split(',')\n",
    "    x, y  = int(s[0]), int(s[1])\n",
    "    if board[y][x] == 0:\n",
    "        board[y][x] = turn\n",
    "        turn *= -1\n",
    "        cnt += 1\n",
    "    else:\n",
    "        print('invalid position')\n",
    "    print()\n",
    "    ret = check_board(board)\n"
   ]
  },
  {
   "cell_type": "code",
   "execution_count": null,
   "id": "5d6d2f00-de4c-478b-835e-66c23da429f7",
   "metadata": {},
   "outputs": [],
   "source": []
  }
 ],
 "metadata": {
  "kernelspec": {
   "display_name": "Python 3 (ipykernel)",
   "language": "python",
   "name": "python3"
  },
  "language_info": {
   "codemirror_mode": {
    "name": "ipython",
    "version": 3
   },
   "file_extension": ".py",
   "mimetype": "text/x-python",
   "name": "python",
   "nbconvert_exporter": "python",
   "pygments_lexer": "ipython3",
   "version": "3.11.5"
  }
 },
 "nbformat": 4,
 "nbformat_minor": 5
}
