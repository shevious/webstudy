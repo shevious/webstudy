{
 "cells": [
  {
   "cell_type": "markdown",
   "id": "bd46201c-3965-461e-8b8a-e4974419ee00",
   "metadata": {},
   "source": [
    "1,...,n 까지의 합계 구하기"
   ]
  },
  {
   "cell_type": "code",
   "execution_count": 1,
   "id": "f179f0e2-6dfd-4106-a509-a5fe79b7a480",
   "metadata": {},
   "outputs": [
    {
     "name": "stdout",
     "output_type": "stream",
     "text": [
      "5050\n"
     ]
    }
   ],
   "source": [
    "# simple sum\n",
    "def sum_v1(n):\n",
    "    s = 0\n",
    "    for i in range(1,n+1):\n",
    "        s += i\n",
    "    return s\n",
    "    \n",
    "print(sum_v1(100))"
   ]
  },
  {
   "cell_type": "code",
   "execution_count": 3,
   "id": "40fd1404-f6e4-493a-b695-79d3ad46d754",
   "metadata": {},
   "outputs": [
    {
     "name": "stdout",
     "output_type": "stream",
     "text": [
      "5050\n"
     ]
    }
   ],
   "source": [
    "def sum_v2(n):\n",
    "    return sum(i for i in range(1, (n+1)))\n",
    "\n",
    "print(sum_v2(100))"
   ]
  },
  {
   "cell_type": "markdown",
   "id": "a2bf2290-31f4-4c3e-b072-b7438a883a36",
   "metadata": {},
   "source": [
    "1,...,n 범위에서 3의 배수만의 합계 구하기"
   ]
  },
  {
   "cell_type": "code",
   "execution_count": 6,
   "id": "9bdfe290-4817-4440-b926-914bba781351",
   "metadata": {},
   "outputs": [
    {
     "name": "stdout",
     "output_type": "stream",
     "text": [
      "9\n"
     ]
    }
   ],
   "source": [
    "def sum_multiple_3(n):\n",
    "    return sum(i for i in range(1, (n+1)) if i%3==0)\n",
    "\n",
    "print(sum_multple_3(6))"
   ]
  },
  {
   "cell_type": "markdown",
   "id": "efb3d3fc-f721-43f4-9c61-4fbc1ce48878",
   "metadata": {},
   "source": [
    "recursion (재귀)"
   ]
  },
  {
   "cell_type": "code",
   "execution_count": 8,
   "id": "1ad878da-b996-4013-bb50-c48cfa0cd0e4",
   "metadata": {},
   "outputs": [
    {
     "name": "stdout",
     "output_type": "stream",
     "text": [
      "5050\n"
     ]
    }
   ],
   "source": [
    "def sum_v3(n):\n",
    "    if n == 1:\n",
    "        return 1\n",
    "    else:\n",
    "        return n + sum_v3(n-1)\n",
    "        \n",
    "print(sum_v3(100))"
   ]
  },
  {
   "cell_type": "code",
   "execution_count": 27,
   "id": "29fa0fe0-3126-48d9-bc74-c81a2b337c11",
   "metadata": {},
   "outputs": [
    {
     "name": "stdout",
     "output_type": "stream",
     "text": [
      "4420851\n"
     ]
    }
   ],
   "source": [
    "print(sum_v3(2973))"
   ]
  },
  {
   "cell_type": "code",
   "execution_count": 28,
   "id": "82f5d8b8-33c2-44bb-b546-97066278dea1",
   "metadata": {},
   "outputs": [
    {
     "ename": "RecursionError",
     "evalue": "maximum recursion depth exceeded",
     "output_type": "error",
     "traceback": [
      "\u001b[0;31m---------------------------------------------------------------------------\u001b[0m",
      "\u001b[0;31mRecursionError\u001b[0m                            Traceback (most recent call last)",
      "Cell \u001b[0;32mIn[28], line 1\u001b[0m\n\u001b[0;32m----> 1\u001b[0m \u001b[38;5;28mprint\u001b[39m(\u001b[43msum_v3\u001b[49m\u001b[43m(\u001b[49m\u001b[38;5;241;43m2974\u001b[39;49m\u001b[43m)\u001b[49m)\n",
      "Cell \u001b[0;32mIn[8], line 5\u001b[0m, in \u001b[0;36msum_v3\u001b[0;34m(n)\u001b[0m\n\u001b[1;32m      3\u001b[0m     \u001b[38;5;28;01mreturn\u001b[39;00m \u001b[38;5;241m1\u001b[39m\n\u001b[1;32m      4\u001b[0m \u001b[38;5;28;01melse\u001b[39;00m:\n\u001b[0;32m----> 5\u001b[0m     \u001b[38;5;28;01mreturn\u001b[39;00m n\u001b[38;5;241m+\u001b[39m\u001b[43msum_v3\u001b[49m\u001b[43m(\u001b[49m\u001b[43mn\u001b[49m\u001b[38;5;241;43m-\u001b[39;49m\u001b[38;5;241;43m1\u001b[39;49m\u001b[43m)\u001b[49m\n",
      "Cell \u001b[0;32mIn[8], line 5\u001b[0m, in \u001b[0;36msum_v3\u001b[0;34m(n)\u001b[0m\n\u001b[1;32m      3\u001b[0m     \u001b[38;5;28;01mreturn\u001b[39;00m \u001b[38;5;241m1\u001b[39m\n\u001b[1;32m      4\u001b[0m \u001b[38;5;28;01melse\u001b[39;00m:\n\u001b[0;32m----> 5\u001b[0m     \u001b[38;5;28;01mreturn\u001b[39;00m n\u001b[38;5;241m+\u001b[39m\u001b[43msum_v3\u001b[49m\u001b[43m(\u001b[49m\u001b[43mn\u001b[49m\u001b[38;5;241;43m-\u001b[39;49m\u001b[38;5;241;43m1\u001b[39;49m\u001b[43m)\u001b[49m\n",
      "    \u001b[0;31m[... skipping similar frames: sum_v3 at line 5 (2970 times)]\u001b[0m\n",
      "Cell \u001b[0;32mIn[8], line 5\u001b[0m, in \u001b[0;36msum_v3\u001b[0;34m(n)\u001b[0m\n\u001b[1;32m      3\u001b[0m     \u001b[38;5;28;01mreturn\u001b[39;00m \u001b[38;5;241m1\u001b[39m\n\u001b[1;32m      4\u001b[0m \u001b[38;5;28;01melse\u001b[39;00m:\n\u001b[0;32m----> 5\u001b[0m     \u001b[38;5;28;01mreturn\u001b[39;00m n\u001b[38;5;241m+\u001b[39m\u001b[43msum_v3\u001b[49m\u001b[43m(\u001b[49m\u001b[43mn\u001b[49m\u001b[38;5;241;43m-\u001b[39;49m\u001b[38;5;241;43m1\u001b[39;49m\u001b[43m)\u001b[49m\n",
      "\u001b[0;31mRecursionError\u001b[0m: maximum recursion depth exceeded"
     ]
    }
   ],
   "source": [
    "print(sum_v3(2974))"
   ]
  },
  {
   "cell_type": "markdown",
   "id": "eb93a65c-249c-4efc-b681-81291cca3196",
   "metadata": {},
   "source": [
    "가능한 많은 오류를 발생시켜보자"
   ]
  },
  {
   "cell_type": "code",
   "execution_count": null,
   "id": "5792b704-0b09-4fbb-ac61-87ad2a9e5d4a",
   "metadata": {},
   "outputs": [],
   "source": []
  }
 ],
 "metadata": {
  "kernelspec": {
   "display_name": "Python 3 (ipykernel)",
   "language": "python",
   "name": "python3"
  },
  "language_info": {
   "codemirror_mode": {
    "name": "ipython",
    "version": 3
   },
   "file_extension": ".py",
   "mimetype": "text/x-python",
   "name": "python",
   "nbconvert_exporter": "python",
   "pygments_lexer": "ipython3",
   "version": "3.11.5"
  }
 },
 "nbformat": 4,
 "nbformat_minor": 5
}
