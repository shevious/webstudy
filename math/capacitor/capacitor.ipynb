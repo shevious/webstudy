{
 "cells": [
  {
   "cell_type": "code",
   "execution_count": 3,
   "id": "248caeb1-28a4-4c4c-9b5d-89d984239054",
   "metadata": {},
   "outputs": [],
   "source": [
    "import sympy as sym\n",
    "from IPython.display import display\n",
    "sym.init_printing(use_latex='mathjax')"
   ]
  },
  {
   "cell_type": "code",
   "execution_count": 4,
   "id": "7792ab2f-2cf7-48c4-8aec-fea0dc8dbaf6",
   "metadata": {},
   "outputs": [
    {
     "data": {
      "text/latex": [
       "$\\displaystyle \\left[ \\left( - \\frac{1}{2} + \\frac{\\sqrt{3}}{2}, \\  c_{1} - \\frac{3 \\sqrt{3}}{2} + \\frac{3}{2}, \\  - c_{1} - \\frac{5}{2} + \\frac{5 \\sqrt{3}}{2}\\right), \\  \\left( - \\frac{\\sqrt{3}}{2} - \\frac{1}{2}, \\  c_{1} + \\frac{3}{2} + \\frac{3 \\sqrt{3}}{2}, \\  - c_{1} - \\frac{5 \\sqrt{3}}{2} - \\frac{5}{2}\\right)\\right]$"
      ],
      "text/plain": [
       "⎡⎛  1   √3       3⋅√3   3        5   5⋅√3⎞  ⎛  √3   1       3   3⋅√3        5⋅√3   5⎞⎤\n",
       "⎢⎜- ─ + ──, c₁ - ──── + ─, -c₁ - ─ + ────⎟, ⎜- ── - ─, c₁ + ─ + ────, -c₁ - ──── - ─⎟⎥\n",
       "⎣⎝  2   2         2     2        2    2  ⎠  ⎝  2    2       2    2           2     2⎠⎦"
      ]
     },
     "metadata": {},
     "output_type": "display_data"
    }
   ],
   "source": [
    "x,y,z = sym.symbols('x,y,z')\n",
    "c1 = sym.Symbol('c1')\n",
    "eq1 = sym.Eq(2*x**2+y+z,1)\n",
    "eq2 = sym.Eq(x+2*y+z,c1)\n",
    "eq3 = sym.Eq(-2*x+y,-z)\n",
    "result = sym.solve([eq1,eq2,eq3],(x,y,z))\n",
    "display(result)"
   ]
  },
  {
   "cell_type": "code",
   "execution_count": 1,
   "id": "0ef4b9a1-953e-42af-97c0-422f50c5635a",
   "metadata": {},
   "outputs": [
    {
     "data": {
      "text/latex": [
       "$\\displaystyle \\frac{- 10 c_{1} c_{2} e - 10 c_{1} + 4 c_{2} e + 4 c_{2} + 4}{c_{1} c_{2} e^{2} + 2 c_{1} c_{2} e + c_{1} e + c_{1} + c_{2} e + c_{2} + 1}$"
      ],
      "text/plain": [
       "    -10⋅c₁⋅c₂⋅e - 10⋅c₁ + 4⋅c₂⋅e + 4⋅c₂ + 4     \n",
       "────────────────────────────────────────────────\n",
       "       2                                        \n",
       "c₁⋅c₂⋅e  + 2⋅c₁⋅c₂⋅e + c₁⋅e + c₁ + c₂⋅e + c₂ + 1"
      ]
     },
     "metadata": {},
     "output_type": "display_data"
    },
    {
     "data": {
      "text/latex": [
       "$\\displaystyle \\frac{- 10 c_{1} c_{2} e - 14 c_{2}}{c_{1} c_{2} e^{2} + 2 c_{1} c_{2} e + c_{1} e + c_{1} + c_{2} e + c_{2} + 1}$"
      ],
      "text/plain": [
       "              -10⋅c₁⋅c₂⋅e - 14⋅c₂               \n",
       "────────────────────────────────────────────────\n",
       "       2                                        \n",
       "c₁⋅c₂⋅e  + 2⋅c₁⋅c₂⋅e + c₁⋅e + c₁ + c₂⋅e + c₂ + 1"
      ]
     },
     "metadata": {},
     "output_type": "display_data"
    }
   ],
   "source": [
    "import sympy as sym\n",
    "from IPython.display import display\n",
    "sym.init_printing(use_latex='mathjax')\n",
    "\n",
    "a,b,c,d,f = sym.symbols('a,b,c,d,f')\n",
    "c1 = sym.Symbol('c1')\n",
    "c2 = sym.Symbol('c2')\n",
    "e = sym.Symbol('e')\n",
    "eq1 = sym.Eq(a-c, 4)\n",
    "eq2 = sym.Eq(b-d, 0)\n",
    "eq3 = sym.Eq(f-a-b, 10)\n",
    "eq4 = sym.Eq(f/e+a+c/(e*c1), 0)\n",
    "eq5 = sym.Eq(f/e+b+d/(e*c2), 0)\n",
    "result = sym.solve([eq1,eq2,eq3,eq4,eq5],(a,b,c,d,f))\n",
    "#display(result)\n",
    "display(result[a])\n",
    "display(result[b])"
   ]
  },
  {
   "cell_type": "code",
   "execution_count": null,
   "id": "ba985067-b867-49d5-add9-9e5add7c4c99",
   "metadata": {},
   "outputs": [],
   "source": []
  }
 ],
 "metadata": {
  "kernelspec": {
   "display_name": "Python 3 (ipykernel)",
   "language": "python",
   "name": "python3"
  },
  "language_info": {
   "codemirror_mode": {
    "name": "ipython",
    "version": 3
   },
   "file_extension": ".py",
   "mimetype": "text/x-python",
   "name": "python",
   "nbconvert_exporter": "python",
   "pygments_lexer": "ipython3",
   "version": "3.8.13"
  }
 },
 "nbformat": 4,
 "nbformat_minor": 5
}
