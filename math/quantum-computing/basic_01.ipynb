{
 "cells": [
  {
   "cell_type": "code",
   "execution_count": 1,
   "id": "073a72c8",
   "metadata": {},
   "outputs": [
    {
     "name": "stdout",
     "output_type": "stream",
     "text": [
      "Collecting qiskit\n",
      "  Downloading qiskit-0.34.1.tar.gz (13 kB)\n",
      "  Preparing metadata (setup.py) ... \u001b[?25ldone\n",
      "\u001b[?25hCollecting qiskit-terra==0.19.1\n",
      "  Downloading qiskit_terra-0.19.1-cp38-cp38-manylinux2010_x86_64.whl (6.5 MB)\n",
      "     |████████████████████████████████| 6.5 MB 11.3 MB/s            \n",
      "\u001b[?25hCollecting qiskit-aer==0.10.2\n",
      "  Downloading qiskit_aer-0.10.2-cp38-cp38-manylinux_2_12_x86_64.manylinux2010_x86_64.whl (17.9 MB)\n",
      "     |████████████████████████████████| 17.9 MB 22.1 MB/s            \n",
      "\u001b[?25hCollecting qiskit-ibmq-provider==0.18.3\n",
      "  Downloading qiskit_ibmq_provider-0.18.3-py3-none-any.whl (238 kB)\n",
      "     |████████████████████████████████| 238 kB 22.5 MB/s            \n",
      "\u001b[?25hCollecting qiskit-ignis==0.7.0\n",
      "  Downloading qiskit_ignis-0.7.0-py3-none-any.whl (200 kB)\n",
      "     |████████████████████████████████| 200 kB 25.2 MB/s            \n",
      "\u001b[?25hCollecting numpy>=1.16.3\n",
      "  Downloading numpy-1.22.1-cp38-cp38-manylinux_2_17_x86_64.manylinux2014_x86_64.whl (16.8 MB)\n",
      "     |████████████████████████████████| 16.8 MB 25.9 MB/s            \n",
      "\u001b[?25hCollecting scipy>=1.0\n",
      "  Using cached scipy-1.7.3-cp38-cp38-manylinux_2_17_x86_64.manylinux2014_x86_64.whl (39.3 MB)\n",
      "Requirement already satisfied: python-dateutil>=2.8.0 in /home/kotech/venv-quantum/lib/python3.8/site-packages (from qiskit-ibmq-provider==0.18.3->qiskit) (2.8.2)\n",
      "Collecting requests>=2.19\n",
      "  Using cached requests-2.27.1-py2.py3-none-any.whl (63 kB)\n",
      "Collecting websocket-client>=1.0.1\n",
      "  Downloading websocket_client-1.2.3-py3-none-any.whl (53 kB)\n",
      "     |████████████████████████████████| 53 kB 3.5 MB/s             \n",
      "\u001b[?25hCollecting urllib3>=1.21.1\n",
      "  Downloading urllib3-1.26.8-py2.py3-none-any.whl (138 kB)\n",
      "     |████████████████████████████████| 138 kB 23.4 MB/s            \n",
      "\u001b[?25hCollecting requests-ntlm>=1.1.0\n",
      "  Downloading requests_ntlm-1.1.0-py2.py3-none-any.whl (5.7 kB)\n",
      "Requirement already satisfied: setuptools>=40.1.0 in /home/kotech/venv-quantum/lib/python3.8/site-packages (from qiskit-ignis==0.7.0->qiskit) (49.2.1)\n",
      "Collecting retworkx>=0.8.0\n",
      "  Downloading retworkx-0.10.2-cp38-cp38-manylinux_2_5_x86_64.manylinux1_x86_64.manylinux_2_12_x86_64.manylinux2010_x86_64.whl (1.4 MB)\n",
      "     |████████████████████████████████| 1.4 MB 18.8 MB/s            \n",
      "\u001b[?25hCollecting dill>=0.3\n",
      "  Downloading dill-0.3.4-py2.py3-none-any.whl (86 kB)\n",
      "     |████████████████████████████████| 86 kB 7.5 MB/s             \n",
      "\u001b[?25hCollecting ply>=3.10\n",
      "  Downloading ply-3.11-py2.py3-none-any.whl (49 kB)\n",
      "     |████████████████████████████████| 49 kB 8.3 MB/s             \n",
      "\u001b[?25hCollecting symengine>=0.8\n",
      "  Downloading symengine-0.8.1-cp38-cp38-manylinux2010_x86_64.whl (38.3 MB)\n",
      "     |████████████████████████████████| 38.3 MB 14.2 MB/s            \n",
      "\u001b[?25hCollecting stevedore>=3.0.0\n",
      "  Downloading stevedore-3.5.0-py3-none-any.whl (49 kB)\n",
      "     |████████████████████████████████| 49 kB 8.1 MB/s             \n",
      "\u001b[?25hCollecting psutil>=5\n",
      "  Downloading psutil-5.9.0-cp38-cp38-manylinux_2_12_x86_64.manylinux2010_x86_64.manylinux_2_17_x86_64.manylinux2014_x86_64.whl (283 kB)\n",
      "     |████████████████████████████████| 283 kB 24.5 MB/s            \n",
      "\u001b[?25hCollecting tweedledum<2.0,>=1.1\n",
      "  Downloading tweedledum-1.1.1-cp38-cp38-manylinux_2_12_x86_64.manylinux2010_x86_64.whl (929 kB)\n",
      "     |████████████████████████████████| 929 kB 23.8 MB/s            \n",
      "\u001b[?25hCollecting python-constraint>=1.4\n",
      "  Downloading python-constraint-1.4.0.tar.bz2 (18 kB)\n",
      "  Preparing metadata (setup.py) ... \u001b[?25ldone\n",
      "\u001b[?25hCollecting sympy>=1.3\n",
      "  Downloading sympy-1.9-py3-none-any.whl (6.2 MB)\n",
      "     |████████████████████████████████| 6.2 MB 21.2 MB/s            \n",
      "\u001b[?25hRequirement already satisfied: six>=1.5 in /home/kotech/venv-quantum/lib/python3.8/site-packages (from python-dateutil>=2.8.0->qiskit-ibmq-provider==0.18.3->qiskit) (1.16.0)\n",
      "Collecting charset-normalizer~=2.0.0\n",
      "  Using cached charset_normalizer-2.0.10-py3-none-any.whl (39 kB)\n",
      "Collecting idna<4,>=2.5\n",
      "  Using cached idna-3.3-py3-none-any.whl (61 kB)\n",
      "Collecting certifi>=2017.4.17\n",
      "  Using cached certifi-2021.10.8-py2.py3-none-any.whl (149 kB)\n",
      "Collecting ntlm-auth>=1.0.2\n",
      "  Downloading ntlm_auth-1.5.0-py2.py3-none-any.whl (29 kB)\n",
      "Collecting cryptography>=1.3\n",
      "  Downloading cryptography-36.0.1-cp36-abi3-manylinux_2_24_x86_64.whl (3.6 MB)\n",
      "     |████████████████████████████████| 3.6 MB 24.1 MB/s            \n",
      "\u001b[?25hCollecting pbr!=2.1.0,>=2.0.0\n",
      "  Downloading pbr-5.8.0-py2.py3-none-any.whl (112 kB)\n",
      "     |████████████████████████████████| 112 kB 22.8 MB/s            \n",
      "\u001b[?25hCollecting mpmath>=0.19\n",
      "  Using cached mpmath-1.2.1-py3-none-any.whl (532 kB)\n",
      "Requirement already satisfied: cffi>=1.12 in /home/kotech/venv-quantum/lib/python3.8/site-packages (from cryptography>=1.3->requests-ntlm>=1.1.0->qiskit-ibmq-provider==0.18.3->qiskit) (1.15.0)\n",
      "Requirement already satisfied: pycparser in /home/kotech/venv-quantum/lib/python3.8/site-packages (from cffi>=1.12->cryptography>=1.3->requests-ntlm>=1.1.0->qiskit-ibmq-provider==0.18.3->qiskit) (2.21)\n",
      "Using legacy 'setup.py install' for qiskit, since package 'wheel' is not installed.\n",
      "Using legacy 'setup.py install' for python-constraint, since package 'wheel' is not installed.\n",
      "Installing collected packages: urllib3, pbr, numpy, mpmath, idna, charset-normalizer, certifi, tweedledum, sympy, symengine, stevedore, scipy, retworkx, requests, python-constraint, psutil, ply, ntlm-auth, dill, cryptography, websocket-client, requests-ntlm, qiskit-terra, qiskit-ignis, qiskit-ibmq-provider, qiskit-aer, qiskit\n",
      "    Running setup.py install for python-constraint ... \u001b[?25ldone\n",
      "\u001b[?25h    Running setup.py install for qiskit ... \u001b[?25ldone\n",
      "\u001b[?25hSuccessfully installed certifi-2021.10.8 charset-normalizer-2.0.10 cryptography-36.0.1 dill-0.3.4 idna-3.3 mpmath-1.2.1 ntlm-auth-1.5.0 numpy-1.22.1 pbr-5.8.0 ply-3.11 psutil-5.9.0 python-constraint-1.4.0 qiskit-0.34.1 qiskit-aer-0.10.2 qiskit-ibmq-provider-0.18.3 qiskit-ignis-0.7.0 qiskit-terra-0.19.1 requests-2.27.1 requests-ntlm-1.1.0 retworkx-0.10.2 scipy-1.7.3 stevedore-3.5.0 symengine-0.8.1 sympy-1.9 tweedledum-1.1.1 urllib3-1.26.8 websocket-client-1.2.3\n",
      "Requirement already satisfied: numpy in /home/kotech/venv-quantum/lib/python3.8/site-packages (1.22.1)\n",
      "Requirement already satisfied: scipy in /home/kotech/venv-quantum/lib/python3.8/site-packages (1.7.3)\n",
      "Collecting matplotlib\n",
      "  Downloading matplotlib-3.5.1-cp38-cp38-manylinux_2_5_x86_64.manylinux1_x86_64.whl (11.3 MB)\n",
      "     |████████████████████████████████| 11.3 MB 8.7 MB/s            \n",
      "\u001b[?25hRequirement already satisfied: ipython in /home/kotech/venv-quantum/lib/python3.8/site-packages (8.0.0)\n",
      "Collecting pandas\n",
      "  Using cached pandas-1.3.5-cp38-cp38-manylinux_2_17_x86_64.manylinux2014_x86_64.whl (11.5 MB)\n",
      "Requirement already satisfied: sympy in /home/kotech/venv-quantum/lib/python3.8/site-packages (1.9)\n",
      "Collecting nose\n",
      "  Using cached nose-1.3.7-py3-none-any.whl (154 kB)\n",
      "Collecting seaborn\n",
      "  Downloading seaborn-0.11.2-py3-none-any.whl (292 kB)\n",
      "     |████████████████████████████████| 292 kB 21.9 MB/s            \n",
      "\u001b[?25hCollecting fonttools>=4.22.0\n",
      "  Using cached fonttools-4.28.5-py3-none-any.whl (890 kB)\n",
      "Requirement already satisfied: pyparsing>=2.2.1 in /home/kotech/venv-quantum/lib/python3.8/site-packages (from matplotlib) (3.0.6)\n",
      "Collecting cycler>=0.10\n",
      "  Using cached cycler-0.11.0-py3-none-any.whl (6.4 kB)\n",
      "Requirement already satisfied: packaging>=20.0 in /home/kotech/venv-quantum/lib/python3.8/site-packages (from matplotlib) (21.3)\n",
      "Collecting pillow>=6.2.0\n",
      "  Using cached Pillow-9.0.0-cp38-cp38-manylinux_2_17_x86_64.manylinux2014_x86_64.whl (4.3 MB)\n",
      "Collecting kiwisolver>=1.0.1\n",
      "  Using cached kiwisolver-1.3.2-cp38-cp38-manylinux_2_5_x86_64.manylinux1_x86_64.whl (1.2 MB)\n",
      "Requirement already satisfied: python-dateutil>=2.7 in /home/kotech/venv-quantum/lib/python3.8/site-packages (from matplotlib) (2.8.2)\n",
      "Requirement already satisfied: matplotlib-inline in /home/kotech/venv-quantum/lib/python3.8/site-packages (from ipython) (0.1.3)\n",
      "Requirement already satisfied: jedi>=0.16 in /home/kotech/venv-quantum/lib/python3.8/site-packages (from ipython) (0.18.1)\n",
      "Requirement already satisfied: traitlets>=5 in /home/kotech/venv-quantum/lib/python3.8/site-packages (from ipython) (5.1.1)\n",
      "Requirement already satisfied: pexpect>4.3 in /home/kotech/venv-quantum/lib/python3.8/site-packages (from ipython) (4.8.0)\n",
      "Requirement already satisfied: setuptools>=18.5 in /home/kotech/venv-quantum/lib/python3.8/site-packages (from ipython) (49.2.1)\n",
      "Requirement already satisfied: stack-data in /home/kotech/venv-quantum/lib/python3.8/site-packages (from ipython) (0.1.4)\n",
      "Requirement already satisfied: black in /home/kotech/venv-quantum/lib/python3.8/site-packages (from ipython) (21.12b0)\n",
      "Requirement already satisfied: prompt-toolkit!=3.0.0,!=3.0.1,<3.1.0,>=2.0.0 in /home/kotech/venv-quantum/lib/python3.8/site-packages (from ipython) (3.0.24)\n",
      "Requirement already satisfied: backcall in /home/kotech/venv-quantum/lib/python3.8/site-packages (from ipython) (0.2.0)\n",
      "Requirement already satisfied: decorator in /home/kotech/venv-quantum/lib/python3.8/site-packages (from ipython) (5.1.1)\n",
      "Requirement already satisfied: pickleshare in /home/kotech/venv-quantum/lib/python3.8/site-packages (from ipython) (0.7.5)\n",
      "Requirement already satisfied: pygments in /home/kotech/venv-quantum/lib/python3.8/site-packages (from ipython) (2.11.2)\n"
     ]
    },
    {
     "name": "stdout",
     "output_type": "stream",
     "text": [
      "Collecting pytz>=2017.3\n",
      "  Using cached pytz-2021.3-py2.py3-none-any.whl (503 kB)\n",
      "Requirement already satisfied: mpmath>=0.19 in /home/kotech/venv-quantum/lib/python3.8/site-packages (from sympy) (1.2.1)\n",
      "Requirement already satisfied: parso<0.9.0,>=0.8.0 in /home/kotech/venv-quantum/lib/python3.8/site-packages (from jedi>=0.16->ipython) (0.8.3)\n",
      "Requirement already satisfied: ptyprocess>=0.5 in /home/kotech/venv-quantum/lib/python3.8/site-packages (from pexpect>4.3->ipython) (0.7.0)\n",
      "Requirement already satisfied: wcwidth in /home/kotech/venv-quantum/lib/python3.8/site-packages (from prompt-toolkit!=3.0.0,!=3.0.1,<3.1.0,>=2.0.0->ipython) (0.2.5)\n",
      "Requirement already satisfied: six>=1.5 in /home/kotech/venv-quantum/lib/python3.8/site-packages (from python-dateutil>=2.7->matplotlib) (1.16.0)\n",
      "Requirement already satisfied: typing-extensions>=3.10.0.0 in /home/kotech/venv-quantum/lib/python3.8/site-packages (from black->ipython) (4.0.1)\n",
      "Requirement already satisfied: pathspec<1,>=0.9.0 in /home/kotech/venv-quantum/lib/python3.8/site-packages (from black->ipython) (0.9.0)\n",
      "Requirement already satisfied: tomli<2.0.0,>=0.2.6 in /home/kotech/venv-quantum/lib/python3.8/site-packages (from black->ipython) (1.2.3)\n",
      "Requirement already satisfied: mypy-extensions>=0.4.3 in /home/kotech/venv-quantum/lib/python3.8/site-packages (from black->ipython) (0.4.3)\n",
      "Requirement already satisfied: platformdirs>=2 in /home/kotech/venv-quantum/lib/python3.8/site-packages (from black->ipython) (2.4.1)\n",
      "Requirement already satisfied: click>=7.1.2 in /home/kotech/venv-quantum/lib/python3.8/site-packages (from black->ipython) (8.0.3)\n",
      "Requirement already satisfied: asttokens in /home/kotech/venv-quantum/lib/python3.8/site-packages (from stack-data->ipython) (2.0.5)\n",
      "Requirement already satisfied: pure-eval in /home/kotech/venv-quantum/lib/python3.8/site-packages (from stack-data->ipython) (0.2.1)\n",
      "Requirement already satisfied: executing in /home/kotech/venv-quantum/lib/python3.8/site-packages (from stack-data->ipython) (0.8.2)\n",
      "Installing collected packages: pytz, pillow, kiwisolver, fonttools, cycler, pandas, matplotlib, seaborn, nose\n",
      "Successfully installed cycler-0.11.0 fonttools-4.28.5 kiwisolver-1.3.2 matplotlib-3.5.1 nose-1.3.7 pandas-1.3.5 pillow-9.0.0 pytz-2021.3 seaborn-0.11.2\n",
      "Collecting scikit-learn\n",
      "  Using cached scikit_learn-1.0.2-cp38-cp38-manylinux_2_17_x86_64.manylinux2014_x86_64.whl (26.7 MB)\n",
      "Collecting joblib>=0.11\n",
      "  Using cached joblib-1.1.0-py2.py3-none-any.whl (306 kB)\n",
      "Requirement already satisfied: scipy>=1.1.0 in /home/kotech/venv-quantum/lib/python3.8/site-packages (from scikit-learn) (1.7.3)\n",
      "Requirement already satisfied: numpy>=1.14.6 in /home/kotech/venv-quantum/lib/python3.8/site-packages (from scikit-learn) (1.22.1)\n",
      "Collecting threadpoolctl>=2.0.0\n",
      "  Using cached threadpoolctl-3.0.0-py3-none-any.whl (14 kB)\n",
      "Installing collected packages: threadpoolctl, joblib, scikit-learn\n",
      "Successfully installed joblib-1.1.0 scikit-learn-1.0.2 threadpoolctl-3.0.0\n",
      "Collecting pylatexenc\n",
      "  Downloading pylatexenc-2.10.tar.gz (162 kB)\n",
      "     |████████████████████████████████| 162 kB 9.1 MB/s            \n",
      "\u001b[?25h  Preparing metadata (setup.py) ... \u001b[?25ldone\n",
      "\u001b[?25hRequirement already satisfied: ipywidgets in /home/kotech/venv-quantum/lib/python3.8/site-packages (7.6.5)\n",
      "Collecting qutip\n",
      "  Downloading qutip-4.6.2-cp38-cp38-manylinux2010_x86_64.whl (16.0 MB)\n",
      "     |████████████████████████████████| 16.0 MB 13.9 MB/s            \n",
      "\u001b[?25hRequirement already satisfied: ipython>=4.0.0 in /home/kotech/venv-quantum/lib/python3.8/site-packages (from ipywidgets) (8.0.0)\n",
      "Requirement already satisfied: ipykernel>=4.5.1 in /home/kotech/venv-quantum/lib/python3.8/site-packages (from ipywidgets) (6.7.0)\n",
      "Requirement already satisfied: jupyterlab-widgets>=1.0.0 in /home/kotech/venv-quantum/lib/python3.8/site-packages (from ipywidgets) (1.0.2)\n",
      "Requirement already satisfied: nbformat>=4.2.0 in /home/kotech/venv-quantum/lib/python3.8/site-packages (from ipywidgets) (5.1.3)\n",
      "Requirement already satisfied: ipython-genutils~=0.2.0 in /home/kotech/venv-quantum/lib/python3.8/site-packages (from ipywidgets) (0.2.0)\n",
      "Requirement already satisfied: traitlets>=4.3.1 in /home/kotech/venv-quantum/lib/python3.8/site-packages (from ipywidgets) (5.1.1)\n",
      "Requirement already satisfied: widgetsnbextension~=3.5.0 in /home/kotech/venv-quantum/lib/python3.8/site-packages (from ipywidgets) (3.5.2)\n",
      "Requirement already satisfied: scipy>=1.0 in /home/kotech/venv-quantum/lib/python3.8/site-packages (from qutip) (1.7.3)\n",
      "Requirement already satisfied: numpy>=1.16.6 in /home/kotech/venv-quantum/lib/python3.8/site-packages (from qutip) (1.22.1)\n",
      "Requirement already satisfied: packaging in /home/kotech/venv-quantum/lib/python3.8/site-packages (from qutip) (21.3)\n",
      "Requirement already satisfied: jupyter-client<8.0 in /home/kotech/venv-quantum/lib/python3.8/site-packages (from ipykernel>=4.5.1->ipywidgets) (7.1.1)\n",
      "Requirement already satisfied: matplotlib-inline<0.2.0,>=0.1.0 in /home/kotech/venv-quantum/lib/python3.8/site-packages (from ipykernel>=4.5.1->ipywidgets) (0.1.3)\n",
      "Requirement already satisfied: nest-asyncio in /home/kotech/venv-quantum/lib/python3.8/site-packages (from ipykernel>=4.5.1->ipywidgets) (1.5.4)\n",
      "Requirement already satisfied: debugpy<2.0,>=1.0.0 in /home/kotech/venv-quantum/lib/python3.8/site-packages (from ipykernel>=4.5.1->ipywidgets) (1.5.1)\n",
      "Requirement already satisfied: tornado<7.0,>=4.2 in /home/kotech/venv-quantum/lib/python3.8/site-packages (from ipykernel>=4.5.1->ipywidgets) (6.1)\n",
      "Requirement already satisfied: pickleshare in /home/kotech/venv-quantum/lib/python3.8/site-packages (from ipython>=4.0.0->ipywidgets) (0.7.5)\n",
      "Requirement already satisfied: setuptools>=18.5 in /home/kotech/venv-quantum/lib/python3.8/site-packages (from ipython>=4.0.0->ipywidgets) (49.2.1)\n",
      "Requirement already satisfied: black in /home/kotech/venv-quantum/lib/python3.8/site-packages (from ipython>=4.0.0->ipywidgets) (21.12b0)\n",
      "Requirement already satisfied: pygments in /home/kotech/venv-quantum/lib/python3.8/site-packages (from ipython>=4.0.0->ipywidgets) (2.11.2)\n",
      "Requirement already satisfied: jedi>=0.16 in /home/kotech/venv-quantum/lib/python3.8/site-packages (from ipython>=4.0.0->ipywidgets) (0.18.1)\n",
      "Requirement already satisfied: pexpect>4.3 in /home/kotech/venv-quantum/lib/python3.8/site-packages (from ipython>=4.0.0->ipywidgets) (4.8.0)\n",
      "Requirement already satisfied: decorator in /home/kotech/venv-quantum/lib/python3.8/site-packages (from ipython>=4.0.0->ipywidgets) (5.1.1)\n",
      "Requirement already satisfied: prompt-toolkit!=3.0.0,!=3.0.1,<3.1.0,>=2.0.0 in /home/kotech/venv-quantum/lib/python3.8/site-packages (from ipython>=4.0.0->ipywidgets) (3.0.24)\n",
      "Requirement already satisfied: backcall in /home/kotech/venv-quantum/lib/python3.8/site-packages (from ipython>=4.0.0->ipywidgets) (0.2.0)\n",
      "Requirement already satisfied: stack-data in /home/kotech/venv-quantum/lib/python3.8/site-packages (from ipython>=4.0.0->ipywidgets) (0.1.4)\n",
      "Requirement already satisfied: jsonschema!=2.5.0,>=2.4 in /home/kotech/venv-quantum/lib/python3.8/site-packages (from nbformat>=4.2.0->ipywidgets) (4.4.0)\n",
      "Requirement already satisfied: jupyter-core in /home/kotech/venv-quantum/lib/python3.8/site-packages (from nbformat>=4.2.0->ipywidgets) (4.9.1)\n",
      "Requirement already satisfied: notebook>=4.4.1 in /home/kotech/venv-quantum/lib/python3.8/site-packages (from widgetsnbextension~=3.5.0->ipywidgets) (6.4.7)\n",
      "Requirement already satisfied: pyparsing!=3.0.5,>=2.0.2 in /home/kotech/venv-quantum/lib/python3.8/site-packages (from packaging->qutip) (3.0.6)\n",
      "Requirement already satisfied: parso<0.9.0,>=0.8.0 in /home/kotech/venv-quantum/lib/python3.8/site-packages (from jedi>=0.16->ipython>=4.0.0->ipywidgets) (0.8.3)\n",
      "Requirement already satisfied: attrs>=17.4.0 in /home/kotech/venv-quantum/lib/python3.8/site-packages (from jsonschema!=2.5.0,>=2.4->nbformat>=4.2.0->ipywidgets) (21.4.0)\n",
      "Requirement already satisfied: pyrsistent!=0.17.0,!=0.17.1,!=0.17.2,>=0.14.0 in /home/kotech/venv-quantum/lib/python3.8/site-packages (from jsonschema!=2.5.0,>=2.4->nbformat>=4.2.0->ipywidgets) (0.18.1)\n",
      "Requirement already satisfied: importlib-resources>=1.4.0 in /home/kotech/venv-quantum/lib/python3.8/site-packages (from jsonschema!=2.5.0,>=2.4->nbformat>=4.2.0->ipywidgets) (5.4.0)\n",
      "Requirement already satisfied: entrypoints in /home/kotech/venv-quantum/lib/python3.8/site-packages (from jupyter-client<8.0->ipykernel>=4.5.1->ipywidgets) (0.3)\n",
      "Requirement already satisfied: pyzmq>=13 in /home/kotech/venv-quantum/lib/python3.8/site-packages (from jupyter-client<8.0->ipykernel>=4.5.1->ipywidgets) (22.3.0)\n",
      "Requirement already satisfied: python-dateutil>=2.1 in /home/kotech/venv-quantum/lib/python3.8/site-packages (from jupyter-client<8.0->ipykernel>=4.5.1->ipywidgets) (2.8.2)\n",
      "Requirement already satisfied: Send2Trash>=1.8.0 in /home/kotech/venv-quantum/lib/python3.8/site-packages (from notebook>=4.4.1->widgetsnbextension~=3.5.0->ipywidgets) (1.8.0)\n",
      "Requirement already satisfied: jinja2 in /home/kotech/venv-quantum/lib/python3.8/site-packages (from notebook>=4.4.1->widgetsnbextension~=3.5.0->ipywidgets) (3.0.3)\n",
      "Requirement already satisfied: prometheus-client in /home/kotech/venv-quantum/lib/python3.8/site-packages (from notebook>=4.4.1->widgetsnbextension~=3.5.0->ipywidgets) (0.12.0)\n",
      "Requirement already satisfied: nbconvert in /home/kotech/venv-quantum/lib/python3.8/site-packages (from notebook>=4.4.1->widgetsnbextension~=3.5.0->ipywidgets) (6.4.0)\n",
      "Requirement already satisfied: argon2-cffi in /home/kotech/venv-quantum/lib/python3.8/site-packages (from notebook>=4.4.1->widgetsnbextension~=3.5.0->ipywidgets) (21.3.0)\n",
      "Requirement already satisfied: terminado>=0.8.3 in /home/kotech/venv-quantum/lib/python3.8/site-packages (from notebook>=4.4.1->widgetsnbextension~=3.5.0->ipywidgets) (0.12.1)\n",
      "Requirement already satisfied: ptyprocess>=0.5 in /home/kotech/venv-quantum/lib/python3.8/site-packages (from pexpect>4.3->ipython>=4.0.0->ipywidgets) (0.7.0)\n",
      "Requirement already satisfied: wcwidth in /home/kotech/venv-quantum/lib/python3.8/site-packages (from prompt-toolkit!=3.0.0,!=3.0.1,<3.1.0,>=2.0.0->ipython>=4.0.0->ipywidgets) (0.2.5)\n"
     ]
    },
    {
     "name": "stdout",
     "output_type": "stream",
     "text": [
      "Requirement already satisfied: tomli<2.0.0,>=0.2.6 in /home/kotech/venv-quantum/lib/python3.8/site-packages (from black->ipython>=4.0.0->ipywidgets) (1.2.3)\n",
      "Requirement already satisfied: typing-extensions>=3.10.0.0 in /home/kotech/venv-quantum/lib/python3.8/site-packages (from black->ipython>=4.0.0->ipywidgets) (4.0.1)\n",
      "Requirement already satisfied: platformdirs>=2 in /home/kotech/venv-quantum/lib/python3.8/site-packages (from black->ipython>=4.0.0->ipywidgets) (2.4.1)\n",
      "Requirement already satisfied: click>=7.1.2 in /home/kotech/venv-quantum/lib/python3.8/site-packages (from black->ipython>=4.0.0->ipywidgets) (8.0.3)\n",
      "Requirement already satisfied: pathspec<1,>=0.9.0 in /home/kotech/venv-quantum/lib/python3.8/site-packages (from black->ipython>=4.0.0->ipywidgets) (0.9.0)\n",
      "Requirement already satisfied: mypy-extensions>=0.4.3 in /home/kotech/venv-quantum/lib/python3.8/site-packages (from black->ipython>=4.0.0->ipywidgets) (0.4.3)\n",
      "Requirement already satisfied: asttokens in /home/kotech/venv-quantum/lib/python3.8/site-packages (from stack-data->ipython>=4.0.0->ipywidgets) (2.0.5)\n",
      "Requirement already satisfied: executing in /home/kotech/venv-quantum/lib/python3.8/site-packages (from stack-data->ipython>=4.0.0->ipywidgets) (0.8.2)\n",
      "Requirement already satisfied: pure-eval in /home/kotech/venv-quantum/lib/python3.8/site-packages (from stack-data->ipython>=4.0.0->ipywidgets) (0.2.1)\n",
      "Requirement already satisfied: zipp>=3.1.0 in /home/kotech/venv-quantum/lib/python3.8/site-packages (from importlib-resources>=1.4.0->jsonschema!=2.5.0,>=2.4->nbformat>=4.2.0->ipywidgets) (3.7.0)\n",
      "Requirement already satisfied: six>=1.5 in /home/kotech/venv-quantum/lib/python3.8/site-packages (from python-dateutil>=2.1->jupyter-client<8.0->ipykernel>=4.5.1->ipywidgets) (1.16.0)\n",
      "Requirement already satisfied: argon2-cffi-bindings in /home/kotech/venv-quantum/lib/python3.8/site-packages (from argon2-cffi->notebook>=4.4.1->widgetsnbextension~=3.5.0->ipywidgets) (21.2.0)\n",
      "Requirement already satisfied: MarkupSafe>=2.0 in /home/kotech/venv-quantum/lib/python3.8/site-packages (from jinja2->notebook>=4.4.1->widgetsnbextension~=3.5.0->ipywidgets) (2.0.1)\n",
      "Requirement already satisfied: pandocfilters>=1.4.1 in /home/kotech/venv-quantum/lib/python3.8/site-packages (from nbconvert->notebook>=4.4.1->widgetsnbextension~=3.5.0->ipywidgets) (1.5.0)\n",
      "Requirement already satisfied: mistune<2,>=0.8.1 in /home/kotech/venv-quantum/lib/python3.8/site-packages (from nbconvert->notebook>=4.4.1->widgetsnbextension~=3.5.0->ipywidgets) (0.8.4)\n",
      "Requirement already satisfied: nbclient<0.6.0,>=0.5.0 in /home/kotech/venv-quantum/lib/python3.8/site-packages (from nbconvert->notebook>=4.4.1->widgetsnbextension~=3.5.0->ipywidgets) (0.5.10)\n",
      "Requirement already satisfied: testpath in /home/kotech/venv-quantum/lib/python3.8/site-packages (from nbconvert->notebook>=4.4.1->widgetsnbextension~=3.5.0->ipywidgets) (0.5.0)\n",
      "Requirement already satisfied: defusedxml in /home/kotech/venv-quantum/lib/python3.8/site-packages (from nbconvert->notebook>=4.4.1->widgetsnbextension~=3.5.0->ipywidgets) (0.7.1)\n",
      "Requirement already satisfied: jupyterlab-pygments in /home/kotech/venv-quantum/lib/python3.8/site-packages (from nbconvert->notebook>=4.4.1->widgetsnbextension~=3.5.0->ipywidgets) (0.1.2)\n",
      "Requirement already satisfied: bleach in /home/kotech/venv-quantum/lib/python3.8/site-packages (from nbconvert->notebook>=4.4.1->widgetsnbextension~=3.5.0->ipywidgets) (4.1.0)\n",
      "Requirement already satisfied: cffi>=1.0.1 in /home/kotech/venv-quantum/lib/python3.8/site-packages (from argon2-cffi-bindings->argon2-cffi->notebook>=4.4.1->widgetsnbextension~=3.5.0->ipywidgets) (1.15.0)\n",
      "Requirement already satisfied: webencodings in /home/kotech/venv-quantum/lib/python3.8/site-packages (from bleach->nbconvert->notebook>=4.4.1->widgetsnbextension~=3.5.0->ipywidgets) (0.5.1)\n",
      "Requirement already satisfied: pycparser in /home/kotech/venv-quantum/lib/python3.8/site-packages (from cffi>=1.0.1->argon2-cffi-bindings->argon2-cffi->notebook>=4.4.1->widgetsnbextension~=3.5.0->ipywidgets) (2.21)\n",
      "Using legacy 'setup.py install' for pylatexenc, since package 'wheel' is not installed.\n",
      "Installing collected packages: qutip, pylatexenc\n",
      "    Running setup.py install for pylatexenc ... \u001b[?25ldone\n",
      "\u001b[?25hSuccessfully installed pylatexenc-2.10 qutip-4.6.2\n"
     ]
    }
   ],
   "source": [
    "# qiskit\n",
    "!pip install qiskit\n",
    "!pip install numpy scipy matplotlib ipython pandas sympy nose seaborn\n",
    "!pip install scikit-learn\n",
    "!pip install pylatexenc ipywidgets qutip"
   ]
  },
  {
   "cell_type": "code",
   "execution_count": 16,
   "id": "aa4744fb",
   "metadata": {},
   "outputs": [
    {
     "name": "stdout",
     "output_type": "stream",
     "text": [
      "Collecting blueqat\n",
      "  Downloading blueqat-0.4.8-py3-none-any.whl (67 kB)\n",
      "     |████████████████████████████████| 67 kB 2.8 MB/s             \n",
      "\u001b[?25hRequirement already satisfied: numpy>=1.19 in /home/kotech/venv-quantum/lib/python3.8/site-packages (from blueqat) (1.22.1)\n",
      "Requirement already satisfied: scipy>=1.5 in /home/kotech/venv-quantum/lib/python3.8/site-packages (from blueqat) (1.7.3)\n",
      "Installing collected packages: blueqat\n",
      "Successfully installed blueqat-0.4.8\n"
     ]
    }
   ],
   "source": [
    "# blueqat\n",
    "!pip install blueqat"
   ]
  },
  {
   "cell_type": "code",
   "execution_count": 3,
   "id": "402cacd3",
   "metadata": {},
   "outputs": [
    {
     "data": {
      "image/png": "[encoded data removed]",
      "text/plain": [
       "<Figure size 504x360 with 1 Axes>"
      ]
     },
     "execution_count": 3,
     "metadata": {},
     "output_type": "execute_result"
    }
   ],
   "source": [
    "from qiskit import QuantumCircuit, execute, Aer\n",
    "from qiskit.visualization import plot_histogram\n",
    "from math import sqrt\n",
    "\n",
    "# Create a quantum circuit with one qubit\n",
    "qc = QuantumCircuit(1)\n",
    "\n",
    "# Define state |Psi>\n",
    "initial_state = [1/sqrt(2), 1/sqrt(2)]\n",
    "\n",
    "# Apply initialization operation to the qubit at position 0\n",
    "qc.initialize(initial_state, 0)\n",
    "\n",
    "# Tell Qiskit how to simulate our circuit\n",
    "backend = Aer.get_backend('statevector_simulator')\n",
    "\n",
    "# Do the simulation, returning the result\n",
    "result = execute(qc,backend).result()\n",
    "\n",
    "# Get the data and display histogram\n",
    "counts = result.get_counts()\n",
    "plot_histogram(counts)"
   ]
  },
  {
   "cell_type": "code",
   "execution_count": 4,
   "id": "4e8c9099",
   "metadata": {},
   "outputs": [
    {
     "data": {
      "text/html": [
       "<pre style=\"word-wrap: normal;white-space: pre;background: #fff0;line-height: 1.1;font-family: &quot;Courier New&quot;,Courier,monospace\">   ┌─────────────────────────────┐\n",
       "q: ┤ Initialize(0.70711,0.70711) ├\n",
       "   └─────────────────────────────┘</pre>"
      ],
      "text/plain": [
       "   ┌─────────────────────────────┐\n",
       "q: ┤ Initialize(0.70711,0.70711) ├\n",
       "   └─────────────────────────────┘"
      ]
     },
     "execution_count": 4,
     "metadata": {},
     "output_type": "execute_result"
    }
   ],
   "source": [
    "qc.draw(output='text')"
   ]
  },
  {
   "cell_type": "code",
   "execution_count": 6,
   "id": "13b30570",
   "metadata": {},
   "outputs": [
    {
     "data": {
      "image/png": "[encoded data removed]",
      "text/plain": [
       "<Figure size 193.726x84.28 with 1 Axes>"
      ]
     },
     "execution_count": 6,
     "metadata": {},
     "output_type": "execute_result"
    }
   ],
   "source": [
    "qc.draw('mpl')"
   ]
  },
  {
   "cell_type": "code",
   "execution_count": 14,
   "id": "696b1391",
   "metadata": {},
   "outputs": [
    {
     "name": "stdout",
     "output_type": "stream",
     "text": [
      "Statevector([0.+0.j, 1.+0.j],\n",
      "            dims=(2,))\n"
     ]
    },
    {
     "data": {
      "image/png": "[encoded data removed]",
      "text/plain": [
       "<Figure size 357.679x144.48 with 1 Axes>"
      ]
     },
     "execution_count": 14,
     "metadata": {},
     "output_type": "execute_result"
    }
   ],
   "source": [
    "from qiskit import QuantumCircuit, assemble, Aer\n",
    "from qiskit.visualization import plot_histogram, plot_bloch_vector\n",
    "from math import sqrt, pi\n",
    "\n",
    "sim = Aer.get_backend('aer_simulator')  # Tell Qiskit how to simulate our circuit\n",
    "\n",
    "qc = QuantumCircuit(1)  # Create a quantum circuit with one qubit\n",
    "initial_state = [0,1]   # Define initial_state as |1>\n",
    "qc.initialize(initial_state, 0) # Apply initialisation operation to the 0th qubit\n",
    "qc.save_statevector()   # Tell simulator to save statevector\n",
    "qobj = assemble(qc)     # Create a Qobj from the circuit for the simulator to run\n",
    "result = sim.run(qobj).result() # Do the simulation and return the result\n",
    "\n",
    "out_state = result.get_statevector()\n",
    "print(out_state) # Display the output state vector\n",
    "\n",
    "qc.measure_all()\n",
    "qc.draw('mpl')"
   ]
  },
  {
   "cell_type": "code",
   "execution_count": 29,
   "id": "d3e85120",
   "metadata": {},
   "outputs": [
    {
     "data": {
      "text/html": [
       "<pre style=\"word-wrap: normal;white-space: pre;background: #fff0;line-height: 1.1;font-family: &quot;Courier New&quot;,Courier,monospace\">     ┌───┐        \n",
       "q_0: ┤ H ├──■─────\n",
       "     └───┘┌─┴─┐┌─┐\n",
       "q_1: ─────┤ X ├┤M├\n",
       "          └───┘└╥┘\n",
       "c: 2/═══════════╩═\n",
       "                1 </pre>"
      ],
      "text/plain": [
       "     ┌───┐        \n",
       "q_0: ┤ H ├──■─────\n",
       "     └───┘┌─┴─┐┌─┐\n",
       "q_1: ─────┤ X ├┤M├\n",
       "          └───┘└╥┘\n",
       "c: 2/═══════════╩═\n",
       "                1 "
      ]
     },
     "execution_count": 29,
     "metadata": {},
     "output_type": "execute_result"
    }
   ],
   "source": [
    "from blueqat import Circuit\n",
    "import blueqat.macros\n",
    "\n",
    "a = Circuit().h[0].cx[0, 1].m[1]\n",
    "a.draw()"
   ]
  },
  {
   "cell_type": "code",
   "execution_count": 27,
   "id": "28f35b5b",
   "metadata": {},
   "outputs": [
    {
     "data": {
      "image/png": "[encoded data removed]",
      "text/plain": [
       "<Figure size 267.052x204.68 with 1 Axes>"
      ]
     },
     "execution_count": 27,
     "metadata": {},
     "output_type": "execute_result"
    }
   ],
   "source": [
    "a.draw(output='mpl')"
   ]
  },
  {
   "cell_type": "markdown",
   "id": "60bcad69",
   "metadata": {},
   "source": [
    "## Section 3.5: Parameterized Quantum Circuit"
   ]
  },
  {
   "cell_type": "markdown",
   "id": "b9c3da1c",
   "metadata": {},
   "source": [
    "https://github.com/quantum-machine-learning/Hands-On-Quantum-Machine-Learning-With-Python-Vol-1  "
   ]
  },
  {
   "cell_type": "code",
   "execution_count": 36,
   "id": "055cfdaa",
   "metadata": {},
   "outputs": [
    {
     "name": "stdout",
     "output_type": "stream",
     "text": [
      "--2022-01-17 16:08:50--  https://github.com/quantum-machine-learning/Hands-On-Quantum-Machine-Learning-With-Python-Vol-1/raw/master/data/train.csv\n",
      "Resolving github.com (github.com)... 15.164.81.167\n",
      "접속 github.com (github.com)|15.164.81.167|:443... 접속됨.\n",
      "HTTP request sent, awaiting response... 302 Found\n",
      "Location: https://raw.githubusercontent.com/quantum-machine-learning/Hands-On-Quantum-Machine-Learning-With-Python-Vol-1/master/data/train.csv [following]\n",
      "--2022-01-17 16:08:50--  https://raw.githubusercontent.com/quantum-machine-learning/Hands-On-Quantum-Machine-Learning-With-Python-Vol-1/master/data/train.csv\n",
      "Resolving raw.githubusercontent.com (raw.githubusercontent.com)... 185.199.111.133, 185.199.110.133, 185.199.108.133, ...\n",
      "접속 raw.githubusercontent.com (raw.githubusercontent.com)|185.199.111.133|:443... 접속됨.\n",
      "HTTP request sent, awaiting response... 200 OK\n",
      "Length: 60302 (59K) [text/plain]\n",
      "Saving to: ‘data/train.csv’\n",
      "\n",
      "data/train.csv      100%[===================>]  58.89K  --.-KB/s    in 0.005s  \n",
      "\n",
      "2022-01-17 16:08:50 (11.6 MB/s) - ‘data/train.csv’ saved [60302/60302]\n",
      "\n",
      "--2022-01-17 16:08:51--  https://github.com/quantum-machine-learning/Hands-On-Quantum-Machine-Learning-With-Python-Vol-1/raw/master/data/train.npy\n",
      "Resolving github.com (github.com)... 15.164.81.167\n",
      "접속 github.com (github.com)|15.164.81.167|:443... 접속됨.\n",
      "HTTP request sent, awaiting response... 302 Found\n",
      "Location: https://raw.githubusercontent.com/quantum-machine-learning/Hands-On-Quantum-Machine-Learning-With-Python-Vol-1/master/data/train.npy [following]\n",
      "--2022-01-17 16:08:51--  https://raw.githubusercontent.com/quantum-machine-learning/Hands-On-Quantum-Machine-Learning-With-Python-Vol-1/master/data/train.npy\n",
      "Resolving raw.githubusercontent.com (raw.githubusercontent.com)... 185.199.111.133, 185.199.110.133, 185.199.108.133, ...\n",
      "접속 raw.githubusercontent.com (raw.githubusercontent.com)|185.199.111.133|:443... 접속됨.\n",
      "HTTP request sent, awaiting response... 200 OK\n",
      "Length: 45760 (45K) [application/octet-stream]\n",
      "Saving to: ‘data/train.npy’\n",
      "\n",
      "data/train.npy      100%[===================>]  44.69K  --.-KB/s    in 0.004s  \n",
      "\n",
      "2022-01-17 16:08:51 (10.5 MB/s) - ‘data/train.npy’ saved [45760/45760]\n",
      "\n",
      "--2022-01-17 16:08:51--  https://github.com/quantum-machine-learning/Hands-On-Quantum-Machine-Learning-With-Python-Vol-1/raw/master/data/test.csv\n",
      "Resolving github.com (github.com)... 15.164.81.167\n",
      "접속 github.com (github.com)|15.164.81.167|:443... 접속됨.\n",
      "HTTP request sent, awaiting response... 302 Found\n",
      "Location: https://raw.githubusercontent.com/quantum-machine-learning/Hands-On-Quantum-Machine-Learning-With-Python-Vol-1/master/data/test.csv [following]\n",
      "--2022-01-17 16:08:51--  https://raw.githubusercontent.com/quantum-machine-learning/Hands-On-Quantum-Machine-Learning-With-Python-Vol-1/master/data/test.csv\n",
      "Resolving raw.githubusercontent.com (raw.githubusercontent.com)... 185.199.111.133, 185.199.110.133, 185.199.108.133, ...\n",
      "접속 raw.githubusercontent.com (raw.githubusercontent.com)|185.199.111.133|:443... 접속됨.\n",
      "HTTP request sent, awaiting response... 200 OK\n",
      "Length: 28210 (28K) [text/plain]\n",
      "Saving to: ‘data/test.csv’\n",
      "\n",
      "data/test.csv       100%[===================>]  27.55K  --.-KB/s    in 0.002s  \n",
      "\n",
      "2022-01-17 16:08:51 (14.6 MB/s) - ‘data/test.csv’ saved [28210/28210]\n",
      "\n",
      "--2022-01-17 16:08:51--  https://github.com/quantum-machine-learning/Hands-On-Quantum-Machine-Learning-With-Python-Vol-1/raw/master/data/test.npy\n",
      "Resolving github.com (github.com)... 15.164.81.167\n",
      "접속 github.com (github.com)|15.164.81.167|:443... 접속됨.\n",
      "HTTP request sent, awaiting response... 302 Found\n",
      "Location: https://raw.githubusercontent.com/quantum-machine-learning/Hands-On-Quantum-Machine-Learning-With-Python-Vol-1/master/data/test.npy [following]\n",
      "--2022-01-17 16:08:51--  https://raw.githubusercontent.com/quantum-machine-learning/Hands-On-Quantum-Machine-Learning-With-Python-Vol-1/master/data/test.npy\n",
      "Resolving raw.githubusercontent.com (raw.githubusercontent.com)... 185.199.111.133, 185.199.110.133, 185.199.108.133, ...\n",
      "접속 raw.githubusercontent.com (raw.githubusercontent.com)|185.199.111.133|:443... 접속됨.\n",
      "HTTP request sent, awaiting response... 200 OK\n",
      "Length: 11648 (11K) [application/octet-stream]\n",
      "Saving to: ‘data/test.npy’\n",
      "\n",
      "data/test.npy       100%[===================>]  11.38K  --.-KB/s    in 0s      \n",
      "\n",
      "2022-01-17 16:08:51 (45.7 MB/s) - ‘data/test.npy’ saved [11648/11648]\n",
      "\n"
     ]
    }
   ],
   "source": [
    "!mkdir -p data\n",
    "!wget https://github.com/quantum-machine-learning/Hands-On-Quantum-Machine-Learning-With-Python-Vol-1/raw/master/data/train.csv -O data/train.csv\n",
    "!wget https://github.com/quantum-machine-learning/Hands-On-Quantum-Machine-Learning-With-Python-Vol-1/raw/master/data/train.npy -O data/train.npy\n",
    "!wget https://github.com/quantum-machine-learning/Hands-On-Quantum-Machine-Learning-With-Python-Vol-1/raw/master/data/test.csv -O data/test.csv\n",
    "!wget https://github.com/quantum-machine-learning/Hands-On-Quantum-Machine-Learning-With-Python-Vol-1/raw/master/data/test.npy -O data/test.npy"
   ]
  },
  {
   "cell_type": "code",
   "execution_count": 40,
   "id": "765b8b91",
   "metadata": {},
   "outputs": [],
   "source": [
    "# Listing 3.15: The parameterized quantum circuit classifier\n",
    "from qiskit import execute, Aer, QuantumCircuit\n",
    "from math import sqrt\n",
    "from sklearn.metrics import recall_score, precision_score, confusion_matrix\n",
    "\n",
    "def pqc_classify(backend, passenger_state):\n",
    "    \"\"\"backend -- a qiskit backend to run the quantum circuit at\n",
    "    passenger_state -- a valid quantum state vector\"\"\"\n",
    "    \n",
    "    # Create a quantum circuit with one qubit\n",
    "    qc = QuantumCircuit(1) \n",
    "\n",
    "    # Define state |Psi> and initialize the circuit\n",
    "    qc.initialize(passenger_state, 0)\n",
    "    \n",
    "    # Measure the qubit\n",
    "    qc.measure_all()\n",
    "\n",
    "    # run the quantum circuit\n",
    "    result=execute(qc,backend).result()\n",
    "\n",
    "    # get the counts, these are either {'0': 1} or {'1': 1}\n",
    "    counts=result.get_counts(qc)\n",
    "    \n",
    "    # get the bit 0 or 1\n",
    "    return int(list(map(lambda item: item[0], counts.items()))[0])"
   ]
  },
  {
   "cell_type": "code",
   "execution_count": 39,
   "id": "583d7987",
   "metadata": {},
   "outputs": [],
   "source": [
    "import numpy as np\n",
    "with open('data/train.npy', 'rb') as f:\n",
    "  train_input = np.load(f)\n",
    "  train_labels = np.load(f)\n",
    "with open('data/test.npy', 'rb') as f:\n",
    "  test_input = np.load(f)\n",
    "  test_labels = np.load(f)"
   ]
  },
  {
   "cell_type": "code",
   "execution_count": 41,
   "id": "f254c26c",
   "metadata": {},
   "outputs": [],
   "source": [
    "# REDEFINE OR IMPORT THE FUNCTIONS OF CHAPTER 2\n",
    "def run(f_classify, x):\n",
    "    return list(map(f_classify, x))\n",
    "\n",
    "def specificity(matrix):\n",
    "    return matrix[0][0]/(matrix[0][0]+matrix[0][1]) if (matrix[0][0]+matrix[0][1] > 0) else 0\n",
    "\n",
    "def npv(matrix):\n",
    "    return matrix[0][0]/(matrix[0][0]+matrix[1][0]) if (matrix[0][0]+matrix[1][0] > 0) else 0\n",
    "\n",
    "def classifier_report(name, run, classify, input, labels):\n",
    "    cr_predictions = run(classify, input)\n",
    "    cr_cm = confusion_matrix(labels, cr_predictions)\n",
    "\n",
    "    cr_precision = precision_score(labels, cr_predictions)\n",
    "    cr_recall = recall_score(labels, cr_predictions)\n",
    "    cr_specificity = specificity(cr_cm)\n",
    "    cr_npv = npv(cr_cm)\n",
    "    cr_level = 0.25*(cr_precision + cr_recall + cr_specificity + cr_npv)\n",
    "\n",
    "    print('The precision score of the {} classifier is {:.2f}'\n",
    "        .format(name, cr_precision))\n",
    "    print('The recall score of the {} classifier is {:.2f}'\n",
    "        .format(name, cr_recall))\n",
    "    print('The specificity score of the {} classifier is {:.2f}'\n",
    "        .format(name, cr_specificity))\n",
    "    print('The npv score of the {} classifier is {:.2f}'\n",
    "        .format(name, cr_npv))\n",
    "    print('The information level is: {:.2f}'\n",
    "        .format(cr_level))\n",
    "#CAPTION A reusable function to unmask the hypocrite classifier"
   ]
  },
  {
   "cell_type": "code",
   "execution_count": 43,
   "id": "588ddb8c",
   "metadata": {},
   "outputs": [
    {
     "name": "stdout",
     "output_type": "stream",
     "text": [
      "The precision score of the Random PQC classifier is 0.37\n",
      "The recall score of the Random PQC classifier is 0.49\n",
      "The specificity score of the Random PQC classifier is 0.50\n",
      "The npv score of the Random PQC classifier is 0.62\n",
      "The information level is: 0.50\n"
     ]
    }
   ],
   "source": [
    "# Listing 3.17: The scores of the random quantum classifier\n",
    "# Tell Qiskit how to simulate our circuit\n",
    "backend = Aer.get_backend('statevector_simulator') \n",
    "\n",
    "# Specify the quantum state that results in either 0 or 1\n",
    "initial_state = [1/sqrt(2), 1/sqrt(2)] \n",
    "\n",
    "classifier_report(\"Random PQC\", \n",
    "    run,\n",
    "    lambda passenger: pqc_classify(backend, initial_state),\n",
    "    train_input,\n",
    "    train_labels)"
   ]
  },
  {
   "cell_type": "markdown",
   "id": "e2fe38aa",
   "metadata": {},
   "source": [
    "## Section 3.6 Variational Hybrid Quantum-Classical Algorithm"
   ]
  },
  {
   "cell_type": "code",
   "execution_count": 48,
   "id": "e2e50802",
   "metadata": {},
   "outputs": [],
   "source": [
    "from qiskit import execute, Aer, QuantumCircuit\n",
    "from math import sqrt\n",
    "from sklearn.metrics import recall_score, precision_score, confusion_matrix"
   ]
  },
  {
   "cell_type": "code",
   "execution_count": 49,
   "id": "265366f8",
   "metadata": {},
   "outputs": [],
   "source": [
    "# Listing 3.20: Pre‐processing template\n",
    "def pre_process(passenger):\n",
    "    \"\"\"\n",
    "    passenger -- the normalized (array of numeric data) passenger data\n",
    "    returns a valid quantum state\n",
    "    \"\"\"\n",
    "    quantum_state = [1/sqrt(2), 1/sqrt(2)] \n",
    "    return quantum_state"
   ]
  },
  {
   "cell_type": "code",
   "execution_count": 50,
   "id": "05e42328",
   "metadata": {},
   "outputs": [],
   "source": [
    "# Listing 3.21: The parameterized quantum circuit\n",
    "def pqc(backend, quantum_state):\n",
    "    \"\"\"\n",
    "    backend -- a qiskit backend to run the quantum circuit at\n",
    "    quantum_state -- a valid quantum state vector  \n",
    "    returns the counts of the measurement\n",
    "    \"\"\"\n",
    "\n",
    "    # Create a quantum circuit with one qubit\n",
    "    qc = QuantumCircuit(1) \n",
    "\n",
    "    # Define state |Psi> and initialize the circuit\n",
    "    qc.initialize(quantum_state, 0)\n",
    "    \n",
    "    # Measure the qubit\n",
    "    qc.measure_all()\n",
    "\n",
    "    # run the quantum circuit\n",
    "    result=execute(qc,backend).result()\n",
    "\n",
    "    # get the counts, these are either {'0': 1} or {'1': 1}\n",
    "    counts=result.get_counts(qc)\n",
    "\n",
    "    return counts"
   ]
  },
  {
   "cell_type": "code",
   "execution_count": 51,
   "id": "2234f261",
   "metadata": {},
   "outputs": [],
   "source": [
    "# Listing 3.22: Post‐processing\n",
    "def post_process(counts):\n",
    "    \"\"\"\n",
    "    counts -- the result of the quantum circuit execution\n",
    "    returns the prediction\n",
    "    \"\"\"\n",
    "    return int(list(map(lambda item: item[0], counts.items()))[0])"
   ]
  },
  {
   "cell_type": "code",
   "execution_count": 52,
   "id": "6cc47d91",
   "metadata": {},
   "outputs": [
    {
     "name": "stdout",
     "output_type": "stream",
     "text": [
      "The precision score of the Variational classifier is 0.39\n",
      "The recall score of the Variational classifier is 0.53\n",
      "The specificity score of the Variational classifier is 0.50\n",
      "The npv score of the Variational classifier is 0.64\n",
      "The information level is: 0.52\n"
     ]
    }
   ],
   "source": [
    "# Listing 3.23: The scores of the random quantum classifier\n",
    "# Tell Qiskit how to simulate our circuit\n",
    "backend = Aer.get_backend('statevector_simulator') \n",
    "\n",
    "classifier_report(\n",
    "    \"Variational\",\n",
    "    run,\n",
    "    lambda passenger: post_process(pqc(backend, pre_process(passenger))),\n",
    "    train_input,\n",
    "    train_labels)"
   ]
  },
  {
   "cell_type": "code",
   "execution_count": 53,
   "id": "8cef1eca",
   "metadata": {},
   "outputs": [],
   "source": [
    "# Listing 3.24: weigh a passenger's feature\n",
    "def weigh_feature(feature, weight):\n",
    "    \"\"\"\n",
    "    feature -- the single value of a passenger's feature\n",
    "    weight -- the overall weight of this feature\n",
    "    returns the weighted feature \n",
    "    \"\"\"\n",
    "    return feature*weight"
   ]
  },
  {
   "cell_type": "code",
   "execution_count": 54,
   "id": "c976e590",
   "metadata": {},
   "outputs": [],
   "source": [
    "# Listing 3.25: Calculate the overall probability\n",
    "from functools import reduce\n",
    "\n",
    "def get_overall_probability(features, weights):\n",
    "    \"\"\"\n",
    "    features -- list of the features of a passenger\n",
    "    weights -- list of all features' weights\n",
    "    \"\"\"\n",
    "    return reduce(\n",
    "        lambda result, data: result + weigh_feature(*data),\n",
    "        zip(features, weights),\n",
    "        0\n",
    "    )"
   ]
  },
  {
   "cell_type": "code",
   "execution_count": 55,
   "id": "d6e5dbe4",
   "metadata": {},
   "outputs": [
    {
     "data": {
      "text/plain": [
       "[-0.3199865971328056,\n",
       " -0.509502431337675,\n",
       " -0.03330984969276768,\n",
       " 0.08830880238697662,\n",
       " 0.13682508666206933,\n",
       " 0.3023305198766798,\n",
       " -0.13624682982687314]"
      ]
     },
     "execution_count": 55,
     "metadata": {},
     "output_type": "execute_result"
    }
   ],
   "source": [
    "# Listing 3.26: Calculate the correlation coefficients\n",
    "from scipy.stats import spearmanr\n",
    "\n",
    "# separate the training data into a list of the columns\n",
    "columns = [list(map(lambda passenger: passenger[i], train_input)) for i in range(0,7)]\n",
    "\n",
    "# calculate the correlation coefficient for each column\n",
    "correlations = list(map(lambda col: spearmanr(col, train_labels)[0], columns))\n",
    "correlations"
   ]
  },
  {
   "cell_type": "code",
   "execution_count": 65,
   "id": "12cc7cf2",
   "metadata": {},
   "outputs": [],
   "source": [
    "# Listing 3.27: The weighting pre‐processing\n",
    "from math import pi, sin, cos\n",
    "\n",
    "def get_state (theta):\n",
    "    \"\"\"returns a valid state vector from angle theta\"\"\"\n",
    "    return [cos(theta/2), sin(theta/2)]\n",
    "\n",
    "def pre_process_weighted(passenger):\n",
    "    \"\"\"\n",
    "    passenger -- the normalized (array of numeric data) passenger data\n",
    "    returns a valid quantum state\n",
    "    \"\"\"\n",
    "\n",
    "    # caluclate the overall probability\n",
    "    mu = get_overall_probability(passenger, correlations)\n",
    "    \n",
    "    # theta between 0 (|0>) and pi (|1>)\n",
    "    quantum_state = get_state((1-mu)*pi)\n",
    "\n",
    "    return quantum_state"
   ]
  },
  {
   "cell_type": "code",
   "execution_count": 66,
   "id": "b976edb0",
   "metadata": {},
   "outputs": [
    {
     "name": "stdout",
     "output_type": "stream",
     "text": [
      "The precision score of the Variational classifier is 0.63\n",
      "The recall score of the Variational classifier is 0.60\n",
      "The specificity score of the Variational classifier is 0.79\n",
      "The npv score of the Variational classifier is 0.77\n",
      "The information level is: 0.70\n"
     ]
    }
   ],
   "source": [
    "# Listing 3.28: Run the PQC with the weighted pre‐processing\n",
    "backend = Aer.get_backend('statevector_simulator') \n",
    "\n",
    "classifier_report(\"Variational\", \n",
    "    run,\n",
    "    lambda passenger: post_process(pqc(backend, pre_process_weighted(passenger))),\n",
    "    train_input,\n",
    "    train_labels)"
   ]
  },
  {
   "cell_type": "code",
   "execution_count": 67,
   "id": "23d72ed0",
   "metadata": {},
   "outputs": [
    {
     "name": "stdout",
     "output_type": "stream",
     "text": [
      "The precision score of the Variational-Test classifier is 0.65\n",
      "The recall score of the Variational-Test classifier is 0.70\n",
      "The specificity score of the Variational-Test classifier is 0.74\n",
      "The npv score of the Variational-Test classifier is 0.78\n",
      "The information level is: 0.72\n"
     ]
    }
   ],
   "source": [
    "# Listing 3.29: Test the PQC‐based classifier on data it has not seen before\n",
    "classifier_report(\"Variational-Test\", \n",
    "    run,\n",
    "    lambda passenger: post_process(pqc(backend, pre_process_weighted(passenger))),\n",
    "    test_input,\n",
    "    test_labels)"
   ]
  },
  {
   "cell_type": "markdown",
   "id": "1ae40d8b",
   "metadata": {},
   "source": [
    "## 6.3.1 Representing a marginal probability"
   ]
  },
  {
   "cell_type": "code",
   "execution_count": 71,
   "id": "aee14bc8",
   "metadata": {},
   "outputs": [],
   "source": [
    "# Listing 6.6: The run‐circuit helper function\n",
    "from qiskit import QuantumCircuit, Aer, execute\n",
    "from qiskit.visualization import plot_histogram\n",
    "import matplotlib.pyplot as plt\n",
    "\n",
    "def run_circuit(qc,simulator='statevector_simulator', shots=1, hist=True):\n",
    "    # Tell Qiskit how to simulate our circuit\n",
    "    backend = Aer.get_backend(simulator)\n",
    "\n",
    "    # execute the qc\n",
    "    results = execute(qc,backend, shots=shots).result().get_counts()\n",
    "\n",
    "    # plot the results\n",
    "    return plot_histogram(results, figsize=(18,4)) if hist else results"
   ]
  },
  {
   "cell_type": "code",
   "execution_count": 73,
   "id": "381d6e27",
   "metadata": {},
   "outputs": [],
   "source": [
    "# Listing 6.9: Calculate the angle that represents a certain probability\n",
    "from math import asin, sqrt\n",
    "\n",
    "def prob_to_angle(prob):\n",
    "    \"\"\"\n",
    "    Converts a given P(psi) value into an equivalent theta value.\n",
    "    \"\"\"\n",
    "    return 2*asin(sqrt(prob))"
   ]
  },
  {
   "cell_type": "code",
   "execution_count": 74,
   "id": "c4e03248",
   "metadata": {},
   "outputs": [
    {
     "data": {
      "image/png": "[encoded data removed]",
      "text/plain": [
       "<Figure size 1296x288 with 1 Axes>"
      ]
     },
     "execution_count": 74,
     "metadata": {},
     "output_type": "execute_result"
    }
   ],
   "source": [
    "# Listing 6.11: Represent two marginal probabilities with a single qubit\n",
    "# Specify the marginal probabilities\n",
    "event_a = 0.4\n",
    "event_b = 0.8\n",
    "\n",
    "qc = QuantumCircuit(4)\n",
    "\n",
    "# Set qubit to prior\n",
    "qc.ry(prob_to_angle(event_a), 0)\n",
    "\n",
    "# Apply modifier\n",
    "qc.ry(prob_to_angle(event_b), 0)\n",
    "\n",
    "run_circuit(qc)"
   ]
  },
  {
   "cell_type": "code",
   "execution_count": 77,
   "id": "22cf024f",
   "metadata": {},
   "outputs": [
    {
     "data": {
      "text/plain": [
       "0.0"
      ]
     },
     "execution_count": 77,
     "metadata": {},
     "output_type": "execute_result"
    }
   ],
   "source": [
    "prob_to_angle(0)"
   ]
  },
  {
   "cell_type": "code",
   "execution_count": 80,
   "id": "5fb32e50",
   "metadata": {},
   "outputs": [
    {
     "data": {
      "text/plain": [
       "0.43590578315102513"
      ]
     },
     "execution_count": 80,
     "metadata": {},
     "output_type": "execute_result"
    }
   ],
   "source": [
    "prob_to_angle(0.4)/np.pi"
   ]
  },
  {
   "cell_type": "code",
   "execution_count": 81,
   "id": "e48615a7",
   "metadata": {},
   "outputs": [
    {
     "data": {
      "text/plain": [
       "0.7048327646991335"
      ]
     },
     "execution_count": 81,
     "metadata": {},
     "output_type": "execute_result"
    }
   ],
   "source": [
    "prob_to_angle(0.8)/np.pi"
   ]
  },
  {
   "cell_type": "code",
   "execution_count": 83,
   "id": "d5648af7",
   "metadata": {},
   "outputs": [
    {
     "data": {
      "text/plain": [
       "<qiskit.circuit.quantumcircuit.QuantumCircuit at 0x7fb6782e5c70>"
      ]
     },
     "execution_count": 83,
     "metadata": {},
     "output_type": "execute_result"
    }
   ],
   "source": [
    "qc"
   ]
  },
  {
   "cell_type": "markdown",
   "id": "4e5053ac",
   "metadata": {},
   "source": [
    "## 8.1 The No-Cloning Theorem"
   ]
  },
  {
   "cell_type": "markdown",
   "id": "8df8eb56",
   "metadata": {},
   "source": [
    "$$\n",
    "\\begin{align*}\n",
    "G(|\\Psi\\rangle|0\\rangle) &= |\\Psi\\rangle|\\Psi\\rangle\\\\\n",
    "G(|\\Psi\\rangle|0\\rangle) &= G(\\alpha|0\\rangle|0\\rangle+\\beta|1\\rangle|0\\rangle)\n",
    " = \\alpha|0\\rangle|0\\rangle+\\beta|1\\rangle|1\\rangle\\\\\n",
    "|\\Psi\\rangle|\\Psi\\rangle &= \\alpha^2|0\\rangle|0\\rangle+\\alpha\\beta|0\\rangle|1\\rangle + \\beta\\alpha|1\\rangle|0\\rangle+\\beta^2|1\\rangle|1\\rangle\\\\\n",
    "\\alpha|0\\rangle|0\\rangle+\\beta|1\\rangle|1\\rangle &\\neq \\alpha^2|0\\rangle|0\\rangle+\\alpha\\beta|0\\rangle|1\\rangle + \\beta\\alpha|1\\rangle|0\\rangle+\\beta^2|1\\rangle|1\\rangle\n",
    "\\end{align*}\n",
    "$$"
   ]
  },
  {
   "cell_type": "markdown",
   "id": "c66305b1",
   "metadata": {},
   "source": [
    "# Deutsch algorithm"
   ]
  },
  {
   "cell_type": "markdown",
   "id": "d4235d1f",
   "metadata": {},
   "source": [
    "![\\begin{quantikz}\n",
    "\\lstick{$\\ket{0}$} & \\gate{H} \\slice[style=blue]{$\\ket{\\Psi_1}$}& \\gate[2][2cm]{U_f}\\gateinput{$x$}\n",
    "\\gateoutput{$x$} \\slice[style=blue]{$\\ket{\\Psi_2}$}\n",
    "& \\gate{H} \\slice[style=blue]{$\\ket{\\Psi_3}$}& \\meter{} &\\cw \\\\\n",
    "\\lstick{$\\ket{1}$} & \\gate{H} & \\gateinput{$y$} \n",
    "\\gateoutput{$y\\oplus f(x)$} &\\qw& \\qw&\\qw\n",
    "\\end{quantikz}](https://i.imgur.com/8yvq7Tv.png)\n",
    "\n",
    "Deutsch algorithm [^1]  \n",
    "\n",
    "$$\n",
    "\\begin{align*}\n",
    "U_f|x\\rangle|-\\rangle&=(-1)^{f(x)}|x\\rangle|-\\rangle\\\\\n",
    "|\\Psi_1\\rangle &= |+\\rangle|-\\rangle\\\\\n",
    "|\\Psi_2\\rangle &= {1\\over\\sqrt2}(U_f|0\\rangle|-\\rangle+U_f|1\\rangle|-\\rangle)\n",
    "= {1\\over\\sqrt2}\\left[(-1)^{f(0)}|0\\rangle+(-1)^{f(1)}|1\\rangle\\right]|-\\rangle\\\\\n",
    "&=\\begin{cases}\n",
    "\\pm |+\\rangle|-\\rangle& \\text{ if } f(0)=f(1) \\\\ \n",
    "\\pm |-\\rangle|-\\rangle & \\text{ if } f(0)\\neq f(1) \n",
    "\\end{cases}\\\\\n",
    "|\\Psi_3\\rangle &=\\begin{cases}\n",
    "\\pm |0\\rangle|-\\rangle& \\text{ if } f(0)=f(1) \\\\ \n",
    "\\pm |1\\rangle|-\\rangle & \\text{ if } f(0)\\neq f(1) \n",
    "\\end{cases} \\\\\n",
    "&=\\pm|f(0)\\oplus f(1)\\rangle|-\\rangle\n",
    "\\end{align*}\n",
    "$$\n",
    "\n",
    "[^1]: Nielsen1.4.3"
   ]
  },
  {
   "cell_type": "code",
   "execution_count": 1,
   "id": "694ccda7",
   "metadata": {},
   "outputs": [],
   "source": [
    "# Listing 8.2: Deutsch's algorithm\n",
    "from math import sqrt\n",
    "from qiskit import QuantumCircuit, QuantumRegister,ClassicalRegister, Aer, execute\n",
    "from qiskit.visualization import plot_histogram\n",
    "\n",
    "def solve(oracle):\n",
    "    \"\"\"\n",
    "    A reusable function that identifies whether the oracle represents\n",
    "    a constant or a balanced function.\n",
    "    \"\"\"\n",
    "\n",
    "    qu = QuantumRegister(2)\n",
    "    cl = ClassicalRegister(1)\n",
    "\n",
    "    # initialize the circuit\n",
    "    qc = QuantumCircuit(qu,cl)\n",
    "\n",
    "    # Prepare the input state of the oracle\n",
    "    qc.x(1)\n",
    "    \n",
    "    qc.h(0)\n",
    "    qc.h(1)\n",
    "\n",
    "    # Apply the Oracle\n",
    "    oracle(qc)\n",
    "\n",
    "    # Prepare the output state\n",
    "    qc.h(0)\n",
    "\n",
    "    # measure qubit-0\n",
    "    qc.measure(qu[0], cl[0])\n",
    "\n",
    "    # Tell Qiskit how to simulate our circuit\n",
    "    backend = Aer.get_backend('qasm_simulator')\n",
    "\n",
    "    # execute the qc\n",
    "    results = execute(qc,backend, shots = 1000).result().get_counts()\n",
    "\n",
    "    # plot the results\n",
    "    return plot_histogram(results)"
   ]
  },
  {
   "cell_type": "code",
   "execution_count": 7,
   "id": "89fe0dc6",
   "metadata": {},
   "outputs": [
    {
     "data": {
      "image/png": "[encoded data removed]",
      "text/plain": [
       "<Figure size 504x360 with 1 Axes>"
      ]
     },
     "execution_count": 7,
     "metadata": {},
     "output_type": "execute_result"
    }
   ],
   "source": [
    "# Listing 8.3: Apply the gate o‐0\n",
    "\n",
    "#constant function f(x) = 0\n",
    "def o_0(qc):\n",
    "    pass\n",
    "\n",
    "solve(o_0)"
   ]
  },
  {
   "cell_type": "code",
   "execution_count": 9,
   "id": "b36fe581",
   "metadata": {},
   "outputs": [
    {
     "data": {
      "image/png": "[encoded data removed]",
      "text/plain": [
       "<Figure size 504x360 with 1 Axes>"
      ]
     },
     "execution_count": 9,
     "metadata": {},
     "output_type": "execute_result"
    }
   ],
   "source": [
    "# Listing 8.4: Apply the gate o‐1\n",
    "# balanced f(x) = x\n",
    "def o_1(qc):\n",
    "    qc.cx(0,1)\n",
    "\n",
    "solve(o_1)"
   ]
  },
  {
   "cell_type": "code",
   "execution_count": 10,
   "id": "96c32d97",
   "metadata": {},
   "outputs": [
    {
     "data": {
      "image/png": "[encoded data removed]",
      "text/plain": [
       "<Figure size 504x360 with 1 Axes>"
      ]
     },
     "execution_count": 10,
     "metadata": {},
     "output_type": "execute_result"
    }
   ],
   "source": [
    "# Listing 8.5: Apply the gate o‐2\n",
    "# f(x) = NOT(x) balanced\n",
    "def o_2(qc):\n",
    "    qc.x(0)\n",
    "    qc.cx(0,1)\n",
    "    qc.x(0)\n",
    "\n",
    "solve(o_2)"
   ]
  },
  {
   "cell_type": "code",
   "execution_count": 11,
   "id": "f8be7a97",
   "metadata": {},
   "outputs": [
    {
     "data": {
      "image/png": "[encoded data removed]",
      "text/plain": [
       "<Figure size 504x360 with 1 Axes>"
      ]
     },
     "execution_count": 11,
     "metadata": {},
     "output_type": "execute_result"
    }
   ],
   "source": [
    "# Listing 8.6: Apply the gate o‐3\n",
    "# f(x) = 1 constant function\n",
    "def o_3(qc):\n",
    "    qc.x(1)\n",
    "\n",
    "solve(o_3)"
   ]
  },
  {
   "cell_type": "markdown",
   "id": "a71bb248",
   "metadata": {},
   "source": [
    "substack https://pyqml.substack.com  \n",
    "medium: https://pyqml.medium.com  "
   ]
  },
  {
   "cell_type": "markdown",
   "id": "dfecada1",
   "metadata": {},
   "source": [
    "# Variational Quantum Eigensolver"
   ]
  },
  {
   "cell_type": "markdown",
   "id": "483e8d64",
   "metadata": {},
   "source": [
    "https://towardsdatascience.com/the-variational-quantum-eigensolver-explained-adcbc9659c3a  \n",
    "\n",
    "[Lecture note](https://www.chalmers.se/en/centres/wacqt/graduate%20school/aqa/Documents/Chapter7+Refs.pdf)  \n"
   ]
  },
  {
   "cell_type": "markdown",
   "id": "2bbe1e77",
   "metadata": {},
   "source": [
    "# Quantum Approximate Optimization Algorithm (QAOA)"
   ]
  },
  {
   "cell_type": "code",
   "execution_count": null,
   "id": "d9838450",
   "metadata": {},
   "outputs": [],
   "source": []
  }
 ],
 "metadata": {
  "kernelspec": {
   "display_name": "Python 3 (ipykernel)",
   "language": "python",
   "name": "python3"
  },
  "language_info": {
   "codemirror_mode": {
    "name": "ipython",
    "version": 3
   },
   "file_extension": ".py",
   "mimetype": "text/x-python",
   "name": "python",
   "nbconvert_exporter": "python",
   "pygments_lexer": "ipython3",
   "version": "3.8.9"
  }
 },
 "nbformat": 4,
 "nbformat_minor": 5
}
