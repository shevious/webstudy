{
 "cells": [
  {
   "cell_type": "code",
   "execution_count": 20,
   "id": "49d1a16c-18e0-4d15-93bb-aadf1a033736",
   "metadata": {},
   "outputs": [
    {
     "name": "stdout",
     "output_type": "stream",
     "text": [
      "Requirement already satisfied: blueqat in /home/kotech/venv-bluecat/lib/python3.8/site-packages (2.0.4)\n",
      "Requirement already satisfied: numpy>=1.21.0 in /home/kotech/venv-bluecat/lib/python3.8/site-packages (from blueqat) (1.24.4)\n",
      "Requirement already satisfied: scipy>=1.5 in /home/kotech/venv-bluecat/lib/python3.8/site-packages (from blueqat) (1.10.1)\n",
      "Requirement already satisfied: networkx>=2.6.3 in /home/kotech/venv-bluecat/lib/python3.8/site-packages (from blueqat) (3.1)\n",
      "Requirement already satisfied: matplotlib>=3.5.1 in /home/kotech/venv-bluecat/lib/python3.8/site-packages (from blueqat) (3.7.3)\n",
      "Requirement already satisfied: autoray>=0.2.5 in /home/kotech/venv-bluecat/lib/python3.8/site-packages (from blueqat) (0.6.7)\n",
      "Requirement already satisfied: quimb==1.4.0 in /home/kotech/venv-bluecat/lib/python3.8/site-packages (from blueqat) (1.4.0)\n",
      "Requirement already satisfied: opt-einsum>=3.3.0 in /home/kotech/venv-bluecat/lib/python3.8/site-packages (from blueqat) (3.3.0)\n",
      "Requirement already satisfied: numba>=0.39 in /home/kotech/venv-bluecat/lib/python3.8/site-packages (from quimb==1.4.0->blueqat) (0.58.1)\n",
      "Requirement already satisfied: psutil>=4.3.1 in /home/kotech/venv-bluecat/lib/python3.8/site-packages (from quimb==1.4.0->blueqat) (5.9.6)\n",
      "Requirement already satisfied: cytoolz>=0.8.0 in /home/kotech/venv-bluecat/lib/python3.8/site-packages (from quimb==1.4.0->blueqat) (0.12.2)\n",
      "Requirement already satisfied: tqdm>=4 in /home/kotech/venv-bluecat/lib/python3.8/site-packages (from quimb==1.4.0->blueqat) (4.66.1)\n",
      "Requirement already satisfied: contourpy>=1.0.1 in /home/kotech/venv-bluecat/lib/python3.8/site-packages (from matplotlib>=3.5.1->blueqat) (1.1.1)\n",
      "Requirement already satisfied: cycler>=0.10 in /home/kotech/venv-bluecat/lib/python3.8/site-packages (from matplotlib>=3.5.1->blueqat) (0.12.1)\n",
      "Requirement already satisfied: fonttools>=4.22.0 in /home/kotech/venv-bluecat/lib/python3.8/site-packages (from matplotlib>=3.5.1->blueqat) (4.43.1)\n",
      "Requirement already satisfied: kiwisolver>=1.0.1 in /home/kotech/venv-bluecat/lib/python3.8/site-packages (from matplotlib>=3.5.1->blueqat) (1.4.5)\n",
      "Requirement already satisfied: packaging>=20.0 in /home/kotech/venv-bluecat/lib/python3.8/site-packages (from matplotlib>=3.5.1->blueqat) (23.2)\n",
      "Requirement already satisfied: pillow>=6.2.0 in /home/kotech/venv-bluecat/lib/python3.8/site-packages (from matplotlib>=3.5.1->blueqat) (10.1.0)\n",
      "Requirement already satisfied: pyparsing>=2.3.1 in /home/kotech/venv-bluecat/lib/python3.8/site-packages (from matplotlib>=3.5.1->blueqat) (3.1.1)\n",
      "Requirement already satisfied: python-dateutil>=2.7 in /home/kotech/venv-bluecat/lib/python3.8/site-packages (from matplotlib>=3.5.1->blueqat) (2.8.2)\n",
      "Requirement already satisfied: importlib-resources>=3.2.0 in /home/kotech/venv-bluecat/lib/python3.8/site-packages (from matplotlib>=3.5.1->blueqat) (6.1.0)\n",
      "Requirement already satisfied: toolz>=0.8.0 in /home/kotech/venv-bluecat/lib/python3.8/site-packages (from cytoolz>=0.8.0->quimb==1.4.0->blueqat) (0.12.0)\n",
      "Requirement already satisfied: zipp>=3.1.0 in /home/kotech/venv-bluecat/lib/python3.8/site-packages (from importlib-resources>=3.2.0->matplotlib>=3.5.1->blueqat) (3.17.0)\n",
      "Requirement already satisfied: llvmlite<0.42,>=0.41.0dev0 in /home/kotech/venv-bluecat/lib/python3.8/site-packages (from numba>=0.39->quimb==1.4.0->blueqat) (0.41.1)\n",
      "Requirement already satisfied: importlib-metadata in /home/kotech/venv-bluecat/lib/python3.8/site-packages (from numba>=0.39->quimb==1.4.0->blueqat) (6.8.0)\n",
      "Requirement already satisfied: six>=1.5 in /home/kotech/venv-bluecat/lib/python3.8/site-packages (from python-dateutil>=2.7->matplotlib>=3.5.1->blueqat) (1.16.0)\n",
      "\u001b[33mWARNING: There was an error checking the latest version of pip.\u001b[0m\u001b[33m\n",
      "\u001b[0mCollecting projectq\n",
      "  Downloading projectq-0.8.0.tar.gz (433 kB)\n",
      "\u001b[2K     \u001b[90m━━━━━━━━━━━━━━━━━━━━━━━━━━━━━━━━━━━━━━━\u001b[0m \u001b[32m433.7/433.7 kB\u001b[0m \u001b[31m9.3 MB/s\u001b[0m eta \u001b[36m0:00:00\u001b[0m00:01\u001b[0m\n",
      "\u001b[?25h  Installing build dependencies ... \u001b[?25ldone\n",
      "\u001b[?25h  Getting requirements to build wheel ... \u001b[?25ldone\n",
      "\u001b[?25h  Preparing metadata (pyproject.toml) ... \u001b[?25ldone\n",
      "\u001b[?25hRequirement already satisfied: matplotlib>=2.2.3 in /home/kotech/venv-bluecat/lib/python3.8/site-packages (from projectq) (3.7.3)\n",
      "Requirement already satisfied: networkx>=2 in /home/kotech/venv-bluecat/lib/python3.8/site-packages (from projectq) (3.1)\n",
      "Requirement already satisfied: numpy in /home/kotech/venv-bluecat/lib/python3.8/site-packages (from projectq) (1.24.4)\n",
      "Requirement already satisfied: requests in /home/kotech/venv-bluecat/lib/python3.8/site-packages (from projectq) (2.31.0)\n",
      "Requirement already satisfied: scipy in /home/kotech/venv-bluecat/lib/python3.8/site-packages (from projectq) (1.10.1)\n",
      "Requirement already satisfied: contourpy>=1.0.1 in /home/kotech/venv-bluecat/lib/python3.8/site-packages (from matplotlib>=2.2.3->projectq) (1.1.1)\n",
      "Requirement already satisfied: cycler>=0.10 in /home/kotech/venv-bluecat/lib/python3.8/site-packages (from matplotlib>=2.2.3->projectq) (0.12.1)\n",
      "Requirement already satisfied: fonttools>=4.22.0 in /home/kotech/venv-bluecat/lib/python3.8/site-packages (from matplotlib>=2.2.3->projectq) (4.43.1)\n",
      "Requirement already satisfied: kiwisolver>=1.0.1 in /home/kotech/venv-bluecat/lib/python3.8/site-packages (from matplotlib>=2.2.3->projectq) (1.4.5)\n",
      "Requirement already satisfied: packaging>=20.0 in /home/kotech/venv-bluecat/lib/python3.8/site-packages (from matplotlib>=2.2.3->projectq) (23.2)\n",
      "Requirement already satisfied: pillow>=6.2.0 in /home/kotech/venv-bluecat/lib/python3.8/site-packages (from matplotlib>=2.2.3->projectq) (10.1.0)\n",
      "Requirement already satisfied: pyparsing>=2.3.1 in /home/kotech/venv-bluecat/lib/python3.8/site-packages (from matplotlib>=2.2.3->projectq) (3.1.1)\n",
      "Requirement already satisfied: python-dateutil>=2.7 in /home/kotech/venv-bluecat/lib/python3.8/site-packages (from matplotlib>=2.2.3->projectq) (2.8.2)\n",
      "Requirement already satisfied: importlib-resources>=3.2.0 in /home/kotech/venv-bluecat/lib/python3.8/site-packages (from matplotlib>=2.2.3->projectq) (6.1.0)\n",
      "Requirement already satisfied: charset-normalizer<4,>=2 in /home/kotech/venv-bluecat/lib/python3.8/site-packages (from requests->projectq) (3.3.0)\n",
      "Requirement already satisfied: idna<4,>=2.5 in /home/kotech/venv-bluecat/lib/python3.8/site-packages (from requests->projectq) (3.4)\n",
      "Requirement already satisfied: urllib3<3,>=1.21.1 in /home/kotech/venv-bluecat/lib/python3.8/site-packages (from requests->projectq) (2.0.7)\n",
      "Requirement already satisfied: certifi>=2017.4.17 in /home/kotech/venv-bluecat/lib/python3.8/site-packages (from requests->projectq) (2023.7.22)\n",
      "Requirement already satisfied: zipp>=3.1.0 in /home/kotech/venv-bluecat/lib/python3.8/site-packages (from importlib-resources>=3.2.0->matplotlib>=2.2.3->projectq) (3.17.0)\n",
      "Requirement already satisfied: six>=1.5 in /home/kotech/venv-bluecat/lib/python3.8/site-packages (from python-dateutil>=2.7->matplotlib>=2.2.3->projectq) (1.16.0)\n",
      "Building wheels for collected packages: projectq\n",
      "  Building wheel for projectq (pyproject.toml) ... \u001b[?25ldone\n",
      "\u001b[?25h  Created wheel for projectq: filename=projectq-0.8.0-cp38-cp38-linux_x86_64.whl size=2612037 sha256=ec020a540a9e3c2a0e3d2eccd5c06e8a0b50da1db490f789e829e3994b065870\n",
      "  Stored in directory: /home/kotech/.cache/pip/wheels/d9/47/df/252c06f9dad9a0a3419b77fcf1693479f283a3dd9f4cebfdaa\n",
      "Successfully built projectq\n",
      "Installing collected packages: projectq\n",
      "Successfully installed projectq-0.8.0\n",
      "\u001b[33mWARNING: There was an error checking the latest version of pip.\u001b[0m\u001b[33m\n",
      "\u001b[0m"
     ]
    }
   ],
   "source": [
    "!pip install blueqat\n",
    "!pip install projectq"
   ]
  },
  {
   "cell_type": "code",
   "execution_count": 2,
   "id": "b6e14c2e-f35f-443a-b6a2-c9893695c2de",
   "metadata": {},
   "outputs": [
    {
     "data": {
      "text/plain": [
       "Circuit(0)."
      ]
     },
     "execution_count": 2,
     "metadata": {},
     "output_type": "execute_result"
    }
   ],
   "source": [
    "from blueqat import Circuit\n",
    "\n",
    "#initialization of circuit\n",
    "Circuit()"
   ]
  },
  {
   "cell_type": "code",
   "execution_count": 4,
   "id": "e03a2bd1-0f95-469e-a52d-a9cabc6ebaf0",
   "metadata": {},
   "outputs": [
    {
     "data": {
      "text/plain": [
       "Circuit(1).x[0]"
      ]
     },
     "execution_count": 4,
     "metadata": {},
     "output_type": "execute_result"
    }
   ],
   "source": [
    "Circuit().x[0]"
   ]
  },
  {
   "cell_type": "code",
   "execution_count": 5,
   "id": "6b704899-ad62-41c1-ab6f-35f846bab90e",
   "metadata": {},
   "outputs": [
    {
     "data": {
      "text/plain": [
       "Circuit(1).x[0].measure[:]"
      ]
     },
     "execution_count": 5,
     "metadata": {},
     "output_type": "execute_result"
    }
   ],
   "source": [
    "Circuit().x[0].m[:]"
   ]
  },
  {
   "cell_type": "code",
   "execution_count": 7,
   "id": "1ce82e3b-ff01-4962-8f96-01513234c76e",
   "metadata": {},
   "outputs": [
    {
     "data": {
      "text/plain": [
       "Counter({'1': 1})"
      ]
     },
     "execution_count": 7,
     "metadata": {},
     "output_type": "execute_result"
    }
   ],
   "source": [
    "Circuit().x[0].m[:].run(shots=1)"
   ]
  },
  {
   "cell_type": "code",
   "execution_count": 8,
   "id": "91823d82-387e-4744-9639-ce3b3e82cda6",
   "metadata": {},
   "outputs": [
    {
     "data": {
      "image/png": "[encoded data removed]",
      "text/plain": [
       "<Figure size 1800x120 with 1 Axes>"
      ]
     },
     "metadata": {},
     "output_type": "display_data"
    }
   ],
   "source": [
    "Circuit().x[0].m[:].run(backend=\"draw\")"
   ]
  },
  {
   "cell_type": "code",
   "execution_count": 11,
   "id": "c30099e0-a9ff-4737-94bd-727869a36234",
   "metadata": {},
   "outputs": [
    {
     "data": {
      "text/plain": [
       "Counter({'00': 1})"
      ]
     },
     "execution_count": 11,
     "metadata": {},
     "output_type": "execute_result"
    }
   ],
   "source": [
    "Circuit().cx[0,1].m[:].run(shots=1)"
   ]
  },
  {
   "cell_type": "code",
   "execution_count": 12,
   "id": "f441a786-bef4-4957-a88e-b60edf21b92c",
   "metadata": {},
   "outputs": [
    {
     "data": {
      "text/plain": [
       "Counter({'11': 1})"
      ]
     },
     "execution_count": 12,
     "metadata": {},
     "output_type": "execute_result"
    }
   ],
   "source": [
    "Circuit().x[0].cx[0,1].m[:].run(shots=1)"
   ]
  },
  {
   "cell_type": "code",
   "execution_count": 13,
   "id": "ac688be9-722a-4474-a649-c6db763acf31",
   "metadata": {},
   "outputs": [
    {
     "data": {
      "image/png": "[encoded data removed]",
      "text/plain": [
       "<Figure size 1800x180 with 1 Axes>"
      ]
     },
     "metadata": {},
     "output_type": "display_data"
    }
   ],
   "source": [
    "Circuit().x[0].cx[0,1].m[:].run(backend=\"draw\")"
   ]
  },
  {
   "cell_type": "code",
   "execution_count": 14,
   "id": "3ca3ea24-bea9-44c3-8083-9403a387551e",
   "metadata": {},
   "outputs": [
    {
     "data": {
      "text/plain": [
       "Counter({'0': 54, '1': 46})"
      ]
     },
     "execution_count": 14,
     "metadata": {},
     "output_type": "execute_result"
    }
   ],
   "source": [
    "Circuit().h[0].m[:].run(shots=100)"
   ]
  },
  {
   "cell_type": "code",
   "execution_count": 15,
   "id": "d2b4e130-19de-4da8-bfad-1bf198beff2c",
   "metadata": {},
   "outputs": [
    {
     "data": {
      "image/png": "[encoded data removed]",
      "text/plain": [
       "<Figure size 1800x120 with 1 Axes>"
      ]
     },
     "metadata": {},
     "output_type": "display_data"
    }
   ],
   "source": [
    "Circuit().h[0].m[:].run(backend=\"draw\")"
   ]
  },
  {
   "cell_type": "code",
   "execution_count": 16,
   "id": "74c92641-734e-4680-85ee-988dd2f74c79",
   "metadata": {},
   "outputs": [
    {
     "data": {
      "text/plain": [
       "Counter({'11': 46, '00': 54})"
      ]
     },
     "execution_count": 16,
     "metadata": {},
     "output_type": "execute_result"
    }
   ],
   "source": [
    "Circuit().h[0].cx[0,1].m[:].run(shots=100)"
   ]
  },
  {
   "cell_type": "code",
   "execution_count": 17,
   "id": "0f432be9-f855-4209-b8fa-a66cfbff81b5",
   "metadata": {},
   "outputs": [
    {
     "data": {
      "image/png": "[encoded data removed]",
      "text/plain": [
       "<Figure size 1800x180 with 1 Axes>"
      ]
     },
     "metadata": {},
     "output_type": "display_data"
    }
   ],
   "source": [
    "Circuit().h[0].cx[0,1].m[:].run(backend=\"draw\")"
   ]
  },
  {
   "cell_type": "code",
   "execution_count": 18,
   "id": "6ec3654f-5c22-46e5-8bf8-d79a36e7ec45",
   "metadata": {},
   "outputs": [
    {
     "data": {
      "text/plain": [
       "Counter({'111': 47, '000': 53})"
      ]
     },
     "execution_count": 18,
     "metadata": {},
     "output_type": "execute_result"
    }
   ],
   "source": [
    "Circuit().h[0].cx[0,1].cx[1,2].m[:].run(shots=100)"
   ]
  },
  {
   "cell_type": "markdown",
   "id": "c60d36ea-f876-4493-baf3-963c74585ff0",
   "metadata": {},
   "source": [
    "# Quantum Teleporation"
   ]
  },
  {
   "cell_type": "code",
   "execution_count": 19,
   "id": "299b2da0-3d16-453a-ad84-d0f0b60b4774",
   "metadata": {},
   "outputs": [
    {
     "data": {
      "image/png": "[encoded data removed]",
      "text/plain": [
       "<Figure size 1800x240 with 1 Axes>"
      ]
     },
     "metadata": {},
     "output_type": "display_data"
    },
    {
     "data": {
      "text/plain": [
       "Counter({'100': 20, '110': 31, '010': 26, '000': 23})"
      ]
     },
     "execution_count": 19,
     "metadata": {},
     "output_type": "execute_result"
    }
   ],
   "source": [
    "from blueqat import Circuit\n",
    "\n",
    "a = Circuit().h[1].cx[1,2].cx[0,1].h[0].cx[1,2].cz[0,2].m[:]\n",
    "a.run(backend='draw')\n",
    "a.run(shots=100)"
   ]
  },
  {
   "cell_type": "code",
   "execution_count": null,
   "id": "e757caf3-cee0-422d-a964-608d3b39efca",
   "metadata": {},
   "outputs": [],
   "source": []
  }
 ],
 "metadata": {
  "kernelspec": {
   "display_name": "Python 3 (ipykernel)",
   "language": "python",
   "name": "python3"
  },
  "language_info": {
   "codemirror_mode": {
    "name": "ipython",
    "version": 3
   },
   "file_extension": ".py",
   "mimetype": "text/x-python",
   "name": "python",
   "nbconvert_exporter": "python",
   "pygments_lexer": "ipython3",
   "version": "3.8.13"
  }
 },
 "nbformat": 4,
 "nbformat_minor": 5
}
